{
 "cells": [
  {
   "cell_type": "code",
   "execution_count": null,
   "metadata": {},
   "outputs": [],
   "source": [
    "# install all requirements\n",
    "!pip3 install -r ../requirements.txt"
   ]
  },
  {
   "cell_type": "code",
   "execution_count": 118,
   "metadata": {
    "colab": {
     "base_uri": "https://localhost:8080/"
    },
    "id": "YLcAu3mXJOpL",
    "outputId": "f6031a77-240e-4c72-fb76-e6e20186523b"
   },
   "outputs": [],
   "source": [
    "### PREREQUISTIES\n",
    "### (many used only in one notebook...)\n",
    "\n",
    "import os\n",
    "from importlib import reload\n",
    "import pandas as pd\n",
    "import numpy as np\n",
    "import pickle\n",
    "import math\n",
    "import random\n",
    "import sys\n",
    "import csv\n",
    "import unicodedata\n",
    "import requests\n",
    "import re\n",
    "import networkx as nx\n",
    "from scipy import stats\n",
    "\n",
    "\n",
    "\n",
    "import matplotlib.pyplot as plt\n",
    "import seaborn as sns\n",
    "\n",
    "# gensim parts\n",
    "from gensim import corpora\n",
    "from gensim import models\n",
    "\n",
    "### scikit-learn\n",
    "from sklearn.feature_extraction.text import CountVectorizer\n",
    "from sklearn.feature_extraction.text import TfidfVectorizer\n",
    "\n",
    "from sklearn.decomposition import TruncatedSVD \n",
    "from sklearn.metrics.pairwise import cosine_similarity\n",
    "from sklearn.metrics.pairwise import euclidean_distances\n",
    "\n",
    "import sddk"
   ]
  },
  {
   "cell_type": "code",
   "execution_count": 119,
   "metadata": {},
   "outputs": [],
   "source": [
    "import textnet"
   ]
  },
  {
   "cell_type": "code",
   "execution_count": 135,
   "metadata": {},
   "outputs": [
    {
     "data": {
      "text/html": [
       "        <script type=\"text/javascript\">\n",
       "        window.PlotlyConfig = {MathJaxConfig: 'local'};\n",
       "        if (window.MathJax) {MathJax.Hub.Config({SVG: {font: \"STIX-Web\"}});}\n",
       "        if (typeof require !== 'undefined') {\n",
       "        require.undef(\"plotly\");\n",
       "        requirejs.config({\n",
       "            paths: {\n",
       "                'plotly': ['https://cdn.plot.ly/plotly-latest.min']\n",
       "            }\n",
       "        });\n",
       "        require(['plotly'], function(Plotly) {\n",
       "            window._Plotly = Plotly;\n",
       "        });\n",
       "        }\n",
       "        </script>\n",
       "        "
      ]
     },
     "metadata": {},
     "output_type": "display_data"
    },
    {
     "data": {
      "text/plain": [
       "<module 'textnet' from '/home/jovyan/scripts/textnet.py'>"
      ]
     },
     "execution_count": 135,
     "metadata": {},
     "output_type": "execute_result"
    }
   ],
   "source": [
    "reload(textnet)"
   ]
  },
  {
   "cell_type": "code",
   "execution_count": 116,
   "metadata": {},
   "outputs": [
    {
     "data": {
      "text/html": [
       "        <script type=\"text/javascript\">\n",
       "        window.PlotlyConfig = {MathJaxConfig: 'local'};\n",
       "        if (window.MathJax) {MathJax.Hub.Config({SVG: {font: \"STIX-Web\"}});}\n",
       "        if (typeof require !== 'undefined') {\n",
       "        require.undef(\"plotly\");\n",
       "        requirejs.config({\n",
       "            paths: {\n",
       "                'plotly': ['https://cdn.plot.ly/plotly-latest.min']\n",
       "            }\n",
       "        });\n",
       "        require(['plotly'], function(Plotly) {\n",
       "            window._Plotly = Plotly;\n",
       "        });\n",
       "        }\n",
       "        </script>\n",
       "        "
      ]
     },
     "metadata": {},
     "output_type": "display_data"
    }
   ],
   "source": [
    "resp_text = requests.get(\"https://raw.githubusercontent.com/kasev/textnet/master/textnet/__init__.py\").text\n",
    "exec(resp_text)"
   ]
  },
  {
   "cell_type": "code",
   "execution_count": 5,
   "metadata": {
    "colab": {
     "base_uri": "https://localhost:8080/"
    },
    "id": "Vk65k519TvBW",
    "outputId": "92254476-4708-4e31-a8a4-7ceedba66d8b"
   },
   "outputs": [
    {
     "name": "stdout",
     "output_type": "stream",
     "text": [
      "sciencedata.dk username (format '123456@au.dk'): 648597@au.dk\n",
      "sciencedata.dk password: ········\n",
      "connection with shared folder established with you as its owner\n",
      "endpoint variable has been configured to: https://sciencedata.dk/files/SDAM_root/\n"
     ]
    }
   ],
   "source": [
    "### not neccessary for reading the data, just for exporting them to sciencedata.dk\n",
    "conf = sddk.configure(\"SDAM_root\", \"648597@au.dk\")"
   ]
  },
  {
   "cell_type": "code",
   "execution_count": 6,
   "metadata": {
    "colab": {
     "base_uri": "https://localhost:8080/",
     "height": 394
    },
    "id": "uZILdTQmJQlv",
    "outputId": "507cee95-3b09-4f0d-cce8-72b93780d888"
   },
   "outputs": [
    {
     "data": {
      "text/html": [
       "<div>\n",
       "<style scoped>\n",
       "    .dataframe tbody tr th:only-of-type {\n",
       "        vertical-align: middle;\n",
       "    }\n",
       "\n",
       "    .dataframe tbody tr th {\n",
       "        vertical-align: top;\n",
       "    }\n",
       "\n",
       "    .dataframe thead th {\n",
       "        text-align: right;\n",
       "    }\n",
       "</style>\n",
       "<table border=\"1\" class=\"dataframe\">\n",
       "  <thead>\n",
       "    <tr style=\"text-align: right;\">\n",
       "      <th></th>\n",
       "      <th>filename</th>\n",
       "      <th>author</th>\n",
       "      <th>title</th>\n",
       "      <th>wordcount</th>\n",
       "      <th>author_id</th>\n",
       "      <th>doc_id</th>\n",
       "      <th>raw_date</th>\n",
       "      <th>date_avr</th>\n",
       "      <th>date_probs</th>\n",
       "      <th>date_manual</th>\n",
       "      <th>provenience</th>\n",
       "      <th>n_sentences</th>\n",
       "      <th>lemmatized_sentences</th>\n",
       "      <th>tlg_epithet</th>\n",
       "    </tr>\n",
       "  </thead>\n",
       "  <tbody>\n",
       "    <tr>\n",
       "      <th>0</th>\n",
       "      <td>tlg0001.tlg001.perseus-grc2.xml</td>\n",
       "      <td>Apollonius Rhodius</td>\n",
       "      <td>Argonautica</td>\n",
       "      <td>38822</td>\n",
       "      <td>tlg0001</td>\n",
       "      <td>tlg0001.tlg001</td>\n",
       "      <td>3 B.C.</td>\n",
       "      <td>-2.5</td>\n",
       "      <td>{'-2.5': 1}</td>\n",
       "      <td>-2.5</td>\n",
       "      <td>pagan</td>\n",
       "      <td>3252</td>\n",
       "      <td>[[ἄρχω, Φοῖβος, παλαιγενεών, κλέος, φώς, μιμνή...</td>\n",
       "      <td>Epici/-ae</td>\n",
       "    </tr>\n",
       "    <tr>\n",
       "      <th>1</th>\n",
       "      <td>tlg0003.tlg001.perseus-grc2.xml</td>\n",
       "      <td>Thucydides</td>\n",
       "      <td>The Peloponnesian War</td>\n",
       "      <td>150118</td>\n",
       "      <td>tlg0003</td>\n",
       "      <td>tlg0003.tlg001</td>\n",
       "      <td>5 B.C.</td>\n",
       "      <td>-4.5</td>\n",
       "      <td>{'-4.5': 1}</td>\n",
       "      <td>-4.5</td>\n",
       "      <td>pagan</td>\n",
       "      <td>6068</td>\n",
       "      <td>[[θουκυδιδής, Ἀθηναῖος, συγγράφω, πόλεμος, Πελ...</td>\n",
       "      <td>Historici/-ae</td>\n",
       "    </tr>\n",
       "    <tr>\n",
       "      <th>2</th>\n",
       "      <td>tlg0004.tlg001.perseus-grc1.xml</td>\n",
       "      <td>Diogenes Laertius</td>\n",
       "      <td>Lives of Eminent Philosophers</td>\n",
       "      <td>110763</td>\n",
       "      <td>tlg0004</td>\n",
       "      <td>tlg0004.tlg001</td>\n",
       "      <td>A.D. 3</td>\n",
       "      <td>2.5</td>\n",
       "      <td>{'2.5': 1}</td>\n",
       "      <td>NaN</td>\n",
       "      <td></td>\n",
       "      <td>10245</td>\n",
       "      <td>[[φιλοσοφία, ἔργον, ἔνειμι, φάσις, βάρβαρος, ἄ...</td>\n",
       "      <td>Biographi</td>\n",
       "    </tr>\n",
       "    <tr>\n",
       "      <th>3</th>\n",
       "      <td>tlg0005.tlg001.perseus-grc1.xml</td>\n",
       "      <td>Theocritus</td>\n",
       "      <td>Idylls</td>\n",
       "      <td>19200</td>\n",
       "      <td>tlg0005</td>\n",
       "      <td>tlg0005.tlg001</td>\n",
       "      <td>4-3 B.C.</td>\n",
       "      <td>-3.0</td>\n",
       "      <td>{'-3.5': 0.5, '-2.5': 0.5}</td>\n",
       "      <td>NaN</td>\n",
       "      <td></td>\n",
       "      <td>1982</td>\n",
       "      <td>[[ψιθύρισμα, πίτυς, αἰπολέ, τῆνος, παγαισί, με...</td>\n",
       "      <td>Bucolici</td>\n",
       "    </tr>\n",
       "    <tr>\n",
       "      <th>4</th>\n",
       "      <td>tlg0005.tlg002.perseus-grc1.xml</td>\n",
       "      <td>Theocritus</td>\n",
       "      <td>Epigrams</td>\n",
       "      <td>1734</td>\n",
       "      <td>tlg0005</td>\n",
       "      <td>tlg0005.tlg002</td>\n",
       "      <td>4-3 B.C.</td>\n",
       "      <td>-3.0</td>\n",
       "      <td>{'-3.5': 0.5, '-2.5': 0.5}</td>\n",
       "      <td>NaN</td>\n",
       "      <td></td>\n",
       "      <td>152</td>\n",
       "      <td>[[ῥόδον, δροσοεντά, καταπυκνός, ἐκεινά, ἕρπυλλ...</td>\n",
       "      <td>Bucolici</td>\n",
       "    </tr>\n",
       "  </tbody>\n",
       "</table>\n",
       "</div>"
      ],
      "text/plain": [
       "                          filename              author  \\\n",
       "0  tlg0001.tlg001.perseus-grc2.xml  Apollonius Rhodius   \n",
       "1  tlg0003.tlg001.perseus-grc2.xml          Thucydides   \n",
       "2  tlg0004.tlg001.perseus-grc1.xml   Diogenes Laertius   \n",
       "3  tlg0005.tlg001.perseus-grc1.xml          Theocritus   \n",
       "4  tlg0005.tlg002.perseus-grc1.xml          Theocritus   \n",
       "\n",
       "                           title  wordcount author_id          doc_id  \\\n",
       "0                    Argonautica      38822   tlg0001  tlg0001.tlg001   \n",
       "1          The Peloponnesian War     150118   tlg0003  tlg0003.tlg001   \n",
       "2  Lives of Eminent Philosophers     110763   tlg0004  tlg0004.tlg001   \n",
       "3                        Idylls       19200   tlg0005  tlg0005.tlg001   \n",
       "4                      Epigrams        1734   tlg0005  tlg0005.tlg002   \n",
       "\n",
       "   raw_date  date_avr                  date_probs  date_manual provenience  \\\n",
       "0    3 B.C.      -2.5                 {'-2.5': 1}         -2.5       pagan   \n",
       "1    5 B.C.      -4.5                 {'-4.5': 1}         -4.5       pagan   \n",
       "2    A.D. 3       2.5                  {'2.5': 1}          NaN               \n",
       "3  4-3 B.C.      -3.0  {'-3.5': 0.5, '-2.5': 0.5}          NaN               \n",
       "4  4-3 B.C.      -3.0  {'-3.5': 0.5, '-2.5': 0.5}          NaN               \n",
       "\n",
       "   n_sentences                               lemmatized_sentences  \\\n",
       "0         3252  [[ἄρχω, Φοῖβος, παλαιγενεών, κλέος, φώς, μιμνή...   \n",
       "1         6068  [[θουκυδιδής, Ἀθηναῖος, συγγράφω, πόλεμος, Πελ...   \n",
       "2        10245  [[φιλοσοφία, ἔργον, ἔνειμι, φάσις, βάρβαρος, ἄ...   \n",
       "3         1982  [[ψιθύρισμα, πίτυς, αἰπολέ, τῆνος, παγαισί, με...   \n",
       "4          152  [[ῥόδον, δροσοεντά, καταπυκνός, ἐκεινά, ἕρπυλλ...   \n",
       "\n",
       "     tlg_epithet  \n",
       "0      Epici/-ae  \n",
       "1  Historici/-ae  \n",
       "2      Biographi  \n",
       "3       Bucolici  \n",
       "4       Bucolici  "
      ]
     },
     "execution_count": 6,
     "metadata": {},
     "output_type": "execute_result"
    }
   ],
   "source": [
    "AGT = sddk.read_file(\"SDAM_data/AGT/AGT_lemmatized_20201119.json\", \"df\", conf)\n",
    "AGT.head(5)"
   ]
  },
  {
   "cell_type": "code",
   "execution_count": 7,
   "metadata": {},
   "outputs": [
    {
     "data": {
      "text/plain": [
       "16184099"
      ]
     },
     "execution_count": 7,
     "metadata": {},
     "output_type": "execute_result"
    }
   ],
   "source": [
    "def flat_lemmata(sentences):\n",
    "    lemmata = [word for sent in sentences for word in sent]\n",
    "    return lemmata\n",
    "AGT[\"lemmata\"] = AGT[\"lemmatized_sentences\"].apply(flat_lemmata)\n",
    "\n",
    "AGT[\"n_lemmata\"] = AGT.apply(lambda row: len(row[\"lemmata\"]), axis=1)\n",
    "AGT[\"n_lemmata\"].sum() # previously we had 13925726, then 13713183"
   ]
  },
  {
   "cell_type": "code",
   "execution_count": 8,
   "metadata": {
    "id": "JbM6CmYLJQlv"
   },
   "outputs": [],
   "source": [
    "def get_flat_sentences(series):\n",
    "    sentences_list = [sent for doc in series.tolist() for sent in doc]\n",
    "    return sentences_list"
   ]
  },
  {
   "cell_type": "code",
   "execution_count": 9,
   "metadata": {
    "id": "Mv002MzcJQlw"
   },
   "outputs": [],
   "source": [
    "subcorpora_dict = {\n",
    "    \"Pagan (8th c. BCE - 4th c. CE)\" : AGT[(AGT[\"provenience\"]==\"pagan\") & (AGT[\"date_avr\"] < 4)],\n",
    "    \"Pagan (1st - 4th c. CE)\" : AGT[(AGT[\"date_avr\"].between(0, 4)) & (AGT[\"provenience\"]==\"pagan\")],\n",
    "    \"Septuagint\" : AGT[AGT[\"author_id\"]==\"tlg0527\"],\n",
    "    \"Philo of Alexandria\" : AGT[AGT[\"author_id\"]==\"tlg0018\"],\n",
    "    \"Titus Flavius Josephus\" : AGT[AGT[\"author_id\"]==\"tlg0526\"],\n",
    "    \"Paul of Tarsus\" : AGT[AGT[\"author_id\"]==\"tlg0031paul\"],\n",
    "    \"New Testament\" : AGT[AGT[\"author_id\"].str.startswith(\"tlg0031\")],\n",
    "    \"Christian (1st - 4th c. CE)\" : AGT[(AGT[\"date_avr\"] < 4) & (AGT[\"provenience\"]==\"christian\")]}"
   ]
  },
  {
   "cell_type": "code",
   "execution_count": 10,
   "metadata": {
    "colab": {
     "base_uri": "https://localhost:8080/",
     "height": 297
    },
    "id": "AKtzFvZnJQlw",
    "outputId": "8e51f6b4-e4f3-4d6c-d6ba-6142441d07dd"
   },
   "outputs": [
    {
     "data": {
      "text/html": [
       "<div>\n",
       "<style scoped>\n",
       "    .dataframe tbody tr th:only-of-type {\n",
       "        vertical-align: middle;\n",
       "    }\n",
       "\n",
       "    .dataframe tbody tr th {\n",
       "        vertical-align: top;\n",
       "    }\n",
       "\n",
       "    .dataframe thead th {\n",
       "        text-align: right;\n",
       "    }\n",
       "</style>\n",
       "<table border=\"1\" class=\"dataframe\">\n",
       "  <thead>\n",
       "    <tr style=\"text-align: right;\">\n",
       "      <th></th>\n",
       "      <th>label</th>\n",
       "      <th>wordcount</th>\n",
       "      <th>doccount</th>\n",
       "      <th>n_sentences</th>\n",
       "      <th>sentences</th>\n",
       "    </tr>\n",
       "  </thead>\n",
       "  <tbody>\n",
       "    <tr>\n",
       "      <th>0</th>\n",
       "      <td>Pagan (8th c. BCE - 4th c. CE)</td>\n",
       "      <td>12965219</td>\n",
       "      <td>774</td>\n",
       "      <td>1039409</td>\n",
       "      <td>[[ἄρχω, Φοῖβος, παλαιγενεών, κλέος, φώς, μιμνή...</td>\n",
       "    </tr>\n",
       "    <tr>\n",
       "      <th>1</th>\n",
       "      <td>Pagan (1st - 4th c. CE)</td>\n",
       "      <td>8692448</td>\n",
       "      <td>411</td>\n",
       "      <td>723956</td>\n",
       "      <td>[[γεωγραφία, σοσσιέ, σενεκιών, ἱστορικοί, διαφ...</td>\n",
       "    </tr>\n",
       "    <tr>\n",
       "      <th>2</th>\n",
       "      <td>Septuagint</td>\n",
       "      <td>799083</td>\n",
       "      <td>55</td>\n",
       "      <td>57856</td>\n",
       "      <td>[[ἔν, ποιέω, θεός, οὐρανός, γῆ], [γῆ, εἰμί, ἀό...</td>\n",
       "    </tr>\n",
       "    <tr>\n",
       "      <th>3</th>\n",
       "      <td>Philo of Alexandria</td>\n",
       "      <td>643011</td>\n",
       "      <td>31</td>\n",
       "      <td>82966</td>\n",
       "      <td>[[ἄλλος, νομοθέτης, ἀκαλλώπιστος, γυμνός, νομι...</td>\n",
       "    </tr>\n",
       "    <tr>\n",
       "      <th>4</th>\n",
       "      <td>Titus Flavius Josephus</td>\n",
       "      <td>469580</td>\n",
       "      <td>4</td>\n",
       "      <td>19707</td>\n",
       "      <td>[[ἱστορία, συγγραφείν, βούλομαι, εἷς, αὐτός, ὁ...</td>\n",
       "    </tr>\n",
       "    <tr>\n",
       "      <th>5</th>\n",
       "      <td>Paul of Tarsus</td>\n",
       "      <td>24066</td>\n",
       "      <td>7</td>\n",
       "      <td>1632</td>\n",
       "      <td>[[δοῦλος, Ἰησοῦς, Χριστός, κλητός, ἀπόστολος, ...</td>\n",
       "    </tr>\n",
       "    <tr>\n",
       "      <th>6</th>\n",
       "      <td>New Testament</td>\n",
       "      <td>137787</td>\n",
       "      <td>27</td>\n",
       "      <td>8698</td>\n",
       "      <td>[[βίβλος, γένεσις, Ἰησοῦς, Χριστός, υἱός, Δαυί...</td>\n",
       "    </tr>\n",
       "    <tr>\n",
       "      <th>7</th>\n",
       "      <td>Christian (1st - 4th c. CE)</td>\n",
       "      <td>2975644</td>\n",
       "      <td>131</td>\n",
       "      <td>291084</td>\n",
       "      <td>[[βίβλος, γένεσις, Ἰησοῦς, Χριστός, υἱός, Δαυί...</td>\n",
       "    </tr>\n",
       "  </tbody>\n",
       "</table>\n",
       "</div>"
      ],
      "text/plain": [
       "                            label  wordcount  doccount  n_sentences  \\\n",
       "0  Pagan (8th c. BCE - 4th c. CE)   12965219       774      1039409   \n",
       "1         Pagan (1st - 4th c. CE)    8692448       411       723956   \n",
       "2                      Septuagint     799083        55        57856   \n",
       "3             Philo of Alexandria     643011        31        82966   \n",
       "4          Titus Flavius Josephus     469580         4        19707   \n",
       "5                  Paul of Tarsus      24066         7         1632   \n",
       "6                   New Testament     137787        27         8698   \n",
       "7     Christian (1st - 4th c. CE)    2975644       131       291084   \n",
       "\n",
       "                                           sentences  \n",
       "0  [[ἄρχω, Φοῖβος, παλαιγενεών, κλέος, φώς, μιμνή...  \n",
       "1  [[γεωγραφία, σοσσιέ, σενεκιών, ἱστορικοί, διαφ...  \n",
       "2  [[ἔν, ποιέω, θεός, οὐρανός, γῆ], [γῆ, εἰμί, ἀό...  \n",
       "3  [[ἄλλος, νομοθέτης, ἀκαλλώπιστος, γυμνός, νομι...  \n",
       "4  [[ἱστορία, συγγραφείν, βούλομαι, εἷς, αὐτός, ὁ...  \n",
       "5  [[δοῦλος, Ἰησοῦς, Χριστός, κλητός, ἀπόστολος, ...  \n",
       "6  [[βίβλος, γένεσις, Ἰησοῦς, Χριστός, υἱός, Δαυί...  \n",
       "7  [[βίβλος, γένεσις, Ἰησοῦς, Χριστός, υἱός, Δαυί...  "
      ]
     },
     "execution_count": 10,
     "metadata": {},
     "output_type": "execute_result"
    }
   ],
   "source": [
    "subselections = []\n",
    "for key in subcorpora_dict.keys():\n",
    "    subselection = subcorpora_dict[key]\n",
    "    subselection_dict = {}\n",
    "    wordcount = subselection[\"wordcount\"].sum()\n",
    "    doccount = len(subselection)\n",
    "    sents = get_flat_sentences(subselection[\"lemmatized_sentences\"])\n",
    "    sents_len = len(sents)\n",
    "    subselection_dict.update({\"label\" : key, \"wordcount\" : wordcount, \"doccount\" : doccount, \"n_sentences\": sents_len,\"sentences\" : sents})\n",
    "    subselections.append(subselection_dict)\n",
    "subselections_df = pd.DataFrame(subselections)\n",
    "subselections_df"
   ]
  },
  {
   "cell_type": "markdown",
   "metadata": {
    "id": "jRnjxd5aJQlw"
   },
   "source": [
    "# term2term & term2doc matraces with sklearn - Paul as example"
   ]
  },
  {
   "cell_type": "code",
   "execution_count": 11,
   "metadata": {
    "id": "Lp-gMWPJJQlx"
   },
   "outputs": [],
   "source": [
    "# let's explore Pa\n",
    "docs = subselections_df.at[5, \"sentences\"]"
   ]
  },
  {
   "cell_type": "code",
   "execution_count": 12,
   "metadata": {
    "colab": {
     "base_uri": "https://localhost:8080/"
    },
    "id": "7jJLTsQxJQly",
    "outputId": "48f1edf5-8b84-472b-ce6c-437818528a8c"
   },
   "outputs": [
    {
     "data": {
      "text/plain": [
       "1632"
      ]
     },
     "execution_count": 12,
     "metadata": {},
     "output_type": "execute_result"
    }
   ],
   "source": [
    "len(docs)"
   ]
  },
  {
   "cell_type": "code",
   "execution_count": 13,
   "metadata": {},
   "outputs": [
    {
     "name": "stdout",
     "output_type": "stream",
     "text": [
      "[['δοῦλος', 'Ἰησοῦς', 'Χριστός', 'κλητός', 'ἀπόστολος', 'ἀφωρισμενός', 'εὐαγγέλιον', 'θεός', 'προεπηγγειλατό', 'προφήτης', 'γραφή', 'ἁγιαίς', 'υἱός', 'γίγνομαι', 'σπέρμα', 'Δαυίδ', 'σάρξ', 'ὁρισθεντός', 'υἱός', 'θεός', 'δύναμις', 'πνεῦμα', 'ἁγιωσυνής', 'ἀνάστασις', 'νεκρός', 'Ἰησοῦς', 'Χριστός', 'κύριος', 'λαμβάνω', 'χάρις', 'ἀποστολή', 'ὑπακοή', 'πίστις', 'ἔθνος', 'ὄνομα', 'κλητός', 'Ἰησοῦς', 'Χριστός', 'πᾶς', 'οὐσίν', 'Ῥώμη', 'ἀγαπητός', 'θεός', 'κλητός', 'ἅγιος'], ['χάρις', 'εἰρήνη', 'θεός', 'πατήρ', 'κύριος'], ['πρῶτος', 'εὐχαριστέω', 'θεός', 'Ἰησοῦς', 'Χριστός', 'πᾶς', 'πίστις', 'καταγγέλλω', 'ὅλος', 'κοσμῴ.']]\n"
     ]
    }
   ],
   "source": [
    "print(docs[:3])"
   ]
  },
  {
   "cell_type": "code",
   "execution_count": 14,
   "metadata": {
    "id": "xDgnTA9fLF8p"
   },
   "outputs": [],
   "source": [
    "vocabulary =  list(set([word for sent in docs for word in sent]))\n",
    "bow = CountVectorizer(vocabulary=vocabulary)\n",
    "bow_term2doc = bow.fit_transform([\" \".join(doc) for doc in docs]) ### run the model\n",
    "term2term_bow = (bow_term2doc.T * bow_term2doc)"
   ]
  },
  {
   "cell_type": "code",
   "execution_count": 15,
   "metadata": {
    "colab": {
     "base_uri": "https://localhost:8080/"
    },
    "id": "Y5KfMtyFLEm-",
    "outputId": "c9166e1c-f3b8-4787-eacd-0183b818b2ff"
   },
   "outputs": [
    {
     "data": {
      "text/plain": [
       "<2161x2161 sparse matrix of type '<class 'numpy.int64'>'\n",
       "\twith 62622 stored elements in Compressed Sparse Column format>"
      ]
     },
     "execution_count": 15,
     "metadata": {},
     "output_type": "execute_result"
    }
   ],
   "source": [
    "term2term_bow"
   ]
  },
  {
   "cell_type": "code",
   "execution_count": 107,
   "metadata": {
    "id": "oP8Si2nwLmDb"
   },
   "outputs": [
    {
     "name": "stdout",
     "output_type": "stream",
     "text": [
      "2161 32300\n"
     ]
    }
   ],
   "source": [
    "G = nx.from_numpy_matrix(term2term_bow.todense()) # from_pandas_adjacency()\n",
    "vocab_dict = dict(zip(range(len(vocabulary)), vocabulary))\n",
    "G = nx.relabel_nodes(G, vocab_dict)\n",
    "print(G.number_of_nodes(), G.number_of_edges())"
   ]
  },
  {
   "cell_type": "code",
   "execution_count": 108,
   "metadata": {},
   "outputs": [
    {
     "data": {
      "text/plain": [
       "[('χριστός', 'χριστός', {'weight': 312}),\n",
       " ('χριστός', 'δεῖ', {'weight': 1}),\n",
       " ('χριστός', 'καταντάω', {'weight': 3}),\n",
       " ('χριστός', 'τολμάω', {'weight': 2}),\n",
       " ('χριστός', 'ποιέω', {'weight': 5})]"
      ]
     },
     "execution_count": 108,
     "metadata": {},
     "output_type": "execute_result"
    }
   ],
   "source": [
    "list(G.edges.data())[:5]"
   ]
  },
  {
   "cell_type": "code",
   "execution_count": 69,
   "metadata": {},
   "outputs": [],
   "source": [
    "# remove \n",
    "edges_to_remove = []\n",
    "for edge in G.edges:\n",
    "    if edge[0] == edge[1]:\n",
    "        edges_to_remove.append(edge)\n",
    "for element in edges_to_remove:\n",
    "    G.remove_edge(element[0], element[1])"
   ]
  },
  {
   "cell_type": "code",
   "execution_count": 70,
   "metadata": {},
   "outputs": [
    {
     "data": {
      "text/plain": [
       "49906"
      ]
     },
     "execution_count": 70,
     "metadata": {},
     "output_type": "execute_result"
    }
   ],
   "source": [
    "total_weight = sum([int(n) for n in nx.get_edge_attributes(G, \"weight\").values()])\n",
    "total_weight"
   ]
  },
  {
   "cell_type": "code",
   "execution_count": 83,
   "metadata": {},
   "outputs": [],
   "source": [
    "weights = sorted([int(n) for n in nx.get_edge_attributes(G, \"weight\").values()], reverse=True)"
   ]
  },
  {
   "cell_type": "code",
   "execution_count": 102,
   "metadata": {},
   "outputs": [],
   "source": [
    "weight_threshold = 0.1\n",
    "index_position = int(len(weights) * weight_threshold)\n",
    "minimal_weight_value = weights[index_position]"
   ]
  },
  {
   "cell_type": "code",
   "execution_count": 103,
   "metadata": {},
   "outputs": [],
   "source": [
    "edges_to_remove = []\n",
    "for edge in G.edges:\n",
    "    if G[edge[0]][edge[1]][\"weight\"] < minimal_weight_value:\n",
    "        edges_to_remove.append(edge)\n",
    "for element in edges_to_remove:\n",
    "    G.remove_edge(element[0], element[1])"
   ]
  },
  {
   "cell_type": "code",
   "execution_count": 104,
   "metadata": {},
   "outputs": [
    {
     "data": {
      "text/plain": [
       "2161"
      ]
     },
     "execution_count": 104,
     "metadata": {},
     "output_type": "execute_result"
    }
   ],
   "source": [
    "len(G.nodes)"
   ]
  },
  {
   "cell_type": "code",
   "execution_count": 105,
   "metadata": {},
   "outputs": [
    {
     "data": {
      "text/plain": [
       "3317"
      ]
     },
     "execution_count": 105,
     "metadata": {},
     "output_type": "execute_result"
    }
   ],
   "source": [
    "len(G.edges)"
   ]
  },
  {
   "cell_type": "code",
   "execution_count": 106,
   "metadata": {},
   "outputs": [
    {
     "data": {
      "text/plain": [
       "[('χριστός',\n",
       "  'καταντάω',\n",
       "  {'weight': 3,\n",
       "   'norm_weight': 6e-05,\n",
       "   'distance': 0.33333,\n",
       "   'norm_distance': 16666.66667}),\n",
       " ('χριστός',\n",
       "  'ποιέω',\n",
       "  {'weight': 5,\n",
       "   'norm_weight': 0.0001,\n",
       "   'distance': 0.2,\n",
       "   'norm_distance': 10000.0}),\n",
       " ('χριστός',\n",
       "  'οὐσίν',\n",
       "  {'weight': 3,\n",
       "   'norm_weight': 6e-05,\n",
       "   'distance': 0.33333,\n",
       "   'norm_distance': 16666.66667}),\n",
       " ('χριστός',\n",
       "  'ἀγάπη',\n",
       "  {'weight': 17,\n",
       "   'norm_weight': 0.00034,\n",
       "   'distance': 0.05882,\n",
       "   'norm_distance': 2941.17647}),\n",
       " ('χριστός',\n",
       "  'βεβαιόω',\n",
       "  {'weight': 6,\n",
       "   'norm_weight': 0.00012,\n",
       "   'distance': 0.16667,\n",
       "   'norm_distance': 8333.33333})]"
      ]
     },
     "execution_count": 106,
     "metadata": {},
     "output_type": "execute_result"
    }
   ],
   "source": [
    "list(G.edges.data())[:5]"
   ]
  },
  {
   "cell_type": "code",
   "execution_count": 121,
   "metadata": {},
   "outputs": [],
   "source": [
    "edges_to_remove = []\n",
    "for edge in G.edges:\n",
    "    if edge[0] == edge[1]:\n",
    "        edges_to_remove.append(edge)\n",
    "for element in edges_to_remove:\n",
    "    G.remove_edge(element[0], element[1])"
   ]
  },
  {
   "cell_type": "code",
   "execution_count": 122,
   "metadata": {},
   "outputs": [],
   "source": [
    "for (u, v) in G.edges:\n",
    "    G[u][v][\"norm_weight\"] = round((G[u][v][\"weight\"] / total_weight), 5)\n",
    "    G[u][v][\"distance\"] = round(1 / (G[u][v][\"weight\"]), 5)\n",
    "    G[u][v][\"norm_distance\"] = round(1 / (G[u][v][\"norm_weight\"] ), 5)"
   ]
  },
  {
   "cell_type": "code",
   "execution_count": 131,
   "metadata": {},
   "outputs": [
    {
     "data": {
      "text/plain": [
       "[('χριστός',\n",
       "  'δεῖ',\n",
       "  {'weight': 1,\n",
       "   'norm_weight': 2e-05,\n",
       "   'distance': 1.0,\n",
       "   'norm_distance': 50000.0}),\n",
       " ('χριστός',\n",
       "  'καταντάω',\n",
       "  {'weight': 3,\n",
       "   'norm_weight': 6e-05,\n",
       "   'distance': 0.33333,\n",
       "   'norm_distance': 16666.66667}),\n",
       " ('χριστός',\n",
       "  'τολμάω',\n",
       "  {'weight': 2,\n",
       "   'norm_weight': 4e-05,\n",
       "   'distance': 0.5,\n",
       "   'norm_distance': 25000.0}),\n",
       " ('χριστός',\n",
       "  'ποιέω',\n",
       "  {'weight': 5,\n",
       "   'norm_weight': 0.0001,\n",
       "   'distance': 0.2,\n",
       "   'norm_distance': 10000.0}),\n",
       " ('χριστός',\n",
       "  'χρίω',\n",
       "  {'weight': 1,\n",
       "   'norm_weight': 2e-05,\n",
       "   'distance': 1.0,\n",
       "   'norm_distance': 50000.0})]"
      ]
     },
     "execution_count": 131,
     "metadata": {},
     "output_type": "execute_result"
    }
   ],
   "source": [
    "list(G.edges.data())[:5]"
   ]
  },
  {
   "cell_type": "code",
   "execution_count": 145,
   "metadata": {},
   "outputs": [],
   "source": [
    "network = G.copy(as_view=False)"
   ]
  },
  {
   "cell_type": "code",
   "execution_count": 154,
   "metadata": {},
   "outputs": [],
   "source": [
    "def construct_ego_network(source_network, term, num_of_neighbours):\n",
    "    length, path = nx.single_source_dijkstra(source_network, term, target=None, weight=\"distance\")\n",
    "    shortest_nodes = list(length.keys())[0:num_of_neighbours+1]\n",
    "    path_values_sorted = [dict_pair[1] for dict_pair in sorted(path.items(), key=lambda pair: list(length.keys()).index(pair[0]))]\n",
    "    path_edges = []\n",
    "    for path_to_term in path_values_sorted[1:num_of_neighbours+1]:\n",
    "        path_edges.extend([tuple(sorted(bigram)) for bigram in nltk.bigrams(path_to_term)])\n",
    "    shortest_edges = list(set(path_edges))\n",
    "    ego_network = source_network.copy(as_view=False)\n",
    "    nodes_to_remove = []\n",
    "    for node in ego_network.nodes:\n",
    "        if node not in shortest_nodes:\n",
    "            nodes_to_remove.append(node)\n",
    "    for element in nodes_to_remove:\n",
    "        ego_network.remove_node(element)    \n",
    "    edges_to_remove = []\n",
    "    for edge in ego_network.edges:\n",
    "        if edge not in shortest_edges:\n",
    "            if (edge[1],edge[0]) not in shortest_edges:\n",
    "                edges_to_remove.append(edge)\n",
    "    for element in edges_to_remove:\n",
    "        ego_network.remove_edge(element[0], element[1])\n",
    "    return ego_network"
   ]
  },
  {
   "cell_type": "code",
   "execution_count": 156,
   "metadata": {},
   "outputs": [
    {
     "data": {
      "text/plain": [
       "EdgeDataView([('χριστός', 'νεκρός', {'weight': 25, 'norm_weight': 0.0005, 'distance': 0.04, 'norm_distance': 2000.0}), ('χριστός', 'κύριος', {'weight': 53, 'norm_weight': 0.00106, 'distance': 0.01887, 'norm_distance': 943.39623}), ('χριστός', 'εὐαγγέλιον', {'weight': 25, 'norm_weight': 0.0005, 'distance': 0.04, 'norm_distance': 2000.0}), ('χριστός', 'θεός', {'weight': 136, 'norm_weight': 0.00273, 'distance': 0.00735, 'norm_distance': 366.30037}), ('χριστός', 'πᾶς', {'weight': 69, 'norm_weight': 0.00138, 'distance': 0.01449, 'norm_distance': 724.63768}), ('χριστός', 'ἐγείρω', {'weight': 23, 'norm_weight': 0.00046, 'distance': 0.04348, 'norm_distance': 2173.91304}), ('χριστός', 'πίστις', {'weight': 37, 'norm_weight': 0.00074, 'distance': 0.02703, 'norm_distance': 1351.35135}), ('χριστός', 'ἔχω', {'weight': 26, 'norm_weight': 0.00052, 'distance': 0.03846, 'norm_distance': 1923.07692}), ('ἔθνος', 'θεός', {'weight': 26, 'norm_weight': 0.00052, 'distance': 0.03846, 'norm_distance': 1923.07692}), ('χάρις', 'θεός', {'weight': 48, 'norm_weight': 0.00096, 'distance': 0.02083, 'norm_distance': 1041.66667}), ('σάρξ', 'θεός', {'weight': 30, 'norm_weight': 0.0006, 'distance': 0.03333, 'norm_distance': 1666.66667}), ('λόγος', 'θεός', {'weight': 33, 'norm_weight': 0.00066, 'distance': 0.0303, 'norm_distance': 1515.15152}), ('θεός', 'πατήρ', {'weight': 36, 'norm_weight': 0.00072, 'distance': 0.02778, 'norm_distance': 1388.88889}), ('θεός', 'δικαιοσύνη', {'weight': 26, 'norm_weight': 0.00052, 'distance': 0.03846, 'norm_distance': 1923.07692}), ('θεός', 'υἱός', {'weight': 25, 'norm_weight': 0.0005, 'distance': 0.04, 'norm_distance': 2000.0}), ('θεός', 'ἄλλʼ', {'weight': 34, 'norm_weight': 0.00068, 'distance': 0.02941, 'norm_distance': 1470.58824}), ('θεός', 'πνεῦμα', {'weight': 50, 'norm_weight': 0.001, 'distance': 0.02, 'norm_distance': 1000.0}), ('θεός', 'αὐτός', {'weight': 27, 'norm_weight': 0.00054, 'distance': 0.03704, 'norm_distance': 1851.85185}), ('θεός', 'κόσμος', {'weight': 27, 'norm_weight': 0.00054, 'distance': 0.03704, 'norm_distance': 1851.85185}), ('θεός', 'γίγνομαι', {'weight': 46, 'norm_weight': 0.00092, 'distance': 0.02174, 'norm_distance': 1086.95652}), ('θεός', 'εἰμί', {'weight': 91, 'norm_weight': 0.00182, 'distance': 0.01099, 'norm_distance': 549.45055}), ('θεός', 'δύναμις', {'weight': 25, 'norm_weight': 0.0005, 'distance': 0.04, 'norm_distance': 2000.0}), ('θεός', 'ἅγιος', {'weight': 30, 'norm_weight': 0.0006, 'distance': 0.03333, 'norm_distance': 1666.66667}), ('θεός', 'δόξα', {'weight': 30, 'norm_weight': 0.0006, 'distance': 0.03333, 'norm_distance': 1666.66667}), ('θεός', 'πολύς', {'weight': 33, 'norm_weight': 0.00066, 'distance': 0.0303, 'norm_distance': 1515.15152}), ('θεός', 'ἄνθρωπος', {'weight': 39, 'norm_weight': 0.00078, 'distance': 0.02564, 'norm_distance': 1282.05128}), ('θεός', 'νόμος', {'weight': 33, 'norm_weight': 0.00066, 'distance': 0.0303, 'norm_distance': 1515.15152}), ('θεός', 'οἶδα', {'weight': 47, 'norm_weight': 0.00094, 'distance': 0.02128, 'norm_distance': 1063.82979}), ('θεός', 'δίδωμι', {'weight': 28, 'norm_weight': 0.00056, 'distance': 0.03571, 'norm_distance': 1785.71429}), ('θεός', 'ἀδελφός', {'weight': 29, 'norm_weight': 0.00058, 'distance': 0.03448, 'norm_distance': 1724.13793})])"
      ]
     },
     "execution_count": 156,
     "metadata": {},
     "output_type": "execute_result"
    }
   ],
   "source": [
    "ego_network = construct_ego_network(network, \"χριστός\", 30)\n",
    "ego_network.edges.data()"
   ]
  },
  {
   "cell_type": "code",
   "execution_count": 157,
   "metadata": {},
   "outputs": [],
   "source": [
    "def extract_ego_network_data(ego_network):\n",
    "    ego_network_data_prec = sorted(list(ego_network.edges.data(\"weight\")), key=lambda tup: int(tup[2]), reverse=True)\n",
    "    ego_network_data_complete = []\n",
    "    for tup in ego_network_data_prec:\n",
    "      if tup[1] == term:\n",
    "        ego_network_data_complete.append([tup[1], tup[0], int(tup[2]), round(1 / int(tup[2]), 5)])\n",
    "      else:\n",
    "        ego_network_data_complete.append([tup[0], tup[1], int(tup[2]), round(1 / int(tup[2]), 5)])\n",
    "    return ego_network_data_complete"
   ]
  },
  {
   "cell_type": "code",
   "execution_count": 158,
   "metadata": {},
   "outputs": [
    {
     "data": {
      "text/plain": [
       "[['χριστός', 'θεός', 136, 0.00735],\n",
       " ['θεός', 'εἰμί', 91, 0.01099],\n",
       " ['χριστός', 'πᾶς', 69, 0.01449],\n",
       " ['χριστός', 'κύριος', 53, 0.01887],\n",
       " ['θεός', 'πνεῦμα', 50, 0.02],\n",
       " ['χάρις', 'θεός', 48, 0.02083],\n",
       " ['θεός', 'οἶδα', 47, 0.02128],\n",
       " ['θεός', 'γίγνομαι', 46, 0.02174],\n",
       " ['θεός', 'ἄνθρωπος', 39, 0.02564],\n",
       " ['χριστός', 'πίστις', 37, 0.02703],\n",
       " ['θεός', 'πατήρ', 36, 0.02778],\n",
       " ['θεός', 'ἄλλʼ', 34, 0.02941],\n",
       " ['λόγος', 'θεός', 33, 0.0303],\n",
       " ['θεός', 'πολύς', 33, 0.0303],\n",
       " ['θεός', 'νόμος', 33, 0.0303],\n",
       " ['σάρξ', 'θεός', 30, 0.03333],\n",
       " ['θεός', 'ἅγιος', 30, 0.03333],\n",
       " ['θεός', 'δόξα', 30, 0.03333],\n",
       " ['θεός', 'ἀδελφός', 29, 0.03448],\n",
       " ['θεός', 'δίδωμι', 28, 0.03571],\n",
       " ['θεός', 'αὐτός', 27, 0.03704],\n",
       " ['θεός', 'κόσμος', 27, 0.03704],\n",
       " ['χριστός', 'ἔχω', 26, 0.03846],\n",
       " ['ἔθνος', 'θεός', 26, 0.03846],\n",
       " ['θεός', 'δικαιοσύνη', 26, 0.03846],\n",
       " ['χριστός', 'νεκρός', 25, 0.04],\n",
       " ['χριστός', 'εὐαγγέλιον', 25, 0.04],\n",
       " ['θεός', 'υἱός', 25, 0.04],\n",
       " ['θεός', 'δύναμις', 25, 0.04],\n",
       " ['χριστός', 'ἐγείρω', 23, 0.04348]]"
      ]
     },
     "execution_count": 158,
     "metadata": {},
     "output_type": "execute_result"
    }
   ],
   "source": [
    "extract_ego_network_data(ego_network)"
   ]
  },
  {
   "cell_type": "code",
   "execution_count": 160,
   "metadata": {},
   "outputs": [
    {
     "data": {
      "text/html": [
       "        <script type=\"text/javascript\">\n",
       "        window.PlotlyConfig = {MathJaxConfig: 'local'};\n",
       "        if (window.MathJax) {MathJax.Hub.Config({SVG: {font: \"STIX-Web\"}});}\n",
       "        if (typeof require !== 'undefined') {\n",
       "        require.undef(\"plotly\");\n",
       "        requirejs.config({\n",
       "            paths: {\n",
       "                'plotly': ['https://cdn.plot.ly/plotly-latest.min']\n",
       "            }\n",
       "        });\n",
       "        require(['plotly'], function(Plotly) {\n",
       "            window._Plotly = Plotly;\n",
       "        });\n",
       "        }\n",
       "        </script>\n",
       "        "
      ]
     },
     "metadata": {},
     "output_type": "display_data"
    },
    {
     "data": {
      "text/plain": [
       "<module 'textnet' from '/home/jovyan/scripts/textnet.py'>"
      ]
     },
     "execution_count": 160,
     "metadata": {},
     "output_type": "execute_result"
    }
   ],
   "source": [
    "reload(textnet)"
   ]
  },
  {
   "cell_type": "code",
   "execution_count": 185,
   "metadata": {},
   "outputs": [],
   "source": [
    "networkx_object = ego_network.copy()"
   ]
  },
  {
   "cell_type": "code",
   "execution_count": 186,
   "metadata": {},
   "outputs": [
    {
     "data": {
      "text/plain": [
       "{'χριστός': array([-0.50099769,  0.11564409]),\n",
       " 'νεκρός': array([-1.        , -0.02253037]),\n",
       " 'ἔθνος': array([0.48812218, 0.19575123]),\n",
       " 'χάρις': array([0.60659051, 0.41026091]),\n",
       " 'σάρξ': array([0.72929812, 0.23023622]),\n",
       " 'κύριος': array([-0.53206425,  0.75419602]),\n",
       " 'εὐαγγέλιον': array([-0.98786204,  0.22802799]),\n",
       " 'λόγος': array([0.21016303, 0.33031328]),\n",
       " 'θεός': array([ 0.18755395, -0.04330021]),\n",
       " 'πατήρ': array([0.44035978, 0.51532323]),\n",
       " 'δικαιοσύνη': array([0.25366513, 0.57865158]),\n",
       " 'υἱός': array([0.05075191, 0.53201987]),\n",
       " 'ἄλλʼ': array([-0.08307975,  0.37193937]),\n",
       " 'πνεῦμα': array([-0.13144264,  0.16073574]),\n",
       " 'πᾶς': array([-0.72740916,  0.63469799]),\n",
       " 'αὐτός': array([-0.18862126, -0.08699733]),\n",
       " 'κόσμος': array([-0.23769146, -0.29798555]),\n",
       " 'γίγνομαι': array([ 0.04400793, -0.38910001]),\n",
       " 'εἰμί': array([-0.18753142, -0.50054991]),\n",
       " 'ἐγείρω': array([-0.88895519,  0.45855117]),\n",
       " 'πίστις': array([-0.93199316, -0.25167307]),\n",
       " 'ἔχω': array([-0.80879593, -0.44468618]),\n",
       " 'δύναμις': array([ 0.35258298, -0.39029623]),\n",
       " 'ἅγιος': array([-0.02545428, -0.63138788]),\n",
       " 'δόξα': array([ 0.1701755 , -0.65625747]),\n",
       " 'πολύς': array([ 0.36583673, -0.63461029]),\n",
       " 'ἄνθρωπος': array([ 0.55495563, -0.52618431]),\n",
       " 'νόμος': array([ 0.67934349, -0.36933191]),\n",
       " 'οἶδα': array([ 0.77547767, -0.17853785]),\n",
       " 'δίδωμι': array([ 0.55081074, -0.12765537]),\n",
       " 'ἀδελφός': array([0.77220296, 0.03473525])}"
      ]
     },
     "execution_count": 186,
     "metadata": {},
     "output_type": "execute_result"
    }
   ],
   "source": [
    "pos_2d=nx.kamada_kawai_layout(networkx_object, weight=\"weight_norm\")\n",
    "pos_2d"
   ]
  },
  {
   "cell_type": "code",
   "execution_count": 187,
   "metadata": {},
   "outputs": [],
   "source": [
    "# normalize positions\n",
    "dmin=1\n",
    "ncenter=0\n",
    "for key in pos_2d:\n",
    "    x,y=pos_2d[key]\n",
    "    d=(x-0.5)**2+(y-0.5)**2\n",
    "    if d<dmin:\n",
    "        ncenter=key\n",
    "        dmin=d"
   ]
  },
  {
   "cell_type": "code",
   "execution_count": 188,
   "metadata": {},
   "outputs": [],
   "source": [
    "p =nx.single_source_shortest_path_length(networkx_object, ncenter)"
   ]
  },
  {
   "cell_type": "code",
   "execution_count": 189,
   "metadata": {},
   "outputs": [
    {
     "data": {
      "text/plain": [
       "{'πατήρ': 0,\n",
       " 'θεός': 1,\n",
       " 'χριστός': 2,\n",
       " 'δικαιοσύνη': 2,\n",
       " 'νόμος': 2,\n",
       " 'οἶδα': 2,\n",
       " 'κόσμος': 2,\n",
       " 'σάρξ': 2,\n",
       " 'αὐτός': 2,\n",
       " 'δόξα': 2,\n",
       " 'γίγνομαι': 2,\n",
       " 'ἅγιος': 2,\n",
       " 'πολύς': 2,\n",
       " 'ἀδελφός': 2,\n",
       " 'δίδωμι': 2,\n",
       " 'ἔθνος': 2,\n",
       " 'λόγος': 2,\n",
       " 'υἱός': 2,\n",
       " 'ἄλλʼ': 2,\n",
       " 'πνεῦμα': 2,\n",
       " 'εἰμί': 2,\n",
       " 'δύναμις': 2,\n",
       " 'χάρις': 2,\n",
       " 'ἄνθρωπος': 2,\n",
       " 'νεκρός': 3,\n",
       " 'ἐγείρω': 3,\n",
       " 'κύριος': 3,\n",
       " 'πίστις': 3,\n",
       " 'ἔχω': 3,\n",
       " 'πᾶς': 3,\n",
       " 'εὐαγγέλιον': 3}"
      ]
     },
     "execution_count": 189,
     "metadata": {},
     "output_type": "execute_result"
    }
   ],
   "source": [
    "p"
   ]
  },
  {
   "cell_type": "code",
   "execution_count": null,
   "metadata": {},
   "outputs": [],
   "source": [
    "def draw_2d_network(networkx_object, file_name, mode):\n",
    "    '''take networkX object and draw it'''\n",
    "    pos_2d=nx.kamada_kawai_layout(networkx_object, weight=\"weight_norm\")\n",
    "    nx.set_node_attributes(networkx_object, pos_2d, \"pos_2d\")\n",
    "    dmin=1\n",
    "    ncenter=0\n",
    "    Edges = list(networkx_object.edges)\n",
    "    L=len(Edges)\n",
    "    labels= list(networkx_object.nodes)\n",
    "    N = len(labels)\n",
    "    distance_list = [float(distance[2]) for distance in list(networkx_object.edges.data(\"distance\"))]\n",
    "    weight_list = [int(float(weight[2])) for weight in list(networkx_object.edges.data(\"weight\"))]\n",
    "    for n in pos_2d:\n",
    "        x,y=pos_2d[n]\n",
    "        d=(x-0.5)**2+(y-0.5)**2\n",
    "        if d<dmin:\n",
    "            ncenter=n\n",
    "            dmin=d\n",
    "    p =nx.single_source_shortest_path_length(networkx_object, ncenter)\n",
    "    adjc= [len(one_adjc) for one_adjc in list((nx.generate_adjlist(networkx_object)))]\n",
    "    middle_node_trace = go.Scatter(\n",
    "        x=[],\n",
    "        y=[],\n",
    "        opacity=0,\n",
    "        text=weight_list,\n",
    "        mode='markers',\n",
    "        hoverinfo='text',\n",
    "        marker=dict(\n",
    "            opacity=0\n",
    "            )\n",
    "        )\n",
    "    for Edge in Edges:\n",
    "        x0,y0 = networkx_object.nodes[Edge[0]][\"pos_2d\"]\n",
    "        x1,y1 = networkx_object.nodes[Edge[1]][\"pos_2d\"]\n",
    "        middle_node_trace['x'] += tuple([(x0+x1)/2])\n",
    "        middle_node_trace['y'] += tuple([(y0+y1)/2])\n",
    "    edge_trace1 = go.Scatter(\n",
    "        x=[], y=[],\n",
    "        #hoverinfo='none',\n",
    "        mode='lines',\n",
    "        line=dict(width=1,color=\"#000000\"),\n",
    "        )\n",
    "    edge_trace2 = go.Scatter(\n",
    "        x=[],y=[],\n",
    "        #hoverinfo='none',\n",
    "        mode='lines',\n",
    "        line=dict(width=0.7,color=\"#404040\"),\n",
    "        )\n",
    "    edge_trace3 = go.Scatter(\n",
    "        x=[], y=[],\n",
    "        #hoverinfo='none',\n",
    "        mode='lines',\n",
    "        line=dict(width=0.5,color=\"#C0C0C0\"),\n",
    "        )\n",
    "    best_5percent_norm_weight = sorted(list(networkx_object.edges.data(\"norm_weight\")), key=lambda x: x[2], reverse=True)[int((len(networkx_object.edges.data(\"norm_weight\")) / 100) * 5)][2]\n",
    "    best_20percent_norm_weight = sorted(list(networkx_object.edges.data(\"norm_weight\")), key=lambda x: x[2], reverse=True)[int((len(networkx_object.edges.data(\"norm_weight\")) / 100) * 20)][2]\n",
    "    for edge in networkx_object.edges.data():\n",
    "        if edge[2][\"norm_weight\"] >= best_5percent_norm_weight:\n",
    "            x0, y0 = networkx_object.nodes[edge[0]]['pos_2d']\n",
    "            x1, y1 = networkx_object.nodes[edge[1]]['pos_2d']\n",
    "            edge_trace1['x'] += tuple([x0, x1, None])\n",
    "            edge_trace1['y'] += tuple([y0, y1, None])\n",
    "        else:\n",
    "            if edge[2][\"norm_weight\"] >= best_20percent_norm_weight:\n",
    "                x0, y0 = networkx_object.nodes[edge[0]]['pos_2d']\n",
    "                x1, y1 = networkx_object.nodes[edge[1]]['pos_2d']\n",
    "                edge_trace2['x'] += tuple([x0, x1, None])\n",
    "                edge_trace2['y'] += tuple([y0, y1, None])\n",
    "            else:\n",
    "                x0, y0 = networkx_object.nodes[edge[0]]['pos_2d']\n",
    "                x1, y1 = networkx_object.nodes[edge[1]]['pos_2d']\n",
    "                edge_trace3['x'] += tuple([x0, x1, None])\n",
    "                edge_trace3['y'] += tuple([y0, y1, None])\n",
    "\n",
    "    node_trace = go.Scatter(\n",
    "        x=[],\n",
    "        y=[],\n",
    "        #name=[],\n",
    "        text=[],\n",
    "        textposition='bottom center',\n",
    "        mode='markers+text',\n",
    "        hovertext=adjc,\n",
    "        hoverinfo='text',\n",
    "        marker=dict(\n",
    "            ###showscale=True,\n",
    "            showscale=False, ### change to see scale\n",
    "            colorscale='Greys',\n",
    "            reversescale=True,\n",
    "            color=[],\n",
    "            size=7,\n",
    "            colorbar=dict(\n",
    "                thickness=15,\n",
    "                title='degree',\n",
    "                xanchor='left',\n",
    "                titleside='right'\n",
    "                ),\n",
    "            line=dict(width=1)\n",
    "            )\n",
    "        )\n",
    "\n",
    "    for node in networkx_object.nodes():\n",
    "        x, y = networkx_object.nodes[node]['pos_2d']\n",
    "        node_trace['x'] += tuple([x])\n",
    "        node_trace['y'] += tuple([y])\n",
    "        node_trace[\"text\"] += tuple([node])\n",
    "        ### original version: node_trace[\"text\"] += tuple([node])\n",
    "\n",
    "    ### Color Node Points\n",
    "    for node, adjacencies in enumerate(nx.generate_adjlist(networkx_object)):\n",
    "        node_trace['marker']['color'] += tuple([len(adjacencies)])\n",
    "        ###node_info = ' of connections: '+str(len(adjacencies))\n",
    "        ###node_trace['something'].append(node_info)\n",
    "\n",
    "    fig = go.Figure(data=[edge_trace1, edge_trace2, edge_trace3, node_trace, middle_node_trace],\n",
    "        layout=go.Layout(\n",
    "            plot_bgcolor='rgba(0,0,0,0)',\n",
    "            autosize=False,\n",
    "            width=500,\n",
    "            height=500,\n",
    "            #title=file_name,\n",
    "            titlefont=dict(size=16),\n",
    "            showlegend=False,\n",
    "            hovermode='closest',\n",
    "            margin=dict(b=10,l=10,r=10, t=10),\n",
    "            xaxis=dict(showgrid=False, zeroline=False, showticklabels=False),\n",
    "            yaxis=dict(showgrid=False, zeroline=False, showticklabels=False)\n",
    "            ))\n",
    "    return fig"
   ]
  },
  {
   "cell_type": "code",
   "execution_count": 171,
   "metadata": {},
   "outputs": [],
   "source": [
    "#textnet.configure_plotly_browser_state()\n",
    "fig = textnet.draw_2d_network(ego_network, \"G.png\", \"offline\")"
   ]
  },
  {
   "cell_type": "code",
   "execution_count": 172,
   "metadata": {},
   "outputs": [
    {
     "data": {
      "text/plain": [
       "plotly.graph_objs._figure.Figure"
      ]
     },
     "execution_count": 172,
     "metadata": {},
     "output_type": "execute_result"
    }
   ],
   "source": [
    "type(fig)"
   ]
  },
  {
   "cell_type": "code",
   "execution_count": 173,
   "metadata": {},
   "outputs": [
    {
     "data": {
      "text/html": [
       "\n",
       "        <script src=\"/static/components/requirejs/require.js\"></script>\n",
       "        <script>\n",
       "          requirejs.config({\n",
       "            paths: {\n",
       "              base: '/static/base',\n",
       "              plotly: 'https://cdn.plot.ly/plotly-latest.min.js?noext',\n",
       "            },\n",
       "          });\n",
       "        </script>\n",
       "        "
      ],
      "text/plain": [
       "<IPython.core.display.HTML object>"
      ]
     },
     "metadata": {},
     "output_type": "display_data"
    },
    {
     "data": {
      "application/vnd.plotly.v1+json": {
       "config": {
        "plotlyServerURL": "https://plot.ly"
       },
       "data": [
        {
         "line": {
          "color": "#000000",
          "width": 1
         },
         "mode": "lines",
         "type": "scatter",
         "x": [
          -0.5009976881056878,
          0.18755394933618955,
          null,
          0.18755394933618955,
          -0.18753142197881498,
          null
         ],
         "y": [
          0.11564409042564083,
          -0.043300213712759814,
          null,
          -0.043300213712759814,
          -0.5005499109990155,
          null
         ]
        },
        {
         "line": {
          "color": "#404040",
          "width": 0.7
         },
         "mode": "lines",
         "type": "scatter",
         "x": [
          -0.5009976881056878,
          -0.5320642485233245,
          null,
          -0.5009976881056878,
          -0.7274091601653279,
          null,
          0.6065905085831234,
          0.18755394933618955,
          null,
          0.18755394933618955,
          -0.1314426438053459,
          null,
          0.18755394933618955,
          0.7754776704057803,
          null
         ],
         "y": [
          0.11564409042564083,
          0.7541960172124719,
          null,
          0.11564409042564083,
          0.6346979938509524,
          null,
          0.4102609052828458,
          -0.043300213712759814,
          null,
          -0.043300213712759814,
          0.1607357374393866,
          null,
          -0.043300213712759814,
          -0.1785378548843091,
          null
         ]
        },
        {
         "line": {
          "color": "#C0C0C0",
          "width": 0.5
         },
         "mode": "lines",
         "type": "scatter",
         "x": [
          -0.5009976881056878,
          -1,
          null,
          -0.5009976881056878,
          -0.9878620432406038,
          null,
          -0.5009976881056878,
          -0.8889551919819081,
          null,
          -0.5009976881056878,
          -0.9319931588514164,
          null,
          -0.5009976881056878,
          -0.8087959286023488,
          null,
          0.4881221762612807,
          0.18755394933618955,
          null,
          0.7292981173091275,
          0.18755394933618955,
          null,
          0.21016302919663188,
          0.18755394933618955,
          null,
          0.18755394933618955,
          0.4403597781667258,
          null,
          0.18755394933618955,
          0.25366512742055203,
          null,
          0.18755394933618955,
          0.05075190867078157,
          null,
          0.18755394933618955,
          -0.08307974910940569,
          null,
          0.18755394933618955,
          -0.18862125813431382,
          null,
          0.18755394933618955,
          -0.23769146113191533,
          null,
          0.18755394933618955,
          0.04400793463617763,
          null,
          0.18755394933618955,
          0.3525829830984426,
          null,
          0.18755394933618955,
          -0.02545428459591493,
          null,
          0.18755394933618955,
          0.17017549782987085,
          null,
          0.18755394933618955,
          0.36583673346634443,
          null,
          0.18755394933618955,
          0.5549556288225546,
          null,
          0.18755394933618955,
          0.6793434946082766,
          null,
          0.18755394933618955,
          0.5508107400055023,
          null,
          0.18755394933618955,
          0.7722029604089661,
          null
         ],
         "y": [
          0.11564409042564083,
          -0.022530373465028373,
          null,
          0.11564409042564083,
          0.2280279902731168,
          null,
          0.11564409042564083,
          0.45855117491694497,
          null,
          0.11564409042564083,
          -0.25167307047149473,
          null,
          0.11564409042564083,
          -0.4446861786788816,
          null,
          0.19575122993340305,
          -0.043300213712759814,
          null,
          0.23023622289345738,
          -0.043300213712759814,
          null,
          0.3303132835559805,
          -0.043300213712759814,
          null,
          -0.043300213712759814,
          0.51532322574443,
          null,
          -0.043300213712759814,
          0.5786515826028604,
          null,
          -0.043300213712759814,
          0.532019868536031,
          null,
          -0.043300213712759814,
          0.3719393700031673,
          null,
          -0.043300213712759814,
          -0.08699732928910991,
          null,
          -0.043300213712759814,
          -0.2979855462534684,
          null,
          -0.043300213712759814,
          -0.3891000123455767,
          null,
          -0.043300213712759814,
          -0.390296229149321,
          null,
          -0.043300213712759814,
          -0.6313878792055442,
          null,
          -0.043300213712759814,
          -0.6562574719436041,
          null,
          -0.043300213712759814,
          -0.6346102860004187,
          null,
          -0.043300213712759814,
          -0.5261843073299765,
          null,
          -0.043300213712759814,
          -0.36933191372510094,
          null,
          -0.043300213712759814,
          -0.1276553692012744,
          null,
          -0.043300213712759814,
          0.034735253984194706,
          null
         ]
        },
        {
         "hoverinfo": "text",
         "hovertext": [
          "59",
          "6",
          "10",
          "10",
          "9",
          "6",
          "10",
          "10",
          "125",
          "5",
          "10",
          "4",
          "4",
          "6",
          "3",
          "5",
          "6",
          "8",
          "4",
          "6",
          "6",
          "3",
          "7",
          "5",
          "4",
          "5",
          "8",
          "5",
          "4",
          "6",
          "7"
         ],
         "marker": {
          "color": [
           59,
           6,
           10,
           10,
           9,
           6,
           10,
           10,
           125,
           5,
           10,
           4,
           4,
           6,
           3,
           5,
           6,
           8,
           4,
           6,
           6,
           3,
           7,
           5,
           4,
           5,
           8,
           5,
           4,
           6,
           7
          ],
          "colorbar": {
           "thickness": 15,
           "title": {
            "side": "right",
            "text": "degree"
           },
           "xanchor": "left"
          },
          "colorscale": [
           [
            0,
            "rgb(255,255,255)"
           ],
           [
            0.125,
            "rgb(240,240,240)"
           ],
           [
            0.25,
            "rgb(217,217,217)"
           ],
           [
            0.375,
            "rgb(189,189,189)"
           ],
           [
            0.5,
            "rgb(150,150,150)"
           ],
           [
            0.625,
            "rgb(115,115,115)"
           ],
           [
            0.75,
            "rgb(82,82,82)"
           ],
           [
            0.875,
            "rgb(37,37,37)"
           ],
           [
            1,
            "rgb(0,0,0)"
           ]
          ],
          "line": {
           "width": 1
          },
          "reversescale": true,
          "showscale": false,
          "size": 7
         },
         "mode": "markers+text",
         "text": [
          "χριστός",
          "νεκρός",
          "ἔθνος",
          "χάρις",
          "σάρξ",
          "κύριος",
          "εὐαγγέλιον",
          "λόγος",
          "θεός",
          "πατήρ",
          "δικαιοσύνη",
          "υἱός",
          "ἄλλʼ",
          "πνεῦμα",
          "πᾶς",
          "αὐτός",
          "κόσμος",
          "γίγνομαι",
          "εἰμί",
          "ἐγείρω",
          "πίστις",
          "ἔχω",
          "δύναμις",
          "ἅγιος",
          "δόξα",
          "πολύς",
          "ἄνθρωπος",
          "νόμος",
          "οἶδα",
          "δίδωμι",
          "ἀδελφός"
         ],
         "textposition": "bottom center",
         "type": "scatter",
         "x": [
          -0.5009976881056878,
          -1,
          0.4881221762612807,
          0.6065905085831234,
          0.7292981173091275,
          -0.5320642485233245,
          -0.9878620432406038,
          0.21016302919663188,
          0.18755394933618955,
          0.4403597781667258,
          0.25366512742055203,
          0.05075190867078157,
          -0.08307974910940569,
          -0.1314426438053459,
          -0.7274091601653279,
          -0.18862125813431382,
          -0.23769146113191533,
          0.04400793463617763,
          -0.18753142197881498,
          -0.8889551919819081,
          -0.9319931588514164,
          -0.8087959286023488,
          0.3525829830984426,
          -0.02545428459591493,
          0.17017549782987085,
          0.36583673346634443,
          0.5549556288225546,
          0.6793434946082766,
          0.7754776704057803,
          0.5508107400055023,
          0.7722029604089661
         ],
         "y": [
          0.11564409042564083,
          -0.022530373465028373,
          0.19575122993340305,
          0.4102609052828458,
          0.23023622289345738,
          0.7541960172124719,
          0.2280279902731168,
          0.3303132835559805,
          -0.043300213712759814,
          0.51532322574443,
          0.5786515826028604,
          0.532019868536031,
          0.3719393700031673,
          0.1607357374393866,
          0.6346979938509524,
          -0.08699732928910991,
          -0.2979855462534684,
          -0.3891000123455767,
          -0.5005499109990155,
          0.45855117491694497,
          -0.25167307047149473,
          -0.4446861786788816,
          -0.390296229149321,
          -0.6313878792055442,
          -0.6562574719436041,
          -0.6346102860004187,
          -0.5261843073299765,
          -0.36933191372510094,
          -0.1785378548843091,
          -0.1276553692012744,
          0.034735253984194706
         ]
        },
        {
         "hoverinfo": "text",
         "marker": {
          "opacity": 0
         },
         "mode": "markers",
         "opacity": 0,
         "text": [
          "25",
          "53",
          "25",
          "136",
          "69",
          "23",
          "37",
          "26",
          "26",
          "48",
          "30",
          "33",
          "36",
          "26",
          "25",
          "34",
          "50",
          "27",
          "27",
          "46",
          "91",
          "25",
          "30",
          "30",
          "33",
          "39",
          "33",
          "47",
          "28",
          "29"
         ],
         "type": "scatter",
         "x": [
          -0.750498844052844,
          -0.5165309683145061,
          -0.7444298656731458,
          -0.15672186938474914,
          -0.6142034241355079,
          -0.6949764400437979,
          -0.7164954234785521,
          -0.6548968083540183,
          0.33783806279873513,
          0.39707222895965644,
          0.4584260333226585,
          0.1988584892664107,
          0.31395686375145765,
          0.22060953837837077,
          0.11915292900348556,
          0.05223710011339193,
          0.028055652765421824,
          -0.000533654399062139,
          -0.025068755897862893,
          0.11578094198618359,
          1.1263678687284395e-05,
          0.27006846621731606,
          0.08104983237013731,
          0.17886472358303018,
          0.276695341401267,
          0.37125478907937204,
          0.43344872197223305,
          0.4815158098709849,
          0.36918234467084593,
          0.4798784548725778
         ],
         "y": [
          0.04655685848030623,
          0.43492005381905635,
          0.17183604034937883,
          0.03617193835644051,
          0.3751710421382966,
          0.2870976326712929,
          -0.06801449002292695,
          -0.16452104412662039,
          0.07622550811032161,
          0.183480345785043,
          0.09346800459034879,
          0.14350653492161033,
          0.2360115060158351,
          0.2676756844450503,
          0.2443598274116356,
          0.16431957814520373,
          0.05871776186331339,
          -0.06514877150093487,
          -0.17064287998311412,
          -0.21620011302916825,
          -0.27192506235588765,
          -0.2167982214310404,
          -0.337344046459152,
          -0.34977884282818195,
          -0.33895524985658926,
          -0.28474226052136814,
          -0.20631606371893038,
          -0.11091903429853445,
          -0.08547779145701712,
          -0.004282479864282554
         ]
        }
       ],
       "layout": {
        "autosize": false,
        "height": 500,
        "hovermode": "closest",
        "margin": {
         "b": 10,
         "l": 10,
         "r": 10,
         "t": 10
        },
        "plot_bgcolor": "rgba(0,0,0,0)",
        "showlegend": false,
        "template": {
         "data": {
          "bar": [
           {
            "error_x": {
             "color": "#2a3f5f"
            },
            "error_y": {
             "color": "#2a3f5f"
            },
            "marker": {
             "line": {
              "color": "#E5ECF6",
              "width": 0.5
             }
            },
            "type": "bar"
           }
          ],
          "barpolar": [
           {
            "marker": {
             "line": {
              "color": "#E5ECF6",
              "width": 0.5
             }
            },
            "type": "barpolar"
           }
          ],
          "carpet": [
           {
            "aaxis": {
             "endlinecolor": "#2a3f5f",
             "gridcolor": "white",
             "linecolor": "white",
             "minorgridcolor": "white",
             "startlinecolor": "#2a3f5f"
            },
            "baxis": {
             "endlinecolor": "#2a3f5f",
             "gridcolor": "white",
             "linecolor": "white",
             "minorgridcolor": "white",
             "startlinecolor": "#2a3f5f"
            },
            "type": "carpet"
           }
          ],
          "choropleth": [
           {
            "colorbar": {
             "outlinewidth": 0,
             "ticks": ""
            },
            "type": "choropleth"
           }
          ],
          "contour": [
           {
            "colorbar": {
             "outlinewidth": 0,
             "ticks": ""
            },
            "colorscale": [
             [
              0,
              "#0d0887"
             ],
             [
              0.1111111111111111,
              "#46039f"
             ],
             [
              0.2222222222222222,
              "#7201a8"
             ],
             [
              0.3333333333333333,
              "#9c179e"
             ],
             [
              0.4444444444444444,
              "#bd3786"
             ],
             [
              0.5555555555555556,
              "#d8576b"
             ],
             [
              0.6666666666666666,
              "#ed7953"
             ],
             [
              0.7777777777777778,
              "#fb9f3a"
             ],
             [
              0.8888888888888888,
              "#fdca26"
             ],
             [
              1,
              "#f0f921"
             ]
            ],
            "type": "contour"
           }
          ],
          "contourcarpet": [
           {
            "colorbar": {
             "outlinewidth": 0,
             "ticks": ""
            },
            "type": "contourcarpet"
           }
          ],
          "heatmap": [
           {
            "colorbar": {
             "outlinewidth": 0,
             "ticks": ""
            },
            "colorscale": [
             [
              0,
              "#0d0887"
             ],
             [
              0.1111111111111111,
              "#46039f"
             ],
             [
              0.2222222222222222,
              "#7201a8"
             ],
             [
              0.3333333333333333,
              "#9c179e"
             ],
             [
              0.4444444444444444,
              "#bd3786"
             ],
             [
              0.5555555555555556,
              "#d8576b"
             ],
             [
              0.6666666666666666,
              "#ed7953"
             ],
             [
              0.7777777777777778,
              "#fb9f3a"
             ],
             [
              0.8888888888888888,
              "#fdca26"
             ],
             [
              1,
              "#f0f921"
             ]
            ],
            "type": "heatmap"
           }
          ],
          "heatmapgl": [
           {
            "colorbar": {
             "outlinewidth": 0,
             "ticks": ""
            },
            "colorscale": [
             [
              0,
              "#0d0887"
             ],
             [
              0.1111111111111111,
              "#46039f"
             ],
             [
              0.2222222222222222,
              "#7201a8"
             ],
             [
              0.3333333333333333,
              "#9c179e"
             ],
             [
              0.4444444444444444,
              "#bd3786"
             ],
             [
              0.5555555555555556,
              "#d8576b"
             ],
             [
              0.6666666666666666,
              "#ed7953"
             ],
             [
              0.7777777777777778,
              "#fb9f3a"
             ],
             [
              0.8888888888888888,
              "#fdca26"
             ],
             [
              1,
              "#f0f921"
             ]
            ],
            "type": "heatmapgl"
           }
          ],
          "histogram": [
           {
            "marker": {
             "colorbar": {
              "outlinewidth": 0,
              "ticks": ""
             }
            },
            "type": "histogram"
           }
          ],
          "histogram2d": [
           {
            "colorbar": {
             "outlinewidth": 0,
             "ticks": ""
            },
            "colorscale": [
             [
              0,
              "#0d0887"
             ],
             [
              0.1111111111111111,
              "#46039f"
             ],
             [
              0.2222222222222222,
              "#7201a8"
             ],
             [
              0.3333333333333333,
              "#9c179e"
             ],
             [
              0.4444444444444444,
              "#bd3786"
             ],
             [
              0.5555555555555556,
              "#d8576b"
             ],
             [
              0.6666666666666666,
              "#ed7953"
             ],
             [
              0.7777777777777778,
              "#fb9f3a"
             ],
             [
              0.8888888888888888,
              "#fdca26"
             ],
             [
              1,
              "#f0f921"
             ]
            ],
            "type": "histogram2d"
           }
          ],
          "histogram2dcontour": [
           {
            "colorbar": {
             "outlinewidth": 0,
             "ticks": ""
            },
            "colorscale": [
             [
              0,
              "#0d0887"
             ],
             [
              0.1111111111111111,
              "#46039f"
             ],
             [
              0.2222222222222222,
              "#7201a8"
             ],
             [
              0.3333333333333333,
              "#9c179e"
             ],
             [
              0.4444444444444444,
              "#bd3786"
             ],
             [
              0.5555555555555556,
              "#d8576b"
             ],
             [
              0.6666666666666666,
              "#ed7953"
             ],
             [
              0.7777777777777778,
              "#fb9f3a"
             ],
             [
              0.8888888888888888,
              "#fdca26"
             ],
             [
              1,
              "#f0f921"
             ]
            ],
            "type": "histogram2dcontour"
           }
          ],
          "mesh3d": [
           {
            "colorbar": {
             "outlinewidth": 0,
             "ticks": ""
            },
            "type": "mesh3d"
           }
          ],
          "parcoords": [
           {
            "line": {
             "colorbar": {
              "outlinewidth": 0,
              "ticks": ""
             }
            },
            "type": "parcoords"
           }
          ],
          "pie": [
           {
            "automargin": true,
            "type": "pie"
           }
          ],
          "scatter": [
           {
            "marker": {
             "colorbar": {
              "outlinewidth": 0,
              "ticks": ""
             }
            },
            "type": "scatter"
           }
          ],
          "scatter3d": [
           {
            "line": {
             "colorbar": {
              "outlinewidth": 0,
              "ticks": ""
             }
            },
            "marker": {
             "colorbar": {
              "outlinewidth": 0,
              "ticks": ""
             }
            },
            "type": "scatter3d"
           }
          ],
          "scattercarpet": [
           {
            "marker": {
             "colorbar": {
              "outlinewidth": 0,
              "ticks": ""
             }
            },
            "type": "scattercarpet"
           }
          ],
          "scattergeo": [
           {
            "marker": {
             "colorbar": {
              "outlinewidth": 0,
              "ticks": ""
             }
            },
            "type": "scattergeo"
           }
          ],
          "scattergl": [
           {
            "marker": {
             "colorbar": {
              "outlinewidth": 0,
              "ticks": ""
             }
            },
            "type": "scattergl"
           }
          ],
          "scattermapbox": [
           {
            "marker": {
             "colorbar": {
              "outlinewidth": 0,
              "ticks": ""
             }
            },
            "type": "scattermapbox"
           }
          ],
          "scatterpolar": [
           {
            "marker": {
             "colorbar": {
              "outlinewidth": 0,
              "ticks": ""
             }
            },
            "type": "scatterpolar"
           }
          ],
          "scatterpolargl": [
           {
            "marker": {
             "colorbar": {
              "outlinewidth": 0,
              "ticks": ""
             }
            },
            "type": "scatterpolargl"
           }
          ],
          "scatterternary": [
           {
            "marker": {
             "colorbar": {
              "outlinewidth": 0,
              "ticks": ""
             }
            },
            "type": "scatterternary"
           }
          ],
          "surface": [
           {
            "colorbar": {
             "outlinewidth": 0,
             "ticks": ""
            },
            "colorscale": [
             [
              0,
              "#0d0887"
             ],
             [
              0.1111111111111111,
              "#46039f"
             ],
             [
              0.2222222222222222,
              "#7201a8"
             ],
             [
              0.3333333333333333,
              "#9c179e"
             ],
             [
              0.4444444444444444,
              "#bd3786"
             ],
             [
              0.5555555555555556,
              "#d8576b"
             ],
             [
              0.6666666666666666,
              "#ed7953"
             ],
             [
              0.7777777777777778,
              "#fb9f3a"
             ],
             [
              0.8888888888888888,
              "#fdca26"
             ],
             [
              1,
              "#f0f921"
             ]
            ],
            "type": "surface"
           }
          ],
          "table": [
           {
            "cells": {
             "fill": {
              "color": "#EBF0F8"
             },
             "line": {
              "color": "white"
             }
            },
            "header": {
             "fill": {
              "color": "#C8D4E3"
             },
             "line": {
              "color": "white"
             }
            },
            "type": "table"
           }
          ]
         },
         "layout": {
          "annotationdefaults": {
           "arrowcolor": "#2a3f5f",
           "arrowhead": 0,
           "arrowwidth": 1
          },
          "coloraxis": {
           "colorbar": {
            "outlinewidth": 0,
            "ticks": ""
           }
          },
          "colorscale": {
           "diverging": [
            [
             0,
             "#8e0152"
            ],
            [
             0.1,
             "#c51b7d"
            ],
            [
             0.2,
             "#de77ae"
            ],
            [
             0.3,
             "#f1b6da"
            ],
            [
             0.4,
             "#fde0ef"
            ],
            [
             0.5,
             "#f7f7f7"
            ],
            [
             0.6,
             "#e6f5d0"
            ],
            [
             0.7,
             "#b8e186"
            ],
            [
             0.8,
             "#7fbc41"
            ],
            [
             0.9,
             "#4d9221"
            ],
            [
             1,
             "#276419"
            ]
           ],
           "sequential": [
            [
             0,
             "#0d0887"
            ],
            [
             0.1111111111111111,
             "#46039f"
            ],
            [
             0.2222222222222222,
             "#7201a8"
            ],
            [
             0.3333333333333333,
             "#9c179e"
            ],
            [
             0.4444444444444444,
             "#bd3786"
            ],
            [
             0.5555555555555556,
             "#d8576b"
            ],
            [
             0.6666666666666666,
             "#ed7953"
            ],
            [
             0.7777777777777778,
             "#fb9f3a"
            ],
            [
             0.8888888888888888,
             "#fdca26"
            ],
            [
             1,
             "#f0f921"
            ]
           ],
           "sequentialminus": [
            [
             0,
             "#0d0887"
            ],
            [
             0.1111111111111111,
             "#46039f"
            ],
            [
             0.2222222222222222,
             "#7201a8"
            ],
            [
             0.3333333333333333,
             "#9c179e"
            ],
            [
             0.4444444444444444,
             "#bd3786"
            ],
            [
             0.5555555555555556,
             "#d8576b"
            ],
            [
             0.6666666666666666,
             "#ed7953"
            ],
            [
             0.7777777777777778,
             "#fb9f3a"
            ],
            [
             0.8888888888888888,
             "#fdca26"
            ],
            [
             1,
             "#f0f921"
            ]
           ]
          },
          "colorway": [
           "#636efa",
           "#EF553B",
           "#00cc96",
           "#ab63fa",
           "#FFA15A",
           "#19d3f3",
           "#FF6692",
           "#B6E880",
           "#FF97FF",
           "#FECB52"
          ],
          "font": {
           "color": "#2a3f5f"
          },
          "geo": {
           "bgcolor": "white",
           "lakecolor": "white",
           "landcolor": "#E5ECF6",
           "showlakes": true,
           "showland": true,
           "subunitcolor": "white"
          },
          "hoverlabel": {
           "align": "left"
          },
          "hovermode": "closest",
          "mapbox": {
           "style": "light"
          },
          "paper_bgcolor": "white",
          "plot_bgcolor": "#E5ECF6",
          "polar": {
           "angularaxis": {
            "gridcolor": "white",
            "linecolor": "white",
            "ticks": ""
           },
           "bgcolor": "#E5ECF6",
           "radialaxis": {
            "gridcolor": "white",
            "linecolor": "white",
            "ticks": ""
           }
          },
          "scene": {
           "xaxis": {
            "backgroundcolor": "#E5ECF6",
            "gridcolor": "white",
            "gridwidth": 2,
            "linecolor": "white",
            "showbackground": true,
            "ticks": "",
            "zerolinecolor": "white"
           },
           "yaxis": {
            "backgroundcolor": "#E5ECF6",
            "gridcolor": "white",
            "gridwidth": 2,
            "linecolor": "white",
            "showbackground": true,
            "ticks": "",
            "zerolinecolor": "white"
           },
           "zaxis": {
            "backgroundcolor": "#E5ECF6",
            "gridcolor": "white",
            "gridwidth": 2,
            "linecolor": "white",
            "showbackground": true,
            "ticks": "",
            "zerolinecolor": "white"
           }
          },
          "shapedefaults": {
           "line": {
            "color": "#2a3f5f"
           }
          },
          "ternary": {
           "aaxis": {
            "gridcolor": "white",
            "linecolor": "white",
            "ticks": ""
           },
           "baxis": {
            "gridcolor": "white",
            "linecolor": "white",
            "ticks": ""
           },
           "bgcolor": "#E5ECF6",
           "caxis": {
            "gridcolor": "white",
            "linecolor": "white",
            "ticks": ""
           }
          },
          "title": {
           "x": 0.05
          },
          "xaxis": {
           "automargin": true,
           "gridcolor": "white",
           "linecolor": "white",
           "ticks": "",
           "title": {
            "standoff": 15
           },
           "zerolinecolor": "white",
           "zerolinewidth": 2
          },
          "yaxis": {
           "automargin": true,
           "gridcolor": "white",
           "linecolor": "white",
           "ticks": "",
           "title": {
            "standoff": 15
           },
           "zerolinecolor": "white",
           "zerolinewidth": 2
          }
         }
        },
        "title": {
         "font": {
          "size": 16
         }
        },
        "width": 500,
        "xaxis": {
         "showgrid": false,
         "showticklabels": false,
         "zeroline": false
        },
        "yaxis": {
         "showgrid": false,
         "showticklabels": false,
         "zeroline": false
        }
       }
      },
      "text/html": [
       "<div>                            <div id=\"56e0c7ac-beae-4136-be74-e094afea993b\" class=\"plotly-graph-div\" style=\"height:500px; width:500px;\"></div>            <script type=\"text/javascript\">                require([\"plotly\"], function(Plotly) {                    window.PLOTLYENV=window.PLOTLYENV || {};                                    if (document.getElementById(\"56e0c7ac-beae-4136-be74-e094afea993b\")) {                    Plotly.newPlot(                        \"56e0c7ac-beae-4136-be74-e094afea993b\",                        [{\"line\": {\"color\": \"#000000\", \"width\": 1}, \"mode\": \"lines\", \"type\": \"scatter\", \"x\": [-0.5009976881056878, 0.18755394933618955, null, 0.18755394933618955, -0.18753142197881498, null], \"y\": [0.11564409042564083, -0.043300213712759814, null, -0.043300213712759814, -0.5005499109990155, null]}, {\"line\": {\"color\": \"#404040\", \"width\": 0.7}, \"mode\": \"lines\", \"type\": \"scatter\", \"x\": [-0.5009976881056878, -0.5320642485233245, null, -0.5009976881056878, -0.7274091601653279, null, 0.6065905085831234, 0.18755394933618955, null, 0.18755394933618955, -0.1314426438053459, null, 0.18755394933618955, 0.7754776704057803, null], \"y\": [0.11564409042564083, 0.7541960172124719, null, 0.11564409042564083, 0.6346979938509524, null, 0.4102609052828458, -0.043300213712759814, null, -0.043300213712759814, 0.1607357374393866, null, -0.043300213712759814, -0.1785378548843091, null]}, {\"line\": {\"color\": \"#C0C0C0\", \"width\": 0.5}, \"mode\": \"lines\", \"type\": \"scatter\", \"x\": [-0.5009976881056878, -1.0, null, -0.5009976881056878, -0.9878620432406038, null, -0.5009976881056878, -0.8889551919819081, null, -0.5009976881056878, -0.9319931588514164, null, -0.5009976881056878, -0.8087959286023488, null, 0.4881221762612807, 0.18755394933618955, null, 0.7292981173091275, 0.18755394933618955, null, 0.21016302919663188, 0.18755394933618955, null, 0.18755394933618955, 0.4403597781667258, null, 0.18755394933618955, 0.25366512742055203, null, 0.18755394933618955, 0.05075190867078157, null, 0.18755394933618955, -0.08307974910940569, null, 0.18755394933618955, -0.18862125813431382, null, 0.18755394933618955, -0.23769146113191533, null, 0.18755394933618955, 0.04400793463617763, null, 0.18755394933618955, 0.3525829830984426, null, 0.18755394933618955, -0.02545428459591493, null, 0.18755394933618955, 0.17017549782987085, null, 0.18755394933618955, 0.36583673346634443, null, 0.18755394933618955, 0.5549556288225546, null, 0.18755394933618955, 0.6793434946082766, null, 0.18755394933618955, 0.5508107400055023, null, 0.18755394933618955, 0.7722029604089661, null], \"y\": [0.11564409042564083, -0.022530373465028373, null, 0.11564409042564083, 0.2280279902731168, null, 0.11564409042564083, 0.45855117491694497, null, 0.11564409042564083, -0.25167307047149473, null, 0.11564409042564083, -0.4446861786788816, null, 0.19575122993340305, -0.043300213712759814, null, 0.23023622289345738, -0.043300213712759814, null, 0.3303132835559805, -0.043300213712759814, null, -0.043300213712759814, 0.51532322574443, null, -0.043300213712759814, 0.5786515826028604, null, -0.043300213712759814, 0.532019868536031, null, -0.043300213712759814, 0.3719393700031673, null, -0.043300213712759814, -0.08699732928910991, null, -0.043300213712759814, -0.2979855462534684, null, -0.043300213712759814, -0.3891000123455767, null, -0.043300213712759814, -0.390296229149321, null, -0.043300213712759814, -0.6313878792055442, null, -0.043300213712759814, -0.6562574719436041, null, -0.043300213712759814, -0.6346102860004187, null, -0.043300213712759814, -0.5261843073299765, null, -0.043300213712759814, -0.36933191372510094, null, -0.043300213712759814, -0.1276553692012744, null, -0.043300213712759814, 0.034735253984194706, null]}, {\"hoverinfo\": \"text\", \"hovertext\": [\"59\", \"6\", \"10\", \"10\", \"9\", \"6\", \"10\", \"10\", \"125\", \"5\", \"10\", \"4\", \"4\", \"6\", \"3\", \"5\", \"6\", \"8\", \"4\", \"6\", \"6\", \"3\", \"7\", \"5\", \"4\", \"5\", \"8\", \"5\", \"4\", \"6\", \"7\"], \"marker\": {\"color\": [59, 6, 10, 10, 9, 6, 10, 10, 125, 5, 10, 4, 4, 6, 3, 5, 6, 8, 4, 6, 6, 3, 7, 5, 4, 5, 8, 5, 4, 6, 7], \"colorbar\": {\"thickness\": 15, \"title\": {\"side\": \"right\", \"text\": \"degree\"}, \"xanchor\": \"left\"}, \"colorscale\": [[0.0, \"rgb(255,255,255)\"], [0.125, \"rgb(240,240,240)\"], [0.25, \"rgb(217,217,217)\"], [0.375, \"rgb(189,189,189)\"], [0.5, \"rgb(150,150,150)\"], [0.625, \"rgb(115,115,115)\"], [0.75, \"rgb(82,82,82)\"], [0.875, \"rgb(37,37,37)\"], [1.0, \"rgb(0,0,0)\"]], \"line\": {\"width\": 1}, \"reversescale\": true, \"showscale\": false, \"size\": 7}, \"mode\": \"markers+text\", \"text\": [\"\\u03c7\\u03c1\\u03b9\\u03c3\\u03c4\\u03cc\\u03c2\", \"\\u03bd\\u03b5\\u03ba\\u03c1\\u03cc\\u03c2\", \"\\u1f14\\u03b8\\u03bd\\u03bf\\u03c2\", \"\\u03c7\\u03ac\\u03c1\\u03b9\\u03c2\", \"\\u03c3\\u03ac\\u03c1\\u03be\", \"\\u03ba\\u03cd\\u03c1\\u03b9\\u03bf\\u03c2\", \"\\u03b5\\u1f50\\u03b1\\u03b3\\u03b3\\u03ad\\u03bb\\u03b9\\u03bf\\u03bd\", \"\\u03bb\\u03cc\\u03b3\\u03bf\\u03c2\", \"\\u03b8\\u03b5\\u03cc\\u03c2\", \"\\u03c0\\u03b1\\u03c4\\u03ae\\u03c1\", \"\\u03b4\\u03b9\\u03ba\\u03b1\\u03b9\\u03bf\\u03c3\\u03cd\\u03bd\\u03b7\", \"\\u03c5\\u1f31\\u03cc\\u03c2\", \"\\u1f04\\u03bb\\u03bb\\u02bc\", \"\\u03c0\\u03bd\\u03b5\\u1fe6\\u03bc\\u03b1\", \"\\u03c0\\u1fb6\\u03c2\", \"\\u03b1\\u1f50\\u03c4\\u03cc\\u03c2\", \"\\u03ba\\u03cc\\u03c3\\u03bc\\u03bf\\u03c2\", \"\\u03b3\\u03af\\u03b3\\u03bd\\u03bf\\u03bc\\u03b1\\u03b9\", \"\\u03b5\\u1f30\\u03bc\\u03af\", \"\\u1f10\\u03b3\\u03b5\\u03af\\u03c1\\u03c9\", \"\\u03c0\\u03af\\u03c3\\u03c4\\u03b9\\u03c2\", \"\\u1f14\\u03c7\\u03c9\", \"\\u03b4\\u03cd\\u03bd\\u03b1\\u03bc\\u03b9\\u03c2\", \"\\u1f05\\u03b3\\u03b9\\u03bf\\u03c2\", \"\\u03b4\\u03cc\\u03be\\u03b1\", \"\\u03c0\\u03bf\\u03bb\\u03cd\\u03c2\", \"\\u1f04\\u03bd\\u03b8\\u03c1\\u03c9\\u03c0\\u03bf\\u03c2\", \"\\u03bd\\u03cc\\u03bc\\u03bf\\u03c2\", \"\\u03bf\\u1f36\\u03b4\\u03b1\", \"\\u03b4\\u03af\\u03b4\\u03c9\\u03bc\\u03b9\", \"\\u1f00\\u03b4\\u03b5\\u03bb\\u03c6\\u03cc\\u03c2\"], \"textposition\": \"bottom center\", \"type\": \"scatter\", \"x\": [-0.5009976881056878, -1.0, 0.4881221762612807, 0.6065905085831234, 0.7292981173091275, -0.5320642485233245, -0.9878620432406038, 0.21016302919663188, 0.18755394933618955, 0.4403597781667258, 0.25366512742055203, 0.05075190867078157, -0.08307974910940569, -0.1314426438053459, -0.7274091601653279, -0.18862125813431382, -0.23769146113191533, 0.04400793463617763, -0.18753142197881498, -0.8889551919819081, -0.9319931588514164, -0.8087959286023488, 0.3525829830984426, -0.02545428459591493, 0.17017549782987085, 0.36583673346634443, 0.5549556288225546, 0.6793434946082766, 0.7754776704057803, 0.5508107400055023, 0.7722029604089661], \"y\": [0.11564409042564083, -0.022530373465028373, 0.19575122993340305, 0.4102609052828458, 0.23023622289345738, 0.7541960172124719, 0.2280279902731168, 0.3303132835559805, -0.043300213712759814, 0.51532322574443, 0.5786515826028604, 0.532019868536031, 0.3719393700031673, 0.1607357374393866, 0.6346979938509524, -0.08699732928910991, -0.2979855462534684, -0.3891000123455767, -0.5005499109990155, 0.45855117491694497, -0.25167307047149473, -0.4446861786788816, -0.390296229149321, -0.6313878792055442, -0.6562574719436041, -0.6346102860004187, -0.5261843073299765, -0.36933191372510094, -0.1785378548843091, -0.1276553692012744, 0.034735253984194706]}, {\"hoverinfo\": \"text\", \"marker\": {\"opacity\": 0}, \"mode\": \"markers\", \"opacity\": 0, \"text\": [\"25\", \"53\", \"25\", \"136\", \"69\", \"23\", \"37\", \"26\", \"26\", \"48\", \"30\", \"33\", \"36\", \"26\", \"25\", \"34\", \"50\", \"27\", \"27\", \"46\", \"91\", \"25\", \"30\", \"30\", \"33\", \"39\", \"33\", \"47\", \"28\", \"29\"], \"type\": \"scatter\", \"x\": [-0.750498844052844, -0.5165309683145061, -0.7444298656731458, -0.15672186938474914, -0.6142034241355079, -0.6949764400437979, -0.7164954234785521, -0.6548968083540183, 0.33783806279873513, 0.39707222895965644, 0.4584260333226585, 0.1988584892664107, 0.31395686375145765, 0.22060953837837077, 0.11915292900348556, 0.05223710011339193, 0.028055652765421824, -0.000533654399062139, -0.025068755897862893, 0.11578094198618359, 1.1263678687284395e-05, 0.27006846621731606, 0.08104983237013731, 0.17886472358303018, 0.276695341401267, 0.37125478907937204, 0.43344872197223305, 0.4815158098709849, 0.36918234467084593, 0.4798784548725778], \"y\": [0.04655685848030623, 0.43492005381905635, 0.17183604034937883, 0.03617193835644051, 0.3751710421382966, 0.2870976326712929, -0.06801449002292695, -0.16452104412662039, 0.07622550811032161, 0.183480345785043, 0.09346800459034879, 0.14350653492161033, 0.2360115060158351, 0.2676756844450503, 0.2443598274116356, 0.16431957814520373, 0.05871776186331339, -0.06514877150093487, -0.17064287998311412, -0.21620011302916825, -0.27192506235588765, -0.2167982214310404, -0.337344046459152, -0.34977884282818195, -0.33895524985658926, -0.28474226052136814, -0.20631606371893038, -0.11091903429853445, -0.08547779145701712, -0.004282479864282554]}],                        {\"autosize\": false, \"height\": 500, \"hovermode\": \"closest\", \"margin\": {\"b\": 10, \"l\": 10, \"r\": 10, \"t\": 10}, \"plot_bgcolor\": \"rgba(0,0,0,0)\", \"showlegend\": false, \"template\": {\"data\": {\"bar\": [{\"error_x\": {\"color\": \"#2a3f5f\"}, \"error_y\": {\"color\": \"#2a3f5f\"}, \"marker\": {\"line\": {\"color\": \"#E5ECF6\", \"width\": 0.5}}, \"type\": \"bar\"}], \"barpolar\": [{\"marker\": {\"line\": {\"color\": \"#E5ECF6\", \"width\": 0.5}}, \"type\": \"barpolar\"}], \"carpet\": [{\"aaxis\": {\"endlinecolor\": \"#2a3f5f\", \"gridcolor\": \"white\", \"linecolor\": \"white\", \"minorgridcolor\": \"white\", \"startlinecolor\": \"#2a3f5f\"}, \"baxis\": {\"endlinecolor\": \"#2a3f5f\", \"gridcolor\": \"white\", \"linecolor\": \"white\", \"minorgridcolor\": \"white\", \"startlinecolor\": \"#2a3f5f\"}, \"type\": \"carpet\"}], \"choropleth\": [{\"colorbar\": {\"outlinewidth\": 0, \"ticks\": \"\"}, \"type\": \"choropleth\"}], \"contour\": [{\"colorbar\": {\"outlinewidth\": 0, \"ticks\": \"\"}, \"colorscale\": [[0.0, \"#0d0887\"], [0.1111111111111111, \"#46039f\"], [0.2222222222222222, \"#7201a8\"], [0.3333333333333333, \"#9c179e\"], [0.4444444444444444, \"#bd3786\"], [0.5555555555555556, \"#d8576b\"], [0.6666666666666666, \"#ed7953\"], [0.7777777777777778, \"#fb9f3a\"], [0.8888888888888888, \"#fdca26\"], [1.0, \"#f0f921\"]], \"type\": \"contour\"}], \"contourcarpet\": [{\"colorbar\": {\"outlinewidth\": 0, \"ticks\": \"\"}, \"type\": \"contourcarpet\"}], \"heatmap\": [{\"colorbar\": {\"outlinewidth\": 0, \"ticks\": \"\"}, \"colorscale\": [[0.0, \"#0d0887\"], [0.1111111111111111, \"#46039f\"], [0.2222222222222222, \"#7201a8\"], [0.3333333333333333, \"#9c179e\"], [0.4444444444444444, \"#bd3786\"], [0.5555555555555556, \"#d8576b\"], [0.6666666666666666, \"#ed7953\"], [0.7777777777777778, \"#fb9f3a\"], [0.8888888888888888, \"#fdca26\"], [1.0, \"#f0f921\"]], \"type\": \"heatmap\"}], \"heatmapgl\": [{\"colorbar\": {\"outlinewidth\": 0, \"ticks\": \"\"}, \"colorscale\": [[0.0, \"#0d0887\"], [0.1111111111111111, \"#46039f\"], [0.2222222222222222, \"#7201a8\"], [0.3333333333333333, \"#9c179e\"], [0.4444444444444444, \"#bd3786\"], [0.5555555555555556, \"#d8576b\"], [0.6666666666666666, \"#ed7953\"], [0.7777777777777778, \"#fb9f3a\"], [0.8888888888888888, \"#fdca26\"], [1.0, \"#f0f921\"]], \"type\": \"heatmapgl\"}], \"histogram\": [{\"marker\": {\"colorbar\": {\"outlinewidth\": 0, \"ticks\": \"\"}}, \"type\": \"histogram\"}], \"histogram2d\": [{\"colorbar\": {\"outlinewidth\": 0, \"ticks\": \"\"}, \"colorscale\": [[0.0, \"#0d0887\"], [0.1111111111111111, \"#46039f\"], [0.2222222222222222, \"#7201a8\"], [0.3333333333333333, \"#9c179e\"], [0.4444444444444444, \"#bd3786\"], [0.5555555555555556, \"#d8576b\"], [0.6666666666666666, \"#ed7953\"], [0.7777777777777778, \"#fb9f3a\"], [0.8888888888888888, \"#fdca26\"], [1.0, \"#f0f921\"]], \"type\": \"histogram2d\"}], \"histogram2dcontour\": [{\"colorbar\": {\"outlinewidth\": 0, \"ticks\": \"\"}, \"colorscale\": [[0.0, \"#0d0887\"], [0.1111111111111111, \"#46039f\"], [0.2222222222222222, \"#7201a8\"], [0.3333333333333333, \"#9c179e\"], [0.4444444444444444, \"#bd3786\"], [0.5555555555555556, \"#d8576b\"], [0.6666666666666666, \"#ed7953\"], [0.7777777777777778, \"#fb9f3a\"], [0.8888888888888888, \"#fdca26\"], [1.0, \"#f0f921\"]], \"type\": \"histogram2dcontour\"}], \"mesh3d\": [{\"colorbar\": {\"outlinewidth\": 0, \"ticks\": \"\"}, \"type\": \"mesh3d\"}], \"parcoords\": [{\"line\": {\"colorbar\": {\"outlinewidth\": 0, \"ticks\": \"\"}}, \"type\": \"parcoords\"}], \"pie\": [{\"automargin\": true, \"type\": \"pie\"}], \"scatter\": [{\"marker\": {\"colorbar\": {\"outlinewidth\": 0, \"ticks\": \"\"}}, \"type\": \"scatter\"}], \"scatter3d\": [{\"line\": {\"colorbar\": {\"outlinewidth\": 0, \"ticks\": \"\"}}, \"marker\": {\"colorbar\": {\"outlinewidth\": 0, \"ticks\": \"\"}}, \"type\": \"scatter3d\"}], \"scattercarpet\": [{\"marker\": {\"colorbar\": {\"outlinewidth\": 0, \"ticks\": \"\"}}, \"type\": \"scattercarpet\"}], \"scattergeo\": [{\"marker\": {\"colorbar\": {\"outlinewidth\": 0, \"ticks\": \"\"}}, \"type\": \"scattergeo\"}], \"scattergl\": [{\"marker\": {\"colorbar\": {\"outlinewidth\": 0, \"ticks\": \"\"}}, \"type\": \"scattergl\"}], \"scattermapbox\": [{\"marker\": {\"colorbar\": {\"outlinewidth\": 0, \"ticks\": \"\"}}, \"type\": \"scattermapbox\"}], \"scatterpolar\": [{\"marker\": {\"colorbar\": {\"outlinewidth\": 0, \"ticks\": \"\"}}, \"type\": \"scatterpolar\"}], \"scatterpolargl\": [{\"marker\": {\"colorbar\": {\"outlinewidth\": 0, \"ticks\": \"\"}}, \"type\": \"scatterpolargl\"}], \"scatterternary\": [{\"marker\": {\"colorbar\": {\"outlinewidth\": 0, \"ticks\": \"\"}}, \"type\": \"scatterternary\"}], \"surface\": [{\"colorbar\": {\"outlinewidth\": 0, \"ticks\": \"\"}, \"colorscale\": [[0.0, \"#0d0887\"], [0.1111111111111111, \"#46039f\"], [0.2222222222222222, \"#7201a8\"], [0.3333333333333333, \"#9c179e\"], [0.4444444444444444, \"#bd3786\"], [0.5555555555555556, \"#d8576b\"], [0.6666666666666666, \"#ed7953\"], [0.7777777777777778, \"#fb9f3a\"], [0.8888888888888888, \"#fdca26\"], [1.0, \"#f0f921\"]], \"type\": \"surface\"}], \"table\": [{\"cells\": {\"fill\": {\"color\": \"#EBF0F8\"}, \"line\": {\"color\": \"white\"}}, \"header\": {\"fill\": {\"color\": \"#C8D4E3\"}, \"line\": {\"color\": \"white\"}}, \"type\": \"table\"}]}, \"layout\": {\"annotationdefaults\": {\"arrowcolor\": \"#2a3f5f\", \"arrowhead\": 0, \"arrowwidth\": 1}, \"coloraxis\": {\"colorbar\": {\"outlinewidth\": 0, \"ticks\": \"\"}}, \"colorscale\": {\"diverging\": [[0, \"#8e0152\"], [0.1, \"#c51b7d\"], [0.2, \"#de77ae\"], [0.3, \"#f1b6da\"], [0.4, \"#fde0ef\"], [0.5, \"#f7f7f7\"], [0.6, \"#e6f5d0\"], [0.7, \"#b8e186\"], [0.8, \"#7fbc41\"], [0.9, \"#4d9221\"], [1, \"#276419\"]], \"sequential\": [[0.0, \"#0d0887\"], [0.1111111111111111, \"#46039f\"], [0.2222222222222222, \"#7201a8\"], [0.3333333333333333, \"#9c179e\"], [0.4444444444444444, \"#bd3786\"], [0.5555555555555556, \"#d8576b\"], [0.6666666666666666, \"#ed7953\"], [0.7777777777777778, \"#fb9f3a\"], [0.8888888888888888, \"#fdca26\"], [1.0, \"#f0f921\"]], \"sequentialminus\": [[0.0, \"#0d0887\"], [0.1111111111111111, \"#46039f\"], [0.2222222222222222, \"#7201a8\"], [0.3333333333333333, \"#9c179e\"], [0.4444444444444444, \"#bd3786\"], [0.5555555555555556, \"#d8576b\"], [0.6666666666666666, \"#ed7953\"], [0.7777777777777778, \"#fb9f3a\"], [0.8888888888888888, \"#fdca26\"], [1.0, \"#f0f921\"]]}, \"colorway\": [\"#636efa\", \"#EF553B\", \"#00cc96\", \"#ab63fa\", \"#FFA15A\", \"#19d3f3\", \"#FF6692\", \"#B6E880\", \"#FF97FF\", \"#FECB52\"], \"font\": {\"color\": \"#2a3f5f\"}, \"geo\": {\"bgcolor\": \"white\", \"lakecolor\": \"white\", \"landcolor\": \"#E5ECF6\", \"showlakes\": true, \"showland\": true, \"subunitcolor\": \"white\"}, \"hoverlabel\": {\"align\": \"left\"}, \"hovermode\": \"closest\", \"mapbox\": {\"style\": \"light\"}, \"paper_bgcolor\": \"white\", \"plot_bgcolor\": \"#E5ECF6\", \"polar\": {\"angularaxis\": {\"gridcolor\": \"white\", \"linecolor\": \"white\", \"ticks\": \"\"}, \"bgcolor\": \"#E5ECF6\", \"radialaxis\": {\"gridcolor\": \"white\", \"linecolor\": \"white\", \"ticks\": \"\"}}, \"scene\": {\"xaxis\": {\"backgroundcolor\": \"#E5ECF6\", \"gridcolor\": \"white\", \"gridwidth\": 2, \"linecolor\": \"white\", \"showbackground\": true, \"ticks\": \"\", \"zerolinecolor\": \"white\"}, \"yaxis\": {\"backgroundcolor\": \"#E5ECF6\", \"gridcolor\": \"white\", \"gridwidth\": 2, \"linecolor\": \"white\", \"showbackground\": true, \"ticks\": \"\", \"zerolinecolor\": \"white\"}, \"zaxis\": {\"backgroundcolor\": \"#E5ECF6\", \"gridcolor\": \"white\", \"gridwidth\": 2, \"linecolor\": \"white\", \"showbackground\": true, \"ticks\": \"\", \"zerolinecolor\": \"white\"}}, \"shapedefaults\": {\"line\": {\"color\": \"#2a3f5f\"}}, \"ternary\": {\"aaxis\": {\"gridcolor\": \"white\", \"linecolor\": \"white\", \"ticks\": \"\"}, \"baxis\": {\"gridcolor\": \"white\", \"linecolor\": \"white\", \"ticks\": \"\"}, \"bgcolor\": \"#E5ECF6\", \"caxis\": {\"gridcolor\": \"white\", \"linecolor\": \"white\", \"ticks\": \"\"}}, \"title\": {\"x\": 0.05}, \"xaxis\": {\"automargin\": true, \"gridcolor\": \"white\", \"linecolor\": \"white\", \"ticks\": \"\", \"title\": {\"standoff\": 15}, \"zerolinecolor\": \"white\", \"zerolinewidth\": 2}, \"yaxis\": {\"automargin\": true, \"gridcolor\": \"white\", \"linecolor\": \"white\", \"ticks\": \"\", \"title\": {\"standoff\": 15}, \"zerolinecolor\": \"white\", \"zerolinewidth\": 2}}}, \"title\": {\"font\": {\"size\": 16}}, \"width\": 500, \"xaxis\": {\"showgrid\": false, \"showticklabels\": false, \"zeroline\": false}, \"yaxis\": {\"showgrid\": false, \"showticklabels\": false, \"zeroline\": false}},                        {\"responsive\": true}                    ).then(function(){\n",
       "                            \n",
       "var gd = document.getElementById('56e0c7ac-beae-4136-be74-e094afea993b');\n",
       "var x = new MutationObserver(function (mutations, observer) {{\n",
       "        var display = window.getComputedStyle(gd).display;\n",
       "        if (!display || display === 'none') {{\n",
       "            console.log([gd, 'removed!']);\n",
       "            Plotly.purge(gd);\n",
       "            observer.disconnect();\n",
       "        }}\n",
       "}});\n",
       "\n",
       "// Listen for the removal of the full notebook cells\n",
       "var notebookContainer = gd.closest('#notebook-container');\n",
       "if (notebookContainer) {{\n",
       "    x.observe(notebookContainer, {childList: true});\n",
       "}}\n",
       "\n",
       "// Listen for the clearing of the current output cell\n",
       "var outputEl = gd.closest('.output');\n",
       "if (outputEl) {{\n",
       "    x.observe(outputEl, {childList: true});\n",
       "}}\n",
       "\n",
       "                        })                };                });            </script>        </div>"
      ]
     },
     "metadata": {},
     "output_type": "display_data"
    }
   ],
   "source": [
    "textnet.configure_plotly_browser_state()\n",
    "fig"
   ]
  },
  {
   "cell_type": "code",
   "execution_count": 126,
   "metadata": {},
   "outputs": [
    {
     "data": {
      "text/html": [
       "\n",
       "        <script src=\"/static/components/requirejs/require.js\"></script>\n",
       "        <script>\n",
       "          requirejs.config({\n",
       "            paths: {\n",
       "              base: '/static/base',\n",
       "              plotly: 'https://cdn.plot.ly/plotly-latest.min.js?noext',\n",
       "            },\n",
       "          });\n",
       "        </script>\n",
       "        "
      ],
      "text/plain": [
       "<IPython.core.display.HTML object>"
      ]
     },
     "metadata": {},
     "output_type": "display_data"
    },
    {
     "ename": "KeyboardInterrupt",
     "evalue": "",
     "output_type": "error",
     "traceback": [
      "\u001b[0;31m---------------------------------------------------------------------------\u001b[0m",
      "\u001b[0;31mKeyboardInterrupt\u001b[0m                         Traceback (most recent call last)",
      "\u001b[0;32m<ipython-input-126-553f9b984870>\u001b[0m in \u001b[0;36m<module>\u001b[0;34m\u001b[0m\n\u001b[1;32m      1\u001b[0m \u001b[0mtextnet\u001b[0m\u001b[0;34m.\u001b[0m\u001b[0mconfigure_plotly_browser_state\u001b[0m\u001b[0;34m(\u001b[0m\u001b[0;34m)\u001b[0m\u001b[0;34m\u001b[0m\u001b[0;34m\u001b[0m\u001b[0m\n\u001b[0;32m----> 2\u001b[0;31m \u001b[0mfig\u001b[0m \u001b[0;34m=\u001b[0m \u001b[0mtextnet\u001b[0m\u001b[0;34m.\u001b[0m\u001b[0mdraw_2d_network\u001b[0m\u001b[0;34m(\u001b[0m\u001b[0mG\u001b[0m\u001b[0;34m,\u001b[0m \u001b[0;34m\"G.png\"\u001b[0m\u001b[0;34m,\u001b[0m \u001b[0;34m\"offline\"\u001b[0m\u001b[0;34m)\u001b[0m\u001b[0;34m\u001b[0m\u001b[0;34m\u001b[0m\u001b[0m\n\u001b[0m",
      "\u001b[0;32m~/scripts/textnet.py\u001b[0m in \u001b[0;36mdraw_2d_network\u001b[0;34m(networkx_object, file_name, mode)\u001b[0m\n\u001b[1;32m    125\u001b[0m \u001b[0;32mdef\u001b[0m \u001b[0mdraw_2d_network\u001b[0m\u001b[0;34m(\u001b[0m\u001b[0mnetworkx_object\u001b[0m\u001b[0;34m,\u001b[0m \u001b[0mfile_name\u001b[0m\u001b[0;34m,\u001b[0m \u001b[0mmode\u001b[0m\u001b[0;34m)\u001b[0m\u001b[0;34m:\u001b[0m\u001b[0;34m\u001b[0m\u001b[0;34m\u001b[0m\u001b[0m\n\u001b[1;32m    126\u001b[0m     \u001b[0;34m'''take networkX object and draw it'''\u001b[0m\u001b[0;34m\u001b[0m\u001b[0;34m\u001b[0m\u001b[0m\n\u001b[0;32m--> 127\u001b[0;31m     \u001b[0mpos_2d\u001b[0m\u001b[0;34m=\u001b[0m\u001b[0mnx\u001b[0m\u001b[0;34m.\u001b[0m\u001b[0mkamada_kawai_layout\u001b[0m\u001b[0;34m(\u001b[0m\u001b[0mnetworkx_object\u001b[0m\u001b[0;34m,\u001b[0m \u001b[0mweight\u001b[0m\u001b[0;34m=\u001b[0m\u001b[0;34m\"weight_norm\"\u001b[0m\u001b[0;34m)\u001b[0m\u001b[0;34m\u001b[0m\u001b[0;34m\u001b[0m\u001b[0m\n\u001b[0m\u001b[1;32m    128\u001b[0m     \u001b[0mnx\u001b[0m\u001b[0;34m.\u001b[0m\u001b[0mset_node_attributes\u001b[0m\u001b[0;34m(\u001b[0m\u001b[0mnetworkx_object\u001b[0m\u001b[0;34m,\u001b[0m \u001b[0mpos_2d\u001b[0m\u001b[0;34m,\u001b[0m \u001b[0;34m\"pos_2d\"\u001b[0m\u001b[0;34m)\u001b[0m\u001b[0;34m\u001b[0m\u001b[0;34m\u001b[0m\u001b[0m\n\u001b[1;32m    129\u001b[0m     \u001b[0mdmin\u001b[0m\u001b[0;34m=\u001b[0m\u001b[0;36m1\u001b[0m\u001b[0;34m\u001b[0m\u001b[0;34m\u001b[0m\u001b[0m\n",
      "\u001b[0;32m/srv/conda/envs/notebook/lib/python3.7/site-packages/networkx/drawing/layout.py\u001b[0m in \u001b[0;36mkamada_kawai_layout\u001b[0;34m(G, dist, pos, weight, scale, center, dim)\u001b[0m\n\u001b[1;32m    702\u001b[0m \u001b[0;34m\u001b[0m\u001b[0m\n\u001b[1;32m    703\u001b[0m     \u001b[0;32mif\u001b[0m \u001b[0mdist\u001b[0m \u001b[0;32mis\u001b[0m \u001b[0;32mNone\u001b[0m\u001b[0;34m:\u001b[0m\u001b[0;34m\u001b[0m\u001b[0;34m\u001b[0m\u001b[0m\n\u001b[0;32m--> 704\u001b[0;31m         \u001b[0mdist\u001b[0m \u001b[0;34m=\u001b[0m \u001b[0mdict\u001b[0m\u001b[0;34m(\u001b[0m\u001b[0mnx\u001b[0m\u001b[0;34m.\u001b[0m\u001b[0mshortest_path_length\u001b[0m\u001b[0;34m(\u001b[0m\u001b[0mG\u001b[0m\u001b[0;34m,\u001b[0m \u001b[0mweight\u001b[0m\u001b[0;34m=\u001b[0m\u001b[0mweight\u001b[0m\u001b[0;34m)\u001b[0m\u001b[0;34m)\u001b[0m\u001b[0;34m\u001b[0m\u001b[0;34m\u001b[0m\u001b[0m\n\u001b[0m\u001b[1;32m    705\u001b[0m     \u001b[0mdist_mtx\u001b[0m \u001b[0;34m=\u001b[0m \u001b[0;36m1e6\u001b[0m \u001b[0;34m*\u001b[0m \u001b[0mnp\u001b[0m\u001b[0;34m.\u001b[0m\u001b[0mones\u001b[0m\u001b[0;34m(\u001b[0m\u001b[0;34m(\u001b[0m\u001b[0mnNodes\u001b[0m\u001b[0;34m,\u001b[0m \u001b[0mnNodes\u001b[0m\u001b[0;34m)\u001b[0m\u001b[0;34m)\u001b[0m\u001b[0;34m\u001b[0m\u001b[0;34m\u001b[0m\u001b[0m\n\u001b[1;32m    706\u001b[0m     \u001b[0;32mfor\u001b[0m \u001b[0mrow\u001b[0m\u001b[0;34m,\u001b[0m \u001b[0mnr\u001b[0m \u001b[0;32min\u001b[0m \u001b[0menumerate\u001b[0m\u001b[0;34m(\u001b[0m\u001b[0mG\u001b[0m\u001b[0;34m)\u001b[0m\u001b[0;34m:\u001b[0m\u001b[0;34m\u001b[0m\u001b[0;34m\u001b[0m\u001b[0m\n",
      "\u001b[0;32m/srv/conda/envs/notebook/lib/python3.7/site-packages/networkx/algorithms/shortest_paths/weighted.py\u001b[0m in \u001b[0;36mall_pairs_dijkstra_path_length\u001b[0;34m(G, cutoff, weight)\u001b[0m\n\u001b[1;32m   1041\u001b[0m     \u001b[0mlength\u001b[0m \u001b[0;34m=\u001b[0m \u001b[0msingle_source_dijkstra_path_length\u001b[0m\u001b[0;34m\u001b[0m\u001b[0;34m\u001b[0m\u001b[0m\n\u001b[1;32m   1042\u001b[0m     \u001b[0;32mfor\u001b[0m \u001b[0mn\u001b[0m \u001b[0;32min\u001b[0m \u001b[0mG\u001b[0m\u001b[0;34m:\u001b[0m\u001b[0;34m\u001b[0m\u001b[0;34m\u001b[0m\u001b[0m\n\u001b[0;32m-> 1043\u001b[0;31m         \u001b[0;32myield\u001b[0m \u001b[0;34m(\u001b[0m\u001b[0mn\u001b[0m\u001b[0;34m,\u001b[0m \u001b[0mlength\u001b[0m\u001b[0;34m(\u001b[0m\u001b[0mG\u001b[0m\u001b[0;34m,\u001b[0m \u001b[0mn\u001b[0m\u001b[0;34m,\u001b[0m \u001b[0mcutoff\u001b[0m\u001b[0;34m=\u001b[0m\u001b[0mcutoff\u001b[0m\u001b[0;34m,\u001b[0m \u001b[0mweight\u001b[0m\u001b[0;34m=\u001b[0m\u001b[0mweight\u001b[0m\u001b[0;34m)\u001b[0m\u001b[0;34m)\u001b[0m\u001b[0;34m\u001b[0m\u001b[0;34m\u001b[0m\u001b[0m\n\u001b[0m\u001b[1;32m   1044\u001b[0m \u001b[0;34m\u001b[0m\u001b[0m\n\u001b[1;32m   1045\u001b[0m \u001b[0;34m\u001b[0m\u001b[0m\n",
      "\u001b[0;32m/srv/conda/envs/notebook/lib/python3.7/site-packages/networkx/algorithms/shortest_paths/weighted.py\u001b[0m in \u001b[0;36msingle_source_dijkstra_path_length\u001b[0;34m(G, source, cutoff, weight)\u001b[0m\n\u001b[1;32m    365\u001b[0m \u001b[0;34m\u001b[0m\u001b[0m\n\u001b[1;32m    366\u001b[0m     \"\"\"\n\u001b[0;32m--> 367\u001b[0;31m     \u001b[0;32mreturn\u001b[0m \u001b[0mmulti_source_dijkstra_path_length\u001b[0m\u001b[0;34m(\u001b[0m\u001b[0mG\u001b[0m\u001b[0;34m,\u001b[0m \u001b[0;34m{\u001b[0m\u001b[0msource\u001b[0m\u001b[0;34m}\u001b[0m\u001b[0;34m,\u001b[0m \u001b[0mcutoff\u001b[0m\u001b[0;34m=\u001b[0m\u001b[0mcutoff\u001b[0m\u001b[0;34m,\u001b[0m \u001b[0mweight\u001b[0m\u001b[0;34m=\u001b[0m\u001b[0mweight\u001b[0m\u001b[0;34m)\u001b[0m\u001b[0;34m\u001b[0m\u001b[0;34m\u001b[0m\u001b[0m\n\u001b[0m\u001b[1;32m    368\u001b[0m \u001b[0;34m\u001b[0m\u001b[0m\n\u001b[1;32m    369\u001b[0m \u001b[0;34m\u001b[0m\u001b[0m\n",
      "\u001b[0;32m/srv/conda/envs/notebook/lib/python3.7/site-packages/networkx/algorithms/shortest_paths/weighted.py\u001b[0m in \u001b[0;36mmulti_source_dijkstra_path_length\u001b[0;34m(G, sources, cutoff, weight)\u001b[0m\n\u001b[1;32m    613\u001b[0m         \u001b[0;32mraise\u001b[0m \u001b[0mValueError\u001b[0m\u001b[0;34m(\u001b[0m\u001b[0;34m\"sources must not be empty\"\u001b[0m\u001b[0;34m)\u001b[0m\u001b[0;34m\u001b[0m\u001b[0;34m\u001b[0m\u001b[0m\n\u001b[1;32m    614\u001b[0m     \u001b[0mweight\u001b[0m \u001b[0;34m=\u001b[0m \u001b[0m_weight_function\u001b[0m\u001b[0;34m(\u001b[0m\u001b[0mG\u001b[0m\u001b[0;34m,\u001b[0m \u001b[0mweight\u001b[0m\u001b[0;34m)\u001b[0m\u001b[0;34m\u001b[0m\u001b[0;34m\u001b[0m\u001b[0m\n\u001b[0;32m--> 615\u001b[0;31m     \u001b[0;32mreturn\u001b[0m \u001b[0m_dijkstra_multisource\u001b[0m\u001b[0;34m(\u001b[0m\u001b[0mG\u001b[0m\u001b[0;34m,\u001b[0m \u001b[0msources\u001b[0m\u001b[0;34m,\u001b[0m \u001b[0mweight\u001b[0m\u001b[0;34m,\u001b[0m \u001b[0mcutoff\u001b[0m\u001b[0;34m=\u001b[0m\u001b[0mcutoff\u001b[0m\u001b[0;34m)\u001b[0m\u001b[0;34m\u001b[0m\u001b[0;34m\u001b[0m\u001b[0m\n\u001b[0m\u001b[1;32m    616\u001b[0m \u001b[0;34m\u001b[0m\u001b[0m\n\u001b[1;32m    617\u001b[0m \u001b[0;34m\u001b[0m\u001b[0m\n",
      "\u001b[0;32m/srv/conda/envs/notebook/lib/python3.7/site-packages/networkx/algorithms/shortest_paths/weighted.py\u001b[0m in \u001b[0;36m_dijkstra_multisource\u001b[0;34m(G, sources, weight, pred, paths, cutoff, target)\u001b[0m\n\u001b[1;32m    819\u001b[0m             \u001b[0;32mbreak\u001b[0m\u001b[0;34m\u001b[0m\u001b[0;34m\u001b[0m\u001b[0m\n\u001b[1;32m    820\u001b[0m         \u001b[0;32mfor\u001b[0m \u001b[0mu\u001b[0m\u001b[0;34m,\u001b[0m \u001b[0me\u001b[0m \u001b[0;32min\u001b[0m \u001b[0mG_succ\u001b[0m\u001b[0;34m[\u001b[0m\u001b[0mv\u001b[0m\u001b[0;34m]\u001b[0m\u001b[0;34m.\u001b[0m\u001b[0mitems\u001b[0m\u001b[0;34m(\u001b[0m\u001b[0;34m)\u001b[0m\u001b[0;34m:\u001b[0m\u001b[0;34m\u001b[0m\u001b[0;34m\u001b[0m\u001b[0m\n\u001b[0;32m--> 821\u001b[0;31m             \u001b[0mcost\u001b[0m \u001b[0;34m=\u001b[0m \u001b[0mweight\u001b[0m\u001b[0;34m(\u001b[0m\u001b[0mv\u001b[0m\u001b[0;34m,\u001b[0m \u001b[0mu\u001b[0m\u001b[0;34m,\u001b[0m \u001b[0me\u001b[0m\u001b[0;34m)\u001b[0m\u001b[0;34m\u001b[0m\u001b[0;34m\u001b[0m\u001b[0m\n\u001b[0m\u001b[1;32m    822\u001b[0m             \u001b[0;32mif\u001b[0m \u001b[0mcost\u001b[0m \u001b[0;32mis\u001b[0m \u001b[0;32mNone\u001b[0m\u001b[0;34m:\u001b[0m\u001b[0;34m\u001b[0m\u001b[0;34m\u001b[0m\u001b[0m\n\u001b[1;32m    823\u001b[0m                 \u001b[0;32mcontinue\u001b[0m\u001b[0;34m\u001b[0m\u001b[0;34m\u001b[0m\u001b[0m\n",
      "\u001b[0;32m/srv/conda/envs/notebook/lib/python3.7/site-packages/networkx/algorithms/shortest_paths/weighted.py\u001b[0m in \u001b[0;36m<lambda>\u001b[0;34m(u, v, data)\u001b[0m\n\u001b[1;32m     76\u001b[0m     \u001b[0;32mif\u001b[0m \u001b[0mG\u001b[0m\u001b[0;34m.\u001b[0m\u001b[0mis_multigraph\u001b[0m\u001b[0;34m(\u001b[0m\u001b[0;34m)\u001b[0m\u001b[0;34m:\u001b[0m\u001b[0;34m\u001b[0m\u001b[0;34m\u001b[0m\u001b[0m\n\u001b[1;32m     77\u001b[0m         \u001b[0;32mreturn\u001b[0m \u001b[0;32mlambda\u001b[0m \u001b[0mu\u001b[0m\u001b[0;34m,\u001b[0m \u001b[0mv\u001b[0m\u001b[0;34m,\u001b[0m \u001b[0md\u001b[0m\u001b[0;34m:\u001b[0m \u001b[0mmin\u001b[0m\u001b[0;34m(\u001b[0m\u001b[0mattr\u001b[0m\u001b[0;34m.\u001b[0m\u001b[0mget\u001b[0m\u001b[0;34m(\u001b[0m\u001b[0mweight\u001b[0m\u001b[0;34m,\u001b[0m \u001b[0;36m1\u001b[0m\u001b[0;34m)\u001b[0m \u001b[0;32mfor\u001b[0m \u001b[0mattr\u001b[0m \u001b[0;32min\u001b[0m \u001b[0md\u001b[0m\u001b[0;34m.\u001b[0m\u001b[0mvalues\u001b[0m\u001b[0;34m(\u001b[0m\u001b[0;34m)\u001b[0m\u001b[0;34m)\u001b[0m\u001b[0;34m\u001b[0m\u001b[0;34m\u001b[0m\u001b[0m\n\u001b[0;32m---> 78\u001b[0;31m     \u001b[0;32mreturn\u001b[0m \u001b[0;32mlambda\u001b[0m \u001b[0mu\u001b[0m\u001b[0;34m,\u001b[0m \u001b[0mv\u001b[0m\u001b[0;34m,\u001b[0m \u001b[0mdata\u001b[0m\u001b[0;34m:\u001b[0m \u001b[0mdata\u001b[0m\u001b[0;34m.\u001b[0m\u001b[0mget\u001b[0m\u001b[0;34m(\u001b[0m\u001b[0mweight\u001b[0m\u001b[0;34m,\u001b[0m \u001b[0;36m1\u001b[0m\u001b[0;34m)\u001b[0m\u001b[0;34m\u001b[0m\u001b[0;34m\u001b[0m\u001b[0m\n\u001b[0m\u001b[1;32m     79\u001b[0m \u001b[0;34m\u001b[0m\u001b[0m\n\u001b[1;32m     80\u001b[0m \u001b[0;34m\u001b[0m\u001b[0m\n",
      "\u001b[0;31mKeyboardInterrupt\u001b[0m: "
     ]
    }
   ],
   "source": [
    "textnet.configure_plotly_browser_state()\n",
    "fig = textnet.draw_2d_network(G, \"G.png\", \"offline\")"
   ]
  },
  {
   "cell_type": "code",
   "execution_count": 170,
   "metadata": {},
   "outputs": [],
   "source": [
    "import plotly.graph_objects as go\n",
    "\n"
   ]
  },
  {
   "cell_type": "code",
   "execution_count": 174,
   "metadata": {},
   "outputs": [],
   "source": [
    "import plotly.graph_objects as go\n",
    "fig = go.Figure(data=go.Bar(y=[2, 3, 1]))\n",
    "#fig.show()"
   ]
  },
  {
   "cell_type": "code",
   "execution_count": 175,
   "metadata": {},
   "outputs": [
    {
     "data": {
      "text/plain": [
       "plotly.graph_objs._figure.Figure"
      ]
     },
     "execution_count": 175,
     "metadata": {},
     "output_type": "execute_result"
    }
   ],
   "source": [
    "type(fig)"
   ]
  },
  {
   "cell_type": "code",
   "execution_count": null,
   "metadata": {},
   "outputs": [],
   "source": []
  },
  {
   "cell_type": "code",
   "execution_count": null,
   "metadata": {},
   "outputs": [],
   "source": []
  },
  {
   "cell_type": "code",
   "execution_count": null,
   "metadata": {},
   "outputs": [],
   "source": []
  },
  {
   "cell_type": "code",
   "execution_count": null,
   "metadata": {},
   "outputs": [],
   "source": []
  },
  {
   "cell_type": "code",
   "execution_count": null,
   "metadata": {},
   "outputs": [],
   "source": []
  },
  {
   "cell_type": "code",
   "execution_count": null,
   "metadata": {},
   "outputs": [],
   "source": []
  },
  {
   "cell_type": "code",
   "execution_count": null,
   "metadata": {
    "id": "VZHTvXquJQl0"
   },
   "outputs": [],
   "source": [
    "bow = CountVectorizer(vocabulary=vocabulary)\n",
    "bow_term2doc = bow.fit_transform([\" \".join(doc) for doc in docs]) ### run the model\n",
    "\n",
    "term2term_bow = (bow_term2doc.T * bow_term2doc)\n",
    "\n",
    "\n",
    "tfidf =  TfidfVectorizer(vocabulary=vocabulary)\n",
    "tfidf_term2doc = tfidf.fit_transform([\" \".join(doc) for doc in docs]) ### run the model\n",
    "\n",
    "svd = TruncatedSVD(n_components=150, n_iter=5, random_state=42)\n",
    "svd_bow = svd.fit(bow_term2doc)\n",
    "\n",
    "svd = TruncatedSVD(n_components=150, n_iter=5, random_state=42)\n",
    "svd_tfidf = svd.fit(tfidf_term2doc)\n",
    "    #term2doc = pd.DataFrame(Xc.toarray(), columns=vec.get_feature_names(), index=vec.get_feature_names())\n",
    "lsa_bow = pd.DataFrame(svd_bow.components_, columns=vocabulary)\n",
    "lsa_tfidf = pd.DataFrame(svd_tfidf.components_, columns=vocabulary)"
   ]
  },
  {
   "cell_type": "code",
   "execution_count": null,
   "metadata": {},
   "outputs": [],
   "source": []
  },
  {
   "cell_type": "code",
   "execution_count": null,
   "metadata": {
    "id": "i_EjOdpBJQl0"
   },
   "outputs": [],
   "source": [
    "words = [\"δίκαιος\", \"δίκη\", \"δικαιοσύνη\"]"
   ]
  },
  {
   "cell_type": "code",
   "execution_count": null,
   "metadata": {
    "id": "M413lxCVJQl0",
    "outputId": "425b8dab-90d2-46fa-ae0e-347e39c276e9"
   },
   "outputs": [
    {
     "data": {
      "text/html": [
       "<div>\n",
       "<style scoped>\n",
       "    .dataframe tbody tr th:only-of-type {\n",
       "        vertical-align: middle;\n",
       "    }\n",
       "\n",
       "    .dataframe tbody tr th {\n",
       "        vertical-align: top;\n",
       "    }\n",
       "\n",
       "    .dataframe thead th {\n",
       "        text-align: right;\n",
       "    }\n",
       "</style>\n",
       "<table border=\"1\" class=\"dataframe\">\n",
       "  <thead>\n",
       "    <tr style=\"text-align: right;\">\n",
       "      <th></th>\n",
       "      <th>πρᾶγμα</th>\n",
       "      <th>ἡσσάομαι</th>\n",
       "      <th>θλίβω</th>\n",
       "      <th>θλίψιν</th>\n",
       "      <th>διδαχῆς</th>\n",
       "      <th>ψάλλω</th>\n",
       "      <th>ἐλάχιστόν</th>\n",
       "      <th>διατάσσω</th>\n",
       "      <th>ποῦ</th>\n",
       "      <th>θερίζω</th>\n",
       "      <th>...</th>\n",
       "      <th>εἴδωλόν</th>\n",
       "      <th>φοβέω</th>\n",
       "      <th>θαυμάζω</th>\n",
       "      <th>ὀδυρμός</th>\n",
       "      <th>εὐαγγέλιον</th>\n",
       "      <th>ὑπακοην</th>\n",
       "      <th>ἀντικειμένωνἥτις</th>\n",
       "      <th>ἔνδειξις</th>\n",
       "      <th>ὑποτάσσω</th>\n",
       "      <th>συγχαίρω</th>\n",
       "    </tr>\n",
       "  </thead>\n",
       "  <tbody>\n",
       "    <tr>\n",
       "      <th>πρᾶγμα</th>\n",
       "      <td>4</td>\n",
       "      <td>0</td>\n",
       "      <td>0</td>\n",
       "      <td>0</td>\n",
       "      <td>0</td>\n",
       "      <td>0</td>\n",
       "      <td>0</td>\n",
       "      <td>0</td>\n",
       "      <td>0</td>\n",
       "      <td>0</td>\n",
       "      <td>...</td>\n",
       "      <td>0</td>\n",
       "      <td>0</td>\n",
       "      <td>0</td>\n",
       "      <td>0</td>\n",
       "      <td>0</td>\n",
       "      <td>0</td>\n",
       "      <td>0</td>\n",
       "      <td>0</td>\n",
       "      <td>0</td>\n",
       "      <td>0</td>\n",
       "    </tr>\n",
       "    <tr>\n",
       "      <th>ἡσσάομαι</th>\n",
       "      <td>0</td>\n",
       "      <td>1</td>\n",
       "      <td>0</td>\n",
       "      <td>0</td>\n",
       "      <td>0</td>\n",
       "      <td>0</td>\n",
       "      <td>0</td>\n",
       "      <td>0</td>\n",
       "      <td>0</td>\n",
       "      <td>0</td>\n",
       "      <td>...</td>\n",
       "      <td>0</td>\n",
       "      <td>0</td>\n",
       "      <td>0</td>\n",
       "      <td>0</td>\n",
       "      <td>0</td>\n",
       "      <td>0</td>\n",
       "      <td>0</td>\n",
       "      <td>0</td>\n",
       "      <td>0</td>\n",
       "      <td>0</td>\n",
       "    </tr>\n",
       "    <tr>\n",
       "      <th>θλίβω</th>\n",
       "      <td>0</td>\n",
       "      <td>0</td>\n",
       "      <td>11</td>\n",
       "      <td>0</td>\n",
       "      <td>0</td>\n",
       "      <td>0</td>\n",
       "      <td>0</td>\n",
       "      <td>0</td>\n",
       "      <td>0</td>\n",
       "      <td>0</td>\n",
       "      <td>...</td>\n",
       "      <td>0</td>\n",
       "      <td>0</td>\n",
       "      <td>0</td>\n",
       "      <td>0</td>\n",
       "      <td>0</td>\n",
       "      <td>0</td>\n",
       "      <td>0</td>\n",
       "      <td>0</td>\n",
       "      <td>0</td>\n",
       "      <td>0</td>\n",
       "    </tr>\n",
       "    <tr>\n",
       "      <th>θλίψιν</th>\n",
       "      <td>0</td>\n",
       "      <td>0</td>\n",
       "      <td>0</td>\n",
       "      <td>2</td>\n",
       "      <td>0</td>\n",
       "      <td>0</td>\n",
       "      <td>0</td>\n",
       "      <td>0</td>\n",
       "      <td>0</td>\n",
       "      <td>0</td>\n",
       "      <td>...</td>\n",
       "      <td>0</td>\n",
       "      <td>0</td>\n",
       "      <td>0</td>\n",
       "      <td>0</td>\n",
       "      <td>1</td>\n",
       "      <td>0</td>\n",
       "      <td>0</td>\n",
       "      <td>0</td>\n",
       "      <td>0</td>\n",
       "      <td>0</td>\n",
       "    </tr>\n",
       "    <tr>\n",
       "      <th>διδαχῆς</th>\n",
       "      <td>0</td>\n",
       "      <td>0</td>\n",
       "      <td>0</td>\n",
       "      <td>0</td>\n",
       "      <td>1</td>\n",
       "      <td>0</td>\n",
       "      <td>0</td>\n",
       "      <td>0</td>\n",
       "      <td>0</td>\n",
       "      <td>0</td>\n",
       "      <td>...</td>\n",
       "      <td>0</td>\n",
       "      <td>0</td>\n",
       "      <td>0</td>\n",
       "      <td>0</td>\n",
       "      <td>0</td>\n",
       "      <td>0</td>\n",
       "      <td>0</td>\n",
       "      <td>0</td>\n",
       "      <td>0</td>\n",
       "      <td>0</td>\n",
       "    </tr>\n",
       "    <tr>\n",
       "      <th>...</th>\n",
       "      <td>...</td>\n",
       "      <td>...</td>\n",
       "      <td>...</td>\n",
       "      <td>...</td>\n",
       "      <td>...</td>\n",
       "      <td>...</td>\n",
       "      <td>...</td>\n",
       "      <td>...</td>\n",
       "      <td>...</td>\n",
       "      <td>...</td>\n",
       "      <td>...</td>\n",
       "      <td>...</td>\n",
       "      <td>...</td>\n",
       "      <td>...</td>\n",
       "      <td>...</td>\n",
       "      <td>...</td>\n",
       "      <td>...</td>\n",
       "      <td>...</td>\n",
       "      <td>...</td>\n",
       "      <td>...</td>\n",
       "      <td>...</td>\n",
       "    </tr>\n",
       "    <tr>\n",
       "      <th>ὑπακοην</th>\n",
       "      <td>0</td>\n",
       "      <td>0</td>\n",
       "      <td>0</td>\n",
       "      <td>0</td>\n",
       "      <td>0</td>\n",
       "      <td>0</td>\n",
       "      <td>0</td>\n",
       "      <td>0</td>\n",
       "      <td>0</td>\n",
       "      <td>0</td>\n",
       "      <td>...</td>\n",
       "      <td>0</td>\n",
       "      <td>0</td>\n",
       "      <td>0</td>\n",
       "      <td>0</td>\n",
       "      <td>1</td>\n",
       "      <td>4</td>\n",
       "      <td>0</td>\n",
       "      <td>0</td>\n",
       "      <td>0</td>\n",
       "      <td>0</td>\n",
       "    </tr>\n",
       "    <tr>\n",
       "      <th>ἀντικειμένωνἥτις</th>\n",
       "      <td>0</td>\n",
       "      <td>0</td>\n",
       "      <td>0</td>\n",
       "      <td>0</td>\n",
       "      <td>0</td>\n",
       "      <td>0</td>\n",
       "      <td>0</td>\n",
       "      <td>0</td>\n",
       "      <td>0</td>\n",
       "      <td>0</td>\n",
       "      <td>...</td>\n",
       "      <td>0</td>\n",
       "      <td>0</td>\n",
       "      <td>0</td>\n",
       "      <td>0</td>\n",
       "      <td>2</td>\n",
       "      <td>0</td>\n",
       "      <td>1</td>\n",
       "      <td>1</td>\n",
       "      <td>0</td>\n",
       "      <td>0</td>\n",
       "    </tr>\n",
       "    <tr>\n",
       "      <th>ἔνδειξις</th>\n",
       "      <td>0</td>\n",
       "      <td>0</td>\n",
       "      <td>0</td>\n",
       "      <td>0</td>\n",
       "      <td>0</td>\n",
       "      <td>0</td>\n",
       "      <td>0</td>\n",
       "      <td>0</td>\n",
       "      <td>0</td>\n",
       "      <td>0</td>\n",
       "      <td>...</td>\n",
       "      <td>0</td>\n",
       "      <td>0</td>\n",
       "      <td>0</td>\n",
       "      <td>0</td>\n",
       "      <td>2</td>\n",
       "      <td>0</td>\n",
       "      <td>1</td>\n",
       "      <td>6</td>\n",
       "      <td>0</td>\n",
       "      <td>0</td>\n",
       "    </tr>\n",
       "    <tr>\n",
       "      <th>ὑποτάσσω</th>\n",
       "      <td>0</td>\n",
       "      <td>0</td>\n",
       "      <td>0</td>\n",
       "      <td>0</td>\n",
       "      <td>0</td>\n",
       "      <td>0</td>\n",
       "      <td>0</td>\n",
       "      <td>0</td>\n",
       "      <td>0</td>\n",
       "      <td>0</td>\n",
       "      <td>...</td>\n",
       "      <td>0</td>\n",
       "      <td>0</td>\n",
       "      <td>0</td>\n",
       "      <td>0</td>\n",
       "      <td>0</td>\n",
       "      <td>0</td>\n",
       "      <td>0</td>\n",
       "      <td>0</td>\n",
       "      <td>12</td>\n",
       "      <td>0</td>\n",
       "    </tr>\n",
       "    <tr>\n",
       "      <th>συγχαίρω</th>\n",
       "      <td>0</td>\n",
       "      <td>0</td>\n",
       "      <td>0</td>\n",
       "      <td>0</td>\n",
       "      <td>0</td>\n",
       "      <td>0</td>\n",
       "      <td>0</td>\n",
       "      <td>0</td>\n",
       "      <td>0</td>\n",
       "      <td>0</td>\n",
       "      <td>...</td>\n",
       "      <td>0</td>\n",
       "      <td>0</td>\n",
       "      <td>0</td>\n",
       "      <td>0</td>\n",
       "      <td>0</td>\n",
       "      <td>0</td>\n",
       "      <td>0</td>\n",
       "      <td>0</td>\n",
       "      <td>0</td>\n",
       "      <td>3</td>\n",
       "    </tr>\n",
       "  </tbody>\n",
       "</table>\n",
       "<p>2352 rows × 2352 columns</p>\n",
       "</div>"
      ],
      "text/plain": [
       "                  πρᾶγμα  ἡσσάομαι  θλίβω  θλίψιν  διδαχῆς  ψάλλω  ἐλάχιστόν  \\\n",
       "πρᾶγμα                 4         0      0       0        0      0          0   \n",
       "ἡσσάομαι               0         1      0       0        0      0          0   \n",
       "θλίβω                  0         0     11       0        0      0          0   \n",
       "θλίψιν                 0         0      0       2        0      0          0   \n",
       "διδαχῆς                0         0      0       0        1      0          0   \n",
       "...                  ...       ...    ...     ...      ...    ...        ...   \n",
       "ὑπακοην                0         0      0       0        0      0          0   \n",
       "ἀντικειμένωνἥτις       0         0      0       0        0      0          0   \n",
       "ἔνδειξις               0         0      0       0        0      0          0   \n",
       "ὑποτάσσω               0         0      0       0        0      0          0   \n",
       "συγχαίρω               0         0      0       0        0      0          0   \n",
       "\n",
       "                  διατάσσω  ποῦ  θερίζω  ...  εἴδωλόν  φοβέω  θαυμάζω  \\\n",
       "πρᾶγμα                   0    0       0  ...        0      0        0   \n",
       "ἡσσάομαι                 0    0       0  ...        0      0        0   \n",
       "θλίβω                    0    0       0  ...        0      0        0   \n",
       "θλίψιν                   0    0       0  ...        0      0        0   \n",
       "διδαχῆς                  0    0       0  ...        0      0        0   \n",
       "...                    ...  ...     ...  ...      ...    ...      ...   \n",
       "ὑπακοην                  0    0       0  ...        0      0        0   \n",
       "ἀντικειμένωνἥτις         0    0       0  ...        0      0        0   \n",
       "ἔνδειξις                 0    0       0  ...        0      0        0   \n",
       "ὑποτάσσω                 0    0       0  ...        0      0        0   \n",
       "συγχαίρω                 0    0       0  ...        0      0        0   \n",
       "\n",
       "                  ὀδυρμός  εὐαγγέλιον  ὑπακοην  ἀντικειμένωνἥτις  ἔνδειξις  \\\n",
       "πρᾶγμα                  0           0        0                 0         0   \n",
       "ἡσσάομαι                0           0        0                 0         0   \n",
       "θλίβω                   0           0        0                 0         0   \n",
       "θλίψιν                  0           1        0                 0         0   \n",
       "διδαχῆς                 0           0        0                 0         0   \n",
       "...                   ...         ...      ...               ...       ...   \n",
       "ὑπακοην                 0           1        4                 0         0   \n",
       "ἀντικειμένωνἥτις        0           2        0                 1         1   \n",
       "ἔνδειξις                0           2        0                 1         6   \n",
       "ὑποτάσσω                0           0        0                 0         0   \n",
       "συγχαίρω                0           0        0                 0         0   \n",
       "\n",
       "                  ὑποτάσσω  συγχαίρω  \n",
       "πρᾶγμα                   0         0  \n",
       "ἡσσάομαι                 0         0  \n",
       "θλίβω                    0         0  \n",
       "θλίψιν                   0         0  \n",
       "διδαχῆς                  0         0  \n",
       "...                    ...       ...  \n",
       "ὑπακοην                  0         0  \n",
       "ἀντικειμένωνἥτις         0         0  \n",
       "ἔνδειξις                 0         0  \n",
       "ὑποτάσσω                12         0  \n",
       "συγχαίρω                 0         3  \n",
       "\n",
       "[2352 rows x 2352 columns]"
      ]
     },
     "execution_count": 66,
     "metadata": {
      "tags": []
     },
     "output_type": "execute_result"
    }
   ],
   "source": [
    "term2term_bow_df = pd.DataFrame(term2term_bow.todense(), columns=vocabulary, index=vocabulary)\n",
    "term2term_bow_df"
   ]
  },
  {
   "cell_type": "code",
   "execution_count": null,
   "metadata": {
    "id": "5_2m3288JQl0",
    "outputId": "a237fe9e-5d8a-40ec-b040-458feed42a8a"
   },
   "outputs": [
    {
     "name": "stdout",
     "output_type": "stream",
     "text": [
      "            δικαιοσύνη\n",
      "δικαιοσύνη          62\n",
      "πίστις              25\n",
      "θεάομαι             18\n",
      "νόμος               16\n",
      "λογίζομαι           11\n",
      "χριστοῦ             10\n",
      "ἁμαρτία             10\n",
      "ἰησοῦ               10\n",
      "θεός                 9\n",
      "πᾶς                  9\n",
      "πιστεύω              7\n",
      "περιτομή             7\n",
      "ἀκροβυστία           6\n",
      "πατήρ                6\n",
      "ἀβραάμ               6\n",
      "ἀνομία               5\n",
      "βασιλεύω             5\n",
      "δοῦλος               5\n",
      "κύριος               5\n",
      "ἁμάρτημα             5\n"
     ]
    }
   ],
   "source": [
    "sorted_df = term2term_bow_df.sort_values(\"δικαιοσύνη\", ascending=False)[[\"δικαιοσύνη\"]]\n",
    "print(sorted_df.head(20))"
   ]
  },
  {
   "cell_type": "code",
   "execution_count": null,
   "metadata": {
    "id": "xWMaNQehJQl1",
    "outputId": "2a7150ab-f766-4d68-cc19-6752cab2240f"
   },
   "outputs": [
    {
     "name": "stdout",
     "output_type": "stream",
     "text": [
      "            δίκαιος\n",
      "δίκαιος          14\n",
      "πίστις            8\n",
      "ὅσος              6\n",
      "θεός              6\n",
      "νόμος             5\n",
      "πᾶς               4\n",
      "θεάομαι           4\n",
      "ἕνος              3\n",
      "δικαιοσύνη        3\n",
      "ἁμός              3\n",
      "ζάω               3\n",
      "δικαιόω           2\n",
      "ἀλλ               2\n",
      "ποιέω             2\n",
      "πολύς             2\n",
      "ἅγιος             2\n",
      "καθίστημι         2\n",
      "ἔχω               2\n",
      "γράφω             2\n",
      "εἶμι              2\n"
     ]
    }
   ],
   "source": [
    "sorted_df = term2term_bow_df.sort_values(\"δίκαιος\", ascending=False)[[\"δίκαιος\"]]\n",
    "print(sorted_df.head(20))"
   ]
  },
  {
   "cell_type": "code",
   "execution_count": null,
   "metadata": {
    "id": "246hKpH0JQl1",
    "outputId": "4d6a95b0-465f-4c23-ba57-814622a2e1ad"
   },
   "outputs": [
    {
     "data": {
      "text/html": [
       "<div>\n",
       "<style scoped>\n",
       "    .dataframe tbody tr th:only-of-type {\n",
       "        vertical-align: middle;\n",
       "    }\n",
       "\n",
       "    .dataframe tbody tr th {\n",
       "        vertical-align: top;\n",
       "    }\n",
       "\n",
       "    .dataframe thead th {\n",
       "        text-align: right;\n",
       "    }\n",
       "</style>\n",
       "<table border=\"1\" class=\"dataframe\">\n",
       "  <thead>\n",
       "    <tr style=\"text-align: right;\">\n",
       "      <th></th>\n",
       "      <th>πρᾶγμα</th>\n",
       "      <th>ἡσσάομαι</th>\n",
       "      <th>θλίβω</th>\n",
       "      <th>θλίψιν</th>\n",
       "      <th>διδαχῆς</th>\n",
       "      <th>ψάλλω</th>\n",
       "      <th>ἐλάχιστόν</th>\n",
       "      <th>διατάσσω</th>\n",
       "      <th>ποῦ</th>\n",
       "      <th>θερίζω</th>\n",
       "      <th>...</th>\n",
       "      <th>εἴδωλόν</th>\n",
       "      <th>φοβέω</th>\n",
       "      <th>θαυμάζω</th>\n",
       "      <th>ὀδυρμός</th>\n",
       "      <th>εὐαγγέλιον</th>\n",
       "      <th>ὑπακοην</th>\n",
       "      <th>ἀντικειμένωνἥτις</th>\n",
       "      <th>ἔνδειξις</th>\n",
       "      <th>ὑποτάσσω</th>\n",
       "      <th>συγχαίρω</th>\n",
       "    </tr>\n",
       "  </thead>\n",
       "  <tbody>\n",
       "    <tr>\n",
       "      <th>0</th>\n",
       "      <td>0.003708</td>\n",
       "      <td>0.000052</td>\n",
       "      <td>0.018253</td>\n",
       "      <td>0.000661</td>\n",
       "      <td>0.000759</td>\n",
       "      <td>0.000499</td>\n",
       "      <td>0.000129</td>\n",
       "      <td>0.001352</td>\n",
       "      <td>0.000011</td>\n",
       "      <td>0.001212</td>\n",
       "      <td>...</td>\n",
       "      <td>-6.639306e-16</td>\n",
       "      <td>0.006197</td>\n",
       "      <td>0.000482</td>\n",
       "      <td>0.000551</td>\n",
       "      <td>0.067805</td>\n",
       "      <td>0.012405</td>\n",
       "      <td>0.001671</td>\n",
       "      <td>0.005543</td>\n",
       "      <td>0.014762</td>\n",
       "      <td>0.001498</td>\n",
       "    </tr>\n",
       "    <tr>\n",
       "      <th>1</th>\n",
       "      <td>-0.001711</td>\n",
       "      <td>-0.000088</td>\n",
       "      <td>0.019553</td>\n",
       "      <td>-0.001290</td>\n",
       "      <td>-0.000133</td>\n",
       "      <td>-0.000006</td>\n",
       "      <td>-0.000068</td>\n",
       "      <td>-0.001622</td>\n",
       "      <td>0.000023</td>\n",
       "      <td>0.000156</td>\n",
       "      <td>...</td>\n",
       "      <td>-8.387424e-15</td>\n",
       "      <td>-0.003687</td>\n",
       "      <td>0.000134</td>\n",
       "      <td>-0.000948</td>\n",
       "      <td>-0.018718</td>\n",
       "      <td>-0.002153</td>\n",
       "      <td>0.000014</td>\n",
       "      <td>0.001900</td>\n",
       "      <td>-0.017855</td>\n",
       "      <td>-0.003475</td>\n",
       "    </tr>\n",
       "    <tr>\n",
       "      <th>2</th>\n",
       "      <td>-0.001938</td>\n",
       "      <td>0.000137</td>\n",
       "      <td>-0.002422</td>\n",
       "      <td>0.002927</td>\n",
       "      <td>0.000159</td>\n",
       "      <td>0.000678</td>\n",
       "      <td>0.000282</td>\n",
       "      <td>-0.000731</td>\n",
       "      <td>0.000011</td>\n",
       "      <td>0.001485</td>\n",
       "      <td>...</td>\n",
       "      <td>2.157429e-14</td>\n",
       "      <td>0.002290</td>\n",
       "      <td>0.000561</td>\n",
       "      <td>0.002798</td>\n",
       "      <td>0.067655</td>\n",
       "      <td>0.000908</td>\n",
       "      <td>0.002165</td>\n",
       "      <td>0.003588</td>\n",
       "      <td>-0.019197</td>\n",
       "      <td>-0.003370</td>\n",
       "    </tr>\n",
       "    <tr>\n",
       "      <th>3</th>\n",
       "      <td>-0.000222</td>\n",
       "      <td>-0.000004</td>\n",
       "      <td>-0.019747</td>\n",
       "      <td>-0.001763</td>\n",
       "      <td>0.000364</td>\n",
       "      <td>0.001681</td>\n",
       "      <td>-0.000111</td>\n",
       "      <td>0.000080</td>\n",
       "      <td>-0.000030</td>\n",
       "      <td>0.004362</td>\n",
       "      <td>...</td>\n",
       "      <td>-1.263571e-13</td>\n",
       "      <td>-0.012455</td>\n",
       "      <td>0.000969</td>\n",
       "      <td>-0.001761</td>\n",
       "      <td>-0.010202</td>\n",
       "      <td>0.017871</td>\n",
       "      <td>0.004209</td>\n",
       "      <td>0.011782</td>\n",
       "      <td>0.010564</td>\n",
       "      <td>-0.000816</td>\n",
       "    </tr>\n",
       "    <tr>\n",
       "      <th>4</th>\n",
       "      <td>-0.000502</td>\n",
       "      <td>-0.000153</td>\n",
       "      <td>0.002632</td>\n",
       "      <td>-0.000557</td>\n",
       "      <td>0.003583</td>\n",
       "      <td>0.000096</td>\n",
       "      <td>-0.000091</td>\n",
       "      <td>-0.001782</td>\n",
       "      <td>-0.000024</td>\n",
       "      <td>0.000647</td>\n",
       "      <td>...</td>\n",
       "      <td>3.878321e-13</td>\n",
       "      <td>0.000985</td>\n",
       "      <td>-0.000747</td>\n",
       "      <td>-0.000634</td>\n",
       "      <td>-0.038459</td>\n",
       "      <td>-0.009959</td>\n",
       "      <td>-0.001097</td>\n",
       "      <td>0.004457</td>\n",
       "      <td>-0.003471</td>\n",
       "      <td>-0.000706</td>\n",
       "    </tr>\n",
       "    <tr>\n",
       "      <th>...</th>\n",
       "      <td>...</td>\n",
       "      <td>...</td>\n",
       "      <td>...</td>\n",
       "      <td>...</td>\n",
       "      <td>...</td>\n",
       "      <td>...</td>\n",
       "      <td>...</td>\n",
       "      <td>...</td>\n",
       "      <td>...</td>\n",
       "      <td>...</td>\n",
       "      <td>...</td>\n",
       "      <td>...</td>\n",
       "      <td>...</td>\n",
       "      <td>...</td>\n",
       "      <td>...</td>\n",
       "      <td>...</td>\n",
       "      <td>...</td>\n",
       "      <td>...</td>\n",
       "      <td>...</td>\n",
       "      <td>...</td>\n",
       "      <td>...</td>\n",
       "    </tr>\n",
       "    <tr>\n",
       "      <th>145</th>\n",
       "      <td>-0.010291</td>\n",
       "      <td>0.003474</td>\n",
       "      <td>-0.049004</td>\n",
       "      <td>-0.001600</td>\n",
       "      <td>-0.011729</td>\n",
       "      <td>0.012179</td>\n",
       "      <td>-0.004205</td>\n",
       "      <td>-0.002103</td>\n",
       "      <td>0.003453</td>\n",
       "      <td>-0.016910</td>\n",
       "      <td>...</td>\n",
       "      <td>-8.785520e-07</td>\n",
       "      <td>0.014278</td>\n",
       "      <td>-0.002597</td>\n",
       "      <td>-0.005485</td>\n",
       "      <td>-0.006336</td>\n",
       "      <td>0.026199</td>\n",
       "      <td>-0.013394</td>\n",
       "      <td>-0.005216</td>\n",
       "      <td>0.001714</td>\n",
       "      <td>-0.009270</td>\n",
       "    </tr>\n",
       "    <tr>\n",
       "      <th>146</th>\n",
       "      <td>-0.028570</td>\n",
       "      <td>0.007097</td>\n",
       "      <td>0.005474</td>\n",
       "      <td>-0.006091</td>\n",
       "      <td>0.003053</td>\n",
       "      <td>0.004164</td>\n",
       "      <td>0.001158</td>\n",
       "      <td>0.001073</td>\n",
       "      <td>-0.001872</td>\n",
       "      <td>-0.020473</td>\n",
       "      <td>...</td>\n",
       "      <td>-7.591400e-08</td>\n",
       "      <td>-0.000330</td>\n",
       "      <td>0.004361</td>\n",
       "      <td>0.010873</td>\n",
       "      <td>-0.017895</td>\n",
       "      <td>0.000099</td>\n",
       "      <td>-0.006938</td>\n",
       "      <td>-0.027157</td>\n",
       "      <td>0.002984</td>\n",
       "      <td>-0.024311</td>\n",
       "    </tr>\n",
       "    <tr>\n",
       "      <th>147</th>\n",
       "      <td>-0.005424</td>\n",
       "      <td>-0.004964</td>\n",
       "      <td>0.012694</td>\n",
       "      <td>-0.006861</td>\n",
       "      <td>-0.005116</td>\n",
       "      <td>0.001409</td>\n",
       "      <td>0.001862</td>\n",
       "      <td>0.009463</td>\n",
       "      <td>0.000358</td>\n",
       "      <td>0.006379</td>\n",
       "      <td>...</td>\n",
       "      <td>-5.241422e-07</td>\n",
       "      <td>0.028197</td>\n",
       "      <td>0.001656</td>\n",
       "      <td>-0.004227</td>\n",
       "      <td>-0.005124</td>\n",
       "      <td>-0.052964</td>\n",
       "      <td>0.022026</td>\n",
       "      <td>0.048630</td>\n",
       "      <td>0.046711</td>\n",
       "      <td>0.013198</td>\n",
       "    </tr>\n",
       "    <tr>\n",
       "      <th>148</th>\n",
       "      <td>0.021749</td>\n",
       "      <td>-0.000103</td>\n",
       "      <td>0.003712</td>\n",
       "      <td>-0.005903</td>\n",
       "      <td>-0.006872</td>\n",
       "      <td>-0.016247</td>\n",
       "      <td>0.007232</td>\n",
       "      <td>0.009815</td>\n",
       "      <td>-0.003137</td>\n",
       "      <td>-0.054888</td>\n",
       "      <td>...</td>\n",
       "      <td>-5.550533e-07</td>\n",
       "      <td>0.046293</td>\n",
       "      <td>0.007101</td>\n",
       "      <td>0.002207</td>\n",
       "      <td>-0.021809</td>\n",
       "      <td>-0.019193</td>\n",
       "      <td>-0.008599</td>\n",
       "      <td>0.001844</td>\n",
       "      <td>-0.025452</td>\n",
       "      <td>-0.006316</td>\n",
       "    </tr>\n",
       "    <tr>\n",
       "      <th>149</th>\n",
       "      <td>-0.027197</td>\n",
       "      <td>0.006671</td>\n",
       "      <td>0.081570</td>\n",
       "      <td>0.005786</td>\n",
       "      <td>0.001441</td>\n",
       "      <td>-0.004829</td>\n",
       "      <td>-0.006967</td>\n",
       "      <td>0.011033</td>\n",
       "      <td>0.000643</td>\n",
       "      <td>0.004888</td>\n",
       "      <td>...</td>\n",
       "      <td>1.044442e-06</td>\n",
       "      <td>-0.075610</td>\n",
       "      <td>0.005381</td>\n",
       "      <td>-0.018584</td>\n",
       "      <td>-0.017883</td>\n",
       "      <td>0.014740</td>\n",
       "      <td>-0.005240</td>\n",
       "      <td>-0.006850</td>\n",
       "      <td>-0.059799</td>\n",
       "      <td>0.002114</td>\n",
       "    </tr>\n",
       "  </tbody>\n",
       "</table>\n",
       "<p>150 rows × 2352 columns</p>\n",
       "</div>"
      ],
      "text/plain": [
       "       πρᾶγμα  ἡσσάομαι     θλίβω    θλίψιν   διδαχῆς     ψάλλω  ἐλάχιστόν  \\\n",
       "0    0.003708  0.000052  0.018253  0.000661  0.000759  0.000499   0.000129   \n",
       "1   -0.001711 -0.000088  0.019553 -0.001290 -0.000133 -0.000006  -0.000068   \n",
       "2   -0.001938  0.000137 -0.002422  0.002927  0.000159  0.000678   0.000282   \n",
       "3   -0.000222 -0.000004 -0.019747 -0.001763  0.000364  0.001681  -0.000111   \n",
       "4   -0.000502 -0.000153  0.002632 -0.000557  0.003583  0.000096  -0.000091   \n",
       "..        ...       ...       ...       ...       ...       ...        ...   \n",
       "145 -0.010291  0.003474 -0.049004 -0.001600 -0.011729  0.012179  -0.004205   \n",
       "146 -0.028570  0.007097  0.005474 -0.006091  0.003053  0.004164   0.001158   \n",
       "147 -0.005424 -0.004964  0.012694 -0.006861 -0.005116  0.001409   0.001862   \n",
       "148  0.021749 -0.000103  0.003712 -0.005903 -0.006872 -0.016247   0.007232   \n",
       "149 -0.027197  0.006671  0.081570  0.005786  0.001441 -0.004829  -0.006967   \n",
       "\n",
       "     διατάσσω       ποῦ    θερίζω  ...       εἴδωλόν     φοβέω   θαυμάζω  \\\n",
       "0    0.001352  0.000011  0.001212  ... -6.639306e-16  0.006197  0.000482   \n",
       "1   -0.001622  0.000023  0.000156  ... -8.387424e-15 -0.003687  0.000134   \n",
       "2   -0.000731  0.000011  0.001485  ...  2.157429e-14  0.002290  0.000561   \n",
       "3    0.000080 -0.000030  0.004362  ... -1.263571e-13 -0.012455  0.000969   \n",
       "4   -0.001782 -0.000024  0.000647  ...  3.878321e-13  0.000985 -0.000747   \n",
       "..        ...       ...       ...  ...           ...       ...       ...   \n",
       "145 -0.002103  0.003453 -0.016910  ... -8.785520e-07  0.014278 -0.002597   \n",
       "146  0.001073 -0.001872 -0.020473  ... -7.591400e-08 -0.000330  0.004361   \n",
       "147  0.009463  0.000358  0.006379  ... -5.241422e-07  0.028197  0.001656   \n",
       "148  0.009815 -0.003137 -0.054888  ... -5.550533e-07  0.046293  0.007101   \n",
       "149  0.011033  0.000643  0.004888  ...  1.044442e-06 -0.075610  0.005381   \n",
       "\n",
       "      ὀδυρμός  εὐαγγέλιον   ὑπακοην  ἀντικειμένωνἥτις  ἔνδειξις  ὑποτάσσω  \\\n",
       "0    0.000551    0.067805  0.012405          0.001671  0.005543  0.014762   \n",
       "1   -0.000948   -0.018718 -0.002153          0.000014  0.001900 -0.017855   \n",
       "2    0.002798    0.067655  0.000908          0.002165  0.003588 -0.019197   \n",
       "3   -0.001761   -0.010202  0.017871          0.004209  0.011782  0.010564   \n",
       "4   -0.000634   -0.038459 -0.009959         -0.001097  0.004457 -0.003471   \n",
       "..        ...         ...       ...               ...       ...       ...   \n",
       "145 -0.005485   -0.006336  0.026199         -0.013394 -0.005216  0.001714   \n",
       "146  0.010873   -0.017895  0.000099         -0.006938 -0.027157  0.002984   \n",
       "147 -0.004227   -0.005124 -0.052964          0.022026  0.048630  0.046711   \n",
       "148  0.002207   -0.021809 -0.019193         -0.008599  0.001844 -0.025452   \n",
       "149 -0.018584   -0.017883  0.014740         -0.005240 -0.006850 -0.059799   \n",
       "\n",
       "     συγχαίρω  \n",
       "0    0.001498  \n",
       "1   -0.003475  \n",
       "2   -0.003370  \n",
       "3   -0.000816  \n",
       "4   -0.000706  \n",
       "..        ...  \n",
       "145 -0.009270  \n",
       "146 -0.024311  \n",
       "147  0.013198  \n",
       "148 -0.006316  \n",
       "149  0.002114  \n",
       "\n",
       "[150 rows x 2352 columns]"
      ]
     },
     "execution_count": 60,
     "metadata": {
      "tags": []
     },
     "output_type": "execute_result"
    }
   ],
   "source": [
    "lsa_model_data"
   ]
  },
  {
   "cell_type": "code",
   "execution_count": null,
   "metadata": {
    "id": "Bzir6KHAJQl1",
    "outputId": "1b91834a-419d-47c6-f099-7a5a459e0249"
   },
   "outputs": [
    {
     "data": {
      "text/html": [
       "<div>\n",
       "<style scoped>\n",
       "    .dataframe tbody tr th:only-of-type {\n",
       "        vertical-align: middle;\n",
       "    }\n",
       "\n",
       "    .dataframe tbody tr th {\n",
       "        vertical-align: top;\n",
       "    }\n",
       "\n",
       "    .dataframe thead th {\n",
       "        text-align: right;\n",
       "    }\n",
       "</style>\n",
       "<table border=\"1\" class=\"dataframe\">\n",
       "  <thead>\n",
       "    <tr style=\"text-align: right;\">\n",
       "      <th></th>\n",
       "      <th>πρᾶγμα</th>\n",
       "      <th>ἡσσάομαι</th>\n",
       "      <th>θλίβω</th>\n",
       "      <th>θλίψιν</th>\n",
       "      <th>διδαχῆς</th>\n",
       "      <th>ψάλλω</th>\n",
       "      <th>ἐλάχιστόν</th>\n",
       "      <th>διατάσσω</th>\n",
       "      <th>ποῦ</th>\n",
       "      <th>θερίζω</th>\n",
       "      <th>...</th>\n",
       "      <th>εἴδωλόν</th>\n",
       "      <th>φοβέω</th>\n",
       "      <th>θαυμάζω</th>\n",
       "      <th>ὀδυρμός</th>\n",
       "      <th>εὐαγγέλιον</th>\n",
       "      <th>ὑπακοην</th>\n",
       "      <th>ἀντικειμένωνἥτις</th>\n",
       "      <th>ἔνδειξις</th>\n",
       "      <th>ὑποτάσσω</th>\n",
       "      <th>συγχαίρω</th>\n",
       "    </tr>\n",
       "  </thead>\n",
       "  <tbody>\n",
       "    <tr>\n",
       "      <th>0</th>\n",
       "      <td>0</td>\n",
       "      <td>0</td>\n",
       "      <td>0</td>\n",
       "      <td>0</td>\n",
       "      <td>0</td>\n",
       "      <td>0</td>\n",
       "      <td>0</td>\n",
       "      <td>0</td>\n",
       "      <td>0</td>\n",
       "      <td>0</td>\n",
       "      <td>...</td>\n",
       "      <td>0</td>\n",
       "      <td>0</td>\n",
       "      <td>0</td>\n",
       "      <td>0</td>\n",
       "      <td>1</td>\n",
       "      <td>1</td>\n",
       "      <td>0</td>\n",
       "      <td>0</td>\n",
       "      <td>0</td>\n",
       "      <td>0</td>\n",
       "    </tr>\n",
       "    <tr>\n",
       "      <th>1</th>\n",
       "      <td>0</td>\n",
       "      <td>0</td>\n",
       "      <td>0</td>\n",
       "      <td>0</td>\n",
       "      <td>0</td>\n",
       "      <td>0</td>\n",
       "      <td>0</td>\n",
       "      <td>0</td>\n",
       "      <td>0</td>\n",
       "      <td>0</td>\n",
       "      <td>...</td>\n",
       "      <td>0</td>\n",
       "      <td>0</td>\n",
       "      <td>0</td>\n",
       "      <td>0</td>\n",
       "      <td>0</td>\n",
       "      <td>0</td>\n",
       "      <td>0</td>\n",
       "      <td>0</td>\n",
       "      <td>0</td>\n",
       "      <td>0</td>\n",
       "    </tr>\n",
       "    <tr>\n",
       "      <th>2</th>\n",
       "      <td>0</td>\n",
       "      <td>0</td>\n",
       "      <td>0</td>\n",
       "      <td>0</td>\n",
       "      <td>0</td>\n",
       "      <td>0</td>\n",
       "      <td>0</td>\n",
       "      <td>0</td>\n",
       "      <td>0</td>\n",
       "      <td>0</td>\n",
       "      <td>...</td>\n",
       "      <td>0</td>\n",
       "      <td>0</td>\n",
       "      <td>0</td>\n",
       "      <td>0</td>\n",
       "      <td>0</td>\n",
       "      <td>0</td>\n",
       "      <td>0</td>\n",
       "      <td>0</td>\n",
       "      <td>0</td>\n",
       "      <td>0</td>\n",
       "    </tr>\n",
       "    <tr>\n",
       "      <th>3</th>\n",
       "      <td>0</td>\n",
       "      <td>0</td>\n",
       "      <td>0</td>\n",
       "      <td>0</td>\n",
       "      <td>0</td>\n",
       "      <td>0</td>\n",
       "      <td>0</td>\n",
       "      <td>0</td>\n",
       "      <td>0</td>\n",
       "      <td>0</td>\n",
       "      <td>...</td>\n",
       "      <td>0</td>\n",
       "      <td>0</td>\n",
       "      <td>0</td>\n",
       "      <td>0</td>\n",
       "      <td>1</td>\n",
       "      <td>0</td>\n",
       "      <td>0</td>\n",
       "      <td>0</td>\n",
       "      <td>0</td>\n",
       "      <td>0</td>\n",
       "    </tr>\n",
       "    <tr>\n",
       "      <th>4</th>\n",
       "      <td>0</td>\n",
       "      <td>0</td>\n",
       "      <td>0</td>\n",
       "      <td>0</td>\n",
       "      <td>0</td>\n",
       "      <td>0</td>\n",
       "      <td>0</td>\n",
       "      <td>0</td>\n",
       "      <td>0</td>\n",
       "      <td>0</td>\n",
       "      <td>...</td>\n",
       "      <td>0</td>\n",
       "      <td>0</td>\n",
       "      <td>0</td>\n",
       "      <td>0</td>\n",
       "      <td>0</td>\n",
       "      <td>0</td>\n",
       "      <td>0</td>\n",
       "      <td>0</td>\n",
       "      <td>0</td>\n",
       "      <td>0</td>\n",
       "    </tr>\n",
       "  </tbody>\n",
       "</table>\n",
       "<p>5 rows × 2352 columns</p>\n",
       "</div>"
      ],
      "text/plain": [
       "   πρᾶγμα  ἡσσάομαι  θλίβω  θλίψιν  διδαχῆς  ψάλλω  ἐλάχιστόν  διατάσσω  ποῦ  \\\n",
       "0       0         0      0       0        0      0          0         0    0   \n",
       "1       0         0      0       0        0      0          0         0    0   \n",
       "2       0         0      0       0        0      0          0         0    0   \n",
       "3       0         0      0       0        0      0          0         0    0   \n",
       "4       0         0      0       0        0      0          0         0    0   \n",
       "\n",
       "   θερίζω  ...  εἴδωλόν  φοβέω  θαυμάζω  ὀδυρμός  εὐαγγέλιον  ὑπακοην  \\\n",
       "0       0  ...        0      0        0        0           1        1   \n",
       "1       0  ...        0      0        0        0           0        0   \n",
       "2       0  ...        0      0        0        0           0        0   \n",
       "3       0  ...        0      0        0        0           1        0   \n",
       "4       0  ...        0      0        0        0           0        0   \n",
       "\n",
       "   ἀντικειμένωνἥτις  ἔνδειξις  ὑποτάσσω  συγχαίρω  \n",
       "0                 0         0         0         0  \n",
       "1                 0         0         0         0  \n",
       "2                 0         0         0         0  \n",
       "3                 0         0         0         0  \n",
       "4                 0         0         0         0  \n",
       "\n",
       "[5 rows x 2352 columns]"
      ]
     },
     "execution_count": 49,
     "metadata": {
      "tags": []
     },
     "output_type": "execute_result"
    }
   ],
   "source": [
    "doc2term_df = pd.DataFrame(bow_doc2term.toarray(), columns=vocabulary)\n",
    "doc2term_df.head()"
   ]
  },
  {
   "cell_type": "code",
   "execution_count": null,
   "metadata": {
    "id": "fRsrUHsNJQl1"
   },
   "outputs": [],
   "source": [
    "def lsa_model(docs):\n",
    "    vocabulary =  list(set([word for doc in docs for word in doc]))\n",
    "    tfidf =  TfidfVectorizer(vocabulary=vocabulary) ### initiaze the model\n",
    "    X = tfidf.fit_transform([\" \".join(doc) for doc in docs]) ### run the model\n",
    "    Xc = (X.T * X)\n",
    "    svd = TruncatedSVD(n_components=50, n_iter=5, random_state=42)\n",
    "    svd.fit(Xc)\n",
    "    #term2doc = pd.DataFrame(Xc.toarray(), columns=vec.get_feature_names(), index=vec.get_feature_names())\n",
    "    lsa_model_data = pd.DataFrame(svd.components_, columns=vec.get_feature_names())\n",
    "    return lsa_model_data, Xc#term2doc"
   ]
  },
  {
   "cell_type": "code",
   "execution_count": null,
   "metadata": {
    "id": "Tarr--k1JQl1"
   },
   "outputs": [],
   "source": [
    "model, term2doc = lsa_model(christian_docs)"
   ]
  },
  {
   "cell_type": "code",
   "execution_count": null,
   "metadata": {
    "id": "JTUzIy8hJQl1",
    "outputId": "7dc8123b-b890-455b-d62f-51fafa9a9172"
   },
   "outputs": [
    {
     "data": {
      "text/plain": [
       "117515"
      ]
     },
     "execution_count": 108,
     "metadata": {
      "tags": []
     },
     "output_type": "execute_result"
    }
   ],
   "source": [
    "len(model.columns)"
   ]
  },
  {
   "cell_type": "code",
   "execution_count": null,
   "metadata": {
    "id": "WO8ljN_gJQl1"
   },
   "outputs": [],
   "source": [
    "def get_most_similar(model_df, target_term, number):\n",
    "  all_similar = []\n",
    "  for term in model_df.columns:\n",
    "    similarity = (term, cosine_similarity([model_df[target_term],  model_df[term]])[0][1])\n",
    "    all_similar.append(similarity)\n",
    "  return sorted(all_similar, key=lambda number: number[1], reverse=True)[1:number]"
   ]
  },
  {
   "cell_type": "code",
   "execution_count": null,
   "metadata": {
    "id": "WIhFzMqsJQl1"
   },
   "outputs": [],
   "source": [
    "words = [\"δίκαιος\", \"δίκη\", \"δικαιοσύνη\"]"
   ]
  },
  {
   "cell_type": "code",
   "execution_count": null,
   "metadata": {
    "id": "wl4yZvI_JQl1"
   },
   "outputs": [],
   "source": [
    "neighbours = {}  \n",
    "for word in words:\n",
    "    neighbours[word] = get_most_similar(model, word, 10)"
   ]
  },
  {
   "cell_type": "code",
   "execution_count": null,
   "metadata": {
    "id": "rWGmcHClJQl1",
    "outputId": "0d8471d4-c2a4-4e15-e6b7-d5ee60fcfc53"
   },
   "outputs": [
    {
     "data": {
      "text/html": [
       "<div>\n",
       "<style scoped>\n",
       "    .dataframe tbody tr th:only-of-type {\n",
       "        vertical-align: middle;\n",
       "    }\n",
       "\n",
       "    .dataframe tbody tr th {\n",
       "        vertical-align: top;\n",
       "    }\n",
       "\n",
       "    .dataframe thead th {\n",
       "        text-align: right;\n",
       "    }\n",
       "</style>\n",
       "<table border=\"1\" class=\"dataframe\">\n",
       "  <thead>\n",
       "    <tr style=\"text-align: right;\">\n",
       "      <th></th>\n",
       "      <th>δίκαιος</th>\n",
       "      <th>δίκη</th>\n",
       "      <th>δικαιοσύνη</th>\n",
       "    </tr>\n",
       "  </thead>\n",
       "  <tbody>\n",
       "    <tr>\n",
       "      <th>0</th>\n",
       "      <td>(ιειμένην, 0.9834371832818561)</td>\n",
       "      <td>(μετελεύσονται, 0.9384522490347709)</td>\n",
       "      <td>(καθυπηρετεῖ, 0.9710013738851778)</td>\n",
       "    </tr>\n",
       "    <tr>\n",
       "      <th>1</th>\n",
       "      <td>(εὐστοχίου, 0.9830720889621722)</td>\n",
       "      <td>(ἐπικουροί, 0.9384522490347709)</td>\n",
       "      <td>(ἐνδύσονται, 0.9706819000158255)</td>\n",
       "    </tr>\n",
       "    <tr>\n",
       "      <th>2</th>\n",
       "      <td>(λογιωτάτου, 0.9830720889621722)</td>\n",
       "      <td>(ἐριννύες, 0.9384522490347709)</td>\n",
       "      <td>(σιοί, 0.9706819000158255)</td>\n",
       "    </tr>\n",
       "    <tr>\n",
       "      <th>3</th>\n",
       "      <td>(λελύπηται, 0.9830720889621722)</td>\n",
       "      <td>(καταπεπηγμένων, 0.9344969432505092)</td>\n",
       "      <td>(περικτᾶται, 0.9699396541878471)</td>\n",
       "    </tr>\n",
       "    <tr>\n",
       "      <th>4</th>\n",
       "      <td>(τηρούσης, 0.9827599613491105)</td>\n",
       "      <td>(ἐξέτισας, 0.9182233983592916)</td>\n",
       "      <td>(ἡδυπαθείᾳ, 0.9699396541878471)</td>\n",
       "    </tr>\n",
       "    <tr>\n",
       "      <th>5</th>\n",
       "      <td>(μιμείσθω, 0.9826270670854331)</td>\n",
       "      <td>(γλωσσαργία, 0.8999555833389017)</td>\n",
       "      <td>(ἅνευ, 0.9695269024725653)</td>\n",
       "    </tr>\n",
       "    <tr>\n",
       "      <th>6</th>\n",
       "      <td>(ἰὼδ, 0.9822301096106603)</td>\n",
       "      <td>(κρυσταλλοειδεῖ, 0.8997426356399815)</td>\n",
       "      <td>(χρωννύντες, 0.9695269024725653)</td>\n",
       "    </tr>\n",
       "    <tr>\n",
       "      <th>7</th>\n",
       "      <td>(ἐπαράντων, 0.9820947343036778)</td>\n",
       "      <td>(διώκτας, 0.8970726088109655)</td>\n",
       "      <td>(πρυπορεύσεται, 0.9662484878532644)</td>\n",
       "    </tr>\n",
       "    <tr>\n",
       "      <th>8</th>\n",
       "      <td>(πειλθαρχεῖν, 0.9820947343036778)</td>\n",
       "      <td>(προςώποις, 0.8861867911971005)</td>\n",
       "      <td>(ἐπιφαινέσθω, 0.9660042345965665)</td>\n",
       "    </tr>\n",
       "  </tbody>\n",
       "</table>\n",
       "</div>"
      ],
      "text/plain": [
       "                             δίκαιος                                  δίκη  \\\n",
       "0     (ιειμένην, 0.9834371832818561)   (μετελεύσονται, 0.9384522490347709)   \n",
       "1    (εὐστοχίου, 0.9830720889621722)       (ἐπικουροί, 0.9384522490347709)   \n",
       "2   (λογιωτάτου, 0.9830720889621722)        (ἐριννύες, 0.9384522490347709)   \n",
       "3    (λελύπηται, 0.9830720889621722)  (καταπεπηγμένων, 0.9344969432505092)   \n",
       "4     (τηρούσης, 0.9827599613491105)        (ἐξέτισας, 0.9182233983592916)   \n",
       "5     (μιμείσθω, 0.9826270670854331)      (γλωσσαργία, 0.8999555833389017)   \n",
       "6          (ἰὼδ, 0.9822301096106603)  (κρυσταλλοειδεῖ, 0.8997426356399815)   \n",
       "7    (ἐπαράντων, 0.9820947343036778)         (διώκτας, 0.8970726088109655)   \n",
       "8  (πειλθαρχεῖν, 0.9820947343036778)       (προςώποις, 0.8861867911971005)   \n",
       "\n",
       "                            δικαιοσύνη  \n",
       "0    (καθυπηρετεῖ, 0.9710013738851778)  \n",
       "1     (ἐνδύσονται, 0.9706819000158255)  \n",
       "2           (σιοί, 0.9706819000158255)  \n",
       "3     (περικτᾶται, 0.9699396541878471)  \n",
       "4      (ἡδυπαθείᾳ, 0.9699396541878471)  \n",
       "5           (ἅνευ, 0.9695269024725653)  \n",
       "6     (χρωννύντες, 0.9695269024725653)  \n",
       "7  (πρυπορεύσεται, 0.9662484878532644)  \n",
       "8    (ἐπιφαινέσθω, 0.9660042345965665)  "
      ]
     },
     "execution_count": 110,
     "metadata": {
      "tags": []
     },
     "output_type": "execute_result"
    }
   ],
   "source": [
    "pd.DataFrame(neighbours)"
   ]
  },
  {
   "cell_type": "code",
   "execution_count": null,
   "metadata": {
    "id": "lrC6CyzKJQl2"
   },
   "outputs": [],
   "source": []
  }
 ],
 "metadata": {
  "colab": {
   "name": "OVERVIEW.ipynb",
   "provenance": []
  },
  "kernelspec": {
   "display_name": "Python 3",
   "language": "python",
   "name": "python3"
  },
  "language_info": {
   "codemirror_mode": {
    "name": "ipython",
    "version": 3
   },
   "file_extension": ".py",
   "mimetype": "text/x-python",
   "name": "python",
   "nbconvert_exporter": "python",
   "pygments_lexer": "ipython3",
   "version": "3.7.8"
  }
 },
 "nbformat": 4,
 "nbformat_minor": 1
}
