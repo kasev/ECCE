{
 "cells": [
  {
   "cell_type": "code",
   "execution_count": 621,
   "metadata": {
    "colab": {
     "base_uri": "https://localhost:8080/"
    },
    "id": "YLcAu3mXJOpL",
    "outputId": "f6031a77-240e-4c72-fb76-e6e20186523b"
   },
   "outputs": [],
   "source": [
    "### PREREQUISTIES\n",
    "### (many used only in one notebook...)\n",
    "\n",
    "import os\n",
    "from importlib import reload\n",
    "import pandas as pd\n",
    "import numpy as np\n",
    "import pickle\n",
    "import math\n",
    "import random\n",
    "import sys\n",
    "import csv\n",
    "import unicodedata\n",
    "import requests\n",
    "import re\n",
    "import networkx as nx\n",
    "from scipy import stats\n",
    "import plotly\n",
    "import kaleido\n",
    "\n",
    "import nltk\n",
    "\n",
    "import matplotlib.pyplot as plt\n",
    "import seaborn as sns\n",
    "\n",
    "# gensim parts\n",
    "from gensim import corpora\n",
    "from gensim import models\n",
    "\n",
    "### scikit-learn\n",
    "from sklearn.feature_extraction.text import CountVectorizer\n",
    "from sklearn.feature_extraction.text import TfidfVectorizer\n",
    "\n",
    "from sklearn.decomposition import TruncatedSVD \n",
    "from sklearn.metrics.pairwise import cosine_similarity\n",
    "from sklearn.metrics.pairwise import euclidean_distances\n",
    "\n",
    "import plotly.graph_objects as go\n",
    "\n",
    "import sddk\n",
    "\n",
    "import gspread\n",
    "from gspread_dataframe import get_as_dataframe, set_with_dataframe\n",
    "from google.oauth2 import service_account # based on google-auth library"
   ]
  },
  {
   "cell_type": "code",
   "execution_count": 622,
   "metadata": {},
   "outputs": [],
   "source": [
    "import textnet"
   ]
  },
  {
   "cell_type": "code",
   "execution_count": 623,
   "metadata": {},
   "outputs": [
    {
     "data": {
      "text/html": [
       "        <script type=\"text/javascript\">\n",
       "        window.PlotlyConfig = {MathJaxConfig: 'local'};\n",
       "        if (window.MathJax) {MathJax.Hub.Config({SVG: {font: \"STIX-Web\"}});}\n",
       "        if (typeof require !== 'undefined') {\n",
       "        require.undef(\"plotly\");\n",
       "        requirejs.config({\n",
       "            paths: {\n",
       "                'plotly': ['https://cdn.plot.ly/plotly-latest.min']\n",
       "            }\n",
       "        });\n",
       "        require(['plotly'], function(Plotly) {\n",
       "            window._Plotly = Plotly;\n",
       "        });\n",
       "        }\n",
       "        </script>\n",
       "        "
      ]
     },
     "metadata": {},
     "output_type": "display_data"
    },
    {
     "data": {
      "text/plain": [
       "<module 'textnet' from '/home/kasev/ECCE_AGT/scripts/textnet.py'>"
      ]
     },
     "execution_count": 623,
     "metadata": {},
     "output_type": "execute_result"
    }
   ],
   "source": [
    "reload(textnet)"
   ]
  },
  {
   "cell_type": "code",
   "execution_count": 624,
   "metadata": {
    "colab": {
     "base_uri": "https://localhost:8080/"
    },
    "id": "Vk65k519TvBW",
    "outputId": "92254476-4708-4e31-a8a4-7ceedba66d8b"
   },
   "outputs": [
    {
     "name": "stdout",
     "output_type": "stream",
     "text": [
      "sciencedata.dk username (format '123456@au.dk'): 648597@au.dk\n",
      "sciencedata.dk password: ········\n",
      "connection with shared folder established with you as its owner\n",
      "endpoint variable has been configured to: https://sciencedata.dk/files/SDAM_root/\n"
     ]
    }
   ],
   "source": [
    "### not neccessary for reading the data, just for exporting them to sciencedata.dk\n",
    "conf = sddk.configure(\"SDAM_root\", \"648597@au.dk\")"
   ]
  },
  {
   "cell_type": "code",
   "execution_count": 625,
   "metadata": {},
   "outputs": [],
   "source": [
    "# to access gsheet, you need Google Service Account key json file\n",
    "# I have mine located in my personal space on sciencedata.dk, so I read it from there:\n",
    "\n",
    "# (1) read the file and parse its content\n",
    "file_data = conf[0].get(\"https://sciencedata.dk/files/ServiceAccountsKey.json\").json()\n",
    "# (2) transform the content into crendentials object\n",
    "credentials = service_account.Credentials.from_service_account_info(file_data)\n",
    "# (3) specify your usage of the credentials\n",
    "scoped_credentials = credentials.with_scopes(['https://spreadsheets.google.com/feeds', 'https://www.googleapis.com/auth/drive'])\n",
    "# (4) use the constrained credentials for authentication of gspread package\n",
    "gc = gspread.Client(auth=scoped_credentials)\n",
    "\n",
    "ECCE_AGT_overview = gc.open_by_url(\"https://docs.google.com/spreadsheets/d/1KPpPaeX215HR_fVrakvJp8aB6oZDhHFTcBw0MKLw6as/edit?usp=sharing\")"
   ]
  },
  {
   "cell_type": "code",
   "execution_count": 664,
   "metadata": {
    "colab": {
     "base_uri": "https://localhost:8080/",
     "height": 394
    },
    "id": "uZILdTQmJQlv",
    "outputId": "507cee95-3b09-4f0d-cce8-72b93780d888"
   },
   "outputs": [
    {
     "data": {
      "text/html": [
       "<div>\n",
       "<style scoped>\n",
       "    .dataframe tbody tr th:only-of-type {\n",
       "        vertical-align: middle;\n",
       "    }\n",
       "\n",
       "    .dataframe tbody tr th {\n",
       "        vertical-align: top;\n",
       "    }\n",
       "\n",
       "    .dataframe thead th {\n",
       "        text-align: right;\n",
       "    }\n",
       "</style>\n",
       "<table border=\"1\" class=\"dataframe\">\n",
       "  <thead>\n",
       "    <tr style=\"text-align: right;\">\n",
       "      <th></th>\n",
       "      <th>filename</th>\n",
       "      <th>author</th>\n",
       "      <th>title</th>\n",
       "      <th>wordcount</th>\n",
       "      <th>author_id</th>\n",
       "      <th>doc_id</th>\n",
       "      <th>raw_date</th>\n",
       "      <th>date_avr</th>\n",
       "      <th>date_probs</th>\n",
       "      <th>date_manual</th>\n",
       "      <th>provenience</th>\n",
       "      <th>tlg_epithet</th>\n",
       "      <th>clean_string</th>\n",
       "      <th>sentences</th>\n",
       "      <th>n_sentences</th>\n",
       "      <th>lemmatized_sentences</th>\n",
       "    </tr>\n",
       "  </thead>\n",
       "  <tbody>\n",
       "    <tr>\n",
       "      <th>0</th>\n",
       "      <td>tlg0001.tlg001.perseus-grc2.xml</td>\n",
       "      <td>Apollonius Rhodius</td>\n",
       "      <td>Argonautica</td>\n",
       "      <td>38822</td>\n",
       "      <td>tlg0001</td>\n",
       "      <td>tlg0001.tlg001</td>\n",
       "      <td>3 B.C.</td>\n",
       "      <td>-2.5</td>\n",
       "      <td>{'-2.5': 1}</td>\n",
       "      <td>-2.5</td>\n",
       "      <td>pagan</td>\n",
       "      <td>Epici/-ae</td>\n",
       "      <td>ἀρχόμενος σέο, Φοῖβε, παλαιγενέων κλέα φωτῶν μ...</td>\n",
       "      <td>[ἀρχόμενος σέο, Φοῖβε, παλαιγενέων κλέα φωτῶν ...</td>\n",
       "      <td>3252</td>\n",
       "      <td>[[ἄρχω, Φοῖβος, παλαιγενής, κλέος, φώς, μιμνήσ...</td>\n",
       "    </tr>\n",
       "    <tr>\n",
       "      <th>1</th>\n",
       "      <td>tlg0003.tlg001.perseus-grc2.xml</td>\n",
       "      <td>Thucydides</td>\n",
       "      <td>The Peloponnesian War</td>\n",
       "      <td>150118</td>\n",
       "      <td>tlg0003</td>\n",
       "      <td>tlg0003.tlg001</td>\n",
       "      <td>5 B.C.</td>\n",
       "      <td>-4.5</td>\n",
       "      <td>{'-4.5': 1}</td>\n",
       "      <td>-4.5</td>\n",
       "      <td>pagan</td>\n",
       "      <td>Historici/-ae</td>\n",
       "      <td>Θουκυδίδης Ἀθηναῖος ξυνέγραψε τὸν πόλεμον τῶν...</td>\n",
       "      <td>[Θουκυδίδης Ἀθηναῖος ξυνέγραψε τὸν πόλεμον τῶν...</td>\n",
       "      <td>6068</td>\n",
       "      <td>[[θουκυδίδης, Ἀθηναῖος, συγγράφω, πόλεμος, Πελ...</td>\n",
       "    </tr>\n",
       "    <tr>\n",
       "      <th>2</th>\n",
       "      <td>tlg0004.tlg001.perseus-grc1.xml</td>\n",
       "      <td>Diogenes Laertius</td>\n",
       "      <td>Lives of Eminent Philosophers</td>\n",
       "      <td>110763</td>\n",
       "      <td>tlg0004</td>\n",
       "      <td>tlg0004.tlg001</td>\n",
       "      <td>A.D. 3</td>\n",
       "      <td>2.5</td>\n",
       "      <td>{'2.5': 1}</td>\n",
       "      <td>NaN</td>\n",
       "      <td></td>\n",
       "      <td>Biographi</td>\n",
       "      <td>Τὸ τῆς φιλοσοφίας ἔργον ἔνιοί φασιν ἀπὸ βαρβάρ...</td>\n",
       "      <td>[Τὸ τῆς φιλοσοφίας ἔργον ἔνιοί φασιν ἀπὸ βαρβά...</td>\n",
       "      <td>10245</td>\n",
       "      <td>[[φιλοσοφία, ἔργον, ἔνιοι, φημί, βάρβαρος, ἄρχ...</td>\n",
       "    </tr>\n",
       "    <tr>\n",
       "      <th>3</th>\n",
       "      <td>tlg0005.tlg001.perseus-grc1.xml</td>\n",
       "      <td>Theocritus</td>\n",
       "      <td>Idylls</td>\n",
       "      <td>19200</td>\n",
       "      <td>tlg0005</td>\n",
       "      <td>tlg0005.tlg001</td>\n",
       "      <td>4-3 B.C.</td>\n",
       "      <td>-3.0</td>\n",
       "      <td>{'-3.5': 0.5, '-2.5': 0.5}</td>\n",
       "      <td>NaN</td>\n",
       "      <td></td>\n",
       "      <td>Bucolici</td>\n",
       "      <td>̔Αδύ τι τὸ ψιθύρισμα καὶ ἁ πίτυς αἰπόλε τήνα,...</td>\n",
       "      <td>[Αδύ τι τὸ ψιθύρισμα καὶ ἁ πίτυς αἰπόλε τήνα, ...</td>\n",
       "      <td>1982</td>\n",
       "      <td>[[ψιθύρισμα, πίτυς, αἰπόλος, τῆνος, πηγή, μελί...</td>\n",
       "    </tr>\n",
       "    <tr>\n",
       "      <th>4</th>\n",
       "      <td>tlg0005.tlg002.perseus-grc1.xml</td>\n",
       "      <td>Theocritus</td>\n",
       "      <td>Epigrams</td>\n",
       "      <td>1734</td>\n",
       "      <td>tlg0005</td>\n",
       "      <td>tlg0005.tlg002</td>\n",
       "      <td>4-3 B.C.</td>\n",
       "      <td>-3.0</td>\n",
       "      <td>{'-3.5': 0.5, '-2.5': 0.5}</td>\n",
       "      <td>NaN</td>\n",
       "      <td></td>\n",
       "      <td>Bucolici</td>\n",
       "      <td>τὰ ῥόδα τὰ δροσόεντα καὶ ἁ κατάπυκνος ἐκείνα ἕ...</td>\n",
       "      <td>[τὰ ῥόδα τὰ δροσόεντα καὶ ἁ κατάπυκνος ἐκείνα ...</td>\n",
       "      <td>152</td>\n",
       "      <td>[[ῥόδον, δροσόεντα, κατάπυκνος, ἐκεῖνος, ἕρπυλ...</td>\n",
       "    </tr>\n",
       "  </tbody>\n",
       "</table>\n",
       "</div>"
      ],
      "text/plain": [
       "                          filename              author  \\\n",
       "0  tlg0001.tlg001.perseus-grc2.xml  Apollonius Rhodius   \n",
       "1  tlg0003.tlg001.perseus-grc2.xml          Thucydides   \n",
       "2  tlg0004.tlg001.perseus-grc1.xml   Diogenes Laertius   \n",
       "3  tlg0005.tlg001.perseus-grc1.xml          Theocritus   \n",
       "4  tlg0005.tlg002.perseus-grc1.xml          Theocritus   \n",
       "\n",
       "                           title  wordcount author_id          doc_id  \\\n",
       "0                    Argonautica      38822   tlg0001  tlg0001.tlg001   \n",
       "1          The Peloponnesian War     150118   tlg0003  tlg0003.tlg001   \n",
       "2  Lives of Eminent Philosophers     110763   tlg0004  tlg0004.tlg001   \n",
       "3                        Idylls       19200   tlg0005  tlg0005.tlg001   \n",
       "4                      Epigrams        1734   tlg0005  tlg0005.tlg002   \n",
       "\n",
       "   raw_date  date_avr                  date_probs  date_manual provenience  \\\n",
       "0    3 B.C.      -2.5                 {'-2.5': 1}         -2.5       pagan   \n",
       "1    5 B.C.      -4.5                 {'-4.5': 1}         -4.5       pagan   \n",
       "2    A.D. 3       2.5                  {'2.5': 1}          NaN               \n",
       "3  4-3 B.C.      -3.0  {'-3.5': 0.5, '-2.5': 0.5}          NaN               \n",
       "4  4-3 B.C.      -3.0  {'-3.5': 0.5, '-2.5': 0.5}          NaN               \n",
       "\n",
       "     tlg_epithet                                       clean_string  \\\n",
       "0      Epici/-ae  ἀρχόμενος σέο, Φοῖβε, παλαιγενέων κλέα φωτῶν μ...   \n",
       "1  Historici/-ae   Θουκυδίδης Ἀθηναῖος ξυνέγραψε τὸν πόλεμον τῶν...   \n",
       "2      Biographi  Τὸ τῆς φιλοσοφίας ἔργον ἔνιοί φασιν ἀπὸ βαρβάρ...   \n",
       "3       Bucolici   ̔Αδύ τι τὸ ψιθύρισμα καὶ ἁ πίτυς αἰπόλε τήνα,...   \n",
       "4       Bucolici  τὰ ῥόδα τὰ δροσόεντα καὶ ἁ κατάπυκνος ἐκείνα ἕ...   \n",
       "\n",
       "                                           sentences  n_sentences  \\\n",
       "0  [ἀρχόμενος σέο, Φοῖβε, παλαιγενέων κλέα φωτῶν ...         3252   \n",
       "1  [Θουκυδίδης Ἀθηναῖος ξυνέγραψε τὸν πόλεμον τῶν...         6068   \n",
       "2  [Τὸ τῆς φιλοσοφίας ἔργον ἔνιοί φασιν ἀπὸ βαρβά...        10245   \n",
       "3  [Αδύ τι τὸ ψιθύρισμα καὶ ἁ πίτυς αἰπόλε τήνα, ...         1982   \n",
       "4  [τὰ ῥόδα τὰ δροσόεντα καὶ ἁ κατάπυκνος ἐκείνα ...          152   \n",
       "\n",
       "                                lemmatized_sentences  \n",
       "0  [[ἄρχω, Φοῖβος, παλαιγενής, κλέος, φώς, μιμνήσ...  \n",
       "1  [[θουκυδίδης, Ἀθηναῖος, συγγράφω, πόλεμος, Πελ...  \n",
       "2  [[φιλοσοφία, ἔργον, ἔνιοι, φημί, βάρβαρος, ἄρχ...  \n",
       "3  [[ψιθύρισμα, πίτυς, αἰπόλος, τῆνος, πηγή, μελί...  \n",
       "4  [[ῥόδον, δροσόεντα, κατάπυκνος, ἐκεῖνος, ἕρπυλ...  "
      ]
     },
     "execution_count": 664,
     "metadata": {},
     "output_type": "execute_result"
    }
   ],
   "source": [
    "AGT = sddk.read_file(\"SDAM_data/AGT/AGT_lemmatized_20201205.json\", \"df\", conf)\n",
    "AGT.head(5)"
   ]
  },
  {
   "cell_type": "code",
   "execution_count": 665,
   "metadata": {},
   "outputs": [
    {
     "data": {
      "text/plain": [
       "14373580"
      ]
     },
     "execution_count": 665,
     "metadata": {},
     "output_type": "execute_result"
    }
   ],
   "source": [
    "def flat_lemmata(sentences):\n",
    "    lemmata = [word for sent in sentences for word in sent]\n",
    "    return lemmata\n",
    "AGT[\"lemmata\"] = AGT[\"lemmatized_sentences\"].apply(flat_lemmata)\n",
    "\n",
    "AGT[\"lemmata_wordcount\"] = AGT.apply(lambda row: len(row[\"lemmata\"]), axis=1)\n",
    "AGT[\"lemmata_wordcount\"].sum() # previously we had 13925726, then 13713183, finally 14756899"
   ]
  },
  {
   "cell_type": "code",
   "execution_count": 666,
   "metadata": {
    "id": "JbM6CmYLJQlv"
   },
   "outputs": [],
   "source": [
    "def get_flat_sentences(series):\n",
    "    sentences_list = [sent for doc in series.tolist() for sent in doc]\n",
    "    return sentences_list"
   ]
  },
  {
   "cell_type": "code",
   "execution_count": 667,
   "metadata": {
    "id": "Mv002MzcJQlw"
   },
   "outputs": [],
   "source": [
    "subcorpora_dict = {\n",
    "    \"Pagan (8th c. BCE - 4th c. CE)\" : AGT[(AGT[\"provenience\"]==\"pagan\") & (AGT[\"date_avr\"] < 4)],\n",
    "    \"Pagan (1st - 4th c. CE)\" : AGT[(AGT[\"date_avr\"].between(0, 4)) & (AGT[\"provenience\"]==\"pagan\")],\n",
    "    \"Septuagint\" : AGT[AGT[\"author_id\"]==\"tlg0527\"],\n",
    "    \"Philo of Alexandria\" : AGT[AGT[\"author_id\"]==\"tlg0018\"],\n",
    "    \"Titus Flavius Josephus\" : AGT[AGT[\"author_id\"]==\"tlg0526\"],\n",
    "    \"Paul of Tarsus\" : AGT[AGT[\"author_id\"]==\"tlg0031paul\"],\n",
    "    \"New Testament\" : AGT[AGT[\"author_id\"].str.startswith(\"tlg0031\")],\n",
    "    \"Christian (1st - 4th c. CE)\" : AGT[(AGT[\"date_avr\"] < 4) & (AGT[\"provenience\"]==\"christian\")]}"
   ]
  },
  {
   "cell_type": "code",
   "execution_count": 668,
   "metadata": {
    "colab": {
     "base_uri": "https://localhost:8080/",
     "height": 297
    },
    "id": "AKtzFvZnJQlw",
    "outputId": "8e51f6b4-e4f3-4d6c-d6ba-6142441d07dd"
   },
   "outputs": [
    {
     "data": {
      "text/html": [
       "<div>\n",
       "<style scoped>\n",
       "    .dataframe tbody tr th:only-of-type {\n",
       "        vertical-align: middle;\n",
       "    }\n",
       "\n",
       "    .dataframe tbody tr th {\n",
       "        vertical-align: top;\n",
       "    }\n",
       "\n",
       "    .dataframe thead th {\n",
       "        text-align: right;\n",
       "    }\n",
       "</style>\n",
       "<table border=\"1\" class=\"dataframe\">\n",
       "  <thead>\n",
       "    <tr style=\"text-align: right;\">\n",
       "      <th></th>\n",
       "      <th>label</th>\n",
       "      <th>wordcount</th>\n",
       "      <th>doccount</th>\n",
       "      <th>n_sentences</th>\n",
       "      <th>sentences</th>\n",
       "    </tr>\n",
       "  </thead>\n",
       "  <tbody>\n",
       "    <tr>\n",
       "      <th>0</th>\n",
       "      <td>Pagan (8th c. BCE - 4th c. CE)</td>\n",
       "      <td>12965219</td>\n",
       "      <td>774</td>\n",
       "      <td>1039409</td>\n",
       "      <td>[[ἄρχω, Φοῖβος, παλαιγενής, κλέος, φώς, μιμνήσ...</td>\n",
       "    </tr>\n",
       "    <tr>\n",
       "      <th>1</th>\n",
       "      <td>Pagan (1st - 4th c. CE)</td>\n",
       "      <td>8692448</td>\n",
       "      <td>411</td>\n",
       "      <td>723956</td>\n",
       "      <td>[[γεωγραφία, σόσσιε, σενεκίων, ἱστορικός, διαφ...</td>\n",
       "    </tr>\n",
       "    <tr>\n",
       "      <th>2</th>\n",
       "      <td>Septuagint</td>\n",
       "      <td>799083</td>\n",
       "      <td>55</td>\n",
       "      <td>57856</td>\n",
       "      <td>[[ποιέω, θεός, οὐρανός, γῆ], [γῆ, εἰμί, ἀόρατο...</td>\n",
       "    </tr>\n",
       "    <tr>\n",
       "      <th>3</th>\n",
       "      <td>Philo of Alexandria</td>\n",
       "      <td>643011</td>\n",
       "      <td>31</td>\n",
       "      <td>82966</td>\n",
       "      <td>[[ἄλλος, νομοθέτης, ἀκαλλώπιστος, γυμνός, νομι...</td>\n",
       "    </tr>\n",
       "    <tr>\n",
       "      <th>4</th>\n",
       "      <td>Titus Flavius Josephus</td>\n",
       "      <td>469580</td>\n",
       "      <td>4</td>\n",
       "      <td>19707</td>\n",
       "      <td>[[ἱστορία, συγγράφω, βούλομαι, αὐτός, ὁράω, σπ...</td>\n",
       "    </tr>\n",
       "    <tr>\n",
       "      <th>5</th>\n",
       "      <td>Paul of Tarsus</td>\n",
       "      <td>24066</td>\n",
       "      <td>7</td>\n",
       "      <td>1632</td>\n",
       "      <td>[[Παῦλος, δοῦλος, Ἰησοῦς, Χριστός, κλητός, ἀπό...</td>\n",
       "    </tr>\n",
       "    <tr>\n",
       "      <th>6</th>\n",
       "      <td>New Testament</td>\n",
       "      <td>137787</td>\n",
       "      <td>27</td>\n",
       "      <td>8698</td>\n",
       "      <td>[[βίβλος, γένεσις, Ἰησοῦς, Χριστός, υἱός, Δαυί...</td>\n",
       "    </tr>\n",
       "    <tr>\n",
       "      <th>7</th>\n",
       "      <td>Christian (1st - 4th c. CE)</td>\n",
       "      <td>2975644</td>\n",
       "      <td>131</td>\n",
       "      <td>291084</td>\n",
       "      <td>[[βίβλος, γένεσις, Ἰησοῦς, Χριστός, υἱός, Δαυί...</td>\n",
       "    </tr>\n",
       "  </tbody>\n",
       "</table>\n",
       "</div>"
      ],
      "text/plain": [
       "                            label  wordcount  doccount  n_sentences  \\\n",
       "0  Pagan (8th c. BCE - 4th c. CE)   12965219       774      1039409   \n",
       "1         Pagan (1st - 4th c. CE)    8692448       411       723956   \n",
       "2                      Septuagint     799083        55        57856   \n",
       "3             Philo of Alexandria     643011        31        82966   \n",
       "4          Titus Flavius Josephus     469580         4        19707   \n",
       "5                  Paul of Tarsus      24066         7         1632   \n",
       "6                   New Testament     137787        27         8698   \n",
       "7     Christian (1st - 4th c. CE)    2975644       131       291084   \n",
       "\n",
       "                                           sentences  \n",
       "0  [[ἄρχω, Φοῖβος, παλαιγενής, κλέος, φώς, μιμνήσ...  \n",
       "1  [[γεωγραφία, σόσσιε, σενεκίων, ἱστορικός, διαφ...  \n",
       "2  [[ποιέω, θεός, οὐρανός, γῆ], [γῆ, εἰμί, ἀόρατο...  \n",
       "3  [[ἄλλος, νομοθέτης, ἀκαλλώπιστος, γυμνός, νομι...  \n",
       "4  [[ἱστορία, συγγράφω, βούλομαι, αὐτός, ὁράω, σπ...  \n",
       "5  [[Παῦλος, δοῦλος, Ἰησοῦς, Χριστός, κλητός, ἀπό...  \n",
       "6  [[βίβλος, γένεσις, Ἰησοῦς, Χριστός, υἱός, Δαυί...  \n",
       "7  [[βίβλος, γένεσις, Ἰησοῦς, Χριστός, υἱός, Δαυί...  "
      ]
     },
     "execution_count": 668,
     "metadata": {},
     "output_type": "execute_result"
    }
   ],
   "source": [
    "subselections = []\n",
    "for key in subcorpora_dict.keys():\n",
    "    subselection = subcorpora_dict[key]\n",
    "    subselection_dict = {}\n",
    "    wordcount = subselection[\"wordcount\"].sum()\n",
    "    doccount = len(subselection)\n",
    "    sents = get_flat_sentences(subselection[\"lemmatized_sentences\"])\n",
    "    sents_len = len(sents)\n",
    "    subselection_dict.update({\"label\" : key, \"wordcount\" : wordcount, \"doccount\" : doccount, \"n_sentences\": sents_len,\"sentences\" : sents})\n",
    "    subselections.append(subselection_dict)\n",
    "subselections_df = pd.DataFrame(subselections)\n",
    "subselections_df"
   ]
  },
  {
   "cell_type": "markdown",
   "metadata": {
    "id": "jRnjxd5aJQlw"
   },
   "source": [
    "# term2term & term2doc matraces with sklearn - Paul as example"
   ]
  },
  {
   "cell_type": "code",
   "execution_count": 687,
   "metadata": {
    "id": "Lp-gMWPJJQlx"
   },
   "outputs": [],
   "source": [
    "# let's explore Pa\n",
    "docs = subselections_df.at[5, \"sentences\"]"
   ]
  },
  {
   "cell_type": "code",
   "execution_count": 688,
   "metadata": {
    "colab": {
     "base_uri": "https://localhost:8080/"
    },
    "id": "7jJLTsQxJQly",
    "outputId": "48f1edf5-8b84-472b-ce6c-437818528a8c"
   },
   "outputs": [
    {
     "data": {
      "text/plain": [
       "1632"
      ]
     },
     "execution_count": 688,
     "metadata": {},
     "output_type": "execute_result"
    }
   ],
   "source": [
    "len(docs)"
   ]
  },
  {
   "cell_type": "code",
   "execution_count": 689,
   "metadata": {
    "id": "lrC6CyzKJQl2"
   },
   "outputs": [
    {
     "data": {
      "text/plain": [
       "131"
      ]
     },
     "execution_count": 689,
     "metadata": {},
     "output_type": "execute_result"
    }
   ],
   "source": [
    "AGT_C = subcorpora_dict[\"Christian (1st - 4th c. CE)\"]\n",
    "len(AGT_C)"
   ]
  },
  {
   "cell_type": "code",
   "execution_count": 690,
   "metadata": {},
   "outputs": [
    {
     "data": {
      "text/html": [
       "<div>\n",
       "<style scoped>\n",
       "    .dataframe tbody tr th:only-of-type {\n",
       "        vertical-align: middle;\n",
       "    }\n",
       "\n",
       "    .dataframe tbody tr th {\n",
       "        vertical-align: top;\n",
       "    }\n",
       "\n",
       "    .dataframe thead th {\n",
       "        text-align: right;\n",
       "    }\n",
       "</style>\n",
       "<table border=\"1\" class=\"dataframe\">\n",
       "  <thead>\n",
       "    <tr style=\"text-align: right;\">\n",
       "      <th></th>\n",
       "      <th>filename</th>\n",
       "      <th>author</th>\n",
       "      <th>title</th>\n",
       "      <th>wordcount</th>\n",
       "      <th>author_id</th>\n",
       "      <th>doc_id</th>\n",
       "      <th>raw_date</th>\n",
       "      <th>date_avr</th>\n",
       "      <th>date_probs</th>\n",
       "      <th>date_manual</th>\n",
       "      <th>provenience</th>\n",
       "      <th>tlg_epithet</th>\n",
       "      <th>clean_string</th>\n",
       "      <th>sentences</th>\n",
       "      <th>n_sentences</th>\n",
       "      <th>lemmatized_sentences</th>\n",
       "      <th>lemmata</th>\n",
       "      <th>lemmata_wordcount</th>\n",
       "    </tr>\n",
       "  </thead>\n",
       "  <tbody>\n",
       "    <tr>\n",
       "      <th>385</th>\n",
       "      <td>tlg0031.tlg001.perseus-grc2.xml</td>\n",
       "      <td>None</td>\n",
       "      <td>New Testament - Matthew</td>\n",
       "      <td>18288</td>\n",
       "      <td>tlg0031matt</td>\n",
       "      <td>tlg0031.tlg001</td>\n",
       "      <td>A.D. 1</td>\n",
       "      <td>0.5</td>\n",
       "      <td>{'0.5': 1}</td>\n",
       "      <td>0.5</td>\n",
       "      <td>christian</td>\n",
       "      <td>[]</td>\n",
       "      <td>ΒΙΒΛΟΣ γενέσεως Ἰησοῦ Χριστοῦ υἱοῦ Δαυεὶδ υἱο...</td>\n",
       "      <td>[ΒΙΒΛΟΣ γενέσεως Ἰησοῦ Χριστοῦ υἱοῦ Δαυεὶδ υἱο...</td>\n",
       "      <td>1276</td>\n",
       "      <td>[[βίβλος, γένεσις, Ἰησοῦς, Χριστός, υἱός, Δαυί...</td>\n",
       "      <td>[βίβλος, γένεσις, Ἰησοῦς, Χριστός, υἱός, Δαυίδ...</td>\n",
       "      <td>8551</td>\n",
       "    </tr>\n",
       "    <tr>\n",
       "      <th>386</th>\n",
       "      <td>tlg0031.tlg002.perseus-grc2.xml</td>\n",
       "      <td>None</td>\n",
       "      <td>New Testament - Mark</td>\n",
       "      <td>11274</td>\n",
       "      <td>tlg0031mark</td>\n",
       "      <td>tlg0031.tlg002</td>\n",
       "      <td>A.D. 1</td>\n",
       "      <td>0.5</td>\n",
       "      <td>{'0.5': 1}</td>\n",
       "      <td>0.5</td>\n",
       "      <td>christian</td>\n",
       "      <td>[]</td>\n",
       "      <td>ΑΡΧΗ τοῦ εὐαγγελίου Ἰησοῦ Χριστοῦ . Καθὼς γέγ...</td>\n",
       "      <td>[ΑΡΧΗ τοῦ εὐαγγελίου Ἰησοῦ Χριστοῦ ., Καθὼς γέ...</td>\n",
       "      <td>790</td>\n",
       "      <td>[[ἀρχή, εὐαγγέλιον, Ἰησοῦς, Χριστός], [γράφω, ...</td>\n",
       "      <td>[ἀρχή, εὐαγγέλιον, Ἰησοῦς, Χριστός, γράφω, ἠσα...</td>\n",
       "      <td>5243</td>\n",
       "    </tr>\n",
       "    <tr>\n",
       "      <th>387</th>\n",
       "      <td>tlg0031.tlg003.perseus-grc2.xml</td>\n",
       "      <td>Luke (the evangelist)</td>\n",
       "      <td>New Testament - Luke</td>\n",
       "      <td>19458</td>\n",
       "      <td>tlg0031luke</td>\n",
       "      <td>tlg0031.tlg003</td>\n",
       "      <td>A.D. 1</td>\n",
       "      <td>0.5</td>\n",
       "      <td>{'0.5': 1}</td>\n",
       "      <td>0.5</td>\n",
       "      <td>christian</td>\n",
       "      <td>[]</td>\n",
       "      <td>ΕΠΕΙΔΗΠΕΡ ΠΟΛΛΟΙ ἐπεχείρησαν ἀνατάξασθαι διήγ...</td>\n",
       "      <td>[ΕΠΕΙΔΗΠΕΡ ΠΟΛΛΟΙ ἐπεχείρησαν ἀνατάξασθαι διήγ...</td>\n",
       "      <td>1274</td>\n",
       "      <td>[[πολύς, ἐπιχειρέω, ἀνατάσσομαι, διήγησις, πλη...</td>\n",
       "      <td>[πολύς, ἐπιχειρέω, ἀνατάσσομαι, διήγησις, πληρ...</td>\n",
       "      <td>9107</td>\n",
       "    </tr>\n",
       "    <tr>\n",
       "      <th>388</th>\n",
       "      <td>tlg0031.tlg004.perseus-grc2.xml</td>\n",
       "      <td>Johnannine literature</td>\n",
       "      <td>New Testament - John</td>\n",
       "      <td>15590</td>\n",
       "      <td>tlg0031john</td>\n",
       "      <td>tlg0031.tlg004</td>\n",
       "      <td>A.D. 1</td>\n",
       "      <td>0.5</td>\n",
       "      <td>{'0.5': 1}</td>\n",
       "      <td>0.5</td>\n",
       "      <td>christian</td>\n",
       "      <td>[]</td>\n",
       "      <td>ΕΝ ΑΡΧΗ ἦν ὁ λόγος, καὶ ὁ λόγος ἦν πρὸς τὸν θ...</td>\n",
       "      <td>[ΕΝ ΑΡΧΗ ἦν ὁ λόγος, καὶ ὁ λόγος ἦν πρὸς τὸν θ...</td>\n",
       "      <td>1164</td>\n",
       "      <td>[[ἀρχή, εἰμί, λόγος, λόγος, εἰμί, θεός, θεός, ...</td>\n",
       "      <td>[ἀρχή, εἰμί, λόγος, λόγος, εἰμί, θεός, θεός, ε...</td>\n",
       "      <td>7001</td>\n",
       "    </tr>\n",
       "    <tr>\n",
       "      <th>389</th>\n",
       "      <td>tlg0031.tlg005.perseus-grc2.xml</td>\n",
       "      <td>Luke (the evangelist)</td>\n",
       "      <td>New Testament - Acts</td>\n",
       "      <td>18406</td>\n",
       "      <td>tlg0031luke</td>\n",
       "      <td>tlg0031.tlg005</td>\n",
       "      <td>A.D. 1</td>\n",
       "      <td>0.5</td>\n",
       "      <td>{'0.5': 1}</td>\n",
       "      <td>0.5</td>\n",
       "      <td>christian</td>\n",
       "      <td>[]</td>\n",
       "      <td>τὸν μὲν πρῶτον λόγον ἐποιησάμην περὶ πάντων, ...</td>\n",
       "      <td>[τὸν μὲν πρῶτον λόγον ἐποιησάμην περὶ πάντων, ...</td>\n",
       "      <td>960</td>\n",
       "      <td>[[πρῶτος, λόγος, ποιέω, πᾶς, Θεόφιλος, ἄρχω, Ἰ...</td>\n",
       "      <td>[πρῶτος, λόγος, ποιέω, πᾶς, Θεόφιλος, ἄρχω, Ἰη...</td>\n",
       "      <td>9042</td>\n",
       "    </tr>\n",
       "  </tbody>\n",
       "</table>\n",
       "</div>"
      ],
      "text/plain": [
       "                            filename                 author  \\\n",
       "385  tlg0031.tlg001.perseus-grc2.xml                   None   \n",
       "386  tlg0031.tlg002.perseus-grc2.xml                   None   \n",
       "387  tlg0031.tlg003.perseus-grc2.xml  Luke (the evangelist)   \n",
       "388  tlg0031.tlg004.perseus-grc2.xml  Johnannine literature   \n",
       "389  tlg0031.tlg005.perseus-grc2.xml  Luke (the evangelist)   \n",
       "\n",
       "                       title  wordcount    author_id          doc_id raw_date  \\\n",
       "385  New Testament - Matthew      18288  tlg0031matt  tlg0031.tlg001   A.D. 1   \n",
       "386     New Testament - Mark      11274  tlg0031mark  tlg0031.tlg002   A.D. 1   \n",
       "387     New Testament - Luke      19458  tlg0031luke  tlg0031.tlg003   A.D. 1   \n",
       "388     New Testament - John      15590  tlg0031john  tlg0031.tlg004   A.D. 1   \n",
       "389     New Testament - Acts      18406  tlg0031luke  tlg0031.tlg005   A.D. 1   \n",
       "\n",
       "     date_avr  date_probs  date_manual provenience tlg_epithet  \\\n",
       "385       0.5  {'0.5': 1}          0.5   christian          []   \n",
       "386       0.5  {'0.5': 1}          0.5   christian          []   \n",
       "387       0.5  {'0.5': 1}          0.5   christian          []   \n",
       "388       0.5  {'0.5': 1}          0.5   christian          []   \n",
       "389       0.5  {'0.5': 1}          0.5   christian          []   \n",
       "\n",
       "                                          clean_string  \\\n",
       "385   ΒΙΒΛΟΣ γενέσεως Ἰησοῦ Χριστοῦ υἱοῦ Δαυεὶδ υἱο...   \n",
       "386   ΑΡΧΗ τοῦ εὐαγγελίου Ἰησοῦ Χριστοῦ . Καθὼς γέγ...   \n",
       "387   ΕΠΕΙΔΗΠΕΡ ΠΟΛΛΟΙ ἐπεχείρησαν ἀνατάξασθαι διήγ...   \n",
       "388   ΕΝ ΑΡΧΗ ἦν ὁ λόγος, καὶ ὁ λόγος ἦν πρὸς τὸν θ...   \n",
       "389   τὸν μὲν πρῶτον λόγον ἐποιησάμην περὶ πάντων, ...   \n",
       "\n",
       "                                             sentences  n_sentences  \\\n",
       "385  [ΒΙΒΛΟΣ γενέσεως Ἰησοῦ Χριστοῦ υἱοῦ Δαυεὶδ υἱο...         1276   \n",
       "386  [ΑΡΧΗ τοῦ εὐαγγελίου Ἰησοῦ Χριστοῦ ., Καθὼς γέ...          790   \n",
       "387  [ΕΠΕΙΔΗΠΕΡ ΠΟΛΛΟΙ ἐπεχείρησαν ἀνατάξασθαι διήγ...         1274   \n",
       "388  [ΕΝ ΑΡΧΗ ἦν ὁ λόγος, καὶ ὁ λόγος ἦν πρὸς τὸν θ...         1164   \n",
       "389  [τὸν μὲν πρῶτον λόγον ἐποιησάμην περὶ πάντων, ...          960   \n",
       "\n",
       "                                  lemmatized_sentences  \\\n",
       "385  [[βίβλος, γένεσις, Ἰησοῦς, Χριστός, υἱός, Δαυί...   \n",
       "386  [[ἀρχή, εὐαγγέλιον, Ἰησοῦς, Χριστός], [γράφω, ...   \n",
       "387  [[πολύς, ἐπιχειρέω, ἀνατάσσομαι, διήγησις, πλη...   \n",
       "388  [[ἀρχή, εἰμί, λόγος, λόγος, εἰμί, θεός, θεός, ...   \n",
       "389  [[πρῶτος, λόγος, ποιέω, πᾶς, Θεόφιλος, ἄρχω, Ἰ...   \n",
       "\n",
       "                                               lemmata  lemmata_wordcount  \n",
       "385  [βίβλος, γένεσις, Ἰησοῦς, Χριστός, υἱός, Δαυίδ...               8551  \n",
       "386  [ἀρχή, εὐαγγέλιον, Ἰησοῦς, Χριστός, γράφω, ἠσα...               5243  \n",
       "387  [πολύς, ἐπιχειρέω, ἀνατάσσομαι, διήγησις, πληρ...               9107  \n",
       "388  [ἀρχή, εἰμί, λόγος, λόγος, εἰμί, θεός, θεός, ε...               7001  \n",
       "389  [πρῶτος, λόγος, ποιέω, πᾶς, Θεόφιλος, ἄρχω, Ἰη...               9042  "
      ]
     },
     "execution_count": 690,
     "metadata": {},
     "output_type": "execute_result"
    }
   ],
   "source": [
    "AGT_C.head(5)"
   ]
  },
  {
   "cell_type": "code",
   "execution_count": 691,
   "metadata": {},
   "outputs": [
    {
     "data": {
      "text/plain": [
       "'Paul of Tarsus'"
      ]
     },
     "execution_count": 691,
     "metadata": {},
     "output_type": "execute_result"
    }
   ],
   "source": [
    "author = AGT_C[\"author\"][10]\n",
    "author"
   ]
  },
  {
   "cell_type": "code",
   "execution_count": 692,
   "metadata": {},
   "outputs": [
    {
     "data": {
      "text/plain": [
       "388    {'0.5': 1}\n",
       "407    {'0.5': 1}\n",
       "408    {'0.5': 1}\n",
       "409    {'0.5': 1}\n",
       "Name: date_probs, dtype: object"
      ]
     },
     "execution_count": 692,
     "metadata": {},
     "output_type": "execute_result"
    }
   ],
   "source": [
    "sub_df = AGT_C[AGT_C[\"author_id\"]==\"tlg0031john\"]\n",
    "sub_df[\"date_probs\"]"
   ]
  },
  {
   "cell_type": "code",
   "execution_count": 693,
   "metadata": {},
   "outputs": [
    {
     "data": {
      "text/plain": [
       "[['ἀρχή', 'εἰμί', 'λόγος', 'λόγος', 'εἰμί', 'θεός', 'θεός', 'εἰμί', 'λόγος'],\n",
       " ['ἀρχή', 'θεός'],\n",
       " ['πᾶς', 'γίγνομαι', 'γίγνομαι', 'εἷς'],\n",
       " ['γίγνομαι', 'ζωή', 'εἰμί', 'ζωή', 'φῶς', 'ἄνθρωπος'],\n",
       " ['φῶς', 'σκοτία', 'φαίνω', 'σκοτία', 'καταλαμβάνω'],\n",
       " ['γίγνομαι', 'ἄνθρωπος', 'ἀποστέλλω', 'θεός', 'ὄνομα', 'ἰωάνης'],\n",
       " ['οὗτος', 'ἔρχομαι', 'μαρτυρία', 'μαρτυρέω', 'φῶς', 'πᾶς', 'πιστεύω'],\n",
       " ['εἰμί', 'ἐκεῖνος', 'φῶς', 'μαρτυρέω', 'φῶς'],\n",
       " ['φῶς', 'ἀληθινός', 'φωτίζω', 'ἄνθρωπος', 'ἔρχομαι', 'κόσμος'],\n",
       " ['κόσμος', 'εἰμί', 'κόσμος', 'γίγνομαι', 'κόσμος', 'γιγνώσκω'],\n",
       " ['ἴδιος', 'ἔρχομαι', 'ἴδιος', 'παραλαμβάνω'],\n",
       " ['λαμβάνω',\n",
       "  'δίδωμι',\n",
       "  'ἐξουσία',\n",
       "  'τέκνον',\n",
       "  'θεός',\n",
       "  'γίγνομαι',\n",
       "  'πιστεύω',\n",
       "  'ὄνομα',\n",
       "  'αἷμα',\n",
       "  'θέλημα',\n",
       "  'σάρξ',\n",
       "  'θέλημα',\n",
       "  'ἀνήρ',\n",
       "  'θεός',\n",
       "  'γεννάω'],\n",
       " ['λόγος',\n",
       "  'σάρξ',\n",
       "  'γίγνομαι',\n",
       "  'σκηνόω',\n",
       "  'θεάομαι',\n",
       "  'δόξα',\n",
       "  'δόξα',\n",
       "  'μονογενής',\n",
       "  'πατήρ',\n",
       "  'πλήρης',\n",
       "  'χάρις',\n",
       "  'ἀλήθεια'],\n",
       " [],\n",
       " ['ἰωάνης',\n",
       "  'μαρτυρέω',\n",
       "  'κράζω',\n",
       "  'λέγω',\n",
       "  'οὗτος',\n",
       "  'λέγω',\n",
       "  'ἔρχομαι',\n",
       "  'γίγνομαι',\n",
       "  'πρῶτος',\n",
       "  'εἰμί'],\n",
       " ['πλήρωμα', 'πᾶς', 'λαμβάνω', 'χάρις', 'χάρις'],\n",
       " ['νόμος',\n",
       "  'μωυσέως',\n",
       "  'δίδωμι',\n",
       "  'χάρις',\n",
       "  'ἀλήθεια',\n",
       "  'Ἰησοῦς',\n",
       "  'Χριστός',\n",
       "  'γίγνομαι'],\n",
       " ['θεός', 'οὐδείς', 'ὁράω'],\n",
       " ['μονογενής', 'θεός', 'κόλπος', 'πατήρ', 'ἐκεῖνος', 'ἐξηγέομαι'],\n",
       " ['οὗτος',\n",
       "  'μαρτυρία',\n",
       "  'ἰωάνου',\n",
       "  'ἀποστέλλω',\n",
       "  'Ἰουδαῖος',\n",
       "  'ἰεροσολύμων',\n",
       "  'ἱερεύς',\n",
       "  'Λευίτης',\n",
       "  'ἐρωτάω',\n",
       "  'εἰμί'],\n",
       " ['ὁμολογέω', 'ἀρνέομαι', 'ὁμολογέω', 'εἰμί', 'χριστός'],\n",
       " ['ἐρωτάω'],\n",
       " ['Ἡλίας', 'εἰμί'],\n",
       " ['λέγω', 'εἰμί'],\n",
       " ['προφήτης', 'εἰμί'],\n",
       " ['ἀποκρίνω'],\n",
       " ['λέγω', 'εἰμί'],\n",
       " ['ἀπόκρισις', 'δίδωμι', 'πέμπω'],\n",
       " ['λέγω'],\n",
       " ['φημί',\n",
       "  'φωνή',\n",
       "  'βοάω',\n",
       "  'ἔρημος',\n",
       "  'εὐθύνω',\n",
       "  'ὁδός',\n",
       "  'κύριος',\n",
       "  'λέγω',\n",
       "  'ἠσαίας',\n",
       "  'προφήτης'],\n",
       " ['ἀποστέλλω', 'εἰμί', 'Φαρισαῖος'],\n",
       " ['ἐρωτάω', 'λέγω', 'βαπτίζω', 'χριστός', 'Ἡλίας', 'προφήτης'],\n",
       " ['ἀποκρίνω', 'ἰωάνης', 'λέγω', 'βαπτίζω', 'ὕδωρ'],\n",
       " ['μέσος',\n",
       "  'στήκω',\n",
       "  'οἶδα',\n",
       "  'ἔρχομαι',\n",
       "  'εἰμί',\n",
       "  'ἄξιος',\n",
       "  'λύω',\n",
       "  'ἱμάς',\n",
       "  'ὑπόδημα'],\n",
       " ['οὗτος', 'Βηθανία', 'γίγνομαι', 'Ἰορδάνης', 'εἰμί', 'ἰωάνης', 'βαπτίζω'],\n",
       " ['βλέπω',\n",
       "  'Ἰησοῦς',\n",
       "  'ἔρχομαι',\n",
       "  'λέγω',\n",
       "  'ὁράω',\n",
       "  'ἀμνός',\n",
       "  'θεός',\n",
       "  'ἀείρω',\n",
       "  'ἁμαρτία',\n",
       "  'κόσμος'],\n",
       " ['οὗτος', 'λέγω', 'ἔρχομαι', 'ἀνήρ', 'γίγνομαι', 'πρῶτος', 'εἰμί'],\n",
       " ['οἶδα', 'φανερόω', 'Ἰσραήλ', 'οὗτος', 'ἔρχομαι', 'ὕδωρ', 'βαπτίζω'],\n",
       " ['μαρτυρέω',\n",
       "  'ἰωάνης',\n",
       "  'λέγω',\n",
       "  'θεάομαι',\n",
       "  'πνεῦμα',\n",
       "  'καταβαίνω',\n",
       "  'περιστερά',\n",
       "  'οὐρανός',\n",
       "  'μένω'],\n",
       " ['οἶδα',\n",
       "  'πέμπω',\n",
       "  'βαπτίζω',\n",
       "  'ὕδωρ',\n",
       "  'ἐκεῖνος',\n",
       "  'λέγω',\n",
       "  'ὁράω',\n",
       "  'πνεῦμα',\n",
       "  'καταβαίνω',\n",
       "  'μένω',\n",
       "  'οὗτος',\n",
       "  'εἰμί',\n",
       "  'βαπτίζω',\n",
       "  'πνεῦμα',\n",
       "  'ἅγιος'],\n",
       " ['ὁράω', 'μαρτυρέω', 'οὗτος', 'υἱός', 'θεάομαι'],\n",
       " ['ἱστήκει',\n",
       "  'ἰωάνης',\n",
       "  'μαθητής',\n",
       "  'δύο',\n",
       "  'ἐμβλέπω',\n",
       "  'Ἰησοῦς',\n",
       "  'περιπατέω',\n",
       "  'λέγω',\n",
       "  'ὁράω',\n",
       "  'ἀμνός',\n",
       "  'θεάομαι'],\n",
       " ['ἀκούω', 'μαθητής', 'λαλέω', 'ἀκολουθέω', 'Ἰησοῦς'],\n",
       " ['στρέφω', 'Ἰησοῦς', 'θεάομαι', 'ἀκολουθέω', 'λέγω', 'ζητέω'],\n",
       " ['λέγω', 'αὐτός', 'ῥαββί'],\n",
       " ['λέγω', 'μεθερμηνεύω', 'διδάσκαλος'],\n",
       " ['μένω'],\n",
       " ['λέγω', 'ἔρχομαι', 'ὁράω'],\n",
       " ['ἔρχομαι', 'ὁράω', 'μένω', 'μένω', 'ἡμέρα', 'ἐκεῖνος'],\n",
       " ['ὥρα', 'εἰμί', 'δέκατος'],\n",
       " ['Ἀνδρέας', 'ἀδελφός', 'Σίμων', 'Πέτρος', 'ἀκούω', 'ἰωάνου', 'ἀκολουθέω'],\n",
       " ['εὑρίσκω',\n",
       "  'οὗτος',\n",
       "  'πρῶτος',\n",
       "  'ἀδελφός',\n",
       "  'ἴδιος',\n",
       "  'Σίμων',\n",
       "  'λέγω',\n",
       "  'εὑρίσκω',\n",
       "  'Μεσσίας'],\n",
       " ['εἰμί', 'μεθερμηνεύω', 'Χριστός'],\n",
       " ['ἄγω', 'Ἰησοῦς'],\n",
       " ['ἐμβλέπω', 'Ἰησοῦς', 'λέγω', 'Σίμων', 'υἱός', 'ἰωάνου', 'καλέω', 'Κηφᾶς'],\n",
       " ['ἑρμηνεύω', 'Πέτρος'],\n",
       " ['ἐθέλω', 'ἐξέρχομαι', 'Γαλιλαία'],\n",
       " ['εὑρίσκω', 'Φίλιππος', 'λέγω', 'Ἰησοῦς', 'ἀκολουθέω'],\n",
       " ['Φίλιππος', 'βηθσαιδά', 'πόλις', 'Ἀνδρέας', 'Πέτρος'],\n",
       " ['εὑρίσκω',\n",
       "  'Φίλιππος',\n",
       "  'Ναθαναήλ',\n",
       "  'λέγω',\n",
       "  'γράφω',\n",
       "  'μωυσῆς',\n",
       "  'νόμος',\n",
       "  'προφήτης',\n",
       "  'εὑρίσκω',\n",
       "  'Ἰησοῦς',\n",
       "  'υἱός',\n",
       "  'Ἰωσήφ',\n",
       "  'Ναζαρά'],\n",
       " ['λέγω', 'Ναθαναήλ', 'Ναζαρά', 'δύναμαι', 'ἀγαθός', 'εἰμί'],\n",
       " ['λέγω', 'Φίλιππος', 'ἔρχομαι', 'ὁράω'],\n",
       " ['ὁράω',\n",
       "  'Ἰησοῦς',\n",
       "  'Ναθαναήλ',\n",
       "  'ἔρχομαι',\n",
       "  'λέγω',\n",
       "  'ὁράω',\n",
       "  'Ἰσραηλίτης',\n",
       "  'δόλος',\n",
       "  'εἰμί'],\n",
       " ['λέγω', 'Ναθαναήλ', 'γιγνώσκω'],\n",
       " ['ἀποκρίνω', 'Ἰησοῦς', 'λέγω', 'Φίλιππος', 'φωνέω', 'συκῆ', 'ὁράω'],\n",
       " ['ἀποκρίνω',\n",
       "  'Ναθαναήλ',\n",
       "  'ῥαββί',\n",
       "  'εἰμί',\n",
       "  'υἱός',\n",
       "  'θεός',\n",
       "  'βασιλεύς',\n",
       "  'εἰμί',\n",
       "  'Ἰσραήλ'],\n",
       " ['ἀποκρίνω', 'Ἰησοῦς', 'λέγω', 'λέγω', 'ὁράω', 'συκῆ', 'πιστεύω'],\n",
       " ['μέγας', 'οὗτος', 'ὁράω'],\n",
       " ['λέγω',\n",
       "  'λέγω',\n",
       "  'ὁράω',\n",
       "  'οὐρανός',\n",
       "  'ἀνοίγνυμι',\n",
       "  'ἄγγελος',\n",
       "  'θεός',\n",
       "  'ἀναβαίνω',\n",
       "  'καταβαίνω',\n",
       "  'υἱός',\n",
       "  'ἄνθρωπος'],\n",
       " ['ἡμέρα',\n",
       "  'τρίτος',\n",
       "  'γάμος',\n",
       "  'γίγνομαι',\n",
       "  'Κανά',\n",
       "  'Γαλιλαία',\n",
       "  'εἰμί',\n",
       "  'μήτηρ',\n",
       "  'Ἰησοῦς'],\n",
       " ['καλέω', 'Ἰησοῦς', 'μαθητής', 'γάμος'],\n",
       " ['ὑστερήσαντος', 'οἶνος', 'λέγω', 'μήτηρ', 'Ἰησοῦς', 'οἶνος', 'ἔχω'],\n",
       " ['λέγω', 'Ἰησοῦς', 'γυνή'],\n",
       " ['ἥκω', 'ὥρα'],\n",
       " ['λέγω', 'μήτηρ', 'διάκονος', 'λέγω', 'ποιέω'],\n",
       " ['λίθινος',\n",
       "  'ὑδρία',\n",
       "  'καθαρισμός',\n",
       "  'Ἰουδαῖος',\n",
       "  'κεῖμαι',\n",
       "  'χωρέω',\n",
       "  'μετρητής',\n",
       "  'δύο',\n",
       "  'τρεῖς'],\n",
       " ['λέγω', 'Ἰησοῦς', 'γεμίζω', 'ὑδρία', 'ὕδωρ'],\n",
       " ['γεμίζω'],\n",
       " ['λέγω', 'ἀντλέω', 'φέρω', 'ἀρχιτρίκλινος'],\n",
       " ['φέρω'],\n",
       " ['γεύομαι',\n",
       "  'ἀρχιτρίκλινος',\n",
       "  'ὕδωρ',\n",
       "  'οἶνος',\n",
       "  'γίγνομαι',\n",
       "  'οἶδα',\n",
       "  'εἰμί',\n",
       "  'διάκονος',\n",
       "  'οἶδα',\n",
       "  'ἀντλέω',\n",
       "  'ὕδωρ',\n",
       "  'φωνέω',\n",
       "  'νυμφίος',\n",
       "  'ἀρχιτρίκλινος',\n",
       "  'λέγω',\n",
       "  'ἄνθρωπος',\n",
       "  'πρῶτος',\n",
       "  'καλός',\n",
       "  'οἶνος',\n",
       "  'τίθημι',\n",
       "  'μεθύω',\n",
       "  'ἐλάσσων'],\n",
       " ['τηρέω', 'καλός', 'οἶνος'],\n",
       " ['ποιέω',\n",
       "  'ἀρχή',\n",
       "  'σημεῖον',\n",
       "  'Ἰησοῦς',\n",
       "  'Κανά',\n",
       "  'Γαλιλαία',\n",
       "  'φανερόω',\n",
       "  'δόξα',\n",
       "  'πιστεύω',\n",
       "  'μαθητής'],\n",
       " ['καταβαίνω',\n",
       "  'Καφαρναούμ',\n",
       "  'μήτηρ',\n",
       "  'ἀδελφός',\n",
       "  'μαθητής',\n",
       "  'μένω',\n",
       "  'πολύς',\n",
       "  'ἡμέρα'],\n",
       " ['πάσχα', 'Ἰουδαῖος', 'ἀναβαίνω', 'ἰεροσόλυμα', 'Ἰησοῦς'],\n",
       " ['εὑρίσκω',\n",
       "  'ἱερόν',\n",
       "  'πωλέω',\n",
       "  'βοῦς',\n",
       "  'πρόβατον',\n",
       "  'περιστερά',\n",
       "  'κερματιστής',\n",
       "  'κάθημαι',\n",
       "  'ποιέω',\n",
       "  'φραγέλλιον',\n",
       "  'σχοινίον',\n",
       "  'ἐκβάλλω',\n",
       "  'ἱερόν',\n",
       "  'πρόβατον',\n",
       "  'βοῦς',\n",
       "  'κολλυβιστής',\n",
       "  'ἐκχέω',\n",
       "  'κέρμα',\n",
       "  'τράπεζα',\n",
       "  'ἀνατρέπω',\n",
       "  'περιστερά',\n",
       "  'πωλέω',\n",
       "  'λέγω',\n",
       "  'ἀρατός',\n",
       "  'ποιέω',\n",
       "  'οἶκος',\n",
       "  'πατήρ',\n",
       "  'οἶκος',\n",
       "  'ἐμπόριον'],\n",
       " ['μιμνῄσκω', 'μαθητής', 'γράφω', 'ζῆλος', 'οἶκος', 'κατεσθίω'],\n",
       " ['ἀποκρίνω', 'Ἰουδαῖος', 'λέγω', 'σημεῖον', 'δείκνυμι', 'ποιέω'],\n",
       " ['ἀποκρίνω', 'Ἰησοῦς', 'λέγω', 'λύω', 'ναός', 'ἡμέρα', 'ἐγείρω'],\n",
       " ['λέγω',\n",
       "  'Ἰουδαῖος',\n",
       "  'τεσσαράκοντα',\n",
       "  'ἔτος',\n",
       "  'οἰκοδομέω',\n",
       "  'ναός',\n",
       "  'οὗτος',\n",
       "  'ἡμέρα',\n",
       "  'ἐγείρω'],\n",
       " ['ἐκεῖνος', 'λέγω', 'ναός', 'σῶμα'],\n",
       " ['ἐγείρω',\n",
       "  'νεκρός',\n",
       "  'μιμνῄσκω',\n",
       "  'μαθητής',\n",
       "  'λέγω',\n",
       "  'πιστεύω',\n",
       "  'γραφή',\n",
       "  'λόγος',\n",
       "  'λέγω',\n",
       "  'Ἰησοῦς'],\n",
       " ['ἰεροσολύμοις',\n",
       "  'πάσχα',\n",
       "  'ἑορτή',\n",
       "  'πολύς',\n",
       "  'πιστεύω',\n",
       "  'ὄνομα',\n",
       "  'θεωρέω',\n",
       "  'σημεῖον',\n",
       "  'ποιέω'],\n",
       " ['Ἰησοῦς',\n",
       "  'πιστεύω',\n",
       "  'γιγνώσκω',\n",
       "  'πᾶς',\n",
       "  'χρεία',\n",
       "  'ἔχω',\n",
       "  'τὶς',\n",
       "  'μαρτυρέω',\n",
       "  'ἄνθρωπος',\n",
       "  'γιγνώσκω',\n",
       "  'εἰμί',\n",
       "  'ἄνθρωπος'],\n",
       " ['ἄνθρωπος', 'Φαρισαῖος', 'Νικόδημος', 'ὄνομα', 'αὐτός', 'ἄρχων', 'Ἰουδαῖος'],\n",
       " ['οὗτος',\n",
       "  'ἔρχομαι',\n",
       "  'νύξ',\n",
       "  'λέγω',\n",
       "  'ῥαββί',\n",
       "  'οἶδα',\n",
       "  'θεός',\n",
       "  'ἔρχομαι',\n",
       "  'διδάσκαλος'],\n",
       " ['οὐδείς', 'δύναμαι', 'σημεῖον', 'ποιέω', 'ποιέω', 'εἰμί', 'θεός'],\n",
       " ['ἀποκρίνω',\n",
       "  'Ἰησοῦς',\n",
       "  'λέγω',\n",
       "  'λέγω',\n",
       "  'γεννάω',\n",
       "  'δύναμαι',\n",
       "  'ὁράω',\n",
       "  'βασιλεία',\n",
       "  'θεάομαι'],\n",
       " ['λέγω', 'Νικόδημος', 'δύναμαι', 'ἄνθρωπος', 'γεννάω', 'γέρων', 'εἰμί'],\n",
       " ['δύναμαι', 'κοιλία', 'μήτηρ', 'δεύτερος', 'εἰσέρχομαι', 'γεννάω'],\n",
       " ['ἀποκρίνω',\n",
       "  'Ἰησοῦς',\n",
       "  'λέγω',\n",
       "  'γεννάω',\n",
       "  'ὕδωρ',\n",
       "  'πνεῦμα',\n",
       "  'δύναμαι',\n",
       "  'εἰσέρχομαι',\n",
       "  'βασιλεία',\n",
       "  'θεάομαι'],\n",
       " ['γεννάω', 'σάρξ', 'σάρξ', 'εἰμί', 'γεννάω', 'πνεῦμα', 'πνεῦμα', 'εἰμί'],\n",
       " ['θαυμάζω', 'λέγω', 'δεῖ', 'γεννάω'],\n",
       " ['πνεῦμα', 'ἐθέλω', 'πνέω', 'φωνή', 'ἀκούω', 'οἶδα', 'ἔρχομαι', 'ὑπάγω'],\n",
       " ['γεννάω', 'πνεῦμα'],\n",
       " ['ἀποκρίνω', 'Νικόδημος', 'λέγω', 'δύναμαι', 'γίγνομαι'],\n",
       " ['ἀποκρίνω', 'Ἰησοῦς', 'λέγω', 'διδάσκαλος', 'Ἰσραήλ', 'γιγνώσκω'],\n",
       " ['λέγω', 'οἶδα', 'λαλέω', 'ὁράω', 'μαρτυρέω', 'μαρτυρία', 'λαμβάνω'],\n",
       " ['ἐπίγειος', 'λέγω', 'πιστεύω', 'λέγω', 'ἐπουράνιος', 'πιστεύω'],\n",
       " ['οὐδείς', 'ἀναβαίνω', 'οὐρανός', 'οὐρανός', 'καταβαίνω', 'υἱός', 'ἄνθρωπος'],\n",
       " ['μωυσῆς',\n",
       "  'ὑψόω',\n",
       "  'ὄφις',\n",
       "  'ἔρημος',\n",
       "  'ὑψόω',\n",
       "  'δεῖ',\n",
       "  'υἱός',\n",
       "  'ἄνθρωπος',\n",
       "  'πᾶς',\n",
       "  'πιστεύω',\n",
       "  'ἔχω',\n",
       "  'ζωή',\n",
       "  'αἰώνιος'],\n",
       " ['ἀγαπάω',\n",
       "  'θεός',\n",
       "  'κόσμος',\n",
       "  'υἱός',\n",
       "  'μονογενής',\n",
       "  'δίδωμι',\n",
       "  'πᾶς',\n",
       "  'πιστεύω',\n",
       "  'ἀπόλλυμι',\n",
       "  'ἔχω',\n",
       "  'ζωή',\n",
       "  'αἰώνιος'],\n",
       " ['ἀποστέλλω', 'θεός', 'υἱός', 'κόσμος', 'κρίνω', 'κόσμος', 'σῴζω', 'κόσμος'],\n",
       " ['πιστεύω', 'κρίνω'],\n",
       " ['πιστεύω', 'κρίνω', 'πιστεύω', 'ὄνομα', 'μονογενής', 'υἱός', 'θεάομαι'],\n",
       " ['οὗτος',\n",
       "  'κρίσις',\n",
       "  'φῶς',\n",
       "  'ἔρχομαι',\n",
       "  'κόσμος',\n",
       "  'ἀγαπάω',\n",
       "  'ἄνθρωπος',\n",
       "  'σκότος',\n",
       "  'φῶς',\n",
       "  'εἰμί',\n",
       "  'πονηρός',\n",
       "  'ἔργον'],\n",
       " ['φαῦλος', 'πράσσω', 'μισέω', 'φῶς', 'ἔρχομαι', 'φῶς', 'ἐλέγχω', 'ἔργον'],\n",
       " ['ποιέω',\n",
       "  'ἀλήθεια',\n",
       "  'ἔρχομαι',\n",
       "  'φῶς',\n",
       "  'φανερόω',\n",
       "  'ἔργον',\n",
       "  'θεός',\n",
       "  'εἰμί',\n",
       "  'ἐργάζομαι'],\n",
       " ['οὗτος',\n",
       "  'ἔρχομαι',\n",
       "  'Ἰησοῦς',\n",
       "  'μαθητής',\n",
       "  'Ἰουδαία',\n",
       "  'γῆ',\n",
       "  'διατρίβω',\n",
       "  'βαπτίζω'],\n",
       " ['ἰωάνης',\n",
       "  'βαπτίζω',\n",
       "  'Αἰνών',\n",
       "  'Σαλείμ',\n",
       "  'ὕδωρ',\n",
       "  'πολύς',\n",
       "  'εἰμί',\n",
       "  'παραγίγνομαι',\n",
       "  'βαπτίζω'],\n",
       " ['βάλλω', 'φυλακή', 'ἰωάνης'],\n",
       " ['γίγνομαι', 'ζήτησις', 'μαθητής', 'ἰωάνου', 'Ἰουδαῖος', 'καθαρισμός'],\n",
       " ['ἔρχομαι',\n",
       "  'ἰωάνην',\n",
       "  'λέγω',\n",
       "  'ῥαββί',\n",
       "  'εἰμί',\n",
       "  'Ἰορδάνης',\n",
       "  'μαρτυρέω',\n",
       "  'ὁράω',\n",
       "  'βαπτίζω',\n",
       "  'πᾶς',\n",
       "  'ἔρχομαι'],\n",
       " ['ἀποκρίνω',\n",
       "  'ἰωάνης',\n",
       "  'λέγω',\n",
       "  'δύναμαι',\n",
       "  'ἄνθρωπος',\n",
       "  'λαμβάνω',\n",
       "  'οὐδείς',\n",
       "  'δίδωμι',\n",
       "  'οὐρανός'],\n",
       " ['μαρτυρέω', 'λέγω', 'χριστός', 'ἀποστέλλω', 'εἰμί'],\n",
       " ['ἔχω', 'νύμφη', 'νυμφίος', 'εἰμί'],\n",
       " ['φίλος', 'νυμφίος', 'ἵστημι', 'ἀκούω', 'χαρά', 'χαίρω', 'φωνή', 'νυμφίος'],\n",
       " ['χαρά', 'ἐμός', 'πληρόω'],\n",
       " ['ἐκεῖνος', 'δεῖ', 'αὐξάνω', 'ἐλαττόω'],\n",
       " ['ἔρχομαι', 'πᾶς', 'εἰμί'],\n",
       " ['γῆ', 'γῆ', 'γῆ', 'λαλέω'],\n",
       " ['οὐρανός', 'ἔρχομαι', 'πᾶς', 'εἰμί'],\n",
       " ['ὁράω', 'ἀκούω', 'μαρτυρέω', 'μαρτυρία', 'οὐδείς', 'λαμβάνω'],\n",
       " ['λαμβάνω', 'μαρτυρία', 'σφραγίζω', 'θεός', 'ἀληθής', 'εἰμί'],\n",
       " ['ἀποστέλλω', 'θεός', 'ῥῆμα', 'θεός', 'λαλέω', 'μέτρον', 'δίδωμι', 'πνεῦμα'],\n",
       " ['πατήρ', 'ἀγαπάω', 'υἱός', 'πᾶς', 'δίδωμι', 'χείρ'],\n",
       " ['πιστεύω', 'υἱός', 'ἔχω', 'ζωή', 'αἰώνιος'],\n",
       " ['ἀπειθέω', 'υἱός', 'ὁράω', 'ζωή', 'ὀργή', 'θεός', 'μένω'],\n",
       " [],\n",
       " ['οὖς',\n",
       "  'γιγνώσκω',\n",
       "  'κύριος',\n",
       "  'ἀκούω',\n",
       "  'Φαρισαῖος',\n",
       "  'Ἰησοῦς',\n",
       "  'πολύς',\n",
       "  'μαθητής',\n",
       "  'ποιέω',\n",
       "  'βαπτίζω',\n",
       "  'ἰωάνης',\n",
       "  'Ἰησοῦς',\n",
       "  'βαπτίζω',\n",
       "  'μαθητής',\n",
       "  'ἀφίημι',\n",
       "  'Ἰουδαία',\n",
       "  'ἀπέρχομαι',\n",
       "  'Γαλιλαία'],\n",
       " ['δεῖ', 'διέρχομαι', 'Σαμάρεια'],\n",
       " ['ἔρχομαι',\n",
       "  'πόλις',\n",
       "  'Σαμάρεια',\n",
       "  'λέγω',\n",
       "  'Συχάρ',\n",
       "  'χωρίον',\n",
       "  'δίδωμι',\n",
       "  'Ἰακώβ',\n",
       "  'Ἰωσήφ',\n",
       "  'υἱός'],\n",
       " ['πηγή', 'Ἰακώβ'],\n",
       " ['Ἰησοῦς', 'κοπιάω', 'ὁδοιπορία', 'καθέζομαι', 'πηγή'],\n",
       " ['ὥρα', 'εἰμί', 'ἕκτος'],\n",
       " ['ἔρχομαι', 'γυνή', 'Σαμάρεια', 'ἀντλέω', 'ὕδωρ'],\n",
       " ['λέγω', 'Ἰησοῦς', 'δίδωμι', 'πίνω'],\n",
       " ['μαθητής', 'ἀπέρχομαι', 'πόλις', 'τροφή', 'ἀγοράζω'],\n",
       " ['λέγω',\n",
       "  'γυνή',\n",
       "  'Σαμαρείτης',\n",
       "  'Ἰουδαῖος',\n",
       "  'πίνω',\n",
       "  'αἰτέω',\n",
       "  'γυνή',\n",
       "  'Σαμαρείτης',\n",
       "  'εἰμί'],\n",
       " ['συγχράομαι', 'Ἰουδαῖος', 'Σαμαρείτης'],\n",
       " ['ἀποκρίνω',\n",
       "  'Ἰησοῦς',\n",
       "  'λέγω',\n",
       "  'οἶδα',\n",
       "  'δωρεά',\n",
       "  'θεός',\n",
       "  'λέγω',\n",
       "  'δίδωμι',\n",
       "  'πίνω',\n",
       "  'αἰτέω',\n",
       "  'δίδωμι',\n",
       "  'ὕδωρ',\n",
       "  'ζῶ'],\n",
       " ['λέγω', 'κύριος', 'ἄντλημα', 'ἔχω', 'φρέαρ', 'εἰμί', 'βαθύς'],\n",
       " ['ἔχω', 'ὕδωρ', 'ζῶ'],\n",
       " ['μέγας',\n",
       "  'πατήρ',\n",
       "  'Ἰακώβ',\n",
       "  'δίδωμι',\n",
       "  'φρέαρ',\n",
       "  'αὐτός',\n",
       "  'πίνω',\n",
       "  'υἱός',\n",
       "  'θρέμμα'],\n",
       " ['ἀποκρίνω', 'Ἰησοῦς', 'λέγω', 'πίνω', 'ὕδωρ', 'διψάω'],\n",
       " ['πίνω',\n",
       "  'ὕδωρ',\n",
       "  'δίδωμι',\n",
       "  'διψάω',\n",
       "  'αἰών',\n",
       "  'ὕδωρ',\n",
       "  'δίδωμι',\n",
       "  'γίγνομαι',\n",
       "  'πηγή',\n",
       "  'ὕδωρ',\n",
       "  'ἅλλομαι',\n",
       "  'ζωή',\n",
       "  'αἰώνιος'],\n",
       " ['λέγω',\n",
       "  'γυνή',\n",
       "  'κύριος',\n",
       "  'δίδωμι',\n",
       "  'οὗτος',\n",
       "  'ὕδωρ',\n",
       "  'διψάω',\n",
       "  'διέρχομαι',\n",
       "  'ἀντλέω'],\n",
       " ['λέγω', 'ὑπάγω', 'φωνέω', 'ἀνήρ', 'ἔρχομαι'],\n",
       " ['ἀποκρίνω', 'γυνή', 'λέγω', 'ἔχω', 'ἀνήρ'],\n",
       " ['λέγω', 'Ἰησοῦς', 'λέγω', 'ἀνήρ', 'ἔχω'],\n",
       " ['ἀνήρ', 'ἔχω', 'ἔχω', 'εἰμί', 'ἀνήρ'],\n",
       " ['οὗτος', 'ἀληθής', 'λέγω'],\n",
       " ['λέγω', 'γυνή', 'κύριος', 'θεωρέω', 'προφήτης', 'εἰμί'],\n",
       " ['πατήρ', 'ὄρος', 'οὗτος', 'προσκυνέω'],\n",
       " ['λέγω', 'ἰεροσολύμοις', 'τόπος', 'προσκυνέω', 'δεῖ'],\n",
       " ['λέγω',\n",
       "  'Ἰησοῦς',\n",
       "  'πιστεύω',\n",
       "  'γυνή',\n",
       "  'ἔρχομαι',\n",
       "  'ὥρα',\n",
       "  'ὄρος',\n",
       "  'ἰεροσολύμοις',\n",
       "  'προσκυνέω',\n",
       "  'πατήρ'],\n",
       " ['προσκυνέω', 'οἶδα', 'προσκυνέω', 'οἶδα', 'σωτηρία', 'Ἰουδαῖος', 'εἰμί'],\n",
       " ['ἔρχομαι',\n",
       "  'ὥρα',\n",
       "  'εἰμί',\n",
       "  'ἀληθινός',\n",
       "  'προσκυνητής',\n",
       "  'προσκυνέω',\n",
       "  'πατήρ',\n",
       "  'πνεῦμα',\n",
       "  'ἀλήθεια',\n",
       "  'πατήρ',\n",
       "  'τοιοῦτος',\n",
       "  'ζητέω',\n",
       "  'προσκυνέω'],\n",
       " ['πνεῦμα', 'θεός', 'προσκυνέω', 'πνεῦμα', 'ἀλήθεια', 'δεῖ', 'προσκυνέω'],\n",
       " ['λέγω', 'γυνή', 'οἶδος', 'Μεσσίας', 'ἔρχομαι', 'λέγω', 'Χριστός'],\n",
       " ['ἔρχομαι', 'ἀναγγέλλω', 'ἅπας'],\n",
       " ['λέγω', 'Ἰησοῦς', 'εἰμί', 'λαλέω'],\n",
       " ['οὗτος', 'ἔρχομαι', 'μαθητής', 'θαυμάζω', 'γυνή', 'λαλέω'],\n",
       " ['οὐδείς', 'λέγω', 'ζητέω'],\n",
       " ['λαλέω'],\n",
       " ['ἀφίημι',\n",
       "  'ὑδρία',\n",
       "  'γυνή',\n",
       "  'ἀπέρχομαι',\n",
       "  'πόλις',\n",
       "  'λέγω',\n",
       "  'ἄνθρωπος',\n",
       "  'ὁράω',\n",
       "  'ἄνθρωπος',\n",
       "  'λέγω',\n",
       "  'πᾶς',\n",
       "  'ποιέω'],\n",
       " ['οὗτος', 'εἰμί', 'χριστός'],\n",
       " ['ἐξέρχομαι', 'πόλις', 'ἔρχομαι'],\n",
       " ['ἐρωτάω', 'μαθητής', 'λέγω', 'ῥαββί', 'ἐσθίω'],\n",
       " ['λέγω', 'βρῶσις', 'ἔχω', 'ἐσθίω', 'οἶδα'],\n",
       " ['λέγω', 'μαθητής', 'φέρω', 'ἐσθίω'],\n",
       " ['λέγω',\n",
       "  'Ἰησοῦς',\n",
       "  'ἐμός',\n",
       "  'βρῶμα',\n",
       "  'ποιέω',\n",
       "  'θέλημα',\n",
       "  'πέμπω',\n",
       "  'τελειόω',\n",
       "  'ἔργον'],\n",
       " ['λέγω', 'τετράμηνος', 'θερισμός', 'ἔρχομαι'],\n",
       " ['λέγω',\n",
       "  'ἐπαίρω',\n",
       "  'ὀφθαλμός',\n",
       "  'θεάομαι',\n",
       "  'χώρα',\n",
       "  'λευκός',\n",
       "  'εἰμί',\n",
       "  'θερισμός'],\n",
       " ['θερίζω',\n",
       "  'μισθός',\n",
       "  'λαμβάνω',\n",
       "  'συνάγω',\n",
       "  'καρπός',\n",
       "  'ζωή',\n",
       "  'αἰώνιος',\n",
       "  'σπείρω',\n",
       "  'χαίρω',\n",
       "  'θερίζω'],\n",
       " ['λόγος', 'ἀληθινός', 'ἄλλος', 'σπείρω', 'ἄλλος', 'θερίζω'],\n",
       " ['ἀποστέλλω', 'θερίζω', 'κοπιάω'],\n",
       " ['ἄλλος', 'κοπιάω', 'κόπος', 'εἰσέρχομαι'],\n",
       " ['πόλις',\n",
       "  'πολύς',\n",
       "  'πιστεύω',\n",
       "  'Σαμαρείτης',\n",
       "  'λόγος',\n",
       "  'γυνή',\n",
       "  'μαρτυρέω',\n",
       "  'λέγω',\n",
       "  'πᾶς',\n",
       "  'ποιέω'],\n",
       " ['ἔρχομαι', 'Σαμαρείτης', 'ἐρωτάω', 'μένω'],\n",
       " ['μένω', 'δύο', 'ἡμέρα'],\n",
       " ['πολύς',\n",
       "  'πολύς',\n",
       "  'πιστεύω',\n",
       "  'λόγος',\n",
       "  'γυνή',\n",
       "  'λέγω',\n",
       "  'σός',\n",
       "  'λαλιά',\n",
       "  'πιστεύω'],\n",
       " ['αὐτός', 'ἀκούω', 'οἶδα', 'οὗτος', 'σωτήρ', 'κόσμος'],\n",
       " ['ἡμέρα', 'ἐξέρχομαι', 'Γαλιλαία'],\n",
       " ['Ἰησοῦς', 'μαρτυρέω', 'προφήτης', 'ἴδιος', 'πατρίς', 'τιμή', 'ἔχω'],\n",
       " ['ἔρχομαι',\n",
       "  'Γαλιλαία',\n",
       "  'δέχομαι',\n",
       "  'Γαλιλαῖος',\n",
       "  'πᾶς',\n",
       "  'ὁράω',\n",
       "  'ποιέω',\n",
       "  'ἰεροσολύμοις',\n",
       "  'ἑορτή',\n",
       "  'ἔρχομαι',\n",
       "  'ἑορτή'],\n",
       " ['ἔρχομαι', 'Κανά', 'Γαλιλαία', 'ποιέω', 'ὕδωρ', 'οἶνος'],\n",
       " ['βασιλικός', 'υἱός', 'ἀσθενέω', 'Καφαρναούμ'],\n",
       " ['οὗτος',\n",
       "  'ἀκούω',\n",
       "  'Ἰησοῦς',\n",
       "  'ἥκω',\n",
       "  'Ἰουδαία',\n",
       "  'Γαλιλαία',\n",
       "  'ἀπέρχομαι',\n",
       "  'ἐρωτάω',\n",
       "  'καταβαίνω',\n",
       "  'ἰάομαι',\n",
       "  'υἱός',\n",
       "  'μέλλω',\n",
       "  'ἀποθνῄσκω'],\n",
       " ['λέγω', 'Ἰησοῦς', 'σημεῖον', 'τέρας', 'ὁράω', 'πιστεύω'],\n",
       " ['λέγω', 'βασιλικός', 'κύριος', 'καταβαίνω', 'ἀποθνῄσκω', 'παιδίον'],\n",
       " ['λέγω', 'Ἰησοῦς', 'πορεύομαι'],\n",
       " ['υἱός', 'ζῶ'],\n",
       " ['πιστεύω', 'ἄνθρωπος', 'λόγος', 'λέγω', 'Ἰησοῦς', 'πορεύομαι'],\n",
       " ['καταβαίνω', 'δοῦλος', 'ὑπαντάω', 'λέγω', 'παῖς', 'ζῶ'],\n",
       " ['πυνθάνομαι', 'ὥρα', 'ἔχω'],\n",
       " ['λέγω', 'ὥρα', 'ἕβδομος', 'ἀφίημι', 'πυρετός'],\n",
       " ['γιγνώσκω',\n",
       "  'πατήρ',\n",
       "  'ὥρα',\n",
       "  'λέγω',\n",
       "  'Ἰησοῦς',\n",
       "  'υἱός',\n",
       "  'ζῶ',\n",
       "  'πιστεύω',\n",
       "  'οἰκία',\n",
       "  'ὅλος'],\n",
       " ['οὗτος',\n",
       "  'δεύτερος',\n",
       "  'σημεῖον',\n",
       "  'ποιέω',\n",
       "  'Ἰησοῦς',\n",
       "  'ἔρχομαι',\n",
       "  'Ἰουδαία',\n",
       "  'Γαλιλαία'],\n",
       " ['οὗτος', 'εἰμί', 'ἑορτή', 'Ἰουδαῖος', 'ἀναβαίνω', 'Ἰησοῦς', 'ἰεροσόλυμα'],\n",
       " ['ἰεροσολύμοις',\n",
       "  'προβατικός',\n",
       "  'κολυμβήθρα',\n",
       "  'ἐπιλεγομένη',\n",
       "  'ἐβραϊστὶ',\n",
       "  'βηθζαθά',\n",
       "  'στοά',\n",
       "  'ἔχω'],\n",
       " ['οὗτος', 'κατάκειμαι', 'πλῆθος', 'ἀσθενέω', 'τυφλός', 'χωλός', 'ξηρός'],\n",
       " ['ἄνθρωπος', 'ἔτος', 'ἔχω', 'ἀσθένεια'],\n",
       " ['οὗτος',\n",
       "  'ὁράω',\n",
       "  'Ἰησοῦς',\n",
       "  'κατάκειμαι',\n",
       "  'γιγνώσκω',\n",
       "  'πολύς',\n",
       "  'χρόνος',\n",
       "  'ἔχω',\n",
       "  'λέγω',\n",
       "  'ἐθέλω',\n",
       "  'ὑγιής',\n",
       "  'γίγνομαι'],\n",
       " ['ἀποκρίνω',\n",
       "  'ἀσθενέω',\n",
       "  'κύριος',\n",
       "  'ἄνθρωπος',\n",
       "  'ἔχω',\n",
       "  'ταράσσω',\n",
       "  'ὕδωρ',\n",
       "  'βάλλω',\n",
       "  'κολυμβήθρα'],\n",
       " ['ἔρχομαι', 'ἄλλος', 'καταβαίνω'],\n",
       " ['λέγω', 'Ἰησοῦς', 'ἐγείρω', 'ἀείρω', 'κράβαττος', 'περιπατέω'],\n",
       " ['γίγνομαι', 'ὑγιής', 'ἄνθρωπος', 'αἴρω', 'κράβαττος', 'περιπατέω'],\n",
       " ['σάββατον', 'ἥμερος'],\n",
       " ['λέγω',\n",
       "  'Ἰουδαῖος',\n",
       "  'τεθεραπευμένῳ',\n",
       "  'σάββατον',\n",
       "  'εἰμί',\n",
       "  'ἔξεστι',\n",
       "  'ἀείρω',\n",
       "  'κράβαττος'],\n",
       " ['ἀποκρίνω',\n",
       "  'ποιέω',\n",
       "  'ὑγιής',\n",
       "  'ἐκεῖνος',\n",
       "  'λέγω',\n",
       "  'αἴρω',\n",
       "  'κράβαττος',\n",
       "  'περιπατέω'],\n",
       " ['ἐρωτάω', 'ἄνθρωπος', 'λέγω', 'αἴρω', 'περιπατέω'],\n",
       " ['ἰαθεὶς', 'οἶδα', 'εἰμί', 'Ἰησοῦς', 'ἐκνέω', 'ὄχλος', 'εἰμί', 'τοπάζω'],\n",
       " ['οὗτος', 'εὑρίσκω', 'Ἰησοῦς', 'ἱερόν', 'λέγω', 'ὁράω', 'ὑγιής', 'γίγνομαι'],\n",
       " ['ἁμαρτάνω',\n",
       "  'χείρων',\n",
       "  'γίγνομαι',\n",
       "  'ἀπέρχομαι',\n",
       "  'ἄνθρωπος',\n",
       "  'λέγω',\n",
       "  'Ἰουδαῖος',\n",
       "  'Ἰησοῦς',\n",
       "  'ποιέω',\n",
       "  'ὑγιής'],\n",
       " ['οὗτος', 'διώκω', 'Ἰουδαῖος', 'Ἰησοῦς', 'οὗτος', 'ποιέω', 'σάββατον'],\n",
       " ['ἀποκρίνω', 'πατήρ', 'ἐργάζομαι', 'ἐργάζομαι'],\n",
       " ['οὗτος',\n",
       "  'ζητέω',\n",
       "  'Ἰουδαῖος',\n",
       "  'ἀποκτείνω',\n",
       "  'μόνος',\n",
       "  'ἐλύω',\n",
       "  'σάββατον',\n",
       "  'πατήρ',\n",
       "  'ἴδιος',\n",
       "  'λέγω',\n",
       "  'θεός',\n",
       "  'ἴσος',\n",
       "  'ποιέω',\n",
       "  'θεός'],\n",
       " ['ἀποκρίνω',\n",
       "  'Ἰησοῦς',\n",
       "  'λέγω',\n",
       "  'λέγω',\n",
       "  'δύναμαι',\n",
       "  'υἱός',\n",
       "  'ποιέω',\n",
       "  'οὐδείς',\n",
       "  'τὶς',\n",
       "  'βλέπω',\n",
       "  'πατήρ',\n",
       "  'ποιέω'],\n",
       " ['ποιέω', 'υἱός', 'ποιέω'],\n",
       " ['πατήρ',\n",
       "  'φιλέω',\n",
       "  'υἱός',\n",
       "  'πᾶς',\n",
       "  'δείκνυμι',\n",
       "  'αὐτός',\n",
       "  'ποιέω',\n",
       "  'μέγας',\n",
       "  'δείκνυμι',\n",
       "  'ἔργον',\n",
       "  'θαυμάζω'],\n",
       " ['πατήρ', 'ἐγείρω', 'νεκρός', 'ζωοποιέω', 'υἱός', 'ἐθέλω', 'ζωοποιέω'],\n",
       " ['πατήρ',\n",
       "  'κρίνω',\n",
       "  'οὐδείς',\n",
       "  'κρίσις',\n",
       "  'πᾶς',\n",
       "  'δίδωμι',\n",
       "  'υἱός',\n",
       "  'πᾶς',\n",
       "  'τιμάω',\n",
       "  'υἱός',\n",
       "  'τιμάω',\n",
       "  'πατήρ'],\n",
       " ['τιμάω', 'υἱός', 'τιμάω', 'πατήρ', 'πέμπω'],\n",
       " ['λέγω',\n",
       "  'λόγος',\n",
       "  'ἀκούω',\n",
       "  'πιστεύω',\n",
       "  'πέμπω',\n",
       "  'ἔχω',\n",
       "  'ζωή',\n",
       "  'αἰώνιος',\n",
       "  'κρίσις',\n",
       "  'ἔρχομαι',\n",
       "  'μεταβαίνω',\n",
       "  'θάνατος',\n",
       "  'ζωή'],\n",
       " ['λέγω',\n",
       "  'ἔρχομαι',\n",
       "  'ὥρα',\n",
       "  'νεκρός',\n",
       "  'ἀκούω',\n",
       "  'φωνή',\n",
       "  'υἱός',\n",
       "  'θεός',\n",
       "  'ἀκούω',\n",
       "  'ζάω'],\n",
       " ['πατήρ', 'ἔχω', 'ζωή', 'υἱός', 'δίδωμι', 'ζωή', 'ἔχω'],\n",
       " ['ἐξουσία', 'δίδωμι', 'κρίσις', 'ποιέω', 'υἱός', 'ἄνθρωπος', 'εἰμί'],\n",
       " ['θαυμάζω',\n",
       "  'ἔρχομαι',\n",
       "  'ὥρα',\n",
       "  'μνημεῖον',\n",
       "  'ἀκούω',\n",
       "  'φωνή',\n",
       "  'ἐκπορεύω',\n",
       "  'ἀγαθός',\n",
       "  'ποιέω',\n",
       "  'ἀνάστασις',\n",
       "  'ζωή',\n",
       "  'φαῦλος',\n",
       "  'πράξαντες',\n",
       "  'ἀνάστασις',\n",
       "  'κρίσις'],\n",
       " ['δύναμαι', 'ποιέω', 'οὐδείς'],\n",
       " ['ἀκούω',\n",
       "  'κρίνω',\n",
       "  'κρίσις',\n",
       "  'ἐμός',\n",
       "  'δίκαιος',\n",
       "  'εἰμί',\n",
       "  'ζητέω',\n",
       "  'θέλημα',\n",
       "  'ἐμός',\n",
       "  'θέλημα',\n",
       "  'πέμπω'],\n",
       " ['μαρτυρέω', 'μαρτυρία', 'εἰμί', 'ἀληθής'],\n",
       " ['ἄλλος', 'μαρτυρέω', 'οἶδα', 'ἀληθής', 'μαρτυρία', 'μαρτυρέω', 'ἐμέω'],\n",
       " ['ἀποστέλλω', 'ἰωάνην', 'μαρτυρέω', 'ἀλήθεια'],\n",
       " ['ἄνθρωπος', 'μαρτυρία', 'λαμβάνω', 'λέγω', 'σώζω'],\n",
       " ['ἐκεῖνος', 'λύχνος', 'καίω', 'φαίνω', 'ἐθέλω', 'ἀγαλλιάω', 'ὥρα', 'φῶς'],\n",
       " ['ἔχω',\n",
       "  'μαρτυρία',\n",
       "  'μέγας',\n",
       "  'ἰωάνου',\n",
       "  'ἔργον',\n",
       "  'δίδωμι',\n",
       "  'πατήρ',\n",
       "  'τελειόω',\n",
       "  'ἔργον',\n",
       "  'ποιέω',\n",
       "  'μαρτυρέω',\n",
       "  'πατήρ',\n",
       "  'ἀποστέλλω',\n",
       "  'πέμπω',\n",
       "  'πατήρ',\n",
       "  'ἐκεῖνος',\n",
       "  'μαρτυρέω',\n",
       "  'ἐμέω'],\n",
       " ['φωνή',\n",
       "  'ἀκούω',\n",
       "  'εἶδος',\n",
       "  'ὁράω',\n",
       "  'λόγος',\n",
       "  'ἔχω',\n",
       "  'μένω',\n",
       "  'ἀποστέλλω',\n",
       "  'ἐκεῖνος',\n",
       "  'οὗτος',\n",
       "  'πιστεύω'],\n",
       " ['ἐραυνᾶτε', 'γραφή', 'δοκέω', 'ζωή', 'αἰώνιος', 'ἔχω'],\n",
       " ['ἐκεῖνος', 'μαρτυροῦσαι'],\n",
       " ['ἐθέλω', 'ἔρχομαι', 'ζωή', 'ἔχω'],\n",
       " ['δόξα', 'ἄνθρωπος', 'λαμβάνω', 'γιγνώσκω', 'ἀγάπη', 'θεός', 'ἔχω'],\n",
       " ['ἔρχομαι', 'ὄνομα', 'πατήρ', 'λαμβάνω'],\n",
       " ['ἄλλος', 'ἔρχομαι', 'ὄνομα', 'ἴδιος', 'λαμβάνω'],\n",
       " ['δύναμαι', 'πιστεύω', 'δόξα', 'λαμβάνω', 'δόξα', 'μόνος', 'θεός', 'ζητέω'],\n",
       " ['δοκέω', 'κατηγορέω', 'πατήρ'],\n",
       " ['κατηγορέω', 'μωυσῆς', 'ἐλπίζω'],\n",
       " ['πιστεύω', 'μωυσεῖ', 'πιστεύω', 'ἐκεῖνος', 'γράφω'],\n",
       " ['γράμμα', 'πιστεύω', 'ἐμός', 'ῥῆμα', 'πιστεύω'],\n",
       " ['οὗτος', 'ἀπέρχομαι', 'Ἰησοῦς', 'θάλασσα', 'Γαλιλαία', 'Τιβεριάς'],\n",
       " ['ἀκολουθέω', 'ὄχλος', 'πολύς', 'θεωρέω', 'σημεῖον', 'ποιέω', 'ἀσθενέω'],\n",
       " ['ἀνέρχομαι', 'ὄρος', 'Ἰησοῦς', 'κάθημαι', 'μαθητής'],\n",
       " ['πάσχα', 'ἑορτή', 'Ἰουδαῖος'],\n",
       " ['ἐπαίρω',\n",
       "  'ὀφθαλμός',\n",
       "  'Ἰησοῦς',\n",
       "  'θεάομαι',\n",
       "  'πολύς',\n",
       "  'ὄχλος',\n",
       "  'ἔρχομαι',\n",
       "  'λέγω',\n",
       "  'Φίλιππος',\n",
       "  'ἀγοράζω',\n",
       "  'ἄρτος',\n",
       "  'ἐσθίω'],\n",
       " ['οὗτος', 'λέγω', 'πειράζω', 'αὐτός', 'οἶδα', 'μέλλω', 'ποιέω'],\n",
       " ['ἀποκρίνω',\n",
       "  'Φίλιππος',\n",
       "  'διακόσιοι',\n",
       "  'δηνάριον',\n",
       "  'ἄρτος',\n",
       "  'ἀρκέω',\n",
       "  'ἕκαστος',\n",
       "  'βραχύς',\n",
       "  'λαμβάνω'],\n",
       " ['λέγω',\n",
       "  'μαθητής',\n",
       "  'Ἀνδρέας',\n",
       "  'ἀδελφός',\n",
       "  'Σίμων',\n",
       "  'Πέτρος',\n",
       "  'παιδάριον',\n",
       "  'ἔχω',\n",
       "  'ἄρτος',\n",
       "  'κρίθινος',\n",
       "  'δύο',\n",
       "  'ὀψάρια'],\n",
       " ['οὗτος', 'εἰμί', 'τοσοῦτος'],\n",
       " ['λέγω', 'Ἰησοῦς', 'ποιέω', 'ἄνθρωπος', 'ἀναπίπτω'],\n",
       " ['χόρτος', 'πολύς', 'τοπάζω'],\n",
       " ['ἐφίημι', 'ἀνήρ', 'ἀριθμός', 'πεντακισχίλιοι'],\n",
       " ['λαμβάνω',\n",
       "  'ἄρτος',\n",
       "  'Ἰησοῦς',\n",
       "  'εὐχαριστέω',\n",
       "  'διαδίδωμι',\n",
       "  'ἀνάκειμαι',\n",
       "  'ὀψάριον',\n",
       "  'ὅσος',\n",
       "  'ἐθέλω'],\n",
       " ['ἐμπίπλημι',\n",
       "  'λέγω',\n",
       "  'μαθητής',\n",
       "  'συνάγω',\n",
       "  'περισσεύσαντα',\n",
       "  'κλάσμα',\n",
       "  'ἀπόλλυμι'],\n",
       " ['συνάγω',\n",
       "  'γεμίζω',\n",
       "  'κόφινος',\n",
       "  'κλάσμα',\n",
       "  'ἄρτος',\n",
       "  'κρίθινος',\n",
       "  'περισσεύω',\n",
       "  'βεβρωκόσιν'],\n",
       " ['ἄνθρωπος',\n",
       "  'ὁράω',\n",
       "  'ποιέω',\n",
       "  'σημεῖον',\n",
       "  'λέγω',\n",
       "  'οὗτος',\n",
       "  'προφήτης',\n",
       "  'ἔρχομαι',\n",
       "  'κόσμος'],\n",
       " ['Ἰησοῦς',\n",
       "  'γιγνώσκω',\n",
       "  'μέλλω',\n",
       "  'ἔρχομαι',\n",
       "  'ἁρπάζω',\n",
       "  'ποιέω',\n",
       "  'βασιλεύς',\n",
       "  'ἀναχωρέω',\n",
       "  'ὄρος',\n",
       "  'αὐτός',\n",
       "  'μόνος'],\n",
       " ['ὄψιος',\n",
       "  'γίγνομαι',\n",
       "  'καταβαίνω',\n",
       "  'μαθητής',\n",
       "  'θάλασσα',\n",
       "  'ἐμβάντες',\n",
       "  'πλοῖον',\n",
       "  'ἔρχομαι',\n",
       "  'θάλασσα',\n",
       "  'Καφαρναούμ'],\n",
       " ['σκοτία',\n",
       "  'γίγνομαι',\n",
       "  'ἔρχομαι',\n",
       "  'Ἰησοῦς',\n",
       "  'θάλασσα',\n",
       "  'ἄνεμος',\n",
       "  'μέγας',\n",
       "  'πνέοντος',\n",
       "  'ἐγείρω'],\n",
       " ['ἐληλακότες',\n",
       "  'στάδιον',\n",
       "  'θεωρέω',\n",
       "  'Ἰησοῦς',\n",
       "  'περιπατέω',\n",
       "  'θάλασσα',\n",
       "  'πλοῖον',\n",
       "  'γίγνομαι',\n",
       "  'φοβέω'],\n",
       " ['λέγω', 'εἰμί', 'φοβέω'],\n",
       " ['ἐθέλω', 'λαμβάνω', 'πλοῖον', 'γίγνομαι', 'πλοῖον', 'γῆ', 'ὑπάγω'],\n",
       " ['ὄχλος',\n",
       "  'ἵστημι',\n",
       "  'θάλασσα',\n",
       "  'ὁράω',\n",
       "  'πλοιάριον',\n",
       "  'ἄλλος',\n",
       "  'εἷς',\n",
       "  'συνεισέρχομαι',\n",
       "  'μαθητής',\n",
       "  'Ἰησοῦς',\n",
       "  'πλοῖον',\n",
       "  'μόνος',\n",
       "  'μαθητής',\n",
       "  'ἀπέρχομαι'],\n",
       " ['ἔρχομαι',\n",
       "  'πλοῖον',\n",
       "  'Τιβεριάς',\n",
       "  'τόπος',\n",
       "  'ἐσθίω',\n",
       "  'ἄρτος',\n",
       "  'εὐχαριστήσαντος',\n",
       "  'κύριος'],\n",
       " ['ὁράω',\n",
       "  'ὄχλος',\n",
       "  'Ἰησοῦς',\n",
       "  'μαθητής',\n",
       "  'ἐμβαίνω',\n",
       "  'πλοιάριον',\n",
       "  'ἔρχομαι',\n",
       "  'Καφαρναούμ',\n",
       "  'ζητέω',\n",
       "  'Ἰησοῦς'],\n",
       " ['εὑρίσκω', 'θάλασσα', 'λέγω', 'ῥαββί', 'γίγνομαι'],\n",
       " ['ἀποκρίνω',\n",
       "  'Ἰησοῦς',\n",
       "  'λέγω',\n",
       "  'λέγω',\n",
       "  'ζητέω',\n",
       "  'ὁράω',\n",
       "  'σημεῖον',\n",
       "  'ἐσθίω',\n",
       "  'ἄρτος',\n",
       "  'χορτάζω'],\n",
       " ['ἐργάζομαι',\n",
       "  'βρῶσις',\n",
       "  'ἀπολλυμένην',\n",
       "  'βρῶσις',\n",
       "  'μένω',\n",
       "  'ζωή',\n",
       "  'αἰώνιος',\n",
       "  'υἱός',\n",
       "  'ἄνθρωπος',\n",
       "  'δίδωμι',\n",
       "  'πατήρ',\n",
       "  'σφραγίζω',\n",
       "  'θεός'],\n",
       " ['λέγω', 'ποιέω', 'ἐργάζομαι', 'ἔργον', 'θεός'],\n",
       " ['ἀποκρίνω',\n",
       "  'Ἰησοῦς',\n",
       "  'λέγω',\n",
       "  'οὗτος',\n",
       "  'ἔργον',\n",
       "  'θεός',\n",
       "  'πιστεύω',\n",
       "  'ἀποστέλλω'],\n",
       " ['λέγω', 'ποιέω', 'σημεῖον', 'ὁράω', 'πιστεύω'],\n",
       " ['ἐργάζομαι'],\n",
       " ['πατήρ',\n",
       "  'μάννα',\n",
       "  'ἐσθίω',\n",
       "  'ἔρημος',\n",
       "  'εἰμί',\n",
       "  'γράφω',\n",
       "  'ἄρτος',\n",
       "  'οὐρανός',\n",
       "  'δίδωμι',\n",
       "  'ἐσθίω'],\n",
       " ['λέγω',\n",
       "  'Ἰησοῦς',\n",
       "  'λέγω',\n",
       "  'μωυσῆς',\n",
       "  'δίδωμι',\n",
       "  'ἄρτος',\n",
       "  'οὐρανός',\n",
       "  'πατήρ',\n",
       "  'δίδωμι',\n",
       "  'ἄρτος',\n",
       "  'οὐρανός',\n",
       "  'ἀληθινός'],\n",
       " ['ἄρτος', 'θεός', 'καταβαίνων', 'οὐρανός', 'ζωή', 'δίδωμι', 'κόσμος'],\n",
       " ['λέγω', 'κύριος', 'δίδωμι', 'ἄρτος', 'οὗτος'],\n",
       " ['λέγω', 'Ἰησοῦς', 'ἄρτος', 'ζωή'],\n",
       " ['ἔρχομαι', 'πεινάω', 'πιστεύω', 'διψάω'],\n",
       " ['λέγω', 'ὁράω', 'πιστεύω'],\n",
       " ['πᾶς',\n",
       "  'δίδωμι',\n",
       "  'πατήρ',\n",
       "  'ἥκω',\n",
       "  'ἔρχομαι',\n",
       "  'ἐκβάλλω',\n",
       "  'καταβαίνω',\n",
       "  'οὐρανός',\n",
       "  'ποιέω',\n",
       "  'θέλημα',\n",
       "  'ἐμός',\n",
       "  'θέλημα',\n",
       "  'πέμπω'],\n",
       " ['οὗτος',\n",
       "  'θέλημα',\n",
       "  'πέμπω',\n",
       "  'πᾶς',\n",
       "  'δίδωμι',\n",
       "  'ἀπόλλυμι',\n",
       "  'ἀνίστημι',\n",
       "  'ἔσχατος',\n",
       "  'ἥμερος'],\n",
       " ['οὗτος',\n",
       "  'θέλημα',\n",
       "  'πατήρ',\n",
       "  'θεωρέω',\n",
       "  'υἱός',\n",
       "  'πιστεύω',\n",
       "  'ἔχω',\n",
       "  'ζωή',\n",
       "  'αἰώνιος',\n",
       "  'ἀνίστημι',\n",
       "  'ἔσχατος',\n",
       "  'ἥμερος'],\n",
       " ['γογγύζω',\n",
       "  'Ἰουδαῖος',\n",
       "  'λέγω',\n",
       "  'ἄρτος',\n",
       "  'καταβαίνω',\n",
       "  'οὐρανός',\n",
       "  'λέγω',\n",
       "  'οὗτος',\n",
       "  'Ἰησοῦς',\n",
       "  'υἱός',\n",
       "  'Ἰωσήφ',\n",
       "  'οἶδα',\n",
       "  'πατήρ',\n",
       "  'μήτηρ'],\n",
       " ['λέγω', 'οὐρανός', 'καταβαίνω'],\n",
       " ['ἀποκρίνω', 'Ἰησοῦς', 'λέγω', 'γογγύζω'],\n",
       " ['οὐδείς',\n",
       "  'δύναμαι',\n",
       "  'ἔρχομαι',\n",
       "  'πατήρ',\n",
       "  'πέμπω',\n",
       "  'ἕλκω',\n",
       "  'ἀνίστημι',\n",
       "  'ἔσχατος',\n",
       "  'ἥμερος'],\n",
       " ['γράφω', 'προφήτης', 'εἰμί', 'πᾶς'],\n",
       " ['διδακτός', 'θεός'],\n",
       " ['ἀκούω', 'πατήρ', 'μανθάνω', 'ἔρχομαι'],\n",
       " ['πατήρ', 'ὁράω', 'τὶς', 'εἰμί', 'θεός', 'ὁράω', 'πατήρ'],\n",
       " ['λέγω', 'πιστεύω', 'ἔχω', 'ζωή', 'αἰώνιος'],\n",
       " ['ἄρτος', 'ζωή'],\n",
       " ['πατήρ', 'ἐσθίω', 'ἔρημος', 'μάννα', 'ἀποθνῄσκω'],\n",
       " ['οὗτος', 'ἄρτος', 'οὐρανός', 'καταβαίνων', 'τὶς', 'ἐσθίω', 'ἀποθνῄσκω'],\n",
       " ['ἄρτος', 'ζῶ', 'οὐρανός', 'καταβαίνω'],\n",
       " ['τὶς',\n",
       "  'ἐσθίω',\n",
       "  'ἄρτος',\n",
       "  'ζάω',\n",
       "  'αἰών',\n",
       "  'ἄρτος',\n",
       "  'δίδωμι',\n",
       "  'σάρξ',\n",
       "  'κόσμος',\n",
       "  'ζωή'],\n",
       " ['μάχομαι',\n",
       "  'Ἰουδαῖος',\n",
       "  'λέγω',\n",
       "  'δύναμαι',\n",
       "  'οὗτος',\n",
       "  'δίδωμι',\n",
       "  'σάρξ',\n",
       "  'ἐσθίω'],\n",
       " ['λέγω',\n",
       "  'Ἰησοῦς',\n",
       "  'λέγω',\n",
       "  'ἐσθίω',\n",
       "  'σάρξ',\n",
       "  'υἱός',\n",
       "  'ἄνθρωπος',\n",
       "  'πίνω',\n",
       "  'αἷμα',\n",
       "  'ἔχω',\n",
       "  'ζωή'],\n",
       " ['τρώγω',\n",
       "  'σάρξ',\n",
       "  'πίνω',\n",
       "  'αἷμα',\n",
       "  'ἔχω',\n",
       "  'ζωή',\n",
       "  'αἰώνιος',\n",
       "  'ἀνίστημι',\n",
       "  'ἔσχατος',\n",
       "  'ἡμέρα'],\n",
       " ['σάρξ', 'ἀληθής', 'εἰμί', 'βρῶσις', 'αἷμα', 'ἀληθής', 'εἰμί', 'πόσις'],\n",
       " ['τρώγω', 'σάρξ', 'πίνω', 'αἷμα', 'μένω'],\n",
       " ['ἀποστέλλω', 'ζῶ', 'πατήρ', 'ζῶ', 'πατήρ', 'τρώγω', 'ἐκεῖνος', 'ζάω'],\n",
       " ['οὗτος', 'ἄρτος', 'οὐρανός', 'καταβαίνω', 'ἐσθίω', 'πατήρ', 'ἀποθνῄσκω'],\n",
       " ['τρώγω', 'ἄρτος', 'ζάω', 'αἰών'],\n",
       " ['οὗτος', 'λέγω', 'συναγωγή', 'διδάσκω', 'Καφαρναούμ'],\n",
       " ['πολύς', 'ἀκούω', 'μαθητής', 'λέγω', 'σκληρός', 'λόγος', 'οὗτος'],\n",
       " ['δύναμαι', 'ἀκούω'],\n",
       " ['οἶδα', 'Ἰησοῦς', 'γογγύζω', 'μαθητής', 'λέγω', 'οὗτος', 'σκανδαλίζω'],\n",
       " ['θεωρέω', 'υἱός', 'ἄνθρωπος', 'ἀναβαίνω', 'εἰμί', 'πρότερος'],\n",
       " ['πνεῦμα', 'εἰμί', 'ζωοποιέω', 'σάρξ', 'ὠφελέω'],\n",
       " ['ῥῆμα', 'λαλέω', 'πνεῦμα', 'ζωή', 'εἰμί'],\n",
       " ['τὶς', 'πιστεύω'],\n",
       " ['ἤιδει', 'ἀρχή', 'Ἰησοῦς', 'πιστεύω', 'παραδώσων'],\n",
       " ['λέγω', 'οὗτος', 'λέγω', 'οὐδείς', 'δύναμαι', 'ἔρχομαι', 'δίδωμι', 'πατήρ'],\n",
       " ['οὗτος', 'πολύς', 'μαθητής', 'ἀπέρχομαι', 'περιπατέω'],\n",
       " ['λέγω', 'Ἰησοῦς', 'ἐθέλω', 'ὑπάγω'],\n",
       " ['ἀποκρίνω', 'Σίμων', 'Πέτρος', 'κύριος', 'ἀπέρχομαι'],\n",
       " ['ῥῆμα', 'ζωή', 'αἰώνιος', 'ἔχω', 'πιστεύω', 'γιγνώσκω', 'ἅγιος', 'θεάομαι'],\n",
       " ['ἀποκρίνω', 'Ἰησοῦς', 'ἐκλέγω'],\n",
       " ['εἷς', 'διάβολος', 'εἰμί'],\n",
       " ['λέγω', 'Ἰούδας', 'Σίμων', 'Ἰσκαριώθ'],\n",
       " ['οὗτος', 'μέλλω', 'παραδίδωμι', 'εἷς', 'δωδεκάς'],\n",
       " ['οὗτος',\n",
       "  'περιπατέω',\n",
       "  'Ἰησοῦς',\n",
       "  'Γαλιλαία',\n",
       "  'ἐθέλω',\n",
       "  'Ἰουδαία',\n",
       "  'περιπατέω',\n",
       "  'ζητέω',\n",
       "  'ὄις',\n",
       "  'Ἰουδαῖος',\n",
       "  'ἀποκτείνω'],\n",
       " ['ἑορτή', 'Ἰουδαῖος', 'σκηνοπηγία'],\n",
       " ['λέγω',\n",
       "  'ἀδελφός',\n",
       "  'μεταβαίνω',\n",
       "  'ὑπάγω',\n",
       "  'Ἰουδαία',\n",
       "  'μαθητής',\n",
       "  'θεωρέω',\n",
       "  'ἔργον',\n",
       "  'ποιέω'],\n",
       " ['οὐδείς', 'κρυπτός', 'ποιέω', 'ζητέω', 'αὐτός', 'παρρησία', 'εἰμί'],\n",
       " ['οὗτος', 'ποιέω', 'φανερόω', 'κόσμος'],\n",
       " ['ἀδελφός', 'πιστεύω'],\n",
       " ['λέγω',\n",
       "  'Ἰησοῦς',\n",
       "  'καιρός',\n",
       "  'ἐμός',\n",
       "  'πάρειμι',\n",
       "  'καιρός',\n",
       "  'ὑμέτερος',\n",
       "  'εἰμί',\n",
       "  'ἕτοιμος'],\n",
       " ['δύναμαι',\n",
       "  'κόσμος',\n",
       "  'μισέω',\n",
       "  'μισέω',\n",
       "  'μαρτυρέω',\n",
       "  'ἔργον',\n",
       "  'πονηρός',\n",
       "  'εἰμί'],\n",
       " ['ἀναβαίνω', 'ἑορτή'],\n",
       " ['ἀναβαίνω', 'ἑορτή', 'οὗτος', 'ἐμός', 'καιρός', 'πληρόω'],\n",
       " ['οὗτος', 'λέγω', 'μένω', 'Γαλιλαία'],\n",
       " ['ἀναβαίνω', 'ὄις', 'ἀδελφός', 'ἑορτή', 'αὐτός', 'ἀναβαίνω', 'κρυπτός'],\n",
       " ['Ἰουδαῖος', 'ζητέω', 'ἑορτή', 'λέγω', 'εἰμί'],\n",
       " ['γογγυσμός', 'πολύς', 'ὄχλος'],\n",
       " ['λέγω', 'ἀγαθός', 'εἰμί', 'ἄλλος', 'λέγω', 'πλανάω', 'ὄχλος'],\n",
       " ['οὐδείς', 'παρρησία', 'λαλέω', 'φόβος', 'Ἰουδαῖος'],\n",
       " ['ἑορτή', 'μεσόω', 'ἀναβαίνω', 'Ἰησοῦς', 'ἱερόν', 'διδάσκω'],\n",
       " ['θαυμάζω', 'Ἰουδαῖος', 'λέγω', 'γράμμα', 'οἶδα', 'μανθάνω'],\n",
       " ['ἀποκρίνω', 'Ἰησοῦς', 'λέγω', 'ἐμός', 'διδαχή', 'ἐμός', 'πέμπω'],\n",
       " ['τὶς', 'ἐθέλω', 'θέλημα', 'ποιέω', 'γιγνώσκω', 'διδαχή', 'θεός', 'λαλέω'],\n",
       " ['λαλέω', 'δόξα', 'ἴδιος', 'ζητέω'],\n",
       " ['ζητέω', 'δόξα', 'πέμπω', 'οὗτος', 'ἀληθής', 'ἀδικία', 'εἰμί'],\n",
       " ['μωυσῆς', 'δίδωμι', 'νόμος'],\n",
       " ['οὐδείς', 'ποιέω', 'νόμος'],\n",
       " ['ζητέω', 'ἀποκτείνω'],\n",
       " ['ἀποκρίνω', 'ὄχλος', 'δαιμόνιον', 'ἔχω'],\n",
       " ['ζητέω', 'ἀποκτείνω'],\n",
       " ['ἀποκρίνω', 'Ἰησοῦς', 'λέγω', 'ἵημι', 'ἔργον', 'ποιέω', 'πᾶς', 'θαυμάζω'],\n",
       " ['οὗτος',\n",
       "  'μωυσῆς',\n",
       "  'δίδωμι',\n",
       "  'περιτομή',\n",
       "  'μωυσέως',\n",
       "  'πατήρ',\n",
       "  'σάββατον',\n",
       "  'περιτέμνω',\n",
       "  'ἄνθρωπος'],\n",
       " ['περιτομή',\n",
       "  'λαμβάνω',\n",
       "  'ἄνθρωπος',\n",
       "  'σάββατον',\n",
       "  'λύω',\n",
       "  'νόμος',\n",
       "  'μωυσέως',\n",
       "  'χολάω',\n",
       "  'ὅλος',\n",
       "  'ἄνθρωπος',\n",
       "  'ὑγιής',\n",
       "  'ποιέω',\n",
       "  'σάββατον'],\n",
       " ['κρίνω', 'ὄψις', 'δίκαιος', 'κρίσις', 'κρίνω'],\n",
       " ['λέγω', 'τὶς', 'ἰεροσολυμειτῶν', 'οὗτος', 'εἰμί', 'ζητέω', 'ἀποκτείνω'],\n",
       " ['ὁράω', 'παρρησία', 'λαλέω', 'λέγω'],\n",
       " ['γιγνώσκω', 'ἄρχων', 'οὗτος', 'εἰμί', 'χριστός'],\n",
       " ['οὗτος', 'οἶδα', 'εἰμί'],\n",
       " ['χριστός', 'ἔρχομαι', 'οὐδείς', 'γιγνώσκω', 'εἰμί'],\n",
       " ['κράζω', 'ἱερόν', 'διδάσκω', 'Ἰησοῦς', 'λέγω', 'οἶδα', 'οἶδα', 'εἰμί'],\n",
       " ['ἔρχομαι', 'εἰμί', 'ἀληθινός', 'πέμπω', 'οἶδα'],\n",
       " ['οἶδα', 'ἐκεῖνος', 'ἀποστέλλω'],\n",
       " ['ζητέω', 'πιάζω', 'ἐπιβάλλω', 'χείρ', 'ἔρχομαι', 'ὥρα'],\n",
       " ['ὄχλος',\n",
       "  'πολύς',\n",
       "  'πιστεύω',\n",
       "  'λέγω',\n",
       "  'χριστός',\n",
       "  'ἔρχομαι',\n",
       "  'πολύς',\n",
       "  'σημεῖον',\n",
       "  'ποιέω',\n",
       "  'ποιέω'],\n",
       " ['ἀκούω',\n",
       "  'Φαρισαῖος',\n",
       "  'ὄχλος',\n",
       "  'γογγύζω',\n",
       "  'ἀποστέλλω',\n",
       "  'ἀρχιερεύς',\n",
       "  'Φαρισαῖος',\n",
       "  'ὑπηρέτης',\n",
       "  'πιάζω'],\n",
       " ['λέγω', 'Ἰησοῦς', 'χρόνος', 'μικρός', 'ὑπάγω', 'πέμπω'],\n",
       " ['ζητέω', 'εὑρίσκω', 'δύναμαι', 'ἔρχομαι'],\n",
       " ['λέγω', 'Ἰουδαῖος', 'οὗτος', 'μέλλω', 'πορεύομαι', 'εὑρίσκω'],\n",
       " ['διασπορά', 'Ἕλλην', 'μέλλω', 'πορεύομαι', 'διδάσκω', 'Ἕλλην'],\n",
       " ['λόγος', 'λέγω', 'ζητέω', 'εὑρίσκω', 'δύναμαι', 'ἔρχομαι'],\n",
       " ['ἔσχατος',\n",
       "  'ἡμέρα',\n",
       "  'μέγας',\n",
       "  'ἑορτή',\n",
       "  'ἱστήκει',\n",
       "  'Ἰησοῦς',\n",
       "  'κράζω',\n",
       "  'λέγω',\n",
       "  'τὶς',\n",
       "  'διψάω',\n",
       "  'ἔρχομαι',\n",
       "  'πίνω'],\n",
       " ['πιστεύω', 'λέγω', 'γραφή', 'ποταμός', 'κοιλία', 'ῥέω', 'ὕδωρ', 'ζῶ'],\n",
       " ['οὗτος', 'λέγω', 'πνεῦμα', 'μέλλω', 'λαμβάνω', 'πιστεύω'],\n",
       " ['εἰμί', 'πνεῦμα', 'Ἰησοῦς', 'δοξάζω'],\n",
       " ['ὄχλος', 'ἀκούω', 'λόγος', 'λέγω', 'οὗτος', 'προφήτης'],\n",
       " ['ἄλλος', 'λέγω', 'οὗτος', 'εἰμί', 'χριστός'],\n",
       " ['λέγω', 'Γαλιλαία', 'χριστός', 'ἔρχομαι'],\n",
       " ['γραφή',\n",
       "  'λέγω',\n",
       "  'σπέρμα',\n",
       "  'Δαυίδ',\n",
       "  'Βηθλέεμ',\n",
       "  'κώμη',\n",
       "  'εἰμί',\n",
       "  'Δαυίδ',\n",
       "  'ἔρχομαι',\n",
       "  'χριστός'],\n",
       " ['σχίσμα', 'γίγνομαι', 'ὄχλος'],\n",
       " ['τὶς', 'ἐθέλω', 'πιάζω', 'βάλλω', 'αὐτός', 'χείρ'],\n",
       " ['ἔρχομαι', 'ὑπηρέτης', 'ἀρχιερεύς', 'Φαρισαῖος', 'λέγω', 'ἐκεῖνος', 'ἄγω'],\n",
       " ['ἀποκρίνω', 'ὑπηρέτης', 'λαλέω', 'ἄνθρωπος'],\n",
       " ['ἀποκρίνω', 'Φαρισαῖος', 'πλανάω'],\n",
       " ['τὶς', 'ἄρχων', 'πιστεύω', 'Φαρισαῖος'],\n",
       " ['ὄχλος', 'γιγνώσκω', 'νόμος', 'ἐπάρατος', 'εἰμί'],\n",
       " ['λέγω',\n",
       "  'Νικόδημος',\n",
       "  'ἔρχομαι',\n",
       "  'πρότερος',\n",
       "  'εἷς',\n",
       "  'εἰμί',\n",
       "  'νόμος',\n",
       "  'κρίνω',\n",
       "  'ἄνθρωπος',\n",
       "  'ἀκούω',\n",
       "  'πρῶτος',\n",
       "  'γιγνώσκω',\n",
       "  'ποιέω'],\n",
       " ['ἀποκρίνω', 'λέγω', 'Γαλιλαία', 'εἰμί'],\n",
       " ['ἐραυνάω',\n",
       "  'ὁράω',\n",
       "  'Γαλιλαία',\n",
       "  'προφήτης',\n",
       "  'ἐγείρω',\n",
       "  'πορεύομαι',\n",
       "  'ἕκαστος',\n",
       "  'οἶκος',\n",
       "  'Ἰησοῦς',\n",
       "  'πορεύομαι',\n",
       "  'ὀρός',\n",
       "  'ἐλαιών'],\n",
       " ['ὄρθρος',\n",
       "  'παραγίγνομαι',\n",
       "  'ἱερόν',\n",
       "  'πᾶς',\n",
       "  'λαός',\n",
       "  'ἔρχομαι',\n",
       "  'καθίζω',\n",
       "  'διδάσκω'],\n",
       " ['ἄγω',\n",
       "  'γραμματεύς',\n",
       "  'Φαρισαῖος',\n",
       "  'γυνή',\n",
       "  'μοιχεία',\n",
       "  'καταλαμβάνω',\n",
       "  'ἵστημι',\n",
       "  'μέσος',\n",
       "  'λέγω',\n",
       "  'διδάσκαλος',\n",
       "  'γυνή',\n",
       "  'καταλαμβάνω',\n",
       "  'αὐτόφωρος',\n",
       "  'μοιχεύω'],\n",
       " ['νόμος', 'μωυσῆς', 'ἐντέλλω', 'λιθάζω'],\n",
       " ['λέγω'],\n",
       " ['οὗτος', 'λέγω', 'πειράζω', 'ἔχω', 'κατηγορέω'],\n",
       " ['Ἰησοῦς', 'κύπτω', 'δάκτυλος', 'καταγράφω', 'γῆ'],\n",
       " ['ἐπιμένω',\n",
       "  'ἐρωτάω',\n",
       "  'ἀνακύπτω',\n",
       "  'λέγω',\n",
       "  'ἀναμάρτητος',\n",
       "  'πρῶτος',\n",
       "  'αὐτός',\n",
       "  'βάλλω',\n",
       "  'λίθος'],\n",
       " ['κατακύπτω', 'γράφω', 'γῆ'],\n",
       " ['ἀκούω',\n",
       "  'ἐξέρχομαι',\n",
       "  'ἄρχω',\n",
       "  'πρέσβυς',\n",
       "  'καταλείπω',\n",
       "  'μόνος',\n",
       "  'γυνή',\n",
       "  'μέσος',\n",
       "  'εἰμί'],\n",
       " ['ἀνακύπτω', 'Ἰησοῦς', 'λέγω', 'γυνή', 'εἰμί'],\n",
       " ['οὐδείς', 'κατακρίνω'],\n",
       " ['λέγω', 'κύριος'],\n",
       " ['λέγω', 'Ἰησοῦς', 'κατακρίνω'],\n",
       " ['πορεύομαι', 'ἁμαρτάνω'],\n",
       " ['ἐγείρω'],\n",
       " ['λαλέω', 'Ἰησοῦς', 'λέγω', 'φῶς', 'κόσμος'],\n",
       " ['ἀκολουθέω', 'περιπατέω', 'σκοτία', 'ἔχω', 'φῶς', 'ζωή'],\n",
       " ['λέγω', 'Φαρισαῖος', 'μαρτυρέω'],\n",
       " ['μαρτυρία', 'εἰμί', 'ἀληθής'],\n",
       " ['ἀποκρίνω',\n",
       "  'Ἰησοῦς',\n",
       "  'λέγω',\n",
       "  'μαρτυρέω',\n",
       "  'ἀληθής',\n",
       "  'εἰμί',\n",
       "  'μαρτυρία',\n",
       "  'οἶδα',\n",
       "  'ἔρχομαι',\n",
       "  'ὑπάγω'],\n",
       " ['οἶδα', 'ἔρχομαι', 'ὑπάγω'],\n",
       " ['σάρξ', 'κρίνω', 'κρίνω', 'οὐδείς'],\n",
       " ['κρίνω',\n",
       "  'κρίσις',\n",
       "  'ἐμός',\n",
       "  'ἀληθινός',\n",
       "  'εἰμί',\n",
       "  'μόνος',\n",
       "  'εἰμί',\n",
       "  'πέμπω',\n",
       "  'πατήρ'],\n",
       " ['νόμος', 'ὑμέτερος', 'γράφω', 'ἄνθρωπος', 'μαρτυρία', 'ἀληθής', 'εἰμί'],\n",
       " ['μαρτυρέω', 'μαρτυρέω', 'πέμπω', 'πατήρ'],\n",
       " ['λέγω', 'πατήρ'],\n",
       " ['ἀποκρίνω', 'Ἰησοῦς', 'οἶδα', 'πατήρ'],\n",
       " ['οἶδα', 'πατήρ', 'οἶδα'],\n",
       " ['οὗτος', 'ῥῆμα', 'λαλέω', 'γαζοφυλάκιον', 'διδάσκω', 'ἱερόν'],\n",
       " ['οὐδείς', 'πιάζω', 'ἔρχομαι', 'ὥρα'],\n",
       " ['λέγω', 'ὑπάγω', 'ζητέω', 'ἁμαρτία', 'ἀποθνῄσκω'],\n",
       " ['ὑπάγω', 'δύναμαι', 'ἔρχομαι'],\n",
       " ['λέγω',\n",
       "  'ὄις',\n",
       "  'Ἰουδαῖος',\n",
       "  'μήτι',\n",
       "  'ἀποκτείνω',\n",
       "  'λέγω',\n",
       "  'ὑπάγω',\n",
       "  'δύναμαι',\n",
       "  'ἔρχομαι'],\n",
       " ['λέγω', 'εἰμί', 'εἰμί'],\n",
       " ['οὗτος', 'κόσμος', 'εἰμί', 'εἰμί', 'κόσμος', 'οὗτος'],\n",
       " ['λέγω', 'ἀποθνῄσκω', 'ἁμαρτία'],\n",
       " ['πιστεύω', 'εἰμί', 'ἀποθνῄσκω', 'ἁμαρτία'],\n",
       " ['λέγω', 'εἰμί'],\n",
       " ['λέγω', 'Ἰησοῦς', 'ἀρχή', 'λαλέω'],\n",
       " ['πολύς', 'ἔχω', 'λαλέω', 'κρίνω'],\n",
       " ['πέμπω', 'ἀληθής', 'εἰμί', 'ἀκούω', 'οὗτος', 'λαλέω', 'κόσμος'],\n",
       " ['γιγνώσκω', 'πατήρ', 'λέγω'],\n",
       " ['λέγω',\n",
       "  'Ἰησοῦς',\n",
       "  'ὑψόω',\n",
       "  'υἱός',\n",
       "  'ἄνθρωπος',\n",
       "  'γιγνώσκω',\n",
       "  'εἰμί',\n",
       "  'ποιέω',\n",
       "  'διδάσκω',\n",
       "  'πατήρ',\n",
       "  'οὗτος',\n",
       "  'λαλέω'],\n",
       " ['πέμπω', 'εἰμί'],\n",
       " ['ἀφίημι', 'μόνος', 'ἀρεστός', 'ποιέω'],\n",
       " ['οὗτος', 'λαλέω', 'πολύς', 'πιστεύω'],\n",
       " ['λέγω',\n",
       "  'Ἰησοῦς',\n",
       "  'πιστεύω',\n",
       "  'Ἰουδαῖος',\n",
       "  'μένω',\n",
       "  'λόγος',\n",
       "  'ἐμός',\n",
       "  'μαθητής',\n",
       "  'εἰμί',\n",
       "  'γιγνώσκω',\n",
       "  'ἀλήθεια',\n",
       "  'ἀλήθεια',\n",
       "  'ἐλευθερόω'],\n",
       " ['ἀποκρίνω', 'σπέρμα', 'Ἀβραάμ', 'οὐδείς', 'δουλεύω'],\n",
       " ['λέγω', 'ἐλεύθερος', 'γίγνομαι'],\n",
       " ['ἀποκρίνω',\n",
       "  'Ἰησοῦς',\n",
       "  'λέγω',\n",
       "  'ποιέω',\n",
       "  'ἁμαρτία',\n",
       "  'δοῦλος',\n",
       "  'εἰμί',\n",
       "  'ἁμαρτία'],\n",
       " ['δοῦλος', 'μένω', 'οἰκία', 'αἰών'],\n",
       " ['υἱός', 'μένω', 'αἰών'],\n",
       " ['υἱός', 'ἐλευθερόω', 'ἐλεύθερος', 'εἰμί'],\n",
       " ['οἶδα', 'σπέρμα', 'Ἀβραάμ', 'εἰμί'],\n",
       " ['ζητέω', 'ἀποκτείνω', 'λόγος', 'ἐμός', 'χωρέω'],\n",
       " ['ὁράω', 'πατήρ', 'λαλέω'],\n",
       " ['ἀκούω', 'πατήρ', 'ποιέω'],\n",
       " ['ἀποκρίνω', 'λέγω', 'πατήρ', 'Ἀβραάμ', 'εἰμί'],\n",
       " ['λέγω', 'Ἰησοῦς', 'τέκνον', 'Ἀβραάμ', 'εἰμί', 'ἔργον', 'Ἀβραάμ', 'ποιέω'],\n",
       " ['ζητέω', 'ἀποκτείνω', 'ἄνθρωπος', 'ἀλήθεια', 'λαλέω', 'ἀκούω', 'θεός'],\n",
       " ['οὗτος', 'Ἀβραάμ', 'ποιέω'],\n",
       " ['ποιέω', 'ἔργον', 'πατήρ'],\n",
       " ['λέγω', 'πορνεία', 'γεννάω'],\n",
       " ['πατήρ', 'ἔχω', 'θεός'],\n",
       " ['λέγω', 'Ἰησοῦς', 'θεός', 'πατήρ', 'ἀγαπάω', 'θεός', 'ἐξέρχομαι', 'ἥκω'],\n",
       " ['ἔρχομαι', 'ἐκεῖνος', 'ἀποστέλλω'],\n",
       " ['λαλιά', 'ἐμός', 'γιγνώσκω'],\n",
       " ['δύναμαι', 'ἀκούω', 'λόγος', 'ἐμός'],\n",
       " ['πατήρ', 'διάβολος', 'ἐπιθυμία', 'πατήρ', 'ἐθέλω', 'ποιέω'],\n",
       " ['ἐκεῖνος',\n",
       "  'ἀνθρωποκτόνος',\n",
       "  'εἰμί',\n",
       "  'ἀρχή',\n",
       "  'ἀλήθεια',\n",
       "  'ἵστημι',\n",
       "  'εἰμί',\n",
       "  'ἀλήθεια'],\n",
       " ['λαλέω', 'ψεῦδος', 'ἴδιος', 'λαλέω', 'ψεύστης', 'εἰμί', 'πατήρ'],\n",
       " ['ἀλήθεια', 'λέγω', 'πιστεύω'],\n",
       " ['ἐλέγχω', 'ἁμαρτία'],\n",
       " ['ἀλήθεια', 'λέγω', 'πιστεύω'],\n",
       " ['θεός', 'ῥῆμα', 'θεός', 'ἀκούω'],\n",
       " ['οὗτος', 'ἀκούω', 'θεός', 'εἰμί'],\n",
       " ['ἀποκρίνω', 'Ἰουδαῖος', 'λέγω', 'λέγω', 'Σαμαρείτης', 'δαιμόνιον', 'ἔχω'],\n",
       " ['ἀποκρίνω', 'Ἰησοῦς', 'δαιμόνιον', 'ἔχω', 'τιμάω', 'πατήρ', 'ἀτιμάζω'],\n",
       " ['ζητέω', 'δόξα'],\n",
       " ['ζητέω', 'κρίνω'],\n",
       " ['λέγω', 'ἐμός', 'λόγος', 'τηρέω', 'θάνατος', 'θεωρέω', 'αἰών'],\n",
       " ['λέγω', 'Ἰουδαῖος', 'γιγνώσκω', 'δαιμόνιον', 'ἔχω'],\n",
       " ['Ἀβραάμ',\n",
       "  'ἀποθνῄσκω',\n",
       "  'προφήτης',\n",
       "  'λέγω',\n",
       "  'λόγος',\n",
       "  'τηρέω',\n",
       "  'γεύομαι',\n",
       "  'θάνατος',\n",
       "  'αἰών'],\n",
       " ['μέγας', 'πατήρ', 'Ἀβραάμ', 'ἀποθνῄσκω'],\n",
       " ['προφήτης', 'ἀποθνῄσκω'],\n",
       " ['ποιέω'],\n",
       " ['ἀποκρίνω', 'Ἰησοῦς', 'δοξάζω', 'δόξα', 'οὐδείς', 'εἰμί'],\n",
       " ['πατήρ', 'δοξάζω', 'λέγω', 'θεός', 'εἰμί', 'γιγνώσκω', 'οἶδα'],\n",
       " ['λέγω', 'οἶδα', 'εἰμί', 'ὅμοιος', 'ψεύστης'],\n",
       " ['οἶδα', 'λόγος', 'τηρέω'],\n",
       " ['Ἀβραάμ', 'πατήρ', 'ἀγαλλιάω', 'ὁράω', 'ἡμέρα', 'ἐμός', 'ὁράω', 'χαίρω'],\n",
       " ['λέγω', 'Ἰουδαῖος', 'πεντήκοντα', 'ἔτος', 'ἔχω', 'Ἀβραάμ', 'ὁράω'],\n",
       " ['λέγω', 'Ἰησοῦς', 'λέγω', 'Ἀβραάμ', 'γίγνομαι', 'εἰμί'],\n",
       " ['ἀείρω', 'λίθος', 'βάλλω'],\n",
       " ['Ἰησοῦς', 'κρύπτω', 'ἐξέρχομαι', 'ἱερόω'],\n",
       " ['παράγω', 'ὁράω', 'ἄνθρωπος', 'τυφλός', 'γενετή'],\n",
       " ['ἐρωτάω',\n",
       "  'μαθητής',\n",
       "  'λέγω',\n",
       "  'ῥαββί',\n",
       "  'ἁμαρτάνω',\n",
       "  'γονεύς',\n",
       "  'τυφλός',\n",
       "  'γεννάω'],\n",
       " ['ἀποκρίνω',\n",
       "  'Ἰησοῦς',\n",
       "  'οὗτος',\n",
       "  'ἁμαρτάνω',\n",
       "  'γονεύς',\n",
       "  'φανερόω',\n",
       "  'ἔργον',\n",
       "  'θεός'],\n",
       " ['δεῖ', 'ἐργάζομαι', 'ἔργον', 'πέμπω', 'ἡμέρα', 'εἰμί'],\n",
       " ['ἔρχομαι', 'νύξ', 'οὐδείς', 'δύναμαι', 'ἐργάζομαι'],\n",
       " ['κόσμος', 'φῶς', 'εἰμί', 'κόσμος'],\n",
       " ['οὗτος',\n",
       "  'λέγω',\n",
       "  'πτύω',\n",
       "  'ποιέω',\n",
       "  'πηλός',\n",
       "  'πτύσμα',\n",
       "  'ἐπιτίθημι',\n",
       "  'πηλός',\n",
       "  'ὀφθαλμός',\n",
       "  'λέγω',\n",
       "  'ὑπάγω',\n",
       "  'νίπτω',\n",
       "  'κολυμβήθρα',\n",
       "  'Σιλωάμ'],\n",
       " ['ἑρμηνεύω', 'ἀποστέλλω'],\n",
       " ['ἀπέρχομαι', 'νίπτω', 'ἔρχομαι', 'βλέπω'],\n",
       " ['γείτων',\n",
       "  'θεωρέω',\n",
       "  'πρότερος',\n",
       "  'προσαίτης',\n",
       "  'λέγω',\n",
       "  'οὗτος',\n",
       "  'κάθημαι',\n",
       "  'προσαιτέω'],\n",
       " ['ἄλλος', 'λέγω', 'οὗτος', 'εἰμί'],\n",
       " ['ἄλλος', 'λέγω', 'ὅμοιος', 'αὐτός', 'εἰμί'],\n",
       " ['ἐκεῖνος', 'λέγω', 'εἰμί'],\n",
       " ['λέγω', 'ἀνοίγνυμι', 'ὀφθαλμός'],\n",
       " ['ἀποκρίνω',\n",
       "  'ἄνθρωπος',\n",
       "  'λέγω',\n",
       "  'Ἰησοῦς',\n",
       "  'πηλός',\n",
       "  'ποιέω',\n",
       "  'ἐπιχρίω',\n",
       "  'ὀφθαλμός',\n",
       "  'λέγω',\n",
       "  'ὑπάγω',\n",
       "  'Σιλωάμ',\n",
       "  'νίπτω'],\n",
       " ['ἀπέρχομαι', 'νίπτω', 'ἀναβλέπω'],\n",
       " ['λέγω', 'εἰμί'],\n",
       " ['λέγω', 'οἶδα'],\n",
       " ['ἄγω', 'Φαρισαῖος', 'τυφλός'],\n",
       " ['σάββατον', 'ἡμέρα', 'πηλός', 'ποιέω', 'Ἰησοῦς', 'ἀνοίγνυμι', 'ὀφθαλμός'],\n",
       " ['ἐρωτάω', 'Φαρισαῖος', 'ἀναβλέπω'],\n",
       " ['λέγω', 'πηλός', 'ἐπιτίθημι', 'ὀφθαλμός', 'νίπτω', 'βλέπω'],\n",
       " ['λέγω', 'Φαρισαῖος', 'θεός', 'ἄνθρωπος', 'σάββατον', 'τηρέω'],\n",
       " ['ἄλλος',\n",
       "  'λέγω',\n",
       "  'δύναμαι',\n",
       "  'ἄνθρωπος',\n",
       "  'ἁμαρτωλός',\n",
       "  'τοιοῦτος',\n",
       "  'σημεῖον',\n",
       "  'ποιέω'],\n",
       " ['σχίσμα', 'εἰμί'],\n",
       " ['λέγω', 'τυφλός', 'λέγω', 'ἀνοίγνυμι', 'ὀφθαλμός'],\n",
       " ['λέγω', 'προφήτης', 'εἰμί'],\n",
       " ['πιστεύω',\n",
       "  'Ἰουδαῖος',\n",
       "  'εἰμί',\n",
       "  'τυφλός',\n",
       "  'ἀναβλέπω',\n",
       "  'φωνέω',\n",
       "  'γονεύς',\n",
       "  'ἀναβλέπω',\n",
       "  'ἐρωτάω',\n",
       "  'λέγω',\n",
       "  'οὗτος',\n",
       "  'υἱός',\n",
       "  'λέγω',\n",
       "  'τυφλός',\n",
       "  'γεννάω'],\n",
       " ['βλέπω'],\n",
       " ['ἀποκρίνω', 'γονεύς', 'λέγω', 'οἶδα', 'οὗτος', 'υἱός', 'τυφλός', 'γεννάω'],\n",
       " ['βλέπω', 'οἶδα', 'ἀνοίγνυμι', 'ὀφθαλμός', 'οἶδα'],\n",
       " ['ἐρωτάω', 'ἡλικία', 'ἔχω', 'λαλέω'],\n",
       " ['οὗτος',\n",
       "  'λέγω',\n",
       "  'γονεύς',\n",
       "  'φοβέω',\n",
       "  'Ἰουδαῖος',\n",
       "  'συντίθημι',\n",
       "  'Ἰουδαῖος',\n",
       "  'τὶς',\n",
       "  'ὁμολογέω',\n",
       "  'Χριστός',\n",
       "  'ἀποσυνάγωγος',\n",
       "  'γίγνομαι'],\n",
       " ['οὗτος', 'γονεύς', 'λέγω', 'ἡλικία', 'ἔχω', 'αὐτός', 'ἐπερωτάω'],\n",
       " ['φωνέω', 'ἄνθρωπος', 'δεύτερος', 'τυφλός', 'λέγω', 'δίδωμι', 'δόξα', 'θεός'],\n",
       " ['οἶδα', 'ἄνθρωπος', 'ἁμαρτωλός', 'εἰμί'],\n",
       " ['ἀποκρίνω', 'ἐκεῖνος', 'ἁμαρτωλός', 'εἰμί', 'οἶδα'],\n",
       " ['οἶδα', 'τυφλός', 'εἰμί', 'βλέπω'],\n",
       " ['λέγω', 'ποιέω'],\n",
       " ['ἀνοίγνυμι', 'ὀφθαλμός'],\n",
       " ['ἀποκρίνω', 'λέγω', 'ἀκούω'],\n",
       " ['ἐθέλω', 'ἀκούω'],\n",
       " ['ἐθέλω', 'μαθητής', 'γίγνομαι'],\n",
       " ['λοιδορέω', 'λέγω', 'μαθητής', 'εἰμί', 'μωυσέως', 'εἰμί', 'μαθητής'],\n",
       " ['οἶδα', 'μωυσεῖ', 'λαλέω', 'θεός', 'οἶδα', 'εἰμί'],\n",
       " ['ἀποκρίνω',\n",
       "  'ἄνθρωπος',\n",
       "  'λέγω',\n",
       "  'θαυμαστός',\n",
       "  'οἶδα',\n",
       "  'εἰμί',\n",
       "  'ἀνοίγνυμι',\n",
       "  'ὀφθαλμός'],\n",
       " ['οἶδα',\n",
       "  'θεός',\n",
       "  'ἁμαρτωλός',\n",
       "  'ἀκούω',\n",
       "  'θεοσεβής',\n",
       "  'θέλημα',\n",
       "  'ποιέω',\n",
       "  'ἀκούω'],\n",
       " ['αἰών', 'ἀκούω', 'ἀνοίγνυμι', 'τὶς', 'ὀφθαλμός', 'τυφλός', 'γεννάω'],\n",
       " ['εἰμί', 'οὗτος', 'θεός', 'δύναμαι', 'ποιέω'],\n",
       " ['ἀποκρίνω', 'λέγω', 'ἁμαρτία', 'γεννάω', 'ὅλος', 'διδάσκω'],\n",
       " ['ἐκβάλλω'],\n",
       " ['ἀκούω', 'Ἰησοῦς', 'ἐκβάλλω', 'εὑρίσκω', 'αὐτός', 'λέγω'],\n",
       " ['πιστεύω', 'υἱός', 'ἀνθρώ'],\n",
       " ['ἀποκρίνω', 'ἐκεῖνος', 'λέγω', 'εἰμί', 'κύριος', 'πιστεύω'],\n",
       " ['λέγω', 'Ἰησοῦς', 'ὁράω', 'λαλέω', 'ἐκεῖνος', 'εἰμί'],\n",
       " ['φημί', 'πιστεύω', 'κύριος'],\n",
       " ['προσκυνέω'],\n",
       " ['λέγω',\n",
       "  'Ἰησοῦς',\n",
       "  'κρίμα',\n",
       "  'κόσμος',\n",
       "  'οὗτος',\n",
       "  'ἔρχομαι',\n",
       "  'βλέπω',\n",
       "  'βλέπω',\n",
       "  'βλέπω',\n",
       "  'τυφλός',\n",
       "  'γίγνομαι'],\n",
       " ['ἀκούω', 'Φαρισαῖος', 'εἰμί', 'λέγω', 'τυφλός', 'εἰμί'],\n",
       " ['λέγω', 'Ἰησοῦς', 'τυφλός', 'εἰμί', 'ἔχω', 'ἁμαρτία'],\n",
       " ['λέγω', 'βλέπω'],\n",
       " ['ἁμαρτία', 'μένω'],\n",
       " ['λέγω',\n",
       "  'εἰσέρχομαι',\n",
       "  'θύρα',\n",
       "  'αὐλή',\n",
       "  'πρόβατον',\n",
       "  'ἀναβαίνω',\n",
       "  'ἐκεῖνος',\n",
       "  'κλέπτης',\n",
       "  'εἰμί',\n",
       "  'λῃστής'],\n",
       " ['εἰσέρχομαι', 'θύρα', 'ποιμήν', 'εἰμί', 'πρόβατον'],\n",
       " ['οὗτος',\n",
       "  'θυρωρός',\n",
       "  'ἀνοίγνυμι',\n",
       "  'πρόβατον',\n",
       "  'φωνή',\n",
       "  'ἀκούω',\n",
       "  'ἴδιος',\n",
       "  'πρόβατον',\n",
       "  'φωνέω',\n",
       "  'ὄνομα',\n",
       "  'ἐξάγω'],\n",
       " ['ἴδιος',\n",
       "  'πᾶς',\n",
       "  'ἐκβάλλω',\n",
       "  'πορεύομαι',\n",
       "  'πρόβατον',\n",
       "  'ἀκολουθέω',\n",
       "  'οἶδα',\n",
       "  'φωνή'],\n",
       " ['ἀλλότριος', 'ἀκολουθέω', 'φεύγω', 'οἶδα', 'ἀλλότριος', 'φωνή'],\n",
       " ['παροιμία', 'λέγω', 'Ἰησοῦς'],\n",
       " ['ἐκεῖνος', 'γιγνώσκω', 'εἰμί', 'λαλέω'],\n",
       " ['λέγω', 'Ἰησοῦς', 'λέγω', 'εἰμί', 'θύρα', 'πρόβατον'],\n",
       " ['πᾶς', 'ἔρχομαι', 'κλέπτης', 'εἰμί', 'λῃστής'],\n",
       " ['ἀκούω', 'πρόβατον'],\n",
       " ['εἰμί', 'θύρα'],\n",
       " ['τὶς', 'εἰσέρχομαι', 'σῴζω', 'εἰσέρχομαι', 'ἐξέρχομαι', 'νομή', 'εὑρίσκω'],\n",
       " ['κλέπτης', 'ἔρχομαι', 'κλέπτω', 'θύω', 'ἀπόλλυμι'],\n",
       " ['ἔρχομαι', 'ζωή', 'ἔχω', 'περισσός', 'ἔχω'],\n",
       " ['ποιμήν', 'καλός'],\n",
       " ['ποιμήν', 'καλός', 'ψυχή', 'τίθημι', 'πρόβατον'],\n",
       " ['μισθωτός',\n",
       "  'εἰμί',\n",
       "  'ποιμήν',\n",
       "  'εἰμί',\n",
       "  'πρόβατον',\n",
       "  'ἴδιος',\n",
       "  'θεωρέω',\n",
       "  'λύκος',\n",
       "  'ἔρχομαι',\n",
       "  'ἀφίημι',\n",
       "  'πρόβατον',\n",
       "  'φεύγω',\n",
       "  'λύκος',\n",
       "  'ἁρπάζω',\n",
       "  'σκορπίζω',\n",
       "  'μισθωτός',\n",
       "  'μέλει',\n",
       "  'πρόβατον'],\n",
       " ['ποιμήν',\n",
       "  'καλός',\n",
       "  'γιγνώσκω',\n",
       "  'ἐμός',\n",
       "  'γιγνώσκω',\n",
       "  'ἐμός',\n",
       "  'γιγνώσκω',\n",
       "  'πατήρ',\n",
       "  'γιγνώσκω',\n",
       "  'πατήρ',\n",
       "  'ψυχή',\n",
       "  'τίθημι',\n",
       "  'πρόβατον'],\n",
       " ['πρόβατον', 'ἔχω', 'αὐλή', 'οὗτος'],\n",
       " ['ἐκεῖνος',\n",
       "  'δεῖ',\n",
       "  'ἄγω',\n",
       "  'φωνή',\n",
       "  'ἀκούω',\n",
       "  'γίγνομαι',\n",
       "  'εἷς',\n",
       "  'ποίμνη',\n",
       "  'ποιμήν'],\n",
       " ['οὗτος', 'πατήρ', 'ἀγαπάω', 'τίθημι', 'ψυχή', 'λαμβάνω'],\n",
       " ['οὐδείς', 'ἀείρω', 'αὐτός', 'τίθημι', 'αὐτός'],\n",
       " ['ἐξουσία', 'ἔχω', 'τίθημι', 'ἐξουσία', 'ἔχω', 'λαμβάνω'],\n",
       " ['ἐντολή', 'λαμβάνω', 'πατήρ'],\n",
       " ['σχίσμα', 'γίγνομαι', 'Ἰουδαῖος', 'λόγος', 'οὗτος'],\n",
       " ['λέγω', 'πολύς', 'δαιμόνιον', 'ἔχω', 'μαίνομαι'],\n",
       " ['αὐτός', 'ἀκούω'],\n",
       " ['ἄλλος', 'λέγω', 'οὗτος', 'ῥῆμα', 'εἰμί', 'δαιμονίζομαι'],\n",
       " ['δαιμόνιον', 'δύναμαι', 'τυφλός', 'ὀφθαλμός', 'ἀνοίγνυμι'],\n",
       " ['γίγνομαι', 'ἐγκαίνια', 'ἰεροσολύμοις'],\n",
       " ['χειμών', 'εἰμί', 'περιπατέω', 'Ἰησοῦς', 'ἱερόν', 'στοά', 'Σολομών'],\n",
       " ['κυκλόω', 'Ἰουδαῖος', 'λέγω', 'ψυχή', 'ἀείρω'],\n",
       " ['εἰμί', 'χριστός', 'λέγω', 'παρρησιάζομαι'],\n",
       " ['ἀποκρίνω', 'Ἰησοῦς', 'λέγω', 'πιστεύω'],\n",
       " ['ἔργον', 'ποιέω', 'ὄνομα', 'πατήρ', 'οὗτος', 'μαρτυρέω'],\n",
       " ['πιστεύω', 'εἰμί', 'πρόβατον', 'ἐμός'],\n",
       " ['πρόβατον',\n",
       "  'ἐμός',\n",
       "  'φωνή',\n",
       "  'ἀκούω',\n",
       "  'γιγνώσκω',\n",
       "  'ἀκολουθέω',\n",
       "  'δίδωμι',\n",
       "  'ζωή',\n",
       "  'αἰώνιος',\n",
       "  'ἀπόλλυμι',\n",
       "  'αἰών',\n",
       "  'ἁρπάζω',\n",
       "  'τὶς',\n",
       "  'χείρ'],\n",
       " ['πατήρ',\n",
       "  'δίδωμι',\n",
       "  'πᾶς',\n",
       "  'μέγας',\n",
       "  'εἰμί',\n",
       "  'δύναμαι',\n",
       "  'ἁρπάζω',\n",
       "  'χείρ',\n",
       "  'πατήρ'],\n",
       " ['πατήρ', 'εἷς', 'εἰμί'],\n",
       " ['βαστάζω', 'λίθος', 'Ἰουδαῖος', 'λιθάζω'],\n",
       " ['ἀποκρίνω', 'Ἰησοῦς', 'πολύς', 'ἔργον', 'δείκνυμι', 'καλός', 'πατήρ'],\n",
       " ['ἔργον', 'λιθάζω'],\n",
       " ['ἀποκρίνω',\n",
       "  'Ἰουδαῖος',\n",
       "  'καλός',\n",
       "  'ἔργον',\n",
       "  'λιθάζω',\n",
       "  'βλασφημία',\n",
       "  'ἄνθρωπος',\n",
       "  'ποιέω',\n",
       "  'θεός'],\n",
       " ['ἀποκρίνω', 'Ἰησοῦς', 'γράφω', 'νόμος', 'λέγω', 'θεός', 'εἰμί'],\n",
       " ['ἐκεῖνος',\n",
       "  'λέγω',\n",
       "  'θεός',\n",
       "  'λόγος',\n",
       "  'θεός',\n",
       "  'γίγνομαι',\n",
       "  'δύναμαι',\n",
       "  'λύω',\n",
       "  'γραφή',\n",
       "  'πατήρ',\n",
       "  'ἁγιάζω',\n",
       "  'ἀποστέλλω',\n",
       "  'κόσμος',\n",
       "  'λέγω',\n",
       "  'βλασφημέω',\n",
       "  'λέγω',\n",
       "  'υἱός',\n",
       "  'θεός',\n",
       "  'εἰμί'],\n",
       " ['ποιέω', 'ἔργον', 'πατήρ', 'πιστεύω'],\n",
       " ['ποιέω',\n",
       "  'πιστεύω',\n",
       "  'ἔργον',\n",
       "  'πιστεύω',\n",
       "  'γιγνώσκω',\n",
       "  'γιγνώσκω',\n",
       "  'πατήρ',\n",
       "  'πατήρ'],\n",
       " ['ζητέω', 'πιάζω'],\n",
       " ['ἐξέρχομαι', 'χείρ'],\n",
       " ['ἀπέρχομαι', 'Ἰορδάνης', 'τόπος', 'ἰωάνης', 'πρῶτος', 'βαπτίζω', 'μένω'],\n",
       " ['πολύς',\n",
       "  'ἔρχομαι',\n",
       "  'λέγω',\n",
       "  'ἰωάνης',\n",
       "  'σημεῖον',\n",
       "  'ποιέω',\n",
       "  'πᾶς',\n",
       "  'λέγω',\n",
       "  'ἰωάνης',\n",
       "  'ἀληθής',\n",
       "  'εἰμί'],\n",
       " ['πολύς', 'πιστεύω'],\n",
       " ['ἀσθενέω', 'Λάζαρος', 'Βηθανία', 'κώμη', 'Μαρία', 'Μάρθα', 'ἀδελφή'],\n",
       " ['Μαρία',\n",
       "  'ἀλείφω',\n",
       "  'κύριος',\n",
       "  'μύρον',\n",
       "  'ἐκμάσσω',\n",
       "  'πούς',\n",
       "  'θρίξ',\n",
       "  'αὐτός',\n",
       "  'ἀδελφός',\n",
       "  'Λάζαρος',\n",
       "  'ἀσθενέω'],\n",
       " ['ἀποστέλλω', 'ἀδελφή', 'λέγω', 'κύριος', 'ὁράω', 'ὅς', 'φιλέω', 'ἀσθενέω'],\n",
       " ['ἀκούω',\n",
       "  'Ἰησοῦς',\n",
       "  'λέγω',\n",
       "  'οὗτος',\n",
       "  'ἀσθένεια',\n",
       "  'θάνατος',\n",
       "  'δόξα',\n",
       "  'θεός',\n",
       "  'δοξάζω',\n",
       "  'υἱός',\n",
       "  'θεός'],\n",
       " ['ἀγαπάω', 'Ἰησοῦς', 'Μάρθα', 'ἀδελφή', 'Λάζαρος'],\n",
       " ['ἀκούω', 'ἀσθενέω', 'μένω', 'εἰμί', 'τόπος', 'δύο', 'ἡμέρα'],\n",
       " ['οὗτος', 'λέγω', 'μαθητής', 'ἄγω', 'Ἰουδαία'],\n",
       " ['λέγω', 'μαθητής', 'ῥαββί', 'ζητέω', 'λιθάζω', 'Ἰουδαῖος', 'ὑπάγω'],\n",
       " ['ἀποκρίνω', 'Ἰησοῦς', 'ὥρα', 'εἰμί', 'ἡμέρα'],\n",
       " ['τὶς', 'περιπατέω', 'ἡμέρα', 'προσκόπτω', 'φῶς', 'κόσμος', 'βλέπω'],\n",
       " ['τὶς', 'περιπατέω', 'νύξ', 'προσκόπτω', 'φῶς', 'εἰμί'],\n",
       " ['οὗτος',\n",
       "  'λέγω',\n",
       "  'λέγω',\n",
       "  'Λάζαρος',\n",
       "  'φίλος',\n",
       "  'κοιμάομαι',\n",
       "  'πορεύομαι',\n",
       "  'ἐξυπνίζω'],\n",
       " ['λέγω', 'μαθητής', 'κύριος', 'κοιμάομαι', 'σῴζω'],\n",
       " ['λέγω', 'Ἰησοῦς', 'θάνατος'],\n",
       " ['ἐκεῖνος', 'δοκέω', 'κοίμησις', 'ὕπνος', 'λέγω'],\n",
       " ['λέγω',\n",
       "  'Ἰησοῦς',\n",
       "  'παρρησία',\n",
       "  'Λάζαρος',\n",
       "  'ἀποθνῄσκω',\n",
       "  'χαίρω',\n",
       "  'πιστεύω',\n",
       "  'εἰμί'],\n",
       " ['ἄγω'],\n",
       " ['λέγω', 'Θωμᾶς', 'λέγω', 'Δίδυμος', 'συμμαθητής', 'ἄγω', 'ἀποθνῄσκω'],\n",
       " ['ἔρχομαι', 'Ἰησοῦς', 'εὑρίσκω', 'ἡμέρα', 'ἔχω', 'μνημεῖον'],\n",
       " ['Βηθανία', 'ἰεροσολύμων', 'στάδιον'],\n",
       " ['πολύς', 'Ἰουδαῖος', 'ἔρχομαι', 'Μάρθα', 'Μαρία', 'παραμυθέομαι', 'ἀδελφός'],\n",
       " ['Μάρθα', 'ἀκούω', 'Ἰησοῦς', 'ἔρχομαι', 'ὑπαντάω'],\n",
       " ['Μαρία', 'οἶκος', 'καθέζομαι'],\n",
       " ['λέγω', 'Μάρθα', 'Ἰησοῦς', 'κύριος', 'εἰμί', 'ἀποθνῄσκω', 'ἀδελφός'],\n",
       " ['οἶδα', 'αἰτέω', 'θεός', 'δίδωμι', 'θεός'],\n",
       " ['λέγω', 'Ἰησοῦς', 'ἀνίστημι', 'ἀδελφός'],\n",
       " ['λέγω', 'Μάρθα', 'οἶδος', 'ἀνίστημι', 'ἀνάστασις', 'ἔσχατος', 'ἥμερος'],\n",
       " ['λέγω', 'Ἰησοῦς', 'ἀνάστασις', 'ζωή'],\n",
       " ['πιστεύω', 'ἀποθνῄσκω', 'ζῶ', 'πᾶς', 'ζῶ', 'πιστεύω', 'ἀποθνῄσκω', 'αἰών'],\n",
       " ['πιστεύω'],\n",
       " ['λέγω', 'ναῦς', 'κύριος'],\n",
       " ['πιστεύω', 'χριστός', 'υἱός', 'θεός', 'κόσμος', 'ἔρχομαι'],\n",
       " ['οὗτος',\n",
       "  'λέγω',\n",
       "  'ἀπέρχομαι',\n",
       "  'φωνέω',\n",
       "  'Μαρία',\n",
       "  'ἀδελφή',\n",
       "  'εἴπασα',\n",
       "  'διδάσκαλος',\n",
       "  'πάρειμι',\n",
       "  'φωνέω'],\n",
       " ['ἐκεῖνος', 'ἀκούω', 'ἐγείρω', 'ταχύς', 'ἔρχομαι'],\n",
       " ['ἔρχομαι', 'Ἰησοῦς', 'κώμη', 'εἰμί', 'τόπος', 'ὑπαντάω', 'Μάρθα'],\n",
       " ['Ἰουδαῖος',\n",
       "  'οἰκία',\n",
       "  'παραμυθέομαι',\n",
       "  'ὁράω',\n",
       "  'Μαρία',\n",
       "  'ἀνίστημι',\n",
       "  'ἐξέρχομαι',\n",
       "  'ἀκολουθέω',\n",
       "  'δοκέω',\n",
       "  'ὑπάγω',\n",
       "  'μνημεῖον',\n",
       "  'κλαίω'],\n",
       " ['Μαρία',\n",
       "  'ἔρχομαι',\n",
       "  'Ἰησοῦς',\n",
       "  'ὁράω',\n",
       "  'πίπτω',\n",
       "  'πούς',\n",
       "  'λέγω',\n",
       "  'αὐτός',\n",
       "  'κύριος',\n",
       "  'εἰμί',\n",
       "  'ἀποθνῄσκω',\n",
       "  'ἀδελφός'],\n",
       " ['Ἰησοῦς',\n",
       "  'ὁράω',\n",
       "  'κλαίω',\n",
       "  'συνέρχομαι',\n",
       "  'Ἰουδαῖος',\n",
       "  'κλαίω',\n",
       "  'ἐμβριμάομαι',\n",
       "  'πνεῦμα',\n",
       "  'ταράσσω',\n",
       "  'λέγω',\n",
       "  'τίθημι'],\n",
       " ['λέγω', 'κύριος', 'ἔρχομαι', 'ὁράω'],\n",
       " ['δακρύω', 'Ἰησοῦς'],\n",
       " ['λέγω', 'Ἰουδαῖος', 'ὁράω', 'φιλέω'],\n",
       " ['τὶς',\n",
       "  'λέγω',\n",
       "  'δύναμαι',\n",
       "  'οὗτος',\n",
       "  'ἀνοίγνυμι',\n",
       "  'ὀφθαλμός',\n",
       "  'τυφλός',\n",
       "  'ποιέω',\n",
       "  'ἀποθνῄσκω'],\n",
       " ['Ἰησοῦς', 'ἐμβριμάομαι', 'ἔρχομαι', 'μνημεῖον'],\n",
       " ['εἰμί', 'σπήλαιον', 'λίθος', 'ἐπίκειμαι'],\n",
       " ['λέγω', 'Ἰησοῦς', 'ἀρατός', 'λίθος'],\n",
       " ['λέγω',\n",
       "  'ἀδελφή',\n",
       "  'τελευτάω',\n",
       "  'Μάρθα',\n",
       "  'κύριος',\n",
       "  'ὄζω',\n",
       "  'τεταρταῖος',\n",
       "  'εἰμί'],\n",
       " ['λέγω', 'Ἰησοῦς', 'λέγω', 'πιστεύω', 'ὁράω', 'δόξα', 'θεός'],\n",
       " ['ἀείρω', 'λίθος'],\n",
       " ['Ἰησοῦς',\n",
       "  'ἀείρω',\n",
       "  'ὀφθαλμός',\n",
       "  'λέγω',\n",
       "  'πατήρ',\n",
       "  'εὐχαριστέω',\n",
       "  'ἀκούω',\n",
       "  'οἶδα',\n",
       "  'ἀκούω'],\n",
       " ['ὄχλος', 'περιΐστημι', 'λέγω', 'πιστεύω', 'ἀποστέλλω'],\n",
       " ['οὗτος', 'λέγω', 'φωνή', 'μέγας', 'κραυγάζω', 'Λάζαρος'],\n",
       " ['ἐξέρχομαι',\n",
       "  'θνῄσκω',\n",
       "  'δέω',\n",
       "  'πούς',\n",
       "  'χείρ',\n",
       "  'κειρία',\n",
       "  'ὄψις',\n",
       "  'σουδάριον',\n",
       "  'περιδέω'],\n",
       " ['λέγω', 'Ἰησοῦς', 'λύω', 'ἀφίημι', 'ὑπάγω'],\n",
       " ['πολύς', 'Ἰουδαῖος', 'ἔρχομαι', 'Μαρία', 'θεάομαι', 'ποιέω', 'πιστεύω'],\n",
       " ['τὶς', 'ἀπέρχομαι', 'Φαρισαῖος', 'λέγω', 'ποιέω', 'Ἰησοῦς'],\n",
       " ['συνάγω',\n",
       "  'ἀρχιερεύς',\n",
       "  'Φαρισαῖος',\n",
       "  'συνέδριον',\n",
       "  'λέγω',\n",
       "  'ποιέω',\n",
       "  'ἄνθρωπος',\n",
       "  'πολύς',\n",
       "  'ποιέω',\n",
       "  'σημεῖον'],\n",
       " ['ἀφίημι', 'πᾶς', 'πιστεύω', 'ἔρχομαι', 'Ῥωμαῖος', 'ἀείρω', 'τόπος', 'ἔθνος'],\n",
       " ['τὶς',\n",
       "  'καιάφας',\n",
       "  'ἀρχιερεύς',\n",
       "  'εἰμί',\n",
       "  'ἐνιαυτός',\n",
       "  'ἐκεῖνος',\n",
       "  'λέγω',\n",
       "  'οἶδα',\n",
       "  'λογίζομαι',\n",
       "  'συμφέρω',\n",
       "  'ἄνθρωπος',\n",
       "  'ἀποθνῄσκω',\n",
       "  'λαός',\n",
       "  'ὅλος',\n",
       "  'ἔθνος',\n",
       "  'ἀπόλλυμι'],\n",
       " ['οὗτος',\n",
       "  'λέγω',\n",
       "  'ἀρχιερεύς',\n",
       "  'εἰμί',\n",
       "  'ἐνιαυτός',\n",
       "  'προφητεύω',\n",
       "  'μέλλω',\n",
       "  'Ἰησοῦς',\n",
       "  'ἀποθνῄσκω',\n",
       "  'ἔθνος',\n",
       "  'ἔθνος',\n",
       "  'μόνος',\n",
       "  'τέκνον',\n",
       "  'θεός',\n",
       "  'διασκορπίζω',\n",
       "  'συνάγω',\n",
       "  'εἷς'],\n",
       " ['ἄπαις', 'ἡμέρα', 'βουλεύω', 'ἀποκτείνω'],\n",
       " ['Ἰησοῦς',\n",
       "  'παρρησία',\n",
       "  'περιπατέω',\n",
       "  'Ἰουδαῖος',\n",
       "  'ἀπέρχομαι',\n",
       "  'χώρα',\n",
       "  'ἔρημος',\n",
       "  'Ἐφραίμ',\n",
       "  'λέγω',\n",
       "  'πόλις',\n",
       "  'μένω',\n",
       "  'μαθητής'],\n",
       " ['πάσχα',\n",
       "  'Ἰουδαῖος',\n",
       "  'ἀναβαίνω',\n",
       "  'πολύς',\n",
       "  'ἰεροσόλυμα',\n",
       "  'χώρα',\n",
       "  'πάσχα',\n",
       "  'ἁγνίζω'],\n",
       " ['ζητέω', 'Ἰησοῦς', 'λέγω', 'ἱερόν', 'ἵστημι', 'δοκέω'],\n",
       " ['ἔρχομαι', 'ἑορτή'],\n",
       " ['δίδωμι',\n",
       "  'ἀρχιερεύς',\n",
       "  'Φαρισαῖος',\n",
       "  'ἐντολή',\n",
       "  'τὶς',\n",
       "  'γιγνώσκω',\n",
       "  'εἰμί',\n",
       "  'μηνύω',\n",
       "  'πιάζω',\n",
       "  'αὐτός'],\n",
       " ['Ἰησοῦς',\n",
       "  'ἡμέρα',\n",
       "  'πάσχα',\n",
       "  'ἔρχομαι',\n",
       "  'Βηθανία',\n",
       "  'εἰμί',\n",
       "  'Λάζαρος',\n",
       "  'ἐγείρω',\n",
       "  'νεκρός',\n",
       "  'Ἰησοῦς'],\n",
       " ['ποιέω', 'δεῖπνον', 'Μάρθα', 'διακονέω', 'Λάζαρος', 'ἀνάκειμαι'],\n",
       " ['Μαρία',\n",
       "  'λαμβάνω',\n",
       "  'λίτρα',\n",
       "  'μύρον',\n",
       "  'νάρδος',\n",
       "  'πιστικός',\n",
       "  'πολύτιμος',\n",
       "  'ἀλείφω',\n",
       "  'πούς',\n",
       "  'Ἰησοῦς',\n",
       "  'ἐκμάσσω',\n",
       "  'θρίξ',\n",
       "  'πούς'],\n",
       " ['οἰκία', 'πληρόω', 'ὀσμή', 'μύρον'],\n",
       " ['λέγω',\n",
       "  'Ἰούδας',\n",
       "  'Ἰσκαριώθ',\n",
       "  'μαθητής',\n",
       "  'μέλλω',\n",
       "  'παραδίδωμι',\n",
       "  'μύρον',\n",
       "  'πέρνημι',\n",
       "  'δηνάριον',\n",
       "  'δίδωμι',\n",
       "  'πτωχός'],\n",
       " ['λέγω',\n",
       "  'οὗτος',\n",
       "  'πτωχός',\n",
       "  'μέλει',\n",
       "  'κλέπτης',\n",
       "  'γλωσσόκομον',\n",
       "  'ἔχω',\n",
       "  'βάλλω',\n",
       "  'βαστάζω'],\n",
       " ['λέγω', 'Ἰησοῦς', 'ἀφίημι', 'ἡμέρα', 'ἐνταφιασμός', 'τηρέω'],\n",
       " ['πτωχός', 'ἔχω', 'ἔχω'],\n",
       " ['γιγνώσκω',\n",
       "  'ὄχλος',\n",
       "  'πολύς',\n",
       "  'Ἰουδαῖος',\n",
       "  'εἰμί',\n",
       "  'ἔρχομαι',\n",
       "  'Ἰησοῦς',\n",
       "  'μόνος',\n",
       "  'Λάζαρος',\n",
       "  'ὁράω',\n",
       "  'ἐγείρω',\n",
       "  'νεκρός'],\n",
       " ['βουλεύω',\n",
       "  'ἀρχιερεύς',\n",
       "  'Λάζαρος',\n",
       "  'ἀποκτείνω',\n",
       "  'πολύς',\n",
       "  'ὑπάγω',\n",
       "  'Ἰουδαῖος',\n",
       "  'πιστεύω',\n",
       "  'Ἰησοῦς'],\n",
       " ['ὄχλος',\n",
       "  'πολύς',\n",
       "  'ἔρχομαι',\n",
       "  'ἑορτή',\n",
       "  'ἀκούω',\n",
       "  'ἔρχομαι',\n",
       "  'Ἰησοῦς',\n",
       "  'ἰεροσόλυμα',\n",
       "  'λαμβάνω',\n",
       "  'βαΐον',\n",
       "  'φοῖνιξ',\n",
       "  'ἐξέρχομαι',\n",
       "  'ὑπάντησις',\n",
       "  'αὐτός',\n",
       "  'κραυγάζω',\n",
       "  'εὐλογέω',\n",
       "  'ἔρχομαι',\n",
       "  'ὄνομα',\n",
       "  'κύριος',\n",
       "  'βασιλεύς',\n",
       "  'Ἰσραήλ'],\n",
       " ['εὑρίσκω',\n",
       "  'Ἰησοῦς',\n",
       "  'ὀνάριον',\n",
       "  'καθίζω',\n",
       "  'εἰμί',\n",
       "  'γράφω',\n",
       "  'φοβέω',\n",
       "  'θυγάτηρ',\n",
       "  'Σιών'],\n",
       " ['βασιλεύς', 'ἔρχομαι', 'κάθημαι', 'πῶλος', 'ὄνος'],\n",
       " ['οὗτος',\n",
       "  'γιγνώσκω',\n",
       "  'μαθητής',\n",
       "  'πρῶτος',\n",
       "  'δοξάζω',\n",
       "  'Ἰησοῦς',\n",
       "  'μιμνῄσκω',\n",
       "  'οὗτος',\n",
       "  'γράφω',\n",
       "  'ποιέω'],\n",
       " ['μαρτυρέω', 'ὄχλος', 'Λάζαρος', 'φωνέω', 'μνημεῖον', 'ἐγείρω', 'νεκρός'],\n",
       " ['οὗτος', 'ὑπαντάω', 'ὄχλος', 'ἀκούω', 'οὗτος', 'ποιέω', 'σημεῖον'],\n",
       " ['Φαρισαῖος', 'λέγω', 'θεωρέω', 'ὠφελέω'],\n",
       " ['ὁράω', 'κόσμος', 'ἀπέρχομαι'],\n",
       " ['Ἕλλην', 'ἀναβαίνω', 'προσκυνέω', 'ἑορτή'],\n",
       " ['οὗτος',\n",
       "  'προσῆλθαν',\n",
       "  'Φίλιππος',\n",
       "  'βηθσαιδὰ',\n",
       "  'Γαλιλαία',\n",
       "  'ἐρωτάω',\n",
       "  'λέγω',\n",
       "  'κύριος',\n",
       "  'ἐθέλω',\n",
       "  'Ἰησοῦς',\n",
       "  'ὁράω'],\n",
       " ['ἔρχομαι', 'Φίλιππος', 'λέγω', 'Ἀνδρέας'],\n",
       " ['ἔρχομαι', 'Ἀνδρέας', 'Φίλιππος', 'λέγω', 'Ἰησοῦς'],\n",
       " ['Ἰησοῦς',\n",
       "  'ἀποκρίνω',\n",
       "  'λέγω',\n",
       "  'ἔρχομαι',\n",
       "  'ὥρα',\n",
       "  'δοξάζω',\n",
       "  'υἱός',\n",
       "  'ἄνθρωπος'],\n",
       " ['λέγω', 'κόκκος', 'σῖτος', 'πίπτω', 'γῆ', 'ἀποθνῄσκω', 'μόνος', 'μένω'],\n",
       " ['ἀποθνῄσκω', 'πολύς', 'καρπός', 'φέρω'],\n",
       " ['φιλέω',\n",
       "  'ψυχή',\n",
       "  'ἀπόλλυμι',\n",
       "  'μισέω',\n",
       "  'ψυχή',\n",
       "  'κόσμος',\n",
       "  'ζωή',\n",
       "  'αἰώνιος',\n",
       "  'φυλάσσω'],\n",
       " ['διακονέω', 'ἀκολουθέω', 'διάκονος', 'ἐμός', 'εἰμί'],\n",
       " ['τὶς', 'διακονέω', 'τιμάω', 'πατήρ'],\n",
       " ['ψυχή', 'ταράσσω', 'λέγω'],\n",
       " ['πατήρ', 'σῴζω', 'ὥρα', 'οὗτος'],\n",
       " ['οὗτος', 'ἔρχομαι', 'ὥρα', 'οὗτος'],\n",
       " ['πατήρ', 'δοξάζω', 'ὄνομα'],\n",
       " ['ἔρχομαι', 'φωνή', 'οὐρανός', 'δοξάζω', 'δοξάζω'],\n",
       " ['ὄχλος', 'ἵστημι', 'ἀκούω', 'λέγω', 'βροντή', 'γίγνομαι'],\n",
       " ['ἄλλος', 'λέγω', 'ἄγγελος', 'λαλέω'],\n",
       " ['ἀποκρίνω', 'λέγω', 'Ἰησοῦς', 'φωνή', 'γίγνομαι'],\n",
       " ['κρίσις', 'εἰμί', 'κόσμος', 'οὗτος', 'ἄρχων', 'κόσμος', 'ἐκβάλλω'],\n",
       " ['ὑψόω', 'γῆ', 'πᾶς', 'ἕλκω'],\n",
       " ['οὗτος', 'λέγω', 'σημαίνω', 'θάνατος', 'μέλλω', 'ἀποθνῄσκω'],\n",
       " ['ἀποκρίνω',\n",
       "  'ὄχλος',\n",
       "  'ἀκούω',\n",
       "  'νόμος',\n",
       "  'χριστός',\n",
       "  'μένω',\n",
       "  'αἰών',\n",
       "  'λέγω',\n",
       "  'δεῖ',\n",
       "  'ὑψόω',\n",
       "  'υἱός',\n",
       "  'ἄνθρωπος'],\n",
       " ['υἱός', 'ἄνθρωπος'],\n",
       " ['λέγω', 'Ἰησοῦς', 'μικρός', 'χρόνος', 'φῶς', 'εἰμί'],\n",
       " ['περιπατέω',\n",
       "  'φῶς',\n",
       "  'ἔχω',\n",
       "  'σκοτία',\n",
       "  'καταλαμβάνω',\n",
       "  'περιπατέω',\n",
       "  'σκοτία',\n",
       "  'οἶδα',\n",
       "  'ὑπάγω'],\n",
       " ['φῶς', 'ἔχω', 'πιστεύω', 'φῶς', 'υἱός', 'φῶς', 'γίγνομαι'],\n",
       " ['οὗτος', 'λαλέω', 'Ἰησοῦς', 'ἀπέρχομαι', 'κρύπτω'],\n",
       " ['σημεῖον',\n",
       "  'ποιέω',\n",
       "  'πιστεύω',\n",
       "  'λόγος',\n",
       "  'ἠσαίου',\n",
       "  'προφήτης',\n",
       "  'πληρόω',\n",
       "  'λέγω',\n",
       "  'κύριος',\n",
       "  'πιστεύω',\n",
       "  'ἀκοή'],\n",
       " ['βραχίων', 'κύριος', 'ἀποκαλύπτω'],\n",
       " ['οὗτος',\n",
       "  'δύναμαι',\n",
       "  'πιστεύω',\n",
       "  'λέγω',\n",
       "  'ἠσαίας',\n",
       "  'τυφλόω',\n",
       "  'ὀφθαλμός',\n",
       "  'πωρόω',\n",
       "  'καρδία',\n",
       "  'ὁράω',\n",
       "  'ὀφθαλμός',\n",
       "  'νοέω',\n",
       "  'καρδία',\n",
       "  'στρέφω',\n",
       "  'ἰάομαι'],\n",
       " ['οὗτος', 'λέγω', 'ἠσαίας', 'ὁράω', 'δόξα', 'λαλέω'],\n",
       " ['ἄρχων',\n",
       "  'πολύς',\n",
       "  'πιστεύω',\n",
       "  'Φαρισαῖος',\n",
       "  'ὁμολογέω',\n",
       "  'ἀποσυνάγωγος',\n",
       "  'γίγνομαι',\n",
       "  'ἀγαπάω',\n",
       "  'δόξα',\n",
       "  'ἄνθρωπος',\n",
       "  'δόξα',\n",
       "  'θεάομαι'],\n",
       " ['Ἰησοῦς',\n",
       "  'κράζω',\n",
       "  'λέγω',\n",
       "  'πιστεύω',\n",
       "  'πιστεύω',\n",
       "  'πέμπω',\n",
       "  'θεωρέω',\n",
       "  'θεωρέω',\n",
       "  'πέμπω'],\n",
       " ['φῶς', 'κόσμος', 'ἔρχομαι', 'πᾶς', 'πιστεύω', 'σκοτία', 'μένω'],\n",
       " ['ἀκούω',\n",
       "  'ῥῆμα',\n",
       "  'φυλάσσω',\n",
       "  'κρίνω',\n",
       "  'αὐτός',\n",
       "  'ἔρχομαι',\n",
       "  'κρίνω',\n",
       "  'κόσμος',\n",
       "  'σῴζω',\n",
       "  'κόσμος'],\n",
       " ['ἀθετέω', 'λαμβάνω', 'ῥῆμα', 'ἔχω', 'κρίνω'],\n",
       " ['λόγος', 'λαλέω', 'ἐκεῖνος', 'κρίνω', 'ἔσχατος', 'ἡμέρα'],\n",
       " ['λαλέω', 'πέμπω', 'πατήρ', 'ἐντολή', 'δίδωμι', 'λέγω', 'λαλέω'],\n",
       " ['οἶδα', 'ἐντολή', 'ζωή', 'αἰώνιος', 'εἰμί'],\n",
       " ['λαλέω', 'λέγω', 'πατήρ', 'λαλέω'],\n",
       " ['εορτης',\n",
       "  'πάσχα',\n",
       "  'οἶδα',\n",
       "  'Ἰησοῦς',\n",
       "  'ἔρχομαι',\n",
       "  'ὥρα',\n",
       "  'μεταβαίνω',\n",
       "  'κόσμος',\n",
       "  'πατήρ',\n",
       "  'ἀγαπάω',\n",
       "  'ἴδιος',\n",
       "  'κόσμος',\n",
       "  'τέλος',\n",
       "  'ἀγαπάω'],\n",
       " ['δεῖπνον',\n",
       "  'γίγνομαι',\n",
       "  'διάβολος',\n",
       "  'βάλλω',\n",
       "  'καρδία',\n",
       "  'παραδίδωμι',\n",
       "  'Ἰούδας',\n",
       "  'Σίμων',\n",
       "  'Ἰσκαριώθ',\n",
       "  'οἶδα',\n",
       "  'πᾶς',\n",
       "  'δίδωμι',\n",
       "  'πατήρ',\n",
       "  'χείρ',\n",
       "  'θεός',\n",
       "  'ἐξέρχομαι',\n",
       "  'θεός',\n",
       "  'ὑπάγω',\n",
       "  'ἐγείρω',\n",
       "  'δεῖπνον',\n",
       "  'τίθημι',\n",
       "  'ἱμάτιον',\n",
       "  'λαμβάνω',\n",
       "  'λέντιον',\n",
       "  'διαζώννυμι'],\n",
       " ['βάλλω',\n",
       "  'ὕδωρ',\n",
       "  'νιπτήρ',\n",
       "  'ἄρχω',\n",
       "  'νίπτω',\n",
       "  'πούς',\n",
       "  'μαθητής',\n",
       "  'ἐκμάσσω',\n",
       "  'λέντιον',\n",
       "  'εἰμί',\n",
       "  'διαζώννυμι'],\n",
       " ['ἔρχομαι', 'Σίμων', 'Πέτρος'],\n",
       " ['λέγω', 'κύριος', 'νίπτω', 'πούς'],\n",
       " ['ἀποκρίνω', 'Ἰησοῦς', 'λέγω', 'ποιέω', 'οἶδα', 'γιγνώσκω'],\n",
       " ['λέγω', 'Πέτρος', 'νίπτω', 'πούς', 'αἰών'],\n",
       " ['ἀποκρίνω', 'Ἰησοῦς', 'νίπτω', 'ἔχω', 'μέρος', 'ἐμέω'],\n",
       " ['λέγω', 'Σίμων', 'Πέτρος', 'κύριος', 'πούς', 'μόνος', 'χείρ', 'κεφαλή'],\n",
       " ['λέγω',\n",
       "  'Ἰησοῦς',\n",
       "  'λούω',\n",
       "  'ἔχω',\n",
       "  'χρεία',\n",
       "  'πούς',\n",
       "  'νίπτω',\n",
       "  'εἰμί',\n",
       "  'καθαρός',\n",
       "  'ὅλος'],\n",
       " ['καθαρός', 'εἰμί', 'πᾶς'],\n",
       " ['οἶδα', 'παραδίδωμι'],\n",
       " ['οὗτος', 'λέγω', 'πᾶς', 'καθαρός', 'εἰμί'],\n",
       " ['νίπτω',\n",
       "  'πούς',\n",
       "  'λαμβάνω',\n",
       "  'ἱμάτιον',\n",
       "  'ἀναπίπτω',\n",
       "  'λέγω',\n",
       "  'γιγνώσκω',\n",
       "  'ποιέω'],\n",
       " ['φωνέω', 'διδάσκαλος', 'κύριος', 'λέγω', 'εἰμί'],\n",
       " ['νίπτω', 'πούς', 'κύριος', 'διδάσκαλος', 'ὀφείλω', 'νίπτω', 'πούς'],\n",
       " ['ὑπόδειγμα', 'δίδωμι', 'ποιέω', 'ποιέω'],\n",
       " ['λέγω', 'εἰμί', 'δοῦλος', 'μέγας', 'κύριος', 'ἀπόστολος', 'μέγας', 'πέμπω'],\n",
       " ['οἶδα', 'μακάριος', 'εἰμί', 'ποιέω'],\n",
       " ['πᾶς', 'λέγω'],\n",
       " ['οἶδα', 'ἐκλέγω'],\n",
       " ['γραφή', 'πληρόω', 'τρώγω', 'ἄρτος', 'ἐπαίρω', 'πτέρνα'],\n",
       " ['λέγω', 'γίγνομαι', 'πιστεύω', 'γίγνομαι', 'εἰμί'],\n",
       " ['λέγω', 'λαμβάνω', 'πέμπω', 'λαμβάνω', 'λαμβάνω', 'λαμβάνω', 'πέμπω'],\n",
       " ['οὗτος',\n",
       "  'λέγω',\n",
       "  'Ἰησοῦς',\n",
       "  'ταράσσω',\n",
       "  'πνεῦμα',\n",
       "  'μαρτυρέω',\n",
       "  'λέγω',\n",
       "  'λέγω',\n",
       "  'παραδίδωμι'],\n",
       " ['βλέπω', 'μαθητής', 'ἀπορέω', 'λέγω'],\n",
       " ['ἀνάκειμαι', 'μαθητής', 'κόλπος', 'Ἰησοῦς', 'ἀγαπάω', 'Ἰησοῦς'],\n",
       " ['νεύω', 'οὗτος', 'Σίμων', 'Πέτρος', 'λέγω', 'λέγω', 'λέγω'],\n",
       " ['ἀναπεσὼν', 'ἐκεῖνος', 'στῆθος', 'Ἰησοῦς', 'λέγω', 'κύριος', 'εἰμί'],\n",
       " ['ἀποκρίνω', 'Ἰησοῦς', 'βάπτω', 'ψωμίον', 'δίδωμι'],\n",
       " ['βάπτω', 'ψωμίον', 'λαμβάνω', 'δίδωμι', 'Ἰούδας', 'Σίμων', 'Ἰσκαριώθ'],\n",
       " ['ψωμίον', 'εἰσέρχομαι', 'ἐκεῖνος', 'Σατανᾶς'],\n",
       " ['λέγω', 'Ἰησοῦς', 'ποιέω', 'ποιέω', 'τάχειον'],\n",
       " ['οὗτος', 'οὐδείς', 'γιγνώσκω', 'ἀνάκειμαι', 'λέγω'],\n",
       " ['δοκέω',\n",
       "  'γλωσσόκομον',\n",
       "  'ἔχω',\n",
       "  'Ἰούδας',\n",
       "  'λέγω',\n",
       "  'Ἰησοῦς',\n",
       "  'ἀγοράζω',\n",
       "  'χρεία',\n",
       "  'ἔχω',\n",
       "  'ἑορτή',\n",
       "  'πτωχός',\n",
       "  'δίδωμι'],\n",
       " ['λαμβάνω', 'ψωμίον', 'ἐκεῖνος', 'ἐξέρχομαι'],\n",
       " ['εἰμί', 'νύξ'],\n",
       " ['ἐξέρχομαι',\n",
       "  'λέγω',\n",
       "  'Ἰησοῦς',\n",
       "  'δοξάζω',\n",
       "  'υἱός',\n",
       "  'ἄνθρωπος',\n",
       "  'θεός',\n",
       "  'δοξάζω'],\n",
       " ['θεός', 'δοξάζω', 'δοξάζω', 'αὐτός'],\n",
       " ['τεκνίον', 'μικρός', 'εἰμί'],\n",
       " ['ζητέω', 'λέγω', 'Ἰουδαῖος', 'ὑπάγω', 'δύναμαι', 'ἔρχομαι', 'λέγω'],\n",
       " ['ἐντολή', 'καινός', 'δίδωμι', 'ἀγαπάω', 'ἀγαπάω', 'ἀγαπάω'],\n",
       " ['οὗτος', 'γιγνώσκω', 'πᾶς', 'μαθητής', 'εἰμί', 'ἀγάπη', 'ἔχω'],\n",
       " ['λέγω', 'Σίμων', 'Πέτρος', 'κύριος', 'ὑπάγω'],\n",
       " ['ἀποκρίνω',\n",
       "  'Ἰησοῦς',\n",
       "  'ὑπάγω',\n",
       "  'δύναμαι',\n",
       "  'ἀκολουθέω',\n",
       "  'ἀκολουθέω',\n",
       "  'ὕστερος'],\n",
       " ['λέγω', 'Πέτρος', 'κύριος', 'δύναμαι', 'ἀκολουθέω'],\n",
       " ['ψυχή', 'τίθημι'],\n",
       " ['ἀποκρίνω', 'Ἰησοῦς', 'ψυχή', 'τίθημι'],\n",
       " ['λέγω', 'ἀλέκτωρ', 'φωνέω', 'ἀρνέομαι'],\n",
       " ['ταράσσω', 'καρδία'],\n",
       " ['πιστεύω', 'θεός', 'πιστεύω'],\n",
       " ['οἰκία', 'πατήρ', 'μονή', 'πολύς', 'εἰμί'],\n",
       " ['λέγω', 'πορεύομαι', 'ἑτοιμάζω', 'τόπος'],\n",
       " ['πορεύομαι', 'ἑτοιμάζω', 'τόπος', 'ἔρχομαι', 'παραλαμβάνω', 'εἰμί'],\n",
       " ['ὑπάγω', 'οἶδα', 'ὁδός'],\n",
       " ['λέγω', 'Θωμᾶς', 'κύριος', 'οἶδα', 'ὑπάγω'],\n",
       " ['οἶδα', 'ὁδός'],\n",
       " ['λέγω', 'Ἰησοῦς', 'ὁδός', 'ἀλήθεια', 'ζωή'],\n",
       " ['οὐδείς', 'ἔρχομαι', 'πατήρ', 'ἐμέω'],\n",
       " ['γιγνώσκω', 'πατήρ', 'ἤδειτε'],\n",
       " ['γιγνώσκω', 'ὁράω'],\n",
       " ['λέγω', 'Φίλιππος', 'κύριος', 'δείκνυμι', 'πατήρ', 'ἀρκέω'],\n",
       " ['λέγω', 'Ἰησοῦς', 'χρόνος', 'γιγνώσκω', 'Φίλιππος'],\n",
       " ['ὁράω', 'ὁράω', 'πατήρ'],\n",
       " ['λέγω', 'δείκνυμι', 'πατήρ'],\n",
       " ['πιστεύω', 'πατήρ', 'πατήρ', 'εἰμί'],\n",
       " ['ῥῆμα', 'λέγω', 'λαλέω'],\n",
       " ['πατήρ', 'μένω', 'ποιέω', 'ἔργον'],\n",
       " ['πιστεύω', 'πατήρ', 'πατήρ'],\n",
       " ['ἔργον', 'πιστεύω'],\n",
       " ['λέγω',\n",
       "  'πιστεύω',\n",
       "  'ἔργον',\n",
       "  'ποιέω',\n",
       "  'ἐκεῖνος',\n",
       "  'ποιέω',\n",
       "  'μέγας',\n",
       "  'ποιέω',\n",
       "  'πατήρ',\n",
       "  'πορεύομαι'],\n",
       " ['αἰτέω', 'ὄνομα', 'ποιέω', 'δοξάζω', 'πατήρ', 'υἱός'],\n",
       " ['τὶς', 'αἰτέω', 'ὄνομα', 'ποιέω'],\n",
       " ['ἀγαπάω', 'ἐντολή', 'ἐμός', 'τηρέω'],\n",
       " ['ἐρωτάω',\n",
       "  'πατήρ',\n",
       "  'ἄλλος',\n",
       "  'παράκλητος',\n",
       "  'δίδωμι',\n",
       "  'αἰών',\n",
       "  'πνεῦμα',\n",
       "  'ἀλήθεια',\n",
       "  'κόσμος',\n",
       "  'δύναμαι',\n",
       "  'λαμβάνω',\n",
       "  'θεωρέω',\n",
       "  'γιγνώσκω'],\n",
       " ['γιγνώσκω', 'μένω', 'εἰμί'],\n",
       " ['ἀφίημι', 'ὀρφανός', 'ἔρχομαι'],\n",
       " ['μικρός', 'κόσμος', 'θεωρέω', 'θεωρέω', 'ζῶ', 'ζῶ'],\n",
       " ['ἡμέρα', 'γιγνώσκω', 'πατήρ'],\n",
       " ['ἔχω', 'ἐντολή', 'τηρέω', 'ἐκεῖνος', 'ἀγαπάω'],\n",
       " ['ἀγαπάω', 'ἀγαπάω', 'πατήρ', 'ἀγαπάω', 'ἐμφανίζω'],\n",
       " ['λέγω',\n",
       "  'Ἰούδας',\n",
       "  'Ἰσκαριώθ',\n",
       "  'κύριος',\n",
       "  'γίγνομαι',\n",
       "  'μέλλω',\n",
       "  'ἐμφανίζω',\n",
       "  'κόσμος'],\n",
       " ['ἀποκρίνω',\n",
       "  'Ἰησοῦς',\n",
       "  'λέγω',\n",
       "  'τὶς',\n",
       "  'ἀγαπάω',\n",
       "  'λόγος',\n",
       "  'τηρέω',\n",
       "  'πατήρ',\n",
       "  'ἀγαπάω',\n",
       "  'ἔρχομαι',\n",
       "  'μονή',\n",
       "  'ποιέω'],\n",
       " ['ἀγαπάω', 'λόγος', 'τηρέω'],\n",
       " ['λόγος', 'ἀκούω', 'ἐμός', 'πέμπω', 'πατήρ'],\n",
       " ['οὗτος', 'λαλέω', 'μένω'],\n",
       " ['παράκλητος',\n",
       "  'πνεῦμα',\n",
       "  'ἅγιος',\n",
       "  'πέμπω',\n",
       "  'πατήρ',\n",
       "  'ὄνομα',\n",
       "  'διδάσκω',\n",
       "  'πᾶς',\n",
       "  'ὑπομιμνῄσκω',\n",
       "  'πᾶς',\n",
       "  'λέγω'],\n",
       " ['εἰρήνη', 'ἀφίημι', 'εἰρήνη', 'ἐμός', 'δίδωμι'],\n",
       " ['κόσμος', 'δίδωμι', 'δίδωμι'],\n",
       " ['ταράσσω', 'καρδία', 'δειλιάω'],\n",
       " ['ἀκούω', 'λέγω', 'ὑπάγω', 'ἔρχομαι'],\n",
       " ['ἀγαπάω', 'χαίρω', 'πορεύομαι', 'πατήρ', 'πατήρ', 'μέγας', 'εἰμί'],\n",
       " ['λέγω', 'γίγνομαι', 'γίγνομαι', 'πιστεύω'],\n",
       " ['πολύς', 'λαλέω', 'ἔρχομαι', 'κόσμος', 'ἄρχων'],\n",
       " ['ἔχω',\n",
       "  'γιγνώσκω',\n",
       "  'κόσμος',\n",
       "  'ἀγαπάω',\n",
       "  'πατήρ',\n",
       "  'ἐντολή',\n",
       "  'δίδωμι',\n",
       "  'πατήρ',\n",
       "  'ποιέω'],\n",
       " ['ἐγείρω', 'ἄγω'],\n",
       " ['ἄμπελος', 'ἀληθινός', 'πατήρ', 'γεωργός', 'εἰμί'],\n",
       " ['κλῆμα',\n",
       "  'φέρω',\n",
       "  'καρπός',\n",
       "  'ἀείρω',\n",
       "  'πᾶς',\n",
       "  'καρπός',\n",
       "  'φέρω',\n",
       "  'καθαίρω',\n",
       "  'καρπός',\n",
       "  'πολύς',\n",
       "  'φέρω'],\n",
       " ['καθαρός', 'λόγος', 'λαλέω'],\n",
       " ['μένω'],\n",
       " ['κλῆμα', 'δύναμαι', 'καρπός', 'φέρω', 'μένω', 'ἄμπελος', 'μένω'],\n",
       " ['εἰμί', 'ἄμπελος', 'κλῆμα'],\n",
       " ['μένω', 'οὗτος', 'φέρω', 'καρπός', 'πολύς', 'δύναμαι', 'ποιέω'],\n",
       " ['τὶς',\n",
       "  'μένω',\n",
       "  'βάλλω',\n",
       "  'κλῆμα',\n",
       "  'ξηραίνω',\n",
       "  'συνάγω',\n",
       "  'πῦρ',\n",
       "  'βάλλω',\n",
       "  'καίω'],\n",
       " ['μένω', 'ῥῆμα', 'μένω', 'ἐθέλω', 'αἰτέω', 'γίγνομαι'],\n",
       " ['οὗτος',\n",
       "  'δοξάζω',\n",
       "  'πατήρ',\n",
       "  'καρπός',\n",
       "  'πολύς',\n",
       "  'φέρω',\n",
       "  'γίγνομαι',\n",
       "  'μαθητής'],\n",
       " ['ἀγαπάω', 'πατήρ', 'ἀγαπάω', 'μένω', 'ἀγάπη', 'ἐμέω'],\n",
       " ['ἐντολή',\n",
       "  'τηρέω',\n",
       "  'μένω',\n",
       "  'ἀγάπη',\n",
       "  'πατήρ',\n",
       "  'ἐντολή',\n",
       "  'τηρέω',\n",
       "  'μένω',\n",
       "  'ἀγαπάω'],\n",
       " ['οὗτος', 'λαλέω', 'χαρά', 'ἐμός', 'χαρά', 'πληρόω'],\n",
       " ['οὗτος', 'ἐντολή', 'ἐμός', 'ἀγαπάω', 'ἀγαπάω'],\n",
       " ['μέγας', 'οὗτος', 'ἀγάπη', 'οὐδείς', 'ἔχω', 'ψυχή', 'τίθημι', 'φίλος'],\n",
       " ['φίλος', 'ποιέω', 'ἐντέλλω'],\n",
       " ['λέγω', 'δοῦλος', 'δοῦλος', 'οἶδα', 'ποιέω', 'κύριος'],\n",
       " ['λέγω', 'φίλος', 'πᾶς', 'ἀκούω', 'πατήρ', 'γνωρίζω'],\n",
       " ['ἐκλέγω',\n",
       "  'ἐκλέγω',\n",
       "  'τίθημι',\n",
       "  'ὑπάγω',\n",
       "  'καρπός',\n",
       "  'φέρω',\n",
       "  'καρπός',\n",
       "  'μένω',\n",
       "  'αἰτέω',\n",
       "  'πατήρ',\n",
       "  'ὄνομα',\n",
       "  'δίδωμι'],\n",
       " ['οὗτος', 'ἐντέλλω', 'ἀγαπάω'],\n",
       " ['κόσμος', 'μισέω', 'γιγνώσκω', 'πρῶτος', 'μισέω'],\n",
       " ['κόσμος', 'εἰμί', 'κόσμος', 'ἴδιος', 'φιλέω'],\n",
       " ['κόσμος', 'εἰμί', 'ἐκλέγω', 'κόσμος', 'μισέω', 'κόσμος'],\n",
       " ['μνημονεύω', 'λόγος', 'λέγω', 'δοῦλος', 'μέγας', 'κύριος'],\n",
       " ['διώκω', 'διώκω'],\n",
       " ['λόγος', 'τηρέω', 'ὑμέτερος', 'τηρέω'],\n",
       " ['οὗτος', 'ποιέω', 'ὄνομα', 'οἶδα', 'πέμπω'],\n",
       " ['ἔρχομαι', 'λαλέω', 'ἁμαρτία', 'ἔχω'],\n",
       " ['πρόφασις', 'ἔχω', 'ἁμαρτία'],\n",
       " ['μισέω', 'πατήρ', 'μισέω'],\n",
       " ['ἔργον', 'ποιέω', 'οὐδείς', 'ἄλλος', 'ποιέω', 'ἁμαρτία', 'ἔχω'],\n",
       " ['ὁράω', 'μισέω', 'πατήρ'],\n",
       " ['πληρόω', 'λόγος', 'νόμος', 'γράφω', 'μισέω'],\n",
       " ['ἔρχομαι',\n",
       "  'παράκλητος',\n",
       "  'πέμπω',\n",
       "  'πατήρ',\n",
       "  'πνεῦμα',\n",
       "  'ἀλήθεια',\n",
       "  'πατήρ',\n",
       "  'ἐκπορεύομαι',\n",
       "  'μαρτυρέω'],\n",
       " ['μαρτυρέω', 'ἀρχή', 'εἰμί'],\n",
       " ['οὗτος', 'λαλέω', 'σκανδαλίζω'],\n",
       " ['ἀποσυνάγωγος', 'ποιέω'],\n",
       " ['ἔρχομαι', 'ὥρα', 'ἀποκτείνω', 'δοκέω', 'λατρεία', 'προσφέρω', 'θεός'],\n",
       " ['οὗτος', 'ποιέω', 'γιγνώσκω', 'πατήρ'],\n",
       " ['οὗτος', 'λαλέω', 'ἔρχομαι', 'ὥρα', 'μνημονεύω', 'λέγω'],\n",
       " ['οὗτος', 'ἀρχή', 'λέγω', 'εἰμί'],\n",
       " ['ὑπάγω', 'πέμπω', 'οὐδείς', 'ἐρωτάω', 'ὑπάγω'],\n",
       " ['οὗτος', 'λαλέω', 'λύπη', 'πληρόω', 'καρδία'],\n",
       " ['ἀλήθεια', 'λέγω', 'συμφέρω', 'ἀπέρχομαι'],\n",
       " ['ἀπέρχομαι', 'παράκλητος', 'ἔρχομαι'],\n",
       " ['πορεύομαι', 'πέμπω', 'αὐτός'],\n",
       " ['ἔρχομαι', 'ἐκεῖνος', 'ἐλέγχω', 'κόσμος', 'ἁμαρτία', 'δικαιοσύνη', 'κρίσις'],\n",
       " ['ἁμαρτία', 'πιστεύω'],\n",
       " ['δικαιοσύνη', 'πατήρ', 'ὑπάγω', 'θεωρέω'],\n",
       " ['κρίσις', 'ἄρχων', 'κόσμος', 'κρίνω'],\n",
       " ['πολύς', 'ἔχω', 'λέγω', 'δύναμαι', 'βαστάζω'],\n",
       " ['ἔρχομαι',\n",
       "  'πνεῦμα',\n",
       "  'ἀλήθεια',\n",
       "  'ὁδηγέω',\n",
       "  'ἀλήθεια',\n",
       "  'πᾶς',\n",
       "  'λαλέω',\n",
       "  'ἀκούω',\n",
       "  'λαλέω',\n",
       "  'ἔρχομαι',\n",
       "  'ἀναγγέλλω'],\n",
       " ['ἐκεῖνος', 'δοξάζω', 'λαμβάνω', 'ἀναγγέλλω'],\n",
       " ['πᾶς', 'ἔχω', 'πατήρ', 'ἐμός', 'εἰμί'],\n",
       " ['οὗτος', 'λέγω', 'ἐμός', 'λαμβάνω', 'ἀναγγέλλω'],\n",
       " ['μικρός', 'θεωρέω', 'μικρός', 'ὁράω'],\n",
       " ['λέγω', 'μαθητής', 'οὗτος', 'λέγω', 'μικρός', 'θεωρέω', 'μικρός', 'ὁράω'],\n",
       " ['ὑπάγω', 'πατήρ'],\n",
       " ['λέγω', 'οὗτος', 'λέγω', 'μικρός'],\n",
       " ['οἶδα', 'λαλέω'],\n",
       " ['γιγνώσκω',\n",
       "  'Ἰησοῦς',\n",
       "  'ἐθέλω',\n",
       "  'ἐρωτάω',\n",
       "  'λέγω',\n",
       "  'οὗτος',\n",
       "  'ζητέω',\n",
       "  'λέγω',\n",
       "  'μικρός',\n",
       "  'θεωρέω',\n",
       "  'μικρός',\n",
       "  'ὁράω'],\n",
       " ['λέγω', 'κλαίω', 'θρηνέω', 'κόσμος', 'χαίρω'],\n",
       " ['λυπέω', 'λύπη', 'χαρά', 'γίγνομαι'],\n",
       " ['γυνή', 'τίκτω', 'λύπη', 'ἔχω', 'ἔρχομαι', 'ὥρα'],\n",
       " ['γεννάω',\n",
       "  'παιδίον',\n",
       "  'μνημονεύω',\n",
       "  'θλῖψις',\n",
       "  'χαρά',\n",
       "  'γεννάω',\n",
       "  'ἄνθρωπος',\n",
       "  'κόσμος'],\n",
       " ['λύπη', 'ἔχω'],\n",
       " ['ὁράω', 'χαίρω', 'καρδία', 'χαρά', 'οὐδείς', 'ἀείρω'],\n",
       " ['ἡμέρα', 'ἐρωτάω'],\n",
       " ['λέγω', 'αἰτέω', 'πατήρ', 'δίδωμι', 'ὄνομα'],\n",
       " ['αἰτέω', 'οὐδείς', 'ὄνομα'],\n",
       " ['αἰτέω', 'λαμβάνω', 'χαρά', 'εἰμί', 'πληρόω'],\n",
       " ['οὗτος', 'παροιμία', 'λαλέω'],\n",
       " ['ἔρχομαι', 'ὥρα', 'παροιμία', 'λαλέω', 'παρρησία', 'πατήρ', 'ἀπαγγέλλω'],\n",
       " ['ἡμέρα', 'ὄνομα', 'αἰτέω', 'λέγω', 'ἐρωτάω', 'πατήρ'],\n",
       " ['αὐτός', 'πατήρ', 'φιλέω', 'φιλέω', 'πιστεύω'],\n",
       " ['πατήρ', 'ἐξέρχομαι'],\n",
       " ['ἐξέρχομαι', 'πατήρ', 'ἔρχομαι', 'κόσμος'],\n",
       " ['ἀφίημι', 'κόσμος', 'πορεύομαι', 'πατήρ'],\n",
       " ['λέγω',\n",
       "  'μαθητής',\n",
       "  'ὁράω',\n",
       "  'παρρησία',\n",
       "  'λαλέω',\n",
       "  'παροιμία',\n",
       "  'οὐδείς',\n",
       "  'λέγω'],\n",
       " ['οἶδα', 'οἶδα', 'πᾶς', 'χρεία', 'ἔχω', 'ἐρωτάω'],\n",
       " ['οὗτος', 'πιστεύω', 'θεός', 'ἐξέρχομαι'],\n",
       " ['ἀποκρίνω', 'Ἰησοῦς', 'πιστεύω'],\n",
       " ['ἔρχομαι',\n",
       "  'ὥρα',\n",
       "  'ἔρχομαι',\n",
       "  'σκορπίζω',\n",
       "  'ἕκαστος',\n",
       "  'ἴδιος',\n",
       "  'μόνος',\n",
       "  'ἀφίημι'],\n",
       " ['εἰμί', 'μόνος', 'πατήρ', 'εἰμί'],\n",
       " ['οὗτος', 'λαλέω', 'εἰρήνη', 'ἔχω'],\n",
       " ['κόσμος', 'θλίψιν', 'ἔχω', 'θαρσέω', 'νικάω', 'κόσμος'],\n",
       " ['οὗτος',\n",
       "  'λαλέω',\n",
       "  'Ἰησοῦς',\n",
       "  'ἐπαίρω',\n",
       "  'ὀφθαλμός',\n",
       "  'οὐρανός',\n",
       "  'λέγω',\n",
       "  'πατήρ',\n",
       "  'ἔρχομαι',\n",
       "  'ὥρα'],\n",
       " ['δοξάζω',\n",
       "  'υἱός',\n",
       "  'υἱός',\n",
       "  'δοξάζω',\n",
       "  'δίδωμι',\n",
       "  'ἐξουσία',\n",
       "  'πᾶς',\n",
       "  'σάρξ',\n",
       "  'πᾶς',\n",
       "  'δίδωμι',\n",
       "  'δίδωμι',\n",
       "  'ζωή',\n",
       "  'αἰώνιος'],\n",
       " ['οὗτος',\n",
       "  'αἰώνιος',\n",
       "  'ζωή',\n",
       "  'γιγνώσκω',\n",
       "  'μόνος',\n",
       "  'ἀληθινός',\n",
       "  'θεός',\n",
       "  'ἀποστέλλω',\n",
       "  'Ἰησοῦς',\n",
       "  'Χριστός'],\n",
       " ['δοξάζω', 'γῆ', 'ἔργον', 'τελειόω', 'δίδωμι', 'ποιέω'],\n",
       " ['δοξάζω', 'πατήρ', 'δόξα', 'ἔχω', 'κόσμος', 'εἰμί'],\n",
       " ['φανερόω', 'ὄνομα', 'ἄνθρωπος'],\n",
       " ['δίδωμι', 'κόσμος'],\n",
       " ['εἰμί', 'αὐτός', 'δίδωμι', 'λόγος', 'τηρέω'],\n",
       " ['γιγνώσκω', 'πᾶς', 'δίδωμι', 'εἰμί'],\n",
       " ['ῥῆμα',\n",
       "  'δίδωμι',\n",
       "  'δίδωμι',\n",
       "  'λαμβάνω',\n",
       "  'γιγνώσκω',\n",
       "  'ἐξέρχομαι',\n",
       "  'πιστεύω',\n",
       "  'ἀποστέλλω'],\n",
       " ['ἐρωτάω'],\n",
       " ['κόσμος',\n",
       "  'ἐρωτάω',\n",
       "  'δίδωμι',\n",
       "  'εἰμί',\n",
       "  'ἐμός',\n",
       "  'σός',\n",
       "  'σός',\n",
       "  'ἐμός',\n",
       "  'δοξάζω'],\n",
       " ['κόσμος', 'κόσμος', 'εἰμί', 'ἔρχομαι'],\n",
       " ['πατήρ', 'ἅγιος', 'τηρέω', 'ὄνομα', 'δίδωμι', 'εἰμί', 'εἷς'],\n",
       " ['τηρέω',\n",
       "  'ὄνομα',\n",
       "  'δίδωμι',\n",
       "  'φυλάσσω',\n",
       "  'ἀπόλλυμι',\n",
       "  'υἱός',\n",
       "  'ἀπώλεια',\n",
       "  'γραφή',\n",
       "  'πληρόω'],\n",
       " ['ἔρχομαι', 'λαλέω', 'κόσμος', 'ἔχω', 'χαρά', 'ἐμός', 'πληρόω'],\n",
       " ['δίδωμι', 'λόγος', 'κόσμος', 'μισέω', 'εἰμί', 'κόσμος', 'κόσμος'],\n",
       " ['ἐρωτάω', 'ἀείρω', 'κόσμος', 'τηρέω', 'πονηρός'],\n",
       " ['κόσμος', 'κόσμος'],\n",
       " ['ἁγιάζω', 'ἀλήθεια'],\n",
       " ['λόγος', 'σός', 'ἀλήθεια', 'εἰμί'],\n",
       " ['ἀποστέλλω', 'κόσμος', 'ἀποστέλλω', 'κόσμος'],\n",
       " ['ἁγιάζω', 'εἰμί', 'αὐτός', 'ἁγιάζω', 'ἀλήθεια'],\n",
       " ['ἐρωτάω',\n",
       "  'μόνος',\n",
       "  'πιστεύω',\n",
       "  'λόγος',\n",
       "  'πᾶς',\n",
       "  'εἷς',\n",
       "  'εἰμί',\n",
       "  'πατήρ',\n",
       "  'αὐτός',\n",
       "  'εἰμί',\n",
       "  'κόσμος',\n",
       "  'πιστεύω',\n",
       "  'ἀποστέλλω'],\n",
       " ['δόξα',\n",
       "  'δίδωμι',\n",
       "  'δίδωμι',\n",
       "  'εἰμί',\n",
       "  'εἷς',\n",
       "  'εἷς',\n",
       "  'εἰμί',\n",
       "  'τελειόω',\n",
       "  'εἷς',\n",
       "  'γιγνώσκω',\n",
       "  'κόσμος',\n",
       "  'ἀποστέλλω',\n",
       "  'ἀγαπάω',\n",
       "  'ἀγαπάω'],\n",
       " ['πατήρ',\n",
       "  'δίδωμι',\n",
       "  'ἐθέλω',\n",
       "  'ἐκεῖνος',\n",
       "  'εἰμί',\n",
       "  'θεωρέω',\n",
       "  'δόξα',\n",
       "  'ἐμός',\n",
       "  'δίδωμι',\n",
       "  'ἀγαπάω',\n",
       "  'καταβολή',\n",
       "  'κόσμος'],\n",
       " ['πατήρ',\n",
       "  'δίκαιος',\n",
       "  'κόσμος',\n",
       "  'γιγνώσκω',\n",
       "  'γιγνώσκω',\n",
       "  'γιγνώσκω',\n",
       "  'ἀποστέλλω',\n",
       "  'γνωρίζω',\n",
       "  'ὄνομα',\n",
       "  'γνωρίζω',\n",
       "  'ἀγάπη',\n",
       "  'ἀγαπάω',\n",
       "  'εἰμί'],\n",
       " ['οὗτος',\n",
       "  'λέγω',\n",
       "  'Ἰησοῦς',\n",
       "  'ἐξέρχομαι',\n",
       "  'μαθητής',\n",
       "  'χειμάρρους',\n",
       "  'κέδρος',\n",
       "  'εἰμί',\n",
       "  'κῆπος',\n",
       "  'εἰσέρχομαι',\n",
       "  'μαθητής'],\n",
       " ['οἶδα', 'Ἰούδας', 'παραδίδωμι', 'τόπος', 'συνάγω', 'Ἰησοῦς', 'μαθητής'],\n",
       " ['Ἰούδας',\n",
       "  'λαμβάνω',\n",
       "  'σπεῖρα',\n",
       "  'ἀρχιερεύς',\n",
       "  'Φαρισαῖος',\n",
       "  'ὑπηρέτης',\n",
       "  'ἔρχομαι',\n",
       "  'φανός',\n",
       "  'λαμπάς',\n",
       "  'ὅπλον'],\n",
       " ['Ἰησοῦς', 'οἶδα', 'ἔρχομαι', 'ἐξέρχομαι', 'λέγω', 'ζητέω'],\n",
       " ['ἀποκρίνω', 'Ἰησοῦς', 'Ναζωραῖος'],\n",
       " ['λέγω', 'εἰμί'],\n",
       " ['ἱστήκει', 'Ἰούδας', 'παραδίδωμι'],\n",
       " ['λέγω', 'εἰμί', 'ἀπέρχομαι', 'πίπτω'],\n",
       " ['ἐπερωτάω', 'ζητέω'],\n",
       " ['λέγω', 'Ἰησοῦς', 'Ναζωραῖος'],\n",
       " ['ἀποκρίνω', 'Ἰησοῦς', 'λέγω', 'εἰμί'],\n",
       " ['ζητέω', 'ἀφίημι', 'ὑπάγω'],\n",
       " ['πληρόω', 'λόγος', 'λέγω', 'δίδωμι', 'ἀπόλλυμι', 'οὐδείς'],\n",
       " ['Σίμων',\n",
       "  'Πέτρος',\n",
       "  'ἔχω',\n",
       "  'μάχαιρα',\n",
       "  'ἕλκω',\n",
       "  'παίω',\n",
       "  'ἀρχιερεύς',\n",
       "  'δοῦλος',\n",
       "  'ἀποκόπτω',\n",
       "  'ὠτίον',\n",
       "  'δεξιός'],\n",
       " ['ὄνομα', 'δοῦλος', 'Μάλχος'],\n",
       " ['λέγω', 'Ἰησοῦς', 'Πέτρος', 'βηλός', 'μάχαιρα', 'θήκη'],\n",
       " ['ποτήριον', 'δίδωμι', 'πατήρ', 'πίνω'],\n",
       " ['σπεῖρα',\n",
       "  'χιλίαρχος',\n",
       "  'ὑπηρέτης',\n",
       "  'Ἰουδαῖος',\n",
       "  'συλλαμβάνω',\n",
       "  'Ἰησοῦς',\n",
       "  'δέω',\n",
       "  'ἄγω',\n",
       "  'Ἅννας',\n",
       "  'πρῶτος'],\n",
       " ['πενθερός', 'καιάφα', 'εἰμί', 'ἀρχιερεύς', 'ἐνιαυτός', 'ἐκεῖνος'],\n",
       " ['καιάφας',\n",
       "  'συμβουλεύω',\n",
       "  'Ἰουδαῖος',\n",
       "  'συμφέρω',\n",
       "  'ἄνθρωπος',\n",
       "  'ἀποθνῄσκω',\n",
       "  'λαός'],\n",
       " ['ἀκολουθέω', 'Ἰησοῦς', 'Σίμων', 'Πέτρος', 'ἄλλος', 'μαθητής'],\n",
       " ['μαθητής',\n",
       "  'γνωστός',\n",
       "  'ἀρχιερεύς',\n",
       "  'συνεισέρχομαι',\n",
       "  'Ἰησοῦς',\n",
       "  'αὐλή',\n",
       "  'ἀρχιερεύς',\n",
       "  'Πέτρος',\n",
       "  'ἱστήκει',\n",
       "  'θύρα'],\n",
       " ['ἐξέρχομαι',\n",
       "  'μαθητής',\n",
       "  'ἄλλος',\n",
       "  'γνωστός',\n",
       "  'ἀρχιερεύς',\n",
       "  'λέγω',\n",
       "  'θυρωρός',\n",
       "  'εἰσάγω',\n",
       "  'Πέτρος'],\n",
       " ['λέγω',\n",
       "  'Πέτρος',\n",
       "  'παιδίσκη',\n",
       "  'θυρωρός',\n",
       "  'μαθητής',\n",
       "  'εἰμί',\n",
       "  'ἄνθρωπος',\n",
       "  'οὗτος'],\n",
       " ['λέγω', 'ἐκεῖνος', 'εἰμί'],\n",
       " ['ἱστήκεισαν',\n",
       "  'δοῦλος',\n",
       "  'ὑπηρέτης',\n",
       "  'ἀνθρακιά',\n",
       "  'ποιέω',\n",
       "  'ψύχος',\n",
       "  'εἰμί',\n",
       "  'θερμαίνω'],\n",
       " ['Πέτρος', 'ἵστημι', 'θερμαίνω'],\n",
       " ['ἀρχιερεύς', 'ἐρωτάω', 'Ἰησοῦς', 'μαθητής', 'διδαχή'],\n",
       " ['ἀποκρίνω', 'Ἰησοῦς', 'παρρησία', 'λαλέω', 'κόσμος'],\n",
       " ['διδάσκω',\n",
       "  'συναγωγή',\n",
       "  'ἱερόν',\n",
       "  'πᾶς',\n",
       "  'Ἰουδαῖος',\n",
       "  'συνέρχομαι',\n",
       "  'κρυπτός',\n",
       "  'λαλέω'],\n",
       " ['ἐρωτάω'],\n",
       " ['ἐρωτάω', 'ἀκούω', 'λαλέω'],\n",
       " ['ὁράω', 'οὗτος', 'οἶδα', 'λέγω'],\n",
       " ['οὗτος',\n",
       "  'λέγω',\n",
       "  'παρίστημι',\n",
       "  'ὑπηρέτης',\n",
       "  'δίδωμι',\n",
       "  'ῥάπισμα',\n",
       "  'Ἰησοῦς',\n",
       "  'λέγω',\n",
       "  'ἀποκρίνω',\n",
       "  'ἀρχιερεύς'],\n",
       " ['ἀποκρίνω', 'Ἰησοῦς', 'λαλέω', 'μαρτυρέω', 'κακός'],\n",
       " ['δέρω'],\n",
       " ['ἀποστέλλω', 'Ἅννας', 'δέω', 'καιάφαν', 'ἀρχιερεύς'],\n",
       " ['Σίμων', 'Πέτρος', 'ἵστημι', 'θερμαίνω'],\n",
       " ['λέγω', 'μαθητής', 'εἰμί'],\n",
       " ['ἀρνέομαι', 'ἐκεῖνος', 'λέγω', 'εἰμί'],\n",
       " ['λέγω',\n",
       "  'δοῦλος',\n",
       "  'ἀρχιερεύς',\n",
       "  'συγγενής',\n",
       "  'εἰμί',\n",
       "  'ἀποκόπτω',\n",
       "  'Πέτρος',\n",
       "  'ὠτίον',\n",
       "  'ὁράω',\n",
       "  'κῆπος'],\n",
       " ['ἀρνέομαι', 'Πέτρος'],\n",
       " ['ἀλέκτωρ', 'φωνέω'],\n",
       " ['ἄγω', 'Ἰησοῦς', 'καιάφα', 'πραιτώριον'],\n",
       " ['εἰμί'],\n",
       " ['εἰσέρχομαι', 'πραιτώριον', 'μιαίνω', 'ἐσθίω', 'πάσχα'],\n",
       " ['ἐξέρχομαι', 'Πιλᾶτος', 'φημί', 'κατηγορία', 'φέρω', 'ἄνθρωπος', 'οὗτος'],\n",
       " ['ἀποκρίνω', 'λέγω', 'κακός', 'ποιέω', 'παραδίδωμι'],\n",
       " ['λέγω', 'Πιλᾶτος', 'λαμβάνω', 'νόμος', 'κρίνω'],\n",
       " ['λέγω', 'Ἰουδαῖος', 'ἔξεστι', 'ἀποκτείνω', 'οὐδείς'],\n",
       " ['λόγος',\n",
       "  'Ἰησοῦς',\n",
       "  'πληρόω',\n",
       "  'λέγω',\n",
       "  'σημαίνω',\n",
       "  'θάνατος',\n",
       "  'μέλλω',\n",
       "  'ἀποθνῄσκω'],\n",
       " ['εἰσέρχομαι',\n",
       "  'πραιτώριον',\n",
       "  'Πιλᾶτος',\n",
       "  'φωνέω',\n",
       "  'Ἰησοῦς',\n",
       "  'λέγω',\n",
       "  'βασιλεύς',\n",
       "  'Ἰουδαῖος'],\n",
       " ['ἀποκρίνω', 'Ἰησοῦς', 'οὗτος', 'λέγω', 'ἄλλος', 'λέγω'],\n",
       " ...]"
      ]
     },
     "execution_count": 693,
     "metadata": {},
     "output_type": "execute_result"
    }
   ],
   "source": [
    "get_flat_sentences(sub_df[\"lemmatized_sentences\"])"
   ]
  },
  {
   "cell_type": "code",
   "execution_count": 694,
   "metadata": {},
   "outputs": [
    {
     "data": {
      "text/plain": [
       "{'0.5': 1}"
      ]
     },
     "execution_count": 694,
     "metadata": {},
     "output_type": "execute_result"
    }
   ],
   "source": [
    "probs_dict = {}\n",
    "for d in sub_df[\"date_probs\"]:\n",
    "    probs_dict.update(d)\n",
    "probs_dict"
   ]
  },
  {
   "cell_type": "markdown",
   "metadata": {},
   "source": [
    "# Comparing All Christian Authors"
   ]
  },
  {
   "cell_type": "code",
   "execution_count": 695,
   "metadata": {},
   "outputs": [],
   "source": [
    "def grouping_gnt(author_id):\n",
    "    if author_id == \"tlg0031a\":\n",
    "        author_id = \"tlg0031matt\"\n",
    "    if author_id == \"tlg0031b\":\n",
    "        author_id = \"tlg0031mark\"\n",
    "    if re.match(\"tlg0031\\w?$\", author_id):\n",
    "        return \"tlg0031rest\"\n",
    "    else:\n",
    "        return author_id\n",
    "new_author_ids = AGT_C[\"author_id\"].apply(grouping_gnt)\n",
    "\n",
    "AGT_C[\"author_id\"] = new_author_ids"
   ]
  },
  {
   "cell_type": "code",
   "execution_count": 696,
   "metadata": {},
   "outputs": [
    {
     "data": {
      "text/html": [
       "<div>\n",
       "<style scoped>\n",
       "    .dataframe tbody tr th:only-of-type {\n",
       "        vertical-align: middle;\n",
       "    }\n",
       "\n",
       "    .dataframe tbody tr th {\n",
       "        vertical-align: top;\n",
       "    }\n",
       "\n",
       "    .dataframe thead th {\n",
       "        text-align: right;\n",
       "    }\n",
       "</style>\n",
       "<table border=\"1\" class=\"dataframe\">\n",
       "  <thead>\n",
       "    <tr style=\"text-align: right;\">\n",
       "      <th></th>\n",
       "      <th>author_id</th>\n",
       "      <th>author</th>\n",
       "      <th>n_titles</th>\n",
       "      <th>titles</th>\n",
       "      <th>filenames</th>\n",
       "      <th>wordcount</th>\n",
       "      <th>lemmata_wordcount</th>\n",
       "      <th>n_sentences</th>\n",
       "      <th>date_probs</th>\n",
       "      <th>lemmata_lists</th>\n",
       "      <th>lemmatized_sentences</th>\n",
       "    </tr>\n",
       "  </thead>\n",
       "  <tbody>\n",
       "    <tr>\n",
       "      <th>0</th>\n",
       "      <td>tlg0031matt</td>\n",
       "      <td>None</td>\n",
       "      <td>1</td>\n",
       "      <td>[New Testament - Matthew]</td>\n",
       "      <td>[tlg0031.tlg001.perseus-grc2.xml]</td>\n",
       "      <td>18288</td>\n",
       "      <td>8551</td>\n",
       "      <td>1276</td>\n",
       "      <td>{'0.5': 1}</td>\n",
       "      <td>[[βίβλος, γένεσις, Ἰησοῦς, Χριστός, υἱός, Δαυί...</td>\n",
       "      <td>[[βίβλος, γένεσις, Ἰησοῦς, Χριστός, υἱός, Δαυί...</td>\n",
       "    </tr>\n",
       "    <tr>\n",
       "      <th>1</th>\n",
       "      <td>tlg0031mark</td>\n",
       "      <td>None</td>\n",
       "      <td>1</td>\n",
       "      <td>[New Testament - Mark]</td>\n",
       "      <td>[tlg0031.tlg002.perseus-grc2.xml]</td>\n",
       "      <td>11274</td>\n",
       "      <td>5243</td>\n",
       "      <td>790</td>\n",
       "      <td>{'0.5': 1}</td>\n",
       "      <td>[[ἀρχή, εὐαγγέλιον, Ἰησοῦς, Χριστός, γράφω, ἠσ...</td>\n",
       "      <td>[[ἀρχή, εὐαγγέλιον, Ἰησοῦς, Χριστός], [γράφω, ...</td>\n",
       "    </tr>\n",
       "    <tr>\n",
       "      <th>2</th>\n",
       "      <td>tlg0031luke</td>\n",
       "      <td>Luke (the evangelist)</td>\n",
       "      <td>2</td>\n",
       "      <td>[New Testament - Luke, New Testament - Acts]</td>\n",
       "      <td>[tlg0031.tlg003.perseus-grc2.xml, tlg0031.tlg0...</td>\n",
       "      <td>37864</td>\n",
       "      <td>18149</td>\n",
       "      <td>2234</td>\n",
       "      <td>{'0.5': 1}</td>\n",
       "      <td>[[πολύς, ἐπιχειρέω, ἀνατάσσομαι, διήγησις, πλη...</td>\n",
       "      <td>[[πολύς, ἐπιχειρέω, ἀνατάσσομαι, διήγησις, πλη...</td>\n",
       "    </tr>\n",
       "    <tr>\n",
       "      <th>3</th>\n",
       "      <td>tlg0031john</td>\n",
       "      <td>Johnannine literature</td>\n",
       "      <td>4</td>\n",
       "      <td>[New Testament - John, New Testament - 1 John,...</td>\n",
       "      <td>[tlg0031.tlg004.perseus-grc2.xml, tlg0031.tlg0...</td>\n",
       "      <td>18189</td>\n",
       "      <td>8151</td>\n",
       "      <td>1339</td>\n",
       "      <td>{'0.5': 1}</td>\n",
       "      <td>[[ἀρχή, εἰμί, λόγος, λόγος, εἰμί, θεός, θεός, ...</td>\n",
       "      <td>[[ἀρχή, εἰμί, λόγος, λόγος, εἰμί, θεός, θεός, ...</td>\n",
       "    </tr>\n",
       "    <tr>\n",
       "      <th>4</th>\n",
       "      <td>tlg0031paul</td>\n",
       "      <td>Paul of Tarsus</td>\n",
       "      <td>7</td>\n",
       "      <td>[New Testament - Romans, New Testament - 1 Cor...</td>\n",
       "      <td>[tlg0031.tlg006.perseus-grc2.xml, tlg0031.tlg0...</td>\n",
       "      <td>24066</td>\n",
       "      <td>11077</td>\n",
       "      <td>1632</td>\n",
       "      <td>{'0.5': 1}</td>\n",
       "      <td>[[Παῦλος, δοῦλος, Ἰησοῦς, Χριστός, κλητός, ἀπό...</td>\n",
       "      <td>[[Παῦλος, δοῦλος, Ἰησοῦς, Χριστός, κλητός, ἀπό...</td>\n",
       "    </tr>\n",
       "  </tbody>\n",
       "</table>\n",
       "</div>"
      ],
      "text/plain": [
       "     author_id                 author  n_titles  \\\n",
       "0  tlg0031matt                   None         1   \n",
       "1  tlg0031mark                   None         1   \n",
       "2  tlg0031luke  Luke (the evangelist)         2   \n",
       "3  tlg0031john  Johnannine literature         4   \n",
       "4  tlg0031paul         Paul of Tarsus         7   \n",
       "\n",
       "                                              titles  \\\n",
       "0                          [New Testament - Matthew]   \n",
       "1                             [New Testament - Mark]   \n",
       "2       [New Testament - Luke, New Testament - Acts]   \n",
       "3  [New Testament - John, New Testament - 1 John,...   \n",
       "4  [New Testament - Romans, New Testament - 1 Cor...   \n",
       "\n",
       "                                           filenames  wordcount  \\\n",
       "0                  [tlg0031.tlg001.perseus-grc2.xml]      18288   \n",
       "1                  [tlg0031.tlg002.perseus-grc2.xml]      11274   \n",
       "2  [tlg0031.tlg003.perseus-grc2.xml, tlg0031.tlg0...      37864   \n",
       "3  [tlg0031.tlg004.perseus-grc2.xml, tlg0031.tlg0...      18189   \n",
       "4  [tlg0031.tlg006.perseus-grc2.xml, tlg0031.tlg0...      24066   \n",
       "\n",
       "   lemmata_wordcount  n_sentences  date_probs  \\\n",
       "0               8551         1276  {'0.5': 1}   \n",
       "1               5243          790  {'0.5': 1}   \n",
       "2              18149         2234  {'0.5': 1}   \n",
       "3               8151         1339  {'0.5': 1}   \n",
       "4              11077         1632  {'0.5': 1}   \n",
       "\n",
       "                                       lemmata_lists  \\\n",
       "0  [[βίβλος, γένεσις, Ἰησοῦς, Χριστός, υἱός, Δαυί...   \n",
       "1  [[ἀρχή, εὐαγγέλιον, Ἰησοῦς, Χριστός, γράφω, ἠσ...   \n",
       "2  [[πολύς, ἐπιχειρέω, ἀνατάσσομαι, διήγησις, πλη...   \n",
       "3  [[ἀρχή, εἰμί, λόγος, λόγος, εἰμί, θεός, θεός, ...   \n",
       "4  [[Παῦλος, δοῦλος, Ἰησοῦς, Χριστός, κλητός, ἀπό...   \n",
       "\n",
       "                                lemmatized_sentences  \n",
       "0  [[βίβλος, γένεσις, Ἰησοῦς, Χριστός, υἱός, Δαυί...  \n",
       "1  [[ἀρχή, εὐαγγέλιον, Ἰησοῦς, Χριστός], [γράφω, ...  \n",
       "2  [[πολύς, ἐπιχειρέω, ἀνατάσσομαι, διήγησις, πλη...  \n",
       "3  [[ἀρχή, εἰμί, λόγος, λόγος, εἰμί, θεός, θεός, ...  \n",
       "4  [[Παῦλος, δοῦλος, Ἰησοῦς, Χριστός, κλητός, ἀπό...  "
      ]
     },
     "execution_count": 696,
     "metadata": {},
     "output_type": "execute_result"
    }
   ],
   "source": [
    "authors_dicts = []\n",
    "for author_id in AGT_C[\"author_id\"].unique():\n",
    "    sub_df = AGT_C[AGT_C[\"author_id\"]==author_id]\n",
    "    authors_dict = {}\n",
    "    authors_dict[\"author_id\"] = author_id\n",
    "    authors_dict[\"author\"] = sub_df[\"author\"][0]\n",
    "    authors_dict[\"n_titles\"] = len(sub_df)\n",
    "    authors_dict[\"titles\"] = sub_df[\"title\"].tolist()\n",
    "    authors_dict[\"filenames\"] = sub_df[\"filename\"].tolist()\n",
    "    authors_dict[\"wordcount\"] = sub_df[\"wordcount\"].sum()\n",
    "    authors_dict[\"lemmata_wordcount\"] = sub_df[\"lemmata_wordcount\"].sum()\n",
    "    authors_dict[\"n_sentences\"] = sub_df[\"n_sentences\"].sum()\n",
    "    probs_dict = {}\n",
    "    for d in sub_df[\"date_probs\"]:\n",
    "        probs_dict.update(d)\n",
    "    authors_dict[\"date_probs\"] = probs_dict\n",
    "    authors_dict[\"lemmata_lists\"] = sub_df[\"lemmata\"].tolist()\n",
    "    authors_dict[\"lemmatized_sentences\"] = get_flat_sentences(sub_df[\"lemmatized_sentences\"])\n",
    "    authors_dicts.append(authors_dict)\n",
    "    \n",
    "authors_df = pd.DataFrame(authors_dicts)\n",
    "authors_df.head(5)"
   ]
  },
  {
   "cell_type": "code",
   "execution_count": 697,
   "metadata": {},
   "outputs": [],
   "source": [
    "clean_titles = authors_df[\"titles\"].apply(lambda cell: [title.rpartition(\" - \")[2] for title in cell]) \n",
    "authors_df[\"titles\"] = clean_titles"
   ]
  },
  {
   "cell_type": "code",
   "execution_count": 698,
   "metadata": {},
   "outputs": [],
   "source": [
    "def fill_author(author, titles):\n",
    "    if author == None:\n",
    "        return titles[0]\n",
    "    else:\n",
    "        return author.partition(\",\")[0]\n",
    " \n",
    "clean_authors = authors_df.apply(lambda row: fill_author(row[\"author\"], row[\"titles\"]), axis=1)\n",
    "authors_df[\"author\"] = clean_authors"
   ]
  },
  {
   "cell_type": "code",
   "execution_count": 699,
   "metadata": {},
   "outputs": [],
   "source": [
    "authors_df.loc[authors_df[\"author_id\"]==\"tlg0031rest\", \"author\"] = \"GNT rest\" #, [\"author\"]] = \n"
   ]
  },
  {
   "cell_type": "code",
   "execution_count": 700,
   "metadata": {},
   "outputs": [],
   "source": [
    "authors_df.loc[authors_df[\"author_id\"]==\"tlg1484\", \"author\"] = \"Martyrium Polycarpi\"\n",
    "authors_df.loc[authors_df[\"author_id\"]==\"tlg1311\", \"author\"] = \"Didache\" #, [\"author\"]] = #, [\"author\"]] = "
   ]
  },
  {
   "cell_type": "code",
   "execution_count": 701,
   "metadata": {},
   "outputs": [
    {
     "data": {
      "text/html": [
       "<div>\n",
       "<style scoped>\n",
       "    .dataframe tbody tr th:only-of-type {\n",
       "        vertical-align: middle;\n",
       "    }\n",
       "\n",
       "    .dataframe tbody tr th {\n",
       "        vertical-align: top;\n",
       "    }\n",
       "\n",
       "    .dataframe thead th {\n",
       "        text-align: right;\n",
       "    }\n",
       "</style>\n",
       "<table border=\"1\" class=\"dataframe\">\n",
       "  <thead>\n",
       "    <tr style=\"text-align: right;\">\n",
       "      <th></th>\n",
       "      <th>author_id</th>\n",
       "      <th>author</th>\n",
       "      <th>n_titles</th>\n",
       "      <th>titles</th>\n",
       "      <th>filenames</th>\n",
       "      <th>wordcount</th>\n",
       "      <th>lemmata_wordcount</th>\n",
       "      <th>n_sentences</th>\n",
       "      <th>date_probs</th>\n",
       "      <th>lemmata_lists</th>\n",
       "      <th>lemmatized_sentences</th>\n",
       "    </tr>\n",
       "  </thead>\n",
       "  <tbody>\n",
       "    <tr>\n",
       "      <th>0</th>\n",
       "      <td>tlg0031matt</td>\n",
       "      <td>Matthew</td>\n",
       "      <td>1</td>\n",
       "      <td>[Matthew]</td>\n",
       "      <td>[tlg0031.tlg001.perseus-grc2.xml]</td>\n",
       "      <td>18288</td>\n",
       "      <td>8551</td>\n",
       "      <td>1276</td>\n",
       "      <td>{'0.5': 1}</td>\n",
       "      <td>[[βίβλος, γένεσις, Ἰησοῦς, Χριστός, υἱός, Δαυί...</td>\n",
       "      <td>[[βίβλος, γένεσις, Ἰησοῦς, Χριστός, υἱός, Δαυί...</td>\n",
       "    </tr>\n",
       "    <tr>\n",
       "      <th>1</th>\n",
       "      <td>tlg0031mark</td>\n",
       "      <td>Mark</td>\n",
       "      <td>1</td>\n",
       "      <td>[Mark]</td>\n",
       "      <td>[tlg0031.tlg002.perseus-grc2.xml]</td>\n",
       "      <td>11274</td>\n",
       "      <td>5243</td>\n",
       "      <td>790</td>\n",
       "      <td>{'0.5': 1}</td>\n",
       "      <td>[[ἀρχή, εὐαγγέλιον, Ἰησοῦς, Χριστός, γράφω, ἠσ...</td>\n",
       "      <td>[[ἀρχή, εὐαγγέλιον, Ἰησοῦς, Χριστός], [γράφω, ...</td>\n",
       "    </tr>\n",
       "    <tr>\n",
       "      <th>2</th>\n",
       "      <td>tlg0031luke</td>\n",
       "      <td>Luke (the evangelist)</td>\n",
       "      <td>2</td>\n",
       "      <td>[Luke, Acts]</td>\n",
       "      <td>[tlg0031.tlg003.perseus-grc2.xml, tlg0031.tlg0...</td>\n",
       "      <td>37864</td>\n",
       "      <td>18149</td>\n",
       "      <td>2234</td>\n",
       "      <td>{'0.5': 1}</td>\n",
       "      <td>[[πολύς, ἐπιχειρέω, ἀνατάσσομαι, διήγησις, πλη...</td>\n",
       "      <td>[[πολύς, ἐπιχειρέω, ἀνατάσσομαι, διήγησις, πλη...</td>\n",
       "    </tr>\n",
       "    <tr>\n",
       "      <th>3</th>\n",
       "      <td>tlg0031john</td>\n",
       "      <td>Johnannine literature</td>\n",
       "      <td>4</td>\n",
       "      <td>[John, 1 John, 2 John, 3 John]</td>\n",
       "      <td>[tlg0031.tlg004.perseus-grc2.xml, tlg0031.tlg0...</td>\n",
       "      <td>18189</td>\n",
       "      <td>8151</td>\n",
       "      <td>1339</td>\n",
       "      <td>{'0.5': 1}</td>\n",
       "      <td>[[ἀρχή, εἰμί, λόγος, λόγος, εἰμί, θεός, θεός, ...</td>\n",
       "      <td>[[ἀρχή, εἰμί, λόγος, λόγος, εἰμί, θεός, θεός, ...</td>\n",
       "    </tr>\n",
       "    <tr>\n",
       "      <th>4</th>\n",
       "      <td>tlg0031paul</td>\n",
       "      <td>Paul of Tarsus</td>\n",
       "      <td>7</td>\n",
       "      <td>[Romans, 1 Corinthians, 2 Corinthians, Galatia...</td>\n",
       "      <td>[tlg0031.tlg006.perseus-grc2.xml, tlg0031.tlg0...</td>\n",
       "      <td>24066</td>\n",
       "      <td>11077</td>\n",
       "      <td>1632</td>\n",
       "      <td>{'0.5': 1}</td>\n",
       "      <td>[[Παῦλος, δοῦλος, Ἰησοῦς, Χριστός, κλητός, ἀπό...</td>\n",
       "      <td>[[Παῦλος, δοῦλος, Ἰησοῦς, Χριστός, κλητός, ἀπό...</td>\n",
       "    </tr>\n",
       "    <tr>\n",
       "      <th>5</th>\n",
       "      <td>tlg0031pspa</td>\n",
       "      <td>Pauline literature</td>\n",
       "      <td>6</td>\n",
       "      <td>[Ephesians, Colossians, 2 Thessalonians, 1 Tim...</td>\n",
       "      <td>[tlg0031.tlg010.perseus-grc2.xml, tlg0031.tlg0...</td>\n",
       "      <td>8324</td>\n",
       "      <td>4102</td>\n",
       "      <td>390</td>\n",
       "      <td>{'0.5': 1}</td>\n",
       "      <td>[[Παῦλος, ἀπόστολος, Χριστός, Ἰησοῦς, θέλημα, ...</td>\n",
       "      <td>[[Παῦλος, ἀπόστολος, Χριστός, Ἰησοῦς, θέλημα, ...</td>\n",
       "    </tr>\n",
       "    <tr>\n",
       "      <th>6</th>\n",
       "      <td>tlg0031rest</td>\n",
       "      <td>GNT rest</td>\n",
       "      <td>6</td>\n",
       "      <td>[Hebrews, James, 1 Peter, 2 Peter, Jude, Revel...</td>\n",
       "      <td>[tlg0031.tlg019.perseus-grc2.xml, tlg0031.tlg0...</td>\n",
       "      <td>19782</td>\n",
       "      <td>9731</td>\n",
       "      <td>1037</td>\n",
       "      <td>{'0.5': 1}</td>\n",
       "      <td>[[πολύτροπος, θεός, λαλέω, πατήρ, προφήτης, ἔσ...</td>\n",
       "      <td>[[πολύτροπος, θεός, λαλέω, πατήρ, προφήτης, ἔσ...</td>\n",
       "    </tr>\n",
       "    <tr>\n",
       "      <th>7</th>\n",
       "      <td>tlg0555</td>\n",
       "      <td>Clement of Alexandria</td>\n",
       "      <td>7</td>\n",
       "      <td>[Protrepticus, Paedagogus, Stromata (Books I-V...</td>\n",
       "      <td>[tlg0555.tlg001.perseus-grc1.xml, tlg0555.tlg0...</td>\n",
       "      <td>235754</td>\n",
       "      <td>52918</td>\n",
       "      <td>14753</td>\n",
       "      <td>{'1.5': 0.5, '2.5': 0.5}</td>\n",
       "      <td>[[ἀμφίων, Θηβαῖος, Ἄριοι, μηθυμναῖος, ἄμφω, εἰ...</td>\n",
       "      <td>[[ἀμφίων, Θηβαῖος, Ἄριοι, μηθυμναῖος, ἄμφω, εἰ...</td>\n",
       "    </tr>\n",
       "    <tr>\n",
       "      <th>8</th>\n",
       "      <td>tlg0563</td>\n",
       "      <td>Maximus of Tyre</td>\n",
       "      <td>1</td>\n",
       "      <td>[Dialexeis]</td>\n",
       "      <td>[tlg0563.tlg001.1st1K-grc1.xml]</td>\n",
       "      <td>118960</td>\n",
       "      <td>50873</td>\n",
       "      <td>22598</td>\n",
       "      <td>{'1.5': 1}</td>\n",
       "      <td>[[ὑπόθεσις, ἁρμόσεταιμαξίμου, φιλοσοφοὺμενα, φ...</td>\n",
       "      <td>[[ὑπόθεσις, ἁρμόσεταιμαξίμου, φιλοσοφοὺμενα, φ...</td>\n",
       "    </tr>\n",
       "    <tr>\n",
       "      <th>9</th>\n",
       "      <td>tlg0645</td>\n",
       "      <td>Justinus Martyr</td>\n",
       "      <td>3</td>\n",
       "      <td>[Apologia, Apology II, Dialogus cum Tryphone]</td>\n",
       "      <td>[tlg0645.tlg001.opp-grc1.xml, tlg0645.tlg002.p...</td>\n",
       "      <td>73449</td>\n",
       "      <td>33795</td>\n",
       "      <td>5829</td>\n",
       "      <td>{'1.5': 1}</td>\n",
       "      <td>[[αὐτοκράτωρ, Τίτος, αἰλίῳ, ἀδριανῷ, ἀντωνίνῳ,...</td>\n",
       "      <td>[[αὐτοκράτωρ, Τίτος, αἰλίῳ, ἀδριανῷ, ἀντωνίνῳ,...</td>\n",
       "    </tr>\n",
       "    <tr>\n",
       "      <th>10</th>\n",
       "      <td>tlg0646</td>\n",
       "      <td>Pseudo-Justinus Martyr</td>\n",
       "      <td>1</td>\n",
       "      <td>[Epistula ad Diognetum]</td>\n",
       "      <td>[tlg0646.tlg004.1st1K-grc1.xml]</td>\n",
       "      <td>2725</td>\n",
       "      <td>1353</td>\n",
       "      <td>240</td>\n",
       "      <td>{'2.5': 0.5, '4.5': 0.5}</td>\n",
       "      <td>[[ὁράω, κράτιστος, διόγνητε, ὑπερεσπουδακότα, ...</td>\n",
       "      <td>[[ὁράω, κράτιστος, διόγνητε, ὑπερεσπουδακότα, ...</td>\n",
       "    </tr>\n",
       "    <tr>\n",
       "      <th>11</th>\n",
       "      <td>tlg1205</td>\n",
       "      <td>Athenagoras</td>\n",
       "      <td>2</td>\n",
       "      <td>[Supplication pro Christianis, De resurrectione]</td>\n",
       "      <td>[tlg1205.tlg001.perseus-grc2.xml, tlg1205.tlg0...</td>\n",
       "      <td>20210</td>\n",
       "      <td>9679</td>\n",
       "      <td>808</td>\n",
       "      <td>{'1.5': 1}</td>\n",
       "      <td>[[ὑμέτερος, μέγας, βασιλεύς, οἰκουμένη, ἄλλος,...</td>\n",
       "      <td>[[ὑμέτερος, μέγας, βασιλεύς, οἰκουμένη, ἄλλος,...</td>\n",
       "    </tr>\n",
       "    <tr>\n",
       "      <th>12</th>\n",
       "      <td>tlg1216</td>\n",
       "      <td>Barnabas</td>\n",
       "      <td>1</td>\n",
       "      <td>[The Epistle of Barnabas]</td>\n",
       "      <td>[tlg1216.tlg001.perseus-grc2.xml]</td>\n",
       "      <td>7440</td>\n",
       "      <td>3465</td>\n",
       "      <td>875</td>\n",
       "      <td>{'0.5': 0.5, '1.5': 0.5}</td>\n",
       "      <td>[[χαίρω, υἱός, θυγάτηρ, ὄνομα, κύριος, ἀγαπάω,...</td>\n",
       "      <td>[[χαίρω, υἱός, θυγάτηρ, ὄνομα, κύριος, ἀγαπάω,...</td>\n",
       "    </tr>\n",
       "    <tr>\n",
       "      <th>13</th>\n",
       "      <td>tlg1271</td>\n",
       "      <td>Clemens Romanus</td>\n",
       "      <td>2</td>\n",
       "      <td>[Epistula I ad Corinthios, Epistula II ad Cori...</td>\n",
       "      <td>[tlg1271.tlg001.1st1K-grc1.xml, tlg1271.tlg002...</td>\n",
       "      <td>13936</td>\n",
       "      <td>6298</td>\n",
       "      <td>1410</td>\n",
       "      <td>{'0.5': 1}</td>\n",
       "      <td>[[ἐκκλησία, θεός, παροικοῦσα, Ῥώμη, ἐκκλησία, ...</td>\n",
       "      <td>[[ἐκκλησία, θεός, παροικοῦσα, Ῥώμη, ἐκκλησία, ...</td>\n",
       "    </tr>\n",
       "    <tr>\n",
       "      <th>14</th>\n",
       "      <td>tlg1311</td>\n",
       "      <td>Didache</td>\n",
       "      <td>1</td>\n",
       "      <td>[Didache XII Apostolorum]</td>\n",
       "      <td>[tlg1311.tlg001.1st1K-grc1.xml]</td>\n",
       "      <td>2377</td>\n",
       "      <td>1053</td>\n",
       "      <td>284</td>\n",
       "      <td>{'1.5': 1}</td>\n",
       "      <td>[[ὁδός, δύο, εἰμί, εἷς, ζωή, εἷς, θάνατος, δια...</td>\n",
       "      <td>[[ὁδός, δύο, εἰμί, εἷς, ζωή, εἷς, θάνατος, δια...</td>\n",
       "    </tr>\n",
       "    <tr>\n",
       "      <th>15</th>\n",
       "      <td>tlg1329</td>\n",
       "      <td>Dionysius Corinthius</td>\n",
       "      <td>1</td>\n",
       "      <td>[Fragmenta]</td>\n",
       "      <td>[tlg1329.tlg001.1st1K-grc1.xml]</td>\n",
       "      <td>607</td>\n",
       "      <td>275</td>\n",
       "      <td>67</td>\n",
       "      <td>{'1.5': 1}</td>\n",
       "      <td>[[ἀρχή, ἔθος, εἰμί, πᾶς, ἀδελφός, εὐεργετέω, ἐ...</td>\n",
       "      <td>[[ἀρχή, ἔθος, εἰμί, πᾶς, ἀδελφός, εὐεργετέω, ἐ...</td>\n",
       "    </tr>\n",
       "    <tr>\n",
       "      <th>16</th>\n",
       "      <td>tlg1419</td>\n",
       "      <td>Hermas</td>\n",
       "      <td>1</td>\n",
       "      <td>[The Shepherd of Hermas]</td>\n",
       "      <td>[tlg1419.tlg001.1st1K-grc1.xml]</td>\n",
       "      <td>30282</td>\n",
       "      <td>14279</td>\n",
       "      <td>2959</td>\n",
       "      <td>{'1.5': 1}</td>\n",
       "      <td>[[τρέφω, πέρνημι, ῥόδῃ, τὶς, Ῥώμη, πολύς, ἔτος...</td>\n",
       "      <td>[[τρέφω, πέρνημι, ῥόδῃ, τὶς, Ῥώμη], [πολύς, ἔτ...</td>\n",
       "    </tr>\n",
       "    <tr>\n",
       "      <th>17</th>\n",
       "      <td>tlg1443</td>\n",
       "      <td>Ignatius Antiochenus</td>\n",
       "      <td>7</td>\n",
       "      <td>[Ad Ephesios (epist. 1), Ad Magnesios (epist. ...</td>\n",
       "      <td>[tlg1443.tlg004.1st1K-grc1.xml, tlg1443.tlg005...</td>\n",
       "      <td>8396</td>\n",
       "      <td>3895</td>\n",
       "      <td>790</td>\n",
       "      <td>{'0.5': 0.5, '1.5': 0.5}</td>\n",
       "      <td>[[ἰγνάτιος, θεόφορος, εὐλογημένῃ, μέγεθος, θεό...</td>\n",
       "      <td>[[ἰγνάτιος, θεόφορος, εὐλογημένῃ, μέγεθος, θεό...</td>\n",
       "    </tr>\n",
       "    <tr>\n",
       "      <th>18</th>\n",
       "      <td>tlg1447</td>\n",
       "      <td>Irenaeus</td>\n",
       "      <td>1</td>\n",
       "      <td>[Libros quinque adversus haereses]</td>\n",
       "      <td>[tlg1447.tlg001.1st1K-grc1.xml]</td>\n",
       "      <td>24651</td>\n",
       "      <td>10527</td>\n",
       "      <td>4525</td>\n",
       "      <td>{'1.5': 1}</td>\n",
       "      <td>[[ἀλήθεια, παραπεμπόμενοί, ἐπεισάγουσι, λόγος,...</td>\n",
       "      <td>[[], [ἀλήθεια, παραπεμπόμενοί], [], [], [ἐπεισ...</td>\n",
       "    </tr>\n",
       "    <tr>\n",
       "      <th>19</th>\n",
       "      <td>tlg1484</td>\n",
       "      <td>Martyrium Polycarpi</td>\n",
       "      <td>1</td>\n",
       "      <td>[Martyrium Polycarpi]</td>\n",
       "      <td>[tlg1484.tlg001.1st1K-grc1.xml]</td>\n",
       "      <td>2791</td>\n",
       "      <td>1335</td>\n",
       "      <td>217</td>\n",
       "      <td>{'14.5': 0.0001, '13.5': 0.0002, '12.5': 0.000...</td>\n",
       "      <td>[[ἐκκλησία, θεός, παροικοῦσα, σμύρνα, ἐκκλησία...</td>\n",
       "      <td>[[ἐκκλησία, θεός, παροικοῦσα, σμύρνα, ἐκκλησία...</td>\n",
       "    </tr>\n",
       "    <tr>\n",
       "      <th>20</th>\n",
       "      <td>tlg1622</td>\n",
       "      <td>Polycarp</td>\n",
       "      <td>1</td>\n",
       "      <td>[Epistula ad Philippenses]</td>\n",
       "      <td>[tlg1622.tlg001.1st1K-grc1.xml]</td>\n",
       "      <td>1804</td>\n",
       "      <td>965</td>\n",
       "      <td>212</td>\n",
       "      <td>{'0.5': 0.5, '1.5': 0.5}</td>\n",
       "      <td>[[πολύκαρπος, πρέσβυς, ἐκκλησία, θεός, παροικο...</td>\n",
       "      <td>[[πολύκαρπος, πρέσβυς, ἐκκλησία, θεός, παροικο...</td>\n",
       "    </tr>\n",
       "    <tr>\n",
       "      <th>21</th>\n",
       "      <td>tlg1725</td>\n",
       "      <td>Theophilus Antiochenus</td>\n",
       "      <td>1</td>\n",
       "      <td>[Ad Autolycum]</td>\n",
       "      <td>[tlg1725.tlg001.perseus-grc2.xml]</td>\n",
       "      <td>21548</td>\n",
       "      <td>10929</td>\n",
       "      <td>1300</td>\n",
       "      <td>{'1.5': 1}</td>\n",
       "      <td>[[στωμύλος, στόμα, φράσις, εὐεπής, τέρψις, παρ...</td>\n",
       "      <td>[[στωμύλος, στόμα, φράσις, εὐεπής, τέρψις, παρ...</td>\n",
       "    </tr>\n",
       "    <tr>\n",
       "      <th>22</th>\n",
       "      <td>tlg1766</td>\n",
       "      <td>Tatianus</td>\n",
       "      <td>1</td>\n",
       "      <td>[Oratio ad Graecos]</td>\n",
       "      <td>[tlg1766.tlg001.perseus-grc1.xml]</td>\n",
       "      <td>10189</td>\n",
       "      <td>5117</td>\n",
       "      <td>648</td>\n",
       "      <td>{'1.5': 1}</td>\n",
       "      <td>[[φιλέχθρως, διατίθημι, βάρβαρος, ἀνήρ, Ἕλλην,...</td>\n",
       "      <td>[[φιλέχθρως, διατίθημι, βάρβαρος, ἀνήρ, Ἕλλην,...</td>\n",
       "    </tr>\n",
       "    <tr>\n",
       "      <th>23</th>\n",
       "      <td>tlg2018</td>\n",
       "      <td>Eusebius</td>\n",
       "      <td>10</td>\n",
       "      <td>[Praeperatio Evangelica, Historia ecclesiastic...</td>\n",
       "      <td>[tlg2018.tlg001.opp-grc1.xml, tlg2018.tlg002.p...</td>\n",
       "      <td>620546</td>\n",
       "      <td>250568</td>\n",
       "      <td>35220</td>\n",
       "      <td>{'3.5': 1}</td>\n",
       "      <td>[[χριστιανισον, εἰμί, ἠγούμενος, οἶδα, παρίστη...</td>\n",
       "      <td>[[χριστιανισον, εἰμί, ἠγούμενος, οἶδα, παρίστη...</td>\n",
       "    </tr>\n",
       "    <tr>\n",
       "      <th>24</th>\n",
       "      <td>tlg2021</td>\n",
       "      <td>Epiphanius</td>\n",
       "      <td>3</td>\n",
       "      <td>[Ancoratus, Panarion (Adversus haereses), Anac...</td>\n",
       "      <td>[tlg2021.tlg001.opp-grc1.xml, tlg2021.tlg002.o...</td>\n",
       "      <td>325038</td>\n",
       "      <td>137690</td>\n",
       "      <td>33079</td>\n",
       "      <td>{'3.5': 1}</td>\n",
       "      <td>[[θεῖος, μέγας, πατήρ, ἐπιφάνιος, ἐλευθεροπόλε...</td>\n",
       "      <td>[[θεῖος, μέγας, πατήρ, ἐπιφάνιος, ἐλευθεροπόλε...</td>\n",
       "    </tr>\n",
       "    <tr>\n",
       "      <th>25</th>\n",
       "      <td>tlg2022</td>\n",
       "      <td>Gregorius Nazianzenus</td>\n",
       "      <td>7</td>\n",
       "      <td>[Christus patiens [Dub.] (fort. auctore Consta...</td>\n",
       "      <td>[tlg2022.tlg003.opp-grc1.xml, tlg2022.tlg007.o...</td>\n",
       "      <td>77297</td>\n",
       "      <td>30999</td>\n",
       "      <td>20005</td>\n",
       "      <td>{'3.5': 1}</td>\n",
       "      <td>[[στίχος, γρηγορίου, θεολόγου, σωτήριον, πάθος...</td>\n",
       "      <td>[[στίχος, γρηγορίου, θεολόγου, σωτήριον, πάθος...</td>\n",
       "    </tr>\n",
       "    <tr>\n",
       "      <th>26</th>\n",
       "      <td>tlg2035</td>\n",
       "      <td>Athanasius of Alexandria</td>\n",
       "      <td>5</td>\n",
       "      <td>[De decretis Nicaenae synodi (Chapters 41 and ...</td>\n",
       "      <td>[tlg2035.tlg003.opp-lat1.xml, tlg2035.tlg117.1...</td>\n",
       "      <td>94010</td>\n",
       "      <td>40278</td>\n",
       "      <td>10789</td>\n",
       "      <td>{'3.5': 1}</td>\n",
       "      <td>[[ἀρτέομαι, δίνη, συναγομένων], [θεός, θεός, ε...</td>\n",
       "      <td>[[], [], [], [], [], [], [], [], [], [], [], [...</td>\n",
       "    </tr>\n",
       "    <tr>\n",
       "      <th>27</th>\n",
       "      <td>tlg2040</td>\n",
       "      <td>Basil</td>\n",
       "      <td>2</td>\n",
       "      <td>[To Young Men, On How They Might Dervice Profi...</td>\n",
       "      <td>[tlg2040.tlg002.perseus-grc1.xml, tlg2040.tlg0...</td>\n",
       "      <td>144429</td>\n",
       "      <td>65580</td>\n",
       "      <td>11257</td>\n",
       "      <td>{'3.5': 1}</td>\n",
       "      <td>[[], [ἀπειρηκότα, λεγομένηςλεγομένης, τύχη, ἐπ...</td>\n",
       "      <td>[[], [], [], [], [], [], [], [], [], [], [], [...</td>\n",
       "    </tr>\n",
       "    <tr>\n",
       "      <th>28</th>\n",
       "      <td>tlg2042</td>\n",
       "      <td>Origenes</td>\n",
       "      <td>44</td>\n",
       "      <td>[Contra Celsum, Commentarii in Evangelium Joan...</td>\n",
       "      <td>[tlg2042.tlg001.perseus-grc1.xml, tlg2042.tlg0...</td>\n",
       "      <td>931431</td>\n",
       "      <td>387226</td>\n",
       "      <td>110127</td>\n",
       "      <td>{'1.5': 0.5, '2.5': 0.5}</td>\n",
       "      <td>[[σωτήρ, κύριος, Ἰησοῦς, Χριστός, ψευδομαρτυρο...</td>\n",
       "      <td>[[σωτήρ, κύριος, Ἰησοῦς, Χριστός, ψευδομαρτυρο...</td>\n",
       "    </tr>\n",
       "    <tr>\n",
       "      <th>29</th>\n",
       "      <td>tlg2115</td>\n",
       "      <td>Hippolytus</td>\n",
       "      <td>1</td>\n",
       "      <td>[Refutatio Omnium Haeresium]</td>\n",
       "      <td>[tlg2115.tlg060.perseus-grc1.xml]</td>\n",
       "      <td>69987</td>\n",
       "      <td>36551</td>\n",
       "      <td>4394</td>\n",
       "      <td>{'2.5': 1}</td>\n",
       "      <td>[[ἔνειμι, πρῶτος, πᾶς, αἵρεσις, ἔλεγχος, δοκέω...</td>\n",
       "      <td>[[ἔνειμι, πρῶτος, πᾶς, αἵρεσις, ἔλεγχος], [δοκ...</td>\n",
       "    </tr>\n",
       "  </tbody>\n",
       "</table>\n",
       "</div>"
      ],
      "text/plain": [
       "      author_id                    author  n_titles  \\\n",
       "0   tlg0031matt                   Matthew         1   \n",
       "1   tlg0031mark                      Mark         1   \n",
       "2   tlg0031luke     Luke (the evangelist)         2   \n",
       "3   tlg0031john     Johnannine literature         4   \n",
       "4   tlg0031paul            Paul of Tarsus         7   \n",
       "5   tlg0031pspa        Pauline literature         6   \n",
       "6   tlg0031rest                  GNT rest         6   \n",
       "7       tlg0555     Clement of Alexandria         7   \n",
       "8       tlg0563           Maximus of Tyre         1   \n",
       "9       tlg0645           Justinus Martyr         3   \n",
       "10      tlg0646    Pseudo-Justinus Martyr         1   \n",
       "11      tlg1205               Athenagoras         2   \n",
       "12      tlg1216                  Barnabas         1   \n",
       "13      tlg1271           Clemens Romanus         2   \n",
       "14      tlg1311                   Didache         1   \n",
       "15      tlg1329      Dionysius Corinthius         1   \n",
       "16      tlg1419                    Hermas         1   \n",
       "17      tlg1443      Ignatius Antiochenus         7   \n",
       "18      tlg1447                  Irenaeus         1   \n",
       "19      tlg1484       Martyrium Polycarpi         1   \n",
       "20      tlg1622                  Polycarp         1   \n",
       "21      tlg1725    Theophilus Antiochenus         1   \n",
       "22      tlg1766                  Tatianus         1   \n",
       "23      tlg2018                  Eusebius        10   \n",
       "24      tlg2021                Epiphanius         3   \n",
       "25      tlg2022     Gregorius Nazianzenus         7   \n",
       "26      tlg2035  Athanasius of Alexandria         5   \n",
       "27      tlg2040                     Basil         2   \n",
       "28      tlg2042                  Origenes        44   \n",
       "29      tlg2115                Hippolytus         1   \n",
       "\n",
       "                                               titles  \\\n",
       "0                                           [Matthew]   \n",
       "1                                              [Mark]   \n",
       "2                                        [Luke, Acts]   \n",
       "3                      [John, 1 John, 2 John, 3 John]   \n",
       "4   [Romans, 1 Corinthians, 2 Corinthians, Galatia...   \n",
       "5   [Ephesians, Colossians, 2 Thessalonians, 1 Tim...   \n",
       "6   [Hebrews, James, 1 Peter, 2 Peter, Jude, Revel...   \n",
       "7   [Protrepticus, Paedagogus, Stromata (Books I-V...   \n",
       "8                                         [Dialexeis]   \n",
       "9       [Apologia, Apology II, Dialogus cum Tryphone]   \n",
       "10                            [Epistula ad Diognetum]   \n",
       "11   [Supplication pro Christianis, De resurrectione]   \n",
       "12                          [The Epistle of Barnabas]   \n",
       "13  [Epistula I ad Corinthios, Epistula II ad Cori...   \n",
       "14                          [Didache XII Apostolorum]   \n",
       "15                                        [Fragmenta]   \n",
       "16                           [The Shepherd of Hermas]   \n",
       "17  [Ad Ephesios (epist. 1), Ad Magnesios (epist. ...   \n",
       "18                 [Libros quinque adversus haereses]   \n",
       "19                              [Martyrium Polycarpi]   \n",
       "20                         [Epistula ad Philippenses]   \n",
       "21                                     [Ad Autolycum]   \n",
       "22                                [Oratio ad Graecos]   \n",
       "23  [Praeperatio Evangelica, Historia ecclesiastic...   \n",
       "24  [Ancoratus, Panarion (Adversus haereses), Anac...   \n",
       "25  [Christus patiens [Dub.] (fort. auctore Consta...   \n",
       "26  [De decretis Nicaenae synodi (Chapters 41 and ...   \n",
       "27  [To Young Men, On How They Might Dervice Profi...   \n",
       "28  [Contra Celsum, Commentarii in Evangelium Joan...   \n",
       "29                       [Refutatio Omnium Haeresium]   \n",
       "\n",
       "                                            filenames  wordcount  \\\n",
       "0                   [tlg0031.tlg001.perseus-grc2.xml]      18288   \n",
       "1                   [tlg0031.tlg002.perseus-grc2.xml]      11274   \n",
       "2   [tlg0031.tlg003.perseus-grc2.xml, tlg0031.tlg0...      37864   \n",
       "3   [tlg0031.tlg004.perseus-grc2.xml, tlg0031.tlg0...      18189   \n",
       "4   [tlg0031.tlg006.perseus-grc2.xml, tlg0031.tlg0...      24066   \n",
       "5   [tlg0031.tlg010.perseus-grc2.xml, tlg0031.tlg0...       8324   \n",
       "6   [tlg0031.tlg019.perseus-grc2.xml, tlg0031.tlg0...      19782   \n",
       "7   [tlg0555.tlg001.perseus-grc1.xml, tlg0555.tlg0...     235754   \n",
       "8                     [tlg0563.tlg001.1st1K-grc1.xml]     118960   \n",
       "9   [tlg0645.tlg001.opp-grc1.xml, tlg0645.tlg002.p...      73449   \n",
       "10                    [tlg0646.tlg004.1st1K-grc1.xml]       2725   \n",
       "11  [tlg1205.tlg001.perseus-grc2.xml, tlg1205.tlg0...      20210   \n",
       "12                  [tlg1216.tlg001.perseus-grc2.xml]       7440   \n",
       "13  [tlg1271.tlg001.1st1K-grc1.xml, tlg1271.tlg002...      13936   \n",
       "14                    [tlg1311.tlg001.1st1K-grc1.xml]       2377   \n",
       "15                    [tlg1329.tlg001.1st1K-grc1.xml]        607   \n",
       "16                    [tlg1419.tlg001.1st1K-grc1.xml]      30282   \n",
       "17  [tlg1443.tlg004.1st1K-grc1.xml, tlg1443.tlg005...       8396   \n",
       "18                    [tlg1447.tlg001.1st1K-grc1.xml]      24651   \n",
       "19                    [tlg1484.tlg001.1st1K-grc1.xml]       2791   \n",
       "20                    [tlg1622.tlg001.1st1K-grc1.xml]       1804   \n",
       "21                  [tlg1725.tlg001.perseus-grc2.xml]      21548   \n",
       "22                  [tlg1766.tlg001.perseus-grc1.xml]      10189   \n",
       "23  [tlg2018.tlg001.opp-grc1.xml, tlg2018.tlg002.p...     620546   \n",
       "24  [tlg2021.tlg001.opp-grc1.xml, tlg2021.tlg002.o...     325038   \n",
       "25  [tlg2022.tlg003.opp-grc1.xml, tlg2022.tlg007.o...      77297   \n",
       "26  [tlg2035.tlg003.opp-lat1.xml, tlg2035.tlg117.1...      94010   \n",
       "27  [tlg2040.tlg002.perseus-grc1.xml, tlg2040.tlg0...     144429   \n",
       "28  [tlg2042.tlg001.perseus-grc1.xml, tlg2042.tlg0...     931431   \n",
       "29                  [tlg2115.tlg060.perseus-grc1.xml]      69987   \n",
       "\n",
       "    lemmata_wordcount  n_sentences  \\\n",
       "0                8551         1276   \n",
       "1                5243          790   \n",
       "2               18149         2234   \n",
       "3                8151         1339   \n",
       "4               11077         1632   \n",
       "5                4102          390   \n",
       "6                9731         1037   \n",
       "7               52918        14753   \n",
       "8               50873        22598   \n",
       "9               33795         5829   \n",
       "10               1353          240   \n",
       "11               9679          808   \n",
       "12               3465          875   \n",
       "13               6298         1410   \n",
       "14               1053          284   \n",
       "15                275           67   \n",
       "16              14279         2959   \n",
       "17               3895          790   \n",
       "18              10527         4525   \n",
       "19               1335          217   \n",
       "20                965          212   \n",
       "21              10929         1300   \n",
       "22               5117          648   \n",
       "23             250568        35220   \n",
       "24             137690        33079   \n",
       "25              30999        20005   \n",
       "26              40278        10789   \n",
       "27              65580        11257   \n",
       "28             387226       110127   \n",
       "29              36551         4394   \n",
       "\n",
       "                                           date_probs  \\\n",
       "0                                          {'0.5': 1}   \n",
       "1                                          {'0.5': 1}   \n",
       "2                                          {'0.5': 1}   \n",
       "3                                          {'0.5': 1}   \n",
       "4                                          {'0.5': 1}   \n",
       "5                                          {'0.5': 1}   \n",
       "6                                          {'0.5': 1}   \n",
       "7                            {'1.5': 0.5, '2.5': 0.5}   \n",
       "8                                          {'1.5': 1}   \n",
       "9                                          {'1.5': 1}   \n",
       "10                           {'2.5': 0.5, '4.5': 0.5}   \n",
       "11                                         {'1.5': 1}   \n",
       "12                           {'0.5': 0.5, '1.5': 0.5}   \n",
       "13                                         {'0.5': 1}   \n",
       "14                                         {'1.5': 1}   \n",
       "15                                         {'1.5': 1}   \n",
       "16                                         {'1.5': 1}   \n",
       "17                           {'0.5': 0.5, '1.5': 0.5}   \n",
       "18                                         {'1.5': 1}   \n",
       "19  {'14.5': 0.0001, '13.5': 0.0002, '12.5': 0.000...   \n",
       "20                           {'0.5': 0.5, '1.5': 0.5}   \n",
       "21                                         {'1.5': 1}   \n",
       "22                                         {'1.5': 1}   \n",
       "23                                         {'3.5': 1}   \n",
       "24                                         {'3.5': 1}   \n",
       "25                                         {'3.5': 1}   \n",
       "26                                         {'3.5': 1}   \n",
       "27                                         {'3.5': 1}   \n",
       "28                           {'1.5': 0.5, '2.5': 0.5}   \n",
       "29                                         {'2.5': 1}   \n",
       "\n",
       "                                        lemmata_lists  \\\n",
       "0   [[βίβλος, γένεσις, Ἰησοῦς, Χριστός, υἱός, Δαυί...   \n",
       "1   [[ἀρχή, εὐαγγέλιον, Ἰησοῦς, Χριστός, γράφω, ἠσ...   \n",
       "2   [[πολύς, ἐπιχειρέω, ἀνατάσσομαι, διήγησις, πλη...   \n",
       "3   [[ἀρχή, εἰμί, λόγος, λόγος, εἰμί, θεός, θεός, ...   \n",
       "4   [[Παῦλος, δοῦλος, Ἰησοῦς, Χριστός, κλητός, ἀπό...   \n",
       "5   [[Παῦλος, ἀπόστολος, Χριστός, Ἰησοῦς, θέλημα, ...   \n",
       "6   [[πολύτροπος, θεός, λαλέω, πατήρ, προφήτης, ἔσ...   \n",
       "7   [[ἀμφίων, Θηβαῖος, Ἄριοι, μηθυμναῖος, ἄμφω, εἰ...   \n",
       "8   [[ὑπόθεσις, ἁρμόσεταιμαξίμου, φιλοσοφοὺμενα, φ...   \n",
       "9   [[αὐτοκράτωρ, Τίτος, αἰλίῳ, ἀδριανῷ, ἀντωνίνῳ,...   \n",
       "10  [[ὁράω, κράτιστος, διόγνητε, ὑπερεσπουδακότα, ...   \n",
       "11  [[ὑμέτερος, μέγας, βασιλεύς, οἰκουμένη, ἄλλος,...   \n",
       "12  [[χαίρω, υἱός, θυγάτηρ, ὄνομα, κύριος, ἀγαπάω,...   \n",
       "13  [[ἐκκλησία, θεός, παροικοῦσα, Ῥώμη, ἐκκλησία, ...   \n",
       "14  [[ὁδός, δύο, εἰμί, εἷς, ζωή, εἷς, θάνατος, δια...   \n",
       "15  [[ἀρχή, ἔθος, εἰμί, πᾶς, ἀδελφός, εὐεργετέω, ἐ...   \n",
       "16  [[τρέφω, πέρνημι, ῥόδῃ, τὶς, Ῥώμη, πολύς, ἔτος...   \n",
       "17  [[ἰγνάτιος, θεόφορος, εὐλογημένῃ, μέγεθος, θεό...   \n",
       "18  [[ἀλήθεια, παραπεμπόμενοί, ἐπεισάγουσι, λόγος,...   \n",
       "19  [[ἐκκλησία, θεός, παροικοῦσα, σμύρνα, ἐκκλησία...   \n",
       "20  [[πολύκαρπος, πρέσβυς, ἐκκλησία, θεός, παροικο...   \n",
       "21  [[στωμύλος, στόμα, φράσις, εὐεπής, τέρψις, παρ...   \n",
       "22  [[φιλέχθρως, διατίθημι, βάρβαρος, ἀνήρ, Ἕλλην,...   \n",
       "23  [[χριστιανισον, εἰμί, ἠγούμενος, οἶδα, παρίστη...   \n",
       "24  [[θεῖος, μέγας, πατήρ, ἐπιφάνιος, ἐλευθεροπόλε...   \n",
       "25  [[στίχος, γρηγορίου, θεολόγου, σωτήριον, πάθος...   \n",
       "26  [[ἀρτέομαι, δίνη, συναγομένων], [θεός, θεός, ε...   \n",
       "27  [[], [ἀπειρηκότα, λεγομένηςλεγομένης, τύχη, ἐπ...   \n",
       "28  [[σωτήρ, κύριος, Ἰησοῦς, Χριστός, ψευδομαρτυρο...   \n",
       "29  [[ἔνειμι, πρῶτος, πᾶς, αἵρεσις, ἔλεγχος, δοκέω...   \n",
       "\n",
       "                                 lemmatized_sentences  \n",
       "0   [[βίβλος, γένεσις, Ἰησοῦς, Χριστός, υἱός, Δαυί...  \n",
       "1   [[ἀρχή, εὐαγγέλιον, Ἰησοῦς, Χριστός], [γράφω, ...  \n",
       "2   [[πολύς, ἐπιχειρέω, ἀνατάσσομαι, διήγησις, πλη...  \n",
       "3   [[ἀρχή, εἰμί, λόγος, λόγος, εἰμί, θεός, θεός, ...  \n",
       "4   [[Παῦλος, δοῦλος, Ἰησοῦς, Χριστός, κλητός, ἀπό...  \n",
       "5   [[Παῦλος, ἀπόστολος, Χριστός, Ἰησοῦς, θέλημα, ...  \n",
       "6   [[πολύτροπος, θεός, λαλέω, πατήρ, προφήτης, ἔσ...  \n",
       "7   [[ἀμφίων, Θηβαῖος, Ἄριοι, μηθυμναῖος, ἄμφω, εἰ...  \n",
       "8   [[ὑπόθεσις, ἁρμόσεταιμαξίμου, φιλοσοφοὺμενα, φ...  \n",
       "9   [[αὐτοκράτωρ, Τίτος, αἰλίῳ, ἀδριανῷ, ἀντωνίνῳ,...  \n",
       "10  [[ὁράω, κράτιστος, διόγνητε, ὑπερεσπουδακότα, ...  \n",
       "11  [[ὑμέτερος, μέγας, βασιλεύς, οἰκουμένη, ἄλλος,...  \n",
       "12  [[χαίρω, υἱός, θυγάτηρ, ὄνομα, κύριος, ἀγαπάω,...  \n",
       "13  [[ἐκκλησία, θεός, παροικοῦσα, Ῥώμη, ἐκκλησία, ...  \n",
       "14  [[ὁδός, δύο, εἰμί, εἷς, ζωή, εἷς, θάνατος, δια...  \n",
       "15  [[ἀρχή, ἔθος, εἰμί, πᾶς, ἀδελφός, εὐεργετέω, ἐ...  \n",
       "16  [[τρέφω, πέρνημι, ῥόδῃ, τὶς, Ῥώμη], [πολύς, ἔτ...  \n",
       "17  [[ἰγνάτιος, θεόφορος, εὐλογημένῃ, μέγεθος, θεό...  \n",
       "18  [[], [ἀλήθεια, παραπεμπόμενοί], [], [], [ἐπεισ...  \n",
       "19  [[ἐκκλησία, θεός, παροικοῦσα, σμύρνα, ἐκκλησία...  \n",
       "20  [[πολύκαρπος, πρέσβυς, ἐκκλησία, θεός, παροικο...  \n",
       "21  [[στωμύλος, στόμα, φράσις, εὐεπής, τέρψις, παρ...  \n",
       "22  [[φιλέχθρως, διατίθημι, βάρβαρος, ἀνήρ, Ἕλλην,...  \n",
       "23  [[χριστιανισον, εἰμί, ἠγούμενος, οἶδα, παρίστη...  \n",
       "24  [[θεῖος, μέγας, πατήρ, ἐπιφάνιος, ἐλευθεροπόλε...  \n",
       "25  [[στίχος, γρηγορίου, θεολόγου, σωτήριον, πάθος...  \n",
       "26  [[], [], [], [], [], [], [], [], [], [], [], [...  \n",
       "27  [[], [], [], [], [], [], [], [], [], [], [], [...  \n",
       "28  [[σωτήρ, κύριος, Ἰησοῦς, Χριστός, ψευδομαρτυρο...  \n",
       "29  [[ἔνειμι, πρῶτος, πᾶς, αἵρεσις, ἔλεγχος], [δοκ...  "
      ]
     },
     "execution_count": 701,
     "metadata": {},
     "output_type": "execute_result"
    }
   ],
   "source": [
    "authors_df"
   ]
  },
  {
   "cell_type": "code",
   "execution_count": 702,
   "metadata": {},
   "outputs": [],
   "source": [
    "# COUNT δικαιοσύνη IN SENTENCES\n",
    "def count_term_in_sents(lemmatized_sentences):\n",
    "    return sum([sent.count(\"δικαιοσύνη\") for sent in lemmatized_sentences])\n",
    "\n",
    "authors_df[\"dikaiosyne_N\"]  = authors_df[\"lemmatized_sentences\"].apply(count_term_in_sents)"
   ]
  },
  {
   "cell_type": "code",
   "execution_count": 703,
   "metadata": {},
   "outputs": [],
   "source": [
    "authors_df[\"dikaiosyne_TF\"]  = authors_df.apply(lambda row: row[\"dikaiosyne_N\"] / row[\"lemmata_wordcount\"], axis=1)\n",
    "authors_df.sort_values(\"dikaiosyne_TF\", ascending=False, inplace=True)"
   ]
  },
  {
   "cell_type": "code",
   "execution_count": 704,
   "metadata": {
    "scrolled": false
   },
   "outputs": [
    {
     "data": {
      "text/html": [
       "<div>\n",
       "<style scoped>\n",
       "    .dataframe tbody tr th:only-of-type {\n",
       "        vertical-align: middle;\n",
       "    }\n",
       "\n",
       "    .dataframe tbody tr th {\n",
       "        vertical-align: top;\n",
       "    }\n",
       "\n",
       "    .dataframe thead th {\n",
       "        text-align: right;\n",
       "    }\n",
       "</style>\n",
       "<table border=\"1\" class=\"dataframe\">\n",
       "  <thead>\n",
       "    <tr style=\"text-align: right;\">\n",
       "      <th></th>\n",
       "      <th>author_id</th>\n",
       "      <th>author</th>\n",
       "      <th>n_titles</th>\n",
       "      <th>titles</th>\n",
       "      <th>filenames</th>\n",
       "      <th>wordcount</th>\n",
       "      <th>lemmata_wordcount</th>\n",
       "      <th>n_sentences</th>\n",
       "      <th>date_probs</th>\n",
       "      <th>lemmata_lists</th>\n",
       "      <th>lemmatized_sentences</th>\n",
       "      <th>dikaiosyne_N</th>\n",
       "      <th>dikaiosyne_TF</th>\n",
       "    </tr>\n",
       "  </thead>\n",
       "  <tbody>\n",
       "    <tr>\n",
       "      <th>20</th>\n",
       "      <td>tlg1622</td>\n",
       "      <td>Polycarp</td>\n",
       "      <td>1</td>\n",
       "      <td>[Epistula ad Philippenses]</td>\n",
       "      <td>[tlg1622.tlg001.1st1K-grc1.xml]</td>\n",
       "      <td>1804</td>\n",
       "      <td>965</td>\n",
       "      <td>212</td>\n",
       "      <td>{'0.5': 0.5, '1.5': 0.5}</td>\n",
       "      <td>[[πολύκαρπος, πρέσβυς, ἐκκλησία, θεός, παροικο...</td>\n",
       "      <td>[[πολύκαρπος, πρέσβυς, ἐκκλησία, θεός, παροικο...</td>\n",
       "      <td>8</td>\n",
       "      <td>0.008290</td>\n",
       "    </tr>\n",
       "    <tr>\n",
       "      <th>4</th>\n",
       "      <td>tlg0031paul</td>\n",
       "      <td>Paul of Tarsus</td>\n",
       "      <td>7</td>\n",
       "      <td>[Romans, 1 Corinthians, 2 Corinthians, Galatia...</td>\n",
       "      <td>[tlg0031.tlg006.perseus-grc2.xml, tlg0031.tlg0...</td>\n",
       "      <td>24066</td>\n",
       "      <td>11077</td>\n",
       "      <td>1632</td>\n",
       "      <td>{'0.5': 1}</td>\n",
       "      <td>[[Παῦλος, δοῦλος, Ἰησοῦς, Χριστός, κλητός, ἀπό...</td>\n",
       "      <td>[[Παῦλος, δοῦλος, Ἰησοῦς, Χριστός, κλητός, ἀπό...</td>\n",
       "      <td>49</td>\n",
       "      <td>0.004424</td>\n",
       "    </tr>\n",
       "    <tr>\n",
       "      <th>13</th>\n",
       "      <td>tlg1271</td>\n",
       "      <td>Clemens Romanus</td>\n",
       "      <td>2</td>\n",
       "      <td>[Epistula I ad Corinthios, Epistula II ad Cori...</td>\n",
       "      <td>[tlg1271.tlg001.1st1K-grc1.xml, tlg1271.tlg002...</td>\n",
       "      <td>13936</td>\n",
       "      <td>6298</td>\n",
       "      <td>1410</td>\n",
       "      <td>{'0.5': 1}</td>\n",
       "      <td>[[ἐκκλησία, θεός, παροικοῦσα, Ῥώμη, ἐκκλησία, ...</td>\n",
       "      <td>[[ἐκκλησία, θεός, παροικοῦσα, Ῥώμη, ἐκκλησία, ...</td>\n",
       "      <td>21</td>\n",
       "      <td>0.003334</td>\n",
       "    </tr>\n",
       "    <tr>\n",
       "      <th>10</th>\n",
       "      <td>tlg0646</td>\n",
       "      <td>Pseudo-Justinus Martyr</td>\n",
       "      <td>1</td>\n",
       "      <td>[Epistula ad Diognetum]</td>\n",
       "      <td>[tlg0646.tlg004.1st1K-grc1.xml]</td>\n",
       "      <td>2725</td>\n",
       "      <td>1353</td>\n",
       "      <td>240</td>\n",
       "      <td>{'2.5': 0.5, '4.5': 0.5}</td>\n",
       "      <td>[[ὁράω, κράτιστος, διόγνητε, ὑπερεσπουδακότα, ...</td>\n",
       "      <td>[[ὁράω, κράτιστος, διόγνητε, ὑπερεσπουδακότα, ...</td>\n",
       "      <td>4</td>\n",
       "      <td>0.002956</td>\n",
       "    </tr>\n",
       "    <tr>\n",
       "      <th>12</th>\n",
       "      <td>tlg1216</td>\n",
       "      <td>Barnabas</td>\n",
       "      <td>1</td>\n",
       "      <td>[The Epistle of Barnabas]</td>\n",
       "      <td>[tlg1216.tlg001.perseus-grc2.xml]</td>\n",
       "      <td>7440</td>\n",
       "      <td>3465</td>\n",
       "      <td>875</td>\n",
       "      <td>{'0.5': 0.5, '1.5': 0.5}</td>\n",
       "      <td>[[χαίρω, υἱός, θυγάτηρ, ὄνομα, κύριος, ἀγαπάω,...</td>\n",
       "      <td>[[χαίρω, υἱός, θυγάτηρ, ὄνομα, κύριος, ἀγαπάω,...</td>\n",
       "      <td>9</td>\n",
       "      <td>0.002597</td>\n",
       "    </tr>\n",
       "    <tr>\n",
       "      <th>16</th>\n",
       "      <td>tlg1419</td>\n",
       "      <td>Hermas</td>\n",
       "      <td>1</td>\n",
       "      <td>[The Shepherd of Hermas]</td>\n",
       "      <td>[tlg1419.tlg001.1st1K-grc1.xml]</td>\n",
       "      <td>30282</td>\n",
       "      <td>14279</td>\n",
       "      <td>2959</td>\n",
       "      <td>{'1.5': 1}</td>\n",
       "      <td>[[τρέφω, πέρνημι, ῥόδῃ, τὶς, Ῥώμη, πολύς, ἔτος...</td>\n",
       "      <td>[[τρέφω, πέρνημι, ῥόδῃ, τὶς, Ῥώμη], [πολύς, ἔτ...</td>\n",
       "      <td>33</td>\n",
       "      <td>0.002311</td>\n",
       "    </tr>\n",
       "    <tr>\n",
       "      <th>5</th>\n",
       "      <td>tlg0031pspa</td>\n",
       "      <td>Pauline literature</td>\n",
       "      <td>6</td>\n",
       "      <td>[Ephesians, Colossians, 2 Thessalonians, 1 Tim...</td>\n",
       "      <td>[tlg0031.tlg010.perseus-grc2.xml, tlg0031.tlg0...</td>\n",
       "      <td>8324</td>\n",
       "      <td>4102</td>\n",
       "      <td>390</td>\n",
       "      <td>{'0.5': 1}</td>\n",
       "      <td>[[Παῦλος, ἀπόστολος, Χριστός, Ἰησοῦς, θέλημα, ...</td>\n",
       "      <td>[[Παῦλος, ἀπόστολος, Χριστός, Ἰησοῦς, θέλημα, ...</td>\n",
       "      <td>8</td>\n",
       "      <td>0.001950</td>\n",
       "    </tr>\n",
       "    <tr>\n",
       "      <th>14</th>\n",
       "      <td>tlg1311</td>\n",
       "      <td>Didache</td>\n",
       "      <td>1</td>\n",
       "      <td>[Didache XII Apostolorum]</td>\n",
       "      <td>[tlg1311.tlg001.1st1K-grc1.xml]</td>\n",
       "      <td>2377</td>\n",
       "      <td>1053</td>\n",
       "      <td>284</td>\n",
       "      <td>{'1.5': 1}</td>\n",
       "      <td>[[ὁδός, δύο, εἰμί, εἷς, ζωή, εἷς, θάνατος, δια...</td>\n",
       "      <td>[[ὁδός, δύο, εἰμί, εἷς, ζωή, εἷς, θάνατος, δια...</td>\n",
       "      <td>2</td>\n",
       "      <td>0.001899</td>\n",
       "    </tr>\n",
       "    <tr>\n",
       "      <th>6</th>\n",
       "      <td>tlg0031rest</td>\n",
       "      <td>GNT rest</td>\n",
       "      <td>6</td>\n",
       "      <td>[Hebrews, James, 1 Peter, 2 Peter, Jude, Revel...</td>\n",
       "      <td>[tlg0031.tlg019.perseus-grc2.xml, tlg0031.tlg0...</td>\n",
       "      <td>19782</td>\n",
       "      <td>9731</td>\n",
       "      <td>1037</td>\n",
       "      <td>{'0.5': 1}</td>\n",
       "      <td>[[πολύτροπος, θεός, λαλέω, πατήρ, προφήτης, ἔσ...</td>\n",
       "      <td>[[πολύτροπος, θεός, λαλέω, πατήρ, προφήτης, ἔσ...</td>\n",
       "      <td>17</td>\n",
       "      <td>0.001747</td>\n",
       "    </tr>\n",
       "    <tr>\n",
       "      <th>9</th>\n",
       "      <td>tlg0645</td>\n",
       "      <td>Justinus Martyr</td>\n",
       "      <td>3</td>\n",
       "      <td>[Apologia, Apology II, Dialogus cum Tryphone]</td>\n",
       "      <td>[tlg0645.tlg001.opp-grc1.xml, tlg0645.tlg002.p...</td>\n",
       "      <td>73449</td>\n",
       "      <td>33795</td>\n",
       "      <td>5829</td>\n",
       "      <td>{'1.5': 1}</td>\n",
       "      <td>[[αὐτοκράτωρ, Τίτος, αἰλίῳ, ἀδριανῷ, ἀντωνίνῳ,...</td>\n",
       "      <td>[[αὐτοκράτωρ, Τίτος, αἰλίῳ, ἀδριανῷ, ἀντωνίνῳ,...</td>\n",
       "      <td>45</td>\n",
       "      <td>0.001332</td>\n",
       "    </tr>\n",
       "    <tr>\n",
       "      <th>7</th>\n",
       "      <td>tlg0555</td>\n",
       "      <td>Clement of Alexandria</td>\n",
       "      <td>7</td>\n",
       "      <td>[Protrepticus, Paedagogus, Stromata (Books I-V...</td>\n",
       "      <td>[tlg0555.tlg001.perseus-grc1.xml, tlg0555.tlg0...</td>\n",
       "      <td>235754</td>\n",
       "      <td>52918</td>\n",
       "      <td>14753</td>\n",
       "      <td>{'1.5': 0.5, '2.5': 0.5}</td>\n",
       "      <td>[[ἀμφίων, Θηβαῖος, Ἄριοι, μηθυμναῖος, ἄμφω, εἰ...</td>\n",
       "      <td>[[ἀμφίων, Θηβαῖος, Ἄριοι, μηθυμναῖος, ἄμφω, εἰ...</td>\n",
       "      <td>69</td>\n",
       "      <td>0.001304</td>\n",
       "    </tr>\n",
       "    <tr>\n",
       "      <th>28</th>\n",
       "      <td>tlg2042</td>\n",
       "      <td>Origenes</td>\n",
       "      <td>44</td>\n",
       "      <td>[Contra Celsum, Commentarii in Evangelium Joan...</td>\n",
       "      <td>[tlg2042.tlg001.perseus-grc1.xml, tlg2042.tlg0...</td>\n",
       "      <td>931431</td>\n",
       "      <td>387226</td>\n",
       "      <td>110127</td>\n",
       "      <td>{'1.5': 0.5, '2.5': 0.5}</td>\n",
       "      <td>[[σωτήρ, κύριος, Ἰησοῦς, Χριστός, ψευδομαρτυρο...</td>\n",
       "      <td>[[σωτήρ, κύριος, Ἰησοῦς, Χριστός, ψευδομαρτυρο...</td>\n",
       "      <td>493</td>\n",
       "      <td>0.001273</td>\n",
       "    </tr>\n",
       "    <tr>\n",
       "      <th>11</th>\n",
       "      <td>tlg1205</td>\n",
       "      <td>Athenagoras</td>\n",
       "      <td>2</td>\n",
       "      <td>[Supplication pro Christianis, De resurrectione]</td>\n",
       "      <td>[tlg1205.tlg001.perseus-grc2.xml, tlg1205.tlg0...</td>\n",
       "      <td>20210</td>\n",
       "      <td>9679</td>\n",
       "      <td>808</td>\n",
       "      <td>{'1.5': 1}</td>\n",
       "      <td>[[ὑμέτερος, μέγας, βασιλεύς, οἰκουμένη, ἄλλος,...</td>\n",
       "      <td>[[ὑμέτερος, μέγας, βασιλεύς, οἰκουμένη, ἄλλος,...</td>\n",
       "      <td>12</td>\n",
       "      <td>0.001240</td>\n",
       "    </tr>\n",
       "    <tr>\n",
       "      <th>21</th>\n",
       "      <td>tlg1725</td>\n",
       "      <td>Theophilus Antiochenus</td>\n",
       "      <td>1</td>\n",
       "      <td>[Ad Autolycum]</td>\n",
       "      <td>[tlg1725.tlg001.perseus-grc2.xml]</td>\n",
       "      <td>21548</td>\n",
       "      <td>10929</td>\n",
       "      <td>1300</td>\n",
       "      <td>{'1.5': 1}</td>\n",
       "      <td>[[στωμύλος, στόμα, φράσις, εὐεπής, τέρψις, παρ...</td>\n",
       "      <td>[[στωμύλος, στόμα, φράσις, εὐεπής, τέρψις, παρ...</td>\n",
       "      <td>9</td>\n",
       "      <td>0.000823</td>\n",
       "    </tr>\n",
       "    <tr>\n",
       "      <th>0</th>\n",
       "      <td>tlg0031matt</td>\n",
       "      <td>Matthew</td>\n",
       "      <td>1</td>\n",
       "      <td>[Matthew]</td>\n",
       "      <td>[tlg0031.tlg001.perseus-grc2.xml]</td>\n",
       "      <td>18288</td>\n",
       "      <td>8551</td>\n",
       "      <td>1276</td>\n",
       "      <td>{'0.5': 1}</td>\n",
       "      <td>[[βίβλος, γένεσις, Ἰησοῦς, Χριστός, υἱός, Δαυί...</td>\n",
       "      <td>[[βίβλος, γένεσις, Ἰησοῦς, Χριστός, υἱός, Δαυί...</td>\n",
       "      <td>7</td>\n",
       "      <td>0.000819</td>\n",
       "    </tr>\n",
       "    <tr>\n",
       "      <th>23</th>\n",
       "      <td>tlg2018</td>\n",
       "      <td>Eusebius</td>\n",
       "      <td>10</td>\n",
       "      <td>[Praeperatio Evangelica, Historia ecclesiastic...</td>\n",
       "      <td>[tlg2018.tlg001.opp-grc1.xml, tlg2018.tlg002.p...</td>\n",
       "      <td>620546</td>\n",
       "      <td>250568</td>\n",
       "      <td>35220</td>\n",
       "      <td>{'3.5': 1}</td>\n",
       "      <td>[[χριστιανισον, εἰμί, ἠγούμενος, οἶδα, παρίστη...</td>\n",
       "      <td>[[χριστιανισον, εἰμί, ἠγούμενος, οἶδα, παρίστη...</td>\n",
       "      <td>180</td>\n",
       "      <td>0.000718</td>\n",
       "    </tr>\n",
       "    <tr>\n",
       "      <th>3</th>\n",
       "      <td>tlg0031john</td>\n",
       "      <td>Johnannine literature</td>\n",
       "      <td>4</td>\n",
       "      <td>[John, 1 John, 2 John, 3 John]</td>\n",
       "      <td>[tlg0031.tlg004.perseus-grc2.xml, tlg0031.tlg0...</td>\n",
       "      <td>18189</td>\n",
       "      <td>8151</td>\n",
       "      <td>1339</td>\n",
       "      <td>{'0.5': 1}</td>\n",
       "      <td>[[ἀρχή, εἰμί, λόγος, λόγος, εἰμί, θεός, θεός, ...</td>\n",
       "      <td>[[ἀρχή, εἰμί, λόγος, λόγος, εἰμί, θεός, θεός, ...</td>\n",
       "      <td>5</td>\n",
       "      <td>0.000613</td>\n",
       "    </tr>\n",
       "    <tr>\n",
       "      <th>24</th>\n",
       "      <td>tlg2021</td>\n",
       "      <td>Epiphanius</td>\n",
       "      <td>3</td>\n",
       "      <td>[Ancoratus, Panarion (Adversus haereses), Anac...</td>\n",
       "      <td>[tlg2021.tlg001.opp-grc1.xml, tlg2021.tlg002.o...</td>\n",
       "      <td>325038</td>\n",
       "      <td>137690</td>\n",
       "      <td>33079</td>\n",
       "      <td>{'3.5': 1}</td>\n",
       "      <td>[[θεῖος, μέγας, πατήρ, ἐπιφάνιος, ἐλευθεροπόλε...</td>\n",
       "      <td>[[θεῖος, μέγας, πατήρ, ἐπιφάνιος, ἐλευθεροπόλε...</td>\n",
       "      <td>60</td>\n",
       "      <td>0.000436</td>\n",
       "    </tr>\n",
       "    <tr>\n",
       "      <th>26</th>\n",
       "      <td>tlg2035</td>\n",
       "      <td>Athanasius of Alexandria</td>\n",
       "      <td>5</td>\n",
       "      <td>[De decretis Nicaenae synodi (Chapters 41 and ...</td>\n",
       "      <td>[tlg2035.tlg003.opp-lat1.xml, tlg2035.tlg117.1...</td>\n",
       "      <td>94010</td>\n",
       "      <td>40278</td>\n",
       "      <td>10789</td>\n",
       "      <td>{'3.5': 1}</td>\n",
       "      <td>[[ἀρτέομαι, δίνη, συναγομένων], [θεός, θεός, ε...</td>\n",
       "      <td>[[], [], [], [], [], [], [], [], [], [], [], [...</td>\n",
       "      <td>17</td>\n",
       "      <td>0.000422</td>\n",
       "    </tr>\n",
       "    <tr>\n",
       "      <th>25</th>\n",
       "      <td>tlg2022</td>\n",
       "      <td>Gregorius Nazianzenus</td>\n",
       "      <td>7</td>\n",
       "      <td>[Christus patiens [Dub.] (fort. auctore Consta...</td>\n",
       "      <td>[tlg2022.tlg003.opp-grc1.xml, tlg2022.tlg007.o...</td>\n",
       "      <td>77297</td>\n",
       "      <td>30999</td>\n",
       "      <td>20005</td>\n",
       "      <td>{'3.5': 1}</td>\n",
       "      <td>[[στίχος, γρηγορίου, θεολόγου, σωτήριον, πάθος...</td>\n",
       "      <td>[[στίχος, γρηγορίου, θεολόγου, σωτήριον, πάθος...</td>\n",
       "      <td>10</td>\n",
       "      <td>0.000323</td>\n",
       "    </tr>\n",
       "    <tr>\n",
       "      <th>2</th>\n",
       "      <td>tlg0031luke</td>\n",
       "      <td>Luke (the evangelist)</td>\n",
       "      <td>2</td>\n",
       "      <td>[Luke, Acts]</td>\n",
       "      <td>[tlg0031.tlg003.perseus-grc2.xml, tlg0031.tlg0...</td>\n",
       "      <td>37864</td>\n",
       "      <td>18149</td>\n",
       "      <td>2234</td>\n",
       "      <td>{'0.5': 1}</td>\n",
       "      <td>[[πολύς, ἐπιχειρέω, ἀνατάσσομαι, διήγησις, πλη...</td>\n",
       "      <td>[[πολύς, ἐπιχειρέω, ἀνατάσσομαι, διήγησις, πλη...</td>\n",
       "      <td>5</td>\n",
       "      <td>0.000275</td>\n",
       "    </tr>\n",
       "    <tr>\n",
       "      <th>17</th>\n",
       "      <td>tlg1443</td>\n",
       "      <td>Ignatius Antiochenus</td>\n",
       "      <td>7</td>\n",
       "      <td>[Ad Ephesios (epist. 1), Ad Magnesios (epist. ...</td>\n",
       "      <td>[tlg1443.tlg004.1st1K-grc1.xml, tlg1443.tlg005...</td>\n",
       "      <td>8396</td>\n",
       "      <td>3895</td>\n",
       "      <td>790</td>\n",
       "      <td>{'0.5': 0.5, '1.5': 0.5}</td>\n",
       "      <td>[[ἰγνάτιος, θεόφορος, εὐλογημένῃ, μέγεθος, θεό...</td>\n",
       "      <td>[[ἰγνάτιος, θεόφορος, εὐλογημένῃ, μέγεθος, θεό...</td>\n",
       "      <td>1</td>\n",
       "      <td>0.000257</td>\n",
       "    </tr>\n",
       "    <tr>\n",
       "      <th>27</th>\n",
       "      <td>tlg2040</td>\n",
       "      <td>Basil</td>\n",
       "      <td>2</td>\n",
       "      <td>[To Young Men, On How They Might Dervice Profi...</td>\n",
       "      <td>[tlg2040.tlg002.perseus-grc1.xml, tlg2040.tlg0...</td>\n",
       "      <td>144429</td>\n",
       "      <td>65580</td>\n",
       "      <td>11257</td>\n",
       "      <td>{'3.5': 1}</td>\n",
       "      <td>[[], [ἀπειρηκότα, λεγομένηςλεγομένης, τύχη, ἐπ...</td>\n",
       "      <td>[[], [], [], [], [], [], [], [], [], [], [], [...</td>\n",
       "      <td>14</td>\n",
       "      <td>0.000213</td>\n",
       "    </tr>\n",
       "    <tr>\n",
       "      <th>8</th>\n",
       "      <td>tlg0563</td>\n",
       "      <td>Maximus of Tyre</td>\n",
       "      <td>1</td>\n",
       "      <td>[Dialexeis]</td>\n",
       "      <td>[tlg0563.tlg001.1st1K-grc1.xml]</td>\n",
       "      <td>118960</td>\n",
       "      <td>50873</td>\n",
       "      <td>22598</td>\n",
       "      <td>{'1.5': 1}</td>\n",
       "      <td>[[ὑπόθεσις, ἁρμόσεταιμαξίμου, φιλοσοφοὺμενα, φ...</td>\n",
       "      <td>[[ὑπόθεσις, ἁρμόσεταιμαξίμου, φιλοσοφοὺμενα, φ...</td>\n",
       "      <td>10</td>\n",
       "      <td>0.000197</td>\n",
       "    </tr>\n",
       "    <tr>\n",
       "      <th>29</th>\n",
       "      <td>tlg2115</td>\n",
       "      <td>Hippolytus</td>\n",
       "      <td>1</td>\n",
       "      <td>[Refutatio Omnium Haeresium]</td>\n",
       "      <td>[tlg2115.tlg060.perseus-grc1.xml]</td>\n",
       "      <td>69987</td>\n",
       "      <td>36551</td>\n",
       "      <td>4394</td>\n",
       "      <td>{'2.5': 1}</td>\n",
       "      <td>[[ἔνειμι, πρῶτος, πᾶς, αἵρεσις, ἔλεγχος, δοκέω...</td>\n",
       "      <td>[[ἔνειμι, πρῶτος, πᾶς, αἵρεσις, ἔλεγχος], [δοκ...</td>\n",
       "      <td>6</td>\n",
       "      <td>0.000164</td>\n",
       "    </tr>\n",
       "    <tr>\n",
       "      <th>18</th>\n",
       "      <td>tlg1447</td>\n",
       "      <td>Irenaeus</td>\n",
       "      <td>1</td>\n",
       "      <td>[Libros quinque adversus haereses]</td>\n",
       "      <td>[tlg1447.tlg001.1st1K-grc1.xml]</td>\n",
       "      <td>24651</td>\n",
       "      <td>10527</td>\n",
       "      <td>4525</td>\n",
       "      <td>{'1.5': 1}</td>\n",
       "      <td>[[ἀλήθεια, παραπεμπόμενοί, ἐπεισάγουσι, λόγος,...</td>\n",
       "      <td>[[], [ἀλήθεια, παραπεμπόμενοί], [], [], [ἐπεισ...</td>\n",
       "      <td>1</td>\n",
       "      <td>0.000095</td>\n",
       "    </tr>\n",
       "    <tr>\n",
       "      <th>22</th>\n",
       "      <td>tlg1766</td>\n",
       "      <td>Tatianus</td>\n",
       "      <td>1</td>\n",
       "      <td>[Oratio ad Graecos]</td>\n",
       "      <td>[tlg1766.tlg001.perseus-grc1.xml]</td>\n",
       "      <td>10189</td>\n",
       "      <td>5117</td>\n",
       "      <td>648</td>\n",
       "      <td>{'1.5': 1}</td>\n",
       "      <td>[[φιλέχθρως, διατίθημι, βάρβαρος, ἀνήρ, Ἕλλην,...</td>\n",
       "      <td>[[φιλέχθρως, διατίθημι, βάρβαρος, ἀνήρ, Ἕλλην,...</td>\n",
       "      <td>0</td>\n",
       "      <td>0.000000</td>\n",
       "    </tr>\n",
       "    <tr>\n",
       "      <th>19</th>\n",
       "      <td>tlg1484</td>\n",
       "      <td>Martyrium Polycarpi</td>\n",
       "      <td>1</td>\n",
       "      <td>[Martyrium Polycarpi]</td>\n",
       "      <td>[tlg1484.tlg001.1st1K-grc1.xml]</td>\n",
       "      <td>2791</td>\n",
       "      <td>1335</td>\n",
       "      <td>217</td>\n",
       "      <td>{'14.5': 0.0001, '13.5': 0.0002, '12.5': 0.000...</td>\n",
       "      <td>[[ἐκκλησία, θεός, παροικοῦσα, σμύρνα, ἐκκλησία...</td>\n",
       "      <td>[[ἐκκλησία, θεός, παροικοῦσα, σμύρνα, ἐκκλησία...</td>\n",
       "      <td>0</td>\n",
       "      <td>0.000000</td>\n",
       "    </tr>\n",
       "    <tr>\n",
       "      <th>1</th>\n",
       "      <td>tlg0031mark</td>\n",
       "      <td>Mark</td>\n",
       "      <td>1</td>\n",
       "      <td>[Mark]</td>\n",
       "      <td>[tlg0031.tlg002.perseus-grc2.xml]</td>\n",
       "      <td>11274</td>\n",
       "      <td>5243</td>\n",
       "      <td>790</td>\n",
       "      <td>{'0.5': 1}</td>\n",
       "      <td>[[ἀρχή, εὐαγγέλιον, Ἰησοῦς, Χριστός, γράφω, ἠσ...</td>\n",
       "      <td>[[ἀρχή, εὐαγγέλιον, Ἰησοῦς, Χριστός], [γράφω, ...</td>\n",
       "      <td>0</td>\n",
       "      <td>0.000000</td>\n",
       "    </tr>\n",
       "    <tr>\n",
       "      <th>15</th>\n",
       "      <td>tlg1329</td>\n",
       "      <td>Dionysius Corinthius</td>\n",
       "      <td>1</td>\n",
       "      <td>[Fragmenta]</td>\n",
       "      <td>[tlg1329.tlg001.1st1K-grc1.xml]</td>\n",
       "      <td>607</td>\n",
       "      <td>275</td>\n",
       "      <td>67</td>\n",
       "      <td>{'1.5': 1}</td>\n",
       "      <td>[[ἀρχή, ἔθος, εἰμί, πᾶς, ἀδελφός, εὐεργετέω, ἐ...</td>\n",
       "      <td>[[ἀρχή, ἔθος, εἰμί, πᾶς, ἀδελφός, εὐεργετέω, ἐ...</td>\n",
       "      <td>0</td>\n",
       "      <td>0.000000</td>\n",
       "    </tr>\n",
       "  </tbody>\n",
       "</table>\n",
       "</div>"
      ],
      "text/plain": [
       "      author_id                    author  n_titles  \\\n",
       "20      tlg1622                  Polycarp         1   \n",
       "4   tlg0031paul            Paul of Tarsus         7   \n",
       "13      tlg1271           Clemens Romanus         2   \n",
       "10      tlg0646    Pseudo-Justinus Martyr         1   \n",
       "12      tlg1216                  Barnabas         1   \n",
       "16      tlg1419                    Hermas         1   \n",
       "5   tlg0031pspa        Pauline literature         6   \n",
       "14      tlg1311                   Didache         1   \n",
       "6   tlg0031rest                  GNT rest         6   \n",
       "9       tlg0645           Justinus Martyr         3   \n",
       "7       tlg0555     Clement of Alexandria         7   \n",
       "28      tlg2042                  Origenes        44   \n",
       "11      tlg1205               Athenagoras         2   \n",
       "21      tlg1725    Theophilus Antiochenus         1   \n",
       "0   tlg0031matt                   Matthew         1   \n",
       "23      tlg2018                  Eusebius        10   \n",
       "3   tlg0031john     Johnannine literature         4   \n",
       "24      tlg2021                Epiphanius         3   \n",
       "26      tlg2035  Athanasius of Alexandria         5   \n",
       "25      tlg2022     Gregorius Nazianzenus         7   \n",
       "2   tlg0031luke     Luke (the evangelist)         2   \n",
       "17      tlg1443      Ignatius Antiochenus         7   \n",
       "27      tlg2040                     Basil         2   \n",
       "8       tlg0563           Maximus of Tyre         1   \n",
       "29      tlg2115                Hippolytus         1   \n",
       "18      tlg1447                  Irenaeus         1   \n",
       "22      tlg1766                  Tatianus         1   \n",
       "19      tlg1484       Martyrium Polycarpi         1   \n",
       "1   tlg0031mark                      Mark         1   \n",
       "15      tlg1329      Dionysius Corinthius         1   \n",
       "\n",
       "                                               titles  \\\n",
       "20                         [Epistula ad Philippenses]   \n",
       "4   [Romans, 1 Corinthians, 2 Corinthians, Galatia...   \n",
       "13  [Epistula I ad Corinthios, Epistula II ad Cori...   \n",
       "10                            [Epistula ad Diognetum]   \n",
       "12                          [The Epistle of Barnabas]   \n",
       "16                           [The Shepherd of Hermas]   \n",
       "5   [Ephesians, Colossians, 2 Thessalonians, 1 Tim...   \n",
       "14                          [Didache XII Apostolorum]   \n",
       "6   [Hebrews, James, 1 Peter, 2 Peter, Jude, Revel...   \n",
       "9       [Apologia, Apology II, Dialogus cum Tryphone]   \n",
       "7   [Protrepticus, Paedagogus, Stromata (Books I-V...   \n",
       "28  [Contra Celsum, Commentarii in Evangelium Joan...   \n",
       "11   [Supplication pro Christianis, De resurrectione]   \n",
       "21                                     [Ad Autolycum]   \n",
       "0                                           [Matthew]   \n",
       "23  [Praeperatio Evangelica, Historia ecclesiastic...   \n",
       "3                      [John, 1 John, 2 John, 3 John]   \n",
       "24  [Ancoratus, Panarion (Adversus haereses), Anac...   \n",
       "26  [De decretis Nicaenae synodi (Chapters 41 and ...   \n",
       "25  [Christus patiens [Dub.] (fort. auctore Consta...   \n",
       "2                                        [Luke, Acts]   \n",
       "17  [Ad Ephesios (epist. 1), Ad Magnesios (epist. ...   \n",
       "27  [To Young Men, On How They Might Dervice Profi...   \n",
       "8                                         [Dialexeis]   \n",
       "29                       [Refutatio Omnium Haeresium]   \n",
       "18                 [Libros quinque adversus haereses]   \n",
       "22                                [Oratio ad Graecos]   \n",
       "19                              [Martyrium Polycarpi]   \n",
       "1                                              [Mark]   \n",
       "15                                        [Fragmenta]   \n",
       "\n",
       "                                            filenames  wordcount  \\\n",
       "20                    [tlg1622.tlg001.1st1K-grc1.xml]       1804   \n",
       "4   [tlg0031.tlg006.perseus-grc2.xml, tlg0031.tlg0...      24066   \n",
       "13  [tlg1271.tlg001.1st1K-grc1.xml, tlg1271.tlg002...      13936   \n",
       "10                    [tlg0646.tlg004.1st1K-grc1.xml]       2725   \n",
       "12                  [tlg1216.tlg001.perseus-grc2.xml]       7440   \n",
       "16                    [tlg1419.tlg001.1st1K-grc1.xml]      30282   \n",
       "5   [tlg0031.tlg010.perseus-grc2.xml, tlg0031.tlg0...       8324   \n",
       "14                    [tlg1311.tlg001.1st1K-grc1.xml]       2377   \n",
       "6   [tlg0031.tlg019.perseus-grc2.xml, tlg0031.tlg0...      19782   \n",
       "9   [tlg0645.tlg001.opp-grc1.xml, tlg0645.tlg002.p...      73449   \n",
       "7   [tlg0555.tlg001.perseus-grc1.xml, tlg0555.tlg0...     235754   \n",
       "28  [tlg2042.tlg001.perseus-grc1.xml, tlg2042.tlg0...     931431   \n",
       "11  [tlg1205.tlg001.perseus-grc2.xml, tlg1205.tlg0...      20210   \n",
       "21                  [tlg1725.tlg001.perseus-grc2.xml]      21548   \n",
       "0                   [tlg0031.tlg001.perseus-grc2.xml]      18288   \n",
       "23  [tlg2018.tlg001.opp-grc1.xml, tlg2018.tlg002.p...     620546   \n",
       "3   [tlg0031.tlg004.perseus-grc2.xml, tlg0031.tlg0...      18189   \n",
       "24  [tlg2021.tlg001.opp-grc1.xml, tlg2021.tlg002.o...     325038   \n",
       "26  [tlg2035.tlg003.opp-lat1.xml, tlg2035.tlg117.1...      94010   \n",
       "25  [tlg2022.tlg003.opp-grc1.xml, tlg2022.tlg007.o...      77297   \n",
       "2   [tlg0031.tlg003.perseus-grc2.xml, tlg0031.tlg0...      37864   \n",
       "17  [tlg1443.tlg004.1st1K-grc1.xml, tlg1443.tlg005...       8396   \n",
       "27  [tlg2040.tlg002.perseus-grc1.xml, tlg2040.tlg0...     144429   \n",
       "8                     [tlg0563.tlg001.1st1K-grc1.xml]     118960   \n",
       "29                  [tlg2115.tlg060.perseus-grc1.xml]      69987   \n",
       "18                    [tlg1447.tlg001.1st1K-grc1.xml]      24651   \n",
       "22                  [tlg1766.tlg001.perseus-grc1.xml]      10189   \n",
       "19                    [tlg1484.tlg001.1st1K-grc1.xml]       2791   \n",
       "1                   [tlg0031.tlg002.perseus-grc2.xml]      11274   \n",
       "15                    [tlg1329.tlg001.1st1K-grc1.xml]        607   \n",
       "\n",
       "    lemmata_wordcount  n_sentences  \\\n",
       "20                965          212   \n",
       "4               11077         1632   \n",
       "13               6298         1410   \n",
       "10               1353          240   \n",
       "12               3465          875   \n",
       "16              14279         2959   \n",
       "5                4102          390   \n",
       "14               1053          284   \n",
       "6                9731         1037   \n",
       "9               33795         5829   \n",
       "7               52918        14753   \n",
       "28             387226       110127   \n",
       "11               9679          808   \n",
       "21              10929         1300   \n",
       "0                8551         1276   \n",
       "23             250568        35220   \n",
       "3                8151         1339   \n",
       "24             137690        33079   \n",
       "26              40278        10789   \n",
       "25              30999        20005   \n",
       "2               18149         2234   \n",
       "17               3895          790   \n",
       "27              65580        11257   \n",
       "8               50873        22598   \n",
       "29              36551         4394   \n",
       "18              10527         4525   \n",
       "22               5117          648   \n",
       "19               1335          217   \n",
       "1                5243          790   \n",
       "15                275           67   \n",
       "\n",
       "                                           date_probs  \\\n",
       "20                           {'0.5': 0.5, '1.5': 0.5}   \n",
       "4                                          {'0.5': 1}   \n",
       "13                                         {'0.5': 1}   \n",
       "10                           {'2.5': 0.5, '4.5': 0.5}   \n",
       "12                           {'0.5': 0.5, '1.5': 0.5}   \n",
       "16                                         {'1.5': 1}   \n",
       "5                                          {'0.5': 1}   \n",
       "14                                         {'1.5': 1}   \n",
       "6                                          {'0.5': 1}   \n",
       "9                                          {'1.5': 1}   \n",
       "7                            {'1.5': 0.5, '2.5': 0.5}   \n",
       "28                           {'1.5': 0.5, '2.5': 0.5}   \n",
       "11                                         {'1.5': 1}   \n",
       "21                                         {'1.5': 1}   \n",
       "0                                          {'0.5': 1}   \n",
       "23                                         {'3.5': 1}   \n",
       "3                                          {'0.5': 1}   \n",
       "24                                         {'3.5': 1}   \n",
       "26                                         {'3.5': 1}   \n",
       "25                                         {'3.5': 1}   \n",
       "2                                          {'0.5': 1}   \n",
       "17                           {'0.5': 0.5, '1.5': 0.5}   \n",
       "27                                         {'3.5': 1}   \n",
       "8                                          {'1.5': 1}   \n",
       "29                                         {'2.5': 1}   \n",
       "18                                         {'1.5': 1}   \n",
       "22                                         {'1.5': 1}   \n",
       "19  {'14.5': 0.0001, '13.5': 0.0002, '12.5': 0.000...   \n",
       "1                                          {'0.5': 1}   \n",
       "15                                         {'1.5': 1}   \n",
       "\n",
       "                                        lemmata_lists  \\\n",
       "20  [[πολύκαρπος, πρέσβυς, ἐκκλησία, θεός, παροικο...   \n",
       "4   [[Παῦλος, δοῦλος, Ἰησοῦς, Χριστός, κλητός, ἀπό...   \n",
       "13  [[ἐκκλησία, θεός, παροικοῦσα, Ῥώμη, ἐκκλησία, ...   \n",
       "10  [[ὁράω, κράτιστος, διόγνητε, ὑπερεσπουδακότα, ...   \n",
       "12  [[χαίρω, υἱός, θυγάτηρ, ὄνομα, κύριος, ἀγαπάω,...   \n",
       "16  [[τρέφω, πέρνημι, ῥόδῃ, τὶς, Ῥώμη, πολύς, ἔτος...   \n",
       "5   [[Παῦλος, ἀπόστολος, Χριστός, Ἰησοῦς, θέλημα, ...   \n",
       "14  [[ὁδός, δύο, εἰμί, εἷς, ζωή, εἷς, θάνατος, δια...   \n",
       "6   [[πολύτροπος, θεός, λαλέω, πατήρ, προφήτης, ἔσ...   \n",
       "9   [[αὐτοκράτωρ, Τίτος, αἰλίῳ, ἀδριανῷ, ἀντωνίνῳ,...   \n",
       "7   [[ἀμφίων, Θηβαῖος, Ἄριοι, μηθυμναῖος, ἄμφω, εἰ...   \n",
       "28  [[σωτήρ, κύριος, Ἰησοῦς, Χριστός, ψευδομαρτυρο...   \n",
       "11  [[ὑμέτερος, μέγας, βασιλεύς, οἰκουμένη, ἄλλος,...   \n",
       "21  [[στωμύλος, στόμα, φράσις, εὐεπής, τέρψις, παρ...   \n",
       "0   [[βίβλος, γένεσις, Ἰησοῦς, Χριστός, υἱός, Δαυί...   \n",
       "23  [[χριστιανισον, εἰμί, ἠγούμενος, οἶδα, παρίστη...   \n",
       "3   [[ἀρχή, εἰμί, λόγος, λόγος, εἰμί, θεός, θεός, ...   \n",
       "24  [[θεῖος, μέγας, πατήρ, ἐπιφάνιος, ἐλευθεροπόλε...   \n",
       "26  [[ἀρτέομαι, δίνη, συναγομένων], [θεός, θεός, ε...   \n",
       "25  [[στίχος, γρηγορίου, θεολόγου, σωτήριον, πάθος...   \n",
       "2   [[πολύς, ἐπιχειρέω, ἀνατάσσομαι, διήγησις, πλη...   \n",
       "17  [[ἰγνάτιος, θεόφορος, εὐλογημένῃ, μέγεθος, θεό...   \n",
       "27  [[], [ἀπειρηκότα, λεγομένηςλεγομένης, τύχη, ἐπ...   \n",
       "8   [[ὑπόθεσις, ἁρμόσεταιμαξίμου, φιλοσοφοὺμενα, φ...   \n",
       "29  [[ἔνειμι, πρῶτος, πᾶς, αἵρεσις, ἔλεγχος, δοκέω...   \n",
       "18  [[ἀλήθεια, παραπεμπόμενοί, ἐπεισάγουσι, λόγος,...   \n",
       "22  [[φιλέχθρως, διατίθημι, βάρβαρος, ἀνήρ, Ἕλλην,...   \n",
       "19  [[ἐκκλησία, θεός, παροικοῦσα, σμύρνα, ἐκκλησία...   \n",
       "1   [[ἀρχή, εὐαγγέλιον, Ἰησοῦς, Χριστός, γράφω, ἠσ...   \n",
       "15  [[ἀρχή, ἔθος, εἰμί, πᾶς, ἀδελφός, εὐεργετέω, ἐ...   \n",
       "\n",
       "                                 lemmatized_sentences  dikaiosyne_N  \\\n",
       "20  [[πολύκαρπος, πρέσβυς, ἐκκλησία, θεός, παροικο...             8   \n",
       "4   [[Παῦλος, δοῦλος, Ἰησοῦς, Χριστός, κλητός, ἀπό...            49   \n",
       "13  [[ἐκκλησία, θεός, παροικοῦσα, Ῥώμη, ἐκκλησία, ...            21   \n",
       "10  [[ὁράω, κράτιστος, διόγνητε, ὑπερεσπουδακότα, ...             4   \n",
       "12  [[χαίρω, υἱός, θυγάτηρ, ὄνομα, κύριος, ἀγαπάω,...             9   \n",
       "16  [[τρέφω, πέρνημι, ῥόδῃ, τὶς, Ῥώμη], [πολύς, ἔτ...            33   \n",
       "5   [[Παῦλος, ἀπόστολος, Χριστός, Ἰησοῦς, θέλημα, ...             8   \n",
       "14  [[ὁδός, δύο, εἰμί, εἷς, ζωή, εἷς, θάνατος, δια...             2   \n",
       "6   [[πολύτροπος, θεός, λαλέω, πατήρ, προφήτης, ἔσ...            17   \n",
       "9   [[αὐτοκράτωρ, Τίτος, αἰλίῳ, ἀδριανῷ, ἀντωνίνῳ,...            45   \n",
       "7   [[ἀμφίων, Θηβαῖος, Ἄριοι, μηθυμναῖος, ἄμφω, εἰ...            69   \n",
       "28  [[σωτήρ, κύριος, Ἰησοῦς, Χριστός, ψευδομαρτυρο...           493   \n",
       "11  [[ὑμέτερος, μέγας, βασιλεύς, οἰκουμένη, ἄλλος,...            12   \n",
       "21  [[στωμύλος, στόμα, φράσις, εὐεπής, τέρψις, παρ...             9   \n",
       "0   [[βίβλος, γένεσις, Ἰησοῦς, Χριστός, υἱός, Δαυί...             7   \n",
       "23  [[χριστιανισον, εἰμί, ἠγούμενος, οἶδα, παρίστη...           180   \n",
       "3   [[ἀρχή, εἰμί, λόγος, λόγος, εἰμί, θεός, θεός, ...             5   \n",
       "24  [[θεῖος, μέγας, πατήρ, ἐπιφάνιος, ἐλευθεροπόλε...            60   \n",
       "26  [[], [], [], [], [], [], [], [], [], [], [], [...            17   \n",
       "25  [[στίχος, γρηγορίου, θεολόγου, σωτήριον, πάθος...            10   \n",
       "2   [[πολύς, ἐπιχειρέω, ἀνατάσσομαι, διήγησις, πλη...             5   \n",
       "17  [[ἰγνάτιος, θεόφορος, εὐλογημένῃ, μέγεθος, θεό...             1   \n",
       "27  [[], [], [], [], [], [], [], [], [], [], [], [...            14   \n",
       "8   [[ὑπόθεσις, ἁρμόσεταιμαξίμου, φιλοσοφοὺμενα, φ...            10   \n",
       "29  [[ἔνειμι, πρῶτος, πᾶς, αἵρεσις, ἔλεγχος], [δοκ...             6   \n",
       "18  [[], [ἀλήθεια, παραπεμπόμενοί], [], [], [ἐπεισ...             1   \n",
       "22  [[φιλέχθρως, διατίθημι, βάρβαρος, ἀνήρ, Ἕλλην,...             0   \n",
       "19  [[ἐκκλησία, θεός, παροικοῦσα, σμύρνα, ἐκκλησία...             0   \n",
       "1   [[ἀρχή, εὐαγγέλιον, Ἰησοῦς, Χριστός], [γράφω, ...             0   \n",
       "15  [[ἀρχή, ἔθος, εἰμί, πᾶς, ἀδελφός, εὐεργετέω, ἐ...             0   \n",
       "\n",
       "    dikaiosyne_TF  \n",
       "20       0.008290  \n",
       "4        0.004424  \n",
       "13       0.003334  \n",
       "10       0.002956  \n",
       "12       0.002597  \n",
       "16       0.002311  \n",
       "5        0.001950  \n",
       "14       0.001899  \n",
       "6        0.001747  \n",
       "9        0.001332  \n",
       "7        0.001304  \n",
       "28       0.001273  \n",
       "11       0.001240  \n",
       "21       0.000823  \n",
       "0        0.000819  \n",
       "23       0.000718  \n",
       "3        0.000613  \n",
       "24       0.000436  \n",
       "26       0.000422  \n",
       "25       0.000323  \n",
       "2        0.000275  \n",
       "17       0.000257  \n",
       "27       0.000213  \n",
       "8        0.000197  \n",
       "29       0.000164  \n",
       "18       0.000095  \n",
       "22       0.000000  \n",
       "19       0.000000  \n",
       "1        0.000000  \n",
       "15       0.000000  "
      ]
     },
     "execution_count": 704,
     "metadata": {},
     "output_type": "execute_result"
    }
   ],
   "source": [
    "authors_df"
   ]
  },
  {
   "cell_type": "markdown",
   "metadata": {},
   "source": [
    "# Networks for authors"
   ]
  },
  {
   "cell_type": "code",
   "execution_count": 705,
   "metadata": {},
   "outputs": [
    {
     "data": {
      "text/html": [
       "        <script type=\"text/javascript\">\n",
       "        window.PlotlyConfig = {MathJaxConfig: 'local'};\n",
       "        if (window.MathJax) {MathJax.Hub.Config({SVG: {font: \"STIX-Web\"}});}\n",
       "        if (typeof require !== 'undefined') {\n",
       "        require.undef(\"plotly\");\n",
       "        requirejs.config({\n",
       "            paths: {\n",
       "                'plotly': ['https://cdn.plot.ly/plotly-latest.min']\n",
       "            }\n",
       "        });\n",
       "        require(['plotly'], function(Plotly) {\n",
       "            window._Plotly = Plotly;\n",
       "        });\n",
       "        }\n",
       "        </script>\n",
       "        "
      ]
     },
     "metadata": {},
     "output_type": "display_data"
    },
    {
     "data": {
      "text/plain": [
       "<module 'textnet' from '/home/kasev/ECCE_AGT/scripts/textnet.py'>"
      ]
     },
     "execution_count": 705,
     "metadata": {},
     "output_type": "execute_result"
    }
   ],
   "source": [
    "reload(textnet)"
   ]
  },
  {
   "cell_type": "code",
   "execution_count": 706,
   "metadata": {},
   "outputs": [],
   "source": [
    "nx_from_sentences = authors_df[\"lemmatized_sentences\"].apply(textnet.network_from_sentences)\n",
    "nx_from_lemmata = authors_df[\"lemmata_lists\"].apply(textnet.network_from_lemmata_lists)"
   ]
  },
  {
   "cell_type": "code",
   "execution_count": 707,
   "metadata": {},
   "outputs": [],
   "source": [
    "authors_df[\"G_sents\"] = nx_from_sentences\n",
    "authors_df[\"G_lems\"] = nx_from_lemmata"
   ]
  },
  {
   "cell_type": "code",
   "execution_count": 708,
   "metadata": {},
   "outputs": [],
   "source": [
    "def ego_network(G):\n",
    "    try:\n",
    "        G_ego = textnet.construct_ego_network(G, \"δικαιοσύνη\", 30, reduced=False)\n",
    "    except:\n",
    "        G_ego = nx.Graph()\n",
    "        G_ego.clear()\n",
    "    return G_ego"
   ]
  },
  {
   "cell_type": "code",
   "execution_count": 709,
   "metadata": {},
   "outputs": [],
   "source": [
    "authors_df[\"dikaiosyne_G_sents\"] = authors_df[\"G_sents\"].apply(ego_network)\n",
    "authors_df[\"dikaiosyne_G_lems\"] = authors_df[\"G_lems\"].apply(ego_network)"
   ]
  },
  {
   "cell_type": "code",
   "execution_count": 710,
   "metadata": {},
   "outputs": [
    {
     "data": {
      "text/plain": [
       "['μωμοσκοπεῖται',\n",
       " 'φιλαργυρία',\n",
       " 'ἐντυγχανούσας',\n",
       " 'ἐντολή',\n",
       " 'πρέσβυς',\n",
       " 'θυσιαστήριον',\n",
       " 'πᾶς',\n",
       " 'εὔσπλαγχνος',\n",
       " 'χαλιναγωγοῦντες',\n",
       " 'οὗτος',\n",
       " 'γινωσκούσας',\n",
       " 'ὀφειλέτης',\n",
       " 'θεός',\n",
       " 'ἁγνεία',\n",
       " 'ὀργή',\n",
       " 'λανθάνω',\n",
       " 'ἄμεμπτος',\n",
       " 'διαβολή',\n",
       " 'δικαιοσύνη',\n",
       " 'καταλαλιά',\n",
       " 'προσωποληψίας',\n",
       " 'κύριος',\n",
       " 'εἰμί',\n",
       " 'πίστις',\n",
       " 'οὐδείς',\n",
       " 'κακός',\n",
       " 'προνοοῦντες',\n",
       " 'κρίσις',\n",
       " 'ψευδομαρτυρία',\n",
       " 'ἀπεχόμενοι',\n",
       " 'ἁμαρτία']"
      ]
     },
     "execution_count": 710,
     "metadata": {},
     "output_type": "execute_result"
    }
   ],
   "source": [
    "list(authors_df.iloc[0][\"dikaiosyne_G_sents\"].nodes())"
   ]
  },
  {
   "cell_type": "markdown",
   "metadata": {},
   "source": [
    "# Terms within sentences"
   ]
  },
  {
   "cell_type": "code",
   "execution_count": 711,
   "metadata": {},
   "outputs": [],
   "source": [
    "def sentences_with_term(sentences, term, flatlist=False):\n",
    "    sentences_with_term = [sen for sen in sentences if term in sen]\n",
    "    if flatlist == True:\n",
    "        flatlist = [word for sen in sentences_with_term for word in sen]\n",
    "        flatlist = [word for word in flatlist if word != \"δικαιοσύνη\"]\n",
    "        return flatlist\n",
    "    else: \n",
    "        return sentences_with_term\n",
    "authors_df[\"dik_sents_flat\"] = authors_df[\"lemmatized_sentences\"].apply(lambda cell: sentences_with_term(cell, \"δικαιοσύνη\", flatlist=True))"
   ]
  },
  {
   "cell_type": "code",
   "execution_count": 712,
   "metadata": {},
   "outputs": [],
   "source": [
    "def get_tf(lemmata):\n",
    "    fd_list = list(nltk.FreqDist(lemmata).most_common())\n",
    "    tf_list = [(tup[0], np.round(tup[1] / len(lemmata), 5)) for tup in fd_list]\n",
    "    return tf_list\n",
    "\n",
    "authors_df[\"dik_sents_TF\"] = authors_df[\"dik_sents_flat\"].apply(get_tf)"
   ]
  },
  {
   "cell_type": "code",
   "execution_count": 713,
   "metadata": {},
   "outputs": [],
   "source": [
    "def term_idf(term, all_sentences):\n",
    "    idf_raw =  len(all_sentences) / len([sent for sent in all_sentences if term in sent])\n",
    "    idf_log = math.log(idf_raw)\n",
    "    return idf_log\n",
    "\n",
    "def get_tfidf(key_term_lemmata, all_sentences):\n",
    "    fd_list = list(nltk.FreqDist(key_term_lemmata).most_common())\n",
    "    tfidf_list = [(tup[0], np.round((tup[1] / len(key_term_lemmata) * term_idf(tup[0], all_sentences)), 5)) for tup in fd_list]\n",
    "    tfidf_list = sorted(tfidf_list, key=lambda tup: tup[1], reverse=True)\n",
    "    return tfidf_list\n",
    "\n",
    "authors_df[\"dik_sents_TFIDF\"] = authors_df.apply(lambda x: get_tfidf(x[\"dik_sents_flat\"], x[\"lemmatized_sentences\"]), axis=1)"
   ]
  },
  {
   "cell_type": "code",
   "execution_count": 714,
   "metadata": {},
   "outputs": [],
   "source": [
    "authors_df[\"dik_sents_TFIDF_10\"] = authors_df[\"dik_sents_TFIDF\"].apply(lambda cell: [tup[0] for tup in cell[:10]])"
   ]
  },
  {
   "cell_type": "code",
   "execution_count": 715,
   "metadata": {},
   "outputs": [
    {
     "data": {
      "text/html": [
       "<div>\n",
       "<style scoped>\n",
       "    .dataframe tbody tr th:only-of-type {\n",
       "        vertical-align: middle;\n",
       "    }\n",
       "\n",
       "    .dataframe tbody tr th {\n",
       "        vertical-align: top;\n",
       "    }\n",
       "\n",
       "    .dataframe thead th {\n",
       "        text-align: right;\n",
       "    }\n",
       "</style>\n",
       "<table border=\"1\" class=\"dataframe\">\n",
       "  <thead>\n",
       "    <tr style=\"text-align: right;\">\n",
       "      <th></th>\n",
       "      <th>author_id</th>\n",
       "      <th>author</th>\n",
       "      <th>n_titles</th>\n",
       "      <th>titles</th>\n",
       "      <th>filenames</th>\n",
       "      <th>wordcount</th>\n",
       "      <th>lemmata_wordcount</th>\n",
       "      <th>n_sentences</th>\n",
       "      <th>date_probs</th>\n",
       "      <th>lemmata_lists</th>\n",
       "      <th>...</th>\n",
       "      <th>dikaiosyne_N</th>\n",
       "      <th>dikaiosyne_TF</th>\n",
       "      <th>G_sents</th>\n",
       "      <th>G_lems</th>\n",
       "      <th>dikaiosyne_G_sents</th>\n",
       "      <th>dikaiosyne_G_lems</th>\n",
       "      <th>dik_sents_flat</th>\n",
       "      <th>dik_sents_TF</th>\n",
       "      <th>dik_sents_TFIDF</th>\n",
       "      <th>dik_sents_TFIDF_10</th>\n",
       "    </tr>\n",
       "  </thead>\n",
       "  <tbody>\n",
       "    <tr>\n",
       "      <th>20</th>\n",
       "      <td>tlg1622</td>\n",
       "      <td>Polycarp</td>\n",
       "      <td>1</td>\n",
       "      <td>[Epistula ad Philippenses]</td>\n",
       "      <td>[tlg1622.tlg001.1st1K-grc1.xml]</td>\n",
       "      <td>1804</td>\n",
       "      <td>965</td>\n",
       "      <td>212</td>\n",
       "      <td>{'0.5': 0.5, '1.5': 0.5}</td>\n",
       "      <td>[[πολύκαρπος, πρέσβυς, ἐκκλησία, θεός, παροικο...</td>\n",
       "      <td>...</td>\n",
       "      <td>8</td>\n",
       "      <td>0.008290</td>\n",
       "      <td>(ξρεσξεντεμ, περιέχω, τολεραντια, ἀγαπάω, μήτη...</td>\n",
       "      <td>(Χριστός, Ἰησοῦς, εἰμί, πᾶς, κύριος, νεκρός, ἐ...</td>\n",
       "      <td>(μωμοσκοπεῖται, φιλαργυρία, ἐντυγχανούσας, ἐντ...</td>\n",
       "      <td>(εἰμί, πᾶς, ετ, ϝος, εἶμι, ϝοβις, αβ, αϝαριτια...</td>\n",
       "      <td>[μακάριος, πτωχός, διώκω, εἰμί, βασιλεία, θεάο...</td>\n",
       "      <td>[(εἰμί, 0.04651), (οὗτος, 0.04651), (ἐντολή, 0...</td>\n",
       "      <td>[(οὗτος, 0.18466), (ἐντολή, 0.18466), (πτωχός,...</td>\n",
       "      <td>[οὗτος, ἐντολή, πτωχός, διώκω, θεάομαι, ἀδελφό...</td>\n",
       "    </tr>\n",
       "    <tr>\n",
       "      <th>4</th>\n",
       "      <td>tlg0031paul</td>\n",
       "      <td>Paul of Tarsus</td>\n",
       "      <td>7</td>\n",
       "      <td>[Romans, 1 Corinthians, 2 Corinthians, Galatia...</td>\n",
       "      <td>[tlg0031.tlg006.perseus-grc2.xml, tlg0031.tlg0...</td>\n",
       "      <td>24066</td>\n",
       "      <td>11077</td>\n",
       "      <td>1632</td>\n",
       "      <td>{'0.5': 1}</td>\n",
       "      <td>[[Παῦλος, δοῦλος, Ἰησοῦς, Χριστός, κλητός, ἀπό...</td>\n",
       "      <td>...</td>\n",
       "      <td>49</td>\n",
       "      <td>0.004424</td>\n",
       "      <td>(ἄτακτος, βεβαιόω, τυφλός, καθοράω, κληρονομία...</td>\n",
       "      <td>(Χριστός, Ἰησοῦς, κύριος, θεός, χάρις, πατήρ, ...</td>\n",
       "      <td>(χριστός, ἔχω, δίδωμι, κύριος, ἔθνος, εἰμί, πᾶ...</td>\n",
       "      <td>(Χριστός, Ἰησοῦς, κύριος, θεός, χάρις, πατήρ, ...</td>\n",
       "      <td>[θεός, ἀποκαλύπτω, πίστις, πίστις, γράφω, δίκα...</td>\n",
       "      <td>[(θεός, 0.04651), (πίστις, 0.04134), (νόμος, 0...</td>\n",
       "      <td>[(πίστις, 0.12679), (ἁμαρτία, 0.11135), (νόμος...</td>\n",
       "      <td>[πίστις, ἁμαρτία, νόμος, λογίζομαι, θεός, βασι...</td>\n",
       "    </tr>\n",
       "    <tr>\n",
       "      <th>13</th>\n",
       "      <td>tlg1271</td>\n",
       "      <td>Clemens Romanus</td>\n",
       "      <td>2</td>\n",
       "      <td>[Epistula I ad Corinthios, Epistula II ad Cori...</td>\n",
       "      <td>[tlg1271.tlg001.1st1K-grc1.xml, tlg1271.tlg002...</td>\n",
       "      <td>13936</td>\n",
       "      <td>6298</td>\n",
       "      <td>1410</td>\n",
       "      <td>{'0.5': 1}</td>\n",
       "      <td>[[ἐκκλησία, θεός, παροικοῦσα, Ῥώμη, ἐκκλησία, ...</td>\n",
       "      <td>...</td>\n",
       "      <td>21</td>\n",
       "      <td>0.003334</td>\n",
       "      <td>(ἐμπορία, περιέχω, ἔξοχος, βεβαιόω, χρυσός, ἀπ...</td>\n",
       "      <td>(Χριστός, Ἰησοῦς, κύριος, λέγω, πνεῦμα, ἅγιος,...</td>\n",
       "      <td>(χριστός, ἔχω, ποιέω, λαμβάνω, δίδωμι, κύριος,...</td>\n",
       "      <td>(Χριστός, Ἰησοῦς, κύριος, λέγω, πνεῦμα, ἅγιος,...</td>\n",
       "      <td>[οὗτος, ἄπειμι, εἰρήνη, ἀπολιμπάνω, ἕκαστος, φ...</td>\n",
       "      <td>[(θεός, 0.0283), (πίστις, 0.02358), (γίγνομαι,...</td>\n",
       "      <td>[(καυχάομαι, 0.10261), (πίστις, 0.10037), (πύλ...</td>\n",
       "      <td>[καυχάομαι, πίστις, πύλη, θεός, δύσις, ἀγάπη, ...</td>\n",
       "    </tr>\n",
       "    <tr>\n",
       "      <th>10</th>\n",
       "      <td>tlg0646</td>\n",
       "      <td>Pseudo-Justinus Martyr</td>\n",
       "      <td>1</td>\n",
       "      <td>[Epistula ad Diognetum]</td>\n",
       "      <td>[tlg0646.tlg004.1st1K-grc1.xml]</td>\n",
       "      <td>2725</td>\n",
       "      <td>1353</td>\n",
       "      <td>240</td>\n",
       "      <td>{'2.5': 0.5, '4.5': 0.5}</td>\n",
       "      <td>[[ὁράω, κράτιστος, διόγνητε, ὑπερεσπουδακότα, ...</td>\n",
       "      <td>...</td>\n",
       "      <td>4</td>\n",
       "      <td>0.002956</td>\n",
       "      <td>(καταγέλαστος, προσδοκάω, τρυφή, πεφανέρωτο, ἄ...</td>\n",
       "      <td>(Χριστιανός, κόσμος, γνῶσις, ξύλον, θεός, οὗτο...</td>\n",
       "      <td>(πολύς, δεῖγμα, πρόσκαιρος, κρυβῇ, ὑπομένω, γῆ...</td>\n",
       "      <td>(δικαιοσύνη)</td>\n",
       "      <td>[ἐφηδόμενος, ἁμάρτημα, ἀνεχόμενος, ἀδικία, και...</td>\n",
       "      <td>[(ἐκεῖνος, 0.05405), (πολύς, 0.05405), (πῦρ, 0...</td>\n",
       "      <td>[(ἐκεῖνος, 0.25878), (πῦρ, 0.20925), (πολύς, 0...</td>\n",
       "      <td>[ἐκεῖνος, πῦρ, πολύς, ἐφηδόμενος, ἁμάρτημα, ἀν...</td>\n",
       "    </tr>\n",
       "    <tr>\n",
       "      <th>12</th>\n",
       "      <td>tlg1216</td>\n",
       "      <td>Barnabas</td>\n",
       "      <td>1</td>\n",
       "      <td>[The Epistle of Barnabas]</td>\n",
       "      <td>[tlg1216.tlg001.perseus-grc2.xml]</td>\n",
       "      <td>7440</td>\n",
       "      <td>3465</td>\n",
       "      <td>875</td>\n",
       "      <td>{'0.5': 0.5, '1.5': 0.5}</td>\n",
       "      <td>[[χαίρω, υἱός, θυγάτηρ, ὄνομα, κύριος, ἀγαπάω,...</td>\n",
       "      <td>...</td>\n",
       "      <td>9</td>\n",
       "      <td>0.002597</td>\n",
       "      <td>(οἰκοδομήσουσιν, περιέχω, ἁγιάσατε, ὑποπόδιον,...</td>\n",
       "      <td>(κύριος, λέγω, προφήτης, οὗτος, θεός, Μωϋσῆς, ...</td>\n",
       "      <td>(ἀπόλλυμι, ἀκούω, γῆ, πᾶς, οὗτος, πνεῦμα, ἀσεβ...</td>\n",
       "      <td>(κύριος, λέγω, προφήτης, οὗτος, θεός, Μωϋσῆς, ...</td>\n",
       "      <td>[πείθω, οὗτος, σύνοιδα, λαλέω, πολύς, ἐπίσταμα...</td>\n",
       "      <td>[(ὁδός, 0.0411), (κύριος, 0.0274), (θεός, 0.02...</td>\n",
       "      <td>[(ὁδός, 0.17298), (σκότος, 0.13651), (ἀγαθός, ...</td>\n",
       "      <td>[ὁδός, σκότος, ἀγαθός, σύνοιδα, ἐπίσταμαι, συν...</td>\n",
       "    </tr>\n",
       "  </tbody>\n",
       "</table>\n",
       "<p>5 rows × 21 columns</p>\n",
       "</div>"
      ],
      "text/plain": [
       "      author_id                  author  n_titles  \\\n",
       "20      tlg1622                Polycarp         1   \n",
       "4   tlg0031paul          Paul of Tarsus         7   \n",
       "13      tlg1271         Clemens Romanus         2   \n",
       "10      tlg0646  Pseudo-Justinus Martyr         1   \n",
       "12      tlg1216                Barnabas         1   \n",
       "\n",
       "                                               titles  \\\n",
       "20                         [Epistula ad Philippenses]   \n",
       "4   [Romans, 1 Corinthians, 2 Corinthians, Galatia...   \n",
       "13  [Epistula I ad Corinthios, Epistula II ad Cori...   \n",
       "10                            [Epistula ad Diognetum]   \n",
       "12                          [The Epistle of Barnabas]   \n",
       "\n",
       "                                            filenames  wordcount  \\\n",
       "20                    [tlg1622.tlg001.1st1K-grc1.xml]       1804   \n",
       "4   [tlg0031.tlg006.perseus-grc2.xml, tlg0031.tlg0...      24066   \n",
       "13  [tlg1271.tlg001.1st1K-grc1.xml, tlg1271.tlg002...      13936   \n",
       "10                    [tlg0646.tlg004.1st1K-grc1.xml]       2725   \n",
       "12                  [tlg1216.tlg001.perseus-grc2.xml]       7440   \n",
       "\n",
       "    lemmata_wordcount  n_sentences                date_probs  \\\n",
       "20                965          212  {'0.5': 0.5, '1.5': 0.5}   \n",
       "4               11077         1632                {'0.5': 1}   \n",
       "13               6298         1410                {'0.5': 1}   \n",
       "10               1353          240  {'2.5': 0.5, '4.5': 0.5}   \n",
       "12               3465          875  {'0.5': 0.5, '1.5': 0.5}   \n",
       "\n",
       "                                        lemmata_lists  ... dikaiosyne_N  \\\n",
       "20  [[πολύκαρπος, πρέσβυς, ἐκκλησία, θεός, παροικο...  ...            8   \n",
       "4   [[Παῦλος, δοῦλος, Ἰησοῦς, Χριστός, κλητός, ἀπό...  ...           49   \n",
       "13  [[ἐκκλησία, θεός, παροικοῦσα, Ῥώμη, ἐκκλησία, ...  ...           21   \n",
       "10  [[ὁράω, κράτιστος, διόγνητε, ὑπερεσπουδακότα, ...  ...            4   \n",
       "12  [[χαίρω, υἱός, θυγάτηρ, ὄνομα, κύριος, ἀγαπάω,...  ...            9   \n",
       "\n",
       "    dikaiosyne_TF                                            G_sents  \\\n",
       "20       0.008290  (ξρεσξεντεμ, περιέχω, τολεραντια, ἀγαπάω, μήτη...   \n",
       "4        0.004424  (ἄτακτος, βεβαιόω, τυφλός, καθοράω, κληρονομία...   \n",
       "13       0.003334  (ἐμπορία, περιέχω, ἔξοχος, βεβαιόω, χρυσός, ἀπ...   \n",
       "10       0.002956  (καταγέλαστος, προσδοκάω, τρυφή, πεφανέρωτο, ἄ...   \n",
       "12       0.002597  (οἰκοδομήσουσιν, περιέχω, ἁγιάσατε, ὑποπόδιον,...   \n",
       "\n",
       "                                               G_lems  \\\n",
       "20  (Χριστός, Ἰησοῦς, εἰμί, πᾶς, κύριος, νεκρός, ἐ...   \n",
       "4   (Χριστός, Ἰησοῦς, κύριος, θεός, χάρις, πατήρ, ...   \n",
       "13  (Χριστός, Ἰησοῦς, κύριος, λέγω, πνεῦμα, ἅγιος,...   \n",
       "10  (Χριστιανός, κόσμος, γνῶσις, ξύλον, θεός, οὗτο...   \n",
       "12  (κύριος, λέγω, προφήτης, οὗτος, θεός, Μωϋσῆς, ...   \n",
       "\n",
       "                                   dikaiosyne_G_sents  \\\n",
       "20  (μωμοσκοπεῖται, φιλαργυρία, ἐντυγχανούσας, ἐντ...   \n",
       "4   (χριστός, ἔχω, δίδωμι, κύριος, ἔθνος, εἰμί, πᾶ...   \n",
       "13  (χριστός, ἔχω, ποιέω, λαμβάνω, δίδωμι, κύριος,...   \n",
       "10  (πολύς, δεῖγμα, πρόσκαιρος, κρυβῇ, ὑπομένω, γῆ...   \n",
       "12  (ἀπόλλυμι, ἀκούω, γῆ, πᾶς, οὗτος, πνεῦμα, ἀσεβ...   \n",
       "\n",
       "                                    dikaiosyne_G_lems  \\\n",
       "20  (εἰμί, πᾶς, ετ, ϝος, εἶμι, ϝοβις, αβ, αϝαριτια...   \n",
       "4   (Χριστός, Ἰησοῦς, κύριος, θεός, χάρις, πατήρ, ...   \n",
       "13  (Χριστός, Ἰησοῦς, κύριος, λέγω, πνεῦμα, ἅγιος,...   \n",
       "10                                       (δικαιοσύνη)   \n",
       "12  (κύριος, λέγω, προφήτης, οὗτος, θεός, Μωϋσῆς, ...   \n",
       "\n",
       "                                       dik_sents_flat  \\\n",
       "20  [μακάριος, πτωχός, διώκω, εἰμί, βασιλεία, θεάο...   \n",
       "4   [θεός, ἀποκαλύπτω, πίστις, πίστις, γράφω, δίκα...   \n",
       "13  [οὗτος, ἄπειμι, εἰρήνη, ἀπολιμπάνω, ἕκαστος, φ...   \n",
       "10  [ἐφηδόμενος, ἁμάρτημα, ἀνεχόμενος, ἀδικία, και...   \n",
       "12  [πείθω, οὗτος, σύνοιδα, λαλέω, πολύς, ἐπίσταμα...   \n",
       "\n",
       "                                         dik_sents_TF  \\\n",
       "20  [(εἰμί, 0.04651), (οὗτος, 0.04651), (ἐντολή, 0...   \n",
       "4   [(θεός, 0.04651), (πίστις, 0.04134), (νόμος, 0...   \n",
       "13  [(θεός, 0.0283), (πίστις, 0.02358), (γίγνομαι,...   \n",
       "10  [(ἐκεῖνος, 0.05405), (πολύς, 0.05405), (πῦρ, 0...   \n",
       "12  [(ὁδός, 0.0411), (κύριος, 0.0274), (θεός, 0.02...   \n",
       "\n",
       "                                      dik_sents_TFIDF  \\\n",
       "20  [(οὗτος, 0.18466), (ἐντολή, 0.18466), (πτωχός,...   \n",
       "4   [(πίστις, 0.12679), (ἁμαρτία, 0.11135), (νόμος...   \n",
       "13  [(καυχάομαι, 0.10261), (πίστις, 0.10037), (πύλ...   \n",
       "10  [(ἐκεῖνος, 0.25878), (πῦρ, 0.20925), (πολύς, 0...   \n",
       "12  [(ὁδός, 0.17298), (σκότος, 0.13651), (ἀγαθός, ...   \n",
       "\n",
       "                                   dik_sents_TFIDF_10  \n",
       "20  [οὗτος, ἐντολή, πτωχός, διώκω, θεάομαι, ἀδελφό...  \n",
       "4   [πίστις, ἁμαρτία, νόμος, λογίζομαι, θεός, βασι...  \n",
       "13  [καυχάομαι, πίστις, πύλη, θεός, δύσις, ἀγάπη, ...  \n",
       "10  [ἐκεῖνος, πῦρ, πολύς, ἐφηδόμενος, ἁμάρτημα, ἀν...  \n",
       "12  [ὁδός, σκότος, ἀγαθός, σύνοιδα, ἐπίσταμαι, συν...  \n",
       "\n",
       "[5 rows x 21 columns]"
      ]
     },
     "execution_count": 715,
     "metadata": {},
     "output_type": "execute_result"
    }
   ],
   "source": [
    "authors_df.head(5)"
   ]
  },
  {
   "cell_type": "code",
   "execution_count": 716,
   "metadata": {},
   "outputs": [
    {
     "name": "stdout",
     "output_type": "stream",
     "text": [
      "['σκότος', 'ἄνθρωπος', 'μακάριος', 'ἐπιθυμία', 'δοῦλος', 'ἀγαπάω', 'ἐπίσταμαι', 'τέλειος', 'προσγινομένας', 'φῶς', 'πλημμελέω', 'προεπεκαλέσασθέ', 'ὅμοιος', 'ἀγάπη', 'γεννάω', 'συνώδευσεν', 'βεβαιωτής', 'ἐφηδόμενος', 'ἐργάζομαι', 'ἀποχή', 'ἐκφέρω', 'εὐλογητός', 'ὑπάγω', 'πολύς', 'ἀναγκάζω', 'κύριος', 'εὐσέβεια', 'γένος', 'ἀδελφός', 'χείρων', 'ἐλευθερωτής', 'ὁδός', 'ὑποδιαιρούμεναι', 'μιμνῄσκομαι', 'προπορεύσεται', 'καυχάομαι', 'πρέπω', 'Χριστός', 'βασιλεία', 'τύραννος', 'Σαλήμ', 'ἄγγελος', 'μέρος', 'προστίθημι', 'ὑποστρέφω', 'ἀνομία', 'πεινῶντες', 'προφήτης', 'ὁμολογήσαντα', 'ἀνίστημι', 'διώκω', 'ἐπαινουμένας', 'δίκαιος', 'θεός', 'ψεῦδος', 'σωφροσύνη', 'ἀνάξιος', 'πατήρ', 'ἐπιτρέπω', 'ἐλέγχω', 'διορίζων', 'πλοῦτος', 'βασιλεύω', 'διψῶντες', 'στέφανος', 'οἷος', 'ἀνατελεῖ', 'ποιέω', 'ἐφώπλισεν', 'στόμα', 'κατορθωτὴς', 'πράσσω', 'κᾀκεῖνον', 'ψυχή', 'διῶκται', 'δέχομαι', 'ὑπερβολή', 'πονηρία', 'ἐκεῖνος', 'βασιλεύς', 'λόγος', 'ἴσος', 'γενικαῖς', 'ἐντολή', 'λέγω', 'θεάομαι', 'οὐτος', 'ὁρίζω', 'γίγνομαι', 'κρίσις', 'πιστεύω', 'ἐπιτεινομένας', 'ἀνδρεία', 'φρόνησις', 'ἀνήρ', 'λογίζομαι', 'δεδιωγμένοι', 'ὑπομονή', 'ἐνδύω', 'μισέω', 'ἁμαρτία', 'ὁσιότης', 'κατακρίνω', 'περιστελεῖ', 'μισθός', 'σωτήρ', 'ἥλιος', 'σῶμα', 'ἁμάρτημα', 'βραβεύω', 'συνευδοκέω', 'πᾶς', 'ἀναγγέλλω', 'ἐπανέστησεν', 'ἀγαπῶντες', 'ἔρχομαι', 'ἐλεγχθέντες', 'εἰμί', 'σάρξ', 'ἀδικία', 'σωτηρία', 'κρίμα', 'εἰρήνη', 'ὀφθαλμός', 'φείδομαι', 'πίστις', 'ἁρπάγματα', 'ἀρετή', 'κακία', 'κέρας', 'ἅγιος', 'θελήσαντα', 'ἄρχω', 'ἔργον', 'γνῶσις', 'πληρόω', 'πτωχός', 'ἔχω', 'χορτάζω', 'Ἀβραάμ', 'θεωρέω', 'ἡττηθέντα', 'οὗτος', 'δύσις', 'οὐρανός', 'παρίστημι', 'φθείρω', 'πεπεδημένους', 'αὐτός', 'ἀνεχόμενος', 'πῦρ', 'πύλη', 'μείωσιν', 'ἀλήθεια', 'ἀγαθός', 'τίκτοντι', 'σοφία', 'ἀκολουθέω', 'δίδωμι', 'καλύπτω', 'μέλλω', 'σύνοιδα', 'ἔμπροσθενἔμπροσθεν', 'βραδύς', 'ἐχθρός', 'νόμος', 'ζῶ', 'πίμπλημι']\n"
     ]
    }
   ],
   "source": [
    "tfidf_words = list(set([word for wordlist in authors_df[\"dik_sents_TFIDF_10\"].tolist() for word in wordlist]))\n",
    "tfidf_words = [word for word in tfidf_words if not re.search(\"\\W\", word)]\n",
    "print(tfidf_words)"
   ]
  },
  {
   "cell_type": "code",
   "execution_count": 717,
   "metadata": {},
   "outputs": [],
   "source": [
    "set_with_dataframe(ECCE_AGT_overview.add_worksheet(\"tfidf_words_20201205\", 1, 1), pd.DataFrame(tfidf_words))"
   ]
  },
  {
   "cell_type": "code",
   "execution_count": 661,
   "metadata": {},
   "outputs": [
    {
     "data": {
      "text/plain": [
       "Index(['author_id', 'author', 'n_titles', 'titles', 'filenames', 'wordcount',\n",
       "       'lemmata_wordcount', 'n_sentences', 'date_probs', 'lemmata_lists',\n",
       "       'lemmatized_sentences', 'dikaiosyne_N', 'dikaiosyne_TF', 'G_sents',\n",
       "       'G_lems', 'dikaiosyne_G_sents', 'dikaiosyne_G_lems', 'dik_sents_flat',\n",
       "       'dik_sents_TF', 'dik_sents_TFIDF', 'dik_sents_TFIDF_10'],\n",
       "      dtype='object')"
      ]
     },
     "execution_count": 661,
     "metadata": {},
     "output_type": "execute_result"
    }
   ],
   "source": [
    "authors_df.columns"
   ]
  },
  {
   "cell_type": "code",
   "execution_count": 300,
   "metadata": {},
   "outputs": [],
   "source": [
    "columns_to_omit = [\"lemmatized_sentences\", \"lemmata_lists\", \"G_sents\", \"G_lems\", \"dikaiosyne_G_sents\" , \"dikaiosyne_G_lems\"]"
   ]
  },
  {
   "cell_type": "code",
   "execution_count": 301,
   "metadata": {},
   "outputs": [],
   "source": [
    "set_with_dataframe(ECCE_AGT_overview.add_worksheet(\"authors_df_20201202\", 1,1), authors_df.drop(columns_to_omit, axis=1))"
   ]
  },
  {
   "cell_type": "markdown",
   "metadata": {},
   "source": [
    "# N of shared terms within dik_sents_TFIDF_10"
   ]
  },
  {
   "cell_type": "code",
   "execution_count": 718,
   "metadata": {},
   "outputs": [
    {
     "data": {
      "text/plain": [
       "[['οὗτος',\n",
       "  'ἐντολή',\n",
       "  'πτωχός',\n",
       "  'διώκω',\n",
       "  'θεάομαι',\n",
       "  'ἀδελφός',\n",
       "  'ἐπιτρέπω',\n",
       "  'προεπεκαλέσασθέ',\n",
       "  'πληρόω',\n",
       "  'ἐκφέρω'],\n",
       " ['πίστις',\n",
       "  'ἁμαρτία',\n",
       "  'νόμος',\n",
       "  'λογίζομαι',\n",
       "  'θεός',\n",
       "  'βασιλεύω',\n",
       "  'δοῦλος',\n",
       "  'παρίστημι',\n",
       "  'πιστεύω',\n",
       "  'Χριστός'],\n",
       " ['καυχάομαι',\n",
       "  'πίστις',\n",
       "  'πύλη',\n",
       "  'θεός',\n",
       "  'δύσις',\n",
       "  'ἀγάπη',\n",
       "  'πατήρ',\n",
       "  'ὑπομονή',\n",
       "  'ἄνθρωπος',\n",
       "  'Ἀβραάμ'],\n",
       " ['ἐκεῖνος',\n",
       "  'πῦρ',\n",
       "  'πολύς',\n",
       "  'ἐφηδόμενος',\n",
       "  'ἁμάρτημα',\n",
       "  'ἀνεχόμενος',\n",
       "  'συνευδοκέω',\n",
       "  'ἐλεγχθέντες',\n",
       "  'ἀνάξιος',\n",
       "  'καλύπτω'],\n",
       " ['ὁδός',\n",
       "  'σκότος',\n",
       "  'ἀγαθός',\n",
       "  'σύνοιδα',\n",
       "  'ἐπίσταμαι',\n",
       "  'συνώδευσεν',\n",
       "  'ἀναγκάζω',\n",
       "  'ἀνατελεῖ',\n",
       "  'προπορεύσεται',\n",
       "  'περιστελεῖ']]"
      ]
     },
     "execution_count": 718,
     "metadata": {},
     "output_type": "execute_result"
    }
   ],
   "source": [
    "authors_df[\"dik_sents_TFIDF_10\"].tolist()[:5]"
   ]
  },
  {
   "cell_type": "code",
   "execution_count": 719,
   "metadata": {},
   "outputs": [],
   "source": [
    "edges_tuples = []\n",
    "for author1 in authors_df[\"author\"].tolist():\n",
    "    author1_words = authors_df.loc[authors_df[\"author\"]==author1, \"dik_sents_TFIDF_10\"].values[0]\n",
    "    for author2 in authors_df[\"author\"].tolist():\n",
    "        if author2 != author1:\n",
    "            author2_words = authors_df.loc[authors_df[\"author\"]==author2, \"dik_sents_TFIDF_10\"].values[0]\n",
    "            shared = len(set(author1_words) & set(author2_words))\n",
    "            if shared > 1:\n",
    "                edges_tuples.append((author1, author2, shared))"
   ]
  },
  {
   "cell_type": "code",
   "execution_count": 596,
   "metadata": {},
   "outputs": [
    {
     "data": {
      "text/html": [
       "        <script type=\"text/javascript\">\n",
       "        window.PlotlyConfig = {MathJaxConfig: 'local'};\n",
       "        if (window.MathJax) {MathJax.Hub.Config({SVG: {font: \"STIX-Web\"}});}\n",
       "        if (typeof require !== 'undefined') {\n",
       "        require.undef(\"plotly\");\n",
       "        requirejs.config({\n",
       "            paths: {\n",
       "                'plotly': ['https://cdn.plot.ly/plotly-latest.min']\n",
       "            }\n",
       "        });\n",
       "        require(['plotly'], function(Plotly) {\n",
       "            window._Plotly = Plotly;\n",
       "        });\n",
       "        }\n",
       "        </script>\n",
       "        "
      ]
     },
     "metadata": {},
     "output_type": "display_data"
    },
    {
     "data": {
      "text/plain": [
       "<module 'textnet' from '/home/kasev/ECCE_AGT/scripts/textnet.py'>"
      ]
     },
     "execution_count": 596,
     "metadata": {},
     "output_type": "execute_result"
    }
   ],
   "source": [
    "reload(textnet)"
   ]
  },
  {
   "cell_type": "code",
   "execution_count": 750,
   "metadata": {},
   "outputs": [],
   "source": [
    "G = nx.Graph()\n",
    "G.clear()\n",
    "G.add_weighted_edges_from(edges_tuples)\n",
    "for (u, v, wt) in G.edges.data('weight'):\n",
    "    G[u][v][\"weight\"] = int(wt)\n",
    "total_weight = sum([int(n) for n in nx.get_edge_attributes(G, \"weight\").values()])\n",
    "for (u, v) in G.edges:\n",
    "    G[u][v][\"norm_weight\"] = round((G[u][v][\"weight\"] / total_weight), 5)\n",
    "    G[u][v][\"distance\"] = round(1 / (G[u][v][\"weight\"]), 5)\n",
    "    G[u][v][\"norm_distance\"] = round(1 / (G[u][v][\"norm_weight\"] ), 5)\n",
    "G.remove_edges_from(nx.selfloop_edges(G))"
   ]
  },
  {
   "cell_type": "code",
   "execution_count": 751,
   "metadata": {},
   "outputs": [
    {
     "data": {
      "text/plain": [
       "EdgeDataView([('Paul of Tarsus', 'Clemens Romanus', {'weight': 2, 'norm_weight': 0.02222, 'distance': 0.5, 'norm_distance': 45.0045}), ('Paul of Tarsus', 'Origenes', {'weight': 2, 'norm_weight': 0.02222, 'distance': 0.5, 'norm_distance': 45.0045}), ('Paul of Tarsus', 'Theophilus Antiochenus', {'weight': 3, 'norm_weight': 0.03333, 'distance': 0.33333, 'norm_distance': 30.003}), ('Paul of Tarsus', 'Eusebius', {'weight': 2, 'norm_weight': 0.02222, 'distance': 0.5, 'norm_distance': 45.0045}), ('Paul of Tarsus', 'Epiphanius', {'weight': 5, 'norm_weight': 0.05556, 'distance': 0.2, 'norm_distance': 17.99856}), ('Clemens Romanus', 'Pauline literature', {'weight': 2, 'norm_weight': 0.02222, 'distance': 0.5, 'norm_distance': 45.0045}), ('Clemens Romanus', 'GNT rest', {'weight': 2, 'norm_weight': 0.02222, 'distance': 0.5, 'norm_distance': 45.0045}), ('Clemens Romanus', 'Clement of Alexandria', {'weight': 2, 'norm_weight': 0.02222, 'distance': 0.5, 'norm_distance': 45.0045}), ('Clemens Romanus', 'Epiphanius', {'weight': 2, 'norm_weight': 0.02222, 'distance': 0.5, 'norm_distance': 45.0045}), ('Origenes', 'Hermas', {'weight': 2, 'norm_weight': 0.02222, 'distance': 0.5, 'norm_distance': 45.0045}), ('Origenes', 'Clement of Alexandria', {'weight': 3, 'norm_weight': 0.03333, 'distance': 0.33333, 'norm_distance': 30.003}), ('Origenes', 'Theophilus Antiochenus', {'weight': 2, 'norm_weight': 0.02222, 'distance': 0.5, 'norm_distance': 45.0045}), ('Origenes', 'Johnannine literature', {'weight': 3, 'norm_weight': 0.03333, 'distance': 0.33333, 'norm_distance': 30.003}), ('Origenes', 'Epiphanius', {'weight': 2, 'norm_weight': 0.02222, 'distance': 0.5, 'norm_distance': 45.0045}), ('Origenes', 'Athanasius of Alexandria', {'weight': 2, 'norm_weight': 0.02222, 'distance': 0.5, 'norm_distance': 45.0045}), ('Origenes', 'Basil', {'weight': 3, 'norm_weight': 0.03333, 'distance': 0.33333, 'norm_distance': 30.003}), ('Theophilus Antiochenus', 'Eusebius', {'weight': 3, 'norm_weight': 0.03333, 'distance': 0.33333, 'norm_distance': 30.003}), ('Theophilus Antiochenus', 'Epiphanius', {'weight': 3, 'norm_weight': 0.03333, 'distance': 0.33333, 'norm_distance': 30.003}), ('Theophilus Antiochenus', 'Basil', {'weight': 2, 'norm_weight': 0.02222, 'distance': 0.5, 'norm_distance': 45.0045}), ('Eusebius', 'Hermas', {'weight': 2, 'norm_weight': 0.02222, 'distance': 0.5, 'norm_distance': 45.0045}), ('Eusebius', 'Justinus Martyr', {'weight': 2, 'norm_weight': 0.02222, 'distance': 0.5, 'norm_distance': 45.0045}), ('Eusebius', 'Clement of Alexandria', {'weight': 4, 'norm_weight': 0.04444, 'distance': 0.25, 'norm_distance': 22.50225}), ('Eusebius', 'Epiphanius', {'weight': 3, 'norm_weight': 0.03333, 'distance': 0.33333, 'norm_distance': 30.003}), ('Eusebius', 'Athanasius of Alexandria', {'weight': 2, 'norm_weight': 0.02222, 'distance': 0.5, 'norm_distance': 45.0045}), ('Eusebius', 'Gregorius Nazianzenus', {'weight': 2, 'norm_weight': 0.02222, 'distance': 0.5, 'norm_distance': 45.0045}), ('Epiphanius', 'Hermas', {'weight': 2, 'norm_weight': 0.02222, 'distance': 0.5, 'norm_distance': 45.0045}), ('Epiphanius', 'Clement of Alexandria', {'weight': 3, 'norm_weight': 0.03333, 'distance': 0.33333, 'norm_distance': 30.003}), ('Epiphanius', 'Athenagoras', {'weight': 2, 'norm_weight': 0.02222, 'distance': 0.5, 'norm_distance': 45.0045}), ('Pauline literature', 'Hermas', {'weight': 2, 'norm_weight': 0.02222, 'distance': 0.5, 'norm_distance': 45.0045}), ('Pauline literature', 'GNT rest', {'weight': 2, 'norm_weight': 0.02222, 'distance': 0.5, 'norm_distance': 45.0045}), ('Pauline literature', 'Justinus Martyr', {'weight': 2, 'norm_weight': 0.02222, 'distance': 0.5, 'norm_distance': 45.0045}), ('GNT rest', 'Gregorius Nazianzenus', {'weight': 2, 'norm_weight': 0.02222, 'distance': 0.5, 'norm_distance': 45.0045}), ('Clement of Alexandria', 'Hermas', {'weight': 3, 'norm_weight': 0.03333, 'distance': 0.33333, 'norm_distance': 30.003}), ('Clement of Alexandria', 'Athenagoras', {'weight': 4, 'norm_weight': 0.04444, 'distance': 0.25, 'norm_distance': 22.50225}), ('Clement of Alexandria', 'Johnannine literature', {'weight': 2, 'norm_weight': 0.02222, 'distance': 0.5, 'norm_distance': 45.0045}), ('Justinus Martyr', 'Athenagoras', {'weight': 2, 'norm_weight': 0.02222, 'distance': 0.5, 'norm_distance': 45.0045}), ('Didache', 'Athanasius of Alexandria', {'weight': 2, 'norm_weight': 0.02222, 'distance': 0.5, 'norm_distance': 45.0045})])"
      ]
     },
     "execution_count": 751,
     "metadata": {},
     "output_type": "execute_result"
    }
   ],
   "source": [
    "G.edges.data()"
   ]
  },
  {
   "cell_type": "code",
   "execution_count": 752,
   "metadata": {},
   "outputs": [
    {
     "data": {
      "text/html": [
       "        <script type=\"text/javascript\">\n",
       "        window.PlotlyConfig = {MathJaxConfig: 'local'};\n",
       "        if (window.MathJax) {MathJax.Hub.Config({SVG: {font: \"STIX-Web\"}});}\n",
       "        if (typeof require !== 'undefined') {\n",
       "        require.undef(\"plotly\");\n",
       "        requirejs.config({\n",
       "            paths: {\n",
       "                'plotly': ['https://cdn.plot.ly/plotly-latest.min']\n",
       "            }\n",
       "        });\n",
       "        require(['plotly'], function(Plotly) {\n",
       "            window._Plotly = Plotly;\n",
       "        });\n",
       "        }\n",
       "        </script>\n",
       "        "
      ]
     },
     "metadata": {},
     "output_type": "display_data"
    },
    {
     "data": {
      "text/plain": [
       "<module 'textnet' from '/home/kasev/ECCE_AGT/scripts/textnet.py'>"
      ]
     },
     "execution_count": 752,
     "metadata": {},
     "output_type": "execute_result"
    }
   ],
   "source": [
    "reload(textnet)"
   ]
  },
  {
   "cell_type": "code",
   "execution_count": 753,
   "metadata": {},
   "outputs": [
    {
     "data": {
      "application/vnd.plotly.v1+json": {
       "config": {
        "plotlyServerURL": "https://plot.ly"
       },
       "data": [
        {
         "line": {
          "color": "#000000",
          "width": 1
         },
         "mode": "lines",
         "type": "scatter",
         "x": [
          0.24884686678924,
          0.09809206132982996,
          null,
          -0.12574861927353362,
          0.0646623047883438,
          null,
          0.0646623047883438,
          -0.32741996034434295,
          null
         ],
         "y": [
          0.3691705184580909,
          0.08481023116540365,
          null,
          -0.03298591788726013,
          -0.16136297126689172,
          null,
          -0.16136297126689172,
          -0.27071116846029536,
          null
         ]
        },
        {
         "line": {
          "color": "#404040",
          "width": 0.7
         },
         "mode": "lines",
         "type": "scatter",
         "x": [
          0.24884686678924,
          0.466861065233154,
          null,
          0.39961672863504294,
          0.0646623047883438,
          null,
          0.39961672863504294,
          0.49056169956691575,
          null,
          0.39961672863504294,
          0.8244353677884632,
          null,
          0.466861065233154,
          -0.12574861927353362,
          null,
          0.466861065233154,
          0.09809206132982996,
          null,
          -0.12574861927353362,
          0.09809206132982996,
          null,
          0.09809206132982996,
          0.0646623047883438,
          null,
          0.0646623047883438,
          0.046056024435744664,
          null
         ],
         "y": [
          0.3691705184580909,
          0.17099918625296806,
          null,
          -0.1046812952762653,
          -0.16136297126689172,
          null,
          -0.1046812952762653,
          -0.43544346612721413,
          null,
          -0.1046812952762653,
          0.006644631943557947,
          null,
          0.17099918625296806,
          -0.03298591788726013,
          null,
          0.17099918625296806,
          0.08481023116540365,
          null,
          -0.03298591788726013,
          0.08481023116540365,
          null,
          0.08481023116540365,
          -0.16136297126689172,
          null,
          -0.16136297126689172,
          0.31461123041072814,
          null
         ]
        },
        {
         "line": {
          "color": "#C0C0C0",
          "width": 0.5
         },
         "mode": "lines",
         "type": "scatter",
         "x": [
          0.24884686678924,
          -0.1508658656425835,
          null,
          0.24884686678924,
          0.39961672863504294,
          null,
          0.24884686678924,
          -0.12574861927353362,
          null,
          -0.1508658656425835,
          -0.3592138077688651,
          null,
          -0.1508658656425835,
          -0.6624019250611837,
          null,
          -0.1508658656425835,
          0.0646623047883438,
          null,
          -0.1508658656425835,
          0.09809206132982996,
          null,
          0.39961672863504294,
          0.046056024435744664,
          null,
          0.39961672863504294,
          0.466861065233154,
          null,
          0.39961672863504294,
          0.09809206132982996,
          null,
          0.39961672863504294,
          0.081133904856132,
          null,
          0.466861065233154,
          0.8244353677884632,
          null,
          -0.12574861927353362,
          0.046056024435744664,
          null,
          -0.12574861927353362,
          -0.5075986369937917,
          null,
          -0.12574861927353362,
          0.081133904856132,
          null,
          -0.12574861927353362,
          -0.6521410464704078,
          null,
          0.09809206132982996,
          0.046056024435744664,
          null,
          0.09809206132982996,
          -0.32741996034434295,
          null,
          -0.3592138077688651,
          0.046056024435744664,
          null,
          -0.3592138077688651,
          -0.6624019250611837,
          null,
          -0.3592138077688651,
          -0.5075986369937917,
          null,
          -0.6624019250611837,
          -0.6521410464704078,
          null,
          0.0646623047883438,
          0.49056169956691575,
          null,
          -0.5075986369937917,
          -0.32741996034434295,
          null,
          0.0651238381318423,
          0.081133904856132,
          null
         ],
         "y": [
          0.3691705184580909,
          0.4219322164864445,
          null,
          0.3691705184580909,
          -0.1046812952762653,
          null,
          0.3691705184580909,
          -0.03298591788726013,
          null,
          0.4219322164864445,
          0.6110307192642618,
          null,
          0.4219322164864445,
          0.46111222473694763,
          null,
          0.4219322164864445,
          -0.16136297126689172,
          null,
          0.4219322164864445,
          0.08481023116540365,
          null,
          -0.1046812952762653,
          0.31461123041072814,
          null,
          -0.1046812952762653,
          0.17099918625296806,
          null,
          -0.1046812952762653,
          0.08481023116540365,
          null,
          -0.1046812952762653,
          -0.5384607978750671,
          null,
          0.17099918625296806,
          0.006644631943557947,
          null,
          -0.03298591788726013,
          0.31461123041072814,
          null,
          -0.03298591788726013,
          0.13578947968337837,
          null,
          -0.03298591788726013,
          -0.5384607978750671,
          null,
          -0.03298591788726013,
          -0.0324548215087873,
          null,
          0.08481023116540365,
          0.31461123041072814,
          null,
          0.08481023116540365,
          -0.27071116846029536,
          null,
          0.6110307192642618,
          0.31461123041072814,
          null,
          0.6110307192642618,
          0.46111222473694763,
          null,
          0.6110307192642618,
          0.13578947968337837,
          null,
          0.46111222473694763,
          -0.0324548215087873,
          null,
          -0.16136297126689172,
          -0.43544346612721413,
          null,
          0.13578947968337837,
          -0.27071116846029536,
          null,
          -1,
          -0.5384607978750671,
          null
         ]
        },
        {
         "hoverinfo": "text",
         "hovertext": [
          "5",
          "5",
          "8",
          "5",
          "8",
          "8",
          "4",
          "3",
          "7",
          "5",
          "3",
          "1",
          "3",
          "2",
          "3",
          "2",
          "2"
         ],
         "marker": {
          "color": [
           82,
           76,
           124,
           48,
           111,
           51,
           50,
           30,
           62,
           6,
           27,
           32,
           24,
           21,
           11,
           21,
           5
          ],
          "colorbar": {
           "thickness": 15,
           "title": {
            "side": "right",
            "text": "degree"
           },
           "xanchor": "left"
          },
          "colorscale": [
           [
            0,
            "rgb(255,255,255)"
           ],
           [
            0.125,
            "rgb(240,240,240)"
           ],
           [
            0.25,
            "rgb(217,217,217)"
           ],
           [
            0.375,
            "rgb(189,189,189)"
           ],
           [
            0.5,
            "rgb(150,150,150)"
           ],
           [
            0.625,
            "rgb(115,115,115)"
           ],
           [
            0.75,
            "rgb(82,82,82)"
           ],
           [
            0.875,
            "rgb(37,37,37)"
           ],
           [
            1,
            "rgb(0,0,0)"
           ]
          ],
          "line": {
           "width": 1
          },
          "showscale": false,
          "size": 7
         },
         "mode": "markers+text",
         "text": [
          "Paul of Tarsus",
          "Clemens Romanus",
          "Origenes",
          "Theophilus Antiochenus",
          "Eusebius",
          "Epiphanius",
          "Pauline literature",
          "GNT rest",
          "Clement of Alexandria",
          "Hermas",
          "Justinus Martyr",
          "Didache",
          "Athanasius of Alexandria",
          "Gregorius Nazianzenus",
          "Athenagoras",
          "Johnannine literature",
          "Basil"
         ],
         "textposition": "bottom center",
         "type": "scatter",
         "x": [
          0.24884686678924,
          -0.1508658656425835,
          0.39961672863504294,
          0.466861065233154,
          -0.12574861927353362,
          0.09809206132982996,
          -0.3592138077688651,
          -0.6624019250611837,
          0.0646623047883438,
          0.046056024435744664,
          -0.5075986369937917,
          0.0651238381318423,
          0.081133904856132,
          -0.6521410464704078,
          -0.32741996034434295,
          0.49056169956691575,
          0.8244353677884632
         ],
         "y": [
          0.3691705184580909,
          0.4219322164864445,
          -0.1046812952762653,
          0.17099918625296806,
          -0.03298591788726013,
          0.08481023116540365,
          0.6110307192642618,
          0.46111222473694763,
          -0.16136297126689172,
          0.31461123041072814,
          0.13578947968337837,
          -1,
          -0.5384607978750671,
          -0.0324548215087873,
          -0.27071116846029536,
          -0.43544346612721413,
          0.006644631943557947
         ]
        },
        {
         "hoverinfo": "text",
         "marker": {
          "opacity": 0
         },
         "mode": "markers",
         "opacity": 0,
         "text": [
          "2",
          "2",
          "3",
          "2",
          "5",
          "2",
          "2",
          "2",
          "2",
          "2",
          "3",
          "2",
          "3",
          "2",
          "2",
          "3",
          "3",
          "3",
          "2",
          "2",
          "2",
          "4",
          "3",
          "2",
          "2",
          "2",
          "3",
          "2",
          "2",
          "2",
          "2",
          "2",
          "3",
          "4",
          "2",
          "2",
          "2"
         ],
         "type": "scatter",
         "x": [
          0.04899050057332825,
          0.3242317977121415,
          0.357853966011197,
          0.061549123757853194,
          0.17346946405953498,
          -0.2550398367057243,
          -0.4066338953518836,
          -0.04310178042711985,
          -0.02638690215637677,
          0.2228363765353938,
          0.23213951671169336,
          0.43323889693409845,
          0.44508921410097935,
          0.24885439498243644,
          0.2403753167455875,
          0.612026048211753,
          0.1705562229798102,
          0.282476563281492,
          0.6456482165108086,
          -0.03984629741889448,
          -0.3166736281336627,
          -0.03054315724259491,
          -0.013828278971851828,
          -0.022307357208700807,
          -0.38894483287197074,
          0.07207404288278732,
          0.08137718305908688,
          -0.1146639495072565,
          -0.1565788916665602,
          -0.5108078664150244,
          -0.4334062223813284,
          -0.6572714857657957,
          0.05535916461204423,
          -0.13137882777799959,
          0.27761200217762977,
          -0.41750929866906733,
          0.07312887149398715
         ],
         "y": [
          0.3955513674722677,
          0.1322446115909128,
          0.2700848523555295,
          0.16809230028541539,
          0.22699037481174728,
          0.5164814678753531,
          0.4415222206116961,
          0.1302846226097764,
          0.2533712238259241,
          0.10496496756723142,
          -0.13302213327157852,
          0.03315894548835138,
          -0.2700623807017397,
          -0.009935532055430824,
          -0.32157104657566615,
          -0.04901833166635367,
          0.06900663418285397,
          0.12790470870918585,
          0.088821909098263,
          0.140812656261734,
          0.05140178089805912,
          -0.09717444457707593,
          0.02591215663907176,
          -0.2857233578811636,
          -0.032720369698023714,
          0.1997107307880659,
          -0.03827637005074404,
          -0.09295046864744586,
          0.46282097483749496,
          0.5360714720006047,
          0.3734100994738201,
          0.21432870161408016,
          0.0766241295719182,
          -0.21603706986359356,
          -0.29840321869705294,
          -0.0674608443884585,
          -0.7692303989375335
         ]
        }
       ],
       "layout": {
        "autosize": false,
        "height": 500,
        "hovermode": "closest",
        "margin": {
         "b": 10,
         "l": 10,
         "r": 10,
         "t": 10
        },
        "plot_bgcolor": "rgba(0,0,0,0)",
        "showlegend": false,
        "template": {
         "data": {
          "bar": [
           {
            "error_x": {
             "color": "#2a3f5f"
            },
            "error_y": {
             "color": "#2a3f5f"
            },
            "marker": {
             "line": {
              "color": "#E5ECF6",
              "width": 0.5
             }
            },
            "type": "bar"
           }
          ],
          "barpolar": [
           {
            "marker": {
             "line": {
              "color": "#E5ECF6",
              "width": 0.5
             }
            },
            "type": "barpolar"
           }
          ],
          "carpet": [
           {
            "aaxis": {
             "endlinecolor": "#2a3f5f",
             "gridcolor": "white",
             "linecolor": "white",
             "minorgridcolor": "white",
             "startlinecolor": "#2a3f5f"
            },
            "baxis": {
             "endlinecolor": "#2a3f5f",
             "gridcolor": "white",
             "linecolor": "white",
             "minorgridcolor": "white",
             "startlinecolor": "#2a3f5f"
            },
            "type": "carpet"
           }
          ],
          "choropleth": [
           {
            "colorbar": {
             "outlinewidth": 0,
             "ticks": ""
            },
            "type": "choropleth"
           }
          ],
          "contour": [
           {
            "colorbar": {
             "outlinewidth": 0,
             "ticks": ""
            },
            "colorscale": [
             [
              0,
              "#0d0887"
             ],
             [
              0.1111111111111111,
              "#46039f"
             ],
             [
              0.2222222222222222,
              "#7201a8"
             ],
             [
              0.3333333333333333,
              "#9c179e"
             ],
             [
              0.4444444444444444,
              "#bd3786"
             ],
             [
              0.5555555555555556,
              "#d8576b"
             ],
             [
              0.6666666666666666,
              "#ed7953"
             ],
             [
              0.7777777777777778,
              "#fb9f3a"
             ],
             [
              0.8888888888888888,
              "#fdca26"
             ],
             [
              1,
              "#f0f921"
             ]
            ],
            "type": "contour"
           }
          ],
          "contourcarpet": [
           {
            "colorbar": {
             "outlinewidth": 0,
             "ticks": ""
            },
            "type": "contourcarpet"
           }
          ],
          "heatmap": [
           {
            "colorbar": {
             "outlinewidth": 0,
             "ticks": ""
            },
            "colorscale": [
             [
              0,
              "#0d0887"
             ],
             [
              0.1111111111111111,
              "#46039f"
             ],
             [
              0.2222222222222222,
              "#7201a8"
             ],
             [
              0.3333333333333333,
              "#9c179e"
             ],
             [
              0.4444444444444444,
              "#bd3786"
             ],
             [
              0.5555555555555556,
              "#d8576b"
             ],
             [
              0.6666666666666666,
              "#ed7953"
             ],
             [
              0.7777777777777778,
              "#fb9f3a"
             ],
             [
              0.8888888888888888,
              "#fdca26"
             ],
             [
              1,
              "#f0f921"
             ]
            ],
            "type": "heatmap"
           }
          ],
          "heatmapgl": [
           {
            "colorbar": {
             "outlinewidth": 0,
             "ticks": ""
            },
            "colorscale": [
             [
              0,
              "#0d0887"
             ],
             [
              0.1111111111111111,
              "#46039f"
             ],
             [
              0.2222222222222222,
              "#7201a8"
             ],
             [
              0.3333333333333333,
              "#9c179e"
             ],
             [
              0.4444444444444444,
              "#bd3786"
             ],
             [
              0.5555555555555556,
              "#d8576b"
             ],
             [
              0.6666666666666666,
              "#ed7953"
             ],
             [
              0.7777777777777778,
              "#fb9f3a"
             ],
             [
              0.8888888888888888,
              "#fdca26"
             ],
             [
              1,
              "#f0f921"
             ]
            ],
            "type": "heatmapgl"
           }
          ],
          "histogram": [
           {
            "marker": {
             "colorbar": {
              "outlinewidth": 0,
              "ticks": ""
             }
            },
            "type": "histogram"
           }
          ],
          "histogram2d": [
           {
            "colorbar": {
             "outlinewidth": 0,
             "ticks": ""
            },
            "colorscale": [
             [
              0,
              "#0d0887"
             ],
             [
              0.1111111111111111,
              "#46039f"
             ],
             [
              0.2222222222222222,
              "#7201a8"
             ],
             [
              0.3333333333333333,
              "#9c179e"
             ],
             [
              0.4444444444444444,
              "#bd3786"
             ],
             [
              0.5555555555555556,
              "#d8576b"
             ],
             [
              0.6666666666666666,
              "#ed7953"
             ],
             [
              0.7777777777777778,
              "#fb9f3a"
             ],
             [
              0.8888888888888888,
              "#fdca26"
             ],
             [
              1,
              "#f0f921"
             ]
            ],
            "type": "histogram2d"
           }
          ],
          "histogram2dcontour": [
           {
            "colorbar": {
             "outlinewidth": 0,
             "ticks": ""
            },
            "colorscale": [
             [
              0,
              "#0d0887"
             ],
             [
              0.1111111111111111,
              "#46039f"
             ],
             [
              0.2222222222222222,
              "#7201a8"
             ],
             [
              0.3333333333333333,
              "#9c179e"
             ],
             [
              0.4444444444444444,
              "#bd3786"
             ],
             [
              0.5555555555555556,
              "#d8576b"
             ],
             [
              0.6666666666666666,
              "#ed7953"
             ],
             [
              0.7777777777777778,
              "#fb9f3a"
             ],
             [
              0.8888888888888888,
              "#fdca26"
             ],
             [
              1,
              "#f0f921"
             ]
            ],
            "type": "histogram2dcontour"
           }
          ],
          "mesh3d": [
           {
            "colorbar": {
             "outlinewidth": 0,
             "ticks": ""
            },
            "type": "mesh3d"
           }
          ],
          "parcoords": [
           {
            "line": {
             "colorbar": {
              "outlinewidth": 0,
              "ticks": ""
             }
            },
            "type": "parcoords"
           }
          ],
          "pie": [
           {
            "automargin": true,
            "type": "pie"
           }
          ],
          "scatter": [
           {
            "marker": {
             "colorbar": {
              "outlinewidth": 0,
              "ticks": ""
             }
            },
            "type": "scatter"
           }
          ],
          "scatter3d": [
           {
            "line": {
             "colorbar": {
              "outlinewidth": 0,
              "ticks": ""
             }
            },
            "marker": {
             "colorbar": {
              "outlinewidth": 0,
              "ticks": ""
             }
            },
            "type": "scatter3d"
           }
          ],
          "scattercarpet": [
           {
            "marker": {
             "colorbar": {
              "outlinewidth": 0,
              "ticks": ""
             }
            },
            "type": "scattercarpet"
           }
          ],
          "scattergeo": [
           {
            "marker": {
             "colorbar": {
              "outlinewidth": 0,
              "ticks": ""
             }
            },
            "type": "scattergeo"
           }
          ],
          "scattergl": [
           {
            "marker": {
             "colorbar": {
              "outlinewidth": 0,
              "ticks": ""
             }
            },
            "type": "scattergl"
           }
          ],
          "scattermapbox": [
           {
            "marker": {
             "colorbar": {
              "outlinewidth": 0,
              "ticks": ""
             }
            },
            "type": "scattermapbox"
           }
          ],
          "scatterpolar": [
           {
            "marker": {
             "colorbar": {
              "outlinewidth": 0,
              "ticks": ""
             }
            },
            "type": "scatterpolar"
           }
          ],
          "scatterpolargl": [
           {
            "marker": {
             "colorbar": {
              "outlinewidth": 0,
              "ticks": ""
             }
            },
            "type": "scatterpolargl"
           }
          ],
          "scatterternary": [
           {
            "marker": {
             "colorbar": {
              "outlinewidth": 0,
              "ticks": ""
             }
            },
            "type": "scatterternary"
           }
          ],
          "surface": [
           {
            "colorbar": {
             "outlinewidth": 0,
             "ticks": ""
            },
            "colorscale": [
             [
              0,
              "#0d0887"
             ],
             [
              0.1111111111111111,
              "#46039f"
             ],
             [
              0.2222222222222222,
              "#7201a8"
             ],
             [
              0.3333333333333333,
              "#9c179e"
             ],
             [
              0.4444444444444444,
              "#bd3786"
             ],
             [
              0.5555555555555556,
              "#d8576b"
             ],
             [
              0.6666666666666666,
              "#ed7953"
             ],
             [
              0.7777777777777778,
              "#fb9f3a"
             ],
             [
              0.8888888888888888,
              "#fdca26"
             ],
             [
              1,
              "#f0f921"
             ]
            ],
            "type": "surface"
           }
          ],
          "table": [
           {
            "cells": {
             "fill": {
              "color": "#EBF0F8"
             },
             "line": {
              "color": "white"
             }
            },
            "header": {
             "fill": {
              "color": "#C8D4E3"
             },
             "line": {
              "color": "white"
             }
            },
            "type": "table"
           }
          ]
         },
         "layout": {
          "annotationdefaults": {
           "arrowcolor": "#2a3f5f",
           "arrowhead": 0,
           "arrowwidth": 1
          },
          "coloraxis": {
           "colorbar": {
            "outlinewidth": 0,
            "ticks": ""
           }
          },
          "colorscale": {
           "diverging": [
            [
             0,
             "#8e0152"
            ],
            [
             0.1,
             "#c51b7d"
            ],
            [
             0.2,
             "#de77ae"
            ],
            [
             0.3,
             "#f1b6da"
            ],
            [
             0.4,
             "#fde0ef"
            ],
            [
             0.5,
             "#f7f7f7"
            ],
            [
             0.6,
             "#e6f5d0"
            ],
            [
             0.7,
             "#b8e186"
            ],
            [
             0.8,
             "#7fbc41"
            ],
            [
             0.9,
             "#4d9221"
            ],
            [
             1,
             "#276419"
            ]
           ],
           "sequential": [
            [
             0,
             "#0d0887"
            ],
            [
             0.1111111111111111,
             "#46039f"
            ],
            [
             0.2222222222222222,
             "#7201a8"
            ],
            [
             0.3333333333333333,
             "#9c179e"
            ],
            [
             0.4444444444444444,
             "#bd3786"
            ],
            [
             0.5555555555555556,
             "#d8576b"
            ],
            [
             0.6666666666666666,
             "#ed7953"
            ],
            [
             0.7777777777777778,
             "#fb9f3a"
            ],
            [
             0.8888888888888888,
             "#fdca26"
            ],
            [
             1,
             "#f0f921"
            ]
           ],
           "sequentialminus": [
            [
             0,
             "#0d0887"
            ],
            [
             0.1111111111111111,
             "#46039f"
            ],
            [
             0.2222222222222222,
             "#7201a8"
            ],
            [
             0.3333333333333333,
             "#9c179e"
            ],
            [
             0.4444444444444444,
             "#bd3786"
            ],
            [
             0.5555555555555556,
             "#d8576b"
            ],
            [
             0.6666666666666666,
             "#ed7953"
            ],
            [
             0.7777777777777778,
             "#fb9f3a"
            ],
            [
             0.8888888888888888,
             "#fdca26"
            ],
            [
             1,
             "#f0f921"
            ]
           ]
          },
          "colorway": [
           "#636efa",
           "#EF553B",
           "#00cc96",
           "#ab63fa",
           "#FFA15A",
           "#19d3f3",
           "#FF6692",
           "#B6E880",
           "#FF97FF",
           "#FECB52"
          ],
          "font": {
           "color": "#2a3f5f"
          },
          "geo": {
           "bgcolor": "white",
           "lakecolor": "white",
           "landcolor": "#E5ECF6",
           "showlakes": true,
           "showland": true,
           "subunitcolor": "white"
          },
          "hoverlabel": {
           "align": "left"
          },
          "hovermode": "closest",
          "mapbox": {
           "style": "light"
          },
          "paper_bgcolor": "white",
          "plot_bgcolor": "#E5ECF6",
          "polar": {
           "angularaxis": {
            "gridcolor": "white",
            "linecolor": "white",
            "ticks": ""
           },
           "bgcolor": "#E5ECF6",
           "radialaxis": {
            "gridcolor": "white",
            "linecolor": "white",
            "ticks": ""
           }
          },
          "scene": {
           "xaxis": {
            "backgroundcolor": "#E5ECF6",
            "gridcolor": "white",
            "gridwidth": 2,
            "linecolor": "white",
            "showbackground": true,
            "ticks": "",
            "zerolinecolor": "white"
           },
           "yaxis": {
            "backgroundcolor": "#E5ECF6",
            "gridcolor": "white",
            "gridwidth": 2,
            "linecolor": "white",
            "showbackground": true,
            "ticks": "",
            "zerolinecolor": "white"
           },
           "zaxis": {
            "backgroundcolor": "#E5ECF6",
            "gridcolor": "white",
            "gridwidth": 2,
            "linecolor": "white",
            "showbackground": true,
            "ticks": "",
            "zerolinecolor": "white"
           }
          },
          "shapedefaults": {
           "line": {
            "color": "#2a3f5f"
           }
          },
          "ternary": {
           "aaxis": {
            "gridcolor": "white",
            "linecolor": "white",
            "ticks": ""
           },
           "baxis": {
            "gridcolor": "white",
            "linecolor": "white",
            "ticks": ""
           },
           "bgcolor": "#E5ECF6",
           "caxis": {
            "gridcolor": "white",
            "linecolor": "white",
            "ticks": ""
           }
          },
          "title": {
           "x": 0.05
          },
          "xaxis": {
           "automargin": true,
           "gridcolor": "white",
           "linecolor": "white",
           "ticks": "",
           "title": {
            "standoff": 15
           },
           "zerolinecolor": "white",
           "zerolinewidth": 2
          },
          "yaxis": {
           "automargin": true,
           "gridcolor": "white",
           "linecolor": "white",
           "ticks": "",
           "title": {
            "standoff": 15
           },
           "zerolinecolor": "white",
           "zerolinewidth": 2
          }
         }
        },
        "title": {
         "font": {
          "size": 16
         }
        },
        "width": 500,
        "xaxis": {
         "showgrid": false,
         "showticklabels": false,
         "zeroline": false
        },
        "yaxis": {
         "showgrid": false,
         "showticklabels": false,
         "zeroline": false
        }
       }
      },
      "text/html": [
       "<div>                            <div id=\"8097367c-260e-4560-b14e-2ab89ddb2fc5\" class=\"plotly-graph-div\" style=\"height:500px; width:500px;\"></div>            <script type=\"text/javascript\">                require([\"plotly\"], function(Plotly) {                    window.PLOTLYENV=window.PLOTLYENV || {};                                    if (document.getElementById(\"8097367c-260e-4560-b14e-2ab89ddb2fc5\")) {                    Plotly.newPlot(                        \"8097367c-260e-4560-b14e-2ab89ddb2fc5\",                        [{\"line\": {\"color\": \"#000000\", \"width\": 1}, \"mode\": \"lines\", \"type\": \"scatter\", \"x\": [0.24884686678924, 0.09809206132982996, null, -0.12574861927353362, 0.0646623047883438, null, 0.0646623047883438, -0.32741996034434295, null], \"y\": [0.3691705184580909, 0.08481023116540365, null, -0.03298591788726013, -0.16136297126689172, null, -0.16136297126689172, -0.27071116846029536, null]}, {\"line\": {\"color\": \"#404040\", \"width\": 0.7}, \"mode\": \"lines\", \"type\": \"scatter\", \"x\": [0.24884686678924, 0.466861065233154, null, 0.39961672863504294, 0.0646623047883438, null, 0.39961672863504294, 0.49056169956691575, null, 0.39961672863504294, 0.8244353677884632, null, 0.466861065233154, -0.12574861927353362, null, 0.466861065233154, 0.09809206132982996, null, -0.12574861927353362, 0.09809206132982996, null, 0.09809206132982996, 0.0646623047883438, null, 0.0646623047883438, 0.046056024435744664, null], \"y\": [0.3691705184580909, 0.17099918625296806, null, -0.1046812952762653, -0.16136297126689172, null, -0.1046812952762653, -0.43544346612721413, null, -0.1046812952762653, 0.006644631943557947, null, 0.17099918625296806, -0.03298591788726013, null, 0.17099918625296806, 0.08481023116540365, null, -0.03298591788726013, 0.08481023116540365, null, 0.08481023116540365, -0.16136297126689172, null, -0.16136297126689172, 0.31461123041072814, null]}, {\"line\": {\"color\": \"#C0C0C0\", \"width\": 0.5}, \"mode\": \"lines\", \"type\": \"scatter\", \"x\": [0.24884686678924, -0.1508658656425835, null, 0.24884686678924, 0.39961672863504294, null, 0.24884686678924, -0.12574861927353362, null, -0.1508658656425835, -0.3592138077688651, null, -0.1508658656425835, -0.6624019250611837, null, -0.1508658656425835, 0.0646623047883438, null, -0.1508658656425835, 0.09809206132982996, null, 0.39961672863504294, 0.046056024435744664, null, 0.39961672863504294, 0.466861065233154, null, 0.39961672863504294, 0.09809206132982996, null, 0.39961672863504294, 0.081133904856132, null, 0.466861065233154, 0.8244353677884632, null, -0.12574861927353362, 0.046056024435744664, null, -0.12574861927353362, -0.5075986369937917, null, -0.12574861927353362, 0.081133904856132, null, -0.12574861927353362, -0.6521410464704078, null, 0.09809206132982996, 0.046056024435744664, null, 0.09809206132982996, -0.32741996034434295, null, -0.3592138077688651, 0.046056024435744664, null, -0.3592138077688651, -0.6624019250611837, null, -0.3592138077688651, -0.5075986369937917, null, -0.6624019250611837, -0.6521410464704078, null, 0.0646623047883438, 0.49056169956691575, null, -0.5075986369937917, -0.32741996034434295, null, 0.0651238381318423, 0.081133904856132, null], \"y\": [0.3691705184580909, 0.4219322164864445, null, 0.3691705184580909, -0.1046812952762653, null, 0.3691705184580909, -0.03298591788726013, null, 0.4219322164864445, 0.6110307192642618, null, 0.4219322164864445, 0.46111222473694763, null, 0.4219322164864445, -0.16136297126689172, null, 0.4219322164864445, 0.08481023116540365, null, -0.1046812952762653, 0.31461123041072814, null, -0.1046812952762653, 0.17099918625296806, null, -0.1046812952762653, 0.08481023116540365, null, -0.1046812952762653, -0.5384607978750671, null, 0.17099918625296806, 0.006644631943557947, null, -0.03298591788726013, 0.31461123041072814, null, -0.03298591788726013, 0.13578947968337837, null, -0.03298591788726013, -0.5384607978750671, null, -0.03298591788726013, -0.0324548215087873, null, 0.08481023116540365, 0.31461123041072814, null, 0.08481023116540365, -0.27071116846029536, null, 0.6110307192642618, 0.31461123041072814, null, 0.6110307192642618, 0.46111222473694763, null, 0.6110307192642618, 0.13578947968337837, null, 0.46111222473694763, -0.0324548215087873, null, -0.16136297126689172, -0.43544346612721413, null, 0.13578947968337837, -0.27071116846029536, null, -1.0, -0.5384607978750671, null]}, {\"hoverinfo\": \"text\", \"hovertext\": [\"5\", \"5\", \"8\", \"5\", \"8\", \"8\", \"4\", \"3\", \"7\", \"5\", \"3\", \"1\", \"3\", \"2\", \"3\", \"2\", \"2\"], \"marker\": {\"color\": [82, 76, 124, 48, 111, 51, 50, 30, 62, 6, 27, 32, 24, 21, 11, 21, 5], \"colorbar\": {\"thickness\": 15, \"title\": {\"side\": \"right\", \"text\": \"degree\"}, \"xanchor\": \"left\"}, \"colorscale\": [[0.0, \"rgb(255,255,255)\"], [0.125, \"rgb(240,240,240)\"], [0.25, \"rgb(217,217,217)\"], [0.375, \"rgb(189,189,189)\"], [0.5, \"rgb(150,150,150)\"], [0.625, \"rgb(115,115,115)\"], [0.75, \"rgb(82,82,82)\"], [0.875, \"rgb(37,37,37)\"], [1.0, \"rgb(0,0,0)\"]], \"line\": {\"width\": 1}, \"showscale\": false, \"size\": 7}, \"mode\": \"markers+text\", \"text\": [\"Paul of Tarsus\", \"Clemens Romanus\", \"Origenes\", \"Theophilus Antiochenus\", \"Eusebius\", \"Epiphanius\", \"Pauline literature\", \"GNT rest\", \"Clement of Alexandria\", \"Hermas\", \"Justinus Martyr\", \"Didache\", \"Athanasius of Alexandria\", \"Gregorius Nazianzenus\", \"Athenagoras\", \"Johnannine literature\", \"Basil\"], \"textposition\": \"bottom center\", \"type\": \"scatter\", \"x\": [0.24884686678924, -0.1508658656425835, 0.39961672863504294, 0.466861065233154, -0.12574861927353362, 0.09809206132982996, -0.3592138077688651, -0.6624019250611837, 0.0646623047883438, 0.046056024435744664, -0.5075986369937917, 0.0651238381318423, 0.081133904856132, -0.6521410464704078, -0.32741996034434295, 0.49056169956691575, 0.8244353677884632], \"y\": [0.3691705184580909, 0.4219322164864445, -0.1046812952762653, 0.17099918625296806, -0.03298591788726013, 0.08481023116540365, 0.6110307192642618, 0.46111222473694763, -0.16136297126689172, 0.31461123041072814, 0.13578947968337837, -1.0, -0.5384607978750671, -0.0324548215087873, -0.27071116846029536, -0.43544346612721413, 0.006644631943557947]}, {\"hoverinfo\": \"text\", \"marker\": {\"opacity\": 0}, \"mode\": \"markers\", \"opacity\": 0, \"text\": [\"2\", \"2\", \"3\", \"2\", \"5\", \"2\", \"2\", \"2\", \"2\", \"2\", \"3\", \"2\", \"3\", \"2\", \"2\", \"3\", \"3\", \"3\", \"2\", \"2\", \"2\", \"4\", \"3\", \"2\", \"2\", \"2\", \"3\", \"2\", \"2\", \"2\", \"2\", \"2\", \"3\", \"4\", \"2\", \"2\", \"2\"], \"type\": \"scatter\", \"x\": [0.04899050057332825, 0.3242317977121415, 0.357853966011197, 0.061549123757853194, 0.17346946405953498, -0.2550398367057243, -0.4066338953518836, -0.04310178042711985, -0.02638690215637677, 0.2228363765353938, 0.23213951671169336, 0.43323889693409845, 0.44508921410097935, 0.24885439498243644, 0.2403753167455875, 0.612026048211753, 0.1705562229798102, 0.282476563281492, 0.6456482165108086, -0.03984629741889448, -0.3166736281336627, -0.03054315724259491, -0.013828278971851828, -0.022307357208700807, -0.38894483287197074, 0.07207404288278732, 0.08137718305908688, -0.1146639495072565, -0.1565788916665602, -0.5108078664150244, -0.4334062223813284, -0.6572714857657957, 0.05535916461204423, -0.13137882777799959, 0.27761200217762977, -0.41750929866906733, 0.07312887149398715], \"y\": [0.3955513674722677, 0.1322446115909128, 0.2700848523555295, 0.16809230028541539, 0.22699037481174728, 0.5164814678753531, 0.4415222206116961, 0.1302846226097764, 0.2533712238259241, 0.10496496756723142, -0.13302213327157852, 0.03315894548835138, -0.2700623807017397, -0.009935532055430824, -0.32157104657566615, -0.04901833166635367, 0.06900663418285397, 0.12790470870918585, 0.088821909098263, 0.140812656261734, 0.05140178089805912, -0.09717444457707593, 0.02591215663907176, -0.2857233578811636, -0.032720369698023714, 0.1997107307880659, -0.03827637005074404, -0.09295046864744586, 0.46282097483749496, 0.5360714720006047, 0.3734100994738201, 0.21432870161408016, 0.0766241295719182, -0.21603706986359356, -0.29840321869705294, -0.0674608443884585, -0.7692303989375335]}],                        {\"autosize\": false, \"height\": 500, \"hovermode\": \"closest\", \"margin\": {\"b\": 10, \"l\": 10, \"r\": 10, \"t\": 10}, \"plot_bgcolor\": \"rgba(0,0,0,0)\", \"showlegend\": false, \"template\": {\"data\": {\"bar\": [{\"error_x\": {\"color\": \"#2a3f5f\"}, \"error_y\": {\"color\": \"#2a3f5f\"}, \"marker\": {\"line\": {\"color\": \"#E5ECF6\", \"width\": 0.5}}, \"type\": \"bar\"}], \"barpolar\": [{\"marker\": {\"line\": {\"color\": \"#E5ECF6\", \"width\": 0.5}}, \"type\": \"barpolar\"}], \"carpet\": [{\"aaxis\": {\"endlinecolor\": \"#2a3f5f\", \"gridcolor\": \"white\", \"linecolor\": \"white\", \"minorgridcolor\": \"white\", \"startlinecolor\": \"#2a3f5f\"}, \"baxis\": {\"endlinecolor\": \"#2a3f5f\", \"gridcolor\": \"white\", \"linecolor\": \"white\", \"minorgridcolor\": \"white\", \"startlinecolor\": \"#2a3f5f\"}, \"type\": \"carpet\"}], \"choropleth\": [{\"colorbar\": {\"outlinewidth\": 0, \"ticks\": \"\"}, \"type\": \"choropleth\"}], \"contour\": [{\"colorbar\": {\"outlinewidth\": 0, \"ticks\": \"\"}, \"colorscale\": [[0.0, \"#0d0887\"], [0.1111111111111111, \"#46039f\"], [0.2222222222222222, \"#7201a8\"], [0.3333333333333333, \"#9c179e\"], [0.4444444444444444, \"#bd3786\"], [0.5555555555555556, \"#d8576b\"], [0.6666666666666666, \"#ed7953\"], [0.7777777777777778, \"#fb9f3a\"], [0.8888888888888888, \"#fdca26\"], [1.0, \"#f0f921\"]], \"type\": \"contour\"}], \"contourcarpet\": [{\"colorbar\": {\"outlinewidth\": 0, \"ticks\": \"\"}, \"type\": \"contourcarpet\"}], \"heatmap\": [{\"colorbar\": {\"outlinewidth\": 0, \"ticks\": \"\"}, \"colorscale\": [[0.0, \"#0d0887\"], [0.1111111111111111, \"#46039f\"], [0.2222222222222222, \"#7201a8\"], [0.3333333333333333, \"#9c179e\"], [0.4444444444444444, \"#bd3786\"], [0.5555555555555556, \"#d8576b\"], [0.6666666666666666, \"#ed7953\"], [0.7777777777777778, \"#fb9f3a\"], [0.8888888888888888, \"#fdca26\"], [1.0, \"#f0f921\"]], \"type\": \"heatmap\"}], \"heatmapgl\": [{\"colorbar\": {\"outlinewidth\": 0, \"ticks\": \"\"}, \"colorscale\": [[0.0, \"#0d0887\"], [0.1111111111111111, \"#46039f\"], [0.2222222222222222, \"#7201a8\"], [0.3333333333333333, \"#9c179e\"], [0.4444444444444444, \"#bd3786\"], [0.5555555555555556, \"#d8576b\"], [0.6666666666666666, \"#ed7953\"], [0.7777777777777778, \"#fb9f3a\"], [0.8888888888888888, \"#fdca26\"], [1.0, \"#f0f921\"]], \"type\": \"heatmapgl\"}], \"histogram\": [{\"marker\": {\"colorbar\": {\"outlinewidth\": 0, \"ticks\": \"\"}}, \"type\": \"histogram\"}], \"histogram2d\": [{\"colorbar\": {\"outlinewidth\": 0, \"ticks\": \"\"}, \"colorscale\": [[0.0, \"#0d0887\"], [0.1111111111111111, \"#46039f\"], [0.2222222222222222, \"#7201a8\"], [0.3333333333333333, \"#9c179e\"], [0.4444444444444444, \"#bd3786\"], [0.5555555555555556, \"#d8576b\"], [0.6666666666666666, \"#ed7953\"], [0.7777777777777778, \"#fb9f3a\"], [0.8888888888888888, \"#fdca26\"], [1.0, \"#f0f921\"]], \"type\": \"histogram2d\"}], \"histogram2dcontour\": [{\"colorbar\": {\"outlinewidth\": 0, \"ticks\": \"\"}, \"colorscale\": [[0.0, \"#0d0887\"], [0.1111111111111111, \"#46039f\"], [0.2222222222222222, \"#7201a8\"], [0.3333333333333333, \"#9c179e\"], [0.4444444444444444, \"#bd3786\"], [0.5555555555555556, \"#d8576b\"], [0.6666666666666666, \"#ed7953\"], [0.7777777777777778, \"#fb9f3a\"], [0.8888888888888888, \"#fdca26\"], [1.0, \"#f0f921\"]], \"type\": \"histogram2dcontour\"}], \"mesh3d\": [{\"colorbar\": {\"outlinewidth\": 0, \"ticks\": \"\"}, \"type\": \"mesh3d\"}], \"parcoords\": [{\"line\": {\"colorbar\": {\"outlinewidth\": 0, \"ticks\": \"\"}}, \"type\": \"parcoords\"}], \"pie\": [{\"automargin\": true, \"type\": \"pie\"}], \"scatter\": [{\"marker\": {\"colorbar\": {\"outlinewidth\": 0, \"ticks\": \"\"}}, \"type\": \"scatter\"}], \"scatter3d\": [{\"line\": {\"colorbar\": {\"outlinewidth\": 0, \"ticks\": \"\"}}, \"marker\": {\"colorbar\": {\"outlinewidth\": 0, \"ticks\": \"\"}}, \"type\": \"scatter3d\"}], \"scattercarpet\": [{\"marker\": {\"colorbar\": {\"outlinewidth\": 0, \"ticks\": \"\"}}, \"type\": \"scattercarpet\"}], \"scattergeo\": [{\"marker\": {\"colorbar\": {\"outlinewidth\": 0, \"ticks\": \"\"}}, \"type\": \"scattergeo\"}], \"scattergl\": [{\"marker\": {\"colorbar\": {\"outlinewidth\": 0, \"ticks\": \"\"}}, \"type\": \"scattergl\"}], \"scattermapbox\": [{\"marker\": {\"colorbar\": {\"outlinewidth\": 0, \"ticks\": \"\"}}, \"type\": \"scattermapbox\"}], \"scatterpolar\": [{\"marker\": {\"colorbar\": {\"outlinewidth\": 0, \"ticks\": \"\"}}, \"type\": \"scatterpolar\"}], \"scatterpolargl\": [{\"marker\": {\"colorbar\": {\"outlinewidth\": 0, \"ticks\": \"\"}}, \"type\": \"scatterpolargl\"}], \"scatterternary\": [{\"marker\": {\"colorbar\": {\"outlinewidth\": 0, \"ticks\": \"\"}}, \"type\": \"scatterternary\"}], \"surface\": [{\"colorbar\": {\"outlinewidth\": 0, \"ticks\": \"\"}, \"colorscale\": [[0.0, \"#0d0887\"], [0.1111111111111111, \"#46039f\"], [0.2222222222222222, \"#7201a8\"], [0.3333333333333333, \"#9c179e\"], [0.4444444444444444, \"#bd3786\"], [0.5555555555555556, \"#d8576b\"], [0.6666666666666666, \"#ed7953\"], [0.7777777777777778, \"#fb9f3a\"], [0.8888888888888888, \"#fdca26\"], [1.0, \"#f0f921\"]], \"type\": \"surface\"}], \"table\": [{\"cells\": {\"fill\": {\"color\": \"#EBF0F8\"}, \"line\": {\"color\": \"white\"}}, \"header\": {\"fill\": {\"color\": \"#C8D4E3\"}, \"line\": {\"color\": \"white\"}}, \"type\": \"table\"}]}, \"layout\": {\"annotationdefaults\": {\"arrowcolor\": \"#2a3f5f\", \"arrowhead\": 0, \"arrowwidth\": 1}, \"coloraxis\": {\"colorbar\": {\"outlinewidth\": 0, \"ticks\": \"\"}}, \"colorscale\": {\"diverging\": [[0, \"#8e0152\"], [0.1, \"#c51b7d\"], [0.2, \"#de77ae\"], [0.3, \"#f1b6da\"], [0.4, \"#fde0ef\"], [0.5, \"#f7f7f7\"], [0.6, \"#e6f5d0\"], [0.7, \"#b8e186\"], [0.8, \"#7fbc41\"], [0.9, \"#4d9221\"], [1, \"#276419\"]], \"sequential\": [[0.0, \"#0d0887\"], [0.1111111111111111, \"#46039f\"], [0.2222222222222222, \"#7201a8\"], [0.3333333333333333, \"#9c179e\"], [0.4444444444444444, \"#bd3786\"], [0.5555555555555556, \"#d8576b\"], [0.6666666666666666, \"#ed7953\"], [0.7777777777777778, \"#fb9f3a\"], [0.8888888888888888, \"#fdca26\"], [1.0, \"#f0f921\"]], \"sequentialminus\": [[0.0, \"#0d0887\"], [0.1111111111111111, \"#46039f\"], [0.2222222222222222, \"#7201a8\"], [0.3333333333333333, \"#9c179e\"], [0.4444444444444444, \"#bd3786\"], [0.5555555555555556, \"#d8576b\"], [0.6666666666666666, \"#ed7953\"], [0.7777777777777778, \"#fb9f3a\"], [0.8888888888888888, \"#fdca26\"], [1.0, \"#f0f921\"]]}, \"colorway\": [\"#636efa\", \"#EF553B\", \"#00cc96\", \"#ab63fa\", \"#FFA15A\", \"#19d3f3\", \"#FF6692\", \"#B6E880\", \"#FF97FF\", \"#FECB52\"], \"font\": {\"color\": \"#2a3f5f\"}, \"geo\": {\"bgcolor\": \"white\", \"lakecolor\": \"white\", \"landcolor\": \"#E5ECF6\", \"showlakes\": true, \"showland\": true, \"subunitcolor\": \"white\"}, \"hoverlabel\": {\"align\": \"left\"}, \"hovermode\": \"closest\", \"mapbox\": {\"style\": \"light\"}, \"paper_bgcolor\": \"white\", \"plot_bgcolor\": \"#E5ECF6\", \"polar\": {\"angularaxis\": {\"gridcolor\": \"white\", \"linecolor\": \"white\", \"ticks\": \"\"}, \"bgcolor\": \"#E5ECF6\", \"radialaxis\": {\"gridcolor\": \"white\", \"linecolor\": \"white\", \"ticks\": \"\"}}, \"scene\": {\"xaxis\": {\"backgroundcolor\": \"#E5ECF6\", \"gridcolor\": \"white\", \"gridwidth\": 2, \"linecolor\": \"white\", \"showbackground\": true, \"ticks\": \"\", \"zerolinecolor\": \"white\"}, \"yaxis\": {\"backgroundcolor\": \"#E5ECF6\", \"gridcolor\": \"white\", \"gridwidth\": 2, \"linecolor\": \"white\", \"showbackground\": true, \"ticks\": \"\", \"zerolinecolor\": \"white\"}, \"zaxis\": {\"backgroundcolor\": \"#E5ECF6\", \"gridcolor\": \"white\", \"gridwidth\": 2, \"linecolor\": \"white\", \"showbackground\": true, \"ticks\": \"\", \"zerolinecolor\": \"white\"}}, \"shapedefaults\": {\"line\": {\"color\": \"#2a3f5f\"}}, \"ternary\": {\"aaxis\": {\"gridcolor\": \"white\", \"linecolor\": \"white\", \"ticks\": \"\"}, \"baxis\": {\"gridcolor\": \"white\", \"linecolor\": \"white\", \"ticks\": \"\"}, \"bgcolor\": \"#E5ECF6\", \"caxis\": {\"gridcolor\": \"white\", \"linecolor\": \"white\", \"ticks\": \"\"}}, \"title\": {\"x\": 0.05}, \"xaxis\": {\"automargin\": true, \"gridcolor\": \"white\", \"linecolor\": \"white\", \"ticks\": \"\", \"title\": {\"standoff\": 15}, \"zerolinecolor\": \"white\", \"zerolinewidth\": 2}, \"yaxis\": {\"automargin\": true, \"gridcolor\": \"white\", \"linecolor\": \"white\", \"ticks\": \"\", \"title\": {\"standoff\": 15}, \"zerolinecolor\": \"white\", \"zerolinewidth\": 2}}}, \"title\": {\"font\": {\"size\": 16}}, \"width\": 500, \"xaxis\": {\"showgrid\": false, \"showticklabels\": false, \"zeroline\": false}, \"yaxis\": {\"showgrid\": false, \"showticklabels\": false, \"zeroline\": false}},                        {\"responsive\": true}                    ).then(function(){\n",
       "                            \n",
       "var gd = document.getElementById('8097367c-260e-4560-b14e-2ab89ddb2fc5');\n",
       "var x = new MutationObserver(function (mutations, observer) {{\n",
       "        var display = window.getComputedStyle(gd).display;\n",
       "        if (!display || display === 'none') {{\n",
       "            console.log([gd, 'removed!']);\n",
       "            Plotly.purge(gd);\n",
       "            observer.disconnect();\n",
       "        }}\n",
       "}});\n",
       "\n",
       "// Listen for the removal of the full notebook cells\n",
       "var notebookContainer = gd.closest('#notebook-container');\n",
       "if (notebookContainer) {{\n",
       "    x.observe(notebookContainer, {childList: true});\n",
       "}}\n",
       "\n",
       "// Listen for the clearing of the current output cell\n",
       "var outputEl = gd.closest('.output');\n",
       "if (outputEl) {{\n",
       "    x.observe(outputEl, {childList: true});\n",
       "}}\n",
       "\n",
       "                        })                };                });            </script>        </div>"
      ]
     },
     "metadata": {},
     "output_type": "display_data"
    }
   ],
   "source": [
    "fig = textnet.draw_2d_network(G)\n",
    "fig.show()"
   ]
  },
  {
   "cell_type": "code",
   "execution_count": 726,
   "metadata": {},
   "outputs": [],
   "source": [
    "fig.write_image(\"../figures/authors_network_10tfidf.png\")"
   ]
  },
  {
   "cell_type": "code",
   "execution_count": 728,
   "metadata": {
    "scrolled": true
   },
   "outputs": [
    {
     "data": {
      "application/vnd.plotly.v1+json": {
       "config": {
        "plotlyServerURL": "https://plot.ly"
       },
       "data": [
        {
         "hoverinfo": "text",
         "line": {
          "color": "rgb(125,125,125)",
          "width": 1
         },
         "mode": "lines",
         "text": [
          "0.5",
          "0.5",
          "0.33333",
          "0.5",
          "0.2",
          "0.5",
          "0.5",
          "0.5",
          "0.5",
          "0.5",
          "0.33333",
          "0.5",
          "0.33333",
          "0.5",
          "0.5",
          "0.33333",
          "0.33333",
          "0.33333",
          "0.5",
          "0.5",
          "0.5",
          "0.25",
          "0.33333",
          "0.5",
          "0.5",
          "0.5",
          "0.33333",
          "0.5",
          "0.5",
          "0.5",
          "0.5",
          "0.5",
          "0.33333",
          "0.25",
          "0.5",
          "0.5",
          "0.5"
         ],
         "textposition": "top right",
         "type": "scatter3d",
         "x": [
          0.023278221124647235,
          0.15665131658190806,
          null,
          0.023278221124647235,
          0.10103443091484324,
          null,
          0.023278221124647235,
          -0.08883809635799349,
          null,
          0.023278221124647235,
          -0.14321612109064125,
          null,
          0.023278221124647235,
          0.14386164065802348,
          null,
          0.15665131658190806,
          0.23572946338458278,
          null,
          0.15665131658190806,
          -0.12330290250390347,
          null,
          0.15665131658190806,
          0.3274896441802929,
          null,
          0.15665131658190806,
          0.14386164065802348,
          null,
          0.10103443091484324,
          0.20440754405340344,
          null,
          0.10103443091484324,
          0.3274896441802929,
          null,
          0.10103443091484324,
          -0.08883809635799349,
          null,
          0.10103443091484324,
          0.5393658968838871,
          null,
          0.10103443091484324,
          0.14386164065802348,
          null,
          0.10103443091484324,
          -0.5152734916349431,
          null,
          0.10103443091484324,
          0.01379764542974266,
          null,
          -0.08883809635799349,
          -0.14321612109064125,
          null,
          -0.08883809635799349,
          0.14386164065802348,
          null,
          -0.08883809635799349,
          0.01379764542974266,
          null,
          -0.14321612109064125,
          0.20440754405340344,
          null,
          -0.14321612109064125,
          0.140045006125288,
          null,
          -0.14321612109064125,
          0.3274896441802929,
          null,
          -0.14321612109064125,
          0.14386164065802348,
          null,
          -0.14321612109064125,
          -0.5152734916349431,
          null,
          -0.14321612109064125,
          -0.5024394670224788,
          null,
          0.14386164065802348,
          0.20440754405340344,
          null,
          0.14386164065802348,
          0.3274896441802929,
          null,
          0.14386164065802348,
          0.4874092692733416,
          null,
          0.23572946338458278,
          0.20440754405340344,
          null,
          0.23572946338458278,
          -0.12330290250390347,
          null,
          0.23572946338458278,
          0.140045006125288,
          null,
          -0.12330290250390347,
          -0.5024394670224788,
          null,
          0.3274896441802929,
          0.20440754405340344,
          null,
          0.3274896441802929,
          0.4874092692733416,
          null,
          0.3274896441802929,
          0.5393658968838871,
          null,
          0.140045006125288,
          0.4874092692733416,
          null,
          -1,
          -0.5152734916349431,
          null
         ],
         "y": [
          -0.11358468051436628,
          0.4517085785543053,
          null,
          -0.11358468051436628,
          -0.4338331084445508,
          null,
          -0.11358468051436628,
          -0.40362675316681185,
          null,
          -0.11358468051436628,
          0.046716423621054035,
          null,
          -0.11358468051436628,
          -0.03879469120777338,
          null,
          0.4517085785543053,
          0.7978251475056221,
          null,
          0.4517085785543053,
          0.9956094180103997,
          null,
          0.4517085785543053,
          -0.04489488108873901,
          null,
          0.4517085785543053,
          -0.03879469120777338,
          null,
          -0.4338331084445508,
          0.1532884522546104,
          null,
          -0.4338331084445508,
          -0.04489488108873901,
          null,
          -0.4338331084445508,
          -0.40362675316681185,
          null,
          -0.4338331084445508,
          -0.5505358488062301,
          null,
          -0.4338331084445508,
          -0.03879469120777338,
          null,
          -0.4338331084445508,
          -0.5355715570418501,
          null,
          -0.4338331084445508,
          -0.8950995493916866,
          null,
          -0.40362675316681185,
          0.046716423621054035,
          null,
          -0.40362675316681185,
          -0.03879469120777338,
          null,
          -0.40362675316681185,
          -0.8950995493916866,
          null,
          0.046716423621054035,
          0.1532884522546104,
          null,
          0.046716423621054035,
          0.5927001045229658,
          null,
          0.046716423621054035,
          -0.04489488108873901,
          null,
          0.046716423621054035,
          -0.03879469120777338,
          null,
          0.046716423621054035,
          -0.5355715570418501,
          null,
          0.046716423621054035,
          0.676848371524094,
          null,
          -0.03879469120777338,
          0.1532884522546104,
          null,
          -0.03879469120777338,
          -0.04489488108873901,
          null,
          -0.03879469120777338,
          0.21281490525817162,
          null,
          0.7978251475056221,
          0.1532884522546104,
          null,
          0.7978251475056221,
          0.9956094180103997,
          null,
          0.7978251475056221,
          0.5927001045229658,
          null,
          0.9956094180103997,
          0.676848371524094,
          null,
          -0.04489488108873901,
          0.1532884522546104,
          null,
          -0.04489488108873901,
          0.21281490525817162,
          null,
          -0.04489488108873901,
          -0.5505358488062301,
          null,
          0.5927001045229658,
          0.21281490525817162,
          null,
          -0.9115703315892124,
          -0.5355715570418501,
          null
         ],
         "z": [
          -0.3475393587644459,
          -0.06542754599041738,
          null,
          -0.3475393587644459,
          0.05980730333196144,
          null,
          -0.3475393587644459,
          -0.24696520979653036,
          null,
          -0.3475393587644459,
          -0.02690221740849954,
          null,
          -0.3475393587644459,
          -0.17077860280347903,
          null,
          -0.06542754599041738,
          0.06933446520195354,
          null,
          -0.06542754599041738,
          0.1286860489729885,
          null,
          -0.06542754599041738,
          -0.005327117805704847,
          null,
          -0.06542754599041738,
          -0.17077860280347903,
          null,
          0.05980730333196144,
          0.21500063642312087,
          null,
          0.05980730333196144,
          -0.005327117805704847,
          null,
          0.05980730333196144,
          -0.24696520979653036,
          null,
          0.05980730333196144,
          0.22691770639229303,
          null,
          0.05980730333196144,
          -0.17077860280347903,
          null,
          0.05980730333196144,
          0.32187672026572767,
          null,
          0.05980730333196144,
          -0.1599201878805413,
          null,
          -0.24696520979653036,
          -0.02690221740849954,
          null,
          -0.24696520979653036,
          -0.17077860280347903,
          null,
          -0.24696520979653036,
          -0.1599201878805413,
          null,
          -0.02690221740849954,
          0.21500063642312087,
          null,
          -0.02690221740849954,
          -0.38602723092468066,
          null,
          -0.02690221740849954,
          -0.005327117805704847,
          null,
          -0.02690221740849954,
          -0.17077860280347903,
          null,
          -0.02690221740849954,
          0.32187672026572767,
          null,
          -0.02690221740849954,
          0.1457299887110563,
          null,
          -0.17077860280347903,
          0.21500063642312087,
          null,
          -0.17077860280347903,
          -0.005327117805704847,
          null,
          -0.17077860280347903,
          -0.38149730512496594,
          null,
          0.06933446520195354,
          0.21500063642312087,
          null,
          0.06933446520195354,
          0.1286860489729885,
          null,
          0.06933446520195354,
          -0.38602723092468066,
          null,
          0.1286860489729885,
          0.1457299887110563,
          null,
          -0.005327117805704847,
          0.21500063642312087,
          null,
          -0.005327117805704847,
          -0.38149730512496594,
          null,
          -0.005327117805704847,
          0.22691770639229303,
          null,
          -0.38602723092468066,
          -0.38149730512496594,
          null,
          0.6230319072001649,
          0.32187672026572767,
          null
         ]
        },
        {
         "marker": {
          "color": [
           5,
           5,
           8,
           5,
           8,
           8,
           4,
           3,
           7,
           5,
           3,
           1,
           3,
           2,
           3,
           2,
           2
          ],
          "colorscale": [
           [
            0,
            "rgb(161, 105, 40)"
           ],
           [
            0.16666666666666666,
            "rgb(189, 146, 90)"
           ],
           [
            0.3333333333333333,
            "rgb(214, 189, 141)"
           ],
           [
            0.5,
            "rgb(237, 234, 194)"
           ],
           [
            0.6666666666666666,
            "rgb(181, 200, 184)"
           ],
           [
            0.8333333333333334,
            "rgb(121, 167, 172)"
           ],
           [
            1,
            "rgb(40, 135, 161)"
           ]
          ],
          "line": {
           "color": "rgb(50,50,50)",
           "width": 0.5
          },
          "reversescale": true,
          "size": 6,
          "symbol": "circle"
         },
         "mode": "markers+text",
         "text": [
          "Paul of Tarsus",
          "Clemens Romanus",
          "Origenes",
          "Theophilus Antiochenus",
          "Eusebius",
          "Epiphanius",
          "Pauline literature",
          "GNT rest",
          "Clement of Alexandria",
          "Hermas",
          "Justinus Martyr",
          "Didache",
          "Athanasius of Alexandria",
          "Gregorius Nazianzenus",
          "Athenagoras",
          "Johnannine literature",
          "Basil"
         ],
         "type": "scatter3d",
         "x": [
          0.023278221124647235,
          0.15665131658190806,
          0.10103443091484324,
          -0.08883809635799349,
          -0.14321612109064125,
          0.14386164065802348,
          0.23572946338458278,
          -0.12330290250390347,
          0.3274896441802929,
          0.20440754405340344,
          0.140045006125288,
          -1,
          -0.5152734916349431,
          -0.5024394670224788,
          0.4874092692733416,
          0.5393658968838871,
          0.01379764542974266
         ],
         "y": [
          -0.11358468051436628,
          0.4517085785543053,
          -0.4338331084445508,
          -0.40362675316681185,
          0.046716423621054035,
          -0.03879469120777338,
          0.7978251475056221,
          0.9956094180103997,
          -0.04489488108873901,
          0.1532884522546104,
          0.5927001045229658,
          -0.9115703315892124,
          -0.5355715570418501,
          0.676848371524094,
          0.21281490525817162,
          -0.5505358488062301,
          -0.8950995493916866
         ],
         "z": [
          -0.3475393587644459,
          -0.06542754599041738,
          0.05980730333196144,
          -0.24696520979653036,
          -0.02690221740849954,
          -0.17077860280347903,
          0.06933446520195354,
          0.1286860489729885,
          -0.005327117805704847,
          0.21500063642312087,
          -0.38602723092468066,
          0.6230319072001649,
          0.32187672026572767,
          0.1457299887110563,
          -0.38149730512496594,
          0.22691770639229303,
          -0.1599201878805413
         ]
        },
        {
         "hoverinfo": "text",
         "marker": {
          "opacity": 0
         },
         "mode": "markers",
         "opacity": 0,
         "text": [
          "2",
          "2",
          "3",
          "2",
          "5",
          "2",
          "2",
          "2",
          "2",
          "2",
          "3",
          "2",
          "3",
          "2",
          "2",
          "3",
          "3",
          "3",
          "2",
          "2",
          "2",
          "4",
          "3",
          "2",
          "2",
          "2",
          "3",
          "2",
          "2",
          "2",
          "2",
          "2",
          "3",
          "4",
          "2",
          "2",
          "2"
         ],
         "type": "scatter3d",
         "x": [
          0.08996476885327764,
          0.06215632601974524,
          -0.032779937616673124,
          -0.059968949982997004,
          0.08356993089133535,
          0.19619038998324542,
          0.016674207039002298,
          0.2420704803811005,
          0.15025647861996577,
          0.15272098748412333,
          0.21426203754756806,
          0.006098167278424875,
          0.3202001638993652,
          0.12244803578643336,
          -0.20711953036004993,
          0.057416038172292946,
          -0.11602710872431737,
          0.027511772150014997,
          -0.037520225464125416,
          0.0305957114813811,
          -0.0015855574826766222,
          0.09213676154482583,
          0.0003227597836911178,
          -0.3292448063627922,
          -0.32282779405656004,
          0.17413459235571346,
          0.2356756424191582,
          0.31563545496568257,
          0.2200685037189931,
          0.05621328044033966,
          0.1878872347549354,
          -0.3128711847631911,
          0.2659485941168482,
          0.40744945672681726,
          0.43342777053209003,
          0.3137271376993148,
          -0.7576367458174715
         ],
         "y": [
          0.16906194901996952,
          -0.27370889447945856,
          -0.2586057168405891,
          -0.03343412844665612,
          -0.07618968586106983,
          0.6247668630299636,
          0.7236589982823525,
          0.20340684873278314,
          0.20645694367326595,
          -0.1402723280949702,
          -0.2393639947666449,
          -0.4187299308056813,
          -0.49218447862539044,
          -0.2363138998261621,
          -0.48470233274320046,
          -0.6644663289181187,
          -0.1784551647728789,
          -0.22121072218729262,
          -0.6493631512792493,
          0.10000243793783223,
          0.3197082640720099,
          0.0009107712661575139,
          0.003960866206640327,
          -0.24442756671039803,
          0.361782397572574,
          0.05724688052341852,
          -0.041844786148256194,
          0.08701010702519912,
          0.47555679988011623,
          0.8967172827580109,
          0.695262626014294,
          0.8362288947672469,
          0.0541967855829357,
          0.0839600120847163,
          -0.2977153649474845,
          0.4027575048905687,
          -0.7235709443155313
         ],
         "z": [
          -0.20648345237743165,
          -0.14386602771624224,
          -0.2972522842804881,
          -0.18722078808647272,
          -0.2591589807839625,
          0.001953459605768079,
          0.03162925149128556,
          -0.03537733189806111,
          -0.1181030743969482,
          0.13740396987754117,
          0.027240092763128294,
          -0.09357895323228446,
          0.14336250486212723,
          -0.0554856497357588,
          0.19084201179884455,
          -0.05005644227428993,
          -0.13693371360251494,
          -0.20887190630000468,
          -0.20344269883853583,
          0.09404920950731066,
          -0.2064647241665901,
          -0.016114667607102194,
          -0.09884041010598929,
          0.14748725142861407,
          0.05941388565127838,
          0.022111016809820916,
          -0.08805286030459195,
          -0.27613795396422247,
          0.1421675508125372,
          0.09901025708747102,
          -0.15834638286136357,
          0.13720801884202238,
          0.104836759308708,
          -0.19341221146533538,
          0.11079529429329409,
          -0.38376226802482327,
          0.4724543137329463
         ]
        }
       ],
       "layout": {
        "annotations": [
         {
          "font": {
           "size": 14
          },
          "showarrow": false,
          "text": "",
          "x": 0,
          "xanchor": "left",
          "xref": "paper",
          "y": 0.1,
          "yanchor": "bottom",
          "yref": "paper"
         }
        ],
        "height": 700,
        "hovermode": "closest",
        "margin": {
         "t": 100
        },
        "plot_bgcolor": "rgba(0,0,0,0)",
        "scene": {
         "xaxis": {
          "showbackground": false,
          "showgrid": false,
          "showline": false,
          "showticklabels": false,
          "title": {
           "text": ""
          },
          "zeroline": false
         },
         "yaxis": {
          "showbackground": false,
          "showgrid": false,
          "showline": false,
          "showticklabels": false,
          "title": {
           "text": ""
          },
          "zeroline": false
         },
         "zaxis": {
          "showbackground": false,
          "showgrid": false,
          "showline": false,
          "showticklabels": false,
          "title": {
           "text": ""
          },
          "zeroline": false
         }
        },
        "showlegend": false,
        "template": {
         "data": {
          "bar": [
           {
            "error_x": {
             "color": "#2a3f5f"
            },
            "error_y": {
             "color": "#2a3f5f"
            },
            "marker": {
             "line": {
              "color": "#E5ECF6",
              "width": 0.5
             }
            },
            "type": "bar"
           }
          ],
          "barpolar": [
           {
            "marker": {
             "line": {
              "color": "#E5ECF6",
              "width": 0.5
             }
            },
            "type": "barpolar"
           }
          ],
          "carpet": [
           {
            "aaxis": {
             "endlinecolor": "#2a3f5f",
             "gridcolor": "white",
             "linecolor": "white",
             "minorgridcolor": "white",
             "startlinecolor": "#2a3f5f"
            },
            "baxis": {
             "endlinecolor": "#2a3f5f",
             "gridcolor": "white",
             "linecolor": "white",
             "minorgridcolor": "white",
             "startlinecolor": "#2a3f5f"
            },
            "type": "carpet"
           }
          ],
          "choropleth": [
           {
            "colorbar": {
             "outlinewidth": 0,
             "ticks": ""
            },
            "type": "choropleth"
           }
          ],
          "contour": [
           {
            "colorbar": {
             "outlinewidth": 0,
             "ticks": ""
            },
            "colorscale": [
             [
              0,
              "#0d0887"
             ],
             [
              0.1111111111111111,
              "#46039f"
             ],
             [
              0.2222222222222222,
              "#7201a8"
             ],
             [
              0.3333333333333333,
              "#9c179e"
             ],
             [
              0.4444444444444444,
              "#bd3786"
             ],
             [
              0.5555555555555556,
              "#d8576b"
             ],
             [
              0.6666666666666666,
              "#ed7953"
             ],
             [
              0.7777777777777778,
              "#fb9f3a"
             ],
             [
              0.8888888888888888,
              "#fdca26"
             ],
             [
              1,
              "#f0f921"
             ]
            ],
            "type": "contour"
           }
          ],
          "contourcarpet": [
           {
            "colorbar": {
             "outlinewidth": 0,
             "ticks": ""
            },
            "type": "contourcarpet"
           }
          ],
          "heatmap": [
           {
            "colorbar": {
             "outlinewidth": 0,
             "ticks": ""
            },
            "colorscale": [
             [
              0,
              "#0d0887"
             ],
             [
              0.1111111111111111,
              "#46039f"
             ],
             [
              0.2222222222222222,
              "#7201a8"
             ],
             [
              0.3333333333333333,
              "#9c179e"
             ],
             [
              0.4444444444444444,
              "#bd3786"
             ],
             [
              0.5555555555555556,
              "#d8576b"
             ],
             [
              0.6666666666666666,
              "#ed7953"
             ],
             [
              0.7777777777777778,
              "#fb9f3a"
             ],
             [
              0.8888888888888888,
              "#fdca26"
             ],
             [
              1,
              "#f0f921"
             ]
            ],
            "type": "heatmap"
           }
          ],
          "heatmapgl": [
           {
            "colorbar": {
             "outlinewidth": 0,
             "ticks": ""
            },
            "colorscale": [
             [
              0,
              "#0d0887"
             ],
             [
              0.1111111111111111,
              "#46039f"
             ],
             [
              0.2222222222222222,
              "#7201a8"
             ],
             [
              0.3333333333333333,
              "#9c179e"
             ],
             [
              0.4444444444444444,
              "#bd3786"
             ],
             [
              0.5555555555555556,
              "#d8576b"
             ],
             [
              0.6666666666666666,
              "#ed7953"
             ],
             [
              0.7777777777777778,
              "#fb9f3a"
             ],
             [
              0.8888888888888888,
              "#fdca26"
             ],
             [
              1,
              "#f0f921"
             ]
            ],
            "type": "heatmapgl"
           }
          ],
          "histogram": [
           {
            "marker": {
             "colorbar": {
              "outlinewidth": 0,
              "ticks": ""
             }
            },
            "type": "histogram"
           }
          ],
          "histogram2d": [
           {
            "colorbar": {
             "outlinewidth": 0,
             "ticks": ""
            },
            "colorscale": [
             [
              0,
              "#0d0887"
             ],
             [
              0.1111111111111111,
              "#46039f"
             ],
             [
              0.2222222222222222,
              "#7201a8"
             ],
             [
              0.3333333333333333,
              "#9c179e"
             ],
             [
              0.4444444444444444,
              "#bd3786"
             ],
             [
              0.5555555555555556,
              "#d8576b"
             ],
             [
              0.6666666666666666,
              "#ed7953"
             ],
             [
              0.7777777777777778,
              "#fb9f3a"
             ],
             [
              0.8888888888888888,
              "#fdca26"
             ],
             [
              1,
              "#f0f921"
             ]
            ],
            "type": "histogram2d"
           }
          ],
          "histogram2dcontour": [
           {
            "colorbar": {
             "outlinewidth": 0,
             "ticks": ""
            },
            "colorscale": [
             [
              0,
              "#0d0887"
             ],
             [
              0.1111111111111111,
              "#46039f"
             ],
             [
              0.2222222222222222,
              "#7201a8"
             ],
             [
              0.3333333333333333,
              "#9c179e"
             ],
             [
              0.4444444444444444,
              "#bd3786"
             ],
             [
              0.5555555555555556,
              "#d8576b"
             ],
             [
              0.6666666666666666,
              "#ed7953"
             ],
             [
              0.7777777777777778,
              "#fb9f3a"
             ],
             [
              0.8888888888888888,
              "#fdca26"
             ],
             [
              1,
              "#f0f921"
             ]
            ],
            "type": "histogram2dcontour"
           }
          ],
          "mesh3d": [
           {
            "colorbar": {
             "outlinewidth": 0,
             "ticks": ""
            },
            "type": "mesh3d"
           }
          ],
          "parcoords": [
           {
            "line": {
             "colorbar": {
              "outlinewidth": 0,
              "ticks": ""
             }
            },
            "type": "parcoords"
           }
          ],
          "pie": [
           {
            "automargin": true,
            "type": "pie"
           }
          ],
          "scatter": [
           {
            "marker": {
             "colorbar": {
              "outlinewidth": 0,
              "ticks": ""
             }
            },
            "type": "scatter"
           }
          ],
          "scatter3d": [
           {
            "line": {
             "colorbar": {
              "outlinewidth": 0,
              "ticks": ""
             }
            },
            "marker": {
             "colorbar": {
              "outlinewidth": 0,
              "ticks": ""
             }
            },
            "type": "scatter3d"
           }
          ],
          "scattercarpet": [
           {
            "marker": {
             "colorbar": {
              "outlinewidth": 0,
              "ticks": ""
             }
            },
            "type": "scattercarpet"
           }
          ],
          "scattergeo": [
           {
            "marker": {
             "colorbar": {
              "outlinewidth": 0,
              "ticks": ""
             }
            },
            "type": "scattergeo"
           }
          ],
          "scattergl": [
           {
            "marker": {
             "colorbar": {
              "outlinewidth": 0,
              "ticks": ""
             }
            },
            "type": "scattergl"
           }
          ],
          "scattermapbox": [
           {
            "marker": {
             "colorbar": {
              "outlinewidth": 0,
              "ticks": ""
             }
            },
            "type": "scattermapbox"
           }
          ],
          "scatterpolar": [
           {
            "marker": {
             "colorbar": {
              "outlinewidth": 0,
              "ticks": ""
             }
            },
            "type": "scatterpolar"
           }
          ],
          "scatterpolargl": [
           {
            "marker": {
             "colorbar": {
              "outlinewidth": 0,
              "ticks": ""
             }
            },
            "type": "scatterpolargl"
           }
          ],
          "scatterternary": [
           {
            "marker": {
             "colorbar": {
              "outlinewidth": 0,
              "ticks": ""
             }
            },
            "type": "scatterternary"
           }
          ],
          "surface": [
           {
            "colorbar": {
             "outlinewidth": 0,
             "ticks": ""
            },
            "colorscale": [
             [
              0,
              "#0d0887"
             ],
             [
              0.1111111111111111,
              "#46039f"
             ],
             [
              0.2222222222222222,
              "#7201a8"
             ],
             [
              0.3333333333333333,
              "#9c179e"
             ],
             [
              0.4444444444444444,
              "#bd3786"
             ],
             [
              0.5555555555555556,
              "#d8576b"
             ],
             [
              0.6666666666666666,
              "#ed7953"
             ],
             [
              0.7777777777777778,
              "#fb9f3a"
             ],
             [
              0.8888888888888888,
              "#fdca26"
             ],
             [
              1,
              "#f0f921"
             ]
            ],
            "type": "surface"
           }
          ],
          "table": [
           {
            "cells": {
             "fill": {
              "color": "#EBF0F8"
             },
             "line": {
              "color": "white"
             }
            },
            "header": {
             "fill": {
              "color": "#C8D4E3"
             },
             "line": {
              "color": "white"
             }
            },
            "type": "table"
           }
          ]
         },
         "layout": {
          "annotationdefaults": {
           "arrowcolor": "#2a3f5f",
           "arrowhead": 0,
           "arrowwidth": 1
          },
          "coloraxis": {
           "colorbar": {
            "outlinewidth": 0,
            "ticks": ""
           }
          },
          "colorscale": {
           "diverging": [
            [
             0,
             "#8e0152"
            ],
            [
             0.1,
             "#c51b7d"
            ],
            [
             0.2,
             "#de77ae"
            ],
            [
             0.3,
             "#f1b6da"
            ],
            [
             0.4,
             "#fde0ef"
            ],
            [
             0.5,
             "#f7f7f7"
            ],
            [
             0.6,
             "#e6f5d0"
            ],
            [
             0.7,
             "#b8e186"
            ],
            [
             0.8,
             "#7fbc41"
            ],
            [
             0.9,
             "#4d9221"
            ],
            [
             1,
             "#276419"
            ]
           ],
           "sequential": [
            [
             0,
             "#0d0887"
            ],
            [
             0.1111111111111111,
             "#46039f"
            ],
            [
             0.2222222222222222,
             "#7201a8"
            ],
            [
             0.3333333333333333,
             "#9c179e"
            ],
            [
             0.4444444444444444,
             "#bd3786"
            ],
            [
             0.5555555555555556,
             "#d8576b"
            ],
            [
             0.6666666666666666,
             "#ed7953"
            ],
            [
             0.7777777777777778,
             "#fb9f3a"
            ],
            [
             0.8888888888888888,
             "#fdca26"
            ],
            [
             1,
             "#f0f921"
            ]
           ],
           "sequentialminus": [
            [
             0,
             "#0d0887"
            ],
            [
             0.1111111111111111,
             "#46039f"
            ],
            [
             0.2222222222222222,
             "#7201a8"
            ],
            [
             0.3333333333333333,
             "#9c179e"
            ],
            [
             0.4444444444444444,
             "#bd3786"
            ],
            [
             0.5555555555555556,
             "#d8576b"
            ],
            [
             0.6666666666666666,
             "#ed7953"
            ],
            [
             0.7777777777777778,
             "#fb9f3a"
            ],
            [
             0.8888888888888888,
             "#fdca26"
            ],
            [
             1,
             "#f0f921"
            ]
           ]
          },
          "colorway": [
           "#636efa",
           "#EF553B",
           "#00cc96",
           "#ab63fa",
           "#FFA15A",
           "#19d3f3",
           "#FF6692",
           "#B6E880",
           "#FF97FF",
           "#FECB52"
          ],
          "font": {
           "color": "#2a3f5f"
          },
          "geo": {
           "bgcolor": "white",
           "lakecolor": "white",
           "landcolor": "#E5ECF6",
           "showlakes": true,
           "showland": true,
           "subunitcolor": "white"
          },
          "hoverlabel": {
           "align": "left"
          },
          "hovermode": "closest",
          "mapbox": {
           "style": "light"
          },
          "paper_bgcolor": "white",
          "plot_bgcolor": "#E5ECF6",
          "polar": {
           "angularaxis": {
            "gridcolor": "white",
            "linecolor": "white",
            "ticks": ""
           },
           "bgcolor": "#E5ECF6",
           "radialaxis": {
            "gridcolor": "white",
            "linecolor": "white",
            "ticks": ""
           }
          },
          "scene": {
           "xaxis": {
            "backgroundcolor": "#E5ECF6",
            "gridcolor": "white",
            "gridwidth": 2,
            "linecolor": "white",
            "showbackground": true,
            "ticks": "",
            "zerolinecolor": "white"
           },
           "yaxis": {
            "backgroundcolor": "#E5ECF6",
            "gridcolor": "white",
            "gridwidth": 2,
            "linecolor": "white",
            "showbackground": true,
            "ticks": "",
            "zerolinecolor": "white"
           },
           "zaxis": {
            "backgroundcolor": "#E5ECF6",
            "gridcolor": "white",
            "gridwidth": 2,
            "linecolor": "white",
            "showbackground": true,
            "ticks": "",
            "zerolinecolor": "white"
           }
          },
          "shapedefaults": {
           "line": {
            "color": "#2a3f5f"
           }
          },
          "ternary": {
           "aaxis": {
            "gridcolor": "white",
            "linecolor": "white",
            "ticks": ""
           },
           "baxis": {
            "gridcolor": "white",
            "linecolor": "white",
            "ticks": ""
           },
           "bgcolor": "#E5ECF6",
           "caxis": {
            "gridcolor": "white",
            "linecolor": "white",
            "ticks": ""
           }
          },
          "title": {
           "x": 0.05
          },
          "xaxis": {
           "automargin": true,
           "gridcolor": "white",
           "linecolor": "white",
           "ticks": "",
           "title": {
            "standoff": 15
           },
           "zerolinecolor": "white",
           "zerolinewidth": 2
          },
          "yaxis": {
           "automargin": true,
           "gridcolor": "white",
           "linecolor": "white",
           "ticks": "",
           "title": {
            "standoff": 15
           },
           "zerolinecolor": "white",
           "zerolinewidth": 2
          }
         }
        },
        "title": {
         "text": ""
        },
        "width": 900
       }
      },
      "text/html": [
       "<div>                            <div id=\"222bc35a-12ba-4244-ae53-e0a9a4127e86\" class=\"plotly-graph-div\" style=\"height:700px; width:900px;\"></div>            <script type=\"text/javascript\">                require([\"plotly\"], function(Plotly) {                    window.PLOTLYENV=window.PLOTLYENV || {};                                    if (document.getElementById(\"222bc35a-12ba-4244-ae53-e0a9a4127e86\")) {                    Plotly.newPlot(                        \"222bc35a-12ba-4244-ae53-e0a9a4127e86\",                        [{\"hoverinfo\": \"text\", \"line\": {\"color\": \"rgb(125,125,125)\", \"width\": 1}, \"mode\": \"lines\", \"text\": [\"0.5\", \"0.5\", \"0.33333\", \"0.5\", \"0.2\", \"0.5\", \"0.5\", \"0.5\", \"0.5\", \"0.5\", \"0.33333\", \"0.5\", \"0.33333\", \"0.5\", \"0.5\", \"0.33333\", \"0.33333\", \"0.33333\", \"0.5\", \"0.5\", \"0.5\", \"0.25\", \"0.33333\", \"0.5\", \"0.5\", \"0.5\", \"0.33333\", \"0.5\", \"0.5\", \"0.5\", \"0.5\", \"0.5\", \"0.33333\", \"0.25\", \"0.5\", \"0.5\", \"0.5\"], \"textposition\": \"top right\", \"type\": \"scatter3d\", \"x\": [0.023278221124647235, 0.15665131658190806, null, 0.023278221124647235, 0.10103443091484324, null, 0.023278221124647235, -0.08883809635799349, null, 0.023278221124647235, -0.14321612109064125, null, 0.023278221124647235, 0.14386164065802348, null, 0.15665131658190806, 0.23572946338458278, null, 0.15665131658190806, -0.12330290250390347, null, 0.15665131658190806, 0.3274896441802929, null, 0.15665131658190806, 0.14386164065802348, null, 0.10103443091484324, 0.20440754405340344, null, 0.10103443091484324, 0.3274896441802929, null, 0.10103443091484324, -0.08883809635799349, null, 0.10103443091484324, 0.5393658968838871, null, 0.10103443091484324, 0.14386164065802348, null, 0.10103443091484324, -0.5152734916349431, null, 0.10103443091484324, 0.01379764542974266, null, -0.08883809635799349, -0.14321612109064125, null, -0.08883809635799349, 0.14386164065802348, null, -0.08883809635799349, 0.01379764542974266, null, -0.14321612109064125, 0.20440754405340344, null, -0.14321612109064125, 0.140045006125288, null, -0.14321612109064125, 0.3274896441802929, null, -0.14321612109064125, 0.14386164065802348, null, -0.14321612109064125, -0.5152734916349431, null, -0.14321612109064125, -0.5024394670224788, null, 0.14386164065802348, 0.20440754405340344, null, 0.14386164065802348, 0.3274896441802929, null, 0.14386164065802348, 0.4874092692733416, null, 0.23572946338458278, 0.20440754405340344, null, 0.23572946338458278, -0.12330290250390347, null, 0.23572946338458278, 0.140045006125288, null, -0.12330290250390347, -0.5024394670224788, null, 0.3274896441802929, 0.20440754405340344, null, 0.3274896441802929, 0.4874092692733416, null, 0.3274896441802929, 0.5393658968838871, null, 0.140045006125288, 0.4874092692733416, null, -1.0, -0.5152734916349431, null], \"y\": [-0.11358468051436628, 0.4517085785543053, null, -0.11358468051436628, -0.4338331084445508, null, -0.11358468051436628, -0.40362675316681185, null, -0.11358468051436628, 0.046716423621054035, null, -0.11358468051436628, -0.03879469120777338, null, 0.4517085785543053, 0.7978251475056221, null, 0.4517085785543053, 0.9956094180103997, null, 0.4517085785543053, -0.04489488108873901, null, 0.4517085785543053, -0.03879469120777338, null, -0.4338331084445508, 0.1532884522546104, null, -0.4338331084445508, -0.04489488108873901, null, -0.4338331084445508, -0.40362675316681185, null, -0.4338331084445508, -0.5505358488062301, null, -0.4338331084445508, -0.03879469120777338, null, -0.4338331084445508, -0.5355715570418501, null, -0.4338331084445508, -0.8950995493916866, null, -0.40362675316681185, 0.046716423621054035, null, -0.40362675316681185, -0.03879469120777338, null, -0.40362675316681185, -0.8950995493916866, null, 0.046716423621054035, 0.1532884522546104, null, 0.046716423621054035, 0.5927001045229658, null, 0.046716423621054035, -0.04489488108873901, null, 0.046716423621054035, -0.03879469120777338, null, 0.046716423621054035, -0.5355715570418501, null, 0.046716423621054035, 0.676848371524094, null, -0.03879469120777338, 0.1532884522546104, null, -0.03879469120777338, -0.04489488108873901, null, -0.03879469120777338, 0.21281490525817162, null, 0.7978251475056221, 0.1532884522546104, null, 0.7978251475056221, 0.9956094180103997, null, 0.7978251475056221, 0.5927001045229658, null, 0.9956094180103997, 0.676848371524094, null, -0.04489488108873901, 0.1532884522546104, null, -0.04489488108873901, 0.21281490525817162, null, -0.04489488108873901, -0.5505358488062301, null, 0.5927001045229658, 0.21281490525817162, null, -0.9115703315892124, -0.5355715570418501, null], \"z\": [-0.3475393587644459, -0.06542754599041738, null, -0.3475393587644459, 0.05980730333196144, null, -0.3475393587644459, -0.24696520979653036, null, -0.3475393587644459, -0.02690221740849954, null, -0.3475393587644459, -0.17077860280347903, null, -0.06542754599041738, 0.06933446520195354, null, -0.06542754599041738, 0.1286860489729885, null, -0.06542754599041738, -0.005327117805704847, null, -0.06542754599041738, -0.17077860280347903, null, 0.05980730333196144, 0.21500063642312087, null, 0.05980730333196144, -0.005327117805704847, null, 0.05980730333196144, -0.24696520979653036, null, 0.05980730333196144, 0.22691770639229303, null, 0.05980730333196144, -0.17077860280347903, null, 0.05980730333196144, 0.32187672026572767, null, 0.05980730333196144, -0.1599201878805413, null, -0.24696520979653036, -0.02690221740849954, null, -0.24696520979653036, -0.17077860280347903, null, -0.24696520979653036, -0.1599201878805413, null, -0.02690221740849954, 0.21500063642312087, null, -0.02690221740849954, -0.38602723092468066, null, -0.02690221740849954, -0.005327117805704847, null, -0.02690221740849954, -0.17077860280347903, null, -0.02690221740849954, 0.32187672026572767, null, -0.02690221740849954, 0.1457299887110563, null, -0.17077860280347903, 0.21500063642312087, null, -0.17077860280347903, -0.005327117805704847, null, -0.17077860280347903, -0.38149730512496594, null, 0.06933446520195354, 0.21500063642312087, null, 0.06933446520195354, 0.1286860489729885, null, 0.06933446520195354, -0.38602723092468066, null, 0.1286860489729885, 0.1457299887110563, null, -0.005327117805704847, 0.21500063642312087, null, -0.005327117805704847, -0.38149730512496594, null, -0.005327117805704847, 0.22691770639229303, null, -0.38602723092468066, -0.38149730512496594, null, 0.6230319072001649, 0.32187672026572767, null]}, {\"marker\": {\"color\": [5, 5, 8, 5, 8, 8, 4, 3, 7, 5, 3, 1, 3, 2, 3, 2, 2], \"colorscale\": [[0.0, \"rgb(161, 105, 40)\"], [0.16666666666666666, \"rgb(189, 146, 90)\"], [0.3333333333333333, \"rgb(214, 189, 141)\"], [0.5, \"rgb(237, 234, 194)\"], [0.6666666666666666, \"rgb(181, 200, 184)\"], [0.8333333333333334, \"rgb(121, 167, 172)\"], [1.0, \"rgb(40, 135, 161)\"]], \"line\": {\"color\": \"rgb(50,50,50)\", \"width\": 0.5}, \"reversescale\": true, \"size\": 6, \"symbol\": \"circle\"}, \"mode\": \"markers+text\", \"text\": [\"Paul of Tarsus\", \"Clemens Romanus\", \"Origenes\", \"Theophilus Antiochenus\", \"Eusebius\", \"Epiphanius\", \"Pauline literature\", \"GNT rest\", \"Clement of Alexandria\", \"Hermas\", \"Justinus Martyr\", \"Didache\", \"Athanasius of Alexandria\", \"Gregorius Nazianzenus\", \"Athenagoras\", \"Johnannine literature\", \"Basil\"], \"type\": \"scatter3d\", \"x\": [0.023278221124647235, 0.15665131658190806, 0.10103443091484324, -0.08883809635799349, -0.14321612109064125, 0.14386164065802348, 0.23572946338458278, -0.12330290250390347, 0.3274896441802929, 0.20440754405340344, 0.140045006125288, -1.0, -0.5152734916349431, -0.5024394670224788, 0.4874092692733416, 0.5393658968838871, 0.01379764542974266], \"y\": [-0.11358468051436628, 0.4517085785543053, -0.4338331084445508, -0.40362675316681185, 0.046716423621054035, -0.03879469120777338, 0.7978251475056221, 0.9956094180103997, -0.04489488108873901, 0.1532884522546104, 0.5927001045229658, -0.9115703315892124, -0.5355715570418501, 0.676848371524094, 0.21281490525817162, -0.5505358488062301, -0.8950995493916866], \"z\": [-0.3475393587644459, -0.06542754599041738, 0.05980730333196144, -0.24696520979653036, -0.02690221740849954, -0.17077860280347903, 0.06933446520195354, 0.1286860489729885, -0.005327117805704847, 0.21500063642312087, -0.38602723092468066, 0.6230319072001649, 0.32187672026572767, 0.1457299887110563, -0.38149730512496594, 0.22691770639229303, -0.1599201878805413]}, {\"hoverinfo\": \"text\", \"marker\": {\"opacity\": 0}, \"mode\": \"markers\", \"opacity\": 0, \"text\": [\"2\", \"2\", \"3\", \"2\", \"5\", \"2\", \"2\", \"2\", \"2\", \"2\", \"3\", \"2\", \"3\", \"2\", \"2\", \"3\", \"3\", \"3\", \"2\", \"2\", \"2\", \"4\", \"3\", \"2\", \"2\", \"2\", \"3\", \"2\", \"2\", \"2\", \"2\", \"2\", \"3\", \"4\", \"2\", \"2\", \"2\"], \"type\": \"scatter3d\", \"x\": [0.08996476885327764, 0.06215632601974524, -0.032779937616673124, -0.059968949982997004, 0.08356993089133535, 0.19619038998324542, 0.016674207039002298, 0.2420704803811005, 0.15025647861996577, 0.15272098748412333, 0.21426203754756806, 0.006098167278424875, 0.3202001638993652, 0.12244803578643336, -0.20711953036004993, 0.057416038172292946, -0.11602710872431737, 0.027511772150014997, -0.037520225464125416, 0.0305957114813811, -0.0015855574826766222, 0.09213676154482583, 0.0003227597836911178, -0.3292448063627922, -0.32282779405656004, 0.17413459235571346, 0.2356756424191582, 0.31563545496568257, 0.2200685037189931, 0.05621328044033966, 0.1878872347549354, -0.3128711847631911, 0.2659485941168482, 0.40744945672681726, 0.43342777053209003, 0.3137271376993148, -0.7576367458174715], \"y\": [0.16906194901996952, -0.27370889447945856, -0.2586057168405891, -0.03343412844665612, -0.07618968586106983, 0.6247668630299636, 0.7236589982823525, 0.20340684873278314, 0.20645694367326595, -0.1402723280949702, -0.2393639947666449, -0.4187299308056813, -0.49218447862539044, -0.2363138998261621, -0.48470233274320046, -0.6644663289181187, -0.1784551647728789, -0.22121072218729262, -0.6493631512792493, 0.10000243793783223, 0.3197082640720099, 0.0009107712661575139, 0.003960866206640327, -0.24442756671039803, 0.361782397572574, 0.05724688052341852, -0.041844786148256194, 0.08701010702519912, 0.47555679988011623, 0.8967172827580109, 0.695262626014294, 0.8362288947672469, 0.0541967855829357, 0.0839600120847163, -0.2977153649474845, 0.4027575048905687, -0.7235709443155313], \"z\": [-0.20648345237743165, -0.14386602771624224, -0.2972522842804881, -0.18722078808647272, -0.2591589807839625, 0.001953459605768079, 0.03162925149128556, -0.03537733189806111, -0.1181030743969482, 0.13740396987754117, 0.027240092763128294, -0.09357895323228446, 0.14336250486212723, -0.0554856497357588, 0.19084201179884455, -0.05005644227428993, -0.13693371360251494, -0.20887190630000468, -0.20344269883853583, 0.09404920950731066, -0.2064647241665901, -0.016114667607102194, -0.09884041010598929, 0.14748725142861407, 0.05941388565127838, 0.022111016809820916, -0.08805286030459195, -0.27613795396422247, 0.1421675508125372, 0.09901025708747102, -0.15834638286136357, 0.13720801884202238, 0.104836759308708, -0.19341221146533538, 0.11079529429329409, -0.38376226802482327, 0.4724543137329463]}],                        {\"annotations\": [{\"font\": {\"size\": 14}, \"showarrow\": false, \"text\": \"\", \"x\": 0, \"xanchor\": \"left\", \"xref\": \"paper\", \"y\": 0.1, \"yanchor\": \"bottom\", \"yref\": \"paper\"}], \"height\": 700, \"hovermode\": \"closest\", \"margin\": {\"t\": 100}, \"plot_bgcolor\": \"rgba(0,0,0,0)\", \"scene\": {\"xaxis\": {\"showbackground\": false, \"showgrid\": false, \"showline\": false, \"showticklabels\": false, \"title\": {\"text\": \"\"}, \"zeroline\": false}, \"yaxis\": {\"showbackground\": false, \"showgrid\": false, \"showline\": false, \"showticklabels\": false, \"title\": {\"text\": \"\"}, \"zeroline\": false}, \"zaxis\": {\"showbackground\": false, \"showgrid\": false, \"showline\": false, \"showticklabels\": false, \"title\": {\"text\": \"\"}, \"zeroline\": false}}, \"showlegend\": false, \"template\": {\"data\": {\"bar\": [{\"error_x\": {\"color\": \"#2a3f5f\"}, \"error_y\": {\"color\": \"#2a3f5f\"}, \"marker\": {\"line\": {\"color\": \"#E5ECF6\", \"width\": 0.5}}, \"type\": \"bar\"}], \"barpolar\": [{\"marker\": {\"line\": {\"color\": \"#E5ECF6\", \"width\": 0.5}}, \"type\": \"barpolar\"}], \"carpet\": [{\"aaxis\": {\"endlinecolor\": \"#2a3f5f\", \"gridcolor\": \"white\", \"linecolor\": \"white\", \"minorgridcolor\": \"white\", \"startlinecolor\": \"#2a3f5f\"}, \"baxis\": {\"endlinecolor\": \"#2a3f5f\", \"gridcolor\": \"white\", \"linecolor\": \"white\", \"minorgridcolor\": \"white\", \"startlinecolor\": \"#2a3f5f\"}, \"type\": \"carpet\"}], \"choropleth\": [{\"colorbar\": {\"outlinewidth\": 0, \"ticks\": \"\"}, \"type\": \"choropleth\"}], \"contour\": [{\"colorbar\": {\"outlinewidth\": 0, \"ticks\": \"\"}, \"colorscale\": [[0.0, \"#0d0887\"], [0.1111111111111111, \"#46039f\"], [0.2222222222222222, \"#7201a8\"], [0.3333333333333333, \"#9c179e\"], [0.4444444444444444, \"#bd3786\"], [0.5555555555555556, \"#d8576b\"], [0.6666666666666666, \"#ed7953\"], [0.7777777777777778, \"#fb9f3a\"], [0.8888888888888888, \"#fdca26\"], [1.0, \"#f0f921\"]], \"type\": \"contour\"}], \"contourcarpet\": [{\"colorbar\": {\"outlinewidth\": 0, \"ticks\": \"\"}, \"type\": \"contourcarpet\"}], \"heatmap\": [{\"colorbar\": {\"outlinewidth\": 0, \"ticks\": \"\"}, \"colorscale\": [[0.0, \"#0d0887\"], [0.1111111111111111, \"#46039f\"], [0.2222222222222222, \"#7201a8\"], [0.3333333333333333, \"#9c179e\"], [0.4444444444444444, \"#bd3786\"], [0.5555555555555556, \"#d8576b\"], [0.6666666666666666, \"#ed7953\"], [0.7777777777777778, \"#fb9f3a\"], [0.8888888888888888, \"#fdca26\"], [1.0, \"#f0f921\"]], \"type\": \"heatmap\"}], \"heatmapgl\": [{\"colorbar\": {\"outlinewidth\": 0, \"ticks\": \"\"}, \"colorscale\": [[0.0, \"#0d0887\"], [0.1111111111111111, \"#46039f\"], [0.2222222222222222, \"#7201a8\"], [0.3333333333333333, \"#9c179e\"], [0.4444444444444444, \"#bd3786\"], [0.5555555555555556, \"#d8576b\"], [0.6666666666666666, \"#ed7953\"], [0.7777777777777778, \"#fb9f3a\"], [0.8888888888888888, \"#fdca26\"], [1.0, \"#f0f921\"]], \"type\": \"heatmapgl\"}], \"histogram\": [{\"marker\": {\"colorbar\": {\"outlinewidth\": 0, \"ticks\": \"\"}}, \"type\": \"histogram\"}], \"histogram2d\": [{\"colorbar\": {\"outlinewidth\": 0, \"ticks\": \"\"}, \"colorscale\": [[0.0, \"#0d0887\"], [0.1111111111111111, \"#46039f\"], [0.2222222222222222, \"#7201a8\"], [0.3333333333333333, \"#9c179e\"], [0.4444444444444444, \"#bd3786\"], [0.5555555555555556, \"#d8576b\"], [0.6666666666666666, \"#ed7953\"], [0.7777777777777778, \"#fb9f3a\"], [0.8888888888888888, \"#fdca26\"], [1.0, \"#f0f921\"]], \"type\": \"histogram2d\"}], \"histogram2dcontour\": [{\"colorbar\": {\"outlinewidth\": 0, \"ticks\": \"\"}, \"colorscale\": [[0.0, \"#0d0887\"], [0.1111111111111111, \"#46039f\"], [0.2222222222222222, \"#7201a8\"], [0.3333333333333333, \"#9c179e\"], [0.4444444444444444, \"#bd3786\"], [0.5555555555555556, \"#d8576b\"], [0.6666666666666666, \"#ed7953\"], [0.7777777777777778, \"#fb9f3a\"], [0.8888888888888888, \"#fdca26\"], [1.0, \"#f0f921\"]], \"type\": \"histogram2dcontour\"}], \"mesh3d\": [{\"colorbar\": {\"outlinewidth\": 0, \"ticks\": \"\"}, \"type\": \"mesh3d\"}], \"parcoords\": [{\"line\": {\"colorbar\": {\"outlinewidth\": 0, \"ticks\": \"\"}}, \"type\": \"parcoords\"}], \"pie\": [{\"automargin\": true, \"type\": \"pie\"}], \"scatter\": [{\"marker\": {\"colorbar\": {\"outlinewidth\": 0, \"ticks\": \"\"}}, \"type\": \"scatter\"}], \"scatter3d\": [{\"line\": {\"colorbar\": {\"outlinewidth\": 0, \"ticks\": \"\"}}, \"marker\": {\"colorbar\": {\"outlinewidth\": 0, \"ticks\": \"\"}}, \"type\": \"scatter3d\"}], \"scattercarpet\": [{\"marker\": {\"colorbar\": {\"outlinewidth\": 0, \"ticks\": \"\"}}, \"type\": \"scattercarpet\"}], \"scattergeo\": [{\"marker\": {\"colorbar\": {\"outlinewidth\": 0, \"ticks\": \"\"}}, \"type\": \"scattergeo\"}], \"scattergl\": [{\"marker\": {\"colorbar\": {\"outlinewidth\": 0, \"ticks\": \"\"}}, \"type\": \"scattergl\"}], \"scattermapbox\": [{\"marker\": {\"colorbar\": {\"outlinewidth\": 0, \"ticks\": \"\"}}, \"type\": \"scattermapbox\"}], \"scatterpolar\": [{\"marker\": {\"colorbar\": {\"outlinewidth\": 0, \"ticks\": \"\"}}, \"type\": \"scatterpolar\"}], \"scatterpolargl\": [{\"marker\": {\"colorbar\": {\"outlinewidth\": 0, \"ticks\": \"\"}}, \"type\": \"scatterpolargl\"}], \"scatterternary\": [{\"marker\": {\"colorbar\": {\"outlinewidth\": 0, \"ticks\": \"\"}}, \"type\": \"scatterternary\"}], \"surface\": [{\"colorbar\": {\"outlinewidth\": 0, \"ticks\": \"\"}, \"colorscale\": [[0.0, \"#0d0887\"], [0.1111111111111111, \"#46039f\"], [0.2222222222222222, \"#7201a8\"], [0.3333333333333333, \"#9c179e\"], [0.4444444444444444, \"#bd3786\"], [0.5555555555555556, \"#d8576b\"], [0.6666666666666666, \"#ed7953\"], [0.7777777777777778, \"#fb9f3a\"], [0.8888888888888888, \"#fdca26\"], [1.0, \"#f0f921\"]], \"type\": \"surface\"}], \"table\": [{\"cells\": {\"fill\": {\"color\": \"#EBF0F8\"}, \"line\": {\"color\": \"white\"}}, \"header\": {\"fill\": {\"color\": \"#C8D4E3\"}, \"line\": {\"color\": \"white\"}}, \"type\": \"table\"}]}, \"layout\": {\"annotationdefaults\": {\"arrowcolor\": \"#2a3f5f\", \"arrowhead\": 0, \"arrowwidth\": 1}, \"coloraxis\": {\"colorbar\": {\"outlinewidth\": 0, \"ticks\": \"\"}}, \"colorscale\": {\"diverging\": [[0, \"#8e0152\"], [0.1, \"#c51b7d\"], [0.2, \"#de77ae\"], [0.3, \"#f1b6da\"], [0.4, \"#fde0ef\"], [0.5, \"#f7f7f7\"], [0.6, \"#e6f5d0\"], [0.7, \"#b8e186\"], [0.8, \"#7fbc41\"], [0.9, \"#4d9221\"], [1, \"#276419\"]], \"sequential\": [[0.0, \"#0d0887\"], [0.1111111111111111, \"#46039f\"], [0.2222222222222222, \"#7201a8\"], [0.3333333333333333, \"#9c179e\"], [0.4444444444444444, \"#bd3786\"], [0.5555555555555556, \"#d8576b\"], [0.6666666666666666, \"#ed7953\"], [0.7777777777777778, \"#fb9f3a\"], [0.8888888888888888, \"#fdca26\"], [1.0, \"#f0f921\"]], \"sequentialminus\": [[0.0, \"#0d0887\"], [0.1111111111111111, \"#46039f\"], [0.2222222222222222, \"#7201a8\"], [0.3333333333333333, \"#9c179e\"], [0.4444444444444444, \"#bd3786\"], [0.5555555555555556, \"#d8576b\"], [0.6666666666666666, \"#ed7953\"], [0.7777777777777778, \"#fb9f3a\"], [0.8888888888888888, \"#fdca26\"], [1.0, \"#f0f921\"]]}, \"colorway\": [\"#636efa\", \"#EF553B\", \"#00cc96\", \"#ab63fa\", \"#FFA15A\", \"#19d3f3\", \"#FF6692\", \"#B6E880\", \"#FF97FF\", \"#FECB52\"], \"font\": {\"color\": \"#2a3f5f\"}, \"geo\": {\"bgcolor\": \"white\", \"lakecolor\": \"white\", \"landcolor\": \"#E5ECF6\", \"showlakes\": true, \"showland\": true, \"subunitcolor\": \"white\"}, \"hoverlabel\": {\"align\": \"left\"}, \"hovermode\": \"closest\", \"mapbox\": {\"style\": \"light\"}, \"paper_bgcolor\": \"white\", \"plot_bgcolor\": \"#E5ECF6\", \"polar\": {\"angularaxis\": {\"gridcolor\": \"white\", \"linecolor\": \"white\", \"ticks\": \"\"}, \"bgcolor\": \"#E5ECF6\", \"radialaxis\": {\"gridcolor\": \"white\", \"linecolor\": \"white\", \"ticks\": \"\"}}, \"scene\": {\"xaxis\": {\"backgroundcolor\": \"#E5ECF6\", \"gridcolor\": \"white\", \"gridwidth\": 2, \"linecolor\": \"white\", \"showbackground\": true, \"ticks\": \"\", \"zerolinecolor\": \"white\"}, \"yaxis\": {\"backgroundcolor\": \"#E5ECF6\", \"gridcolor\": \"white\", \"gridwidth\": 2, \"linecolor\": \"white\", \"showbackground\": true, \"ticks\": \"\", \"zerolinecolor\": \"white\"}, \"zaxis\": {\"backgroundcolor\": \"#E5ECF6\", \"gridcolor\": \"white\", \"gridwidth\": 2, \"linecolor\": \"white\", \"showbackground\": true, \"ticks\": \"\", \"zerolinecolor\": \"white\"}}, \"shapedefaults\": {\"line\": {\"color\": \"#2a3f5f\"}}, \"ternary\": {\"aaxis\": {\"gridcolor\": \"white\", \"linecolor\": \"white\", \"ticks\": \"\"}, \"baxis\": {\"gridcolor\": \"white\", \"linecolor\": \"white\", \"ticks\": \"\"}, \"bgcolor\": \"#E5ECF6\", \"caxis\": {\"gridcolor\": \"white\", \"linecolor\": \"white\", \"ticks\": \"\"}}, \"title\": {\"x\": 0.05}, \"xaxis\": {\"automargin\": true, \"gridcolor\": \"white\", \"linecolor\": \"white\", \"ticks\": \"\", \"title\": {\"standoff\": 15}, \"zerolinecolor\": \"white\", \"zerolinewidth\": 2}, \"yaxis\": {\"automargin\": true, \"gridcolor\": \"white\", \"linecolor\": \"white\", \"ticks\": \"\", \"title\": {\"standoff\": 15}, \"zerolinecolor\": \"white\", \"zerolinewidth\": 2}}}, \"title\": {\"text\": \"\"}, \"width\": 900},                        {\"responsive\": true}                    ).then(function(){\n",
       "                            \n",
       "var gd = document.getElementById('222bc35a-12ba-4244-ae53-e0a9a4127e86');\n",
       "var x = new MutationObserver(function (mutations, observer) {{\n",
       "        var display = window.getComputedStyle(gd).display;\n",
       "        if (!display || display === 'none') {{\n",
       "            console.log([gd, 'removed!']);\n",
       "            Plotly.purge(gd);\n",
       "            observer.disconnect();\n",
       "        }}\n",
       "}});\n",
       "\n",
       "// Listen for the removal of the full notebook cells\n",
       "var notebookContainer = gd.closest('#notebook-container');\n",
       "if (notebookContainer) {{\n",
       "    x.observe(notebookContainer, {childList: true});\n",
       "}}\n",
       "\n",
       "// Listen for the clearing of the current output cell\n",
       "var outputEl = gd.closest('.output');\n",
       "if (outputEl) {{\n",
       "    x.observe(outputEl, {childList: true});\n",
       "}}\n",
       "\n",
       "                        })                };                });            </script>        </div>"
      ]
     },
     "metadata": {},
     "output_type": "display_data"
    }
   ],
   "source": [
    "textnet.draw_3d_network(G)"
   ]
  },
  {
   "cell_type": "code",
   "execution_count": 754,
   "metadata": {},
   "outputs": [],
   "source": [
    "G_paul = textnet.construct_ego_network(G, \"Paul of Tarsus\", 10, reduced=True)"
   ]
  },
  {
   "cell_type": "code",
   "execution_count": 755,
   "metadata": {},
   "outputs": [
    {
     "data": {
      "application/vnd.plotly.v1+json": {
       "config": {
        "plotlyServerURL": "https://plot.ly"
       },
       "data": [
        {
         "line": {
          "color": "#000000",
          "width": 1
         },
         "mode": "lines",
         "type": "scatter",
         "x": [
          0.06295852171826606,
          -0.44708505120690395,
          null
         ],
         "y": [
          0.1155321832894151,
          -0.2153476936187156,
          null
         ]
        },
        {
         "line": {
          "color": "#404040",
          "width": 0.7
         },
         "mode": "lines",
         "type": "scatter",
         "x": [
          0.06295852171826606,
          0.5784630784027225,
          null,
          0.4568608173193537,
          0.8549170319316194,
          null,
          -0.44708505120690395,
          -0.9593203263996467,
          null
         ],
         "y": [
          0.1155321832894151,
          0.38093622260572824,
          null,
          -0.316595485540244,
          -0.6888746724522947,
          null,
          -0.2153476936187156,
          0.07056404274955883,
          null
         ]
        },
        {
         "line": {
          "color": "#C0C0C0",
          "width": 0.5
         },
         "mode": "lines",
         "type": "scatter",
         "x": [
          0.06295852171826606,
          0.09197013956619318,
          null,
          0.06295852171826606,
          0.4568608173193537,
          null,
          0.06295852171826606,
          -0.309650990479105,
          null,
          0.5784630784027225,
          1,
          null,
          -0.44708505120690395,
          -0.9160476134753603,
          null,
          -0.44708505120690395,
          -0.41306560737713854,
          null
         ],
         "y": [
          0.1155321832894151,
          0.6808401436427394,
          null,
          0.1155321832894151,
          -0.316595485540244,
          null,
          0.1155321832894151,
          0.5455070183932049,
          null,
          0.38093622260572824,
          0.7215155190358616,
          null,
          -0.2153476936187156,
          -0.5067191441331689,
          null,
          -0.2153476936187156,
          -0.7873581339720848,
          null
         ]
        },
        {
         "hoverinfo": "text",
         "hovertext": [
          "5",
          "1",
          "2",
          "2",
          "1",
          "4",
          "1",
          "1",
          "1",
          "1",
          "1"
         ],
         "marker": {
          "color": [
           82,
           15,
           30,
           28,
           8,
           51,
           21,
           6,
           11,
           21,
           5
          ],
          "colorbar": {
           "thickness": 15,
           "title": {
            "side": "right",
            "text": "degree"
           },
           "xanchor": "left"
          },
          "colorscale": [
           [
            0,
            "rgb(255,255,255)"
           ],
           [
            0.125,
            "rgb(240,240,240)"
           ],
           [
            0.25,
            "rgb(217,217,217)"
           ],
           [
            0.375,
            "rgb(189,189,189)"
           ],
           [
            0.5,
            "rgb(150,150,150)"
           ],
           [
            0.625,
            "rgb(115,115,115)"
           ],
           [
            0.75,
            "rgb(82,82,82)"
           ],
           [
            0.875,
            "rgb(37,37,37)"
           ],
           [
            1,
            "rgb(0,0,0)"
           ]
          ],
          "line": {
           "width": 1
          },
          "showscale": false,
          "size": 7
         },
         "mode": "markers+text",
         "text": [
          "Paul of Tarsus",
          "Clemens Romanus",
          "Origenes",
          "Theophilus Antiochenus",
          "Eusebius",
          "Epiphanius",
          "Clement of Alexandria",
          "Hermas",
          "Athenagoras",
          "Johnannine literature",
          "Basil"
         ],
         "textposition": "bottom center",
         "type": "scatter",
         "x": [
          0.06295852171826606,
          0.09197013956619318,
          0.4568608173193537,
          0.5784630784027225,
          -0.309650990479105,
          -0.44708505120690395,
          -0.9593203263996467,
          -0.9160476134753603,
          -0.41306560737713854,
          0.8549170319316194,
          1
         ],
         "y": [
          0.1155321832894151,
          0.6808401436427394,
          -0.316595485540244,
          0.38093622260572824,
          0.5455070183932049,
          -0.2153476936187156,
          0.07056404274955883,
          -0.5067191441331689,
          -0.7873581339720848,
          -0.6888746724522947,
          0.7215155190358616
         ]
        },
        {
         "hoverinfo": "text",
         "marker": {
          "opacity": 0
         },
         "mode": "markers",
         "opacity": 0,
         "text": [
          "2",
          "2",
          "3",
          "2",
          "5",
          "3",
          "2",
          "2",
          "3",
          "2"
         ],
         "type": "scatter",
         "x": [
          0.07746433064222963,
          0.2599096695188099,
          0.3207108000604943,
          -0.12334623438041947,
          -0.19206326474431895,
          0.6558889246254865,
          0.7892315392013612,
          -0.6815663323411322,
          -0.7032026888032753,
          -0.43007532929202125
         ],
         "y": [
          0.3981861634660772,
          -0.10053165112541446,
          0.24823420294757167,
          0.33051960084131,
          -0.04990775516465026,
          -0.5027350789962693,
          0.5512258708207949,
          -0.36103341887594226,
          -0.0723918254345784,
          -0.5013529137954001
         ]
        }
       ],
       "layout": {
        "autosize": false,
        "height": 500,
        "hovermode": "closest",
        "margin": {
         "b": 10,
         "l": 10,
         "r": 10,
         "t": 10
        },
        "plot_bgcolor": "rgba(0,0,0,0)",
        "showlegend": false,
        "template": {
         "data": {
          "bar": [
           {
            "error_x": {
             "color": "#2a3f5f"
            },
            "error_y": {
             "color": "#2a3f5f"
            },
            "marker": {
             "line": {
              "color": "#E5ECF6",
              "width": 0.5
             }
            },
            "type": "bar"
           }
          ],
          "barpolar": [
           {
            "marker": {
             "line": {
              "color": "#E5ECF6",
              "width": 0.5
             }
            },
            "type": "barpolar"
           }
          ],
          "carpet": [
           {
            "aaxis": {
             "endlinecolor": "#2a3f5f",
             "gridcolor": "white",
             "linecolor": "white",
             "minorgridcolor": "white",
             "startlinecolor": "#2a3f5f"
            },
            "baxis": {
             "endlinecolor": "#2a3f5f",
             "gridcolor": "white",
             "linecolor": "white",
             "minorgridcolor": "white",
             "startlinecolor": "#2a3f5f"
            },
            "type": "carpet"
           }
          ],
          "choropleth": [
           {
            "colorbar": {
             "outlinewidth": 0,
             "ticks": ""
            },
            "type": "choropleth"
           }
          ],
          "contour": [
           {
            "colorbar": {
             "outlinewidth": 0,
             "ticks": ""
            },
            "colorscale": [
             [
              0,
              "#0d0887"
             ],
             [
              0.1111111111111111,
              "#46039f"
             ],
             [
              0.2222222222222222,
              "#7201a8"
             ],
             [
              0.3333333333333333,
              "#9c179e"
             ],
             [
              0.4444444444444444,
              "#bd3786"
             ],
             [
              0.5555555555555556,
              "#d8576b"
             ],
             [
              0.6666666666666666,
              "#ed7953"
             ],
             [
              0.7777777777777778,
              "#fb9f3a"
             ],
             [
              0.8888888888888888,
              "#fdca26"
             ],
             [
              1,
              "#f0f921"
             ]
            ],
            "type": "contour"
           }
          ],
          "contourcarpet": [
           {
            "colorbar": {
             "outlinewidth": 0,
             "ticks": ""
            },
            "type": "contourcarpet"
           }
          ],
          "heatmap": [
           {
            "colorbar": {
             "outlinewidth": 0,
             "ticks": ""
            },
            "colorscale": [
             [
              0,
              "#0d0887"
             ],
             [
              0.1111111111111111,
              "#46039f"
             ],
             [
              0.2222222222222222,
              "#7201a8"
             ],
             [
              0.3333333333333333,
              "#9c179e"
             ],
             [
              0.4444444444444444,
              "#bd3786"
             ],
             [
              0.5555555555555556,
              "#d8576b"
             ],
             [
              0.6666666666666666,
              "#ed7953"
             ],
             [
              0.7777777777777778,
              "#fb9f3a"
             ],
             [
              0.8888888888888888,
              "#fdca26"
             ],
             [
              1,
              "#f0f921"
             ]
            ],
            "type": "heatmap"
           }
          ],
          "heatmapgl": [
           {
            "colorbar": {
             "outlinewidth": 0,
             "ticks": ""
            },
            "colorscale": [
             [
              0,
              "#0d0887"
             ],
             [
              0.1111111111111111,
              "#46039f"
             ],
             [
              0.2222222222222222,
              "#7201a8"
             ],
             [
              0.3333333333333333,
              "#9c179e"
             ],
             [
              0.4444444444444444,
              "#bd3786"
             ],
             [
              0.5555555555555556,
              "#d8576b"
             ],
             [
              0.6666666666666666,
              "#ed7953"
             ],
             [
              0.7777777777777778,
              "#fb9f3a"
             ],
             [
              0.8888888888888888,
              "#fdca26"
             ],
             [
              1,
              "#f0f921"
             ]
            ],
            "type": "heatmapgl"
           }
          ],
          "histogram": [
           {
            "marker": {
             "colorbar": {
              "outlinewidth": 0,
              "ticks": ""
             }
            },
            "type": "histogram"
           }
          ],
          "histogram2d": [
           {
            "colorbar": {
             "outlinewidth": 0,
             "ticks": ""
            },
            "colorscale": [
             [
              0,
              "#0d0887"
             ],
             [
              0.1111111111111111,
              "#46039f"
             ],
             [
              0.2222222222222222,
              "#7201a8"
             ],
             [
              0.3333333333333333,
              "#9c179e"
             ],
             [
              0.4444444444444444,
              "#bd3786"
             ],
             [
              0.5555555555555556,
              "#d8576b"
             ],
             [
              0.6666666666666666,
              "#ed7953"
             ],
             [
              0.7777777777777778,
              "#fb9f3a"
             ],
             [
              0.8888888888888888,
              "#fdca26"
             ],
             [
              1,
              "#f0f921"
             ]
            ],
            "type": "histogram2d"
           }
          ],
          "histogram2dcontour": [
           {
            "colorbar": {
             "outlinewidth": 0,
             "ticks": ""
            },
            "colorscale": [
             [
              0,
              "#0d0887"
             ],
             [
              0.1111111111111111,
              "#46039f"
             ],
             [
              0.2222222222222222,
              "#7201a8"
             ],
             [
              0.3333333333333333,
              "#9c179e"
             ],
             [
              0.4444444444444444,
              "#bd3786"
             ],
             [
              0.5555555555555556,
              "#d8576b"
             ],
             [
              0.6666666666666666,
              "#ed7953"
             ],
             [
              0.7777777777777778,
              "#fb9f3a"
             ],
             [
              0.8888888888888888,
              "#fdca26"
             ],
             [
              1,
              "#f0f921"
             ]
            ],
            "type": "histogram2dcontour"
           }
          ],
          "mesh3d": [
           {
            "colorbar": {
             "outlinewidth": 0,
             "ticks": ""
            },
            "type": "mesh3d"
           }
          ],
          "parcoords": [
           {
            "line": {
             "colorbar": {
              "outlinewidth": 0,
              "ticks": ""
             }
            },
            "type": "parcoords"
           }
          ],
          "pie": [
           {
            "automargin": true,
            "type": "pie"
           }
          ],
          "scatter": [
           {
            "marker": {
             "colorbar": {
              "outlinewidth": 0,
              "ticks": ""
             }
            },
            "type": "scatter"
           }
          ],
          "scatter3d": [
           {
            "line": {
             "colorbar": {
              "outlinewidth": 0,
              "ticks": ""
             }
            },
            "marker": {
             "colorbar": {
              "outlinewidth": 0,
              "ticks": ""
             }
            },
            "type": "scatter3d"
           }
          ],
          "scattercarpet": [
           {
            "marker": {
             "colorbar": {
              "outlinewidth": 0,
              "ticks": ""
             }
            },
            "type": "scattercarpet"
           }
          ],
          "scattergeo": [
           {
            "marker": {
             "colorbar": {
              "outlinewidth": 0,
              "ticks": ""
             }
            },
            "type": "scattergeo"
           }
          ],
          "scattergl": [
           {
            "marker": {
             "colorbar": {
              "outlinewidth": 0,
              "ticks": ""
             }
            },
            "type": "scattergl"
           }
          ],
          "scattermapbox": [
           {
            "marker": {
             "colorbar": {
              "outlinewidth": 0,
              "ticks": ""
             }
            },
            "type": "scattermapbox"
           }
          ],
          "scatterpolar": [
           {
            "marker": {
             "colorbar": {
              "outlinewidth": 0,
              "ticks": ""
             }
            },
            "type": "scatterpolar"
           }
          ],
          "scatterpolargl": [
           {
            "marker": {
             "colorbar": {
              "outlinewidth": 0,
              "ticks": ""
             }
            },
            "type": "scatterpolargl"
           }
          ],
          "scatterternary": [
           {
            "marker": {
             "colorbar": {
              "outlinewidth": 0,
              "ticks": ""
             }
            },
            "type": "scatterternary"
           }
          ],
          "surface": [
           {
            "colorbar": {
             "outlinewidth": 0,
             "ticks": ""
            },
            "colorscale": [
             [
              0,
              "#0d0887"
             ],
             [
              0.1111111111111111,
              "#46039f"
             ],
             [
              0.2222222222222222,
              "#7201a8"
             ],
             [
              0.3333333333333333,
              "#9c179e"
             ],
             [
              0.4444444444444444,
              "#bd3786"
             ],
             [
              0.5555555555555556,
              "#d8576b"
             ],
             [
              0.6666666666666666,
              "#ed7953"
             ],
             [
              0.7777777777777778,
              "#fb9f3a"
             ],
             [
              0.8888888888888888,
              "#fdca26"
             ],
             [
              1,
              "#f0f921"
             ]
            ],
            "type": "surface"
           }
          ],
          "table": [
           {
            "cells": {
             "fill": {
              "color": "#EBF0F8"
             },
             "line": {
              "color": "white"
             }
            },
            "header": {
             "fill": {
              "color": "#C8D4E3"
             },
             "line": {
              "color": "white"
             }
            },
            "type": "table"
           }
          ]
         },
         "layout": {
          "annotationdefaults": {
           "arrowcolor": "#2a3f5f",
           "arrowhead": 0,
           "arrowwidth": 1
          },
          "coloraxis": {
           "colorbar": {
            "outlinewidth": 0,
            "ticks": ""
           }
          },
          "colorscale": {
           "diverging": [
            [
             0,
             "#8e0152"
            ],
            [
             0.1,
             "#c51b7d"
            ],
            [
             0.2,
             "#de77ae"
            ],
            [
             0.3,
             "#f1b6da"
            ],
            [
             0.4,
             "#fde0ef"
            ],
            [
             0.5,
             "#f7f7f7"
            ],
            [
             0.6,
             "#e6f5d0"
            ],
            [
             0.7,
             "#b8e186"
            ],
            [
             0.8,
             "#7fbc41"
            ],
            [
             0.9,
             "#4d9221"
            ],
            [
             1,
             "#276419"
            ]
           ],
           "sequential": [
            [
             0,
             "#0d0887"
            ],
            [
             0.1111111111111111,
             "#46039f"
            ],
            [
             0.2222222222222222,
             "#7201a8"
            ],
            [
             0.3333333333333333,
             "#9c179e"
            ],
            [
             0.4444444444444444,
             "#bd3786"
            ],
            [
             0.5555555555555556,
             "#d8576b"
            ],
            [
             0.6666666666666666,
             "#ed7953"
            ],
            [
             0.7777777777777778,
             "#fb9f3a"
            ],
            [
             0.8888888888888888,
             "#fdca26"
            ],
            [
             1,
             "#f0f921"
            ]
           ],
           "sequentialminus": [
            [
             0,
             "#0d0887"
            ],
            [
             0.1111111111111111,
             "#46039f"
            ],
            [
             0.2222222222222222,
             "#7201a8"
            ],
            [
             0.3333333333333333,
             "#9c179e"
            ],
            [
             0.4444444444444444,
             "#bd3786"
            ],
            [
             0.5555555555555556,
             "#d8576b"
            ],
            [
             0.6666666666666666,
             "#ed7953"
            ],
            [
             0.7777777777777778,
             "#fb9f3a"
            ],
            [
             0.8888888888888888,
             "#fdca26"
            ],
            [
             1,
             "#f0f921"
            ]
           ]
          },
          "colorway": [
           "#636efa",
           "#EF553B",
           "#00cc96",
           "#ab63fa",
           "#FFA15A",
           "#19d3f3",
           "#FF6692",
           "#B6E880",
           "#FF97FF",
           "#FECB52"
          ],
          "font": {
           "color": "#2a3f5f"
          },
          "geo": {
           "bgcolor": "white",
           "lakecolor": "white",
           "landcolor": "#E5ECF6",
           "showlakes": true,
           "showland": true,
           "subunitcolor": "white"
          },
          "hoverlabel": {
           "align": "left"
          },
          "hovermode": "closest",
          "mapbox": {
           "style": "light"
          },
          "paper_bgcolor": "white",
          "plot_bgcolor": "#E5ECF6",
          "polar": {
           "angularaxis": {
            "gridcolor": "white",
            "linecolor": "white",
            "ticks": ""
           },
           "bgcolor": "#E5ECF6",
           "radialaxis": {
            "gridcolor": "white",
            "linecolor": "white",
            "ticks": ""
           }
          },
          "scene": {
           "xaxis": {
            "backgroundcolor": "#E5ECF6",
            "gridcolor": "white",
            "gridwidth": 2,
            "linecolor": "white",
            "showbackground": true,
            "ticks": "",
            "zerolinecolor": "white"
           },
           "yaxis": {
            "backgroundcolor": "#E5ECF6",
            "gridcolor": "white",
            "gridwidth": 2,
            "linecolor": "white",
            "showbackground": true,
            "ticks": "",
            "zerolinecolor": "white"
           },
           "zaxis": {
            "backgroundcolor": "#E5ECF6",
            "gridcolor": "white",
            "gridwidth": 2,
            "linecolor": "white",
            "showbackground": true,
            "ticks": "",
            "zerolinecolor": "white"
           }
          },
          "shapedefaults": {
           "line": {
            "color": "#2a3f5f"
           }
          },
          "ternary": {
           "aaxis": {
            "gridcolor": "white",
            "linecolor": "white",
            "ticks": ""
           },
           "baxis": {
            "gridcolor": "white",
            "linecolor": "white",
            "ticks": ""
           },
           "bgcolor": "#E5ECF6",
           "caxis": {
            "gridcolor": "white",
            "linecolor": "white",
            "ticks": ""
           }
          },
          "title": {
           "x": 0.05
          },
          "xaxis": {
           "automargin": true,
           "gridcolor": "white",
           "linecolor": "white",
           "ticks": "",
           "title": {
            "standoff": 15
           },
           "zerolinecolor": "white",
           "zerolinewidth": 2
          },
          "yaxis": {
           "automargin": true,
           "gridcolor": "white",
           "linecolor": "white",
           "ticks": "",
           "title": {
            "standoff": 15
           },
           "zerolinecolor": "white",
           "zerolinewidth": 2
          }
         }
        },
        "title": {
         "font": {
          "size": 16
         }
        },
        "width": 500,
        "xaxis": {
         "showgrid": false,
         "showticklabels": false,
         "zeroline": false
        },
        "yaxis": {
         "showgrid": false,
         "showticklabels": false,
         "zeroline": false
        }
       }
      },
      "text/html": [
       "<div>                            <div id=\"4c37288a-2417-49ae-8c24-885b72453808\" class=\"plotly-graph-div\" style=\"height:500px; width:500px;\"></div>            <script type=\"text/javascript\">                require([\"plotly\"], function(Plotly) {                    window.PLOTLYENV=window.PLOTLYENV || {};                                    if (document.getElementById(\"4c37288a-2417-49ae-8c24-885b72453808\")) {                    Plotly.newPlot(                        \"4c37288a-2417-49ae-8c24-885b72453808\",                        [{\"line\": {\"color\": \"#000000\", \"width\": 1}, \"mode\": \"lines\", \"type\": \"scatter\", \"x\": [0.06295852171826606, -0.44708505120690395, null], \"y\": [0.1155321832894151, -0.2153476936187156, null]}, {\"line\": {\"color\": \"#404040\", \"width\": 0.7}, \"mode\": \"lines\", \"type\": \"scatter\", \"x\": [0.06295852171826606, 0.5784630784027225, null, 0.4568608173193537, 0.8549170319316194, null, -0.44708505120690395, -0.9593203263996467, null], \"y\": [0.1155321832894151, 0.38093622260572824, null, -0.316595485540244, -0.6888746724522947, null, -0.2153476936187156, 0.07056404274955883, null]}, {\"line\": {\"color\": \"#C0C0C0\", \"width\": 0.5}, \"mode\": \"lines\", \"type\": \"scatter\", \"x\": [0.06295852171826606, 0.09197013956619318, null, 0.06295852171826606, 0.4568608173193537, null, 0.06295852171826606, -0.309650990479105, null, 0.5784630784027225, 1.0, null, -0.44708505120690395, -0.9160476134753603, null, -0.44708505120690395, -0.41306560737713854, null], \"y\": [0.1155321832894151, 0.6808401436427394, null, 0.1155321832894151, -0.316595485540244, null, 0.1155321832894151, 0.5455070183932049, null, 0.38093622260572824, 0.7215155190358616, null, -0.2153476936187156, -0.5067191441331689, null, -0.2153476936187156, -0.7873581339720848, null]}, {\"hoverinfo\": \"text\", \"hovertext\": [\"5\", \"1\", \"2\", \"2\", \"1\", \"4\", \"1\", \"1\", \"1\", \"1\", \"1\"], \"marker\": {\"color\": [82, 15, 30, 28, 8, 51, 21, 6, 11, 21, 5], \"colorbar\": {\"thickness\": 15, \"title\": {\"side\": \"right\", \"text\": \"degree\"}, \"xanchor\": \"left\"}, \"colorscale\": [[0.0, \"rgb(255,255,255)\"], [0.125, \"rgb(240,240,240)\"], [0.25, \"rgb(217,217,217)\"], [0.375, \"rgb(189,189,189)\"], [0.5, \"rgb(150,150,150)\"], [0.625, \"rgb(115,115,115)\"], [0.75, \"rgb(82,82,82)\"], [0.875, \"rgb(37,37,37)\"], [1.0, \"rgb(0,0,0)\"]], \"line\": {\"width\": 1}, \"showscale\": false, \"size\": 7}, \"mode\": \"markers+text\", \"text\": [\"Paul of Tarsus\", \"Clemens Romanus\", \"Origenes\", \"Theophilus Antiochenus\", \"Eusebius\", \"Epiphanius\", \"Clement of Alexandria\", \"Hermas\", \"Athenagoras\", \"Johnannine literature\", \"Basil\"], \"textposition\": \"bottom center\", \"type\": \"scatter\", \"x\": [0.06295852171826606, 0.09197013956619318, 0.4568608173193537, 0.5784630784027225, -0.309650990479105, -0.44708505120690395, -0.9593203263996467, -0.9160476134753603, -0.41306560737713854, 0.8549170319316194, 1.0], \"y\": [0.1155321832894151, 0.6808401436427394, -0.316595485540244, 0.38093622260572824, 0.5455070183932049, -0.2153476936187156, 0.07056404274955883, -0.5067191441331689, -0.7873581339720848, -0.6888746724522947, 0.7215155190358616]}, {\"hoverinfo\": \"text\", \"marker\": {\"opacity\": 0}, \"mode\": \"markers\", \"opacity\": 0, \"text\": [\"2\", \"2\", \"3\", \"2\", \"5\", \"3\", \"2\", \"2\", \"3\", \"2\"], \"type\": \"scatter\", \"x\": [0.07746433064222963, 0.2599096695188099, 0.3207108000604943, -0.12334623438041947, -0.19206326474431895, 0.6558889246254865, 0.7892315392013612, -0.6815663323411322, -0.7032026888032753, -0.43007532929202125], \"y\": [0.3981861634660772, -0.10053165112541446, 0.24823420294757167, 0.33051960084131, -0.04990775516465026, -0.5027350789962693, 0.5512258708207949, -0.36103341887594226, -0.0723918254345784, -0.5013529137954001]}],                        {\"autosize\": false, \"height\": 500, \"hovermode\": \"closest\", \"margin\": {\"b\": 10, \"l\": 10, \"r\": 10, \"t\": 10}, \"plot_bgcolor\": \"rgba(0,0,0,0)\", \"showlegend\": false, \"template\": {\"data\": {\"bar\": [{\"error_x\": {\"color\": \"#2a3f5f\"}, \"error_y\": {\"color\": \"#2a3f5f\"}, \"marker\": {\"line\": {\"color\": \"#E5ECF6\", \"width\": 0.5}}, \"type\": \"bar\"}], \"barpolar\": [{\"marker\": {\"line\": {\"color\": \"#E5ECF6\", \"width\": 0.5}}, \"type\": \"barpolar\"}], \"carpet\": [{\"aaxis\": {\"endlinecolor\": \"#2a3f5f\", \"gridcolor\": \"white\", \"linecolor\": \"white\", \"minorgridcolor\": \"white\", \"startlinecolor\": \"#2a3f5f\"}, \"baxis\": {\"endlinecolor\": \"#2a3f5f\", \"gridcolor\": \"white\", \"linecolor\": \"white\", \"minorgridcolor\": \"white\", \"startlinecolor\": \"#2a3f5f\"}, \"type\": \"carpet\"}], \"choropleth\": [{\"colorbar\": {\"outlinewidth\": 0, \"ticks\": \"\"}, \"type\": \"choropleth\"}], \"contour\": [{\"colorbar\": {\"outlinewidth\": 0, \"ticks\": \"\"}, \"colorscale\": [[0.0, \"#0d0887\"], [0.1111111111111111, \"#46039f\"], [0.2222222222222222, \"#7201a8\"], [0.3333333333333333, \"#9c179e\"], [0.4444444444444444, \"#bd3786\"], [0.5555555555555556, \"#d8576b\"], [0.6666666666666666, \"#ed7953\"], [0.7777777777777778, \"#fb9f3a\"], [0.8888888888888888, \"#fdca26\"], [1.0, \"#f0f921\"]], \"type\": \"contour\"}], \"contourcarpet\": [{\"colorbar\": {\"outlinewidth\": 0, \"ticks\": \"\"}, \"type\": \"contourcarpet\"}], \"heatmap\": [{\"colorbar\": {\"outlinewidth\": 0, \"ticks\": \"\"}, \"colorscale\": [[0.0, \"#0d0887\"], [0.1111111111111111, \"#46039f\"], [0.2222222222222222, \"#7201a8\"], [0.3333333333333333, \"#9c179e\"], [0.4444444444444444, \"#bd3786\"], [0.5555555555555556, \"#d8576b\"], [0.6666666666666666, \"#ed7953\"], [0.7777777777777778, \"#fb9f3a\"], [0.8888888888888888, \"#fdca26\"], [1.0, \"#f0f921\"]], \"type\": \"heatmap\"}], \"heatmapgl\": [{\"colorbar\": {\"outlinewidth\": 0, \"ticks\": \"\"}, \"colorscale\": [[0.0, \"#0d0887\"], [0.1111111111111111, \"#46039f\"], [0.2222222222222222, \"#7201a8\"], [0.3333333333333333, \"#9c179e\"], [0.4444444444444444, \"#bd3786\"], [0.5555555555555556, \"#d8576b\"], [0.6666666666666666, \"#ed7953\"], [0.7777777777777778, \"#fb9f3a\"], [0.8888888888888888, \"#fdca26\"], [1.0, \"#f0f921\"]], \"type\": \"heatmapgl\"}], \"histogram\": [{\"marker\": {\"colorbar\": {\"outlinewidth\": 0, \"ticks\": \"\"}}, \"type\": \"histogram\"}], \"histogram2d\": [{\"colorbar\": {\"outlinewidth\": 0, \"ticks\": \"\"}, \"colorscale\": [[0.0, \"#0d0887\"], [0.1111111111111111, \"#46039f\"], [0.2222222222222222, \"#7201a8\"], [0.3333333333333333, \"#9c179e\"], [0.4444444444444444, \"#bd3786\"], [0.5555555555555556, \"#d8576b\"], [0.6666666666666666, \"#ed7953\"], [0.7777777777777778, \"#fb9f3a\"], [0.8888888888888888, \"#fdca26\"], [1.0, \"#f0f921\"]], \"type\": \"histogram2d\"}], \"histogram2dcontour\": [{\"colorbar\": {\"outlinewidth\": 0, \"ticks\": \"\"}, \"colorscale\": [[0.0, \"#0d0887\"], [0.1111111111111111, \"#46039f\"], [0.2222222222222222, \"#7201a8\"], [0.3333333333333333, \"#9c179e\"], [0.4444444444444444, \"#bd3786\"], [0.5555555555555556, \"#d8576b\"], [0.6666666666666666, \"#ed7953\"], [0.7777777777777778, \"#fb9f3a\"], [0.8888888888888888, \"#fdca26\"], [1.0, \"#f0f921\"]], \"type\": \"histogram2dcontour\"}], \"mesh3d\": [{\"colorbar\": {\"outlinewidth\": 0, \"ticks\": \"\"}, \"type\": \"mesh3d\"}], \"parcoords\": [{\"line\": {\"colorbar\": {\"outlinewidth\": 0, \"ticks\": \"\"}}, \"type\": \"parcoords\"}], \"pie\": [{\"automargin\": true, \"type\": \"pie\"}], \"scatter\": [{\"marker\": {\"colorbar\": {\"outlinewidth\": 0, \"ticks\": \"\"}}, \"type\": \"scatter\"}], \"scatter3d\": [{\"line\": {\"colorbar\": {\"outlinewidth\": 0, \"ticks\": \"\"}}, \"marker\": {\"colorbar\": {\"outlinewidth\": 0, \"ticks\": \"\"}}, \"type\": \"scatter3d\"}], \"scattercarpet\": [{\"marker\": {\"colorbar\": {\"outlinewidth\": 0, \"ticks\": \"\"}}, \"type\": \"scattercarpet\"}], \"scattergeo\": [{\"marker\": {\"colorbar\": {\"outlinewidth\": 0, \"ticks\": \"\"}}, \"type\": \"scattergeo\"}], \"scattergl\": [{\"marker\": {\"colorbar\": {\"outlinewidth\": 0, \"ticks\": \"\"}}, \"type\": \"scattergl\"}], \"scattermapbox\": [{\"marker\": {\"colorbar\": {\"outlinewidth\": 0, \"ticks\": \"\"}}, \"type\": \"scattermapbox\"}], \"scatterpolar\": [{\"marker\": {\"colorbar\": {\"outlinewidth\": 0, \"ticks\": \"\"}}, \"type\": \"scatterpolar\"}], \"scatterpolargl\": [{\"marker\": {\"colorbar\": {\"outlinewidth\": 0, \"ticks\": \"\"}}, \"type\": \"scatterpolargl\"}], \"scatterternary\": [{\"marker\": {\"colorbar\": {\"outlinewidth\": 0, \"ticks\": \"\"}}, \"type\": \"scatterternary\"}], \"surface\": [{\"colorbar\": {\"outlinewidth\": 0, \"ticks\": \"\"}, \"colorscale\": [[0.0, \"#0d0887\"], [0.1111111111111111, \"#46039f\"], [0.2222222222222222, \"#7201a8\"], [0.3333333333333333, \"#9c179e\"], [0.4444444444444444, \"#bd3786\"], [0.5555555555555556, \"#d8576b\"], [0.6666666666666666, \"#ed7953\"], [0.7777777777777778, \"#fb9f3a\"], [0.8888888888888888, \"#fdca26\"], [1.0, \"#f0f921\"]], \"type\": \"surface\"}], \"table\": [{\"cells\": {\"fill\": {\"color\": \"#EBF0F8\"}, \"line\": {\"color\": \"white\"}}, \"header\": {\"fill\": {\"color\": \"#C8D4E3\"}, \"line\": {\"color\": \"white\"}}, \"type\": \"table\"}]}, \"layout\": {\"annotationdefaults\": {\"arrowcolor\": \"#2a3f5f\", \"arrowhead\": 0, \"arrowwidth\": 1}, \"coloraxis\": {\"colorbar\": {\"outlinewidth\": 0, \"ticks\": \"\"}}, \"colorscale\": {\"diverging\": [[0, \"#8e0152\"], [0.1, \"#c51b7d\"], [0.2, \"#de77ae\"], [0.3, \"#f1b6da\"], [0.4, \"#fde0ef\"], [0.5, \"#f7f7f7\"], [0.6, \"#e6f5d0\"], [0.7, \"#b8e186\"], [0.8, \"#7fbc41\"], [0.9, \"#4d9221\"], [1, \"#276419\"]], \"sequential\": [[0.0, \"#0d0887\"], [0.1111111111111111, \"#46039f\"], [0.2222222222222222, \"#7201a8\"], [0.3333333333333333, \"#9c179e\"], [0.4444444444444444, \"#bd3786\"], [0.5555555555555556, \"#d8576b\"], [0.6666666666666666, \"#ed7953\"], [0.7777777777777778, \"#fb9f3a\"], [0.8888888888888888, \"#fdca26\"], [1.0, \"#f0f921\"]], \"sequentialminus\": [[0.0, \"#0d0887\"], [0.1111111111111111, \"#46039f\"], [0.2222222222222222, \"#7201a8\"], [0.3333333333333333, \"#9c179e\"], [0.4444444444444444, \"#bd3786\"], [0.5555555555555556, \"#d8576b\"], [0.6666666666666666, \"#ed7953\"], [0.7777777777777778, \"#fb9f3a\"], [0.8888888888888888, \"#fdca26\"], [1.0, \"#f0f921\"]]}, \"colorway\": [\"#636efa\", \"#EF553B\", \"#00cc96\", \"#ab63fa\", \"#FFA15A\", \"#19d3f3\", \"#FF6692\", \"#B6E880\", \"#FF97FF\", \"#FECB52\"], \"font\": {\"color\": \"#2a3f5f\"}, \"geo\": {\"bgcolor\": \"white\", \"lakecolor\": \"white\", \"landcolor\": \"#E5ECF6\", \"showlakes\": true, \"showland\": true, \"subunitcolor\": \"white\"}, \"hoverlabel\": {\"align\": \"left\"}, \"hovermode\": \"closest\", \"mapbox\": {\"style\": \"light\"}, \"paper_bgcolor\": \"white\", \"plot_bgcolor\": \"#E5ECF6\", \"polar\": {\"angularaxis\": {\"gridcolor\": \"white\", \"linecolor\": \"white\", \"ticks\": \"\"}, \"bgcolor\": \"#E5ECF6\", \"radialaxis\": {\"gridcolor\": \"white\", \"linecolor\": \"white\", \"ticks\": \"\"}}, \"scene\": {\"xaxis\": {\"backgroundcolor\": \"#E5ECF6\", \"gridcolor\": \"white\", \"gridwidth\": 2, \"linecolor\": \"white\", \"showbackground\": true, \"ticks\": \"\", \"zerolinecolor\": \"white\"}, \"yaxis\": {\"backgroundcolor\": \"#E5ECF6\", \"gridcolor\": \"white\", \"gridwidth\": 2, \"linecolor\": \"white\", \"showbackground\": true, \"ticks\": \"\", \"zerolinecolor\": \"white\"}, \"zaxis\": {\"backgroundcolor\": \"#E5ECF6\", \"gridcolor\": \"white\", \"gridwidth\": 2, \"linecolor\": \"white\", \"showbackground\": true, \"ticks\": \"\", \"zerolinecolor\": \"white\"}}, \"shapedefaults\": {\"line\": {\"color\": \"#2a3f5f\"}}, \"ternary\": {\"aaxis\": {\"gridcolor\": \"white\", \"linecolor\": \"white\", \"ticks\": \"\"}, \"baxis\": {\"gridcolor\": \"white\", \"linecolor\": \"white\", \"ticks\": \"\"}, \"bgcolor\": \"#E5ECF6\", \"caxis\": {\"gridcolor\": \"white\", \"linecolor\": \"white\", \"ticks\": \"\"}}, \"title\": {\"x\": 0.05}, \"xaxis\": {\"automargin\": true, \"gridcolor\": \"white\", \"linecolor\": \"white\", \"ticks\": \"\", \"title\": {\"standoff\": 15}, \"zerolinecolor\": \"white\", \"zerolinewidth\": 2}, \"yaxis\": {\"automargin\": true, \"gridcolor\": \"white\", \"linecolor\": \"white\", \"ticks\": \"\", \"title\": {\"standoff\": 15}, \"zerolinecolor\": \"white\", \"zerolinewidth\": 2}}}, \"title\": {\"font\": {\"size\": 16}}, \"width\": 500, \"xaxis\": {\"showgrid\": false, \"showticklabels\": false, \"zeroline\": false}, \"yaxis\": {\"showgrid\": false, \"showticklabels\": false, \"zeroline\": false}},                        {\"responsive\": true}                    ).then(function(){\n",
       "                            \n",
       "var gd = document.getElementById('4c37288a-2417-49ae-8c24-885b72453808');\n",
       "var x = new MutationObserver(function (mutations, observer) {{\n",
       "        var display = window.getComputedStyle(gd).display;\n",
       "        if (!display || display === 'none') {{\n",
       "            console.log([gd, 'removed!']);\n",
       "            Plotly.purge(gd);\n",
       "            observer.disconnect();\n",
       "        }}\n",
       "}});\n",
       "\n",
       "// Listen for the removal of the full notebook cells\n",
       "var notebookContainer = gd.closest('#notebook-container');\n",
       "if (notebookContainer) {{\n",
       "    x.observe(notebookContainer, {childList: true});\n",
       "}}\n",
       "\n",
       "// Listen for the clearing of the current output cell\n",
       "var outputEl = gd.closest('.output');\n",
       "if (outputEl) {{\n",
       "    x.observe(outputEl, {childList: true});\n",
       "}}\n",
       "\n",
       "                        })                };                });            </script>        </div>"
      ]
     },
     "metadata": {},
     "output_type": "display_data"
    }
   ],
   "source": [
    "fig = textnet.draw_2d_network(G_paul)\n",
    "fig.show()"
   ]
  },
  {
   "cell_type": "code",
   "execution_count": 756,
   "metadata": {},
   "outputs": [],
   "source": [
    "fig.write_image(\"../figures/paul_egonet_10tfidf.png\")"
   ]
  },
  {
   "cell_type": "code",
   "execution_count": 733,
   "metadata": {},
   "outputs": [
    {
     "data": {
      "text/html": [
       "<div>\n",
       "<style scoped>\n",
       "    .dataframe tbody tr th:only-of-type {\n",
       "        vertical-align: middle;\n",
       "    }\n",
       "\n",
       "    .dataframe tbody tr th {\n",
       "        vertical-align: top;\n",
       "    }\n",
       "\n",
       "    .dataframe thead th {\n",
       "        text-align: right;\n",
       "    }\n",
       "</style>\n",
       "<table border=\"1\" class=\"dataframe\">\n",
       "  <thead>\n",
       "    <tr style=\"text-align: right;\">\n",
       "      <th></th>\n",
       "      <th>Paul of Tarsus</th>\n",
       "      <th>Clemens Romanus</th>\n",
       "      <th>Origenes</th>\n",
       "      <th>Theophilus Antiochenus</th>\n",
       "      <th>Eusebius</th>\n",
       "      <th>Epiphanius</th>\n",
       "      <th>Clement of Alexandria</th>\n",
       "      <th>Hermas</th>\n",
       "      <th>Athenagoras</th>\n",
       "      <th>Johnannine literature</th>\n",
       "      <th>Basil</th>\n",
       "    </tr>\n",
       "  </thead>\n",
       "  <tbody>\n",
       "    <tr>\n",
       "      <th>Paul of Tarsus</th>\n",
       "      <td>0</td>\n",
       "      <td>2</td>\n",
       "      <td>2</td>\n",
       "      <td>3</td>\n",
       "      <td>2</td>\n",
       "      <td>5</td>\n",
       "      <td>0</td>\n",
       "      <td>0</td>\n",
       "      <td>0</td>\n",
       "      <td>0</td>\n",
       "      <td>0</td>\n",
       "    </tr>\n",
       "    <tr>\n",
       "      <th>Clemens Romanus</th>\n",
       "      <td>2</td>\n",
       "      <td>0</td>\n",
       "      <td>0</td>\n",
       "      <td>0</td>\n",
       "      <td>0</td>\n",
       "      <td>0</td>\n",
       "      <td>0</td>\n",
       "      <td>0</td>\n",
       "      <td>0</td>\n",
       "      <td>0</td>\n",
       "      <td>0</td>\n",
       "    </tr>\n",
       "    <tr>\n",
       "      <th>Origenes</th>\n",
       "      <td>2</td>\n",
       "      <td>0</td>\n",
       "      <td>0</td>\n",
       "      <td>0</td>\n",
       "      <td>0</td>\n",
       "      <td>0</td>\n",
       "      <td>0</td>\n",
       "      <td>0</td>\n",
       "      <td>0</td>\n",
       "      <td>3</td>\n",
       "      <td>0</td>\n",
       "    </tr>\n",
       "    <tr>\n",
       "      <th>Theophilus Antiochenus</th>\n",
       "      <td>3</td>\n",
       "      <td>0</td>\n",
       "      <td>0</td>\n",
       "      <td>0</td>\n",
       "      <td>0</td>\n",
       "      <td>0</td>\n",
       "      <td>0</td>\n",
       "      <td>0</td>\n",
       "      <td>0</td>\n",
       "      <td>0</td>\n",
       "      <td>2</td>\n",
       "    </tr>\n",
       "    <tr>\n",
       "      <th>Eusebius</th>\n",
       "      <td>2</td>\n",
       "      <td>0</td>\n",
       "      <td>0</td>\n",
       "      <td>0</td>\n",
       "      <td>0</td>\n",
       "      <td>0</td>\n",
       "      <td>0</td>\n",
       "      <td>0</td>\n",
       "      <td>0</td>\n",
       "      <td>0</td>\n",
       "      <td>0</td>\n",
       "    </tr>\n",
       "    <tr>\n",
       "      <th>Epiphanius</th>\n",
       "      <td>5</td>\n",
       "      <td>0</td>\n",
       "      <td>0</td>\n",
       "      <td>0</td>\n",
       "      <td>0</td>\n",
       "      <td>0</td>\n",
       "      <td>3</td>\n",
       "      <td>2</td>\n",
       "      <td>2</td>\n",
       "      <td>0</td>\n",
       "      <td>0</td>\n",
       "    </tr>\n",
       "    <tr>\n",
       "      <th>Clement of Alexandria</th>\n",
       "      <td>0</td>\n",
       "      <td>0</td>\n",
       "      <td>0</td>\n",
       "      <td>0</td>\n",
       "      <td>0</td>\n",
       "      <td>3</td>\n",
       "      <td>0</td>\n",
       "      <td>0</td>\n",
       "      <td>0</td>\n",
       "      <td>0</td>\n",
       "      <td>0</td>\n",
       "    </tr>\n",
       "    <tr>\n",
       "      <th>Hermas</th>\n",
       "      <td>0</td>\n",
       "      <td>0</td>\n",
       "      <td>0</td>\n",
       "      <td>0</td>\n",
       "      <td>0</td>\n",
       "      <td>2</td>\n",
       "      <td>0</td>\n",
       "      <td>0</td>\n",
       "      <td>0</td>\n",
       "      <td>0</td>\n",
       "      <td>0</td>\n",
       "    </tr>\n",
       "    <tr>\n",
       "      <th>Athenagoras</th>\n",
       "      <td>0</td>\n",
       "      <td>0</td>\n",
       "      <td>0</td>\n",
       "      <td>0</td>\n",
       "      <td>0</td>\n",
       "      <td>2</td>\n",
       "      <td>0</td>\n",
       "      <td>0</td>\n",
       "      <td>0</td>\n",
       "      <td>0</td>\n",
       "      <td>0</td>\n",
       "    </tr>\n",
       "    <tr>\n",
       "      <th>Johnannine literature</th>\n",
       "      <td>0</td>\n",
       "      <td>0</td>\n",
       "      <td>3</td>\n",
       "      <td>0</td>\n",
       "      <td>0</td>\n",
       "      <td>0</td>\n",
       "      <td>0</td>\n",
       "      <td>0</td>\n",
       "      <td>0</td>\n",
       "      <td>0</td>\n",
       "      <td>0</td>\n",
       "    </tr>\n",
       "    <tr>\n",
       "      <th>Basil</th>\n",
       "      <td>0</td>\n",
       "      <td>0</td>\n",
       "      <td>0</td>\n",
       "      <td>2</td>\n",
       "      <td>0</td>\n",
       "      <td>0</td>\n",
       "      <td>0</td>\n",
       "      <td>0</td>\n",
       "      <td>0</td>\n",
       "      <td>0</td>\n",
       "      <td>0</td>\n",
       "    </tr>\n",
       "  </tbody>\n",
       "</table>\n",
       "</div>"
      ],
      "text/plain": [
       "                        Paul of Tarsus  Clemens Romanus  Origenes  \\\n",
       "Paul of Tarsus                       0                2         2   \n",
       "Clemens Romanus                      2                0         0   \n",
       "Origenes                             2                0         0   \n",
       "Theophilus Antiochenus               3                0         0   \n",
       "Eusebius                             2                0         0   \n",
       "Epiphanius                           5                0         0   \n",
       "Clement of Alexandria                0                0         0   \n",
       "Hermas                               0                0         0   \n",
       "Athenagoras                          0                0         0   \n",
       "Johnannine literature                0                0         3   \n",
       "Basil                                0                0         0   \n",
       "\n",
       "                        Theophilus Antiochenus  Eusebius  Epiphanius  \\\n",
       "Paul of Tarsus                               3         2           5   \n",
       "Clemens Romanus                              0         0           0   \n",
       "Origenes                                     0         0           0   \n",
       "Theophilus Antiochenus                       0         0           0   \n",
       "Eusebius                                     0         0           0   \n",
       "Epiphanius                                   0         0           0   \n",
       "Clement of Alexandria                        0         0           3   \n",
       "Hermas                                       0         0           2   \n",
       "Athenagoras                                  0         0           2   \n",
       "Johnannine literature                        0         0           0   \n",
       "Basil                                        2         0           0   \n",
       "\n",
       "                        Clement of Alexandria  Hermas  Athenagoras  \\\n",
       "Paul of Tarsus                              0       0            0   \n",
       "Clemens Romanus                             0       0            0   \n",
       "Origenes                                    0       0            0   \n",
       "Theophilus Antiochenus                      0       0            0   \n",
       "Eusebius                                    0       0            0   \n",
       "Epiphanius                                  3       2            2   \n",
       "Clement of Alexandria                       0       0            0   \n",
       "Hermas                                      0       0            0   \n",
       "Athenagoras                                 0       0            0   \n",
       "Johnannine literature                       0       0            0   \n",
       "Basil                                       0       0            0   \n",
       "\n",
       "                        Johnannine literature  Basil  \n",
       "Paul of Tarsus                              0      0  \n",
       "Clemens Romanus                             0      0  \n",
       "Origenes                                    3      0  \n",
       "Theophilus Antiochenus                      0      2  \n",
       "Eusebius                                    0      0  \n",
       "Epiphanius                                  0      0  \n",
       "Clement of Alexandria                       0      0  \n",
       "Hermas                                      0      0  \n",
       "Athenagoras                                 0      0  \n",
       "Johnannine literature                       0      0  \n",
       "Basil                                       0      0  "
      ]
     },
     "execution_count": 733,
     "metadata": {},
     "output_type": "execute_result"
    }
   ],
   "source": [
    "nx.to_pandas_adjacency(G_paul).astype(int)"
   ]
  },
  {
   "cell_type": "markdown",
   "metadata": {},
   "source": [
    "#  vectorization based on tfidf values"
   ]
  },
  {
   "cell_type": "code",
   "execution_count": 734,
   "metadata": {},
   "outputs": [
    {
     "data": {
      "text/html": [
       "<div>\n",
       "<style scoped>\n",
       "    .dataframe tbody tr th:only-of-type {\n",
       "        vertical-align: middle;\n",
       "    }\n",
       "\n",
       "    .dataframe tbody tr th {\n",
       "        vertical-align: top;\n",
       "    }\n",
       "\n",
       "    .dataframe thead th {\n",
       "        text-align: right;\n",
       "    }\n",
       "</style>\n",
       "<table border=\"1\" class=\"dataframe\">\n",
       "  <thead>\n",
       "    <tr style=\"text-align: right;\">\n",
       "      <th></th>\n",
       "      <th>οὗτος</th>\n",
       "      <th>ἐντολή</th>\n",
       "      <th>πτωχός</th>\n",
       "      <th>διώκω</th>\n",
       "      <th>θεάομαι</th>\n",
       "      <th>ἀδελφός</th>\n",
       "      <th>ἐπιτρέπω</th>\n",
       "      <th>προεπεκαλέσασθέ</th>\n",
       "      <th>πληρόω</th>\n",
       "      <th>ἐκφέρω</th>\n",
       "      <th>...</th>\n",
       "      <th>ὑπερβάλλω</th>\n",
       "      <th>προειρημένου</th>\n",
       "      <th>παρακολουθέω</th>\n",
       "      <th>Ἰωσήφ</th>\n",
       "      <th>ἐγγίων</th>\n",
       "      <th>τελευτάω</th>\n",
       "      <th>ἀπεργάζομαι</th>\n",
       "      <th>τέσσαρες</th>\n",
       "      <th>ἡττηθέντα</th>\n",
       "      <th>κᾀκεῖνον</th>\n",
       "    </tr>\n",
       "  </thead>\n",
       "  <tbody>\n",
       "    <tr>\n",
       "      <th>0</th>\n",
       "      <td>0.18466</td>\n",
       "      <td>0.18466</td>\n",
       "      <td>0.12457</td>\n",
       "      <td>0.12457</td>\n",
       "      <td>0.12457</td>\n",
       "      <td>0.12457</td>\n",
       "      <td>0.12457</td>\n",
       "      <td>0.12457</td>\n",
       "      <td>0.12457</td>\n",
       "      <td>0.12457</td>\n",
       "      <td>...</td>\n",
       "      <td>NaN</td>\n",
       "      <td>NaN</td>\n",
       "      <td>NaN</td>\n",
       "      <td>NaN</td>\n",
       "      <td>NaN</td>\n",
       "      <td>NaN</td>\n",
       "      <td>NaN</td>\n",
       "      <td>NaN</td>\n",
       "      <td>NaN</td>\n",
       "      <td>NaN</td>\n",
       "    </tr>\n",
       "    <tr>\n",
       "      <th>1</th>\n",
       "      <td>0.00714</td>\n",
       "      <td>NaN</td>\n",
       "      <td>NaN</td>\n",
       "      <td>0.03494</td>\n",
       "      <td>0.01016</td>\n",
       "      <td>NaN</td>\n",
       "      <td>NaN</td>\n",
       "      <td>NaN</td>\n",
       "      <td>0.01269</td>\n",
       "      <td>NaN</td>\n",
       "      <td>...</td>\n",
       "      <td>NaN</td>\n",
       "      <td>NaN</td>\n",
       "      <td>NaN</td>\n",
       "      <td>NaN</td>\n",
       "      <td>NaN</td>\n",
       "      <td>NaN</td>\n",
       "      <td>NaN</td>\n",
       "      <td>NaN</td>\n",
       "      <td>NaN</td>\n",
       "      <td>NaN</td>\n",
       "    </tr>\n",
       "    <tr>\n",
       "      <th>2</th>\n",
       "      <td>0.03078</td>\n",
       "      <td>NaN</td>\n",
       "      <td>NaN</td>\n",
       "      <td>0.02575</td>\n",
       "      <td>0.02113</td>\n",
       "      <td>NaN</td>\n",
       "      <td>NaN</td>\n",
       "      <td>NaN</td>\n",
       "      <td>NaN</td>\n",
       "      <td>NaN</td>\n",
       "      <td>...</td>\n",
       "      <td>NaN</td>\n",
       "      <td>NaN</td>\n",
       "      <td>NaN</td>\n",
       "      <td>NaN</td>\n",
       "      <td>NaN</td>\n",
       "      <td>NaN</td>\n",
       "      <td>NaN</td>\n",
       "      <td>NaN</td>\n",
       "      <td>NaN</td>\n",
       "      <td>NaN</td>\n",
       "    </tr>\n",
       "    <tr>\n",
       "      <th>3</th>\n",
       "      <td>NaN</td>\n",
       "      <td>NaN</td>\n",
       "      <td>NaN</td>\n",
       "      <td>NaN</td>\n",
       "      <td>NaN</td>\n",
       "      <td>NaN</td>\n",
       "      <td>NaN</td>\n",
       "      <td>NaN</td>\n",
       "      <td>NaN</td>\n",
       "      <td>NaN</td>\n",
       "      <td>...</td>\n",
       "      <td>NaN</td>\n",
       "      <td>NaN</td>\n",
       "      <td>NaN</td>\n",
       "      <td>NaN</td>\n",
       "      <td>NaN</td>\n",
       "      <td>NaN</td>\n",
       "      <td>NaN</td>\n",
       "      <td>NaN</td>\n",
       "      <td>NaN</td>\n",
       "      <td>NaN</td>\n",
       "    </tr>\n",
       "    <tr>\n",
       "      <th>4</th>\n",
       "      <td>0.04409</td>\n",
       "      <td>NaN</td>\n",
       "      <td>NaN</td>\n",
       "      <td>NaN</td>\n",
       "      <td>NaN</td>\n",
       "      <td>NaN</td>\n",
       "      <td>NaN</td>\n",
       "      <td>NaN</td>\n",
       "      <td>NaN</td>\n",
       "      <td>NaN</td>\n",
       "      <td>...</td>\n",
       "      <td>NaN</td>\n",
       "      <td>NaN</td>\n",
       "      <td>NaN</td>\n",
       "      <td>NaN</td>\n",
       "      <td>NaN</td>\n",
       "      <td>NaN</td>\n",
       "      <td>NaN</td>\n",
       "      <td>NaN</td>\n",
       "      <td>NaN</td>\n",
       "      <td>NaN</td>\n",
       "    </tr>\n",
       "    <tr>\n",
       "      <th>5</th>\n",
       "      <td>0.04574</td>\n",
       "      <td>0.03691</td>\n",
       "      <td>NaN</td>\n",
       "      <td>NaN</td>\n",
       "      <td>NaN</td>\n",
       "      <td>NaN</td>\n",
       "      <td>NaN</td>\n",
       "      <td>NaN</td>\n",
       "      <td>NaN</td>\n",
       "      <td>NaN</td>\n",
       "      <td>...</td>\n",
       "      <td>NaN</td>\n",
       "      <td>NaN</td>\n",
       "      <td>NaN</td>\n",
       "      <td>NaN</td>\n",
       "      <td>NaN</td>\n",
       "      <td>NaN</td>\n",
       "      <td>NaN</td>\n",
       "      <td>NaN</td>\n",
       "      <td>NaN</td>\n",
       "      <td>NaN</td>\n",
       "    </tr>\n",
       "    <tr>\n",
       "      <th>6</th>\n",
       "      <td>NaN</td>\n",
       "      <td>NaN</td>\n",
       "      <td>NaN</td>\n",
       "      <td>0.07851</td>\n",
       "      <td>NaN</td>\n",
       "      <td>NaN</td>\n",
       "      <td>NaN</td>\n",
       "      <td>NaN</td>\n",
       "      <td>NaN</td>\n",
       "      <td>NaN</td>\n",
       "      <td>...</td>\n",
       "      <td>NaN</td>\n",
       "      <td>NaN</td>\n",
       "      <td>NaN</td>\n",
       "      <td>NaN</td>\n",
       "      <td>NaN</td>\n",
       "      <td>NaN</td>\n",
       "      <td>NaN</td>\n",
       "      <td>NaN</td>\n",
       "      <td>NaN</td>\n",
       "      <td>NaN</td>\n",
       "    </tr>\n",
       "    <tr>\n",
       "      <th>7</th>\n",
       "      <td>NaN</td>\n",
       "      <td>NaN</td>\n",
       "      <td>NaN</td>\n",
       "      <td>NaN</td>\n",
       "      <td>NaN</td>\n",
       "      <td>NaN</td>\n",
       "      <td>NaN</td>\n",
       "      <td>NaN</td>\n",
       "      <td>NaN</td>\n",
       "      <td>NaN</td>\n",
       "      <td>...</td>\n",
       "      <td>NaN</td>\n",
       "      <td>NaN</td>\n",
       "      <td>NaN</td>\n",
       "      <td>NaN</td>\n",
       "      <td>NaN</td>\n",
       "      <td>NaN</td>\n",
       "      <td>NaN</td>\n",
       "      <td>NaN</td>\n",
       "      <td>NaN</td>\n",
       "      <td>NaN</td>\n",
       "    </tr>\n",
       "    <tr>\n",
       "      <th>8</th>\n",
       "      <td>NaN</td>\n",
       "      <td>0.01886</td>\n",
       "      <td>NaN</td>\n",
       "      <td>NaN</td>\n",
       "      <td>NaN</td>\n",
       "      <td>NaN</td>\n",
       "      <td>NaN</td>\n",
       "      <td>NaN</td>\n",
       "      <td>0.02423</td>\n",
       "      <td>NaN</td>\n",
       "      <td>...</td>\n",
       "      <td>NaN</td>\n",
       "      <td>NaN</td>\n",
       "      <td>NaN</td>\n",
       "      <td>NaN</td>\n",
       "      <td>NaN</td>\n",
       "      <td>NaN</td>\n",
       "      <td>NaN</td>\n",
       "      <td>NaN</td>\n",
       "      <td>NaN</td>\n",
       "      <td>NaN</td>\n",
       "    </tr>\n",
       "    <tr>\n",
       "      <th>9</th>\n",
       "      <td>0.01381</td>\n",
       "      <td>0.01541</td>\n",
       "      <td>0.03197</td>\n",
       "      <td>NaN</td>\n",
       "      <td>NaN</td>\n",
       "      <td>NaN</td>\n",
       "      <td>NaN</td>\n",
       "      <td>NaN</td>\n",
       "      <td>0.01578</td>\n",
       "      <td>NaN</td>\n",
       "      <td>...</td>\n",
       "      <td>NaN</td>\n",
       "      <td>NaN</td>\n",
       "      <td>NaN</td>\n",
       "      <td>NaN</td>\n",
       "      <td>NaN</td>\n",
       "      <td>NaN</td>\n",
       "      <td>NaN</td>\n",
       "      <td>NaN</td>\n",
       "      <td>NaN</td>\n",
       "      <td>NaN</td>\n",
       "    </tr>\n",
       "    <tr>\n",
       "      <th>10</th>\n",
       "      <td>0.04096</td>\n",
       "      <td>0.00822</td>\n",
       "      <td>0.02778</td>\n",
       "      <td>NaN</td>\n",
       "      <td>0.01680</td>\n",
       "      <td>0.00806</td>\n",
       "      <td>NaN</td>\n",
       "      <td>NaN</td>\n",
       "      <td>0.00889</td>\n",
       "      <td>NaN</td>\n",
       "      <td>...</td>\n",
       "      <td>NaN</td>\n",
       "      <td>NaN</td>\n",
       "      <td>NaN</td>\n",
       "      <td>NaN</td>\n",
       "      <td>NaN</td>\n",
       "      <td>NaN</td>\n",
       "      <td>NaN</td>\n",
       "      <td>NaN</td>\n",
       "      <td>NaN</td>\n",
       "      <td>NaN</td>\n",
       "    </tr>\n",
       "    <tr>\n",
       "      <th>11</th>\n",
       "      <td>0.01683</td>\n",
       "      <td>0.00609</td>\n",
       "      <td>0.00179</td>\n",
       "      <td>0.00719</td>\n",
       "      <td>0.00427</td>\n",
       "      <td>NaN</td>\n",
       "      <td>NaN</td>\n",
       "      <td>NaN</td>\n",
       "      <td>0.00770</td>\n",
       "      <td>0.00216</td>\n",
       "      <td>...</td>\n",
       "      <td>NaN</td>\n",
       "      <td>NaN</td>\n",
       "      <td>NaN</td>\n",
       "      <td>NaN</td>\n",
       "      <td>NaN</td>\n",
       "      <td>NaN</td>\n",
       "      <td>NaN</td>\n",
       "      <td>NaN</td>\n",
       "      <td>NaN</td>\n",
       "      <td>NaN</td>\n",
       "    </tr>\n",
       "    <tr>\n",
       "      <th>12</th>\n",
       "      <td>0.01493</td>\n",
       "      <td>NaN</td>\n",
       "      <td>NaN</td>\n",
       "      <td>NaN</td>\n",
       "      <td>NaN</td>\n",
       "      <td>NaN</td>\n",
       "      <td>NaN</td>\n",
       "      <td>NaN</td>\n",
       "      <td>NaN</td>\n",
       "      <td>NaN</td>\n",
       "      <td>...</td>\n",
       "      <td>NaN</td>\n",
       "      <td>NaN</td>\n",
       "      <td>NaN</td>\n",
       "      <td>NaN</td>\n",
       "      <td>NaN</td>\n",
       "      <td>NaN</td>\n",
       "      <td>NaN</td>\n",
       "      <td>NaN</td>\n",
       "      <td>NaN</td>\n",
       "      <td>NaN</td>\n",
       "    </tr>\n",
       "    <tr>\n",
       "      <th>13</th>\n",
       "      <td>0.02015</td>\n",
       "      <td>0.03957</td>\n",
       "      <td>NaN</td>\n",
       "      <td>NaN</td>\n",
       "      <td>NaN</td>\n",
       "      <td>NaN</td>\n",
       "      <td>NaN</td>\n",
       "      <td>NaN</td>\n",
       "      <td>NaN</td>\n",
       "      <td>NaN</td>\n",
       "      <td>...</td>\n",
       "      <td>NaN</td>\n",
       "      <td>NaN</td>\n",
       "      <td>NaN</td>\n",
       "      <td>NaN</td>\n",
       "      <td>NaN</td>\n",
       "      <td>NaN</td>\n",
       "      <td>NaN</td>\n",
       "      <td>NaN</td>\n",
       "      <td>NaN</td>\n",
       "      <td>NaN</td>\n",
       "    </tr>\n",
       "    <tr>\n",
       "      <th>14</th>\n",
       "      <td>NaN</td>\n",
       "      <td>NaN</td>\n",
       "      <td>NaN</td>\n",
       "      <td>NaN</td>\n",
       "      <td>0.13038</td>\n",
       "      <td>NaN</td>\n",
       "      <td>NaN</td>\n",
       "      <td>NaN</td>\n",
       "      <td>0.11523</td>\n",
       "      <td>NaN</td>\n",
       "      <td>...</td>\n",
       "      <td>NaN</td>\n",
       "      <td>NaN</td>\n",
       "      <td>NaN</td>\n",
       "      <td>NaN</td>\n",
       "      <td>NaN</td>\n",
       "      <td>NaN</td>\n",
       "      <td>NaN</td>\n",
       "      <td>NaN</td>\n",
       "      <td>NaN</td>\n",
       "      <td>NaN</td>\n",
       "    </tr>\n",
       "    <tr>\n",
       "      <th>15</th>\n",
       "      <td>0.01821</td>\n",
       "      <td>NaN</td>\n",
       "      <td>NaN</td>\n",
       "      <td>NaN</td>\n",
       "      <td>0.00216</td>\n",
       "      <td>NaN</td>\n",
       "      <td>NaN</td>\n",
       "      <td>NaN</td>\n",
       "      <td>NaN</td>\n",
       "      <td>NaN</td>\n",
       "      <td>...</td>\n",
       "      <td>NaN</td>\n",
       "      <td>NaN</td>\n",
       "      <td>NaN</td>\n",
       "      <td>NaN</td>\n",
       "      <td>NaN</td>\n",
       "      <td>NaN</td>\n",
       "      <td>NaN</td>\n",
       "      <td>NaN</td>\n",
       "      <td>NaN</td>\n",
       "      <td>NaN</td>\n",
       "    </tr>\n",
       "    <tr>\n",
       "      <th>16</th>\n",
       "      <td>NaN</td>\n",
       "      <td>NaN</td>\n",
       "      <td>NaN</td>\n",
       "      <td>NaN</td>\n",
       "      <td>NaN</td>\n",
       "      <td>0.15558</td>\n",
       "      <td>NaN</td>\n",
       "      <td>NaN</td>\n",
       "      <td>NaN</td>\n",
       "      <td>NaN</td>\n",
       "      <td>...</td>\n",
       "      <td>NaN</td>\n",
       "      <td>NaN</td>\n",
       "      <td>NaN</td>\n",
       "      <td>NaN</td>\n",
       "      <td>NaN</td>\n",
       "      <td>NaN</td>\n",
       "      <td>NaN</td>\n",
       "      <td>NaN</td>\n",
       "      <td>NaN</td>\n",
       "      <td>NaN</td>\n",
       "    </tr>\n",
       "    <tr>\n",
       "      <th>17</th>\n",
       "      <td>0.02073</td>\n",
       "      <td>NaN</td>\n",
       "      <td>NaN</td>\n",
       "      <td>NaN</td>\n",
       "      <td>0.00707</td>\n",
       "      <td>NaN</td>\n",
       "      <td>NaN</td>\n",
       "      <td>NaN</td>\n",
       "      <td>0.01272</td>\n",
       "      <td>NaN</td>\n",
       "      <td>...</td>\n",
       "      <td>NaN</td>\n",
       "      <td>NaN</td>\n",
       "      <td>NaN</td>\n",
       "      <td>NaN</td>\n",
       "      <td>NaN</td>\n",
       "      <td>NaN</td>\n",
       "      <td>NaN</td>\n",
       "      <td>NaN</td>\n",
       "      <td>NaN</td>\n",
       "      <td>NaN</td>\n",
       "    </tr>\n",
       "    <tr>\n",
       "      <th>18</th>\n",
       "      <td>0.04502</td>\n",
       "      <td>NaN</td>\n",
       "      <td>NaN</td>\n",
       "      <td>NaN</td>\n",
       "      <td>NaN</td>\n",
       "      <td>NaN</td>\n",
       "      <td>NaN</td>\n",
       "      <td>NaN</td>\n",
       "      <td>NaN</td>\n",
       "      <td>NaN</td>\n",
       "      <td>...</td>\n",
       "      <td>NaN</td>\n",
       "      <td>NaN</td>\n",
       "      <td>NaN</td>\n",
       "      <td>NaN</td>\n",
       "      <td>NaN</td>\n",
       "      <td>NaN</td>\n",
       "      <td>NaN</td>\n",
       "      <td>NaN</td>\n",
       "      <td>NaN</td>\n",
       "      <td>NaN</td>\n",
       "    </tr>\n",
       "    <tr>\n",
       "      <th>19</th>\n",
       "      <td>NaN</td>\n",
       "      <td>NaN</td>\n",
       "      <td>NaN</td>\n",
       "      <td>NaN</td>\n",
       "      <td>NaN</td>\n",
       "      <td>NaN</td>\n",
       "      <td>NaN</td>\n",
       "      <td>NaN</td>\n",
       "      <td>NaN</td>\n",
       "      <td>NaN</td>\n",
       "      <td>...</td>\n",
       "      <td>NaN</td>\n",
       "      <td>NaN</td>\n",
       "      <td>NaN</td>\n",
       "      <td>NaN</td>\n",
       "      <td>NaN</td>\n",
       "      <td>NaN</td>\n",
       "      <td>NaN</td>\n",
       "      <td>NaN</td>\n",
       "      <td>NaN</td>\n",
       "      <td>NaN</td>\n",
       "    </tr>\n",
       "    <tr>\n",
       "      <th>20</th>\n",
       "      <td>NaN</td>\n",
       "      <td>NaN</td>\n",
       "      <td>NaN</td>\n",
       "      <td>NaN</td>\n",
       "      <td>NaN</td>\n",
       "      <td>NaN</td>\n",
       "      <td>NaN</td>\n",
       "      <td>NaN</td>\n",
       "      <td>NaN</td>\n",
       "      <td>NaN</td>\n",
       "      <td>...</td>\n",
       "      <td>NaN</td>\n",
       "      <td>NaN</td>\n",
       "      <td>NaN</td>\n",
       "      <td>NaN</td>\n",
       "      <td>NaN</td>\n",
       "      <td>NaN</td>\n",
       "      <td>NaN</td>\n",
       "      <td>NaN</td>\n",
       "      <td>NaN</td>\n",
       "      <td>NaN</td>\n",
       "    </tr>\n",
       "    <tr>\n",
       "      <th>21</th>\n",
       "      <td>NaN</td>\n",
       "      <td>NaN</td>\n",
       "      <td>NaN</td>\n",
       "      <td>NaN</td>\n",
       "      <td>NaN</td>\n",
       "      <td>NaN</td>\n",
       "      <td>NaN</td>\n",
       "      <td>NaN</td>\n",
       "      <td>2.98944</td>\n",
       "      <td>NaN</td>\n",
       "      <td>...</td>\n",
       "      <td>NaN</td>\n",
       "      <td>NaN</td>\n",
       "      <td>NaN</td>\n",
       "      <td>NaN</td>\n",
       "      <td>NaN</td>\n",
       "      <td>NaN</td>\n",
       "      <td>NaN</td>\n",
       "      <td>NaN</td>\n",
       "      <td>NaN</td>\n",
       "      <td>NaN</td>\n",
       "    </tr>\n",
       "    <tr>\n",
       "      <th>22</th>\n",
       "      <td>NaN</td>\n",
       "      <td>NaN</td>\n",
       "      <td>NaN</td>\n",
       "      <td>NaN</td>\n",
       "      <td>NaN</td>\n",
       "      <td>NaN</td>\n",
       "      <td>NaN</td>\n",
       "      <td>NaN</td>\n",
       "      <td>NaN</td>\n",
       "      <td>NaN</td>\n",
       "      <td>...</td>\n",
       "      <td>NaN</td>\n",
       "      <td>NaN</td>\n",
       "      <td>NaN</td>\n",
       "      <td>NaN</td>\n",
       "      <td>NaN</td>\n",
       "      <td>NaN</td>\n",
       "      <td>NaN</td>\n",
       "      <td>NaN</td>\n",
       "      <td>NaN</td>\n",
       "      <td>NaN</td>\n",
       "    </tr>\n",
       "    <tr>\n",
       "      <th>23</th>\n",
       "      <td>0.07745</td>\n",
       "      <td>NaN</td>\n",
       "      <td>NaN</td>\n",
       "      <td>NaN</td>\n",
       "      <td>NaN</td>\n",
       "      <td>NaN</td>\n",
       "      <td>NaN</td>\n",
       "      <td>NaN</td>\n",
       "      <td>NaN</td>\n",
       "      <td>NaN</td>\n",
       "      <td>...</td>\n",
       "      <td>NaN</td>\n",
       "      <td>NaN</td>\n",
       "      <td>NaN</td>\n",
       "      <td>NaN</td>\n",
       "      <td>NaN</td>\n",
       "      <td>NaN</td>\n",
       "      <td>NaN</td>\n",
       "      <td>NaN</td>\n",
       "      <td>NaN</td>\n",
       "      <td>NaN</td>\n",
       "    </tr>\n",
       "    <tr>\n",
       "      <th>24</th>\n",
       "      <td>0.04920</td>\n",
       "      <td>NaN</td>\n",
       "      <td>NaN</td>\n",
       "      <td>NaN</td>\n",
       "      <td>NaN</td>\n",
       "      <td>NaN</td>\n",
       "      <td>NaN</td>\n",
       "      <td>NaN</td>\n",
       "      <td>NaN</td>\n",
       "      <td>NaN</td>\n",
       "      <td>...</td>\n",
       "      <td>0.08576</td>\n",
       "      <td>0.08576</td>\n",
       "      <td>0.08237</td>\n",
       "      <td>0.0776</td>\n",
       "      <td>0.0776</td>\n",
       "      <td>0.07579</td>\n",
       "      <td>0.07159</td>\n",
       "      <td>0.0539</td>\n",
       "      <td>NaN</td>\n",
       "      <td>NaN</td>\n",
       "    </tr>\n",
       "    <tr>\n",
       "      <th>25</th>\n",
       "      <td>0.20773</td>\n",
       "      <td>NaN</td>\n",
       "      <td>NaN</td>\n",
       "      <td>NaN</td>\n",
       "      <td>NaN</td>\n",
       "      <td>NaN</td>\n",
       "      <td>NaN</td>\n",
       "      <td>NaN</td>\n",
       "      <td>NaN</td>\n",
       "      <td>NaN</td>\n",
       "      <td>...</td>\n",
       "      <td>NaN</td>\n",
       "      <td>NaN</td>\n",
       "      <td>NaN</td>\n",
       "      <td>NaN</td>\n",
       "      <td>NaN</td>\n",
       "      <td>NaN</td>\n",
       "      <td>NaN</td>\n",
       "      <td>NaN</td>\n",
       "      <td>0.52609</td>\n",
       "      <td>0.48276</td>\n",
       "    </tr>\n",
       "    <tr>\n",
       "      <th>26</th>\n",
       "      <td>NaN</td>\n",
       "      <td>NaN</td>\n",
       "      <td>NaN</td>\n",
       "      <td>NaN</td>\n",
       "      <td>NaN</td>\n",
       "      <td>NaN</td>\n",
       "      <td>NaN</td>\n",
       "      <td>NaN</td>\n",
       "      <td>NaN</td>\n",
       "      <td>NaN</td>\n",
       "      <td>...</td>\n",
       "      <td>NaN</td>\n",
       "      <td>NaN</td>\n",
       "      <td>NaN</td>\n",
       "      <td>NaN</td>\n",
       "      <td>NaN</td>\n",
       "      <td>NaN</td>\n",
       "      <td>NaN</td>\n",
       "      <td>NaN</td>\n",
       "      <td>NaN</td>\n",
       "      <td>NaN</td>\n",
       "    </tr>\n",
       "    <tr>\n",
       "      <th>27</th>\n",
       "      <td>NaN</td>\n",
       "      <td>NaN</td>\n",
       "      <td>NaN</td>\n",
       "      <td>NaN</td>\n",
       "      <td>NaN</td>\n",
       "      <td>NaN</td>\n",
       "      <td>NaN</td>\n",
       "      <td>NaN</td>\n",
       "      <td>NaN</td>\n",
       "      <td>NaN</td>\n",
       "      <td>...</td>\n",
       "      <td>NaN</td>\n",
       "      <td>NaN</td>\n",
       "      <td>NaN</td>\n",
       "      <td>NaN</td>\n",
       "      <td>NaN</td>\n",
       "      <td>NaN</td>\n",
       "      <td>NaN</td>\n",
       "      <td>NaN</td>\n",
       "      <td>NaN</td>\n",
       "      <td>NaN</td>\n",
       "    </tr>\n",
       "    <tr>\n",
       "      <th>28</th>\n",
       "      <td>NaN</td>\n",
       "      <td>NaN</td>\n",
       "      <td>NaN</td>\n",
       "      <td>NaN</td>\n",
       "      <td>NaN</td>\n",
       "      <td>NaN</td>\n",
       "      <td>NaN</td>\n",
       "      <td>NaN</td>\n",
       "      <td>NaN</td>\n",
       "      <td>NaN</td>\n",
       "      <td>...</td>\n",
       "      <td>NaN</td>\n",
       "      <td>NaN</td>\n",
       "      <td>NaN</td>\n",
       "      <td>NaN</td>\n",
       "      <td>NaN</td>\n",
       "      <td>NaN</td>\n",
       "      <td>NaN</td>\n",
       "      <td>NaN</td>\n",
       "      <td>NaN</td>\n",
       "      <td>NaN</td>\n",
       "    </tr>\n",
       "    <tr>\n",
       "      <th>29</th>\n",
       "      <td>NaN</td>\n",
       "      <td>NaN</td>\n",
       "      <td>NaN</td>\n",
       "      <td>NaN</td>\n",
       "      <td>NaN</td>\n",
       "      <td>NaN</td>\n",
       "      <td>NaN</td>\n",
       "      <td>NaN</td>\n",
       "      <td>NaN</td>\n",
       "      <td>NaN</td>\n",
       "      <td>...</td>\n",
       "      <td>NaN</td>\n",
       "      <td>NaN</td>\n",
       "      <td>NaN</td>\n",
       "      <td>NaN</td>\n",
       "      <td>NaN</td>\n",
       "      <td>NaN</td>\n",
       "      <td>NaN</td>\n",
       "      <td>NaN</td>\n",
       "      <td>NaN</td>\n",
       "      <td>NaN</td>\n",
       "    </tr>\n",
       "  </tbody>\n",
       "</table>\n",
       "<p>30 rows × 3311 columns</p>\n",
       "</div>"
      ],
      "text/plain": [
       "      οὗτος   ἐντολή   πτωχός    διώκω  θεάομαι  ἀδελφός  ἐπιτρέπω  \\\n",
       "0   0.18466  0.18466  0.12457  0.12457  0.12457  0.12457   0.12457   \n",
       "1   0.00714      NaN      NaN  0.03494  0.01016      NaN       NaN   \n",
       "2   0.03078      NaN      NaN  0.02575  0.02113      NaN       NaN   \n",
       "3       NaN      NaN      NaN      NaN      NaN      NaN       NaN   \n",
       "4   0.04409      NaN      NaN      NaN      NaN      NaN       NaN   \n",
       "5   0.04574  0.03691      NaN      NaN      NaN      NaN       NaN   \n",
       "6       NaN      NaN      NaN  0.07851      NaN      NaN       NaN   \n",
       "7       NaN      NaN      NaN      NaN      NaN      NaN       NaN   \n",
       "8       NaN  0.01886      NaN      NaN      NaN      NaN       NaN   \n",
       "9   0.01381  0.01541  0.03197      NaN      NaN      NaN       NaN   \n",
       "10  0.04096  0.00822  0.02778      NaN  0.01680  0.00806       NaN   \n",
       "11  0.01683  0.00609  0.00179  0.00719  0.00427      NaN       NaN   \n",
       "12  0.01493      NaN      NaN      NaN      NaN      NaN       NaN   \n",
       "13  0.02015  0.03957      NaN      NaN      NaN      NaN       NaN   \n",
       "14      NaN      NaN      NaN      NaN  0.13038      NaN       NaN   \n",
       "15  0.01821      NaN      NaN      NaN  0.00216      NaN       NaN   \n",
       "16      NaN      NaN      NaN      NaN      NaN  0.15558       NaN   \n",
       "17  0.02073      NaN      NaN      NaN  0.00707      NaN       NaN   \n",
       "18  0.04502      NaN      NaN      NaN      NaN      NaN       NaN   \n",
       "19      NaN      NaN      NaN      NaN      NaN      NaN       NaN   \n",
       "20      NaN      NaN      NaN      NaN      NaN      NaN       NaN   \n",
       "21      NaN      NaN      NaN      NaN      NaN      NaN       NaN   \n",
       "22      NaN      NaN      NaN      NaN      NaN      NaN       NaN   \n",
       "23  0.07745      NaN      NaN      NaN      NaN      NaN       NaN   \n",
       "24  0.04920      NaN      NaN      NaN      NaN      NaN       NaN   \n",
       "25  0.20773      NaN      NaN      NaN      NaN      NaN       NaN   \n",
       "26      NaN      NaN      NaN      NaN      NaN      NaN       NaN   \n",
       "27      NaN      NaN      NaN      NaN      NaN      NaN       NaN   \n",
       "28      NaN      NaN      NaN      NaN      NaN      NaN       NaN   \n",
       "29      NaN      NaN      NaN      NaN      NaN      NaN       NaN   \n",
       "\n",
       "    προεπεκαλέσασθέ   πληρόω   ἐκφέρω  ...  ὑπερβάλλω  προειρημένου  \\\n",
       "0           0.12457  0.12457  0.12457  ...        NaN           NaN   \n",
       "1               NaN  0.01269      NaN  ...        NaN           NaN   \n",
       "2               NaN      NaN      NaN  ...        NaN           NaN   \n",
       "3               NaN      NaN      NaN  ...        NaN           NaN   \n",
       "4               NaN      NaN      NaN  ...        NaN           NaN   \n",
       "5               NaN      NaN      NaN  ...        NaN           NaN   \n",
       "6               NaN      NaN      NaN  ...        NaN           NaN   \n",
       "7               NaN      NaN      NaN  ...        NaN           NaN   \n",
       "8               NaN  0.02423      NaN  ...        NaN           NaN   \n",
       "9               NaN  0.01578      NaN  ...        NaN           NaN   \n",
       "10              NaN  0.00889      NaN  ...        NaN           NaN   \n",
       "11              NaN  0.00770  0.00216  ...        NaN           NaN   \n",
       "12              NaN      NaN      NaN  ...        NaN           NaN   \n",
       "13              NaN      NaN      NaN  ...        NaN           NaN   \n",
       "14              NaN  0.11523      NaN  ...        NaN           NaN   \n",
       "15              NaN      NaN      NaN  ...        NaN           NaN   \n",
       "16              NaN      NaN      NaN  ...        NaN           NaN   \n",
       "17              NaN  0.01272      NaN  ...        NaN           NaN   \n",
       "18              NaN      NaN      NaN  ...        NaN           NaN   \n",
       "19              NaN      NaN      NaN  ...        NaN           NaN   \n",
       "20              NaN      NaN      NaN  ...        NaN           NaN   \n",
       "21              NaN  2.98944      NaN  ...        NaN           NaN   \n",
       "22              NaN      NaN      NaN  ...        NaN           NaN   \n",
       "23              NaN      NaN      NaN  ...        NaN           NaN   \n",
       "24              NaN      NaN      NaN  ...    0.08576       0.08576   \n",
       "25              NaN      NaN      NaN  ...        NaN           NaN   \n",
       "26              NaN      NaN      NaN  ...        NaN           NaN   \n",
       "27              NaN      NaN      NaN  ...        NaN           NaN   \n",
       "28              NaN      NaN      NaN  ...        NaN           NaN   \n",
       "29              NaN      NaN      NaN  ...        NaN           NaN   \n",
       "\n",
       "    παρακολουθέω   Ἰωσήφ  ἐγγίων  τελευτάω  ἀπεργάζομαι  τέσσαρες  ἡττηθέντα  \\\n",
       "0            NaN     NaN     NaN       NaN          NaN       NaN        NaN   \n",
       "1            NaN     NaN     NaN       NaN          NaN       NaN        NaN   \n",
       "2            NaN     NaN     NaN       NaN          NaN       NaN        NaN   \n",
       "3            NaN     NaN     NaN       NaN          NaN       NaN        NaN   \n",
       "4            NaN     NaN     NaN       NaN          NaN       NaN        NaN   \n",
       "5            NaN     NaN     NaN       NaN          NaN       NaN        NaN   \n",
       "6            NaN     NaN     NaN       NaN          NaN       NaN        NaN   \n",
       "7            NaN     NaN     NaN       NaN          NaN       NaN        NaN   \n",
       "8            NaN     NaN     NaN       NaN          NaN       NaN        NaN   \n",
       "9            NaN     NaN     NaN       NaN          NaN       NaN        NaN   \n",
       "10           NaN     NaN     NaN       NaN          NaN       NaN        NaN   \n",
       "11           NaN     NaN     NaN       NaN          NaN       NaN        NaN   \n",
       "12           NaN     NaN     NaN       NaN          NaN       NaN        NaN   \n",
       "13           NaN     NaN     NaN       NaN          NaN       NaN        NaN   \n",
       "14           NaN     NaN     NaN       NaN          NaN       NaN        NaN   \n",
       "15           NaN     NaN     NaN       NaN          NaN       NaN        NaN   \n",
       "16           NaN     NaN     NaN       NaN          NaN       NaN        NaN   \n",
       "17           NaN     NaN     NaN       NaN          NaN       NaN        NaN   \n",
       "18           NaN     NaN     NaN       NaN          NaN       NaN        NaN   \n",
       "19           NaN     NaN     NaN       NaN          NaN       NaN        NaN   \n",
       "20           NaN     NaN     NaN       NaN          NaN       NaN        NaN   \n",
       "21           NaN     NaN     NaN       NaN          NaN       NaN        NaN   \n",
       "22           NaN     NaN     NaN       NaN          NaN       NaN        NaN   \n",
       "23           NaN     NaN     NaN       NaN          NaN       NaN        NaN   \n",
       "24       0.08237  0.0776  0.0776   0.07579      0.07159    0.0539        NaN   \n",
       "25           NaN     NaN     NaN       NaN          NaN       NaN    0.52609   \n",
       "26           NaN     NaN     NaN       NaN          NaN       NaN        NaN   \n",
       "27           NaN     NaN     NaN       NaN          NaN       NaN        NaN   \n",
       "28           NaN     NaN     NaN       NaN          NaN       NaN        NaN   \n",
       "29           NaN     NaN     NaN       NaN          NaN       NaN        NaN   \n",
       "\n",
       "    κᾀκεῖνον  \n",
       "0        NaN  \n",
       "1        NaN  \n",
       "2        NaN  \n",
       "3        NaN  \n",
       "4        NaN  \n",
       "5        NaN  \n",
       "6        NaN  \n",
       "7        NaN  \n",
       "8        NaN  \n",
       "9        NaN  \n",
       "10       NaN  \n",
       "11       NaN  \n",
       "12       NaN  \n",
       "13       NaN  \n",
       "14       NaN  \n",
       "15       NaN  \n",
       "16       NaN  \n",
       "17       NaN  \n",
       "18       NaN  \n",
       "19       NaN  \n",
       "20       NaN  \n",
       "21       NaN  \n",
       "22       NaN  \n",
       "23       NaN  \n",
       "24       NaN  \n",
       "25   0.48276  \n",
       "26       NaN  \n",
       "27       NaN  \n",
       "28       NaN  \n",
       "29       NaN  \n",
       "\n",
       "[30 rows x 3311 columns]"
      ]
     },
     "execution_count": 734,
     "metadata": {},
     "output_type": "execute_result"
    }
   ],
   "source": [
    "#tup_to_dict \n",
    "tfidfs_df_raw = pd.DataFrame([dict(tfidfs) for tfidfs in authors_df[\"dik_sents_TFIDF\"].tolist()])\n",
    "tfidfs_df_raw"
   ]
  },
  {
   "cell_type": "code",
   "execution_count": 757,
   "metadata": {},
   "outputs": [
    {
     "data": {
      "text/plain": [
       "861"
      ]
     },
     "execution_count": 757,
     "metadata": {},
     "output_type": "execute_result"
    }
   ],
   "source": [
    "selected_columns = []\n",
    "for column in tfidfs_df_raw.columns:\n",
    "    if len(tfidfs_df_raw[tfidfs_df_raw[column].notnull()]) > 1:\n",
    "        selected_columns.append(column)\n",
    "len(selected_columns)"
   ]
  },
  {
   "cell_type": "code",
   "execution_count": 758,
   "metadata": {},
   "outputs": [],
   "source": [
    "tfidfs_df_filtered = tfidfs_df_raw[selected_columns]\n",
    "tfidfs_df_filtered.fillna(0, inplace=True)"
   ]
  },
  {
   "cell_type": "code",
   "execution_count": 759,
   "metadata": {},
   "outputs": [
    {
     "data": {
      "text/html": [
       "<div>\n",
       "<style scoped>\n",
       "    .dataframe tbody tr th:only-of-type {\n",
       "        vertical-align: middle;\n",
       "    }\n",
       "\n",
       "    .dataframe tbody tr th {\n",
       "        vertical-align: top;\n",
       "    }\n",
       "\n",
       "    .dataframe thead th {\n",
       "        text-align: right;\n",
       "    }\n",
       "</style>\n",
       "<table border=\"1\" class=\"dataframe\">\n",
       "  <thead>\n",
       "    <tr style=\"text-align: right;\">\n",
       "      <th></th>\n",
       "      <th>οὗτος</th>\n",
       "      <th>ἐντολή</th>\n",
       "      <th>πτωχός</th>\n",
       "      <th>διώκω</th>\n",
       "      <th>θεάομαι</th>\n",
       "      <th>ἀδελφός</th>\n",
       "      <th>πληρόω</th>\n",
       "      <th>ἐκφέρω</th>\n",
       "      <th>ὅπλον</th>\n",
       "      <th>πρῶτος</th>\n",
       "      <th>...</th>\n",
       "      <th>τύραννος</th>\n",
       "      <th>τιμωρία</th>\n",
       "      <th>θεοφιλής</th>\n",
       "      <th>ὁμολογήσαντα</th>\n",
       "      <th>θελήσαντα</th>\n",
       "      <th>δουλεία</th>\n",
       "      <th>πατριάρχης</th>\n",
       "      <th>δύο</th>\n",
       "      <th>Μαρία</th>\n",
       "      <th>ἐγείρω</th>\n",
       "    </tr>\n",
       "  </thead>\n",
       "  <tbody>\n",
       "    <tr>\n",
       "      <th>0</th>\n",
       "      <td>0.18466</td>\n",
       "      <td>0.18466</td>\n",
       "      <td>0.12457</td>\n",
       "      <td>0.12457</td>\n",
       "      <td>0.12457</td>\n",
       "      <td>0.12457</td>\n",
       "      <td>0.12457</td>\n",
       "      <td>0.12457</td>\n",
       "      <td>0.12457</td>\n",
       "      <td>0.12457</td>\n",
       "      <td>...</td>\n",
       "      <td>0.00000</td>\n",
       "      <td>0.00000</td>\n",
       "      <td>0.00000</td>\n",
       "      <td>0.00000</td>\n",
       "      <td>0.00000</td>\n",
       "      <td>0.00000</td>\n",
       "      <td>0.00000</td>\n",
       "      <td>0.00000</td>\n",
       "      <td>0.00000</td>\n",
       "      <td>0.00000</td>\n",
       "    </tr>\n",
       "    <tr>\n",
       "      <th>1</th>\n",
       "      <td>0.00714</td>\n",
       "      <td>0.00000</td>\n",
       "      <td>0.00000</td>\n",
       "      <td>0.03494</td>\n",
       "      <td>0.01016</td>\n",
       "      <td>0.00000</td>\n",
       "      <td>0.01269</td>\n",
       "      <td>0.00000</td>\n",
       "      <td>0.04660</td>\n",
       "      <td>0.00000</td>\n",
       "      <td>...</td>\n",
       "      <td>0.00000</td>\n",
       "      <td>0.00000</td>\n",
       "      <td>0.00000</td>\n",
       "      <td>0.00000</td>\n",
       "      <td>0.00000</td>\n",
       "      <td>0.00000</td>\n",
       "      <td>0.00000</td>\n",
       "      <td>0.00000</td>\n",
       "      <td>0.00000</td>\n",
       "      <td>0.00000</td>\n",
       "    </tr>\n",
       "    <tr>\n",
       "      <th>2</th>\n",
       "      <td>0.03078</td>\n",
       "      <td>0.00000</td>\n",
       "      <td>0.00000</td>\n",
       "      <td>0.02575</td>\n",
       "      <td>0.02113</td>\n",
       "      <td>0.00000</td>\n",
       "      <td>0.00000</td>\n",
       "      <td>0.00000</td>\n",
       "      <td>0.00000</td>\n",
       "      <td>0.00000</td>\n",
       "      <td>...</td>\n",
       "      <td>0.00000</td>\n",
       "      <td>0.00000</td>\n",
       "      <td>0.00000</td>\n",
       "      <td>0.00000</td>\n",
       "      <td>0.00000</td>\n",
       "      <td>0.00000</td>\n",
       "      <td>0.00000</td>\n",
       "      <td>0.00000</td>\n",
       "      <td>0.00000</td>\n",
       "      <td>0.00000</td>\n",
       "    </tr>\n",
       "    <tr>\n",
       "      <th>3</th>\n",
       "      <td>0.00000</td>\n",
       "      <td>0.00000</td>\n",
       "      <td>0.00000</td>\n",
       "      <td>0.00000</td>\n",
       "      <td>0.00000</td>\n",
       "      <td>0.00000</td>\n",
       "      <td>0.00000</td>\n",
       "      <td>0.00000</td>\n",
       "      <td>0.00000</td>\n",
       "      <td>0.00000</td>\n",
       "      <td>...</td>\n",
       "      <td>0.00000</td>\n",
       "      <td>0.00000</td>\n",
       "      <td>0.00000</td>\n",
       "      <td>0.00000</td>\n",
       "      <td>0.00000</td>\n",
       "      <td>0.00000</td>\n",
       "      <td>0.00000</td>\n",
       "      <td>0.00000</td>\n",
       "      <td>0.00000</td>\n",
       "      <td>0.00000</td>\n",
       "    </tr>\n",
       "    <tr>\n",
       "      <th>4</th>\n",
       "      <td>0.04409</td>\n",
       "      <td>0.00000</td>\n",
       "      <td>0.00000</td>\n",
       "      <td>0.00000</td>\n",
       "      <td>0.00000</td>\n",
       "      <td>0.00000</td>\n",
       "      <td>0.00000</td>\n",
       "      <td>0.00000</td>\n",
       "      <td>0.00000</td>\n",
       "      <td>0.00000</td>\n",
       "      <td>...</td>\n",
       "      <td>0.00000</td>\n",
       "      <td>0.00000</td>\n",
       "      <td>0.00000</td>\n",
       "      <td>0.00000</td>\n",
       "      <td>0.00000</td>\n",
       "      <td>0.00000</td>\n",
       "      <td>0.00000</td>\n",
       "      <td>0.00000</td>\n",
       "      <td>0.00000</td>\n",
       "      <td>0.00000</td>\n",
       "    </tr>\n",
       "    <tr>\n",
       "      <th>5</th>\n",
       "      <td>0.04574</td>\n",
       "      <td>0.03691</td>\n",
       "      <td>0.00000</td>\n",
       "      <td>0.00000</td>\n",
       "      <td>0.00000</td>\n",
       "      <td>0.00000</td>\n",
       "      <td>0.00000</td>\n",
       "      <td>0.00000</td>\n",
       "      <td>0.00000</td>\n",
       "      <td>0.01386</td>\n",
       "      <td>...</td>\n",
       "      <td>0.00000</td>\n",
       "      <td>0.00000</td>\n",
       "      <td>0.00000</td>\n",
       "      <td>0.00000</td>\n",
       "      <td>0.00000</td>\n",
       "      <td>0.00000</td>\n",
       "      <td>0.00000</td>\n",
       "      <td>0.00000</td>\n",
       "      <td>0.00000</td>\n",
       "      <td>0.00000</td>\n",
       "    </tr>\n",
       "    <tr>\n",
       "      <th>6</th>\n",
       "      <td>0.00000</td>\n",
       "      <td>0.00000</td>\n",
       "      <td>0.00000</td>\n",
       "      <td>0.07851</td>\n",
       "      <td>0.00000</td>\n",
       "      <td>0.00000</td>\n",
       "      <td>0.00000</td>\n",
       "      <td>0.00000</td>\n",
       "      <td>0.00000</td>\n",
       "      <td>0.00000</td>\n",
       "      <td>...</td>\n",
       "      <td>0.00000</td>\n",
       "      <td>0.00000</td>\n",
       "      <td>0.00000</td>\n",
       "      <td>0.00000</td>\n",
       "      <td>0.00000</td>\n",
       "      <td>0.00000</td>\n",
       "      <td>0.00000</td>\n",
       "      <td>0.00000</td>\n",
       "      <td>0.00000</td>\n",
       "      <td>0.00000</td>\n",
       "    </tr>\n",
       "    <tr>\n",
       "      <th>7</th>\n",
       "      <td>0.00000</td>\n",
       "      <td>0.00000</td>\n",
       "      <td>0.00000</td>\n",
       "      <td>0.00000</td>\n",
       "      <td>0.00000</td>\n",
       "      <td>0.00000</td>\n",
       "      <td>0.00000</td>\n",
       "      <td>0.00000</td>\n",
       "      <td>0.00000</td>\n",
       "      <td>0.00000</td>\n",
       "      <td>...</td>\n",
       "      <td>0.00000</td>\n",
       "      <td>0.00000</td>\n",
       "      <td>0.00000</td>\n",
       "      <td>0.00000</td>\n",
       "      <td>0.00000</td>\n",
       "      <td>0.00000</td>\n",
       "      <td>0.00000</td>\n",
       "      <td>0.00000</td>\n",
       "      <td>0.00000</td>\n",
       "      <td>0.00000</td>\n",
       "    </tr>\n",
       "    <tr>\n",
       "      <th>8</th>\n",
       "      <td>0.00000</td>\n",
       "      <td>0.01886</td>\n",
       "      <td>0.00000</td>\n",
       "      <td>0.00000</td>\n",
       "      <td>0.00000</td>\n",
       "      <td>0.00000</td>\n",
       "      <td>0.02423</td>\n",
       "      <td>0.00000</td>\n",
       "      <td>0.00000</td>\n",
       "      <td>0.01361</td>\n",
       "      <td>...</td>\n",
       "      <td>0.00000</td>\n",
       "      <td>0.00000</td>\n",
       "      <td>0.00000</td>\n",
       "      <td>0.00000</td>\n",
       "      <td>0.00000</td>\n",
       "      <td>0.00000</td>\n",
       "      <td>0.00000</td>\n",
       "      <td>0.00000</td>\n",
       "      <td>0.00000</td>\n",
       "      <td>0.00000</td>\n",
       "    </tr>\n",
       "    <tr>\n",
       "      <th>9</th>\n",
       "      <td>0.01381</td>\n",
       "      <td>0.01541</td>\n",
       "      <td>0.03197</td>\n",
       "      <td>0.00000</td>\n",
       "      <td>0.00000</td>\n",
       "      <td>0.00000</td>\n",
       "      <td>0.01578</td>\n",
       "      <td>0.00000</td>\n",
       "      <td>0.00000</td>\n",
       "      <td>0.00000</td>\n",
       "      <td>...</td>\n",
       "      <td>0.00000</td>\n",
       "      <td>0.00000</td>\n",
       "      <td>0.00000</td>\n",
       "      <td>0.00000</td>\n",
       "      <td>0.00000</td>\n",
       "      <td>0.00000</td>\n",
       "      <td>0.00000</td>\n",
       "      <td>0.00000</td>\n",
       "      <td>0.00000</td>\n",
       "      <td>0.00000</td>\n",
       "    </tr>\n",
       "    <tr>\n",
       "      <th>10</th>\n",
       "      <td>0.04096</td>\n",
       "      <td>0.00822</td>\n",
       "      <td>0.02778</td>\n",
       "      <td>0.00000</td>\n",
       "      <td>0.01680</td>\n",
       "      <td>0.00806</td>\n",
       "      <td>0.00889</td>\n",
       "      <td>0.00000</td>\n",
       "      <td>0.00000</td>\n",
       "      <td>0.01485</td>\n",
       "      <td>...</td>\n",
       "      <td>0.00000</td>\n",
       "      <td>0.00000</td>\n",
       "      <td>0.00000</td>\n",
       "      <td>0.00000</td>\n",
       "      <td>0.00000</td>\n",
       "      <td>0.00000</td>\n",
       "      <td>0.00000</td>\n",
       "      <td>0.00000</td>\n",
       "      <td>0.00000</td>\n",
       "      <td>0.00000</td>\n",
       "    </tr>\n",
       "    <tr>\n",
       "      <th>11</th>\n",
       "      <td>0.01683</td>\n",
       "      <td>0.00609</td>\n",
       "      <td>0.00179</td>\n",
       "      <td>0.00719</td>\n",
       "      <td>0.00427</td>\n",
       "      <td>0.00000</td>\n",
       "      <td>0.00770</td>\n",
       "      <td>0.00216</td>\n",
       "      <td>0.00196</td>\n",
       "      <td>0.00528</td>\n",
       "      <td>...</td>\n",
       "      <td>0.00000</td>\n",
       "      <td>0.00000</td>\n",
       "      <td>0.00000</td>\n",
       "      <td>0.00000</td>\n",
       "      <td>0.00000</td>\n",
       "      <td>0.00000</td>\n",
       "      <td>0.00000</td>\n",
       "      <td>0.00000</td>\n",
       "      <td>0.00000</td>\n",
       "      <td>0.00000</td>\n",
       "    </tr>\n",
       "    <tr>\n",
       "      <th>12</th>\n",
       "      <td>0.01493</td>\n",
       "      <td>0.00000</td>\n",
       "      <td>0.00000</td>\n",
       "      <td>0.00000</td>\n",
       "      <td>0.00000</td>\n",
       "      <td>0.00000</td>\n",
       "      <td>0.00000</td>\n",
       "      <td>0.00000</td>\n",
       "      <td>0.00000</td>\n",
       "      <td>0.00000</td>\n",
       "      <td>...</td>\n",
       "      <td>0.00000</td>\n",
       "      <td>0.00000</td>\n",
       "      <td>0.00000</td>\n",
       "      <td>0.00000</td>\n",
       "      <td>0.00000</td>\n",
       "      <td>0.00000</td>\n",
       "      <td>0.00000</td>\n",
       "      <td>0.00000</td>\n",
       "      <td>0.00000</td>\n",
       "      <td>0.00000</td>\n",
       "    </tr>\n",
       "    <tr>\n",
       "      <th>13</th>\n",
       "      <td>0.02015</td>\n",
       "      <td>0.03957</td>\n",
       "      <td>0.00000</td>\n",
       "      <td>0.00000</td>\n",
       "      <td>0.00000</td>\n",
       "      <td>0.00000</td>\n",
       "      <td>0.00000</td>\n",
       "      <td>0.00000</td>\n",
       "      <td>0.00000</td>\n",
       "      <td>0.00000</td>\n",
       "      <td>...</td>\n",
       "      <td>0.00000</td>\n",
       "      <td>0.00000</td>\n",
       "      <td>0.00000</td>\n",
       "      <td>0.00000</td>\n",
       "      <td>0.00000</td>\n",
       "      <td>0.00000</td>\n",
       "      <td>0.00000</td>\n",
       "      <td>0.00000</td>\n",
       "      <td>0.00000</td>\n",
       "      <td>0.00000</td>\n",
       "    </tr>\n",
       "    <tr>\n",
       "      <th>14</th>\n",
       "      <td>0.00000</td>\n",
       "      <td>0.00000</td>\n",
       "      <td>0.00000</td>\n",
       "      <td>0.00000</td>\n",
       "      <td>0.13038</td>\n",
       "      <td>0.00000</td>\n",
       "      <td>0.11523</td>\n",
       "      <td>0.00000</td>\n",
       "      <td>0.00000</td>\n",
       "      <td>0.10685</td>\n",
       "      <td>...</td>\n",
       "      <td>0.00000</td>\n",
       "      <td>0.00000</td>\n",
       "      <td>0.00000</td>\n",
       "      <td>0.00000</td>\n",
       "      <td>0.00000</td>\n",
       "      <td>0.00000</td>\n",
       "      <td>0.00000</td>\n",
       "      <td>0.00000</td>\n",
       "      <td>0.00000</td>\n",
       "      <td>0.00000</td>\n",
       "    </tr>\n",
       "    <tr>\n",
       "      <th>15</th>\n",
       "      <td>0.01821</td>\n",
       "      <td>0.00000</td>\n",
       "      <td>0.00000</td>\n",
       "      <td>0.00000</td>\n",
       "      <td>0.00216</td>\n",
       "      <td>0.00000</td>\n",
       "      <td>0.00000</td>\n",
       "      <td>0.00000</td>\n",
       "      <td>0.00000</td>\n",
       "      <td>0.01107</td>\n",
       "      <td>...</td>\n",
       "      <td>0.00230</td>\n",
       "      <td>0.00226</td>\n",
       "      <td>0.00204</td>\n",
       "      <td>0.00000</td>\n",
       "      <td>0.00000</td>\n",
       "      <td>0.00000</td>\n",
       "      <td>0.00000</td>\n",
       "      <td>0.00000</td>\n",
       "      <td>0.00000</td>\n",
       "      <td>0.00000</td>\n",
       "    </tr>\n",
       "    <tr>\n",
       "      <th>16</th>\n",
       "      <td>0.00000</td>\n",
       "      <td>0.00000</td>\n",
       "      <td>0.00000</td>\n",
       "      <td>0.00000</td>\n",
       "      <td>0.00000</td>\n",
       "      <td>0.15558</td>\n",
       "      <td>0.00000</td>\n",
       "      <td>0.00000</td>\n",
       "      <td>0.00000</td>\n",
       "      <td>0.00000</td>\n",
       "      <td>...</td>\n",
       "      <td>0.00000</td>\n",
       "      <td>0.00000</td>\n",
       "      <td>0.00000</td>\n",
       "      <td>0.00000</td>\n",
       "      <td>0.00000</td>\n",
       "      <td>0.00000</td>\n",
       "      <td>0.00000</td>\n",
       "      <td>0.00000</td>\n",
       "      <td>0.00000</td>\n",
       "      <td>0.00000</td>\n",
       "    </tr>\n",
       "    <tr>\n",
       "      <th>17</th>\n",
       "      <td>0.02073</td>\n",
       "      <td>0.00000</td>\n",
       "      <td>0.00000</td>\n",
       "      <td>0.00000</td>\n",
       "      <td>0.00707</td>\n",
       "      <td>0.00000</td>\n",
       "      <td>0.01272</td>\n",
       "      <td>0.00000</td>\n",
       "      <td>0.02203</td>\n",
       "      <td>0.00506</td>\n",
       "      <td>...</td>\n",
       "      <td>0.00000</td>\n",
       "      <td>0.00903</td>\n",
       "      <td>0.00000</td>\n",
       "      <td>0.01232</td>\n",
       "      <td>0.01232</td>\n",
       "      <td>0.01041</td>\n",
       "      <td>0.00883</td>\n",
       "      <td>0.00677</td>\n",
       "      <td>0.00656</td>\n",
       "      <td>0.00648</td>\n",
       "    </tr>\n",
       "    <tr>\n",
       "      <th>18</th>\n",
       "      <td>0.04502</td>\n",
       "      <td>0.00000</td>\n",
       "      <td>0.00000</td>\n",
       "      <td>0.00000</td>\n",
       "      <td>0.00000</td>\n",
       "      <td>0.00000</td>\n",
       "      <td>0.00000</td>\n",
       "      <td>0.00000</td>\n",
       "      <td>0.00000</td>\n",
       "      <td>0.03778</td>\n",
       "      <td>...</td>\n",
       "      <td>0.00000</td>\n",
       "      <td>0.00000</td>\n",
       "      <td>0.00000</td>\n",
       "      <td>0.00000</td>\n",
       "      <td>0.00000</td>\n",
       "      <td>0.00000</td>\n",
       "      <td>0.00000</td>\n",
       "      <td>0.00000</td>\n",
       "      <td>0.00000</td>\n",
       "      <td>0.00000</td>\n",
       "    </tr>\n",
       "    <tr>\n",
       "      <th>19</th>\n",
       "      <td>0.00000</td>\n",
       "      <td>0.00000</td>\n",
       "      <td>0.00000</td>\n",
       "      <td>0.00000</td>\n",
       "      <td>0.00000</td>\n",
       "      <td>0.00000</td>\n",
       "      <td>0.00000</td>\n",
       "      <td>0.00000</td>\n",
       "      <td>0.00000</td>\n",
       "      <td>0.09561</td>\n",
       "      <td>...</td>\n",
       "      <td>0.00000</td>\n",
       "      <td>0.00000</td>\n",
       "      <td>0.00000</td>\n",
       "      <td>0.00000</td>\n",
       "      <td>0.00000</td>\n",
       "      <td>0.00000</td>\n",
       "      <td>0.14924</td>\n",
       "      <td>0.00000</td>\n",
       "      <td>0.00000</td>\n",
       "      <td>0.00000</td>\n",
       "    </tr>\n",
       "    <tr>\n",
       "      <th>20</th>\n",
       "      <td>0.00000</td>\n",
       "      <td>0.00000</td>\n",
       "      <td>0.00000</td>\n",
       "      <td>0.00000</td>\n",
       "      <td>0.00000</td>\n",
       "      <td>0.00000</td>\n",
       "      <td>0.00000</td>\n",
       "      <td>0.00000</td>\n",
       "      <td>0.00000</td>\n",
       "      <td>0.00000</td>\n",
       "      <td>...</td>\n",
       "      <td>0.00000</td>\n",
       "      <td>0.00000</td>\n",
       "      <td>0.00000</td>\n",
       "      <td>0.00000</td>\n",
       "      <td>0.00000</td>\n",
       "      <td>0.00000</td>\n",
       "      <td>0.00000</td>\n",
       "      <td>0.00000</td>\n",
       "      <td>0.00000</td>\n",
       "      <td>0.03781</td>\n",
       "    </tr>\n",
       "    <tr>\n",
       "      <th>21</th>\n",
       "      <td>0.00000</td>\n",
       "      <td>0.00000</td>\n",
       "      <td>0.00000</td>\n",
       "      <td>0.00000</td>\n",
       "      <td>0.00000</td>\n",
       "      <td>0.00000</td>\n",
       "      <td>2.98944</td>\n",
       "      <td>0.00000</td>\n",
       "      <td>0.00000</td>\n",
       "      <td>0.00000</td>\n",
       "      <td>...</td>\n",
       "      <td>0.00000</td>\n",
       "      <td>0.00000</td>\n",
       "      <td>0.00000</td>\n",
       "      <td>0.00000</td>\n",
       "      <td>0.00000</td>\n",
       "      <td>0.00000</td>\n",
       "      <td>0.00000</td>\n",
       "      <td>0.00000</td>\n",
       "      <td>0.00000</td>\n",
       "      <td>0.00000</td>\n",
       "    </tr>\n",
       "    <tr>\n",
       "      <th>22</th>\n",
       "      <td>0.00000</td>\n",
       "      <td>0.00000</td>\n",
       "      <td>0.00000</td>\n",
       "      <td>0.00000</td>\n",
       "      <td>0.00000</td>\n",
       "      <td>0.00000</td>\n",
       "      <td>0.00000</td>\n",
       "      <td>0.00000</td>\n",
       "      <td>0.00000</td>\n",
       "      <td>0.00000</td>\n",
       "      <td>...</td>\n",
       "      <td>0.00000</td>\n",
       "      <td>0.00000</td>\n",
       "      <td>0.00000</td>\n",
       "      <td>0.00000</td>\n",
       "      <td>0.00000</td>\n",
       "      <td>0.00000</td>\n",
       "      <td>0.00000</td>\n",
       "      <td>0.00000</td>\n",
       "      <td>0.00000</td>\n",
       "      <td>0.00000</td>\n",
       "    </tr>\n",
       "    <tr>\n",
       "      <th>23</th>\n",
       "      <td>0.07745</td>\n",
       "      <td>0.00000</td>\n",
       "      <td>0.00000</td>\n",
       "      <td>0.00000</td>\n",
       "      <td>0.00000</td>\n",
       "      <td>0.00000</td>\n",
       "      <td>0.00000</td>\n",
       "      <td>0.00000</td>\n",
       "      <td>0.00000</td>\n",
       "      <td>0.00000</td>\n",
       "      <td>...</td>\n",
       "      <td>0.27551</td>\n",
       "      <td>0.00000</td>\n",
       "      <td>0.00000</td>\n",
       "      <td>0.00000</td>\n",
       "      <td>0.00000</td>\n",
       "      <td>0.17565</td>\n",
       "      <td>0.00000</td>\n",
       "      <td>0.00000</td>\n",
       "      <td>0.00000</td>\n",
       "      <td>0.00000</td>\n",
       "    </tr>\n",
       "    <tr>\n",
       "      <th>24</th>\n",
       "      <td>0.04920</td>\n",
       "      <td>0.00000</td>\n",
       "      <td>0.00000</td>\n",
       "      <td>0.00000</td>\n",
       "      <td>0.00000</td>\n",
       "      <td>0.00000</td>\n",
       "      <td>0.00000</td>\n",
       "      <td>0.00000</td>\n",
       "      <td>0.00000</td>\n",
       "      <td>0.00000</td>\n",
       "      <td>...</td>\n",
       "      <td>0.00000</td>\n",
       "      <td>0.00000</td>\n",
       "      <td>0.08576</td>\n",
       "      <td>0.00000</td>\n",
       "      <td>0.00000</td>\n",
       "      <td>0.00000</td>\n",
       "      <td>0.00000</td>\n",
       "      <td>0.05867</td>\n",
       "      <td>0.06404</td>\n",
       "      <td>0.00000</td>\n",
       "    </tr>\n",
       "    <tr>\n",
       "      <th>25</th>\n",
       "      <td>0.20773</td>\n",
       "      <td>0.00000</td>\n",
       "      <td>0.00000</td>\n",
       "      <td>0.00000</td>\n",
       "      <td>0.00000</td>\n",
       "      <td>0.00000</td>\n",
       "      <td>0.00000</td>\n",
       "      <td>0.00000</td>\n",
       "      <td>0.00000</td>\n",
       "      <td>0.00000</td>\n",
       "      <td>...</td>\n",
       "      <td>0.00000</td>\n",
       "      <td>0.00000</td>\n",
       "      <td>0.00000</td>\n",
       "      <td>0.52609</td>\n",
       "      <td>0.52609</td>\n",
       "      <td>0.00000</td>\n",
       "      <td>0.00000</td>\n",
       "      <td>0.00000</td>\n",
       "      <td>0.00000</td>\n",
       "      <td>0.00000</td>\n",
       "    </tr>\n",
       "    <tr>\n",
       "      <th>26</th>\n",
       "      <td>0.00000</td>\n",
       "      <td>0.00000</td>\n",
       "      <td>0.00000</td>\n",
       "      <td>0.00000</td>\n",
       "      <td>0.00000</td>\n",
       "      <td>0.00000</td>\n",
       "      <td>0.00000</td>\n",
       "      <td>0.00000</td>\n",
       "      <td>0.00000</td>\n",
       "      <td>0.00000</td>\n",
       "      <td>...</td>\n",
       "      <td>0.00000</td>\n",
       "      <td>0.00000</td>\n",
       "      <td>0.00000</td>\n",
       "      <td>0.00000</td>\n",
       "      <td>0.00000</td>\n",
       "      <td>0.00000</td>\n",
       "      <td>0.00000</td>\n",
       "      <td>0.00000</td>\n",
       "      <td>0.00000</td>\n",
       "      <td>0.00000</td>\n",
       "    </tr>\n",
       "    <tr>\n",
       "      <th>27</th>\n",
       "      <td>0.00000</td>\n",
       "      <td>0.00000</td>\n",
       "      <td>0.00000</td>\n",
       "      <td>0.00000</td>\n",
       "      <td>0.00000</td>\n",
       "      <td>0.00000</td>\n",
       "      <td>0.00000</td>\n",
       "      <td>0.00000</td>\n",
       "      <td>0.00000</td>\n",
       "      <td>0.00000</td>\n",
       "      <td>...</td>\n",
       "      <td>0.00000</td>\n",
       "      <td>0.00000</td>\n",
       "      <td>0.00000</td>\n",
       "      <td>0.00000</td>\n",
       "      <td>0.00000</td>\n",
       "      <td>0.00000</td>\n",
       "      <td>0.00000</td>\n",
       "      <td>0.00000</td>\n",
       "      <td>0.00000</td>\n",
       "      <td>0.00000</td>\n",
       "    </tr>\n",
       "    <tr>\n",
       "      <th>28</th>\n",
       "      <td>0.00000</td>\n",
       "      <td>0.00000</td>\n",
       "      <td>0.00000</td>\n",
       "      <td>0.00000</td>\n",
       "      <td>0.00000</td>\n",
       "      <td>0.00000</td>\n",
       "      <td>0.00000</td>\n",
       "      <td>0.00000</td>\n",
       "      <td>0.00000</td>\n",
       "      <td>0.00000</td>\n",
       "      <td>...</td>\n",
       "      <td>0.00000</td>\n",
       "      <td>0.00000</td>\n",
       "      <td>0.00000</td>\n",
       "      <td>0.00000</td>\n",
       "      <td>0.00000</td>\n",
       "      <td>0.00000</td>\n",
       "      <td>0.00000</td>\n",
       "      <td>0.00000</td>\n",
       "      <td>0.00000</td>\n",
       "      <td>0.00000</td>\n",
       "    </tr>\n",
       "    <tr>\n",
       "      <th>29</th>\n",
       "      <td>0.00000</td>\n",
       "      <td>0.00000</td>\n",
       "      <td>0.00000</td>\n",
       "      <td>0.00000</td>\n",
       "      <td>0.00000</td>\n",
       "      <td>0.00000</td>\n",
       "      <td>0.00000</td>\n",
       "      <td>0.00000</td>\n",
       "      <td>0.00000</td>\n",
       "      <td>0.00000</td>\n",
       "      <td>...</td>\n",
       "      <td>0.00000</td>\n",
       "      <td>0.00000</td>\n",
       "      <td>0.00000</td>\n",
       "      <td>0.00000</td>\n",
       "      <td>0.00000</td>\n",
       "      <td>0.00000</td>\n",
       "      <td>0.00000</td>\n",
       "      <td>0.00000</td>\n",
       "      <td>0.00000</td>\n",
       "      <td>0.00000</td>\n",
       "    </tr>\n",
       "  </tbody>\n",
       "</table>\n",
       "<p>30 rows × 861 columns</p>\n",
       "</div>"
      ],
      "text/plain": [
       "      οὗτος   ἐντολή   πτωχός    διώκω  θεάομαι  ἀδελφός   πληρόω   ἐκφέρω  \\\n",
       "0   0.18466  0.18466  0.12457  0.12457  0.12457  0.12457  0.12457  0.12457   \n",
       "1   0.00714  0.00000  0.00000  0.03494  0.01016  0.00000  0.01269  0.00000   \n",
       "2   0.03078  0.00000  0.00000  0.02575  0.02113  0.00000  0.00000  0.00000   \n",
       "3   0.00000  0.00000  0.00000  0.00000  0.00000  0.00000  0.00000  0.00000   \n",
       "4   0.04409  0.00000  0.00000  0.00000  0.00000  0.00000  0.00000  0.00000   \n",
       "5   0.04574  0.03691  0.00000  0.00000  0.00000  0.00000  0.00000  0.00000   \n",
       "6   0.00000  0.00000  0.00000  0.07851  0.00000  0.00000  0.00000  0.00000   \n",
       "7   0.00000  0.00000  0.00000  0.00000  0.00000  0.00000  0.00000  0.00000   \n",
       "8   0.00000  0.01886  0.00000  0.00000  0.00000  0.00000  0.02423  0.00000   \n",
       "9   0.01381  0.01541  0.03197  0.00000  0.00000  0.00000  0.01578  0.00000   \n",
       "10  0.04096  0.00822  0.02778  0.00000  0.01680  0.00806  0.00889  0.00000   \n",
       "11  0.01683  0.00609  0.00179  0.00719  0.00427  0.00000  0.00770  0.00216   \n",
       "12  0.01493  0.00000  0.00000  0.00000  0.00000  0.00000  0.00000  0.00000   \n",
       "13  0.02015  0.03957  0.00000  0.00000  0.00000  0.00000  0.00000  0.00000   \n",
       "14  0.00000  0.00000  0.00000  0.00000  0.13038  0.00000  0.11523  0.00000   \n",
       "15  0.01821  0.00000  0.00000  0.00000  0.00216  0.00000  0.00000  0.00000   \n",
       "16  0.00000  0.00000  0.00000  0.00000  0.00000  0.15558  0.00000  0.00000   \n",
       "17  0.02073  0.00000  0.00000  0.00000  0.00707  0.00000  0.01272  0.00000   \n",
       "18  0.04502  0.00000  0.00000  0.00000  0.00000  0.00000  0.00000  0.00000   \n",
       "19  0.00000  0.00000  0.00000  0.00000  0.00000  0.00000  0.00000  0.00000   \n",
       "20  0.00000  0.00000  0.00000  0.00000  0.00000  0.00000  0.00000  0.00000   \n",
       "21  0.00000  0.00000  0.00000  0.00000  0.00000  0.00000  2.98944  0.00000   \n",
       "22  0.00000  0.00000  0.00000  0.00000  0.00000  0.00000  0.00000  0.00000   \n",
       "23  0.07745  0.00000  0.00000  0.00000  0.00000  0.00000  0.00000  0.00000   \n",
       "24  0.04920  0.00000  0.00000  0.00000  0.00000  0.00000  0.00000  0.00000   \n",
       "25  0.20773  0.00000  0.00000  0.00000  0.00000  0.00000  0.00000  0.00000   \n",
       "26  0.00000  0.00000  0.00000  0.00000  0.00000  0.00000  0.00000  0.00000   \n",
       "27  0.00000  0.00000  0.00000  0.00000  0.00000  0.00000  0.00000  0.00000   \n",
       "28  0.00000  0.00000  0.00000  0.00000  0.00000  0.00000  0.00000  0.00000   \n",
       "29  0.00000  0.00000  0.00000  0.00000  0.00000  0.00000  0.00000  0.00000   \n",
       "\n",
       "      ὅπλον   πρῶτος  ...  τύραννος  τιμωρία  θεοφιλής  ὁμολογήσαντα  \\\n",
       "0   0.12457  0.12457  ...   0.00000  0.00000   0.00000       0.00000   \n",
       "1   0.04660  0.00000  ...   0.00000  0.00000   0.00000       0.00000   \n",
       "2   0.00000  0.00000  ...   0.00000  0.00000   0.00000       0.00000   \n",
       "3   0.00000  0.00000  ...   0.00000  0.00000   0.00000       0.00000   \n",
       "4   0.00000  0.00000  ...   0.00000  0.00000   0.00000       0.00000   \n",
       "5   0.00000  0.01386  ...   0.00000  0.00000   0.00000       0.00000   \n",
       "6   0.00000  0.00000  ...   0.00000  0.00000   0.00000       0.00000   \n",
       "7   0.00000  0.00000  ...   0.00000  0.00000   0.00000       0.00000   \n",
       "8   0.00000  0.01361  ...   0.00000  0.00000   0.00000       0.00000   \n",
       "9   0.00000  0.00000  ...   0.00000  0.00000   0.00000       0.00000   \n",
       "10  0.00000  0.01485  ...   0.00000  0.00000   0.00000       0.00000   \n",
       "11  0.00196  0.00528  ...   0.00000  0.00000   0.00000       0.00000   \n",
       "12  0.00000  0.00000  ...   0.00000  0.00000   0.00000       0.00000   \n",
       "13  0.00000  0.00000  ...   0.00000  0.00000   0.00000       0.00000   \n",
       "14  0.00000  0.10685  ...   0.00000  0.00000   0.00000       0.00000   \n",
       "15  0.00000  0.01107  ...   0.00230  0.00226   0.00204       0.00000   \n",
       "16  0.00000  0.00000  ...   0.00000  0.00000   0.00000       0.00000   \n",
       "17  0.02203  0.00506  ...   0.00000  0.00903   0.00000       0.01232   \n",
       "18  0.00000  0.03778  ...   0.00000  0.00000   0.00000       0.00000   \n",
       "19  0.00000  0.09561  ...   0.00000  0.00000   0.00000       0.00000   \n",
       "20  0.00000  0.00000  ...   0.00000  0.00000   0.00000       0.00000   \n",
       "21  0.00000  0.00000  ...   0.00000  0.00000   0.00000       0.00000   \n",
       "22  0.00000  0.00000  ...   0.00000  0.00000   0.00000       0.00000   \n",
       "23  0.00000  0.00000  ...   0.27551  0.00000   0.00000       0.00000   \n",
       "24  0.00000  0.00000  ...   0.00000  0.00000   0.08576       0.00000   \n",
       "25  0.00000  0.00000  ...   0.00000  0.00000   0.00000       0.52609   \n",
       "26  0.00000  0.00000  ...   0.00000  0.00000   0.00000       0.00000   \n",
       "27  0.00000  0.00000  ...   0.00000  0.00000   0.00000       0.00000   \n",
       "28  0.00000  0.00000  ...   0.00000  0.00000   0.00000       0.00000   \n",
       "29  0.00000  0.00000  ...   0.00000  0.00000   0.00000       0.00000   \n",
       "\n",
       "    θελήσαντα  δουλεία  πατριάρχης      δύο    Μαρία   ἐγείρω  \n",
       "0     0.00000  0.00000     0.00000  0.00000  0.00000  0.00000  \n",
       "1     0.00000  0.00000     0.00000  0.00000  0.00000  0.00000  \n",
       "2     0.00000  0.00000     0.00000  0.00000  0.00000  0.00000  \n",
       "3     0.00000  0.00000     0.00000  0.00000  0.00000  0.00000  \n",
       "4     0.00000  0.00000     0.00000  0.00000  0.00000  0.00000  \n",
       "5     0.00000  0.00000     0.00000  0.00000  0.00000  0.00000  \n",
       "6     0.00000  0.00000     0.00000  0.00000  0.00000  0.00000  \n",
       "7     0.00000  0.00000     0.00000  0.00000  0.00000  0.00000  \n",
       "8     0.00000  0.00000     0.00000  0.00000  0.00000  0.00000  \n",
       "9     0.00000  0.00000     0.00000  0.00000  0.00000  0.00000  \n",
       "10    0.00000  0.00000     0.00000  0.00000  0.00000  0.00000  \n",
       "11    0.00000  0.00000     0.00000  0.00000  0.00000  0.00000  \n",
       "12    0.00000  0.00000     0.00000  0.00000  0.00000  0.00000  \n",
       "13    0.00000  0.00000     0.00000  0.00000  0.00000  0.00000  \n",
       "14    0.00000  0.00000     0.00000  0.00000  0.00000  0.00000  \n",
       "15    0.00000  0.00000     0.00000  0.00000  0.00000  0.00000  \n",
       "16    0.00000  0.00000     0.00000  0.00000  0.00000  0.00000  \n",
       "17    0.01232  0.01041     0.00883  0.00677  0.00656  0.00648  \n",
       "18    0.00000  0.00000     0.00000  0.00000  0.00000  0.00000  \n",
       "19    0.00000  0.00000     0.14924  0.00000  0.00000  0.00000  \n",
       "20    0.00000  0.00000     0.00000  0.00000  0.00000  0.03781  \n",
       "21    0.00000  0.00000     0.00000  0.00000  0.00000  0.00000  \n",
       "22    0.00000  0.00000     0.00000  0.00000  0.00000  0.00000  \n",
       "23    0.00000  0.17565     0.00000  0.00000  0.00000  0.00000  \n",
       "24    0.00000  0.00000     0.00000  0.05867  0.06404  0.00000  \n",
       "25    0.52609  0.00000     0.00000  0.00000  0.00000  0.00000  \n",
       "26    0.00000  0.00000     0.00000  0.00000  0.00000  0.00000  \n",
       "27    0.00000  0.00000     0.00000  0.00000  0.00000  0.00000  \n",
       "28    0.00000  0.00000     0.00000  0.00000  0.00000  0.00000  \n",
       "29    0.00000  0.00000     0.00000  0.00000  0.00000  0.00000  \n",
       "\n",
       "[30 rows x 861 columns]"
      ]
     },
     "execution_count": 759,
     "metadata": {},
     "output_type": "execute_result"
    }
   ],
   "source": [
    "tfidfs_df_filtered"
   ]
  },
  {
   "cell_type": "markdown",
   "metadata": {},
   "source": [
    "# Tfidfs with cosine similarity"
   ]
  },
  {
   "cell_type": "code",
   "execution_count": 760,
   "metadata": {},
   "outputs": [],
   "source": [
    "from sklearn.feature_extraction.text import CountVectorizer\n",
    "from sklearn.decomposition import TruncatedSVD \n",
    "from sklearn.metrics.pairwise import cosine_similarity"
   ]
  },
  {
   "cell_type": "code",
   "execution_count": 761,
   "metadata": {},
   "outputs": [],
   "source": [
    "tfidfs_sim_mat = cosine_similarity(tfidfs_df_filtered.to_numpy()).round(5)\n",
    "tfidfs_dist_mat = 1 - cosine_similarity(tfidfs_df_filtered.to_numpy())\n",
    "tfidfs_dist_mat = tfidfs_dist_mat.round(5)"
   ]
  },
  {
   "cell_type": "code",
   "execution_count": 762,
   "metadata": {},
   "outputs": [],
   "source": [
    "authors = authors_df[\"author\"].tolist()"
   ]
  },
  {
   "cell_type": "code",
   "execution_count": 763,
   "metadata": {},
   "outputs": [
    {
     "data": {
      "text/html": [
       "<div>\n",
       "<style scoped>\n",
       "    .dataframe tbody tr th:only-of-type {\n",
       "        vertical-align: middle;\n",
       "    }\n",
       "\n",
       "    .dataframe tbody tr th {\n",
       "        vertical-align: top;\n",
       "    }\n",
       "\n",
       "    .dataframe thead th {\n",
       "        text-align: right;\n",
       "    }\n",
       "</style>\n",
       "<table border=\"1\" class=\"dataframe\">\n",
       "  <thead>\n",
       "    <tr style=\"text-align: right;\">\n",
       "      <th></th>\n",
       "      <th>Polycarp</th>\n",
       "      <th>Paul of Tarsus</th>\n",
       "      <th>Clemens Romanus</th>\n",
       "      <th>Pseudo-Justinus Martyr</th>\n",
       "      <th>Barnabas</th>\n",
       "      <th>Hermas</th>\n",
       "      <th>Pauline literature</th>\n",
       "      <th>Didache</th>\n",
       "      <th>GNT rest</th>\n",
       "      <th>Justinus Martyr</th>\n",
       "      <th>...</th>\n",
       "      <th>Luke (the evangelist)</th>\n",
       "      <th>Ignatius Antiochenus</th>\n",
       "      <th>Basil</th>\n",
       "      <th>Maximus of Tyre</th>\n",
       "      <th>Hippolytus</th>\n",
       "      <th>Irenaeus</th>\n",
       "      <th>Tatianus</th>\n",
       "      <th>Martyrium Polycarpi</th>\n",
       "      <th>Mark</th>\n",
       "      <th>Dionysius Corinthius</th>\n",
       "    </tr>\n",
       "  </thead>\n",
       "  <tbody>\n",
       "    <tr>\n",
       "      <th>Polycarp</th>\n",
       "      <td>1.00000</td>\n",
       "      <td>0.22181</td>\n",
       "      <td>0.23814</td>\n",
       "      <td>0.00707</td>\n",
       "      <td>0.07773</td>\n",
       "      <td>0.22399</td>\n",
       "      <td>0.12430</td>\n",
       "      <td>0.03068</td>\n",
       "      <td>0.17802</td>\n",
       "      <td>0.13459</td>\n",
       "      <td>...</td>\n",
       "      <td>0.09773</td>\n",
       "      <td>0.13008</td>\n",
       "      <td>0.04870</td>\n",
       "      <td>0.04291</td>\n",
       "      <td>0.02438</td>\n",
       "      <td>0.04281</td>\n",
       "      <td>0.0</td>\n",
       "      <td>0.0</td>\n",
       "      <td>0.0</td>\n",
       "      <td>0.0</td>\n",
       "    </tr>\n",
       "    <tr>\n",
       "      <th>Paul of Tarsus</th>\n",
       "      <td>0.22181</td>\n",
       "      <td>1.00000</td>\n",
       "      <td>0.36451</td>\n",
       "      <td>0.20356</td>\n",
       "      <td>0.18825</td>\n",
       "      <td>0.25099</td>\n",
       "      <td>0.21144</td>\n",
       "      <td>0.03965</td>\n",
       "      <td>0.35972</td>\n",
       "      <td>0.27068</td>\n",
       "      <td>...</td>\n",
       "      <td>0.18380</td>\n",
       "      <td>0.02245</td>\n",
       "      <td>0.20670</td>\n",
       "      <td>0.08929</td>\n",
       "      <td>0.08067</td>\n",
       "      <td>0.04672</td>\n",
       "      <td>0.0</td>\n",
       "      <td>0.0</td>\n",
       "      <td>0.0</td>\n",
       "      <td>0.0</td>\n",
       "    </tr>\n",
       "    <tr>\n",
       "      <th>Clemens Romanus</th>\n",
       "      <td>0.23814</td>\n",
       "      <td>0.36451</td>\n",
       "      <td>1.00000</td>\n",
       "      <td>0.08265</td>\n",
       "      <td>0.20547</td>\n",
       "      <td>0.31172</td>\n",
       "      <td>0.29054</td>\n",
       "      <td>0.06315</td>\n",
       "      <td>0.29542</td>\n",
       "      <td>0.30911</td>\n",
       "      <td>...</td>\n",
       "      <td>0.24766</td>\n",
       "      <td>0.00000</td>\n",
       "      <td>0.19421</td>\n",
       "      <td>0.05100</td>\n",
       "      <td>0.07233</td>\n",
       "      <td>0.10855</td>\n",
       "      <td>0.0</td>\n",
       "      <td>0.0</td>\n",
       "      <td>0.0</td>\n",
       "      <td>0.0</td>\n",
       "    </tr>\n",
       "    <tr>\n",
       "      <th>Pseudo-Justinus Martyr</th>\n",
       "      <td>0.00707</td>\n",
       "      <td>0.20356</td>\n",
       "      <td>0.08265</td>\n",
       "      <td>1.00000</td>\n",
       "      <td>0.05827</td>\n",
       "      <td>0.13644</td>\n",
       "      <td>0.08101</td>\n",
       "      <td>0.00000</td>\n",
       "      <td>0.16769</td>\n",
       "      <td>0.13493</td>\n",
       "      <td>...</td>\n",
       "      <td>0.03768</td>\n",
       "      <td>0.00000</td>\n",
       "      <td>0.12313</td>\n",
       "      <td>0.09990</td>\n",
       "      <td>0.03972</td>\n",
       "      <td>0.05339</td>\n",
       "      <td>0.0</td>\n",
       "      <td>0.0</td>\n",
       "      <td>0.0</td>\n",
       "      <td>0.0</td>\n",
       "    </tr>\n",
       "    <tr>\n",
       "      <th>Barnabas</th>\n",
       "      <td>0.07773</td>\n",
       "      <td>0.18825</td>\n",
       "      <td>0.20547</td>\n",
       "      <td>0.05827</td>\n",
       "      <td>1.00000</td>\n",
       "      <td>0.19986</td>\n",
       "      <td>0.15717</td>\n",
       "      <td>0.37385</td>\n",
       "      <td>0.18561</td>\n",
       "      <td>0.52461</td>\n",
       "      <td>...</td>\n",
       "      <td>0.16731</td>\n",
       "      <td>0.00000</td>\n",
       "      <td>0.08794</td>\n",
       "      <td>0.05815</td>\n",
       "      <td>0.01787</td>\n",
       "      <td>0.06708</td>\n",
       "      <td>0.0</td>\n",
       "      <td>0.0</td>\n",
       "      <td>0.0</td>\n",
       "      <td>0.0</td>\n",
       "    </tr>\n",
       "    <tr>\n",
       "      <th>Hermas</th>\n",
       "      <td>0.22399</td>\n",
       "      <td>0.25099</td>\n",
       "      <td>0.31172</td>\n",
       "      <td>0.13644</td>\n",
       "      <td>0.19986</td>\n",
       "      <td>1.00000</td>\n",
       "      <td>0.25905</td>\n",
       "      <td>0.12739</td>\n",
       "      <td>0.27988</td>\n",
       "      <td>0.24091</td>\n",
       "      <td>...</td>\n",
       "      <td>0.22410</td>\n",
       "      <td>0.00000</td>\n",
       "      <td>0.19954</td>\n",
       "      <td>0.08903</td>\n",
       "      <td>0.09794</td>\n",
       "      <td>0.13496</td>\n",
       "      <td>0.0</td>\n",
       "      <td>0.0</td>\n",
       "      <td>0.0</td>\n",
       "      <td>0.0</td>\n",
       "    </tr>\n",
       "    <tr>\n",
       "      <th>Pauline literature</th>\n",
       "      <td>0.12430</td>\n",
       "      <td>0.21144</td>\n",
       "      <td>0.29054</td>\n",
       "      <td>0.08101</td>\n",
       "      <td>0.15717</td>\n",
       "      <td>0.25905</td>\n",
       "      <td>1.00000</td>\n",
       "      <td>0.11154</td>\n",
       "      <td>0.24275</td>\n",
       "      <td>0.23870</td>\n",
       "      <td>...</td>\n",
       "      <td>0.15668</td>\n",
       "      <td>0.00000</td>\n",
       "      <td>0.18082</td>\n",
       "      <td>0.02560</td>\n",
       "      <td>0.04015</td>\n",
       "      <td>0.02968</td>\n",
       "      <td>0.0</td>\n",
       "      <td>0.0</td>\n",
       "      <td>0.0</td>\n",
       "      <td>0.0</td>\n",
       "    </tr>\n",
       "    <tr>\n",
       "      <th>Didache</th>\n",
       "      <td>0.03068</td>\n",
       "      <td>0.03965</td>\n",
       "      <td>0.06315</td>\n",
       "      <td>0.00000</td>\n",
       "      <td>0.37385</td>\n",
       "      <td>0.12739</td>\n",
       "      <td>0.11154</td>\n",
       "      <td>1.00000</td>\n",
       "      <td>0.02730</td>\n",
       "      <td>0.11109</td>\n",
       "      <td>...</td>\n",
       "      <td>0.08341</td>\n",
       "      <td>0.00000</td>\n",
       "      <td>0.05273</td>\n",
       "      <td>0.00000</td>\n",
       "      <td>0.00000</td>\n",
       "      <td>0.00000</td>\n",
       "      <td>0.0</td>\n",
       "      <td>0.0</td>\n",
       "      <td>0.0</td>\n",
       "      <td>0.0</td>\n",
       "    </tr>\n",
       "    <tr>\n",
       "      <th>GNT rest</th>\n",
       "      <td>0.17802</td>\n",
       "      <td>0.35972</td>\n",
       "      <td>0.29542</td>\n",
       "      <td>0.16769</td>\n",
       "      <td>0.18561</td>\n",
       "      <td>0.27988</td>\n",
       "      <td>0.24275</td>\n",
       "      <td>0.02730</td>\n",
       "      <td>1.00000</td>\n",
       "      <td>0.32517</td>\n",
       "      <td>...</td>\n",
       "      <td>0.22292</td>\n",
       "      <td>0.05269</td>\n",
       "      <td>0.15571</td>\n",
       "      <td>0.03767</td>\n",
       "      <td>0.04363</td>\n",
       "      <td>0.03382</td>\n",
       "      <td>0.0</td>\n",
       "      <td>0.0</td>\n",
       "      <td>0.0</td>\n",
       "      <td>0.0</td>\n",
       "    </tr>\n",
       "    <tr>\n",
       "      <th>Justinus Martyr</th>\n",
       "      <td>0.13459</td>\n",
       "      <td>0.27068</td>\n",
       "      <td>0.30911</td>\n",
       "      <td>0.13493</td>\n",
       "      <td>0.52461</td>\n",
       "      <td>0.24091</td>\n",
       "      <td>0.23870</td>\n",
       "      <td>0.11109</td>\n",
       "      <td>0.32517</td>\n",
       "      <td>1.00000</td>\n",
       "      <td>...</td>\n",
       "      <td>0.25626</td>\n",
       "      <td>0.02827</td>\n",
       "      <td>0.23503</td>\n",
       "      <td>0.09629</td>\n",
       "      <td>0.09710</td>\n",
       "      <td>0.08615</td>\n",
       "      <td>0.0</td>\n",
       "      <td>0.0</td>\n",
       "      <td>0.0</td>\n",
       "      <td>0.0</td>\n",
       "    </tr>\n",
       "    <tr>\n",
       "      <th>Clement of Alexandria</th>\n",
       "      <td>0.26179</td>\n",
       "      <td>0.37400</td>\n",
       "      <td>0.36378</td>\n",
       "      <td>0.11615</td>\n",
       "      <td>0.33239</td>\n",
       "      <td>0.38282</td>\n",
       "      <td>0.32681</td>\n",
       "      <td>0.15826</td>\n",
       "      <td>0.29090</td>\n",
       "      <td>0.43183</td>\n",
       "      <td>...</td>\n",
       "      <td>0.29794</td>\n",
       "      <td>0.02062</td>\n",
       "      <td>0.29991</td>\n",
       "      <td>0.14062</td>\n",
       "      <td>0.21830</td>\n",
       "      <td>0.12568</td>\n",
       "      <td>0.0</td>\n",
       "      <td>0.0</td>\n",
       "      <td>0.0</td>\n",
       "      <td>0.0</td>\n",
       "    </tr>\n",
       "    <tr>\n",
       "      <th>Origenes</th>\n",
       "      <td>0.24277</td>\n",
       "      <td>0.46308</td>\n",
       "      <td>0.44798</td>\n",
       "      <td>0.24613</td>\n",
       "      <td>0.29941</td>\n",
       "      <td>0.44925</td>\n",
       "      <td>0.32554</td>\n",
       "      <td>0.18522</td>\n",
       "      <td>0.43024</td>\n",
       "      <td>0.50422</td>\n",
       "      <td>...</td>\n",
       "      <td>0.31124</td>\n",
       "      <td>0.02119</td>\n",
       "      <td>0.46534</td>\n",
       "      <td>0.12313</td>\n",
       "      <td>0.23055</td>\n",
       "      <td>0.13423</td>\n",
       "      <td>0.0</td>\n",
       "      <td>0.0</td>\n",
       "      <td>0.0</td>\n",
       "      <td>0.0</td>\n",
       "    </tr>\n",
       "    <tr>\n",
       "      <th>Athenagoras</th>\n",
       "      <td>0.09963</td>\n",
       "      <td>0.18452</td>\n",
       "      <td>0.17239</td>\n",
       "      <td>0.09237</td>\n",
       "      <td>0.21492</td>\n",
       "      <td>0.23691</td>\n",
       "      <td>0.11377</td>\n",
       "      <td>0.05418</td>\n",
       "      <td>0.15800</td>\n",
       "      <td>0.29577</td>\n",
       "      <td>...</td>\n",
       "      <td>0.11022</td>\n",
       "      <td>0.00000</td>\n",
       "      <td>0.15404</td>\n",
       "      <td>0.11965</td>\n",
       "      <td>0.12021</td>\n",
       "      <td>0.07234</td>\n",
       "      <td>0.0</td>\n",
       "      <td>0.0</td>\n",
       "      <td>0.0</td>\n",
       "      <td>0.0</td>\n",
       "    </tr>\n",
       "    <tr>\n",
       "      <th>Theophilus Antiochenus</th>\n",
       "      <td>0.12965</td>\n",
       "      <td>0.32512</td>\n",
       "      <td>0.23704</td>\n",
       "      <td>0.11235</td>\n",
       "      <td>0.16034</td>\n",
       "      <td>0.20098</td>\n",
       "      <td>0.14149</td>\n",
       "      <td>0.04039</td>\n",
       "      <td>0.18859</td>\n",
       "      <td>0.23542</td>\n",
       "      <td>...</td>\n",
       "      <td>0.14369</td>\n",
       "      <td>0.00000</td>\n",
       "      <td>0.23565</td>\n",
       "      <td>0.13227</td>\n",
       "      <td>0.13885</td>\n",
       "      <td>0.02408</td>\n",
       "      <td>0.0</td>\n",
       "      <td>0.0</td>\n",
       "      <td>0.0</td>\n",
       "      <td>0.0</td>\n",
       "    </tr>\n",
       "    <tr>\n",
       "      <th>Matthew</th>\n",
       "      <td>0.24653</td>\n",
       "      <td>0.16317</td>\n",
       "      <td>0.16098</td>\n",
       "      <td>0.02919</td>\n",
       "      <td>0.08756</td>\n",
       "      <td>0.14251</td>\n",
       "      <td>0.04613</td>\n",
       "      <td>0.06650</td>\n",
       "      <td>0.11754</td>\n",
       "      <td>0.13365</td>\n",
       "      <td>...</td>\n",
       "      <td>0.08955</td>\n",
       "      <td>0.10193</td>\n",
       "      <td>0.06050</td>\n",
       "      <td>0.00000</td>\n",
       "      <td>0.02013</td>\n",
       "      <td>0.04223</td>\n",
       "      <td>0.0</td>\n",
       "      <td>0.0</td>\n",
       "      <td>0.0</td>\n",
       "      <td>0.0</td>\n",
       "    </tr>\n",
       "    <tr>\n",
       "      <th>Eusebius</th>\n",
       "      <td>0.20912</td>\n",
       "      <td>0.39914</td>\n",
       "      <td>0.38066</td>\n",
       "      <td>0.18907</td>\n",
       "      <td>0.32789</td>\n",
       "      <td>0.36494</td>\n",
       "      <td>0.28870</td>\n",
       "      <td>0.13166</td>\n",
       "      <td>0.36954</td>\n",
       "      <td>0.56560</td>\n",
       "      <td>...</td>\n",
       "      <td>0.35265</td>\n",
       "      <td>0.00000</td>\n",
       "      <td>0.37031</td>\n",
       "      <td>0.16006</td>\n",
       "      <td>0.22279</td>\n",
       "      <td>0.11102</td>\n",
       "      <td>0.0</td>\n",
       "      <td>0.0</td>\n",
       "      <td>0.0</td>\n",
       "      <td>0.0</td>\n",
       "    </tr>\n",
       "    <tr>\n",
       "      <th>Johnannine literature</th>\n",
       "      <td>0.11631</td>\n",
       "      <td>0.17784</td>\n",
       "      <td>0.11480</td>\n",
       "      <td>0.22975</td>\n",
       "      <td>0.07599</td>\n",
       "      <td>0.12846</td>\n",
       "      <td>0.11356</td>\n",
       "      <td>0.02996</td>\n",
       "      <td>0.27019</td>\n",
       "      <td>0.18458</td>\n",
       "      <td>...</td>\n",
       "      <td>0.07146</td>\n",
       "      <td>0.00000</td>\n",
       "      <td>0.18722</td>\n",
       "      <td>0.00000</td>\n",
       "      <td>0.05823</td>\n",
       "      <td>0.06529</td>\n",
       "      <td>0.0</td>\n",
       "      <td>0.0</td>\n",
       "      <td>0.0</td>\n",
       "      <td>0.0</td>\n",
       "    </tr>\n",
       "    <tr>\n",
       "      <th>Epiphanius</th>\n",
       "      <td>0.17861</td>\n",
       "      <td>0.51618</td>\n",
       "      <td>0.31564</td>\n",
       "      <td>0.16115</td>\n",
       "      <td>0.23642</td>\n",
       "      <td>0.34346</td>\n",
       "      <td>0.26153</td>\n",
       "      <td>0.08202</td>\n",
       "      <td>0.28021</td>\n",
       "      <td>0.27432</td>\n",
       "      <td>...</td>\n",
       "      <td>0.21906</td>\n",
       "      <td>0.05815</td>\n",
       "      <td>0.22476</td>\n",
       "      <td>0.17112</td>\n",
       "      <td>0.13655</td>\n",
       "      <td>0.17731</td>\n",
       "      <td>0.0</td>\n",
       "      <td>0.0</td>\n",
       "      <td>0.0</td>\n",
       "      <td>0.0</td>\n",
       "    </tr>\n",
       "    <tr>\n",
       "      <th>Athanasius of Alexandria</th>\n",
       "      <td>0.11763</td>\n",
       "      <td>0.12524</td>\n",
       "      <td>0.16184</td>\n",
       "      <td>0.09923</td>\n",
       "      <td>0.18492</td>\n",
       "      <td>0.17890</td>\n",
       "      <td>0.24446</td>\n",
       "      <td>0.18848</td>\n",
       "      <td>0.15215</td>\n",
       "      <td>0.26006</td>\n",
       "      <td>...</td>\n",
       "      <td>0.15591</td>\n",
       "      <td>0.00000</td>\n",
       "      <td>0.10952</td>\n",
       "      <td>0.14307</td>\n",
       "      <td>0.06418</td>\n",
       "      <td>0.02587</td>\n",
       "      <td>0.0</td>\n",
       "      <td>0.0</td>\n",
       "      <td>0.0</td>\n",
       "      <td>0.0</td>\n",
       "    </tr>\n",
       "    <tr>\n",
       "      <th>Gregorius Nazianzenus</th>\n",
       "      <td>0.04839</td>\n",
       "      <td>0.14224</td>\n",
       "      <td>0.19748</td>\n",
       "      <td>0.07563</td>\n",
       "      <td>0.08596</td>\n",
       "      <td>0.08110</td>\n",
       "      <td>0.15651</td>\n",
       "      <td>0.00000</td>\n",
       "      <td>0.24855</td>\n",
       "      <td>0.18184</td>\n",
       "      <td>...</td>\n",
       "      <td>0.04543</td>\n",
       "      <td>0.00000</td>\n",
       "      <td>0.09555</td>\n",
       "      <td>0.09239</td>\n",
       "      <td>0.03646</td>\n",
       "      <td>0.01980</td>\n",
       "      <td>0.0</td>\n",
       "      <td>0.0</td>\n",
       "      <td>0.0</td>\n",
       "      <td>0.0</td>\n",
       "    </tr>\n",
       "    <tr>\n",
       "      <th>Luke (the evangelist)</th>\n",
       "      <td>0.09773</td>\n",
       "      <td>0.18380</td>\n",
       "      <td>0.24766</td>\n",
       "      <td>0.03768</td>\n",
       "      <td>0.16731</td>\n",
       "      <td>0.22410</td>\n",
       "      <td>0.15668</td>\n",
       "      <td>0.08341</td>\n",
       "      <td>0.22292</td>\n",
       "      <td>0.25626</td>\n",
       "      <td>...</td>\n",
       "      <td>1.00000</td>\n",
       "      <td>0.00000</td>\n",
       "      <td>0.17312</td>\n",
       "      <td>0.00000</td>\n",
       "      <td>0.05493</td>\n",
       "      <td>0.03187</td>\n",
       "      <td>0.0</td>\n",
       "      <td>0.0</td>\n",
       "      <td>0.0</td>\n",
       "      <td>0.0</td>\n",
       "    </tr>\n",
       "    <tr>\n",
       "      <th>Ignatius Antiochenus</th>\n",
       "      <td>0.13008</td>\n",
       "      <td>0.02245</td>\n",
       "      <td>0.00000</td>\n",
       "      <td>0.00000</td>\n",
       "      <td>0.00000</td>\n",
       "      <td>0.00000</td>\n",
       "      <td>0.00000</td>\n",
       "      <td>0.00000</td>\n",
       "      <td>0.05269</td>\n",
       "      <td>0.02827</td>\n",
       "      <td>...</td>\n",
       "      <td>0.00000</td>\n",
       "      <td>1.00000</td>\n",
       "      <td>0.00000</td>\n",
       "      <td>0.00000</td>\n",
       "      <td>0.00000</td>\n",
       "      <td>0.00000</td>\n",
       "      <td>0.0</td>\n",
       "      <td>0.0</td>\n",
       "      <td>0.0</td>\n",
       "      <td>0.0</td>\n",
       "    </tr>\n",
       "    <tr>\n",
       "      <th>Basil</th>\n",
       "      <td>0.04870</td>\n",
       "      <td>0.20670</td>\n",
       "      <td>0.19421</td>\n",
       "      <td>0.12313</td>\n",
       "      <td>0.08794</td>\n",
       "      <td>0.19954</td>\n",
       "      <td>0.18082</td>\n",
       "      <td>0.05273</td>\n",
       "      <td>0.15571</td>\n",
       "      <td>0.23503</td>\n",
       "      <td>...</td>\n",
       "      <td>0.17312</td>\n",
       "      <td>0.00000</td>\n",
       "      <td>1.00000</td>\n",
       "      <td>0.04453</td>\n",
       "      <td>0.12523</td>\n",
       "      <td>0.04369</td>\n",
       "      <td>0.0</td>\n",
       "      <td>0.0</td>\n",
       "      <td>0.0</td>\n",
       "      <td>0.0</td>\n",
       "    </tr>\n",
       "    <tr>\n",
       "      <th>Maximus of Tyre</th>\n",
       "      <td>0.04291</td>\n",
       "      <td>0.08929</td>\n",
       "      <td>0.05100</td>\n",
       "      <td>0.09990</td>\n",
       "      <td>0.05815</td>\n",
       "      <td>0.08903</td>\n",
       "      <td>0.02560</td>\n",
       "      <td>0.00000</td>\n",
       "      <td>0.03767</td>\n",
       "      <td>0.09629</td>\n",
       "      <td>...</td>\n",
       "      <td>0.00000</td>\n",
       "      <td>0.00000</td>\n",
       "      <td>0.04453</td>\n",
       "      <td>1.00000</td>\n",
       "      <td>0.06002</td>\n",
       "      <td>0.04832</td>\n",
       "      <td>0.0</td>\n",
       "      <td>0.0</td>\n",
       "      <td>0.0</td>\n",
       "      <td>0.0</td>\n",
       "    </tr>\n",
       "    <tr>\n",
       "      <th>Hippolytus</th>\n",
       "      <td>0.02438</td>\n",
       "      <td>0.08067</td>\n",
       "      <td>0.07233</td>\n",
       "      <td>0.03972</td>\n",
       "      <td>0.01787</td>\n",
       "      <td>0.09794</td>\n",
       "      <td>0.04015</td>\n",
       "      <td>0.00000</td>\n",
       "      <td>0.04363</td>\n",
       "      <td>0.09710</td>\n",
       "      <td>...</td>\n",
       "      <td>0.05493</td>\n",
       "      <td>0.00000</td>\n",
       "      <td>0.12523</td>\n",
       "      <td>0.06002</td>\n",
       "      <td>1.00000</td>\n",
       "      <td>0.02932</td>\n",
       "      <td>0.0</td>\n",
       "      <td>0.0</td>\n",
       "      <td>0.0</td>\n",
       "      <td>0.0</td>\n",
       "    </tr>\n",
       "    <tr>\n",
       "      <th>Irenaeus</th>\n",
       "      <td>0.04281</td>\n",
       "      <td>0.04672</td>\n",
       "      <td>0.10855</td>\n",
       "      <td>0.05339</td>\n",
       "      <td>0.06708</td>\n",
       "      <td>0.13496</td>\n",
       "      <td>0.02968</td>\n",
       "      <td>0.00000</td>\n",
       "      <td>0.03382</td>\n",
       "      <td>0.08615</td>\n",
       "      <td>...</td>\n",
       "      <td>0.03187</td>\n",
       "      <td>0.00000</td>\n",
       "      <td>0.04369</td>\n",
       "      <td>0.04832</td>\n",
       "      <td>0.02932</td>\n",
       "      <td>1.00000</td>\n",
       "      <td>0.0</td>\n",
       "      <td>0.0</td>\n",
       "      <td>0.0</td>\n",
       "      <td>0.0</td>\n",
       "    </tr>\n",
       "    <tr>\n",
       "      <th>Tatianus</th>\n",
       "      <td>0.00000</td>\n",
       "      <td>0.00000</td>\n",
       "      <td>0.00000</td>\n",
       "      <td>0.00000</td>\n",
       "      <td>0.00000</td>\n",
       "      <td>0.00000</td>\n",
       "      <td>0.00000</td>\n",
       "      <td>0.00000</td>\n",
       "      <td>0.00000</td>\n",
       "      <td>0.00000</td>\n",
       "      <td>...</td>\n",
       "      <td>0.00000</td>\n",
       "      <td>0.00000</td>\n",
       "      <td>0.00000</td>\n",
       "      <td>0.00000</td>\n",
       "      <td>0.00000</td>\n",
       "      <td>0.00000</td>\n",
       "      <td>0.0</td>\n",
       "      <td>0.0</td>\n",
       "      <td>0.0</td>\n",
       "      <td>0.0</td>\n",
       "    </tr>\n",
       "    <tr>\n",
       "      <th>Martyrium Polycarpi</th>\n",
       "      <td>0.00000</td>\n",
       "      <td>0.00000</td>\n",
       "      <td>0.00000</td>\n",
       "      <td>0.00000</td>\n",
       "      <td>0.00000</td>\n",
       "      <td>0.00000</td>\n",
       "      <td>0.00000</td>\n",
       "      <td>0.00000</td>\n",
       "      <td>0.00000</td>\n",
       "      <td>0.00000</td>\n",
       "      <td>...</td>\n",
       "      <td>0.00000</td>\n",
       "      <td>0.00000</td>\n",
       "      <td>0.00000</td>\n",
       "      <td>0.00000</td>\n",
       "      <td>0.00000</td>\n",
       "      <td>0.00000</td>\n",
       "      <td>0.0</td>\n",
       "      <td>0.0</td>\n",
       "      <td>0.0</td>\n",
       "      <td>0.0</td>\n",
       "    </tr>\n",
       "    <tr>\n",
       "      <th>Mark</th>\n",
       "      <td>0.00000</td>\n",
       "      <td>0.00000</td>\n",
       "      <td>0.00000</td>\n",
       "      <td>0.00000</td>\n",
       "      <td>0.00000</td>\n",
       "      <td>0.00000</td>\n",
       "      <td>0.00000</td>\n",
       "      <td>0.00000</td>\n",
       "      <td>0.00000</td>\n",
       "      <td>0.00000</td>\n",
       "      <td>...</td>\n",
       "      <td>0.00000</td>\n",
       "      <td>0.00000</td>\n",
       "      <td>0.00000</td>\n",
       "      <td>0.00000</td>\n",
       "      <td>0.00000</td>\n",
       "      <td>0.00000</td>\n",
       "      <td>0.0</td>\n",
       "      <td>0.0</td>\n",
       "      <td>0.0</td>\n",
       "      <td>0.0</td>\n",
       "    </tr>\n",
       "    <tr>\n",
       "      <th>Dionysius Corinthius</th>\n",
       "      <td>0.00000</td>\n",
       "      <td>0.00000</td>\n",
       "      <td>0.00000</td>\n",
       "      <td>0.00000</td>\n",
       "      <td>0.00000</td>\n",
       "      <td>0.00000</td>\n",
       "      <td>0.00000</td>\n",
       "      <td>0.00000</td>\n",
       "      <td>0.00000</td>\n",
       "      <td>0.00000</td>\n",
       "      <td>...</td>\n",
       "      <td>0.00000</td>\n",
       "      <td>0.00000</td>\n",
       "      <td>0.00000</td>\n",
       "      <td>0.00000</td>\n",
       "      <td>0.00000</td>\n",
       "      <td>0.00000</td>\n",
       "      <td>0.0</td>\n",
       "      <td>0.0</td>\n",
       "      <td>0.0</td>\n",
       "      <td>0.0</td>\n",
       "    </tr>\n",
       "  </tbody>\n",
       "</table>\n",
       "<p>30 rows × 30 columns</p>\n",
       "</div>"
      ],
      "text/plain": [
       "                          Polycarp  Paul of Tarsus  Clemens Romanus  \\\n",
       "Polycarp                   1.00000         0.22181          0.23814   \n",
       "Paul of Tarsus             0.22181         1.00000          0.36451   \n",
       "Clemens Romanus            0.23814         0.36451          1.00000   \n",
       "Pseudo-Justinus Martyr     0.00707         0.20356          0.08265   \n",
       "Barnabas                   0.07773         0.18825          0.20547   \n",
       "Hermas                     0.22399         0.25099          0.31172   \n",
       "Pauline literature         0.12430         0.21144          0.29054   \n",
       "Didache                    0.03068         0.03965          0.06315   \n",
       "GNT rest                   0.17802         0.35972          0.29542   \n",
       "Justinus Martyr            0.13459         0.27068          0.30911   \n",
       "Clement of Alexandria      0.26179         0.37400          0.36378   \n",
       "Origenes                   0.24277         0.46308          0.44798   \n",
       "Athenagoras                0.09963         0.18452          0.17239   \n",
       "Theophilus Antiochenus     0.12965         0.32512          0.23704   \n",
       "Matthew                    0.24653         0.16317          0.16098   \n",
       "Eusebius                   0.20912         0.39914          0.38066   \n",
       "Johnannine literature      0.11631         0.17784          0.11480   \n",
       "Epiphanius                 0.17861         0.51618          0.31564   \n",
       "Athanasius of Alexandria   0.11763         0.12524          0.16184   \n",
       "Gregorius Nazianzenus      0.04839         0.14224          0.19748   \n",
       "Luke (the evangelist)      0.09773         0.18380          0.24766   \n",
       "Ignatius Antiochenus       0.13008         0.02245          0.00000   \n",
       "Basil                      0.04870         0.20670          0.19421   \n",
       "Maximus of Tyre            0.04291         0.08929          0.05100   \n",
       "Hippolytus                 0.02438         0.08067          0.07233   \n",
       "Irenaeus                   0.04281         0.04672          0.10855   \n",
       "Tatianus                   0.00000         0.00000          0.00000   \n",
       "Martyrium Polycarpi        0.00000         0.00000          0.00000   \n",
       "Mark                       0.00000         0.00000          0.00000   \n",
       "Dionysius Corinthius       0.00000         0.00000          0.00000   \n",
       "\n",
       "                          Pseudo-Justinus Martyr  Barnabas   Hermas  \\\n",
       "Polycarp                                 0.00707   0.07773  0.22399   \n",
       "Paul of Tarsus                           0.20356   0.18825  0.25099   \n",
       "Clemens Romanus                          0.08265   0.20547  0.31172   \n",
       "Pseudo-Justinus Martyr                   1.00000   0.05827  0.13644   \n",
       "Barnabas                                 0.05827   1.00000  0.19986   \n",
       "Hermas                                   0.13644   0.19986  1.00000   \n",
       "Pauline literature                       0.08101   0.15717  0.25905   \n",
       "Didache                                  0.00000   0.37385  0.12739   \n",
       "GNT rest                                 0.16769   0.18561  0.27988   \n",
       "Justinus Martyr                          0.13493   0.52461  0.24091   \n",
       "Clement of Alexandria                    0.11615   0.33239  0.38282   \n",
       "Origenes                                 0.24613   0.29941  0.44925   \n",
       "Athenagoras                              0.09237   0.21492  0.23691   \n",
       "Theophilus Antiochenus                   0.11235   0.16034  0.20098   \n",
       "Matthew                                  0.02919   0.08756  0.14251   \n",
       "Eusebius                                 0.18907   0.32789  0.36494   \n",
       "Johnannine literature                    0.22975   0.07599  0.12846   \n",
       "Epiphanius                               0.16115   0.23642  0.34346   \n",
       "Athanasius of Alexandria                 0.09923   0.18492  0.17890   \n",
       "Gregorius Nazianzenus                    0.07563   0.08596  0.08110   \n",
       "Luke (the evangelist)                    0.03768   0.16731  0.22410   \n",
       "Ignatius Antiochenus                     0.00000   0.00000  0.00000   \n",
       "Basil                                    0.12313   0.08794  0.19954   \n",
       "Maximus of Tyre                          0.09990   0.05815  0.08903   \n",
       "Hippolytus                               0.03972   0.01787  0.09794   \n",
       "Irenaeus                                 0.05339   0.06708  0.13496   \n",
       "Tatianus                                 0.00000   0.00000  0.00000   \n",
       "Martyrium Polycarpi                      0.00000   0.00000  0.00000   \n",
       "Mark                                     0.00000   0.00000  0.00000   \n",
       "Dionysius Corinthius                     0.00000   0.00000  0.00000   \n",
       "\n",
       "                          Pauline literature  Didache  GNT rest  \\\n",
       "Polycarp                             0.12430  0.03068   0.17802   \n",
       "Paul of Tarsus                       0.21144  0.03965   0.35972   \n",
       "Clemens Romanus                      0.29054  0.06315   0.29542   \n",
       "Pseudo-Justinus Martyr               0.08101  0.00000   0.16769   \n",
       "Barnabas                             0.15717  0.37385   0.18561   \n",
       "Hermas                               0.25905  0.12739   0.27988   \n",
       "Pauline literature                   1.00000  0.11154   0.24275   \n",
       "Didache                              0.11154  1.00000   0.02730   \n",
       "GNT rest                             0.24275  0.02730   1.00000   \n",
       "Justinus Martyr                      0.23870  0.11109   0.32517   \n",
       "Clement of Alexandria                0.32681  0.15826   0.29090   \n",
       "Origenes                             0.32554  0.18522   0.43024   \n",
       "Athenagoras                          0.11377  0.05418   0.15800   \n",
       "Theophilus Antiochenus               0.14149  0.04039   0.18859   \n",
       "Matthew                              0.04613  0.06650   0.11754   \n",
       "Eusebius                             0.28870  0.13166   0.36954   \n",
       "Johnannine literature                0.11356  0.02996   0.27019   \n",
       "Epiphanius                           0.26153  0.08202   0.28021   \n",
       "Athanasius of Alexandria             0.24446  0.18848   0.15215   \n",
       "Gregorius Nazianzenus                0.15651  0.00000   0.24855   \n",
       "Luke (the evangelist)                0.15668  0.08341   0.22292   \n",
       "Ignatius Antiochenus                 0.00000  0.00000   0.05269   \n",
       "Basil                                0.18082  0.05273   0.15571   \n",
       "Maximus of Tyre                      0.02560  0.00000   0.03767   \n",
       "Hippolytus                           0.04015  0.00000   0.04363   \n",
       "Irenaeus                             0.02968  0.00000   0.03382   \n",
       "Tatianus                             0.00000  0.00000   0.00000   \n",
       "Martyrium Polycarpi                  0.00000  0.00000   0.00000   \n",
       "Mark                                 0.00000  0.00000   0.00000   \n",
       "Dionysius Corinthius                 0.00000  0.00000   0.00000   \n",
       "\n",
       "                          Justinus Martyr  ...  Luke (the evangelist)  \\\n",
       "Polycarp                          0.13459  ...                0.09773   \n",
       "Paul of Tarsus                    0.27068  ...                0.18380   \n",
       "Clemens Romanus                   0.30911  ...                0.24766   \n",
       "Pseudo-Justinus Martyr            0.13493  ...                0.03768   \n",
       "Barnabas                          0.52461  ...                0.16731   \n",
       "Hermas                            0.24091  ...                0.22410   \n",
       "Pauline literature                0.23870  ...                0.15668   \n",
       "Didache                           0.11109  ...                0.08341   \n",
       "GNT rest                          0.32517  ...                0.22292   \n",
       "Justinus Martyr                   1.00000  ...                0.25626   \n",
       "Clement of Alexandria             0.43183  ...                0.29794   \n",
       "Origenes                          0.50422  ...                0.31124   \n",
       "Athenagoras                       0.29577  ...                0.11022   \n",
       "Theophilus Antiochenus            0.23542  ...                0.14369   \n",
       "Matthew                           0.13365  ...                0.08955   \n",
       "Eusebius                          0.56560  ...                0.35265   \n",
       "Johnannine literature             0.18458  ...                0.07146   \n",
       "Epiphanius                        0.27432  ...                0.21906   \n",
       "Athanasius of Alexandria          0.26006  ...                0.15591   \n",
       "Gregorius Nazianzenus             0.18184  ...                0.04543   \n",
       "Luke (the evangelist)             0.25626  ...                1.00000   \n",
       "Ignatius Antiochenus              0.02827  ...                0.00000   \n",
       "Basil                             0.23503  ...                0.17312   \n",
       "Maximus of Tyre                   0.09629  ...                0.00000   \n",
       "Hippolytus                        0.09710  ...                0.05493   \n",
       "Irenaeus                          0.08615  ...                0.03187   \n",
       "Tatianus                          0.00000  ...                0.00000   \n",
       "Martyrium Polycarpi               0.00000  ...                0.00000   \n",
       "Mark                              0.00000  ...                0.00000   \n",
       "Dionysius Corinthius              0.00000  ...                0.00000   \n",
       "\n",
       "                          Ignatius Antiochenus    Basil  Maximus of Tyre  \\\n",
       "Polycarp                               0.13008  0.04870          0.04291   \n",
       "Paul of Tarsus                         0.02245  0.20670          0.08929   \n",
       "Clemens Romanus                        0.00000  0.19421          0.05100   \n",
       "Pseudo-Justinus Martyr                 0.00000  0.12313          0.09990   \n",
       "Barnabas                               0.00000  0.08794          0.05815   \n",
       "Hermas                                 0.00000  0.19954          0.08903   \n",
       "Pauline literature                     0.00000  0.18082          0.02560   \n",
       "Didache                                0.00000  0.05273          0.00000   \n",
       "GNT rest                               0.05269  0.15571          0.03767   \n",
       "Justinus Martyr                        0.02827  0.23503          0.09629   \n",
       "Clement of Alexandria                  0.02062  0.29991          0.14062   \n",
       "Origenes                               0.02119  0.46534          0.12313   \n",
       "Athenagoras                            0.00000  0.15404          0.11965   \n",
       "Theophilus Antiochenus                 0.00000  0.23565          0.13227   \n",
       "Matthew                                0.10193  0.06050          0.00000   \n",
       "Eusebius                               0.00000  0.37031          0.16006   \n",
       "Johnannine literature                  0.00000  0.18722          0.00000   \n",
       "Epiphanius                             0.05815  0.22476          0.17112   \n",
       "Athanasius of Alexandria               0.00000  0.10952          0.14307   \n",
       "Gregorius Nazianzenus                  0.00000  0.09555          0.09239   \n",
       "Luke (the evangelist)                  0.00000  0.17312          0.00000   \n",
       "Ignatius Antiochenus                   1.00000  0.00000          0.00000   \n",
       "Basil                                  0.00000  1.00000          0.04453   \n",
       "Maximus of Tyre                        0.00000  0.04453          1.00000   \n",
       "Hippolytus                             0.00000  0.12523          0.06002   \n",
       "Irenaeus                               0.00000  0.04369          0.04832   \n",
       "Tatianus                               0.00000  0.00000          0.00000   \n",
       "Martyrium Polycarpi                    0.00000  0.00000          0.00000   \n",
       "Mark                                   0.00000  0.00000          0.00000   \n",
       "Dionysius Corinthius                   0.00000  0.00000          0.00000   \n",
       "\n",
       "                          Hippolytus  Irenaeus  Tatianus  Martyrium Polycarpi  \\\n",
       "Polycarp                     0.02438   0.04281       0.0                  0.0   \n",
       "Paul of Tarsus               0.08067   0.04672       0.0                  0.0   \n",
       "Clemens Romanus              0.07233   0.10855       0.0                  0.0   \n",
       "Pseudo-Justinus Martyr       0.03972   0.05339       0.0                  0.0   \n",
       "Barnabas                     0.01787   0.06708       0.0                  0.0   \n",
       "Hermas                       0.09794   0.13496       0.0                  0.0   \n",
       "Pauline literature           0.04015   0.02968       0.0                  0.0   \n",
       "Didache                      0.00000   0.00000       0.0                  0.0   \n",
       "GNT rest                     0.04363   0.03382       0.0                  0.0   \n",
       "Justinus Martyr              0.09710   0.08615       0.0                  0.0   \n",
       "Clement of Alexandria        0.21830   0.12568       0.0                  0.0   \n",
       "Origenes                     0.23055   0.13423       0.0                  0.0   \n",
       "Athenagoras                  0.12021   0.07234       0.0                  0.0   \n",
       "Theophilus Antiochenus       0.13885   0.02408       0.0                  0.0   \n",
       "Matthew                      0.02013   0.04223       0.0                  0.0   \n",
       "Eusebius                     0.22279   0.11102       0.0                  0.0   \n",
       "Johnannine literature        0.05823   0.06529       0.0                  0.0   \n",
       "Epiphanius                   0.13655   0.17731       0.0                  0.0   \n",
       "Athanasius of Alexandria     0.06418   0.02587       0.0                  0.0   \n",
       "Gregorius Nazianzenus        0.03646   0.01980       0.0                  0.0   \n",
       "Luke (the evangelist)        0.05493   0.03187       0.0                  0.0   \n",
       "Ignatius Antiochenus         0.00000   0.00000       0.0                  0.0   \n",
       "Basil                        0.12523   0.04369       0.0                  0.0   \n",
       "Maximus of Tyre              0.06002   0.04832       0.0                  0.0   \n",
       "Hippolytus                   1.00000   0.02932       0.0                  0.0   \n",
       "Irenaeus                     0.02932   1.00000       0.0                  0.0   \n",
       "Tatianus                     0.00000   0.00000       0.0                  0.0   \n",
       "Martyrium Polycarpi          0.00000   0.00000       0.0                  0.0   \n",
       "Mark                         0.00000   0.00000       0.0                  0.0   \n",
       "Dionysius Corinthius         0.00000   0.00000       0.0                  0.0   \n",
       "\n",
       "                          Mark  Dionysius Corinthius  \n",
       "Polycarp                   0.0                   0.0  \n",
       "Paul of Tarsus             0.0                   0.0  \n",
       "Clemens Romanus            0.0                   0.0  \n",
       "Pseudo-Justinus Martyr     0.0                   0.0  \n",
       "Barnabas                   0.0                   0.0  \n",
       "Hermas                     0.0                   0.0  \n",
       "Pauline literature         0.0                   0.0  \n",
       "Didache                    0.0                   0.0  \n",
       "GNT rest                   0.0                   0.0  \n",
       "Justinus Martyr            0.0                   0.0  \n",
       "Clement of Alexandria      0.0                   0.0  \n",
       "Origenes                   0.0                   0.0  \n",
       "Athenagoras                0.0                   0.0  \n",
       "Theophilus Antiochenus     0.0                   0.0  \n",
       "Matthew                    0.0                   0.0  \n",
       "Eusebius                   0.0                   0.0  \n",
       "Johnannine literature      0.0                   0.0  \n",
       "Epiphanius                 0.0                   0.0  \n",
       "Athanasius of Alexandria   0.0                   0.0  \n",
       "Gregorius Nazianzenus      0.0                   0.0  \n",
       "Luke (the evangelist)      0.0                   0.0  \n",
       "Ignatius Antiochenus       0.0                   0.0  \n",
       "Basil                      0.0                   0.0  \n",
       "Maximus of Tyre            0.0                   0.0  \n",
       "Hippolytus                 0.0                   0.0  \n",
       "Irenaeus                   0.0                   0.0  \n",
       "Tatianus                   0.0                   0.0  \n",
       "Martyrium Polycarpi        0.0                   0.0  \n",
       "Mark                       0.0                   0.0  \n",
       "Dionysius Corinthius       0.0                   0.0  \n",
       "\n",
       "[30 rows x 30 columns]"
      ]
     },
     "execution_count": 763,
     "metadata": {},
     "output_type": "execute_result"
    }
   ],
   "source": [
    "tfidfs_sim_mat_df = pd.DataFrame(tfidfs_sim_mat, columns=authors, index=authors)\n",
    "tfidfs_sim_mat_df"
   ]
  },
  {
   "cell_type": "code",
   "execution_count": null,
   "metadata": {},
   "outputs": [],
   "source": [
    "set_with_dataframe(ECCE_AGT_overview.add_worksheet(\"tfidfs_sim\", 1, 1), tfidfs_sim_mat_df, include_index=True)"
   ]
  },
  {
   "cell_type": "code",
   "execution_count": 764,
   "metadata": {},
   "outputs": [],
   "source": [
    "G = nx.from_numpy_matrix(tfidfs_sim_mat)\n",
    "\n",
    "authors_dict = dict(zip(range(len(authors)), authors))\n",
    "G = nx.relabel_nodes(G, authors_dict)\n",
    "\n",
    "total_weight = sum([int(n) for n in nx.get_edge_attributes(G, \"weight\").values()])\n",
    "for (u, v) in G.edges:\n",
    "    G[u][v][\"norm_weight\"] = round((G[u][v][\"weight\"] / total_weight), 5)\n",
    "    G[u][v][\"distance\"] = round(1 / (G[u][v][\"weight\"]), 5)\n",
    "    G[u][v][\"norm_distance\"] = round(1 / (G[u][v][\"norm_weight\"] ), 5)\n",
    "\n",
    "edges_to_remove = []\n",
    "for edge in G.edges:\n",
    "    if edge[0] == edge[1]:\n",
    "        edges_to_remove.append(edge)\n",
    "G.remove_edges_from(edges_to_remove)"
   ]
  },
  {
   "cell_type": "code",
   "execution_count": 765,
   "metadata": {},
   "outputs": [],
   "source": [
    "sim_threshold = 0.3\n",
    "edges_to_remove = []\n",
    "for edge in G.edges:\n",
    "    if G[edge[0]][edge[1]][\"weight\"] < sim_threshold:\n",
    "        edges_to_remove.append(edge)\n",
    "G.remove_edges_from(edges_to_remove)\n",
    "\n",
    "G.remove_nodes_from(list(nx.isolates(G)))"
   ]
  },
  {
   "cell_type": "code",
   "execution_count": 766,
   "metadata": {},
   "outputs": [
    {
     "data": {
      "text/plain": [
       "EdgeDataView([('Paul of Tarsus', 'Clemens Romanus', {'weight': 0.36451, 'norm_weight': 0.01402, 'distance': 2.74341, 'norm_distance': 71.32668}), ('Paul of Tarsus', 'GNT rest', {'weight': 0.35972, 'norm_weight': 0.01384, 'distance': 2.77994, 'norm_distance': 72.25434}), ('Paul of Tarsus', 'Clement of Alexandria', {'weight': 0.374, 'norm_weight': 0.01438, 'distance': 2.6738, 'norm_distance': 69.54103}), ('Paul of Tarsus', 'Origenes', {'weight': 0.46308, 'norm_weight': 0.01781, 'distance': 2.15945, 'norm_distance': 56.14823}), ('Paul of Tarsus', 'Theophilus Antiochenus', {'weight': 0.32512, 'norm_weight': 0.0125, 'distance': 3.07579, 'norm_distance': 80.0}), ('Paul of Tarsus', 'Eusebius', {'weight': 0.39914, 'norm_weight': 0.01535, 'distance': 2.50539, 'norm_distance': 65.14658}), ('Paul of Tarsus', 'Epiphanius', {'weight': 0.51618, 'norm_weight': 0.01985, 'distance': 1.93731, 'norm_distance': 50.37783}), ('Clemens Romanus', 'Hermas', {'weight': 0.31172, 'norm_weight': 0.01199, 'distance': 3.20801, 'norm_distance': 83.40284}), ('Clemens Romanus', 'Justinus Martyr', {'weight': 0.30911, 'norm_weight': 0.01189, 'distance': 3.23509, 'norm_distance': 84.10429}), ('Clemens Romanus', 'Clement of Alexandria', {'weight': 0.36378, 'norm_weight': 0.01399, 'distance': 2.74891, 'norm_distance': 71.47963}), ('Clemens Romanus', 'Origenes', {'weight': 0.44798, 'norm_weight': 0.01723, 'distance': 2.23224, 'norm_distance': 58.03831}), ('Clemens Romanus', 'Eusebius', {'weight': 0.38066, 'norm_weight': 0.01464, 'distance': 2.62702, 'norm_distance': 68.30601}), ('Clemens Romanus', 'Epiphanius', {'weight': 0.31564, 'norm_weight': 0.01214, 'distance': 3.16817, 'norm_distance': 82.37232}), ('Barnabas', 'Didache', {'weight': 0.37385, 'norm_weight': 0.01438, 'distance': 2.67487, 'norm_distance': 69.54103}), ('Barnabas', 'Justinus Martyr', {'weight': 0.52461, 'norm_weight': 0.02018, 'distance': 1.90618, 'norm_distance': 49.55401}), ('Barnabas', 'Clement of Alexandria', {'weight': 0.33239, 'norm_weight': 0.01278, 'distance': 3.00851, 'norm_distance': 78.24726}), ('Barnabas', 'Eusebius', {'weight': 0.32789, 'norm_weight': 0.01261, 'distance': 3.0498, 'norm_distance': 79.30214}), ('Hermas', 'Clement of Alexandria', {'weight': 0.38282, 'norm_weight': 0.01472, 'distance': 2.61219, 'norm_distance': 67.93478}), ('Hermas', 'Origenes', {'weight': 0.44925, 'norm_weight': 0.01728, 'distance': 2.22593, 'norm_distance': 57.87037}), ('Hermas', 'Eusebius', {'weight': 0.36494, 'norm_weight': 0.01404, 'distance': 2.74018, 'norm_distance': 71.22507}), ('Hermas', 'Epiphanius', {'weight': 0.34346, 'norm_weight': 0.01321, 'distance': 2.91155, 'norm_distance': 75.70023}), ('Pauline literature', 'Clement of Alexandria', {'weight': 0.32681, 'norm_weight': 0.01257, 'distance': 3.05988, 'norm_distance': 79.55449}), ('Pauline literature', 'Origenes', {'weight': 0.32554, 'norm_weight': 0.01252, 'distance': 3.07182, 'norm_distance': 79.8722}), ('GNT rest', 'Justinus Martyr', {'weight': 0.32517, 'norm_weight': 0.01251, 'distance': 3.07531, 'norm_distance': 79.93605}), ('GNT rest', 'Origenes', {'weight': 0.43024, 'norm_weight': 0.01655, 'distance': 2.32428, 'norm_distance': 60.42296}), ('GNT rest', 'Eusebius', {'weight': 0.36954, 'norm_weight': 0.01421, 'distance': 2.70607, 'norm_distance': 70.37298}), ('Justinus Martyr', 'Clement of Alexandria', {'weight': 0.43183, 'norm_weight': 0.01661, 'distance': 2.31573, 'norm_distance': 60.2047}), ('Justinus Martyr', 'Origenes', {'weight': 0.50422, 'norm_weight': 0.01939, 'distance': 1.98326, 'norm_distance': 51.57298}), ('Justinus Martyr', 'Eusebius', {'weight': 0.5656, 'norm_weight': 0.02175, 'distance': 1.76803, 'norm_distance': 45.97701}), ('Clement of Alexandria', 'Origenes', {'weight': 0.64575, 'norm_weight': 0.02484, 'distance': 1.54859, 'norm_distance': 40.25765}), ('Clement of Alexandria', 'Athenagoras', {'weight': 0.42158, 'norm_weight': 0.01621, 'distance': 2.37203, 'norm_distance': 61.69031}), ('Clement of Alexandria', 'Eusebius', {'weight': 0.64707, 'norm_weight': 0.02489, 'distance': 1.54543, 'norm_distance': 40.17678}), ('Clement of Alexandria', 'Epiphanius', {'weight': 0.51202, 'norm_weight': 0.01969, 'distance': 1.95305, 'norm_distance': 50.7872}), ('Origenes', 'Athenagoras', {'weight': 0.39393, 'norm_weight': 0.01515, 'distance': 2.53852, 'norm_distance': 66.0066}), ('Origenes', 'Theophilus Antiochenus', {'weight': 0.34892, 'norm_weight': 0.01342, 'distance': 2.86599, 'norm_distance': 74.51565}), ('Origenes', 'Eusebius', {'weight': 0.74866, 'norm_weight': 0.02879, 'distance': 1.33572, 'norm_distance': 34.73428}), ('Origenes', 'Johnannine literature', {'weight': 0.36535, 'norm_weight': 0.01405, 'distance': 2.7371, 'norm_distance': 71.17438}), ('Origenes', 'Epiphanius', {'weight': 0.49205, 'norm_weight': 0.01893, 'distance': 2.03231, 'norm_distance': 52.8262}), ('Origenes', 'Athanasius of Alexandria', {'weight': 0.38605, 'norm_weight': 0.01485, 'distance': 2.59034, 'norm_distance': 67.34007}), ('Origenes', 'Luke (the evangelist)', {'weight': 0.31124, 'norm_weight': 0.01197, 'distance': 3.21295, 'norm_distance': 83.54219}), ('Origenes', 'Basil', {'weight': 0.46534, 'norm_weight': 0.0179, 'distance': 2.14897, 'norm_distance': 55.86592}), ('Athenagoras', 'Eusebius', {'weight': 0.39631, 'norm_weight': 0.01524, 'distance': 2.52328, 'norm_distance': 65.6168}), ('Athenagoras', 'Epiphanius', {'weight': 0.34669, 'norm_weight': 0.01333, 'distance': 2.88442, 'norm_distance': 75.01875}), ('Theophilus Antiochenus', 'Eusebius', {'weight': 0.37076, 'norm_weight': 0.01426, 'distance': 2.69716, 'norm_distance': 70.12623}), ('Theophilus Antiochenus', 'Epiphanius', {'weight': 0.30678, 'norm_weight': 0.0118, 'distance': 3.25966, 'norm_distance': 84.74576}), ('Eusebius', 'Epiphanius', {'weight': 0.51391, 'norm_weight': 0.01977, 'distance': 1.94587, 'norm_distance': 50.58169}), ('Eusebius', 'Athanasius of Alexandria', {'weight': 0.39297, 'norm_weight': 0.01511, 'distance': 2.54472, 'norm_distance': 66.18134}), ('Eusebius', 'Luke (the evangelist)', {'weight': 0.35265, 'norm_weight': 0.01356, 'distance': 2.83567, 'norm_distance': 73.74631}), ('Eusebius', 'Basil', {'weight': 0.37031, 'norm_weight': 0.01424, 'distance': 2.70044, 'norm_distance': 70.22472})])"
      ]
     },
     "execution_count": 766,
     "metadata": {},
     "output_type": "execute_result"
    }
   ],
   "source": [
    "G.edges.data()"
   ]
  },
  {
   "cell_type": "code",
   "execution_count": 768,
   "metadata": {},
   "outputs": [
    {
     "data": {
      "application/vnd.plotly.v1+json": {
       "config": {
        "plotlyServerURL": "https://plot.ly"
       },
       "data": [
        {
         "line": {
          "color": "#000000",
          "width": 1
         },
         "mode": "lines",
         "type": "scatter",
         "x": [
          -0.031095099619743174,
          0.0006880806707822738,
          null,
          -0.031095099619743174,
          0.07111749823259166,
          null,
          0.0006880806707822738,
          0.07111749823259166,
          null
         ],
         "y": [
          0.2324325917209218,
          -0.16728343619385203,
          null,
          0.2324325917209218,
          -0.02086955600784645,
          null,
          -0.16728343619385203,
          -0.02086955600784645,
          null
         ]
        },
        {
         "line": {
          "color": "#404040",
          "width": 0.7
         },
         "mode": "lines",
         "type": "scatter",
         "x": [
          -0.08152855265539193,
          -0.18940161237229963,
          null,
          0.11426480573974435,
          -0.18110080431619957,
          null,
          -0.18110080431619957,
          0.0006880806707822738,
          null,
          -0.18110080431619957,
          0.07111749823259166,
          null,
          -0.031095099619743174,
          -0.18940161237229963,
          null,
          0.0006880806707822738,
          -0.18940161237229963,
          null,
          0.07111749823259166,
          -0.18940161237229963,
          null
         ],
         "y": [
          -0.34913196725665563,
          -0.022730496157338752,
          null,
          0.5654439367330408,
          0.3171158479951633,
          null,
          0.3171158479951633,
          -0.16728343619385203,
          null,
          0.3171158479951633,
          -0.02086955600784645,
          null,
          0.2324325917209218,
          -0.022730496157338752,
          null,
          -0.16728343619385203,
          -0.022730496157338752,
          null,
          -0.02086955600784645,
          -0.022730496157338752,
          null
         ]
        },
        {
         "line": {
          "color": "#C0C0C0",
          "width": 0.5
         },
         "mode": "lines",
         "type": "scatter",
         "x": [
          -0.08152855265539193,
          0.2663113824612741,
          null,
          -0.08152855265539193,
          -0.4339185844537243,
          null,
          -0.08152855265539193,
          -0.031095099619743174,
          null,
          -0.08152855265539193,
          0.0006880806707822738,
          null,
          -0.08152855265539193,
          -0.3478136322598821,
          null,
          -0.08152855265539193,
          0.07111749823259166,
          null,
          0.2663113824612741,
          0.31282244981452195,
          null,
          0.2663113824612741,
          -0.18110080431619957,
          null,
          0.2663113824612741,
          -0.031095099619743174,
          null,
          0.2663113824612741,
          0.0006880806707822738,
          null,
          0.2663113824612741,
          0.07111749823259166,
          null,
          0.2663113824612741,
          -0.18940161237229963,
          null,
          0.11426480573974435,
          0.2065293262740948,
          null,
          0.11426480573974435,
          -0.031095099619743174,
          null,
          0.11426480573974435,
          0.07111749823259166,
          null,
          0.31282244981452195,
          -0.031095099619743174,
          null,
          0.31282244981452195,
          0.0006880806707822738,
          null,
          0.31282244981452195,
          0.07111749823259166,
          null,
          0.31282244981452195,
          -0.18940161237229963,
          null,
          -0.45924616967340043,
          -0.031095099619743174,
          null,
          -0.45924616967340043,
          0.0006880806707822738,
          null,
          -0.4339185844537243,
          -0.18110080431619957,
          null,
          -0.4339185844537243,
          0.0006880806707822738,
          null,
          -0.4339185844537243,
          0.07111749823259166,
          null,
          -0.18110080431619957,
          -0.031095099619743174,
          null,
          -0.031095099619743174,
          -0.4588197827466049,
          null,
          0.0006880806707822738,
          -0.4588197827466049,
          null,
          0.0006880806707822738,
          -0.3478136322598821,
          null,
          0.0006880806707822738,
          -0.0784191629102082,
          null,
          0.0006880806707822738,
          0.2757469106271974,
          null,
          0.0006880806707822738,
          0.46432549833769377,
          null,
          0.0006880806707822738,
          0.5495374488495538,
          null,
          -0.4588197827466049,
          0.07111749823259166,
          null,
          -0.4588197827466049,
          -0.18940161237229963,
          null,
          -0.3478136322598821,
          0.07111749823259166,
          null,
          -0.3478136322598821,
          -0.18940161237229963,
          null,
          0.07111749823259166,
          0.2757469106271974,
          null,
          0.07111749823259166,
          0.46432549833769377,
          null,
          0.07111749823259166,
          0.5495374488495538,
          null
         ],
         "y": [
          -0.34913196725665563,
          0.030317836231576762,
          null,
          -0.34913196725665563,
          -0.17030660350542937,
          null,
          -0.34913196725665563,
          0.2324325917209218,
          null,
          -0.34913196725665563,
          -0.16728343619385203,
          null,
          -0.34913196725665563,
          -0.4191132067148486,
          null,
          -0.34913196725665563,
          -0.02086955600784645,
          null,
          0.030317836231576762,
          0.25816406977649164,
          null,
          0.030317836231576762,
          0.3171158479951633,
          null,
          0.030317836231576762,
          0.2324325917209218,
          null,
          0.030317836231576762,
          -0.16728343619385203,
          null,
          0.030317836231576762,
          -0.02086955600784645,
          null,
          0.030317836231576762,
          -0.022730496157338752,
          null,
          0.5654439367330408,
          1,
          null,
          0.5654439367330408,
          0.2324325917209218,
          null,
          0.5654439367330408,
          -0.02086955600784645,
          null,
          0.25816406977649164,
          0.2324325917209218,
          null,
          0.25816406977649164,
          -0.16728343619385203,
          null,
          0.25816406977649164,
          -0.02086955600784645,
          null,
          0.25816406977649164,
          -0.022730496157338752,
          null,
          0.29997273021592796,
          0.2324325917209218,
          null,
          0.29997273021592796,
          -0.16728343619385203,
          null,
          -0.17030660350542937,
          0.3171158479951633,
          null,
          -0.17030660350542937,
          -0.16728343619385203,
          null,
          -0.17030660350542937,
          -0.02086955600784645,
          null,
          0.3171158479951633,
          0.2324325917209218,
          null,
          0.2324325917209218,
          0.053250989907065165,
          null,
          -0.16728343619385203,
          0.053250989907065165,
          null,
          -0.16728343619385203,
          -0.4191132067148486,
          null,
          -0.16728343619385203,
          -0.7217701361625825,
          null,
          -0.16728343619385203,
          -0.5065442103173476,
          null,
          -0.16728343619385203,
          -0.3230608000940726,
          null,
          -0.16728343619385203,
          -0.05588759017021379,
          null,
          0.053250989907065165,
          -0.02086955600784645,
          null,
          0.053250989907065165,
          -0.022730496157338752,
          null,
          -0.4191132067148486,
          -0.02086955600784645,
          null,
          -0.4191132067148486,
          -0.022730496157338752,
          null,
          -0.02086955600784645,
          -0.5065442103173476,
          null,
          -0.02086955600784645,
          -0.3230608000940726,
          null,
          -0.02086955600784645,
          -0.05588759017021379,
          null
         ]
        },
        {
         "hoverinfo": "text",
         "hovertext": [
          "7",
          "7",
          "4",
          "5",
          "2",
          "1",
          "4",
          "6",
          "10",
          "15",
          "4",
          "4",
          "14",
          "1",
          "8",
          "2",
          "2",
          "2"
         ],
         "marker": {
          "color": [
           113,
           89,
           63,
           57,
           49,
           7,
           42,
           55,
           62,
           138,
           31,
           42,
           72,
           21,
           10,
           24,
           21,
           5
          ],
          "colorbar": {
           "thickness": 15,
           "title": {
            "side": "right",
            "text": "degree"
           },
           "xanchor": "left"
          },
          "colorscale": [
           [
            0,
            "rgb(255,255,255)"
           ],
           [
            0.125,
            "rgb(240,240,240)"
           ],
           [
            0.25,
            "rgb(217,217,217)"
           ],
           [
            0.375,
            "rgb(189,189,189)"
           ],
           [
            0.5,
            "rgb(150,150,150)"
           ],
           [
            0.625,
            "rgb(115,115,115)"
           ],
           [
            0.75,
            "rgb(82,82,82)"
           ],
           [
            0.875,
            "rgb(37,37,37)"
           ],
           [
            1,
            "rgb(0,0,0)"
           ]
          ],
          "line": {
           "width": 1
          },
          "showscale": false,
          "size": 7
         },
         "mode": "markers+text",
         "text": [
          "Paul of Tarsus",
          "Clemens Romanus",
          "Barnabas",
          "Hermas",
          "Pauline literature",
          "Didache",
          "GNT rest",
          "Justinus Martyr",
          "Clement of Alexandria",
          "Origenes",
          "Athenagoras",
          "Theophilus Antiochenus",
          "Eusebius",
          "Johnannine literature",
          "Epiphanius",
          "Athanasius of Alexandria",
          "Luke (the evangelist)",
          "Basil"
         ],
         "textposition": "bottom center",
         "type": "scatter",
         "x": [
          -0.08152855265539193,
          0.2663113824612741,
          0.11426480573974435,
          0.31282244981452195,
          -0.45924616967340043,
          0.2065293262740948,
          -0.4339185844537243,
          -0.18110080431619957,
          -0.031095099619743174,
          0.0006880806707822738,
          -0.4588197827466049,
          -0.3478136322598821,
          0.07111749823259166,
          -0.0784191629102082,
          -0.18940161237229963,
          0.2757469106271974,
          0.46432549833769377,
          0.5495374488495538
         ],
         "y": [
          -0.34913196725665563,
          0.030317836231576762,
          0.5654439367330408,
          0.25816406977649164,
          0.29997273021592796,
          1,
          -0.17030660350542937,
          0.3171158479951633,
          0.2324325917209218,
          -0.16728343619385203,
          0.053250989907065165,
          -0.4191132067148486,
          -0.02086955600784645,
          -0.7217701361625825,
          -0.022730496157338752,
          -0.5065442103173476,
          -0.3230608000940726,
          -0.05588759017021379
         ]
        },
        {
         "hoverinfo": "text",
         "marker": {
          "opacity": 0
         },
         "mode": "markers",
         "opacity": 0,
         "text": [
          "0",
          "0",
          "0",
          "0",
          "0",
          "0",
          "0",
          "0",
          "0",
          "0",
          "0",
          "0",
          "0",
          "0",
          "0",
          "0",
          "0",
          "0",
          "0",
          "0",
          "0",
          "0",
          "0",
          "0",
          "0",
          "0",
          "0",
          "0",
          "0",
          "0",
          "0",
          "0",
          "0",
          "0",
          "0",
          "0",
          "0",
          "0",
          "0",
          "0",
          "0",
          "0",
          "0",
          "0",
          "0",
          "0",
          "0",
          "0",
          "0"
         ],
         "type": "scatter",
         "x": [
          0.09239141490294109,
          -0.2577235685545581,
          -0.05631182613756755,
          -0.04042023599230483,
          -0.21467109245763702,
          -0.005205527211400135,
          -0.13546508251384579,
          0.28956691613789803,
          0.04260528907253727,
          0.11760814142076548,
          0.1334997315660282,
          0.1687144403469329,
          0.03845488504448724,
          0.16039706600691955,
          -0.03341799928822761,
          0.041584853060000586,
          0.09269115198616801,
          0.1408636750973894,
          0.15675526524265213,
          0.1919699740235568,
          0.06171041872111116,
          -0.2451706346465718,
          -0.22927904450130906,
          -0.3075096943849619,
          -0.216615251891471,
          -0.1814005431105663,
          -0.10609795196797137,
          -0.09020636182270865,
          -0.05499165304180396,
          -0.01520350947448045,
          -0.24495744118317403,
          0.02001119930642424,
          -0.1102483559960214,
          -0.2290658510379113,
          -0.1735627757945499,
          0.03590278945168696,
          -0.038865541119712965,
          -0.09435676585075868,
          0.13821749564898986,
          0.23250678950423803,
          0.27511276476016805,
          -0.19385114225700661,
          -0.32411069755945227,
          -0.13834806701364522,
          -0.26860762231609087,
          -0.05914205706985399,
          0.17343220442989454,
          0.2677214982851427,
          0.3103274735410727
         ],
         "y": [
          -0.15940706551253944,
          -0.2597192853810425,
          -0.05834968776786692,
          -0.2582077017252538,
          -0.3841225869857521,
          -0.18500076163225104,
          -0.18593123170699719,
          0.1442409530040342,
          0.17371684211337002,
          0.13137521397624927,
          -0.06848279998113763,
          0.004724140111865156,
          0.0037936700371190048,
          0.7827219683665204,
          0.44127989236410203,
          0.3989382642269813,
          0.2722871903625972,
          0.24529833074870672,
          0.04544031679131981,
          0.1186472568843226,
          0.11771678680957645,
          0.2662026609684249,
          0.06634464701103797,
          0.07340462224486696,
          -0.16879501984964068,
          -0.09558807975663791,
          0.2747742198580425,
          0.07491620590065563,
          0.14812314599365842,
          0.03257457776353488,
          0.14284179081399348,
          0.10578151785653767,
          0.10485104778179152,
          -0.05701622314339343,
          -0.2931983214543503,
          -0.09407649610084924,
          -0.4445267861782172,
          -0.09500696617559538,
          -0.3369138232555998,
          -0.24517211814396234,
          -0.11158551318203291,
          0.016190716949609357,
          0.015260246874863206,
          -0.21999138136134752,
          -0.22092185143609366,
          -0.0218000260825926,
          -0.26370688316259705,
          -0.17196517805095954,
          -0.038378573089030116
         ]
        }
       ],
       "layout": {
        "autosize": false,
        "height": 500,
        "hovermode": "closest",
        "margin": {
         "b": 10,
         "l": 10,
         "r": 10,
         "t": 10
        },
        "plot_bgcolor": "rgba(0,0,0,0)",
        "showlegend": false,
        "template": {
         "data": {
          "bar": [
           {
            "error_x": {
             "color": "#2a3f5f"
            },
            "error_y": {
             "color": "#2a3f5f"
            },
            "marker": {
             "line": {
              "color": "#E5ECF6",
              "width": 0.5
             }
            },
            "type": "bar"
           }
          ],
          "barpolar": [
           {
            "marker": {
             "line": {
              "color": "#E5ECF6",
              "width": 0.5
             }
            },
            "type": "barpolar"
           }
          ],
          "carpet": [
           {
            "aaxis": {
             "endlinecolor": "#2a3f5f",
             "gridcolor": "white",
             "linecolor": "white",
             "minorgridcolor": "white",
             "startlinecolor": "#2a3f5f"
            },
            "baxis": {
             "endlinecolor": "#2a3f5f",
             "gridcolor": "white",
             "linecolor": "white",
             "minorgridcolor": "white",
             "startlinecolor": "#2a3f5f"
            },
            "type": "carpet"
           }
          ],
          "choropleth": [
           {
            "colorbar": {
             "outlinewidth": 0,
             "ticks": ""
            },
            "type": "choropleth"
           }
          ],
          "contour": [
           {
            "colorbar": {
             "outlinewidth": 0,
             "ticks": ""
            },
            "colorscale": [
             [
              0,
              "#0d0887"
             ],
             [
              0.1111111111111111,
              "#46039f"
             ],
             [
              0.2222222222222222,
              "#7201a8"
             ],
             [
              0.3333333333333333,
              "#9c179e"
             ],
             [
              0.4444444444444444,
              "#bd3786"
             ],
             [
              0.5555555555555556,
              "#d8576b"
             ],
             [
              0.6666666666666666,
              "#ed7953"
             ],
             [
              0.7777777777777778,
              "#fb9f3a"
             ],
             [
              0.8888888888888888,
              "#fdca26"
             ],
             [
              1,
              "#f0f921"
             ]
            ],
            "type": "contour"
           }
          ],
          "contourcarpet": [
           {
            "colorbar": {
             "outlinewidth": 0,
             "ticks": ""
            },
            "type": "contourcarpet"
           }
          ],
          "heatmap": [
           {
            "colorbar": {
             "outlinewidth": 0,
             "ticks": ""
            },
            "colorscale": [
             [
              0,
              "#0d0887"
             ],
             [
              0.1111111111111111,
              "#46039f"
             ],
             [
              0.2222222222222222,
              "#7201a8"
             ],
             [
              0.3333333333333333,
              "#9c179e"
             ],
             [
              0.4444444444444444,
              "#bd3786"
             ],
             [
              0.5555555555555556,
              "#d8576b"
             ],
             [
              0.6666666666666666,
              "#ed7953"
             ],
             [
              0.7777777777777778,
              "#fb9f3a"
             ],
             [
              0.8888888888888888,
              "#fdca26"
             ],
             [
              1,
              "#f0f921"
             ]
            ],
            "type": "heatmap"
           }
          ],
          "heatmapgl": [
           {
            "colorbar": {
             "outlinewidth": 0,
             "ticks": ""
            },
            "colorscale": [
             [
              0,
              "#0d0887"
             ],
             [
              0.1111111111111111,
              "#46039f"
             ],
             [
              0.2222222222222222,
              "#7201a8"
             ],
             [
              0.3333333333333333,
              "#9c179e"
             ],
             [
              0.4444444444444444,
              "#bd3786"
             ],
             [
              0.5555555555555556,
              "#d8576b"
             ],
             [
              0.6666666666666666,
              "#ed7953"
             ],
             [
              0.7777777777777778,
              "#fb9f3a"
             ],
             [
              0.8888888888888888,
              "#fdca26"
             ],
             [
              1,
              "#f0f921"
             ]
            ],
            "type": "heatmapgl"
           }
          ],
          "histogram": [
           {
            "marker": {
             "colorbar": {
              "outlinewidth": 0,
              "ticks": ""
             }
            },
            "type": "histogram"
           }
          ],
          "histogram2d": [
           {
            "colorbar": {
             "outlinewidth": 0,
             "ticks": ""
            },
            "colorscale": [
             [
              0,
              "#0d0887"
             ],
             [
              0.1111111111111111,
              "#46039f"
             ],
             [
              0.2222222222222222,
              "#7201a8"
             ],
             [
              0.3333333333333333,
              "#9c179e"
             ],
             [
              0.4444444444444444,
              "#bd3786"
             ],
             [
              0.5555555555555556,
              "#d8576b"
             ],
             [
              0.6666666666666666,
              "#ed7953"
             ],
             [
              0.7777777777777778,
              "#fb9f3a"
             ],
             [
              0.8888888888888888,
              "#fdca26"
             ],
             [
              1,
              "#f0f921"
             ]
            ],
            "type": "histogram2d"
           }
          ],
          "histogram2dcontour": [
           {
            "colorbar": {
             "outlinewidth": 0,
             "ticks": ""
            },
            "colorscale": [
             [
              0,
              "#0d0887"
             ],
             [
              0.1111111111111111,
              "#46039f"
             ],
             [
              0.2222222222222222,
              "#7201a8"
             ],
             [
              0.3333333333333333,
              "#9c179e"
             ],
             [
              0.4444444444444444,
              "#bd3786"
             ],
             [
              0.5555555555555556,
              "#d8576b"
             ],
             [
              0.6666666666666666,
              "#ed7953"
             ],
             [
              0.7777777777777778,
              "#fb9f3a"
             ],
             [
              0.8888888888888888,
              "#fdca26"
             ],
             [
              1,
              "#f0f921"
             ]
            ],
            "type": "histogram2dcontour"
           }
          ],
          "mesh3d": [
           {
            "colorbar": {
             "outlinewidth": 0,
             "ticks": ""
            },
            "type": "mesh3d"
           }
          ],
          "parcoords": [
           {
            "line": {
             "colorbar": {
              "outlinewidth": 0,
              "ticks": ""
             }
            },
            "type": "parcoords"
           }
          ],
          "pie": [
           {
            "automargin": true,
            "type": "pie"
           }
          ],
          "scatter": [
           {
            "marker": {
             "colorbar": {
              "outlinewidth": 0,
              "ticks": ""
             }
            },
            "type": "scatter"
           }
          ],
          "scatter3d": [
           {
            "line": {
             "colorbar": {
              "outlinewidth": 0,
              "ticks": ""
             }
            },
            "marker": {
             "colorbar": {
              "outlinewidth": 0,
              "ticks": ""
             }
            },
            "type": "scatter3d"
           }
          ],
          "scattercarpet": [
           {
            "marker": {
             "colorbar": {
              "outlinewidth": 0,
              "ticks": ""
             }
            },
            "type": "scattercarpet"
           }
          ],
          "scattergeo": [
           {
            "marker": {
             "colorbar": {
              "outlinewidth": 0,
              "ticks": ""
             }
            },
            "type": "scattergeo"
           }
          ],
          "scattergl": [
           {
            "marker": {
             "colorbar": {
              "outlinewidth": 0,
              "ticks": ""
             }
            },
            "type": "scattergl"
           }
          ],
          "scattermapbox": [
           {
            "marker": {
             "colorbar": {
              "outlinewidth": 0,
              "ticks": ""
             }
            },
            "type": "scattermapbox"
           }
          ],
          "scatterpolar": [
           {
            "marker": {
             "colorbar": {
              "outlinewidth": 0,
              "ticks": ""
             }
            },
            "type": "scatterpolar"
           }
          ],
          "scatterpolargl": [
           {
            "marker": {
             "colorbar": {
              "outlinewidth": 0,
              "ticks": ""
             }
            },
            "type": "scatterpolargl"
           }
          ],
          "scatterternary": [
           {
            "marker": {
             "colorbar": {
              "outlinewidth": 0,
              "ticks": ""
             }
            },
            "type": "scatterternary"
           }
          ],
          "surface": [
           {
            "colorbar": {
             "outlinewidth": 0,
             "ticks": ""
            },
            "colorscale": [
             [
              0,
              "#0d0887"
             ],
             [
              0.1111111111111111,
              "#46039f"
             ],
             [
              0.2222222222222222,
              "#7201a8"
             ],
             [
              0.3333333333333333,
              "#9c179e"
             ],
             [
              0.4444444444444444,
              "#bd3786"
             ],
             [
              0.5555555555555556,
              "#d8576b"
             ],
             [
              0.6666666666666666,
              "#ed7953"
             ],
             [
              0.7777777777777778,
              "#fb9f3a"
             ],
             [
              0.8888888888888888,
              "#fdca26"
             ],
             [
              1,
              "#f0f921"
             ]
            ],
            "type": "surface"
           }
          ],
          "table": [
           {
            "cells": {
             "fill": {
              "color": "#EBF0F8"
             },
             "line": {
              "color": "white"
             }
            },
            "header": {
             "fill": {
              "color": "#C8D4E3"
             },
             "line": {
              "color": "white"
             }
            },
            "type": "table"
           }
          ]
         },
         "layout": {
          "annotationdefaults": {
           "arrowcolor": "#2a3f5f",
           "arrowhead": 0,
           "arrowwidth": 1
          },
          "coloraxis": {
           "colorbar": {
            "outlinewidth": 0,
            "ticks": ""
           }
          },
          "colorscale": {
           "diverging": [
            [
             0,
             "#8e0152"
            ],
            [
             0.1,
             "#c51b7d"
            ],
            [
             0.2,
             "#de77ae"
            ],
            [
             0.3,
             "#f1b6da"
            ],
            [
             0.4,
             "#fde0ef"
            ],
            [
             0.5,
             "#f7f7f7"
            ],
            [
             0.6,
             "#e6f5d0"
            ],
            [
             0.7,
             "#b8e186"
            ],
            [
             0.8,
             "#7fbc41"
            ],
            [
             0.9,
             "#4d9221"
            ],
            [
             1,
             "#276419"
            ]
           ],
           "sequential": [
            [
             0,
             "#0d0887"
            ],
            [
             0.1111111111111111,
             "#46039f"
            ],
            [
             0.2222222222222222,
             "#7201a8"
            ],
            [
             0.3333333333333333,
             "#9c179e"
            ],
            [
             0.4444444444444444,
             "#bd3786"
            ],
            [
             0.5555555555555556,
             "#d8576b"
            ],
            [
             0.6666666666666666,
             "#ed7953"
            ],
            [
             0.7777777777777778,
             "#fb9f3a"
            ],
            [
             0.8888888888888888,
             "#fdca26"
            ],
            [
             1,
             "#f0f921"
            ]
           ],
           "sequentialminus": [
            [
             0,
             "#0d0887"
            ],
            [
             0.1111111111111111,
             "#46039f"
            ],
            [
             0.2222222222222222,
             "#7201a8"
            ],
            [
             0.3333333333333333,
             "#9c179e"
            ],
            [
             0.4444444444444444,
             "#bd3786"
            ],
            [
             0.5555555555555556,
             "#d8576b"
            ],
            [
             0.6666666666666666,
             "#ed7953"
            ],
            [
             0.7777777777777778,
             "#fb9f3a"
            ],
            [
             0.8888888888888888,
             "#fdca26"
            ],
            [
             1,
             "#f0f921"
            ]
           ]
          },
          "colorway": [
           "#636efa",
           "#EF553B",
           "#00cc96",
           "#ab63fa",
           "#FFA15A",
           "#19d3f3",
           "#FF6692",
           "#B6E880",
           "#FF97FF",
           "#FECB52"
          ],
          "font": {
           "color": "#2a3f5f"
          },
          "geo": {
           "bgcolor": "white",
           "lakecolor": "white",
           "landcolor": "#E5ECF6",
           "showlakes": true,
           "showland": true,
           "subunitcolor": "white"
          },
          "hoverlabel": {
           "align": "left"
          },
          "hovermode": "closest",
          "mapbox": {
           "style": "light"
          },
          "paper_bgcolor": "white",
          "plot_bgcolor": "#E5ECF6",
          "polar": {
           "angularaxis": {
            "gridcolor": "white",
            "linecolor": "white",
            "ticks": ""
           },
           "bgcolor": "#E5ECF6",
           "radialaxis": {
            "gridcolor": "white",
            "linecolor": "white",
            "ticks": ""
           }
          },
          "scene": {
           "xaxis": {
            "backgroundcolor": "#E5ECF6",
            "gridcolor": "white",
            "gridwidth": 2,
            "linecolor": "white",
            "showbackground": true,
            "ticks": "",
            "zerolinecolor": "white"
           },
           "yaxis": {
            "backgroundcolor": "#E5ECF6",
            "gridcolor": "white",
            "gridwidth": 2,
            "linecolor": "white",
            "showbackground": true,
            "ticks": "",
            "zerolinecolor": "white"
           },
           "zaxis": {
            "backgroundcolor": "#E5ECF6",
            "gridcolor": "white",
            "gridwidth": 2,
            "linecolor": "white",
            "showbackground": true,
            "ticks": "",
            "zerolinecolor": "white"
           }
          },
          "shapedefaults": {
           "line": {
            "color": "#2a3f5f"
           }
          },
          "ternary": {
           "aaxis": {
            "gridcolor": "white",
            "linecolor": "white",
            "ticks": ""
           },
           "baxis": {
            "gridcolor": "white",
            "linecolor": "white",
            "ticks": ""
           },
           "bgcolor": "#E5ECF6",
           "caxis": {
            "gridcolor": "white",
            "linecolor": "white",
            "ticks": ""
           }
          },
          "title": {
           "x": 0.05
          },
          "xaxis": {
           "automargin": true,
           "gridcolor": "white",
           "linecolor": "white",
           "ticks": "",
           "title": {
            "standoff": 15
           },
           "zerolinecolor": "white",
           "zerolinewidth": 2
          },
          "yaxis": {
           "automargin": true,
           "gridcolor": "white",
           "linecolor": "white",
           "ticks": "",
           "title": {
            "standoff": 15
           },
           "zerolinecolor": "white",
           "zerolinewidth": 2
          }
         }
        },
        "title": {
         "font": {
          "size": 16
         }
        },
        "width": 500,
        "xaxis": {
         "showgrid": false,
         "showticklabels": false,
         "zeroline": false
        },
        "yaxis": {
         "showgrid": false,
         "showticklabels": false,
         "zeroline": false
        }
       }
      },
      "text/html": [
       "<div>                            <div id=\"d5cd750a-8eb2-498a-b94d-19a82e653d20\" class=\"plotly-graph-div\" style=\"height:500px; width:500px;\"></div>            <script type=\"text/javascript\">                require([\"plotly\"], function(Plotly) {                    window.PLOTLYENV=window.PLOTLYENV || {};                                    if (document.getElementById(\"d5cd750a-8eb2-498a-b94d-19a82e653d20\")) {                    Plotly.newPlot(                        \"d5cd750a-8eb2-498a-b94d-19a82e653d20\",                        [{\"line\": {\"color\": \"#000000\", \"width\": 1}, \"mode\": \"lines\", \"type\": \"scatter\", \"x\": [-0.031095099619743174, 0.0006880806707822738, null, -0.031095099619743174, 0.07111749823259166, null, 0.0006880806707822738, 0.07111749823259166, null], \"y\": [0.2324325917209218, -0.16728343619385203, null, 0.2324325917209218, -0.02086955600784645, null, -0.16728343619385203, -0.02086955600784645, null]}, {\"line\": {\"color\": \"#404040\", \"width\": 0.7}, \"mode\": \"lines\", \"type\": \"scatter\", \"x\": [-0.08152855265539193, -0.18940161237229963, null, 0.11426480573974435, -0.18110080431619957, null, -0.18110080431619957, 0.0006880806707822738, null, -0.18110080431619957, 0.07111749823259166, null, -0.031095099619743174, -0.18940161237229963, null, 0.0006880806707822738, -0.18940161237229963, null, 0.07111749823259166, -0.18940161237229963, null], \"y\": [-0.34913196725665563, -0.022730496157338752, null, 0.5654439367330408, 0.3171158479951633, null, 0.3171158479951633, -0.16728343619385203, null, 0.3171158479951633, -0.02086955600784645, null, 0.2324325917209218, -0.022730496157338752, null, -0.16728343619385203, -0.022730496157338752, null, -0.02086955600784645, -0.022730496157338752, null]}, {\"line\": {\"color\": \"#C0C0C0\", \"width\": 0.5}, \"mode\": \"lines\", \"type\": \"scatter\", \"x\": [-0.08152855265539193, 0.2663113824612741, null, -0.08152855265539193, -0.4339185844537243, null, -0.08152855265539193, -0.031095099619743174, null, -0.08152855265539193, 0.0006880806707822738, null, -0.08152855265539193, -0.3478136322598821, null, -0.08152855265539193, 0.07111749823259166, null, 0.2663113824612741, 0.31282244981452195, null, 0.2663113824612741, -0.18110080431619957, null, 0.2663113824612741, -0.031095099619743174, null, 0.2663113824612741, 0.0006880806707822738, null, 0.2663113824612741, 0.07111749823259166, null, 0.2663113824612741, -0.18940161237229963, null, 0.11426480573974435, 0.2065293262740948, null, 0.11426480573974435, -0.031095099619743174, null, 0.11426480573974435, 0.07111749823259166, null, 0.31282244981452195, -0.031095099619743174, null, 0.31282244981452195, 0.0006880806707822738, null, 0.31282244981452195, 0.07111749823259166, null, 0.31282244981452195, -0.18940161237229963, null, -0.45924616967340043, -0.031095099619743174, null, -0.45924616967340043, 0.0006880806707822738, null, -0.4339185844537243, -0.18110080431619957, null, -0.4339185844537243, 0.0006880806707822738, null, -0.4339185844537243, 0.07111749823259166, null, -0.18110080431619957, -0.031095099619743174, null, -0.031095099619743174, -0.4588197827466049, null, 0.0006880806707822738, -0.4588197827466049, null, 0.0006880806707822738, -0.3478136322598821, null, 0.0006880806707822738, -0.0784191629102082, null, 0.0006880806707822738, 0.2757469106271974, null, 0.0006880806707822738, 0.46432549833769377, null, 0.0006880806707822738, 0.5495374488495538, null, -0.4588197827466049, 0.07111749823259166, null, -0.4588197827466049, -0.18940161237229963, null, -0.3478136322598821, 0.07111749823259166, null, -0.3478136322598821, -0.18940161237229963, null, 0.07111749823259166, 0.2757469106271974, null, 0.07111749823259166, 0.46432549833769377, null, 0.07111749823259166, 0.5495374488495538, null], \"y\": [-0.34913196725665563, 0.030317836231576762, null, -0.34913196725665563, -0.17030660350542937, null, -0.34913196725665563, 0.2324325917209218, null, -0.34913196725665563, -0.16728343619385203, null, -0.34913196725665563, -0.4191132067148486, null, -0.34913196725665563, -0.02086955600784645, null, 0.030317836231576762, 0.25816406977649164, null, 0.030317836231576762, 0.3171158479951633, null, 0.030317836231576762, 0.2324325917209218, null, 0.030317836231576762, -0.16728343619385203, null, 0.030317836231576762, -0.02086955600784645, null, 0.030317836231576762, -0.022730496157338752, null, 0.5654439367330408, 1.0, null, 0.5654439367330408, 0.2324325917209218, null, 0.5654439367330408, -0.02086955600784645, null, 0.25816406977649164, 0.2324325917209218, null, 0.25816406977649164, -0.16728343619385203, null, 0.25816406977649164, -0.02086955600784645, null, 0.25816406977649164, -0.022730496157338752, null, 0.29997273021592796, 0.2324325917209218, null, 0.29997273021592796, -0.16728343619385203, null, -0.17030660350542937, 0.3171158479951633, null, -0.17030660350542937, -0.16728343619385203, null, -0.17030660350542937, -0.02086955600784645, null, 0.3171158479951633, 0.2324325917209218, null, 0.2324325917209218, 0.053250989907065165, null, -0.16728343619385203, 0.053250989907065165, null, -0.16728343619385203, -0.4191132067148486, null, -0.16728343619385203, -0.7217701361625825, null, -0.16728343619385203, -0.5065442103173476, null, -0.16728343619385203, -0.3230608000940726, null, -0.16728343619385203, -0.05588759017021379, null, 0.053250989907065165, -0.02086955600784645, null, 0.053250989907065165, -0.022730496157338752, null, -0.4191132067148486, -0.02086955600784645, null, -0.4191132067148486, -0.022730496157338752, null, -0.02086955600784645, -0.5065442103173476, null, -0.02086955600784645, -0.3230608000940726, null, -0.02086955600784645, -0.05588759017021379, null]}, {\"hoverinfo\": \"text\", \"hovertext\": [\"7\", \"7\", \"4\", \"5\", \"2\", \"1\", \"4\", \"6\", \"10\", \"15\", \"4\", \"4\", \"14\", \"1\", \"8\", \"2\", \"2\", \"2\"], \"marker\": {\"color\": [113, 89, 63, 57, 49, 7, 42, 55, 62, 138, 31, 42, 72, 21, 10, 24, 21, 5], \"colorbar\": {\"thickness\": 15, \"title\": {\"side\": \"right\", \"text\": \"degree\"}, \"xanchor\": \"left\"}, \"colorscale\": [[0.0, \"rgb(255,255,255)\"], [0.125, \"rgb(240,240,240)\"], [0.25, \"rgb(217,217,217)\"], [0.375, \"rgb(189,189,189)\"], [0.5, \"rgb(150,150,150)\"], [0.625, \"rgb(115,115,115)\"], [0.75, \"rgb(82,82,82)\"], [0.875, \"rgb(37,37,37)\"], [1.0, \"rgb(0,0,0)\"]], \"line\": {\"width\": 1}, \"showscale\": false, \"size\": 7}, \"mode\": \"markers+text\", \"text\": [\"Paul of Tarsus\", \"Clemens Romanus\", \"Barnabas\", \"Hermas\", \"Pauline literature\", \"Didache\", \"GNT rest\", \"Justinus Martyr\", \"Clement of Alexandria\", \"Origenes\", \"Athenagoras\", \"Theophilus Antiochenus\", \"Eusebius\", \"Johnannine literature\", \"Epiphanius\", \"Athanasius of Alexandria\", \"Luke (the evangelist)\", \"Basil\"], \"textposition\": \"bottom center\", \"type\": \"scatter\", \"x\": [-0.08152855265539193, 0.2663113824612741, 0.11426480573974435, 0.31282244981452195, -0.45924616967340043, 0.2065293262740948, -0.4339185844537243, -0.18110080431619957, -0.031095099619743174, 0.0006880806707822738, -0.4588197827466049, -0.3478136322598821, 0.07111749823259166, -0.0784191629102082, -0.18940161237229963, 0.2757469106271974, 0.46432549833769377, 0.5495374488495538], \"y\": [-0.34913196725665563, 0.030317836231576762, 0.5654439367330408, 0.25816406977649164, 0.29997273021592796, 1.0, -0.17030660350542937, 0.3171158479951633, 0.2324325917209218, -0.16728343619385203, 0.053250989907065165, -0.4191132067148486, -0.02086955600784645, -0.7217701361625825, -0.022730496157338752, -0.5065442103173476, -0.3230608000940726, -0.05588759017021379]}, {\"hoverinfo\": \"text\", \"marker\": {\"opacity\": 0}, \"mode\": \"markers\", \"opacity\": 0, \"text\": [\"0\", \"0\", \"0\", \"0\", \"0\", \"0\", \"0\", \"0\", \"0\", \"0\", \"0\", \"0\", \"0\", \"0\", \"0\", \"0\", \"0\", \"0\", \"0\", \"0\", \"0\", \"0\", \"0\", \"0\", \"0\", \"0\", \"0\", \"0\", \"0\", \"0\", \"0\", \"0\", \"0\", \"0\", \"0\", \"0\", \"0\", \"0\", \"0\", \"0\", \"0\", \"0\", \"0\", \"0\", \"0\", \"0\", \"0\", \"0\", \"0\"], \"type\": \"scatter\", \"x\": [0.09239141490294109, -0.2577235685545581, -0.05631182613756755, -0.04042023599230483, -0.21467109245763702, -0.005205527211400135, -0.13546508251384579, 0.28956691613789803, 0.04260528907253727, 0.11760814142076548, 0.1334997315660282, 0.1687144403469329, 0.03845488504448724, 0.16039706600691955, -0.03341799928822761, 0.041584853060000586, 0.09269115198616801, 0.1408636750973894, 0.15675526524265213, 0.1919699740235568, 0.06171041872111116, -0.2451706346465718, -0.22927904450130906, -0.3075096943849619, -0.216615251891471, -0.1814005431105663, -0.10609795196797137, -0.09020636182270865, -0.05499165304180396, -0.01520350947448045, -0.24495744118317403, 0.02001119930642424, -0.1102483559960214, -0.2290658510379113, -0.1735627757945499, 0.03590278945168696, -0.038865541119712965, -0.09435676585075868, 0.13821749564898986, 0.23250678950423803, 0.27511276476016805, -0.19385114225700661, -0.32411069755945227, -0.13834806701364522, -0.26860762231609087, -0.05914205706985399, 0.17343220442989454, 0.2677214982851427, 0.3103274735410727], \"y\": [-0.15940706551253944, -0.2597192853810425, -0.05834968776786692, -0.2582077017252538, -0.3841225869857521, -0.18500076163225104, -0.18593123170699719, 0.1442409530040342, 0.17371684211337002, 0.13137521397624927, -0.06848279998113763, 0.004724140111865156, 0.0037936700371190048, 0.7827219683665204, 0.44127989236410203, 0.3989382642269813, 0.2722871903625972, 0.24529833074870672, 0.04544031679131981, 0.1186472568843226, 0.11771678680957645, 0.2662026609684249, 0.06634464701103797, 0.07340462224486696, -0.16879501984964068, -0.09558807975663791, 0.2747742198580425, 0.07491620590065563, 0.14812314599365842, 0.03257457776353488, 0.14284179081399348, 0.10578151785653767, 0.10485104778179152, -0.05701622314339343, -0.2931983214543503, -0.09407649610084924, -0.4445267861782172, -0.09500696617559538, -0.3369138232555998, -0.24517211814396234, -0.11158551318203291, 0.016190716949609357, 0.015260246874863206, -0.21999138136134752, -0.22092185143609366, -0.0218000260825926, -0.26370688316259705, -0.17196517805095954, -0.038378573089030116]}],                        {\"autosize\": false, \"height\": 500, \"hovermode\": \"closest\", \"margin\": {\"b\": 10, \"l\": 10, \"r\": 10, \"t\": 10}, \"plot_bgcolor\": \"rgba(0,0,0,0)\", \"showlegend\": false, \"template\": {\"data\": {\"bar\": [{\"error_x\": {\"color\": \"#2a3f5f\"}, \"error_y\": {\"color\": \"#2a3f5f\"}, \"marker\": {\"line\": {\"color\": \"#E5ECF6\", \"width\": 0.5}}, \"type\": \"bar\"}], \"barpolar\": [{\"marker\": {\"line\": {\"color\": \"#E5ECF6\", \"width\": 0.5}}, \"type\": \"barpolar\"}], \"carpet\": [{\"aaxis\": {\"endlinecolor\": \"#2a3f5f\", \"gridcolor\": \"white\", \"linecolor\": \"white\", \"minorgridcolor\": \"white\", \"startlinecolor\": \"#2a3f5f\"}, \"baxis\": {\"endlinecolor\": \"#2a3f5f\", \"gridcolor\": \"white\", \"linecolor\": \"white\", \"minorgridcolor\": \"white\", \"startlinecolor\": \"#2a3f5f\"}, \"type\": \"carpet\"}], \"choropleth\": [{\"colorbar\": {\"outlinewidth\": 0, \"ticks\": \"\"}, \"type\": \"choropleth\"}], \"contour\": [{\"colorbar\": {\"outlinewidth\": 0, \"ticks\": \"\"}, \"colorscale\": [[0.0, \"#0d0887\"], [0.1111111111111111, \"#46039f\"], [0.2222222222222222, \"#7201a8\"], [0.3333333333333333, \"#9c179e\"], [0.4444444444444444, \"#bd3786\"], [0.5555555555555556, \"#d8576b\"], [0.6666666666666666, \"#ed7953\"], [0.7777777777777778, \"#fb9f3a\"], [0.8888888888888888, \"#fdca26\"], [1.0, \"#f0f921\"]], \"type\": \"contour\"}], \"contourcarpet\": [{\"colorbar\": {\"outlinewidth\": 0, \"ticks\": \"\"}, \"type\": \"contourcarpet\"}], \"heatmap\": [{\"colorbar\": {\"outlinewidth\": 0, \"ticks\": \"\"}, \"colorscale\": [[0.0, \"#0d0887\"], [0.1111111111111111, \"#46039f\"], [0.2222222222222222, \"#7201a8\"], [0.3333333333333333, \"#9c179e\"], [0.4444444444444444, \"#bd3786\"], [0.5555555555555556, \"#d8576b\"], [0.6666666666666666, \"#ed7953\"], [0.7777777777777778, \"#fb9f3a\"], [0.8888888888888888, \"#fdca26\"], [1.0, \"#f0f921\"]], \"type\": \"heatmap\"}], \"heatmapgl\": [{\"colorbar\": {\"outlinewidth\": 0, \"ticks\": \"\"}, \"colorscale\": [[0.0, \"#0d0887\"], [0.1111111111111111, \"#46039f\"], [0.2222222222222222, \"#7201a8\"], [0.3333333333333333, \"#9c179e\"], [0.4444444444444444, \"#bd3786\"], [0.5555555555555556, \"#d8576b\"], [0.6666666666666666, \"#ed7953\"], [0.7777777777777778, \"#fb9f3a\"], [0.8888888888888888, \"#fdca26\"], [1.0, \"#f0f921\"]], \"type\": \"heatmapgl\"}], \"histogram\": [{\"marker\": {\"colorbar\": {\"outlinewidth\": 0, \"ticks\": \"\"}}, \"type\": \"histogram\"}], \"histogram2d\": [{\"colorbar\": {\"outlinewidth\": 0, \"ticks\": \"\"}, \"colorscale\": [[0.0, \"#0d0887\"], [0.1111111111111111, \"#46039f\"], [0.2222222222222222, \"#7201a8\"], [0.3333333333333333, \"#9c179e\"], [0.4444444444444444, \"#bd3786\"], [0.5555555555555556, \"#d8576b\"], [0.6666666666666666, \"#ed7953\"], [0.7777777777777778, \"#fb9f3a\"], [0.8888888888888888, \"#fdca26\"], [1.0, \"#f0f921\"]], \"type\": \"histogram2d\"}], \"histogram2dcontour\": [{\"colorbar\": {\"outlinewidth\": 0, \"ticks\": \"\"}, \"colorscale\": [[0.0, \"#0d0887\"], [0.1111111111111111, \"#46039f\"], [0.2222222222222222, \"#7201a8\"], [0.3333333333333333, \"#9c179e\"], [0.4444444444444444, \"#bd3786\"], [0.5555555555555556, \"#d8576b\"], [0.6666666666666666, \"#ed7953\"], [0.7777777777777778, \"#fb9f3a\"], [0.8888888888888888, \"#fdca26\"], [1.0, \"#f0f921\"]], \"type\": \"histogram2dcontour\"}], \"mesh3d\": [{\"colorbar\": {\"outlinewidth\": 0, \"ticks\": \"\"}, \"type\": \"mesh3d\"}], \"parcoords\": [{\"line\": {\"colorbar\": {\"outlinewidth\": 0, \"ticks\": \"\"}}, \"type\": \"parcoords\"}], \"pie\": [{\"automargin\": true, \"type\": \"pie\"}], \"scatter\": [{\"marker\": {\"colorbar\": {\"outlinewidth\": 0, \"ticks\": \"\"}}, \"type\": \"scatter\"}], \"scatter3d\": [{\"line\": {\"colorbar\": {\"outlinewidth\": 0, \"ticks\": \"\"}}, \"marker\": {\"colorbar\": {\"outlinewidth\": 0, \"ticks\": \"\"}}, \"type\": \"scatter3d\"}], \"scattercarpet\": [{\"marker\": {\"colorbar\": {\"outlinewidth\": 0, \"ticks\": \"\"}}, \"type\": \"scattercarpet\"}], \"scattergeo\": [{\"marker\": {\"colorbar\": {\"outlinewidth\": 0, \"ticks\": \"\"}}, \"type\": \"scattergeo\"}], \"scattergl\": [{\"marker\": {\"colorbar\": {\"outlinewidth\": 0, \"ticks\": \"\"}}, \"type\": \"scattergl\"}], \"scattermapbox\": [{\"marker\": {\"colorbar\": {\"outlinewidth\": 0, \"ticks\": \"\"}}, \"type\": \"scattermapbox\"}], \"scatterpolar\": [{\"marker\": {\"colorbar\": {\"outlinewidth\": 0, \"ticks\": \"\"}}, \"type\": \"scatterpolar\"}], \"scatterpolargl\": [{\"marker\": {\"colorbar\": {\"outlinewidth\": 0, \"ticks\": \"\"}}, \"type\": \"scatterpolargl\"}], \"scatterternary\": [{\"marker\": {\"colorbar\": {\"outlinewidth\": 0, \"ticks\": \"\"}}, \"type\": \"scatterternary\"}], \"surface\": [{\"colorbar\": {\"outlinewidth\": 0, \"ticks\": \"\"}, \"colorscale\": [[0.0, \"#0d0887\"], [0.1111111111111111, \"#46039f\"], [0.2222222222222222, \"#7201a8\"], [0.3333333333333333, \"#9c179e\"], [0.4444444444444444, \"#bd3786\"], [0.5555555555555556, \"#d8576b\"], [0.6666666666666666, \"#ed7953\"], [0.7777777777777778, \"#fb9f3a\"], [0.8888888888888888, \"#fdca26\"], [1.0, \"#f0f921\"]], \"type\": \"surface\"}], \"table\": [{\"cells\": {\"fill\": {\"color\": \"#EBF0F8\"}, \"line\": {\"color\": \"white\"}}, \"header\": {\"fill\": {\"color\": \"#C8D4E3\"}, \"line\": {\"color\": \"white\"}}, \"type\": \"table\"}]}, \"layout\": {\"annotationdefaults\": {\"arrowcolor\": \"#2a3f5f\", \"arrowhead\": 0, \"arrowwidth\": 1}, \"coloraxis\": {\"colorbar\": {\"outlinewidth\": 0, \"ticks\": \"\"}}, \"colorscale\": {\"diverging\": [[0, \"#8e0152\"], [0.1, \"#c51b7d\"], [0.2, \"#de77ae\"], [0.3, \"#f1b6da\"], [0.4, \"#fde0ef\"], [0.5, \"#f7f7f7\"], [0.6, \"#e6f5d0\"], [0.7, \"#b8e186\"], [0.8, \"#7fbc41\"], [0.9, \"#4d9221\"], [1, \"#276419\"]], \"sequential\": [[0.0, \"#0d0887\"], [0.1111111111111111, \"#46039f\"], [0.2222222222222222, \"#7201a8\"], [0.3333333333333333, \"#9c179e\"], [0.4444444444444444, \"#bd3786\"], [0.5555555555555556, \"#d8576b\"], [0.6666666666666666, \"#ed7953\"], [0.7777777777777778, \"#fb9f3a\"], [0.8888888888888888, \"#fdca26\"], [1.0, \"#f0f921\"]], \"sequentialminus\": [[0.0, \"#0d0887\"], [0.1111111111111111, \"#46039f\"], [0.2222222222222222, \"#7201a8\"], [0.3333333333333333, \"#9c179e\"], [0.4444444444444444, \"#bd3786\"], [0.5555555555555556, \"#d8576b\"], [0.6666666666666666, \"#ed7953\"], [0.7777777777777778, \"#fb9f3a\"], [0.8888888888888888, \"#fdca26\"], [1.0, \"#f0f921\"]]}, \"colorway\": [\"#636efa\", \"#EF553B\", \"#00cc96\", \"#ab63fa\", \"#FFA15A\", \"#19d3f3\", \"#FF6692\", \"#B6E880\", \"#FF97FF\", \"#FECB52\"], \"font\": {\"color\": \"#2a3f5f\"}, \"geo\": {\"bgcolor\": \"white\", \"lakecolor\": \"white\", \"landcolor\": \"#E5ECF6\", \"showlakes\": true, \"showland\": true, \"subunitcolor\": \"white\"}, \"hoverlabel\": {\"align\": \"left\"}, \"hovermode\": \"closest\", \"mapbox\": {\"style\": \"light\"}, \"paper_bgcolor\": \"white\", \"plot_bgcolor\": \"#E5ECF6\", \"polar\": {\"angularaxis\": {\"gridcolor\": \"white\", \"linecolor\": \"white\", \"ticks\": \"\"}, \"bgcolor\": \"#E5ECF6\", \"radialaxis\": {\"gridcolor\": \"white\", \"linecolor\": \"white\", \"ticks\": \"\"}}, \"scene\": {\"xaxis\": {\"backgroundcolor\": \"#E5ECF6\", \"gridcolor\": \"white\", \"gridwidth\": 2, \"linecolor\": \"white\", \"showbackground\": true, \"ticks\": \"\", \"zerolinecolor\": \"white\"}, \"yaxis\": {\"backgroundcolor\": \"#E5ECF6\", \"gridcolor\": \"white\", \"gridwidth\": 2, \"linecolor\": \"white\", \"showbackground\": true, \"ticks\": \"\", \"zerolinecolor\": \"white\"}, \"zaxis\": {\"backgroundcolor\": \"#E5ECF6\", \"gridcolor\": \"white\", \"gridwidth\": 2, \"linecolor\": \"white\", \"showbackground\": true, \"ticks\": \"\", \"zerolinecolor\": \"white\"}}, \"shapedefaults\": {\"line\": {\"color\": \"#2a3f5f\"}}, \"ternary\": {\"aaxis\": {\"gridcolor\": \"white\", \"linecolor\": \"white\", \"ticks\": \"\"}, \"baxis\": {\"gridcolor\": \"white\", \"linecolor\": \"white\", \"ticks\": \"\"}, \"bgcolor\": \"#E5ECF6\", \"caxis\": {\"gridcolor\": \"white\", \"linecolor\": \"white\", \"ticks\": \"\"}}, \"title\": {\"x\": 0.05}, \"xaxis\": {\"automargin\": true, \"gridcolor\": \"white\", \"linecolor\": \"white\", \"ticks\": \"\", \"title\": {\"standoff\": 15}, \"zerolinecolor\": \"white\", \"zerolinewidth\": 2}, \"yaxis\": {\"automargin\": true, \"gridcolor\": \"white\", \"linecolor\": \"white\", \"ticks\": \"\", \"title\": {\"standoff\": 15}, \"zerolinecolor\": \"white\", \"zerolinewidth\": 2}}}, \"title\": {\"font\": {\"size\": 16}}, \"width\": 500, \"xaxis\": {\"showgrid\": false, \"showticklabels\": false, \"zeroline\": false}, \"yaxis\": {\"showgrid\": false, \"showticklabels\": false, \"zeroline\": false}},                        {\"responsive\": true}                    ).then(function(){\n",
       "                            \n",
       "var gd = document.getElementById('d5cd750a-8eb2-498a-b94d-19a82e653d20');\n",
       "var x = new MutationObserver(function (mutations, observer) {{\n",
       "        var display = window.getComputedStyle(gd).display;\n",
       "        if (!display || display === 'none') {{\n",
       "            console.log([gd, 'removed!']);\n",
       "            Plotly.purge(gd);\n",
       "            observer.disconnect();\n",
       "        }}\n",
       "}});\n",
       "\n",
       "// Listen for the removal of the full notebook cells\n",
       "var notebookContainer = gd.closest('#notebook-container');\n",
       "if (notebookContainer) {{\n",
       "    x.observe(notebookContainer, {childList: true});\n",
       "}}\n",
       "\n",
       "// Listen for the clearing of the current output cell\n",
       "var outputEl = gd.closest('.output');\n",
       "if (outputEl) {{\n",
       "    x.observe(outputEl, {childList: true});\n",
       "}}\n",
       "\n",
       "                        })                };                });            </script>        </div>"
      ]
     },
     "metadata": {},
     "output_type": "display_data"
    }
   ],
   "source": [
    "fig = textnet.draw_2d_network(G)\n",
    "fig.show()"
   ]
  },
  {
   "cell_type": "code",
   "execution_count": 745,
   "metadata": {},
   "outputs": [
    {
     "data": {
      "application/vnd.plotly.v1+json": {
       "config": {
        "plotlyServerURL": "https://plot.ly"
       },
       "data": [
        {
         "line": {
          "color": "#000000",
          "width": 1
         },
         "mode": "lines",
         "type": "scatter",
         "x": [
          -0.1980260580029722,
          0.05591182163246904,
          null,
          -0.08245954769381937,
          0.05591182163246904,
          null
         ],
         "y": [
          0.04380753216408692,
          -0.1373482096327315,
          null,
          -0.058431340756543416,
          -0.1373482096327315,
          null
         ]
        },
        {
         "line": {
          "color": "#404040",
          "width": 0.7
         },
         "mode": "lines",
         "type": "scatter",
         "x": [
          -0.3254799359428207,
          -0.39965693283509435,
          null,
          0.1486114153966442,
          0.04826051041544308,
          null,
          0.04826051041544308,
          0.05591182163246904,
          null,
          -0.1980260580029722,
          -0.08245954769381937,
          null,
          -0.1980260580029722,
          -0.39965693283509435,
          null,
          0.05591182163246904,
          -0.39965693283509435,
          null
         ],
         "y": [
          -0.3100733333730345,
          -0.1259354563504261,
          null,
          0.6627289585465476,
          0.29484297333467857,
          null,
          0.29484297333467857,
          -0.1373482096327315,
          null,
          0.04380753216408692,
          -0.058431340756543416,
          null,
          0.04380753216408692,
          -0.1259354563504261,
          null,
          -0.1373482096327315,
          -0.1259354563504261,
          null
         ]
        },
        {
         "line": {
          "color": "#C0C0C0",
          "width": 0.5
         },
         "mode": "lines",
         "type": "scatter",
         "x": [
          -0.3254799359428207,
          -0.1526421284090696,
          null,
          -0.3254799359428207,
          -0.10480064858077096,
          null,
          -0.3254799359428207,
          -0.1980260580029722,
          null,
          -0.3254799359428207,
          -0.08245954769381937,
          null,
          -0.3254799359428207,
          0.05591182163246904,
          null,
          -0.1526421284090696,
          -0.1980260580029722,
          null,
          -0.1526421284090696,
          -0.08245954769381937,
          null,
          -0.1526421284090696,
          0.05591182163246904,
          null,
          0.1486114153966442,
          0.23781671951960023,
          null,
          0.17091160886878218,
          -0.1980260580029722,
          null,
          0.17091160886878218,
          -0.08245954769381937,
          null,
          0.17091160886878218,
          0.05591182163246904,
          null,
          -0.10480064858077096,
          -0.08245954769381937,
          null,
          -0.10480064858077096,
          0.05591182163246904,
          null,
          0.04826051041544308,
          -0.1980260580029722,
          null,
          0.04826051041544308,
          -0.08245954769381937,
          null,
          -0.1980260580029722,
          -0.18775483776262009,
          null,
          -0.08245954769381937,
          -0.18775483776262009,
          null,
          -0.08245954769381937,
          -0.5270381028035854,
          null,
          -0.08245954769381937,
          -0.39965693283509435,
          null,
          -0.08245954769381937,
          0.24309373120200348,
          null,
          -0.08245954769381937,
          0.34643078829183616,
          null,
          -0.18775483776262009,
          0.05591182163246904,
          null,
          0.23936422853552214,
          0.05591182163246904,
          null,
          0.05591182163246904,
          0.24309373120200348,
          null,
          0.05591182163246904,
          0.48745736816845225,
          null,
          0.05591182163246904,
          0.34643078829183616,
          null
         ],
         "y": [
          -0.3100733333730345,
          -0.34497597604600094,
          null,
          -0.3100733333730345,
          -0.48827064645526397,
          null,
          -0.3100733333730345,
          0.04380753216408692,
          null,
          -0.3100733333730345,
          -0.058431340756543416,
          null,
          -0.3100733333730345,
          -0.1373482096327315,
          null,
          -0.34497597604600094,
          0.04380753216408692,
          null,
          -0.34497597604600094,
          -0.058431340756543416,
          null,
          -0.34497597604600094,
          -0.1373482096327315,
          null,
          0.6627289585465476,
          1,
          null,
          0.13884724496658007,
          0.04380753216408692,
          null,
          0.13884724496658007,
          -0.058431340756543416,
          null,
          0.13884724496658007,
          -0.1373482096327315,
          null,
          -0.48827064645526397,
          -0.058431340756543416,
          null,
          -0.48827064645526397,
          -0.1373482096327315,
          null,
          0.29484297333467857,
          0.04380753216408692,
          null,
          0.29484297333467857,
          -0.058431340756543416,
          null,
          0.04380753216408692,
          0.2480346121337306,
          null,
          -0.058431340756543416,
          0.2480346121337306,
          null,
          -0.058431340756543416,
          0.13172117134769115,
          null,
          -0.058431340756543416,
          -0.1259354563504261,
          null,
          -0.058431340756543416,
          -0.3231857373780657,
          null,
          -0.058431340756543416,
          0.012798899290279461,
          null,
          0.2480346121337306,
          -0.1373482096327315,
          null,
          -0.5367705269102527,
          -0.1373482096327315,
          null,
          -0.1373482096327315,
          -0.3231857373780657,
          null,
          -0.1373482096327315,
          -0.2077901648812753,
          null,
          -0.1373482096327315,
          0.012798899290279461,
          null
         ]
        },
        {
         "hoverinfo": "text",
         "hovertext": [
          "6",
          "4",
          "2",
          "3",
          "1",
          "3",
          "4",
          "8",
          "12",
          "3",
          "1",
          "13",
          "1",
          "4",
          "2",
          "1",
          "2"
         ],
         "marker": {
          "color": [
           90,
           55,
           32,
           46,
           7,
           26,
           55,
           62,
           93,
           20,
           31,
           72,
           21,
           10,
           24,
           21,
           5
          ],
          "colorbar": {
           "thickness": 15,
           "title": {
            "side": "right",
            "text": "degree"
           },
           "xanchor": "left"
          },
          "colorscale": [
           [
            0,
            "rgb(255,255,255)"
           ],
           [
            0.125,
            "rgb(240,240,240)"
           ],
           [
            0.25,
            "rgb(217,217,217)"
           ],
           [
            0.375,
            "rgb(189,189,189)"
           ],
           [
            0.5,
            "rgb(150,150,150)"
           ],
           [
            0.625,
            "rgb(115,115,115)"
           ],
           [
            0.75,
            "rgb(82,82,82)"
           ],
           [
            0.875,
            "rgb(37,37,37)"
           ],
           [
            1,
            "rgb(0,0,0)"
           ]
          ],
          "line": {
           "width": 1
          },
          "showscale": false,
          "size": 7
         },
         "mode": "markers+text",
         "text": [
          "Paul of Tarsus",
          "Clemens Romanus",
          "Barnabas",
          "Hermas",
          "Didache",
          "GNT rest",
          "Justinus Martyr",
          "Clement of Alexandria",
          "Origenes",
          "Athenagoras",
          "Theophilus Antiochenus",
          "Eusebius",
          "Johnannine literature",
          "Epiphanius",
          "Athanasius of Alexandria",
          "Luke (the evangelist)",
          "Basil"
         ],
         "textposition": "bottom center",
         "type": "scatter",
         "x": [
          -0.3254799359428207,
          -0.1526421284090696,
          0.1486114153966442,
          0.17091160886878218,
          0.23781671951960023,
          -0.10480064858077096,
          0.04826051041544308,
          -0.1980260580029722,
          -0.08245954769381937,
          -0.18775483776262009,
          0.23936422853552214,
          0.05591182163246904,
          -0.5270381028035854,
          -0.39965693283509435,
          0.24309373120200348,
          0.48745736816845225,
          0.34643078829183616
         ],
         "y": [
          -0.3100733333730345,
          -0.34497597604600094,
          0.6627289585465476,
          0.13884724496658007,
          1,
          -0.48827064645526397,
          0.29484297333467857,
          0.04380753216408692,
          -0.058431340756543416,
          0.2480346121337306,
          -0.5367705269102527,
          -0.1373482096327315,
          0.13172117134769115,
          -0.1259354563504261,
          -0.3231857373780657,
          -0.2077901648812753,
          0.012798899290279461
         ]
        },
        {
         "hoverinfo": "text",
         "marker": {
          "opacity": 0
         },
         "mode": "markers",
         "opacity": 0,
         "text": [
          "0",
          "0",
          "0",
          "0",
          "0",
          "0",
          "0",
          "0",
          "0",
          "0",
          "0",
          "0",
          "0",
          "0",
          "0",
          "0",
          "0",
          "0",
          "0",
          "0",
          "0",
          "0",
          "0",
          "0",
          "0",
          "0",
          "0",
          "0",
          "0",
          "0",
          "0",
          "0",
          "0",
          "0",
          "0"
         ],
         "type": "scatter",
         "x": [
          -0.23906103217594515,
          -0.21514029226179582,
          -0.26175299697289645,
          -0.20396974181832003,
          -0.13478405715517583,
          -0.36256843438895753,
          -0.1753340932060209,
          -0.11755083805144448,
          -0.048365153388300275,
          0.1932140674581222,
          0.09843596290604363,
          -0.013557224567095016,
          0.0442260305874814,
          0.11341171525062561,
          -0.09363009813729517,
          -0.024444413474150956,
          -0.07488277379376457,
          -0.017099518639188144,
          0.05208616602395606,
          -0.1402428028483958,
          -0.19289044788279613,
          -0.07105711818525158,
          -0.29884149541903327,
          -0.13510719272821972,
          -0.013273863030675164,
          -0.3047488252487024,
          -0.24105824026445685,
          0.08031709175409205,
          0.1319856202990084,
          -0.06592150806507552,
          0.1476380250839956,
          -0.17187255560131265,
          0.14950277641723625,
          0.27168459490046065,
          0.2011713049621526
         ],
         "y": [
          -0.32752465470951775,
          -0.39917198991414926,
          -0.1331329006044738,
          -0.18425233706478897,
          -0.223710771502883,
          -0.2180043948617303,
          -0.150584221940957,
          -0.2017036584012722,
          -0.24116209283936624,
          0.8313644792732737,
          0.47878596594061307,
          0.0913273885653335,
          0.04020795210501833,
          0.0007495176669242848,
          -0.2733509936059037,
          -0.31280942804399775,
          0.16932525274938276,
          0.11820581628906758,
          0.07874738185097353,
          -0.007311904296228248,
          0.14592107214890876,
          -0.04677033873432229,
          -0.04106396209316959,
          0.0948016356885936,
          -0.09788977519463746,
          0.03664491529557387,
          -0.09218339855348476,
          -0.19080853906730458,
          -0.022816220733131977,
          0.055343201250499546,
          -0.33705936827149213,
          -0.1316418329915788,
          -0.2302669735053986,
          -0.1725691872570034,
          -0.062274655171226025
         ]
        }
       ],
       "layout": {
        "autosize": false,
        "height": 500,
        "hovermode": "closest",
        "margin": {
         "b": 10,
         "l": 10,
         "r": 10,
         "t": 10
        },
        "plot_bgcolor": "rgba(0,0,0,0)",
        "showlegend": false,
        "template": {
         "data": {
          "bar": [
           {
            "error_x": {
             "color": "#2a3f5f"
            },
            "error_y": {
             "color": "#2a3f5f"
            },
            "marker": {
             "line": {
              "color": "#E5ECF6",
              "width": 0.5
             }
            },
            "type": "bar"
           }
          ],
          "barpolar": [
           {
            "marker": {
             "line": {
              "color": "#E5ECF6",
              "width": 0.5
             }
            },
            "type": "barpolar"
           }
          ],
          "carpet": [
           {
            "aaxis": {
             "endlinecolor": "#2a3f5f",
             "gridcolor": "white",
             "linecolor": "white",
             "minorgridcolor": "white",
             "startlinecolor": "#2a3f5f"
            },
            "baxis": {
             "endlinecolor": "#2a3f5f",
             "gridcolor": "white",
             "linecolor": "white",
             "minorgridcolor": "white",
             "startlinecolor": "#2a3f5f"
            },
            "type": "carpet"
           }
          ],
          "choropleth": [
           {
            "colorbar": {
             "outlinewidth": 0,
             "ticks": ""
            },
            "type": "choropleth"
           }
          ],
          "contour": [
           {
            "colorbar": {
             "outlinewidth": 0,
             "ticks": ""
            },
            "colorscale": [
             [
              0,
              "#0d0887"
             ],
             [
              0.1111111111111111,
              "#46039f"
             ],
             [
              0.2222222222222222,
              "#7201a8"
             ],
             [
              0.3333333333333333,
              "#9c179e"
             ],
             [
              0.4444444444444444,
              "#bd3786"
             ],
             [
              0.5555555555555556,
              "#d8576b"
             ],
             [
              0.6666666666666666,
              "#ed7953"
             ],
             [
              0.7777777777777778,
              "#fb9f3a"
             ],
             [
              0.8888888888888888,
              "#fdca26"
             ],
             [
              1,
              "#f0f921"
             ]
            ],
            "type": "contour"
           }
          ],
          "contourcarpet": [
           {
            "colorbar": {
             "outlinewidth": 0,
             "ticks": ""
            },
            "type": "contourcarpet"
           }
          ],
          "heatmap": [
           {
            "colorbar": {
             "outlinewidth": 0,
             "ticks": ""
            },
            "colorscale": [
             [
              0,
              "#0d0887"
             ],
             [
              0.1111111111111111,
              "#46039f"
             ],
             [
              0.2222222222222222,
              "#7201a8"
             ],
             [
              0.3333333333333333,
              "#9c179e"
             ],
             [
              0.4444444444444444,
              "#bd3786"
             ],
             [
              0.5555555555555556,
              "#d8576b"
             ],
             [
              0.6666666666666666,
              "#ed7953"
             ],
             [
              0.7777777777777778,
              "#fb9f3a"
             ],
             [
              0.8888888888888888,
              "#fdca26"
             ],
             [
              1,
              "#f0f921"
             ]
            ],
            "type": "heatmap"
           }
          ],
          "heatmapgl": [
           {
            "colorbar": {
             "outlinewidth": 0,
             "ticks": ""
            },
            "colorscale": [
             [
              0,
              "#0d0887"
             ],
             [
              0.1111111111111111,
              "#46039f"
             ],
             [
              0.2222222222222222,
              "#7201a8"
             ],
             [
              0.3333333333333333,
              "#9c179e"
             ],
             [
              0.4444444444444444,
              "#bd3786"
             ],
             [
              0.5555555555555556,
              "#d8576b"
             ],
             [
              0.6666666666666666,
              "#ed7953"
             ],
             [
              0.7777777777777778,
              "#fb9f3a"
             ],
             [
              0.8888888888888888,
              "#fdca26"
             ],
             [
              1,
              "#f0f921"
             ]
            ],
            "type": "heatmapgl"
           }
          ],
          "histogram": [
           {
            "marker": {
             "colorbar": {
              "outlinewidth": 0,
              "ticks": ""
             }
            },
            "type": "histogram"
           }
          ],
          "histogram2d": [
           {
            "colorbar": {
             "outlinewidth": 0,
             "ticks": ""
            },
            "colorscale": [
             [
              0,
              "#0d0887"
             ],
             [
              0.1111111111111111,
              "#46039f"
             ],
             [
              0.2222222222222222,
              "#7201a8"
             ],
             [
              0.3333333333333333,
              "#9c179e"
             ],
             [
              0.4444444444444444,
              "#bd3786"
             ],
             [
              0.5555555555555556,
              "#d8576b"
             ],
             [
              0.6666666666666666,
              "#ed7953"
             ],
             [
              0.7777777777777778,
              "#fb9f3a"
             ],
             [
              0.8888888888888888,
              "#fdca26"
             ],
             [
              1,
              "#f0f921"
             ]
            ],
            "type": "histogram2d"
           }
          ],
          "histogram2dcontour": [
           {
            "colorbar": {
             "outlinewidth": 0,
             "ticks": ""
            },
            "colorscale": [
             [
              0,
              "#0d0887"
             ],
             [
              0.1111111111111111,
              "#46039f"
             ],
             [
              0.2222222222222222,
              "#7201a8"
             ],
             [
              0.3333333333333333,
              "#9c179e"
             ],
             [
              0.4444444444444444,
              "#bd3786"
             ],
             [
              0.5555555555555556,
              "#d8576b"
             ],
             [
              0.6666666666666666,
              "#ed7953"
             ],
             [
              0.7777777777777778,
              "#fb9f3a"
             ],
             [
              0.8888888888888888,
              "#fdca26"
             ],
             [
              1,
              "#f0f921"
             ]
            ],
            "type": "histogram2dcontour"
           }
          ],
          "mesh3d": [
           {
            "colorbar": {
             "outlinewidth": 0,
             "ticks": ""
            },
            "type": "mesh3d"
           }
          ],
          "parcoords": [
           {
            "line": {
             "colorbar": {
              "outlinewidth": 0,
              "ticks": ""
             }
            },
            "type": "parcoords"
           }
          ],
          "pie": [
           {
            "automargin": true,
            "type": "pie"
           }
          ],
          "scatter": [
           {
            "marker": {
             "colorbar": {
              "outlinewidth": 0,
              "ticks": ""
             }
            },
            "type": "scatter"
           }
          ],
          "scatter3d": [
           {
            "line": {
             "colorbar": {
              "outlinewidth": 0,
              "ticks": ""
             }
            },
            "marker": {
             "colorbar": {
              "outlinewidth": 0,
              "ticks": ""
             }
            },
            "type": "scatter3d"
           }
          ],
          "scattercarpet": [
           {
            "marker": {
             "colorbar": {
              "outlinewidth": 0,
              "ticks": ""
             }
            },
            "type": "scattercarpet"
           }
          ],
          "scattergeo": [
           {
            "marker": {
             "colorbar": {
              "outlinewidth": 0,
              "ticks": ""
             }
            },
            "type": "scattergeo"
           }
          ],
          "scattergl": [
           {
            "marker": {
             "colorbar": {
              "outlinewidth": 0,
              "ticks": ""
             }
            },
            "type": "scattergl"
           }
          ],
          "scattermapbox": [
           {
            "marker": {
             "colorbar": {
              "outlinewidth": 0,
              "ticks": ""
             }
            },
            "type": "scattermapbox"
           }
          ],
          "scatterpolar": [
           {
            "marker": {
             "colorbar": {
              "outlinewidth": 0,
              "ticks": ""
             }
            },
            "type": "scatterpolar"
           }
          ],
          "scatterpolargl": [
           {
            "marker": {
             "colorbar": {
              "outlinewidth": 0,
              "ticks": ""
             }
            },
            "type": "scatterpolargl"
           }
          ],
          "scatterternary": [
           {
            "marker": {
             "colorbar": {
              "outlinewidth": 0,
              "ticks": ""
             }
            },
            "type": "scatterternary"
           }
          ],
          "surface": [
           {
            "colorbar": {
             "outlinewidth": 0,
             "ticks": ""
            },
            "colorscale": [
             [
              0,
              "#0d0887"
             ],
             [
              0.1111111111111111,
              "#46039f"
             ],
             [
              0.2222222222222222,
              "#7201a8"
             ],
             [
              0.3333333333333333,
              "#9c179e"
             ],
             [
              0.4444444444444444,
              "#bd3786"
             ],
             [
              0.5555555555555556,
              "#d8576b"
             ],
             [
              0.6666666666666666,
              "#ed7953"
             ],
             [
              0.7777777777777778,
              "#fb9f3a"
             ],
             [
              0.8888888888888888,
              "#fdca26"
             ],
             [
              1,
              "#f0f921"
             ]
            ],
            "type": "surface"
           }
          ],
          "table": [
           {
            "cells": {
             "fill": {
              "color": "#EBF0F8"
             },
             "line": {
              "color": "white"
             }
            },
            "header": {
             "fill": {
              "color": "#C8D4E3"
             },
             "line": {
              "color": "white"
             }
            },
            "type": "table"
           }
          ]
         },
         "layout": {
          "annotationdefaults": {
           "arrowcolor": "#2a3f5f",
           "arrowhead": 0,
           "arrowwidth": 1
          },
          "coloraxis": {
           "colorbar": {
            "outlinewidth": 0,
            "ticks": ""
           }
          },
          "colorscale": {
           "diverging": [
            [
             0,
             "#8e0152"
            ],
            [
             0.1,
             "#c51b7d"
            ],
            [
             0.2,
             "#de77ae"
            ],
            [
             0.3,
             "#f1b6da"
            ],
            [
             0.4,
             "#fde0ef"
            ],
            [
             0.5,
             "#f7f7f7"
            ],
            [
             0.6,
             "#e6f5d0"
            ],
            [
             0.7,
             "#b8e186"
            ],
            [
             0.8,
             "#7fbc41"
            ],
            [
             0.9,
             "#4d9221"
            ],
            [
             1,
             "#276419"
            ]
           ],
           "sequential": [
            [
             0,
             "#0d0887"
            ],
            [
             0.1111111111111111,
             "#46039f"
            ],
            [
             0.2222222222222222,
             "#7201a8"
            ],
            [
             0.3333333333333333,
             "#9c179e"
            ],
            [
             0.4444444444444444,
             "#bd3786"
            ],
            [
             0.5555555555555556,
             "#d8576b"
            ],
            [
             0.6666666666666666,
             "#ed7953"
            ],
            [
             0.7777777777777778,
             "#fb9f3a"
            ],
            [
             0.8888888888888888,
             "#fdca26"
            ],
            [
             1,
             "#f0f921"
            ]
           ],
           "sequentialminus": [
            [
             0,
             "#0d0887"
            ],
            [
             0.1111111111111111,
             "#46039f"
            ],
            [
             0.2222222222222222,
             "#7201a8"
            ],
            [
             0.3333333333333333,
             "#9c179e"
            ],
            [
             0.4444444444444444,
             "#bd3786"
            ],
            [
             0.5555555555555556,
             "#d8576b"
            ],
            [
             0.6666666666666666,
             "#ed7953"
            ],
            [
             0.7777777777777778,
             "#fb9f3a"
            ],
            [
             0.8888888888888888,
             "#fdca26"
            ],
            [
             1,
             "#f0f921"
            ]
           ]
          },
          "colorway": [
           "#636efa",
           "#EF553B",
           "#00cc96",
           "#ab63fa",
           "#FFA15A",
           "#19d3f3",
           "#FF6692",
           "#B6E880",
           "#FF97FF",
           "#FECB52"
          ],
          "font": {
           "color": "#2a3f5f"
          },
          "geo": {
           "bgcolor": "white",
           "lakecolor": "white",
           "landcolor": "#E5ECF6",
           "showlakes": true,
           "showland": true,
           "subunitcolor": "white"
          },
          "hoverlabel": {
           "align": "left"
          },
          "hovermode": "closest",
          "mapbox": {
           "style": "light"
          },
          "paper_bgcolor": "white",
          "plot_bgcolor": "#E5ECF6",
          "polar": {
           "angularaxis": {
            "gridcolor": "white",
            "linecolor": "white",
            "ticks": ""
           },
           "bgcolor": "#E5ECF6",
           "radialaxis": {
            "gridcolor": "white",
            "linecolor": "white",
            "ticks": ""
           }
          },
          "scene": {
           "xaxis": {
            "backgroundcolor": "#E5ECF6",
            "gridcolor": "white",
            "gridwidth": 2,
            "linecolor": "white",
            "showbackground": true,
            "ticks": "",
            "zerolinecolor": "white"
           },
           "yaxis": {
            "backgroundcolor": "#E5ECF6",
            "gridcolor": "white",
            "gridwidth": 2,
            "linecolor": "white",
            "showbackground": true,
            "ticks": "",
            "zerolinecolor": "white"
           },
           "zaxis": {
            "backgroundcolor": "#E5ECF6",
            "gridcolor": "white",
            "gridwidth": 2,
            "linecolor": "white",
            "showbackground": true,
            "ticks": "",
            "zerolinecolor": "white"
           }
          },
          "shapedefaults": {
           "line": {
            "color": "#2a3f5f"
           }
          },
          "ternary": {
           "aaxis": {
            "gridcolor": "white",
            "linecolor": "white",
            "ticks": ""
           },
           "baxis": {
            "gridcolor": "white",
            "linecolor": "white",
            "ticks": ""
           },
           "bgcolor": "#E5ECF6",
           "caxis": {
            "gridcolor": "white",
            "linecolor": "white",
            "ticks": ""
           }
          },
          "title": {
           "x": 0.05
          },
          "xaxis": {
           "automargin": true,
           "gridcolor": "white",
           "linecolor": "white",
           "ticks": "",
           "title": {
            "standoff": 15
           },
           "zerolinecolor": "white",
           "zerolinewidth": 2
          },
          "yaxis": {
           "automargin": true,
           "gridcolor": "white",
           "linecolor": "white",
           "ticks": "",
           "title": {
            "standoff": 15
           },
           "zerolinecolor": "white",
           "zerolinewidth": 2
          }
         }
        },
        "title": {
         "font": {
          "size": 16
         }
        },
        "width": 500,
        "xaxis": {
         "showgrid": false,
         "showticklabels": false,
         "zeroline": false
        },
        "yaxis": {
         "showgrid": false,
         "showticklabels": false,
         "zeroline": false
        }
       }
      },
      "text/html": [
       "<div>                            <div id=\"551dc80e-bcee-4fd0-84ce-a5822193e397\" class=\"plotly-graph-div\" style=\"height:500px; width:500px;\"></div>            <script type=\"text/javascript\">                require([\"plotly\"], function(Plotly) {                    window.PLOTLYENV=window.PLOTLYENV || {};                                    if (document.getElementById(\"551dc80e-bcee-4fd0-84ce-a5822193e397\")) {                    Plotly.newPlot(                        \"551dc80e-bcee-4fd0-84ce-a5822193e397\",                        [{\"line\": {\"color\": \"#000000\", \"width\": 1}, \"mode\": \"lines\", \"type\": \"scatter\", \"x\": [-0.1980260580029722, 0.05591182163246904, null, -0.08245954769381937, 0.05591182163246904, null], \"y\": [0.04380753216408692, -0.1373482096327315, null, -0.058431340756543416, -0.1373482096327315, null]}, {\"line\": {\"color\": \"#404040\", \"width\": 0.7}, \"mode\": \"lines\", \"type\": \"scatter\", \"x\": [-0.3254799359428207, -0.39965693283509435, null, 0.1486114153966442, 0.04826051041544308, null, 0.04826051041544308, 0.05591182163246904, null, -0.1980260580029722, -0.08245954769381937, null, -0.1980260580029722, -0.39965693283509435, null, 0.05591182163246904, -0.39965693283509435, null], \"y\": [-0.3100733333730345, -0.1259354563504261, null, 0.6627289585465476, 0.29484297333467857, null, 0.29484297333467857, -0.1373482096327315, null, 0.04380753216408692, -0.058431340756543416, null, 0.04380753216408692, -0.1259354563504261, null, -0.1373482096327315, -0.1259354563504261, null]}, {\"line\": {\"color\": \"#C0C0C0\", \"width\": 0.5}, \"mode\": \"lines\", \"type\": \"scatter\", \"x\": [-0.3254799359428207, -0.1526421284090696, null, -0.3254799359428207, -0.10480064858077096, null, -0.3254799359428207, -0.1980260580029722, null, -0.3254799359428207, -0.08245954769381937, null, -0.3254799359428207, 0.05591182163246904, null, -0.1526421284090696, -0.1980260580029722, null, -0.1526421284090696, -0.08245954769381937, null, -0.1526421284090696, 0.05591182163246904, null, 0.1486114153966442, 0.23781671951960023, null, 0.17091160886878218, -0.1980260580029722, null, 0.17091160886878218, -0.08245954769381937, null, 0.17091160886878218, 0.05591182163246904, null, -0.10480064858077096, -0.08245954769381937, null, -0.10480064858077096, 0.05591182163246904, null, 0.04826051041544308, -0.1980260580029722, null, 0.04826051041544308, -0.08245954769381937, null, -0.1980260580029722, -0.18775483776262009, null, -0.08245954769381937, -0.18775483776262009, null, -0.08245954769381937, -0.5270381028035854, null, -0.08245954769381937, -0.39965693283509435, null, -0.08245954769381937, 0.24309373120200348, null, -0.08245954769381937, 0.34643078829183616, null, -0.18775483776262009, 0.05591182163246904, null, 0.23936422853552214, 0.05591182163246904, null, 0.05591182163246904, 0.24309373120200348, null, 0.05591182163246904, 0.48745736816845225, null, 0.05591182163246904, 0.34643078829183616, null], \"y\": [-0.3100733333730345, -0.34497597604600094, null, -0.3100733333730345, -0.48827064645526397, null, -0.3100733333730345, 0.04380753216408692, null, -0.3100733333730345, -0.058431340756543416, null, -0.3100733333730345, -0.1373482096327315, null, -0.34497597604600094, 0.04380753216408692, null, -0.34497597604600094, -0.058431340756543416, null, -0.34497597604600094, -0.1373482096327315, null, 0.6627289585465476, 1.0, null, 0.13884724496658007, 0.04380753216408692, null, 0.13884724496658007, -0.058431340756543416, null, 0.13884724496658007, -0.1373482096327315, null, -0.48827064645526397, -0.058431340756543416, null, -0.48827064645526397, -0.1373482096327315, null, 0.29484297333467857, 0.04380753216408692, null, 0.29484297333467857, -0.058431340756543416, null, 0.04380753216408692, 0.2480346121337306, null, -0.058431340756543416, 0.2480346121337306, null, -0.058431340756543416, 0.13172117134769115, null, -0.058431340756543416, -0.1259354563504261, null, -0.058431340756543416, -0.3231857373780657, null, -0.058431340756543416, 0.012798899290279461, null, 0.2480346121337306, -0.1373482096327315, null, -0.5367705269102527, -0.1373482096327315, null, -0.1373482096327315, -0.3231857373780657, null, -0.1373482096327315, -0.2077901648812753, null, -0.1373482096327315, 0.012798899290279461, null]}, {\"hoverinfo\": \"text\", \"hovertext\": [\"6\", \"4\", \"2\", \"3\", \"1\", \"3\", \"4\", \"8\", \"12\", \"3\", \"1\", \"13\", \"1\", \"4\", \"2\", \"1\", \"2\"], \"marker\": {\"color\": [90, 55, 32, 46, 7, 26, 55, 62, 93, 20, 31, 72, 21, 10, 24, 21, 5], \"colorbar\": {\"thickness\": 15, \"title\": {\"side\": \"right\", \"text\": \"degree\"}, \"xanchor\": \"left\"}, \"colorscale\": [[0.0, \"rgb(255,255,255)\"], [0.125, \"rgb(240,240,240)\"], [0.25, \"rgb(217,217,217)\"], [0.375, \"rgb(189,189,189)\"], [0.5, \"rgb(150,150,150)\"], [0.625, \"rgb(115,115,115)\"], [0.75, \"rgb(82,82,82)\"], [0.875, \"rgb(37,37,37)\"], [1.0, \"rgb(0,0,0)\"]], \"line\": {\"width\": 1}, \"showscale\": false, \"size\": 7}, \"mode\": \"markers+text\", \"text\": [\"Paul of Tarsus\", \"Clemens Romanus\", \"Barnabas\", \"Hermas\", \"Didache\", \"GNT rest\", \"Justinus Martyr\", \"Clement of Alexandria\", \"Origenes\", \"Athenagoras\", \"Theophilus Antiochenus\", \"Eusebius\", \"Johnannine literature\", \"Epiphanius\", \"Athanasius of Alexandria\", \"Luke (the evangelist)\", \"Basil\"], \"textposition\": \"bottom center\", \"type\": \"scatter\", \"x\": [-0.3254799359428207, -0.1526421284090696, 0.1486114153966442, 0.17091160886878218, 0.23781671951960023, -0.10480064858077096, 0.04826051041544308, -0.1980260580029722, -0.08245954769381937, -0.18775483776262009, 0.23936422853552214, 0.05591182163246904, -0.5270381028035854, -0.39965693283509435, 0.24309373120200348, 0.48745736816845225, 0.34643078829183616], \"y\": [-0.3100733333730345, -0.34497597604600094, 0.6627289585465476, 0.13884724496658007, 1.0, -0.48827064645526397, 0.29484297333467857, 0.04380753216408692, -0.058431340756543416, 0.2480346121337306, -0.5367705269102527, -0.1373482096327315, 0.13172117134769115, -0.1259354563504261, -0.3231857373780657, -0.2077901648812753, 0.012798899290279461]}, {\"hoverinfo\": \"text\", \"marker\": {\"opacity\": 0}, \"mode\": \"markers\", \"opacity\": 0, \"text\": [\"0\", \"0\", \"0\", \"0\", \"0\", \"0\", \"0\", \"0\", \"0\", \"0\", \"0\", \"0\", \"0\", \"0\", \"0\", \"0\", \"0\", \"0\", \"0\", \"0\", \"0\", \"0\", \"0\", \"0\", \"0\", \"0\", \"0\", \"0\", \"0\", \"0\", \"0\", \"0\", \"0\", \"0\", \"0\"], \"type\": \"scatter\", \"x\": [-0.23906103217594515, -0.21514029226179582, -0.26175299697289645, -0.20396974181832003, -0.13478405715517583, -0.36256843438895753, -0.1753340932060209, -0.11755083805144448, -0.048365153388300275, 0.1932140674581222, 0.09843596290604363, -0.013557224567095016, 0.0442260305874814, 0.11341171525062561, -0.09363009813729517, -0.024444413474150956, -0.07488277379376457, -0.017099518639188144, 0.05208616602395606, -0.1402428028483958, -0.19289044788279613, -0.07105711818525158, -0.29884149541903327, -0.13510719272821972, -0.013273863030675164, -0.3047488252487024, -0.24105824026445685, 0.08031709175409205, 0.1319856202990084, -0.06592150806507552, 0.1476380250839956, -0.17187255560131265, 0.14950277641723625, 0.27168459490046065, 0.2011713049621526], \"y\": [-0.32752465470951775, -0.39917198991414926, -0.1331329006044738, -0.18425233706478897, -0.223710771502883, -0.2180043948617303, -0.150584221940957, -0.2017036584012722, -0.24116209283936624, 0.8313644792732737, 0.47878596594061307, 0.0913273885653335, 0.04020795210501833, 0.0007495176669242848, -0.2733509936059037, -0.31280942804399775, 0.16932525274938276, 0.11820581628906758, 0.07874738185097353, -0.007311904296228248, 0.14592107214890876, -0.04677033873432229, -0.04106396209316959, 0.0948016356885936, -0.09788977519463746, 0.03664491529557387, -0.09218339855348476, -0.19080853906730458, -0.022816220733131977, 0.055343201250499546, -0.33705936827149213, -0.1316418329915788, -0.2302669735053986, -0.1725691872570034, -0.062274655171226025]}],                        {\"autosize\": false, \"height\": 500, \"hovermode\": \"closest\", \"margin\": {\"b\": 10, \"l\": 10, \"r\": 10, \"t\": 10}, \"plot_bgcolor\": \"rgba(0,0,0,0)\", \"showlegend\": false, \"template\": {\"data\": {\"bar\": [{\"error_x\": {\"color\": \"#2a3f5f\"}, \"error_y\": {\"color\": \"#2a3f5f\"}, \"marker\": {\"line\": {\"color\": \"#E5ECF6\", \"width\": 0.5}}, \"type\": \"bar\"}], \"barpolar\": [{\"marker\": {\"line\": {\"color\": \"#E5ECF6\", \"width\": 0.5}}, \"type\": \"barpolar\"}], \"carpet\": [{\"aaxis\": {\"endlinecolor\": \"#2a3f5f\", \"gridcolor\": \"white\", \"linecolor\": \"white\", \"minorgridcolor\": \"white\", \"startlinecolor\": \"#2a3f5f\"}, \"baxis\": {\"endlinecolor\": \"#2a3f5f\", \"gridcolor\": \"white\", \"linecolor\": \"white\", \"minorgridcolor\": \"white\", \"startlinecolor\": \"#2a3f5f\"}, \"type\": \"carpet\"}], \"choropleth\": [{\"colorbar\": {\"outlinewidth\": 0, \"ticks\": \"\"}, \"type\": \"choropleth\"}], \"contour\": [{\"colorbar\": {\"outlinewidth\": 0, \"ticks\": \"\"}, \"colorscale\": [[0.0, \"#0d0887\"], [0.1111111111111111, \"#46039f\"], [0.2222222222222222, \"#7201a8\"], [0.3333333333333333, \"#9c179e\"], [0.4444444444444444, \"#bd3786\"], [0.5555555555555556, \"#d8576b\"], [0.6666666666666666, \"#ed7953\"], [0.7777777777777778, \"#fb9f3a\"], [0.8888888888888888, \"#fdca26\"], [1.0, \"#f0f921\"]], \"type\": \"contour\"}], \"contourcarpet\": [{\"colorbar\": {\"outlinewidth\": 0, \"ticks\": \"\"}, \"type\": \"contourcarpet\"}], \"heatmap\": [{\"colorbar\": {\"outlinewidth\": 0, \"ticks\": \"\"}, \"colorscale\": [[0.0, \"#0d0887\"], [0.1111111111111111, \"#46039f\"], [0.2222222222222222, \"#7201a8\"], [0.3333333333333333, \"#9c179e\"], [0.4444444444444444, \"#bd3786\"], [0.5555555555555556, \"#d8576b\"], [0.6666666666666666, \"#ed7953\"], [0.7777777777777778, \"#fb9f3a\"], [0.8888888888888888, \"#fdca26\"], [1.0, \"#f0f921\"]], \"type\": \"heatmap\"}], \"heatmapgl\": [{\"colorbar\": {\"outlinewidth\": 0, \"ticks\": \"\"}, \"colorscale\": [[0.0, \"#0d0887\"], [0.1111111111111111, \"#46039f\"], [0.2222222222222222, \"#7201a8\"], [0.3333333333333333, \"#9c179e\"], [0.4444444444444444, \"#bd3786\"], [0.5555555555555556, \"#d8576b\"], [0.6666666666666666, \"#ed7953\"], [0.7777777777777778, \"#fb9f3a\"], [0.8888888888888888, \"#fdca26\"], [1.0, \"#f0f921\"]], \"type\": \"heatmapgl\"}], \"histogram\": [{\"marker\": {\"colorbar\": {\"outlinewidth\": 0, \"ticks\": \"\"}}, \"type\": \"histogram\"}], \"histogram2d\": [{\"colorbar\": {\"outlinewidth\": 0, \"ticks\": \"\"}, \"colorscale\": [[0.0, \"#0d0887\"], [0.1111111111111111, \"#46039f\"], [0.2222222222222222, \"#7201a8\"], [0.3333333333333333, \"#9c179e\"], [0.4444444444444444, \"#bd3786\"], [0.5555555555555556, \"#d8576b\"], [0.6666666666666666, \"#ed7953\"], [0.7777777777777778, \"#fb9f3a\"], [0.8888888888888888, \"#fdca26\"], [1.0, \"#f0f921\"]], \"type\": \"histogram2d\"}], \"histogram2dcontour\": [{\"colorbar\": {\"outlinewidth\": 0, \"ticks\": \"\"}, \"colorscale\": [[0.0, \"#0d0887\"], [0.1111111111111111, \"#46039f\"], [0.2222222222222222, \"#7201a8\"], [0.3333333333333333, \"#9c179e\"], [0.4444444444444444, \"#bd3786\"], [0.5555555555555556, \"#d8576b\"], [0.6666666666666666, \"#ed7953\"], [0.7777777777777778, \"#fb9f3a\"], [0.8888888888888888, \"#fdca26\"], [1.0, \"#f0f921\"]], \"type\": \"histogram2dcontour\"}], \"mesh3d\": [{\"colorbar\": {\"outlinewidth\": 0, \"ticks\": \"\"}, \"type\": \"mesh3d\"}], \"parcoords\": [{\"line\": {\"colorbar\": {\"outlinewidth\": 0, \"ticks\": \"\"}}, \"type\": \"parcoords\"}], \"pie\": [{\"automargin\": true, \"type\": \"pie\"}], \"scatter\": [{\"marker\": {\"colorbar\": {\"outlinewidth\": 0, \"ticks\": \"\"}}, \"type\": \"scatter\"}], \"scatter3d\": [{\"line\": {\"colorbar\": {\"outlinewidth\": 0, \"ticks\": \"\"}}, \"marker\": {\"colorbar\": {\"outlinewidth\": 0, \"ticks\": \"\"}}, \"type\": \"scatter3d\"}], \"scattercarpet\": [{\"marker\": {\"colorbar\": {\"outlinewidth\": 0, \"ticks\": \"\"}}, \"type\": \"scattercarpet\"}], \"scattergeo\": [{\"marker\": {\"colorbar\": {\"outlinewidth\": 0, \"ticks\": \"\"}}, \"type\": \"scattergeo\"}], \"scattergl\": [{\"marker\": {\"colorbar\": {\"outlinewidth\": 0, \"ticks\": \"\"}}, \"type\": \"scattergl\"}], \"scattermapbox\": [{\"marker\": {\"colorbar\": {\"outlinewidth\": 0, \"ticks\": \"\"}}, \"type\": \"scattermapbox\"}], \"scatterpolar\": [{\"marker\": {\"colorbar\": {\"outlinewidth\": 0, \"ticks\": \"\"}}, \"type\": \"scatterpolar\"}], \"scatterpolargl\": [{\"marker\": {\"colorbar\": {\"outlinewidth\": 0, \"ticks\": \"\"}}, \"type\": \"scatterpolargl\"}], \"scatterternary\": [{\"marker\": {\"colorbar\": {\"outlinewidth\": 0, \"ticks\": \"\"}}, \"type\": \"scatterternary\"}], \"surface\": [{\"colorbar\": {\"outlinewidth\": 0, \"ticks\": \"\"}, \"colorscale\": [[0.0, \"#0d0887\"], [0.1111111111111111, \"#46039f\"], [0.2222222222222222, \"#7201a8\"], [0.3333333333333333, \"#9c179e\"], [0.4444444444444444, \"#bd3786\"], [0.5555555555555556, \"#d8576b\"], [0.6666666666666666, \"#ed7953\"], [0.7777777777777778, \"#fb9f3a\"], [0.8888888888888888, \"#fdca26\"], [1.0, \"#f0f921\"]], \"type\": \"surface\"}], \"table\": [{\"cells\": {\"fill\": {\"color\": \"#EBF0F8\"}, \"line\": {\"color\": \"white\"}}, \"header\": {\"fill\": {\"color\": \"#C8D4E3\"}, \"line\": {\"color\": \"white\"}}, \"type\": \"table\"}]}, \"layout\": {\"annotationdefaults\": {\"arrowcolor\": \"#2a3f5f\", \"arrowhead\": 0, \"arrowwidth\": 1}, \"coloraxis\": {\"colorbar\": {\"outlinewidth\": 0, \"ticks\": \"\"}}, \"colorscale\": {\"diverging\": [[0, \"#8e0152\"], [0.1, \"#c51b7d\"], [0.2, \"#de77ae\"], [0.3, \"#f1b6da\"], [0.4, \"#fde0ef\"], [0.5, \"#f7f7f7\"], [0.6, \"#e6f5d0\"], [0.7, \"#b8e186\"], [0.8, \"#7fbc41\"], [0.9, \"#4d9221\"], [1, \"#276419\"]], \"sequential\": [[0.0, \"#0d0887\"], [0.1111111111111111, \"#46039f\"], [0.2222222222222222, \"#7201a8\"], [0.3333333333333333, \"#9c179e\"], [0.4444444444444444, \"#bd3786\"], [0.5555555555555556, \"#d8576b\"], [0.6666666666666666, \"#ed7953\"], [0.7777777777777778, \"#fb9f3a\"], [0.8888888888888888, \"#fdca26\"], [1.0, \"#f0f921\"]], \"sequentialminus\": [[0.0, \"#0d0887\"], [0.1111111111111111, \"#46039f\"], [0.2222222222222222, \"#7201a8\"], [0.3333333333333333, \"#9c179e\"], [0.4444444444444444, \"#bd3786\"], [0.5555555555555556, \"#d8576b\"], [0.6666666666666666, \"#ed7953\"], [0.7777777777777778, \"#fb9f3a\"], [0.8888888888888888, \"#fdca26\"], [1.0, \"#f0f921\"]]}, \"colorway\": [\"#636efa\", \"#EF553B\", \"#00cc96\", \"#ab63fa\", \"#FFA15A\", \"#19d3f3\", \"#FF6692\", \"#B6E880\", \"#FF97FF\", \"#FECB52\"], \"font\": {\"color\": \"#2a3f5f\"}, \"geo\": {\"bgcolor\": \"white\", \"lakecolor\": \"white\", \"landcolor\": \"#E5ECF6\", \"showlakes\": true, \"showland\": true, \"subunitcolor\": \"white\"}, \"hoverlabel\": {\"align\": \"left\"}, \"hovermode\": \"closest\", \"mapbox\": {\"style\": \"light\"}, \"paper_bgcolor\": \"white\", \"plot_bgcolor\": \"#E5ECF6\", \"polar\": {\"angularaxis\": {\"gridcolor\": \"white\", \"linecolor\": \"white\", \"ticks\": \"\"}, \"bgcolor\": \"#E5ECF6\", \"radialaxis\": {\"gridcolor\": \"white\", \"linecolor\": \"white\", \"ticks\": \"\"}}, \"scene\": {\"xaxis\": {\"backgroundcolor\": \"#E5ECF6\", \"gridcolor\": \"white\", \"gridwidth\": 2, \"linecolor\": \"white\", \"showbackground\": true, \"ticks\": \"\", \"zerolinecolor\": \"white\"}, \"yaxis\": {\"backgroundcolor\": \"#E5ECF6\", \"gridcolor\": \"white\", \"gridwidth\": 2, \"linecolor\": \"white\", \"showbackground\": true, \"ticks\": \"\", \"zerolinecolor\": \"white\"}, \"zaxis\": {\"backgroundcolor\": \"#E5ECF6\", \"gridcolor\": \"white\", \"gridwidth\": 2, \"linecolor\": \"white\", \"showbackground\": true, \"ticks\": \"\", \"zerolinecolor\": \"white\"}}, \"shapedefaults\": {\"line\": {\"color\": \"#2a3f5f\"}}, \"ternary\": {\"aaxis\": {\"gridcolor\": \"white\", \"linecolor\": \"white\", \"ticks\": \"\"}, \"baxis\": {\"gridcolor\": \"white\", \"linecolor\": \"white\", \"ticks\": \"\"}, \"bgcolor\": \"#E5ECF6\", \"caxis\": {\"gridcolor\": \"white\", \"linecolor\": \"white\", \"ticks\": \"\"}}, \"title\": {\"x\": 0.05}, \"xaxis\": {\"automargin\": true, \"gridcolor\": \"white\", \"linecolor\": \"white\", \"ticks\": \"\", \"title\": {\"standoff\": 15}, \"zerolinecolor\": \"white\", \"zerolinewidth\": 2}, \"yaxis\": {\"automargin\": true, \"gridcolor\": \"white\", \"linecolor\": \"white\", \"ticks\": \"\", \"title\": {\"standoff\": 15}, \"zerolinecolor\": \"white\", \"zerolinewidth\": 2}}}, \"title\": {\"font\": {\"size\": 16}}, \"width\": 500, \"xaxis\": {\"showgrid\": false, \"showticklabels\": false, \"zeroline\": false}, \"yaxis\": {\"showgrid\": false, \"showticklabels\": false, \"zeroline\": false}},                        {\"responsive\": true}                    ).then(function(){\n",
       "                            \n",
       "var gd = document.getElementById('551dc80e-bcee-4fd0-84ce-a5822193e397');\n",
       "var x = new MutationObserver(function (mutations, observer) {{\n",
       "        var display = window.getComputedStyle(gd).display;\n",
       "        if (!display || display === 'none') {{\n",
       "            console.log([gd, 'removed!']);\n",
       "            Plotly.purge(gd);\n",
       "            observer.disconnect();\n",
       "        }}\n",
       "}});\n",
       "\n",
       "// Listen for the removal of the full notebook cells\n",
       "var notebookContainer = gd.closest('#notebook-container');\n",
       "if (notebookContainer) {{\n",
       "    x.observe(notebookContainer, {childList: true});\n",
       "}}\n",
       "\n",
       "// Listen for the clearing of the current output cell\n",
       "var outputEl = gd.closest('.output');\n",
       "if (outputEl) {{\n",
       "    x.observe(outputEl, {childList: true});\n",
       "}}\n",
       "\n",
       "                        })                };                });            </script>        </div>"
      ]
     },
     "metadata": {},
     "output_type": "display_data"
    }
   ],
   "source": [
    "fig = textnet.draw_2d_network(G)\n",
    "fig.show()"
   ]
  },
  {
   "cell_type": "code",
   "execution_count": 746,
   "metadata": {},
   "outputs": [],
   "source": [
    "fig.write_image(\"../figures/authors_network_cos-sim-tfidf.png\")"
   ]
  },
  {
   "cell_type": "code",
   "execution_count": 747,
   "metadata": {},
   "outputs": [
    {
     "data": {
      "application/vnd.plotly.v1+json": {
       "config": {
        "plotlyServerURL": "https://plot.ly"
       },
       "data": [
        {
         "line": {
          "color": "#000000",
          "width": 1
         },
         "mode": "lines",
         "type": "scatter",
         "x": [
          0.22341908357787363,
          0.6815673247561156,
          null
         ],
         "y": [
          -0.2595917385047878,
          -0.7919212915257976,
          null
         ]
        },
        {
         "line": {
          "color": "#404040",
          "width": 0.7
         },
         "mode": "lines",
         "type": "scatter",
         "x": [
          -0.922965656398919,
          -0.2765623202771541,
          null,
          -0.2765623202771541,
          0.13712464012797018,
          null
         ],
         "y": [
          0.5863567086534901,
          0.3213314690067095,
          null,
          0.3213314690067095,
          0.9166669105459998,
          null
         ]
        },
        {
         "line": {
          "color": "#C0C0C0",
          "width": 0.5
         },
         "mode": "lines",
         "type": "scatter",
         "x": [
          0.22341908357787363,
          0.9414174566849803,
          null,
          0.22341908357787363,
          0.7562431044377836,
          null,
          0.22341908357787363,
          -0.3139042243547144,
          null,
          0.22341908357787363,
          -0.2765623202771541,
          null,
          0.22341908357787363,
          0.14285176200547306,
          null,
          -0.4423294902566046,
          -0.2765623202771541,
          null,
          -0.2765623202771541,
          -0.9268616803028041,
          null
         ],
         "y": [
          -0.2595917385047878,
          -0.28627299765238823,
          null,
          -0.2595917385047878,
          0.2035401976015305,
          null,
          -0.2595917385047878,
          -0.7174985641353907,
          null,
          -0.2595917385047878,
          0.3213314690067095,
          null,
          -0.2595917385047878,
          -0.9735486890689288,
          null,
          1,
          0.3213314690067095,
          null,
          0.3213314690067095,
          0.0009379950795633956,
          null
         ]
        },
        {
         "hoverinfo": "text",
         "hovertext": [
          "6",
          "1",
          "1",
          "1",
          "1",
          "1",
          "5",
          "1",
          "1",
          "1",
          "1"
         ],
         "marker": {
          "color": [
           90,
           15,
           15,
           8,
           24,
           21,
           26,
           11,
           8,
           10,
           5
          ],
          "colorbar": {
           "thickness": 15,
           "title": {
            "side": "right",
            "text": "degree"
           },
           "xanchor": "left"
          },
          "colorscale": [
           [
            0,
            "rgb(255,255,255)"
           ],
           [
            0.125,
            "rgb(240,240,240)"
           ],
           [
            0.25,
            "rgb(217,217,217)"
           ],
           [
            0.375,
            "rgb(189,189,189)"
           ],
           [
            0.5,
            "rgb(150,150,150)"
           ],
           [
            0.625,
            "rgb(115,115,115)"
           ],
           [
            0.75,
            "rgb(82,82,82)"
           ],
           [
            0.875,
            "rgb(37,37,37)"
           ],
           [
            1,
            "rgb(0,0,0)"
           ]
          ],
          "line": {
           "width": 1
          },
          "showscale": false,
          "size": 7
         },
         "mode": "markers+text",
         "text": [
          "Paul of Tarsus",
          "Clemens Romanus",
          "Hermas",
          "GNT rest",
          "Justinus Martyr",
          "Clement of Alexandria",
          "Origenes",
          "Athenagoras",
          "Eusebius",
          "Epiphanius",
          "Basil"
         ],
         "textposition": "bottom center",
         "type": "scatter",
         "x": [
          0.22341908357787363,
          0.9414174566849803,
          -0.4423294902566046,
          0.7562431044377836,
          -0.922965656398919,
          -0.3139042243547144,
          -0.2765623202771541,
          -0.9268616803028041,
          0.14285176200547306,
          0.6815673247561156,
          0.13712464012797018
         ],
         "y": [
          -0.2595917385047878,
          -0.28627299765238823,
          1,
          0.2035401976015305,
          0.5863567086534901,
          -0.7174985641353907,
          0.3213314690067095,
          0.0009379950795633956,
          -0.9735486890689288,
          -0.7919212915257976,
          0.9166669105459998
         ]
        },
        {
         "hoverinfo": "text",
         "marker": {
          "opacity": 0
         },
         "mode": "markers",
         "opacity": 0,
         "text": [
          "0",
          "0",
          "0",
          "0",
          "0",
          "0",
          "0",
          "0",
          "0",
          "0"
         ],
         "type": "scatter",
         "x": [
          0.582418270131427,
          0.48983109400782865,
          -0.045242570388420375,
          -0.02657161834964024,
          0.18313542279167333,
          0.4524932041669946,
          -0.35944590526687936,
          -0.5997639883380366,
          -0.6017120002899792,
          -0.06971884007459196
         ],
         "y": [
          -0.272932368078588,
          -0.028025770451628643,
          -0.48854515132008924,
          0.03086986525096086,
          -0.6165702137868583,
          -0.5257565150152927,
          0.6606657345033548,
          0.4538440888300998,
          0.16113473204313644,
          0.6189991897763547
         ]
        }
       ],
       "layout": {
        "autosize": false,
        "height": 500,
        "hovermode": "closest",
        "margin": {
         "b": 10,
         "l": 10,
         "r": 10,
         "t": 10
        },
        "plot_bgcolor": "rgba(0,0,0,0)",
        "showlegend": false,
        "template": {
         "data": {
          "bar": [
           {
            "error_x": {
             "color": "#2a3f5f"
            },
            "error_y": {
             "color": "#2a3f5f"
            },
            "marker": {
             "line": {
              "color": "#E5ECF6",
              "width": 0.5
             }
            },
            "type": "bar"
           }
          ],
          "barpolar": [
           {
            "marker": {
             "line": {
              "color": "#E5ECF6",
              "width": 0.5
             }
            },
            "type": "barpolar"
           }
          ],
          "carpet": [
           {
            "aaxis": {
             "endlinecolor": "#2a3f5f",
             "gridcolor": "white",
             "linecolor": "white",
             "minorgridcolor": "white",
             "startlinecolor": "#2a3f5f"
            },
            "baxis": {
             "endlinecolor": "#2a3f5f",
             "gridcolor": "white",
             "linecolor": "white",
             "minorgridcolor": "white",
             "startlinecolor": "#2a3f5f"
            },
            "type": "carpet"
           }
          ],
          "choropleth": [
           {
            "colorbar": {
             "outlinewidth": 0,
             "ticks": ""
            },
            "type": "choropleth"
           }
          ],
          "contour": [
           {
            "colorbar": {
             "outlinewidth": 0,
             "ticks": ""
            },
            "colorscale": [
             [
              0,
              "#0d0887"
             ],
             [
              0.1111111111111111,
              "#46039f"
             ],
             [
              0.2222222222222222,
              "#7201a8"
             ],
             [
              0.3333333333333333,
              "#9c179e"
             ],
             [
              0.4444444444444444,
              "#bd3786"
             ],
             [
              0.5555555555555556,
              "#d8576b"
             ],
             [
              0.6666666666666666,
              "#ed7953"
             ],
             [
              0.7777777777777778,
              "#fb9f3a"
             ],
             [
              0.8888888888888888,
              "#fdca26"
             ],
             [
              1,
              "#f0f921"
             ]
            ],
            "type": "contour"
           }
          ],
          "contourcarpet": [
           {
            "colorbar": {
             "outlinewidth": 0,
             "ticks": ""
            },
            "type": "contourcarpet"
           }
          ],
          "heatmap": [
           {
            "colorbar": {
             "outlinewidth": 0,
             "ticks": ""
            },
            "colorscale": [
             [
              0,
              "#0d0887"
             ],
             [
              0.1111111111111111,
              "#46039f"
             ],
             [
              0.2222222222222222,
              "#7201a8"
             ],
             [
              0.3333333333333333,
              "#9c179e"
             ],
             [
              0.4444444444444444,
              "#bd3786"
             ],
             [
              0.5555555555555556,
              "#d8576b"
             ],
             [
              0.6666666666666666,
              "#ed7953"
             ],
             [
              0.7777777777777778,
              "#fb9f3a"
             ],
             [
              0.8888888888888888,
              "#fdca26"
             ],
             [
              1,
              "#f0f921"
             ]
            ],
            "type": "heatmap"
           }
          ],
          "heatmapgl": [
           {
            "colorbar": {
             "outlinewidth": 0,
             "ticks": ""
            },
            "colorscale": [
             [
              0,
              "#0d0887"
             ],
             [
              0.1111111111111111,
              "#46039f"
             ],
             [
              0.2222222222222222,
              "#7201a8"
             ],
             [
              0.3333333333333333,
              "#9c179e"
             ],
             [
              0.4444444444444444,
              "#bd3786"
             ],
             [
              0.5555555555555556,
              "#d8576b"
             ],
             [
              0.6666666666666666,
              "#ed7953"
             ],
             [
              0.7777777777777778,
              "#fb9f3a"
             ],
             [
              0.8888888888888888,
              "#fdca26"
             ],
             [
              1,
              "#f0f921"
             ]
            ],
            "type": "heatmapgl"
           }
          ],
          "histogram": [
           {
            "marker": {
             "colorbar": {
              "outlinewidth": 0,
              "ticks": ""
             }
            },
            "type": "histogram"
           }
          ],
          "histogram2d": [
           {
            "colorbar": {
             "outlinewidth": 0,
             "ticks": ""
            },
            "colorscale": [
             [
              0,
              "#0d0887"
             ],
             [
              0.1111111111111111,
              "#46039f"
             ],
             [
              0.2222222222222222,
              "#7201a8"
             ],
             [
              0.3333333333333333,
              "#9c179e"
             ],
             [
              0.4444444444444444,
              "#bd3786"
             ],
             [
              0.5555555555555556,
              "#d8576b"
             ],
             [
              0.6666666666666666,
              "#ed7953"
             ],
             [
              0.7777777777777778,
              "#fb9f3a"
             ],
             [
              0.8888888888888888,
              "#fdca26"
             ],
             [
              1,
              "#f0f921"
             ]
            ],
            "type": "histogram2d"
           }
          ],
          "histogram2dcontour": [
           {
            "colorbar": {
             "outlinewidth": 0,
             "ticks": ""
            },
            "colorscale": [
             [
              0,
              "#0d0887"
             ],
             [
              0.1111111111111111,
              "#46039f"
             ],
             [
              0.2222222222222222,
              "#7201a8"
             ],
             [
              0.3333333333333333,
              "#9c179e"
             ],
             [
              0.4444444444444444,
              "#bd3786"
             ],
             [
              0.5555555555555556,
              "#d8576b"
             ],
             [
              0.6666666666666666,
              "#ed7953"
             ],
             [
              0.7777777777777778,
              "#fb9f3a"
             ],
             [
              0.8888888888888888,
              "#fdca26"
             ],
             [
              1,
              "#f0f921"
             ]
            ],
            "type": "histogram2dcontour"
           }
          ],
          "mesh3d": [
           {
            "colorbar": {
             "outlinewidth": 0,
             "ticks": ""
            },
            "type": "mesh3d"
           }
          ],
          "parcoords": [
           {
            "line": {
             "colorbar": {
              "outlinewidth": 0,
              "ticks": ""
             }
            },
            "type": "parcoords"
           }
          ],
          "pie": [
           {
            "automargin": true,
            "type": "pie"
           }
          ],
          "scatter": [
           {
            "marker": {
             "colorbar": {
              "outlinewidth": 0,
              "ticks": ""
             }
            },
            "type": "scatter"
           }
          ],
          "scatter3d": [
           {
            "line": {
             "colorbar": {
              "outlinewidth": 0,
              "ticks": ""
             }
            },
            "marker": {
             "colorbar": {
              "outlinewidth": 0,
              "ticks": ""
             }
            },
            "type": "scatter3d"
           }
          ],
          "scattercarpet": [
           {
            "marker": {
             "colorbar": {
              "outlinewidth": 0,
              "ticks": ""
             }
            },
            "type": "scattercarpet"
           }
          ],
          "scattergeo": [
           {
            "marker": {
             "colorbar": {
              "outlinewidth": 0,
              "ticks": ""
             }
            },
            "type": "scattergeo"
           }
          ],
          "scattergl": [
           {
            "marker": {
             "colorbar": {
              "outlinewidth": 0,
              "ticks": ""
             }
            },
            "type": "scattergl"
           }
          ],
          "scattermapbox": [
           {
            "marker": {
             "colorbar": {
              "outlinewidth": 0,
              "ticks": ""
             }
            },
            "type": "scattermapbox"
           }
          ],
          "scatterpolar": [
           {
            "marker": {
             "colorbar": {
              "outlinewidth": 0,
              "ticks": ""
             }
            },
            "type": "scatterpolar"
           }
          ],
          "scatterpolargl": [
           {
            "marker": {
             "colorbar": {
              "outlinewidth": 0,
              "ticks": ""
             }
            },
            "type": "scatterpolargl"
           }
          ],
          "scatterternary": [
           {
            "marker": {
             "colorbar": {
              "outlinewidth": 0,
              "ticks": ""
             }
            },
            "type": "scatterternary"
           }
          ],
          "surface": [
           {
            "colorbar": {
             "outlinewidth": 0,
             "ticks": ""
            },
            "colorscale": [
             [
              0,
              "#0d0887"
             ],
             [
              0.1111111111111111,
              "#46039f"
             ],
             [
              0.2222222222222222,
              "#7201a8"
             ],
             [
              0.3333333333333333,
              "#9c179e"
             ],
             [
              0.4444444444444444,
              "#bd3786"
             ],
             [
              0.5555555555555556,
              "#d8576b"
             ],
             [
              0.6666666666666666,
              "#ed7953"
             ],
             [
              0.7777777777777778,
              "#fb9f3a"
             ],
             [
              0.8888888888888888,
              "#fdca26"
             ],
             [
              1,
              "#f0f921"
             ]
            ],
            "type": "surface"
           }
          ],
          "table": [
           {
            "cells": {
             "fill": {
              "color": "#EBF0F8"
             },
             "line": {
              "color": "white"
             }
            },
            "header": {
             "fill": {
              "color": "#C8D4E3"
             },
             "line": {
              "color": "white"
             }
            },
            "type": "table"
           }
          ]
         },
         "layout": {
          "annotationdefaults": {
           "arrowcolor": "#2a3f5f",
           "arrowhead": 0,
           "arrowwidth": 1
          },
          "coloraxis": {
           "colorbar": {
            "outlinewidth": 0,
            "ticks": ""
           }
          },
          "colorscale": {
           "diverging": [
            [
             0,
             "#8e0152"
            ],
            [
             0.1,
             "#c51b7d"
            ],
            [
             0.2,
             "#de77ae"
            ],
            [
             0.3,
             "#f1b6da"
            ],
            [
             0.4,
             "#fde0ef"
            ],
            [
             0.5,
             "#f7f7f7"
            ],
            [
             0.6,
             "#e6f5d0"
            ],
            [
             0.7,
             "#b8e186"
            ],
            [
             0.8,
             "#7fbc41"
            ],
            [
             0.9,
             "#4d9221"
            ],
            [
             1,
             "#276419"
            ]
           ],
           "sequential": [
            [
             0,
             "#0d0887"
            ],
            [
             0.1111111111111111,
             "#46039f"
            ],
            [
             0.2222222222222222,
             "#7201a8"
            ],
            [
             0.3333333333333333,
             "#9c179e"
            ],
            [
             0.4444444444444444,
             "#bd3786"
            ],
            [
             0.5555555555555556,
             "#d8576b"
            ],
            [
             0.6666666666666666,
             "#ed7953"
            ],
            [
             0.7777777777777778,
             "#fb9f3a"
            ],
            [
             0.8888888888888888,
             "#fdca26"
            ],
            [
             1,
             "#f0f921"
            ]
           ],
           "sequentialminus": [
            [
             0,
             "#0d0887"
            ],
            [
             0.1111111111111111,
             "#46039f"
            ],
            [
             0.2222222222222222,
             "#7201a8"
            ],
            [
             0.3333333333333333,
             "#9c179e"
            ],
            [
             0.4444444444444444,
             "#bd3786"
            ],
            [
             0.5555555555555556,
             "#d8576b"
            ],
            [
             0.6666666666666666,
             "#ed7953"
            ],
            [
             0.7777777777777778,
             "#fb9f3a"
            ],
            [
             0.8888888888888888,
             "#fdca26"
            ],
            [
             1,
             "#f0f921"
            ]
           ]
          },
          "colorway": [
           "#636efa",
           "#EF553B",
           "#00cc96",
           "#ab63fa",
           "#FFA15A",
           "#19d3f3",
           "#FF6692",
           "#B6E880",
           "#FF97FF",
           "#FECB52"
          ],
          "font": {
           "color": "#2a3f5f"
          },
          "geo": {
           "bgcolor": "white",
           "lakecolor": "white",
           "landcolor": "#E5ECF6",
           "showlakes": true,
           "showland": true,
           "subunitcolor": "white"
          },
          "hoverlabel": {
           "align": "left"
          },
          "hovermode": "closest",
          "mapbox": {
           "style": "light"
          },
          "paper_bgcolor": "white",
          "plot_bgcolor": "#E5ECF6",
          "polar": {
           "angularaxis": {
            "gridcolor": "white",
            "linecolor": "white",
            "ticks": ""
           },
           "bgcolor": "#E5ECF6",
           "radialaxis": {
            "gridcolor": "white",
            "linecolor": "white",
            "ticks": ""
           }
          },
          "scene": {
           "xaxis": {
            "backgroundcolor": "#E5ECF6",
            "gridcolor": "white",
            "gridwidth": 2,
            "linecolor": "white",
            "showbackground": true,
            "ticks": "",
            "zerolinecolor": "white"
           },
           "yaxis": {
            "backgroundcolor": "#E5ECF6",
            "gridcolor": "white",
            "gridwidth": 2,
            "linecolor": "white",
            "showbackground": true,
            "ticks": "",
            "zerolinecolor": "white"
           },
           "zaxis": {
            "backgroundcolor": "#E5ECF6",
            "gridcolor": "white",
            "gridwidth": 2,
            "linecolor": "white",
            "showbackground": true,
            "ticks": "",
            "zerolinecolor": "white"
           }
          },
          "shapedefaults": {
           "line": {
            "color": "#2a3f5f"
           }
          },
          "ternary": {
           "aaxis": {
            "gridcolor": "white",
            "linecolor": "white",
            "ticks": ""
           },
           "baxis": {
            "gridcolor": "white",
            "linecolor": "white",
            "ticks": ""
           },
           "bgcolor": "#E5ECF6",
           "caxis": {
            "gridcolor": "white",
            "linecolor": "white",
            "ticks": ""
           }
          },
          "title": {
           "x": 0.05
          },
          "xaxis": {
           "automargin": true,
           "gridcolor": "white",
           "linecolor": "white",
           "ticks": "",
           "title": {
            "standoff": 15
           },
           "zerolinecolor": "white",
           "zerolinewidth": 2
          },
          "yaxis": {
           "automargin": true,
           "gridcolor": "white",
           "linecolor": "white",
           "ticks": "",
           "title": {
            "standoff": 15
           },
           "zerolinecolor": "white",
           "zerolinewidth": 2
          }
         }
        },
        "title": {
         "font": {
          "size": 16
         }
        },
        "width": 500,
        "xaxis": {
         "showgrid": false,
         "showticklabels": false,
         "zeroline": false
        },
        "yaxis": {
         "showgrid": false,
         "showticklabels": false,
         "zeroline": false
        }
       }
      },
      "text/html": [
       "<div>                            <div id=\"65007a52-e974-4518-8e1b-6881d2f55e35\" class=\"plotly-graph-div\" style=\"height:500px; width:500px;\"></div>            <script type=\"text/javascript\">                require([\"plotly\"], function(Plotly) {                    window.PLOTLYENV=window.PLOTLYENV || {};                                    if (document.getElementById(\"65007a52-e974-4518-8e1b-6881d2f55e35\")) {                    Plotly.newPlot(                        \"65007a52-e974-4518-8e1b-6881d2f55e35\",                        [{\"line\": {\"color\": \"#000000\", \"width\": 1}, \"mode\": \"lines\", \"type\": \"scatter\", \"x\": [0.22341908357787363, 0.6815673247561156, null], \"y\": [-0.2595917385047878, -0.7919212915257976, null]}, {\"line\": {\"color\": \"#404040\", \"width\": 0.7}, \"mode\": \"lines\", \"type\": \"scatter\", \"x\": [-0.922965656398919, -0.2765623202771541, null, -0.2765623202771541, 0.13712464012797018, null], \"y\": [0.5863567086534901, 0.3213314690067095, null, 0.3213314690067095, 0.9166669105459998, null]}, {\"line\": {\"color\": \"#C0C0C0\", \"width\": 0.5}, \"mode\": \"lines\", \"type\": \"scatter\", \"x\": [0.22341908357787363, 0.9414174566849803, null, 0.22341908357787363, 0.7562431044377836, null, 0.22341908357787363, -0.3139042243547144, null, 0.22341908357787363, -0.2765623202771541, null, 0.22341908357787363, 0.14285176200547306, null, -0.4423294902566046, -0.2765623202771541, null, -0.2765623202771541, -0.9268616803028041, null], \"y\": [-0.2595917385047878, -0.28627299765238823, null, -0.2595917385047878, 0.2035401976015305, null, -0.2595917385047878, -0.7174985641353907, null, -0.2595917385047878, 0.3213314690067095, null, -0.2595917385047878, -0.9735486890689288, null, 1.0, 0.3213314690067095, null, 0.3213314690067095, 0.0009379950795633956, null]}, {\"hoverinfo\": \"text\", \"hovertext\": [\"6\", \"1\", \"1\", \"1\", \"1\", \"1\", \"5\", \"1\", \"1\", \"1\", \"1\"], \"marker\": {\"color\": [90, 15, 15, 8, 24, 21, 26, 11, 8, 10, 5], \"colorbar\": {\"thickness\": 15, \"title\": {\"side\": \"right\", \"text\": \"degree\"}, \"xanchor\": \"left\"}, \"colorscale\": [[0.0, \"rgb(255,255,255)\"], [0.125, \"rgb(240,240,240)\"], [0.25, \"rgb(217,217,217)\"], [0.375, \"rgb(189,189,189)\"], [0.5, \"rgb(150,150,150)\"], [0.625, \"rgb(115,115,115)\"], [0.75, \"rgb(82,82,82)\"], [0.875, \"rgb(37,37,37)\"], [1.0, \"rgb(0,0,0)\"]], \"line\": {\"width\": 1}, \"showscale\": false, \"size\": 7}, \"mode\": \"markers+text\", \"text\": [\"Paul of Tarsus\", \"Clemens Romanus\", \"Hermas\", \"GNT rest\", \"Justinus Martyr\", \"Clement of Alexandria\", \"Origenes\", \"Athenagoras\", \"Eusebius\", \"Epiphanius\", \"Basil\"], \"textposition\": \"bottom center\", \"type\": \"scatter\", \"x\": [0.22341908357787363, 0.9414174566849803, -0.4423294902566046, 0.7562431044377836, -0.922965656398919, -0.3139042243547144, -0.2765623202771541, -0.9268616803028041, 0.14285176200547306, 0.6815673247561156, 0.13712464012797018], \"y\": [-0.2595917385047878, -0.28627299765238823, 1.0, 0.2035401976015305, 0.5863567086534901, -0.7174985641353907, 0.3213314690067095, 0.0009379950795633956, -0.9735486890689288, -0.7919212915257976, 0.9166669105459998]}, {\"hoverinfo\": \"text\", \"marker\": {\"opacity\": 0}, \"mode\": \"markers\", \"opacity\": 0, \"text\": [\"0\", \"0\", \"0\", \"0\", \"0\", \"0\", \"0\", \"0\", \"0\", \"0\"], \"type\": \"scatter\", \"x\": [0.582418270131427, 0.48983109400782865, -0.045242570388420375, -0.02657161834964024, 0.18313542279167333, 0.4524932041669946, -0.35944590526687936, -0.5997639883380366, -0.6017120002899792, -0.06971884007459196], \"y\": [-0.272932368078588, -0.028025770451628643, -0.48854515132008924, 0.03086986525096086, -0.6165702137868583, -0.5257565150152927, 0.6606657345033548, 0.4538440888300998, 0.16113473204313644, 0.6189991897763547]}],                        {\"autosize\": false, \"height\": 500, \"hovermode\": \"closest\", \"margin\": {\"b\": 10, \"l\": 10, \"r\": 10, \"t\": 10}, \"plot_bgcolor\": \"rgba(0,0,0,0)\", \"showlegend\": false, \"template\": {\"data\": {\"bar\": [{\"error_x\": {\"color\": \"#2a3f5f\"}, \"error_y\": {\"color\": \"#2a3f5f\"}, \"marker\": {\"line\": {\"color\": \"#E5ECF6\", \"width\": 0.5}}, \"type\": \"bar\"}], \"barpolar\": [{\"marker\": {\"line\": {\"color\": \"#E5ECF6\", \"width\": 0.5}}, \"type\": \"barpolar\"}], \"carpet\": [{\"aaxis\": {\"endlinecolor\": \"#2a3f5f\", \"gridcolor\": \"white\", \"linecolor\": \"white\", \"minorgridcolor\": \"white\", \"startlinecolor\": \"#2a3f5f\"}, \"baxis\": {\"endlinecolor\": \"#2a3f5f\", \"gridcolor\": \"white\", \"linecolor\": \"white\", \"minorgridcolor\": \"white\", \"startlinecolor\": \"#2a3f5f\"}, \"type\": \"carpet\"}], \"choropleth\": [{\"colorbar\": {\"outlinewidth\": 0, \"ticks\": \"\"}, \"type\": \"choropleth\"}], \"contour\": [{\"colorbar\": {\"outlinewidth\": 0, \"ticks\": \"\"}, \"colorscale\": [[0.0, \"#0d0887\"], [0.1111111111111111, \"#46039f\"], [0.2222222222222222, \"#7201a8\"], [0.3333333333333333, \"#9c179e\"], [0.4444444444444444, \"#bd3786\"], [0.5555555555555556, \"#d8576b\"], [0.6666666666666666, \"#ed7953\"], [0.7777777777777778, \"#fb9f3a\"], [0.8888888888888888, \"#fdca26\"], [1.0, \"#f0f921\"]], \"type\": \"contour\"}], \"contourcarpet\": [{\"colorbar\": {\"outlinewidth\": 0, \"ticks\": \"\"}, \"type\": \"contourcarpet\"}], \"heatmap\": [{\"colorbar\": {\"outlinewidth\": 0, \"ticks\": \"\"}, \"colorscale\": [[0.0, \"#0d0887\"], [0.1111111111111111, \"#46039f\"], [0.2222222222222222, \"#7201a8\"], [0.3333333333333333, \"#9c179e\"], [0.4444444444444444, \"#bd3786\"], [0.5555555555555556, \"#d8576b\"], [0.6666666666666666, \"#ed7953\"], [0.7777777777777778, \"#fb9f3a\"], [0.8888888888888888, \"#fdca26\"], [1.0, \"#f0f921\"]], \"type\": \"heatmap\"}], \"heatmapgl\": [{\"colorbar\": {\"outlinewidth\": 0, \"ticks\": \"\"}, \"colorscale\": [[0.0, \"#0d0887\"], [0.1111111111111111, \"#46039f\"], [0.2222222222222222, \"#7201a8\"], [0.3333333333333333, \"#9c179e\"], [0.4444444444444444, \"#bd3786\"], [0.5555555555555556, \"#d8576b\"], [0.6666666666666666, \"#ed7953\"], [0.7777777777777778, \"#fb9f3a\"], [0.8888888888888888, \"#fdca26\"], [1.0, \"#f0f921\"]], \"type\": \"heatmapgl\"}], \"histogram\": [{\"marker\": {\"colorbar\": {\"outlinewidth\": 0, \"ticks\": \"\"}}, \"type\": \"histogram\"}], \"histogram2d\": [{\"colorbar\": {\"outlinewidth\": 0, \"ticks\": \"\"}, \"colorscale\": [[0.0, \"#0d0887\"], [0.1111111111111111, \"#46039f\"], [0.2222222222222222, \"#7201a8\"], [0.3333333333333333, \"#9c179e\"], [0.4444444444444444, \"#bd3786\"], [0.5555555555555556, \"#d8576b\"], [0.6666666666666666, \"#ed7953\"], [0.7777777777777778, \"#fb9f3a\"], [0.8888888888888888, \"#fdca26\"], [1.0, \"#f0f921\"]], \"type\": \"histogram2d\"}], \"histogram2dcontour\": [{\"colorbar\": {\"outlinewidth\": 0, \"ticks\": \"\"}, \"colorscale\": [[0.0, \"#0d0887\"], [0.1111111111111111, \"#46039f\"], [0.2222222222222222, \"#7201a8\"], [0.3333333333333333, \"#9c179e\"], [0.4444444444444444, \"#bd3786\"], [0.5555555555555556, \"#d8576b\"], [0.6666666666666666, \"#ed7953\"], [0.7777777777777778, \"#fb9f3a\"], [0.8888888888888888, \"#fdca26\"], [1.0, \"#f0f921\"]], \"type\": \"histogram2dcontour\"}], \"mesh3d\": [{\"colorbar\": {\"outlinewidth\": 0, \"ticks\": \"\"}, \"type\": \"mesh3d\"}], \"parcoords\": [{\"line\": {\"colorbar\": {\"outlinewidth\": 0, \"ticks\": \"\"}}, \"type\": \"parcoords\"}], \"pie\": [{\"automargin\": true, \"type\": \"pie\"}], \"scatter\": [{\"marker\": {\"colorbar\": {\"outlinewidth\": 0, \"ticks\": \"\"}}, \"type\": \"scatter\"}], \"scatter3d\": [{\"line\": {\"colorbar\": {\"outlinewidth\": 0, \"ticks\": \"\"}}, \"marker\": {\"colorbar\": {\"outlinewidth\": 0, \"ticks\": \"\"}}, \"type\": \"scatter3d\"}], \"scattercarpet\": [{\"marker\": {\"colorbar\": {\"outlinewidth\": 0, \"ticks\": \"\"}}, \"type\": \"scattercarpet\"}], \"scattergeo\": [{\"marker\": {\"colorbar\": {\"outlinewidth\": 0, \"ticks\": \"\"}}, \"type\": \"scattergeo\"}], \"scattergl\": [{\"marker\": {\"colorbar\": {\"outlinewidth\": 0, \"ticks\": \"\"}}, \"type\": \"scattergl\"}], \"scattermapbox\": [{\"marker\": {\"colorbar\": {\"outlinewidth\": 0, \"ticks\": \"\"}}, \"type\": \"scattermapbox\"}], \"scatterpolar\": [{\"marker\": {\"colorbar\": {\"outlinewidth\": 0, \"ticks\": \"\"}}, \"type\": \"scatterpolar\"}], \"scatterpolargl\": [{\"marker\": {\"colorbar\": {\"outlinewidth\": 0, \"ticks\": \"\"}}, \"type\": \"scatterpolargl\"}], \"scatterternary\": [{\"marker\": {\"colorbar\": {\"outlinewidth\": 0, \"ticks\": \"\"}}, \"type\": \"scatterternary\"}], \"surface\": [{\"colorbar\": {\"outlinewidth\": 0, \"ticks\": \"\"}, \"colorscale\": [[0.0, \"#0d0887\"], [0.1111111111111111, \"#46039f\"], [0.2222222222222222, \"#7201a8\"], [0.3333333333333333, \"#9c179e\"], [0.4444444444444444, \"#bd3786\"], [0.5555555555555556, \"#d8576b\"], [0.6666666666666666, \"#ed7953\"], [0.7777777777777778, \"#fb9f3a\"], [0.8888888888888888, \"#fdca26\"], [1.0, \"#f0f921\"]], \"type\": \"surface\"}], \"table\": [{\"cells\": {\"fill\": {\"color\": \"#EBF0F8\"}, \"line\": {\"color\": \"white\"}}, \"header\": {\"fill\": {\"color\": \"#C8D4E3\"}, \"line\": {\"color\": \"white\"}}, \"type\": \"table\"}]}, \"layout\": {\"annotationdefaults\": {\"arrowcolor\": \"#2a3f5f\", \"arrowhead\": 0, \"arrowwidth\": 1}, \"coloraxis\": {\"colorbar\": {\"outlinewidth\": 0, \"ticks\": \"\"}}, \"colorscale\": {\"diverging\": [[0, \"#8e0152\"], [0.1, \"#c51b7d\"], [0.2, \"#de77ae\"], [0.3, \"#f1b6da\"], [0.4, \"#fde0ef\"], [0.5, \"#f7f7f7\"], [0.6, \"#e6f5d0\"], [0.7, \"#b8e186\"], [0.8, \"#7fbc41\"], [0.9, \"#4d9221\"], [1, \"#276419\"]], \"sequential\": [[0.0, \"#0d0887\"], [0.1111111111111111, \"#46039f\"], [0.2222222222222222, \"#7201a8\"], [0.3333333333333333, \"#9c179e\"], [0.4444444444444444, \"#bd3786\"], [0.5555555555555556, \"#d8576b\"], [0.6666666666666666, \"#ed7953\"], [0.7777777777777778, \"#fb9f3a\"], [0.8888888888888888, \"#fdca26\"], [1.0, \"#f0f921\"]], \"sequentialminus\": [[0.0, \"#0d0887\"], [0.1111111111111111, \"#46039f\"], [0.2222222222222222, \"#7201a8\"], [0.3333333333333333, \"#9c179e\"], [0.4444444444444444, \"#bd3786\"], [0.5555555555555556, \"#d8576b\"], [0.6666666666666666, \"#ed7953\"], [0.7777777777777778, \"#fb9f3a\"], [0.8888888888888888, \"#fdca26\"], [1.0, \"#f0f921\"]]}, \"colorway\": [\"#636efa\", \"#EF553B\", \"#00cc96\", \"#ab63fa\", \"#FFA15A\", \"#19d3f3\", \"#FF6692\", \"#B6E880\", \"#FF97FF\", \"#FECB52\"], \"font\": {\"color\": \"#2a3f5f\"}, \"geo\": {\"bgcolor\": \"white\", \"lakecolor\": \"white\", \"landcolor\": \"#E5ECF6\", \"showlakes\": true, \"showland\": true, \"subunitcolor\": \"white\"}, \"hoverlabel\": {\"align\": \"left\"}, \"hovermode\": \"closest\", \"mapbox\": {\"style\": \"light\"}, \"paper_bgcolor\": \"white\", \"plot_bgcolor\": \"#E5ECF6\", \"polar\": {\"angularaxis\": {\"gridcolor\": \"white\", \"linecolor\": \"white\", \"ticks\": \"\"}, \"bgcolor\": \"#E5ECF6\", \"radialaxis\": {\"gridcolor\": \"white\", \"linecolor\": \"white\", \"ticks\": \"\"}}, \"scene\": {\"xaxis\": {\"backgroundcolor\": \"#E5ECF6\", \"gridcolor\": \"white\", \"gridwidth\": 2, \"linecolor\": \"white\", \"showbackground\": true, \"ticks\": \"\", \"zerolinecolor\": \"white\"}, \"yaxis\": {\"backgroundcolor\": \"#E5ECF6\", \"gridcolor\": \"white\", \"gridwidth\": 2, \"linecolor\": \"white\", \"showbackground\": true, \"ticks\": \"\", \"zerolinecolor\": \"white\"}, \"zaxis\": {\"backgroundcolor\": \"#E5ECF6\", \"gridcolor\": \"white\", \"gridwidth\": 2, \"linecolor\": \"white\", \"showbackground\": true, \"ticks\": \"\", \"zerolinecolor\": \"white\"}}, \"shapedefaults\": {\"line\": {\"color\": \"#2a3f5f\"}}, \"ternary\": {\"aaxis\": {\"gridcolor\": \"white\", \"linecolor\": \"white\", \"ticks\": \"\"}, \"baxis\": {\"gridcolor\": \"white\", \"linecolor\": \"white\", \"ticks\": \"\"}, \"bgcolor\": \"#E5ECF6\", \"caxis\": {\"gridcolor\": \"white\", \"linecolor\": \"white\", \"ticks\": \"\"}}, \"title\": {\"x\": 0.05}, \"xaxis\": {\"automargin\": true, \"gridcolor\": \"white\", \"linecolor\": \"white\", \"ticks\": \"\", \"title\": {\"standoff\": 15}, \"zerolinecolor\": \"white\", \"zerolinewidth\": 2}, \"yaxis\": {\"automargin\": true, \"gridcolor\": \"white\", \"linecolor\": \"white\", \"ticks\": \"\", \"title\": {\"standoff\": 15}, \"zerolinecolor\": \"white\", \"zerolinewidth\": 2}}}, \"title\": {\"font\": {\"size\": 16}}, \"width\": 500, \"xaxis\": {\"showgrid\": false, \"showticklabels\": false, \"zeroline\": false}, \"yaxis\": {\"showgrid\": false, \"showticklabels\": false, \"zeroline\": false}},                        {\"responsive\": true}                    ).then(function(){\n",
       "                            \n",
       "var gd = document.getElementById('65007a52-e974-4518-8e1b-6881d2f55e35');\n",
       "var x = new MutationObserver(function (mutations, observer) {{\n",
       "        var display = window.getComputedStyle(gd).display;\n",
       "        if (!display || display === 'none') {{\n",
       "            console.log([gd, 'removed!']);\n",
       "            Plotly.purge(gd);\n",
       "            observer.disconnect();\n",
       "        }}\n",
       "}});\n",
       "\n",
       "// Listen for the removal of the full notebook cells\n",
       "var notebookContainer = gd.closest('#notebook-container');\n",
       "if (notebookContainer) {{\n",
       "    x.observe(notebookContainer, {childList: true});\n",
       "}}\n",
       "\n",
       "// Listen for the clearing of the current output cell\n",
       "var outputEl = gd.closest('.output');\n",
       "if (outputEl) {{\n",
       "    x.observe(outputEl, {childList: true});\n",
       "}}\n",
       "\n",
       "                        })                };                });            </script>        </div>"
      ]
     },
     "metadata": {},
     "output_type": "display_data"
    }
   ],
   "source": [
    "G_paul = textnet.construct_ego_network(G, \"Paul of Tarsus\", 10, reduced=True)\n",
    "fig = textnet.draw_2d_network(G_paul)\n",
    "fig.show()"
   ]
  },
  {
   "cell_type": "code",
   "execution_count": 749,
   "metadata": {},
   "outputs": [],
   "source": [
    "fig.write_image(\"../figures/paul_egonet_cos-sim-tfidf.png\")"
   ]
  },
  {
   "cell_type": "code",
   "execution_count": null,
   "metadata": {},
   "outputs": [],
   "source": []
  }
 ],
 "metadata": {
  "colab": {
   "name": "OVERVIEW.ipynb",
   "provenance": []
  },
  "kernelspec": {
   "display_name": "Python 3",
   "language": "python",
   "name": "python3"
  },
  "language_info": {
   "codemirror_mode": {
    "name": "ipython",
    "version": 3
   },
   "file_extension": ".py",
   "mimetype": "text/x-python",
   "name": "python",
   "nbconvert_exporter": "python",
   "pygments_lexer": "ipython3",
   "version": "3.6.9"
  }
 },
 "nbformat": 4,
 "nbformat_minor": 4
}
