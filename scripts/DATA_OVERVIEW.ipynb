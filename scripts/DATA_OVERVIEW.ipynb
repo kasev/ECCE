{
 "cells": [
  {
   "cell_type": "code",
   "execution_count": 1,
   "metadata": {},
   "outputs": [],
   "source": [
    "import os\n",
    "import json\n",
    "import pandas as pd\n",
    "import numpy as np\n",
    "import json\n",
    "import logging ### to monitor the code\n",
    "from bs4 import BeautifulSoup\n",
    "import xml.etree.cElementTree as ET\n",
    "import pickle\n",
    "import math\n",
    "import random\n",
    "import sys\n",
    "import csv\n",
    "import unicodedata\n",
    "import requests\n",
    "from urllib.request import urlopen \n",
    "import io\n",
    "import getpass\n",
    "import re\n",
    "from collections import defaultdict\n",
    "from itertools import islice # to iterate through dicts\n",
    "\n",
    "import nltk\n",
    "from nltk.collocations import *\n",
    "\n",
    "import matplotlib as mpl\n",
    "import matplotlib.pyplot as plt\n",
    "import seaborn as sns\n",
    "\n",
    "from scipy import stats\n",
    "\n",
    "import gspread\n",
    "from gspread_dataframe import get_as_dataframe, set_with_dataframe\n",
    "from google.oauth2 import service_account # based on google-auth library\n",
    "\n",
    "import sddk"
   ]
  },
  {
   "cell_type": "code",
   "execution_count": 2,
   "metadata": {},
   "outputs": [],
   "source": [
    "#from anda import gr\n",
    "# OR uncomment the following:\n",
    "script_url = \"https://raw.githubusercontent.com/sdam-au/anda_py/master/anda/gr.py\"\n",
    "exec(requests.get(script_url).content)"
   ]
  },
  {
   "cell_type": "code",
   "execution_count": 152,
   "metadata": {},
   "outputs": [],
   "source": [
    "command = \"n = (1 + 2)* 5\"\n",
    "exec(command)"
   ]
  },
  {
   "cell_type": "code",
   "execution_count": 153,
   "metadata": {},
   "outputs": [
    {
     "data": {
      "text/plain": [
       "15"
      ]
     },
     "execution_count": 153,
     "metadata": {},
     "output_type": "execute_result"
    }
   ],
   "source": [
    "n"
   ]
  },
  {
   "cell_type": "code",
   "execution_count": 3,
   "metadata": {},
   "outputs": [
    {
     "name": "stdout",
     "output_type": "stream",
     "text": [
      "sciencedata.dk username (format '123456@au.dk'): 648597@au.dk\n",
      "sciencedata.dk password: ········\n",
      "connection with shared folder established with you as its owner\n",
      "endpoint variable has been configured to: https://sciencedata.dk/files/SDAM_root/\n"
     ]
    }
   ],
   "source": [
    "conf = sddk.configure(\"SDAM_root\", \"648597@au.dk\")"
   ]
  },
  {
   "cell_type": "code",
   "execution_count": 4,
   "metadata": {},
   "outputs": [],
   "source": [
    "# to access gsheet, you need Google Service Account key json file\n",
    "# I have mine located in my personal space on sciencedata.dk, so I read it from there:\n",
    "\n",
    "# (1) read the file and parse its content\n",
    "file_data = conf[0].get(\"https://sciencedata.dk/files/ServiceAccountsKey.json\").json()\n",
    "# (2) transform the content into crendentials object\n",
    "credentials = service_account.Credentials.from_service_account_info(file_data)\n",
    "# (3) specify your usage of the credentials\n",
    "scoped_credentials = credentials.with_scopes(['https://spreadsheets.google.com/feeds', 'https://www.googleapis.com/auth/drive'])\n",
    "# (4) use the constrained credentials for authentication of gspread package\n",
    "gc = gspread.Client(auth=scoped_credentials)\n",
    "\n",
    "ECCE_AGT_overview = gc.open_by_url(\"https://docs.google.com/spreadsheets/d/1KPpPaeX215HR_fVrakvJp8aB6oZDhHFTcBw0MKLw6as/edit?usp=sharing\")"
   ]
  },
  {
   "cell_type": "markdown",
   "metadata": {},
   "source": [
    "# Import the data"
   ]
  },
  {
   "cell_type": "code",
   "execution_count": 5,
   "metadata": {},
   "outputs": [
    {
     "data": {
      "text/html": [
       "<div>\n",
       "<style scoped>\n",
       "    .dataframe tbody tr th:only-of-type {\n",
       "        vertical-align: middle;\n",
       "    }\n",
       "\n",
       "    .dataframe tbody tr th {\n",
       "        vertical-align: top;\n",
       "    }\n",
       "\n",
       "    .dataframe thead th {\n",
       "        text-align: right;\n",
       "    }\n",
       "</style>\n",
       "<table border=\"1\" class=\"dataframe\">\n",
       "  <thead>\n",
       "    <tr style=\"text-align: right;\">\n",
       "      <th></th>\n",
       "      <th>filename</th>\n",
       "      <th>author</th>\n",
       "      <th>title</th>\n",
       "      <th>string</th>\n",
       "      <th>author_id</th>\n",
       "      <th>doc_id</th>\n",
       "      <th>raw_date</th>\n",
       "      <th>date_avr</th>\n",
       "      <th>date_probs</th>\n",
       "      <th>date_manual</th>\n",
       "      <th>provenience</th>\n",
       "      <th>wordcount</th>\n",
       "      <th>lemmata</th>\n",
       "      <th>lemmata_wordcount</th>\n",
       "      <th>lemmatized_sentences</th>\n",
       "    </tr>\n",
       "  </thead>\n",
       "  <tbody>\n",
       "    <tr>\n",
       "      <th>0</th>\n",
       "      <td>tlg0001.tlg001.perseus-grc2.xml</td>\n",
       "      <td>Apollonius Rhodius</td>\n",
       "      <td>Argonautica; Argonautica</td>\n",
       "      <td>ἀρχόμενος σέο, Φοῖβε, παλαιγενέων κλέα φωτῶν μ...</td>\n",
       "      <td>tlg0001</td>\n",
       "      <td>tlg0001.tlg001</td>\n",
       "      <td>3 B.C.</td>\n",
       "      <td>-2.5</td>\n",
       "      <td>{'-2.5': 1}</td>\n",
       "      <td>-2.5</td>\n",
       "      <td>pagan</td>\n",
       "      <td>38822</td>\n",
       "      <td>[σέο, φοῖβος, παλαιγενής, κλέος, φάος, μιμνήσκ...</td>\n",
       "      <td>24237</td>\n",
       "      <td>[[σέο, φοῖβος, παλαιγενής, κλέος, φάος, μιμνήσ...</td>\n",
       "    </tr>\n",
       "    <tr>\n",
       "      <th>1</th>\n",
       "      <td>tlg0003.tlg001.perseus-grc2.xml</td>\n",
       "      <td>Thucydides</td>\n",
       "      <td>The Peloponnesian War; Historiae in two volumes</td>\n",
       "      <td>Θουκυδίδης Ἀθηναῖος ξυνέγραψε τὸν πόλεμον τῶν ...</td>\n",
       "      <td>tlg0003</td>\n",
       "      <td>tlg0003.tlg001</td>\n",
       "      <td>5 B.C.</td>\n",
       "      <td>-4.5</td>\n",
       "      <td>{'-4.5': 1}</td>\n",
       "      <td>-4.5</td>\n",
       "      <td>pagan</td>\n",
       "      <td>150160</td>\n",
       "      <td>[θουκυδίδης, Ἀθηναῖος, συγγράφω, πόλεμος, Πελο...</td>\n",
       "      <td>68166</td>\n",
       "      <td>[[θουκυδίδης, Ἀθηναῖος, συγγράφω, πόλεμος, Πελ...</td>\n",
       "    </tr>\n",
       "    <tr>\n",
       "      <th>2</th>\n",
       "      <td>tlg0004.tlg001.perseus-grc1.xml</td>\n",
       "      <td>Diogenes Laertius</td>\n",
       "      <td>Lives of Eminent Philosophers; Lives of Eminen...</td>\n",
       "      <td>ΒΙΩΝ ΚΑΙ ΓΝΩΜΩΝ ΤΩΝ ΕΝ ΦΙΛΟΣΟΦΙΑΙ ΕΥΔΟΚΙΜΗΣΑΝΤ...</td>\n",
       "      <td>tlg0004</td>\n",
       "      <td>tlg0004.tlg001</td>\n",
       "      <td>A.D. 3</td>\n",
       "      <td>2.5</td>\n",
       "      <td>{'2.5': 1}</td>\n",
       "      <td>NaN</td>\n",
       "      <td></td>\n",
       "      <td>111053</td>\n",
       "      <td>[βία, ἀκή, γνώμη, ἕνος, φιλοσοφία, εὐδοκιμέω, ...</td>\n",
       "      <td>55580</td>\n",
       "      <td>[[βία, ἀκή, γνώμη, ἕνος, φιλοσοφία, εὐδοκιμέω,...</td>\n",
       "    </tr>\n",
       "    <tr>\n",
       "      <th>3</th>\n",
       "      <td>tlg0005.tlg001.perseus-grc1.xml</td>\n",
       "      <td>Theocritus</td>\n",
       "      <td>Idylls ; Idylls</td>\n",
       "      <td>Θύρσις ἢ ᾠδή Θύρσις ̔Αδύ τι τὸ ψιθύρισμα καὶ ἁ...</td>\n",
       "      <td>tlg0005</td>\n",
       "      <td>tlg0005.tlg001</td>\n",
       "      <td>4-3 B.C.</td>\n",
       "      <td>-3.0</td>\n",
       "      <td>{'-3.5': 0.5, '-2.5': 0.5}</td>\n",
       "      <td>NaN</td>\n",
       "      <td></td>\n",
       "      <td>19514</td>\n",
       "      <td>[θύρσις, ἀοιδή, θύρσις, αδύ, ψιθύρισμα, πίτυς,...</td>\n",
       "      <td>12478</td>\n",
       "      <td>[[θύρσις, ἀοιδή, θύρσις, αδύ, ψιθύρισμα, πίτυς...</td>\n",
       "    </tr>\n",
       "    <tr>\n",
       "      <th>4</th>\n",
       "      <td>tlg0005.tlg002.perseus-grc1.xml</td>\n",
       "      <td>Theocritus</td>\n",
       "      <td>Epigrams ; Idylls</td>\n",
       "      <td>α παλ ϝι.336 τὰ ῥόδα τὰ δροσόεντα καὶ ἁ κατάπυ...</td>\n",
       "      <td>tlg0005</td>\n",
       "      <td>tlg0005.tlg002</td>\n",
       "      <td>4-3 B.C.</td>\n",
       "      <td>-3.0</td>\n",
       "      <td>{'-3.5': 0.5, '-2.5': 0.5}</td>\n",
       "      <td>NaN</td>\n",
       "      <td></td>\n",
       "      <td>1807</td>\n",
       "      <td>[παλ, ϝι, ῥοδῆ, δροσόεντα, κατάπυκνος, ἐκεῖνος...</td>\n",
       "      <td>1137</td>\n",
       "      <td>[[παλ, ϝι], [ῥοδῆ, δροσόεντα, κατάπυκνος, ἐκεῖ...</td>\n",
       "    </tr>\n",
       "  </tbody>\n",
       "</table>\n",
       "</div>"
      ],
      "text/plain": [
       "                          filename              author  \\\n",
       "0  tlg0001.tlg001.perseus-grc2.xml  Apollonius Rhodius   \n",
       "1  tlg0003.tlg001.perseus-grc2.xml          Thucydides   \n",
       "2  tlg0004.tlg001.perseus-grc1.xml   Diogenes Laertius   \n",
       "3  tlg0005.tlg001.perseus-grc1.xml          Theocritus   \n",
       "4  tlg0005.tlg002.perseus-grc1.xml          Theocritus   \n",
       "\n",
       "                                               title  \\\n",
       "0                           Argonautica; Argonautica   \n",
       "1    The Peloponnesian War; Historiae in two volumes   \n",
       "2  Lives of Eminent Philosophers; Lives of Eminen...   \n",
       "3                                    Idylls ; Idylls   \n",
       "4                                  Epigrams ; Idylls   \n",
       "\n",
       "                                              string author_id  \\\n",
       "0  ἀρχόμενος σέο, Φοῖβε, παλαιγενέων κλέα φωτῶν μ...   tlg0001   \n",
       "1  Θουκυδίδης Ἀθηναῖος ξυνέγραψε τὸν πόλεμον τῶν ...   tlg0003   \n",
       "2  ΒΙΩΝ ΚΑΙ ΓΝΩΜΩΝ ΤΩΝ ΕΝ ΦΙΛΟΣΟΦΙΑΙ ΕΥΔΟΚΙΜΗΣΑΝΤ...   tlg0004   \n",
       "3  Θύρσις ἢ ᾠδή Θύρσις ̔Αδύ τι τὸ ψιθύρισμα καὶ ἁ...   tlg0005   \n",
       "4  α παλ ϝι.336 τὰ ῥόδα τὰ δροσόεντα καὶ ἁ κατάπυ...   tlg0005   \n",
       "\n",
       "           doc_id  raw_date  date_avr                  date_probs  \\\n",
       "0  tlg0001.tlg001    3 B.C.      -2.5                 {'-2.5': 1}   \n",
       "1  tlg0003.tlg001    5 B.C.      -4.5                 {'-4.5': 1}   \n",
       "2  tlg0004.tlg001    A.D. 3       2.5                  {'2.5': 1}   \n",
       "3  tlg0005.tlg001  4-3 B.C.      -3.0  {'-3.5': 0.5, '-2.5': 0.5}   \n",
       "4  tlg0005.tlg002  4-3 B.C.      -3.0  {'-3.5': 0.5, '-2.5': 0.5}   \n",
       "\n",
       "   date_manual provenience  wordcount  \\\n",
       "0         -2.5       pagan      38822   \n",
       "1         -4.5       pagan     150160   \n",
       "2          NaN                 111053   \n",
       "3          NaN                  19514   \n",
       "4          NaN                   1807   \n",
       "\n",
       "                                             lemmata  lemmata_wordcount  \\\n",
       "0  [σέο, φοῖβος, παλαιγενής, κλέος, φάος, μιμνήσκ...              24237   \n",
       "1  [θουκυδίδης, Ἀθηναῖος, συγγράφω, πόλεμος, Πελο...              68166   \n",
       "2  [βία, ἀκή, γνώμη, ἕνος, φιλοσοφία, εὐδοκιμέω, ...              55580   \n",
       "3  [θύρσις, ἀοιδή, θύρσις, αδύ, ψιθύρισμα, πίτυς,...              12478   \n",
       "4  [παλ, ϝι, ῥοδῆ, δροσόεντα, κατάπυκνος, ἐκεῖνος...               1137   \n",
       "\n",
       "                                lemmatized_sentences  \n",
       "0  [[σέο, φοῖβος, παλαιγενής, κλέος, φάος, μιμνήσ...  \n",
       "1  [[θουκυδίδης, Ἀθηναῖος, συγγράφω, πόλεμος, Πελ...  \n",
       "2  [[βία, ἀκή, γνώμη, ἕνος, φιλοσοφία, εὐδοκιμέω,...  \n",
       "3  [[θύρσις, ἀοιδή, θύρσις, αδύ, ψιθύρισμα, πίτυς...  \n",
       "4  [[παλ, ϝι], [ῥοδῆ, δροσόεντα, κατάπυκνος, ἐκεῖ...  "
      ]
     },
     "execution_count": 5,
     "metadata": {},
     "output_type": "execute_result"
    }
   ],
   "source": [
    "AGT = sddk.read_file(\"SDAM_data/AGT/AGT_20201020.json\", \"df\", conf)\n",
    "AGT.head(5)"
   ]
  },
  {
   "cell_type": "code",
   "execution_count": 22,
   "metadata": {},
   "outputs": [
    {
     "data": {
      "text/plain": [
       "1403"
      ]
     },
     "execution_count": 22,
     "metadata": {},
     "output_type": "execute_result"
    }
   ],
   "source": [
    "len(AGT)"
   ]
  },
  {
   "cell_type": "code",
   "execution_count": 23,
   "metadata": {},
   "outputs": [
    {
     "data": {
      "text/plain": [
       "34587206"
      ]
     },
     "execution_count": 23,
     "metadata": {},
     "output_type": "execute_result"
    }
   ],
   "source": [
    "AGT[\"wordcount\"].sum()"
   ]
  },
  {
   "cell_type": "code",
   "execution_count": 25,
   "metadata": {},
   "outputs": [
    {
     "data": {
      "text/plain": [
       "1219"
      ]
     },
     "execution_count": 25,
     "metadata": {},
     "output_type": "execute_result"
    }
   ],
   "source": [
    "len(AGT[AGT[\"date_avr\"]< 4])"
   ]
  },
  {
   "cell_type": "code",
   "execution_count": 27,
   "metadata": {},
   "outputs": [
    {
     "data": {
      "text/plain": [
       "22719774"
      ]
     },
     "execution_count": 27,
     "metadata": {},
     "output_type": "execute_result"
    }
   ],
   "source": [
    "AGT[AGT[\"date_avr\"]< 4][\"wordcount\"].sum()"
   ]
  },
  {
   "cell_type": "markdown",
   "metadata": {},
   "source": [
    "# δικ* over the whole corpus"
   ]
  },
  {
   "cell_type": "code",
   "execution_count": 6,
   "metadata": {},
   "outputs": [
    {
     "data": {
      "text/plain": [
       "14114036"
      ]
     },
     "execution_count": 6,
     "metadata": {},
     "output_type": "execute_result"
    }
   ],
   "source": [
    "# whole corpus as a list of lemmata\n",
    "AGT_lemmata_list = np.concatenate(AGT[\"lemmata\"].tolist())\n",
    "len(AGT_lemmata_list)"
   ]
  },
  {
   "cell_type": "code",
   "execution_count": 7,
   "metadata": {},
   "outputs": [
    {
     "data": {
      "text/html": [
       "<div>\n",
       "<style scoped>\n",
       "    .dataframe tbody tr th:only-of-type {\n",
       "        vertical-align: middle;\n",
       "    }\n",
       "\n",
       "    .dataframe tbody tr th {\n",
       "        vertical-align: top;\n",
       "    }\n",
       "\n",
       "    .dataframe thead th {\n",
       "        text-align: right;\n",
       "    }\n",
       "</style>\n",
       "<table border=\"1\" class=\"dataframe\">\n",
       "  <thead>\n",
       "    <tr style=\"text-align: right;\">\n",
       "      <th></th>\n",
       "      <th>lemma</th>\n",
       "      <th>count</th>\n",
       "    </tr>\n",
       "  </thead>\n",
       "  <tbody>\n",
       "    <tr>\n",
       "      <th>0</th>\n",
       "      <td>δίκαιος</td>\n",
       "      <td>14828</td>\n",
       "    </tr>\n",
       "    <tr>\n",
       "      <th>1</th>\n",
       "      <td>δίκη</td>\n",
       "      <td>6621</td>\n",
       "    </tr>\n",
       "    <tr>\n",
       "      <th>2</th>\n",
       "      <td>δικαιοσύνη</td>\n",
       "      <td>4434</td>\n",
       "    </tr>\n",
       "    <tr>\n",
       "      <th>3</th>\n",
       "      <td>ἀδικέω</td>\n",
       "      <td>4127</td>\n",
       "    </tr>\n",
       "    <tr>\n",
       "      <th>4</th>\n",
       "      <td>ἄδικος</td>\n",
       "      <td>4000</td>\n",
       "    </tr>\n",
       "  </tbody>\n",
       "</table>\n",
       "</div>"
      ],
      "text/plain": [
       "        lemma  count\n",
       "0     δίκαιος  14828\n",
       "1        δίκη   6621\n",
       "2  δικαιοσύνη   4434\n",
       "3      ἀδικέω   4127\n",
       "4      ἄδικος   4000"
      ]
     },
     "execution_count": 7,
     "metadata": {},
     "output_type": "execute_result"
    }
   ],
   "source": [
    "match_pattern = \"(κατα|ὑπό|ἐκ|ἀ|ἄ|ἀντί|^)δ[ι|ί]κ(α|ά|ο|ό|ί|έ|η)(.+)?\"\n",
    "\n",
    "dik_words = [word for word in AGT_lemmata_list if re.search(match_pattern, word)]\n",
    "dik_words_df = pd.DataFrame(nltk.FreqDist(dik_words).most_common(), columns=[\"lemma\", \"count\"])\n",
    "dik_words_df.head(5)"
   ]
  },
  {
   "cell_type": "code",
   "execution_count": 8,
   "metadata": {},
   "outputs": [
    {
     "data": {
      "text/html": [
       "<div>\n",
       "<style scoped>\n",
       "    .dataframe tbody tr th:only-of-type {\n",
       "        vertical-align: middle;\n",
       "    }\n",
       "\n",
       "    .dataframe tbody tr th {\n",
       "        vertical-align: top;\n",
       "    }\n",
       "\n",
       "    .dataframe thead th {\n",
       "        text-align: right;\n",
       "    }\n",
       "</style>\n",
       "<table border=\"1\" class=\"dataframe\">\n",
       "  <thead>\n",
       "    <tr style=\"text-align: right;\">\n",
       "      <th></th>\n",
       "      <th>lemma</th>\n",
       "      <th>count</th>\n",
       "      <th>translation</th>\n",
       "    </tr>\n",
       "  </thead>\n",
       "  <tbody>\n",
       "    <tr>\n",
       "      <th>0</th>\n",
       "      <td>δίκαιος</td>\n",
       "      <td>14828</td>\n",
       "      <td>observant of custom and social rule, well-orde...</td>\n",
       "    </tr>\n",
       "    <tr>\n",
       "      <th>1</th>\n",
       "      <td>δίκη</td>\n",
       "      <td>6621</td>\n",
       "      <td>custom, usage</td>\n",
       "    </tr>\n",
       "    <tr>\n",
       "      <th>2</th>\n",
       "      <td>δικαιοσύνη</td>\n",
       "      <td>4434</td>\n",
       "      <td>righteousness, justice</td>\n",
       "    </tr>\n",
       "    <tr>\n",
       "      <th>3</th>\n",
       "      <td>ἀδικέω</td>\n",
       "      <td>4127</td>\n",
       "      <td>to do wrong</td>\n",
       "    </tr>\n",
       "    <tr>\n",
       "      <th>4</th>\n",
       "      <td>ἄδικος</td>\n",
       "      <td>4000</td>\n",
       "      <td>wrong-doing, unrighteous, unjust</td>\n",
       "    </tr>\n",
       "    <tr>\n",
       "      <th>5</th>\n",
       "      <td>δικαστής</td>\n",
       "      <td>2450</td>\n",
       "      <td>a judge</td>\n",
       "    </tr>\n",
       "    <tr>\n",
       "      <th>6</th>\n",
       "      <td>ἀδικία</td>\n",
       "      <td>2105</td>\n",
       "      <td>wrong-doing, injustice</td>\n",
       "    </tr>\n",
       "    <tr>\n",
       "      <th>7</th>\n",
       "      <td>δικαστήριον</td>\n",
       "      <td>1339</td>\n",
       "      <td>a court of justice</td>\n",
       "    </tr>\n",
       "    <tr>\n",
       "      <th>8</th>\n",
       "      <td>ἀδίκημα</td>\n",
       "      <td>994</td>\n",
       "      <td>a wrong done, a wrong</td>\n",
       "    </tr>\n",
       "    <tr>\n",
       "      <th>9</th>\n",
       "      <td>δικάζω</td>\n",
       "      <td>932</td>\n",
       "      <td>to judge, to give judgment on</td>\n",
       "    </tr>\n",
       "    <tr>\n",
       "      <th>10</th>\n",
       "      <td>δικαιόω</td>\n",
       "      <td>544</td>\n",
       "      <td>to set right</td>\n",
       "    </tr>\n",
       "    <tr>\n",
       "      <th>11</th>\n",
       "      <td>δικαίωμα</td>\n",
       "      <td>330</td>\n",
       "      <td>an act by which wrong is set right</td>\n",
       "    </tr>\n",
       "  </tbody>\n",
       "</table>\n",
       "</div>"
      ],
      "text/plain": [
       "          lemma  count                                        translation\n",
       "0       δίκαιος  14828  observant of custom and social rule, well-orde...\n",
       "1          δίκη   6621                                      custom, usage\n",
       "2    δικαιοσύνη   4434                             righteousness, justice\n",
       "3        ἀδικέω   4127                                        to do wrong\n",
       "4        ἄδικος   4000                   wrong-doing, unrighteous, unjust\n",
       "5      δικαστής   2450                                            a judge\n",
       "6        ἀδικία   2105                             wrong-doing, injustice\n",
       "7   δικαστήριον   1339                                 a court of justice\n",
       "8       ἀδίκημα    994                              a wrong done, a wrong\n",
       "9        δικάζω    932                      to judge, to give judgment on\n",
       "10      δικαιόω    544                                       to set right\n",
       "11     δικαίωμα    330                 an act by which wrong is set right"
      ]
     },
     "execution_count": 8,
     "metadata": {},
     "output_type": "execute_result"
    }
   ],
   "source": [
    "dik_words_df[\"translation\"] = dik_words_df[\"lemma\"].apply(lemma_translator)\n",
    "dik_words_df.head(12)"
   ]
  },
  {
   "cell_type": "code",
   "execution_count": 9,
   "metadata": {},
   "outputs": [],
   "source": [
    "# set_with_dataframe(ECCE_AGT_overview.add_worksheet(\"dik_words\", 1,1), dik_words_df)"
   ]
  },
  {
   "cell_type": "markdown",
   "metadata": {},
   "source": [
    "# Chronological overview"
   ]
  },
  {
   "cell_type": "code",
   "execution_count": 10,
   "metadata": {},
   "outputs": [],
   "source": [
    "words = [\"δίκαιος\", \"δίκη\", \"δικαιοσύνη\"]"
   ]
  },
  {
   "cell_type": "code",
   "execution_count": 11,
   "metadata": {},
   "outputs": [],
   "source": [
    "def count_words_in_df_column(docs, words, wordcount=None):\n",
    "    '''\n",
    "    Parameters\n",
    "    ----------\n",
    "    docs : `pandas.Series` consisting of lists\n",
    "        List or series of lists, each list representing a tokenized (and lemmatized) version of a document\n",
    "    words : `list`\n",
    "        List of words to be counted\n",
    "    \n",
    "    Returns\n",
    "    -------\n",
    "    `dict`\n",
    "        Dictionary of word : count pairs\n",
    "    '''\n",
    "    counts_dict = {}\n",
    "    weighted_sum = 0\n",
    "    for word in words:\n",
    "        count = docs.apply(lambda doc_list: doc_list.count(word)).sum()\n",
    "        counts_dict[word] = count\n",
    "        if wordcount != None:\n",
    "            if wordcount > 0:\n",
    "                weighted = np.round(count / wordcount, 5)\n",
    "                counts_dict[word + \"_weighted\"] = weighted\n",
    "                weighted_sum += weighted\n",
    "    counts_dict[\"weighted_sum\"] = weighted_sum\n",
    "    return counts_dict"
   ]
  },
  {
   "cell_type": "code",
   "execution_count": 12,
   "metadata": {},
   "outputs": [
    {
     "name": "stdout",
     "output_type": "stream",
     "text": [
      "[-7.5, -7.0, -6.5, -6.0, -5.5, -5.0, -4.5, -4.0, -3.5, -3.0, -2.5, -2.0, -1.5, -1.0, -0.5, 0.0, 0.5, 1.0, 1.5, 2.0, 2.5, 3.0, 3.5]\n"
     ]
    }
   ],
   "source": [
    "dates_list = [date / 100 for date in range(-750, 400, 50)]\n",
    "print(dates_list)"
   ]
  },
  {
   "cell_type": "code",
   "execution_count": 13,
   "metadata": {},
   "outputs": [],
   "source": [
    "def date_avr_to_string(date):\n",
    "    if str(date)[-1]==\"5\":\n",
    "        date_number = str(int(abs(date) + 0.5))\n",
    "       \n",
    "    else: \n",
    "        if date < 0:\n",
    "            date_number = str(int(abs(date) + 1))  + \"/\" + str(int(abs(date)))\n",
    "        else: \n",
    "            date_number = str(int(abs(date)))  + \"/\" + str(int(abs(date) + 1))\n",
    "    if date < 0: date_string = date_number + \" BCE\"\n",
    "    else: date_string = date_number + \" CE\"\n",
    "    if date == 0.0:\n",
    "        date_string = \"1 BCE/1 CE\"\n",
    "    return date_string"
   ]
  },
  {
   "cell_type": "code",
   "execution_count": 14,
   "metadata": {},
   "outputs": [
    {
     "data": {
      "text/plain": [
       "'1 BCE/1 CE'"
      ]
     },
     "execution_count": 14,
     "metadata": {},
     "output_type": "execute_result"
    }
   ],
   "source": [
    "date_avr_to_string(0.0)"
   ]
  },
  {
   "cell_type": "code",
   "execution_count": 15,
   "metadata": {},
   "outputs": [
    {
     "data": {
      "text/plain": [
       "'1 CE'"
      ]
     },
     "execution_count": 15,
     "metadata": {},
     "output_type": "execute_result"
    }
   ],
   "source": [
    "date_avr_to_string(0.5)"
   ]
  },
  {
   "cell_type": "code",
   "execution_count": 87,
   "metadata": {},
   "outputs": [],
   "source": [
    "subselections = []\n",
    "for date in dates_list:\n",
    "    subselection = AGT[AGT[\"date_avr\"]== date]\n",
    "    wordcount_christian = AGT[(AGT[\"date_avr\"]== date) & (AGT[\"provenience\"]==\"christian\")][\"wordcount\"].sum()\n",
    "    wordcount_pagan = AGT[(AGT[\"date_avr\"]== date) & (AGT[\"provenience\"]!=\"christian\")][\"wordcount\"].sum()\n",
    "    wordcount = subselection[\"wordcount\"].sum()\n",
    "    doccount = len(subselection)\n",
    "    date_string = date_avr_to_string(date)\n",
    "    subselection_dict = {\"date_string\" : date_string, \"column\" : \"date_avr\", \"value\" : date, \"wordcount\" : wordcount, \"wordcount_christian\" : wordcount_christian, \"wordcount_pagan\" : wordcount_pagan, \"doccount\": doccount}\n",
    "    subselection_dict.update(count_words_in_df_column(subselection[\"lemmata\"], words, wordcount))\n",
    "    subselections.append(subselection_dict)"
   ]
  },
  {
   "cell_type": "code",
   "execution_count": 88,
   "metadata": {},
   "outputs": [
    {
     "data": {
      "text/html": [
       "<div>\n",
       "<style scoped>\n",
       "    .dataframe tbody tr th:only-of-type {\n",
       "        vertical-align: middle;\n",
       "    }\n",
       "\n",
       "    .dataframe tbody tr th {\n",
       "        vertical-align: top;\n",
       "    }\n",
       "\n",
       "    .dataframe thead th {\n",
       "        text-align: right;\n",
       "    }\n",
       "</style>\n",
       "<table border=\"1\" class=\"dataframe\">\n",
       "  <thead>\n",
       "    <tr style=\"text-align: right;\">\n",
       "      <th></th>\n",
       "      <th>date_string</th>\n",
       "      <th>column</th>\n",
       "      <th>value</th>\n",
       "      <th>wordcount</th>\n",
       "      <th>wordcount_christian</th>\n",
       "      <th>wordcount_pagan</th>\n",
       "      <th>doccount</th>\n",
       "      <th>δίκαιος</th>\n",
       "      <th>δίκαιος_weighted</th>\n",
       "      <th>δίκη</th>\n",
       "      <th>δίκη_weighted</th>\n",
       "      <th>δικαιοσύνη</th>\n",
       "      <th>δικαιοσύνη_weighted</th>\n",
       "      <th>weighted_sum</th>\n",
       "    </tr>\n",
       "  </thead>\n",
       "  <tbody>\n",
       "    <tr>\n",
       "      <th>0</th>\n",
       "      <td>8 BCE</td>\n",
       "      <td>date_avr</td>\n",
       "      <td>-7.5</td>\n",
       "      <td>199840</td>\n",
       "      <td>0</td>\n",
       "      <td>199840</td>\n",
       "      <td>3</td>\n",
       "      <td>16</td>\n",
       "      <td>0.00008</td>\n",
       "      <td>15</td>\n",
       "      <td>0.00008</td>\n",
       "      <td>0</td>\n",
       "      <td>0.00000</td>\n",
       "      <td>0.00016</td>\n",
       "    </tr>\n",
       "    <tr>\n",
       "      <th>1</th>\n",
       "      <td>8/7 BCE</td>\n",
       "      <td>date_avr</td>\n",
       "      <td>-7.0</td>\n",
       "      <td>16193</td>\n",
       "      <td>0</td>\n",
       "      <td>16193</td>\n",
       "      <td>3</td>\n",
       "      <td>8</td>\n",
       "      <td>0.00049</td>\n",
       "      <td>30</td>\n",
       "      <td>0.00185</td>\n",
       "      <td>0</td>\n",
       "      <td>0.00000</td>\n",
       "      <td>0.00234</td>\n",
       "    </tr>\n",
       "    <tr>\n",
       "      <th>2</th>\n",
       "      <td>7 BCE</td>\n",
       "      <td>date_avr</td>\n",
       "      <td>-6.5</td>\n",
       "      <td>146</td>\n",
       "      <td>0</td>\n",
       "      <td>146</td>\n",
       "      <td>1</td>\n",
       "      <td>0</td>\n",
       "      <td>0.00000</td>\n",
       "      <td>0</td>\n",
       "      <td>0.00000</td>\n",
       "      <td>0</td>\n",
       "      <td>0.00000</td>\n",
       "      <td>0.00000</td>\n",
       "    </tr>\n",
       "    <tr>\n",
       "      <th>3</th>\n",
       "      <td>7/6 BCE</td>\n",
       "      <td>date_avr</td>\n",
       "      <td>-6.0</td>\n",
       "      <td>9326</td>\n",
       "      <td>0</td>\n",
       "      <td>9326</td>\n",
       "      <td>3</td>\n",
       "      <td>1</td>\n",
       "      <td>0.00011</td>\n",
       "      <td>2</td>\n",
       "      <td>0.00021</td>\n",
       "      <td>0</td>\n",
       "      <td>0.00000</td>\n",
       "      <td>0.00032</td>\n",
       "    </tr>\n",
       "    <tr>\n",
       "      <th>4</th>\n",
       "      <td>6 BCE</td>\n",
       "      <td>date_avr</td>\n",
       "      <td>-5.5</td>\n",
       "      <td>44243</td>\n",
       "      <td>0</td>\n",
       "      <td>44243</td>\n",
       "      <td>1</td>\n",
       "      <td>23</td>\n",
       "      <td>0.00052</td>\n",
       "      <td>11</td>\n",
       "      <td>0.00025</td>\n",
       "      <td>2</td>\n",
       "      <td>0.00005</td>\n",
       "      <td>0.00082</td>\n",
       "    </tr>\n",
       "    <tr>\n",
       "      <th>5</th>\n",
       "      <td>6/5 BCE</td>\n",
       "      <td>date_avr</td>\n",
       "      <td>-5.0</td>\n",
       "      <td>68050</td>\n",
       "      <td>0</td>\n",
       "      <td>68050</td>\n",
       "      <td>14</td>\n",
       "      <td>46</td>\n",
       "      <td>0.00068</td>\n",
       "      <td>144</td>\n",
       "      <td>0.00212</td>\n",
       "      <td>0</td>\n",
       "      <td>0.00000</td>\n",
       "      <td>0.00280</td>\n",
       "    </tr>\n",
       "    <tr>\n",
       "      <th>6</th>\n",
       "      <td>5 BCE</td>\n",
       "      <td>date_avr</td>\n",
       "      <td>-4.5</td>\n",
       "      <td>538722</td>\n",
       "      <td>0</td>\n",
       "      <td>538722</td>\n",
       "      <td>31</td>\n",
       "      <td>389</td>\n",
       "      <td>0.00072</td>\n",
       "      <td>318</td>\n",
       "      <td>0.00059</td>\n",
       "      <td>9</td>\n",
       "      <td>0.00002</td>\n",
       "      <td>0.00133</td>\n",
       "    </tr>\n",
       "    <tr>\n",
       "      <th>7</th>\n",
       "      <td>5/4 BCE</td>\n",
       "      <td>date_avr</td>\n",
       "      <td>-4.0</td>\n",
       "      <td>1563911</td>\n",
       "      <td>0</td>\n",
       "      <td>1563911</td>\n",
       "      <td>197</td>\n",
       "      <td>1729</td>\n",
       "      <td>0.00111</td>\n",
       "      <td>789</td>\n",
       "      <td>0.00050</td>\n",
       "      <td>349</td>\n",
       "      <td>0.00022</td>\n",
       "      <td>0.00183</td>\n",
       "    </tr>\n",
       "    <tr>\n",
       "      <th>8</th>\n",
       "      <td>4 BCE</td>\n",
       "      <td>date_avr</td>\n",
       "      <td>-3.5</td>\n",
       "      <td>1298791</td>\n",
       "      <td>0</td>\n",
       "      <td>1298791</td>\n",
       "      <td>118</td>\n",
       "      <td>1751</td>\n",
       "      <td>0.00135</td>\n",
       "      <td>690</td>\n",
       "      <td>0.00053</td>\n",
       "      <td>178</td>\n",
       "      <td>0.00014</td>\n",
       "      <td>0.00202</td>\n",
       "    </tr>\n",
       "    <tr>\n",
       "      <th>9</th>\n",
       "      <td>4/3 BCE</td>\n",
       "      <td>date_avr</td>\n",
       "      <td>-3.0</td>\n",
       "      <td>190927</td>\n",
       "      <td>0</td>\n",
       "      <td>190927</td>\n",
       "      <td>24</td>\n",
       "      <td>66</td>\n",
       "      <td>0.00035</td>\n",
       "      <td>28</td>\n",
       "      <td>0.00015</td>\n",
       "      <td>3</td>\n",
       "      <td>0.00002</td>\n",
       "      <td>0.00052</td>\n",
       "    </tr>\n",
       "    <tr>\n",
       "      <th>10</th>\n",
       "      <td>3 BCE</td>\n",
       "      <td>date_avr</td>\n",
       "      <td>-2.5</td>\n",
       "      <td>407625</td>\n",
       "      <td>0</td>\n",
       "      <td>407625</td>\n",
       "      <td>26</td>\n",
       "      <td>1</td>\n",
       "      <td>0.00000</td>\n",
       "      <td>12</td>\n",
       "      <td>0.00003</td>\n",
       "      <td>0</td>\n",
       "      <td>0.00000</td>\n",
       "      <td>0.00003</td>\n",
       "    </tr>\n",
       "    <tr>\n",
       "      <th>11</th>\n",
       "      <td>3/2 BCE</td>\n",
       "      <td>date_avr</td>\n",
       "      <td>-2.0</td>\n",
       "      <td>397247</td>\n",
       "      <td>0</td>\n",
       "      <td>397247</td>\n",
       "      <td>2</td>\n",
       "      <td>141</td>\n",
       "      <td>0.00035</td>\n",
       "      <td>37</td>\n",
       "      <td>0.00009</td>\n",
       "      <td>2</td>\n",
       "      <td>0.00001</td>\n",
       "      <td>0.00045</td>\n",
       "    </tr>\n",
       "    <tr>\n",
       "      <th>12</th>\n",
       "      <td>2 BCE</td>\n",
       "      <td>date_avr</td>\n",
       "      <td>-1.5</td>\n",
       "      <td>64895</td>\n",
       "      <td>0</td>\n",
       "      <td>64895</td>\n",
       "      <td>10</td>\n",
       "      <td>3</td>\n",
       "      <td>0.00005</td>\n",
       "      <td>1</td>\n",
       "      <td>0.00002</td>\n",
       "      <td>1</td>\n",
       "      <td>0.00002</td>\n",
       "      <td>0.00009</td>\n",
       "    </tr>\n",
       "    <tr>\n",
       "      <th>13</th>\n",
       "      <td>2/1 BCE</td>\n",
       "      <td>date_avr</td>\n",
       "      <td>-1.0</td>\n",
       "      <td>132091</td>\n",
       "      <td>0</td>\n",
       "      <td>132091</td>\n",
       "      <td>5</td>\n",
       "      <td>71</td>\n",
       "      <td>0.00054</td>\n",
       "      <td>19</td>\n",
       "      <td>0.00014</td>\n",
       "      <td>9</td>\n",
       "      <td>0.00007</td>\n",
       "      <td>0.00075</td>\n",
       "    </tr>\n",
       "    <tr>\n",
       "      <th>14</th>\n",
       "      <td>1 BCE</td>\n",
       "      <td>date_avr</td>\n",
       "      <td>-0.5</td>\n",
       "      <td>616554</td>\n",
       "      <td>0</td>\n",
       "      <td>616554</td>\n",
       "      <td>21</td>\n",
       "      <td>487</td>\n",
       "      <td>0.00079</td>\n",
       "      <td>347</td>\n",
       "      <td>0.00056</td>\n",
       "      <td>27</td>\n",
       "      <td>0.00004</td>\n",
       "      <td>0.00139</td>\n",
       "    </tr>\n",
       "    <tr>\n",
       "      <th>15</th>\n",
       "      <td>1 BCE/1 CE</td>\n",
       "      <td>date_avr</td>\n",
       "      <td>0.0</td>\n",
       "      <td>1060319</td>\n",
       "      <td>0</td>\n",
       "      <td>1060319</td>\n",
       "      <td>34</td>\n",
       "      <td>417</td>\n",
       "      <td>0.00039</td>\n",
       "      <td>210</td>\n",
       "      <td>0.00020</td>\n",
       "      <td>164</td>\n",
       "      <td>0.00015</td>\n",
       "      <td>0.00074</td>\n",
       "    </tr>\n",
       "    <tr>\n",
       "      <th>16</th>\n",
       "      <td>1 CE</td>\n",
       "      <td>date_avr</td>\n",
       "      <td>0.5</td>\n",
       "      <td>1147115</td>\n",
       "      <td>152623</td>\n",
       "      <td>994492</td>\n",
       "      <td>55</td>\n",
       "      <td>523</td>\n",
       "      <td>0.00046</td>\n",
       "      <td>170</td>\n",
       "      <td>0.00015</td>\n",
       "      <td>166</td>\n",
       "      <td>0.00014</td>\n",
       "      <td>0.00075</td>\n",
       "    </tr>\n",
       "    <tr>\n",
       "      <th>17</th>\n",
       "      <td>1/2 CE</td>\n",
       "      <td>date_avr</td>\n",
       "      <td>1.0</td>\n",
       "      <td>1828554</td>\n",
       "      <td>18835</td>\n",
       "      <td>1809719</td>\n",
       "      <td>183</td>\n",
       "      <td>788</td>\n",
       "      <td>0.00043</td>\n",
       "      <td>743</td>\n",
       "      <td>0.00041</td>\n",
       "      <td>220</td>\n",
       "      <td>0.00012</td>\n",
       "      <td>0.00096</td>\n",
       "    </tr>\n",
       "    <tr>\n",
       "      <th>18</th>\n",
       "      <td>2 CE</td>\n",
       "      <td>date_avr</td>\n",
       "      <td>1.5</td>\n",
       "      <td>5444792</td>\n",
       "      <td>340038</td>\n",
       "      <td>5104754</td>\n",
       "      <td>301</td>\n",
       "      <td>1474</td>\n",
       "      <td>0.00027</td>\n",
       "      <td>765</td>\n",
       "      <td>0.00014</td>\n",
       "      <td>286</td>\n",
       "      <td>0.00005</td>\n",
       "      <td>0.00046</td>\n",
       "    </tr>\n",
       "    <tr>\n",
       "      <th>19</th>\n",
       "      <td>2/3 CE</td>\n",
       "      <td>date_avr</td>\n",
       "      <td>2.0</td>\n",
       "      <td>4148368</td>\n",
       "      <td>1488901</td>\n",
       "      <td>2659467</td>\n",
       "      <td>87</td>\n",
       "      <td>1685</td>\n",
       "      <td>0.00041</td>\n",
       "      <td>461</td>\n",
       "      <td>0.00011</td>\n",
       "      <td>853</td>\n",
       "      <td>0.00021</td>\n",
       "      <td>0.00073</td>\n",
       "    </tr>\n",
       "    <tr>\n",
       "      <th>20</th>\n",
       "      <td>3 CE</td>\n",
       "      <td>date_avr</td>\n",
       "      <td>2.5</td>\n",
       "      <td>822380</td>\n",
       "      <td>69992</td>\n",
       "      <td>752388</td>\n",
       "      <td>23</td>\n",
       "      <td>265</td>\n",
       "      <td>0.00032</td>\n",
       "      <td>152</td>\n",
       "      <td>0.00018</td>\n",
       "      <td>111</td>\n",
       "      <td>0.00013</td>\n",
       "      <td>0.00063</td>\n",
       "    </tr>\n",
       "    <tr>\n",
       "      <th>21</th>\n",
       "      <td>3/4 CE</td>\n",
       "      <td>date_avr</td>\n",
       "      <td>3.0</td>\n",
       "      <td>198442</td>\n",
       "      <td>2950</td>\n",
       "      <td>195492</td>\n",
       "      <td>16</td>\n",
       "      <td>58</td>\n",
       "      <td>0.00029</td>\n",
       "      <td>30</td>\n",
       "      <td>0.00015</td>\n",
       "      <td>47</td>\n",
       "      <td>0.00024</td>\n",
       "      <td>0.00068</td>\n",
       "    </tr>\n",
       "    <tr>\n",
       "      <th>22</th>\n",
       "      <td>4 CE</td>\n",
       "      <td>date_avr</td>\n",
       "      <td>3.5</td>\n",
       "      <td>2521243</td>\n",
       "      <td>1447783</td>\n",
       "      <td>1073460</td>\n",
       "      <td>61</td>\n",
       "      <td>823</td>\n",
       "      <td>0.00033</td>\n",
       "      <td>434</td>\n",
       "      <td>0.00017</td>\n",
       "      <td>321</td>\n",
       "      <td>0.00013</td>\n",
       "      <td>0.00063</td>\n",
       "    </tr>\n",
       "  </tbody>\n",
       "</table>\n",
       "</div>"
      ],
      "text/plain": [
       "   date_string    column  value  wordcount  wordcount_christian  \\\n",
       "0        8 BCE  date_avr   -7.5     199840                    0   \n",
       "1      8/7 BCE  date_avr   -7.0      16193                    0   \n",
       "2        7 BCE  date_avr   -6.5        146                    0   \n",
       "3      7/6 BCE  date_avr   -6.0       9326                    0   \n",
       "4        6 BCE  date_avr   -5.5      44243                    0   \n",
       "5      6/5 BCE  date_avr   -5.0      68050                    0   \n",
       "6        5 BCE  date_avr   -4.5     538722                    0   \n",
       "7      5/4 BCE  date_avr   -4.0    1563911                    0   \n",
       "8        4 BCE  date_avr   -3.5    1298791                    0   \n",
       "9      4/3 BCE  date_avr   -3.0     190927                    0   \n",
       "10       3 BCE  date_avr   -2.5     407625                    0   \n",
       "11     3/2 BCE  date_avr   -2.0     397247                    0   \n",
       "12       2 BCE  date_avr   -1.5      64895                    0   \n",
       "13     2/1 BCE  date_avr   -1.0     132091                    0   \n",
       "14       1 BCE  date_avr   -0.5     616554                    0   \n",
       "15  1 BCE/1 CE  date_avr    0.0    1060319                    0   \n",
       "16        1 CE  date_avr    0.5    1147115               152623   \n",
       "17      1/2 CE  date_avr    1.0    1828554                18835   \n",
       "18        2 CE  date_avr    1.5    5444792               340038   \n",
       "19      2/3 CE  date_avr    2.0    4148368              1488901   \n",
       "20        3 CE  date_avr    2.5     822380                69992   \n",
       "21      3/4 CE  date_avr    3.0     198442                 2950   \n",
       "22        4 CE  date_avr    3.5    2521243              1447783   \n",
       "\n",
       "    wordcount_pagan  doccount  δίκαιος  δίκαιος_weighted  δίκη  δίκη_weighted  \\\n",
       "0            199840         3       16           0.00008    15        0.00008   \n",
       "1             16193         3        8           0.00049    30        0.00185   \n",
       "2               146         1        0           0.00000     0        0.00000   \n",
       "3              9326         3        1           0.00011     2        0.00021   \n",
       "4             44243         1       23           0.00052    11        0.00025   \n",
       "5             68050        14       46           0.00068   144        0.00212   \n",
       "6            538722        31      389           0.00072   318        0.00059   \n",
       "7           1563911       197     1729           0.00111   789        0.00050   \n",
       "8           1298791       118     1751           0.00135   690        0.00053   \n",
       "9            190927        24       66           0.00035    28        0.00015   \n",
       "10           407625        26        1           0.00000    12        0.00003   \n",
       "11           397247         2      141           0.00035    37        0.00009   \n",
       "12            64895        10        3           0.00005     1        0.00002   \n",
       "13           132091         5       71           0.00054    19        0.00014   \n",
       "14           616554        21      487           0.00079   347        0.00056   \n",
       "15          1060319        34      417           0.00039   210        0.00020   \n",
       "16           994492        55      523           0.00046   170        0.00015   \n",
       "17          1809719       183      788           0.00043   743        0.00041   \n",
       "18          5104754       301     1474           0.00027   765        0.00014   \n",
       "19          2659467        87     1685           0.00041   461        0.00011   \n",
       "20           752388        23      265           0.00032   152        0.00018   \n",
       "21           195492        16       58           0.00029    30        0.00015   \n",
       "22          1073460        61      823           0.00033   434        0.00017   \n",
       "\n",
       "    δικαιοσύνη  δικαιοσύνη_weighted  weighted_sum  \n",
       "0            0              0.00000       0.00016  \n",
       "1            0              0.00000       0.00234  \n",
       "2            0              0.00000       0.00000  \n",
       "3            0              0.00000       0.00032  \n",
       "4            2              0.00005       0.00082  \n",
       "5            0              0.00000       0.00280  \n",
       "6            9              0.00002       0.00133  \n",
       "7          349              0.00022       0.00183  \n",
       "8          178              0.00014       0.00202  \n",
       "9            3              0.00002       0.00052  \n",
       "10           0              0.00000       0.00003  \n",
       "11           2              0.00001       0.00045  \n",
       "12           1              0.00002       0.00009  \n",
       "13           9              0.00007       0.00075  \n",
       "14          27              0.00004       0.00139  \n",
       "15         164              0.00015       0.00074  \n",
       "16         166              0.00014       0.00075  \n",
       "17         220              0.00012       0.00096  \n",
       "18         286              0.00005       0.00046  \n",
       "19         853              0.00021       0.00073  \n",
       "20         111              0.00013       0.00063  \n",
       "21          47              0.00024       0.00068  \n",
       "22         321              0.00013       0.00063  "
      ]
     },
     "execution_count": 88,
     "metadata": {},
     "output_type": "execute_result"
    }
   ],
   "source": [
    "subselections_df = pd.DataFrame(subselections)\n",
    "subselections_df"
   ]
  },
  {
   "cell_type": "code",
   "execution_count": 89,
   "metadata": {},
   "outputs": [
    {
     "name": "stderr",
     "output_type": "stream",
     "text": [
      "/home/kasev/.local/lib/python3.6/site-packages/ipykernel_launcher.py:9: UserWarning: FixedFormatter should only be used together with FixedLocator\n",
      "  if __name__ == '__main__':\n"
     ]
    },
    {
     "data": {
      "text/plain": [
       "Text(0.5, 1.0, 'Corpus overview')"
      ]
     },
     "execution_count": 89,
     "metadata": {},
     "output_type": "execute_result"
    },
    {
     "data": {
      "image/png": "[encoded data removed]",
      "text/plain": [
       "<Figure size 864x432 with 1 Axes>"
      ]
     },
     "metadata": {
      "needs_background": "light"
     },
     "output_type": "display_data"
    }
   ],
   "source": [
    "fig, ax = plt.subplots(figsize=(12, 6), tight_layout=True)\n",
    "#subselections_df = subselections_df.iloc[::-1]\n",
    "ax.bar(subselections_df[\"date_string\"], subselections_df[\"wordcount_christian\"], color=\"tab:orange\", label=\"Christian\")\n",
    "ax.bar(subselections_df[\"date_string\"], subselections_df[\"wordcount_pagan\"], bottom=subselections_df[\"wordcount_christian\"], label=\"non-Christian\", color=\"tab:blue\")\n",
    "\n",
    "\n",
    "ax.set_yticks(range(1000000,6000000, 1000000))\n",
    "ax.set_yticklabels(str(n) + \"M\" for n in range(1,6))\n",
    "ax.set_xticklabels(subselections_df[\"date_string\"], rotation=90)\n",
    "ax.legend()\n",
    "plt.title(\"Corpus overview\")"
   ]
  },
  {
   "cell_type": "code",
   "execution_count": 78,
   "metadata": {},
   "outputs": [
    {
     "name": "stdout",
     "output_type": "stream",
     "text": [
      "Your <class 'matplotlib.figure.Figure'> object has been succefully written as \"https://sciencedata.dk/files/SDAM_root/SDAM_data/ECCE_public/coprus_overview.png\"\n"
     ]
    }
   ],
   "source": [
    "sddk.write_file(\"SDAM_data/ECCE_public/corpus_overview.png\", fig, conf)"
   ]
  },
  {
   "cell_type": "code",
   "execution_count": 90,
   "metadata": {},
   "outputs": [],
   "source": [
    "def plot_ratios(corpus_df, label_col, plot_title):\n",
    "  corpus_df = corpus_df[::-1]\n",
    "  data = {}\n",
    "  for n in range(len(corpus_df)):\n",
    "    label = str(corpus_df.iloc[n][label_col]) + \" (\" + str(corpus_df.iloc[n][\"doccount\"]) + \" docs; \" + str(corpus_df.iloc[n][\"wordcount\"]) + \" words)\"\n",
    "    counts = corpus_df.iloc[n][words].tolist()\n",
    "    values = corpus_df.iloc[n][[word + \"_weighted\" for word in words]].tolist()\n",
    "    values = [0 if math.isnan(x) else x for x in values]\n",
    "    ratios = [val / corpus_df.iloc[n][\"weighted_sum\"] * 100 for val in  values] # if val > 0]\n",
    "    ratios = [0 if math.isnan(x) else x for x in ratios]\n",
    "    data[label] = (counts, ratios)\n",
    "\n",
    "  labels = list(data.keys())\n",
    "  counts = np.array([el[0] for el in list(data.values())])\n",
    "  ratios = np.array([el[1] for el in list(data.values())])\n",
    "  ratios_cum = ratios.cumsum(axis=1)\n",
    "\n",
    "  category_colors = [\"tab:blue\", \"tab:green\", \"tab:red\"]\n",
    "\n",
    "  terms = words\n",
    "\n",
    "\n",
    "  fig, ax = plt.subplots(figsize=(12, len(corpus_df)/4 + 1), tight_layout=True)\n",
    "  ax.invert_yaxis()\n",
    "  ax.xaxis.set_visible(False)\n",
    "\n",
    "  ax.set_xlim(0, np.sum(ratios, axis=1).max())\n",
    "  ax.set_ylim(-0.5, len(corpus_df) - 0.5)\n",
    "\n",
    "  for i, (term, color) in enumerate(zip(terms, category_colors)):\n",
    "          widths = ratios[:, i]\n",
    "          texts = counts[:, i]\n",
    "          starts = ratios_cum[:, i] - widths\n",
    "          ax.barh(labels, widths, left=starts,\n",
    "                  label=term, color=color)\n",
    "          xcenters = starts + widths / 2\n",
    "          for y, (x, c) in enumerate(zip(xcenters, texts)):\n",
    "              if int(c) > 0:\n",
    "                ax.text(x, y, str(int(c)), ha='center', va='center', color='white')\n",
    "              else:\n",
    "                ax.text(x, y, \"\", ha='center', va='center', color='white')\n",
    "  ax.legend(ncol=len(terms), bbox_to_anchor=(0, 1), loc='lower left', fontsize='small')\n",
    "  plt.title(plot_title)\n",
    "  return fig"
   ]
  },
  {
   "cell_type": "code",
   "execution_count": 91,
   "metadata": {},
   "outputs": [
    {
     "name": "stderr",
     "output_type": "stream",
     "text": [
      "/home/kasev/.local/lib/python3.6/site-packages/ipykernel_launcher.py:9: RuntimeWarning: invalid value encountered in double_scalars\n",
      "  if __name__ == '__main__':\n"
     ]
    },
    {
     "data": {
      "image/png": "[encoded data removed]",
      "text/plain": [
       "<Figure size 864x486 with 1 Axes>"
      ]
     },
     "metadata": {
      "needs_background": "light"
     },
     "output_type": "display_data"
    }
   ],
   "source": [
    "fig = plot_ratios(subselections_df, \"date_string\", \"Diachronical overview - ratios\")"
   ]
  },
  {
   "cell_type": "code",
   "execution_count": 92,
   "metadata": {},
   "outputs": [
    {
     "name": "stdout",
     "output_type": "stream",
     "text": [
      "A file with the same name (\"ratios_diachronical.png\") already exists in this location.\n",
      "Press Enter to overwrite it or choose different path and filename: \n",
      "Your <class 'matplotlib.figure.Figure'> object has been succefully written as \"https://sciencedata.dk/files/SDAM_root/SDAM_data/ECCE_public/ratios_diachronical.png\"\n"
     ]
    }
   ],
   "source": [
    "sddk.write_file(\"SDAM_data/ECCE_public/ratios_diachronical.png\", fig, conf)"
   ]
  },
  {
   "cell_type": "markdown",
   "metadata": {},
   "source": [
    "# Overview based on subcorpora"
   ]
  },
  {
   "cell_type": "code",
   "execution_count": 93,
   "metadata": {},
   "outputs": [],
   "source": [
    "subcorpora_dict = {\n",
    "    \"Pagan (8th c. BCE - 4th c. CE)\" : AGT[(AGT[\"provenience\"]==\"pagan\") & (AGT[\"date_avr\"] < 4)],\n",
    "    \"Pagan (1st - 4th c. CE)\" : AGT[(AGT[\"date_avr\"].between(0, 4)) & (AGT[\"provenience\"]==\"pagan\")],\n",
    "    \"Septuagint\" : AGT[AGT[\"author_id\"]==\"tlg0527\"],\n",
    "    \"Philo of Alexandria\" : AGT[AGT[\"author_id\"]==\"tlg0018\"],\n",
    "    \"Titus Flavius Josephus\" : AGT[AGT[\"author_id\"]==\"tlg0526\"],\n",
    "    \"Paul of Tarsus\" : AGT[AGT[\"author_id\"]==\"tlg0031paul\"],\n",
    "    \"New Testament\" : AGT[AGT[\"author_id\"].str.startswith(\"tlg0031\")],\n",
    "    \"Christian (1st - 4th c. CE)\" : AGT[(AGT[\"date_avr\"] < 4) & (AGT[\"provenience\"]==\"christian\")]}"
   ]
  },
  {
   "cell_type": "code",
   "execution_count": 100,
   "metadata": {},
   "outputs": [],
   "source": [
    "subselections = []\n",
    "for key in subcorpora_dict.keys():\n",
    "    subselection = subcorpora_dict[key]\n",
    "    subselection_dict = {}\n",
    "    wordcount = subselection[\"wordcount\"].sum()\n",
    "    doccount = len(subselection)\n",
    "    subselection_dict.update({\"label\" : key, \"wordcount\" : wordcount, \"doccount\" : doccount})\n",
    "    subselection_dict.update(count_words_in_df_column(subselection[\"lemmata\"], words, wordcount))\n",
    "    subselections.append(subselection_dict)\n"
   ]
  },
  {
   "cell_type": "code",
   "execution_count": 101,
   "metadata": {},
   "outputs": [
    {
     "data": {
      "text/html": [
       "<div>\n",
       "<style scoped>\n",
       "    .dataframe tbody tr th:only-of-type {\n",
       "        vertical-align: middle;\n",
       "    }\n",
       "\n",
       "    .dataframe tbody tr th {\n",
       "        vertical-align: top;\n",
       "    }\n",
       "\n",
       "    .dataframe thead th {\n",
       "        text-align: right;\n",
       "    }\n",
       "</style>\n",
       "<table border=\"1\" class=\"dataframe\">\n",
       "  <thead>\n",
       "    <tr style=\"text-align: right;\">\n",
       "      <th></th>\n",
       "      <th>label</th>\n",
       "      <th>wordcount</th>\n",
       "      <th>doccount</th>\n",
       "      <th>δίκαιος</th>\n",
       "      <th>δίκαιος_weighted</th>\n",
       "      <th>δίκη</th>\n",
       "      <th>δίκη_weighted</th>\n",
       "      <th>δικαιοσύνη</th>\n",
       "      <th>δικαιοσύνη_weighted</th>\n",
       "      <th>weighted_sum</th>\n",
       "    </tr>\n",
       "  </thead>\n",
       "  <tbody>\n",
       "    <tr>\n",
       "      <th>0</th>\n",
       "      <td>Pagan (8th c. BCE - 4th c. CE)</td>\n",
       "      <td>13736632</td>\n",
       "      <td>765</td>\n",
       "      <td>6085</td>\n",
       "      <td>0.00044</td>\n",
       "      <td>3467</td>\n",
       "      <td>0.00025</td>\n",
       "      <td>1154</td>\n",
       "      <td>0.00008</td>\n",
       "      <td>0.00077</td>\n",
       "    </tr>\n",
       "    <tr>\n",
       "      <th>1</th>\n",
       "      <td>Pagan (1st - 4th c. CE)</td>\n",
       "      <td>9448494</td>\n",
       "      <td>409</td>\n",
       "      <td>2260</td>\n",
       "      <td>0.00024</td>\n",
       "      <td>1533</td>\n",
       "      <td>0.00016</td>\n",
       "      <td>621</td>\n",
       "      <td>0.00007</td>\n",
       "      <td>0.00047</td>\n",
       "    </tr>\n",
       "    <tr>\n",
       "      <th>2</th>\n",
       "      <td>Septuagint</td>\n",
       "      <td>974597</td>\n",
       "      <td>55</td>\n",
       "      <td>515</td>\n",
       "      <td>0.00053</td>\n",
       "      <td>51</td>\n",
       "      <td>0.00005</td>\n",
       "      <td>373</td>\n",
       "      <td>0.00038</td>\n",
       "      <td>0.00096</td>\n",
       "    </tr>\n",
       "    <tr>\n",
       "      <th>3</th>\n",
       "      <td>Philo of Alexandria</td>\n",
       "      <td>755660</td>\n",
       "      <td>31</td>\n",
       "      <td>383</td>\n",
       "      <td>0.00051</td>\n",
       "      <td>171</td>\n",
       "      <td>0.00023</td>\n",
       "      <td>158</td>\n",
       "      <td>0.00021</td>\n",
       "      <td>0.00095</td>\n",
       "    </tr>\n",
       "    <tr>\n",
       "      <th>4</th>\n",
       "      <td>Titus Flavius Josephus</td>\n",
       "      <td>475852</td>\n",
       "      <td>4</td>\n",
       "      <td>354</td>\n",
       "      <td>0.00074</td>\n",
       "      <td>157</td>\n",
       "      <td>0.00033</td>\n",
       "      <td>39</td>\n",
       "      <td>0.00008</td>\n",
       "      <td>0.00115</td>\n",
       "    </tr>\n",
       "    <tr>\n",
       "      <th>5</th>\n",
       "      <td>Paul of Tarsus</td>\n",
       "      <td>24083</td>\n",
       "      <td>7</td>\n",
       "      <td>14</td>\n",
       "      <td>0.00058</td>\n",
       "      <td>0</td>\n",
       "      <td>0.00000</td>\n",
       "      <td>48</td>\n",
       "      <td>0.00199</td>\n",
       "      <td>0.00257</td>\n",
       "    </tr>\n",
       "    <tr>\n",
       "      <th>6</th>\n",
       "      <td>New Testament</td>\n",
       "      <td>137846</td>\n",
       "      <td>27</td>\n",
       "      <td>82</td>\n",
       "      <td>0.00059</td>\n",
       "      <td>3</td>\n",
       "      <td>0.00002</td>\n",
       "      <td>90</td>\n",
       "      <td>0.00065</td>\n",
       "      <td>0.00126</td>\n",
       "    </tr>\n",
       "    <tr>\n",
       "      <th>7</th>\n",
       "      <td>Christian (1st - 4th c. CE)</td>\n",
       "      <td>3521122</td>\n",
       "      <td>131</td>\n",
       "      <td>1952</td>\n",
       "      <td>0.00055</td>\n",
       "      <td>549</td>\n",
       "      <td>0.00016</td>\n",
       "      <td>1097</td>\n",
       "      <td>0.00031</td>\n",
       "      <td>0.00102</td>\n",
       "    </tr>\n",
       "  </tbody>\n",
       "</table>\n",
       "</div>"
      ],
      "text/plain": [
       "                            label  wordcount  doccount  δίκαιος  \\\n",
       "0  Pagan (8th c. BCE - 4th c. CE)   13736632       765     6085   \n",
       "1         Pagan (1st - 4th c. CE)    9448494       409     2260   \n",
       "2                      Septuagint     974597        55      515   \n",
       "3             Philo of Alexandria     755660        31      383   \n",
       "4          Titus Flavius Josephus     475852         4      354   \n",
       "5                  Paul of Tarsus      24083         7       14   \n",
       "6                   New Testament     137846        27       82   \n",
       "7     Christian (1st - 4th c. CE)    3521122       131     1952   \n",
       "\n",
       "   δίκαιος_weighted  δίκη  δίκη_weighted  δικαιοσύνη  δικαιοσύνη_weighted  \\\n",
       "0           0.00044  3467        0.00025        1154              0.00008   \n",
       "1           0.00024  1533        0.00016         621              0.00007   \n",
       "2           0.00053    51        0.00005         373              0.00038   \n",
       "3           0.00051   171        0.00023         158              0.00021   \n",
       "4           0.00074   157        0.00033          39              0.00008   \n",
       "5           0.00058     0        0.00000          48              0.00199   \n",
       "6           0.00059     3        0.00002          90              0.00065   \n",
       "7           0.00055   549        0.00016        1097              0.00031   \n",
       "\n",
       "   weighted_sum  \n",
       "0       0.00077  \n",
       "1       0.00047  \n",
       "2       0.00096  \n",
       "3       0.00095  \n",
       "4       0.00115  \n",
       "5       0.00257  \n",
       "6       0.00126  \n",
       "7       0.00102  "
      ]
     },
     "execution_count": 101,
     "metadata": {},
     "output_type": "execute_result"
    }
   ],
   "source": [
    "subselections_df = pd.DataFrame(subselections)\n",
    "subselections_df"
   ]
  },
  {
   "cell_type": "code",
   "execution_count": 96,
   "metadata": {},
   "outputs": [
    {
     "data": {
      "image/png": "[encoded data removed]",
      "text/plain": [
       "<Figure size 864x216 with 1 Axes>"
      ]
     },
     "metadata": {
      "needs_background": "light"
     },
     "output_type": "display_data"
    }
   ],
   "source": [
    "fig = plot_ratios(subselections_df, \"label\", \"Subcorpora - ratios\")"
   ]
  },
  {
   "cell_type": "code",
   "execution_count": 97,
   "metadata": {},
   "outputs": [
    {
     "name": "stdout",
     "output_type": "stream",
     "text": [
      "A file with the same name (\"subcorpora_ratios.png\") already exists in this location.\n",
      "Press Enter to overwrite it or choose different path and filename: \n",
      "Your <class 'matplotlib.figure.Figure'> object has been succefully written as \"https://sciencedata.dk/files/SDAM_root/SDAM_data/ECCE_public/subcorpora_ratios.png\"\n"
     ]
    }
   ],
   "source": [
    "sddk.write_file(\"SDAM_data/ECCE_public/subcorpora_ratios.png\", fig, conf)"
   ]
  },
  {
   "cell_type": "code",
   "execution_count": 107,
   "metadata": {},
   "outputs": [
    {
     "data": {
      "text/plain": [
       "<matplotlib.legend.Legend at 0x7f346d270a90>"
      ]
     },
     "execution_count": 107,
     "metadata": {},
     "output_type": "execute_result"
    },
    {
     "data": {
      "image/png": "[encoded data removed]",
      "text/plain": [
       "<Figure size 864x288 with 1 Axes>"
      ]
     },
     "metadata": {
      "needs_background": "light"
     },
     "output_type": "display_data"
    }
   ],
   "source": [
    "subselections_df = subselections_df.iloc[::-1]\n",
    "\n",
    "fig, ax = plt.subplots(figsize=(12, 4), tight_layout=True)\n",
    "\n",
    "y = np.arange(len(subselections_df))  # the label locations\n",
    "width = 0.2  # the width of the bars\n",
    "\n",
    "bar_location = 0\n",
    "for keyterm, color in [(\"δίκαιος_weighted\", \"tab:blue\"), (\"δίκη_weighted\", \"tab:green\"), (\"δικαιοσύνη_weighted\", \"tab:red\")]:\n",
    "  #coloring = subselections_df[keyterm + \"_weighted\"] / subselections_df[\"weighted_sum\"].max()\n",
    "  ax.barh(y + 0.3 - bar_location, subselections_df[keyterm], width, color=color, label=keyterm)\n",
    "  bar_location = bar_location + 0.2\n",
    "#ax.barh(y, wordcounts, width * 4, color=\"none\", edgecolor=\"black\")\n",
    "\n",
    "# Add some text for labels, title and custom x-axis tick labels, etc.\n",
    "ax.set_title(\"Subcorpora - frequencies\")\n",
    "\n",
    "ax.set_xlabel(\"Frequency\")\n",
    "#ax1.set_ylabel(\"documents\")\n",
    "ax.set_yticks(y)\n",
    "ax.set_yticklabels(subselections_df[\"label\"])\n",
    "\n",
    "plt.legend()\n"
   ]
  },
  {
   "cell_type": "code",
   "execution_count": 108,
   "metadata": {},
   "outputs": [
    {
     "name": "stdout",
     "output_type": "stream",
     "text": [
      "A file with the same name (\"subcorpora_overview.png\") already exists in this location.\n",
      "Press Enter to overwrite it or choose different path and filename: \n",
      "Your <class 'matplotlib.figure.Figure'> object has been succefully written as \"https://sciencedata.dk/files/SDAM_root/SDAM_data/ECCE_public/subcorpora_overview.png\"\n"
     ]
    }
   ],
   "source": [
    "sddk.write_file(\"SDAM_data/ECCE_public/subcorpora_overview.png\", fig, conf)"
   ]
  },
  {
   "cell_type": "markdown",
   "metadata": {},
   "source": [
    "# PHI overview"
   ]
  },
  {
   "cell_type": "code",
   "execution_count": 177,
   "metadata": {},
   "outputs": [
    {
     "data": {
      "text/html": [
       "<div>\n",
       "<style scoped>\n",
       "    .dataframe tbody tr th:only-of-type {\n",
       "        vertical-align: middle;\n",
       "    }\n",
       "\n",
       "    .dataframe tbody tr th {\n",
       "        vertical-align: top;\n",
       "    }\n",
       "\n",
       "    .dataframe thead th {\n",
       "        text-align: right;\n",
       "    }\n",
       "</style>\n",
       "<table border=\"1\" class=\"dataframe\">\n",
       "  <thead>\n",
       "    <tr style=\"text-align: right;\">\n",
       "      <th></th>\n",
       "      <th>URL</th>\n",
       "      <th>Book</th>\n",
       "      <th>Text</th>\n",
       "      <th>hdr1</th>\n",
       "      <th>hdr2</th>\n",
       "      <th>tildeinfo</th>\n",
       "      <th>note</th>\n",
       "      <th>lines</th>\n",
       "      <th>metadata</th>\n",
       "      <th>data</th>\n",
       "      <th>...</th>\n",
       "      <th>raw_date</th>\n",
       "      <th>dating_dict</th>\n",
       "      <th>not_before</th>\n",
       "      <th>not_after</th>\n",
       "      <th>or</th>\n",
       "      <th>date_tags</th>\n",
       "      <th>certainty</th>\n",
       "      <th>link</th>\n",
       "      <th>lemmata</th>\n",
       "      <th>string_normalized</th>\n",
       "    </tr>\n",
       "  </thead>\n",
       "  <tbody>\n",
       "    <tr>\n",
       "      <th>0</th>\n",
       "      <td>https://epigraphy.packhum.org/text/1</td>\n",
       "      <td>IG I³</td>\n",
       "      <td>1</td>\n",
       "      <td>Regions\\n\\nAttica (IG I-III)Attica</td>\n",
       "      <td>None</td>\n",
       "      <td>Att. — Ath.: Akr. — stoich. 35 — c. 510-500 a....</td>\n",
       "      <td>None</td>\n",
       "      <td>12.0</td>\n",
       "      <td>\\n1\\n\\n\\n\\n\\n5\\n\\n\\n\\n\\n\\n10\\n\\n\\n</td>\n",
       "      <td>ἔδοχσεν το͂ι δέμοι· τ̣[ὸς ἐ Σ]αλαμ̣[ῖνι κλερόχ...</td>\n",
       "      <td>...</td>\n",
       "      <td>c. 510-500 a.</td>\n",
       "      <td>{'or': None, 'not_before': -511, 'not_after': ...</td>\n",
       "      <td>-511.0</td>\n",
       "      <td>-499.0</td>\n",
       "      <td>None</td>\n",
       "      <td>[range, phase, ca]</td>\n",
       "      <td>None</td>\n",
       "      <td>None</td>\n",
       "      <td>[ἔδοχσεν, τοῖος, δέμοι, τός, Σαλαμίς, κλερόχος...</td>\n",
       "      <td>ἔδοχσεν το͂ι δέμοι τὸς ἐ Σαλαμῖνι κλερόχος οἰκ...</td>\n",
       "    </tr>\n",
       "    <tr>\n",
       "      <th>1</th>\n",
       "      <td>https://epigraphy.packhum.org/text/2</td>\n",
       "      <td>IG I³</td>\n",
       "      <td>2</td>\n",
       "      <td>Regions\\n\\nAttica (IG I-III)Attica</td>\n",
       "      <td>None</td>\n",
       "      <td>Att. — non-stoich. — c. 500 a.</td>\n",
       "      <td>None</td>\n",
       "      <td>14.0</td>\n",
       "      <td>\\n1\\n\\n\\n\\n\\n5\\n\\n\\n\\n\\n\\n10\\n\\n\\n\\n\\n</td>\n",
       "      <td>[․․8-9․․․]ν̣ βολ — — — — — — — — — —\\n[․6-7․․]...</td>\n",
       "      <td>...</td>\n",
       "      <td>c. 500 a.</td>\n",
       "      <td>{'or': None, 'not_before': -505, 'not_after': ...</td>\n",
       "      <td>-505.0</td>\n",
       "      <td>-495.0</td>\n",
       "      <td>None</td>\n",
       "      <td>[exact, phase, ca]</td>\n",
       "      <td>None</td>\n",
       "      <td>None</td>\n",
       "      <td>[βολ, ℎεκον, θεός, γνοσθει, ἀτεχνος, μεδέ, ℎαμ...</td>\n",
       "      <td>ν βολ α ℎεκον σιον γνοσθε͂ι δὲ ν ἀτεχνος μὲ π ...</td>\n",
       "    </tr>\n",
       "    <tr>\n",
       "      <th>2</th>\n",
       "      <td>https://epigraphy.packhum.org/text/3</td>\n",
       "      <td>IG I³</td>\n",
       "      <td>3</td>\n",
       "      <td>Regions\\n\\nAttica (IG I-III)Attica</td>\n",
       "      <td>None</td>\n",
       "      <td>Att. — stoich. 21 — 490-480 a.</td>\n",
       "      <td>None</td>\n",
       "      <td>13.0</td>\n",
       "      <td>\\n1\\n\\n\\n\\n\\n5\\n\\n\\n\\n\\n\\n10\\n\\n\\n\\n</td>\n",
       "      <td>[․]αρ[․․․․]ι ℎερακλειο[․․5․․]\\n[․]αρ̣ο#⁷[․] τι...</td>\n",
       "      <td>...</td>\n",
       "      <td>490-480 a.</td>\n",
       "      <td>{'or': None, 'not_before': -490, 'not_after': ...</td>\n",
       "      <td>-490.0</td>\n",
       "      <td>-480.0</td>\n",
       "      <td>None</td>\n",
       "      <td>[range]</td>\n",
       "      <td>None</td>\n",
       "      <td>None</td>\n",
       "      <td>[ἀρίς, ℎερακλειο, ἀρόω, τίθημι, τός, ἀθλοθέτης...</td>\n",
       "      <td>αρι ℎερακλειο αρο τιθέναι τὸς ἀθλοθέτας τριάκο...</td>\n",
       "    </tr>\n",
       "    <tr>\n",
       "      <th>3</th>\n",
       "      <td>https://epigraphy.packhum.org/text/4</td>\n",
       "      <td>IG I³</td>\n",
       "      <td>4</td>\n",
       "      <td>Regions\\n\\nAttica (IG I-III)Attica</td>\n",
       "      <td>None</td>\n",
       "      <td>Att. — stoich. 38 — 485/4 a.</td>\n",
       "      <td>None</td>\n",
       "      <td>58.0</td>\n",
       "      <td>\\nface A.1\\n\\n\\n\\n\\n5\\n\\n\\n\\n\\n\\n10\\n\\n\\n\\n\\n\\...</td>\n",
       "      <td>[․․․․․․․․․․․․․․․․․․38․․․․․․․․․․․․․․․․․․]\\n[․․․...</td>\n",
       "      <td>...</td>\n",
       "      <td>485/4 a.</td>\n",
       "      <td>{'or': None, 'not_before': -485, 'not_after': ...</td>\n",
       "      <td>-485.0</td>\n",
       "      <td>-484.0</td>\n",
       "      <td>None</td>\n",
       "      <td>[range]</td>\n",
       "      <td>None</td>\n",
       "      <td>None</td>\n",
       "      <td>[ἄναξ, φροράν, πεντέκοντα, δραχμή, ἵημι, πρᾶχσ...</td>\n",
       "      <td>ἐὰν δέ τις αν ἒ φρορὰν μὲ πεντέκοντα δραχμὰς τ...</td>\n",
       "    </tr>\n",
       "    <tr>\n",
       "      <th>4</th>\n",
       "      <td>https://epigraphy.packhum.org/text/5</td>\n",
       "      <td>IG I³</td>\n",
       "      <td>5</td>\n",
       "      <td>Regions\\n\\nAttica (IG I-III)Attica</td>\n",
       "      <td>None</td>\n",
       "      <td>Att. — c. 500 a.\\n\\nSee also:\\nI.Eleusis 13</td>\n",
       "      <td>None</td>\n",
       "      <td>6.0</td>\n",
       "      <td>\\n1\\n\\n\\n\\n \\n5\\n\\n</td>\n",
       "      <td>[ἔδοχσε]ν [⋮ τε͂ι βολε͂ι] ⋮ καὶ [τ]ο͂ι δέμοι ⋮...</td>\n",
       "      <td>...</td>\n",
       "      <td>c. 500 a.</td>\n",
       "      <td>{'or': None, 'not_before': -505, 'not_after': ...</td>\n",
       "      <td>-505.0</td>\n",
       "      <td>-495.0</td>\n",
       "      <td>None</td>\n",
       "      <td>[exact, phase, ca]</td>\n",
       "      <td>None</td>\n",
       "      <td>None</td>\n",
       "      <td>[ἔδοχσεν, τει, βολει, τοῖος, δέμοι, ℎότε, παρα...</td>\n",
       "      <td>ἔδοχσεν τε͂ι βολε͂ι καὶ το͂ι δέμοι ℎότε Παραιβ...</td>\n",
       "    </tr>\n",
       "  </tbody>\n",
       "</table>\n",
       "<p>5 rows × 27 columns</p>\n",
       "</div>"
      ],
      "text/plain": [
       "                                    URL   Book Text  \\\n",
       "0  https://epigraphy.packhum.org/text/1  IG I³    1   \n",
       "1  https://epigraphy.packhum.org/text/2  IG I³    2   \n",
       "2  https://epigraphy.packhum.org/text/3  IG I³    3   \n",
       "3  https://epigraphy.packhum.org/text/4  IG I³    4   \n",
       "4  https://epigraphy.packhum.org/text/5  IG I³    5   \n",
       "\n",
       "                                 hdr1  hdr2  \\\n",
       "0  Regions\\n\\nAttica (IG I-III)Attica  None   \n",
       "1  Regions\\n\\nAttica (IG I-III)Attica  None   \n",
       "2  Regions\\n\\nAttica (IG I-III)Attica  None   \n",
       "3  Regions\\n\\nAttica (IG I-III)Attica  None   \n",
       "4  Regions\\n\\nAttica (IG I-III)Attica  None   \n",
       "\n",
       "                                           tildeinfo  note  lines  \\\n",
       "0  Att. — Ath.: Akr. — stoich. 35 — c. 510-500 a....  None   12.0   \n",
       "1                     Att. — non-stoich. — c. 500 a.  None   14.0   \n",
       "2                     Att. — stoich. 21 — 490-480 a.  None   13.0   \n",
       "3                       Att. — stoich. 38 — 485/4 a.  None   58.0   \n",
       "4        Att. — c. 500 a.\\n\\nSee also:\\nI.Eleusis 13  None    6.0   \n",
       "\n",
       "                                            metadata  \\\n",
       "0                 \\n1\\n\\n\\n\\n\\n5\\n\\n\\n\\n\\n\\n10\\n\\n\\n   \n",
       "1             \\n1\\n\\n\\n\\n\\n5\\n\\n\\n\\n\\n\\n10\\n\\n\\n\\n\\n   \n",
       "2               \\n1\\n\\n\\n\\n\\n5\\n\\n\\n\\n\\n\\n10\\n\\n\\n\\n   \n",
       "3  \\nface A.1\\n\\n\\n\\n\\n5\\n\\n\\n\\n\\n\\n10\\n\\n\\n\\n\\n\\...   \n",
       "4                                \\n1\\n\\n\\n\\n \\n5\\n\\n   \n",
       "\n",
       "                                                data  ...        raw_date  \\\n",
       "0  ἔδοχσεν το͂ι δέμοι· τ̣[ὸς ἐ Σ]αλαμ̣[ῖνι κλερόχ...  ...  c. 510-500 a.    \n",
       "1  [․․8-9․․․]ν̣ βολ — — — — — — — — — —\\n[․6-7․․]...  ...       c. 500 a.   \n",
       "2  [․]αρ[․․․․]ι ℎερακλειο[․․5․․]\\n[․]αρ̣ο#⁷[․] τι...  ...      490-480 a.   \n",
       "3  [․․․․․․․․․․․․․․․․․․38․․․․․․․․․․․․․․․․․․]\\n[․․․...  ...        485/4 a.   \n",
       "4  [ἔδοχσε]ν [⋮ τε͂ι βολε͂ι] ⋮ καὶ [τ]ο͂ι δέμοι ⋮...  ...       c. 500 a.   \n",
       "\n",
       "                                         dating_dict not_before not_after  \\\n",
       "0  {'or': None, 'not_before': -511, 'not_after': ...     -511.0    -499.0   \n",
       "1  {'or': None, 'not_before': -505, 'not_after': ...     -505.0    -495.0   \n",
       "2  {'or': None, 'not_before': -490, 'not_after': ...     -490.0    -480.0   \n",
       "3  {'or': None, 'not_before': -485, 'not_after': ...     -485.0    -484.0   \n",
       "4  {'or': None, 'not_before': -505, 'not_after': ...     -505.0    -495.0   \n",
       "\n",
       "     or           date_tags certainty  link  \\\n",
       "0  None  [range, phase, ca]      None  None   \n",
       "1  None  [exact, phase, ca]      None  None   \n",
       "2  None             [range]      None  None   \n",
       "3  None             [range]      None  None   \n",
       "4  None  [exact, phase, ca]      None  None   \n",
       "\n",
       "                                             lemmata  \\\n",
       "0  [ἔδοχσεν, τοῖος, δέμοι, τός, Σαλαμίς, κλερόχος...   \n",
       "1  [βολ, ℎεκον, θεός, γνοσθει, ἀτεχνος, μεδέ, ℎαμ...   \n",
       "2  [ἀρίς, ℎερακλειο, ἀρόω, τίθημι, τός, ἀθλοθέτης...   \n",
       "3  [ἄναξ, φροράν, πεντέκοντα, δραχμή, ἵημι, πρᾶχσ...   \n",
       "4  [ἔδοχσεν, τει, βολει, τοῖος, δέμοι, ℎότε, παρα...   \n",
       "\n",
       "                                   string_normalized  \n",
       "0  ἔδοχσεν το͂ι δέμοι τὸς ἐ Σαλαμῖνι κλερόχος οἰκ...  \n",
       "1  ν βολ α ℎεκον σιον γνοσθε͂ι δὲ ν ἀτεχνος μὲ π ...  \n",
       "2  αρι ℎερακλειο αρο τιθέναι τὸς ἀθλοθέτας τριάκο...  \n",
       "3  ἐὰν δέ τις αν ἒ φρορὰν μὲ πεντέκοντα δραχμὰς τ...  \n",
       "4  ἔδοχσεν τε͂ι βολε͂ι καὶ το͂ι δέμοι ℎότε Παραιβ...  \n",
       "\n",
       "[5 rows x 27 columns]"
      ]
     },
     "execution_count": 177,
     "metadata": {},
     "output_type": "execute_result"
    }
   ],
   "source": [
    "# read the PHI dataset from sciencedata.dk\n",
    "# (takes some time - the dataset has almost 400MB)\n",
    "PHI = sddk.read_file(\"SDAM_data/PHI/PHI_dated_lemmatized_20201023.json\", \"df\", conf)\n",
    "# older version used during development: PHI = sddk.read_file(\"SDAM_data/PHI/PHI_enriched_raw.json\", \"df\", conf)\n",
    "# print first 5 rows of the data\n",
    "PHI.head(5)"
   ]
  },
  {
   "cell_type": "code",
   "execution_count": 262,
   "metadata": {},
   "outputs": [
    {
     "data": {
      "text/plain": [
       "216702"
      ]
     },
     "execution_count": 262,
     "metadata": {},
     "output_type": "execute_result"
    }
   ],
   "source": [
    "len(PHI)"
   ]
  },
  {
   "cell_type": "code",
   "execution_count": 178,
   "metadata": {},
   "outputs": [],
   "source": [
    "PHI[\"wordcount\"] = PHI[\"string_normalized\"].apply(lambda string: len(string.split()))"
   ]
  },
  {
   "cell_type": "code",
   "execution_count": 179,
   "metadata": {},
   "outputs": [
    {
     "data": {
      "text/plain": [
       "4469462"
      ]
     },
     "execution_count": 179,
     "metadata": {},
     "output_type": "execute_result"
    }
   ],
   "source": [
    "PHI[\"wordcount\"].sum()"
   ]
  },
  {
   "cell_type": "code",
   "execution_count": 267,
   "metadata": {},
   "outputs": [
    {
     "data": {
      "text/plain": [
       "130533"
      ]
     },
     "execution_count": 267,
     "metadata": {},
     "output_type": "execute_result"
    }
   ],
   "source": [
    "len(PHI[(PHI[\"not_before\"].notnull()) | (PHI[\"not_after\"].notnull())])"
   ]
  },
  {
   "cell_type": "code",
   "execution_count": 180,
   "metadata": {},
   "outputs": [],
   "source": [
    "# read and execute our script for modelling dates\n",
    "script_url = \"https://raw.githubusercontent.com/sdam-au/modelling_temporal_uncertainty/master/scripts/modelling_distributions.py\"\n",
    "# execute the script\n",
    "exec(requests.get(script_url).content)"
   ]
  },
  {
   "cell_type": "code",
   "execution_count": 181,
   "metadata": {},
   "outputs": [
    {
     "name": "stdout",
     "output_type": "stream",
     "text": [
      "CPU times: user 1min, sys: 1.07 s, total: 1min 1s\n",
      "Wall time: 1min 1s\n"
     ]
    }
   ],
   "source": [
    "%%time\n",
    "# generate a list of 1000 random dates for each inscription in the dataset\n",
    "# takes approx. 90 seconds in Google colab\n",
    "PHI[\"random_dates\"] = PHI.apply(lambda row: model_date(row[\"not_before\"], row[\"not_after\"], size=1000,), axis=1)"
   ]
  },
  {
   "cell_type": "code",
   "execution_count": 182,
   "metadata": {},
   "outputs": [],
   "source": [
    "words = [\"δίκαιος\", \"δίκη\", \"δικαιοσύνη\"]\n",
    "for word in words:\n",
    "    PHI[word] = PHI[\"lemmata\"].apply(lambda x: x.count(word))"
   ]
  },
  {
   "cell_type": "code",
   "execution_count": 183,
   "metadata": {},
   "outputs": [
    {
     "name": "stdout",
     "output_type": "stream",
     "text": [
      "δίκαιος 2017\n",
      "δίκη 1854\n",
      "δικαιοσύνη 645\n"
     ]
    }
   ],
   "source": [
    "for word in words:\n",
    "    print(word, PHI[word].sum())"
   ]
  },
  {
   "cell_type": "code",
   "execution_count": 242,
   "metadata": {},
   "outputs": [
    {
     "name": "stdout",
     "output_type": "stream",
     "text": [
      "50\n",
      "683\n",
      "559\n"
     ]
    }
   ],
   "source": [
    "for word in words:\n",
    "    print(PHI[\"string_normalized\"].apply(lambda x: len(re.findall(word, x))).sum())"
   ]
  },
  {
   "cell_type": "code",
   "execution_count": 184,
   "metadata": {},
   "outputs": [
    {
     "data": {
      "text/plain": [
       "[((-800, -751), 7),\n",
       " ((-750, -701), 60),\n",
       " ((-700, -651), 155),\n",
       " ((-650, -601), 272),\n",
       " ((-600, -551), 931),\n",
       " ((-550, -501), 2063),\n",
       " ((-500, -451), 3832),\n",
       " ((-450, -401), 4125),\n",
       " ((-400, -351), 6338),\n",
       " ((-350, -301), 8903),\n",
       " ((-300, -251), 8086),\n",
       " ((-250, -201), 9033),\n",
       " ((-200, -151), 8850),\n",
       " ((-150, -101), 7221),\n",
       " ((-100, -51), 4830),\n",
       " ((-50, -1), 5164),\n",
       " ((1, 50), 6017),\n",
       " ((51, 100), 6160),\n",
       " ((101, 150), 10113),\n",
       " ((151, 200), 9909),\n",
       " ((201, 250), 8907),\n",
       " ((251, 300), 5897),\n",
       " ((301, 350), 3081),\n",
       " ((351, 400), 2949)]"
      ]
     },
     "execution_count": 184,
     "metadata": {},
     "output_type": "execute_result"
    }
   ],
   "source": [
    "PHI_complete_simulations = timeblocks_from_randoms(PHI, \"random_dates\", [-800, 400, 50])\n",
    "# look at the first one\n",
    "PHI_complete_simulations[0]"
   ]
  },
  {
   "cell_type": "code",
   "execution_count": 185,
   "metadata": {},
   "outputs": [
    {
     "data": {
      "text/plain": [
       "[((-800, -751), 0),\n",
       " ((-750, -701), 0),\n",
       " ((-700, -651), 0),\n",
       " ((-650, -601), 0),\n",
       " ((-600, -551), 0),\n",
       " ((-550, -501), 1),\n",
       " ((-500, -451), 1),\n",
       " ((-450, -401), 4),\n",
       " ((-400, -351), 31),\n",
       " ((-350, -301), 127),\n",
       " ((-300, -251), 55),\n",
       " ((-250, -201), 51),\n",
       " ((-200, -151), 26),\n",
       " ((-150, -101), 39),\n",
       " ((-100, -51), 18),\n",
       " ((-50, -1), 14),\n",
       " ((1, 50), 7),\n",
       " ((51, 100), 11),\n",
       " ((101, 150), 13),\n",
       " ((151, 200), 8),\n",
       " ((201, 250), 10),\n",
       " ((251, 300), 2),\n",
       " ((301, 350), 3),\n",
       " ((351, 400), 3)]"
      ]
     },
     "execution_count": 185,
     "metadata": {},
     "output_type": "execute_result"
    }
   ],
   "source": [
    "sub_df = PHI[PHI[\"δικαιοσύνη\"]>0]\n",
    "sub_df_sim = timeblocks_from_randoms(sub_df,  \"random_dates\", [-800, 400, 50])\n",
    "sub_df_sim[0]\n",
    "# for timeblock in PHI_complete_simulations[0].keys():"
   ]
  },
  {
   "cell_type": "code",
   "execution_count": 190,
   "metadata": {},
   "outputs": [
    {
     "data": {
      "text/plain": [
       "[(-800, -751),\n",
       " (-750, -701),\n",
       " (-700, -651),\n",
       " (-650, -601),\n",
       " (-600, -551),\n",
       " (-550, -501),\n",
       " (-500, -451),\n",
       " (-450, -401),\n",
       " (-400, -351),\n",
       " (-350, -301),\n",
       " (-300, -251),\n",
       " (-250, -201),\n",
       " (-200, -151),\n",
       " (-150, -101),\n",
       " (-100, -51),\n",
       " (-50, -1),\n",
       " (1, 50),\n",
       " (51, 100),\n",
       " (101, 150),\n",
       " (151, 200),\n",
       " (201, 250),\n",
       " (251, 300),\n",
       " (301, 350),\n",
       " (351, 400)]"
      ]
     },
     "execution_count": 190,
     "metadata": {},
     "output_type": "execute_result"
    }
   ],
   "source": [
    "get_timeblocks(-800, 400, 50)"
   ]
  },
  {
   "cell_type": "code",
   "execution_count": 158,
   "metadata": {},
   "outputs": [],
   "source": [
    "def get_date_from_randoms(value, n):\n",
    "    try:\n",
    "        return value[n]\n",
    "    except:\n",
    "        return None\n",
    "\n",
    "dating_variant = PHI[\"random_dates\"].apply(lambda x: get_date_from_randoms(x, 0))\n",
    "mask = dating_variant.between(200, 301)\n",
    "timeblock_df_variant = PHI[mask]"
   ]
  },
  {
   "cell_type": "code",
   "execution_count": 187,
   "metadata": {},
   "outputs": [],
   "source": []
  },
  {
   "cell_type": "code",
   "execution_count": 202,
   "metadata": {},
   "outputs": [],
   "source": [
    "word = \"δικαιοσύνη\"\n",
    "complete_sim_data = []\n",
    "sim_data(metrics_function):\n",
    "for n in range(5):\n",
    "    sim = PHI[\"random_dates\"].apply(lambda x: get_date_from_randoms(x, n))\n",
    "    sim_data = []\n",
    "    for tb in get_timeblocks(-800, 400, 50):\n",
    "        mask = sim.between(tb[0], tb[1])\n",
    "        df = PHI[mask]\n",
    "        wordcount = df[\"wordcount\"].sum()\n",
    "        word_count = df[\"lemmata\"].apply(lambda x: x.count(word)).sum()\n",
    "        word_freq = word_count / wordcount\n",
    "        sim_data.append((tb, word_freq))\n",
    "    complete_sim_data.append(sim_data)"
   ]
  },
  {
   "cell_type": "code",
   "execution_count": 226,
   "metadata": {},
   "outputs": [],
   "source": [
    "def tf_in_df(df, word):\n",
    "    wordcount_total = df[\"wordcount\"].sum()\n",
    "    word_count = df[\"lemmata\"].apply(lambda x: x.count(word)).sum()\n",
    "    word_freq = word_count / wordcount_total\n",
    "    return word_freq"
   ]
  },
  {
   "cell_type": "code",
   "execution_count": 243,
   "metadata": {},
   "outputs": [],
   "source": [
    "def sim_data(df, n_sims, metrics_function, *args):\n",
    "    complete_sim_data = []\n",
    "    for n in range(n_sims):\n",
    "        sim = df[\"random_dates\"].apply(lambda x: get_date_from_randoms(x, n))\n",
    "        sim_data = []\n",
    "        for tb in get_timeblocks(-800, 400, 100):\n",
    "            mask = sim.between(tb[0], tb[1])\n",
    "            df_tb = PHI[mask]\n",
    "            function_output = metrics_function(df_tb, *args)\n",
    "            sim_data.append((tb, function_output))\n",
    "        complete_sim_data.append(sim_data)\n",
    "    return complete_sim_data"
   ]
  },
  {
   "cell_type": "code",
   "execution_count": 260,
   "metadata": {},
   "outputs": [
    {
     "data": {
      "text/plain": [
       "<matplotlib.legend.Legend at 0x7f30918bcba8>"
      ]
     },
     "execution_count": 260,
     "metadata": {},
     "output_type": "execute_result"
    },
    {
     "data": {
      "image/png": "[encoded data removed]",
      "text/plain": [
       "<Figure size 576x360 with 1 Axes>"
      ]
     },
     "metadata": {
      "needs_background": "light"
     },
     "output_type": "display_data"
    }
   ],
   "source": [
    "import matplotlib.colors as mcolors\n",
    "tab_colors_list = list(mcolors.TABLEAU_COLORS.keys())\n",
    "\n",
    "import matplotlib.lines as mlines\n",
    "\n",
    "fig, ax = plt.subplots(1, 1, figsize=(8, 5), tight_layout=True)\n",
    "\n",
    "markers = []\n",
    "\n",
    "for word, color in zip(words, [\"tab:blue\", \"tab:green\", \"tab:red\"]):\n",
    "    complete_sim_data = sim_data(PHI, 100, tf_in_df, word) \n",
    "    layer = plot_timeblocks_data(complete_sim_data, ax=ax, color=color)\n",
    "    markers.append(mlines.Line2D([], [], linewidth=4, label=word, color=color))\n",
    "\n",
    "ax.set_xlim(-800, 400)\n",
    "ax.set_xticks(range(-800, 500, 100))\n",
    "\n",
    "plt.title(\"PHI - word frequencies (100 simulations variants)\")\n",
    "ax.legend(handles=markers)"
   ]
  },
  {
   "cell_type": "code",
   "execution_count": 261,
   "metadata": {},
   "outputs": [
    {
     "name": "stdout",
     "output_type": "stream",
     "text": [
      "A file with the same name (\"PHI_tf.png\") already exists in this location.\n",
      "Press Enter to overwrite it or choose different path and filename: \n",
      "Your <class 'matplotlib.figure.Figure'> object has been succefully written as \"https://sciencedata.dk/files/SDAM_root/SDAM_data/ECCE_public/PHI_tf.png\"\n"
     ]
    }
   ],
   "source": [
    "sddk.write_file(\"SDAM_data/ECCE_public/PHI_tf.png\",fig, conf)"
   ]
  }
 ],
 "metadata": {
  "kernelspec": {
   "display_name": "Python 3",
   "language": "python",
   "name": "python3"
  },
  "language_info": {
   "codemirror_mode": {
    "name": "ipython",
    "version": 3
   },
   "file_extension": ".py",
   "mimetype": "text/x-python",
   "name": "python",
   "nbconvert_exporter": "python",
   "pygments_lexer": "ipython3",
   "version": "3.6.9"
  }
 },
 "nbformat": 4,
 "nbformat_minor": 4
}
