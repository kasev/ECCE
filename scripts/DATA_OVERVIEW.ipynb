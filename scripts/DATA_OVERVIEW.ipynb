{
 "cells": [
  {
   "cell_type": "code",
   "execution_count": 270,
   "metadata": {},
   "outputs": [],
   "source": [
    "import os\n",
    "import json\n",
    "import pandas as pd\n",
    "import numpy as np\n",
    "import json\n",
    "import logging ### to monitor the code\n",
    "from bs4 import BeautifulSoup\n",
    "import xml.etree.cElementTree as ET\n",
    "import pickle\n",
    "import math\n",
    "import random\n",
    "import sys\n",
    "import csv\n",
    "import unicodedata\n",
    "import requests\n",
    "from urllib.request import urlopen \n",
    "import io\n",
    "import getpass\n",
    "import re\n",
    "from collections import defaultdict\n",
    "from itertools import islice # to iterate through dicts\n",
    "\n",
    "import nltk\n",
    "from nltk.collocations import *\n",
    "\n",
    "import matplotlib as mpl\n",
    "import matplotlib.pyplot as plt\n",
    "import seaborn as sns\n",
    "\n",
    "from scipy import stats\n",
    "\n",
    "import gspread\n",
    "from gspread_dataframe import get_as_dataframe, set_with_dataframe\n",
    "from google.oauth2 import service_account # based on google-auth library\n",
    "\n",
    "import sddk"
   ]
  },
  {
   "cell_type": "code",
   "execution_count": 271,
   "metadata": {},
   "outputs": [],
   "source": [
    "#from anda import gr\n",
    "# OR uncomment the following:\n",
    "script_url = \"https://raw.githubusercontent.com/sdam-au/anda_py/master/anda/gr.py\"\n",
    "exec(requests.get(script_url).content)"
   ]
  },
  {
   "cell_type": "code",
   "execution_count": 272,
   "metadata": {},
   "outputs": [
    {
     "name": "stdout",
     "output_type": "stream",
     "text": [
      "sciencedata.dk username (format '123456@au.dk'): 648597@au.dk\n",
      "sciencedata.dk password: ········\n",
      "connection with shared folder established with you as its owner\n",
      "endpoint variable has been configured to: https://sciencedata.dk/files/SDAM_root/\n"
     ]
    }
   ],
   "source": [
    "conf = sddk.configure(\"SDAM_root\", \"648597@au.dk\")"
   ]
  },
  {
   "cell_type": "code",
   "execution_count": 273,
   "metadata": {},
   "outputs": [],
   "source": [
    "# to access gsheet, you need Google Service Account key json file\n",
    "# I have mine located in my personal space on sciencedata.dk, so I read it from there:\n",
    "\n",
    "# (1) read the file and parse its content\n",
    "file_data = conf[0].get(\"https://sciencedata.dk/files/ServiceAccountsKey.json\").json()\n",
    "# (2) transform the content into crendentials object\n",
    "credentials = service_account.Credentials.from_service_account_info(file_data)\n",
    "# (3) specify your usage of the credentials\n",
    "scoped_credentials = credentials.with_scopes(['https://spreadsheets.google.com/feeds', 'https://www.googleapis.com/auth/drive'])\n",
    "# (4) use the constrained credentials for authentication of gspread package\n",
    "gc = gspread.Client(auth=scoped_credentials)\n",
    "\n",
    "ECCE_AGT_overview = gc.open_by_url(\"https://docs.google.com/spreadsheets/d/1KPpPaeX215HR_fVrakvJp8aB6oZDhHFTcBw0MKLw6as/edit?usp=sharing\")"
   ]
  },
  {
   "cell_type": "markdown",
   "metadata": {},
   "source": [
    "# Import the data"
   ]
  },
  {
   "cell_type": "code",
   "execution_count": 274,
   "metadata": {},
   "outputs": [
    {
     "data": {
      "text/html": [
       "<div>\n",
       "<style scoped>\n",
       "    .dataframe tbody tr th:only-of-type {\n",
       "        vertical-align: middle;\n",
       "    }\n",
       "\n",
       "    .dataframe tbody tr th {\n",
       "        vertical-align: top;\n",
       "    }\n",
       "\n",
       "    .dataframe thead th {\n",
       "        text-align: right;\n",
       "    }\n",
       "</style>\n",
       "<table border=\"1\" class=\"dataframe\">\n",
       "  <thead>\n",
       "    <tr style=\"text-align: right;\">\n",
       "      <th></th>\n",
       "      <th>filename</th>\n",
       "      <th>author</th>\n",
       "      <th>title</th>\n",
       "      <th>string</th>\n",
       "      <th>wordcount</th>\n",
       "      <th>author_id</th>\n",
       "      <th>doc_id</th>\n",
       "      <th>raw_date</th>\n",
       "      <th>date_avr</th>\n",
       "      <th>date_probs</th>\n",
       "      <th>date_manual</th>\n",
       "      <th>provenience</th>\n",
       "      <th>lemmata</th>\n",
       "      <th>lemmata_wordcount</th>\n",
       "      <th>lemmatized_sentences</th>\n",
       "      <th>n_sentences</th>\n",
       "      <th>tlg_epithet</th>\n",
       "    </tr>\n",
       "  </thead>\n",
       "  <tbody>\n",
       "    <tr>\n",
       "      <th>0</th>\n",
       "      <td>tlg0001.tlg001.perseus-grc2.xml</td>\n",
       "      <td>Apollonius Rhodius</td>\n",
       "      <td>Argonautica</td>\n",
       "      <td>ἀρχόμενος σέο, Φοῖβε, παλαιγενέων κλέα φωτῶν μ...</td>\n",
       "      <td>38822</td>\n",
       "      <td>tlg0001</td>\n",
       "      <td>tlg0001.tlg001</td>\n",
       "      <td>3 B.C.</td>\n",
       "      <td>-2.5</td>\n",
       "      <td>{'-2.5': 1}</td>\n",
       "      <td>-2.5</td>\n",
       "      <td>pagan</td>\n",
       "      <td>[σέο, φοῖβος, παλαιγενής, κλέος, φάος, μιμνήσκ...</td>\n",
       "      <td>24237</td>\n",
       "      <td>[[σέο, φοῖβος, παλαιγενής, κλέος, φάος, μιμνήσ...</td>\n",
       "      <td>3230</td>\n",
       "      <td>Epici/-ae</td>\n",
       "    </tr>\n",
       "    <tr>\n",
       "      <th>1</th>\n",
       "      <td>tlg0003.tlg001.perseus-grc2.xml</td>\n",
       "      <td>Thucydides</td>\n",
       "      <td>The Peloponnesian War</td>\n",
       "      <td>\\nΘουκυδίδης Ἀθηναῖος ξυνέγραψε τὸν πόλεμον τῶ...</td>\n",
       "      <td>150126</td>\n",
       "      <td>tlg0003</td>\n",
       "      <td>tlg0003.tlg001</td>\n",
       "      <td>5 B.C.</td>\n",
       "      <td>-4.5</td>\n",
       "      <td>{'-4.5': 1}</td>\n",
       "      <td>-4.5</td>\n",
       "      <td>pagan</td>\n",
       "      <td>[θουκυδίδης, Ἀθηναῖος, συγγράφω, πόλεμος, Πελο...</td>\n",
       "      <td>68154</td>\n",
       "      <td>[[θουκυδίδης, Ἀθηναῖος, συγγράφω, πόλεμος, Πελ...</td>\n",
       "      <td>6057</td>\n",
       "      <td>Historici/-ae</td>\n",
       "    </tr>\n",
       "    <tr>\n",
       "      <th>2</th>\n",
       "      <td>tlg0004.tlg001.perseus-grc1.xml</td>\n",
       "      <td>Diogenes Laertius</td>\n",
       "      <td>Lives of Eminent Philosophers</td>\n",
       "      <td>Τὸ τῆς φιλοσοφίας ἔργον ἔνιοί φασιν ἀπὸ βαρβάρ...</td>\n",
       "      <td>110773</td>\n",
       "      <td>tlg0004</td>\n",
       "      <td>tlg0004.tlg001</td>\n",
       "      <td>A.D. 3</td>\n",
       "      <td>2.5</td>\n",
       "      <td>{'2.5': 1}</td>\n",
       "      <td>NaN</td>\n",
       "      <td></td>\n",
       "      <td>[φιλοσοφία, ἔργον, ἔνιοί, φάσις, βάρβαρος, ἄρχ...</td>\n",
       "      <td>55323</td>\n",
       "      <td>[[φιλοσοφία, ἔργον, ἔνιοί, φάσις, βάρβαρος, ἄρ...</td>\n",
       "      <td>9906</td>\n",
       "      <td>Biographi</td>\n",
       "    </tr>\n",
       "    <tr>\n",
       "      <th>3</th>\n",
       "      <td>tlg0005.tlg001.perseus-grc1.xml</td>\n",
       "      <td>Theocritus</td>\n",
       "      <td>Idylls</td>\n",
       "      <td>\\n̔Αδύ τι τὸ ψιθύρισμα καὶ ἁ πίτυς αἰπόλε τήνα...</td>\n",
       "      <td>19200</td>\n",
       "      <td>tlg0005</td>\n",
       "      <td>tlg0005.tlg001</td>\n",
       "      <td>4-3 B.C.</td>\n",
       "      <td>-3.0</td>\n",
       "      <td>{'-3.5': 0.5, '-2.5': 0.5}</td>\n",
       "      <td>NaN</td>\n",
       "      <td></td>\n",
       "      <td>[αδύ, ψιθύρισμα, πίτυς, αἰπόλος, ἐκεῖνος, πότη...</td>\n",
       "      <td>12177</td>\n",
       "      <td>[[αδύ, ψιθύρισμα, πίτυς, αἰπόλος, ἐκεῖνος, πότ...</td>\n",
       "      <td>1725</td>\n",
       "      <td>Bucolici</td>\n",
       "    </tr>\n",
       "    <tr>\n",
       "      <th>4</th>\n",
       "      <td>tlg0005.tlg002.perseus-grc1.xml</td>\n",
       "      <td>Theocritus</td>\n",
       "      <td>Epigrams</td>\n",
       "      <td>τὰ ῥόδα τὰ δροσόεντα καὶ ἁ κατάπυκνος ἐκείνα ἕ...</td>\n",
       "      <td>1734</td>\n",
       "      <td>tlg0005</td>\n",
       "      <td>tlg0005.tlg002</td>\n",
       "      <td>4-3 B.C.</td>\n",
       "      <td>-3.0</td>\n",
       "      <td>{'-3.5': 0.5, '-2.5': 0.5}</td>\n",
       "      <td>NaN</td>\n",
       "      <td></td>\n",
       "      <td>[ῥοδῆ, δροσόεντα, κατάπυκνος, ἐκεῖνος, ἕρπυλλο...</td>\n",
       "      <td>1089</td>\n",
       "      <td>[[ῥοδῆ, δροσόεντα, κατάπυκνος, ἐκεῖνος, ἕρπυλλ...</td>\n",
       "      <td>135</td>\n",
       "      <td>Bucolici</td>\n",
       "    </tr>\n",
       "  </tbody>\n",
       "</table>\n",
       "</div>"
      ],
      "text/plain": [
       "                          filename              author  \\\n",
       "0  tlg0001.tlg001.perseus-grc2.xml  Apollonius Rhodius   \n",
       "1  tlg0003.tlg001.perseus-grc2.xml          Thucydides   \n",
       "2  tlg0004.tlg001.perseus-grc1.xml   Diogenes Laertius   \n",
       "3  tlg0005.tlg001.perseus-grc1.xml          Theocritus   \n",
       "4  tlg0005.tlg002.perseus-grc1.xml          Theocritus   \n",
       "\n",
       "                           title  \\\n",
       "0                    Argonautica   \n",
       "1          The Peloponnesian War   \n",
       "2  Lives of Eminent Philosophers   \n",
       "3                        Idylls    \n",
       "4                      Epigrams    \n",
       "\n",
       "                                              string  wordcount author_id  \\\n",
       "0  ἀρχόμενος σέο, Φοῖβε, παλαιγενέων κλέα φωτῶν μ...      38822   tlg0001   \n",
       "1  \\nΘουκυδίδης Ἀθηναῖος ξυνέγραψε τὸν πόλεμον τῶ...     150126   tlg0003   \n",
       "2  Τὸ τῆς φιλοσοφίας ἔργον ἔνιοί φασιν ἀπὸ βαρβάρ...     110773   tlg0004   \n",
       "3  \\n̔Αδύ τι τὸ ψιθύρισμα καὶ ἁ πίτυς αἰπόλε τήνα...      19200   tlg0005   \n",
       "4  τὰ ῥόδα τὰ δροσόεντα καὶ ἁ κατάπυκνος ἐκείνα ἕ...       1734   tlg0005   \n",
       "\n",
       "           doc_id  raw_date  date_avr                  date_probs  \\\n",
       "0  tlg0001.tlg001    3 B.C.      -2.5                 {'-2.5': 1}   \n",
       "1  tlg0003.tlg001    5 B.C.      -4.5                 {'-4.5': 1}   \n",
       "2  tlg0004.tlg001    A.D. 3       2.5                  {'2.5': 1}   \n",
       "3  tlg0005.tlg001  4-3 B.C.      -3.0  {'-3.5': 0.5, '-2.5': 0.5}   \n",
       "4  tlg0005.tlg002  4-3 B.C.      -3.0  {'-3.5': 0.5, '-2.5': 0.5}   \n",
       "\n",
       "   date_manual provenience                                            lemmata  \\\n",
       "0         -2.5       pagan  [σέο, φοῖβος, παλαιγενής, κλέος, φάος, μιμνήσκ...   \n",
       "1         -4.5       pagan  [θουκυδίδης, Ἀθηναῖος, συγγράφω, πόλεμος, Πελο...   \n",
       "2          NaN              [φιλοσοφία, ἔργον, ἔνιοί, φάσις, βάρβαρος, ἄρχ...   \n",
       "3          NaN              [αδύ, ψιθύρισμα, πίτυς, αἰπόλος, ἐκεῖνος, πότη...   \n",
       "4          NaN              [ῥοδῆ, δροσόεντα, κατάπυκνος, ἐκεῖνος, ἕρπυλλο...   \n",
       "\n",
       "   lemmata_wordcount                               lemmatized_sentences  \\\n",
       "0              24237  [[σέο, φοῖβος, παλαιγενής, κλέος, φάος, μιμνήσ...   \n",
       "1              68154  [[θουκυδίδης, Ἀθηναῖος, συγγράφω, πόλεμος, Πελ...   \n",
       "2              55323  [[φιλοσοφία, ἔργον, ἔνιοί, φάσις, βάρβαρος, ἄρ...   \n",
       "3              12177  [[αδύ, ψιθύρισμα, πίτυς, αἰπόλος, ἐκεῖνος, πότ...   \n",
       "4               1089  [[ῥοδῆ, δροσόεντα, κατάπυκνος, ἐκεῖνος, ἕρπυλλ...   \n",
       "\n",
       "   n_sentences    tlg_epithet  \n",
       "0         3230      Epici/-ae  \n",
       "1         6057  Historici/-ae  \n",
       "2         9906      Biographi  \n",
       "3         1725       Bucolici  \n",
       "4          135       Bucolici  "
      ]
     },
     "execution_count": 274,
     "metadata": {},
     "output_type": "execute_result"
    }
   ],
   "source": [
    "AGT = sddk.read_file(\"SDAM_data/AGT/AGT_20201027.json\", \"df\", conf)\n",
    "AGT.head(5)"
   ]
  },
  {
   "cell_type": "code",
   "execution_count": 275,
   "metadata": {},
   "outputs": [
    {
     "data": {
      "text/plain": [
       "1457"
      ]
     },
     "execution_count": 275,
     "metadata": {},
     "output_type": "execute_result"
    }
   ],
   "source": [
    "len(AGT)"
   ]
  },
  {
   "cell_type": "code",
   "execution_count": 276,
   "metadata": {},
   "outputs": [
    {
     "data": {
      "text/plain": [
       "33419267"
      ]
     },
     "execution_count": 276,
     "metadata": {},
     "output_type": "execute_result"
    }
   ],
   "source": [
    "AGT[\"wordcount\"].sum()"
   ]
  },
  {
   "cell_type": "code",
   "execution_count": 277,
   "metadata": {},
   "outputs": [
    {
     "data": {
      "text/plain": [
       "1255"
      ]
     },
     "execution_count": 277,
     "metadata": {},
     "output_type": "execute_result"
    }
   ],
   "source": [
    "len(AGT[AGT[\"date_avr\"]< 4])"
   ]
  },
  {
   "cell_type": "code",
   "execution_count": 278,
   "metadata": {},
   "outputs": [
    {
     "data": {
      "text/plain": [
       "22355950"
      ]
     },
     "execution_count": 278,
     "metadata": {},
     "output_type": "execute_result"
    }
   ],
   "source": [
    "AGT[AGT[\"date_avr\"]< 4][\"wordcount\"].sum()"
   ]
  },
  {
   "cell_type": "markdown",
   "metadata": {},
   "source": [
    "# δικ* over the whole corpus"
   ]
  },
  {
   "cell_type": "code",
   "execution_count": 279,
   "metadata": {},
   "outputs": [
    {
     "data": {
      "text/plain": [
       "13926141"
      ]
     },
     "execution_count": 279,
     "metadata": {},
     "output_type": "execute_result"
    }
   ],
   "source": [
    "# whole corpus as a list of lemmata\n",
    "AGT_lemmata_list = np.concatenate(AGT[\"lemmata\"].tolist())\n",
    "len(AGT_lemmata_list)"
   ]
  },
  {
   "cell_type": "code",
   "execution_count": 280,
   "metadata": {},
   "outputs": [
    {
     "data": {
      "text/html": [
       "<div>\n",
       "<style scoped>\n",
       "    .dataframe tbody tr th:only-of-type {\n",
       "        vertical-align: middle;\n",
       "    }\n",
       "\n",
       "    .dataframe tbody tr th {\n",
       "        vertical-align: top;\n",
       "    }\n",
       "\n",
       "    .dataframe thead th {\n",
       "        text-align: right;\n",
       "    }\n",
       "</style>\n",
       "<table border=\"1\" class=\"dataframe\">\n",
       "  <thead>\n",
       "    <tr style=\"text-align: right;\">\n",
       "      <th></th>\n",
       "      <th>lemma</th>\n",
       "      <th>count</th>\n",
       "    </tr>\n",
       "  </thead>\n",
       "  <tbody>\n",
       "    <tr>\n",
       "      <th>0</th>\n",
       "      <td>δίκαιος</td>\n",
       "      <td>14705</td>\n",
       "    </tr>\n",
       "    <tr>\n",
       "      <th>1</th>\n",
       "      <td>δίκη</td>\n",
       "      <td>6591</td>\n",
       "    </tr>\n",
       "    <tr>\n",
       "      <th>2</th>\n",
       "      <td>δικαιοσύνη</td>\n",
       "      <td>4409</td>\n",
       "    </tr>\n",
       "    <tr>\n",
       "      <th>3</th>\n",
       "      <td>ἀδικέω</td>\n",
       "      <td>4115</td>\n",
       "    </tr>\n",
       "    <tr>\n",
       "      <th>4</th>\n",
       "      <td>ἄδικος</td>\n",
       "      <td>3961</td>\n",
       "    </tr>\n",
       "  </tbody>\n",
       "</table>\n",
       "</div>"
      ],
      "text/plain": [
       "        lemma  count\n",
       "0     δίκαιος  14705\n",
       "1        δίκη   6591\n",
       "2  δικαιοσύνη   4409\n",
       "3      ἀδικέω   4115\n",
       "4      ἄδικος   3961"
      ]
     },
     "execution_count": 280,
     "metadata": {},
     "output_type": "execute_result"
    }
   ],
   "source": [
    "match_pattern = \"(κατα|ὑπό|ἐκ|ἀ|ἄ|ἀντί|^)δ[ι|ί]κ(α|ά|ο|ό|ί|έ|η)(.+)?\"\n",
    "\n",
    "dik_words = [word for word in AGT_lemmata_list if re.search(match_pattern, word)]\n",
    "dik_words_df = pd.DataFrame(nltk.FreqDist(dik_words).most_common(), columns=[\"lemma\", \"count\"])\n",
    "dik_words_df.head(5)"
   ]
  },
  {
   "cell_type": "code",
   "execution_count": 281,
   "metadata": {},
   "outputs": [
    {
     "data": {
      "text/html": [
       "<div>\n",
       "<style scoped>\n",
       "    .dataframe tbody tr th:only-of-type {\n",
       "        vertical-align: middle;\n",
       "    }\n",
       "\n",
       "    .dataframe tbody tr th {\n",
       "        vertical-align: top;\n",
       "    }\n",
       "\n",
       "    .dataframe thead th {\n",
       "        text-align: right;\n",
       "    }\n",
       "</style>\n",
       "<table border=\"1\" class=\"dataframe\">\n",
       "  <thead>\n",
       "    <tr style=\"text-align: right;\">\n",
       "      <th></th>\n",
       "      <th>lemma</th>\n",
       "      <th>count</th>\n",
       "      <th>translation</th>\n",
       "    </tr>\n",
       "  </thead>\n",
       "  <tbody>\n",
       "    <tr>\n",
       "      <th>0</th>\n",
       "      <td>δίκαιος</td>\n",
       "      <td>14705</td>\n",
       "      <td>observant of custom and social rule, well-orde...</td>\n",
       "    </tr>\n",
       "    <tr>\n",
       "      <th>1</th>\n",
       "      <td>δίκη</td>\n",
       "      <td>6591</td>\n",
       "      <td>custom, usage</td>\n",
       "    </tr>\n",
       "    <tr>\n",
       "      <th>2</th>\n",
       "      <td>δικαιοσύνη</td>\n",
       "      <td>4409</td>\n",
       "      <td>righteousness, justice</td>\n",
       "    </tr>\n",
       "    <tr>\n",
       "      <th>3</th>\n",
       "      <td>ἀδικέω</td>\n",
       "      <td>4115</td>\n",
       "      <td>to do wrong</td>\n",
       "    </tr>\n",
       "    <tr>\n",
       "      <th>4</th>\n",
       "      <td>ἄδικος</td>\n",
       "      <td>3961</td>\n",
       "      <td>wrong-doing, unrighteous, unjust</td>\n",
       "    </tr>\n",
       "    <tr>\n",
       "      <th>5</th>\n",
       "      <td>δικαστής</td>\n",
       "      <td>2450</td>\n",
       "      <td>a judge</td>\n",
       "    </tr>\n",
       "    <tr>\n",
       "      <th>6</th>\n",
       "      <td>ἀδικία</td>\n",
       "      <td>2067</td>\n",
       "      <td>wrong-doing, injustice</td>\n",
       "    </tr>\n",
       "    <tr>\n",
       "      <th>7</th>\n",
       "      <td>δικαστήριον</td>\n",
       "      <td>1339</td>\n",
       "      <td>a court of justice</td>\n",
       "    </tr>\n",
       "    <tr>\n",
       "      <th>8</th>\n",
       "      <td>ἀδίκημα</td>\n",
       "      <td>984</td>\n",
       "      <td>a wrong done, a wrong</td>\n",
       "    </tr>\n",
       "    <tr>\n",
       "      <th>9</th>\n",
       "      <td>δικάζω</td>\n",
       "      <td>932</td>\n",
       "      <td>to judge, to give judgment on</td>\n",
       "    </tr>\n",
       "    <tr>\n",
       "      <th>10</th>\n",
       "      <td>δικαιόω</td>\n",
       "      <td>541</td>\n",
       "      <td>to set right</td>\n",
       "    </tr>\n",
       "    <tr>\n",
       "      <th>11</th>\n",
       "      <td>δικαίωμα</td>\n",
       "      <td>326</td>\n",
       "      <td>an act by which wrong is set right</td>\n",
       "    </tr>\n",
       "  </tbody>\n",
       "</table>\n",
       "</div>"
      ],
      "text/plain": [
       "          lemma  count                                        translation\n",
       "0       δίκαιος  14705  observant of custom and social rule, well-orde...\n",
       "1          δίκη   6591                                      custom, usage\n",
       "2    δικαιοσύνη   4409                             righteousness, justice\n",
       "3        ἀδικέω   4115                                        to do wrong\n",
       "4        ἄδικος   3961                   wrong-doing, unrighteous, unjust\n",
       "5      δικαστής   2450                                            a judge\n",
       "6        ἀδικία   2067                             wrong-doing, injustice\n",
       "7   δικαστήριον   1339                                 a court of justice\n",
       "8       ἀδίκημα    984                              a wrong done, a wrong\n",
       "9        δικάζω    932                      to judge, to give judgment on\n",
       "10      δικαιόω    541                                       to set right\n",
       "11     δικαίωμα    326                 an act by which wrong is set right"
      ]
     },
     "execution_count": 281,
     "metadata": {},
     "output_type": "execute_result"
    }
   ],
   "source": [
    "dik_words_df[\"translation\"] = dik_words_df[\"lemma\"].apply(lemma_translator)\n",
    "dik_words_df.head(12)"
   ]
  },
  {
   "cell_type": "code",
   "execution_count": 282,
   "metadata": {},
   "outputs": [],
   "source": [
    "set_with_dataframe(ECCE_AGT_overview.add_worksheet(\"dik_words_20201027\", 1,1), dik_words_df)"
   ]
  },
  {
   "cell_type": "markdown",
   "metadata": {},
   "source": [
    "# Chronological overview"
   ]
  },
  {
   "cell_type": "code",
   "execution_count": 283,
   "metadata": {},
   "outputs": [],
   "source": [
    "words = [\"δίκαιος\", \"δίκη\", \"δικαιοσύνη\"]"
   ]
  },
  {
   "cell_type": "code",
   "execution_count": 284,
   "metadata": {},
   "outputs": [],
   "source": [
    "def count_words_in_df_column(docs, words, wordcount=None):\n",
    "    '''\n",
    "    Parameters\n",
    "    ----------\n",
    "    docs : `pandas.Series` consisting of lists\n",
    "        List or series of lists, each list representing a tokenized (and lemmatized) version of a document\n",
    "    words : `list`\n",
    "        List of words to be counted\n",
    "    \n",
    "    Returns\n",
    "    -------\n",
    "    `dict`\n",
    "        Dictionary of word : count pairs\n",
    "    '''\n",
    "    counts_dict = {}\n",
    "    weighted_sum = 0\n",
    "    for word in words:\n",
    "        count = docs.apply(lambda doc_list: doc_list.count(word)).sum()\n",
    "        counts_dict[word] = count\n",
    "        if wordcount != None:\n",
    "            if wordcount > 0:\n",
    "                weighted = np.round(count / wordcount, 5)\n",
    "                counts_dict[word + \"_weighted\"] = weighted\n",
    "                weighted_sum += weighted\n",
    "    counts_dict[\"weighted_sum\"] = weighted_sum\n",
    "    return counts_dict"
   ]
  },
  {
   "cell_type": "code",
   "execution_count": 285,
   "metadata": {},
   "outputs": [
    {
     "name": "stdout",
     "output_type": "stream",
     "text": [
      "[-7.5, -7.0, -6.5, -6.0, -5.5, -5.0, -4.5, -4.0, -3.5, -3.0, -2.5, -2.0, -1.5, -1.0, -0.5, 0.0, 0.5, 1.0, 1.5, 2.0, 2.5, 3.0, 3.5]\n"
     ]
    }
   ],
   "source": [
    "dates_list = [date / 100 for date in range(-750, 400, 50)]\n",
    "print(dates_list)"
   ]
  },
  {
   "cell_type": "code",
   "execution_count": 286,
   "metadata": {},
   "outputs": [],
   "source": [
    "def date_avr_to_string(date):\n",
    "    if str(date)[-1]==\"5\":\n",
    "        date_number = str(int(abs(date) + 0.5))\n",
    "       \n",
    "    else: \n",
    "        if date < 0:\n",
    "            date_number = str(int(abs(date) + 1))  + \"/\" + str(int(abs(date)))\n",
    "        else: \n",
    "            date_number = str(int(abs(date)))  + \"/\" + str(int(abs(date) + 1))\n",
    "    if date < 0: date_string = date_number + \" BCE\"\n",
    "    else: date_string = date_number + \" CE\"\n",
    "    if date == 0.0:\n",
    "        date_string = \"1 BCE/1 CE\"\n",
    "    return date_string"
   ]
  },
  {
   "cell_type": "code",
   "execution_count": 287,
   "metadata": {},
   "outputs": [
    {
     "data": {
      "text/plain": [
       "'1 BCE/1 CE'"
      ]
     },
     "execution_count": 287,
     "metadata": {},
     "output_type": "execute_result"
    }
   ],
   "source": [
    "date_avr_to_string(0.0)"
   ]
  },
  {
   "cell_type": "code",
   "execution_count": 288,
   "metadata": {},
   "outputs": [
    {
     "data": {
      "text/plain": [
       "'1 CE'"
      ]
     },
     "execution_count": 288,
     "metadata": {},
     "output_type": "execute_result"
    }
   ],
   "source": [
    "date_avr_to_string(0.5)"
   ]
  },
  {
   "cell_type": "code",
   "execution_count": 289,
   "metadata": {},
   "outputs": [],
   "source": [
    "subselections = []\n",
    "for date in dates_list:\n",
    "    subselection = AGT[AGT[\"date_avr\"]== date]\n",
    "    wordcount_christian = AGT[(AGT[\"date_avr\"]== date) & (AGT[\"provenience\"]==\"christian\")][\"wordcount\"].sum()\n",
    "    wordcount_pagan = AGT[(AGT[\"date_avr\"]== date) & (AGT[\"provenience\"]!=\"christian\")][\"wordcount\"].sum()\n",
    "    wordcount = subselection[\"wordcount\"].sum()\n",
    "    doccount = len(subselection)\n",
    "    date_string = date_avr_to_string(date)\n",
    "    subselection_dict = {\"date_string\" : date_string, \"column\" : \"date_avr\", \"value\" : date, \"wordcount\" : wordcount, \"wordcount_christian\" : wordcount_christian, \"wordcount_pagan\" : wordcount_pagan, \"doccount\": doccount}\n",
    "    subselection_dict.update(count_words_in_df_column(subselection[\"lemmata\"], words, wordcount))\n",
    "    subselections.append(subselection_dict)"
   ]
  },
  {
   "cell_type": "code",
   "execution_count": 290,
   "metadata": {},
   "outputs": [
    {
     "data": {
      "text/html": [
       "<div>\n",
       "<style scoped>\n",
       "    .dataframe tbody tr th:only-of-type {\n",
       "        vertical-align: middle;\n",
       "    }\n",
       "\n",
       "    .dataframe tbody tr th {\n",
       "        vertical-align: top;\n",
       "    }\n",
       "\n",
       "    .dataframe thead th {\n",
       "        text-align: right;\n",
       "    }\n",
       "</style>\n",
       "<table border=\"1\" class=\"dataframe\">\n",
       "  <thead>\n",
       "    <tr style=\"text-align: right;\">\n",
       "      <th></th>\n",
       "      <th>date_string</th>\n",
       "      <th>column</th>\n",
       "      <th>value</th>\n",
       "      <th>wordcount</th>\n",
       "      <th>wordcount_christian</th>\n",
       "      <th>wordcount_pagan</th>\n",
       "      <th>doccount</th>\n",
       "      <th>δίκαιος</th>\n",
       "      <th>δίκαιος_weighted</th>\n",
       "      <th>δίκη</th>\n",
       "      <th>δίκη_weighted</th>\n",
       "      <th>δικαιοσύνη</th>\n",
       "      <th>δικαιοσύνη_weighted</th>\n",
       "      <th>weighted_sum</th>\n",
       "    </tr>\n",
       "  </thead>\n",
       "  <tbody>\n",
       "    <tr>\n",
       "      <th>0</th>\n",
       "      <td>8 BCE</td>\n",
       "      <td>date_avr</td>\n",
       "      <td>-7.5</td>\n",
       "      <td>199837</td>\n",
       "      <td>0</td>\n",
       "      <td>199837</td>\n",
       "      <td>3</td>\n",
       "      <td>16</td>\n",
       "      <td>0.00008</td>\n",
       "      <td>15</td>\n",
       "      <td>0.00008</td>\n",
       "      <td>0</td>\n",
       "      <td>0.00000</td>\n",
       "      <td>0.00016</td>\n",
       "    </tr>\n",
       "    <tr>\n",
       "      <th>1</th>\n",
       "      <td>8/7 BCE</td>\n",
       "      <td>date_avr</td>\n",
       "      <td>-7.0</td>\n",
       "      <td>16193</td>\n",
       "      <td>0</td>\n",
       "      <td>16193</td>\n",
       "      <td>3</td>\n",
       "      <td>8</td>\n",
       "      <td>0.00049</td>\n",
       "      <td>30</td>\n",
       "      <td>0.00185</td>\n",
       "      <td>0</td>\n",
       "      <td>0.00000</td>\n",
       "      <td>0.00234</td>\n",
       "    </tr>\n",
       "    <tr>\n",
       "      <th>2</th>\n",
       "      <td>7 BCE</td>\n",
       "      <td>date_avr</td>\n",
       "      <td>-6.5</td>\n",
       "      <td>144</td>\n",
       "      <td>0</td>\n",
       "      <td>144</td>\n",
       "      <td>1</td>\n",
       "      <td>0</td>\n",
       "      <td>0.00000</td>\n",
       "      <td>0</td>\n",
       "      <td>0.00000</td>\n",
       "      <td>0</td>\n",
       "      <td>0.00000</td>\n",
       "      <td>0.00000</td>\n",
       "    </tr>\n",
       "    <tr>\n",
       "      <th>3</th>\n",
       "      <td>7/6 BCE</td>\n",
       "      <td>date_avr</td>\n",
       "      <td>-6.0</td>\n",
       "      <td>9316</td>\n",
       "      <td>0</td>\n",
       "      <td>9316</td>\n",
       "      <td>3</td>\n",
       "      <td>1</td>\n",
       "      <td>0.00011</td>\n",
       "      <td>2</td>\n",
       "      <td>0.00021</td>\n",
       "      <td>0</td>\n",
       "      <td>0.00000</td>\n",
       "      <td>0.00032</td>\n",
       "    </tr>\n",
       "    <tr>\n",
       "      <th>4</th>\n",
       "      <td>6 BCE</td>\n",
       "      <td>date_avr</td>\n",
       "      <td>-5.5</td>\n",
       "      <td>39849</td>\n",
       "      <td>0</td>\n",
       "      <td>39849</td>\n",
       "      <td>2</td>\n",
       "      <td>23</td>\n",
       "      <td>0.00058</td>\n",
       "      <td>11</td>\n",
       "      <td>0.00028</td>\n",
       "      <td>2</td>\n",
       "      <td>0.00005</td>\n",
       "      <td>0.00091</td>\n",
       "    </tr>\n",
       "    <tr>\n",
       "      <th>5</th>\n",
       "      <td>6/5 BCE</td>\n",
       "      <td>date_avr</td>\n",
       "      <td>-5.0</td>\n",
       "      <td>66272</td>\n",
       "      <td>0</td>\n",
       "      <td>66272</td>\n",
       "      <td>14</td>\n",
       "      <td>46</td>\n",
       "      <td>0.00069</td>\n",
       "      <td>144</td>\n",
       "      <td>0.00217</td>\n",
       "      <td>0</td>\n",
       "      <td>0.00000</td>\n",
       "      <td>0.00286</td>\n",
       "    </tr>\n",
       "    <tr>\n",
       "      <th>6</th>\n",
       "      <td>5 BCE</td>\n",
       "      <td>date_avr</td>\n",
       "      <td>-4.5</td>\n",
       "      <td>558874</td>\n",
       "      <td>0</td>\n",
       "      <td>558874</td>\n",
       "      <td>35</td>\n",
       "      <td>432</td>\n",
       "      <td>0.00077</td>\n",
       "      <td>361</td>\n",
       "      <td>0.00065</td>\n",
       "      <td>9</td>\n",
       "      <td>0.00002</td>\n",
       "      <td>0.00144</td>\n",
       "    </tr>\n",
       "    <tr>\n",
       "      <th>7</th>\n",
       "      <td>5/4 BCE</td>\n",
       "      <td>date_avr</td>\n",
       "      <td>-4.0</td>\n",
       "      <td>1558696</td>\n",
       "      <td>0</td>\n",
       "      <td>1558696</td>\n",
       "      <td>197</td>\n",
       "      <td>1693</td>\n",
       "      <td>0.00109</td>\n",
       "      <td>787</td>\n",
       "      <td>0.00050</td>\n",
       "      <td>348</td>\n",
       "      <td>0.00022</td>\n",
       "      <td>0.00181</td>\n",
       "    </tr>\n",
       "    <tr>\n",
       "      <th>8</th>\n",
       "      <td>4 BCE</td>\n",
       "      <td>date_avr</td>\n",
       "      <td>-3.5</td>\n",
       "      <td>1305129</td>\n",
       "      <td>0</td>\n",
       "      <td>1305129</td>\n",
       "      <td>121</td>\n",
       "      <td>1754</td>\n",
       "      <td>0.00134</td>\n",
       "      <td>697</td>\n",
       "      <td>0.00053</td>\n",
       "      <td>179</td>\n",
       "      <td>0.00014</td>\n",
       "      <td>0.00201</td>\n",
       "    </tr>\n",
       "    <tr>\n",
       "      <th>9</th>\n",
       "      <td>4/3 BCE</td>\n",
       "      <td>date_avr</td>\n",
       "      <td>-3.0</td>\n",
       "      <td>213970</td>\n",
       "      <td>0</td>\n",
       "      <td>213970</td>\n",
       "      <td>28</td>\n",
       "      <td>73</td>\n",
       "      <td>0.00034</td>\n",
       "      <td>33</td>\n",
       "      <td>0.00015</td>\n",
       "      <td>4</td>\n",
       "      <td>0.00002</td>\n",
       "      <td>0.00051</td>\n",
       "    </tr>\n",
       "    <tr>\n",
       "      <th>10</th>\n",
       "      <td>3 BCE</td>\n",
       "      <td>date_avr</td>\n",
       "      <td>-2.5</td>\n",
       "      <td>530584</td>\n",
       "      <td>0</td>\n",
       "      <td>530584</td>\n",
       "      <td>27</td>\n",
       "      <td>10</td>\n",
       "      <td>0.00002</td>\n",
       "      <td>25</td>\n",
       "      <td>0.00005</td>\n",
       "      <td>13</td>\n",
       "      <td>0.00002</td>\n",
       "      <td>0.00009</td>\n",
       "    </tr>\n",
       "    <tr>\n",
       "      <th>11</th>\n",
       "      <td>3/2 BCE</td>\n",
       "      <td>date_avr</td>\n",
       "      <td>-2.0</td>\n",
       "      <td>388210</td>\n",
       "      <td>0</td>\n",
       "      <td>388210</td>\n",
       "      <td>2</td>\n",
       "      <td>141</td>\n",
       "      <td>0.00036</td>\n",
       "      <td>35</td>\n",
       "      <td>0.00009</td>\n",
       "      <td>2</td>\n",
       "      <td>0.00001</td>\n",
       "      <td>0.00046</td>\n",
       "    </tr>\n",
       "    <tr>\n",
       "      <th>12</th>\n",
       "      <td>2 BCE</td>\n",
       "      <td>date_avr</td>\n",
       "      <td>-1.5</td>\n",
       "      <td>63306</td>\n",
       "      <td>0</td>\n",
       "      <td>63306</td>\n",
       "      <td>11</td>\n",
       "      <td>3</td>\n",
       "      <td>0.00005</td>\n",
       "      <td>1</td>\n",
       "      <td>0.00002</td>\n",
       "      <td>1</td>\n",
       "      <td>0.00002</td>\n",
       "      <td>0.00009</td>\n",
       "    </tr>\n",
       "    <tr>\n",
       "      <th>13</th>\n",
       "      <td>2/1 BCE</td>\n",
       "      <td>date_avr</td>\n",
       "      <td>-1.0</td>\n",
       "      <td>116341</td>\n",
       "      <td>0</td>\n",
       "      <td>116341</td>\n",
       "      <td>5</td>\n",
       "      <td>67</td>\n",
       "      <td>0.00058</td>\n",
       "      <td>19</td>\n",
       "      <td>0.00016</td>\n",
       "      <td>9</td>\n",
       "      <td>0.00008</td>\n",
       "      <td>0.00082</td>\n",
       "    </tr>\n",
       "    <tr>\n",
       "      <th>14</th>\n",
       "      <td>1 BCE</td>\n",
       "      <td>date_avr</td>\n",
       "      <td>-0.5</td>\n",
       "      <td>617344</td>\n",
       "      <td>0</td>\n",
       "      <td>617344</td>\n",
       "      <td>23</td>\n",
       "      <td>487</td>\n",
       "      <td>0.00079</td>\n",
       "      <td>347</td>\n",
       "      <td>0.00056</td>\n",
       "      <td>27</td>\n",
       "      <td>0.00004</td>\n",
       "      <td>0.00139</td>\n",
       "    </tr>\n",
       "    <tr>\n",
       "      <th>15</th>\n",
       "      <td>1 BCE/1 CE</td>\n",
       "      <td>date_avr</td>\n",
       "      <td>0.0</td>\n",
       "      <td>1042928</td>\n",
       "      <td>0</td>\n",
       "      <td>1042928</td>\n",
       "      <td>34</td>\n",
       "      <td>404</td>\n",
       "      <td>0.00039</td>\n",
       "      <td>210</td>\n",
       "      <td>0.00020</td>\n",
       "      <td>163</td>\n",
       "      <td>0.00016</td>\n",
       "      <td>0.00075</td>\n",
       "    </tr>\n",
       "    <tr>\n",
       "      <th>16</th>\n",
       "      <td>1 CE</td>\n",
       "      <td>date_avr</td>\n",
       "      <td>0.5</td>\n",
       "      <td>1086004</td>\n",
       "      <td>152565</td>\n",
       "      <td>933439</td>\n",
       "      <td>58</td>\n",
       "      <td>526</td>\n",
       "      <td>0.00048</td>\n",
       "      <td>174</td>\n",
       "      <td>0.00016</td>\n",
       "      <td>167</td>\n",
       "      <td>0.00015</td>\n",
       "      <td>0.00079</td>\n",
       "    </tr>\n",
       "    <tr>\n",
       "      <th>17</th>\n",
       "      <td>1/2 CE</td>\n",
       "      <td>date_avr</td>\n",
       "      <td>1.0</td>\n",
       "      <td>1812367</td>\n",
       "      <td>18824</td>\n",
       "      <td>1793543</td>\n",
       "      <td>185</td>\n",
       "      <td>788</td>\n",
       "      <td>0.00043</td>\n",
       "      <td>736</td>\n",
       "      <td>0.00041</td>\n",
       "      <td>218</td>\n",
       "      <td>0.00012</td>\n",
       "      <td>0.00096</td>\n",
       "    </tr>\n",
       "    <tr>\n",
       "      <th>18</th>\n",
       "      <td>2 CE</td>\n",
       "      <td>date_avr</td>\n",
       "      <td>1.5</td>\n",
       "      <td>5237137</td>\n",
       "      <td>326693</td>\n",
       "      <td>4910444</td>\n",
       "      <td>311</td>\n",
       "      <td>1468</td>\n",
       "      <td>0.00028</td>\n",
       "      <td>727</td>\n",
       "      <td>0.00014</td>\n",
       "      <td>291</td>\n",
       "      <td>0.00006</td>\n",
       "      <td>0.00048</td>\n",
       "    </tr>\n",
       "    <tr>\n",
       "      <th>19</th>\n",
       "      <td>2/3 CE</td>\n",
       "      <td>date_avr</td>\n",
       "      <td>2.0</td>\n",
       "      <td>4067499</td>\n",
       "      <td>1392681</td>\n",
       "      <td>2674818</td>\n",
       "      <td>90</td>\n",
       "      <td>1666</td>\n",
       "      <td>0.00041</td>\n",
       "      <td>465</td>\n",
       "      <td>0.00011</td>\n",
       "      <td>848</td>\n",
       "      <td>0.00021</td>\n",
       "      <td>0.00073</td>\n",
       "    </tr>\n",
       "    <tr>\n",
       "      <th>20</th>\n",
       "      <td>3 CE</td>\n",
       "      <td>date_avr</td>\n",
       "      <td>2.5</td>\n",
       "      <td>796368</td>\n",
       "      <td>69987</td>\n",
       "      <td>726381</td>\n",
       "      <td>24</td>\n",
       "      <td>263</td>\n",
       "      <td>0.00033</td>\n",
       "      <td>152</td>\n",
       "      <td>0.00019</td>\n",
       "      <td>110</td>\n",
       "      <td>0.00014</td>\n",
       "      <td>0.00066</td>\n",
       "    </tr>\n",
       "    <tr>\n",
       "      <th>21</th>\n",
       "      <td>3/4 CE</td>\n",
       "      <td>date_avr</td>\n",
       "      <td>3.0</td>\n",
       "      <td>200303</td>\n",
       "      <td>2914</td>\n",
       "      <td>197389</td>\n",
       "      <td>17</td>\n",
       "      <td>65</td>\n",
       "      <td>0.00032</td>\n",
       "      <td>30</td>\n",
       "      <td>0.00015</td>\n",
       "      <td>47</td>\n",
       "      <td>0.00023</td>\n",
       "      <td>0.00070</td>\n",
       "    </tr>\n",
       "    <tr>\n",
       "      <th>22</th>\n",
       "      <td>4 CE</td>\n",
       "      <td>date_avr</td>\n",
       "      <td>3.5</td>\n",
       "      <td>2429279</td>\n",
       "      <td>1402378</td>\n",
       "      <td>1026901</td>\n",
       "      <td>61</td>\n",
       "      <td>811</td>\n",
       "      <td>0.00033</td>\n",
       "      <td>422</td>\n",
       "      <td>0.00017</td>\n",
       "      <td>319</td>\n",
       "      <td>0.00013</td>\n",
       "      <td>0.00063</td>\n",
       "    </tr>\n",
       "  </tbody>\n",
       "</table>\n",
       "</div>"
      ],
      "text/plain": [
       "   date_string    column  value  wordcount  wordcount_christian  \\\n",
       "0        8 BCE  date_avr   -7.5     199837                    0   \n",
       "1      8/7 BCE  date_avr   -7.0      16193                    0   \n",
       "2        7 BCE  date_avr   -6.5        144                    0   \n",
       "3      7/6 BCE  date_avr   -6.0       9316                    0   \n",
       "4        6 BCE  date_avr   -5.5      39849                    0   \n",
       "5      6/5 BCE  date_avr   -5.0      66272                    0   \n",
       "6        5 BCE  date_avr   -4.5     558874                    0   \n",
       "7      5/4 BCE  date_avr   -4.0    1558696                    0   \n",
       "8        4 BCE  date_avr   -3.5    1305129                    0   \n",
       "9      4/3 BCE  date_avr   -3.0     213970                    0   \n",
       "10       3 BCE  date_avr   -2.5     530584                    0   \n",
       "11     3/2 BCE  date_avr   -2.0     388210                    0   \n",
       "12       2 BCE  date_avr   -1.5      63306                    0   \n",
       "13     2/1 BCE  date_avr   -1.0     116341                    0   \n",
       "14       1 BCE  date_avr   -0.5     617344                    0   \n",
       "15  1 BCE/1 CE  date_avr    0.0    1042928                    0   \n",
       "16        1 CE  date_avr    0.5    1086004               152565   \n",
       "17      1/2 CE  date_avr    1.0    1812367                18824   \n",
       "18        2 CE  date_avr    1.5    5237137               326693   \n",
       "19      2/3 CE  date_avr    2.0    4067499              1392681   \n",
       "20        3 CE  date_avr    2.5     796368                69987   \n",
       "21      3/4 CE  date_avr    3.0     200303                 2914   \n",
       "22        4 CE  date_avr    3.5    2429279              1402378   \n",
       "\n",
       "    wordcount_pagan  doccount  δίκαιος  δίκαιος_weighted  δίκη  δίκη_weighted  \\\n",
       "0            199837         3       16           0.00008    15        0.00008   \n",
       "1             16193         3        8           0.00049    30        0.00185   \n",
       "2               144         1        0           0.00000     0        0.00000   \n",
       "3              9316         3        1           0.00011     2        0.00021   \n",
       "4             39849         2       23           0.00058    11        0.00028   \n",
       "5             66272        14       46           0.00069   144        0.00217   \n",
       "6            558874        35      432           0.00077   361        0.00065   \n",
       "7           1558696       197     1693           0.00109   787        0.00050   \n",
       "8           1305129       121     1754           0.00134   697        0.00053   \n",
       "9            213970        28       73           0.00034    33        0.00015   \n",
       "10           530584        27       10           0.00002    25        0.00005   \n",
       "11           388210         2      141           0.00036    35        0.00009   \n",
       "12            63306        11        3           0.00005     1        0.00002   \n",
       "13           116341         5       67           0.00058    19        0.00016   \n",
       "14           617344        23      487           0.00079   347        0.00056   \n",
       "15          1042928        34      404           0.00039   210        0.00020   \n",
       "16           933439        58      526           0.00048   174        0.00016   \n",
       "17          1793543       185      788           0.00043   736        0.00041   \n",
       "18          4910444       311     1468           0.00028   727        0.00014   \n",
       "19          2674818        90     1666           0.00041   465        0.00011   \n",
       "20           726381        24      263           0.00033   152        0.00019   \n",
       "21           197389        17       65           0.00032    30        0.00015   \n",
       "22          1026901        61      811           0.00033   422        0.00017   \n",
       "\n",
       "    δικαιοσύνη  δικαιοσύνη_weighted  weighted_sum  \n",
       "0            0              0.00000       0.00016  \n",
       "1            0              0.00000       0.00234  \n",
       "2            0              0.00000       0.00000  \n",
       "3            0              0.00000       0.00032  \n",
       "4            2              0.00005       0.00091  \n",
       "5            0              0.00000       0.00286  \n",
       "6            9              0.00002       0.00144  \n",
       "7          348              0.00022       0.00181  \n",
       "8          179              0.00014       0.00201  \n",
       "9            4              0.00002       0.00051  \n",
       "10          13              0.00002       0.00009  \n",
       "11           2              0.00001       0.00046  \n",
       "12           1              0.00002       0.00009  \n",
       "13           9              0.00008       0.00082  \n",
       "14          27              0.00004       0.00139  \n",
       "15         163              0.00016       0.00075  \n",
       "16         167              0.00015       0.00079  \n",
       "17         218              0.00012       0.00096  \n",
       "18         291              0.00006       0.00048  \n",
       "19         848              0.00021       0.00073  \n",
       "20         110              0.00014       0.00066  \n",
       "21          47              0.00023       0.00070  \n",
       "22         319              0.00013       0.00063  "
      ]
     },
     "execution_count": 290,
     "metadata": {},
     "output_type": "execute_result"
    }
   ],
   "source": [
    "subselections_df = pd.DataFrame(subselections)\n",
    "subselections_df"
   ]
  },
  {
   "cell_type": "code",
   "execution_count": 291,
   "metadata": {},
   "outputs": [
    {
     "name": "stderr",
     "output_type": "stream",
     "text": [
      "/home/kasev/.local/lib/python3.6/site-packages/ipykernel_launcher.py:9: UserWarning: FixedFormatter should only be used together with FixedLocator\n",
      "  if __name__ == '__main__':\n"
     ]
    },
    {
     "data": {
      "text/plain": [
       "Text(0.5, 1.0, 'Corpus overview')"
      ]
     },
     "execution_count": 291,
     "metadata": {},
     "output_type": "execute_result"
    },
    {
     "data": {
      "image/png": "[encoded data removed]",
      "text/plain": [
       "<Figure size 864x432 with 1 Axes>"
      ]
     },
     "metadata": {
      "needs_background": "light"
     },
     "output_type": "display_data"
    }
   ],
   "source": [
    "fig, ax = plt.subplots(figsize=(12, 6), tight_layout=True)\n",
    "#subselections_df = subselections_df.iloc[::-1]\n",
    "ax.bar(subselections_df[\"date_string\"], subselections_df[\"wordcount_christian\"], color=\"tab:orange\", label=\"Christian\")\n",
    "ax.bar(subselections_df[\"date_string\"], subselections_df[\"wordcount_pagan\"], bottom=subselections_df[\"wordcount_christian\"], label=\"non-Christian\", color=\"tab:blue\")\n",
    "\n",
    "\n",
    "ax.set_yticks(range(1000000,6000000, 1000000))\n",
    "ax.set_yticklabels(str(n) + \"M\" for n in range(1,6))\n",
    "ax.set_xticklabels(subselections_df[\"date_string\"], rotation=90)\n",
    "ax.legend()\n",
    "plt.title(\"Corpus overview\")"
   ]
  },
  {
   "cell_type": "code",
   "execution_count": 292,
   "metadata": {},
   "outputs": [
    {
     "name": "stdout",
     "output_type": "stream",
     "text": [
      "A file with the same name (\"corpus_overview.png\") already exists in this location.\n",
      "Press Enter to overwrite it or choose different path and filename: \n",
      "Your <class 'matplotlib.figure.Figure'> object has been succefully written as \"https://sciencedata.dk/files/SDAM_root/SDAM_data/ECCE_public/corpus_overview.png\"\n"
     ]
    }
   ],
   "source": [
    "sddk.write_file(\"SDAM_data/ECCE_public/corpus_overview.png\", fig, conf)"
   ]
  },
  {
   "cell_type": "code",
   "execution_count": 293,
   "metadata": {},
   "outputs": [],
   "source": [
    "def plot_ratios(corpus_df, label_col, plot_title):\n",
    "  corpus_df = corpus_df[::-1]\n",
    "  data = {}\n",
    "  for n in range(len(corpus_df)):\n",
    "    label = str(corpus_df.iloc[n][label_col]) + \" (\" + str(corpus_df.iloc[n][\"doccount\"]) + \" docs; \" + str(corpus_df.iloc[n][\"wordcount\"]) + \" words)\"\n",
    "    counts = corpus_df.iloc[n][words].tolist()\n",
    "    values = corpus_df.iloc[n][[word + \"_weighted\" for word in words]].tolist()\n",
    "    values = [0 if math.isnan(x) else x for x in values]\n",
    "    ratios = [val / corpus_df.iloc[n][\"weighted_sum\"] * 100 for val in  values] # if val > 0]\n",
    "    ratios = [0 if math.isnan(x) else x for x in ratios]\n",
    "    data[label] = (counts, ratios)\n",
    "\n",
    "  labels = list(data.keys())\n",
    "  counts = np.array([el[0] for el in list(data.values())])\n",
    "  ratios = np.array([el[1] for el in list(data.values())])\n",
    "  ratios_cum = ratios.cumsum(axis=1)\n",
    "\n",
    "  category_colors = [\"tab:blue\", \"tab:green\", \"tab:red\"]\n",
    "\n",
    "  terms = words\n",
    "\n",
    "\n",
    "  fig, ax = plt.subplots(figsize=(12, len(corpus_df)/4 + 1), tight_layout=True)\n",
    "  ax.invert_yaxis()\n",
    "  ax.xaxis.set_visible(False)\n",
    "\n",
    "  ax.set_xlim(0, np.sum(ratios, axis=1).max())\n",
    "  ax.set_ylim(-0.5, len(corpus_df) - 0.5)\n",
    "\n",
    "  for i, (term, color) in enumerate(zip(terms, category_colors)):\n",
    "          widths = ratios[:, i]\n",
    "          texts = counts[:, i]\n",
    "          starts = ratios_cum[:, i] - widths\n",
    "          ax.barh(labels, widths, left=starts,\n",
    "                  label=term, color=color)\n",
    "          xcenters = starts + widths / 2\n",
    "          for y, (x, c) in enumerate(zip(xcenters, texts)):\n",
    "              if int(c) > 0:\n",
    "                ax.text(x, y, str(int(c)), ha='center', va='center', color='white')\n",
    "              else:\n",
    "                ax.text(x, y, \"\", ha='center', va='center', color='white')\n",
    "  ax.legend(ncol=len(terms), bbox_to_anchor=(0, 1), loc='lower left', fontsize='small')\n",
    "  plt.title(plot_title)\n",
    "  return fig"
   ]
  },
  {
   "cell_type": "code",
   "execution_count": 294,
   "metadata": {},
   "outputs": [
    {
     "name": "stderr",
     "output_type": "stream",
     "text": [
      "/home/kasev/.local/lib/python3.6/site-packages/ipykernel_launcher.py:9: RuntimeWarning: invalid value encountered in double_scalars\n",
      "  if __name__ == '__main__':\n"
     ]
    },
    {
     "data": {
      "image/png": "[encoded data removed]",
      "text/plain": [
       "<Figure size 864x486 with 1 Axes>"
      ]
     },
     "metadata": {
      "needs_background": "light"
     },
     "output_type": "display_data"
    }
   ],
   "source": [
    "fig = plot_ratios(subselections_df, \"date_string\", \"Diachronical overview - ratios\")"
   ]
  },
  {
   "cell_type": "code",
   "execution_count": 295,
   "metadata": {},
   "outputs": [
    {
     "name": "stdout",
     "output_type": "stream",
     "text": [
      "A file with the same name (\"ratios_diachronical.png\") already exists in this location.\n",
      "Press Enter to overwrite it or choose different path and filename: \n",
      "Your <class 'matplotlib.figure.Figure'> object has been succefully written as \"https://sciencedata.dk/files/SDAM_root/SDAM_data/ECCE_public/ratios_diachronical.png\"\n"
     ]
    }
   ],
   "source": [
    "sddk.write_file(\"SDAM_data/ECCE_public/ratios_diachronical.png\", fig, conf)"
   ]
  },
  {
   "cell_type": "markdown",
   "metadata": {},
   "source": [
    "# Overview based on subcorpora"
   ]
  },
  {
   "cell_type": "code",
   "execution_count": 296,
   "metadata": {},
   "outputs": [],
   "source": [
    "subcorpora_dict = {\n",
    "    \"Pagan (8th c. BCE - 4th c. CE)\" : AGT[(AGT[\"provenience\"]==\"pagan\") & (AGT[\"date_avr\"] < 4)],\n",
    "    \"Pagan (1st - 4th c. CE)\" : AGT[(AGT[\"date_avr\"].between(0, 4)) & (AGT[\"provenience\"]==\"pagan\")],\n",
    "    \"Septuagint\" : AGT[AGT[\"author_id\"]==\"tlg0527\"],\n",
    "    \"Philo of Alexandria\" : AGT[AGT[\"author_id\"]==\"tlg0018\"],\n",
    "    \"Titus Flavius Josephus\" : AGT[AGT[\"author_id\"]==\"tlg0526\"],\n",
    "    \"Paul of Tarsus\" : AGT[AGT[\"author_id\"]==\"tlg0031paul\"],\n",
    "    \"New Testament\" : AGT[AGT[\"author_id\"].str.startswith(\"tlg0031\")],\n",
    "    \"Christian (1st - 4th c. CE)\" : AGT[(AGT[\"date_avr\"] < 4) & (AGT[\"provenience\"]==\"christian\")]}"
   ]
  },
  {
   "cell_type": "code",
   "execution_count": 297,
   "metadata": {},
   "outputs": [],
   "source": [
    "subselections = []\n",
    "for key in subcorpora_dict.keys():\n",
    "    subselection = subcorpora_dict[key]\n",
    "    subselection_dict = {}\n",
    "    wordcount = subselection[\"wordcount\"].sum()\n",
    "    doccount = len(subselection)\n",
    "    subselection_dict.update({\"label\" : key, \"wordcount\" : wordcount, \"doccount\" : doccount})\n",
    "    subselection_dict.update(count_words_in_df_column(subselection[\"lemmata\"], words, wordcount))\n",
    "    subselections.append(subselection_dict)\n"
   ]
  },
  {
   "cell_type": "code",
   "execution_count": 298,
   "metadata": {},
   "outputs": [
    {
     "data": {
      "text/html": [
       "<div>\n",
       "<style scoped>\n",
       "    .dataframe tbody tr th:only-of-type {\n",
       "        vertical-align: middle;\n",
       "    }\n",
       "\n",
       "    .dataframe tbody tr th {\n",
       "        vertical-align: top;\n",
       "    }\n",
       "\n",
       "    .dataframe thead th {\n",
       "        text-align: right;\n",
       "    }\n",
       "</style>\n",
       "<table border=\"1\" class=\"dataframe\">\n",
       "  <thead>\n",
       "    <tr style=\"text-align: right;\">\n",
       "      <th></th>\n",
       "      <th>label</th>\n",
       "      <th>wordcount</th>\n",
       "      <th>doccount</th>\n",
       "      <th>δίκαιος</th>\n",
       "      <th>δίκαιος_weighted</th>\n",
       "      <th>δίκη</th>\n",
       "      <th>δίκη_weighted</th>\n",
       "      <th>δικαιοσύνη</th>\n",
       "      <th>δικαιοσύνη_weighted</th>\n",
       "      <th>weighted_sum</th>\n",
       "    </tr>\n",
       "  </thead>\n",
       "  <tbody>\n",
       "    <tr>\n",
       "      <th>0</th>\n",
       "      <td>Pagan (8th c. BCE - 4th c. CE)</td>\n",
       "      <td>13474895</td>\n",
       "      <td>774</td>\n",
       "      <td>6078</td>\n",
       "      <td>0.00045</td>\n",
       "      <td>3465</td>\n",
       "      <td>0.00026</td>\n",
       "      <td>1149</td>\n",
       "      <td>0.00009</td>\n",
       "      <td>0.00080</td>\n",
       "    </tr>\n",
       "    <tr>\n",
       "      <th>1</th>\n",
       "      <td>Pagan (1st - 4th c. CE)</td>\n",
       "      <td>9172125</td>\n",
       "      <td>411</td>\n",
       "      <td>2239</td>\n",
       "      <td>0.00024</td>\n",
       "      <td>1485</td>\n",
       "      <td>0.00016</td>\n",
       "      <td>615</td>\n",
       "      <td>0.00007</td>\n",
       "      <td>0.00047</td>\n",
       "    </tr>\n",
       "    <tr>\n",
       "      <th>2</th>\n",
       "      <td>Septuagint</td>\n",
       "      <td>872013</td>\n",
       "      <td>55</td>\n",
       "      <td>447</td>\n",
       "      <td>0.00051</td>\n",
       "      <td>45</td>\n",
       "      <td>0.00005</td>\n",
       "      <td>342</td>\n",
       "      <td>0.00039</td>\n",
       "      <td>0.00095</td>\n",
       "    </tr>\n",
       "    <tr>\n",
       "      <th>3</th>\n",
       "      <td>Philo of Alexandria</td>\n",
       "      <td>738272</td>\n",
       "      <td>31</td>\n",
       "      <td>370</td>\n",
       "      <td>0.00050</td>\n",
       "      <td>171</td>\n",
       "      <td>0.00023</td>\n",
       "      <td>157</td>\n",
       "      <td>0.00021</td>\n",
       "      <td>0.00094</td>\n",
       "    </tr>\n",
       "    <tr>\n",
       "      <th>4</th>\n",
       "      <td>Titus Flavius Josephus</td>\n",
       "      <td>469581</td>\n",
       "      <td>4</td>\n",
       "      <td>354</td>\n",
       "      <td>0.00075</td>\n",
       "      <td>157</td>\n",
       "      <td>0.00033</td>\n",
       "      <td>39</td>\n",
       "      <td>0.00008</td>\n",
       "      <td>0.00116</td>\n",
       "    </tr>\n",
       "    <tr>\n",
       "      <th>5</th>\n",
       "      <td>Paul of Tarsus</td>\n",
       "      <td>24066</td>\n",
       "      <td>7</td>\n",
       "      <td>14</td>\n",
       "      <td>0.00058</td>\n",
       "      <td>0</td>\n",
       "      <td>0.00000</td>\n",
       "      <td>48</td>\n",
       "      <td>0.00199</td>\n",
       "      <td>0.00257</td>\n",
       "    </tr>\n",
       "    <tr>\n",
       "      <th>6</th>\n",
       "      <td>New Testament</td>\n",
       "      <td>137788</td>\n",
       "      <td>27</td>\n",
       "      <td>82</td>\n",
       "      <td>0.00060</td>\n",
       "      <td>3</td>\n",
       "      <td>0.00002</td>\n",
       "      <td>90</td>\n",
       "      <td>0.00065</td>\n",
       "      <td>0.00127</td>\n",
       "    </tr>\n",
       "    <tr>\n",
       "      <th>7</th>\n",
       "      <td>Christian (1st - 4th c. CE)</td>\n",
       "      <td>3366042</td>\n",
       "      <td>131</td>\n",
       "      <td>1917</td>\n",
       "      <td>0.00057</td>\n",
       "      <td>539</td>\n",
       "      <td>0.00016</td>\n",
       "      <td>1093</td>\n",
       "      <td>0.00032</td>\n",
       "      <td>0.00105</td>\n",
       "    </tr>\n",
       "  </tbody>\n",
       "</table>\n",
       "</div>"
      ],
      "text/plain": [
       "                            label  wordcount  doccount  δίκαιος  \\\n",
       "0  Pagan (8th c. BCE - 4th c. CE)   13474895       774     6078   \n",
       "1         Pagan (1st - 4th c. CE)    9172125       411     2239   \n",
       "2                      Septuagint     872013        55      447   \n",
       "3             Philo of Alexandria     738272        31      370   \n",
       "4          Titus Flavius Josephus     469581         4      354   \n",
       "5                  Paul of Tarsus      24066         7       14   \n",
       "6                   New Testament     137788        27       82   \n",
       "7     Christian (1st - 4th c. CE)    3366042       131     1917   \n",
       "\n",
       "   δίκαιος_weighted  δίκη  δίκη_weighted  δικαιοσύνη  δικαιοσύνη_weighted  \\\n",
       "0           0.00045  3465        0.00026        1149              0.00009   \n",
       "1           0.00024  1485        0.00016         615              0.00007   \n",
       "2           0.00051    45        0.00005         342              0.00039   \n",
       "3           0.00050   171        0.00023         157              0.00021   \n",
       "4           0.00075   157        0.00033          39              0.00008   \n",
       "5           0.00058     0        0.00000          48              0.00199   \n",
       "6           0.00060     3        0.00002          90              0.00065   \n",
       "7           0.00057   539        0.00016        1093              0.00032   \n",
       "\n",
       "   weighted_sum  \n",
       "0       0.00080  \n",
       "1       0.00047  \n",
       "2       0.00095  \n",
       "3       0.00094  \n",
       "4       0.00116  \n",
       "5       0.00257  \n",
       "6       0.00127  \n",
       "7       0.00105  "
      ]
     },
     "execution_count": 298,
     "metadata": {},
     "output_type": "execute_result"
    }
   ],
   "source": [
    "subselections_df = pd.DataFrame(subselections)\n",
    "subselections_df"
   ]
  },
  {
   "cell_type": "code",
   "execution_count": 299,
   "metadata": {},
   "outputs": [
    {
     "data": {
      "image/png": "[encoded data removed]",
      "text/plain": [
       "<Figure size 864x216 with 1 Axes>"
      ]
     },
     "metadata": {
      "needs_background": "light"
     },
     "output_type": "display_data"
    }
   ],
   "source": [
    "fig = plot_ratios(subselections_df, \"label\", \"Subcorpora - ratios\")"
   ]
  },
  {
   "cell_type": "code",
   "execution_count": 300,
   "metadata": {},
   "outputs": [
    {
     "name": "stdout",
     "output_type": "stream",
     "text": [
      "A file with the same name (\"subcorpora_ratios.png\") already exists in this location.\n",
      "Press Enter to overwrite it or choose different path and filename: \n",
      "Your <class 'matplotlib.figure.Figure'> object has been succefully written as \"https://sciencedata.dk/files/SDAM_root/SDAM_data/ECCE_public/subcorpora_ratios.png\"\n"
     ]
    }
   ],
   "source": [
    "sddk.write_file(\"SDAM_data/ECCE_public/subcorpora_ratios.png\", fig, conf)"
   ]
  },
  {
   "cell_type": "code",
   "execution_count": 301,
   "metadata": {},
   "outputs": [
    {
     "data": {
      "text/plain": [
       "<matplotlib.legend.Legend at 0x7f332af3fcf8>"
      ]
     },
     "execution_count": 301,
     "metadata": {},
     "output_type": "execute_result"
    },
    {
     "data": {
      "image/png": "[encoded data removed]",
      "text/plain": [
       "<Figure size 864x288 with 1 Axes>"
      ]
     },
     "metadata": {
      "needs_background": "light"
     },
     "output_type": "display_data"
    }
   ],
   "source": [
    "subselections_df = subselections_df.iloc[::-1]\n",
    "\n",
    "fig, ax = plt.subplots(figsize=(12, 4), tight_layout=True)\n",
    "\n",
    "y = np.arange(len(subselections_df))  # the label locations\n",
    "width = 0.2  # the width of the bars\n",
    "\n",
    "bar_location = 0\n",
    "for keyterm, color in [(\"δίκαιος_weighted\", \"tab:blue\"), (\"δίκη_weighted\", \"tab:green\"), (\"δικαιοσύνη_weighted\", \"tab:red\")]:\n",
    "  #coloring = subselections_df[keyterm + \"_weighted\"] / subselections_df[\"weighted_sum\"].max()\n",
    "  ax.barh(y + 0.3 - bar_location, subselections_df[keyterm], width, color=color, label=keyterm)\n",
    "  bar_location = bar_location + 0.2\n",
    "#ax.barh(y, wordcounts, width * 4, color=\"none\", edgecolor=\"black\")\n",
    "\n",
    "# Add some text for labels, title and custom x-axis tick labels, etc.\n",
    "ax.set_title(\"Subcorpora - frequencies\")\n",
    "\n",
    "ax.set_xlabel(\"Frequency\")\n",
    "#ax1.set_ylabel(\"documents\")\n",
    "ax.set_yticks(y)\n",
    "ax.set_yticklabels(subselections_df[\"label\"])\n",
    "\n",
    "plt.legend()\n"
   ]
  },
  {
   "cell_type": "code",
   "execution_count": 302,
   "metadata": {},
   "outputs": [
    {
     "name": "stdout",
     "output_type": "stream",
     "text": [
      "A file with the same name (\"subcorpora_overview.png\") already exists in this location.\n",
      "Press Enter to overwrite it or choose different path and filename: \n",
      "Your <class 'matplotlib.figure.Figure'> object has been succefully written as \"https://sciencedata.dk/files/SDAM_root/SDAM_data/ECCE_public/subcorpora_overview.png\"\n"
     ]
    }
   ],
   "source": [
    "sddk.write_file(\"SDAM_data/ECCE_public/subcorpora_overview.png\", fig, conf)"
   ]
  },
  {
   "cell_type": "markdown",
   "metadata": {},
   "source": [
    "# PHI overview"
   ]
  },
  {
   "cell_type": "code",
   "execution_count": 303,
   "metadata": {},
   "outputs": [
    {
     "data": {
      "text/html": [
       "<div>\n",
       "<style scoped>\n",
       "    .dataframe tbody tr th:only-of-type {\n",
       "        vertical-align: middle;\n",
       "    }\n",
       "\n",
       "    .dataframe tbody tr th {\n",
       "        vertical-align: top;\n",
       "    }\n",
       "\n",
       "    .dataframe thead th {\n",
       "        text-align: right;\n",
       "    }\n",
       "</style>\n",
       "<table border=\"1\" class=\"dataframe\">\n",
       "  <thead>\n",
       "    <tr style=\"text-align: right;\">\n",
       "      <th></th>\n",
       "      <th>URL</th>\n",
       "      <th>Book</th>\n",
       "      <th>Text</th>\n",
       "      <th>hdr1</th>\n",
       "      <th>hdr2</th>\n",
       "      <th>tildeinfo</th>\n",
       "      <th>note</th>\n",
       "      <th>lines</th>\n",
       "      <th>metadata</th>\n",
       "      <th>data</th>\n",
       "      <th>...</th>\n",
       "      <th>raw_date</th>\n",
       "      <th>dating_dict</th>\n",
       "      <th>not_before</th>\n",
       "      <th>not_after</th>\n",
       "      <th>or</th>\n",
       "      <th>date_tags</th>\n",
       "      <th>certainty</th>\n",
       "      <th>link</th>\n",
       "      <th>lemmata</th>\n",
       "      <th>string_normalized</th>\n",
       "    </tr>\n",
       "  </thead>\n",
       "  <tbody>\n",
       "    <tr>\n",
       "      <th>0</th>\n",
       "      <td>https://epigraphy.packhum.org/text/1</td>\n",
       "      <td>IG I³</td>\n",
       "      <td>1</td>\n",
       "      <td>Regions\\n\\nAttica (IG I-III)Attica</td>\n",
       "      <td>None</td>\n",
       "      <td>Att. — Ath.: Akr. — stoich. 35 — c. 510-500 a....</td>\n",
       "      <td>None</td>\n",
       "      <td>12.0</td>\n",
       "      <td>\\n1\\n\\n\\n\\n\\n5\\n\\n\\n\\n\\n\\n10\\n\\n\\n</td>\n",
       "      <td>ἔδοχσεν το͂ι δέμοι· τ̣[ὸς ἐ Σ]αλαμ̣[ῖνι κλερόχ...</td>\n",
       "      <td>...</td>\n",
       "      <td>c. 510-500 a.</td>\n",
       "      <td>{'or': None, 'not_before': -511, 'not_after': ...</td>\n",
       "      <td>-511.0</td>\n",
       "      <td>-499.0</td>\n",
       "      <td>None</td>\n",
       "      <td>[range, phase, ca]</td>\n",
       "      <td>None</td>\n",
       "      <td>None</td>\n",
       "      <td>[ἔδοχσεν, τοῖος, δέμοι, τός, Σαλαμίς, κλερόχος...</td>\n",
       "      <td>ἔδοχσεν το͂ι δέμοι τὸς ἐ Σαλαμῖνι κλερόχος οἰκ...</td>\n",
       "    </tr>\n",
       "    <tr>\n",
       "      <th>1</th>\n",
       "      <td>https://epigraphy.packhum.org/text/2</td>\n",
       "      <td>IG I³</td>\n",
       "      <td>2</td>\n",
       "      <td>Regions\\n\\nAttica (IG I-III)Attica</td>\n",
       "      <td>None</td>\n",
       "      <td>Att. — non-stoich. — c. 500 a.</td>\n",
       "      <td>None</td>\n",
       "      <td>14.0</td>\n",
       "      <td>\\n1\\n\\n\\n\\n\\n5\\n\\n\\n\\n\\n\\n10\\n\\n\\n\\n\\n</td>\n",
       "      <td>[․․8-9․․․]ν̣ βολ — — — — — — — — — —\\n[․6-7․․]...</td>\n",
       "      <td>...</td>\n",
       "      <td>c. 500 a.</td>\n",
       "      <td>{'or': None, 'not_before': -505, 'not_after': ...</td>\n",
       "      <td>-505.0</td>\n",
       "      <td>-495.0</td>\n",
       "      <td>None</td>\n",
       "      <td>[exact, phase, ca]</td>\n",
       "      <td>None</td>\n",
       "      <td>None</td>\n",
       "      <td>[βολ, ℎεκον, θεός, γνοσθει, ἀτεχνος, μεδέ, ℎαμ...</td>\n",
       "      <td>ν βολ α ℎεκον σιον γνοσθε͂ι δὲ ν ἀτεχνος μὲ π ...</td>\n",
       "    </tr>\n",
       "    <tr>\n",
       "      <th>2</th>\n",
       "      <td>https://epigraphy.packhum.org/text/3</td>\n",
       "      <td>IG I³</td>\n",
       "      <td>3</td>\n",
       "      <td>Regions\\n\\nAttica (IG I-III)Attica</td>\n",
       "      <td>None</td>\n",
       "      <td>Att. — stoich. 21 — 490-480 a.</td>\n",
       "      <td>None</td>\n",
       "      <td>13.0</td>\n",
       "      <td>\\n1\\n\\n\\n\\n\\n5\\n\\n\\n\\n\\n\\n10\\n\\n\\n\\n</td>\n",
       "      <td>[․]αρ[․․․․]ι ℎερακλειο[․․5․․]\\n[․]αρ̣ο#⁷[․] τι...</td>\n",
       "      <td>...</td>\n",
       "      <td>490-480 a.</td>\n",
       "      <td>{'or': None, 'not_before': -490, 'not_after': ...</td>\n",
       "      <td>-490.0</td>\n",
       "      <td>-480.0</td>\n",
       "      <td>None</td>\n",
       "      <td>[range]</td>\n",
       "      <td>None</td>\n",
       "      <td>None</td>\n",
       "      <td>[ἀρίς, ℎερακλειο, ἀρόω, τίθημι, τός, ἀθλοθέτης...</td>\n",
       "      <td>αρι ℎερακλειο αρο τιθέναι τὸς ἀθλοθέτας τριάκο...</td>\n",
       "    </tr>\n",
       "    <tr>\n",
       "      <th>3</th>\n",
       "      <td>https://epigraphy.packhum.org/text/4</td>\n",
       "      <td>IG I³</td>\n",
       "      <td>4</td>\n",
       "      <td>Regions\\n\\nAttica (IG I-III)Attica</td>\n",
       "      <td>None</td>\n",
       "      <td>Att. — stoich. 38 — 485/4 a.</td>\n",
       "      <td>None</td>\n",
       "      <td>58.0</td>\n",
       "      <td>\\nface A.1\\n\\n\\n\\n\\n5\\n\\n\\n\\n\\n\\n10\\n\\n\\n\\n\\n\\...</td>\n",
       "      <td>[․․․․․․․․․․․․․․․․․․38․․․․․․․․․․․․․․․․․․]\\n[․․․...</td>\n",
       "      <td>...</td>\n",
       "      <td>485/4 a.</td>\n",
       "      <td>{'or': None, 'not_before': -485, 'not_after': ...</td>\n",
       "      <td>-485.0</td>\n",
       "      <td>-484.0</td>\n",
       "      <td>None</td>\n",
       "      <td>[range]</td>\n",
       "      <td>None</td>\n",
       "      <td>None</td>\n",
       "      <td>[ἄναξ, φροράν, πεντέκοντα, δραχμή, ἵημι, πρᾶχσ...</td>\n",
       "      <td>ἐὰν δέ τις αν ἒ φρορὰν μὲ πεντέκοντα δραχμὰς τ...</td>\n",
       "    </tr>\n",
       "    <tr>\n",
       "      <th>4</th>\n",
       "      <td>https://epigraphy.packhum.org/text/5</td>\n",
       "      <td>IG I³</td>\n",
       "      <td>5</td>\n",
       "      <td>Regions\\n\\nAttica (IG I-III)Attica</td>\n",
       "      <td>None</td>\n",
       "      <td>Att. — c. 500 a.\\n\\nSee also:\\nI.Eleusis 13</td>\n",
       "      <td>None</td>\n",
       "      <td>6.0</td>\n",
       "      <td>\\n1\\n\\n\\n\\n \\n5\\n\\n</td>\n",
       "      <td>[ἔδοχσε]ν [⋮ τε͂ι βολε͂ι] ⋮ καὶ [τ]ο͂ι δέμοι ⋮...</td>\n",
       "      <td>...</td>\n",
       "      <td>c. 500 a.</td>\n",
       "      <td>{'or': None, 'not_before': -505, 'not_after': ...</td>\n",
       "      <td>-505.0</td>\n",
       "      <td>-495.0</td>\n",
       "      <td>None</td>\n",
       "      <td>[exact, phase, ca]</td>\n",
       "      <td>None</td>\n",
       "      <td>None</td>\n",
       "      <td>[ἔδοχσεν, τει, βολει, τοῖος, δέμοι, ℎότε, παρα...</td>\n",
       "      <td>ἔδοχσεν τε͂ι βολε͂ι καὶ το͂ι δέμοι ℎότε Παραιβ...</td>\n",
       "    </tr>\n",
       "  </tbody>\n",
       "</table>\n",
       "<p>5 rows × 27 columns</p>\n",
       "</div>"
      ],
      "text/plain": [
       "                                    URL   Book Text  \\\n",
       "0  https://epigraphy.packhum.org/text/1  IG I³    1   \n",
       "1  https://epigraphy.packhum.org/text/2  IG I³    2   \n",
       "2  https://epigraphy.packhum.org/text/3  IG I³    3   \n",
       "3  https://epigraphy.packhum.org/text/4  IG I³    4   \n",
       "4  https://epigraphy.packhum.org/text/5  IG I³    5   \n",
       "\n",
       "                                 hdr1  hdr2  \\\n",
       "0  Regions\\n\\nAttica (IG I-III)Attica  None   \n",
       "1  Regions\\n\\nAttica (IG I-III)Attica  None   \n",
       "2  Regions\\n\\nAttica (IG I-III)Attica  None   \n",
       "3  Regions\\n\\nAttica (IG I-III)Attica  None   \n",
       "4  Regions\\n\\nAttica (IG I-III)Attica  None   \n",
       "\n",
       "                                           tildeinfo  note  lines  \\\n",
       "0  Att. — Ath.: Akr. — stoich. 35 — c. 510-500 a....  None   12.0   \n",
       "1                     Att. — non-stoich. — c. 500 a.  None   14.0   \n",
       "2                     Att. — stoich. 21 — 490-480 a.  None   13.0   \n",
       "3                       Att. — stoich. 38 — 485/4 a.  None   58.0   \n",
       "4        Att. — c. 500 a.\\n\\nSee also:\\nI.Eleusis 13  None    6.0   \n",
       "\n",
       "                                            metadata  \\\n",
       "0                 \\n1\\n\\n\\n\\n\\n5\\n\\n\\n\\n\\n\\n10\\n\\n\\n   \n",
       "1             \\n1\\n\\n\\n\\n\\n5\\n\\n\\n\\n\\n\\n10\\n\\n\\n\\n\\n   \n",
       "2               \\n1\\n\\n\\n\\n\\n5\\n\\n\\n\\n\\n\\n10\\n\\n\\n\\n   \n",
       "3  \\nface A.1\\n\\n\\n\\n\\n5\\n\\n\\n\\n\\n\\n10\\n\\n\\n\\n\\n\\...   \n",
       "4                                \\n1\\n\\n\\n\\n \\n5\\n\\n   \n",
       "\n",
       "                                                data  ...        raw_date  \\\n",
       "0  ἔδοχσεν το͂ι δέμοι· τ̣[ὸς ἐ Σ]αλαμ̣[ῖνι κλερόχ...  ...  c. 510-500 a.    \n",
       "1  [․․8-9․․․]ν̣ βολ — — — — — — — — — —\\n[․6-7․․]...  ...       c. 500 a.   \n",
       "2  [․]αρ[․․․․]ι ℎερακλειο[․․5․․]\\n[․]αρ̣ο#⁷[․] τι...  ...      490-480 a.   \n",
       "3  [․․․․․․․․․․․․․․․․․․38․․․․․․․․․․․․․․․․․․]\\n[․․․...  ...        485/4 a.   \n",
       "4  [ἔδοχσε]ν [⋮ τε͂ι βολε͂ι] ⋮ καὶ [τ]ο͂ι δέμοι ⋮...  ...       c. 500 a.   \n",
       "\n",
       "                                         dating_dict not_before not_after  \\\n",
       "0  {'or': None, 'not_before': -511, 'not_after': ...     -511.0    -499.0   \n",
       "1  {'or': None, 'not_before': -505, 'not_after': ...     -505.0    -495.0   \n",
       "2  {'or': None, 'not_before': -490, 'not_after': ...     -490.0    -480.0   \n",
       "3  {'or': None, 'not_before': -485, 'not_after': ...     -485.0    -484.0   \n",
       "4  {'or': None, 'not_before': -505, 'not_after': ...     -505.0    -495.0   \n",
       "\n",
       "     or           date_tags certainty  link  \\\n",
       "0  None  [range, phase, ca]      None  None   \n",
       "1  None  [exact, phase, ca]      None  None   \n",
       "2  None             [range]      None  None   \n",
       "3  None             [range]      None  None   \n",
       "4  None  [exact, phase, ca]      None  None   \n",
       "\n",
       "                                             lemmata  \\\n",
       "0  [ἔδοχσεν, τοῖος, δέμοι, τός, Σαλαμίς, κλερόχος...   \n",
       "1  [βολ, ℎεκον, θεός, γνοσθει, ἀτεχνος, μεδέ, ℎαμ...   \n",
       "2  [ἀρίς, ℎερακλειο, ἀρόω, τίθημι, τός, ἀθλοθέτης...   \n",
       "3  [ἄναξ, φροράν, πεντέκοντα, δραχμή, ἵημι, πρᾶχσ...   \n",
       "4  [ἔδοχσεν, τει, βολει, τοῖος, δέμοι, ℎότε, παρα...   \n",
       "\n",
       "                                   string_normalized  \n",
       "0  ἔδοχσεν το͂ι δέμοι τὸς ἐ Σαλαμῖνι κλερόχος οἰκ...  \n",
       "1  ν βολ α ℎεκον σιον γνοσθε͂ι δὲ ν ἀτεχνος μὲ π ...  \n",
       "2  αρι ℎερακλειο αρο τιθέναι τὸς ἀθλοθέτας τριάκο...  \n",
       "3  ἐὰν δέ τις αν ἒ φρορὰν μὲ πεντέκοντα δραχμὰς τ...  \n",
       "4  ἔδοχσεν τε͂ι βολε͂ι καὶ το͂ι δέμοι ℎότε Παραιβ...  \n",
       "\n",
       "[5 rows x 27 columns]"
      ]
     },
     "execution_count": 303,
     "metadata": {},
     "output_type": "execute_result"
    }
   ],
   "source": [
    "# read the PHI dataset from sciencedata.dk\n",
    "# (takes some time - the dataset has almost 400MB)\n",
    "PHI = sddk.read_file(\"SDAM_data/PHI/PHI_dated_lemmatized_20201023.json\", \"df\", conf)\n",
    "# older version used during development: PHI = sddk.read_file(\"SDAM_data/PHI/PHI_enriched_raw.json\", \"df\", conf)\n",
    "# print first 5 rows of the data\n",
    "PHI.head(5)"
   ]
  },
  {
   "cell_type": "code",
   "execution_count": 262,
   "metadata": {},
   "outputs": [
    {
     "data": {
      "text/plain": [
       "216702"
      ]
     },
     "execution_count": 262,
     "metadata": {},
     "output_type": "execute_result"
    }
   ],
   "source": [
    "len(PHI)"
   ]
  },
  {
   "cell_type": "code",
   "execution_count": 178,
   "metadata": {},
   "outputs": [],
   "source": [
    "PHI[\"wordcount\"] = PHI[\"string_normalized\"].apply(lambda string: len(string.split()))"
   ]
  },
  {
   "cell_type": "code",
   "execution_count": 179,
   "metadata": {},
   "outputs": [
    {
     "data": {
      "text/plain": [
       "4469462"
      ]
     },
     "execution_count": 179,
     "metadata": {},
     "output_type": "execute_result"
    }
   ],
   "source": [
    "PHI[\"wordcount\"].sum()"
   ]
  },
  {
   "cell_type": "code",
   "execution_count": 267,
   "metadata": {},
   "outputs": [
    {
     "data": {
      "text/plain": [
       "130533"
      ]
     },
     "execution_count": 267,
     "metadata": {},
     "output_type": "execute_result"
    }
   ],
   "source": [
    "len(PHI[(PHI[\"not_before\"].notnull()) | (PHI[\"not_after\"].notnull())])"
   ]
  },
  {
   "cell_type": "code",
   "execution_count": 180,
   "metadata": {},
   "outputs": [],
   "source": [
    "# read and execute our script for modelling dates\n",
    "script_url = \"https://raw.githubusercontent.com/sdam-au/modelling_temporal_uncertainty/master/scripts/modelling_distributions.py\"\n",
    "# execute the script\n",
    "exec(requests.get(script_url).content)"
   ]
  },
  {
   "cell_type": "code",
   "execution_count": 181,
   "metadata": {},
   "outputs": [
    {
     "name": "stdout",
     "output_type": "stream",
     "text": [
      "CPU times: user 1min, sys: 1.07 s, total: 1min 1s\n",
      "Wall time: 1min 1s\n"
     ]
    }
   ],
   "source": [
    "%%time\n",
    "# generate a list of 1000 random dates for each inscription in the dataset\n",
    "# takes approx. 90 seconds in Google colab\n",
    "PHI[\"random_dates\"] = PHI.apply(lambda row: model_date(row[\"not_before\"], row[\"not_after\"], size=1000,), axis=1)"
   ]
  },
  {
   "cell_type": "code",
   "execution_count": 182,
   "metadata": {},
   "outputs": [],
   "source": [
    "words = [\"δίκαιος\", \"δίκη\", \"δικαιοσύνη\"]\n",
    "for word in words:\n",
    "    PHI[word] = PHI[\"lemmata\"].apply(lambda x: x.count(word))"
   ]
  },
  {
   "cell_type": "code",
   "execution_count": 183,
   "metadata": {},
   "outputs": [
    {
     "name": "stdout",
     "output_type": "stream",
     "text": [
      "δίκαιος 2017\n",
      "δίκη 1854\n",
      "δικαιοσύνη 645\n"
     ]
    }
   ],
   "source": [
    "for word in words:\n",
    "    print(word, PHI[word].sum())"
   ]
  },
  {
   "cell_type": "code",
   "execution_count": 242,
   "metadata": {},
   "outputs": [
    {
     "name": "stdout",
     "output_type": "stream",
     "text": [
      "50\n",
      "683\n",
      "559\n"
     ]
    }
   ],
   "source": [
    "for word in words:\n",
    "    print(PHI[\"string_normalized\"].apply(lambda x: len(re.findall(word, x))).sum())"
   ]
  },
  {
   "cell_type": "code",
   "execution_count": 184,
   "metadata": {},
   "outputs": [
    {
     "data": {
      "text/plain": [
       "[((-800, -751), 7),\n",
       " ((-750, -701), 60),\n",
       " ((-700, -651), 155),\n",
       " ((-650, -601), 272),\n",
       " ((-600, -551), 931),\n",
       " ((-550, -501), 2063),\n",
       " ((-500, -451), 3832),\n",
       " ((-450, -401), 4125),\n",
       " ((-400, -351), 6338),\n",
       " ((-350, -301), 8903),\n",
       " ((-300, -251), 8086),\n",
       " ((-250, -201), 9033),\n",
       " ((-200, -151), 8850),\n",
       " ((-150, -101), 7221),\n",
       " ((-100, -51), 4830),\n",
       " ((-50, -1), 5164),\n",
       " ((1, 50), 6017),\n",
       " ((51, 100), 6160),\n",
       " ((101, 150), 10113),\n",
       " ((151, 200), 9909),\n",
       " ((201, 250), 8907),\n",
       " ((251, 300), 5897),\n",
       " ((301, 350), 3081),\n",
       " ((351, 400), 2949)]"
      ]
     },
     "execution_count": 184,
     "metadata": {},
     "output_type": "execute_result"
    }
   ],
   "source": [
    "PHI_complete_simulations = timeblocks_from_randoms(PHI, \"random_dates\", [-800, 400, 50])\n",
    "# look at the first one\n",
    "PHI_complete_simulations[0]"
   ]
  },
  {
   "cell_type": "code",
   "execution_count": 185,
   "metadata": {},
   "outputs": [
    {
     "data": {
      "text/plain": [
       "[((-800, -751), 0),\n",
       " ((-750, -701), 0),\n",
       " ((-700, -651), 0),\n",
       " ((-650, -601), 0),\n",
       " ((-600, -551), 0),\n",
       " ((-550, -501), 1),\n",
       " ((-500, -451), 1),\n",
       " ((-450, -401), 4),\n",
       " ((-400, -351), 31),\n",
       " ((-350, -301), 127),\n",
       " ((-300, -251), 55),\n",
       " ((-250, -201), 51),\n",
       " ((-200, -151), 26),\n",
       " ((-150, -101), 39),\n",
       " ((-100, -51), 18),\n",
       " ((-50, -1), 14),\n",
       " ((1, 50), 7),\n",
       " ((51, 100), 11),\n",
       " ((101, 150), 13),\n",
       " ((151, 200), 8),\n",
       " ((201, 250), 10),\n",
       " ((251, 300), 2),\n",
       " ((301, 350), 3),\n",
       " ((351, 400), 3)]"
      ]
     },
     "execution_count": 185,
     "metadata": {},
     "output_type": "execute_result"
    }
   ],
   "source": [
    "sub_df = PHI[PHI[\"δικαιοσύνη\"]>0]\n",
    "sub_df_sim = timeblocks_from_randoms(sub_df,  \"random_dates\", [-800, 400, 50])\n",
    "sub_df_sim[0]\n",
    "# for timeblock in PHI_complete_simulations[0].keys():"
   ]
  },
  {
   "cell_type": "code",
   "execution_count": 190,
   "metadata": {},
   "outputs": [
    {
     "data": {
      "text/plain": [
       "[(-800, -751),\n",
       " (-750, -701),\n",
       " (-700, -651),\n",
       " (-650, -601),\n",
       " (-600, -551),\n",
       " (-550, -501),\n",
       " (-500, -451),\n",
       " (-450, -401),\n",
       " (-400, -351),\n",
       " (-350, -301),\n",
       " (-300, -251),\n",
       " (-250, -201),\n",
       " (-200, -151),\n",
       " (-150, -101),\n",
       " (-100, -51),\n",
       " (-50, -1),\n",
       " (1, 50),\n",
       " (51, 100),\n",
       " (101, 150),\n",
       " (151, 200),\n",
       " (201, 250),\n",
       " (251, 300),\n",
       " (301, 350),\n",
       " (351, 400)]"
      ]
     },
     "execution_count": 190,
     "metadata": {},
     "output_type": "execute_result"
    }
   ],
   "source": [
    "get_timeblocks(-800, 400, 50)"
   ]
  },
  {
   "cell_type": "code",
   "execution_count": 158,
   "metadata": {},
   "outputs": [],
   "source": [
    "def get_date_from_randoms(value, n):\n",
    "    try:\n",
    "        return value[n]\n",
    "    except:\n",
    "        return None\n",
    "\n",
    "dating_variant = PHI[\"random_dates\"].apply(lambda x: get_date_from_randoms(x, 0))\n",
    "mask = dating_variant.between(200, 301)\n",
    "timeblock_df_variant = PHI[mask]"
   ]
  },
  {
   "cell_type": "code",
   "execution_count": 187,
   "metadata": {},
   "outputs": [],
   "source": []
  },
  {
   "cell_type": "code",
   "execution_count": 202,
   "metadata": {},
   "outputs": [],
   "source": [
    "word = \"δικαιοσύνη\"\n",
    "complete_sim_data = []\n",
    "sim_data(metrics_function):\n",
    "for n in range(5):\n",
    "    sim = PHI[\"random_dates\"].apply(lambda x: get_date_from_randoms(x, n))\n",
    "    sim_data = []\n",
    "    for tb in get_timeblocks(-800, 400, 50):\n",
    "        mask = sim.between(tb[0], tb[1])\n",
    "        df = PHI[mask]\n",
    "        wordcount = df[\"wordcount\"].sum()\n",
    "        word_count = df[\"lemmata\"].apply(lambda x: x.count(word)).sum()\n",
    "        word_freq = word_count / wordcount\n",
    "        sim_data.append((tb, word_freq))\n",
    "    complete_sim_data.append(sim_data)"
   ]
  },
  {
   "cell_type": "code",
   "execution_count": 226,
   "metadata": {},
   "outputs": [],
   "source": [
    "def tf_in_df(df, word):\n",
    "    wordcount_total = df[\"wordcount\"].sum()\n",
    "    word_count = df[\"lemmata\"].apply(lambda x: x.count(word)).sum()\n",
    "    word_freq = word_count / wordcount_total\n",
    "    return word_freq"
   ]
  },
  {
   "cell_type": "code",
   "execution_count": 243,
   "metadata": {},
   "outputs": [],
   "source": [
    "def sim_data(df, n_sims, metrics_function, *args):\n",
    "    complete_sim_data = []\n",
    "    for n in range(n_sims):\n",
    "        sim = df[\"random_dates\"].apply(lambda x: get_date_from_randoms(x, n))\n",
    "        sim_data = []\n",
    "        for tb in get_timeblocks(-800, 400, 100):\n",
    "            mask = sim.between(tb[0], tb[1])\n",
    "            df_tb = PHI[mask]\n",
    "            function_output = metrics_function(df_tb, *args)\n",
    "            sim_data.append((tb, function_output))\n",
    "        complete_sim_data.append(sim_data)\n",
    "    return complete_sim_data"
   ]
  },
  {
   "cell_type": "code",
   "execution_count": 260,
   "metadata": {},
   "outputs": [
    {
     "data": {
      "text/plain": [
       "<matplotlib.legend.Legend at 0x7f30918bcba8>"
      ]
     },
     "execution_count": 260,
     "metadata": {},
     "output_type": "execute_result"
    },
    {
     "data": {
      "image/png": "[encoded data removed]",
      "text/plain": [
       "<Figure size 576x360 with 1 Axes>"
      ]
     },
     "metadata": {
      "needs_background": "light"
     },
     "output_type": "display_data"
    }
   ],
   "source": [
    "import matplotlib.colors as mcolors\n",
    "tab_colors_list = list(mcolors.TABLEAU_COLORS.keys())\n",
    "\n",
    "import matplotlib.lines as mlines\n",
    "\n",
    "fig, ax = plt.subplots(1, 1, figsize=(8, 5), tight_layout=True)\n",
    "\n",
    "markers = []\n",
    "\n",
    "for word, color in zip(words, [\"tab:blue\", \"tab:green\", \"tab:red\"]):\n",
    "    complete_sim_data = sim_data(PHI, 100, tf_in_df, word) \n",
    "    layer = plot_timeblocks_data(complete_sim_data, ax=ax, color=color)\n",
    "    markers.append(mlines.Line2D([], [], linewidth=4, label=word, color=color))\n",
    "\n",
    "ax.set_xlim(-800, 400)\n",
    "ax.set_xticks(range(-800, 500, 100))\n",
    "\n",
    "plt.title(\"PHI - word frequencies (100 simulations variants)\")\n",
    "ax.legend(handles=markers)"
   ]
  },
  {
   "cell_type": "code",
   "execution_count": 261,
   "metadata": {},
   "outputs": [
    {
     "name": "stdout",
     "output_type": "stream",
     "text": [
      "A file with the same name (\"PHI_tf.png\") already exists in this location.\n",
      "Press Enter to overwrite it or choose different path and filename: \n",
      "Your <class 'matplotlib.figure.Figure'> object has been succefully written as \"https://sciencedata.dk/files/SDAM_root/SDAM_data/ECCE_public/PHI_tf.png\"\n"
     ]
    }
   ],
   "source": [
    "sddk.write_file(\"SDAM_data/ECCE_public/PHI_tf.png\",fig, conf)"
   ]
  }
 ],
 "metadata": {
  "kernelspec": {
   "display_name": "Python 3",
   "language": "python",
   "name": "python3"
  },
  "language_info": {
   "codemirror_mode": {
    "name": "ipython",
    "version": 3
   },
   "file_extension": ".py",
   "mimetype": "text/x-python",
   "name": "python",
   "nbconvert_exporter": "python",
   "pygments_lexer": "ipython3",
   "version": "3.6.8"
  }
 },
 "nbformat": 4,
 "nbformat_minor": 4
}
