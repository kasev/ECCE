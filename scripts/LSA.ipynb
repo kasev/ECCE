{
 "cells": [
  {
   "cell_type": "code",
   "execution_count": 1,
   "metadata": {
    "colab": {
     "base_uri": "https://localhost:8080/",
     "height": 390
    },
    "colab_type": "code",
    "id": "YLcAu3mXJOpL",
    "outputId": "257224dd-3225-4e02-903e-95ae1671b033"
   },
   "outputs": [],
   "source": [
    "### PREREQUISTIES\n",
    "### (many used only in one notebook...)\n",
    "\n",
    "import os\n",
    "import pandas as pd\n",
    "import numpy as np\n",
    "import logging ### to monitor the code\n",
    "from bs4 import BeautifulSoup\n",
    "import pickle\n",
    "import math\n",
    "import random\n",
    "import sys\n",
    "import csv\n",
    "import unicodedata\n",
    "import requests\n",
    "import re\n",
    "\n",
    "import nltk\n",
    "from nltk.collocations import *\n",
    "\n",
    "import matplotlib.pyplot as plt\n",
    "import seaborn as sns\n",
    "\n",
    "from scipy import stats\n",
    "\n",
    "import xml.etree.cElementTree as ET\n",
    "from urllib.request import urlopen\n",
    "\n",
    "import gspread\n",
    "from gspread_dataframe import get_as_dataframe, set_with_dataframe\n",
    "#from google.colab import auth\n",
    "#from oauth2client.client import GoogleCredentials\n",
    "from google.oauth2 import service_account # based on google-auth library\n",
    "import sddk"
   ]
  },
  {
   "cell_type": "code",
   "execution_count": 2,
   "metadata": {},
   "outputs": [],
   "source": [
    "# gensim parts\n",
    "from gensim import corpora\n",
    "from gensim import models\n",
    "\n",
    "### lsa alternative\n",
    "from sklearn.feature_extraction.text import CountVectorizer\n",
    "from sklearn.feature_extraction.text import TfidfVectorizer\n",
    "\n",
    "from sklearn.decomposition import TruncatedSVD \n",
    "from sklearn.metrics.pairwise import cosine_similarity\n",
    "from sklearn.metrics.pairwise import euclidean_distances"
   ]
  },
  {
   "cell_type": "code",
   "execution_count": 3,
   "metadata": {
    "colab": {
     "base_uri": "https://localhost:8080/",
     "height": 127
    },
    "colab_type": "code",
    "id": "W2TxLXhwp_zD",
    "outputId": "a39f89e7-c18c-4fc1-aae8-6cf288fef849"
   },
   "outputs": [],
   "source": [
    "#!pip install anda\n",
    "#from anda import gr ### the import takes substantial time, since it import a +600MB file containing ancient Greek dictionary"
   ]
  },
  {
   "cell_type": "code",
   "execution_count": 4,
   "metadata": {
    "colab": {
     "base_uri": "https://localhost:8080/",
     "height": 67
    },
    "colab_type": "code",
    "id": "Vk65k519TvBW",
    "outputId": "c0784c15-d327-49c5-9807-f0c957b4aef5"
   },
   "outputs": [
    {
     "name": "stdout",
     "output_type": "stream",
     "text": [
      "sciencedata.dk username (format '123456@au.dk'): 648597@au.dk\n",
      "sciencedata.dk password: ········\n",
      "connection with shared folder established with you as its owner\n",
      "endpoint variable has been configured to: https://sciencedata.dk/files/SDAM_root/\n"
     ]
    }
   ],
   "source": [
    "### not neccessary for reading the data, just for exporting them to sciencedata.dk\n",
    "conf = sddk.configure(\"SDAM_root\", \"648597@au.dk\")"
   ]
  },
  {
   "cell_type": "code",
   "execution_count": 5,
   "metadata": {},
   "outputs": [],
   "source": [
    "# to access gsheet, you need Google Service Account key json file\n",
    "# I have mine located in my personal space on sciencedata.dk, so I read it from there:\n",
    "\n",
    "# (1) read the file and parse its content\n",
    "file_data = conf[0].get(\"https://sciencedata.dk/files/ServiceAccountsKey.json\").json()\n",
    "# (2) transform the content into crendentials object\n",
    "credentials = service_account.Credentials.from_service_account_info(file_data)\n",
    "# (3) specify your usage of the credentials\n",
    "scoped_credentials = credentials.with_scopes(['https://spreadsheets.google.com/feeds', 'https://www.googleapis.com/auth/drive'])\n",
    "# (4) use the constrained credentials for authentication of gspread package\n",
    "gc = gspread.Client(auth=scoped_credentials)\n",
    "\n",
    "ECCE_AGT_overview = gc.open_by_url(\"https://docs.google.com/spreadsheets/d/1KPpPaeX215HR_fVrakvJp8aB6oZDhHFTcBw0MKLw6as/edit?usp=sharing\")"
   ]
  },
  {
   "cell_type": "code",
   "execution_count": 6,
   "metadata": {},
   "outputs": [
    {
     "name": "stdout",
     "output_type": "stream",
     "text": [
      "reading file located in a public folder\n"
     ]
    }
   ],
   "source": [
    "publicfolder = \"31b393e2afe1ee96ce81869c7efe18cb\"\n",
    "c_hippocraticum = sddk.read_file(\"c_hippocraticum_enriched.json\", \"df\", publicfolder)"
   ]
  },
  {
   "cell_type": "markdown",
   "metadata": {},
   "source": [
    "# Import and preprocess corpus"
   ]
  },
  {
   "cell_type": "code",
   "execution_count": 61,
   "metadata": {},
   "outputs": [
    {
     "data": {
      "text/html": [
       "<div>\n",
       "<style scoped>\n",
       "    .dataframe tbody tr th:only-of-type {\n",
       "        vertical-align: middle;\n",
       "    }\n",
       "\n",
       "    .dataframe tbody tr th {\n",
       "        vertical-align: top;\n",
       "    }\n",
       "\n",
       "    .dataframe thead th {\n",
       "        text-align: right;\n",
       "    }\n",
       "</style>\n",
       "<table border=\"1\" class=\"dataframe\">\n",
       "  <thead>\n",
       "    <tr style=\"text-align: right;\">\n",
       "      <th></th>\n",
       "      <th>filename</th>\n",
       "      <th>author</th>\n",
       "      <th>title</th>\n",
       "      <th>string</th>\n",
       "      <th>wordcount</th>\n",
       "      <th>author_id</th>\n",
       "      <th>doc_id</th>\n",
       "      <th>raw_date</th>\n",
       "      <th>date_avr</th>\n",
       "      <th>date_probs</th>\n",
       "      <th>date_manual</th>\n",
       "      <th>provenience</th>\n",
       "      <th>sentences</th>\n",
       "      <th>lemmata</th>\n",
       "      <th>lemmata_wordcount</th>\n",
       "      <th>lemmatized_sentences</th>\n",
       "      <th>n_sentences</th>\n",
       "    </tr>\n",
       "  </thead>\n",
       "  <tbody>\n",
       "    <tr>\n",
       "      <th>0</th>\n",
       "      <td>tlg0001.tlg001.perseus-grc2.xml</td>\n",
       "      <td>Apollonius Rhodius</td>\n",
       "      <td>Argonautica</td>\n",
       "      <td>ἀρχόμενος σέο, Φοῖβε, παλαιγενέων κλέα φωτῶν μ...</td>\n",
       "      <td>38822</td>\n",
       "      <td>tlg0001</td>\n",
       "      <td>tlg0001.tlg001</td>\n",
       "      <td>3 B.C.</td>\n",
       "      <td>-2.5</td>\n",
       "      <td>{'-2.5': 1}</td>\n",
       "      <td>-2.5</td>\n",
       "      <td>pagan</td>\n",
       "      <td>[ἀρχόμενος σέο, Φοῖβε, παλαιγενέων κλέα φωτῶν ...</td>\n",
       "      <td>[σέο, φοῖβος, παλαιγενής, κλέος, φάος, μιμνήσκ...</td>\n",
       "      <td>24237</td>\n",
       "      <td>[[σέο, φοῖβος, παλαιγενής, κλέος, φάος, μιμνήσ...</td>\n",
       "      <td>3233</td>\n",
       "    </tr>\n",
       "    <tr>\n",
       "      <th>1</th>\n",
       "      <td>tlg0003.tlg001.perseus-grc2.xml</td>\n",
       "      <td>Thucydides</td>\n",
       "      <td>The Peloponnesian War</td>\n",
       "      <td>\\nΘουκυδίδης Ἀθηναῖος ξυνέγραψε τὸν πόλεμον τῶ...</td>\n",
       "      <td>150126</td>\n",
       "      <td>tlg0003</td>\n",
       "      <td>tlg0003.tlg001</td>\n",
       "      <td>5 B.C.</td>\n",
       "      <td>-4.5</td>\n",
       "      <td>{'-4.5': 1}</td>\n",
       "      <td>-4.5</td>\n",
       "      <td>pagan</td>\n",
       "      <td>[Θουκυδίδης Ἀθηναῖος ξυνέγραψε τὸν πόλεμον τῶν...</td>\n",
       "      <td>[θουκυδίδης, Ἀθηναῖος, συγγράφω, πόλεμος, Πελο...</td>\n",
       "      <td>68154</td>\n",
       "      <td>[[θουκυδίδης, Ἀθηναῖος, συγγράφω, πόλεμος, Πελ...</td>\n",
       "      <td>6068</td>\n",
       "    </tr>\n",
       "    <tr>\n",
       "      <th>2</th>\n",
       "      <td>tlg0004.tlg001.perseus-grc1.xml</td>\n",
       "      <td>Diogenes Laertius</td>\n",
       "      <td>Lives of Eminent Philosophers</td>\n",
       "      <td>Τὸ τῆς φιλοσοφίας ἔργον ἔνιοί φασιν ἀπὸ βαρβάρ...</td>\n",
       "      <td>110773</td>\n",
       "      <td>tlg0004</td>\n",
       "      <td>tlg0004.tlg001</td>\n",
       "      <td>A.D. 3</td>\n",
       "      <td>2.5</td>\n",
       "      <td>{'2.5': 1}</td>\n",
       "      <td>NaN</td>\n",
       "      <td></td>\n",
       "      <td>[Τὸ τῆς φιλοσοφίας ἔργον ἔνιοί φασιν ἀπὸ βαρβά...</td>\n",
       "      <td>[φιλοσοφία, ἔργον, ἔνιοί, φάσις, βάρβαρος, ἄρχ...</td>\n",
       "      <td>55323</td>\n",
       "      <td>[[φιλοσοφία, ἔργον, ἔνιοί, φάσις, βάρβαρος, ἄρ...</td>\n",
       "      <td>10244</td>\n",
       "    </tr>\n",
       "    <tr>\n",
       "      <th>3</th>\n",
       "      <td>tlg0005.tlg001.perseus-grc1.xml</td>\n",
       "      <td>Theocritus</td>\n",
       "      <td>Idylls</td>\n",
       "      <td>\\n̔Αδύ τι τὸ ψιθύρισμα καὶ ἁ πίτυς αἰπόλε τήνα...</td>\n",
       "      <td>19200</td>\n",
       "      <td>tlg0005</td>\n",
       "      <td>tlg0005.tlg001</td>\n",
       "      <td>4-3 B.C.</td>\n",
       "      <td>-3.0</td>\n",
       "      <td>{'-3.5': 0.5, '-2.5': 0.5}</td>\n",
       "      <td>NaN</td>\n",
       "      <td></td>\n",
       "      <td>[̔Αδύ τι τὸ ψιθύρισμα καὶ ἁ πίτυς αἰπόλε τήνα,...</td>\n",
       "      <td>[αδύ, ψιθύρισμα, πίτυς, αἰπόλος, ἐκεῖνος, πότη...</td>\n",
       "      <td>12177</td>\n",
       "      <td>[[αδύ, ψιθύρισμα, πίτυς, αἰπόλος, ἐκεῖνος, πότ...</td>\n",
       "      <td>1733</td>\n",
       "    </tr>\n",
       "    <tr>\n",
       "      <th>4</th>\n",
       "      <td>tlg0005.tlg002.perseus-grc1.xml</td>\n",
       "      <td>Theocritus</td>\n",
       "      <td>Epigrams</td>\n",
       "      <td>τὰ ῥόδα τὰ δροσόεντα καὶ ἁ κατάπυκνος ἐκείνα ἕ...</td>\n",
       "      <td>1734</td>\n",
       "      <td>tlg0005</td>\n",
       "      <td>tlg0005.tlg002</td>\n",
       "      <td>4-3 B.C.</td>\n",
       "      <td>-3.0</td>\n",
       "      <td>{'-3.5': 0.5, '-2.5': 0.5}</td>\n",
       "      <td>NaN</td>\n",
       "      <td></td>\n",
       "      <td>[τὰ ῥόδα τὰ δροσόεντα καὶ ἁ κατάπυκνος ἐκείνα ...</td>\n",
       "      <td>[ῥοδῆ, δροσόεντα, κατάπυκνος, ἐκεῖνος, ἕρπυλλο...</td>\n",
       "      <td>1089</td>\n",
       "      <td>[[ῥοδῆ, δροσόεντα, κατάπυκνος, ἐκεῖνος, ἕρπυλλ...</td>\n",
       "      <td>137</td>\n",
       "    </tr>\n",
       "  </tbody>\n",
       "</table>\n",
       "</div>"
      ],
      "text/plain": [
       "                          filename              author  \\\n",
       "0  tlg0001.tlg001.perseus-grc2.xml  Apollonius Rhodius   \n",
       "1  tlg0003.tlg001.perseus-grc2.xml          Thucydides   \n",
       "2  tlg0004.tlg001.perseus-grc1.xml   Diogenes Laertius   \n",
       "3  tlg0005.tlg001.perseus-grc1.xml          Theocritus   \n",
       "4  tlg0005.tlg002.perseus-grc1.xml          Theocritus   \n",
       "\n",
       "                           title  \\\n",
       "0                    Argonautica   \n",
       "1          The Peloponnesian War   \n",
       "2  Lives of Eminent Philosophers   \n",
       "3                        Idylls    \n",
       "4                      Epigrams    \n",
       "\n",
       "                                              string  wordcount author_id  \\\n",
       "0  ἀρχόμενος σέο, Φοῖβε, παλαιγενέων κλέα φωτῶν μ...      38822   tlg0001   \n",
       "1  \\nΘουκυδίδης Ἀθηναῖος ξυνέγραψε τὸν πόλεμον τῶ...     150126   tlg0003   \n",
       "2  Τὸ τῆς φιλοσοφίας ἔργον ἔνιοί φασιν ἀπὸ βαρβάρ...     110773   tlg0004   \n",
       "3  \\n̔Αδύ τι τὸ ψιθύρισμα καὶ ἁ πίτυς αἰπόλε τήνα...      19200   tlg0005   \n",
       "4  τὰ ῥόδα τὰ δροσόεντα καὶ ἁ κατάπυκνος ἐκείνα ἕ...       1734   tlg0005   \n",
       "\n",
       "           doc_id  raw_date  date_avr                  date_probs  \\\n",
       "0  tlg0001.tlg001    3 B.C.      -2.5                 {'-2.5': 1}   \n",
       "1  tlg0003.tlg001    5 B.C.      -4.5                 {'-4.5': 1}   \n",
       "2  tlg0004.tlg001    A.D. 3       2.5                  {'2.5': 1}   \n",
       "3  tlg0005.tlg001  4-3 B.C.      -3.0  {'-3.5': 0.5, '-2.5': 0.5}   \n",
       "4  tlg0005.tlg002  4-3 B.C.      -3.0  {'-3.5': 0.5, '-2.5': 0.5}   \n",
       "\n",
       "   date_manual provenience                                          sentences  \\\n",
       "0         -2.5       pagan  [ἀρχόμενος σέο, Φοῖβε, παλαιγενέων κλέα φωτῶν ...   \n",
       "1         -4.5       pagan  [Θουκυδίδης Ἀθηναῖος ξυνέγραψε τὸν πόλεμον τῶν...   \n",
       "2          NaN              [Τὸ τῆς φιλοσοφίας ἔργον ἔνιοί φασιν ἀπὸ βαρβά...   \n",
       "3          NaN              [̔Αδύ τι τὸ ψιθύρισμα καὶ ἁ πίτυς αἰπόλε τήνα,...   \n",
       "4          NaN              [τὰ ῥόδα τὰ δροσόεντα καὶ ἁ κατάπυκνος ἐκείνα ...   \n",
       "\n",
       "                                             lemmata  lemmata_wordcount  \\\n",
       "0  [σέο, φοῖβος, παλαιγενής, κλέος, φάος, μιμνήσκ...              24237   \n",
       "1  [θουκυδίδης, Ἀθηναῖος, συγγράφω, πόλεμος, Πελο...              68154   \n",
       "2  [φιλοσοφία, ἔργον, ἔνιοί, φάσις, βάρβαρος, ἄρχ...              55323   \n",
       "3  [αδύ, ψιθύρισμα, πίτυς, αἰπόλος, ἐκεῖνος, πότη...              12177   \n",
       "4  [ῥοδῆ, δροσόεντα, κατάπυκνος, ἐκεῖνος, ἕρπυλλο...               1089   \n",
       "\n",
       "                                lemmatized_sentences  n_sentences  \n",
       "0  [[σέο, φοῖβος, παλαιγενής, κλέος, φάος, μιμνήσ...         3233  \n",
       "1  [[θουκυδίδης, Ἀθηναῖος, συγγράφω, πόλεμος, Πελ...         6068  \n",
       "2  [[φιλοσοφία, ἔργον, ἔνιοί, φάσις, βάρβαρος, ἄρ...        10244  \n",
       "3  [[αδύ, ψιθύρισμα, πίτυς, αἰπόλος, ἐκεῖνος, πότ...         1733  \n",
       "4  [[ῥοδῆ, δροσόεντα, κατάπυκνος, ἐκεῖνος, ἕρπυλλ...          137  "
      ]
     },
     "execution_count": 61,
     "metadata": {},
     "output_type": "execute_result"
    }
   ],
   "source": [
    "AGT = sddk.read_file(\"SDAM_data/AGT/AGT_20201109.json\", \"df\", conf)\n",
    "AGT.head(5)"
   ]
  },
  {
   "cell_type": "code",
   "execution_count": 63,
   "metadata": {},
   "outputs": [],
   "source": [
    "subcorpora_dict = {# main subcorpora\n",
    "    \"Archaic (8-6 BCE)\" : AGT[(AGT[\"provenience\"]==\"pagan\") & (AGT[\"date_avr\"] <= -5.5)],\n",
    "    \"Classical (5-4 BCE)\" : AGT[(AGT[\"provenience\"]==\"pagan\") & (AGT[\"date_avr\"].between(-5, -3))],\n",
    "    \"Non-Christian (1-4 CE)\" : AGT[(AGT[\"date_avr\"].between(0, 4)) & (AGT[\"provenience\"]==\"pagan\")],\n",
    "    \"Septuagint\" : AGT[AGT[\"author_id\"]==\"tlg0527\"],\n",
    "    \"Christian (1-4 CE)\" : AGT[(AGT[\"date_avr\"] < 4) & (AGT[\"provenience\"]==\"christian\")],\n",
    "    \"Christian (1-1/2 CE)\" : AGT[(AGT[\"date_avr\"] < 1.5) & (AGT[\"provenience\"]==\"christian\")],\n",
    "    \"Christian (2-3/4 CE)\" : AGT[(AGT[\"date_avr\"].between(1.5, 3)) & (AGT[\"provenience\"]==\"christian\")],\n",
    "    \"Christian (4-4/5 CE)\" : AGT[(AGT[\"date_avr\"].between(3.5, 4)) & (AGT[\"provenience\"]==\"christian\")]}\n",
    "\n",
    "subcorpora_dict_other = {\n",
    "    \"Pagan (8th c. BCE - 4th c. CE)\" : AGT[(AGT[\"provenience\"]==\"pagan\") & (AGT[\"date_avr\"] < 4)],\n",
    "    \"Pagan (1st - 4th c. CE)\" : AGT[(AGT[\"date_avr\"].between(0, 4)) & (AGT[\"provenience\"]==\"pagan\")],\n",
    "    \"Jewish\" : AGT[AGT[\"author_id\"].isin([\"tlg0527\", \"tlg0018\", \"tlg0526\"])],\n",
    "    \"Septuagint\" : AGT[AGT[\"author_id\"]==\"tlg0527\"],\n",
    "    \"Philo of Alexandria\" : AGT[AGT[\"author_id\"]==\"tlg0018\"],\n",
    "    \"Titus Flavius Josephus\" : AGT[AGT[\"author_id\"]==\"tlg0526\"],\n",
    "    \"Paul of Tarsus\" : AGT[AGT[\"author_id\"]==\"tlg0031paul\"],\n",
    "    \"New Testament\" : AGT[AGT[\"author_id\"].str.startswith(\"tlg0031\")],\n",
    "    \"Christian (1st - 4th c. CE)\" : AGT[(AGT[\"date_avr\"] < 4) & (AGT[\"provenience\"]==\"christian\")]}    \n"
   ]
  },
  {
   "cell_type": "code",
   "execution_count": 65,
   "metadata": {},
   "outputs": [],
   "source": [
    "def get_flat_sentences(series):\n",
    "    sentences_list = [sent for doc in series.tolist() for sent in doc]\n",
    "    return sentences_list"
   ]
  },
  {
   "cell_type": "code",
   "execution_count": 66,
   "metadata": {},
   "outputs": [
    {
     "data": {
      "text/html": [
       "<div>\n",
       "<style scoped>\n",
       "    .dataframe tbody tr th:only-of-type {\n",
       "        vertical-align: middle;\n",
       "    }\n",
       "\n",
       "    .dataframe tbody tr th {\n",
       "        vertical-align: top;\n",
       "    }\n",
       "\n",
       "    .dataframe thead th {\n",
       "        text-align: right;\n",
       "    }\n",
       "</style>\n",
       "<table border=\"1\" class=\"dataframe\">\n",
       "  <thead>\n",
       "    <tr style=\"text-align: right;\">\n",
       "      <th></th>\n",
       "      <th>label</th>\n",
       "      <th>wordcount</th>\n",
       "      <th>doccount</th>\n",
       "      <th>n_sentences</th>\n",
       "      <th>sentences</th>\n",
       "    </tr>\n",
       "  </thead>\n",
       "  <tbody>\n",
       "    <tr>\n",
       "      <th>0</th>\n",
       "      <td>Archaic (8-6 BCE)</td>\n",
       "      <td>264986</td>\n",
       "      <td>11</td>\n",
       "      <td>20444</td>\n",
       "      <td>[[μῆνις, ἀείδω, θεά, πηληϊάδεω, Ἀχιλλεύς, οὐλό...</td>\n",
       "    </tr>\n",
       "    <tr>\n",
       "      <th>1</th>\n",
       "      <td>Classical (5-4 BCE)</td>\n",
       "      <td>3439210</td>\n",
       "      <td>338</td>\n",
       "      <td>256926</td>\n",
       "      <td>[[θουκυδίδης, Ἀθηναῖος, συγγράφω, πόλεμος, Πελ...</td>\n",
       "    </tr>\n",
       "    <tr>\n",
       "      <th>2</th>\n",
       "      <td>Non-Christian (1-4 CE)</td>\n",
       "      <td>9172125</td>\n",
       "      <td>411</td>\n",
       "      <td>718144</td>\n",
       "      <td>[[γεωγραφία, σόσσιε, σενεκίων, ἱστορικός, γνῶσ...</td>\n",
       "    </tr>\n",
       "    <tr>\n",
       "      <th>3</th>\n",
       "      <td>Septuagint</td>\n",
       "      <td>872013</td>\n",
       "      <td>55</td>\n",
       "      <td>53330</td>\n",
       "      <td>[[ἕνος, ποιέω, θεός, οὐρανός, γῆ], [γῆ, ἀόρατο...</td>\n",
       "    </tr>\n",
       "    <tr>\n",
       "      <th>4</th>\n",
       "      <td>Christian (1-4 CE)</td>\n",
       "      <td>3366042</td>\n",
       "      <td>131</td>\n",
       "      <td>286782</td>\n",
       "      <td>[[βίβλος, γένεσις, Ἰησοῦς, χριστός, υἱός, δαυε...</td>\n",
       "    </tr>\n",
       "    <tr>\n",
       "      <th>5</th>\n",
       "      <td>Christian (1-1/2 CE)</td>\n",
       "      <td>171389</td>\n",
       "      <td>38</td>\n",
       "      <td>11959</td>\n",
       "      <td>[[βίβλος, γένεσις, Ἰησοῦς, χριστός, υἱός, δαυε...</td>\n",
       "    </tr>\n",
       "    <tr>\n",
       "      <th>6</th>\n",
       "      <td>Christian (2-3/4 CE)</td>\n",
       "      <td>1792275</td>\n",
       "      <td>65</td>\n",
       "      <td>165245</td>\n",
       "      <td>[[ἀμφίων, Θηβαῖος, ἄριοι, μηθυμναῖος, ἄμφω, ᾠδ...</td>\n",
       "    </tr>\n",
       "    <tr>\n",
       "      <th>7</th>\n",
       "      <td>Christian (4-4/5 CE)</td>\n",
       "      <td>1746266</td>\n",
       "      <td>33</td>\n",
       "      <td>141538</td>\n",
       "      <td>[[ἐπειδη, ὅρος, κράτιστος, διόγνητε, ὑπερεσπου...</td>\n",
       "    </tr>\n",
       "  </tbody>\n",
       "</table>\n",
       "</div>"
      ],
      "text/plain": [
       "                    label  wordcount  doccount  n_sentences  \\\n",
       "0       Archaic (8-6 BCE)     264986        11        20444   \n",
       "1     Classical (5-4 BCE)    3439210       338       256926   \n",
       "2  Non-Christian (1-4 CE)    9172125       411       718144   \n",
       "3              Septuagint     872013        55        53330   \n",
       "4      Christian (1-4 CE)    3366042       131       286782   \n",
       "5    Christian (1-1/2 CE)     171389        38        11959   \n",
       "6    Christian (2-3/4 CE)    1792275        65       165245   \n",
       "7    Christian (4-4/5 CE)    1746266        33       141538   \n",
       "\n",
       "                                           sentences  \n",
       "0  [[μῆνις, ἀείδω, θεά, πηληϊάδεω, Ἀχιλλεύς, οὐλό...  \n",
       "1  [[θουκυδίδης, Ἀθηναῖος, συγγράφω, πόλεμος, Πελ...  \n",
       "2  [[γεωγραφία, σόσσιε, σενεκίων, ἱστορικός, γνῶσ...  \n",
       "3  [[ἕνος, ποιέω, θεός, οὐρανός, γῆ], [γῆ, ἀόρατο...  \n",
       "4  [[βίβλος, γένεσις, Ἰησοῦς, χριστός, υἱός, δαυε...  \n",
       "5  [[βίβλος, γένεσις, Ἰησοῦς, χριστός, υἱός, δαυε...  \n",
       "6  [[ἀμφίων, Θηβαῖος, ἄριοι, μηθυμναῖος, ἄμφω, ᾠδ...  \n",
       "7  [[ἐπειδη, ὅρος, κράτιστος, διόγνητε, ὑπερεσπου...  "
      ]
     },
     "execution_count": 66,
     "metadata": {},
     "output_type": "execute_result"
    }
   ],
   "source": [
    "subselections = []\n",
    "for key in subcorpora_dict.keys():\n",
    "    subselection = subcorpora_dict[key]\n",
    "    subselection_dict = {}\n",
    "    wordcount = subselection[\"wordcount\"].sum()\n",
    "    doccount = len(subselection)\n",
    "    sents = get_flat_sentences(subselection[\"lemmatized_sentences\"])\n",
    "    sents_len = len(sents)\n",
    "    subselection_dict.update({\"label\" : key, \"wordcount\" : wordcount, \"doccount\" : doccount, \"n_sentences\": sents_len,\"sentences\" : sents})\n",
    "    subselections.append(subselection_dict)\n",
    "subselections_df = pd.DataFrame(subselections)\n",
    "subselections_df"
   ]
  },
  {
   "cell_type": "code",
   "execution_count": 67,
   "metadata": {},
   "outputs": [],
   "source": [
    "AGT_docs = get_flat_sentences(AGT[\"lemmatized_sentences\"])"
   ]
  },
  {
   "cell_type": "code",
   "execution_count": 68,
   "metadata": {},
   "outputs": [
    {
     "name": "stdout",
     "output_type": "stream",
     "text": [
      "[['σέο', 'φοῖβος', 'παλαιγενής', 'κλέος', 'φάος', 'μιμνήσκω', 'οἳ', 'πόντος', 'στόμα', 'πέτρα', 'Κυάνεαι', 'βασιλεύς', 'ἐφημοσύνη', 'πελίαο', 'χρυσεῖον', 'κῶας', 'εὔζυγος', 'ἐλαύνω', 'ἀργός'], ['τοῖος', 'πελιός', 'φάτις', 'ἐκλύω', 'μοῖρα', 'μένος', 'στυγερός', 'τοῦδʼ', 'ἀνήρ', 'ὅντινʼ', 'εἶδον', 'οἰοπέδιλον', 'ὑπʼ', 'ἐνεσία', 'δαμάζω'], ['δηρός', 'τεός', 'βάξις', 'Ἰησοῦς', 'χειμέριος', 'ῥεῖθρον', 'κιὼν', 'πόσις', 'Ἄναυρος', 'ἐξεσάωσεν', 'ὑπʼ', 'ἰλύς', 'καταλιμπάνω', 'πέδιλον', 'προχόη'], ['ἱκνέομαι', 'πελιός', 'ἀντιβολέω', 'εἰλαπίνη', 'ἣν', 'πατήρ', 'Ποσειδεών', 'ῥέζω', 'θεός', 'Ἥρα', 'Πελασγιῶται', 'ἀλεγίζω'], ['τόνγʼ', 'ἐσιδὼν', 'φράζω', 'ἆθλον', 'ἔντυε', 'ναυτιλία', 'πολυκηδής', 'ὄφρʼ', 'πόντος', 'ἀλλοδαπός', 'μετʼ', 'ἀνήρ', 'νόστος', 'ὄλλυμι'], ['ναῦς', 'ἐπικλείω', 'ἀοιδός', 'ἀργός', 'Ἀθηναῖος', 'κάμνω', 'ὑποθημοσύνη'], ['γενεά', 'ὄνομα', 'μυθέομαι', 'ἥρως', 'δολιχός', 'πόρος', 'ἅλς', 'ὅσος', 'τʼ', 'ἐρέσσω'], ['Μοῦσα', 'ὑποφήτωρ', 'ἀοιδή'], ['πρῶτά', 'Ὀρφεύς', 'μιμνήσκω', 'ῥαίνω', 'ποτʼ', 'αὐτη', 'Καλλιόπη', 'Θρᾷξ', 'φατίζω', 'οἰάγρῳ', 'σκοπιά', 'Πίμπλεια', 'τίκτω', 'τόνγʼ', 'ἐνέπω', 'ἀτειρής', 'ὄρος', 'πέτρα', 'θέλγω', 'ἀοιδή', 'ἐνοπή', 'ποταμός', 'ῥεῖθρον'], ['φηγός', 'ἀγριάς', 'ἐκεῖνος', 'σῆμα', 'μολπή', 'ἀκτέα', 'Θρᾴκη', 'ζώνη', 'στιχάομαι', 'ἐπήτριμος', 'ἃς', 'ὅγʼ', 'ἐπιπρό', 'φόρμιγξ', 'κατάγω']]\n"
     ]
    }
   ],
   "source": [
    "print(AGT_docs[:10])"
   ]
  },
  {
   "cell_type": "code",
   "execution_count": 69,
   "metadata": {},
   "outputs": [],
   "source": [
    "#create gensim dictionary for our list of sentences\n",
    "dictionary = corpora.Dictionary(AGT_docs)"
   ]
  },
  {
   "cell_type": "code",
   "execution_count": 70,
   "metadata": {},
   "outputs": [
    {
     "data": {
      "text/plain": [
       "{0: 'Κυάνεαι',\n",
       " 1: 'βασιλεύς',\n",
       " 2: 'εὔζυγος',\n",
       " 3: 'κλέος',\n",
       " 4: 'κῶας',\n",
       " 5: 'μιμνήσκω',\n",
       " 6: 'οἳ',\n",
       " 7: 'πέτρα',\n",
       " 8: 'παλαιγενής',\n",
       " 9: 'πελίαο'}"
      ]
     },
     "execution_count": 70,
     "metadata": {},
     "output_type": "execute_result"
    }
   ],
   "source": [
    "# as such, it is organized by ids\n",
    "dict(list(dictionary.items())[:10])"
   ]
  },
  {
   "cell_type": "code",
   "execution_count": 71,
   "metadata": {},
   "outputs": [
    {
     "data": {
      "text/plain": [
       "{'Κυάνεαι': 0,\n",
       " 'βασιλεύς': 1,\n",
       " 'εὔζυγος': 2,\n",
       " 'κλέος': 3,\n",
       " 'κῶας': 4,\n",
       " 'μιμνήσκω': 5,\n",
       " 'οἳ': 6,\n",
       " 'πέτρα': 7,\n",
       " 'παλαιγενής': 8,\n",
       " 'πελίαο': 9}"
      ]
     },
     "execution_count": 71,
     "metadata": {},
     "output_type": "execute_result"
    }
   ],
   "source": [
    "dict(list(dictionary.token2id.items())[:10])"
   ]
  },
  {
   "cell_type": "code",
   "execution_count": 72,
   "metadata": {},
   "outputs": [
    {
     "data": {
      "text/plain": [
       "['βία', 'τευτάμου', 'πριηνεύς', 'προκεκριμένος', 'Σάτυρος']"
      ]
     },
     "execution_count": 72,
     "metadata": {},
     "output_type": "execute_result"
    }
   ],
   "source": [
    "# look at one sentence\n",
    "AGT_docs[10000]"
   ]
  },
  {
   "cell_type": "code",
   "execution_count": 73,
   "metadata": {},
   "outputs": [
    {
     "data": {
      "text/plain": [
       "[(410, 1), (13345, 1), (13493, 1), (13494, 1), (13495, 1)]"
      ]
     },
     "execution_count": 73,
     "metadata": {},
     "output_type": "execute_result"
    }
   ],
   "source": [
    "# doc2bow = document to (term, tf) tuples, i.e. bag-of-words\n",
    "dictionary.doc2bow(AGT_docs[10000])"
   ]
  },
  {
   "cell_type": "code",
   "execution_count": 74,
   "metadata": {},
   "outputs": [
    {
     "data": {
      "text/plain": [
       "[410, 13495, 13493, 13494, 13345]"
      ]
     },
     "execution_count": 74,
     "metadata": {},
     "output_type": "execute_result"
    }
   ],
   "source": [
    "# document to id method\n",
    "dictionary.doc2idx(AGT_docs[10000])"
   ]
  },
  {
   "cell_type": "code",
   "execution_count": 75,
   "metadata": {},
   "outputs": [
    {
     "data": {
      "text/plain": [
       "['ἐξέρχομαι', 'ποιμανεῖ', 'λαός', 'ἁμός', 'ἰσραήλ']"
      ]
     },
     "execution_count": 75,
     "metadata": {},
     "output_type": "execute_result"
    }
   ],
   "source": [
    "sent = docs[20]\n",
    "sent"
   ]
  },
  {
   "cell_type": "code",
   "execution_count": 76,
   "metadata": {},
   "outputs": [
    {
     "data": {
      "text/plain": [
       "[(815, 1), (1826, 1), (4018, 1), (110110, 1), (149859, 1)]"
      ]
     },
     "execution_count": 76,
     "metadata": {},
     "output_type": "execute_result"
    }
   ],
   "source": [
    "# doc2bow = document to (term, tf) tuples, i.e. bag-of-words\n",
    "dictionary.doc2bow(sent)"
   ]
  },
  {
   "cell_type": "markdown",
   "metadata": {},
   "source": [
    "# LSA with  sklearn"
   ]
  },
  {
   "cell_type": "code",
   "execution_count": 77,
   "metadata": {},
   "outputs": [
    {
     "name": "stdout",
     "output_type": "stream",
     "text": [
      "CPU times: user 8.15 s, sys: 123 ms, total: 8.28 s\n",
      "Wall time: 8.27 s\n"
     ]
    }
   ],
   "source": [
    "%%time\n",
    "# we can use our gensim dictionary\n",
    "\n",
    "# as a corpus, we cannot use the Gensim default BoW model,\n",
    "\n",
    "# we just need the words replaced by values\n",
    "\n",
    "corpus_idx = [dictionary.doc2idx(sent) for sent in AGT_docs]"
   ]
  },
  {
   "cell_type": "code",
   "execution_count": 78,
   "metadata": {},
   "outputs": [
    {
     "data": {
      "text/plain": [
       "2868368"
      ]
     },
     "execution_count": 78,
     "metadata": {},
     "output_type": "execute_result"
    }
   ],
   "source": [
    "len(corpus_idx)"
   ]
  },
  {
   "cell_type": "code",
   "execution_count": 79,
   "metadata": {},
   "outputs": [
    {
     "data": {
      "text/html": [
       "<div>\n",
       "<style scoped>\n",
       "    .dataframe tbody tr th:only-of-type {\n",
       "        vertical-align: middle;\n",
       "    }\n",
       "\n",
       "    .dataframe tbody tr th {\n",
       "        vertical-align: top;\n",
       "    }\n",
       "\n",
       "    .dataframe thead th {\n",
       "        text-align: right;\n",
       "    }\n",
       "</style>\n",
       "<table border=\"1\" class=\"dataframe\">\n",
       "  <thead>\n",
       "    <tr style=\"text-align: right;\">\n",
       "      <th></th>\n",
       "      <th>label</th>\n",
       "      <th>wordcount</th>\n",
       "      <th>doccount</th>\n",
       "      <th>n_sentences</th>\n",
       "      <th>sentences</th>\n",
       "    </tr>\n",
       "  </thead>\n",
       "  <tbody>\n",
       "    <tr>\n",
       "      <th>0</th>\n",
       "      <td>Archaic (8-6 BCE)</td>\n",
       "      <td>264986</td>\n",
       "      <td>11</td>\n",
       "      <td>20444</td>\n",
       "      <td>[[μῆνις, ἀείδω, θεά, πηληϊάδεω, Ἀχιλλεύς, οὐλό...</td>\n",
       "    </tr>\n",
       "    <tr>\n",
       "      <th>1</th>\n",
       "      <td>Classical (5-4 BCE)</td>\n",
       "      <td>3439210</td>\n",
       "      <td>338</td>\n",
       "      <td>256926</td>\n",
       "      <td>[[θουκυδίδης, Ἀθηναῖος, συγγράφω, πόλεμος, Πελ...</td>\n",
       "    </tr>\n",
       "    <tr>\n",
       "      <th>2</th>\n",
       "      <td>Non-Christian (1-4 CE)</td>\n",
       "      <td>9172125</td>\n",
       "      <td>411</td>\n",
       "      <td>718144</td>\n",
       "      <td>[[γεωγραφία, σόσσιε, σενεκίων, ἱστορικός, γνῶσ...</td>\n",
       "    </tr>\n",
       "    <tr>\n",
       "      <th>3</th>\n",
       "      <td>Septuagint</td>\n",
       "      <td>872013</td>\n",
       "      <td>55</td>\n",
       "      <td>53330</td>\n",
       "      <td>[[ἕνος, ποιέω, θεός, οὐρανός, γῆ], [γῆ, ἀόρατο...</td>\n",
       "    </tr>\n",
       "    <tr>\n",
       "      <th>4</th>\n",
       "      <td>Christian (1-4 CE)</td>\n",
       "      <td>3366042</td>\n",
       "      <td>131</td>\n",
       "      <td>286782</td>\n",
       "      <td>[[βίβλος, γένεσις, Ἰησοῦς, χριστός, υἱός, δαυε...</td>\n",
       "    </tr>\n",
       "    <tr>\n",
       "      <th>5</th>\n",
       "      <td>Christian (1-1/2 CE)</td>\n",
       "      <td>171389</td>\n",
       "      <td>38</td>\n",
       "      <td>11959</td>\n",
       "      <td>[[βίβλος, γένεσις, Ἰησοῦς, χριστός, υἱός, δαυε...</td>\n",
       "    </tr>\n",
       "    <tr>\n",
       "      <th>6</th>\n",
       "      <td>Christian (2-3/4 CE)</td>\n",
       "      <td>1792275</td>\n",
       "      <td>65</td>\n",
       "      <td>165245</td>\n",
       "      <td>[[ἀμφίων, Θηβαῖος, ἄριοι, μηθυμναῖος, ἄμφω, ᾠδ...</td>\n",
       "    </tr>\n",
       "    <tr>\n",
       "      <th>7</th>\n",
       "      <td>Christian (4-4/5 CE)</td>\n",
       "      <td>1746266</td>\n",
       "      <td>33</td>\n",
       "      <td>141538</td>\n",
       "      <td>[[ἐπειδη, ὅρος, κράτιστος, διόγνητε, ὑπερεσπου...</td>\n",
       "    </tr>\n",
       "  </tbody>\n",
       "</table>\n",
       "</div>"
      ],
      "text/plain": [
       "                    label  wordcount  doccount  n_sentences  \\\n",
       "0       Archaic (8-6 BCE)     264986        11        20444   \n",
       "1     Classical (5-4 BCE)    3439210       338       256926   \n",
       "2  Non-Christian (1-4 CE)    9172125       411       718144   \n",
       "3              Septuagint     872013        55        53330   \n",
       "4      Christian (1-4 CE)    3366042       131       286782   \n",
       "5    Christian (1-1/2 CE)     171389        38        11959   \n",
       "6    Christian (2-3/4 CE)    1792275        65       165245   \n",
       "7    Christian (4-4/5 CE)    1746266        33       141538   \n",
       "\n",
       "                                           sentences  \n",
       "0  [[μῆνις, ἀείδω, θεά, πηληϊάδεω, Ἀχιλλεύς, οὐλό...  \n",
       "1  [[θουκυδίδης, Ἀθηναῖος, συγγράφω, πόλεμος, Πελ...  \n",
       "2  [[γεωγραφία, σόσσιε, σενεκίων, ἱστορικός, γνῶσ...  \n",
       "3  [[ἕνος, ποιέω, θεός, οὐρανός, γῆ], [γῆ, ἀόρατο...  \n",
       "4  [[βίβλος, γένεσις, Ἰησοῦς, χριστός, υἱός, δαυε...  \n",
       "5  [[βίβλος, γένεσις, Ἰησοῦς, χριστός, υἱός, δαυε...  \n",
       "6  [[ἀμφίων, Θηβαῖος, ἄριοι, μηθυμναῖος, ἄμφω, ᾠδ...  \n",
       "7  [[ἐπειδη, ὅρος, κράτιστος, διόγνητε, ὑπερεσπου...  "
      ]
     },
     "execution_count": 79,
     "metadata": {},
     "output_type": "execute_result"
    }
   ],
   "source": [
    "subselections_df"
   ]
  },
  {
   "cell_type": "code",
   "execution_count": 80,
   "metadata": {},
   "outputs": [],
   "source": [
    "subselections_df[\"idx\"] = subselections_df[\"sentences\"].apply(lambda sentences: [dictionary.doc2idx(sent) for sent in sentences])"
   ]
  },
  {
   "cell_type": "code",
   "execution_count": 81,
   "metadata": {},
   "outputs": [
    {
     "data": {
      "text/html": [
       "<div>\n",
       "<style scoped>\n",
       "    .dataframe tbody tr th:only-of-type {\n",
       "        vertical-align: middle;\n",
       "    }\n",
       "\n",
       "    .dataframe tbody tr th {\n",
       "        vertical-align: top;\n",
       "    }\n",
       "\n",
       "    .dataframe thead th {\n",
       "        text-align: right;\n",
       "    }\n",
       "</style>\n",
       "<table border=\"1\" class=\"dataframe\">\n",
       "  <thead>\n",
       "    <tr style=\"text-align: right;\">\n",
       "      <th></th>\n",
       "      <th>label</th>\n",
       "      <th>wordcount</th>\n",
       "      <th>doccount</th>\n",
       "      <th>n_sentences</th>\n",
       "      <th>sentences</th>\n",
       "      <th>idx</th>\n",
       "    </tr>\n",
       "  </thead>\n",
       "  <tbody>\n",
       "    <tr>\n",
       "      <th>0</th>\n",
       "      <td>Archaic (8-6 BCE)</td>\n",
       "      <td>264986</td>\n",
       "      <td>11</td>\n",
       "      <td>20444</td>\n",
       "      <td>[[μῆνις, ἀείδω, θεά, πηληϊάδεω, Ἀχιλλεύς, οὐλό...</td>\n",
       "      <td>[[2546, 1285, 677, 94436, 1401, 1833, 1193, 10...</td>\n",
       "    </tr>\n",
       "    <tr>\n",
       "      <th>1</th>\n",
       "      <td>Classical (5-4 BCE)</td>\n",
       "      <td>3439210</td>\n",
       "      <td>338</td>\n",
       "      <td>256926</td>\n",
       "      <td>[[θουκυδίδης, Ἀθηναῖος, συγγράφω, πόλεμος, Πελ...</td>\n",
       "      <td>[[5986, 74, 5989, 511, 5984, 5992, 5988, 1200,...</td>\n",
       "    </tr>\n",
       "    <tr>\n",
       "      <th>2</th>\n",
       "      <td>Non-Christian (1-4 CE)</td>\n",
       "      <td>9172125</td>\n",
       "      <td>411</td>\n",
       "      <td>718144</td>\n",
       "      <td>[[γεωγραφία, σόσσιε, σενεκίων, ἱστορικός, γνῶσ...</td>\n",
       "      <td>[[31555, 31557, 31556, 13882, 7064, 3876, 5998...</td>\n",
       "    </tr>\n",
       "    <tr>\n",
       "      <th>3</th>\n",
       "      <td>Septuagint</td>\n",
       "      <td>872013</td>\n",
       "      <td>55</td>\n",
       "      <td>53330</td>\n",
       "      <td>[[ἕνος, ποιέω, θεός, οὐρανός, γῆ], [γῆ, ἀόρατο...</td>\n",
       "      <td>[[3252, 2532, 51, 1284, 3001], [3001, 19377, 1...</td>\n",
       "    </tr>\n",
       "    <tr>\n",
       "      <th>4</th>\n",
       "      <td>Christian (1-4 CE)</td>\n",
       "      <td>3366042</td>\n",
       "      <td>131</td>\n",
       "      <td>286782</td>\n",
       "      <td>[[βίβλος, γένεσις, Ἰησοῦς, χριστός, υἱός, δαυε...</td>\n",
       "      <td>[[17098, 12666, 46, 25204, 198, 149806, 198, 1...</td>\n",
       "    </tr>\n",
       "    <tr>\n",
       "      <th>5</th>\n",
       "      <td>Christian (1-1/2 CE)</td>\n",
       "      <td>171389</td>\n",
       "      <td>38</td>\n",
       "      <td>11959</td>\n",
       "      <td>[[βίβλος, γένεσις, Ἰησοῦς, χριστός, υἱός, δαυε...</td>\n",
       "      <td>[[17098, 12666, 46, 25204, 198, 149806, 198, 1...</td>\n",
       "    </tr>\n",
       "    <tr>\n",
       "      <th>6</th>\n",
       "      <td>Christian (2-3/4 CE)</td>\n",
       "      <td>1792275</td>\n",
       "      <td>65</td>\n",
       "      <td>165245</td>\n",
       "      <td>[[ἀμφίων, Θηβαῖος, ἄριοι, μηθυμναῖος, ἄμφω, ᾠδ...</td>\n",
       "      <td>[[564, 6581, 54073, 82234, 143, 395034, 1251, ...</td>\n",
       "    </tr>\n",
       "    <tr>\n",
       "      <th>7</th>\n",
       "      <td>Christian (4-4/5 CE)</td>\n",
       "      <td>1746266</td>\n",
       "      <td>33</td>\n",
       "      <td>141538</td>\n",
       "      <td>[[ἐπειδη, ὅρος, κράτιστος, διόγνητε, ὑπερεσπου...</td>\n",
       "      <td>[[3363, 1979, 6032, 148282, 451714, 109366, 13...</td>\n",
       "    </tr>\n",
       "  </tbody>\n",
       "</table>\n",
       "</div>"
      ],
      "text/plain": [
       "                    label  wordcount  doccount  n_sentences  \\\n",
       "0       Archaic (8-6 BCE)     264986        11        20444   \n",
       "1     Classical (5-4 BCE)    3439210       338       256926   \n",
       "2  Non-Christian (1-4 CE)    9172125       411       718144   \n",
       "3              Septuagint     872013        55        53330   \n",
       "4      Christian (1-4 CE)    3366042       131       286782   \n",
       "5    Christian (1-1/2 CE)     171389        38        11959   \n",
       "6    Christian (2-3/4 CE)    1792275        65       165245   \n",
       "7    Christian (4-4/5 CE)    1746266        33       141538   \n",
       "\n",
       "                                           sentences  \\\n",
       "0  [[μῆνις, ἀείδω, θεά, πηληϊάδεω, Ἀχιλλεύς, οὐλό...   \n",
       "1  [[θουκυδίδης, Ἀθηναῖος, συγγράφω, πόλεμος, Πελ...   \n",
       "2  [[γεωγραφία, σόσσιε, σενεκίων, ἱστορικός, γνῶσ...   \n",
       "3  [[ἕνος, ποιέω, θεός, οὐρανός, γῆ], [γῆ, ἀόρατο...   \n",
       "4  [[βίβλος, γένεσις, Ἰησοῦς, χριστός, υἱός, δαυε...   \n",
       "5  [[βίβλος, γένεσις, Ἰησοῦς, χριστός, υἱός, δαυε...   \n",
       "6  [[ἀμφίων, Θηβαῖος, ἄριοι, μηθυμναῖος, ἄμφω, ᾠδ...   \n",
       "7  [[ἐπειδη, ὅρος, κράτιστος, διόγνητε, ὑπερεσπου...   \n",
       "\n",
       "                                                 idx  \n",
       "0  [[2546, 1285, 677, 94436, 1401, 1833, 1193, 10...  \n",
       "1  [[5986, 74, 5989, 511, 5984, 5992, 5988, 1200,...  \n",
       "2  [[31555, 31557, 31556, 13882, 7064, 3876, 5998...  \n",
       "3  [[3252, 2532, 51, 1284, 3001], [3001, 19377, 1...  \n",
       "4  [[17098, 12666, 46, 25204, 198, 149806, 198, 1...  \n",
       "5  [[17098, 12666, 46, 25204, 198, 149806, 198, 1...  \n",
       "6  [[564, 6581, 54073, 82234, 143, 395034, 1251, ...  \n",
       "7  [[3363, 1979, 6032, 148282, 451714, 109366, 13...  "
      ]
     },
     "execution_count": 81,
     "metadata": {},
     "output_type": "execute_result"
    }
   ],
   "source": [
    "subselections_df"
   ]
  },
  {
   "cell_type": "code",
   "execution_count": 89,
   "metadata": {},
   "outputs": [],
   "source": [
    "christian_docs = subselections_df.at[4, \"sentences\"]"
   ]
  },
  {
   "cell_type": "code",
   "execution_count": 106,
   "metadata": {},
   "outputs": [],
   "source": [
    "def lsa_model(docs):\n",
    "    vocabulary =  list(set([word for doc in docs for word in doc]))\n",
    "    vec =  TfidfVectorizer(vocabulary=vocabulary) ### initiaze the model\n",
    "    X = vec.fit_transform([\" \".join(doc) for doc in docs]) ### run the model\n",
    "    Xc = (X.T * X)\n",
    "    svd = TruncatedSVD(n_components=50, n_iter=5, random_state=42)\n",
    "    svd.fit(Xc)\n",
    "    #term2doc = pd.DataFrame(Xc.toarray(), columns=vec.get_feature_names(), index=vec.get_feature_names())\n",
    "    lsa_model_data = pd.DataFrame(svd.components_, columns=vec.get_feature_names())\n",
    "    return lsa_model_data, Xc#term2doc"
   ]
  },
  {
   "cell_type": "code",
   "execution_count": 107,
   "metadata": {},
   "outputs": [],
   "source": [
    "model, term2doc = lsa_model(christian_docs)"
   ]
  },
  {
   "cell_type": "code",
   "execution_count": 108,
   "metadata": {},
   "outputs": [
    {
     "data": {
      "text/plain": [
       "117515"
      ]
     },
     "execution_count": 108,
     "metadata": {},
     "output_type": "execute_result"
    }
   ],
   "source": [
    "len(model.columns)"
   ]
  },
  {
   "cell_type": "code",
   "execution_count": 102,
   "metadata": {},
   "outputs": [],
   "source": [
    "def get_most_similar(model_df, target_term, number):\n",
    "  all_similar = []\n",
    "  for term in model_df.columns:\n",
    "    similarity = (term, cosine_similarity([model_df[target_term],  model_df[term]])[0][1])\n",
    "    all_similar.append(similarity)\n",
    "  return sorted(all_similar, key=lambda number: number[1], reverse=True)[1:number]"
   ]
  },
  {
   "cell_type": "code",
   "execution_count": 103,
   "metadata": {},
   "outputs": [],
   "source": [
    "words = [\"δίκαιος\", \"δίκη\", \"δικαιοσύνη\"]"
   ]
  },
  {
   "cell_type": "code",
   "execution_count": 109,
   "metadata": {},
   "outputs": [],
   "source": [
    "neighbours = {}  \n",
    "for word in words:\n",
    "    neighbours[word] = get_most_similar(model, word, 10)"
   ]
  },
  {
   "cell_type": "code",
   "execution_count": 110,
   "metadata": {},
   "outputs": [
    {
     "data": {
      "text/html": [
       "<div>\n",
       "<style scoped>\n",
       "    .dataframe tbody tr th:only-of-type {\n",
       "        vertical-align: middle;\n",
       "    }\n",
       "\n",
       "    .dataframe tbody tr th {\n",
       "        vertical-align: top;\n",
       "    }\n",
       "\n",
       "    .dataframe thead th {\n",
       "        text-align: right;\n",
       "    }\n",
       "</style>\n",
       "<table border=\"1\" class=\"dataframe\">\n",
       "  <thead>\n",
       "    <tr style=\"text-align: right;\">\n",
       "      <th></th>\n",
       "      <th>δίκαιος</th>\n",
       "      <th>δίκη</th>\n",
       "      <th>δικαιοσύνη</th>\n",
       "    </tr>\n",
       "  </thead>\n",
       "  <tbody>\n",
       "    <tr>\n",
       "      <th>0</th>\n",
       "      <td>(ιειμένην, 0.9834371832818561)</td>\n",
       "      <td>(μετελεύσονται, 0.9384522490347709)</td>\n",
       "      <td>(καθυπηρετεῖ, 0.9710013738851778)</td>\n",
       "    </tr>\n",
       "    <tr>\n",
       "      <th>1</th>\n",
       "      <td>(εὐστοχίου, 0.9830720889621722)</td>\n",
       "      <td>(ἐπικουροί, 0.9384522490347709)</td>\n",
       "      <td>(ἐνδύσονται, 0.9706819000158255)</td>\n",
       "    </tr>\n",
       "    <tr>\n",
       "      <th>2</th>\n",
       "      <td>(λογιωτάτου, 0.9830720889621722)</td>\n",
       "      <td>(ἐριννύες, 0.9384522490347709)</td>\n",
       "      <td>(σιοί, 0.9706819000158255)</td>\n",
       "    </tr>\n",
       "    <tr>\n",
       "      <th>3</th>\n",
       "      <td>(λελύπηται, 0.9830720889621722)</td>\n",
       "      <td>(καταπεπηγμένων, 0.9344969432505092)</td>\n",
       "      <td>(περικτᾶται, 0.9699396541878471)</td>\n",
       "    </tr>\n",
       "    <tr>\n",
       "      <th>4</th>\n",
       "      <td>(τηρούσης, 0.9827599613491105)</td>\n",
       "      <td>(ἐξέτισας, 0.9182233983592916)</td>\n",
       "      <td>(ἡδυπαθείᾳ, 0.9699396541878471)</td>\n",
       "    </tr>\n",
       "    <tr>\n",
       "      <th>5</th>\n",
       "      <td>(μιμείσθω, 0.9826270670854331)</td>\n",
       "      <td>(γλωσσαργία, 0.8999555833389017)</td>\n",
       "      <td>(ἅνευ, 0.9695269024725653)</td>\n",
       "    </tr>\n",
       "    <tr>\n",
       "      <th>6</th>\n",
       "      <td>(ἰὼδ, 0.9822301096106603)</td>\n",
       "      <td>(κρυσταλλοειδεῖ, 0.8997426356399815)</td>\n",
       "      <td>(χρωννύντες, 0.9695269024725653)</td>\n",
       "    </tr>\n",
       "    <tr>\n",
       "      <th>7</th>\n",
       "      <td>(ἐπαράντων, 0.9820947343036778)</td>\n",
       "      <td>(διώκτας, 0.8970726088109655)</td>\n",
       "      <td>(πρυπορεύσεται, 0.9662484878532644)</td>\n",
       "    </tr>\n",
       "    <tr>\n",
       "      <th>8</th>\n",
       "      <td>(πειλθαρχεῖν, 0.9820947343036778)</td>\n",
       "      <td>(προςώποις, 0.8861867911971005)</td>\n",
       "      <td>(ἐπιφαινέσθω, 0.9660042345965665)</td>\n",
       "    </tr>\n",
       "  </tbody>\n",
       "</table>\n",
       "</div>"
      ],
      "text/plain": [
       "                             δίκαιος                                  δίκη  \\\n",
       "0     (ιειμένην, 0.9834371832818561)   (μετελεύσονται, 0.9384522490347709)   \n",
       "1    (εὐστοχίου, 0.9830720889621722)       (ἐπικουροί, 0.9384522490347709)   \n",
       "2   (λογιωτάτου, 0.9830720889621722)        (ἐριννύες, 0.9384522490347709)   \n",
       "3    (λελύπηται, 0.9830720889621722)  (καταπεπηγμένων, 0.9344969432505092)   \n",
       "4     (τηρούσης, 0.9827599613491105)        (ἐξέτισας, 0.9182233983592916)   \n",
       "5     (μιμείσθω, 0.9826270670854331)      (γλωσσαργία, 0.8999555833389017)   \n",
       "6          (ἰὼδ, 0.9822301096106603)  (κρυσταλλοειδεῖ, 0.8997426356399815)   \n",
       "7    (ἐπαράντων, 0.9820947343036778)         (διώκτας, 0.8970726088109655)   \n",
       "8  (πειλθαρχεῖν, 0.9820947343036778)       (προςώποις, 0.8861867911971005)   \n",
       "\n",
       "                            δικαιοσύνη  \n",
       "0    (καθυπηρετεῖ, 0.9710013738851778)  \n",
       "1     (ἐνδύσονται, 0.9706819000158255)  \n",
       "2           (σιοί, 0.9706819000158255)  \n",
       "3     (περικτᾶται, 0.9699396541878471)  \n",
       "4      (ἡδυπαθείᾳ, 0.9699396541878471)  \n",
       "5           (ἅνευ, 0.9695269024725653)  \n",
       "6     (χρωννύντες, 0.9695269024725653)  \n",
       "7  (πρυπορεύσεται, 0.9662484878532644)  \n",
       "8    (ἐπιφαινέσθω, 0.9660042345965665)  "
      ]
     },
     "execution_count": 110,
     "metadata": {},
     "output_type": "execute_result"
    }
   ],
   "source": [
    "pd.DataFrame(neighbours)"
   ]
  },
  {
   "cell_type": "code",
   "execution_count": null,
   "metadata": {},
   "outputs": [],
   "source": []
  }
 ],
 "metadata": {
  "colab": {
   "authorship_tag": "ABX9TyPzJG8Ttu74+AUFBxNNmOYH",
   "include_colab_link": true,
   "name": "OVERVIEW.ipynb",
   "provenance": []
  },
  "kernelspec": {
   "display_name": "Python 3",
   "language": "python",
   "name": "python3"
  },
  "language_info": {
   "codemirror_mode": {
    "name": "ipython",
    "version": 3
   },
   "file_extension": ".py",
   "mimetype": "text/x-python",
   "name": "python",
   "nbconvert_exporter": "python",
   "pygments_lexer": "ipython3",
   "version": "3.6.9"
  }
 },
 "nbformat": 4,
 "nbformat_minor": 1
}
