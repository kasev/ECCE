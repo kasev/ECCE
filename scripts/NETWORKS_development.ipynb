{
 "cells": [
  {
   "cell_type": "code",
   "execution_count": 37,
   "metadata": {
    "colab": {
     "base_uri": "https://localhost:8080/"
    },
    "id": "YLcAu3mXJOpL",
    "outputId": "f6031a77-240e-4c72-fb76-e6e20186523b"
   },
   "outputs": [],
   "source": [
    "### PREREQUISTIES\n",
    "### (many used only in one notebook...)\n",
    "\n",
    "import os\n",
    "from importlib import reload\n",
    "import pandas as pd\n",
    "import numpy as np\n",
    "import pickle\n",
    "import collections\n",
    "import math\n",
    "import random\n",
    "import sys\n",
    "import csv\n",
    "import unicodedata\n",
    "import requests\n",
    "import re\n",
    "import networkx as nx\n",
    "from scipy import stats\n",
    "import plotly\n",
    "import kaleido\n",
    "\n",
    "import nltk\n",
    "\n",
    "import matplotlib.pyplot as plt\n",
    "import seaborn as sns\n",
    "\n",
    "# gensim parts\n",
    "from gensim import corpora\n",
    "from gensim import models\n",
    "\n",
    "### scikit-learn\n",
    "from sklearn.feature_extraction.text import CountVectorizer\n",
    "from sklearn.feature_extraction.text import TfidfVectorizer\n",
    "\n",
    "from sklearn.decomposition import TruncatedSVD \n",
    "from sklearn.metrics.pairwise import cosine_similarity\n",
    "from sklearn.metrics.pairwise import euclidean_distances\n",
    "\n",
    "import plotly.graph_objects as go\n",
    "\n",
    "import sddk"
   ]
  },
  {
   "cell_type": "code",
   "execution_count": 2,
   "metadata": {},
   "outputs": [
    {
     "data": {
      "text/html": [
       "        <script type=\"text/javascript\">\n",
       "        window.PlotlyConfig = {MathJaxConfig: 'local'};\n",
       "        if (window.MathJax) {MathJax.Hub.Config({SVG: {font: \"STIX-Web\"}});}\n",
       "        if (typeof require !== 'undefined') {\n",
       "        require.undef(\"plotly\");\n",
       "        requirejs.config({\n",
       "            paths: {\n",
       "                'plotly': ['https://cdn.plot.ly/plotly-latest.min']\n",
       "            }\n",
       "        });\n",
       "        require(['plotly'], function(Plotly) {\n",
       "            window._Plotly = Plotly;\n",
       "        });\n",
       "        }\n",
       "        </script>\n",
       "        "
      ]
     },
     "metadata": {},
     "output_type": "display_data"
    }
   ],
   "source": [
    "import textnet"
   ]
  },
  {
   "cell_type": "code",
   "execution_count": 133,
   "metadata": {},
   "outputs": [
    {
     "data": {
      "text/html": [
       "        <script type=\"text/javascript\">\n",
       "        window.PlotlyConfig = {MathJaxConfig: 'local'};\n",
       "        if (window.MathJax) {MathJax.Hub.Config({SVG: {font: \"STIX-Web\"}});}\n",
       "        if (typeof require !== 'undefined') {\n",
       "        require.undef(\"plotly\");\n",
       "        requirejs.config({\n",
       "            paths: {\n",
       "                'plotly': ['https://cdn.plot.ly/plotly-latest.min']\n",
       "            }\n",
       "        });\n",
       "        require(['plotly'], function(Plotly) {\n",
       "            window._Plotly = Plotly;\n",
       "        });\n",
       "        }\n",
       "        </script>\n",
       "        "
      ]
     },
     "metadata": {},
     "output_type": "display_data"
    },
    {
     "data": {
      "text/plain": [
       "<module 'textnet' from '/home/kasev/ECCE_AGT/scripts/textnet.py'>"
      ]
     },
     "execution_count": 133,
     "metadata": {},
     "output_type": "execute_result"
    }
   ],
   "source": [
    "reload(textnet)"
   ]
  },
  {
   "cell_type": "code",
   "execution_count": 3,
   "metadata": {
    "colab": {
     "base_uri": "https://localhost:8080/"
    },
    "id": "Vk65k519TvBW",
    "outputId": "92254476-4708-4e31-a8a4-7ceedba66d8b"
   },
   "outputs": [
    {
     "name": "stdout",
     "output_type": "stream",
     "text": [
      "sciencedata.dk username (format '123456@au.dk'): 648597@au.dk\n",
      "sciencedata.dk password: ········\n",
      "connection with shared folder established with you as its owner\n",
      "endpoint variable has been configured to: https://sciencedata.dk/files/SDAM_root/\n"
     ]
    }
   ],
   "source": [
    "### not neccessary for reading the data, just for exporting them to sciencedata.dk\n",
    "conf = sddk.configure(\"SDAM_root\", \"648597@au.dk\")"
   ]
  },
  {
   "cell_type": "code",
   "execution_count": 154,
   "metadata": {
    "colab": {
     "base_uri": "https://localhost:8080/",
     "height": 394
    },
    "id": "uZILdTQmJQlv",
    "outputId": "507cee95-3b09-4f0d-cce8-72b93780d888"
   },
   "outputs": [
    {
     "data": {
      "text/html": [
       "<div>\n",
       "<style scoped>\n",
       "    .dataframe tbody tr th:only-of-type {\n",
       "        vertical-align: middle;\n",
       "    }\n",
       "\n",
       "    .dataframe tbody tr th {\n",
       "        vertical-align: top;\n",
       "    }\n",
       "\n",
       "    .dataframe thead th {\n",
       "        text-align: right;\n",
       "    }\n",
       "</style>\n",
       "<table border=\"1\" class=\"dataframe\">\n",
       "  <thead>\n",
       "    <tr style=\"text-align: right;\">\n",
       "      <th></th>\n",
       "      <th>filename</th>\n",
       "      <th>author</th>\n",
       "      <th>title</th>\n",
       "      <th>wordcount</th>\n",
       "      <th>author_id</th>\n",
       "      <th>doc_id</th>\n",
       "      <th>raw_date</th>\n",
       "      <th>date_avr</th>\n",
       "      <th>date_probs</th>\n",
       "      <th>date_manual</th>\n",
       "      <th>provenience</th>\n",
       "      <th>n_sentences</th>\n",
       "      <th>lemmatized_sentences</th>\n",
       "      <th>tlg_epithet</th>\n",
       "      <th>lemmata</th>\n",
       "      <th>lemmata_wordcount</th>\n",
       "    </tr>\n",
       "  </thead>\n",
       "  <tbody>\n",
       "    <tr>\n",
       "      <th>0</th>\n",
       "      <td>tlg0001.tlg001.perseus-grc2.xml</td>\n",
       "      <td>Apollonius Rhodius</td>\n",
       "      <td>Argonautica</td>\n",
       "      <td>38822</td>\n",
       "      <td>tlg0001</td>\n",
       "      <td>tlg0001.tlg001</td>\n",
       "      <td>3 B.C.</td>\n",
       "      <td>-2.5</td>\n",
       "      <td>{'-2.5': 1}</td>\n",
       "      <td>-2.5</td>\n",
       "      <td>pagan</td>\n",
       "      <td>3252</td>\n",
       "      <td>[[ἄρχω, Φοῖβος, παλαιγενεών, κλέος, φώς, μιμνή...</td>\n",
       "      <td>Epici/-ae</td>\n",
       "      <td>[ἄρχω, Φοῖβος, παλαιγενεών, κλέος, φώς, μιμνήσ...</td>\n",
       "      <td>23231</td>\n",
       "    </tr>\n",
       "    <tr>\n",
       "      <th>1</th>\n",
       "      <td>tlg0003.tlg001.perseus-grc2.xml</td>\n",
       "      <td>Thucydides</td>\n",
       "      <td>The Peloponnesian War</td>\n",
       "      <td>150118</td>\n",
       "      <td>tlg0003</td>\n",
       "      <td>tlg0003.tlg001</td>\n",
       "      <td>5 B.C.</td>\n",
       "      <td>-4.5</td>\n",
       "      <td>{'-4.5': 1}</td>\n",
       "      <td>-4.5</td>\n",
       "      <td>pagan</td>\n",
       "      <td>6068</td>\n",
       "      <td>[[θουκυδιδής, Ἀθηναῖος, συγγράφω, πόλεμος, Πελ...</td>\n",
       "      <td>Historici/-ae</td>\n",
       "      <td>[θουκυδιδής, Ἀθηναῖος, συγγράφω, πόλεμος, Πελο...</td>\n",
       "      <td>72357</td>\n",
       "    </tr>\n",
       "    <tr>\n",
       "      <th>2</th>\n",
       "      <td>tlg0004.tlg001.perseus-grc1.xml</td>\n",
       "      <td>Diogenes Laertius</td>\n",
       "      <td>Lives of Eminent Philosophers</td>\n",
       "      <td>110763</td>\n",
       "      <td>tlg0004</td>\n",
       "      <td>tlg0004.tlg001</td>\n",
       "      <td>A.D. 3</td>\n",
       "      <td>2.5</td>\n",
       "      <td>{'2.5': 1}</td>\n",
       "      <td>NaN</td>\n",
       "      <td></td>\n",
       "      <td>10245</td>\n",
       "      <td>[[φιλοσοφία, ἔργον, ἔνειμι, φάσις, βάρβαρος, ἄ...</td>\n",
       "      <td>Biographi</td>\n",
       "      <td>[φιλοσοφία, ἔργον, ἔνειμι, φάσις, βάρβαρος, ἄρ...</td>\n",
       "      <td>56868</td>\n",
       "    </tr>\n",
       "    <tr>\n",
       "      <th>3</th>\n",
       "      <td>tlg0005.tlg001.perseus-grc1.xml</td>\n",
       "      <td>Theocritus</td>\n",
       "      <td>Idylls</td>\n",
       "      <td>19200</td>\n",
       "      <td>tlg0005</td>\n",
       "      <td>tlg0005.tlg001</td>\n",
       "      <td>4-3 B.C.</td>\n",
       "      <td>-3.0</td>\n",
       "      <td>{'-3.5': 0.5, '-2.5': 0.5}</td>\n",
       "      <td>NaN</td>\n",
       "      <td></td>\n",
       "      <td>1982</td>\n",
       "      <td>[[ψιθύρισμα, πίτυς, αἰπολέ, τῆνος, παγαισί, με...</td>\n",
       "      <td>Bucolici</td>\n",
       "      <td>[ψιθύρισμα, πίτυς, αἰπολέ, τῆνος, παγαισί, μελ...</td>\n",
       "      <td>11483</td>\n",
       "    </tr>\n",
       "    <tr>\n",
       "      <th>4</th>\n",
       "      <td>tlg0005.tlg002.perseus-grc1.xml</td>\n",
       "      <td>Theocritus</td>\n",
       "      <td>Epigrams</td>\n",
       "      <td>1734</td>\n",
       "      <td>tlg0005</td>\n",
       "      <td>tlg0005.tlg002</td>\n",
       "      <td>4-3 B.C.</td>\n",
       "      <td>-3.0</td>\n",
       "      <td>{'-3.5': 0.5, '-2.5': 0.5}</td>\n",
       "      <td>NaN</td>\n",
       "      <td></td>\n",
       "      <td>152</td>\n",
       "      <td>[[ῥόδον, δροσοεντά, καταπυκνός, ἐκεινά, ἕρπυλλ...</td>\n",
       "      <td>Bucolici</td>\n",
       "      <td>[ῥόδον, δροσοεντά, καταπυκνός, ἐκεινά, ἕρπυλλο...</td>\n",
       "      <td>1053</td>\n",
       "    </tr>\n",
       "  </tbody>\n",
       "</table>\n",
       "</div>"
      ],
      "text/plain": [
       "                          filename              author  \\\n",
       "0  tlg0001.tlg001.perseus-grc2.xml  Apollonius Rhodius   \n",
       "1  tlg0003.tlg001.perseus-grc2.xml          Thucydides   \n",
       "2  tlg0004.tlg001.perseus-grc1.xml   Diogenes Laertius   \n",
       "3  tlg0005.tlg001.perseus-grc1.xml          Theocritus   \n",
       "4  tlg0005.tlg002.perseus-grc1.xml          Theocritus   \n",
       "\n",
       "                           title  wordcount author_id          doc_id  \\\n",
       "0                    Argonautica      38822   tlg0001  tlg0001.tlg001   \n",
       "1          The Peloponnesian War     150118   tlg0003  tlg0003.tlg001   \n",
       "2  Lives of Eminent Philosophers     110763   tlg0004  tlg0004.tlg001   \n",
       "3                        Idylls       19200   tlg0005  tlg0005.tlg001   \n",
       "4                      Epigrams        1734   tlg0005  tlg0005.tlg002   \n",
       "\n",
       "   raw_date  date_avr                  date_probs  date_manual provenience  \\\n",
       "0    3 B.C.      -2.5                 {'-2.5': 1}         -2.5       pagan   \n",
       "1    5 B.C.      -4.5                 {'-4.5': 1}         -4.5       pagan   \n",
       "2    A.D. 3       2.5                  {'2.5': 1}          NaN               \n",
       "3  4-3 B.C.      -3.0  {'-3.5': 0.5, '-2.5': 0.5}          NaN               \n",
       "4  4-3 B.C.      -3.0  {'-3.5': 0.5, '-2.5': 0.5}          NaN               \n",
       "\n",
       "   n_sentences                               lemmatized_sentences  \\\n",
       "0         3252  [[ἄρχω, Φοῖβος, παλαιγενεών, κλέος, φώς, μιμνή...   \n",
       "1         6068  [[θουκυδιδής, Ἀθηναῖος, συγγράφω, πόλεμος, Πελ...   \n",
       "2        10245  [[φιλοσοφία, ἔργον, ἔνειμι, φάσις, βάρβαρος, ἄ...   \n",
       "3         1982  [[ψιθύρισμα, πίτυς, αἰπολέ, τῆνος, παγαισί, με...   \n",
       "4          152  [[ῥόδον, δροσοεντά, καταπυκνός, ἐκεινά, ἕρπυλλ...   \n",
       "\n",
       "     tlg_epithet                                            lemmata  \\\n",
       "0      Epici/-ae  [ἄρχω, Φοῖβος, παλαιγενεών, κλέος, φώς, μιμνήσ...   \n",
       "1  Historici/-ae  [θουκυδιδής, Ἀθηναῖος, συγγράφω, πόλεμος, Πελο...   \n",
       "2      Biographi  [φιλοσοφία, ἔργον, ἔνειμι, φάσις, βάρβαρος, ἄρ...   \n",
       "3       Bucolici  [ψιθύρισμα, πίτυς, αἰπολέ, τῆνος, παγαισί, μελ...   \n",
       "4       Bucolici  [ῥόδον, δροσοεντά, καταπυκνός, ἐκεινά, ἕρπυλλο...   \n",
       "\n",
       "   lemmata_wordcount  \n",
       "0              23231  \n",
       "1              72357  \n",
       "2              56868  \n",
       "3              11483  \n",
       "4               1053  "
      ]
     },
     "execution_count": 154,
     "metadata": {},
     "output_type": "execute_result"
    }
   ],
   "source": [
    "AGT = sddk.read_file(\"SDAM_data/AGT/AGT_20201124.json\", \"df\", conf)\n",
    "AGT.head(5)"
   ]
  },
  {
   "cell_type": "code",
   "execution_count": 155,
   "metadata": {},
   "outputs": [
    {
     "data": {
      "text/plain": [
       "14573055"
      ]
     },
     "execution_count": 155,
     "metadata": {},
     "output_type": "execute_result"
    }
   ],
   "source": [
    "AGT[\"lemmata_wordcount\"].sum()"
   ]
  },
  {
   "cell_type": "code",
   "execution_count": 156,
   "metadata": {
    "id": "JbM6CmYLJQlv"
   },
   "outputs": [],
   "source": [
    "def get_flat_sentences(series):\n",
    "    sentences_list = [sent for doc in series.tolist() for sent in doc]\n",
    "    return sentences_list"
   ]
  },
  {
   "cell_type": "code",
   "execution_count": 157,
   "metadata": {
    "id": "Mv002MzcJQlw"
   },
   "outputs": [],
   "source": [
    "subcorpora_dict = {\n",
    "    \"Pagan (8th c. BCE - 4th c. CE)\" : AGT[(AGT[\"provenience\"]==\"pagan\") & (AGT[\"date_avr\"] < 4)],\n",
    "    \"Pagan (1st - 4th c. CE)\" : AGT[(AGT[\"date_avr\"].between(0, 4)) & (AGT[\"provenience\"]==\"pagan\")],\n",
    "    \"Septuagint\" : AGT[AGT[\"author_id\"]==\"tlg0527\"],\n",
    "    \"Philo of Alexandria\" : AGT[AGT[\"author_id\"]==\"tlg0018\"],\n",
    "    \"Titus Flavius Josephus\" : AGT[AGT[\"author_id\"]==\"tlg0526\"],\n",
    "    \"Paul of Tarsus\" : AGT[AGT[\"author_id\"]==\"tlg0031paul\"],\n",
    "    \"New Testament\" : AGT[AGT[\"author_id\"].str.startswith(\"tlg0031\")],\n",
    "    \"Christian (1st - 4th c. CE)\" : AGT[(AGT[\"date_avr\"] < 4) & (AGT[\"provenience\"]==\"christian\")]}"
   ]
  },
  {
   "cell_type": "code",
   "execution_count": 158,
   "metadata": {
    "colab": {
     "base_uri": "https://localhost:8080/",
     "height": 297
    },
    "id": "AKtzFvZnJQlw",
    "outputId": "8e51f6b4-e4f3-4d6c-d6ba-6142441d07dd"
   },
   "outputs": [
    {
     "data": {
      "text/html": [
       "<div>\n",
       "<style scoped>\n",
       "    .dataframe tbody tr th:only-of-type {\n",
       "        vertical-align: middle;\n",
       "    }\n",
       "\n",
       "    .dataframe tbody tr th {\n",
       "        vertical-align: top;\n",
       "    }\n",
       "\n",
       "    .dataframe thead th {\n",
       "        text-align: right;\n",
       "    }\n",
       "</style>\n",
       "<table border=\"1\" class=\"dataframe\">\n",
       "  <thead>\n",
       "    <tr style=\"text-align: right;\">\n",
       "      <th></th>\n",
       "      <th>label</th>\n",
       "      <th>wordcount</th>\n",
       "      <th>doccount</th>\n",
       "      <th>n_sentences</th>\n",
       "      <th>sentences</th>\n",
       "      <th>lemmata</th>\n",
       "    </tr>\n",
       "  </thead>\n",
       "  <tbody>\n",
       "    <tr>\n",
       "      <th>0</th>\n",
       "      <td>Pagan (8th c. BCE - 4th c. CE)</td>\n",
       "      <td>12965219</td>\n",
       "      <td>774</td>\n",
       "      <td>1039409</td>\n",
       "      <td>[[ἄρχω, Φοῖβος, παλαιγενεών, κλέος, φώς, μιμνή...</td>\n",
       "      <td>[[ἄρχω, Φοῖβος, παλαιγενεών, κλέος, φώς, μιμνή...</td>\n",
       "    </tr>\n",
       "    <tr>\n",
       "      <th>1</th>\n",
       "      <td>Pagan (1st - 4th c. CE)</td>\n",
       "      <td>8692448</td>\n",
       "      <td>411</td>\n",
       "      <td>723956</td>\n",
       "      <td>[[γεωγραφία, σοσσιέ, σενεκιών, ἱστορικοί, διαφ...</td>\n",
       "      <td>[[γεωγραφία, σοσσιέ, σενεκιών, ἱστορικοί, διαφ...</td>\n",
       "    </tr>\n",
       "    <tr>\n",
       "      <th>2</th>\n",
       "      <td>Septuagint</td>\n",
       "      <td>799083</td>\n",
       "      <td>55</td>\n",
       "      <td>57856</td>\n",
       "      <td>[[ἔν, ποιέω, θεός, οὐρανός, γῆ], [γῆ, εἰμί, ἀό...</td>\n",
       "      <td>[[ἔν, ποιέω, θεός, οὐρανός, γῆ, γῆ, εἰμί, ἀόρα...</td>\n",
       "    </tr>\n",
       "    <tr>\n",
       "      <th>3</th>\n",
       "      <td>Philo of Alexandria</td>\n",
       "      <td>643011</td>\n",
       "      <td>31</td>\n",
       "      <td>82966</td>\n",
       "      <td>[[ἄλλος, νομοθέτης, ἀκαλλώπιστος, γυμνός, νομι...</td>\n",
       "      <td>[[ἄλλος, νομοθέτης, ἀκαλλώπιστος, γυμνός, νομι...</td>\n",
       "    </tr>\n",
       "    <tr>\n",
       "      <th>4</th>\n",
       "      <td>Titus Flavius Josephus</td>\n",
       "      <td>469580</td>\n",
       "      <td>4</td>\n",
       "      <td>19707</td>\n",
       "      <td>[[ἱστορία, συγγραφείν, βούλομαι, εἷς, αὐτός, ὁ...</td>\n",
       "      <td>[[ἱστορία, συγγραφείν, βούλομαι, εἷς, αὐτός, ὁ...</td>\n",
       "    </tr>\n",
       "    <tr>\n",
       "      <th>5</th>\n",
       "      <td>Paul of Tarsus</td>\n",
       "      <td>24066</td>\n",
       "      <td>7</td>\n",
       "      <td>1632</td>\n",
       "      <td>[[δοῦλος, Ἰησοῦς, Χριστός, κλητός, ἀπόστολος, ...</td>\n",
       "      <td>[[δοῦλος, Ἰησοῦς, Χριστός, κλητός, ἀπόστολος, ...</td>\n",
       "    </tr>\n",
       "    <tr>\n",
       "      <th>6</th>\n",
       "      <td>New Testament</td>\n",
       "      <td>137787</td>\n",
       "      <td>27</td>\n",
       "      <td>8698</td>\n",
       "      <td>[[βίβλος, γένεσις, Ἰησοῦς, Χριστός, υἱός, Δαυί...</td>\n",
       "      <td>[[βίβλος, γένεσις, Ἰησοῦς, Χριστός, υἱός, Δαυί...</td>\n",
       "    </tr>\n",
       "    <tr>\n",
       "      <th>7</th>\n",
       "      <td>Christian (1st - 4th c. CE)</td>\n",
       "      <td>2975644</td>\n",
       "      <td>131</td>\n",
       "      <td>291084</td>\n",
       "      <td>[[βίβλος, γένεσις, Ἰησοῦς, Χριστός, υἱός, Δαυί...</td>\n",
       "      <td>[[βίβλος, γένεσις, Ἰησοῦς, Χριστός, υἱός, Δαυί...</td>\n",
       "    </tr>\n",
       "  </tbody>\n",
       "</table>\n",
       "</div>"
      ],
      "text/plain": [
       "                            label  wordcount  doccount  n_sentences  \\\n",
       "0  Pagan (8th c. BCE - 4th c. CE)   12965219       774      1039409   \n",
       "1         Pagan (1st - 4th c. CE)    8692448       411       723956   \n",
       "2                      Septuagint     799083        55        57856   \n",
       "3             Philo of Alexandria     643011        31        82966   \n",
       "4          Titus Flavius Josephus     469580         4        19707   \n",
       "5                  Paul of Tarsus      24066         7         1632   \n",
       "6                   New Testament     137787        27         8698   \n",
       "7     Christian (1st - 4th c. CE)    2975644       131       291084   \n",
       "\n",
       "                                           sentences  \\\n",
       "0  [[ἄρχω, Φοῖβος, παλαιγενεών, κλέος, φώς, μιμνή...   \n",
       "1  [[γεωγραφία, σοσσιέ, σενεκιών, ἱστορικοί, διαφ...   \n",
       "2  [[ἔν, ποιέω, θεός, οὐρανός, γῆ], [γῆ, εἰμί, ἀό...   \n",
       "3  [[ἄλλος, νομοθέτης, ἀκαλλώπιστος, γυμνός, νομι...   \n",
       "4  [[ἱστορία, συγγραφείν, βούλομαι, εἷς, αὐτός, ὁ...   \n",
       "5  [[δοῦλος, Ἰησοῦς, Χριστός, κλητός, ἀπόστολος, ...   \n",
       "6  [[βίβλος, γένεσις, Ἰησοῦς, Χριστός, υἱός, Δαυί...   \n",
       "7  [[βίβλος, γένεσις, Ἰησοῦς, Χριστός, υἱός, Δαυί...   \n",
       "\n",
       "                                             lemmata  \n",
       "0  [[ἄρχω, Φοῖβος, παλαιγενεών, κλέος, φώς, μιμνή...  \n",
       "1  [[γεωγραφία, σοσσιέ, σενεκιών, ἱστορικοί, διαφ...  \n",
       "2  [[ἔν, ποιέω, θεός, οὐρανός, γῆ, γῆ, εἰμί, ἀόρα...  \n",
       "3  [[ἄλλος, νομοθέτης, ἀκαλλώπιστος, γυμνός, νομι...  \n",
       "4  [[ἱστορία, συγγραφείν, βούλομαι, εἷς, αὐτός, ὁ...  \n",
       "5  [[δοῦλος, Ἰησοῦς, Χριστός, κλητός, ἀπόστολος, ...  \n",
       "6  [[βίβλος, γένεσις, Ἰησοῦς, Χριστός, υἱός, Δαυί...  \n",
       "7  [[βίβλος, γένεσις, Ἰησοῦς, Χριστός, υἱός, Δαυί...  "
      ]
     },
     "execution_count": 158,
     "metadata": {},
     "output_type": "execute_result"
    }
   ],
   "source": [
    "subselections = []\n",
    "for key in subcorpora_dict.keys():\n",
    "    subselection = subcorpora_dict[key]\n",
    "    subselection_dict = {}\n",
    "    wordcount = subselection[\"wordcount\"].sum()\n",
    "    doccount = len(subselection)\n",
    "    lemmata = subselection[\"lemmata\"].tolist()\n",
    "    sents = get_flat_sentences(subselection[\"lemmatized_sentences\"])\n",
    "    sents_len = len(sents)\n",
    "    subselection_dict.update({\"label\" : key, \"wordcount\" : wordcount, \"doccount\" : doccount, \"n_sentences\": sents_len,\"sentences\" : sents, \"lemmata\" : lemmata})\n",
    "    subselections.append(subselection_dict)\n",
    "subselections_df = pd.DataFrame(subselections)\n",
    "subselections_df"
   ]
  },
  {
   "cell_type": "markdown",
   "metadata": {
    "id": "jRnjxd5aJQlw"
   },
   "source": [
    "# term2term & term2doc matraces with sklearn - Paul as example"
   ]
  },
  {
   "cell_type": "code",
   "execution_count": 159,
   "metadata": {
    "id": "Lp-gMWPJJQlx"
   },
   "outputs": [],
   "source": [
    "# let's explore Pa\n",
    "docs = subselections_df.at[5, \"sentences\"]"
   ]
  },
  {
   "cell_type": "code",
   "execution_count": 160,
   "metadata": {
    "colab": {
     "base_uri": "https://localhost:8080/"
    },
    "id": "7jJLTsQxJQly",
    "outputId": "48f1edf5-8b84-472b-ce6c-437818528a8c"
   },
   "outputs": [
    {
     "data": {
      "text/plain": [
       "1632"
      ]
     },
     "execution_count": 160,
     "metadata": {},
     "output_type": "execute_result"
    }
   ],
   "source": [
    "len(docs)"
   ]
  },
  {
   "cell_type": "code",
   "execution_count": 161,
   "metadata": {},
   "outputs": [],
   "source": [
    "lemmata_lists = subselections_df.at[5, \"lemmata\"]"
   ]
  },
  {
   "cell_type": "code",
   "execution_count": 162,
   "metadata": {},
   "outputs": [
    {
     "name": "stdout",
     "output_type": "stream",
     "text": [
      "[['δοῦλος', 'Ἰησοῦς', 'Χριστός', 'κλητός', 'ἀπόστολος', 'ἀφωρισμενός', 'εὐαγγέλιον', 'θεός', 'προεπηγγειλατό', 'προφήτης', 'γραφή', 'ἁγιαίς', 'υἱός', 'γίγνομαι', 'σπέρμα', 'Δαυίδ', 'σάρξ', 'ὁρισθεντός', 'υἱός', 'θεός', 'δύναμις', 'πνεῦμα', 'ἁγιωσυνής', 'ἀνάστασις', 'νεκρός', 'Ἰησοῦς', 'Χριστός', 'κύριος', 'λαμβάνω', 'χάρις', 'ἀποστολή', 'ὑπακοή', 'πίστις', 'ἔθνος', 'ὄνομα', 'κλητός', 'Ἰησοῦς', 'Χριστός', 'πᾶς', 'οὐσίν', 'Ῥώμη', 'ἀγαπητός', 'θεός', 'κλητός', 'ἅγιος'], ['χάρις', 'εἰρήνη', 'θεός', 'πατήρ', 'κύριος'], ['πρῶτος', 'εὐχαριστέω', 'θεός', 'Ἰησοῦς', 'Χριστός', 'πᾶς', 'πίστις', 'καταγγέλλω', 'ὅλος', 'κοσμῴ']]\n"
     ]
    }
   ],
   "source": [
    "print(docs[:3])"
   ]
  },
  {
   "cell_type": "code",
   "execution_count": 163,
   "metadata": {
    "id": "xDgnTA9fLF8p"
   },
   "outputs": [],
   "source": [
    "vocabulary =  list(set([word for sent in docs for word in sent]))\n",
    "bow = CountVectorizer(vocabulary=vocabulary)\n",
    "bow_term2doc = bow.fit_transform([\" \".join(doc) for doc in docs]) ### run the model\n",
    "term2term_bow = (bow_term2doc.T * bow_term2doc)"
   ]
  },
  {
   "cell_type": "code",
   "execution_count": 164,
   "metadata": {
    "colab": {
     "base_uri": "https://localhost:8080/"
    },
    "id": "Y5KfMtyFLEm-",
    "outputId": "c9166e1c-f3b8-4787-eacd-0183b818b2ff"
   },
   "outputs": [
    {
     "data": {
      "text/plain": [
       "<2141x2141 sparse matrix of type '<class 'numpy.int64'>'\n",
       "\twith 62051 stored elements in Compressed Sparse Column format>"
      ]
     },
     "execution_count": 164,
     "metadata": {},
     "output_type": "execute_result"
    }
   ],
   "source": [
    "term2term_bow"
   ]
  },
  {
   "cell_type": "code",
   "execution_count": 165,
   "metadata": {
    "id": "oP8Si2nwLmDb"
   },
   "outputs": [
    {
     "name": "stdout",
     "output_type": "stream",
     "text": [
      "2141 32038\n"
     ]
    }
   ],
   "source": [
    "G = nx.from_numpy_matrix(term2term_bow.todense()) # from_pandas_adjacency()\n",
    "vocab_dict = dict(zip(range(len(vocabulary)), vocabulary))\n",
    "G = nx.relabel_nodes(G, vocab_dict)\n",
    "print(G.number_of_nodes(), G.number_of_edges())"
   ]
  },
  {
   "cell_type": "code",
   "execution_count": 166,
   "metadata": {},
   "outputs": [],
   "source": [
    "def network_from_sentences(sentences, weight_threshold=0.1):\n",
    "    vocabulary =  list(set([word for sent in sentences for word in sent]))\n",
    "    bow = CountVectorizer(vocabulary=vocabulary)\n",
    "    bow_term2doc = bow.fit_transform([\" \".join(doc) for doc in docs]) ### run the model\n",
    "    term2term_bow = (bow_term2doc.T * bow_term2doc)\n",
    "    G = nx.from_numpy_matrix(term2term_bow.todense()) # from_pandas_adjacency()\n",
    "    vocab_dict = dict(zip(range(len(vocabulary)), vocabulary))\n",
    "    G = nx.relabel_nodes(G, vocab_dict)\n",
    "    edges_to_remove = []\n",
    "    for edge in G.edges:\n",
    "        if edge[0] == edge[1]:\n",
    "            edges_to_remove.append(edge)\n",
    "    for element in edges_to_remove:\n",
    "        G.remove_edge(element[0], element[1])\n",
    "    total_weight = sum([int(n) for n in nx.get_edge_attributes(G, \"weight\").values()])\n",
    "    weights = sorted([int(n) for n in nx.get_edge_attributes(G, \"weight\").values()], reverse=True)\n",
    "    index_position = int(len(weights) * weight_threshold)\n",
    "    minimal_weight_value = weights[index_position]\n",
    "    edges_to_remove = []\n",
    "    for edge in G.edges:\n",
    "        if G[edge[0]][edge[1]][\"weight\"] < minimal_weight_value:\n",
    "            edges_to_remove.append(edge)\n",
    "    for element in edges_to_remove:\n",
    "        G.remove_edge(element[0], element[1])\n",
    "    edges_to_remove = []\n",
    "    for edge in G.edges:\n",
    "        if edge[0] == edge[1]:\n",
    "            edges_to_remove.append(edge)\n",
    "    for element in edges_to_remove:\n",
    "        G.remove_edge(element[0], element[1])\n",
    "    for (u, v) in G.edges:\n",
    "        G[u][v][\"norm_weight\"] = round((G[u][v][\"weight\"] / total_weight), 5)\n",
    "        G[u][v][\"distance\"] = round(1 / (G[u][v][\"weight\"]), 5)\n",
    "        G[u][v][\"norm_distance\"] = round(1 / (G[u][v][\"norm_weight\"] ), 5)\n",
    "    return G"
   ]
  },
  {
   "cell_type": "code",
   "execution_count": 167,
   "metadata": {},
   "outputs": [],
   "source": [
    "# remove \n",
    "edges_to_remove = []\n",
    "for edge in G.edges:\n",
    "    if edge[0] == edge[1]:\n",
    "        edges_to_remove.append(edge)\n",
    "for element in edges_to_remove:\n",
    "    G.remove_edge(element[0], element[1])"
   ]
  },
  {
   "cell_type": "code",
   "execution_count": 168,
   "metadata": {},
   "outputs": [
    {
     "data": {
      "text/plain": [
       "49168"
      ]
     },
     "execution_count": 168,
     "metadata": {},
     "output_type": "execute_result"
    }
   ],
   "source": [
    "total_weight = sum([int(n) for n in nx.get_edge_attributes(G, \"weight\").values()])\n",
    "total_weight"
   ]
  },
  {
   "cell_type": "code",
   "execution_count": 169,
   "metadata": {},
   "outputs": [],
   "source": [
    "weights = sorted([int(n) for n in nx.get_edge_attributes(G, \"weight\").values()], reverse=True)"
   ]
  },
  {
   "cell_type": "code",
   "execution_count": 170,
   "metadata": {},
   "outputs": [
    {
     "data": {
      "text/plain": [
       "[136, 97, 91, 69, 69, 53, 52, 50, 48, 47]"
      ]
     },
     "execution_count": 170,
     "metadata": {},
     "output_type": "execute_result"
    }
   ],
   "source": [
    "weights[:10]"
   ]
  },
  {
   "cell_type": "code",
   "execution_count": 171,
   "metadata": {},
   "outputs": [],
   "source": [
    "weight_threshold = 0.1\n",
    "index_position = int(len(weights) * weight_threshold)\n",
    "minimal_weight_value = weights[index_position]"
   ]
  },
  {
   "cell_type": "code",
   "execution_count": 172,
   "metadata": {},
   "outputs": [],
   "source": [
    "edges_to_remove = []\n",
    "for edge in G.edges:\n",
    "    if G[edge[0]][edge[1]][\"weight\"] < minimal_weight_value:\n",
    "        edges_to_remove.append(edge)\n",
    "for element in edges_to_remove:\n",
    "    G.remove_edge(element[0], element[1])"
   ]
  },
  {
   "cell_type": "code",
   "execution_count": 173,
   "metadata": {},
   "outputs": [
    {
     "data": {
      "text/plain": [
       "2141"
      ]
     },
     "execution_count": 173,
     "metadata": {},
     "output_type": "execute_result"
    }
   ],
   "source": [
    "len(G.nodes)"
   ]
  },
  {
   "cell_type": "code",
   "execution_count": 174,
   "metadata": {},
   "outputs": [
    {
     "data": {
      "text/plain": [
       "3223"
      ]
     },
     "execution_count": 174,
     "metadata": {},
     "output_type": "execute_result"
    }
   ],
   "source": [
    "len(G.edges)"
   ]
  },
  {
   "cell_type": "code",
   "execution_count": 175,
   "metadata": {},
   "outputs": [
    {
     "data": {
      "text/plain": [
       "[('ἐπιστρέφω', 'θεός', {'weight': 4}),\n",
       " ('εἰδωλόθυτος', 'εἴδωλον', {'weight': 3}),\n",
       " ('εἰδωλόθυτος', 'εἰμί', {'weight': 3}),\n",
       " ('ἁγνός', 'ὅσος', {'weight': 6}),\n",
       " ('στέγω', 'πᾶς', {'weight': 5})]"
      ]
     },
     "execution_count": 175,
     "metadata": {},
     "output_type": "execute_result"
    }
   ],
   "source": [
    "list(G.edges.data())[:5]"
   ]
  },
  {
   "cell_type": "code",
   "execution_count": 176,
   "metadata": {},
   "outputs": [],
   "source": [
    "edges_to_remove = []\n",
    "for edge in G.edges:\n",
    "    if edge[0] == edge[1]:\n",
    "        edges_to_remove.append(edge)\n",
    "for element in edges_to_remove:\n",
    "    G.remove_edge(element[0], element[1])"
   ]
  },
  {
   "cell_type": "code",
   "execution_count": 177,
   "metadata": {},
   "outputs": [],
   "source": [
    "for (u, v) in G.edges:\n",
    "    G[u][v][\"norm_weight\"] = round((G[u][v][\"weight\"] / total_weight), 5)\n",
    "    G[u][v][\"distance\"] = round(1 / (G[u][v][\"weight\"]), 5)\n",
    "    G[u][v][\"norm_distance\"] = round(1 / (G[u][v][\"norm_weight\"] ), 5)"
   ]
  },
  {
   "cell_type": "code",
   "execution_count": 178,
   "metadata": {},
   "outputs": [
    {
     "data": {
      "text/plain": [
       "[('ἐπιστρέφω',\n",
       "  'θεός',\n",
       "  {'weight': 4,\n",
       "   'norm_weight': 8e-05,\n",
       "   'distance': 0.25,\n",
       "   'norm_distance': 12500.0}),\n",
       " ('εἰδωλόθυτος',\n",
       "  'εἴδωλον',\n",
       "  {'weight': 3,\n",
       "   'norm_weight': 6e-05,\n",
       "   'distance': 0.33333,\n",
       "   'norm_distance': 16666.66667}),\n",
       " ('εἰδωλόθυτος',\n",
       "  'εἰμί',\n",
       "  {'weight': 3,\n",
       "   'norm_weight': 6e-05,\n",
       "   'distance': 0.33333,\n",
       "   'norm_distance': 16666.66667}),\n",
       " ('ἁγνός',\n",
       "  'ὅσος',\n",
       "  {'weight': 6,\n",
       "   'norm_weight': 0.00012,\n",
       "   'distance': 0.16667,\n",
       "   'norm_distance': 8333.33333}),\n",
       " ('στέγω',\n",
       "  'πᾶς',\n",
       "  {'weight': 5,\n",
       "   'norm_weight': 0.0001,\n",
       "   'distance': 0.2,\n",
       "   'norm_distance': 10000.0})]"
      ]
     },
     "execution_count": 178,
     "metadata": {},
     "output_type": "execute_result"
    }
   ],
   "source": [
    "list(G.edges.data())[:5]"
   ]
  },
  {
   "cell_type": "code",
   "execution_count": 179,
   "metadata": {},
   "outputs": [],
   "source": [
    "network = G.copy(as_view=False)"
   ]
  },
  {
   "cell_type": "code",
   "execution_count": 180,
   "metadata": {},
   "outputs": [],
   "source": [
    "def network_from_lemmata(lemmata_list, weight_threshold=0.1):\n",
    "    '''From a list of words'''\n",
    "    #lemmata_list = [lemma for lemma in lemmata_list if lemma != \"εἰμί\"]\n",
    "    bigrams_list = []\n",
    "    for bigram in nltk.bigrams(lemmata_list):\n",
    "        if bigram[0] != bigram[1]:\n",
    "            bigrams_list.append(tuple(sorted(bigram)))\n",
    "    G = network_object_from_bigrams(bigrams_list, weight_threshold)\n",
    "    return G\n",
    "\n",
    "def network_from_lemmata_lists(list_of_lists, weight_threshold=0.1):\n",
    "    bigrams_list = []\n",
    "    for lemmata_list in list_of_lists:\n",
    "        for bigram in nltk.bigrams(lemmata_list):\n",
    "            if bigram[0] != bigram[1]:\n",
    "                bigrams_list.append(tuple(sorted(bigram)))\n",
    "    G = network_object_from_bigrams(bigrams_list, weight_threshold)\n",
    "    return G\n",
    "\n",
    "def network_object_from_bigrams(bigrams_list, weight_threshold):\n",
    "    bigrams_counts = list((collections.Counter(bigrams_list)).items())\n",
    "    bigrams_counts = sorted(bigrams_counts, key=lambda x: x[1], reverse=True)\n",
    "    G = nx.Graph()\n",
    "    G.clear()\n",
    "    G.add_weighted_edges_from(np.array([(bigram_count[0][0], bigram_count[0][1],  int(bigram_count[1])) for bigram_count in bigrams_counts]))\n",
    "        ### add edges attributes \n",
    "    for (u, v, wt) in G.edges.data('weight'):\n",
    "        G[u][v][\"weight\"] = int(wt)\n",
    "    total_weight = sum([int(n) for n in nx.get_edge_attributes(G, \"weight\").values()])\n",
    "    weights = sorted([int(n) for n in nx.get_edge_attributes(G, \"weight\").values()], reverse=True)\n",
    "    index_position = int(len(weights) * weight_threshold)\n",
    "    minimal_weight_value = weights[index_position]\n",
    "    edges_to_remove = []\n",
    "    for edge in G.edges:\n",
    "        if G[edge[0]][edge[1]][\"weight\"] < minimal_weight_value:\n",
    "            edges_to_remove.append(edge)\n",
    "    for element in edges_to_remove:\n",
    "        G.remove_edge(element[0], element[1])\n",
    "    for (u, v) in G.edges:\n",
    "        G[u][v][\"norm_weight\"] = round((G[u][v][\"weight\"] / total_weight), 5)\n",
    "        G[u][v][\"distance\"] = round(1 / (G[u][v][\"weight\"]), 5)\n",
    "        G[u][v][\"norm_distance\"] = round(1 / (G[u][v][\"norm_weight\"] ), 5)\n",
    "    return G"
   ]
  },
  {
   "cell_type": "code",
   "execution_count": 181,
   "metadata": {},
   "outputs": [
    {
     "name": "stdout",
     "output_type": "stream",
     "text": [
      "2141 1261\n"
     ]
    }
   ],
   "source": [
    "network_bigrams = textnet.network_from_lemmata_lists(lemmata_lists)\n",
    "print(len(network_bigrams.nodes()), len(network_bigrams.edges()))"
   ]
  },
  {
   "cell_type": "code",
   "execution_count": 182,
   "metadata": {},
   "outputs": [
    {
     "name": "stdout",
     "output_type": "stream",
     "text": [
      "2141 3223\n"
     ]
    }
   ],
   "source": [
    "network_sentences = textnet.network_from_sentences(docs)\n",
    "print(len(network_sentences.nodes()), len(network_sentences.edges()))"
   ]
  },
  {
   "cell_type": "code",
   "execution_count": 183,
   "metadata": {},
   "outputs": [],
   "source": [
    "def construct_ego_network(source_network, term, num_of_neighbours, reduced=True):\n",
    "    length, path = nx.single_source_dijkstra(source_network, term, target=None, weight=\"distance\")\n",
    "    shortest_nodes = list(length.keys())[0:num_of_neighbours+1]\n",
    "    path_values_sorted = [dict_pair[1] for dict_pair in sorted(path.items(), key=lambda pair: list(length.keys()).index(pair[0]))]\n",
    "    path_edges = []\n",
    "    for path_to_term in path_values_sorted[1:num_of_neighbours+1]:\n",
    "        path_edges.extend([tuple(sorted(bigram)) for bigram in nltk.bigrams(path_to_term)])\n",
    "    shortest_edges = list(set(path_edges))\n",
    "    ego_network = source_network.copy(as_view=False)\n",
    "    nodes_to_remove = []\n",
    "    for node in ego_network.nodes:\n",
    "        if node not in shortest_nodes:\n",
    "            nodes_to_remove.append(node)\n",
    "    for element in nodes_to_remove:\n",
    "        ego_network.remove_node(element)    \n",
    "    edges_to_remove = []\n",
    "    if reduced==True:\n",
    "        for edge in ego_network.edges:\n",
    "            if edge not in shortest_edges:\n",
    "                if (edge[1],edge[0]) not in shortest_edges:\n",
    "                    edges_to_remove.append(edge)\n",
    "        for element in edges_to_remove:\n",
    "            ego_network.remove_edge(element[0], element[1])\n",
    "    return ego_network\n",
    "\n",
    "def extract_ego_network_data(ego_network, term):\n",
    "    ego_network_data_prec = sorted(list(ego_network.edges.data(\"weight\")), key=lambda tup: int(tup[2]), reverse=True)\n",
    "    ego_network_data_complete = []\n",
    "    for tup in ego_network_data_prec:\n",
    "      if tup[1] == term:\n",
    "        ego_network_data_complete.append([tup[1], tup[0], int(tup[2]), round(1 / int(tup[2]), 5)])\n",
    "      else:\n",
    "        ego_network_data_complete.append([tup[0], tup[1], int(tup[2]), round(1 / int(tup[2]), 5)])\n",
    "    return ego_network_data_complete"
   ]
  },
  {
   "cell_type": "code",
   "execution_count": 184,
   "metadata": {},
   "outputs": [
    {
     "data": {
      "text/plain": [
       "EdgeDataView([('Χριστός', 'Ἰησοῦς', {'weight': 85, 'norm_weight': 0.00777, 'distance': 0.01176, 'norm_distance': 128.70013}), ('Χριστός', 'θεός', {'weight': 12, 'norm_weight': 0.0011, 'distance': 0.08333, 'norm_distance': 909.09091}), ('Χριστός', 'εἰμί', {'weight': 10, 'norm_weight': 0.00091, 'distance': 0.1, 'norm_distance': 1098.9011}), ('Χριστός', 'κύριος', {'weight': 5, 'norm_weight': 0.00046, 'distance': 0.2, 'norm_distance': 2173.91304}), ('Χριστός', 'δίδωμι', {'weight': 5, 'norm_weight': 0.00046, 'distance': 0.2, 'norm_distance': 2173.91304}), ('Χριστός', 'πνεῦμα', {'weight': 5, 'norm_weight': 0.00046, 'distance': 0.2, 'norm_distance': 2173.91304}), ('Χριστός', 'ἔχω', {'weight': 5, 'norm_weight': 0.00046, 'distance': 0.2, 'norm_distance': 2173.91304}), ('Χριστός', 'πᾶς', {'weight': 4, 'norm_weight': 0.00037, 'distance': 0.25, 'norm_distance': 2702.7027}), ('Χριστός', 'σῶμα', {'weight': 4, 'norm_weight': 0.00037, 'distance': 0.25, 'norm_distance': 2702.7027}), ('Χριστός', 'οὗτος', {'weight': 3, 'norm_weight': 0.00027, 'distance': 0.33333, 'norm_distance': 3703.7037}), ('Χριστός', 'δόξα', {'weight': 3, 'norm_weight': 0.00027, 'distance': 0.33333, 'norm_distance': 3703.7037}), ('Χριστός', 'νόμος', {'weight': 2, 'norm_weight': 0.00018, 'distance': 0.5, 'norm_distance': 5555.55556}), ('Χριστός', 'δικαιοσύνη', {'weight': 2, 'norm_weight': 0.00018, 'distance': 0.5, 'norm_distance': 5555.55556}), ('Χριστός', 'πατήρ', {'weight': 2, 'norm_weight': 0.00018, 'distance': 0.5, 'norm_distance': 5555.55556}), ('Χριστός', 'χάρις', {'weight': 2, 'norm_weight': 0.00018, 'distance': 0.5, 'norm_distance': 5555.55556}), ('Ἰησοῦς', 'κύριος', {'weight': 47, 'norm_weight': 0.0043, 'distance': 0.02128, 'norm_distance': 232.55814}), ('Ἰησοῦς', 'θεός', {'weight': 5, 'norm_weight': 0.00046, 'distance': 0.2, 'norm_distance': 2173.91304}), ('Ἰησοῦς', 'πᾶς', {'weight': 3, 'norm_weight': 0.00027, 'distance': 0.33333, 'norm_distance': 3703.7037}), ('Ἰησοῦς', 'σῶμα', {'weight': 3, 'norm_weight': 0.00027, 'distance': 0.33333, 'norm_distance': 3703.7037}), ('Ἰησοῦς', 'ἄνθρωπος', {'weight': 2, 'norm_weight': 0.00018, 'distance': 0.5, 'norm_distance': 5555.55556}), ('Ἰησοῦς', 'οἶδα', {'weight': 2, 'norm_weight': 0.00018, 'distance': 0.5, 'norm_distance': 5555.55556}), ('Ἰησοῦς', 'χριστός', {'weight': 2, 'norm_weight': 0.00018, 'distance': 0.5, 'norm_distance': 5555.55556}), ('Ἰησοῦς', 'πνεῦμα', {'weight': 2, 'norm_weight': 0.00018, 'distance': 0.5, 'norm_distance': 5555.55556}), ('κύριος', 'πατήρ', {'weight': 11, 'norm_weight': 0.00101, 'distance': 0.09091, 'norm_distance': 990.09901}), ('κύριος', 'εἰμί', {'weight': 8, 'norm_weight': 0.00073, 'distance': 0.125, 'norm_distance': 1369.86301}), ('κύριος', 'χάρις', {'weight': 8, 'norm_weight': 0.00073, 'distance': 0.125, 'norm_distance': 1369.86301}), ('κύριος', 'πᾶς', {'weight': 5, 'norm_weight': 0.00046, 'distance': 0.2, 'norm_distance': 2173.91304}), ('κύριος', 'θεός', {'weight': 4, 'norm_weight': 0.00037, 'distance': 0.25, 'norm_distance': 2702.7027}), ('κύριος', 'αὐτός', {'weight': 4, 'norm_weight': 0.00037, 'distance': 0.25, 'norm_distance': 2702.7027}), ('κύριος', 'δίδωμι', {'weight': 4, 'norm_weight': 0.00037, 'distance': 0.25, 'norm_distance': 2702.7027}), ('κύριος', 'εὐχαριστέω', {'weight': 3, 'norm_weight': 0.00027, 'distance': 0.33333, 'norm_distance': 3703.7037}), ('κύριος', 'δόξα', {'weight': 3, 'norm_weight': 0.00027, 'distance': 0.33333, 'norm_distance': 3703.7037}), ('κύριος', 'ἔχω', {'weight': 3, 'norm_weight': 0.00027, 'distance': 0.33333, 'norm_distance': 3703.7037}), ('κύριος', 'ἄνθρωπος', {'weight': 3, 'norm_weight': 0.00027, 'distance': 0.33333, 'norm_distance': 3703.7037}), ('κύριος', 'ἔργον', {'weight': 3, 'norm_weight': 0.00027, 'distance': 0.33333, 'norm_distance': 3703.7037}), ('κύριος', 'πνεῦμα', {'weight': 3, 'norm_weight': 0.00027, 'distance': 0.33333, 'norm_distance': 3703.7037}), ('κύριος', 'οἶδα', {'weight': 2, 'norm_weight': 0.00018, 'distance': 0.5, 'norm_distance': 5555.55556}), ('κύριος', 'οὗτος', {'weight': 2, 'norm_weight': 0.00018, 'distance': 0.5, 'norm_distance': 5555.55556}), ('θεός', 'χάρις', {'weight': 20, 'norm_weight': 0.00183, 'distance': 0.05, 'norm_distance': 546.44809}), ('θεός', 'πατήρ', {'weight': 19, 'norm_weight': 0.00174, 'distance': 0.05263, 'norm_distance': 574.71264}), ('θεός', 'εἰμί', {'weight': 17, 'norm_weight': 0.00155, 'distance': 0.05882, 'norm_distance': 645.16129}), ('θεός', 'πνεῦμα', {'weight': 15, 'norm_weight': 0.00137, 'distance': 0.06667, 'norm_distance': 729.92701}), ('θεός', 'εἰρήνη', {'weight': 13, 'norm_weight': 0.00119, 'distance': 0.07692, 'norm_distance': 840.33613}), ('θεός', 'πᾶς', {'weight': 11, 'norm_weight': 0.00101, 'distance': 0.09091, 'norm_distance': 990.09901}), ('θεός', 'δικαιοσύνη', {'weight': 10, 'norm_weight': 0.00091, 'distance': 0.1, 'norm_distance': 1098.9011}), ('θεός', 'οἶδα', {'weight': 10, 'norm_weight': 0.00091, 'distance': 0.1, 'norm_distance': 1098.9011}), ('θεός', 'υἱός', {'weight': 9, 'norm_weight': 0.00082, 'distance': 0.11111, 'norm_distance': 1219.5122}), ('θεός', 'δύναμις', {'weight': 9, 'norm_weight': 0.00082, 'distance': 0.11111, 'norm_distance': 1219.5122}), ('θεός', 'θέλημα', {'weight': 9, 'norm_weight': 0.00082, 'distance': 0.11111, 'norm_distance': 1219.5122}), ('θεός', 'ἔχω', {'weight': 9, 'norm_weight': 0.00082, 'distance': 0.11111, 'norm_distance': 1219.5122}), ('θεός', 'δίδωμι', {'weight': 9, 'norm_weight': 0.00082, 'distance': 0.11111, 'norm_distance': 1219.5122}), ('θεός', 'εὐχαριστέω', {'weight': 8, 'norm_weight': 0.00073, 'distance': 0.125, 'norm_distance': 1369.86301}), ('θεός', 'νόμος', {'weight': 8, 'norm_weight': 0.00073, 'distance': 0.125, 'norm_distance': 1369.86301}), ('θεός', 'δόξα', {'weight': 8, 'norm_weight': 0.00073, 'distance': 0.125, 'norm_distance': 1369.86301}), ('θεός', 'ἐκκλησία', {'weight': 8, 'norm_weight': 0.00073, 'distance': 0.125, 'norm_distance': 1369.86301}), ('θεός', 'εὐαγγέλιον', {'weight': 6, 'norm_weight': 0.00055, 'distance': 0.16667, 'norm_distance': 1818.18182}), ('θεός', 'οὗτος', {'weight': 6, 'norm_weight': 0.00055, 'distance': 0.16667, 'norm_distance': 1818.18182}), ('θεός', 'ἄνθρωπος', {'weight': 4, 'norm_weight': 0.00037, 'distance': 0.25, 'norm_distance': 2702.7027}), ('θεός', 'αὐτός', {'weight': 3, 'norm_weight': 0.00027, 'distance': 0.33333, 'norm_distance': 3703.7037}), ('θεός', 'σῶμα', {'weight': 2, 'norm_weight': 0.00018, 'distance': 0.5, 'norm_distance': 5555.55556}), ('θεός', 'χριστός', {'weight': 2, 'norm_weight': 0.00018, 'distance': 0.5, 'norm_distance': 5555.55556}), ('χάρις', 'εἰρήνη', {'weight': 7, 'norm_weight': 0.00064, 'distance': 0.14286, 'norm_distance': 1562.5}), ('χάρις', 'δίδωμι', {'weight': 5, 'norm_weight': 0.00046, 'distance': 0.2, 'norm_distance': 2173.91304}), ('χάρις', 'πᾶς', {'weight': 3, 'norm_weight': 0.00027, 'distance': 0.33333, 'norm_distance': 3703.7037}), ('χάρις', 'νόμος', {'weight': 2, 'norm_weight': 0.00018, 'distance': 0.5, 'norm_distance': 5555.55556}), ('χάρις', 'οὗτος', {'weight': 2, 'norm_weight': 0.00018, 'distance': 0.5, 'norm_distance': 5555.55556}), ('χάρις', 'ἔργον', {'weight': 2, 'norm_weight': 0.00018, 'distance': 0.5, 'norm_distance': 5555.55556}), ('χάρις', 'εἰμί', {'weight': 2, 'norm_weight': 0.00018, 'distance': 0.5, 'norm_distance': 5555.55556}), ('πατήρ', 'δόξα', {'weight': 3, 'norm_weight': 0.00027, 'distance': 0.33333, 'norm_distance': 3703.7037}), ('πατήρ', 'πᾶς', {'weight': 2, 'norm_weight': 0.00018, 'distance': 0.5, 'norm_distance': 5555.55556}), ('εἰμί', 'νόμος', {'weight': 12, 'norm_weight': 0.0011, 'distance': 0.08333, 'norm_distance': 909.09091}), ('εἰμί', 'πᾶς', {'weight': 9, 'norm_weight': 0.00082, 'distance': 0.11111, 'norm_distance': 1219.5122}), ('εἰμί', 'αὐτός', {'weight': 9, 'norm_weight': 0.00082, 'distance': 0.11111, 'norm_distance': 1219.5122}), ('εἰμί', 'ἄνθρωπος', {'weight': 7, 'norm_weight': 0.00064, 'distance': 0.14286, 'norm_distance': 1562.5}), ('εἰμί', 'οὗτος', {'weight': 7, 'norm_weight': 0.00064, 'distance': 0.14286, 'norm_distance': 1562.5}), ('εἰμί', 'ἐλεύθερος', {'weight': 7, 'norm_weight': 0.00064, 'distance': 0.14286, 'norm_distance': 1562.5}), ('εἰμί', 'σῶμα', {'weight': 7, 'norm_weight': 0.00064, 'distance': 0.14286, 'norm_distance': 1562.5}), ('εἰμί', 'πνεῦμα', {'weight': 7, 'norm_weight': 0.00064, 'distance': 0.14286, 'norm_distance': 1562.5}), ('εἰμί', 'σπέρμα', {'weight': 6, 'norm_weight': 0.00055, 'distance': 0.16667, 'norm_distance': 1818.18182}), ('εἰμί', 'ἁμαρτία', {'weight': 5, 'norm_weight': 0.00046, 'distance': 0.2, 'norm_distance': 2173.91304}), ('εἰμί', 'ἔχω', {'weight': 4, 'norm_weight': 0.00037, 'distance': 0.25, 'norm_distance': 2702.7027}), ('εἰμί', 'υἱός', {'weight': 4, 'norm_weight': 0.00037, 'distance': 0.25, 'norm_distance': 2702.7027}), ('εἰμί', 'χριστός', {'weight': 4, 'norm_weight': 0.00037, 'distance': 0.25, 'norm_distance': 2702.7027}), ('εἰμί', 'οἶδα', {'weight': 2, 'norm_weight': 0.00018, 'distance': 0.5, 'norm_distance': 5555.55556}), ('εἰμί', 'εἰρήνη', {'weight': 2, 'norm_weight': 0.00018, 'distance': 0.5, 'norm_distance': 5555.55556}), ('πνεῦμα', 'αὐτός', {'weight': 7, 'norm_weight': 0.00064, 'distance': 0.14286, 'norm_distance': 1562.5}), ('πνεῦμα', 'δύναμις', {'weight': 6, 'norm_weight': 0.00055, 'distance': 0.16667, 'norm_distance': 1818.18182}), ('πνεῦμα', 'πᾶς', {'weight': 4, 'norm_weight': 0.00037, 'distance': 0.25, 'norm_distance': 2702.7027}), ('πνεῦμα', 'νόμος', {'weight': 2, 'norm_weight': 0.00018, 'distance': 0.5, 'norm_distance': 5555.55556}), ('πνεῦμα', 'ἔχω', {'weight': 2, 'norm_weight': 0.00018, 'distance': 0.5, 'norm_distance': 5555.55556}), ('πνεῦμα', 'ἄνθρωπος', {'weight': 2, 'norm_weight': 0.00018, 'distance': 0.5, 'norm_distance': 5555.55556}), ('πνεῦμα', 'δίδωμι', {'weight': 2, 'norm_weight': 0.00018, 'distance': 0.5, 'norm_distance': 5555.55556}), ('νόμος', 'ἔργον', {'weight': 11, 'norm_weight': 0.00101, 'distance': 0.09091, 'norm_distance': 990.09901}), ('νόμος', 'ἁμαρτία', {'weight': 9, 'norm_weight': 0.00082, 'distance': 0.11111, 'norm_distance': 1219.5122}), ('νόμος', 'δικαιοσύνη', {'weight': 7, 'norm_weight': 0.00064, 'distance': 0.14286, 'norm_distance': 1562.5}), ('νόμος', 'οἶδα', {'weight': 3, 'norm_weight': 0.00027, 'distance': 0.33333, 'norm_distance': 3703.7037}), ('νόμος', 'ἔχω', {'weight': 2, 'norm_weight': 0.00018, 'distance': 0.5, 'norm_distance': 5555.55556}), ('νόμος', 'οὗτος', {'weight': 2, 'norm_weight': 0.00018, 'distance': 0.5, 'norm_distance': 5555.55556}), ('νόμος', 'αὐτός', {'weight': 2, 'norm_weight': 0.00018, 'distance': 0.5, 'norm_distance': 5555.55556}), ('ἔργον', 'δύναμις', {'weight': 2, 'norm_weight': 0.00018, 'distance': 0.5, 'norm_distance': 5555.55556}), ('πᾶς', 'ἄνθρωπος', {'weight': 10, 'norm_weight': 0.00091, 'distance': 0.1, 'norm_distance': 1098.9011}), ('πᾶς', 'ἔχω', {'weight': 5, 'norm_weight': 0.00046, 'distance': 0.2, 'norm_distance': 2173.91304}), ('πᾶς', 'ἁμαρτία', {'weight': 3, 'norm_weight': 0.00027, 'distance': 0.33333, 'norm_distance': 3703.7037}), ('πᾶς', 'αὐτός', {'weight': 3, 'norm_weight': 0.00027, 'distance': 0.33333, 'norm_distance': 3703.7037}), ('πᾶς', 'ἐκκλησία', {'weight': 3, 'norm_weight': 0.00027, 'distance': 0.33333, 'norm_distance': 3703.7037}), ('πᾶς', 'υἱός', {'weight': 3, 'norm_weight': 0.00027, 'distance': 0.33333, 'norm_distance': 3703.7037}), ('πᾶς', 'δικαιοσύνη', {'weight': 2, 'norm_weight': 0.00018, 'distance': 0.5, 'norm_distance': 5555.55556}), ('πᾶς', 'δόξα', {'weight': 2, 'norm_weight': 0.00018, 'distance': 0.5, 'norm_distance': 5555.55556}), ('πᾶς', 'οὗτος', {'weight': 2, 'norm_weight': 0.00018, 'distance': 0.5, 'norm_distance': 5555.55556}), ('πᾶς', 'ἐλεύθερος', {'weight': 2, 'norm_weight': 0.00018, 'distance': 0.5, 'norm_distance': 5555.55556}), ('πᾶς', 'δύναμις', {'weight': 2, 'norm_weight': 0.00018, 'distance': 0.5, 'norm_distance': 5555.55556}), ('ἄνθρωπος', 'οὗτος', {'weight': 2, 'norm_weight': 0.00018, 'distance': 0.5, 'norm_distance': 5555.55556}), ('ἄνθρωπος', 'οἶδα', {'weight': 2, 'norm_weight': 0.00018, 'distance': 0.5, 'norm_distance': 5555.55556}), ('οἶδα', 'σῶμα', {'weight': 6, 'norm_weight': 0.00055, 'distance': 0.16667, 'norm_distance': 1818.18182}), ('οἶδα', 'αὐτός', {'weight': 5, 'norm_weight': 0.00046, 'distance': 0.2, 'norm_distance': 2173.91304}), ('οἶδα', 'οὗτος', {'weight': 3, 'norm_weight': 0.00027, 'distance': 0.33333, 'norm_distance': 3703.7037}), ('δύναμις', 'ἁμαρτία', {'weight': 2, 'norm_weight': 0.00018, 'distance': 0.5, 'norm_distance': 5555.55556}), ('θέλημα', 'οὗτος', {'weight': 3, 'norm_weight': 0.00027, 'distance': 0.33333, 'norm_distance': 3703.7037}), ('ἔχω', 'οὗτος', {'weight': 2, 'norm_weight': 0.00018, 'distance': 0.5, 'norm_distance': 5555.55556}), ('ἔχω', 'αὐτός', {'weight': 2, 'norm_weight': 0.00018, 'distance': 0.5, 'norm_distance': 5555.55556}), ('δίδωμι', 'οὗτος', {'weight': 2, 'norm_weight': 0.00018, 'distance': 0.5, 'norm_distance': 5555.55556}), ('αὐτός', 'οὗτος', {'weight': 3, 'norm_weight': 0.00027, 'distance': 0.33333, 'norm_distance': 3703.7037}), ('εὐχαριστέω', 'οὗτος', {'weight': 2, 'norm_weight': 0.00018, 'distance': 0.5, 'norm_distance': 5555.55556}), ('δόξα', 'χριστός', {'weight': 2, 'norm_weight': 0.00018, 'distance': 0.5, 'norm_distance': 5555.55556}), ('οὗτος', 'σῶμα', {'weight': 8, 'norm_weight': 0.00073, 'distance': 0.125, 'norm_distance': 1369.86301}), ('σῶμα', 'χριστός', {'weight': 3, 'norm_weight': 0.00027, 'distance': 0.33333, 'norm_distance': 3703.7037}), ('εὐαγγέλιον', 'χριστός', {'weight': 6, 'norm_weight': 0.00055, 'distance': 0.16667, 'norm_distance': 1818.18182})])"
      ]
     },
     "execution_count": 184,
     "metadata": {},
     "output_type": "execute_result"
    }
   ],
   "source": [
    "ego_network_bigrams = construct_ego_network(network_bigrams, \"χριστός\", 30, reduced=False)\n",
    "ego_network_bigrams.edges.data()"
   ]
  },
  {
   "cell_type": "code",
   "execution_count": 185,
   "metadata": {},
   "outputs": [
    {
     "data": {
      "text/plain": [
       "EdgeDataView([('αὐτός', 'χριστός', {'weight': 18, 'norm_weight': 0.00037, 'distance': 0.05556, 'norm_distance': 2702.7027}), ('αὐτός', 'χάρις', {'weight': 5, 'norm_weight': 0.0001, 'distance': 0.2, 'norm_distance': 10000.0}), ('αὐτός', 'πατήρ', {'weight': 3, 'norm_weight': 6e-05, 'distance': 0.33333, 'norm_distance': 16666.66667}), ('αὐτός', 'ἔχω', {'weight': 12, 'norm_weight': 0.00024, 'distance': 0.08333, 'norm_distance': 4166.66667}), ('αὐτός', 'υἱός', {'weight': 6, 'norm_weight': 0.00012, 'distance': 0.16667, 'norm_distance': 8333.33333}), ('αὐτός', 'σάρξ', {'weight': 7, 'norm_weight': 0.00014, 'distance': 0.14286, 'norm_distance': 7142.85714}), ('αὐτός', 'πνεῦμα', {'weight': 18, 'norm_weight': 0.00037, 'distance': 0.05556, 'norm_distance': 2702.7027}), ('αὐτός', 'πᾶς', {'weight': 16, 'norm_weight': 0.00033, 'distance': 0.0625, 'norm_distance': 3030.30303}), ('αὐτός', 'ἔθνος', {'weight': 7, 'norm_weight': 0.00014, 'distance': 0.14286, 'norm_distance': 7142.85714}), ('αὐτός', 'πίστις', {'weight': 3, 'norm_weight': 6e-05, 'distance': 0.33333, 'norm_distance': 16666.66667}), ('αὐτός', 'ἀδελφός', {'weight': 11, 'norm_weight': 0.00022, 'distance': 0.09091, 'norm_distance': 4545.45455}), ('αὐτός', 'πολύς', {'weight': 8, 'norm_weight': 0.00016, 'distance': 0.125, 'norm_distance': 6250.0}), ('αὐτός', 'δίδωμι', {'weight': 6, 'norm_weight': 0.00012, 'distance': 0.16667, 'norm_distance': 8333.33333}), ('αὐτός', 'ἐγείρω', {'weight': 4, 'norm_weight': 8e-05, 'distance': 0.25, 'norm_distance': 12500.0}), ('αὐτός', 'δύναμις', {'weight': 3, 'norm_weight': 6e-05, 'distance': 0.33333, 'norm_distance': 16666.66667}), ('αὐτός', 'λόγος', {'weight': 5, 'norm_weight': 0.0001, 'distance': 0.2, 'norm_distance': 10000.0}), ('αὐτός', 'κύριος', {'weight': 10, 'norm_weight': 0.0002, 'distance': 0.1, 'norm_distance': 5000.0}), ('αὐτός', 'εἰμί', {'weight': 24, 'norm_weight': 0.00049, 'distance': 0.04167, 'norm_distance': 2040.81633}), ('αὐτός', 'θεός', {'weight': 27, 'norm_weight': 0.00055, 'distance': 0.03704, 'norm_distance': 1818.18182}), ('αὐτός', 'οἶδα', {'weight': 9, 'norm_weight': 0.00018, 'distance': 0.11111, 'norm_distance': 5555.55556}), ('αὐτός', 'εὐαγγέλιον', {'weight': 3, 'norm_weight': 6e-05, 'distance': 0.33333, 'norm_distance': 16666.66667}), ('αὐτός', 'νόμος', {'weight': 7, 'norm_weight': 0.00014, 'distance': 0.14286, 'norm_distance': 7142.85714}), ('αὐτός', 'γίγνομαι', {'weight': 6, 'norm_weight': 0.00012, 'distance': 0.16667, 'norm_distance': 8333.33333}), ('ἄνθρωπος', 'χριστός', {'weight': 15, 'norm_weight': 0.00031, 'distance': 0.06667, 'norm_distance': 3225.80645}), ('ἄνθρωπος', 'χάρις', {'weight': 4, 'norm_weight': 8e-05, 'distance': 0.25, 'norm_distance': 12500.0}), ('ἄνθρωπος', 'νεκρός', {'weight': 4, 'norm_weight': 8e-05, 'distance': 0.25, 'norm_distance': 12500.0}), ('ἄνθρωπος', 'σάρξ', {'weight': 5, 'norm_weight': 0.0001, 'distance': 0.2, 'norm_distance': 10000.0}), ('ἄνθρωπος', 'πνεῦμα', {'weight': 9, 'norm_weight': 0.00018, 'distance': 0.11111, 'norm_distance': 5555.55556}), ('ἄνθρωπος', 'πᾶς', {'weight': 19, 'norm_weight': 0.00039, 'distance': 0.05263, 'norm_distance': 2564.10256}), ('ἄνθρωπος', 'ἔθνος', {'weight': 4, 'norm_weight': 8e-05, 'distance': 0.25, 'norm_distance': 12500.0}), ('ἄνθρωπος', 'πίστις', {'weight': 5, 'norm_weight': 0.0001, 'distance': 0.2, 'norm_distance': 10000.0}), ('ἄνθρωπος', 'ἀδελφός', {'weight': 8, 'norm_weight': 0.00016, 'distance': 0.125, 'norm_distance': 6250.0}), ('ἄνθρωπος', 'πολύς', {'weight': 6, 'norm_weight': 0.00012, 'distance': 0.16667, 'norm_distance': 8333.33333}), ('ἄνθρωπος', 'δίδωμι', {'weight': 3, 'norm_weight': 6e-05, 'distance': 0.33333, 'norm_distance': 16666.66667}), ('ἄνθρωπος', 'καρδία', {'weight': 5, 'norm_weight': 0.0001, 'distance': 0.2, 'norm_distance': 10000.0}), ('ἄνθρωπος', 'κόσμος', {'weight': 3, 'norm_weight': 6e-05, 'distance': 0.33333, 'norm_distance': 16666.66667}), ('ἄνθρωπος', 'δόξα', {'weight': 3, 'norm_weight': 6e-05, 'distance': 0.33333, 'norm_distance': 16666.66667}), ('ἄνθρωπος', 'δικαιοσύνη', {'weight': 3, 'norm_weight': 6e-05, 'distance': 0.33333, 'norm_distance': 16666.66667}), ('ἄνθρωπος', 'λόγος', {'weight': 8, 'norm_weight': 0.00016, 'distance': 0.125, 'norm_distance': 6250.0}), ('ἄνθρωπος', 'κύριος', {'weight': 4, 'norm_weight': 8e-05, 'distance': 0.25, 'norm_distance': 12500.0}), ('ἄνθρωπος', 'εἰμί', {'weight': 16, 'norm_weight': 0.00033, 'distance': 0.0625, 'norm_distance': 3030.30303}), ('ἄνθρωπος', 'θεός', {'weight': 39, 'norm_weight': 0.00079, 'distance': 0.02564, 'norm_distance': 1265.82278}), ('ἄνθρωπος', 'οἶδα', {'weight': 13, 'norm_weight': 0.00026, 'distance': 0.07692, 'norm_distance': 3846.15385}), ('ἄνθρωπος', 'εὐαγγέλιον', {'weight': 5, 'norm_weight': 0.0001, 'distance': 0.2, 'norm_distance': 10000.0}), ('ἄνθρωπος', 'νόμος', {'weight': 14, 'norm_weight': 0.00028, 'distance': 0.07143, 'norm_distance': 3571.42857}), ('ἄνθρωπος', 'γίγνομαι', {'weight': 9, 'norm_weight': 0.00018, 'distance': 0.11111, 'norm_distance': 5555.55556}), ('χριστός', 'χάρις', {'weight': 25, 'norm_weight': 0.00051, 'distance': 0.04, 'norm_distance': 1960.78431}), ('χριστός', 'πατήρ', {'weight': 17, 'norm_weight': 0.00035, 'distance': 0.05882, 'norm_distance': 2857.14286}), ('χριστός', 'νεκρός', {'weight': 25, 'norm_weight': 0.00051, 'distance': 0.04, 'norm_distance': 1960.78431}), ('χριστός', 'ἔχω', {'weight': 26, 'norm_weight': 0.00053, 'distance': 0.03846, 'norm_distance': 1886.79245}), ('χριστός', 'υἱός', {'weight': 9, 'norm_weight': 0.00018, 'distance': 0.11111, 'norm_distance': 5555.55556}), ('χριστός', 'σάρξ', {'weight': 21, 'norm_weight': 0.00043, 'distance': 0.04762, 'norm_distance': 2325.5814}), ('χριστός', 'πνεῦμα', {'weight': 29, 'norm_weight': 0.00059, 'distance': 0.03448, 'norm_distance': 1694.91525}), ('χριστός', 'πᾶς', {'weight': 69, 'norm_weight': 0.0014, 'distance': 0.01449, 'norm_distance': 714.28571}), ('χριστός', 'ἔθνος', {'weight': 18, 'norm_weight': 0.00037, 'distance': 0.05556, 'norm_distance': 2702.7027}), ('χριστός', 'πίστις', {'weight': 37, 'norm_weight': 0.00075, 'distance': 0.02703, 'norm_distance': 1333.33333}), ('χριστός', 'ἀδελφός', {'weight': 23, 'norm_weight': 0.00047, 'distance': 0.04348, 'norm_distance': 2127.65957}), ('χριστός', 'πολύς', {'weight': 20, 'norm_weight': 0.00041, 'distance': 0.05, 'norm_distance': 2439.02439}), ('χριστός', 'δίδωμι', {'weight': 10, 'norm_weight': 0.0002, 'distance': 0.1, 'norm_distance': 5000.0}), ('χριστός', 'ἐγείρω', {'weight': 23, 'norm_weight': 0.00047, 'distance': 0.04348, 'norm_distance': 2127.65957}), ('χριστός', 'καρδία', {'weight': 6, 'norm_weight': 0.00012, 'distance': 0.16667, 'norm_distance': 8333.33333}), ('χριστός', 'κόσμος', {'weight': 6, 'norm_weight': 0.00012, 'distance': 0.16667, 'norm_distance': 8333.33333}), ('χριστός', 'δύναμις', {'weight': 12, 'norm_weight': 0.00024, 'distance': 0.08333, 'norm_distance': 4166.66667}), ('χριστός', 'ἅγιος', {'weight': 17, 'norm_weight': 0.00035, 'distance': 0.05882, 'norm_distance': 2857.14286}), ('χριστός', 'δόξα', {'weight': 17, 'norm_weight': 0.00035, 'distance': 0.05882, 'norm_distance': 2857.14286}), ('χριστός', 'δικαιοσύνη', {'weight': 15, 'norm_weight': 0.00031, 'distance': 0.06667, 'norm_distance': 3225.80645}), ('χριστός', 'λόγος', {'weight': 13, 'norm_weight': 0.00026, 'distance': 0.07692, 'norm_distance': 3846.15385}), ('χριστός', 'κύριος', {'weight': 53, 'norm_weight': 0.00108, 'distance': 0.01887, 'norm_distance': 925.92593}), ('χριστός', 'εἰμί', {'weight': 52, 'norm_weight': 0.00106, 'distance': 0.01923, 'norm_distance': 943.39623}), ('χριστός', 'θεός', {'weight': 136, 'norm_weight': 0.00277, 'distance': 0.00735, 'norm_distance': 361.01083}), ('χριστός', 'οἶδα', {'weight': 21, 'norm_weight': 0.00043, 'distance': 0.04762, 'norm_distance': 2325.5814}), ('χριστός', 'εὐαγγέλιον', {'weight': 25, 'norm_weight': 0.00051, 'distance': 0.04, 'norm_distance': 1960.78431}), ('χριστός', 'νόμος', {'weight': 24, 'norm_weight': 0.00049, 'distance': 0.04167, 'norm_distance': 2040.81633}), ('χριστός', 'γίγνομαι', {'weight': 24, 'norm_weight': 0.00049, 'distance': 0.04167, 'norm_distance': 2040.81633}), ('χάρις', 'πατήρ', {'weight': 7, 'norm_weight': 0.00014, 'distance': 0.14286, 'norm_distance': 7142.85714}), ('χάρις', 'ἔχω', {'weight': 5, 'norm_weight': 0.0001, 'distance': 0.2, 'norm_distance': 10000.0}), ('χάρις', 'υἱός', {'weight': 3, 'norm_weight': 6e-05, 'distance': 0.33333, 'norm_distance': 16666.66667}), ('χάρις', 'πνεῦμα', {'weight': 6, 'norm_weight': 0.00012, 'distance': 0.16667, 'norm_distance': 8333.33333}), ('χάρις', 'πᾶς', {'weight': 18, 'norm_weight': 0.00037, 'distance': 0.05556, 'norm_distance': 2702.7027}), ('χάρις', 'ἔθνος', {'weight': 6, 'norm_weight': 0.00012, 'distance': 0.16667, 'norm_distance': 8333.33333}), ('χάρις', 'πίστις', {'weight': 8, 'norm_weight': 0.00016, 'distance': 0.125, 'norm_distance': 6250.0}), ('χάρις', 'ἀδελφός', {'weight': 3, 'norm_weight': 6e-05, 'distance': 0.33333, 'norm_distance': 16666.66667}), ('χάρις', 'πολύς', {'weight': 12, 'norm_weight': 0.00024, 'distance': 0.08333, 'norm_distance': 4166.66667}), ('χάρις', 'δίδωμι', {'weight': 13, 'norm_weight': 0.00026, 'distance': 0.07692, 'norm_distance': 3846.15385}), ('χάρις', 'καρδία', {'weight': 3, 'norm_weight': 6e-05, 'distance': 0.33333, 'norm_distance': 16666.66667}), ('χάρις', 'δύναμις', {'weight': 5, 'norm_weight': 0.0001, 'distance': 0.2, 'norm_distance': 10000.0}), ('χάρις', 'ἅγιος', {'weight': 5, 'norm_weight': 0.0001, 'distance': 0.2, 'norm_distance': 10000.0}), ('χάρις', 'δόξα', {'weight': 5, 'norm_weight': 0.0001, 'distance': 0.2, 'norm_distance': 10000.0}), ('χάρις', 'δικαιοσύνη', {'weight': 4, 'norm_weight': 8e-05, 'distance': 0.25, 'norm_distance': 12500.0}), ('χάρις', 'κύριος', {'weight': 24, 'norm_weight': 0.00049, 'distance': 0.04167, 'norm_distance': 2040.81633}), ('χάρις', 'εἰμί', {'weight': 11, 'norm_weight': 0.00022, 'distance': 0.09091, 'norm_distance': 4545.45455}), ('χάρις', 'θεός', {'weight': 48, 'norm_weight': 0.00098, 'distance': 0.02083, 'norm_distance': 1020.40816}), ('χάρις', 'εὐαγγέλιον', {'weight': 7, 'norm_weight': 0.00014, 'distance': 0.14286, 'norm_distance': 7142.85714}), ('χάρις', 'νόμος', {'weight': 4, 'norm_weight': 8e-05, 'distance': 0.25, 'norm_distance': 12500.0}), ('χάρις', 'γίγνομαι', {'weight': 9, 'norm_weight': 0.00018, 'distance': 0.11111, 'norm_distance': 5555.55556}), ('πατήρ', 'ἔχω', {'weight': 3, 'norm_weight': 6e-05, 'distance': 0.33333, 'norm_distance': 16666.66667}), ('πατήρ', 'υἱός', {'weight': 3, 'norm_weight': 6e-05, 'distance': 0.33333, 'norm_distance': 16666.66667}), ('πατήρ', 'σάρξ', {'weight': 3, 'norm_weight': 6e-05, 'distance': 0.33333, 'norm_distance': 16666.66667}), ('πατήρ', 'πνεῦμα', {'weight': 4, 'norm_weight': 8e-05, 'distance': 0.25, 'norm_distance': 12500.0}), ('πατήρ', 'πᾶς', {'weight': 16, 'norm_weight': 0.00033, 'distance': 0.0625, 'norm_distance': 3030.30303}), ('πατήρ', 'ἔθνος', {'weight': 5, 'norm_weight': 0.0001, 'distance': 0.2, 'norm_distance': 10000.0}), ('πατήρ', 'πίστις', {'weight': 7, 'norm_weight': 0.00014, 'distance': 0.14286, 'norm_distance': 7142.85714}), ('πατήρ', 'ἀδελφός', {'weight': 4, 'norm_weight': 8e-05, 'distance': 0.25, 'norm_distance': 12500.0}), ('πατήρ', 'πολύς', {'weight': 7, 'norm_weight': 0.00014, 'distance': 0.14286, 'norm_distance': 7142.85714}), ('πατήρ', 'δίδωμι', {'weight': 3, 'norm_weight': 6e-05, 'distance': 0.33333, 'norm_distance': 16666.66667}), ('πατήρ', 'δόξα', {'weight': 7, 'norm_weight': 0.00014, 'distance': 0.14286, 'norm_distance': 7142.85714}), ('πατήρ', 'δικαιοσύνη', {'weight': 6, 'norm_weight': 0.00012, 'distance': 0.16667, 'norm_distance': 8333.33333}), ('πατήρ', 'κύριος', {'weight': 21, 'norm_weight': 0.00043, 'distance': 0.04762, 'norm_distance': 2325.5814}), ('πατήρ', 'εἰμί', {'weight': 8, 'norm_weight': 0.00016, 'distance': 0.125, 'norm_distance': 6250.0}), ('πατήρ', 'θεός', {'weight': 36, 'norm_weight': 0.00073, 'distance': 0.02778, 'norm_distance': 1369.86301}), ('πατήρ', 'οἶδα', {'weight': 4, 'norm_weight': 8e-05, 'distance': 0.25, 'norm_distance': 12500.0}), ('πατήρ', 'εὐαγγέλιον', {'weight': 4, 'norm_weight': 8e-05, 'distance': 0.25, 'norm_distance': 12500.0}), ('πατήρ', 'γίγνομαι', {'weight': 5, 'norm_weight': 0.0001, 'distance': 0.2, 'norm_distance': 10000.0}), ('νεκρός', 'ἔχω', {'weight': 3, 'norm_weight': 6e-05, 'distance': 0.33333, 'norm_distance': 16666.66667}), ('νεκρός', 'υἱός', {'weight': 3, 'norm_weight': 6e-05, 'distance': 0.33333, 'norm_distance': 16666.66667}), ('νεκρός', 'πνεῦμα', {'weight': 6, 'norm_weight': 0.00012, 'distance': 0.16667, 'norm_distance': 8333.33333}), ('νεκρός', 'πᾶς', {'weight': 5, 'norm_weight': 0.0001, 'distance': 0.2, 'norm_distance': 10000.0}), ('νεκρός', 'πίστις', {'weight': 4, 'norm_weight': 8e-05, 'distance': 0.25, 'norm_distance': 12500.0}), ('νεκρός', 'ἐγείρω', {'weight': 28, 'norm_weight': 0.00057, 'distance': 0.03571, 'norm_distance': 1754.38596}), ('νεκρός', 'δικαιοσύνη', {'weight': 4, 'norm_weight': 8e-05, 'distance': 0.25, 'norm_distance': 12500.0}), ('νεκρός', 'κύριος', {'weight': 6, 'norm_weight': 0.00012, 'distance': 0.16667, 'norm_distance': 8333.33333}), ('νεκρός', 'εἰμί', {'weight': 6, 'norm_weight': 0.00012, 'distance': 0.16667, 'norm_distance': 8333.33333}), ('νεκρός', 'θεός', {'weight': 16, 'norm_weight': 0.00033, 'distance': 0.0625, 'norm_distance': 3030.30303}), ('νεκρός', 'νόμος', {'weight': 3, 'norm_weight': 6e-05, 'distance': 0.33333, 'norm_distance': 16666.66667}), ('ἔχω', 'υἱός', {'weight': 3, 'norm_weight': 6e-05, 'distance': 0.33333, 'norm_distance': 16666.66667}), ('ἔχω', 'σάρξ', {'weight': 7, 'norm_weight': 0.00014, 'distance': 0.14286, 'norm_distance': 7142.85714}), ('ἔχω', 'πνεῦμα', {'weight': 9, 'norm_weight': 0.00018, 'distance': 0.11111, 'norm_distance': 5555.55556}), ('ἔχω', 'πᾶς', {'weight': 25, 'norm_weight': 0.00051, 'distance': 0.04, 'norm_distance': 1960.78431}), ('ἔχω', 'ἔθνος', {'weight': 4, 'norm_weight': 8e-05, 'distance': 0.25, 'norm_distance': 12500.0}), ('ἔχω', 'πίστις', {'weight': 20, 'norm_weight': 0.00041, 'distance': 0.05, 'norm_distance': 2439.02439}), ('ἔχω', 'ἀδελφός', {'weight': 11, 'norm_weight': 0.00022, 'distance': 0.09091, 'norm_distance': 4545.45455}), ('ἔχω', 'πολύς', {'weight': 17, 'norm_weight': 0.00035, 'distance': 0.05882, 'norm_distance': 2857.14286}), ('ἔχω', 'δίδωμι', {'weight': 3, 'norm_weight': 6e-05, 'distance': 0.33333, 'norm_distance': 16666.66667}), ('ἔχω', 'ἐγείρω', {'weight': 4, 'norm_weight': 8e-05, 'distance': 0.25, 'norm_distance': 12500.0}), ('ἔχω', 'καρδία', {'weight': 6, 'norm_weight': 0.00012, 'distance': 0.16667, 'norm_distance': 8333.33333}), ('ἔχω', 'ἅγιος', {'weight': 6, 'norm_weight': 0.00012, 'distance': 0.16667, 'norm_distance': 8333.33333}), ('ἔχω', 'κύριος', {'weight': 13, 'norm_weight': 0.00026, 'distance': 0.07692, 'norm_distance': 3846.15385}), ('ἔχω', 'εἰμί', {'weight': 24, 'norm_weight': 0.00049, 'distance': 0.04167, 'norm_distance': 2040.81633}), ('ἔχω', 'θεός', {'weight': 30, 'norm_weight': 0.00061, 'distance': 0.03333, 'norm_distance': 1639.34426}), ('ἔχω', 'οἶδα', {'weight': 8, 'norm_weight': 0.00016, 'distance': 0.125, 'norm_distance': 6250.0}), ('ἔχω', 'εὐαγγέλιον', {'weight': 4, 'norm_weight': 8e-05, 'distance': 0.25, 'norm_distance': 12500.0}), ('ἔχω', 'νόμος', {'weight': 12, 'norm_weight': 0.00024, 'distance': 0.08333, 'norm_distance': 4166.66667}), ('ἔχω', 'γίγνομαι', {'weight': 3, 'norm_weight': 6e-05, 'distance': 0.33333, 'norm_distance': 16666.66667}), ('υἱός', 'σάρξ', {'weight': 8, 'norm_weight': 0.00016, 'distance': 0.125, 'norm_distance': 6250.0}), ('υἱός', 'πνεῦμα', {'weight': 8, 'norm_weight': 0.00016, 'distance': 0.125, 'norm_distance': 6250.0}), ('υἱός', 'πᾶς', {'weight': 11, 'norm_weight': 0.00022, 'distance': 0.09091, 'norm_distance': 4545.45455}), ('υἱός', 'ἔθνος', {'weight': 3, 'norm_weight': 6e-05, 'distance': 0.33333, 'norm_distance': 16666.66667}), ('υἱός', 'πίστις', {'weight': 5, 'norm_weight': 0.0001, 'distance': 0.2, 'norm_distance': 10000.0}), ('υἱός', 'πολύς', {'weight': 3, 'norm_weight': 6e-05, 'distance': 0.33333, 'norm_distance': 16666.66667}), ('υἱός', 'δόξα', {'weight': 3, 'norm_weight': 6e-05, 'distance': 0.33333, 'norm_distance': 16666.66667}), ('υἱός', 'κύριος', {'weight': 4, 'norm_weight': 8e-05, 'distance': 0.25, 'norm_distance': 12500.0}), ('υἱός', 'εἰμί', {'weight': 12, 'norm_weight': 0.00024, 'distance': 0.08333, 'norm_distance': 4166.66667}), ('υἱός', 'θεός', {'weight': 25, 'norm_weight': 0.00051, 'distance': 0.04, 'norm_distance': 1960.78431}), ('υἱός', 'εὐαγγέλιον', {'weight': 3, 'norm_weight': 6e-05, 'distance': 0.33333, 'norm_distance': 16666.66667}), ('υἱός', 'νόμος', {'weight': 4, 'norm_weight': 8e-05, 'distance': 0.25, 'norm_distance': 12500.0}), ('υἱός', 'γίγνομαι', {'weight': 7, 'norm_weight': 0.00014, 'distance': 0.14286, 'norm_distance': 7142.85714}), ('σάρξ', 'πνεῦμα', {'weight': 31, 'norm_weight': 0.00063, 'distance': 0.03226, 'norm_distance': 1587.30159}), ('σάρξ', 'πᾶς', {'weight': 7, 'norm_weight': 0.00014, 'distance': 0.14286, 'norm_distance': 7142.85714}), ('σάρξ', 'ἔθνος', {'weight': 4, 'norm_weight': 8e-05, 'distance': 0.25, 'norm_distance': 12500.0}), ('σάρξ', 'πίστις', {'weight': 4, 'norm_weight': 8e-05, 'distance': 0.25, 'norm_distance': 12500.0}), ('σάρξ', 'ἀδελφός', {'weight': 8, 'norm_weight': 0.00016, 'distance': 0.125, 'norm_distance': 6250.0}), ('σάρξ', 'πολύς', {'weight': 5, 'norm_weight': 0.0001, 'distance': 0.2, 'norm_distance': 10000.0}), ('σάρξ', 'κόσμος', {'weight': 3, 'norm_weight': 6e-05, 'distance': 0.33333, 'norm_distance': 16666.66667}), ('σάρξ', 'κύριος', {'weight': 5, 'norm_weight': 0.0001, 'distance': 0.2, 'norm_distance': 10000.0}), ('σάρξ', 'εἰμί', {'weight': 20, 'norm_weight': 0.00041, 'distance': 0.05, 'norm_distance': 2439.02439}), ('σάρξ', 'θεός', {'weight': 30, 'norm_weight': 0.00061, 'distance': 0.03333, 'norm_distance': 1639.34426}), ('σάρξ', 'οἶδα', {'weight': 5, 'norm_weight': 0.0001, 'distance': 0.2, 'norm_distance': 10000.0}), ('σάρξ', 'νόμος', {'weight': 18, 'norm_weight': 0.00037, 'distance': 0.05556, 'norm_distance': 2702.7027}), ('πνεῦμα', 'πᾶς', {'weight': 7, 'norm_weight': 0.00014, 'distance': 0.14286, 'norm_distance': 7142.85714}), ('πνεῦμα', 'ἔθνος', {'weight': 5, 'norm_weight': 0.0001, 'distance': 0.2, 'norm_distance': 10000.0}), ('πνεῦμα', 'πίστις', {'weight': 15, 'norm_weight': 0.00031, 'distance': 0.06667, 'norm_distance': 3225.80645}), ('πνεῦμα', 'ἀδελφός', {'weight': 6, 'norm_weight': 0.00012, 'distance': 0.16667, 'norm_distance': 8333.33333}), ('πνεῦμα', 'πολύς', {'weight': 4, 'norm_weight': 8e-05, 'distance': 0.25, 'norm_distance': 12500.0}), ('πνεῦμα', 'δίδωμι', {'weight': 11, 'norm_weight': 0.00022, 'distance': 0.09091, 'norm_distance': 4545.45455}), ('πνεῦμα', 'ἐγείρω', {'weight': 6, 'norm_weight': 0.00012, 'distance': 0.16667, 'norm_distance': 8333.33333}), ('πνεῦμα', 'καρδία', {'weight': 7, 'norm_weight': 0.00014, 'distance': 0.14286, 'norm_distance': 7142.85714}), ('πνεῦμα', 'δύναμις', {'weight': 17, 'norm_weight': 0.00035, 'distance': 0.05882, 'norm_distance': 2857.14286}), ('πνεῦμα', 'ἅγιος', {'weight': 17, 'norm_weight': 0.00035, 'distance': 0.05882, 'norm_distance': 2857.14286}), ('πνεῦμα', 'δόξα', {'weight': 6, 'norm_weight': 0.00012, 'distance': 0.16667, 'norm_distance': 8333.33333}), ('πνεῦμα', 'δικαιοσύνη', {'weight': 3, 'norm_weight': 6e-05, 'distance': 0.33333, 'norm_distance': 16666.66667}), ('πνεῦμα', 'λόγος', {'weight': 17, 'norm_weight': 0.00035, 'distance': 0.05882, 'norm_distance': 2857.14286}), ('πνεῦμα', 'κύριος', {'weight': 29, 'norm_weight': 0.00059, 'distance': 0.03448, 'norm_distance': 1694.91525}), ('πνεῦμα', 'εἰμί', {'weight': 17, 'norm_weight': 0.00035, 'distance': 0.05882, 'norm_distance': 2857.14286}), ('πνεῦμα', 'θεός', {'weight': 50, 'norm_weight': 0.00102, 'distance': 0.02, 'norm_distance': 980.39216}), ('πνεῦμα', 'οἶδα', {'weight': 13, 'norm_weight': 0.00026, 'distance': 0.07692, 'norm_distance': 3846.15385}), ('πνεῦμα', 'εὐαγγέλιον', {'weight': 8, 'norm_weight': 0.00016, 'distance': 0.125, 'norm_distance': 6250.0}), ('πνεῦμα', 'νόμος', {'weight': 9, 'norm_weight': 0.00018, 'distance': 0.11111, 'norm_distance': 5555.55556}), ('πνεῦμα', 'γίγνομαι', {'weight': 11, 'norm_weight': 0.00022, 'distance': 0.09091, 'norm_distance': 4545.45455}), ('πᾶς', 'ἔθνος', {'weight': 12, 'norm_weight': 0.00024, 'distance': 0.08333, 'norm_distance': 4166.66667}), ('πᾶς', 'πίστις', {'weight': 25, 'norm_weight': 0.00051, 'distance': 0.04, 'norm_distance': 1960.78431}), ('πᾶς', 'ἀδελφός', {'weight': 17, 'norm_weight': 0.00035, 'distance': 0.05882, 'norm_distance': 2857.14286}), ('πᾶς', 'πολύς', {'weight': 19, 'norm_weight': 0.00039, 'distance': 0.05263, 'norm_distance': 2564.10256}), ('πᾶς', 'δίδωμι', {'weight': 7, 'norm_weight': 0.00014, 'distance': 0.14286, 'norm_distance': 7142.85714}), ('πᾶς', 'καρδία', {'weight': 8, 'norm_weight': 0.00016, 'distance': 0.125, 'norm_distance': 6250.0}), ('πᾶς', 'κόσμος', {'weight': 6, 'norm_weight': 0.00012, 'distance': 0.16667, 'norm_distance': 8333.33333}), ('πᾶς', 'δύναμις', {'weight': 6, 'norm_weight': 0.00012, 'distance': 0.16667, 'norm_distance': 8333.33333}), ('πᾶς', 'ἅγιος', {'weight': 12, 'norm_weight': 0.00024, 'distance': 0.08333, 'norm_distance': 4166.66667}), ('πᾶς', 'δόξα', {'weight': 9, 'norm_weight': 0.00018, 'distance': 0.11111, 'norm_distance': 5555.55556}), ('πᾶς', 'δικαιοσύνη', {'weight': 8, 'norm_weight': 0.00016, 'distance': 0.125, 'norm_distance': 6250.0}), ('πᾶς', 'λόγος', {'weight': 10, 'norm_weight': 0.0002, 'distance': 0.1, 'norm_distance': 5000.0}), ('πᾶς', 'κύριος', {'weight': 33, 'norm_weight': 0.00067, 'distance': 0.0303, 'norm_distance': 1492.53731}), ('πᾶς', 'εἰμί', {'weight': 44, 'norm_weight': 0.00089, 'distance': 0.02273, 'norm_distance': 1123.59551}), ('πᾶς', 'θεός', {'weight': 97, 'norm_weight': 0.00197, 'distance': 0.01031, 'norm_distance': 507.61421}), ('πᾶς', 'οἶδα', {'weight': 9, 'norm_weight': 0.00018, 'distance': 0.11111, 'norm_distance': 5555.55556}), ('πᾶς', 'εὐαγγέλιον', {'weight': 15, 'norm_weight': 0.00031, 'distance': 0.06667, 'norm_distance': 3225.80645}), ('πᾶς', 'νόμος', {'weight': 14, 'norm_weight': 0.00028, 'distance': 0.07143, 'norm_distance': 3571.42857}), ('πᾶς', 'γίγνομαι', {'weight': 20, 'norm_weight': 0.00041, 'distance': 0.05, 'norm_distance': 2439.02439}), ('ἔθνος', 'πίστις', {'weight': 10, 'norm_weight': 0.0002, 'distance': 0.1, 'norm_distance': 5000.0}), ('ἔθνος', 'ἀδελφός', {'weight': 4, 'norm_weight': 8e-05, 'distance': 0.25, 'norm_distance': 12500.0}), ('ἔθνος', 'πολύς', {'weight': 3, 'norm_weight': 6e-05, 'distance': 0.33333, 'norm_distance': 16666.66667}), ('ἔθνος', 'δίδωμι', {'weight': 6, 'norm_weight': 0.00012, 'distance': 0.16667, 'norm_distance': 8333.33333}), ('ἔθνος', 'δύναμις', {'weight': 4, 'norm_weight': 8e-05, 'distance': 0.25, 'norm_distance': 12500.0}), ('ἔθνος', 'δόξα', {'weight': 3, 'norm_weight': 6e-05, 'distance': 0.33333, 'norm_distance': 16666.66667}), ('ἔθνος', 'κύριος', {'weight': 4, 'norm_weight': 8e-05, 'distance': 0.25, 'norm_distance': 12500.0}), ('ἔθνος', 'εἰμί', {'weight': 5, 'norm_weight': 0.0001, 'distance': 0.2, 'norm_distance': 10000.0}), ('ἔθνος', 'θεός', {'weight': 26, 'norm_weight': 0.00053, 'distance': 0.03846, 'norm_distance': 1886.79245}), ('ἔθνος', 'οἶδα', {'weight': 4, 'norm_weight': 8e-05, 'distance': 0.25, 'norm_distance': 12500.0}), ('ἔθνος', 'εὐαγγέλιον', {'weight': 8, 'norm_weight': 0.00016, 'distance': 0.125, 'norm_distance': 6250.0}), ('ἔθνος', 'νόμος', {'weight': 8, 'norm_weight': 0.00016, 'distance': 0.125, 'norm_distance': 6250.0}), ('ἔθνος', 'γίγνομαι', {'weight': 10, 'norm_weight': 0.0002, 'distance': 0.1, 'norm_distance': 5000.0}), ('πίστις', 'ἀδελφός', {'weight': 4, 'norm_weight': 8e-05, 'distance': 0.25, 'norm_distance': 12500.0}), ('πίστις', 'δίδωμι', {'weight': 6, 'norm_weight': 0.00012, 'distance': 0.16667, 'norm_distance': 8333.33333}), ('πίστις', 'ἐγείρω', {'weight': 7, 'norm_weight': 0.00014, 'distance': 0.14286, 'norm_distance': 7142.85714}), ('πίστις', 'δύναμις', {'weight': 8, 'norm_weight': 0.00016, 'distance': 0.125, 'norm_distance': 6250.0}), ('πίστις', 'ἅγιος', {'weight': 4, 'norm_weight': 8e-05, 'distance': 0.25, 'norm_distance': 12500.0}), ('πίστις', 'δόξα', {'weight': 5, 'norm_weight': 0.0001, 'distance': 0.2, 'norm_distance': 10000.0}), ('πίστις', 'δικαιοσύνη', {'weight': 25, 'norm_weight': 0.00051, 'distance': 0.04, 'norm_distance': 1960.78431}), ('πίστις', 'λόγος', {'weight': 7, 'norm_weight': 0.00014, 'distance': 0.14286, 'norm_distance': 7142.85714}), ('πίστις', 'κύριος', {'weight': 13, 'norm_weight': 0.00026, 'distance': 0.07692, 'norm_distance': 3846.15385}), ('πίστις', 'εἰμί', {'weight': 16, 'norm_weight': 0.00033, 'distance': 0.0625, 'norm_distance': 3030.30303}), ('πίστις', 'θεός', {'weight': 47, 'norm_weight': 0.00096, 'distance': 0.02128, 'norm_distance': 1041.66667}), ('πίστις', 'οἶδα', {'weight': 8, 'norm_weight': 0.00016, 'distance': 0.125, 'norm_distance': 6250.0}), ('πίστις', 'εὐαγγέλιον', {'weight': 6, 'norm_weight': 0.00012, 'distance': 0.16667, 'norm_distance': 8333.33333}), ('πίστις', 'νόμος', {'weight': 27, 'norm_weight': 0.00055, 'distance': 0.03704, 'norm_distance': 1818.18182}), ('πίστις', 'γίγνομαι', {'weight': 10, 'norm_weight': 0.0002, 'distance': 0.1, 'norm_distance': 5000.0}), ('ἀδελφός', 'πολύς', {'weight': 17, 'norm_weight': 0.00035, 'distance': 0.05882, 'norm_distance': 2857.14286}), ('ἀδελφός', 'ἅγιος', {'weight': 6, 'norm_weight': 0.00012, 'distance': 0.16667, 'norm_distance': 8333.33333}), ('ἀδελφός', 'δόξα', {'weight': 3, 'norm_weight': 6e-05, 'distance': 0.33333, 'norm_distance': 16666.66667}), ('ἀδελφός', 'λόγος', {'weight': 5, 'norm_weight': 0.0001, 'distance': 0.2, 'norm_distance': 10000.0}), ('ἀδελφός', 'κύριος', {'weight': 20, 'norm_weight': 0.00041, 'distance': 0.05, 'norm_distance': 2439.02439}), ('ἀδελφός', 'εἰμί', {'weight': 19, 'norm_weight': 0.00039, 'distance': 0.05263, 'norm_distance': 2564.10256}), ('ἀδελφός', 'θεός', {'weight': 29, 'norm_weight': 0.00059, 'distance': 0.03448, 'norm_distance': 1694.91525}), ('ἀδελφός', 'οἶδα', {'weight': 10, 'norm_weight': 0.0002, 'distance': 0.1, 'norm_distance': 5000.0}), ('ἀδελφός', 'εὐαγγέλιον', {'weight': 9, 'norm_weight': 0.00018, 'distance': 0.11111, 'norm_distance': 5555.55556}), ('ἀδελφός', 'νόμος', {'weight': 3, 'norm_weight': 6e-05, 'distance': 0.33333, 'norm_distance': 16666.66667}), ('ἀδελφός', 'γίγνομαι', {'weight': 15, 'norm_weight': 0.00031, 'distance': 0.06667, 'norm_distance': 3225.80645}), ('πολύς', 'καρδία', {'weight': 3, 'norm_weight': 6e-05, 'distance': 0.33333, 'norm_distance': 16666.66667}), ('πολύς', 'δύναμις', {'weight': 6, 'norm_weight': 0.00012, 'distance': 0.16667, 'norm_distance': 8333.33333}), ('πολύς', 'ἅγιος', {'weight': 8, 'norm_weight': 0.00016, 'distance': 0.125, 'norm_distance': 6250.0}), ('πολύς', 'δόξα', {'weight': 6, 'norm_weight': 0.00012, 'distance': 0.16667, 'norm_distance': 8333.33333}), ('πολύς', 'λόγος', {'weight': 7, 'norm_weight': 0.00014, 'distance': 0.14286, 'norm_distance': 7142.85714}), ('πολύς', 'κύριος', {'weight': 10, 'norm_weight': 0.0002, 'distance': 0.1, 'norm_distance': 5000.0}), ('πολύς', 'εἰμί', {'weight': 17, 'norm_weight': 0.00035, 'distance': 0.05882, 'norm_distance': 2857.14286}), ('πολύς', 'θεός', {'weight': 33, 'norm_weight': 0.00067, 'distance': 0.0303, 'norm_distance': 1492.53731}), ('πολύς', 'οἶδα', {'weight': 5, 'norm_weight': 0.0001, 'distance': 0.2, 'norm_distance': 10000.0}), ('πολύς', 'εὐαγγέλιον', {'weight': 5, 'norm_weight': 0.0001, 'distance': 0.2, 'norm_distance': 10000.0}), ('πολύς', 'γίγνομαι', {'weight': 10, 'norm_weight': 0.0002, 'distance': 0.1, 'norm_distance': 5000.0}), ('δίδωμι', 'καρδία', {'weight': 3, 'norm_weight': 6e-05, 'distance': 0.33333, 'norm_distance': 16666.66667}), ('δίδωμι', 'δύναμις', {'weight': 3, 'norm_weight': 6e-05, 'distance': 0.33333, 'norm_distance': 16666.66667}), ('δίδωμι', 'ἅγιος', {'weight': 3, 'norm_weight': 6e-05, 'distance': 0.33333, 'norm_distance': 16666.66667}), ('δίδωμι', 'λόγος', {'weight': 6, 'norm_weight': 0.00012, 'distance': 0.16667, 'norm_distance': 8333.33333}), ('δίδωμι', 'κύριος', {'weight': 12, 'norm_weight': 0.00024, 'distance': 0.08333, 'norm_distance': 4166.66667}), ('δίδωμι', 'εἰμί', {'weight': 6, 'norm_weight': 0.00012, 'distance': 0.16667, 'norm_distance': 8333.33333}), ('δίδωμι', 'θεός', {'weight': 28, 'norm_weight': 0.00057, 'distance': 0.03571, 'norm_distance': 1754.38596}), ('δίδωμι', 'εὐαγγέλιον', {'weight': 4, 'norm_weight': 8e-05, 'distance': 0.25, 'norm_distance': 12500.0}), ('ἐγείρω', 'κύριος', {'weight': 6, 'norm_weight': 0.00012, 'distance': 0.16667, 'norm_distance': 8333.33333}), ('ἐγείρω', 'εἰμί', {'weight': 5, 'norm_weight': 0.0001, 'distance': 0.2, 'norm_distance': 10000.0}), ('ἐγείρω', 'θεός', {'weight': 14, 'norm_weight': 0.00028, 'distance': 0.07143, 'norm_distance': 3571.42857}), ('ἐγείρω', 'οἶδα', {'weight': 5, 'norm_weight': 0.0001, 'distance': 0.2, 'norm_distance': 10000.0}), ('καρδία', 'ἅγιος', {'weight': 4, 'norm_weight': 8e-05, 'distance': 0.25, 'norm_distance': 12500.0}), ('καρδία', 'δικαιοσύνη', {'weight': 3, 'norm_weight': 6e-05, 'distance': 0.33333, 'norm_distance': 16666.66667}), ('καρδία', 'κύριος', {'weight': 5, 'norm_weight': 0.0001, 'distance': 0.2, 'norm_distance': 10000.0}), ('καρδία', 'εἰμί', {'weight': 7, 'norm_weight': 0.00014, 'distance': 0.14286, 'norm_distance': 7142.85714}), ('καρδία', 'θεός', {'weight': 24, 'norm_weight': 0.00049, 'distance': 0.04167, 'norm_distance': 2040.81633}), ('καρδία', 'εὐαγγέλιον', {'weight': 3, 'norm_weight': 6e-05, 'distance': 0.33333, 'norm_distance': 16666.66667}), ('κόσμος', 'εἰμί', {'weight': 18, 'norm_weight': 0.00037, 'distance': 0.05556, 'norm_distance': 2702.7027}), ('κόσμος', 'θεός', {'weight': 27, 'norm_weight': 0.00055, 'distance': 0.03704, 'norm_distance': 1818.18182}), ('κόσμος', 'οἶδα', {'weight': 4, 'norm_weight': 8e-05, 'distance': 0.25, 'norm_distance': 12500.0}), ('κόσμος', 'νόμος', {'weight': 5, 'norm_weight': 0.0001, 'distance': 0.2, 'norm_distance': 10000.0}), ('κόσμος', 'γίγνομαι', {'weight': 7, 'norm_weight': 0.00014, 'distance': 0.14286, 'norm_distance': 7142.85714}), ('δύναμις', 'ἅγιος', {'weight': 8, 'norm_weight': 0.00016, 'distance': 0.125, 'norm_distance': 6250.0}), ('δύναμις', 'λόγος', {'weight': 15, 'norm_weight': 0.00031, 'distance': 0.06667, 'norm_distance': 3225.80645}), ('δύναμις', 'κύριος', {'weight': 12, 'norm_weight': 0.00024, 'distance': 0.08333, 'norm_distance': 4166.66667}), ('δύναμις', 'εἰμί', {'weight': 4, 'norm_weight': 8e-05, 'distance': 0.25, 'norm_distance': 12500.0}), ('δύναμις', 'θεός', {'weight': 25, 'norm_weight': 0.00051, 'distance': 0.04, 'norm_distance': 1960.78431}), ('δύναμις', 'οἶδα', {'weight': 3, 'norm_weight': 6e-05, 'distance': 0.33333, 'norm_distance': 16666.66667}), ('δύναμις', 'εὐαγγέλιον', {'weight': 3, 'norm_weight': 6e-05, 'distance': 0.33333, 'norm_distance': 16666.66667}), ('δύναμις', 'νόμος', {'weight': 3, 'norm_weight': 6e-05, 'distance': 0.33333, 'norm_distance': 16666.66667}), ('δύναμις', 'γίγνομαι', {'weight': 6, 'norm_weight': 0.00012, 'distance': 0.16667, 'norm_distance': 8333.33333}), ('ἅγιος', 'λόγος', {'weight': 4, 'norm_weight': 8e-05, 'distance': 0.25, 'norm_distance': 12500.0}), ('ἅγιος', 'κύριος', {'weight': 13, 'norm_weight': 0.00026, 'distance': 0.07692, 'norm_distance': 3846.15385}), ('ἅγιος', 'εἰμί', {'weight': 9, 'norm_weight': 0.00018, 'distance': 0.11111, 'norm_distance': 5555.55556}), ('ἅγιος', 'θεός', {'weight': 30, 'norm_weight': 0.00061, 'distance': 0.03333, 'norm_distance': 1639.34426}), ('ἅγιος', 'οἶδα', {'weight': 8, 'norm_weight': 0.00016, 'distance': 0.125, 'norm_distance': 6250.0}), ('ἅγιος', 'εὐαγγέλιον', {'weight': 3, 'norm_weight': 6e-05, 'distance': 0.33333, 'norm_distance': 16666.66667}), ('ἅγιος', 'γίγνομαι', {'weight': 8, 'norm_weight': 0.00016, 'distance': 0.125, 'norm_distance': 6250.0}), ('δόξα', 'δικαιοσύνη', {'weight': 3, 'norm_weight': 6e-05, 'distance': 0.33333, 'norm_distance': 16666.66667}), ('δόξα', 'κύριος', {'weight': 9, 'norm_weight': 0.00018, 'distance': 0.11111, 'norm_distance': 5555.55556}), ('δόξα', 'εἰμί', {'weight': 14, 'norm_weight': 0.00028, 'distance': 0.07143, 'norm_distance': 3571.42857}), ('δόξα', 'θεός', {'weight': 30, 'norm_weight': 0.00061, 'distance': 0.03333, 'norm_distance': 1639.34426}), ('δόξα', 'εὐαγγέλιον', {'weight': 4, 'norm_weight': 8e-05, 'distance': 0.25, 'norm_distance': 12500.0}), ('δόξα', 'γίγνομαι', {'weight': 5, 'norm_weight': 0.0001, 'distance': 0.2, 'norm_distance': 10000.0}), ('δικαιοσύνη', 'κύριος', {'weight': 6, 'norm_weight': 0.00012, 'distance': 0.16667, 'norm_distance': 8333.33333}), ('δικαιοσύνη', 'εἰμί', {'weight': 8, 'norm_weight': 0.00016, 'distance': 0.125, 'norm_distance': 6250.0}), ('δικαιοσύνη', 'θεός', {'weight': 26, 'norm_weight': 0.00053, 'distance': 0.03846, 'norm_distance': 1886.79245}), ('δικαιοσύνη', 'νόμος', {'weight': 16, 'norm_weight': 0.00033, 'distance': 0.0625, 'norm_distance': 3030.30303}), ('δικαιοσύνη', 'γίγνομαι', {'weight': 3, 'norm_weight': 6e-05, 'distance': 0.33333, 'norm_distance': 16666.66667}), ('λόγος', 'κύριος', {'weight': 10, 'norm_weight': 0.0002, 'distance': 0.1, 'norm_distance': 5000.0}), ('λόγος', 'εἰμί', {'weight': 8, 'norm_weight': 0.00016, 'distance': 0.125, 'norm_distance': 6250.0}), ('λόγος', 'θεός', {'weight': 33, 'norm_weight': 0.00067, 'distance': 0.0303, 'norm_distance': 1492.53731}), ('λόγος', 'οἶδα', {'weight': 5, 'norm_weight': 0.0001, 'distance': 0.2, 'norm_distance': 10000.0}), ('λόγος', 'εὐαγγέλιον', {'weight': 4, 'norm_weight': 8e-05, 'distance': 0.25, 'norm_distance': 12500.0}), ('λόγος', 'γίγνομαι', {'weight': 11, 'norm_weight': 0.00022, 'distance': 0.09091, 'norm_distance': 4545.45455}), ('κύριος', 'εἰμί', {'weight': 30, 'norm_weight': 0.00061, 'distance': 0.03333, 'norm_distance': 1639.34426}), ('κύριος', 'θεός', {'weight': 69, 'norm_weight': 0.0014, 'distance': 0.01449, 'norm_distance': 714.28571}), ('κύριος', 'οἶδα', {'weight': 13, 'norm_weight': 0.00026, 'distance': 0.07692, 'norm_distance': 3846.15385}), ('κύριος', 'εὐαγγέλιον', {'weight': 7, 'norm_weight': 0.00014, 'distance': 0.14286, 'norm_distance': 7142.85714}), ('κύριος', 'γίγνομαι', {'weight': 15, 'norm_weight': 0.00031, 'distance': 0.06667, 'norm_distance': 3225.80645}), ('εἰμί', 'θεός', {'weight': 91, 'norm_weight': 0.00185, 'distance': 0.01099, 'norm_distance': 540.54054}), ('εἰμί', 'οἶδα', {'weight': 16, 'norm_weight': 0.00033, 'distance': 0.0625, 'norm_distance': 3030.30303}), ('εἰμί', 'εὐαγγέλιον', {'weight': 8, 'norm_weight': 0.00016, 'distance': 0.125, 'norm_distance': 6250.0}), ('εἰμί', 'νόμος', {'weight': 35, 'norm_weight': 0.00071, 'distance': 0.02857, 'norm_distance': 1408.4507}), ('εἰμί', 'γίγνομαι', {'weight': 17, 'norm_weight': 0.00035, 'distance': 0.05882, 'norm_distance': 2857.14286}), ('θεός', 'οἶδα', {'weight': 47, 'norm_weight': 0.00096, 'distance': 0.02128, 'norm_distance': 1041.66667}), ('θεός', 'εὐαγγέλιον', {'weight': 30, 'norm_weight': 0.00061, 'distance': 0.03333, 'norm_distance': 1639.34426}), ('θεός', 'νόμος', {'weight': 33, 'norm_weight': 0.00067, 'distance': 0.0303, 'norm_distance': 1492.53731}), ('θεός', 'γίγνομαι', {'weight': 46, 'norm_weight': 0.00094, 'distance': 0.02174, 'norm_distance': 1063.82979}), ('οἶδα', 'εὐαγγέλιον', {'weight': 6, 'norm_weight': 0.00012, 'distance': 0.16667, 'norm_distance': 8333.33333}), ('οἶδα', 'νόμος', {'weight': 8, 'norm_weight': 0.00016, 'distance': 0.125, 'norm_distance': 6250.0}), ('οἶδα', 'γίγνομαι', {'weight': 11, 'norm_weight': 0.00022, 'distance': 0.09091, 'norm_distance': 4545.45455}), ('εὐαγγέλιον', 'γίγνομαι', {'weight': 8, 'norm_weight': 0.00016, 'distance': 0.125, 'norm_distance': 6250.0}), ('νόμος', 'γίγνομαι', {'weight': 16, 'norm_weight': 0.00033, 'distance': 0.0625, 'norm_distance': 3030.30303})])"
      ]
     },
     "execution_count": 185,
     "metadata": {},
     "output_type": "execute_result"
    }
   ],
   "source": [
    "ego_network_sentences = construct_ego_network(network_sentences, \"χριστός\", 30, reduced=False)\n",
    "ego_network_sentences.edges.data()"
   ]
  },
  {
   "cell_type": "code",
   "execution_count": 186,
   "metadata": {},
   "outputs": [
    {
     "name": "stdout",
     "output_type": "stream",
     "text": [
      "['Χριστός', 'Ἰησοῦς', 'κύριος', 'θεός', 'χάρις', 'πατήρ', 'εἰμί', 'πνεῦμα', 'εἰρήνη', 'νόμος', 'ἔργον', 'πᾶς', 'δικαιοσύνη', 'ἄνθρωπος', 'οἶδα', 'υἱός', 'δύναμις', 'θέλημα', 'ἔχω', 'ἁμαρτία', 'δίδωμι', 'αὐτός', 'εὐχαριστέω', 'δόξα', 'οὗτος', 'ἐκκλησία', 'σῶμα', 'ἐλεύθερος', 'εὐαγγέλιον', 'σπέρμα', 'χριστός']\n",
      "['αὐτός', 'ἄνθρωπος', 'χριστός', 'χάρις', 'πατήρ', 'νεκρός', 'ἔχω', 'υἱός', 'σάρξ', 'πνεῦμα', 'πᾶς', 'ἔθνος', 'πίστις', 'ἀδελφός', 'πολύς', 'δίδωμι', 'ἐγείρω', 'καρδία', 'κόσμος', 'δύναμις', 'ἅγιος', 'δόξα', 'δικαιοσύνη', 'λόγος', 'κύριος', 'εἰμί', 'θεός', 'οἶδα', 'εὐαγγέλιον', 'νόμος', 'γίγνομαι']\n"
     ]
    }
   ],
   "source": [
    "print(list(ego_network_bigrams.nodes())) \n",
    "print(list(ego_network_sentences.nodes()))"
   ]
  },
  {
   "cell_type": "code",
   "execution_count": 187,
   "metadata": {},
   "outputs": [
    {
     "data": {
      "text/plain": [
       "{'αὐτός',\n",
       " 'δίδωμι',\n",
       " 'δικαιοσύνη',\n",
       " 'δόξα',\n",
       " 'δύναμις',\n",
       " 'εἰμί',\n",
       " 'εὐαγγέλιον',\n",
       " 'θεός',\n",
       " 'κύριος',\n",
       " 'νόμος',\n",
       " 'οἶδα',\n",
       " 'πατήρ',\n",
       " 'πνεῦμα',\n",
       " 'πᾶς',\n",
       " 'υἱός',\n",
       " 'χάρις',\n",
       " 'χριστός',\n",
       " 'ἄνθρωπος',\n",
       " 'ἔχω'}"
      ]
     },
     "execution_count": 187,
     "metadata": {},
     "output_type": "execute_result"
    }
   ],
   "source": [
    "# overlap between the two networks\n",
    "set(ego_network_bigrams.nodes()) &  set(ego_network_sentences.nodes())"
   ]
  },
  {
   "cell_type": "code",
   "execution_count": 188,
   "metadata": {},
   "outputs": [
    {
     "data": {
      "text/plain": [
       "[['Χριστός', 'Ἰησοῦς', 85, 0.01176],\n",
       " ['Ἰησοῦς', 'κύριος', 47, 0.02128],\n",
       " ['θεός', 'χάρις', 20, 0.05],\n",
       " ['θεός', 'πατήρ', 19, 0.05263],\n",
       " ['θεός', 'εἰμί', 17, 0.05882],\n",
       " ['θεός', 'πνεῦμα', 15, 0.06667],\n",
       " ['θεός', 'εἰρήνη', 13, 0.07692],\n",
       " ['Χριστός', 'θεός', 12, 0.08333],\n",
       " ['εἰμί', 'νόμος', 12, 0.08333],\n",
       " ['κύριος', 'πατήρ', 11, 0.09091],\n",
       " ['θεός', 'πᾶς', 11, 0.09091],\n",
       " ['νόμος', 'ἔργον', 11, 0.09091],\n",
       " ['Χριστός', 'εἰμί', 10, 0.1],\n",
       " ['θεός', 'δικαιοσύνη', 10, 0.1],\n",
       " ['θεός', 'οἶδα', 10, 0.1],\n",
       " ['πᾶς', 'ἄνθρωπος', 10, 0.1],\n",
       " ['θεός', 'υἱός', 9, 0.11111],\n",
       " ['θεός', 'δύναμις', 9, 0.11111],\n",
       " ['θεός', 'θέλημα', 9, 0.11111],\n",
       " ['θεός', 'ἔχω', 9, 0.11111],\n",
       " ['θεός', 'δίδωμι', 9, 0.11111],\n",
       " ['εἰμί', 'πᾶς', 9, 0.11111],\n",
       " ['εἰμί', 'αὐτός', 9, 0.11111],\n",
       " ['νόμος', 'ἁμαρτία', 9, 0.11111],\n",
       " ['κύριος', 'εἰμί', 8, 0.125],\n",
       " ['κύριος', 'χάρις', 8, 0.125],\n",
       " ['θεός', 'εὐχαριστέω', 8, 0.125],\n",
       " ['θεός', 'νόμος', 8, 0.125],\n",
       " ['θεός', 'δόξα', 8, 0.125],\n",
       " ['θεός', 'ἐκκλησία', 8, 0.125],\n",
       " ['οὗτος', 'σῶμα', 8, 0.125],\n",
       " ['χάρις', 'εἰρήνη', 7, 0.14286],\n",
       " ['εἰμί', 'ἄνθρωπος', 7, 0.14286],\n",
       " ['εἰμί', 'οὗτος', 7, 0.14286],\n",
       " ['εἰμί', 'ἐλεύθερος', 7, 0.14286],\n",
       " ['εἰμί', 'σῶμα', 7, 0.14286],\n",
       " ['εἰμί', 'πνεῦμα', 7, 0.14286],\n",
       " ['πνεῦμα', 'αὐτός', 7, 0.14286],\n",
       " ['νόμος', 'δικαιοσύνη', 7, 0.14286],\n",
       " ['θεός', 'εὐαγγέλιον', 6, 0.16667],\n",
       " ['θεός', 'οὗτος', 6, 0.16667],\n",
       " ['εἰμί', 'σπέρμα', 6, 0.16667],\n",
       " ['πνεῦμα', 'δύναμις', 6, 0.16667],\n",
       " ['οἶδα', 'σῶμα', 6, 0.16667],\n",
       " ['χριστός', 'εὐαγγέλιον', 6, 0.16667],\n",
       " ['Χριστός', 'κύριος', 5, 0.2],\n",
       " ['Χριστός', 'δίδωμι', 5, 0.2],\n",
       " ['Χριστός', 'πνεῦμα', 5, 0.2],\n",
       " ['Χριστός', 'ἔχω', 5, 0.2],\n",
       " ['Ἰησοῦς', 'θεός', 5, 0.2],\n",
       " ['κύριος', 'πᾶς', 5, 0.2],\n",
       " ['χάρις', 'δίδωμι', 5, 0.2],\n",
       " ['εἰμί', 'ἁμαρτία', 5, 0.2],\n",
       " ['πᾶς', 'ἔχω', 5, 0.2],\n",
       " ['οἶδα', 'αὐτός', 5, 0.2],\n",
       " ['Χριστός', 'πᾶς', 4, 0.25],\n",
       " ['Χριστός', 'σῶμα', 4, 0.25],\n",
       " ['κύριος', 'θεός', 4, 0.25],\n",
       " ['κύριος', 'αὐτός', 4, 0.25],\n",
       " ['κύριος', 'δίδωμι', 4, 0.25],\n",
       " ['θεός', 'ἄνθρωπος', 4, 0.25],\n",
       " ['εἰμί', 'ἔχω', 4, 0.25],\n",
       " ['εἰμί', 'υἱός', 4, 0.25],\n",
       " ['χριστός', 'εἰμί', 4, 0.25],\n",
       " ['πνεῦμα', 'πᾶς', 4, 0.25],\n",
       " ['Χριστός', 'οὗτος', 3, 0.33333],\n",
       " ['Χριστός', 'δόξα', 3, 0.33333],\n",
       " ['Ἰησοῦς', 'πᾶς', 3, 0.33333],\n",
       " ['Ἰησοῦς', 'σῶμα', 3, 0.33333],\n",
       " ['κύριος', 'εὐχαριστέω', 3, 0.33333],\n",
       " ['κύριος', 'δόξα', 3, 0.33333],\n",
       " ['κύριος', 'ἔχω', 3, 0.33333],\n",
       " ['κύριος', 'ἄνθρωπος', 3, 0.33333],\n",
       " ['κύριος', 'ἔργον', 3, 0.33333],\n",
       " ['κύριος', 'πνεῦμα', 3, 0.33333],\n",
       " ['θεός', 'αὐτός', 3, 0.33333],\n",
       " ['χάρις', 'πᾶς', 3, 0.33333],\n",
       " ['πατήρ', 'δόξα', 3, 0.33333],\n",
       " ['νόμος', 'οἶδα', 3, 0.33333],\n",
       " ['πᾶς', 'ἁμαρτία', 3, 0.33333],\n",
       " ['πᾶς', 'αὐτός', 3, 0.33333],\n",
       " ['πᾶς', 'ἐκκλησία', 3, 0.33333],\n",
       " ['πᾶς', 'υἱός', 3, 0.33333],\n",
       " ['οἶδα', 'οὗτος', 3, 0.33333],\n",
       " ['θέλημα', 'οὗτος', 3, 0.33333],\n",
       " ['αὐτός', 'οὗτος', 3, 0.33333],\n",
       " ['χριστός', 'σῶμα', 3, 0.33333],\n",
       " ['Χριστός', 'νόμος', 2, 0.5],\n",
       " ['Χριστός', 'δικαιοσύνη', 2, 0.5],\n",
       " ['Χριστός', 'πατήρ', 2, 0.5],\n",
       " ['Χριστός', 'χάρις', 2, 0.5],\n",
       " ['Ἰησοῦς', 'ἄνθρωπος', 2, 0.5],\n",
       " ['Ἰησοῦς', 'οἶδα', 2, 0.5],\n",
       " ['χριστός', 'Ἰησοῦς', 2, 0.5],\n",
       " ['Ἰησοῦς', 'πνεῦμα', 2, 0.5],\n",
       " ['κύριος', 'οἶδα', 2, 0.5],\n",
       " ['κύριος', 'οὗτος', 2, 0.5],\n",
       " ['θεός', 'σῶμα', 2, 0.5],\n",
       " ['χριστός', 'θεός', 2, 0.5],\n",
       " ['χάρις', 'νόμος', 2, 0.5],\n",
       " ['χάρις', 'οὗτος', 2, 0.5],\n",
       " ['χάρις', 'ἔργον', 2, 0.5],\n",
       " ['χάρις', 'εἰμί', 2, 0.5],\n",
       " ['πατήρ', 'πᾶς', 2, 0.5],\n",
       " ['εἰμί', 'οἶδα', 2, 0.5],\n",
       " ['εἰμί', 'εἰρήνη', 2, 0.5],\n",
       " ['πνεῦμα', 'νόμος', 2, 0.5],\n",
       " ['πνεῦμα', 'ἔχω', 2, 0.5],\n",
       " ['πνεῦμα', 'ἄνθρωπος', 2, 0.5],\n",
       " ['πνεῦμα', 'δίδωμι', 2, 0.5],\n",
       " ['νόμος', 'ἔχω', 2, 0.5],\n",
       " ['νόμος', 'οὗτος', 2, 0.5],\n",
       " ['νόμος', 'αὐτός', 2, 0.5],\n",
       " ['ἔργον', 'δύναμις', 2, 0.5],\n",
       " ['πᾶς', 'δικαιοσύνη', 2, 0.5],\n",
       " ['πᾶς', 'δόξα', 2, 0.5],\n",
       " ['πᾶς', 'οὗτος', 2, 0.5],\n",
       " ['πᾶς', 'ἐλεύθερος', 2, 0.5],\n",
       " ['πᾶς', 'δύναμις', 2, 0.5],\n",
       " ['ἄνθρωπος', 'οὗτος', 2, 0.5],\n",
       " ['ἄνθρωπος', 'οἶδα', 2, 0.5],\n",
       " ['δύναμις', 'ἁμαρτία', 2, 0.5],\n",
       " ['ἔχω', 'οὗτος', 2, 0.5],\n",
       " ['ἔχω', 'αὐτός', 2, 0.5],\n",
       " ['δίδωμι', 'οὗτος', 2, 0.5],\n",
       " ['εὐχαριστέω', 'οὗτος', 2, 0.5],\n",
       " ['χριστός', 'δόξα', 2, 0.5]]"
      ]
     },
     "execution_count": 188,
     "metadata": {},
     "output_type": "execute_result"
    }
   ],
   "source": [
    "extract_ego_network_data(ego_network_bigrams, \"χριστός\")"
   ]
  },
  {
   "cell_type": "code",
   "execution_count": 189,
   "metadata": {},
   "outputs": [],
   "source": [
    "def draw_2d_network(networkx_object):\n",
    "    '''take networkX object and draw it'''\n",
    "    pos_2d=nx.kamada_kawai_layout(networkx_object, weight=\"weight_norm\")\n",
    "    nx.set_node_attributes(networkx_object, pos_2d, \"pos_2d\")\n",
    "    dmin=1\n",
    "    ncenter=0\n",
    "    Edges = list(networkx_object.edges)\n",
    "    L=len(Edges)\n",
    "    labels= list(networkx_object.nodes)\n",
    "    N = len(labels)\n",
    "    distance_list = [float(distance[2]) for distance in list(networkx_object.edges.data(\"distance\"))]\n",
    "    weight_list = [int(float(weight[2])) for weight in list(networkx_object.edges.data(\"weight\"))]\n",
    "    for n in pos_2d:\n",
    "        x,y=pos_2d[n]\n",
    "        d=(x-0.5)**2+(y-0.5)**2\n",
    "        if d<dmin:\n",
    "            ncenter=n\n",
    "            dmin=d\n",
    "    p =nx.single_source_shortest_path_length(networkx_object, ncenter)\n",
    "    adjc= [len(one_adjc) for one_adjc in list((nx.generate_adjlist(networkx_object)))]\n",
    "    middle_node_trace = go.Scatter(\n",
    "        x=[],\n",
    "        y=[],\n",
    "        opacity=0,\n",
    "        text=weight_list,\n",
    "        mode='markers',\n",
    "        hoverinfo='text',\n",
    "        marker=dict(\n",
    "            opacity=0\n",
    "            )\n",
    "        )\n",
    "    for Edge in Edges:\n",
    "        x0,y0 = networkx_object.nodes[Edge[0]][\"pos_2d\"]\n",
    "        x1,y1 = networkx_object.nodes[Edge[1]][\"pos_2d\"]\n",
    "        middle_node_trace['x'] += tuple([(x0+x1)/2])\n",
    "        middle_node_trace['y'] += tuple([(y0+y1)/2])\n",
    "    edge_trace1 = go.Scatter(\n",
    "        x=[], y=[],\n",
    "        #hoverinfo='none',\n",
    "        mode='lines',\n",
    "        line=dict(width=1,color=\"#000000\"),\n",
    "        )\n",
    "    edge_trace2 = go.Scatter(\n",
    "        x=[],y=[],\n",
    "        #hoverinfo='none',\n",
    "        mode='lines',\n",
    "        line=dict(width=0.7,color=\"#404040\"),\n",
    "        )\n",
    "    edge_trace3 = go.Scatter(\n",
    "        x=[], y=[],\n",
    "        #hoverinfo='none',\n",
    "        mode='lines',\n",
    "        line=dict(width=0.5,color=\"#C0C0C0\"),\n",
    "        )\n",
    "    best_5percent_norm_weight = sorted(list(networkx_object.edges.data(\"norm_weight\")), key=lambda x: x[2], reverse=True)[int((len(networkx_object.edges.data(\"norm_weight\")) / 100) * 5)][2]\n",
    "    best_20percent_norm_weight = sorted(list(networkx_object.edges.data(\"norm_weight\")), key=lambda x: x[2], reverse=True)[int((len(networkx_object.edges.data(\"norm_weight\")) / 100) * 20)][2]\n",
    "    for edge in networkx_object.edges.data():\n",
    "        if edge[2][\"norm_weight\"] >= best_5percent_norm_weight:\n",
    "            x0, y0 = networkx_object.nodes[edge[0]]['pos_2d']\n",
    "            x1, y1 = networkx_object.nodes[edge[1]]['pos_2d']\n",
    "            edge_trace1['x'] += tuple([x0, x1, None])\n",
    "            edge_trace1['y'] += tuple([y0, y1, None])\n",
    "        else:\n",
    "            if edge[2][\"norm_weight\"] >= best_20percent_norm_weight:\n",
    "                x0, y0 = networkx_object.nodes[edge[0]]['pos_2d']\n",
    "                x1, y1 = networkx_object.nodes[edge[1]]['pos_2d']\n",
    "                edge_trace2['x'] += tuple([x0, x1, None])\n",
    "                edge_trace2['y'] += tuple([y0, y1, None])\n",
    "            else:\n",
    "                x0, y0 = networkx_object.nodes[edge[0]]['pos_2d']\n",
    "                x1, y1 = networkx_object.nodes[edge[1]]['pos_2d']\n",
    "                edge_trace3['x'] += tuple([x0, x1, None])\n",
    "                edge_trace3['y'] += tuple([y0, y1, None])\n",
    "\n",
    "    node_trace = go.Scatter(\n",
    "        x=[],\n",
    "        y=[],\n",
    "        #name=[],\n",
    "        text=[],\n",
    "        textposition='bottom center',\n",
    "        mode='markers+text',\n",
    "        hovertext=adjc,\n",
    "        hoverinfo='text',\n",
    "        marker=dict(\n",
    "            ###showscale=True,\n",
    "            showscale=False, ### change to see scale\n",
    "            colorscale='Greys',\n",
    "            reversescale=True,\n",
    "            color=[],\n",
    "            size=7,\n",
    "            colorbar=dict(\n",
    "                thickness=15,\n",
    "                title='degree',\n",
    "                xanchor='left',\n",
    "                titleside='right'\n",
    "                ),\n",
    "            line=dict(width=1)\n",
    "            )\n",
    "        )\n",
    "\n",
    "    for node in networkx_object.nodes():\n",
    "        x, y = networkx_object.nodes[node]['pos_2d']\n",
    "        node_trace['x'] += tuple([x])\n",
    "        node_trace['y'] += tuple([y])\n",
    "        node_trace[\"text\"] += tuple([node])\n",
    "        ### original version: node_trace[\"text\"] += tuple([node])\n",
    "\n",
    "    ### Color Node Points\n",
    "    for node, adjacencies in enumerate(nx.generate_adjlist(networkx_object)):\n",
    "        node_trace['marker']['color'] += tuple([len(adjacencies)])\n",
    "        ###node_info = ' of connections: '+str(len(adjacencies))\n",
    "        ###node_trace['something'].append(node_info)\n",
    "\n",
    "    fig = go.Figure(data=[edge_trace1, edge_trace2, edge_trace3, node_trace, middle_node_trace],\n",
    "        layout=go.Layout(\n",
    "            plot_bgcolor='rgba(0,0,0,0)',\n",
    "            autosize=False,\n",
    "            width=500,\n",
    "            height=500,\n",
    "            #title=file_name,\n",
    "            titlefont=dict(size=16),\n",
    "            showlegend=False,\n",
    "            hovermode='closest',\n",
    "            margin=dict(b=10,l=10,r=10, t=10),\n",
    "            xaxis=dict(showgrid=False, zeroline=False, showticklabels=False),\n",
    "            yaxis=dict(showgrid=False, zeroline=False, showticklabels=False)\n",
    "            ))\n",
    "    return fig\n",
    "\n",
    "def draw_3d_network(networkx_object):\n",
    "    '''take networkX object and draw it in 3D'''\n",
    "    Edges = list(networkx_object.edges)\n",
    "    L=len(Edges)\n",
    "    distance_list = [distance[2] for distance in list(networkx_object.edges.data(\"distance\"))]\n",
    "    weight_list = [int(float(weight[2])) for weight in list(networkx_object.edges.data(\"weight\"))]\n",
    "    labels= list(networkx_object.nodes)\n",
    "    N = len(labels)\n",
    "    adjc= [len(one_adjc) for one_adjc in list((nx.generate_adjlist(networkx_object)))] ### instead of \"group\"\n",
    "    pos_3d=nx.spring_layout(networkx_object, weight=\"weight\", dim=3)\n",
    "    nx.set_node_attributes(networkx_object, pos_3d, \"pos_3d\")\n",
    "    layt = [list(array) for array in pos_3d.values()]\n",
    "    N= len(networkx_object.nodes)\n",
    "    Xn=[layt[k][0] for k in range(N)]# x-coordinates of nodes\n",
    "    Yn=[layt[k][1] for k in range(N)]# y-coordinates\n",
    "    Zn=[layt[k][2] for k in range(N)]# z-coordinates\n",
    "    Xe=[]\n",
    "    Ye=[]\n",
    "    Ze=[]\n",
    "    for Edge in Edges:\n",
    "        Xe+=[networkx_object.nodes[Edge[0]][\"pos_3d\"][0],networkx_object.nodes[Edge[1]][\"pos_3d\"][0], None]# x-coordinates of edge ends\n",
    "        Ye+=[networkx_object.nodes[Edge[0]][\"pos_3d\"][1],networkx_object.nodes[Edge[1]][\"pos_3d\"][1], None]\n",
    "        Ze+=[networkx_object.nodes[Edge[0]][\"pos_3d\"][2],networkx_object.nodes[Edge[1]][\"pos_3d\"][2], None]\n",
    "\n",
    "        ### to get the hover into the middle of the line\n",
    "        ### we have to produce a node in the middle of the line\n",
    "        ### based on https://stackoverflow.com/questions/46037897/line-hover-text-in-plotly\n",
    "\n",
    "    middle_node_trace = go.Scatter3d(\n",
    "            x=[],\n",
    "            y=[],\n",
    "            z=[],\n",
    "            opacity=0,\n",
    "            text=weight_list,\n",
    "            mode='markers',\n",
    "            hoverinfo='text',\n",
    "            marker=dict(\n",
    "                opacity=0\n",
    "            )\n",
    "        )\n",
    "\n",
    "    for Edge in Edges:\n",
    "        x0,y0,z0 = networkx_object.nodes[Edge[0]][\"pos_3d\"]\n",
    "        x1,y1,z1 = networkx_object.nodes[Edge[1]][\"pos_3d\"]\n",
    "        ###trace3['x'] += [x0, x1, None]\n",
    "        ###trace3['y'] += [y0, y1, None]\n",
    "        ###trace3['z'] += [z0, z1, None]\n",
    "        ###trace3_list.append(trace3)\n",
    "        middle_node_trace['x'] += tuple([(x0+x1)/2])\n",
    "        middle_node_trace['y'] += tuple([(y0+y1)/2])#.append((y0+y1)/2)\n",
    "        middle_node_trace['z'] += tuple([(z0+z1)/2])#.append((z0+z1)/2)\n",
    "        \n",
    "    ### edge trace\n",
    "    trace1=go.Scatter3d(x=Xe,\n",
    "                       y=Ye,\n",
    "                       z=Ze,\n",
    "                       mode='lines',\n",
    "                       line=dict(color='rgb(125,125,125)', width=1),\n",
    "                       text=distance_list,\n",
    "                       hoverinfo='text',\n",
    "                       textposition=\"top right\"\n",
    "                       )\n",
    "    ### node trace\n",
    "    trace2=go.Scatter3d(x=Xn,\n",
    "                       y=Yn,\n",
    "                       z=Zn,\n",
    "                       mode='markers+text',\n",
    "                       ###name=labels,\n",
    "                       marker=dict(symbol='circle',\n",
    "                                     size=6,\n",
    "                                     color=adjc,\n",
    "                                     colorscale='Earth',\n",
    "                                     reversescale=True,\n",
    "                                     line=dict(color='rgb(50,50,50)', width=0.5)\n",
    "                                     ),\n",
    "                       text=[],\n",
    "                       #textposition='bottom center',\n",
    "                       #hovertext=adjc,\n",
    "                       #hoverinfo='text'\n",
    "                       )\n",
    "    for node in networkx_object.nodes():\n",
    "        trace2[\"text\"] += tuple([node])\n",
    "    \n",
    "    axis=dict(showbackground=False,\n",
    "                  showline=False,\n",
    "                  zeroline=False,\n",
    "                  showgrid=False,\n",
    "                  showticklabels=False,\n",
    "                  title=''\n",
    "                  )\n",
    "    layout = go.Layout(\n",
    "                plot_bgcolor='rgba(0,0,0,0)',\n",
    "                 title=\"\",\n",
    "                 width=900,\n",
    "                 height=700,\n",
    "                 showlegend=False,\n",
    "                 scene=dict(\n",
    "                     xaxis=dict(axis),\n",
    "                     yaxis=dict(axis),\n",
    "                     zaxis=dict(axis),\n",
    "                ),\n",
    "             margin=dict(\n",
    "                t=100\n",
    "            ),\n",
    "            hovermode='closest',\n",
    "            annotations=[\n",
    "                   dict(\n",
    "                   showarrow=False,\n",
    "                    text=\"\",\n",
    "                    xref='paper',\n",
    "                    yref='paper',\n",
    "                    x=0,\n",
    "                    y=0.1,\n",
    "                    xanchor='left',\n",
    "                    yanchor='bottom',\n",
    "                    font=dict(\n",
    "                    size=14\n",
    "                    )\n",
    "                    )\n",
    "                ],    )\n",
    "    data=[trace1, trace2, middle_node_trace]\n",
    "    fig=go.Figure(data=data, layout=layout)\n",
    "    return fig"
   ]
  },
  {
   "cell_type": "code",
   "execution_count": 190,
   "metadata": {},
   "outputs": [
    {
     "data": {
      "text/plain": [
       "EdgeDataView([('Χριστός', 'Ἰησοῦς', {'weight': 85, 'norm_weight': 0.00777, 'distance': 0.01176, 'norm_distance': 128.70013}), ('Χριστός', 'θεός', {'weight': 12, 'norm_weight': 0.0011, 'distance': 0.08333, 'norm_distance': 909.09091}), ('Χριστός', 'εἰμί', {'weight': 10, 'norm_weight': 0.00091, 'distance': 0.1, 'norm_distance': 1098.9011}), ('Χριστός', 'κύριος', {'weight': 5, 'norm_weight': 0.00046, 'distance': 0.2, 'norm_distance': 2173.91304}), ('Χριστός', 'δίδωμι', {'weight': 5, 'norm_weight': 0.00046, 'distance': 0.2, 'norm_distance': 2173.91304}), ('Χριστός', 'πνεῦμα', {'weight': 5, 'norm_weight': 0.00046, 'distance': 0.2, 'norm_distance': 2173.91304}), ('Χριστός', 'ἔχω', {'weight': 5, 'norm_weight': 0.00046, 'distance': 0.2, 'norm_distance': 2173.91304}), ('Χριστός', 'πίστις', {'weight': 5, 'norm_weight': 0.00046, 'distance': 0.2, 'norm_distance': 2173.91304}), ('Χριστός', 'πᾶς', {'weight': 4, 'norm_weight': 0.00037, 'distance': 0.25, 'norm_distance': 2702.7027}), ('Χριστός', 'δόξα', {'weight': 3, 'norm_weight': 0.00027, 'distance': 0.33333, 'norm_distance': 3703.7037}), ('Χριστός', 'νόμος', {'weight': 2, 'norm_weight': 0.00018, 'distance': 0.5, 'norm_distance': 5555.55556}), ('Χριστός', 'δικαιοσύνη', {'weight': 2, 'norm_weight': 0.00018, 'distance': 0.5, 'norm_distance': 5555.55556}), ('Χριστός', 'πατήρ', {'weight': 2, 'norm_weight': 0.00018, 'distance': 0.5, 'norm_distance': 5555.55556}), ('Χριστός', 'γιγνώσκω', {'weight': 2, 'norm_weight': 0.00018, 'distance': 0.5, 'norm_distance': 5555.55556}), ('Χριστός', 'χάρις', {'weight': 2, 'norm_weight': 0.00018, 'distance': 0.5, 'norm_distance': 5555.55556}), ('Χριστός', 'ἅγιος', {'weight': 2, 'norm_weight': 0.00018, 'distance': 0.5, 'norm_distance': 5555.55556}), ('Ἰησοῦς', 'κύριος', {'weight': 47, 'norm_weight': 0.0043, 'distance': 0.02128, 'norm_distance': 232.55814}), ('Ἰησοῦς', 'θεός', {'weight': 5, 'norm_weight': 0.00046, 'distance': 0.2, 'norm_distance': 2173.91304}), ('Ἰησοῦς', 'πᾶς', {'weight': 3, 'norm_weight': 0.00027, 'distance': 0.33333, 'norm_distance': 3703.7037}), ('Ἰησοῦς', 'πίστις', {'weight': 2, 'norm_weight': 0.00018, 'distance': 0.5, 'norm_distance': 5555.55556}), ('Ἰησοῦς', 'οἶδα', {'weight': 2, 'norm_weight': 0.00018, 'distance': 0.5, 'norm_distance': 5555.55556}), ('Ἰησοῦς', 'πνεῦμα', {'weight': 2, 'norm_weight': 0.00018, 'distance': 0.5, 'norm_distance': 5555.55556}), ('κύριος', 'πατήρ', {'weight': 11, 'norm_weight': 0.00101, 'distance': 0.09091, 'norm_distance': 990.09901}), ('κύριος', 'εἰμί', {'weight': 8, 'norm_weight': 0.00073, 'distance': 0.125, 'norm_distance': 1369.86301}), ('κύριος', 'χάρις', {'weight': 8, 'norm_weight': 0.00073, 'distance': 0.125, 'norm_distance': 1369.86301}), ('κύριος', 'πᾶς', {'weight': 5, 'norm_weight': 0.00046, 'distance': 0.2, 'norm_distance': 2173.91304}), ('κύριος', 'θεός', {'weight': 4, 'norm_weight': 0.00037, 'distance': 0.25, 'norm_distance': 2702.7027}), ('κύριος', 'δίδωμι', {'weight': 4, 'norm_weight': 0.00037, 'distance': 0.25, 'norm_distance': 2702.7027}), ('κύριος', 'εὐχαριστέω', {'weight': 3, 'norm_weight': 0.00027, 'distance': 0.33333, 'norm_distance': 3703.7037}), ('κύριος', 'δόξα', {'weight': 3, 'norm_weight': 0.00027, 'distance': 0.33333, 'norm_distance': 3703.7037}), ('κύριος', 'ἔχω', {'weight': 3, 'norm_weight': 0.00027, 'distance': 0.33333, 'norm_distance': 3703.7037}), ('κύριος', 'ἔργον', {'weight': 3, 'norm_weight': 0.00027, 'distance': 0.33333, 'norm_distance': 3703.7037}), ('κύριος', 'πνεῦμα', {'weight': 3, 'norm_weight': 0.00027, 'distance': 0.33333, 'norm_distance': 3703.7037}), ('κύριος', 'γιγνώσκω', {'weight': 2, 'norm_weight': 0.00018, 'distance': 0.5, 'norm_distance': 5555.55556}), ('κύριος', 'οἶδα', {'weight': 2, 'norm_weight': 0.00018, 'distance': 0.5, 'norm_distance': 5555.55556}), ('θεός', 'χάρις', {'weight': 20, 'norm_weight': 0.00183, 'distance': 0.05, 'norm_distance': 546.44809}), ('θεός', 'πατήρ', {'weight': 19, 'norm_weight': 0.00174, 'distance': 0.05263, 'norm_distance': 574.71264}), ('θεός', 'εἰμί', {'weight': 17, 'norm_weight': 0.00155, 'distance': 0.05882, 'norm_distance': 645.16129}), ('θεός', 'πνεῦμα', {'weight': 15, 'norm_weight': 0.00137, 'distance': 0.06667, 'norm_distance': 729.92701}), ('θεός', 'εἰρήνη', {'weight': 13, 'norm_weight': 0.00119, 'distance': 0.07692, 'norm_distance': 840.33613}), ('θεός', 'πᾶς', {'weight': 11, 'norm_weight': 0.00101, 'distance': 0.09091, 'norm_distance': 990.09901}), ('θεός', 'δικαιοσύνη', {'weight': 10, 'norm_weight': 0.00091, 'distance': 0.1, 'norm_distance': 1098.9011}), ('θεός', 'οἶδα', {'weight': 10, 'norm_weight': 0.00091, 'distance': 0.1, 'norm_distance': 1098.9011}), ('θεός', 'υἱός', {'weight': 9, 'norm_weight': 0.00082, 'distance': 0.11111, 'norm_distance': 1219.5122}), ('θεός', 'δύναμις', {'weight': 9, 'norm_weight': 0.00082, 'distance': 0.11111, 'norm_distance': 1219.5122}), ('θεός', 'θέλημα', {'weight': 9, 'norm_weight': 0.00082, 'distance': 0.11111, 'norm_distance': 1219.5122}), ('θεός', 'ἔχω', {'weight': 9, 'norm_weight': 0.00082, 'distance': 0.11111, 'norm_distance': 1219.5122}), ('θεός', 'δίδωμι', {'weight': 9, 'norm_weight': 0.00082, 'distance': 0.11111, 'norm_distance': 1219.5122}), ('θεός', 'εὐχαριστέω', {'weight': 8, 'norm_weight': 0.00073, 'distance': 0.125, 'norm_distance': 1369.86301}), ('θεός', 'νόμος', {'weight': 8, 'norm_weight': 0.00073, 'distance': 0.125, 'norm_distance': 1369.86301}), ('θεός', 'δόξα', {'weight': 8, 'norm_weight': 0.00073, 'distance': 0.125, 'norm_distance': 1369.86301}), ('θεός', 'ἐκκλησία', {'weight': 8, 'norm_weight': 0.00073, 'distance': 0.125, 'norm_distance': 1369.86301}), ('θεός', 'γιγνώσκω', {'weight': 7, 'norm_weight': 0.00064, 'distance': 0.14286, 'norm_distance': 1562.5}), ('θεός', 'βασιλεία', {'weight': 7, 'norm_weight': 0.00064, 'distance': 0.14286, 'norm_distance': 1562.5}), ('θεός', 'σοφία', {'weight': 7, 'norm_weight': 0.00064, 'distance': 0.14286, 'norm_distance': 1562.5}), ('θεός', 'εὐαγγέλιον', {'weight': 6, 'norm_weight': 0.00055, 'distance': 0.16667, 'norm_distance': 1818.18182}), ('θεός', 'δοξάζω', {'weight': 6, 'norm_weight': 0.00055, 'distance': 0.16667, 'norm_distance': 1818.18182}), ('θεός', 'πίστις', {'weight': 5, 'norm_weight': 0.00046, 'distance': 0.2, 'norm_distance': 2173.91304}), ('θεός', 'λογίζομαι', {'weight': 3, 'norm_weight': 0.00027, 'distance': 0.33333, 'norm_distance': 3703.7037}), ('θεός', 'ἅγιος', {'weight': 2, 'norm_weight': 0.00018, 'distance': 0.5, 'norm_distance': 5555.55556}), ('χάρις', 'εἰρήνη', {'weight': 7, 'norm_weight': 0.00064, 'distance': 0.14286, 'norm_distance': 1562.5}), ('χάρις', 'δίδωμι', {'weight': 5, 'norm_weight': 0.00046, 'distance': 0.2, 'norm_distance': 2173.91304}), ('χάρις', 'πᾶς', {'weight': 3, 'norm_weight': 0.00027, 'distance': 0.33333, 'norm_distance': 3703.7037}), ('χάρις', 'πίστις', {'weight': 2, 'norm_weight': 0.00018, 'distance': 0.5, 'norm_distance': 5555.55556}), ('χάρις', 'νόμος', {'weight': 2, 'norm_weight': 0.00018, 'distance': 0.5, 'norm_distance': 5555.55556}), ('χάρις', 'ἔργον', {'weight': 2, 'norm_weight': 0.00018, 'distance': 0.5, 'norm_distance': 5555.55556}), ('χάρις', 'εἰμί', {'weight': 2, 'norm_weight': 0.00018, 'distance': 0.5, 'norm_distance': 5555.55556}), ('χάρις', 'γιγνώσκω', {'weight': 2, 'norm_weight': 0.00018, 'distance': 0.5, 'norm_distance': 5555.55556}), ('πατήρ', 'δόξα', {'weight': 3, 'norm_weight': 0.00027, 'distance': 0.33333, 'norm_distance': 3703.7037}), ('πατήρ', 'πᾶς', {'weight': 2, 'norm_weight': 0.00018, 'distance': 0.5, 'norm_distance': 5555.55556}), ('εἰμί', 'νόμος', {'weight': 12, 'norm_weight': 0.0011, 'distance': 0.08333, 'norm_distance': 909.09091}), ('εἰμί', 'πᾶς', {'weight': 9, 'norm_weight': 0.00082, 'distance': 0.11111, 'norm_distance': 1219.5122}), ('εἰμί', 'πνεῦμα', {'weight': 7, 'norm_weight': 0.00064, 'distance': 0.14286, 'norm_distance': 1562.5}), ('εἰμί', 'ἁμαρτία', {'weight': 5, 'norm_weight': 0.00046, 'distance': 0.2, 'norm_distance': 2173.91304}), ('εἰμί', 'ἔχω', {'weight': 4, 'norm_weight': 0.00037, 'distance': 0.25, 'norm_distance': 2702.7027}), ('εἰμί', 'υἱός', {'weight': 4, 'norm_weight': 0.00037, 'distance': 0.25, 'norm_distance': 2702.7027}), ('εἰμί', 'ἅγιος', {'weight': 4, 'norm_weight': 0.00037, 'distance': 0.25, 'norm_distance': 2702.7027}), ('εἰμί', 'οἶδα', {'weight': 2, 'norm_weight': 0.00018, 'distance': 0.5, 'norm_distance': 5555.55556}), ('εἰμί', 'εἰρήνη', {'weight': 2, 'norm_weight': 0.00018, 'distance': 0.5, 'norm_distance': 5555.55556}), ('πνεῦμα', 'ἅγιος', {'weight': 11, 'norm_weight': 0.00101, 'distance': 0.09091, 'norm_distance': 990.09901}), ('πνεῦμα', 'δύναμις', {'weight': 6, 'norm_weight': 0.00055, 'distance': 0.16667, 'norm_distance': 1818.18182}), ('πνεῦμα', 'πᾶς', {'weight': 4, 'norm_weight': 0.00037, 'distance': 0.25, 'norm_distance': 2702.7027}), ('πνεῦμα', 'νόμος', {'weight': 2, 'norm_weight': 0.00018, 'distance': 0.5, 'norm_distance': 5555.55556}), ('πνεῦμα', 'ἔχω', {'weight': 2, 'norm_weight': 0.00018, 'distance': 0.5, 'norm_distance': 5555.55556}), ('πνεῦμα', 'δίδωμι', {'weight': 2, 'norm_weight': 0.00018, 'distance': 0.5, 'norm_distance': 5555.55556}), ('πνεῦμα', 'πίστις', {'weight': 2, 'norm_weight': 0.00018, 'distance': 0.5, 'norm_distance': 5555.55556}), ('νόμος', 'ἔργον', {'weight': 11, 'norm_weight': 0.00101, 'distance': 0.09091, 'norm_distance': 990.09901}), ('νόμος', 'ἁμαρτία', {'weight': 9, 'norm_weight': 0.00082, 'distance': 0.11111, 'norm_distance': 1219.5122}), ('νόμος', 'δικαιοσύνη', {'weight': 7, 'norm_weight': 0.00064, 'distance': 0.14286, 'norm_distance': 1562.5}), ('νόμος', 'πίστις', {'weight': 7, 'norm_weight': 0.00064, 'distance': 0.14286, 'norm_distance': 1562.5}), ('νόμος', 'οἶδα', {'weight': 3, 'norm_weight': 0.00027, 'distance': 0.33333, 'norm_distance': 3703.7037}), ('νόμος', 'ἔχω', {'weight': 2, 'norm_weight': 0.00018, 'distance': 0.5, 'norm_distance': 5555.55556}), ('ἔργον', 'πίστις', {'weight': 2, 'norm_weight': 0.00018, 'distance': 0.5, 'norm_distance': 5555.55556}), ('ἔργον', 'δύναμις', {'weight': 2, 'norm_weight': 0.00018, 'distance': 0.5, 'norm_distance': 5555.55556}), ('πᾶς', 'ἅγιος', {'weight': 6, 'norm_weight': 0.00055, 'distance': 0.16667, 'norm_distance': 1818.18182}), ('πᾶς', 'πίστις', {'weight': 5, 'norm_weight': 0.00046, 'distance': 0.2, 'norm_distance': 2173.91304}), ('πᾶς', 'ἔχω', {'weight': 5, 'norm_weight': 0.00046, 'distance': 0.2, 'norm_distance': 2173.91304}), ('πᾶς', 'ἁμαρτία', {'weight': 3, 'norm_weight': 0.00027, 'distance': 0.33333, 'norm_distance': 3703.7037}), ('πᾶς', 'ἐκκλησία', {'weight': 3, 'norm_weight': 0.00027, 'distance': 0.33333, 'norm_distance': 3703.7037}), ('πᾶς', 'υἱός', {'weight': 3, 'norm_weight': 0.00027, 'distance': 0.33333, 'norm_distance': 3703.7037}), ('πᾶς', 'δικαιοσύνη', {'weight': 2, 'norm_weight': 0.00018, 'distance': 0.5, 'norm_distance': 5555.55556}), ('πᾶς', 'δόξα', {'weight': 2, 'norm_weight': 0.00018, 'distance': 0.5, 'norm_distance': 5555.55556}), ('πᾶς', 'δύναμις', {'weight': 2, 'norm_weight': 0.00018, 'distance': 0.5, 'norm_distance': 5555.55556}), ('ἅγιος', 'οἶδα', {'weight': 3, 'norm_weight': 0.00027, 'distance': 0.33333, 'norm_distance': 3703.7037}), ('δικαιοσύνη', 'λογίζομαι', {'weight': 6, 'norm_weight': 0.00055, 'distance': 0.16667, 'norm_distance': 1818.18182}), ('δικαιοσύνη', 'πίστις', {'weight': 6, 'norm_weight': 0.00055, 'distance': 0.16667, 'norm_distance': 1818.18182}), ('δύναμις', 'ἁμαρτία', {'weight': 2, 'norm_weight': 0.00018, 'distance': 0.5, 'norm_distance': 5555.55556}), ('ἔχω', 'πίστις', {'weight': 3, 'norm_weight': 0.00027, 'distance': 0.33333, 'norm_distance': 3703.7037}), ('ἔχω', 'γιγνώσκω', {'weight': 2, 'norm_weight': 0.00018, 'distance': 0.5, 'norm_distance': 5555.55556}), ('ἁμαρτία', 'γιγνώσκω', {'weight': 2, 'norm_weight': 0.00018, 'distance': 0.5, 'norm_distance': 5555.55556}), ('δίδωμι', 'γιγνώσκω', {'weight': 2, 'norm_weight': 0.00018, 'distance': 0.5, 'norm_distance': 5555.55556}), ('γιγνώσκω', 'πίστις', {'weight': 3, 'norm_weight': 0.00027, 'distance': 0.33333, 'norm_distance': 3703.7037}), ('πίστις', 'λογίζομαι', {'weight': 2, 'norm_weight': 0.00018, 'distance': 0.5, 'norm_distance': 5555.55556})])"
      ]
     },
     "execution_count": 190,
     "metadata": {},
     "output_type": "execute_result"
    }
   ],
   "source": [
    "ego_network = construct_ego_network(network_bigrams, \"δικαιοσύνη\", 30, reduced=False)\n",
    "ego_network.edges.data()"
   ]
  },
  {
   "cell_type": "code",
   "execution_count": 191,
   "metadata": {},
   "outputs": [
    {
     "data": {
      "application/vnd.plotly.v1+json": {
       "config": {
        "plotlyServerURL": "https://plot.ly"
       },
       "data": [
        {
         "line": {
          "color": "#000000",
          "width": 1
         },
         "mode": "lines",
         "type": "scatter",
         "x": [
          -0.08635799666843996,
          0.44890292163381645,
          null,
          0.44890292163381645,
          -0.36501379964580555,
          null,
          0.14183424990040908,
          -0.44583199411214164,
          null,
          0.14183424990040908,
          0.04198184321008231,
          null,
          0.14183424990040908,
          -0.17487277851032898,
          null,
          0.14183424990040908,
          -0.008593016828118473,
          null
         ],
         "y": [
          0.015231138133274943,
          -0.012449422235034898,
          null,
          -0.012449422235034898,
          -0.09556662690582642,
          null,
          -0.12168022482557717,
          0.4554465163824368,
          null,
          -0.12168022482557717,
          -0.6372831996220761,
          null,
          -0.12168022482557717,
          0.39346805452759226,
          null,
          -0.12168022482557717,
          0.21714927840252637,
          null
         ]
        },
        {
         "line": {
          "color": "#404040",
          "width": 0.7
         },
         "mode": "lines",
         "type": "scatter",
         "x": [
          -0.08635799666843996,
          0.14183424990040908,
          null,
          -0.08635799666843996,
          -0.17487277851032898,
          null,
          -0.36501379964580555,
          0.04198184321008231,
          null,
          0.14183424990040908,
          0.16119101423718565,
          null,
          0.14183424990040908,
          -0.16450018147102755,
          null,
          0.14183424990040908,
          0.4435226051565552,
          null,
          0.14183424990040908,
          0.35866551078016623,
          null,
          0.14183424990040908,
          -0.5803227048142054,
          null,
          0.14183424990040908,
          -0.8011156664580105,
          null,
          0.14183424990040908,
          0.463282293617387,
          null,
          0.14183424990040908,
          -0.5206807015336896,
          null,
          0.14183424990040908,
          -0.6467445128750117,
          null,
          -0.17487277851032898,
          -0.19838468906154813,
          null,
          -0.17487277851032898,
          -0.16450018147102755,
          null,
          -0.008593016828118473,
          0.5653154565531238,
          null,
          -0.19838468906154813,
          -0.755722072877702,
          null,
          -0.19838468906154813,
          -0.96576745410812,
          null
         ],
         "y": [
          0.015231138133274943,
          -0.12168022482557717,
          null,
          0.015231138133274943,
          0.39346805452759226,
          null,
          -0.09556662690582642,
          -0.6372831996220761,
          null,
          -0.12168022482557717,
          0.8834496173673415,
          null,
          -0.12168022482557717,
          -0.18718448931736964,
          null,
          -0.12168022482557717,
          0.4407401794974459,
          null,
          -0.12168022482557717,
          0.613133097615625,
          null,
          -0.12168022482557717,
          -0.5739762111378856,
          null,
          -0.12168022482557717,
          -0.04638973923650495,
          null,
          -0.12168022482557717,
          -0.8798703545571802,
          null,
          -0.12168022482557717,
          0.3323097413249026,
          null,
          -0.12168022482557717,
          -0.31384277100735525,
          null,
          0.39346805452759226,
          0.7624695861737458,
          null,
          0.39346805452759226,
          -0.18718448931736964,
          null,
          0.21714927840252637,
          0.1635646459123972,
          null,
          0.7624695861737458,
          0.7963311720828488,
          null,
          0.7624695861737458,
          0.4676023301644537,
          null
         ]
        },
        {
         "line": {
          "color": "#C0C0C0",
          "width": 0.5
         },
         "mode": "lines",
         "type": "scatter",
         "x": [
          -0.08635799666843996,
          -0.36501379964580555,
          null,
          -0.08635799666843996,
          -0.6467445128750117,
          null,
          -0.08635799666843996,
          -0.008593016828118473,
          null,
          -0.08635799666843996,
          -0.5206807015336896,
          null,
          -0.08635799666843996,
          0.027087853454380438,
          null,
          -0.08635799666843996,
          -0.16450018147102755,
          null,
          -0.08635799666843996,
          -0.36321706713337343,
          null,
          -0.08635799666843996,
          -0.19838468906154813,
          null,
          -0.08635799666843996,
          0.4435226051565552,
          null,
          -0.08635799666843996,
          0.04198184321008231,
          null,
          -0.08635799666843996,
          -0.720168385090155,
          null,
          -0.08635799666843996,
          -0.44583199411214164,
          null,
          -0.08635799666843996,
          0.5653154565531238,
          null,
          0.44890292163381645,
          0.14183424990040908,
          null,
          0.44890292163381645,
          -0.16450018147102755,
          null,
          0.44890292163381645,
          0.027087853454380438,
          null,
          0.44890292163381645,
          0.35866551078016623,
          null,
          0.44890292163381645,
          -0.008593016828118473,
          null,
          -0.36501379964580555,
          -0.17487277851032898,
          null,
          -0.36501379964580555,
          -0.44583199411214164,
          null,
          -0.36501379964580555,
          -0.16450018147102755,
          null,
          -0.36501379964580555,
          0.14183424990040908,
          null,
          -0.36501379964580555,
          -0.6467445128750117,
          null,
          -0.36501379964580555,
          -0.22797746291892154,
          null,
          -0.36501379964580555,
          -0.36321706713337343,
          null,
          -0.36501379964580555,
          -0.5206807015336896,
          null,
          -0.36501379964580555,
          -0.755722072877702,
          null,
          -0.36501379964580555,
          -0.008593016828118473,
          null,
          -0.36501379964580555,
          -0.720168385090155,
          null,
          -0.36501379964580555,
          0.35866551078016623,
          null,
          0.14183424990040908,
          -0.22797746291892154,
          null,
          0.14183424990040908,
          -0.19838468906154813,
          null,
          0.14183424990040908,
          -0.36321706713337343,
          null,
          0.14183424990040908,
          0.1307424315956104,
          null,
          0.14183424990040908,
          -0.720168385090155,
          null,
          0.14183424990040908,
          0.668798846406093,
          null,
          0.14183424990040908,
          0.8329159245380504,
          null,
          0.14183424990040908,
          0.9511504478610685,
          null,
          0.14183424990040908,
          1,
          null,
          0.14183424990040908,
          0.027087853454380438,
          null,
          0.14183424990040908,
          0.7898790851626709,
          null,
          0.14183424990040908,
          0.5653154565531238,
          null,
          -0.44583199411214164,
          0.16119101423718565,
          null,
          -0.44583199411214164,
          -0.6467445128750117,
          null,
          -0.44583199411214164,
          -0.16450018147102755,
          null,
          -0.44583199411214164,
          0.027087853454380438,
          null,
          -0.44583199411214164,
          -0.19838468906154813,
          null,
          -0.44583199411214164,
          -0.755722072877702,
          null,
          -0.44583199411214164,
          -0.17487277851032898,
          null,
          -0.44583199411214164,
          -0.720168385090155,
          null,
          0.04198184321008231,
          -0.36321706713337343,
          null,
          0.04198184321008231,
          -0.16450018147102755,
          null,
          -0.17487277851032898,
          -0.008593016828118473,
          null,
          -0.17487277851032898,
          -0.96576745410812,
          null,
          -0.17487277851032898,
          -0.5206807015336896,
          null,
          -0.17487277851032898,
          -0.5803227048142054,
          null,
          -0.17487277851032898,
          0.5653154565531238,
          null,
          -0.17487277851032898,
          0.35866551078016623,
          null,
          -0.17487277851032898,
          0.16119101423718565,
          null,
          -0.008593016828118473,
          -0.8011156664580105,
          null,
          -0.008593016828118473,
          -0.16450018147102755,
          null,
          -0.008593016828118473,
          -0.19838468906154813,
          null,
          -0.008593016828118473,
          -0.5206807015336896,
          null,
          -0.008593016828118473,
          -0.6467445128750117,
          null,
          -0.008593016828118473,
          0.027087853454380438,
          null,
          -0.19838468906154813,
          0.4435226051565552,
          null,
          -0.19838468906154813,
          0.027087853454380438,
          null,
          -0.19838468906154813,
          0.35866551078016623,
          null,
          -0.19838468906154813,
          -0.5206807015336896,
          null,
          -0.755722072877702,
          0.027087853454380438,
          null,
          -0.755722072877702,
          -0.8011156664580105,
          null,
          -0.16450018147102755,
          0.5653154565531238,
          null,
          -0.16450018147102755,
          0.027087853454380438,
          null,
          -0.16450018147102755,
          -0.5206807015336896,
          null,
          -0.16450018147102755,
          -0.96576745410812,
          null,
          -0.16450018147102755,
          0.1307424315956104,
          null,
          -0.16450018147102755,
          -0.5803227048142054,
          null,
          -0.16450018147102755,
          0.4435226051565552,
          null,
          -0.16450018147102755,
          -0.36321706713337343,
          null,
          -0.16450018147102755,
          -0.8011156664580105,
          null,
          0.5653154565531238,
          0.35866551078016623,
          null,
          0.4435226051565552,
          0.7898790851626709,
          null,
          0.4435226051565552,
          0.027087853454380438,
          null,
          -0.8011156664580105,
          -0.96576745410812,
          null,
          -0.5206807015336896,
          0.027087853454380438,
          null,
          -0.5206807015336896,
          -0.720168385090155,
          null,
          -0.96576745410812,
          -0.720168385090155,
          null,
          -0.6467445128750117,
          -0.720168385090155,
          null,
          -0.720168385090155,
          0.027087853454380438,
          null,
          0.027087853454380438,
          0.7898790851626709,
          null
         ],
         "y": [
          0.015231138133274943,
          -0.09556662690582642,
          null,
          0.015231138133274943,
          -0.31384277100735525,
          null,
          0.015231138133274943,
          0.21714927840252637,
          null,
          0.015231138133274943,
          0.3323097413249026,
          null,
          0.015231138133274943,
          0.5453307232441276,
          null,
          0.015231138133274943,
          -0.18718448931736964,
          null,
          0.015231138133274943,
          -0.6729915021979753,
          null,
          0.015231138133274943,
          0.7624695861737458,
          null,
          0.015231138133274943,
          0.4407401794974459,
          null,
          0.015231138133274943,
          -0.6372831996220761,
          null,
          0.015231138133274943,
          0.0911126365486527,
          null,
          0.015231138133274943,
          0.4554465163824368,
          null,
          0.015231138133274943,
          0.1635646459123972,
          null,
          -0.012449422235034898,
          -0.12168022482557717,
          null,
          -0.012449422235034898,
          -0.18718448931736964,
          null,
          -0.012449422235034898,
          0.5453307232441276,
          null,
          -0.012449422235034898,
          0.613133097615625,
          null,
          -0.012449422235034898,
          0.21714927840252637,
          null,
          -0.09556662690582642,
          0.39346805452759226,
          null,
          -0.09556662690582642,
          0.4554465163824368,
          null,
          -0.09556662690582642,
          -0.18718448931736964,
          null,
          -0.09556662690582642,
          -0.12168022482557717,
          null,
          -0.09556662690582642,
          -0.31384277100735525,
          null,
          -0.09556662690582642,
          -0.8830177589635928,
          null,
          -0.09556662690582642,
          -0.6729915021979753,
          null,
          -0.09556662690582642,
          0.3323097413249026,
          null,
          -0.09556662690582642,
          0.7963311720828488,
          null,
          -0.09556662690582642,
          0.21714927840252637,
          null,
          -0.09556662690582642,
          0.0911126365486527,
          null,
          -0.09556662690582642,
          0.613133097615625,
          null,
          -0.12168022482557717,
          -0.8830177589635928,
          null,
          -0.12168022482557717,
          0.7624695861737458,
          null,
          -0.12168022482557717,
          -0.6729915021979753,
          null,
          -0.12168022482557717,
          -0.8849797108919147,
          null,
          -0.12168022482557717,
          0.0911126365486527,
          null,
          -0.12168022482557717,
          -0.7032973506741914,
          null,
          -0.12168022482557717,
          -0.5036398455939298,
          null,
          -0.12168022482557717,
          -0.2556549483481211,
          null,
          -0.12168022482557717,
          0.06002707178846121,
          null,
          -0.12168022482557717,
          0.5453307232441276,
          null,
          -0.12168022482557717,
          0.5344583663487034,
          null,
          -0.12168022482557717,
          0.1635646459123972,
          null,
          0.4554465163824368,
          0.8834496173673415,
          null,
          0.4554465163824368,
          -0.31384277100735525,
          null,
          0.4554465163824368,
          -0.18718448931736964,
          null,
          0.4554465163824368,
          0.5453307232441276,
          null,
          0.4554465163824368,
          0.7624695861737458,
          null,
          0.4554465163824368,
          0.7963311720828488,
          null,
          0.4554465163824368,
          0.39346805452759226,
          null,
          0.4554465163824368,
          0.0911126365486527,
          null,
          -0.6372831996220761,
          -0.6729915021979753,
          null,
          -0.6372831996220761,
          -0.18718448931736964,
          null,
          0.39346805452759226,
          0.21714927840252637,
          null,
          0.39346805452759226,
          0.4676023301644537,
          null,
          0.39346805452759226,
          0.3323097413249026,
          null,
          0.39346805452759226,
          -0.5739762111378856,
          null,
          0.39346805452759226,
          0.1635646459123972,
          null,
          0.39346805452759226,
          0.613133097615625,
          null,
          0.39346805452759226,
          0.8834496173673415,
          null,
          0.21714927840252637,
          -0.04638973923650495,
          null,
          0.21714927840252637,
          -0.18718448931736964,
          null,
          0.21714927840252637,
          0.7624695861737458,
          null,
          0.21714927840252637,
          0.3323097413249026,
          null,
          0.21714927840252637,
          -0.31384277100735525,
          null,
          0.21714927840252637,
          0.5453307232441276,
          null,
          0.7624695861737458,
          0.4407401794974459,
          null,
          0.7624695861737458,
          0.5453307232441276,
          null,
          0.7624695861737458,
          0.613133097615625,
          null,
          0.7624695861737458,
          0.3323097413249026,
          null,
          0.7963311720828488,
          0.5453307232441276,
          null,
          0.7963311720828488,
          -0.04638973923650495,
          null,
          -0.18718448931736964,
          0.1635646459123972,
          null,
          -0.18718448931736964,
          0.5453307232441276,
          null,
          -0.18718448931736964,
          0.3323097413249026,
          null,
          -0.18718448931736964,
          0.4676023301644537,
          null,
          -0.18718448931736964,
          -0.8849797108919147,
          null,
          -0.18718448931736964,
          -0.5739762111378856,
          null,
          -0.18718448931736964,
          0.4407401794974459,
          null,
          -0.18718448931736964,
          -0.6729915021979753,
          null,
          -0.18718448931736964,
          -0.04638973923650495,
          null,
          0.1635646459123972,
          0.613133097615625,
          null,
          0.4407401794974459,
          0.5344583663487034,
          null,
          0.4407401794974459,
          0.5453307232441276,
          null,
          -0.04638973923650495,
          0.4676023301644537,
          null,
          0.3323097413249026,
          0.5453307232441276,
          null,
          0.3323097413249026,
          0.0911126365486527,
          null,
          0.4676023301644537,
          0.0911126365486527,
          null,
          -0.31384277100735525,
          0.0911126365486527,
          null,
          0.0911126365486527,
          0.5453307232441276,
          null,
          0.5453307232441276,
          0.5344583663487034,
          null
         ]
        },
        {
         "hoverinfo": "text",
         "hovertext": [
          "109",
          "41",
          "86",
          "182",
          "56",
          "14",
          "56",
          "48",
          "6",
          "46",
          "20",
          "66",
          "10",
          "27",
          "4",
          "4",
          "15",
          "6",
          "19",
          "16",
          "15",
          "10",
          "4",
          "8",
          "15",
          "16",
          "8",
          "5",
          "10",
          "6",
          "9"
         ],
         "marker": {
          "color": [
           109,
           41,
           86,
           182,
           56,
           14,
           56,
           48,
           6,
           46,
           20,
           66,
           10,
           27,
           4,
           4,
           15,
           6,
           19,
           16,
           15,
           10,
           4,
           8,
           15,
           16,
           8,
           5,
           10,
           6,
           9
          ],
          "colorbar": {
           "thickness": 15,
           "title": {
            "side": "right",
            "text": "degree"
           },
           "xanchor": "left"
          },
          "colorscale": [
           [
            0,
            "rgb(255,255,255)"
           ],
           [
            0.125,
            "rgb(240,240,240)"
           ],
           [
            0.25,
            "rgb(217,217,217)"
           ],
           [
            0.375,
            "rgb(189,189,189)"
           ],
           [
            0.5,
            "rgb(150,150,150)"
           ],
           [
            0.625,
            "rgb(115,115,115)"
           ],
           [
            0.75,
            "rgb(82,82,82)"
           ],
           [
            0.875,
            "rgb(37,37,37)"
           ],
           [
            1,
            "rgb(0,0,0)"
           ]
          ],
          "line": {
           "width": 1
          },
          "reversescale": true,
          "showscale": false,
          "size": 7
         },
         "mode": "markers+text",
         "text": [
          "Χριστός",
          "Ἰησοῦς",
          "κύριος",
          "θεός",
          "χάρις",
          "πατήρ",
          "εἰμί",
          "πνεῦμα",
          "εἰρήνη",
          "νόμος",
          "ἔργον",
          "πᾶς",
          "ἅγιος",
          "δικαιοσύνη",
          "οἶδα",
          "υἱός",
          "δύναμις",
          "θέλημα",
          "ἔχω",
          "ἁμαρτία",
          "δίδωμι",
          "εὐχαριστέω",
          "δόξα",
          "ἐκκλησία",
          "γιγνώσκω",
          "πίστις",
          "βασιλεία",
          "σοφία",
          "εὐαγγέλιον",
          "δοξάζω",
          "λογίζομαι"
         ],
         "textposition": "bottom center",
         "type": "scatter",
         "x": [
          -0.08635799666843996,
          0.44890292163381645,
          -0.36501379964580555,
          0.14183424990040908,
          -0.44583199411214164,
          0.04198184321008231,
          -0.17487277851032898,
          -0.008593016828118473,
          0.16119101423718565,
          -0.19838468906154813,
          -0.755722072877702,
          -0.16450018147102755,
          0.5653154565531238,
          0.4435226051565552,
          0.35866551078016623,
          -0.5803227048142054,
          -0.8011156664580105,
          0.463282293617387,
          -0.5206807015336896,
          -0.96576745410812,
          -0.6467445128750117,
          -0.22797746291892154,
          -0.36321706713337343,
          0.1307424315956104,
          -0.720168385090155,
          0.027087853454380438,
          0.668798846406093,
          0.8329159245380504,
          0.9511504478610685,
          1,
          0.7898790851626709
         ],
         "y": [
          0.015231138133274943,
          -0.012449422235034898,
          -0.09556662690582642,
          -0.12168022482557717,
          0.4554465163824368,
          -0.6372831996220761,
          0.39346805452759226,
          0.21714927840252637,
          0.8834496173673415,
          0.7624695861737458,
          0.7963311720828488,
          -0.18718448931736964,
          0.1635646459123972,
          0.4407401794974459,
          0.613133097615625,
          -0.5739762111378856,
          -0.04638973923650495,
          -0.8798703545571802,
          0.3323097413249026,
          0.4676023301644537,
          -0.31384277100735525,
          -0.8830177589635928,
          -0.6729915021979753,
          -0.8849797108919147,
          0.0911126365486527,
          0.5453307232441276,
          -0.7032973506741914,
          -0.5036398455939298,
          -0.2556549483481211,
          0.06002707178846121,
          0.5344583663487034
         ]
        },
        {
         "hoverinfo": "text",
         "marker": {
          "opacity": 0
         },
         "mode": "markers",
         "opacity": 0,
         "text": [
          "85",
          "12",
          "10",
          "5",
          "5",
          "5",
          "5",
          "5",
          "4",
          "3",
          "2",
          "2",
          "2",
          "2",
          "2",
          "2",
          "47",
          "5",
          "3",
          "2",
          "2",
          "2",
          "11",
          "8",
          "8",
          "5",
          "4",
          "4",
          "3",
          "3",
          "3",
          "3",
          "3",
          "2",
          "2",
          "20",
          "19",
          "17",
          "15",
          "13",
          "11",
          "10",
          "10",
          "9",
          "9",
          "9",
          "9",
          "9",
          "8",
          "8",
          "8",
          "8",
          "7",
          "7",
          "7",
          "6",
          "6",
          "5",
          "3",
          "2",
          "7",
          "5",
          "3",
          "2",
          "2",
          "2",
          "2",
          "2",
          "3",
          "2",
          "12",
          "9",
          "7",
          "5",
          "4",
          "4",
          "4",
          "2",
          "2",
          "11",
          "6",
          "4",
          "2",
          "2",
          "2",
          "2",
          "11",
          "9",
          "7",
          "7",
          "3",
          "2",
          "2",
          "2",
          "6",
          "5",
          "5",
          "3",
          "3",
          "3",
          "2",
          "2",
          "2",
          "3",
          "6",
          "6",
          "2",
          "3",
          "2",
          "2",
          "2",
          "3",
          "2"
         ],
         "type": "scatter",
         "x": [
          0.18127246248268825,
          0.027738126615984557,
          -0.13061538758938446,
          -0.22568589815712276,
          -0.3665512547717258,
          -0.04747550674827922,
          -0.3035193491010648,
          -0.029635071607029762,
          -0.12542908906973377,
          -0.2247875319009067,
          -0.14237134286499403,
          0.17858230424405763,
          -0.022188076729178826,
          -0.4032631908792975,
          -0.2660949953902908,
          0.2394787299423419,
          0.04194456099400545,
          0.2953685857671128,
          0.14220137008139444,
          0.23799538754409844,
          0.40378421620699134,
          0.220154952402849,
          -0.16151597821786162,
          -0.26994328907806725,
          -0.4054228968789736,
          -0.26475699055841656,
          -0.11158977487269824,
          -0.5058791562604086,
          -0.29649563128236356,
          -0.3641154333895895,
          -0.4428472505897476,
          -0.5603679362617537,
          -0.186803408236962,
          -0.5425910923679803,
          -0.003174144432819659,
          -0.15199887210586627,
          0.09190804655524569,
          -0.016519264304959952,
          0.0666206165361453,
          0.15151263206879736,
          -0.011332965785309235,
          0.29267842752848217,
          0.25024988034028767,
          -0.2192442274568982,
          -0.3296407082788007,
          0.30255827175889805,
          -0.18942322581664028,
          -0.2524551314873013,
          -0.04307160650925623,
          -0.028275219580569527,
          -0.11069140861648218,
          0.13628834074800972,
          -0.289167067594873,
          0.405316548153251,
          0.48737508721922973,
          0.5464923488807388,
          0.5709171249502045,
          0.08446105167739476,
          0.46585666753154,
          0.3535748532267664,
          -0.14232048993747798,
          -0.5462882534935767,
          -0.3051660877915846,
          -0.2093720703288806,
          -0.32210834158684487,
          -0.6007770334949218,
          -0.3103523863112353,
          -0.5830001896011483,
          -0.16061761196164556,
          -0.06125916913047262,
          -0.18662873378593856,
          -0.16968647999067826,
          -0.09173289766922373,
          -0.5703201163092245,
          -0.3477767400220093,
          -0.37759774166226723,
          0.19522133902139738,
          0.09189636613491863,
          -0.006840882136571663,
          0.2783612198625026,
          -0.4048543416430645,
          -0.08654659914957301,
          -0.1034888529448333,
          -0.26463685918090407,
          -0.3276687648515651,
          0.009247418313130983,
          -0.4770533809696251,
          -0.5820760715848341,
          0.12256895804750355,
          -0.08564841780358384,
          0.08014041085930905,
          -0.3595326952976189,
          -0.36431710971166076,
          -0.7784188696678562,
          0.20040763754104812,
          -0.06870616400832355,
          -0.34259044150235857,
          -0.5651338177895738,
          -0.01687887493770858,
          -0.3724114431426165,
          0.13951121184276383,
          -0.2638586243022005,
          -0.482807923964519,
          0.46199048366664497,
          0.6167008451596131,
          0.23530522930546782,
          -0.8834415602830652,
          -0.2467964240396546,
          -0.6204245433119223,
          -0.8429679195991375,
          -0.6834564489825834,
          -0.34654026581788727,
          0.4084834693085257
         ],
         "y": [
          0.0013908579491200227,
          -0.053224543346151114,
          0.2043495963304336,
          -0.04016774438627574,
          -0.14930581643704016,
          0.11619020826790066,
          0.17377043972908876,
          0.28028093068870125,
          -0.08597667559204734,
          -0.3288801820323502,
          0.3888503621535104,
          0.22798565881536043,
          -0.3110260307444006,
          0.05317188734096382,
          0.23533882725785585,
          0.08939789202283607,
          -0.054008024570430656,
          -0.06706482353030603,
          -0.09981695577620227,
          0.26644065050454635,
          0.30034183769029504,
          0.10234992808374574,
          -0.36642491326395127,
          0.14895071381088293,
          0.17993994473830519,
          -0.14137555811159802,
          -0.10862342586570178,
          -0.20470469895659082,
          -0.4892921929347096,
          -0.38427906455190086,
          0.1183715572095381,
          0.3503822725885112,
          0.06079132574834998,
          -0.002226995178586856,
          0.2587832353548993,
          0.1668831457784298,
          -0.37948171222382665,
          0.13589391485100755,
          0.047734526788474604,
          0.3808846962708822,
          -0.1544323570714734,
          0.15952997733593438,
          0.2457264363950239,
          -0.34782821798173136,
          -0.08403498203104105,
          -0.5007752896913786,
          0.10531475824966272,
          -0.2177614979164662,
          -0.5023489918945849,
          0.32039468067408433,
          -0.39733586351177624,
          -0.503329967858746,
          -0.015283794138462231,
          -0.4124887877498843,
          -0.3126600352097535,
          -0.18866758658684912,
          -0.03082657651855798,
          0.2118252492092752,
          0.2063890707615631,
          0.020942210543410014,
          0.6694480668748891,
          0.07080187268754076,
          0.13413101353253357,
          0.5003886198132822,
          0.6089580512780913,
          0.6258888442326428,
          0.4244572854550145,
          0.27327957646554474,
          -0.6551373509100258,
          -0.4122338444697229,
          0.577968820350669,
          0.10314178260511131,
          0.30530866646505933,
          0.430535192346023,
          0.36288889792624746,
          -0.09025407830514665,
          0.2785163502199947,
          0.5033005760716086,
          0.6384588359474669,
          0.19035696215746178,
          0.08537976958301072,
          0.014982394542578367,
          0.4898094322881361,
          0.27472950986371447,
          -0.04834674630241444,
          0.381240000823327,
          0.7794003791282973,
          0.6150359581690997,
          0.6016048828355959,
          0.6539001547089367,
          0.6878013418946853,
          0.5473896637493242,
          0.6708309476634882,
          0.3749707164231719,
          -0.011809921702486223,
          0.17907311696337896,
          0.07256262600376648,
          0.14020892042354202,
          -0.5360821001046422,
          -0.3805803502276276,
          0.12677784509003814,
          -0.4300879957576725,
          -0.11678711427693729,
          0.38834887176401106,
          0.48759927292307464,
          0.49303545137078675,
          0.21060629546397436,
          0.43882023228451505,
          0.21171118893677765,
          0.2793574833565532,
          -0.11136506722935127,
          0.31822167989639016,
          0.5398945447964154
         ]
        }
       ],
       "layout": {
        "autosize": false,
        "height": 500,
        "hovermode": "closest",
        "margin": {
         "b": 10,
         "l": 10,
         "r": 10,
         "t": 10
        },
        "plot_bgcolor": "rgba(0,0,0,0)",
        "showlegend": false,
        "template": {
         "data": {
          "bar": [
           {
            "error_x": {
             "color": "#2a3f5f"
            },
            "error_y": {
             "color": "#2a3f5f"
            },
            "marker": {
             "line": {
              "color": "#E5ECF6",
              "width": 0.5
             }
            },
            "type": "bar"
           }
          ],
          "barpolar": [
           {
            "marker": {
             "line": {
              "color": "#E5ECF6",
              "width": 0.5
             }
            },
            "type": "barpolar"
           }
          ],
          "carpet": [
           {
            "aaxis": {
             "endlinecolor": "#2a3f5f",
             "gridcolor": "white",
             "linecolor": "white",
             "minorgridcolor": "white",
             "startlinecolor": "#2a3f5f"
            },
            "baxis": {
             "endlinecolor": "#2a3f5f",
             "gridcolor": "white",
             "linecolor": "white",
             "minorgridcolor": "white",
             "startlinecolor": "#2a3f5f"
            },
            "type": "carpet"
           }
          ],
          "choropleth": [
           {
            "colorbar": {
             "outlinewidth": 0,
             "ticks": ""
            },
            "type": "choropleth"
           }
          ],
          "contour": [
           {
            "colorbar": {
             "outlinewidth": 0,
             "ticks": ""
            },
            "colorscale": [
             [
              0,
              "#0d0887"
             ],
             [
              0.1111111111111111,
              "#46039f"
             ],
             [
              0.2222222222222222,
              "#7201a8"
             ],
             [
              0.3333333333333333,
              "#9c179e"
             ],
             [
              0.4444444444444444,
              "#bd3786"
             ],
             [
              0.5555555555555556,
              "#d8576b"
             ],
             [
              0.6666666666666666,
              "#ed7953"
             ],
             [
              0.7777777777777778,
              "#fb9f3a"
             ],
             [
              0.8888888888888888,
              "#fdca26"
             ],
             [
              1,
              "#f0f921"
             ]
            ],
            "type": "contour"
           }
          ],
          "contourcarpet": [
           {
            "colorbar": {
             "outlinewidth": 0,
             "ticks": ""
            },
            "type": "contourcarpet"
           }
          ],
          "heatmap": [
           {
            "colorbar": {
             "outlinewidth": 0,
             "ticks": ""
            },
            "colorscale": [
             [
              0,
              "#0d0887"
             ],
             [
              0.1111111111111111,
              "#46039f"
             ],
             [
              0.2222222222222222,
              "#7201a8"
             ],
             [
              0.3333333333333333,
              "#9c179e"
             ],
             [
              0.4444444444444444,
              "#bd3786"
             ],
             [
              0.5555555555555556,
              "#d8576b"
             ],
             [
              0.6666666666666666,
              "#ed7953"
             ],
             [
              0.7777777777777778,
              "#fb9f3a"
             ],
             [
              0.8888888888888888,
              "#fdca26"
             ],
             [
              1,
              "#f0f921"
             ]
            ],
            "type": "heatmap"
           }
          ],
          "heatmapgl": [
           {
            "colorbar": {
             "outlinewidth": 0,
             "ticks": ""
            },
            "colorscale": [
             [
              0,
              "#0d0887"
             ],
             [
              0.1111111111111111,
              "#46039f"
             ],
             [
              0.2222222222222222,
              "#7201a8"
             ],
             [
              0.3333333333333333,
              "#9c179e"
             ],
             [
              0.4444444444444444,
              "#bd3786"
             ],
             [
              0.5555555555555556,
              "#d8576b"
             ],
             [
              0.6666666666666666,
              "#ed7953"
             ],
             [
              0.7777777777777778,
              "#fb9f3a"
             ],
             [
              0.8888888888888888,
              "#fdca26"
             ],
             [
              1,
              "#f0f921"
             ]
            ],
            "type": "heatmapgl"
           }
          ],
          "histogram": [
           {
            "marker": {
             "colorbar": {
              "outlinewidth": 0,
              "ticks": ""
             }
            },
            "type": "histogram"
           }
          ],
          "histogram2d": [
           {
            "colorbar": {
             "outlinewidth": 0,
             "ticks": ""
            },
            "colorscale": [
             [
              0,
              "#0d0887"
             ],
             [
              0.1111111111111111,
              "#46039f"
             ],
             [
              0.2222222222222222,
              "#7201a8"
             ],
             [
              0.3333333333333333,
              "#9c179e"
             ],
             [
              0.4444444444444444,
              "#bd3786"
             ],
             [
              0.5555555555555556,
              "#d8576b"
             ],
             [
              0.6666666666666666,
              "#ed7953"
             ],
             [
              0.7777777777777778,
              "#fb9f3a"
             ],
             [
              0.8888888888888888,
              "#fdca26"
             ],
             [
              1,
              "#f0f921"
             ]
            ],
            "type": "histogram2d"
           }
          ],
          "histogram2dcontour": [
           {
            "colorbar": {
             "outlinewidth": 0,
             "ticks": ""
            },
            "colorscale": [
             [
              0,
              "#0d0887"
             ],
             [
              0.1111111111111111,
              "#46039f"
             ],
             [
              0.2222222222222222,
              "#7201a8"
             ],
             [
              0.3333333333333333,
              "#9c179e"
             ],
             [
              0.4444444444444444,
              "#bd3786"
             ],
             [
              0.5555555555555556,
              "#d8576b"
             ],
             [
              0.6666666666666666,
              "#ed7953"
             ],
             [
              0.7777777777777778,
              "#fb9f3a"
             ],
             [
              0.8888888888888888,
              "#fdca26"
             ],
             [
              1,
              "#f0f921"
             ]
            ],
            "type": "histogram2dcontour"
           }
          ],
          "mesh3d": [
           {
            "colorbar": {
             "outlinewidth": 0,
             "ticks": ""
            },
            "type": "mesh3d"
           }
          ],
          "parcoords": [
           {
            "line": {
             "colorbar": {
              "outlinewidth": 0,
              "ticks": ""
             }
            },
            "type": "parcoords"
           }
          ],
          "pie": [
           {
            "automargin": true,
            "type": "pie"
           }
          ],
          "scatter": [
           {
            "marker": {
             "colorbar": {
              "outlinewidth": 0,
              "ticks": ""
             }
            },
            "type": "scatter"
           }
          ],
          "scatter3d": [
           {
            "line": {
             "colorbar": {
              "outlinewidth": 0,
              "ticks": ""
             }
            },
            "marker": {
             "colorbar": {
              "outlinewidth": 0,
              "ticks": ""
             }
            },
            "type": "scatter3d"
           }
          ],
          "scattercarpet": [
           {
            "marker": {
             "colorbar": {
              "outlinewidth": 0,
              "ticks": ""
             }
            },
            "type": "scattercarpet"
           }
          ],
          "scattergeo": [
           {
            "marker": {
             "colorbar": {
              "outlinewidth": 0,
              "ticks": ""
             }
            },
            "type": "scattergeo"
           }
          ],
          "scattergl": [
           {
            "marker": {
             "colorbar": {
              "outlinewidth": 0,
              "ticks": ""
             }
            },
            "type": "scattergl"
           }
          ],
          "scattermapbox": [
           {
            "marker": {
             "colorbar": {
              "outlinewidth": 0,
              "ticks": ""
             }
            },
            "type": "scattermapbox"
           }
          ],
          "scatterpolar": [
           {
            "marker": {
             "colorbar": {
              "outlinewidth": 0,
              "ticks": ""
             }
            },
            "type": "scatterpolar"
           }
          ],
          "scatterpolargl": [
           {
            "marker": {
             "colorbar": {
              "outlinewidth": 0,
              "ticks": ""
             }
            },
            "type": "scatterpolargl"
           }
          ],
          "scatterternary": [
           {
            "marker": {
             "colorbar": {
              "outlinewidth": 0,
              "ticks": ""
             }
            },
            "type": "scatterternary"
           }
          ],
          "surface": [
           {
            "colorbar": {
             "outlinewidth": 0,
             "ticks": ""
            },
            "colorscale": [
             [
              0,
              "#0d0887"
             ],
             [
              0.1111111111111111,
              "#46039f"
             ],
             [
              0.2222222222222222,
              "#7201a8"
             ],
             [
              0.3333333333333333,
              "#9c179e"
             ],
             [
              0.4444444444444444,
              "#bd3786"
             ],
             [
              0.5555555555555556,
              "#d8576b"
             ],
             [
              0.6666666666666666,
              "#ed7953"
             ],
             [
              0.7777777777777778,
              "#fb9f3a"
             ],
             [
              0.8888888888888888,
              "#fdca26"
             ],
             [
              1,
              "#f0f921"
             ]
            ],
            "type": "surface"
           }
          ],
          "table": [
           {
            "cells": {
             "fill": {
              "color": "#EBF0F8"
             },
             "line": {
              "color": "white"
             }
            },
            "header": {
             "fill": {
              "color": "#C8D4E3"
             },
             "line": {
              "color": "white"
             }
            },
            "type": "table"
           }
          ]
         },
         "layout": {
          "annotationdefaults": {
           "arrowcolor": "#2a3f5f",
           "arrowhead": 0,
           "arrowwidth": 1
          },
          "coloraxis": {
           "colorbar": {
            "outlinewidth": 0,
            "ticks": ""
           }
          },
          "colorscale": {
           "diverging": [
            [
             0,
             "#8e0152"
            ],
            [
             0.1,
             "#c51b7d"
            ],
            [
             0.2,
             "#de77ae"
            ],
            [
             0.3,
             "#f1b6da"
            ],
            [
             0.4,
             "#fde0ef"
            ],
            [
             0.5,
             "#f7f7f7"
            ],
            [
             0.6,
             "#e6f5d0"
            ],
            [
             0.7,
             "#b8e186"
            ],
            [
             0.8,
             "#7fbc41"
            ],
            [
             0.9,
             "#4d9221"
            ],
            [
             1,
             "#276419"
            ]
           ],
           "sequential": [
            [
             0,
             "#0d0887"
            ],
            [
             0.1111111111111111,
             "#46039f"
            ],
            [
             0.2222222222222222,
             "#7201a8"
            ],
            [
             0.3333333333333333,
             "#9c179e"
            ],
            [
             0.4444444444444444,
             "#bd3786"
            ],
            [
             0.5555555555555556,
             "#d8576b"
            ],
            [
             0.6666666666666666,
             "#ed7953"
            ],
            [
             0.7777777777777778,
             "#fb9f3a"
            ],
            [
             0.8888888888888888,
             "#fdca26"
            ],
            [
             1,
             "#f0f921"
            ]
           ],
           "sequentialminus": [
            [
             0,
             "#0d0887"
            ],
            [
             0.1111111111111111,
             "#46039f"
            ],
            [
             0.2222222222222222,
             "#7201a8"
            ],
            [
             0.3333333333333333,
             "#9c179e"
            ],
            [
             0.4444444444444444,
             "#bd3786"
            ],
            [
             0.5555555555555556,
             "#d8576b"
            ],
            [
             0.6666666666666666,
             "#ed7953"
            ],
            [
             0.7777777777777778,
             "#fb9f3a"
            ],
            [
             0.8888888888888888,
             "#fdca26"
            ],
            [
             1,
             "#f0f921"
            ]
           ]
          },
          "colorway": [
           "#636efa",
           "#EF553B",
           "#00cc96",
           "#ab63fa",
           "#FFA15A",
           "#19d3f3",
           "#FF6692",
           "#B6E880",
           "#FF97FF",
           "#FECB52"
          ],
          "font": {
           "color": "#2a3f5f"
          },
          "geo": {
           "bgcolor": "white",
           "lakecolor": "white",
           "landcolor": "#E5ECF6",
           "showlakes": true,
           "showland": true,
           "subunitcolor": "white"
          },
          "hoverlabel": {
           "align": "left"
          },
          "hovermode": "closest",
          "mapbox": {
           "style": "light"
          },
          "paper_bgcolor": "white",
          "plot_bgcolor": "#E5ECF6",
          "polar": {
           "angularaxis": {
            "gridcolor": "white",
            "linecolor": "white",
            "ticks": ""
           },
           "bgcolor": "#E5ECF6",
           "radialaxis": {
            "gridcolor": "white",
            "linecolor": "white",
            "ticks": ""
           }
          },
          "scene": {
           "xaxis": {
            "backgroundcolor": "#E5ECF6",
            "gridcolor": "white",
            "gridwidth": 2,
            "linecolor": "white",
            "showbackground": true,
            "ticks": "",
            "zerolinecolor": "white"
           },
           "yaxis": {
            "backgroundcolor": "#E5ECF6",
            "gridcolor": "white",
            "gridwidth": 2,
            "linecolor": "white",
            "showbackground": true,
            "ticks": "",
            "zerolinecolor": "white"
           },
           "zaxis": {
            "backgroundcolor": "#E5ECF6",
            "gridcolor": "white",
            "gridwidth": 2,
            "linecolor": "white",
            "showbackground": true,
            "ticks": "",
            "zerolinecolor": "white"
           }
          },
          "shapedefaults": {
           "line": {
            "color": "#2a3f5f"
           }
          },
          "ternary": {
           "aaxis": {
            "gridcolor": "white",
            "linecolor": "white",
            "ticks": ""
           },
           "baxis": {
            "gridcolor": "white",
            "linecolor": "white",
            "ticks": ""
           },
           "bgcolor": "#E5ECF6",
           "caxis": {
            "gridcolor": "white",
            "linecolor": "white",
            "ticks": ""
           }
          },
          "title": {
           "x": 0.05
          },
          "xaxis": {
           "automargin": true,
           "gridcolor": "white",
           "linecolor": "white",
           "ticks": "",
           "title": {
            "standoff": 15
           },
           "zerolinecolor": "white",
           "zerolinewidth": 2
          },
          "yaxis": {
           "automargin": true,
           "gridcolor": "white",
           "linecolor": "white",
           "ticks": "",
           "title": {
            "standoff": 15
           },
           "zerolinecolor": "white",
           "zerolinewidth": 2
          }
         }
        },
        "title": {
         "font": {
          "size": 16
         }
        },
        "width": 500,
        "xaxis": {
         "showgrid": false,
         "showticklabels": false,
         "zeroline": false
        },
        "yaxis": {
         "showgrid": false,
         "showticklabels": false,
         "zeroline": false
        }
       }
      },
      "text/html": [
       "<div>                            <div id=\"5008c804-0b36-4f02-9ceb-30a00e6253ac\" class=\"plotly-graph-div\" style=\"height:500px; width:500px;\"></div>            <script type=\"text/javascript\">                require([\"plotly\"], function(Plotly) {                    window.PLOTLYENV=window.PLOTLYENV || {};                                    if (document.getElementById(\"5008c804-0b36-4f02-9ceb-30a00e6253ac\")) {                    Plotly.newPlot(                        \"5008c804-0b36-4f02-9ceb-30a00e6253ac\",                        [{\"line\": {\"color\": \"#000000\", \"width\": 1}, \"mode\": \"lines\", \"type\": \"scatter\", \"x\": [-0.08635799666843996, 0.44890292163381645, null, 0.44890292163381645, -0.36501379964580555, null, 0.14183424990040908, -0.44583199411214164, null, 0.14183424990040908, 0.04198184321008231, null, 0.14183424990040908, -0.17487277851032898, null, 0.14183424990040908, -0.008593016828118473, null], \"y\": [0.015231138133274943, -0.012449422235034898, null, -0.012449422235034898, -0.09556662690582642, null, -0.12168022482557717, 0.4554465163824368, null, -0.12168022482557717, -0.6372831996220761, null, -0.12168022482557717, 0.39346805452759226, null, -0.12168022482557717, 0.21714927840252637, null]}, {\"line\": {\"color\": \"#404040\", \"width\": 0.7}, \"mode\": \"lines\", \"type\": \"scatter\", \"x\": [-0.08635799666843996, 0.14183424990040908, null, -0.08635799666843996, -0.17487277851032898, null, -0.36501379964580555, 0.04198184321008231, null, 0.14183424990040908, 0.16119101423718565, null, 0.14183424990040908, -0.16450018147102755, null, 0.14183424990040908, 0.4435226051565552, null, 0.14183424990040908, 0.35866551078016623, null, 0.14183424990040908, -0.5803227048142054, null, 0.14183424990040908, -0.8011156664580105, null, 0.14183424990040908, 0.463282293617387, null, 0.14183424990040908, -0.5206807015336896, null, 0.14183424990040908, -0.6467445128750117, null, -0.17487277851032898, -0.19838468906154813, null, -0.17487277851032898, -0.16450018147102755, null, -0.008593016828118473, 0.5653154565531238, null, -0.19838468906154813, -0.755722072877702, null, -0.19838468906154813, -0.96576745410812, null], \"y\": [0.015231138133274943, -0.12168022482557717, null, 0.015231138133274943, 0.39346805452759226, null, -0.09556662690582642, -0.6372831996220761, null, -0.12168022482557717, 0.8834496173673415, null, -0.12168022482557717, -0.18718448931736964, null, -0.12168022482557717, 0.4407401794974459, null, -0.12168022482557717, 0.613133097615625, null, -0.12168022482557717, -0.5739762111378856, null, -0.12168022482557717, -0.04638973923650495, null, -0.12168022482557717, -0.8798703545571802, null, -0.12168022482557717, 0.3323097413249026, null, -0.12168022482557717, -0.31384277100735525, null, 0.39346805452759226, 0.7624695861737458, null, 0.39346805452759226, -0.18718448931736964, null, 0.21714927840252637, 0.1635646459123972, null, 0.7624695861737458, 0.7963311720828488, null, 0.7624695861737458, 0.4676023301644537, null]}, {\"line\": {\"color\": \"#C0C0C0\", \"width\": 0.5}, \"mode\": \"lines\", \"type\": \"scatter\", \"x\": [-0.08635799666843996, -0.36501379964580555, null, -0.08635799666843996, -0.6467445128750117, null, -0.08635799666843996, -0.008593016828118473, null, -0.08635799666843996, -0.5206807015336896, null, -0.08635799666843996, 0.027087853454380438, null, -0.08635799666843996, -0.16450018147102755, null, -0.08635799666843996, -0.36321706713337343, null, -0.08635799666843996, -0.19838468906154813, null, -0.08635799666843996, 0.4435226051565552, null, -0.08635799666843996, 0.04198184321008231, null, -0.08635799666843996, -0.720168385090155, null, -0.08635799666843996, -0.44583199411214164, null, -0.08635799666843996, 0.5653154565531238, null, 0.44890292163381645, 0.14183424990040908, null, 0.44890292163381645, -0.16450018147102755, null, 0.44890292163381645, 0.027087853454380438, null, 0.44890292163381645, 0.35866551078016623, null, 0.44890292163381645, -0.008593016828118473, null, -0.36501379964580555, -0.17487277851032898, null, -0.36501379964580555, -0.44583199411214164, null, -0.36501379964580555, -0.16450018147102755, null, -0.36501379964580555, 0.14183424990040908, null, -0.36501379964580555, -0.6467445128750117, null, -0.36501379964580555, -0.22797746291892154, null, -0.36501379964580555, -0.36321706713337343, null, -0.36501379964580555, -0.5206807015336896, null, -0.36501379964580555, -0.755722072877702, null, -0.36501379964580555, -0.008593016828118473, null, -0.36501379964580555, -0.720168385090155, null, -0.36501379964580555, 0.35866551078016623, null, 0.14183424990040908, -0.22797746291892154, null, 0.14183424990040908, -0.19838468906154813, null, 0.14183424990040908, -0.36321706713337343, null, 0.14183424990040908, 0.1307424315956104, null, 0.14183424990040908, -0.720168385090155, null, 0.14183424990040908, 0.668798846406093, null, 0.14183424990040908, 0.8329159245380504, null, 0.14183424990040908, 0.9511504478610685, null, 0.14183424990040908, 1.0, null, 0.14183424990040908, 0.027087853454380438, null, 0.14183424990040908, 0.7898790851626709, null, 0.14183424990040908, 0.5653154565531238, null, -0.44583199411214164, 0.16119101423718565, null, -0.44583199411214164, -0.6467445128750117, null, -0.44583199411214164, -0.16450018147102755, null, -0.44583199411214164, 0.027087853454380438, null, -0.44583199411214164, -0.19838468906154813, null, -0.44583199411214164, -0.755722072877702, null, -0.44583199411214164, -0.17487277851032898, null, -0.44583199411214164, -0.720168385090155, null, 0.04198184321008231, -0.36321706713337343, null, 0.04198184321008231, -0.16450018147102755, null, -0.17487277851032898, -0.008593016828118473, null, -0.17487277851032898, -0.96576745410812, null, -0.17487277851032898, -0.5206807015336896, null, -0.17487277851032898, -0.5803227048142054, null, -0.17487277851032898, 0.5653154565531238, null, -0.17487277851032898, 0.35866551078016623, null, -0.17487277851032898, 0.16119101423718565, null, -0.008593016828118473, -0.8011156664580105, null, -0.008593016828118473, -0.16450018147102755, null, -0.008593016828118473, -0.19838468906154813, null, -0.008593016828118473, -0.5206807015336896, null, -0.008593016828118473, -0.6467445128750117, null, -0.008593016828118473, 0.027087853454380438, null, -0.19838468906154813, 0.4435226051565552, null, -0.19838468906154813, 0.027087853454380438, null, -0.19838468906154813, 0.35866551078016623, null, -0.19838468906154813, -0.5206807015336896, null, -0.755722072877702, 0.027087853454380438, null, -0.755722072877702, -0.8011156664580105, null, -0.16450018147102755, 0.5653154565531238, null, -0.16450018147102755, 0.027087853454380438, null, -0.16450018147102755, -0.5206807015336896, null, -0.16450018147102755, -0.96576745410812, null, -0.16450018147102755, 0.1307424315956104, null, -0.16450018147102755, -0.5803227048142054, null, -0.16450018147102755, 0.4435226051565552, null, -0.16450018147102755, -0.36321706713337343, null, -0.16450018147102755, -0.8011156664580105, null, 0.5653154565531238, 0.35866551078016623, null, 0.4435226051565552, 0.7898790851626709, null, 0.4435226051565552, 0.027087853454380438, null, -0.8011156664580105, -0.96576745410812, null, -0.5206807015336896, 0.027087853454380438, null, -0.5206807015336896, -0.720168385090155, null, -0.96576745410812, -0.720168385090155, null, -0.6467445128750117, -0.720168385090155, null, -0.720168385090155, 0.027087853454380438, null, 0.027087853454380438, 0.7898790851626709, null], \"y\": [0.015231138133274943, -0.09556662690582642, null, 0.015231138133274943, -0.31384277100735525, null, 0.015231138133274943, 0.21714927840252637, null, 0.015231138133274943, 0.3323097413249026, null, 0.015231138133274943, 0.5453307232441276, null, 0.015231138133274943, -0.18718448931736964, null, 0.015231138133274943, -0.6729915021979753, null, 0.015231138133274943, 0.7624695861737458, null, 0.015231138133274943, 0.4407401794974459, null, 0.015231138133274943, -0.6372831996220761, null, 0.015231138133274943, 0.0911126365486527, null, 0.015231138133274943, 0.4554465163824368, null, 0.015231138133274943, 0.1635646459123972, null, -0.012449422235034898, -0.12168022482557717, null, -0.012449422235034898, -0.18718448931736964, null, -0.012449422235034898, 0.5453307232441276, null, -0.012449422235034898, 0.613133097615625, null, -0.012449422235034898, 0.21714927840252637, null, -0.09556662690582642, 0.39346805452759226, null, -0.09556662690582642, 0.4554465163824368, null, -0.09556662690582642, -0.18718448931736964, null, -0.09556662690582642, -0.12168022482557717, null, -0.09556662690582642, -0.31384277100735525, null, -0.09556662690582642, -0.8830177589635928, null, -0.09556662690582642, -0.6729915021979753, null, -0.09556662690582642, 0.3323097413249026, null, -0.09556662690582642, 0.7963311720828488, null, -0.09556662690582642, 0.21714927840252637, null, -0.09556662690582642, 0.0911126365486527, null, -0.09556662690582642, 0.613133097615625, null, -0.12168022482557717, -0.8830177589635928, null, -0.12168022482557717, 0.7624695861737458, null, -0.12168022482557717, -0.6729915021979753, null, -0.12168022482557717, -0.8849797108919147, null, -0.12168022482557717, 0.0911126365486527, null, -0.12168022482557717, -0.7032973506741914, null, -0.12168022482557717, -0.5036398455939298, null, -0.12168022482557717, -0.2556549483481211, null, -0.12168022482557717, 0.06002707178846121, null, -0.12168022482557717, 0.5453307232441276, null, -0.12168022482557717, 0.5344583663487034, null, -0.12168022482557717, 0.1635646459123972, null, 0.4554465163824368, 0.8834496173673415, null, 0.4554465163824368, -0.31384277100735525, null, 0.4554465163824368, -0.18718448931736964, null, 0.4554465163824368, 0.5453307232441276, null, 0.4554465163824368, 0.7624695861737458, null, 0.4554465163824368, 0.7963311720828488, null, 0.4554465163824368, 0.39346805452759226, null, 0.4554465163824368, 0.0911126365486527, null, -0.6372831996220761, -0.6729915021979753, null, -0.6372831996220761, -0.18718448931736964, null, 0.39346805452759226, 0.21714927840252637, null, 0.39346805452759226, 0.4676023301644537, null, 0.39346805452759226, 0.3323097413249026, null, 0.39346805452759226, -0.5739762111378856, null, 0.39346805452759226, 0.1635646459123972, null, 0.39346805452759226, 0.613133097615625, null, 0.39346805452759226, 0.8834496173673415, null, 0.21714927840252637, -0.04638973923650495, null, 0.21714927840252637, -0.18718448931736964, null, 0.21714927840252637, 0.7624695861737458, null, 0.21714927840252637, 0.3323097413249026, null, 0.21714927840252637, -0.31384277100735525, null, 0.21714927840252637, 0.5453307232441276, null, 0.7624695861737458, 0.4407401794974459, null, 0.7624695861737458, 0.5453307232441276, null, 0.7624695861737458, 0.613133097615625, null, 0.7624695861737458, 0.3323097413249026, null, 0.7963311720828488, 0.5453307232441276, null, 0.7963311720828488, -0.04638973923650495, null, -0.18718448931736964, 0.1635646459123972, null, -0.18718448931736964, 0.5453307232441276, null, -0.18718448931736964, 0.3323097413249026, null, -0.18718448931736964, 0.4676023301644537, null, -0.18718448931736964, -0.8849797108919147, null, -0.18718448931736964, -0.5739762111378856, null, -0.18718448931736964, 0.4407401794974459, null, -0.18718448931736964, -0.6729915021979753, null, -0.18718448931736964, -0.04638973923650495, null, 0.1635646459123972, 0.613133097615625, null, 0.4407401794974459, 0.5344583663487034, null, 0.4407401794974459, 0.5453307232441276, null, -0.04638973923650495, 0.4676023301644537, null, 0.3323097413249026, 0.5453307232441276, null, 0.3323097413249026, 0.0911126365486527, null, 0.4676023301644537, 0.0911126365486527, null, -0.31384277100735525, 0.0911126365486527, null, 0.0911126365486527, 0.5453307232441276, null, 0.5453307232441276, 0.5344583663487034, null]}, {\"hoverinfo\": \"text\", \"hovertext\": [\"109\", \"41\", \"86\", \"182\", \"56\", \"14\", \"56\", \"48\", \"6\", \"46\", \"20\", \"66\", \"10\", \"27\", \"4\", \"4\", \"15\", \"6\", \"19\", \"16\", \"15\", \"10\", \"4\", \"8\", \"15\", \"16\", \"8\", \"5\", \"10\", \"6\", \"9\"], \"marker\": {\"color\": [109, 41, 86, 182, 56, 14, 56, 48, 6, 46, 20, 66, 10, 27, 4, 4, 15, 6, 19, 16, 15, 10, 4, 8, 15, 16, 8, 5, 10, 6, 9], \"colorbar\": {\"thickness\": 15, \"title\": {\"side\": \"right\", \"text\": \"degree\"}, \"xanchor\": \"left\"}, \"colorscale\": [[0.0, \"rgb(255,255,255)\"], [0.125, \"rgb(240,240,240)\"], [0.25, \"rgb(217,217,217)\"], [0.375, \"rgb(189,189,189)\"], [0.5, \"rgb(150,150,150)\"], [0.625, \"rgb(115,115,115)\"], [0.75, \"rgb(82,82,82)\"], [0.875, \"rgb(37,37,37)\"], [1.0, \"rgb(0,0,0)\"]], \"line\": {\"width\": 1}, \"reversescale\": true, \"showscale\": false, \"size\": 7}, \"mode\": \"markers+text\", \"text\": [\"\\u03a7\\u03c1\\u03b9\\u03c3\\u03c4\\u03cc\\u03c2\", \"\\u1f38\\u03b7\\u03c3\\u03bf\\u1fe6\\u03c2\", \"\\u03ba\\u03cd\\u03c1\\u03b9\\u03bf\\u03c2\", \"\\u03b8\\u03b5\\u03cc\\u03c2\", \"\\u03c7\\u03ac\\u03c1\\u03b9\\u03c2\", \"\\u03c0\\u03b1\\u03c4\\u03ae\\u03c1\", \"\\u03b5\\u1f30\\u03bc\\u03af\", \"\\u03c0\\u03bd\\u03b5\\u1fe6\\u03bc\\u03b1\", \"\\u03b5\\u1f30\\u03c1\\u03ae\\u03bd\\u03b7\", \"\\u03bd\\u03cc\\u03bc\\u03bf\\u03c2\", \"\\u1f14\\u03c1\\u03b3\\u03bf\\u03bd\", \"\\u03c0\\u1fb6\\u03c2\", \"\\u1f05\\u03b3\\u03b9\\u03bf\\u03c2\", \"\\u03b4\\u03b9\\u03ba\\u03b1\\u03b9\\u03bf\\u03c3\\u03cd\\u03bd\\u03b7\", \"\\u03bf\\u1f36\\u03b4\\u03b1\", \"\\u03c5\\u1f31\\u03cc\\u03c2\", \"\\u03b4\\u03cd\\u03bd\\u03b1\\u03bc\\u03b9\\u03c2\", \"\\u03b8\\u03ad\\u03bb\\u03b7\\u03bc\\u03b1\", \"\\u1f14\\u03c7\\u03c9\", \"\\u1f01\\u03bc\\u03b1\\u03c1\\u03c4\\u03af\\u03b1\", \"\\u03b4\\u03af\\u03b4\\u03c9\\u03bc\\u03b9\", \"\\u03b5\\u1f50\\u03c7\\u03b1\\u03c1\\u03b9\\u03c3\\u03c4\\u03ad\\u03c9\", \"\\u03b4\\u03cc\\u03be\\u03b1\", \"\\u1f10\\u03ba\\u03ba\\u03bb\\u03b7\\u03c3\\u03af\\u03b1\", \"\\u03b3\\u03b9\\u03b3\\u03bd\\u03ce\\u03c3\\u03ba\\u03c9\", \"\\u03c0\\u03af\\u03c3\\u03c4\\u03b9\\u03c2\", \"\\u03b2\\u03b1\\u03c3\\u03b9\\u03bb\\u03b5\\u03af\\u03b1\", \"\\u03c3\\u03bf\\u03c6\\u03af\\u03b1\", \"\\u03b5\\u1f50\\u03b1\\u03b3\\u03b3\\u03ad\\u03bb\\u03b9\\u03bf\\u03bd\", \"\\u03b4\\u03bf\\u03be\\u03ac\\u03b6\\u03c9\", \"\\u03bb\\u03bf\\u03b3\\u03af\\u03b6\\u03bf\\u03bc\\u03b1\\u03b9\"], \"textposition\": \"bottom center\", \"type\": \"scatter\", \"x\": [-0.08635799666843996, 0.44890292163381645, -0.36501379964580555, 0.14183424990040908, -0.44583199411214164, 0.04198184321008231, -0.17487277851032898, -0.008593016828118473, 0.16119101423718565, -0.19838468906154813, -0.755722072877702, -0.16450018147102755, 0.5653154565531238, 0.4435226051565552, 0.35866551078016623, -0.5803227048142054, -0.8011156664580105, 0.463282293617387, -0.5206807015336896, -0.96576745410812, -0.6467445128750117, -0.22797746291892154, -0.36321706713337343, 0.1307424315956104, -0.720168385090155, 0.027087853454380438, 0.668798846406093, 0.8329159245380504, 0.9511504478610685, 1.0, 0.7898790851626709], \"y\": [0.015231138133274943, -0.012449422235034898, -0.09556662690582642, -0.12168022482557717, 0.4554465163824368, -0.6372831996220761, 0.39346805452759226, 0.21714927840252637, 0.8834496173673415, 0.7624695861737458, 0.7963311720828488, -0.18718448931736964, 0.1635646459123972, 0.4407401794974459, 0.613133097615625, -0.5739762111378856, -0.04638973923650495, -0.8798703545571802, 0.3323097413249026, 0.4676023301644537, -0.31384277100735525, -0.8830177589635928, -0.6729915021979753, -0.8849797108919147, 0.0911126365486527, 0.5453307232441276, -0.7032973506741914, -0.5036398455939298, -0.2556549483481211, 0.06002707178846121, 0.5344583663487034]}, {\"hoverinfo\": \"text\", \"marker\": {\"opacity\": 0}, \"mode\": \"markers\", \"opacity\": 0, \"text\": [\"85\", \"12\", \"10\", \"5\", \"5\", \"5\", \"5\", \"5\", \"4\", \"3\", \"2\", \"2\", \"2\", \"2\", \"2\", \"2\", \"47\", \"5\", \"3\", \"2\", \"2\", \"2\", \"11\", \"8\", \"8\", \"5\", \"4\", \"4\", \"3\", \"3\", \"3\", \"3\", \"3\", \"2\", \"2\", \"20\", \"19\", \"17\", \"15\", \"13\", \"11\", \"10\", \"10\", \"9\", \"9\", \"9\", \"9\", \"9\", \"8\", \"8\", \"8\", \"8\", \"7\", \"7\", \"7\", \"6\", \"6\", \"5\", \"3\", \"2\", \"7\", \"5\", \"3\", \"2\", \"2\", \"2\", \"2\", \"2\", \"3\", \"2\", \"12\", \"9\", \"7\", \"5\", \"4\", \"4\", \"4\", \"2\", \"2\", \"11\", \"6\", \"4\", \"2\", \"2\", \"2\", \"2\", \"11\", \"9\", \"7\", \"7\", \"3\", \"2\", \"2\", \"2\", \"6\", \"5\", \"5\", \"3\", \"3\", \"3\", \"2\", \"2\", \"2\", \"3\", \"6\", \"6\", \"2\", \"3\", \"2\", \"2\", \"2\", \"3\", \"2\"], \"type\": \"scatter\", \"x\": [0.18127246248268825, 0.027738126615984557, -0.13061538758938446, -0.22568589815712276, -0.3665512547717258, -0.04747550674827922, -0.3035193491010648, -0.029635071607029762, -0.12542908906973377, -0.2247875319009067, -0.14237134286499403, 0.17858230424405763, -0.022188076729178826, -0.4032631908792975, -0.2660949953902908, 0.2394787299423419, 0.04194456099400545, 0.2953685857671128, 0.14220137008139444, 0.23799538754409844, 0.40378421620699134, 0.220154952402849, -0.16151597821786162, -0.26994328907806725, -0.4054228968789736, -0.26475699055841656, -0.11158977487269824, -0.5058791562604086, -0.29649563128236356, -0.3641154333895895, -0.4428472505897476, -0.5603679362617537, -0.186803408236962, -0.5425910923679803, -0.003174144432819659, -0.15199887210586627, 0.09190804655524569, -0.016519264304959952, 0.0666206165361453, 0.15151263206879736, -0.011332965785309235, 0.29267842752848217, 0.25024988034028767, -0.2192442274568982, -0.3296407082788007, 0.30255827175889805, -0.18942322581664028, -0.2524551314873013, -0.04307160650925623, -0.028275219580569527, -0.11069140861648218, 0.13628834074800972, -0.289167067594873, 0.405316548153251, 0.48737508721922973, 0.5464923488807388, 0.5709171249502045, 0.08446105167739476, 0.46585666753154, 0.3535748532267664, -0.14232048993747798, -0.5462882534935767, -0.3051660877915846, -0.2093720703288806, -0.32210834158684487, -0.6007770334949218, -0.3103523863112353, -0.5830001896011483, -0.16061761196164556, -0.06125916913047262, -0.18662873378593856, -0.16968647999067826, -0.09173289766922373, -0.5703201163092245, -0.3477767400220093, -0.37759774166226723, 0.19522133902139738, 0.09189636613491863, -0.006840882136571663, 0.2783612198625026, -0.4048543416430645, -0.08654659914957301, -0.1034888529448333, -0.26463685918090407, -0.3276687648515651, 0.009247418313130983, -0.4770533809696251, -0.5820760715848341, 0.12256895804750355, -0.08564841780358384, 0.08014041085930905, -0.3595326952976189, -0.36431710971166076, -0.7784188696678562, 0.20040763754104812, -0.06870616400832355, -0.34259044150235857, -0.5651338177895738, -0.01687887493770858, -0.3724114431426165, 0.13951121184276383, -0.2638586243022005, -0.482807923964519, 0.46199048366664497, 0.6167008451596131, 0.23530522930546782, -0.8834415602830652, -0.2467964240396546, -0.6204245433119223, -0.8429679195991375, -0.6834564489825834, -0.34654026581788727, 0.4084834693085257], \"y\": [0.0013908579491200227, -0.053224543346151114, 0.2043495963304336, -0.04016774438627574, -0.14930581643704016, 0.11619020826790066, 0.17377043972908876, 0.28028093068870125, -0.08597667559204734, -0.3288801820323502, 0.3888503621535104, 0.22798565881536043, -0.3110260307444006, 0.05317188734096382, 0.23533882725785585, 0.08939789202283607, -0.054008024570430656, -0.06706482353030603, -0.09981695577620227, 0.26644065050454635, 0.30034183769029504, 0.10234992808374574, -0.36642491326395127, 0.14895071381088293, 0.17993994473830519, -0.14137555811159802, -0.10862342586570178, -0.20470469895659082, -0.4892921929347096, -0.38427906455190086, 0.1183715572095381, 0.3503822725885112, 0.06079132574834998, -0.002226995178586856, 0.2587832353548993, 0.1668831457784298, -0.37948171222382665, 0.13589391485100755, 0.047734526788474604, 0.3808846962708822, -0.1544323570714734, 0.15952997733593438, 0.2457264363950239, -0.34782821798173136, -0.08403498203104105, -0.5007752896913786, 0.10531475824966272, -0.2177614979164662, -0.5023489918945849, 0.32039468067408433, -0.39733586351177624, -0.503329967858746, -0.015283794138462231, -0.4124887877498843, -0.3126600352097535, -0.18866758658684912, -0.03082657651855798, 0.2118252492092752, 0.2063890707615631, 0.020942210543410014, 0.6694480668748891, 0.07080187268754076, 0.13413101353253357, 0.5003886198132822, 0.6089580512780913, 0.6258888442326428, 0.4244572854550145, 0.27327957646554474, -0.6551373509100258, -0.4122338444697229, 0.577968820350669, 0.10314178260511131, 0.30530866646505933, 0.430535192346023, 0.36288889792624746, -0.09025407830514665, 0.2785163502199947, 0.5033005760716086, 0.6384588359474669, 0.19035696215746178, 0.08537976958301072, 0.014982394542578367, 0.4898094322881361, 0.27472950986371447, -0.04834674630241444, 0.381240000823327, 0.7794003791282973, 0.6150359581690997, 0.6016048828355959, 0.6539001547089367, 0.6878013418946853, 0.5473896637493242, 0.6708309476634882, 0.3749707164231719, -0.011809921702486223, 0.17907311696337896, 0.07256262600376648, 0.14020892042354202, -0.5360821001046422, -0.3805803502276276, 0.12677784509003814, -0.4300879957576725, -0.11678711427693729, 0.38834887176401106, 0.48759927292307464, 0.49303545137078675, 0.21060629546397436, 0.43882023228451505, 0.21171118893677765, 0.2793574833565532, -0.11136506722935127, 0.31822167989639016, 0.5398945447964154]}],                        {\"autosize\": false, \"height\": 500, \"hovermode\": \"closest\", \"margin\": {\"b\": 10, \"l\": 10, \"r\": 10, \"t\": 10}, \"plot_bgcolor\": \"rgba(0,0,0,0)\", \"showlegend\": false, \"template\": {\"data\": {\"bar\": [{\"error_x\": {\"color\": \"#2a3f5f\"}, \"error_y\": {\"color\": \"#2a3f5f\"}, \"marker\": {\"line\": {\"color\": \"#E5ECF6\", \"width\": 0.5}}, \"type\": \"bar\"}], \"barpolar\": [{\"marker\": {\"line\": {\"color\": \"#E5ECF6\", \"width\": 0.5}}, \"type\": \"barpolar\"}], \"carpet\": [{\"aaxis\": {\"endlinecolor\": \"#2a3f5f\", \"gridcolor\": \"white\", \"linecolor\": \"white\", \"minorgridcolor\": \"white\", \"startlinecolor\": \"#2a3f5f\"}, \"baxis\": {\"endlinecolor\": \"#2a3f5f\", \"gridcolor\": \"white\", \"linecolor\": \"white\", \"minorgridcolor\": \"white\", \"startlinecolor\": \"#2a3f5f\"}, \"type\": \"carpet\"}], \"choropleth\": [{\"colorbar\": {\"outlinewidth\": 0, \"ticks\": \"\"}, \"type\": \"choropleth\"}], \"contour\": [{\"colorbar\": {\"outlinewidth\": 0, \"ticks\": \"\"}, \"colorscale\": [[0.0, \"#0d0887\"], [0.1111111111111111, \"#46039f\"], [0.2222222222222222, \"#7201a8\"], [0.3333333333333333, \"#9c179e\"], [0.4444444444444444, \"#bd3786\"], [0.5555555555555556, \"#d8576b\"], [0.6666666666666666, \"#ed7953\"], [0.7777777777777778, \"#fb9f3a\"], [0.8888888888888888, \"#fdca26\"], [1.0, \"#f0f921\"]], \"type\": \"contour\"}], \"contourcarpet\": [{\"colorbar\": {\"outlinewidth\": 0, \"ticks\": \"\"}, \"type\": \"contourcarpet\"}], \"heatmap\": [{\"colorbar\": {\"outlinewidth\": 0, \"ticks\": \"\"}, \"colorscale\": [[0.0, \"#0d0887\"], [0.1111111111111111, \"#46039f\"], [0.2222222222222222, \"#7201a8\"], [0.3333333333333333, \"#9c179e\"], [0.4444444444444444, \"#bd3786\"], [0.5555555555555556, \"#d8576b\"], [0.6666666666666666, \"#ed7953\"], [0.7777777777777778, \"#fb9f3a\"], [0.8888888888888888, \"#fdca26\"], [1.0, \"#f0f921\"]], \"type\": \"heatmap\"}], \"heatmapgl\": [{\"colorbar\": {\"outlinewidth\": 0, \"ticks\": \"\"}, \"colorscale\": [[0.0, \"#0d0887\"], [0.1111111111111111, \"#46039f\"], [0.2222222222222222, \"#7201a8\"], [0.3333333333333333, \"#9c179e\"], [0.4444444444444444, \"#bd3786\"], [0.5555555555555556, \"#d8576b\"], [0.6666666666666666, \"#ed7953\"], [0.7777777777777778, \"#fb9f3a\"], [0.8888888888888888, \"#fdca26\"], [1.0, \"#f0f921\"]], \"type\": \"heatmapgl\"}], \"histogram\": [{\"marker\": {\"colorbar\": {\"outlinewidth\": 0, \"ticks\": \"\"}}, \"type\": \"histogram\"}], \"histogram2d\": [{\"colorbar\": {\"outlinewidth\": 0, \"ticks\": \"\"}, \"colorscale\": [[0.0, \"#0d0887\"], [0.1111111111111111, \"#46039f\"], [0.2222222222222222, \"#7201a8\"], [0.3333333333333333, \"#9c179e\"], [0.4444444444444444, \"#bd3786\"], [0.5555555555555556, \"#d8576b\"], [0.6666666666666666, \"#ed7953\"], [0.7777777777777778, \"#fb9f3a\"], [0.8888888888888888, \"#fdca26\"], [1.0, \"#f0f921\"]], \"type\": \"histogram2d\"}], \"histogram2dcontour\": [{\"colorbar\": {\"outlinewidth\": 0, \"ticks\": \"\"}, \"colorscale\": [[0.0, \"#0d0887\"], [0.1111111111111111, \"#46039f\"], [0.2222222222222222, \"#7201a8\"], [0.3333333333333333, \"#9c179e\"], [0.4444444444444444, \"#bd3786\"], [0.5555555555555556, \"#d8576b\"], [0.6666666666666666, \"#ed7953\"], [0.7777777777777778, \"#fb9f3a\"], [0.8888888888888888, \"#fdca26\"], [1.0, \"#f0f921\"]], \"type\": \"histogram2dcontour\"}], \"mesh3d\": [{\"colorbar\": {\"outlinewidth\": 0, \"ticks\": \"\"}, \"type\": \"mesh3d\"}], \"parcoords\": [{\"line\": {\"colorbar\": {\"outlinewidth\": 0, \"ticks\": \"\"}}, \"type\": \"parcoords\"}], \"pie\": [{\"automargin\": true, \"type\": \"pie\"}], \"scatter\": [{\"marker\": {\"colorbar\": {\"outlinewidth\": 0, \"ticks\": \"\"}}, \"type\": \"scatter\"}], \"scatter3d\": [{\"line\": {\"colorbar\": {\"outlinewidth\": 0, \"ticks\": \"\"}}, \"marker\": {\"colorbar\": {\"outlinewidth\": 0, \"ticks\": \"\"}}, \"type\": \"scatter3d\"}], \"scattercarpet\": [{\"marker\": {\"colorbar\": {\"outlinewidth\": 0, \"ticks\": \"\"}}, \"type\": \"scattercarpet\"}], \"scattergeo\": [{\"marker\": {\"colorbar\": {\"outlinewidth\": 0, \"ticks\": \"\"}}, \"type\": \"scattergeo\"}], \"scattergl\": [{\"marker\": {\"colorbar\": {\"outlinewidth\": 0, \"ticks\": \"\"}}, \"type\": \"scattergl\"}], \"scattermapbox\": [{\"marker\": {\"colorbar\": {\"outlinewidth\": 0, \"ticks\": \"\"}}, \"type\": \"scattermapbox\"}], \"scatterpolar\": [{\"marker\": {\"colorbar\": {\"outlinewidth\": 0, \"ticks\": \"\"}}, \"type\": \"scatterpolar\"}], \"scatterpolargl\": [{\"marker\": {\"colorbar\": {\"outlinewidth\": 0, \"ticks\": \"\"}}, \"type\": \"scatterpolargl\"}], \"scatterternary\": [{\"marker\": {\"colorbar\": {\"outlinewidth\": 0, \"ticks\": \"\"}}, \"type\": \"scatterternary\"}], \"surface\": [{\"colorbar\": {\"outlinewidth\": 0, \"ticks\": \"\"}, \"colorscale\": [[0.0, \"#0d0887\"], [0.1111111111111111, \"#46039f\"], [0.2222222222222222, \"#7201a8\"], [0.3333333333333333, \"#9c179e\"], [0.4444444444444444, \"#bd3786\"], [0.5555555555555556, \"#d8576b\"], [0.6666666666666666, \"#ed7953\"], [0.7777777777777778, \"#fb9f3a\"], [0.8888888888888888, \"#fdca26\"], [1.0, \"#f0f921\"]], \"type\": \"surface\"}], \"table\": [{\"cells\": {\"fill\": {\"color\": \"#EBF0F8\"}, \"line\": {\"color\": \"white\"}}, \"header\": {\"fill\": {\"color\": \"#C8D4E3\"}, \"line\": {\"color\": \"white\"}}, \"type\": \"table\"}]}, \"layout\": {\"annotationdefaults\": {\"arrowcolor\": \"#2a3f5f\", \"arrowhead\": 0, \"arrowwidth\": 1}, \"coloraxis\": {\"colorbar\": {\"outlinewidth\": 0, \"ticks\": \"\"}}, \"colorscale\": {\"diverging\": [[0, \"#8e0152\"], [0.1, \"#c51b7d\"], [0.2, \"#de77ae\"], [0.3, \"#f1b6da\"], [0.4, \"#fde0ef\"], [0.5, \"#f7f7f7\"], [0.6, \"#e6f5d0\"], [0.7, \"#b8e186\"], [0.8, \"#7fbc41\"], [0.9, \"#4d9221\"], [1, \"#276419\"]], \"sequential\": [[0.0, \"#0d0887\"], [0.1111111111111111, \"#46039f\"], [0.2222222222222222, \"#7201a8\"], [0.3333333333333333, \"#9c179e\"], [0.4444444444444444, \"#bd3786\"], [0.5555555555555556, \"#d8576b\"], [0.6666666666666666, \"#ed7953\"], [0.7777777777777778, \"#fb9f3a\"], [0.8888888888888888, \"#fdca26\"], [1.0, \"#f0f921\"]], \"sequentialminus\": [[0.0, \"#0d0887\"], [0.1111111111111111, \"#46039f\"], [0.2222222222222222, \"#7201a8\"], [0.3333333333333333, \"#9c179e\"], [0.4444444444444444, \"#bd3786\"], [0.5555555555555556, \"#d8576b\"], [0.6666666666666666, \"#ed7953\"], [0.7777777777777778, \"#fb9f3a\"], [0.8888888888888888, \"#fdca26\"], [1.0, \"#f0f921\"]]}, \"colorway\": [\"#636efa\", \"#EF553B\", \"#00cc96\", \"#ab63fa\", \"#FFA15A\", \"#19d3f3\", \"#FF6692\", \"#B6E880\", \"#FF97FF\", \"#FECB52\"], \"font\": {\"color\": \"#2a3f5f\"}, \"geo\": {\"bgcolor\": \"white\", \"lakecolor\": \"white\", \"landcolor\": \"#E5ECF6\", \"showlakes\": true, \"showland\": true, \"subunitcolor\": \"white\"}, \"hoverlabel\": {\"align\": \"left\"}, \"hovermode\": \"closest\", \"mapbox\": {\"style\": \"light\"}, \"paper_bgcolor\": \"white\", \"plot_bgcolor\": \"#E5ECF6\", \"polar\": {\"angularaxis\": {\"gridcolor\": \"white\", \"linecolor\": \"white\", \"ticks\": \"\"}, \"bgcolor\": \"#E5ECF6\", \"radialaxis\": {\"gridcolor\": \"white\", \"linecolor\": \"white\", \"ticks\": \"\"}}, \"scene\": {\"xaxis\": {\"backgroundcolor\": \"#E5ECF6\", \"gridcolor\": \"white\", \"gridwidth\": 2, \"linecolor\": \"white\", \"showbackground\": true, \"ticks\": \"\", \"zerolinecolor\": \"white\"}, \"yaxis\": {\"backgroundcolor\": \"#E5ECF6\", \"gridcolor\": \"white\", \"gridwidth\": 2, \"linecolor\": \"white\", \"showbackground\": true, \"ticks\": \"\", \"zerolinecolor\": \"white\"}, \"zaxis\": {\"backgroundcolor\": \"#E5ECF6\", \"gridcolor\": \"white\", \"gridwidth\": 2, \"linecolor\": \"white\", \"showbackground\": true, \"ticks\": \"\", \"zerolinecolor\": \"white\"}}, \"shapedefaults\": {\"line\": {\"color\": \"#2a3f5f\"}}, \"ternary\": {\"aaxis\": {\"gridcolor\": \"white\", \"linecolor\": \"white\", \"ticks\": \"\"}, \"baxis\": {\"gridcolor\": \"white\", \"linecolor\": \"white\", \"ticks\": \"\"}, \"bgcolor\": \"#E5ECF6\", \"caxis\": {\"gridcolor\": \"white\", \"linecolor\": \"white\", \"ticks\": \"\"}}, \"title\": {\"x\": 0.05}, \"xaxis\": {\"automargin\": true, \"gridcolor\": \"white\", \"linecolor\": \"white\", \"ticks\": \"\", \"title\": {\"standoff\": 15}, \"zerolinecolor\": \"white\", \"zerolinewidth\": 2}, \"yaxis\": {\"automargin\": true, \"gridcolor\": \"white\", \"linecolor\": \"white\", \"ticks\": \"\", \"title\": {\"standoff\": 15}, \"zerolinecolor\": \"white\", \"zerolinewidth\": 2}}}, \"title\": {\"font\": {\"size\": 16}}, \"width\": 500, \"xaxis\": {\"showgrid\": false, \"showticklabels\": false, \"zeroline\": false}, \"yaxis\": {\"showgrid\": false, \"showticklabels\": false, \"zeroline\": false}},                        {\"responsive\": true}                    ).then(function(){\n",
       "                            \n",
       "var gd = document.getElementById('5008c804-0b36-4f02-9ceb-30a00e6253ac');\n",
       "var x = new MutationObserver(function (mutations, observer) {{\n",
       "        var display = window.getComputedStyle(gd).display;\n",
       "        if (!display || display === 'none') {{\n",
       "            console.log([gd, 'removed!']);\n",
       "            Plotly.purge(gd);\n",
       "            observer.disconnect();\n",
       "        }}\n",
       "}});\n",
       "\n",
       "// Listen for the removal of the full notebook cells\n",
       "var notebookContainer = gd.closest('#notebook-container');\n",
       "if (notebookContainer) {{\n",
       "    x.observe(notebookContainer, {childList: true});\n",
       "}}\n",
       "\n",
       "// Listen for the clearing of the current output cell\n",
       "var outputEl = gd.closest('.output');\n",
       "if (outputEl) {{\n",
       "    x.observe(outputEl, {childList: true});\n",
       "}}\n",
       "\n",
       "                        })                };                });            </script>        </div>"
      ]
     },
     "metadata": {},
     "output_type": "display_data"
    }
   ],
   "source": [
    "fig = textnet.draw_2d_network(ego_network)\n",
    "fig.show()"
   ]
  },
  {
   "cell_type": "code",
   "execution_count": 139,
   "metadata": {},
   "outputs": [
    {
     "data": {
      "application/vnd.plotly.v1+json": {
       "config": {
        "plotlyServerURL": "https://plot.ly"
       },
       "data": [
        {
         "hoverinfo": "text",
         "line": {
          "color": "rgb(125,125,125)",
          "width": 1
         },
         "mode": "lines",
         "text": [
          "0.01176",
          "0.08333",
          "0.1",
          "0.2",
          "0.2",
          "0.2",
          "0.2",
          "0.2",
          "0.25",
          "0.33333",
          "0.5",
          "0.5",
          "0.5",
          "0.5",
          "0.5",
          "0.5",
          "0.02128",
          "0.2",
          "0.33333",
          "0.5",
          "0.5",
          "0.5",
          "0.09091",
          "0.125",
          "0.125",
          "0.2",
          "0.25",
          "0.25",
          "0.33333",
          "0.33333",
          "0.33333",
          "0.33333",
          "0.33333",
          "0.5",
          "0.5",
          "0.05263",
          "0.05263",
          "0.05882",
          "0.06667",
          "0.07692",
          "0.09091",
          "0.1",
          "0.1",
          "0.11111",
          "0.11111",
          "0.11111",
          "0.11111",
          "0.125",
          "0.125",
          "0.125",
          "0.125",
          "0.125",
          "0.125",
          "0.14286",
          "0.14286",
          "0.14286",
          "0.16667",
          "0.2",
          "0.33333",
          "0.5",
          "0.33333",
          "0.5",
          "0.14286",
          "0.2",
          "0.33333",
          "0.5",
          "0.5",
          "0.5",
          "0.5",
          "0.5",
          "0.08333",
          "0.11111",
          "0.14286",
          "0.2",
          "0.25",
          "0.25",
          "0.25",
          "0.5",
          "0.5",
          "0.5",
          "0.09091",
          "0.16667",
          "0.25",
          "0.5",
          "0.5",
          "0.5",
          "0.5",
          "0.09091",
          "0.11111",
          "0.14286",
          "0.14286",
          "0.33333",
          "0.5",
          "0.08333",
          "0.16667",
          "0.2",
          "0.2",
          "0.33333",
          "0.33333",
          "0.33333",
          "0.5",
          "0.5",
          "0.5",
          "0.5",
          "0.5",
          "0.5",
          "0.5",
          "0.33333",
          "0.16667",
          "0.16667",
          "0.33333",
          "0.5",
          "0.5",
          "0.5",
          "0.5",
          "0.33333",
          "0.5"
         ],
         "textposition": "top right",
         "type": "scatter3d",
         "x": [
          -0.2677584629166749,
          -0.44565833434843377,
          null,
          -0.2677584629166749,
          -0.003912496973048578,
          null,
          -0.2677584629166749,
          0.09592210673286349,
          null,
          -0.2677584629166749,
          -0.3946982614909463,
          null,
          -0.2677584629166749,
          -0.4536623762835481,
          null,
          -0.2677584629166749,
          -0.03942848691671196,
          null,
          -0.2677584629166749,
          -0.1821306037120798,
          null,
          -0.2677584629166749,
          0.1649887413050599,
          null,
          -0.2677584629166749,
          0.016436147106722858,
          null,
          -0.2677584629166749,
          -0.6699737035510778,
          null,
          -0.2677584629166749,
          0.16161555294148425,
          null,
          -0.2677584629166749,
          0.4451441843315508,
          null,
          -0.2677584629166749,
          -0.39892499053160857,
          null,
          -0.2677584629166749,
          -0.14670558692733707,
          null,
          -0.2677584629166749,
          -0.08765060544876978,
          null,
          -0.2677584629166749,
          -0.05893471862614757,
          null,
          -0.44565833434843377,
          -0.3946982614909463,
          null,
          -0.44565833434843377,
          -0.003912496973048578,
          null,
          -0.44565833434843377,
          0.016436147106722858,
          null,
          -0.44565833434843377,
          0.1649887413050599,
          null,
          -0.44565833434843377,
          -0.3590372843306879,
          null,
          -0.44565833434843377,
          -0.03942848691671196,
          null,
          -0.3946982614909463,
          -0.39892499053160857,
          null,
          -0.3946982614909463,
          0.09592210673286349,
          null,
          -0.3946982614909463,
          -0.08765060544876978,
          null,
          -0.3946982614909463,
          0.016436147106722858,
          null,
          -0.3946982614909463,
          -0.003912496973048578,
          null,
          -0.3946982614909463,
          -0.4536623762835481,
          null,
          -0.3946982614909463,
          -0.6307465350165958,
          null,
          -0.3946982614909463,
          -0.6699737035510778,
          null,
          -0.3946982614909463,
          -0.1821306037120798,
          null,
          -0.3946982614909463,
          -0.015532833924918986,
          null,
          -0.3946982614909463,
          -0.03942848691671196,
          null,
          -0.3946982614909463,
          -0.14670558692733707,
          null,
          -0.3946982614909463,
          -0.3590372843306879,
          null,
          -0.003912496973048578,
          -0.39892499053160857,
          null,
          -0.003912496973048578,
          -0.08765060544876978,
          null,
          -0.003912496973048578,
          0.09592210673286349,
          null,
          -0.003912496973048578,
          -0.03942848691671196,
          null,
          -0.003912496973048578,
          0.0745629203621761,
          null,
          -0.003912496973048578,
          0.016436147106722858,
          null,
          -0.003912496973048578,
          0.4451441843315508,
          null,
          -0.003912496973048578,
          -0.3590372843306879,
          null,
          -0.003912496973048578,
          0.5457097460383289,
          null,
          -0.003912496973048578,
          0.47335317869033955,
          null,
          -0.003912496973048578,
          -0.1821306037120798,
          null,
          -0.003912496973048578,
          -0.4536623762835481,
          null,
          -0.003912496973048578,
          0.435040437690887,
          null,
          -0.003912496973048578,
          -0.6307465350165958,
          null,
          -0.003912496973048578,
          0.18852285143759978,
          null,
          -0.003912496973048578,
          0.16161555294148425,
          null,
          -0.003912496973048578,
          -0.6699737035510778,
          null,
          -0.003912496973048578,
          -0.02246118851796491,
          null,
          -0.003912496973048578,
          -0.14670558692733707,
          null,
          -0.003912496973048578,
          0.06595812815288214,
          null,
          -0.003912496973048578,
          -0.1500063382471439,
          null,
          -0.003912496973048578,
          0.45820678294853123,
          null,
          -0.003912496973048578,
          0.1649887413050599,
          null,
          -0.003912496973048578,
          0.7604189956124113,
          null,
          -0.003912496973048578,
          -0.05893471862614757,
          null,
          -0.39892499053160857,
          -0.6699737035510778,
          null,
          -0.39892499053160857,
          0.016436147106722858,
          null,
          -0.08765060544876978,
          0.0745629203621761,
          null,
          -0.08765060544876978,
          -0.4536623762835481,
          null,
          -0.08765060544876978,
          0.016436147106722858,
          null,
          -0.08765060544876978,
          0.1649887413050599,
          null,
          -0.08765060544876978,
          0.16161555294148425,
          null,
          -0.08765060544876978,
          -0.015532833924918986,
          null,
          -0.08765060544876978,
          0.09592210673286349,
          null,
          -0.08765060544876978,
          -0.14670558692733707,
          null,
          0.09592210673286349,
          0.16161555294148425,
          null,
          0.09592210673286349,
          0.016436147106722858,
          null,
          0.09592210673286349,
          -0.03942848691671196,
          null,
          0.09592210673286349,
          0.4413430344128638,
          null,
          0.09592210673286349,
          -0.1821306037120798,
          null,
          0.09592210673286349,
          0.5457097460383289,
          null,
          0.09592210673286349,
          -0.05893471862614757,
          null,
          0.09592210673286349,
          0.18852285143759978,
          null,
          0.09592210673286349,
          -0.3590372843306879,
          null,
          0.09592210673286349,
          0.0745629203621761,
          null,
          -0.03942848691671196,
          -0.05893471862614757,
          null,
          -0.03942848691671196,
          0.435040437690887,
          null,
          -0.03942848691671196,
          0.016436147106722858,
          null,
          -0.03942848691671196,
          0.16161555294148425,
          null,
          -0.03942848691671196,
          -0.1821306037120798,
          null,
          -0.03942848691671196,
          -0.4536623762835481,
          null,
          -0.03942848691671196,
          0.1649887413050599,
          null,
          0.16161555294148425,
          -0.015532833924918986,
          null,
          0.16161555294148425,
          0.4413430344128638,
          null,
          0.16161555294148425,
          0.4451441843315508,
          null,
          0.16161555294148425,
          0.1649887413050599,
          null,
          0.16161555294148425,
          -0.3590372843306879,
          null,
          0.16161555294148425,
          -0.1821306037120798,
          null,
          0.016436147106722858,
          0.18852285143759978,
          null,
          0.016436147106722858,
          -0.05893471862614757,
          null,
          0.016436147106722858,
          0.1649887413050599,
          null,
          0.016436147106722858,
          -0.1821306037120798,
          null,
          0.016436147106722858,
          0.4413430344128638,
          null,
          0.016436147106722858,
          -0.02246118851796491,
          null,
          0.016436147106722858,
          0.5457097460383289,
          null,
          0.016436147106722858,
          0.4451441843315508,
          null,
          0.016436147106722858,
          -0.6699737035510778,
          null,
          0.016436147106722858,
          0.435040437690887,
          null,
          0.18852285143759978,
          -0.015532833924918986,
          null,
          0.18852285143759978,
          0.1649887413050599,
          null,
          0.18852285143759978,
          0.435040437690887,
          null,
          -0.015532833924918986,
          0.435040437690887,
          null,
          -0.05893471862614757,
          -0.3590372843306879,
          null,
          0.4451441843315508,
          0.7604189956124113,
          null,
          0.4451441843315508,
          0.1649887413050599,
          null,
          -0.1821306037120798,
          0.1649887413050599,
          null,
          -0.1821306037120798,
          -0.14670558692733707,
          null,
          0.4413430344128638,
          -0.14670558692733707,
          null,
          0.4413430344128638,
          0.435040437690887,
          null,
          -0.4536623762835481,
          -0.14670558692733707,
          null,
          -0.14670558692733707,
          0.1649887413050599,
          null,
          0.1649887413050599,
          0.7604189956124113,
          null
         ],
         "y": [
          0.20296416365558823,
          0.24810415712015865,
          null,
          0.20296416365558823,
          -0.14140067341794998,
          null,
          0.20296416365558823,
          0.19806656980363804,
          null,
          0.20296416365558823,
          0.07038296142921815,
          null,
          0.20296416365558823,
          -0.11195600471342428,
          null,
          0.20296416365558823,
          0.11821345754261643,
          null,
          0.20296416365558823,
          0.43269998339182153,
          null,
          0.20296416365558823,
          0.33589169952521947,
          null,
          0.20296416365558823,
          0.21730245423584355,
          null,
          0.20296416365558823,
          -0.14779534802127609,
          null,
          0.20296416365558823,
          0.4968876576440963,
          null,
          0.20296416365558823,
          0.15504976745230187,
          null,
          0.20296416365558823,
          -0.29847085526277384,
          null,
          0.20296416365558823,
          0.2874469888801676,
          null,
          0.20296416365558823,
          -0.012010769341828082,
          null,
          0.20296416365558823,
          0.25851281710276125,
          null,
          0.24810415712015865,
          0.07038296142921815,
          null,
          0.24810415712015865,
          -0.14140067341794998,
          null,
          0.24810415712015865,
          0.21730245423584355,
          null,
          0.24810415712015865,
          0.33589169952521947,
          null,
          0.24810415712015865,
          0.20658218635120118,
          null,
          0.24810415712015865,
          0.11821345754261643,
          null,
          0.07038296142921815,
          -0.29847085526277384,
          null,
          0.07038296142921815,
          0.19806656980363804,
          null,
          0.07038296142921815,
          -0.012010769341828082,
          null,
          0.07038296142921815,
          0.21730245423584355,
          null,
          0.07038296142921815,
          -0.14140067341794998,
          null,
          0.07038296142921815,
          -0.11195600471342428,
          null,
          0.07038296142921815,
          -0.6082671715286986,
          null,
          0.07038296142921815,
          -0.14779534802127609,
          null,
          0.07038296142921815,
          0.43269998339182153,
          null,
          0.07038296142921815,
          0.8834837573108618,
          null,
          0.07038296142921815,
          0.11821345754261643,
          null,
          0.07038296142921815,
          0.2874469888801676,
          null,
          0.07038296142921815,
          0.20658218635120118,
          null,
          -0.14140067341794998,
          -0.29847085526277384,
          null,
          -0.14140067341794998,
          -0.012010769341828082,
          null,
          -0.14140067341794998,
          0.19806656980363804,
          null,
          -0.14140067341794998,
          0.11821345754261643,
          null,
          -0.14140067341794998,
          -0.3896917898423026,
          null,
          -0.14140067341794998,
          0.21730245423584355,
          null,
          -0.14140067341794998,
          0.15504976745230187,
          null,
          -0.14140067341794998,
          0.20658218635120118,
          null,
          -0.14140067341794998,
          -0.19299940257430745,
          null,
          -0.14140067341794998,
          -0.7260993854066279,
          null,
          -0.14140067341794998,
          0.43269998339182153,
          null,
          -0.14140067341794998,
          -0.11195600471342428,
          null,
          -0.14140067341794998,
          0.33483935276781635,
          null,
          -0.14140067341794998,
          -0.6082671715286986,
          null,
          -0.14140067341794998,
          0.4987622440008348,
          null,
          -0.14140067341794998,
          0.4968876576440963,
          null,
          -0.14140067341794998,
          -0.14779534802127609,
          null,
          -0.14140067341794998,
          -0.40751188186759935,
          null,
          -0.14140067341794998,
          0.2874469888801676,
          null,
          -0.14140067341794998,
          -1,
          null,
          -0.14140067341794998,
          -0.9535257028395937,
          null,
          -0.14140067341794998,
          -0.8200697404783419,
          null,
          -0.14140067341794998,
          0.33589169952521947,
          null,
          -0.14140067341794998,
          0.08422361871267255,
          null,
          -0.14140067341794998,
          0.25851281710276125,
          null,
          -0.29847085526277384,
          -0.14779534802127609,
          null,
          -0.29847085526277384,
          0.21730245423584355,
          null,
          -0.012010769341828082,
          -0.3896917898423026,
          null,
          -0.012010769341828082,
          -0.11195600471342428,
          null,
          -0.012010769341828082,
          0.21730245423584355,
          null,
          -0.012010769341828082,
          0.33589169952521947,
          null,
          -0.012010769341828082,
          0.4968876576440963,
          null,
          -0.012010769341828082,
          0.8834837573108618,
          null,
          -0.012010769341828082,
          0.19806656980363804,
          null,
          -0.012010769341828082,
          0.2874469888801676,
          null,
          0.19806656980363804,
          0.4968876576440963,
          null,
          0.19806656980363804,
          0.21730245423584355,
          null,
          0.19806656980363804,
          0.11821345754261643,
          null,
          0.19806656980363804,
          0.7803848883678983,
          null,
          0.19806656980363804,
          0.43269998339182153,
          null,
          0.19806656980363804,
          -0.19299940257430745,
          null,
          0.19806656980363804,
          0.25851281710276125,
          null,
          0.19806656980363804,
          0.4987622440008348,
          null,
          0.19806656980363804,
          0.20658218635120118,
          null,
          0.19806656980363804,
          -0.3896917898423026,
          null,
          0.11821345754261643,
          0.25851281710276125,
          null,
          0.11821345754261643,
          0.33483935276781635,
          null,
          0.11821345754261643,
          0.21730245423584355,
          null,
          0.11821345754261643,
          0.4968876576440963,
          null,
          0.11821345754261643,
          0.43269998339182153,
          null,
          0.11821345754261643,
          -0.11195600471342428,
          null,
          0.11821345754261643,
          0.33589169952521947,
          null,
          0.4968876576440963,
          0.8834837573108618,
          null,
          0.4968876576440963,
          0.7803848883678983,
          null,
          0.4968876576440963,
          0.15504976745230187,
          null,
          0.4968876576440963,
          0.33589169952521947,
          null,
          0.4968876576440963,
          0.20658218635120118,
          null,
          0.4968876576440963,
          0.43269998339182153,
          null,
          0.21730245423584355,
          0.4987622440008348,
          null,
          0.21730245423584355,
          0.25851281710276125,
          null,
          0.21730245423584355,
          0.33589169952521947,
          null,
          0.21730245423584355,
          0.43269998339182153,
          null,
          0.21730245423584355,
          0.7803848883678983,
          null,
          0.21730245423584355,
          -0.40751188186759935,
          null,
          0.21730245423584355,
          -0.19299940257430745,
          null,
          0.21730245423584355,
          0.15504976745230187,
          null,
          0.21730245423584355,
          -0.14779534802127609,
          null,
          0.21730245423584355,
          0.33483935276781635,
          null,
          0.4987622440008348,
          0.8834837573108618,
          null,
          0.4987622440008348,
          0.33589169952521947,
          null,
          0.4987622440008348,
          0.33483935276781635,
          null,
          0.8834837573108618,
          0.33483935276781635,
          null,
          0.25851281710276125,
          0.20658218635120118,
          null,
          0.15504976745230187,
          0.08422361871267255,
          null,
          0.15504976745230187,
          0.33589169952521947,
          null,
          0.43269998339182153,
          0.33589169952521947,
          null,
          0.43269998339182153,
          0.2874469888801676,
          null,
          0.7803848883678983,
          0.2874469888801676,
          null,
          0.7803848883678983,
          0.33483935276781635,
          null,
          -0.11195600471342428,
          0.2874469888801676,
          null,
          0.2874469888801676,
          0.33589169952521947,
          null,
          0.33589169952521947,
          0.08422361871267255,
          null
         ],
         "z": [
          -0.06277585432682946,
          -0.032072220462548116,
          null,
          -0.06277585432682946,
          -0.0030886047895668754,
          null,
          -0.06277585432682946,
          0.028409671125473126,
          null,
          -0.06277585432682946,
          -0.034638672308003556,
          null,
          -0.06277585432682946,
          -0.40971699395735395,
          null,
          -0.06277585432682946,
          0.29133012227255317,
          null,
          -0.06277585432682946,
          -0.20359203548420482,
          null,
          -0.06277585432682946,
          -0.3104556883365003,
          null,
          -0.06277585432682946,
          0.1767298395768335,
          null,
          -0.06277585432682946,
          0.2396263921038683,
          null,
          -0.06277585432682946,
          -0.07129923090732523,
          null,
          -0.06277585432682946,
          -0.35779001253054954,
          null,
          -0.06277585432682946,
          0.10627570336924391,
          null,
          -0.06277585432682946,
          -0.6052110126449168,
          null,
          -0.06277585432682946,
          -0.3287724289043777,
          null,
          -0.06277585432682946,
          0.6517795547583268,
          null,
          -0.032072220462548116,
          -0.034638672308003556,
          null,
          -0.032072220462548116,
          -0.0030886047895668754,
          null,
          -0.032072220462548116,
          0.1767298395768335,
          null,
          -0.032072220462548116,
          -0.3104556883365003,
          null,
          -0.032072220462548116,
          0.4392974803557415,
          null,
          -0.032072220462548116,
          0.29133012227255317,
          null,
          -0.034638672308003556,
          0.10627570336924391,
          null,
          -0.034638672308003556,
          0.028409671125473126,
          null,
          -0.034638672308003556,
          -0.3287724289043777,
          null,
          -0.034638672308003556,
          0.1767298395768335,
          null,
          -0.034638672308003556,
          -0.0030886047895668754,
          null,
          -0.034638672308003556,
          -0.40971699395735395,
          null,
          -0.034638672308003556,
          -0.05734326942387673,
          null,
          -0.034638672308003556,
          0.2396263921038683,
          null,
          -0.034638672308003556,
          -0.20359203548420482,
          null,
          -0.034638672308003556,
          0.023391123027832982,
          null,
          -0.034638672308003556,
          0.29133012227255317,
          null,
          -0.034638672308003556,
          -0.6052110126449168,
          null,
          -0.034638672308003556,
          0.4392974803557415,
          null,
          -0.0030886047895668754,
          0.10627570336924391,
          null,
          -0.0030886047895668754,
          -0.3287724289043777,
          null,
          -0.0030886047895668754,
          0.028409671125473126,
          null,
          -0.0030886047895668754,
          0.29133012227255317,
          null,
          -0.0030886047895668754,
          -0.4533437391612441,
          null,
          -0.0030886047895668754,
          0.1767298395768335,
          null,
          -0.0030886047895668754,
          -0.35779001253054954,
          null,
          -0.0030886047895668754,
          0.4392974803557415,
          null,
          -0.0030886047895668754,
          0.2657036435191669,
          null,
          -0.0030886047895668754,
          -0.20285623998476546,
          null,
          -0.0030886047895668754,
          -0.20359203548420482,
          null,
          -0.0030886047895668754,
          -0.40971699395735395,
          null,
          -0.0030886047895668754,
          0.3935403225152072,
          null,
          -0.0030886047895668754,
          -0.05734326942387673,
          null,
          -0.0030886047895668754,
          0.3446286468837544,
          null,
          -0.0030886047895668754,
          -0.07129923090732523,
          null,
          -0.0030886047895668754,
          0.2396263921038683,
          null,
          -0.0030886047895668754,
          0.6731860489351859,
          null,
          -0.0030886047895668754,
          -0.6052110126449168,
          null,
          -0.0030886047895668754,
          0.17024597634356756,
          null,
          -0.0030886047895668754,
          -0.3307554230735124,
          null,
          -0.0030886047895668754,
          0.4862507424170845,
          null,
          -0.0030886047895668754,
          -0.3104556883365003,
          null,
          -0.0030886047895668754,
          -0.7232805104673122,
          null,
          -0.0030886047895668754,
          0.6517795547583268,
          null,
          0.10627570336924391,
          0.2396263921038683,
          null,
          0.10627570336924391,
          0.1767298395768335,
          null,
          -0.3287724289043777,
          -0.4533437391612441,
          null,
          -0.3287724289043777,
          -0.40971699395735395,
          null,
          -0.3287724289043777,
          0.1767298395768335,
          null,
          -0.3287724289043777,
          -0.3104556883365003,
          null,
          -0.3287724289043777,
          -0.07129923090732523,
          null,
          -0.3287724289043777,
          0.023391123027832982,
          null,
          -0.3287724289043777,
          0.028409671125473126,
          null,
          -0.3287724289043777,
          -0.6052110126449168,
          null,
          0.028409671125473126,
          -0.07129923090732523,
          null,
          0.028409671125473126,
          0.1767298395768335,
          null,
          0.028409671125473126,
          0.29133012227255317,
          null,
          0.028409671125473126,
          -0.10340333044094031,
          null,
          0.028409671125473126,
          -0.20359203548420482,
          null,
          0.028409671125473126,
          0.2657036435191669,
          null,
          0.028409671125473126,
          0.6517795547583268,
          null,
          0.028409671125473126,
          0.3446286468837544,
          null,
          0.028409671125473126,
          0.4392974803557415,
          null,
          0.028409671125473126,
          -0.4533437391612441,
          null,
          0.29133012227255317,
          0.6517795547583268,
          null,
          0.29133012227255317,
          0.3935403225152072,
          null,
          0.29133012227255317,
          0.1767298395768335,
          null,
          0.29133012227255317,
          -0.07129923090732523,
          null,
          0.29133012227255317,
          -0.20359203548420482,
          null,
          0.29133012227255317,
          -0.40971699395735395,
          null,
          0.29133012227255317,
          -0.3104556883365003,
          null,
          -0.07129923090732523,
          0.023391123027832982,
          null,
          -0.07129923090732523,
          -0.10340333044094031,
          null,
          -0.07129923090732523,
          -0.35779001253054954,
          null,
          -0.07129923090732523,
          -0.3104556883365003,
          null,
          -0.07129923090732523,
          0.4392974803557415,
          null,
          -0.07129923090732523,
          -0.20359203548420482,
          null,
          0.1767298395768335,
          0.3446286468837544,
          null,
          0.1767298395768335,
          0.6517795547583268,
          null,
          0.1767298395768335,
          -0.3104556883365003,
          null,
          0.1767298395768335,
          -0.20359203548420482,
          null,
          0.1767298395768335,
          -0.10340333044094031,
          null,
          0.1767298395768335,
          0.6731860489351859,
          null,
          0.1767298395768335,
          0.2657036435191669,
          null,
          0.1767298395768335,
          -0.35779001253054954,
          null,
          0.1767298395768335,
          0.2396263921038683,
          null,
          0.1767298395768335,
          0.3935403225152072,
          null,
          0.3446286468837544,
          0.023391123027832982,
          null,
          0.3446286468837544,
          -0.3104556883365003,
          null,
          0.3446286468837544,
          0.3935403225152072,
          null,
          0.023391123027832982,
          0.3935403225152072,
          null,
          0.6517795547583268,
          0.4392974803557415,
          null,
          -0.35779001253054954,
          -0.7232805104673122,
          null,
          -0.35779001253054954,
          -0.3104556883365003,
          null,
          -0.20359203548420482,
          -0.3104556883365003,
          null,
          -0.20359203548420482,
          -0.6052110126449168,
          null,
          -0.10340333044094031,
          -0.6052110126449168,
          null,
          -0.10340333044094031,
          0.3935403225152072,
          null,
          -0.40971699395735395,
          -0.6052110126449168,
          null,
          -0.6052110126449168,
          -0.3104556883365003,
          null,
          -0.3104556883365003,
          -0.7232805104673122,
          null
         ]
        },
        {
         "marker": {
          "color": [
           109,
           41,
           86,
           180,
           14,
           56,
           61,
           48,
           6,
           46,
           71,
           25,
           13,
           10,
           27,
           4,
           4,
           6,
           19,
           24,
           15,
           7,
           10,
           4,
           8,
           15,
           16,
           8,
           5,
           10,
           9
          ],
          "colorscale": [
           [
            0,
            "rgb(161, 105, 40)"
           ],
           [
            0.16666666666666666,
            "rgb(189, 146, 90)"
           ],
           [
            0.3333333333333333,
            "rgb(214, 189, 141)"
           ],
           [
            0.5,
            "rgb(237, 234, 194)"
           ],
           [
            0.6666666666666666,
            "rgb(181, 200, 184)"
           ],
           [
            0.8333333333333334,
            "rgb(121, 167, 172)"
           ],
           [
            1,
            "rgb(40, 135, 161)"
           ]
          ],
          "line": {
           "color": "rgb(50,50,50)",
           "width": 0.5
          },
          "reversescale": true,
          "size": 6,
          "symbol": "circle"
         },
         "mode": "markers+text",
         "text": [
          "Χριστός",
          "Ἰησοῦς",
          "κύριος",
          "θεός",
          "πατήρ",
          "χάρις",
          "εἰμί",
          "πνεῦμα",
          "εἰρήνη",
          "νόμος",
          "πᾶς",
          "ἄλλʼ",
          "ἔργον",
          "ἅγιος",
          "δικαιοσύνη",
          "οἶδα",
          "υἱός",
          "θέλημα",
          "ἔχω",
          "ἁμαρτία",
          "δίδωμι",
          "δύναμις",
          "εὐχαριστέω",
          "δόξα",
          "ἐκκλησία",
          "γιγνώσκω",
          "πίστις",
          "βασιλεία",
          "σοφία",
          "εὐαγγέλιον",
          "λογίζομαι"
         ],
         "type": "scatter3d",
         "x": [
          -0.2677584629166749,
          -0.44565833434843377,
          -0.3946982614909463,
          -0.003912496973048578,
          -0.39892499053160857,
          -0.08765060544876978,
          0.09592210673286349,
          -0.03942848691671196,
          0.0745629203621761,
          0.16161555294148425,
          0.016436147106722858,
          0.18852285143759978,
          -0.015532833924918986,
          -0.05893471862614757,
          0.4451441843315508,
          -0.3590372843306879,
          0.5457097460383289,
          0.47335317869033955,
          -0.1821306037120798,
          0.4413430344128638,
          -0.4536623762835481,
          0.435040437690887,
          -0.6307465350165958,
          -0.6699737035510778,
          -0.02246118851796491,
          -0.14670558692733707,
          0.1649887413050599,
          0.06595812815288214,
          -0.1500063382471439,
          0.45820678294853123,
          0.7604189956124113
         ],
         "y": [
          0.20296416365558823,
          0.24810415712015865,
          0.07038296142921815,
          -0.14140067341794998,
          -0.29847085526277384,
          -0.012010769341828082,
          0.19806656980363804,
          0.11821345754261643,
          -0.3896917898423026,
          0.4968876576440963,
          0.21730245423584355,
          0.4987622440008348,
          0.8834837573108618,
          0.25851281710276125,
          0.15504976745230187,
          0.20658218635120118,
          -0.19299940257430745,
          -0.7260993854066279,
          0.43269998339182153,
          0.7803848883678983,
          -0.11195600471342428,
          0.33483935276781635,
          -0.6082671715286986,
          -0.14779534802127609,
          -0.40751188186759935,
          0.2874469888801676,
          0.33589169952521947,
          -1,
          -0.9535257028395937,
          -0.8200697404783419,
          0.08422361871267255
         ],
         "z": [
          -0.06277585432682946,
          -0.032072220462548116,
          -0.034638672308003556,
          -0.0030886047895668754,
          0.10627570336924391,
          -0.3287724289043777,
          0.028409671125473126,
          0.29133012227255317,
          -0.4533437391612441,
          -0.07129923090732523,
          0.1767298395768335,
          0.3446286468837544,
          0.023391123027832982,
          0.6517795547583268,
          -0.35779001253054954,
          0.4392974803557415,
          0.2657036435191669,
          -0.20285623998476546,
          -0.20359203548420482,
          -0.10340333044094031,
          -0.40971699395735395,
          0.3935403225152072,
          -0.05734326942387673,
          0.2396263921038683,
          0.6731860489351859,
          -0.6052110126449168,
          -0.3104556883365003,
          0.17024597634356756,
          -0.3307554230735124,
          0.4862507424170845,
          -0.7232805104673122
         ]
        },
        {
         "hoverinfo": "text",
         "marker": {
          "opacity": 0
         },
         "mode": "markers",
         "opacity": 0,
         "text": [
          "85",
          "12",
          "10",
          "5",
          "5",
          "5",
          "5",
          "5",
          "4",
          "3",
          "2",
          "2",
          "2",
          "2",
          "2",
          "2",
          "47",
          "5",
          "3",
          "2",
          "2",
          "2",
          "11",
          "8",
          "8",
          "5",
          "4",
          "4",
          "3",
          "3",
          "3",
          "3",
          "3",
          "2",
          "2",
          "19",
          "19",
          "17",
          "15",
          "13",
          "11",
          "10",
          "10",
          "9",
          "9",
          "9",
          "9",
          "8",
          "8",
          "8",
          "8",
          "8",
          "8",
          "7",
          "7",
          "7",
          "6",
          "5",
          "3",
          "2",
          "3",
          "2",
          "7",
          "5",
          "3",
          "2",
          "2",
          "2",
          "2",
          "2",
          "12",
          "9",
          "7",
          "5",
          "4",
          "4",
          "4",
          "2",
          "2",
          "2",
          "11",
          "6",
          "4",
          "2",
          "2",
          "2",
          "2",
          "11",
          "9",
          "7",
          "7",
          "3",
          "2",
          "12",
          "6",
          "5",
          "5",
          "3",
          "3",
          "3",
          "2",
          "2",
          "2",
          "2",
          "2",
          "2",
          "2",
          "3",
          "6",
          "6",
          "3",
          "2",
          "2",
          "2",
          "2",
          "3",
          "2"
         ],
         "type": "scatter3d",
         "x": [
          -0.3567083986325543,
          -0.13583547994486173,
          -0.08591817809190569,
          -0.3312283622038106,
          -0.3607104196001115,
          -0.15359347491669342,
          -0.22494453331437736,
          -0.051384860805807495,
          -0.125661157904976,
          -0.46886608323387635,
          -0.053071454987595315,
          0.08869286070743795,
          -0.33334172672414175,
          -0.207232024922006,
          -0.17770453418272233,
          -0.16334659077141123,
          -0.42017829791969,
          -0.22478541566074117,
          -0.21461109362085545,
          -0.14033479652168696,
          -0.4023478093395608,
          -0.24254341063257287,
          -0.3968116260112774,
          -0.1493880773790414,
          -0.24117443346985803,
          -0.1891310571921117,
          -0.19930537923199743,
          -0.42418031888724717,
          -0.5127223982537711,
          -0.532335982521012,
          -0.28841443260151306,
          -0.20511554770793264,
          -0.21706337420382912,
          -0.2707019242091417,
          -0.3768677729108171,
          -0.20141874375232857,
          -0.045781551210909176,
          0.046004804879907456,
          -0.02167049194488027,
          0.03532521169456376,
          0.00626182506683714,
          0.2206158436792511,
          -0.18147489065186823,
          0.27089862453264013,
          0.2347203408586455,
          -0.0930215503425642,
          -0.22878743662829834,
          0.21556397035891922,
          -0.31732951599482223,
          0.0923051772322756,
          0.07885152798421784,
          -0.3369431002620632,
          -0.013186842745506744,
          -0.07530904195019282,
          0.03102281558991678,
          -0.07695941761009624,
          0.22714714298774133,
          0.08053812216600566,
          0.37825324931968135,
          -0.031423607799598074,
          -0.5344493470413432,
          -0.19124442171244285,
          -0.006543842543296839,
          -0.27065649086615895,
          -0.03560722917102346,
          0.038669067928145055,
          0.036982473746357235,
          -0.05159171968684438,
          0.004135750642046854,
          -0.11717809618805342,
          0.12876882983717386,
          0.05617912691979317,
          0.02824680990807576,
          0.26863257057286366,
          -0.043104248489608164,
          0.3208159263855962,
          0.01849369405335796,
          0.14222247908523164,
          -0.1315575887989122,
          0.0852425135475198,
          -0.049181602771429765,
          0.19780597538708752,
          -0.011496169904994552,
          0.06109353301238614,
          -0.11077954531439589,
          -0.24654543160013004,
          0.06278012719417396,
          0.07304135950828262,
          0.301479293677174,
          0.3033798686365175,
          0.16330214712327207,
          -0.09871086569460182,
          -0.010257525385297783,
          0.10247949927216132,
          -0.021249285759712355,
          0.09071244420589138,
          -0.08284722830267847,
          0.22888959075979334,
          -0.0030125207056210263,
          0.28107294657252585,
          0.23079016571913682,
          -0.3267687782221775,
          0.22573829239880494,
          0.08649500875634039,
          0.17675579637132982,
          0.3117816445642434,
          0.209753801882984,
          -0.20898600147841773,
          0.6027815899719811,
          0.30506646281830535,
          -0.008570931203509963,
          -0.16441809531970844,
          0.1473187237427634,
          0.43819173605187545,
          -0.3001839816054426,
          0.00914157718886141,
          0.4627038684587356
         ],
         "y": [
          0.22553416038787344,
          0.03078174511881912,
          0.20051536672961312,
          0.1366735625424032,
          0.045504079471081975,
          0.16058881059910232,
          0.3178320735237049,
          0.26942793159040385,
          0.21013330894571589,
          0.02758440781715607,
          0.34992591064984224,
          0.17900696555394505,
          -0.047753345803592806,
          0.24520557626787792,
          0.09547669715688008,
          0.23073849037917474,
          0.15924355927468842,
          0.053351741851104334,
          0.2327033056780011,
          0.29199792832268906,
          0.22734317173567992,
          0.18315880733138754,
          -0.11404394691677784,
          0.1342247656164281,
          0.029186096043695035,
          0.14384270783253084,
          -0.035508855994365915,
          -0.02078652164210306,
          -0.2689421050497402,
          -0.038706193296028965,
          0.25154147241051983,
          0.47693335937004,
          0.0942982094859173,
          0.1789149751546929,
          0.13848257389020968,
          -0.2199357643403619,
          -0.07670572137988903,
          0.02833294819284403,
          -0.011593607937666776,
          -0.2655462316301263,
          0.03795089040894678,
          0.0068245470171759415,
          0.0325907564666256,
          -0.1672000379961287,
          -0.4337500294122889,
          0.14564965498693577,
          -0.12667833906568712,
          0.09671933967493318,
          -0.37483392247332425,
          0.1786807852914424,
          0.17774349211307316,
          -0.14459801071961303,
          -0.2744562776427747,
          0.07302315773110882,
          -0.570700336708975,
          -0.5474631881287718,
          -0.480735206948146,
          0.09724551305363474,
          -0.02858852735263872,
          0.05855607184240563,
          -0.22313310164202496,
          -0.040584200513465146,
          -0.20085127959206536,
          -0.06198338702762618,
          0.10264584244700774,
          0.16194046509169568,
          0.2424384441511341,
          0.43573649398451686,
          0.09302790023090499,
          0.13771810976916976,
          0.3474771137238672,
          0.2076845120197408,
          0.15814001367312724,
          0.48922572908576817,
          0.3153832765977298,
          0.002533583614665297,
          0.22828969345319966,
          0.3484144069022364,
          0.2023243780774196,
          -0.09581261001933229,
          0.18836313732268883,
          0.22652640515521638,
          0.16775795588922998,
          0.30755055759335637,
          0.275456720467219,
          0.003128726414596078,
          0.22705257853391794,
          0.6901857074774791,
          0.6386362730059973,
          0.3259687125481991,
          0.4163896785846579,
          0.3517349219976488,
          0.4647938205179589,
          0.35803234911833914,
          0.2379076356693024,
          0.2765970768805315,
          0.32500121881383254,
          0.4988436713018709,
          -0.0951047138158779,
          0.012151525830768048,
          0.1861761108440727,
          0.03475355310728373,
          0.27607090350182995,
          0.6911230006558483,
          0.41732697176302713,
          0.4168007983843256,
          0.6091615550393391,
          0.23254750172698122,
          0.1196366930824872,
          0.24547073348876067,
          0.38429584145852047,
          0.36007348613599455,
          0.533915938624033,
          0.5576121205678574,
          0.08774549208337168,
          0.31166934420269354,
          0.210057659118946
         ],
         "z": [
          -0.047424037394688784,
          -0.03293222955819817,
          -0.017183091600678164,
          -0.04870726331741651,
          -0.2362464241420917,
          0.11427713397286185,
          -0.13318394490551713,
          -0.18661577133166488,
          0.05697699262500202,
          0.08842526888851943,
          -0.06703754261707734,
          -0.2102829334286895,
          0.021749924521207227,
          -0.3339934334858731,
          -0.19577414161560358,
          0.2945018502157487,
          -0.033355446385275836,
          -0.017580412626057494,
          0.07232880955714269,
          -0.1712639543995242,
          0.2036126299465967,
          0.12962895090500254,
          0.03581851553062018,
          -0.003114500591265215,
          -0.18170555060619062,
          0.07104558363441497,
          -0.018863638548785214,
          -0.22217783313267875,
          -0.045990970865940145,
          0.10249385989793237,
          -0.11911535389610418,
          -0.005623774640085287,
          0.1283457249822748,
          -0.3199248424764602,
          0.20232940402386898,
          0.05159354928983852,
          -0.16593051684697227,
          0.012660533167953125,
          0.14412075874149316,
          -0.22821617197540547,
          0.08682061739363331,
          -0.1804393086600582,
          0.21810443778308733,
          0.13130751936480003,
          -0.10297242238716617,
          -0.10334032013688585,
          -0.2064027993734604,
          0.19522585886282018,
          -0.030215937106721803,
          0.17077002104709377,
          -0.037193917848446056,
          0.11826889365715071,
          0.3350487220728095,
          -0.30414980871724184,
          0.08357868577700034,
          -0.16692201393153963,
          0.24158106881375882,
          -0.15677214656303357,
          -0.36318455762843954,
          0.32434547498438,
          0.17295104773655612,
          0.1415027714730387,
          -0.3910580840328109,
          -0.3692447114308658,
          -0.0760212946637721,
          -0.319614058620439,
          -0.20003582990585145,
          -0.15269065293827236,
          -0.1501813788894523,
          -0.46699172077464723,
          -0.021444779890926052,
          0.10256975535115331,
          0.15986989669901314,
          -0.03749682965773359,
          -0.08759118217936585,
          0.14705665732232,
          0.34009461294189997,
          0.18651915900461374,
          0.2338535757406073,
          -0.2124670340178855,
          0.47155483851544,
          0.3424352223938802,
          0.23402998092469335,
          0.11001544568261397,
          0.043869043394174176,
          -0.05919343584240039,
          -0.009562783031973554,
          -0.023954053939746124,
          -0.08735128067413278,
          -0.2145446217189374,
          -0.19087745962191277,
          0.18399912472420815,
          -0.13744563319576503,
          0.26067924323029396,
          0.4142546971675802,
          -0.06686292437983339,
          -0.013431097953685661,
          0.03666325456794659,
          0.4249579442560097,
          0.2212167415480002,
          -0.09053008647685802,
          0.2081781158403509,
          0.28513508104602037,
          0.18400988495579368,
          0.017086479273627053,
          0.3690844846994808,
          0.2084657227715201,
          0.5455385175570342,
          -0.5405352614989309,
          -0.3341228504335249,
          -0.25702386191035254,
          -0.4044015240645608,
          -0.35430717154292857,
          0.14506849603713345,
          -0.5074640033011354,
          -0.45783335049070856,
          -0.5168680994019063
         ]
        }
       ],
       "layout": {
        "annotations": [
         {
          "font": {
           "size": 14
          },
          "showarrow": false,
          "text": "",
          "x": 0,
          "xanchor": "left",
          "xref": "paper",
          "y": 0.1,
          "yanchor": "bottom",
          "yref": "paper"
         }
        ],
        "height": 700,
        "hovermode": "closest",
        "margin": {
         "t": 100
        },
        "plot_bgcolor": "rgba(0,0,0,0)",
        "scene": {
         "xaxis": {
          "showbackground": false,
          "showgrid": false,
          "showline": false,
          "showticklabels": false,
          "title": {
           "text": ""
          },
          "zeroline": false
         },
         "yaxis": {
          "showbackground": false,
          "showgrid": false,
          "showline": false,
          "showticklabels": false,
          "title": {
           "text": ""
          },
          "zeroline": false
         },
         "zaxis": {
          "showbackground": false,
          "showgrid": false,
          "showline": false,
          "showticklabels": false,
          "title": {
           "text": ""
          },
          "zeroline": false
         }
        },
        "showlegend": false,
        "template": {
         "data": {
          "bar": [
           {
            "error_x": {
             "color": "#2a3f5f"
            },
            "error_y": {
             "color": "#2a3f5f"
            },
            "marker": {
             "line": {
              "color": "#E5ECF6",
              "width": 0.5
             }
            },
            "type": "bar"
           }
          ],
          "barpolar": [
           {
            "marker": {
             "line": {
              "color": "#E5ECF6",
              "width": 0.5
             }
            },
            "type": "barpolar"
           }
          ],
          "carpet": [
           {
            "aaxis": {
             "endlinecolor": "#2a3f5f",
             "gridcolor": "white",
             "linecolor": "white",
             "minorgridcolor": "white",
             "startlinecolor": "#2a3f5f"
            },
            "baxis": {
             "endlinecolor": "#2a3f5f",
             "gridcolor": "white",
             "linecolor": "white",
             "minorgridcolor": "white",
             "startlinecolor": "#2a3f5f"
            },
            "type": "carpet"
           }
          ],
          "choropleth": [
           {
            "colorbar": {
             "outlinewidth": 0,
             "ticks": ""
            },
            "type": "choropleth"
           }
          ],
          "contour": [
           {
            "colorbar": {
             "outlinewidth": 0,
             "ticks": ""
            },
            "colorscale": [
             [
              0,
              "#0d0887"
             ],
             [
              0.1111111111111111,
              "#46039f"
             ],
             [
              0.2222222222222222,
              "#7201a8"
             ],
             [
              0.3333333333333333,
              "#9c179e"
             ],
             [
              0.4444444444444444,
              "#bd3786"
             ],
             [
              0.5555555555555556,
              "#d8576b"
             ],
             [
              0.6666666666666666,
              "#ed7953"
             ],
             [
              0.7777777777777778,
              "#fb9f3a"
             ],
             [
              0.8888888888888888,
              "#fdca26"
             ],
             [
              1,
              "#f0f921"
             ]
            ],
            "type": "contour"
           }
          ],
          "contourcarpet": [
           {
            "colorbar": {
             "outlinewidth": 0,
             "ticks": ""
            },
            "type": "contourcarpet"
           }
          ],
          "heatmap": [
           {
            "colorbar": {
             "outlinewidth": 0,
             "ticks": ""
            },
            "colorscale": [
             [
              0,
              "#0d0887"
             ],
             [
              0.1111111111111111,
              "#46039f"
             ],
             [
              0.2222222222222222,
              "#7201a8"
             ],
             [
              0.3333333333333333,
              "#9c179e"
             ],
             [
              0.4444444444444444,
              "#bd3786"
             ],
             [
              0.5555555555555556,
              "#d8576b"
             ],
             [
              0.6666666666666666,
              "#ed7953"
             ],
             [
              0.7777777777777778,
              "#fb9f3a"
             ],
             [
              0.8888888888888888,
              "#fdca26"
             ],
             [
              1,
              "#f0f921"
             ]
            ],
            "type": "heatmap"
           }
          ],
          "heatmapgl": [
           {
            "colorbar": {
             "outlinewidth": 0,
             "ticks": ""
            },
            "colorscale": [
             [
              0,
              "#0d0887"
             ],
             [
              0.1111111111111111,
              "#46039f"
             ],
             [
              0.2222222222222222,
              "#7201a8"
             ],
             [
              0.3333333333333333,
              "#9c179e"
             ],
             [
              0.4444444444444444,
              "#bd3786"
             ],
             [
              0.5555555555555556,
              "#d8576b"
             ],
             [
              0.6666666666666666,
              "#ed7953"
             ],
             [
              0.7777777777777778,
              "#fb9f3a"
             ],
             [
              0.8888888888888888,
              "#fdca26"
             ],
             [
              1,
              "#f0f921"
             ]
            ],
            "type": "heatmapgl"
           }
          ],
          "histogram": [
           {
            "marker": {
             "colorbar": {
              "outlinewidth": 0,
              "ticks": ""
             }
            },
            "type": "histogram"
           }
          ],
          "histogram2d": [
           {
            "colorbar": {
             "outlinewidth": 0,
             "ticks": ""
            },
            "colorscale": [
             [
              0,
              "#0d0887"
             ],
             [
              0.1111111111111111,
              "#46039f"
             ],
             [
              0.2222222222222222,
              "#7201a8"
             ],
             [
              0.3333333333333333,
              "#9c179e"
             ],
             [
              0.4444444444444444,
              "#bd3786"
             ],
             [
              0.5555555555555556,
              "#d8576b"
             ],
             [
              0.6666666666666666,
              "#ed7953"
             ],
             [
              0.7777777777777778,
              "#fb9f3a"
             ],
             [
              0.8888888888888888,
              "#fdca26"
             ],
             [
              1,
              "#f0f921"
             ]
            ],
            "type": "histogram2d"
           }
          ],
          "histogram2dcontour": [
           {
            "colorbar": {
             "outlinewidth": 0,
             "ticks": ""
            },
            "colorscale": [
             [
              0,
              "#0d0887"
             ],
             [
              0.1111111111111111,
              "#46039f"
             ],
             [
              0.2222222222222222,
              "#7201a8"
             ],
             [
              0.3333333333333333,
              "#9c179e"
             ],
             [
              0.4444444444444444,
              "#bd3786"
             ],
             [
              0.5555555555555556,
              "#d8576b"
             ],
             [
              0.6666666666666666,
              "#ed7953"
             ],
             [
              0.7777777777777778,
              "#fb9f3a"
             ],
             [
              0.8888888888888888,
              "#fdca26"
             ],
             [
              1,
              "#f0f921"
             ]
            ],
            "type": "histogram2dcontour"
           }
          ],
          "mesh3d": [
           {
            "colorbar": {
             "outlinewidth": 0,
             "ticks": ""
            },
            "type": "mesh3d"
           }
          ],
          "parcoords": [
           {
            "line": {
             "colorbar": {
              "outlinewidth": 0,
              "ticks": ""
             }
            },
            "type": "parcoords"
           }
          ],
          "pie": [
           {
            "automargin": true,
            "type": "pie"
           }
          ],
          "scatter": [
           {
            "marker": {
             "colorbar": {
              "outlinewidth": 0,
              "ticks": ""
             }
            },
            "type": "scatter"
           }
          ],
          "scatter3d": [
           {
            "line": {
             "colorbar": {
              "outlinewidth": 0,
              "ticks": ""
             }
            },
            "marker": {
             "colorbar": {
              "outlinewidth": 0,
              "ticks": ""
             }
            },
            "type": "scatter3d"
           }
          ],
          "scattercarpet": [
           {
            "marker": {
             "colorbar": {
              "outlinewidth": 0,
              "ticks": ""
             }
            },
            "type": "scattercarpet"
           }
          ],
          "scattergeo": [
           {
            "marker": {
             "colorbar": {
              "outlinewidth": 0,
              "ticks": ""
             }
            },
            "type": "scattergeo"
           }
          ],
          "scattergl": [
           {
            "marker": {
             "colorbar": {
              "outlinewidth": 0,
              "ticks": ""
             }
            },
            "type": "scattergl"
           }
          ],
          "scattermapbox": [
           {
            "marker": {
             "colorbar": {
              "outlinewidth": 0,
              "ticks": ""
             }
            },
            "type": "scattermapbox"
           }
          ],
          "scatterpolar": [
           {
            "marker": {
             "colorbar": {
              "outlinewidth": 0,
              "ticks": ""
             }
            },
            "type": "scatterpolar"
           }
          ],
          "scatterpolargl": [
           {
            "marker": {
             "colorbar": {
              "outlinewidth": 0,
              "ticks": ""
             }
            },
            "type": "scatterpolargl"
           }
          ],
          "scatterternary": [
           {
            "marker": {
             "colorbar": {
              "outlinewidth": 0,
              "ticks": ""
             }
            },
            "type": "scatterternary"
           }
          ],
          "surface": [
           {
            "colorbar": {
             "outlinewidth": 0,
             "ticks": ""
            },
            "colorscale": [
             [
              0,
              "#0d0887"
             ],
             [
              0.1111111111111111,
              "#46039f"
             ],
             [
              0.2222222222222222,
              "#7201a8"
             ],
             [
              0.3333333333333333,
              "#9c179e"
             ],
             [
              0.4444444444444444,
              "#bd3786"
             ],
             [
              0.5555555555555556,
              "#d8576b"
             ],
             [
              0.6666666666666666,
              "#ed7953"
             ],
             [
              0.7777777777777778,
              "#fb9f3a"
             ],
             [
              0.8888888888888888,
              "#fdca26"
             ],
             [
              1,
              "#f0f921"
             ]
            ],
            "type": "surface"
           }
          ],
          "table": [
           {
            "cells": {
             "fill": {
              "color": "#EBF0F8"
             },
             "line": {
              "color": "white"
             }
            },
            "header": {
             "fill": {
              "color": "#C8D4E3"
             },
             "line": {
              "color": "white"
             }
            },
            "type": "table"
           }
          ]
         },
         "layout": {
          "annotationdefaults": {
           "arrowcolor": "#2a3f5f",
           "arrowhead": 0,
           "arrowwidth": 1
          },
          "coloraxis": {
           "colorbar": {
            "outlinewidth": 0,
            "ticks": ""
           }
          },
          "colorscale": {
           "diverging": [
            [
             0,
             "#8e0152"
            ],
            [
             0.1,
             "#c51b7d"
            ],
            [
             0.2,
             "#de77ae"
            ],
            [
             0.3,
             "#f1b6da"
            ],
            [
             0.4,
             "#fde0ef"
            ],
            [
             0.5,
             "#f7f7f7"
            ],
            [
             0.6,
             "#e6f5d0"
            ],
            [
             0.7,
             "#b8e186"
            ],
            [
             0.8,
             "#7fbc41"
            ],
            [
             0.9,
             "#4d9221"
            ],
            [
             1,
             "#276419"
            ]
           ],
           "sequential": [
            [
             0,
             "#0d0887"
            ],
            [
             0.1111111111111111,
             "#46039f"
            ],
            [
             0.2222222222222222,
             "#7201a8"
            ],
            [
             0.3333333333333333,
             "#9c179e"
            ],
            [
             0.4444444444444444,
             "#bd3786"
            ],
            [
             0.5555555555555556,
             "#d8576b"
            ],
            [
             0.6666666666666666,
             "#ed7953"
            ],
            [
             0.7777777777777778,
             "#fb9f3a"
            ],
            [
             0.8888888888888888,
             "#fdca26"
            ],
            [
             1,
             "#f0f921"
            ]
           ],
           "sequentialminus": [
            [
             0,
             "#0d0887"
            ],
            [
             0.1111111111111111,
             "#46039f"
            ],
            [
             0.2222222222222222,
             "#7201a8"
            ],
            [
             0.3333333333333333,
             "#9c179e"
            ],
            [
             0.4444444444444444,
             "#bd3786"
            ],
            [
             0.5555555555555556,
             "#d8576b"
            ],
            [
             0.6666666666666666,
             "#ed7953"
            ],
            [
             0.7777777777777778,
             "#fb9f3a"
            ],
            [
             0.8888888888888888,
             "#fdca26"
            ],
            [
             1,
             "#f0f921"
            ]
           ]
          },
          "colorway": [
           "#636efa",
           "#EF553B",
           "#00cc96",
           "#ab63fa",
           "#FFA15A",
           "#19d3f3",
           "#FF6692",
           "#B6E880",
           "#FF97FF",
           "#FECB52"
          ],
          "font": {
           "color": "#2a3f5f"
          },
          "geo": {
           "bgcolor": "white",
           "lakecolor": "white",
           "landcolor": "#E5ECF6",
           "showlakes": true,
           "showland": true,
           "subunitcolor": "white"
          },
          "hoverlabel": {
           "align": "left"
          },
          "hovermode": "closest",
          "mapbox": {
           "style": "light"
          },
          "paper_bgcolor": "white",
          "plot_bgcolor": "#E5ECF6",
          "polar": {
           "angularaxis": {
            "gridcolor": "white",
            "linecolor": "white",
            "ticks": ""
           },
           "bgcolor": "#E5ECF6",
           "radialaxis": {
            "gridcolor": "white",
            "linecolor": "white",
            "ticks": ""
           }
          },
          "scene": {
           "xaxis": {
            "backgroundcolor": "#E5ECF6",
            "gridcolor": "white",
            "gridwidth": 2,
            "linecolor": "white",
            "showbackground": true,
            "ticks": "",
            "zerolinecolor": "white"
           },
           "yaxis": {
            "backgroundcolor": "#E5ECF6",
            "gridcolor": "white",
            "gridwidth": 2,
            "linecolor": "white",
            "showbackground": true,
            "ticks": "",
            "zerolinecolor": "white"
           },
           "zaxis": {
            "backgroundcolor": "#E5ECF6",
            "gridcolor": "white",
            "gridwidth": 2,
            "linecolor": "white",
            "showbackground": true,
            "ticks": "",
            "zerolinecolor": "white"
           }
          },
          "shapedefaults": {
           "line": {
            "color": "#2a3f5f"
           }
          },
          "ternary": {
           "aaxis": {
            "gridcolor": "white",
            "linecolor": "white",
            "ticks": ""
           },
           "baxis": {
            "gridcolor": "white",
            "linecolor": "white",
            "ticks": ""
           },
           "bgcolor": "#E5ECF6",
           "caxis": {
            "gridcolor": "white",
            "linecolor": "white",
            "ticks": ""
           }
          },
          "title": {
           "x": 0.05
          },
          "xaxis": {
           "automargin": true,
           "gridcolor": "white",
           "linecolor": "white",
           "ticks": "",
           "title": {
            "standoff": 15
           },
           "zerolinecolor": "white",
           "zerolinewidth": 2
          },
          "yaxis": {
           "automargin": true,
           "gridcolor": "white",
           "linecolor": "white",
           "ticks": "",
           "title": {
            "standoff": 15
           },
           "zerolinecolor": "white",
           "zerolinewidth": 2
          }
         }
        },
        "title": {
         "text": ""
        },
        "width": 900
       }
      },
      "text/html": [
       "<div>                            <div id=\"ab8e6696-7efd-49b0-865b-2b0cbe4bc143\" class=\"plotly-graph-div\" style=\"height:700px; width:900px;\"></div>            <script type=\"text/javascript\">                require([\"plotly\"], function(Plotly) {                    window.PLOTLYENV=window.PLOTLYENV || {};                                    if (document.getElementById(\"ab8e6696-7efd-49b0-865b-2b0cbe4bc143\")) {                    Plotly.newPlot(                        \"ab8e6696-7efd-49b0-865b-2b0cbe4bc143\",                        [{\"hoverinfo\": \"text\", \"line\": {\"color\": \"rgb(125,125,125)\", \"width\": 1}, \"mode\": \"lines\", \"text\": [\"0.01176\", \"0.08333\", \"0.1\", \"0.2\", \"0.2\", \"0.2\", \"0.2\", \"0.2\", \"0.25\", \"0.33333\", \"0.5\", \"0.5\", \"0.5\", \"0.5\", \"0.5\", \"0.5\", \"0.02128\", \"0.2\", \"0.33333\", \"0.5\", \"0.5\", \"0.5\", \"0.09091\", \"0.125\", \"0.125\", \"0.2\", \"0.25\", \"0.25\", \"0.33333\", \"0.33333\", \"0.33333\", \"0.33333\", \"0.33333\", \"0.5\", \"0.5\", \"0.05263\", \"0.05263\", \"0.05882\", \"0.06667\", \"0.07692\", \"0.09091\", \"0.1\", \"0.1\", \"0.11111\", \"0.11111\", \"0.11111\", \"0.11111\", \"0.125\", \"0.125\", \"0.125\", \"0.125\", \"0.125\", \"0.125\", \"0.14286\", \"0.14286\", \"0.14286\", \"0.16667\", \"0.2\", \"0.33333\", \"0.5\", \"0.33333\", \"0.5\", \"0.14286\", \"0.2\", \"0.33333\", \"0.5\", \"0.5\", \"0.5\", \"0.5\", \"0.5\", \"0.08333\", \"0.11111\", \"0.14286\", \"0.2\", \"0.25\", \"0.25\", \"0.25\", \"0.5\", \"0.5\", \"0.5\", \"0.09091\", \"0.16667\", \"0.25\", \"0.5\", \"0.5\", \"0.5\", \"0.5\", \"0.09091\", \"0.11111\", \"0.14286\", \"0.14286\", \"0.33333\", \"0.5\", \"0.08333\", \"0.16667\", \"0.2\", \"0.2\", \"0.33333\", \"0.33333\", \"0.33333\", \"0.5\", \"0.5\", \"0.5\", \"0.5\", \"0.5\", \"0.5\", \"0.5\", \"0.33333\", \"0.16667\", \"0.16667\", \"0.33333\", \"0.5\", \"0.5\", \"0.5\", \"0.5\", \"0.33333\", \"0.5\"], \"textposition\": \"top right\", \"type\": \"scatter3d\", \"x\": [-0.2677584629166749, -0.44565833434843377, null, -0.2677584629166749, -0.003912496973048578, null, -0.2677584629166749, 0.09592210673286349, null, -0.2677584629166749, -0.3946982614909463, null, -0.2677584629166749, -0.4536623762835481, null, -0.2677584629166749, -0.03942848691671196, null, -0.2677584629166749, -0.1821306037120798, null, -0.2677584629166749, 0.1649887413050599, null, -0.2677584629166749, 0.016436147106722858, null, -0.2677584629166749, -0.6699737035510778, null, -0.2677584629166749, 0.16161555294148425, null, -0.2677584629166749, 0.4451441843315508, null, -0.2677584629166749, -0.39892499053160857, null, -0.2677584629166749, -0.14670558692733707, null, -0.2677584629166749, -0.08765060544876978, null, -0.2677584629166749, -0.05893471862614757, null, -0.44565833434843377, -0.3946982614909463, null, -0.44565833434843377, -0.003912496973048578, null, -0.44565833434843377, 0.016436147106722858, null, -0.44565833434843377, 0.1649887413050599, null, -0.44565833434843377, -0.3590372843306879, null, -0.44565833434843377, -0.03942848691671196, null, -0.3946982614909463, -0.39892499053160857, null, -0.3946982614909463, 0.09592210673286349, null, -0.3946982614909463, -0.08765060544876978, null, -0.3946982614909463, 0.016436147106722858, null, -0.3946982614909463, -0.003912496973048578, null, -0.3946982614909463, -0.4536623762835481, null, -0.3946982614909463, -0.6307465350165958, null, -0.3946982614909463, -0.6699737035510778, null, -0.3946982614909463, -0.1821306037120798, null, -0.3946982614909463, -0.015532833924918986, null, -0.3946982614909463, -0.03942848691671196, null, -0.3946982614909463, -0.14670558692733707, null, -0.3946982614909463, -0.3590372843306879, null, -0.003912496973048578, -0.39892499053160857, null, -0.003912496973048578, -0.08765060544876978, null, -0.003912496973048578, 0.09592210673286349, null, -0.003912496973048578, -0.03942848691671196, null, -0.003912496973048578, 0.0745629203621761, null, -0.003912496973048578, 0.016436147106722858, null, -0.003912496973048578, 0.4451441843315508, null, -0.003912496973048578, -0.3590372843306879, null, -0.003912496973048578, 0.5457097460383289, null, -0.003912496973048578, 0.47335317869033955, null, -0.003912496973048578, -0.1821306037120798, null, -0.003912496973048578, -0.4536623762835481, null, -0.003912496973048578, 0.435040437690887, null, -0.003912496973048578, -0.6307465350165958, null, -0.003912496973048578, 0.18852285143759978, null, -0.003912496973048578, 0.16161555294148425, null, -0.003912496973048578, -0.6699737035510778, null, -0.003912496973048578, -0.02246118851796491, null, -0.003912496973048578, -0.14670558692733707, null, -0.003912496973048578, 0.06595812815288214, null, -0.003912496973048578, -0.1500063382471439, null, -0.003912496973048578, 0.45820678294853123, null, -0.003912496973048578, 0.1649887413050599, null, -0.003912496973048578, 0.7604189956124113, null, -0.003912496973048578, -0.05893471862614757, null, -0.39892499053160857, -0.6699737035510778, null, -0.39892499053160857, 0.016436147106722858, null, -0.08765060544876978, 0.0745629203621761, null, -0.08765060544876978, -0.4536623762835481, null, -0.08765060544876978, 0.016436147106722858, null, -0.08765060544876978, 0.1649887413050599, null, -0.08765060544876978, 0.16161555294148425, null, -0.08765060544876978, -0.015532833924918986, null, -0.08765060544876978, 0.09592210673286349, null, -0.08765060544876978, -0.14670558692733707, null, 0.09592210673286349, 0.16161555294148425, null, 0.09592210673286349, 0.016436147106722858, null, 0.09592210673286349, -0.03942848691671196, null, 0.09592210673286349, 0.4413430344128638, null, 0.09592210673286349, -0.1821306037120798, null, 0.09592210673286349, 0.5457097460383289, null, 0.09592210673286349, -0.05893471862614757, null, 0.09592210673286349, 0.18852285143759978, null, 0.09592210673286349, -0.3590372843306879, null, 0.09592210673286349, 0.0745629203621761, null, -0.03942848691671196, -0.05893471862614757, null, -0.03942848691671196, 0.435040437690887, null, -0.03942848691671196, 0.016436147106722858, null, -0.03942848691671196, 0.16161555294148425, null, -0.03942848691671196, -0.1821306037120798, null, -0.03942848691671196, -0.4536623762835481, null, -0.03942848691671196, 0.1649887413050599, null, 0.16161555294148425, -0.015532833924918986, null, 0.16161555294148425, 0.4413430344128638, null, 0.16161555294148425, 0.4451441843315508, null, 0.16161555294148425, 0.1649887413050599, null, 0.16161555294148425, -0.3590372843306879, null, 0.16161555294148425, -0.1821306037120798, null, 0.016436147106722858, 0.18852285143759978, null, 0.016436147106722858, -0.05893471862614757, null, 0.016436147106722858, 0.1649887413050599, null, 0.016436147106722858, -0.1821306037120798, null, 0.016436147106722858, 0.4413430344128638, null, 0.016436147106722858, -0.02246118851796491, null, 0.016436147106722858, 0.5457097460383289, null, 0.016436147106722858, 0.4451441843315508, null, 0.016436147106722858, -0.6699737035510778, null, 0.016436147106722858, 0.435040437690887, null, 0.18852285143759978, -0.015532833924918986, null, 0.18852285143759978, 0.1649887413050599, null, 0.18852285143759978, 0.435040437690887, null, -0.015532833924918986, 0.435040437690887, null, -0.05893471862614757, -0.3590372843306879, null, 0.4451441843315508, 0.7604189956124113, null, 0.4451441843315508, 0.1649887413050599, null, -0.1821306037120798, 0.1649887413050599, null, -0.1821306037120798, -0.14670558692733707, null, 0.4413430344128638, -0.14670558692733707, null, 0.4413430344128638, 0.435040437690887, null, -0.4536623762835481, -0.14670558692733707, null, -0.14670558692733707, 0.1649887413050599, null, 0.1649887413050599, 0.7604189956124113, null], \"y\": [0.20296416365558823, 0.24810415712015865, null, 0.20296416365558823, -0.14140067341794998, null, 0.20296416365558823, 0.19806656980363804, null, 0.20296416365558823, 0.07038296142921815, null, 0.20296416365558823, -0.11195600471342428, null, 0.20296416365558823, 0.11821345754261643, null, 0.20296416365558823, 0.43269998339182153, null, 0.20296416365558823, 0.33589169952521947, null, 0.20296416365558823, 0.21730245423584355, null, 0.20296416365558823, -0.14779534802127609, null, 0.20296416365558823, 0.4968876576440963, null, 0.20296416365558823, 0.15504976745230187, null, 0.20296416365558823, -0.29847085526277384, null, 0.20296416365558823, 0.2874469888801676, null, 0.20296416365558823, -0.012010769341828082, null, 0.20296416365558823, 0.25851281710276125, null, 0.24810415712015865, 0.07038296142921815, null, 0.24810415712015865, -0.14140067341794998, null, 0.24810415712015865, 0.21730245423584355, null, 0.24810415712015865, 0.33589169952521947, null, 0.24810415712015865, 0.20658218635120118, null, 0.24810415712015865, 0.11821345754261643, null, 0.07038296142921815, -0.29847085526277384, null, 0.07038296142921815, 0.19806656980363804, null, 0.07038296142921815, -0.012010769341828082, null, 0.07038296142921815, 0.21730245423584355, null, 0.07038296142921815, -0.14140067341794998, null, 0.07038296142921815, -0.11195600471342428, null, 0.07038296142921815, -0.6082671715286986, null, 0.07038296142921815, -0.14779534802127609, null, 0.07038296142921815, 0.43269998339182153, null, 0.07038296142921815, 0.8834837573108618, null, 0.07038296142921815, 0.11821345754261643, null, 0.07038296142921815, 0.2874469888801676, null, 0.07038296142921815, 0.20658218635120118, null, -0.14140067341794998, -0.29847085526277384, null, -0.14140067341794998, -0.012010769341828082, null, -0.14140067341794998, 0.19806656980363804, null, -0.14140067341794998, 0.11821345754261643, null, -0.14140067341794998, -0.3896917898423026, null, -0.14140067341794998, 0.21730245423584355, null, -0.14140067341794998, 0.15504976745230187, null, -0.14140067341794998, 0.20658218635120118, null, -0.14140067341794998, -0.19299940257430745, null, -0.14140067341794998, -0.7260993854066279, null, -0.14140067341794998, 0.43269998339182153, null, -0.14140067341794998, -0.11195600471342428, null, -0.14140067341794998, 0.33483935276781635, null, -0.14140067341794998, -0.6082671715286986, null, -0.14140067341794998, 0.4987622440008348, null, -0.14140067341794998, 0.4968876576440963, null, -0.14140067341794998, -0.14779534802127609, null, -0.14140067341794998, -0.40751188186759935, null, -0.14140067341794998, 0.2874469888801676, null, -0.14140067341794998, -1.0, null, -0.14140067341794998, -0.9535257028395937, null, -0.14140067341794998, -0.8200697404783419, null, -0.14140067341794998, 0.33589169952521947, null, -0.14140067341794998, 0.08422361871267255, null, -0.14140067341794998, 0.25851281710276125, null, -0.29847085526277384, -0.14779534802127609, null, -0.29847085526277384, 0.21730245423584355, null, -0.012010769341828082, -0.3896917898423026, null, -0.012010769341828082, -0.11195600471342428, null, -0.012010769341828082, 0.21730245423584355, null, -0.012010769341828082, 0.33589169952521947, null, -0.012010769341828082, 0.4968876576440963, null, -0.012010769341828082, 0.8834837573108618, null, -0.012010769341828082, 0.19806656980363804, null, -0.012010769341828082, 0.2874469888801676, null, 0.19806656980363804, 0.4968876576440963, null, 0.19806656980363804, 0.21730245423584355, null, 0.19806656980363804, 0.11821345754261643, null, 0.19806656980363804, 0.7803848883678983, null, 0.19806656980363804, 0.43269998339182153, null, 0.19806656980363804, -0.19299940257430745, null, 0.19806656980363804, 0.25851281710276125, null, 0.19806656980363804, 0.4987622440008348, null, 0.19806656980363804, 0.20658218635120118, null, 0.19806656980363804, -0.3896917898423026, null, 0.11821345754261643, 0.25851281710276125, null, 0.11821345754261643, 0.33483935276781635, null, 0.11821345754261643, 0.21730245423584355, null, 0.11821345754261643, 0.4968876576440963, null, 0.11821345754261643, 0.43269998339182153, null, 0.11821345754261643, -0.11195600471342428, null, 0.11821345754261643, 0.33589169952521947, null, 0.4968876576440963, 0.8834837573108618, null, 0.4968876576440963, 0.7803848883678983, null, 0.4968876576440963, 0.15504976745230187, null, 0.4968876576440963, 0.33589169952521947, null, 0.4968876576440963, 0.20658218635120118, null, 0.4968876576440963, 0.43269998339182153, null, 0.21730245423584355, 0.4987622440008348, null, 0.21730245423584355, 0.25851281710276125, null, 0.21730245423584355, 0.33589169952521947, null, 0.21730245423584355, 0.43269998339182153, null, 0.21730245423584355, 0.7803848883678983, null, 0.21730245423584355, -0.40751188186759935, null, 0.21730245423584355, -0.19299940257430745, null, 0.21730245423584355, 0.15504976745230187, null, 0.21730245423584355, -0.14779534802127609, null, 0.21730245423584355, 0.33483935276781635, null, 0.4987622440008348, 0.8834837573108618, null, 0.4987622440008348, 0.33589169952521947, null, 0.4987622440008348, 0.33483935276781635, null, 0.8834837573108618, 0.33483935276781635, null, 0.25851281710276125, 0.20658218635120118, null, 0.15504976745230187, 0.08422361871267255, null, 0.15504976745230187, 0.33589169952521947, null, 0.43269998339182153, 0.33589169952521947, null, 0.43269998339182153, 0.2874469888801676, null, 0.7803848883678983, 0.2874469888801676, null, 0.7803848883678983, 0.33483935276781635, null, -0.11195600471342428, 0.2874469888801676, null, 0.2874469888801676, 0.33589169952521947, null, 0.33589169952521947, 0.08422361871267255, null], \"z\": [-0.06277585432682946, -0.032072220462548116, null, -0.06277585432682946, -0.0030886047895668754, null, -0.06277585432682946, 0.028409671125473126, null, -0.06277585432682946, -0.034638672308003556, null, -0.06277585432682946, -0.40971699395735395, null, -0.06277585432682946, 0.29133012227255317, null, -0.06277585432682946, -0.20359203548420482, null, -0.06277585432682946, -0.3104556883365003, null, -0.06277585432682946, 0.1767298395768335, null, -0.06277585432682946, 0.2396263921038683, null, -0.06277585432682946, -0.07129923090732523, null, -0.06277585432682946, -0.35779001253054954, null, -0.06277585432682946, 0.10627570336924391, null, -0.06277585432682946, -0.6052110126449168, null, -0.06277585432682946, -0.3287724289043777, null, -0.06277585432682946, 0.6517795547583268, null, -0.032072220462548116, -0.034638672308003556, null, -0.032072220462548116, -0.0030886047895668754, null, -0.032072220462548116, 0.1767298395768335, null, -0.032072220462548116, -0.3104556883365003, null, -0.032072220462548116, 0.4392974803557415, null, -0.032072220462548116, 0.29133012227255317, null, -0.034638672308003556, 0.10627570336924391, null, -0.034638672308003556, 0.028409671125473126, null, -0.034638672308003556, -0.3287724289043777, null, -0.034638672308003556, 0.1767298395768335, null, -0.034638672308003556, -0.0030886047895668754, null, -0.034638672308003556, -0.40971699395735395, null, -0.034638672308003556, -0.05734326942387673, null, -0.034638672308003556, 0.2396263921038683, null, -0.034638672308003556, -0.20359203548420482, null, -0.034638672308003556, 0.023391123027832982, null, -0.034638672308003556, 0.29133012227255317, null, -0.034638672308003556, -0.6052110126449168, null, -0.034638672308003556, 0.4392974803557415, null, -0.0030886047895668754, 0.10627570336924391, null, -0.0030886047895668754, -0.3287724289043777, null, -0.0030886047895668754, 0.028409671125473126, null, -0.0030886047895668754, 0.29133012227255317, null, -0.0030886047895668754, -0.4533437391612441, null, -0.0030886047895668754, 0.1767298395768335, null, -0.0030886047895668754, -0.35779001253054954, null, -0.0030886047895668754, 0.4392974803557415, null, -0.0030886047895668754, 0.2657036435191669, null, -0.0030886047895668754, -0.20285623998476546, null, -0.0030886047895668754, -0.20359203548420482, null, -0.0030886047895668754, -0.40971699395735395, null, -0.0030886047895668754, 0.3935403225152072, null, -0.0030886047895668754, -0.05734326942387673, null, -0.0030886047895668754, 0.3446286468837544, null, -0.0030886047895668754, -0.07129923090732523, null, -0.0030886047895668754, 0.2396263921038683, null, -0.0030886047895668754, 0.6731860489351859, null, -0.0030886047895668754, -0.6052110126449168, null, -0.0030886047895668754, 0.17024597634356756, null, -0.0030886047895668754, -0.3307554230735124, null, -0.0030886047895668754, 0.4862507424170845, null, -0.0030886047895668754, -0.3104556883365003, null, -0.0030886047895668754, -0.7232805104673122, null, -0.0030886047895668754, 0.6517795547583268, null, 0.10627570336924391, 0.2396263921038683, null, 0.10627570336924391, 0.1767298395768335, null, -0.3287724289043777, -0.4533437391612441, null, -0.3287724289043777, -0.40971699395735395, null, -0.3287724289043777, 0.1767298395768335, null, -0.3287724289043777, -0.3104556883365003, null, -0.3287724289043777, -0.07129923090732523, null, -0.3287724289043777, 0.023391123027832982, null, -0.3287724289043777, 0.028409671125473126, null, -0.3287724289043777, -0.6052110126449168, null, 0.028409671125473126, -0.07129923090732523, null, 0.028409671125473126, 0.1767298395768335, null, 0.028409671125473126, 0.29133012227255317, null, 0.028409671125473126, -0.10340333044094031, null, 0.028409671125473126, -0.20359203548420482, null, 0.028409671125473126, 0.2657036435191669, null, 0.028409671125473126, 0.6517795547583268, null, 0.028409671125473126, 0.3446286468837544, null, 0.028409671125473126, 0.4392974803557415, null, 0.028409671125473126, -0.4533437391612441, null, 0.29133012227255317, 0.6517795547583268, null, 0.29133012227255317, 0.3935403225152072, null, 0.29133012227255317, 0.1767298395768335, null, 0.29133012227255317, -0.07129923090732523, null, 0.29133012227255317, -0.20359203548420482, null, 0.29133012227255317, -0.40971699395735395, null, 0.29133012227255317, -0.3104556883365003, null, -0.07129923090732523, 0.023391123027832982, null, -0.07129923090732523, -0.10340333044094031, null, -0.07129923090732523, -0.35779001253054954, null, -0.07129923090732523, -0.3104556883365003, null, -0.07129923090732523, 0.4392974803557415, null, -0.07129923090732523, -0.20359203548420482, null, 0.1767298395768335, 0.3446286468837544, null, 0.1767298395768335, 0.6517795547583268, null, 0.1767298395768335, -0.3104556883365003, null, 0.1767298395768335, -0.20359203548420482, null, 0.1767298395768335, -0.10340333044094031, null, 0.1767298395768335, 0.6731860489351859, null, 0.1767298395768335, 0.2657036435191669, null, 0.1767298395768335, -0.35779001253054954, null, 0.1767298395768335, 0.2396263921038683, null, 0.1767298395768335, 0.3935403225152072, null, 0.3446286468837544, 0.023391123027832982, null, 0.3446286468837544, -0.3104556883365003, null, 0.3446286468837544, 0.3935403225152072, null, 0.023391123027832982, 0.3935403225152072, null, 0.6517795547583268, 0.4392974803557415, null, -0.35779001253054954, -0.7232805104673122, null, -0.35779001253054954, -0.3104556883365003, null, -0.20359203548420482, -0.3104556883365003, null, -0.20359203548420482, -0.6052110126449168, null, -0.10340333044094031, -0.6052110126449168, null, -0.10340333044094031, 0.3935403225152072, null, -0.40971699395735395, -0.6052110126449168, null, -0.6052110126449168, -0.3104556883365003, null, -0.3104556883365003, -0.7232805104673122, null]}, {\"marker\": {\"color\": [109, 41, 86, 180, 14, 56, 61, 48, 6, 46, 71, 25, 13, 10, 27, 4, 4, 6, 19, 24, 15, 7, 10, 4, 8, 15, 16, 8, 5, 10, 9], \"colorscale\": [[0.0, \"rgb(161, 105, 40)\"], [0.16666666666666666, \"rgb(189, 146, 90)\"], [0.3333333333333333, \"rgb(214, 189, 141)\"], [0.5, \"rgb(237, 234, 194)\"], [0.6666666666666666, \"rgb(181, 200, 184)\"], [0.8333333333333334, \"rgb(121, 167, 172)\"], [1.0, \"rgb(40, 135, 161)\"]], \"line\": {\"color\": \"rgb(50,50,50)\", \"width\": 0.5}, \"reversescale\": true, \"size\": 6, \"symbol\": \"circle\"}, \"mode\": \"markers+text\", \"text\": [\"\\u03a7\\u03c1\\u03b9\\u03c3\\u03c4\\u03cc\\u03c2\", \"\\u1f38\\u03b7\\u03c3\\u03bf\\u1fe6\\u03c2\", \"\\u03ba\\u03cd\\u03c1\\u03b9\\u03bf\\u03c2\", \"\\u03b8\\u03b5\\u03cc\\u03c2\", \"\\u03c0\\u03b1\\u03c4\\u03ae\\u03c1\", \"\\u03c7\\u03ac\\u03c1\\u03b9\\u03c2\", \"\\u03b5\\u1f30\\u03bc\\u03af\", \"\\u03c0\\u03bd\\u03b5\\u1fe6\\u03bc\\u03b1\", \"\\u03b5\\u1f30\\u03c1\\u03ae\\u03bd\\u03b7\", \"\\u03bd\\u03cc\\u03bc\\u03bf\\u03c2\", \"\\u03c0\\u1fb6\\u03c2\", \"\\u1f04\\u03bb\\u03bb\\u02bc\", \"\\u1f14\\u03c1\\u03b3\\u03bf\\u03bd\", \"\\u1f05\\u03b3\\u03b9\\u03bf\\u03c2\", \"\\u03b4\\u03b9\\u03ba\\u03b1\\u03b9\\u03bf\\u03c3\\u03cd\\u03bd\\u03b7\", \"\\u03bf\\u1f36\\u03b4\\u03b1\", \"\\u03c5\\u1f31\\u03cc\\u03c2\", \"\\u03b8\\u03ad\\u03bb\\u03b7\\u03bc\\u03b1\", \"\\u1f14\\u03c7\\u03c9\", \"\\u1f01\\u03bc\\u03b1\\u03c1\\u03c4\\u03af\\u03b1\", \"\\u03b4\\u03af\\u03b4\\u03c9\\u03bc\\u03b9\", \"\\u03b4\\u03cd\\u03bd\\u03b1\\u03bc\\u03b9\\u03c2\", \"\\u03b5\\u1f50\\u03c7\\u03b1\\u03c1\\u03b9\\u03c3\\u03c4\\u03ad\\u03c9\", \"\\u03b4\\u03cc\\u03be\\u03b1\", \"\\u1f10\\u03ba\\u03ba\\u03bb\\u03b7\\u03c3\\u03af\\u03b1\", \"\\u03b3\\u03b9\\u03b3\\u03bd\\u03ce\\u03c3\\u03ba\\u03c9\", \"\\u03c0\\u03af\\u03c3\\u03c4\\u03b9\\u03c2\", \"\\u03b2\\u03b1\\u03c3\\u03b9\\u03bb\\u03b5\\u03af\\u03b1\", \"\\u03c3\\u03bf\\u03c6\\u03af\\u03b1\", \"\\u03b5\\u1f50\\u03b1\\u03b3\\u03b3\\u03ad\\u03bb\\u03b9\\u03bf\\u03bd\", \"\\u03bb\\u03bf\\u03b3\\u03af\\u03b6\\u03bf\\u03bc\\u03b1\\u03b9\"], \"type\": \"scatter3d\", \"x\": [-0.2677584629166749, -0.44565833434843377, -0.3946982614909463, -0.003912496973048578, -0.39892499053160857, -0.08765060544876978, 0.09592210673286349, -0.03942848691671196, 0.0745629203621761, 0.16161555294148425, 0.016436147106722858, 0.18852285143759978, -0.015532833924918986, -0.05893471862614757, 0.4451441843315508, -0.3590372843306879, 0.5457097460383289, 0.47335317869033955, -0.1821306037120798, 0.4413430344128638, -0.4536623762835481, 0.435040437690887, -0.6307465350165958, -0.6699737035510778, -0.02246118851796491, -0.14670558692733707, 0.1649887413050599, 0.06595812815288214, -0.1500063382471439, 0.45820678294853123, 0.7604189956124113], \"y\": [0.20296416365558823, 0.24810415712015865, 0.07038296142921815, -0.14140067341794998, -0.29847085526277384, -0.012010769341828082, 0.19806656980363804, 0.11821345754261643, -0.3896917898423026, 0.4968876576440963, 0.21730245423584355, 0.4987622440008348, 0.8834837573108618, 0.25851281710276125, 0.15504976745230187, 0.20658218635120118, -0.19299940257430745, -0.7260993854066279, 0.43269998339182153, 0.7803848883678983, -0.11195600471342428, 0.33483935276781635, -0.6082671715286986, -0.14779534802127609, -0.40751188186759935, 0.2874469888801676, 0.33589169952521947, -1.0, -0.9535257028395937, -0.8200697404783419, 0.08422361871267255], \"z\": [-0.06277585432682946, -0.032072220462548116, -0.034638672308003556, -0.0030886047895668754, 0.10627570336924391, -0.3287724289043777, 0.028409671125473126, 0.29133012227255317, -0.4533437391612441, -0.07129923090732523, 0.1767298395768335, 0.3446286468837544, 0.023391123027832982, 0.6517795547583268, -0.35779001253054954, 0.4392974803557415, 0.2657036435191669, -0.20285623998476546, -0.20359203548420482, -0.10340333044094031, -0.40971699395735395, 0.3935403225152072, -0.05734326942387673, 0.2396263921038683, 0.6731860489351859, -0.6052110126449168, -0.3104556883365003, 0.17024597634356756, -0.3307554230735124, 0.4862507424170845, -0.7232805104673122]}, {\"hoverinfo\": \"text\", \"marker\": {\"opacity\": 0}, \"mode\": \"markers\", \"opacity\": 0, \"text\": [\"85\", \"12\", \"10\", \"5\", \"5\", \"5\", \"5\", \"5\", \"4\", \"3\", \"2\", \"2\", \"2\", \"2\", \"2\", \"2\", \"47\", \"5\", \"3\", \"2\", \"2\", \"2\", \"11\", \"8\", \"8\", \"5\", \"4\", \"4\", \"3\", \"3\", \"3\", \"3\", \"3\", \"2\", \"2\", \"19\", \"19\", \"17\", \"15\", \"13\", \"11\", \"10\", \"10\", \"9\", \"9\", \"9\", \"9\", \"8\", \"8\", \"8\", \"8\", \"8\", \"8\", \"7\", \"7\", \"7\", \"6\", \"5\", \"3\", \"2\", \"3\", \"2\", \"7\", \"5\", \"3\", \"2\", \"2\", \"2\", \"2\", \"2\", \"12\", \"9\", \"7\", \"5\", \"4\", \"4\", \"4\", \"2\", \"2\", \"2\", \"11\", \"6\", \"4\", \"2\", \"2\", \"2\", \"2\", \"11\", \"9\", \"7\", \"7\", \"3\", \"2\", \"12\", \"6\", \"5\", \"5\", \"3\", \"3\", \"3\", \"2\", \"2\", \"2\", \"2\", \"2\", \"2\", \"2\", \"3\", \"6\", \"6\", \"3\", \"2\", \"2\", \"2\", \"2\", \"3\", \"2\"], \"type\": \"scatter3d\", \"x\": [-0.3567083986325543, -0.13583547994486173, -0.08591817809190569, -0.3312283622038106, -0.3607104196001115, -0.15359347491669342, -0.22494453331437736, -0.051384860805807495, -0.125661157904976, -0.46886608323387635, -0.053071454987595315, 0.08869286070743795, -0.33334172672414175, -0.207232024922006, -0.17770453418272233, -0.16334659077141123, -0.42017829791969, -0.22478541566074117, -0.21461109362085545, -0.14033479652168696, -0.4023478093395608, -0.24254341063257287, -0.3968116260112774, -0.1493880773790414, -0.24117443346985803, -0.1891310571921117, -0.19930537923199743, -0.42418031888724717, -0.5127223982537711, -0.532335982521012, -0.28841443260151306, -0.20511554770793264, -0.21706337420382912, -0.2707019242091417, -0.3768677729108171, -0.20141874375232857, -0.045781551210909176, 0.046004804879907456, -0.02167049194488027, 0.03532521169456376, 0.00626182506683714, 0.2206158436792511, -0.18147489065186823, 0.27089862453264013, 0.2347203408586455, -0.0930215503425642, -0.22878743662829834, 0.21556397035891922, -0.31732951599482223, 0.0923051772322756, 0.07885152798421784, -0.3369431002620632, -0.013186842745506744, -0.07530904195019282, 0.03102281558991678, -0.07695941761009624, 0.22714714298774133, 0.08053812216600566, 0.37825324931968135, -0.031423607799598074, -0.5344493470413432, -0.19124442171244285, -0.006543842543296839, -0.27065649086615895, -0.03560722917102346, 0.038669067928145055, 0.036982473746357235, -0.05159171968684438, 0.004135750642046854, -0.11717809618805342, 0.12876882983717386, 0.05617912691979317, 0.02824680990807576, 0.26863257057286366, -0.043104248489608164, 0.3208159263855962, 0.01849369405335796, 0.14222247908523164, -0.1315575887989122, 0.0852425135475198, -0.049181602771429765, 0.19780597538708752, -0.011496169904994552, 0.06109353301238614, -0.11077954531439589, -0.24654543160013004, 0.06278012719417396, 0.07304135950828262, 0.301479293677174, 0.3033798686365175, 0.16330214712327207, -0.09871086569460182, -0.010257525385297783, 0.10247949927216132, -0.021249285759712355, 0.09071244420589138, -0.08284722830267847, 0.22888959075979334, -0.0030125207056210263, 0.28107294657252585, 0.23079016571913682, -0.3267687782221775, 0.22573829239880494, 0.08649500875634039, 0.17675579637132982, 0.3117816445642434, 0.209753801882984, -0.20898600147841773, 0.6027815899719811, 0.30506646281830535, -0.008570931203509963, -0.16441809531970844, 0.1473187237427634, 0.43819173605187545, -0.3001839816054426, 0.00914157718886141, 0.4627038684587356], \"y\": [0.22553416038787344, 0.03078174511881912, 0.20051536672961312, 0.1366735625424032, 0.045504079471081975, 0.16058881059910232, 0.3178320735237049, 0.26942793159040385, 0.21013330894571589, 0.02758440781715607, 0.34992591064984224, 0.17900696555394505, -0.047753345803592806, 0.24520557626787792, 0.09547669715688008, 0.23073849037917474, 0.15924355927468842, 0.053351741851104334, 0.2327033056780011, 0.29199792832268906, 0.22734317173567992, 0.18315880733138754, -0.11404394691677784, 0.1342247656164281, 0.029186096043695035, 0.14384270783253084, -0.035508855994365915, -0.02078652164210306, -0.2689421050497402, -0.038706193296028965, 0.25154147241051983, 0.47693335937004, 0.0942982094859173, 0.1789149751546929, 0.13848257389020968, -0.2199357643403619, -0.07670572137988903, 0.02833294819284403, -0.011593607937666776, -0.2655462316301263, 0.03795089040894678, 0.0068245470171759415, 0.0325907564666256, -0.1672000379961287, -0.4337500294122889, 0.14564965498693577, -0.12667833906568712, 0.09671933967493318, -0.37483392247332425, 0.1786807852914424, 0.17774349211307316, -0.14459801071961303, -0.2744562776427747, 0.07302315773110882, -0.570700336708975, -0.5474631881287718, -0.480735206948146, 0.09724551305363474, -0.02858852735263872, 0.05855607184240563, -0.22313310164202496, -0.040584200513465146, -0.20085127959206536, -0.06198338702762618, 0.10264584244700774, 0.16194046509169568, 0.2424384441511341, 0.43573649398451686, 0.09302790023090499, 0.13771810976916976, 0.3474771137238672, 0.2076845120197408, 0.15814001367312724, 0.48922572908576817, 0.3153832765977298, 0.002533583614665297, 0.22828969345319966, 0.3484144069022364, 0.2023243780774196, -0.09581261001933229, 0.18836313732268883, 0.22652640515521638, 0.16775795588922998, 0.30755055759335637, 0.275456720467219, 0.003128726414596078, 0.22705257853391794, 0.6901857074774791, 0.6386362730059973, 0.3259687125481991, 0.4163896785846579, 0.3517349219976488, 0.4647938205179589, 0.35803234911833914, 0.2379076356693024, 0.2765970768805315, 0.32500121881383254, 0.4988436713018709, -0.0951047138158779, 0.012151525830768048, 0.1861761108440727, 0.03475355310728373, 0.27607090350182995, 0.6911230006558483, 0.41732697176302713, 0.4168007983843256, 0.6091615550393391, 0.23254750172698122, 0.1196366930824872, 0.24547073348876067, 0.38429584145852047, 0.36007348613599455, 0.533915938624033, 0.5576121205678574, 0.08774549208337168, 0.31166934420269354, 0.210057659118946], \"z\": [-0.047424037394688784, -0.03293222955819817, -0.017183091600678164, -0.04870726331741651, -0.2362464241420917, 0.11427713397286185, -0.13318394490551713, -0.18661577133166488, 0.05697699262500202, 0.08842526888851943, -0.06703754261707734, -0.2102829334286895, 0.021749924521207227, -0.3339934334858731, -0.19577414161560358, 0.2945018502157487, -0.033355446385275836, -0.017580412626057494, 0.07232880955714269, -0.1712639543995242, 0.2036126299465967, 0.12962895090500254, 0.03581851553062018, -0.003114500591265215, -0.18170555060619062, 0.07104558363441497, -0.018863638548785214, -0.22217783313267875, -0.045990970865940145, 0.10249385989793237, -0.11911535389610418, -0.005623774640085287, 0.1283457249822748, -0.3199248424764602, 0.20232940402386898, 0.05159354928983852, -0.16593051684697227, 0.012660533167953125, 0.14412075874149316, -0.22821617197540547, 0.08682061739363331, -0.1804393086600582, 0.21810443778308733, 0.13130751936480003, -0.10297242238716617, -0.10334032013688585, -0.2064027993734604, 0.19522585886282018, -0.030215937106721803, 0.17077002104709377, -0.037193917848446056, 0.11826889365715071, 0.3350487220728095, -0.30414980871724184, 0.08357868577700034, -0.16692201393153963, 0.24158106881375882, -0.15677214656303357, -0.36318455762843954, 0.32434547498438, 0.17295104773655612, 0.1415027714730387, -0.3910580840328109, -0.3692447114308658, -0.0760212946637721, -0.319614058620439, -0.20003582990585145, -0.15269065293827236, -0.1501813788894523, -0.46699172077464723, -0.021444779890926052, 0.10256975535115331, 0.15986989669901314, -0.03749682965773359, -0.08759118217936585, 0.14705665732232, 0.34009461294189997, 0.18651915900461374, 0.2338535757406073, -0.2124670340178855, 0.47155483851544, 0.3424352223938802, 0.23402998092469335, 0.11001544568261397, 0.043869043394174176, -0.05919343584240039, -0.009562783031973554, -0.023954053939746124, -0.08735128067413278, -0.2145446217189374, -0.19087745962191277, 0.18399912472420815, -0.13744563319576503, 0.26067924323029396, 0.4142546971675802, -0.06686292437983339, -0.013431097953685661, 0.03666325456794659, 0.4249579442560097, 0.2212167415480002, -0.09053008647685802, 0.2081781158403509, 0.28513508104602037, 0.18400988495579368, 0.017086479273627053, 0.3690844846994808, 0.2084657227715201, 0.5455385175570342, -0.5405352614989309, -0.3341228504335249, -0.25702386191035254, -0.4044015240645608, -0.35430717154292857, 0.14506849603713345, -0.5074640033011354, -0.45783335049070856, -0.5168680994019063]}],                        {\"annotations\": [{\"font\": {\"size\": 14}, \"showarrow\": false, \"text\": \"\", \"x\": 0, \"xanchor\": \"left\", \"xref\": \"paper\", \"y\": 0.1, \"yanchor\": \"bottom\", \"yref\": \"paper\"}], \"height\": 700, \"hovermode\": \"closest\", \"margin\": {\"t\": 100}, \"plot_bgcolor\": \"rgba(0,0,0,0)\", \"scene\": {\"xaxis\": {\"showbackground\": false, \"showgrid\": false, \"showline\": false, \"showticklabels\": false, \"title\": {\"text\": \"\"}, \"zeroline\": false}, \"yaxis\": {\"showbackground\": false, \"showgrid\": false, \"showline\": false, \"showticklabels\": false, \"title\": {\"text\": \"\"}, \"zeroline\": false}, \"zaxis\": {\"showbackground\": false, \"showgrid\": false, \"showline\": false, \"showticklabels\": false, \"title\": {\"text\": \"\"}, \"zeroline\": false}}, \"showlegend\": false, \"template\": {\"data\": {\"bar\": [{\"error_x\": {\"color\": \"#2a3f5f\"}, \"error_y\": {\"color\": \"#2a3f5f\"}, \"marker\": {\"line\": {\"color\": \"#E5ECF6\", \"width\": 0.5}}, \"type\": \"bar\"}], \"barpolar\": [{\"marker\": {\"line\": {\"color\": \"#E5ECF6\", \"width\": 0.5}}, \"type\": \"barpolar\"}], \"carpet\": [{\"aaxis\": {\"endlinecolor\": \"#2a3f5f\", \"gridcolor\": \"white\", \"linecolor\": \"white\", \"minorgridcolor\": \"white\", \"startlinecolor\": \"#2a3f5f\"}, \"baxis\": {\"endlinecolor\": \"#2a3f5f\", \"gridcolor\": \"white\", \"linecolor\": \"white\", \"minorgridcolor\": \"white\", \"startlinecolor\": \"#2a3f5f\"}, \"type\": \"carpet\"}], \"choropleth\": [{\"colorbar\": {\"outlinewidth\": 0, \"ticks\": \"\"}, \"type\": \"choropleth\"}], \"contour\": [{\"colorbar\": {\"outlinewidth\": 0, \"ticks\": \"\"}, \"colorscale\": [[0.0, \"#0d0887\"], [0.1111111111111111, \"#46039f\"], [0.2222222222222222, \"#7201a8\"], [0.3333333333333333, \"#9c179e\"], [0.4444444444444444, \"#bd3786\"], [0.5555555555555556, \"#d8576b\"], [0.6666666666666666, \"#ed7953\"], [0.7777777777777778, \"#fb9f3a\"], [0.8888888888888888, \"#fdca26\"], [1.0, \"#f0f921\"]], \"type\": \"contour\"}], \"contourcarpet\": [{\"colorbar\": {\"outlinewidth\": 0, \"ticks\": \"\"}, \"type\": \"contourcarpet\"}], \"heatmap\": [{\"colorbar\": {\"outlinewidth\": 0, \"ticks\": \"\"}, \"colorscale\": [[0.0, \"#0d0887\"], [0.1111111111111111, \"#46039f\"], [0.2222222222222222, \"#7201a8\"], [0.3333333333333333, \"#9c179e\"], [0.4444444444444444, \"#bd3786\"], [0.5555555555555556, \"#d8576b\"], [0.6666666666666666, \"#ed7953\"], [0.7777777777777778, \"#fb9f3a\"], [0.8888888888888888, \"#fdca26\"], [1.0, \"#f0f921\"]], \"type\": \"heatmap\"}], \"heatmapgl\": [{\"colorbar\": {\"outlinewidth\": 0, \"ticks\": \"\"}, \"colorscale\": [[0.0, \"#0d0887\"], [0.1111111111111111, \"#46039f\"], [0.2222222222222222, \"#7201a8\"], [0.3333333333333333, \"#9c179e\"], [0.4444444444444444, \"#bd3786\"], [0.5555555555555556, \"#d8576b\"], [0.6666666666666666, \"#ed7953\"], [0.7777777777777778, \"#fb9f3a\"], [0.8888888888888888, \"#fdca26\"], [1.0, \"#f0f921\"]], \"type\": \"heatmapgl\"}], \"histogram\": [{\"marker\": {\"colorbar\": {\"outlinewidth\": 0, \"ticks\": \"\"}}, \"type\": \"histogram\"}], \"histogram2d\": [{\"colorbar\": {\"outlinewidth\": 0, \"ticks\": \"\"}, \"colorscale\": [[0.0, \"#0d0887\"], [0.1111111111111111, \"#46039f\"], [0.2222222222222222, \"#7201a8\"], [0.3333333333333333, \"#9c179e\"], [0.4444444444444444, \"#bd3786\"], [0.5555555555555556, \"#d8576b\"], [0.6666666666666666, \"#ed7953\"], [0.7777777777777778, \"#fb9f3a\"], [0.8888888888888888, \"#fdca26\"], [1.0, \"#f0f921\"]], \"type\": \"histogram2d\"}], \"histogram2dcontour\": [{\"colorbar\": {\"outlinewidth\": 0, \"ticks\": \"\"}, \"colorscale\": [[0.0, \"#0d0887\"], [0.1111111111111111, \"#46039f\"], [0.2222222222222222, \"#7201a8\"], [0.3333333333333333, \"#9c179e\"], [0.4444444444444444, \"#bd3786\"], [0.5555555555555556, \"#d8576b\"], [0.6666666666666666, \"#ed7953\"], [0.7777777777777778, \"#fb9f3a\"], [0.8888888888888888, \"#fdca26\"], [1.0, \"#f0f921\"]], \"type\": \"histogram2dcontour\"}], \"mesh3d\": [{\"colorbar\": {\"outlinewidth\": 0, \"ticks\": \"\"}, \"type\": \"mesh3d\"}], \"parcoords\": [{\"line\": {\"colorbar\": {\"outlinewidth\": 0, \"ticks\": \"\"}}, \"type\": \"parcoords\"}], \"pie\": [{\"automargin\": true, \"type\": \"pie\"}], \"scatter\": [{\"marker\": {\"colorbar\": {\"outlinewidth\": 0, \"ticks\": \"\"}}, \"type\": \"scatter\"}], \"scatter3d\": [{\"line\": {\"colorbar\": {\"outlinewidth\": 0, \"ticks\": \"\"}}, \"marker\": {\"colorbar\": {\"outlinewidth\": 0, \"ticks\": \"\"}}, \"type\": \"scatter3d\"}], \"scattercarpet\": [{\"marker\": {\"colorbar\": {\"outlinewidth\": 0, \"ticks\": \"\"}}, \"type\": \"scattercarpet\"}], \"scattergeo\": [{\"marker\": {\"colorbar\": {\"outlinewidth\": 0, \"ticks\": \"\"}}, \"type\": \"scattergeo\"}], \"scattergl\": [{\"marker\": {\"colorbar\": {\"outlinewidth\": 0, \"ticks\": \"\"}}, \"type\": \"scattergl\"}], \"scattermapbox\": [{\"marker\": {\"colorbar\": {\"outlinewidth\": 0, \"ticks\": \"\"}}, \"type\": \"scattermapbox\"}], \"scatterpolar\": [{\"marker\": {\"colorbar\": {\"outlinewidth\": 0, \"ticks\": \"\"}}, \"type\": \"scatterpolar\"}], \"scatterpolargl\": [{\"marker\": {\"colorbar\": {\"outlinewidth\": 0, \"ticks\": \"\"}}, \"type\": \"scatterpolargl\"}], \"scatterternary\": [{\"marker\": {\"colorbar\": {\"outlinewidth\": 0, \"ticks\": \"\"}}, \"type\": \"scatterternary\"}], \"surface\": [{\"colorbar\": {\"outlinewidth\": 0, \"ticks\": \"\"}, \"colorscale\": [[0.0, \"#0d0887\"], [0.1111111111111111, \"#46039f\"], [0.2222222222222222, \"#7201a8\"], [0.3333333333333333, \"#9c179e\"], [0.4444444444444444, \"#bd3786\"], [0.5555555555555556, \"#d8576b\"], [0.6666666666666666, \"#ed7953\"], [0.7777777777777778, \"#fb9f3a\"], [0.8888888888888888, \"#fdca26\"], [1.0, \"#f0f921\"]], \"type\": \"surface\"}], \"table\": [{\"cells\": {\"fill\": {\"color\": \"#EBF0F8\"}, \"line\": {\"color\": \"white\"}}, \"header\": {\"fill\": {\"color\": \"#C8D4E3\"}, \"line\": {\"color\": \"white\"}}, \"type\": \"table\"}]}, \"layout\": {\"annotationdefaults\": {\"arrowcolor\": \"#2a3f5f\", \"arrowhead\": 0, \"arrowwidth\": 1}, \"coloraxis\": {\"colorbar\": {\"outlinewidth\": 0, \"ticks\": \"\"}}, \"colorscale\": {\"diverging\": [[0, \"#8e0152\"], [0.1, \"#c51b7d\"], [0.2, \"#de77ae\"], [0.3, \"#f1b6da\"], [0.4, \"#fde0ef\"], [0.5, \"#f7f7f7\"], [0.6, \"#e6f5d0\"], [0.7, \"#b8e186\"], [0.8, \"#7fbc41\"], [0.9, \"#4d9221\"], [1, \"#276419\"]], \"sequential\": [[0.0, \"#0d0887\"], [0.1111111111111111, \"#46039f\"], [0.2222222222222222, \"#7201a8\"], [0.3333333333333333, \"#9c179e\"], [0.4444444444444444, \"#bd3786\"], [0.5555555555555556, \"#d8576b\"], [0.6666666666666666, \"#ed7953\"], [0.7777777777777778, \"#fb9f3a\"], [0.8888888888888888, \"#fdca26\"], [1.0, \"#f0f921\"]], \"sequentialminus\": [[0.0, \"#0d0887\"], [0.1111111111111111, \"#46039f\"], [0.2222222222222222, \"#7201a8\"], [0.3333333333333333, \"#9c179e\"], [0.4444444444444444, \"#bd3786\"], [0.5555555555555556, \"#d8576b\"], [0.6666666666666666, \"#ed7953\"], [0.7777777777777778, \"#fb9f3a\"], [0.8888888888888888, \"#fdca26\"], [1.0, \"#f0f921\"]]}, \"colorway\": [\"#636efa\", \"#EF553B\", \"#00cc96\", \"#ab63fa\", \"#FFA15A\", \"#19d3f3\", \"#FF6692\", \"#B6E880\", \"#FF97FF\", \"#FECB52\"], \"font\": {\"color\": \"#2a3f5f\"}, \"geo\": {\"bgcolor\": \"white\", \"lakecolor\": \"white\", \"landcolor\": \"#E5ECF6\", \"showlakes\": true, \"showland\": true, \"subunitcolor\": \"white\"}, \"hoverlabel\": {\"align\": \"left\"}, \"hovermode\": \"closest\", \"mapbox\": {\"style\": \"light\"}, \"paper_bgcolor\": \"white\", \"plot_bgcolor\": \"#E5ECF6\", \"polar\": {\"angularaxis\": {\"gridcolor\": \"white\", \"linecolor\": \"white\", \"ticks\": \"\"}, \"bgcolor\": \"#E5ECF6\", \"radialaxis\": {\"gridcolor\": \"white\", \"linecolor\": \"white\", \"ticks\": \"\"}}, \"scene\": {\"xaxis\": {\"backgroundcolor\": \"#E5ECF6\", \"gridcolor\": \"white\", \"gridwidth\": 2, \"linecolor\": \"white\", \"showbackground\": true, \"ticks\": \"\", \"zerolinecolor\": \"white\"}, \"yaxis\": {\"backgroundcolor\": \"#E5ECF6\", \"gridcolor\": \"white\", \"gridwidth\": 2, \"linecolor\": \"white\", \"showbackground\": true, \"ticks\": \"\", \"zerolinecolor\": \"white\"}, \"zaxis\": {\"backgroundcolor\": \"#E5ECF6\", \"gridcolor\": \"white\", \"gridwidth\": 2, \"linecolor\": \"white\", \"showbackground\": true, \"ticks\": \"\", \"zerolinecolor\": \"white\"}}, \"shapedefaults\": {\"line\": {\"color\": \"#2a3f5f\"}}, \"ternary\": {\"aaxis\": {\"gridcolor\": \"white\", \"linecolor\": \"white\", \"ticks\": \"\"}, \"baxis\": {\"gridcolor\": \"white\", \"linecolor\": \"white\", \"ticks\": \"\"}, \"bgcolor\": \"#E5ECF6\", \"caxis\": {\"gridcolor\": \"white\", \"linecolor\": \"white\", \"ticks\": \"\"}}, \"title\": {\"x\": 0.05}, \"xaxis\": {\"automargin\": true, \"gridcolor\": \"white\", \"linecolor\": \"white\", \"ticks\": \"\", \"title\": {\"standoff\": 15}, \"zerolinecolor\": \"white\", \"zerolinewidth\": 2}, \"yaxis\": {\"automargin\": true, \"gridcolor\": \"white\", \"linecolor\": \"white\", \"ticks\": \"\", \"title\": {\"standoff\": 15}, \"zerolinecolor\": \"white\", \"zerolinewidth\": 2}}}, \"title\": {\"text\": \"\"}, \"width\": 900},                        {\"responsive\": true}                    ).then(function(){\n",
       "                            \n",
       "var gd = document.getElementById('ab8e6696-7efd-49b0-865b-2b0cbe4bc143');\n",
       "var x = new MutationObserver(function (mutations, observer) {{\n",
       "        var display = window.getComputedStyle(gd).display;\n",
       "        if (!display || display === 'none') {{\n",
       "            console.log([gd, 'removed!']);\n",
       "            Plotly.purge(gd);\n",
       "            observer.disconnect();\n",
       "        }}\n",
       "}});\n",
       "\n",
       "// Listen for the removal of the full notebook cells\n",
       "var notebookContainer = gd.closest('#notebook-container');\n",
       "if (notebookContainer) {{\n",
       "    x.observe(notebookContainer, {childList: true});\n",
       "}}\n",
       "\n",
       "// Listen for the clearing of the current output cell\n",
       "var outputEl = gd.closest('.output');\n",
       "if (outputEl) {{\n",
       "    x.observe(outputEl, {childList: true});\n",
       "}}\n",
       "\n",
       "                        })                };                });            </script>        </div>"
      ]
     },
     "metadata": {},
     "output_type": "display_data"
    }
   ],
   "source": [
    "fig = textnet.draw_3d_network(ego_network)\n",
    "fig.show()"
   ]
  },
  {
   "cell_type": "code",
   "execution_count": 43,
   "metadata": {},
   "outputs": [],
   "source": [
    "fig.write_image(\"fig_test.png\")"
   ]
  },
  {
   "cell_type": "code",
   "execution_count": null,
   "metadata": {},
   "outputs": [],
   "source": []
  },
  {
   "cell_type": "code",
   "execution_count": null,
   "metadata": {},
   "outputs": [],
   "source": []
  },
  {
   "cell_type": "code",
   "execution_count": null,
   "metadata": {},
   "outputs": [],
   "source": []
  },
  {
   "cell_type": "code",
   "execution_count": null,
   "metadata": {},
   "outputs": [],
   "source": []
  },
  {
   "cell_type": "code",
   "execution_count": null,
   "metadata": {
    "id": "VZHTvXquJQl0"
   },
   "outputs": [],
   "source": [
    "bow = CountVectorizer(vocabulary=vocabulary)\n",
    "bow_term2doc = bow.fit_transform([\" \".join(doc) for doc in docs]) ### run the model\n",
    "\n",
    "term2term_bow = (bow_term2doc.T * bow_term2doc)\n",
    "\n",
    "\n",
    "tfidf =  TfidfVectorizer(vocabulary=vocabulary)\n",
    "tfidf_term2doc = tfidf.fit_transform([\" \".join(doc) for doc in docs]) ### run the model\n",
    "\n",
    "svd = TruncatedSVD(n_components=150, n_iter=5, random_state=42)\n",
    "svd_bow = svd.fit(bow_term2doc)\n",
    "\n",
    "svd = TruncatedSVD(n_components=150, n_iter=5, random_state=42)\n",
    "svd_tfidf = svd.fit(tfidf_term2doc)\n",
    "    #term2doc = pd.DataFrame(Xc.toarray(), columns=vec.get_feature_names(), index=vec.get_feature_names())\n",
    "lsa_bow = pd.DataFrame(svd_bow.components_, columns=vocabulary)\n",
    "lsa_tfidf = pd.DataFrame(svd_tfidf.components_, columns=vocabulary)"
   ]
  },
  {
   "cell_type": "code",
   "execution_count": null,
   "metadata": {},
   "outputs": [],
   "source": []
  },
  {
   "cell_type": "code",
   "execution_count": null,
   "metadata": {
    "id": "i_EjOdpBJQl0"
   },
   "outputs": [],
   "source": [
    "words = [\"δίκαιος\", \"δίκη\", \"δικαιοσύνη\"]"
   ]
  },
  {
   "cell_type": "code",
   "execution_count": null,
   "metadata": {
    "id": "M413lxCVJQl0",
    "outputId": "425b8dab-90d2-46fa-ae0e-347e39c276e9"
   },
   "outputs": [
    {
     "data": {
      "text/html": [
       "<div>\n",
       "<style scoped>\n",
       "    .dataframe tbody tr th:only-of-type {\n",
       "        vertical-align: middle;\n",
       "    }\n",
       "\n",
       "    .dataframe tbody tr th {\n",
       "        vertical-align: top;\n",
       "    }\n",
       "\n",
       "    .dataframe thead th {\n",
       "        text-align: right;\n",
       "    }\n",
       "</style>\n",
       "<table border=\"1\" class=\"dataframe\">\n",
       "  <thead>\n",
       "    <tr style=\"text-align: right;\">\n",
       "      <th></th>\n",
       "      <th>πρᾶγμα</th>\n",
       "      <th>ἡσσάομαι</th>\n",
       "      <th>θλίβω</th>\n",
       "      <th>θλίψιν</th>\n",
       "      <th>διδαχῆς</th>\n",
       "      <th>ψάλλω</th>\n",
       "      <th>ἐλάχιστόν</th>\n",
       "      <th>διατάσσω</th>\n",
       "      <th>ποῦ</th>\n",
       "      <th>θερίζω</th>\n",
       "      <th>...</th>\n",
       "      <th>εἴδωλόν</th>\n",
       "      <th>φοβέω</th>\n",
       "      <th>θαυμάζω</th>\n",
       "      <th>ὀδυρμός</th>\n",
       "      <th>εὐαγγέλιον</th>\n",
       "      <th>ὑπακοην</th>\n",
       "      <th>ἀντικειμένωνἥτις</th>\n",
       "      <th>ἔνδειξις</th>\n",
       "      <th>ὑποτάσσω</th>\n",
       "      <th>συγχαίρω</th>\n",
       "    </tr>\n",
       "  </thead>\n",
       "  <tbody>\n",
       "    <tr>\n",
       "      <th>πρᾶγμα</th>\n",
       "      <td>4</td>\n",
       "      <td>0</td>\n",
       "      <td>0</td>\n",
       "      <td>0</td>\n",
       "      <td>0</td>\n",
       "      <td>0</td>\n",
       "      <td>0</td>\n",
       "      <td>0</td>\n",
       "      <td>0</td>\n",
       "      <td>0</td>\n",
       "      <td>...</td>\n",
       "      <td>0</td>\n",
       "      <td>0</td>\n",
       "      <td>0</td>\n",
       "      <td>0</td>\n",
       "      <td>0</td>\n",
       "      <td>0</td>\n",
       "      <td>0</td>\n",
       "      <td>0</td>\n",
       "      <td>0</td>\n",
       "      <td>0</td>\n",
       "    </tr>\n",
       "    <tr>\n",
       "      <th>ἡσσάομαι</th>\n",
       "      <td>0</td>\n",
       "      <td>1</td>\n",
       "      <td>0</td>\n",
       "      <td>0</td>\n",
       "      <td>0</td>\n",
       "      <td>0</td>\n",
       "      <td>0</td>\n",
       "      <td>0</td>\n",
       "      <td>0</td>\n",
       "      <td>0</td>\n",
       "      <td>...</td>\n",
       "      <td>0</td>\n",
       "      <td>0</td>\n",
       "      <td>0</td>\n",
       "      <td>0</td>\n",
       "      <td>0</td>\n",
       "      <td>0</td>\n",
       "      <td>0</td>\n",
       "      <td>0</td>\n",
       "      <td>0</td>\n",
       "      <td>0</td>\n",
       "    </tr>\n",
       "    <tr>\n",
       "      <th>θλίβω</th>\n",
       "      <td>0</td>\n",
       "      <td>0</td>\n",
       "      <td>11</td>\n",
       "      <td>0</td>\n",
       "      <td>0</td>\n",
       "      <td>0</td>\n",
       "      <td>0</td>\n",
       "      <td>0</td>\n",
       "      <td>0</td>\n",
       "      <td>0</td>\n",
       "      <td>...</td>\n",
       "      <td>0</td>\n",
       "      <td>0</td>\n",
       "      <td>0</td>\n",
       "      <td>0</td>\n",
       "      <td>0</td>\n",
       "      <td>0</td>\n",
       "      <td>0</td>\n",
       "      <td>0</td>\n",
       "      <td>0</td>\n",
       "      <td>0</td>\n",
       "    </tr>\n",
       "    <tr>\n",
       "      <th>θλίψιν</th>\n",
       "      <td>0</td>\n",
       "      <td>0</td>\n",
       "      <td>0</td>\n",
       "      <td>2</td>\n",
       "      <td>0</td>\n",
       "      <td>0</td>\n",
       "      <td>0</td>\n",
       "      <td>0</td>\n",
       "      <td>0</td>\n",
       "      <td>0</td>\n",
       "      <td>...</td>\n",
       "      <td>0</td>\n",
       "      <td>0</td>\n",
       "      <td>0</td>\n",
       "      <td>0</td>\n",
       "      <td>1</td>\n",
       "      <td>0</td>\n",
       "      <td>0</td>\n",
       "      <td>0</td>\n",
       "      <td>0</td>\n",
       "      <td>0</td>\n",
       "    </tr>\n",
       "    <tr>\n",
       "      <th>διδαχῆς</th>\n",
       "      <td>0</td>\n",
       "      <td>0</td>\n",
       "      <td>0</td>\n",
       "      <td>0</td>\n",
       "      <td>1</td>\n",
       "      <td>0</td>\n",
       "      <td>0</td>\n",
       "      <td>0</td>\n",
       "      <td>0</td>\n",
       "      <td>0</td>\n",
       "      <td>...</td>\n",
       "      <td>0</td>\n",
       "      <td>0</td>\n",
       "      <td>0</td>\n",
       "      <td>0</td>\n",
       "      <td>0</td>\n",
       "      <td>0</td>\n",
       "      <td>0</td>\n",
       "      <td>0</td>\n",
       "      <td>0</td>\n",
       "      <td>0</td>\n",
       "    </tr>\n",
       "    <tr>\n",
       "      <th>...</th>\n",
       "      <td>...</td>\n",
       "      <td>...</td>\n",
       "      <td>...</td>\n",
       "      <td>...</td>\n",
       "      <td>...</td>\n",
       "      <td>...</td>\n",
       "      <td>...</td>\n",
       "      <td>...</td>\n",
       "      <td>...</td>\n",
       "      <td>...</td>\n",
       "      <td>...</td>\n",
       "      <td>...</td>\n",
       "      <td>...</td>\n",
       "      <td>...</td>\n",
       "      <td>...</td>\n",
       "      <td>...</td>\n",
       "      <td>...</td>\n",
       "      <td>...</td>\n",
       "      <td>...</td>\n",
       "      <td>...</td>\n",
       "      <td>...</td>\n",
       "    </tr>\n",
       "    <tr>\n",
       "      <th>ὑπακοην</th>\n",
       "      <td>0</td>\n",
       "      <td>0</td>\n",
       "      <td>0</td>\n",
       "      <td>0</td>\n",
       "      <td>0</td>\n",
       "      <td>0</td>\n",
       "      <td>0</td>\n",
       "      <td>0</td>\n",
       "      <td>0</td>\n",
       "      <td>0</td>\n",
       "      <td>...</td>\n",
       "      <td>0</td>\n",
       "      <td>0</td>\n",
       "      <td>0</td>\n",
       "      <td>0</td>\n",
       "      <td>1</td>\n",
       "      <td>4</td>\n",
       "      <td>0</td>\n",
       "      <td>0</td>\n",
       "      <td>0</td>\n",
       "      <td>0</td>\n",
       "    </tr>\n",
       "    <tr>\n",
       "      <th>ἀντικειμένωνἥτις</th>\n",
       "      <td>0</td>\n",
       "      <td>0</td>\n",
       "      <td>0</td>\n",
       "      <td>0</td>\n",
       "      <td>0</td>\n",
       "      <td>0</td>\n",
       "      <td>0</td>\n",
       "      <td>0</td>\n",
       "      <td>0</td>\n",
       "      <td>0</td>\n",
       "      <td>...</td>\n",
       "      <td>0</td>\n",
       "      <td>0</td>\n",
       "      <td>0</td>\n",
       "      <td>0</td>\n",
       "      <td>2</td>\n",
       "      <td>0</td>\n",
       "      <td>1</td>\n",
       "      <td>1</td>\n",
       "      <td>0</td>\n",
       "      <td>0</td>\n",
       "    </tr>\n",
       "    <tr>\n",
       "      <th>ἔνδειξις</th>\n",
       "      <td>0</td>\n",
       "      <td>0</td>\n",
       "      <td>0</td>\n",
       "      <td>0</td>\n",
       "      <td>0</td>\n",
       "      <td>0</td>\n",
       "      <td>0</td>\n",
       "      <td>0</td>\n",
       "      <td>0</td>\n",
       "      <td>0</td>\n",
       "      <td>...</td>\n",
       "      <td>0</td>\n",
       "      <td>0</td>\n",
       "      <td>0</td>\n",
       "      <td>0</td>\n",
       "      <td>2</td>\n",
       "      <td>0</td>\n",
       "      <td>1</td>\n",
       "      <td>6</td>\n",
       "      <td>0</td>\n",
       "      <td>0</td>\n",
       "    </tr>\n",
       "    <tr>\n",
       "      <th>ὑποτάσσω</th>\n",
       "      <td>0</td>\n",
       "      <td>0</td>\n",
       "      <td>0</td>\n",
       "      <td>0</td>\n",
       "      <td>0</td>\n",
       "      <td>0</td>\n",
       "      <td>0</td>\n",
       "      <td>0</td>\n",
       "      <td>0</td>\n",
       "      <td>0</td>\n",
       "      <td>...</td>\n",
       "      <td>0</td>\n",
       "      <td>0</td>\n",
       "      <td>0</td>\n",
       "      <td>0</td>\n",
       "      <td>0</td>\n",
       "      <td>0</td>\n",
       "      <td>0</td>\n",
       "      <td>0</td>\n",
       "      <td>12</td>\n",
       "      <td>0</td>\n",
       "    </tr>\n",
       "    <tr>\n",
       "      <th>συγχαίρω</th>\n",
       "      <td>0</td>\n",
       "      <td>0</td>\n",
       "      <td>0</td>\n",
       "      <td>0</td>\n",
       "      <td>0</td>\n",
       "      <td>0</td>\n",
       "      <td>0</td>\n",
       "      <td>0</td>\n",
       "      <td>0</td>\n",
       "      <td>0</td>\n",
       "      <td>...</td>\n",
       "      <td>0</td>\n",
       "      <td>0</td>\n",
       "      <td>0</td>\n",
       "      <td>0</td>\n",
       "      <td>0</td>\n",
       "      <td>0</td>\n",
       "      <td>0</td>\n",
       "      <td>0</td>\n",
       "      <td>0</td>\n",
       "      <td>3</td>\n",
       "    </tr>\n",
       "  </tbody>\n",
       "</table>\n",
       "<p>2352 rows × 2352 columns</p>\n",
       "</div>"
      ],
      "text/plain": [
       "                  πρᾶγμα  ἡσσάομαι  θλίβω  θλίψιν  διδαχῆς  ψάλλω  ἐλάχιστόν  \\\n",
       "πρᾶγμα                 4         0      0       0        0      0          0   \n",
       "ἡσσάομαι               0         1      0       0        0      0          0   \n",
       "θλίβω                  0         0     11       0        0      0          0   \n",
       "θλίψιν                 0         0      0       2        0      0          0   \n",
       "διδαχῆς                0         0      0       0        1      0          0   \n",
       "...                  ...       ...    ...     ...      ...    ...        ...   \n",
       "ὑπακοην                0         0      0       0        0      0          0   \n",
       "ἀντικειμένωνἥτις       0         0      0       0        0      0          0   \n",
       "ἔνδειξις               0         0      0       0        0      0          0   \n",
       "ὑποτάσσω               0         0      0       0        0      0          0   \n",
       "συγχαίρω               0         0      0       0        0      0          0   \n",
       "\n",
       "                  διατάσσω  ποῦ  θερίζω  ...  εἴδωλόν  φοβέω  θαυμάζω  \\\n",
       "πρᾶγμα                   0    0       0  ...        0      0        0   \n",
       "ἡσσάομαι                 0    0       0  ...        0      0        0   \n",
       "θλίβω                    0    0       0  ...        0      0        0   \n",
       "θλίψιν                   0    0       0  ...        0      0        0   \n",
       "διδαχῆς                  0    0       0  ...        0      0        0   \n",
       "...                    ...  ...     ...  ...      ...    ...      ...   \n",
       "ὑπακοην                  0    0       0  ...        0      0        0   \n",
       "ἀντικειμένωνἥτις         0    0       0  ...        0      0        0   \n",
       "ἔνδειξις                 0    0       0  ...        0      0        0   \n",
       "ὑποτάσσω                 0    0       0  ...        0      0        0   \n",
       "συγχαίρω                 0    0       0  ...        0      0        0   \n",
       "\n",
       "                  ὀδυρμός  εὐαγγέλιον  ὑπακοην  ἀντικειμένωνἥτις  ἔνδειξις  \\\n",
       "πρᾶγμα                  0           0        0                 0         0   \n",
       "ἡσσάομαι                0           0        0                 0         0   \n",
       "θλίβω                   0           0        0                 0         0   \n",
       "θλίψιν                  0           1        0                 0         0   \n",
       "διδαχῆς                 0           0        0                 0         0   \n",
       "...                   ...         ...      ...               ...       ...   \n",
       "ὑπακοην                 0           1        4                 0         0   \n",
       "ἀντικειμένωνἥτις        0           2        0                 1         1   \n",
       "ἔνδειξις                0           2        0                 1         6   \n",
       "ὑποτάσσω                0           0        0                 0         0   \n",
       "συγχαίρω                0           0        0                 0         0   \n",
       "\n",
       "                  ὑποτάσσω  συγχαίρω  \n",
       "πρᾶγμα                   0         0  \n",
       "ἡσσάομαι                 0         0  \n",
       "θλίβω                    0         0  \n",
       "θλίψιν                   0         0  \n",
       "διδαχῆς                  0         0  \n",
       "...                    ...       ...  \n",
       "ὑπακοην                  0         0  \n",
       "ἀντικειμένωνἥτις         0         0  \n",
       "ἔνδειξις                 0         0  \n",
       "ὑποτάσσω                12         0  \n",
       "συγχαίρω                 0         3  \n",
       "\n",
       "[2352 rows x 2352 columns]"
      ]
     },
     "execution_count": 66,
     "metadata": {
      "tags": []
     },
     "output_type": "execute_result"
    }
   ],
   "source": [
    "term2term_bow_df = pd.DataFrame(term2term_bow.todense(), columns=vocabulary, index=vocabulary)\n",
    "term2term_bow_df"
   ]
  },
  {
   "cell_type": "code",
   "execution_count": null,
   "metadata": {
    "id": "5_2m3288JQl0",
    "outputId": "a237fe9e-5d8a-40ec-b040-458feed42a8a"
   },
   "outputs": [
    {
     "name": "stdout",
     "output_type": "stream",
     "text": [
      "            δικαιοσύνη\n",
      "δικαιοσύνη          62\n",
      "πίστις              25\n",
      "θεάομαι             18\n",
      "νόμος               16\n",
      "λογίζομαι           11\n",
      "χριστοῦ             10\n",
      "ἁμαρτία             10\n",
      "ἰησοῦ               10\n",
      "θεός                 9\n",
      "πᾶς                  9\n",
      "πιστεύω              7\n",
      "περιτομή             7\n",
      "ἀκροβυστία           6\n",
      "πατήρ                6\n",
      "ἀβραάμ               6\n",
      "ἀνομία               5\n",
      "βασιλεύω             5\n",
      "δοῦλος               5\n",
      "κύριος               5\n",
      "ἁμάρτημα             5\n"
     ]
    }
   ],
   "source": [
    "sorted_df = term2term_bow_df.sort_values(\"δικαιοσύνη\", ascending=False)[[\"δικαιοσύνη\"]]\n",
    "print(sorted_df.head(20))"
   ]
  },
  {
   "cell_type": "code",
   "execution_count": null,
   "metadata": {
    "id": "xWMaNQehJQl1",
    "outputId": "2a7150ab-f766-4d68-cc19-6752cab2240f"
   },
   "outputs": [
    {
     "name": "stdout",
     "output_type": "stream",
     "text": [
      "            δίκαιος\n",
      "δίκαιος          14\n",
      "πίστις            8\n",
      "ὅσος              6\n",
      "θεός              6\n",
      "νόμος             5\n",
      "πᾶς               4\n",
      "θεάομαι           4\n",
      "ἕνος              3\n",
      "δικαιοσύνη        3\n",
      "ἁμός              3\n",
      "ζάω               3\n",
      "δικαιόω           2\n",
      "ἀλλ               2\n",
      "ποιέω             2\n",
      "πολύς             2\n",
      "ἅγιος             2\n",
      "καθίστημι         2\n",
      "ἔχω               2\n",
      "γράφω             2\n",
      "εἶμι              2\n"
     ]
    }
   ],
   "source": [
    "sorted_df = term2term_bow_df.sort_values(\"δίκαιος\", ascending=False)[[\"δίκαιος\"]]\n",
    "print(sorted_df.head(20))"
   ]
  },
  {
   "cell_type": "code",
   "execution_count": null,
   "metadata": {
    "id": "246hKpH0JQl1",
    "outputId": "4d6a95b0-465f-4c23-ba57-814622a2e1ad"
   },
   "outputs": [
    {
     "data": {
      "text/html": [
       "<div>\n",
       "<style scoped>\n",
       "    .dataframe tbody tr th:only-of-type {\n",
       "        vertical-align: middle;\n",
       "    }\n",
       "\n",
       "    .dataframe tbody tr th {\n",
       "        vertical-align: top;\n",
       "    }\n",
       "\n",
       "    .dataframe thead th {\n",
       "        text-align: right;\n",
       "    }\n",
       "</style>\n",
       "<table border=\"1\" class=\"dataframe\">\n",
       "  <thead>\n",
       "    <tr style=\"text-align: right;\">\n",
       "      <th></th>\n",
       "      <th>πρᾶγμα</th>\n",
       "      <th>ἡσσάομαι</th>\n",
       "      <th>θλίβω</th>\n",
       "      <th>θλίψιν</th>\n",
       "      <th>διδαχῆς</th>\n",
       "      <th>ψάλλω</th>\n",
       "      <th>ἐλάχιστόν</th>\n",
       "      <th>διατάσσω</th>\n",
       "      <th>ποῦ</th>\n",
       "      <th>θερίζω</th>\n",
       "      <th>...</th>\n",
       "      <th>εἴδωλόν</th>\n",
       "      <th>φοβέω</th>\n",
       "      <th>θαυμάζω</th>\n",
       "      <th>ὀδυρμός</th>\n",
       "      <th>εὐαγγέλιον</th>\n",
       "      <th>ὑπακοην</th>\n",
       "      <th>ἀντικειμένωνἥτις</th>\n",
       "      <th>ἔνδειξις</th>\n",
       "      <th>ὑποτάσσω</th>\n",
       "      <th>συγχαίρω</th>\n",
       "    </tr>\n",
       "  </thead>\n",
       "  <tbody>\n",
       "    <tr>\n",
       "      <th>0</th>\n",
       "      <td>0.003708</td>\n",
       "      <td>0.000052</td>\n",
       "      <td>0.018253</td>\n",
       "      <td>0.000661</td>\n",
       "      <td>0.000759</td>\n",
       "      <td>0.000499</td>\n",
       "      <td>0.000129</td>\n",
       "      <td>0.001352</td>\n",
       "      <td>0.000011</td>\n",
       "      <td>0.001212</td>\n",
       "      <td>...</td>\n",
       "      <td>-6.639306e-16</td>\n",
       "      <td>0.006197</td>\n",
       "      <td>0.000482</td>\n",
       "      <td>0.000551</td>\n",
       "      <td>0.067805</td>\n",
       "      <td>0.012405</td>\n",
       "      <td>0.001671</td>\n",
       "      <td>0.005543</td>\n",
       "      <td>0.014762</td>\n",
       "      <td>0.001498</td>\n",
       "    </tr>\n",
       "    <tr>\n",
       "      <th>1</th>\n",
       "      <td>-0.001711</td>\n",
       "      <td>-0.000088</td>\n",
       "      <td>0.019553</td>\n",
       "      <td>-0.001290</td>\n",
       "      <td>-0.000133</td>\n",
       "      <td>-0.000006</td>\n",
       "      <td>-0.000068</td>\n",
       "      <td>-0.001622</td>\n",
       "      <td>0.000023</td>\n",
       "      <td>0.000156</td>\n",
       "      <td>...</td>\n",
       "      <td>-8.387424e-15</td>\n",
       "      <td>-0.003687</td>\n",
       "      <td>0.000134</td>\n",
       "      <td>-0.000948</td>\n",
       "      <td>-0.018718</td>\n",
       "      <td>-0.002153</td>\n",
       "      <td>0.000014</td>\n",
       "      <td>0.001900</td>\n",
       "      <td>-0.017855</td>\n",
       "      <td>-0.003475</td>\n",
       "    </tr>\n",
       "    <tr>\n",
       "      <th>2</th>\n",
       "      <td>-0.001938</td>\n",
       "      <td>0.000137</td>\n",
       "      <td>-0.002422</td>\n",
       "      <td>0.002927</td>\n",
       "      <td>0.000159</td>\n",
       "      <td>0.000678</td>\n",
       "      <td>0.000282</td>\n",
       "      <td>-0.000731</td>\n",
       "      <td>0.000011</td>\n",
       "      <td>0.001485</td>\n",
       "      <td>...</td>\n",
       "      <td>2.157429e-14</td>\n",
       "      <td>0.002290</td>\n",
       "      <td>0.000561</td>\n",
       "      <td>0.002798</td>\n",
       "      <td>0.067655</td>\n",
       "      <td>0.000908</td>\n",
       "      <td>0.002165</td>\n",
       "      <td>0.003588</td>\n",
       "      <td>-0.019197</td>\n",
       "      <td>-0.003370</td>\n",
       "    </tr>\n",
       "    <tr>\n",
       "      <th>3</th>\n",
       "      <td>-0.000222</td>\n",
       "      <td>-0.000004</td>\n",
       "      <td>-0.019747</td>\n",
       "      <td>-0.001763</td>\n",
       "      <td>0.000364</td>\n",
       "      <td>0.001681</td>\n",
       "      <td>-0.000111</td>\n",
       "      <td>0.000080</td>\n",
       "      <td>-0.000030</td>\n",
       "      <td>0.004362</td>\n",
       "      <td>...</td>\n",
       "      <td>-1.263571e-13</td>\n",
       "      <td>-0.012455</td>\n",
       "      <td>0.000969</td>\n",
       "      <td>-0.001761</td>\n",
       "      <td>-0.010202</td>\n",
       "      <td>0.017871</td>\n",
       "      <td>0.004209</td>\n",
       "      <td>0.011782</td>\n",
       "      <td>0.010564</td>\n",
       "      <td>-0.000816</td>\n",
       "    </tr>\n",
       "    <tr>\n",
       "      <th>4</th>\n",
       "      <td>-0.000502</td>\n",
       "      <td>-0.000153</td>\n",
       "      <td>0.002632</td>\n",
       "      <td>-0.000557</td>\n",
       "      <td>0.003583</td>\n",
       "      <td>0.000096</td>\n",
       "      <td>-0.000091</td>\n",
       "      <td>-0.001782</td>\n",
       "      <td>-0.000024</td>\n",
       "      <td>0.000647</td>\n",
       "      <td>...</td>\n",
       "      <td>3.878321e-13</td>\n",
       "      <td>0.000985</td>\n",
       "      <td>-0.000747</td>\n",
       "      <td>-0.000634</td>\n",
       "      <td>-0.038459</td>\n",
       "      <td>-0.009959</td>\n",
       "      <td>-0.001097</td>\n",
       "      <td>0.004457</td>\n",
       "      <td>-0.003471</td>\n",
       "      <td>-0.000706</td>\n",
       "    </tr>\n",
       "    <tr>\n",
       "      <th>...</th>\n",
       "      <td>...</td>\n",
       "      <td>...</td>\n",
       "      <td>...</td>\n",
       "      <td>...</td>\n",
       "      <td>...</td>\n",
       "      <td>...</td>\n",
       "      <td>...</td>\n",
       "      <td>...</td>\n",
       "      <td>...</td>\n",
       "      <td>...</td>\n",
       "      <td>...</td>\n",
       "      <td>...</td>\n",
       "      <td>...</td>\n",
       "      <td>...</td>\n",
       "      <td>...</td>\n",
       "      <td>...</td>\n",
       "      <td>...</td>\n",
       "      <td>...</td>\n",
       "      <td>...</td>\n",
       "      <td>...</td>\n",
       "      <td>...</td>\n",
       "    </tr>\n",
       "    <tr>\n",
       "      <th>145</th>\n",
       "      <td>-0.010291</td>\n",
       "      <td>0.003474</td>\n",
       "      <td>-0.049004</td>\n",
       "      <td>-0.001600</td>\n",
       "      <td>-0.011729</td>\n",
       "      <td>0.012179</td>\n",
       "      <td>-0.004205</td>\n",
       "      <td>-0.002103</td>\n",
       "      <td>0.003453</td>\n",
       "      <td>-0.016910</td>\n",
       "      <td>...</td>\n",
       "      <td>-8.785520e-07</td>\n",
       "      <td>0.014278</td>\n",
       "      <td>-0.002597</td>\n",
       "      <td>-0.005485</td>\n",
       "      <td>-0.006336</td>\n",
       "      <td>0.026199</td>\n",
       "      <td>-0.013394</td>\n",
       "      <td>-0.005216</td>\n",
       "      <td>0.001714</td>\n",
       "      <td>-0.009270</td>\n",
       "    </tr>\n",
       "    <tr>\n",
       "      <th>146</th>\n",
       "      <td>-0.028570</td>\n",
       "      <td>0.007097</td>\n",
       "      <td>0.005474</td>\n",
       "      <td>-0.006091</td>\n",
       "      <td>0.003053</td>\n",
       "      <td>0.004164</td>\n",
       "      <td>0.001158</td>\n",
       "      <td>0.001073</td>\n",
       "      <td>-0.001872</td>\n",
       "      <td>-0.020473</td>\n",
       "      <td>...</td>\n",
       "      <td>-7.591400e-08</td>\n",
       "      <td>-0.000330</td>\n",
       "      <td>0.004361</td>\n",
       "      <td>0.010873</td>\n",
       "      <td>-0.017895</td>\n",
       "      <td>0.000099</td>\n",
       "      <td>-0.006938</td>\n",
       "      <td>-0.027157</td>\n",
       "      <td>0.002984</td>\n",
       "      <td>-0.024311</td>\n",
       "    </tr>\n",
       "    <tr>\n",
       "      <th>147</th>\n",
       "      <td>-0.005424</td>\n",
       "      <td>-0.004964</td>\n",
       "      <td>0.012694</td>\n",
       "      <td>-0.006861</td>\n",
       "      <td>-0.005116</td>\n",
       "      <td>0.001409</td>\n",
       "      <td>0.001862</td>\n",
       "      <td>0.009463</td>\n",
       "      <td>0.000358</td>\n",
       "      <td>0.006379</td>\n",
       "      <td>...</td>\n",
       "      <td>-5.241422e-07</td>\n",
       "      <td>0.028197</td>\n",
       "      <td>0.001656</td>\n",
       "      <td>-0.004227</td>\n",
       "      <td>-0.005124</td>\n",
       "      <td>-0.052964</td>\n",
       "      <td>0.022026</td>\n",
       "      <td>0.048630</td>\n",
       "      <td>0.046711</td>\n",
       "      <td>0.013198</td>\n",
       "    </tr>\n",
       "    <tr>\n",
       "      <th>148</th>\n",
       "      <td>0.021749</td>\n",
       "      <td>-0.000103</td>\n",
       "      <td>0.003712</td>\n",
       "      <td>-0.005903</td>\n",
       "      <td>-0.006872</td>\n",
       "      <td>-0.016247</td>\n",
       "      <td>0.007232</td>\n",
       "      <td>0.009815</td>\n",
       "      <td>-0.003137</td>\n",
       "      <td>-0.054888</td>\n",
       "      <td>...</td>\n",
       "      <td>-5.550533e-07</td>\n",
       "      <td>0.046293</td>\n",
       "      <td>0.007101</td>\n",
       "      <td>0.002207</td>\n",
       "      <td>-0.021809</td>\n",
       "      <td>-0.019193</td>\n",
       "      <td>-0.008599</td>\n",
       "      <td>0.001844</td>\n",
       "      <td>-0.025452</td>\n",
       "      <td>-0.006316</td>\n",
       "    </tr>\n",
       "    <tr>\n",
       "      <th>149</th>\n",
       "      <td>-0.027197</td>\n",
       "      <td>0.006671</td>\n",
       "      <td>0.081570</td>\n",
       "      <td>0.005786</td>\n",
       "      <td>0.001441</td>\n",
       "      <td>-0.004829</td>\n",
       "      <td>-0.006967</td>\n",
       "      <td>0.011033</td>\n",
       "      <td>0.000643</td>\n",
       "      <td>0.004888</td>\n",
       "      <td>...</td>\n",
       "      <td>1.044442e-06</td>\n",
       "      <td>-0.075610</td>\n",
       "      <td>0.005381</td>\n",
       "      <td>-0.018584</td>\n",
       "      <td>-0.017883</td>\n",
       "      <td>0.014740</td>\n",
       "      <td>-0.005240</td>\n",
       "      <td>-0.006850</td>\n",
       "      <td>-0.059799</td>\n",
       "      <td>0.002114</td>\n",
       "    </tr>\n",
       "  </tbody>\n",
       "</table>\n",
       "<p>150 rows × 2352 columns</p>\n",
       "</div>"
      ],
      "text/plain": [
       "       πρᾶγμα  ἡσσάομαι     θλίβω    θλίψιν   διδαχῆς     ψάλλω  ἐλάχιστόν  \\\n",
       "0    0.003708  0.000052  0.018253  0.000661  0.000759  0.000499   0.000129   \n",
       "1   -0.001711 -0.000088  0.019553 -0.001290 -0.000133 -0.000006  -0.000068   \n",
       "2   -0.001938  0.000137 -0.002422  0.002927  0.000159  0.000678   0.000282   \n",
       "3   -0.000222 -0.000004 -0.019747 -0.001763  0.000364  0.001681  -0.000111   \n",
       "4   -0.000502 -0.000153  0.002632 -0.000557  0.003583  0.000096  -0.000091   \n",
       "..        ...       ...       ...       ...       ...       ...        ...   \n",
       "145 -0.010291  0.003474 -0.049004 -0.001600 -0.011729  0.012179  -0.004205   \n",
       "146 -0.028570  0.007097  0.005474 -0.006091  0.003053  0.004164   0.001158   \n",
       "147 -0.005424 -0.004964  0.012694 -0.006861 -0.005116  0.001409   0.001862   \n",
       "148  0.021749 -0.000103  0.003712 -0.005903 -0.006872 -0.016247   0.007232   \n",
       "149 -0.027197  0.006671  0.081570  0.005786  0.001441 -0.004829  -0.006967   \n",
       "\n",
       "     διατάσσω       ποῦ    θερίζω  ...       εἴδωλόν     φοβέω   θαυμάζω  \\\n",
       "0    0.001352  0.000011  0.001212  ... -6.639306e-16  0.006197  0.000482   \n",
       "1   -0.001622  0.000023  0.000156  ... -8.387424e-15 -0.003687  0.000134   \n",
       "2   -0.000731  0.000011  0.001485  ...  2.157429e-14  0.002290  0.000561   \n",
       "3    0.000080 -0.000030  0.004362  ... -1.263571e-13 -0.012455  0.000969   \n",
       "4   -0.001782 -0.000024  0.000647  ...  3.878321e-13  0.000985 -0.000747   \n",
       "..        ...       ...       ...  ...           ...       ...       ...   \n",
       "145 -0.002103  0.003453 -0.016910  ... -8.785520e-07  0.014278 -0.002597   \n",
       "146  0.001073 -0.001872 -0.020473  ... -7.591400e-08 -0.000330  0.004361   \n",
       "147  0.009463  0.000358  0.006379  ... -5.241422e-07  0.028197  0.001656   \n",
       "148  0.009815 -0.003137 -0.054888  ... -5.550533e-07  0.046293  0.007101   \n",
       "149  0.011033  0.000643  0.004888  ...  1.044442e-06 -0.075610  0.005381   \n",
       "\n",
       "      ὀδυρμός  εὐαγγέλιον   ὑπακοην  ἀντικειμένωνἥτις  ἔνδειξις  ὑποτάσσω  \\\n",
       "0    0.000551    0.067805  0.012405          0.001671  0.005543  0.014762   \n",
       "1   -0.000948   -0.018718 -0.002153          0.000014  0.001900 -0.017855   \n",
       "2    0.002798    0.067655  0.000908          0.002165  0.003588 -0.019197   \n",
       "3   -0.001761   -0.010202  0.017871          0.004209  0.011782  0.010564   \n",
       "4   -0.000634   -0.038459 -0.009959         -0.001097  0.004457 -0.003471   \n",
       "..        ...         ...       ...               ...       ...       ...   \n",
       "145 -0.005485   -0.006336  0.026199         -0.013394 -0.005216  0.001714   \n",
       "146  0.010873   -0.017895  0.000099         -0.006938 -0.027157  0.002984   \n",
       "147 -0.004227   -0.005124 -0.052964          0.022026  0.048630  0.046711   \n",
       "148  0.002207   -0.021809 -0.019193         -0.008599  0.001844 -0.025452   \n",
       "149 -0.018584   -0.017883  0.014740         -0.005240 -0.006850 -0.059799   \n",
       "\n",
       "     συγχαίρω  \n",
       "0    0.001498  \n",
       "1   -0.003475  \n",
       "2   -0.003370  \n",
       "3   -0.000816  \n",
       "4   -0.000706  \n",
       "..        ...  \n",
       "145 -0.009270  \n",
       "146 -0.024311  \n",
       "147  0.013198  \n",
       "148 -0.006316  \n",
       "149  0.002114  \n",
       "\n",
       "[150 rows x 2352 columns]"
      ]
     },
     "execution_count": 60,
     "metadata": {
      "tags": []
     },
     "output_type": "execute_result"
    }
   ],
   "source": [
    "lsa_model_data"
   ]
  },
  {
   "cell_type": "code",
   "execution_count": null,
   "metadata": {
    "id": "Bzir6KHAJQl1",
    "outputId": "1b91834a-419d-47c6-f099-7a5a459e0249"
   },
   "outputs": [
    {
     "data": {
      "text/html": [
       "<div>\n",
       "<style scoped>\n",
       "    .dataframe tbody tr th:only-of-type {\n",
       "        vertical-align: middle;\n",
       "    }\n",
       "\n",
       "    .dataframe tbody tr th {\n",
       "        vertical-align: top;\n",
       "    }\n",
       "\n",
       "    .dataframe thead th {\n",
       "        text-align: right;\n",
       "    }\n",
       "</style>\n",
       "<table border=\"1\" class=\"dataframe\">\n",
       "  <thead>\n",
       "    <tr style=\"text-align: right;\">\n",
       "      <th></th>\n",
       "      <th>πρᾶγμα</th>\n",
       "      <th>ἡσσάομαι</th>\n",
       "      <th>θλίβω</th>\n",
       "      <th>θλίψιν</th>\n",
       "      <th>διδαχῆς</th>\n",
       "      <th>ψάλλω</th>\n",
       "      <th>ἐλάχιστόν</th>\n",
       "      <th>διατάσσω</th>\n",
       "      <th>ποῦ</th>\n",
       "      <th>θερίζω</th>\n",
       "      <th>...</th>\n",
       "      <th>εἴδωλόν</th>\n",
       "      <th>φοβέω</th>\n",
       "      <th>θαυμάζω</th>\n",
       "      <th>ὀδυρμός</th>\n",
       "      <th>εὐαγγέλιον</th>\n",
       "      <th>ὑπακοην</th>\n",
       "      <th>ἀντικειμένωνἥτις</th>\n",
       "      <th>ἔνδειξις</th>\n",
       "      <th>ὑποτάσσω</th>\n",
       "      <th>συγχαίρω</th>\n",
       "    </tr>\n",
       "  </thead>\n",
       "  <tbody>\n",
       "    <tr>\n",
       "      <th>0</th>\n",
       "      <td>0</td>\n",
       "      <td>0</td>\n",
       "      <td>0</td>\n",
       "      <td>0</td>\n",
       "      <td>0</td>\n",
       "      <td>0</td>\n",
       "      <td>0</td>\n",
       "      <td>0</td>\n",
       "      <td>0</td>\n",
       "      <td>0</td>\n",
       "      <td>...</td>\n",
       "      <td>0</td>\n",
       "      <td>0</td>\n",
       "      <td>0</td>\n",
       "      <td>0</td>\n",
       "      <td>1</td>\n",
       "      <td>1</td>\n",
       "      <td>0</td>\n",
       "      <td>0</td>\n",
       "      <td>0</td>\n",
       "      <td>0</td>\n",
       "    </tr>\n",
       "    <tr>\n",
       "      <th>1</th>\n",
       "      <td>0</td>\n",
       "      <td>0</td>\n",
       "      <td>0</td>\n",
       "      <td>0</td>\n",
       "      <td>0</td>\n",
       "      <td>0</td>\n",
       "      <td>0</td>\n",
       "      <td>0</td>\n",
       "      <td>0</td>\n",
       "      <td>0</td>\n",
       "      <td>...</td>\n",
       "      <td>0</td>\n",
       "      <td>0</td>\n",
       "      <td>0</td>\n",
       "      <td>0</td>\n",
       "      <td>0</td>\n",
       "      <td>0</td>\n",
       "      <td>0</td>\n",
       "      <td>0</td>\n",
       "      <td>0</td>\n",
       "      <td>0</td>\n",
       "    </tr>\n",
       "    <tr>\n",
       "      <th>2</th>\n",
       "      <td>0</td>\n",
       "      <td>0</td>\n",
       "      <td>0</td>\n",
       "      <td>0</td>\n",
       "      <td>0</td>\n",
       "      <td>0</td>\n",
       "      <td>0</td>\n",
       "      <td>0</td>\n",
       "      <td>0</td>\n",
       "      <td>0</td>\n",
       "      <td>...</td>\n",
       "      <td>0</td>\n",
       "      <td>0</td>\n",
       "      <td>0</td>\n",
       "      <td>0</td>\n",
       "      <td>0</td>\n",
       "      <td>0</td>\n",
       "      <td>0</td>\n",
       "      <td>0</td>\n",
       "      <td>0</td>\n",
       "      <td>0</td>\n",
       "    </tr>\n",
       "    <tr>\n",
       "      <th>3</th>\n",
       "      <td>0</td>\n",
       "      <td>0</td>\n",
       "      <td>0</td>\n",
       "      <td>0</td>\n",
       "      <td>0</td>\n",
       "      <td>0</td>\n",
       "      <td>0</td>\n",
       "      <td>0</td>\n",
       "      <td>0</td>\n",
       "      <td>0</td>\n",
       "      <td>...</td>\n",
       "      <td>0</td>\n",
       "      <td>0</td>\n",
       "      <td>0</td>\n",
       "      <td>0</td>\n",
       "      <td>1</td>\n",
       "      <td>0</td>\n",
       "      <td>0</td>\n",
       "      <td>0</td>\n",
       "      <td>0</td>\n",
       "      <td>0</td>\n",
       "    </tr>\n",
       "    <tr>\n",
       "      <th>4</th>\n",
       "      <td>0</td>\n",
       "      <td>0</td>\n",
       "      <td>0</td>\n",
       "      <td>0</td>\n",
       "      <td>0</td>\n",
       "      <td>0</td>\n",
       "      <td>0</td>\n",
       "      <td>0</td>\n",
       "      <td>0</td>\n",
       "      <td>0</td>\n",
       "      <td>...</td>\n",
       "      <td>0</td>\n",
       "      <td>0</td>\n",
       "      <td>0</td>\n",
       "      <td>0</td>\n",
       "      <td>0</td>\n",
       "      <td>0</td>\n",
       "      <td>0</td>\n",
       "      <td>0</td>\n",
       "      <td>0</td>\n",
       "      <td>0</td>\n",
       "    </tr>\n",
       "  </tbody>\n",
       "</table>\n",
       "<p>5 rows × 2352 columns</p>\n",
       "</div>"
      ],
      "text/plain": [
       "   πρᾶγμα  ἡσσάομαι  θλίβω  θλίψιν  διδαχῆς  ψάλλω  ἐλάχιστόν  διατάσσω  ποῦ  \\\n",
       "0       0         0      0       0        0      0          0         0    0   \n",
       "1       0         0      0       0        0      0          0         0    0   \n",
       "2       0         0      0       0        0      0          0         0    0   \n",
       "3       0         0      0       0        0      0          0         0    0   \n",
       "4       0         0      0       0        0      0          0         0    0   \n",
       "\n",
       "   θερίζω  ...  εἴδωλόν  φοβέω  θαυμάζω  ὀδυρμός  εὐαγγέλιον  ὑπακοην  \\\n",
       "0       0  ...        0      0        0        0           1        1   \n",
       "1       0  ...        0      0        0        0           0        0   \n",
       "2       0  ...        0      0        0        0           0        0   \n",
       "3       0  ...        0      0        0        0           1        0   \n",
       "4       0  ...        0      0        0        0           0        0   \n",
       "\n",
       "   ἀντικειμένωνἥτις  ἔνδειξις  ὑποτάσσω  συγχαίρω  \n",
       "0                 0         0         0         0  \n",
       "1                 0         0         0         0  \n",
       "2                 0         0         0         0  \n",
       "3                 0         0         0         0  \n",
       "4                 0         0         0         0  \n",
       "\n",
       "[5 rows x 2352 columns]"
      ]
     },
     "execution_count": 49,
     "metadata": {
      "tags": []
     },
     "output_type": "execute_result"
    }
   ],
   "source": [
    "doc2term_df = pd.DataFrame(bow_doc2term.toarray(), columns=vocabulary)\n",
    "doc2term_df.head()"
   ]
  },
  {
   "cell_type": "code",
   "execution_count": null,
   "metadata": {
    "id": "fRsrUHsNJQl1"
   },
   "outputs": [],
   "source": [
    "def lsa_model(docs):\n",
    "    vocabulary =  list(set([word for doc in docs for word in doc]))\n",
    "    tfidf =  TfidfVectorizer(vocabulary=vocabulary) ### initiaze the model\n",
    "    X = tfidf.fit_transform([\" \".join(doc) for doc in docs]) ### run the model\n",
    "    Xc = (X.T * X)\n",
    "    svd = TruncatedSVD(n_components=50, n_iter=5, random_state=42)\n",
    "    svd.fit(Xc)\n",
    "    #term2doc = pd.DataFrame(Xc.toarray(), columns=vec.get_feature_names(), index=vec.get_feature_names())\n",
    "    lsa_model_data = pd.DataFrame(svd.components_, columns=vec.get_feature_names())\n",
    "    return lsa_model_data, Xc#term2doc"
   ]
  },
  {
   "cell_type": "code",
   "execution_count": null,
   "metadata": {
    "id": "Tarr--k1JQl1"
   },
   "outputs": [],
   "source": [
    "model, term2doc = lsa_model(christian_docs)"
   ]
  },
  {
   "cell_type": "code",
   "execution_count": null,
   "metadata": {
    "id": "JTUzIy8hJQl1",
    "outputId": "7dc8123b-b890-455b-d62f-51fafa9a9172"
   },
   "outputs": [
    {
     "data": {
      "text/plain": [
       "117515"
      ]
     },
     "execution_count": 108,
     "metadata": {
      "tags": []
     },
     "output_type": "execute_result"
    }
   ],
   "source": [
    "len(model.columns)"
   ]
  },
  {
   "cell_type": "code",
   "execution_count": null,
   "metadata": {
    "id": "WO8ljN_gJQl1"
   },
   "outputs": [],
   "source": [
    "def get_most_similar(model_df, target_term, number):\n",
    "  all_similar = []\n",
    "  for term in model_df.columns:\n",
    "    similarity = (term, cosine_similarity([model_df[target_term],  model_df[term]])[0][1])\n",
    "    all_similar.append(similarity)\n",
    "  return sorted(all_similar, key=lambda number: number[1], reverse=True)[1:number]"
   ]
  },
  {
   "cell_type": "code",
   "execution_count": null,
   "metadata": {
    "id": "WIhFzMqsJQl1"
   },
   "outputs": [],
   "source": [
    "words = [\"δίκαιος\", \"δίκη\", \"δικαιοσύνη\"]"
   ]
  },
  {
   "cell_type": "code",
   "execution_count": null,
   "metadata": {
    "id": "wl4yZvI_JQl1"
   },
   "outputs": [],
   "source": [
    "neighbours = {}  \n",
    "for word in words:\n",
    "    neighbours[word] = get_most_similar(model, word, 10)"
   ]
  },
  {
   "cell_type": "code",
   "execution_count": null,
   "metadata": {
    "id": "rWGmcHClJQl1",
    "outputId": "0d8471d4-c2a4-4e15-e6b7-d5ee60fcfc53"
   },
   "outputs": [
    {
     "data": {
      "text/html": [
       "<div>\n",
       "<style scoped>\n",
       "    .dataframe tbody tr th:only-of-type {\n",
       "        vertical-align: middle;\n",
       "    }\n",
       "\n",
       "    .dataframe tbody tr th {\n",
       "        vertical-align: top;\n",
       "    }\n",
       "\n",
       "    .dataframe thead th {\n",
       "        text-align: right;\n",
       "    }\n",
       "</style>\n",
       "<table border=\"1\" class=\"dataframe\">\n",
       "  <thead>\n",
       "    <tr style=\"text-align: right;\">\n",
       "      <th></th>\n",
       "      <th>δίκαιος</th>\n",
       "      <th>δίκη</th>\n",
       "      <th>δικαιοσύνη</th>\n",
       "    </tr>\n",
       "  </thead>\n",
       "  <tbody>\n",
       "    <tr>\n",
       "      <th>0</th>\n",
       "      <td>(ιειμένην, 0.9834371832818561)</td>\n",
       "      <td>(μετελεύσονται, 0.9384522490347709)</td>\n",
       "      <td>(καθυπηρετεῖ, 0.9710013738851778)</td>\n",
       "    </tr>\n",
       "    <tr>\n",
       "      <th>1</th>\n",
       "      <td>(εὐστοχίου, 0.9830720889621722)</td>\n",
       "      <td>(ἐπικουροί, 0.9384522490347709)</td>\n",
       "      <td>(ἐνδύσονται, 0.9706819000158255)</td>\n",
       "    </tr>\n",
       "    <tr>\n",
       "      <th>2</th>\n",
       "      <td>(λογιωτάτου, 0.9830720889621722)</td>\n",
       "      <td>(ἐριννύες, 0.9384522490347709)</td>\n",
       "      <td>(σιοί, 0.9706819000158255)</td>\n",
       "    </tr>\n",
       "    <tr>\n",
       "      <th>3</th>\n",
       "      <td>(λελύπηται, 0.9830720889621722)</td>\n",
       "      <td>(καταπεπηγμένων, 0.9344969432505092)</td>\n",
       "      <td>(περικτᾶται, 0.9699396541878471)</td>\n",
       "    </tr>\n",
       "    <tr>\n",
       "      <th>4</th>\n",
       "      <td>(τηρούσης, 0.9827599613491105)</td>\n",
       "      <td>(ἐξέτισας, 0.9182233983592916)</td>\n",
       "      <td>(ἡδυπαθείᾳ, 0.9699396541878471)</td>\n",
       "    </tr>\n",
       "    <tr>\n",
       "      <th>5</th>\n",
       "      <td>(μιμείσθω, 0.9826270670854331)</td>\n",
       "      <td>(γλωσσαργία, 0.8999555833389017)</td>\n",
       "      <td>(ἅνευ, 0.9695269024725653)</td>\n",
       "    </tr>\n",
       "    <tr>\n",
       "      <th>6</th>\n",
       "      <td>(ἰὼδ, 0.9822301096106603)</td>\n",
       "      <td>(κρυσταλλοειδεῖ, 0.8997426356399815)</td>\n",
       "      <td>(χρωννύντες, 0.9695269024725653)</td>\n",
       "    </tr>\n",
       "    <tr>\n",
       "      <th>7</th>\n",
       "      <td>(ἐπαράντων, 0.9820947343036778)</td>\n",
       "      <td>(διώκτας, 0.8970726088109655)</td>\n",
       "      <td>(πρυπορεύσεται, 0.9662484878532644)</td>\n",
       "    </tr>\n",
       "    <tr>\n",
       "      <th>8</th>\n",
       "      <td>(πειλθαρχεῖν, 0.9820947343036778)</td>\n",
       "      <td>(προςώποις, 0.8861867911971005)</td>\n",
       "      <td>(ἐπιφαινέσθω, 0.9660042345965665)</td>\n",
       "    </tr>\n",
       "  </tbody>\n",
       "</table>\n",
       "</div>"
      ],
      "text/plain": [
       "                             δίκαιος                                  δίκη  \\\n",
       "0     (ιειμένην, 0.9834371832818561)   (μετελεύσονται, 0.9384522490347709)   \n",
       "1    (εὐστοχίου, 0.9830720889621722)       (ἐπικουροί, 0.9384522490347709)   \n",
       "2   (λογιωτάτου, 0.9830720889621722)        (ἐριννύες, 0.9384522490347709)   \n",
       "3    (λελύπηται, 0.9830720889621722)  (καταπεπηγμένων, 0.9344969432505092)   \n",
       "4     (τηρούσης, 0.9827599613491105)        (ἐξέτισας, 0.9182233983592916)   \n",
       "5     (μιμείσθω, 0.9826270670854331)      (γλωσσαργία, 0.8999555833389017)   \n",
       "6          (ἰὼδ, 0.9822301096106603)  (κρυσταλλοειδεῖ, 0.8997426356399815)   \n",
       "7    (ἐπαράντων, 0.9820947343036778)         (διώκτας, 0.8970726088109655)   \n",
       "8  (πειλθαρχεῖν, 0.9820947343036778)       (προςώποις, 0.8861867911971005)   \n",
       "\n",
       "                            δικαιοσύνη  \n",
       "0    (καθυπηρετεῖ, 0.9710013738851778)  \n",
       "1     (ἐνδύσονται, 0.9706819000158255)  \n",
       "2           (σιοί, 0.9706819000158255)  \n",
       "3     (περικτᾶται, 0.9699396541878471)  \n",
       "4      (ἡδυπαθείᾳ, 0.9699396541878471)  \n",
       "5           (ἅνευ, 0.9695269024725653)  \n",
       "6     (χρωννύντες, 0.9695269024725653)  \n",
       "7  (πρυπορεύσεται, 0.9662484878532644)  \n",
       "8    (ἐπιφαινέσθω, 0.9660042345965665)  "
      ]
     },
     "execution_count": 110,
     "metadata": {
      "tags": []
     },
     "output_type": "execute_result"
    }
   ],
   "source": [
    "pd.DataFrame(neighbours)"
   ]
  },
  {
   "cell_type": "code",
   "execution_count": null,
   "metadata": {
    "id": "lrC6CyzKJQl2"
   },
   "outputs": [],
   "source": []
  }
 ],
 "metadata": {
  "colab": {
   "name": "OVERVIEW.ipynb",
   "provenance": []
  },
  "kernelspec": {
   "display_name": "Python 3",
   "language": "python",
   "name": "python3"
  },
  "language_info": {
   "codemirror_mode": {
    "name": "ipython",
    "version": 3
   },
   "file_extension": ".py",
   "mimetype": "text/x-python",
   "name": "python",
   "nbconvert_exporter": "python",
   "pygments_lexer": "ipython3",
   "version": "3.6.9"
  }
 },
 "nbformat": 4,
 "nbformat_minor": 4
}
