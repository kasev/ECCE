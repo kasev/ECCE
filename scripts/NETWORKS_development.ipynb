{
 "cells": [
  {
   "cell_type": "code",
   "execution_count": 1,
   "metadata": {
    "colab": {
     "base_uri": "https://localhost:8080/"
    },
    "id": "YLcAu3mXJOpL",
    "outputId": "f6031a77-240e-4c72-fb76-e6e20186523b"
   },
   "outputs": [],
   "source": [
    "### PREREQUISTIES\n",
    "### (many used only in one notebook...)\n",
    "\n",
    "import os\n",
    "from importlib import reload\n",
    "import pandas as pd\n",
    "import numpy as np\n",
    "import pickle\n",
    "import collections\n",
    "import math\n",
    "import random\n",
    "import sys\n",
    "import csv\n",
    "import unicodedata\n",
    "import requests\n",
    "import re\n",
    "import networkx as nx\n",
    "from scipy import stats\n",
    "import plotly\n",
    "import kaleido\n",
    "\n",
    "import nltk\n",
    "\n",
    "import matplotlib.pyplot as plt\n",
    "import seaborn as sns\n",
    "\n",
    "# gensim parts\n",
    "from gensim import corpora\n",
    "from gensim import models\n",
    "\n",
    "### scikit-learn\n",
    "from sklearn.feature_extraction.text import CountVectorizer\n",
    "from sklearn.feature_extraction.text import TfidfVectorizer\n",
    "\n",
    "from sklearn.decomposition import TruncatedSVD \n",
    "from sklearn.metrics.pairwise import cosine_similarity\n",
    "from sklearn.metrics.pairwise import euclidean_distances\n",
    "\n",
    "import plotly.graph_objects as go\n",
    "\n",
    "import sddk"
   ]
  },
  {
   "cell_type": "code",
   "execution_count": 2,
   "metadata": {},
   "outputs": [
    {
     "data": {
      "text/html": [
       "        <script type=\"text/javascript\">\n",
       "        window.PlotlyConfig = {MathJaxConfig: 'local'};\n",
       "        if (window.MathJax) {MathJax.Hub.Config({SVG: {font: \"STIX-Web\"}});}\n",
       "        if (typeof require !== 'undefined') {\n",
       "        require.undef(\"plotly\");\n",
       "        requirejs.config({\n",
       "            paths: {\n",
       "                'plotly': ['https://cdn.plot.ly/plotly-latest.min']\n",
       "            }\n",
       "        });\n",
       "        require(['plotly'], function(Plotly) {\n",
       "            window._Plotly = Plotly;\n",
       "        });\n",
       "        }\n",
       "        </script>\n",
       "        "
      ]
     },
     "metadata": {},
     "output_type": "display_data"
    }
   ],
   "source": [
    "import textnet"
   ]
  },
  {
   "cell_type": "code",
   "execution_count": 3,
   "metadata": {},
   "outputs": [
    {
     "data": {
      "text/html": [
       "        <script type=\"text/javascript\">\n",
       "        window.PlotlyConfig = {MathJaxConfig: 'local'};\n",
       "        if (window.MathJax) {MathJax.Hub.Config({SVG: {font: \"STIX-Web\"}});}\n",
       "        if (typeof require !== 'undefined') {\n",
       "        require.undef(\"plotly\");\n",
       "        requirejs.config({\n",
       "            paths: {\n",
       "                'plotly': ['https://cdn.plot.ly/plotly-latest.min']\n",
       "            }\n",
       "        });\n",
       "        require(['plotly'], function(Plotly) {\n",
       "            window._Plotly = Plotly;\n",
       "        });\n",
       "        }\n",
       "        </script>\n",
       "        "
      ]
     },
     "metadata": {},
     "output_type": "display_data"
    },
    {
     "data": {
      "text/plain": [
       "<module 'textnet' from '/home/kasev/ECCE_AGT/scripts/textnet.py'>"
      ]
     },
     "execution_count": 3,
     "metadata": {},
     "output_type": "execute_result"
    }
   ],
   "source": [
    "reload(textnet)"
   ]
  },
  {
   "cell_type": "code",
   "execution_count": 4,
   "metadata": {
    "colab": {
     "base_uri": "https://localhost:8080/"
    },
    "id": "Vk65k519TvBW",
    "outputId": "92254476-4708-4e31-a8a4-7ceedba66d8b"
   },
   "outputs": [
    {
     "name": "stdout",
     "output_type": "stream",
     "text": [
      "sciencedata.dk username (format '123456@au.dk'): 648597@au.dk\n",
      "sciencedata.dk password: ········\n",
      "connection with shared folder established with you as its owner\n",
      "endpoint variable has been configured to: https://sciencedata.dk/files/SDAM_root/\n"
     ]
    }
   ],
   "source": [
    "### not neccessary for reading the data, just for exporting them to sciencedata.dk\n",
    "conf = sddk.configure(\"SDAM_root\", \"648597@au.dk\")"
   ]
  },
  {
   "cell_type": "code",
   "execution_count": 6,
   "metadata": {
    "colab": {
     "base_uri": "https://localhost:8080/",
     "height": 394
    },
    "id": "uZILdTQmJQlv",
    "outputId": "507cee95-3b09-4f0d-cce8-72b93780d888"
   },
   "outputs": [
    {
     "data": {
      "text/html": [
       "<div>\n",
       "<style scoped>\n",
       "    .dataframe tbody tr th:only-of-type {\n",
       "        vertical-align: middle;\n",
       "    }\n",
       "\n",
       "    .dataframe tbody tr th {\n",
       "        vertical-align: top;\n",
       "    }\n",
       "\n",
       "    .dataframe thead th {\n",
       "        text-align: right;\n",
       "    }\n",
       "</style>\n",
       "<table border=\"1\" class=\"dataframe\">\n",
       "  <thead>\n",
       "    <tr style=\"text-align: right;\">\n",
       "      <th></th>\n",
       "      <th>filename</th>\n",
       "      <th>author</th>\n",
       "      <th>title</th>\n",
       "      <th>wordcount</th>\n",
       "      <th>author_id</th>\n",
       "      <th>doc_id</th>\n",
       "      <th>raw_date</th>\n",
       "      <th>date_avr</th>\n",
       "      <th>date_probs</th>\n",
       "      <th>date_manual</th>\n",
       "      <th>provenience</th>\n",
       "      <th>tlg_epithet</th>\n",
       "      <th>clean_string</th>\n",
       "      <th>n_sentences</th>\n",
       "      <th>lemmatized_sentences</th>\n",
       "    </tr>\n",
       "  </thead>\n",
       "  <tbody>\n",
       "    <tr>\n",
       "      <th>0</th>\n",
       "      <td>tlg0001.tlg001.perseus-grc2.xml</td>\n",
       "      <td>Apollonius Rhodius</td>\n",
       "      <td>Argonautica</td>\n",
       "      <td>38822</td>\n",
       "      <td>tlg0001</td>\n",
       "      <td>tlg0001.tlg001</td>\n",
       "      <td>3 B.C.</td>\n",
       "      <td>-2.5</td>\n",
       "      <td>{'-2.5': 1}</td>\n",
       "      <td>-2.5</td>\n",
       "      <td>pagan</td>\n",
       "      <td>Epici/-ae</td>\n",
       "      <td>ἀρχόμενος σέο, Φοῖβε, παλαιγενέων κλέα φωτῶν μ...</td>\n",
       "      <td>3252</td>\n",
       "      <td>[[ἄρχω, Φοῖβος, παλαιγενής, κλέος, φώς, μιμνήσ...</td>\n",
       "    </tr>\n",
       "    <tr>\n",
       "      <th>1</th>\n",
       "      <td>tlg0003.tlg001.perseus-grc2.xml</td>\n",
       "      <td>Thucydides</td>\n",
       "      <td>The Peloponnesian War</td>\n",
       "      <td>150118</td>\n",
       "      <td>tlg0003</td>\n",
       "      <td>tlg0003.tlg001</td>\n",
       "      <td>5 B.C.</td>\n",
       "      <td>-4.5</td>\n",
       "      <td>{'-4.5': 1}</td>\n",
       "      <td>-4.5</td>\n",
       "      <td>pagan</td>\n",
       "      <td>Historici/-ae</td>\n",
       "      <td>Θουκυδίδης Ἀθηναῖος ξυνέγραψε τὸν πόλεμον τῶν...</td>\n",
       "      <td>6068</td>\n",
       "      <td>[[θουκυδίδης, Ἀθηναῖος, συγγράφω, πόλεμος, Πελ...</td>\n",
       "    </tr>\n",
       "    <tr>\n",
       "      <th>2</th>\n",
       "      <td>tlg0004.tlg001.perseus-grc1.xml</td>\n",
       "      <td>Diogenes Laertius</td>\n",
       "      <td>Lives of Eminent Philosophers</td>\n",
       "      <td>110763</td>\n",
       "      <td>tlg0004</td>\n",
       "      <td>tlg0004.tlg001</td>\n",
       "      <td>A.D. 3</td>\n",
       "      <td>2.5</td>\n",
       "      <td>{'2.5': 1}</td>\n",
       "      <td>NaN</td>\n",
       "      <td></td>\n",
       "      <td>Biographi</td>\n",
       "      <td>Τὸ τῆς φιλοσοφίας ἔργον ἔνιοί φασιν ἀπὸ βαρβάρ...</td>\n",
       "      <td>10245</td>\n",
       "      <td>[[φιλοσοφία, ἔργον, ἔνιοι, φημί, βάρβαρος, ἄρχ...</td>\n",
       "    </tr>\n",
       "    <tr>\n",
       "      <th>3</th>\n",
       "      <td>tlg0005.tlg001.perseus-grc1.xml</td>\n",
       "      <td>Theocritus</td>\n",
       "      <td>Idylls</td>\n",
       "      <td>19200</td>\n",
       "      <td>tlg0005</td>\n",
       "      <td>tlg0005.tlg001</td>\n",
       "      <td>4-3 B.C.</td>\n",
       "      <td>-3.0</td>\n",
       "      <td>{'-3.5': 0.5, '-2.5': 0.5}</td>\n",
       "      <td>NaN</td>\n",
       "      <td></td>\n",
       "      <td>Bucolici</td>\n",
       "      <td>̔Αδύ τι τὸ ψιθύρισμα καὶ ἁ πίτυς αἰπόλε τήνα,...</td>\n",
       "      <td>1982</td>\n",
       "      <td>[[αδύ, ψιθύρισμα, πίτυς, αἰπόλος, τῆνος, πηγή,...</td>\n",
       "    </tr>\n",
       "    <tr>\n",
       "      <th>4</th>\n",
       "      <td>tlg0005.tlg002.perseus-grc1.xml</td>\n",
       "      <td>Theocritus</td>\n",
       "      <td>Epigrams</td>\n",
       "      <td>1734</td>\n",
       "      <td>tlg0005</td>\n",
       "      <td>tlg0005.tlg002</td>\n",
       "      <td>4-3 B.C.</td>\n",
       "      <td>-3.0</td>\n",
       "      <td>{'-3.5': 0.5, '-2.5': 0.5}</td>\n",
       "      <td>NaN</td>\n",
       "      <td></td>\n",
       "      <td>Bucolici</td>\n",
       "      <td>τὰ ῥόδα τὰ δροσόεντα καὶ ἁ κατάπυκνος ἐκείνα ἕ...</td>\n",
       "      <td>152</td>\n",
       "      <td>[[ῥόδον, δροσόεντα, κατάπυκνος, ἐκεῖνος, ἕρπυλ...</td>\n",
       "    </tr>\n",
       "  </tbody>\n",
       "</table>\n",
       "</div>"
      ],
      "text/plain": [
       "                          filename              author  \\\n",
       "0  tlg0001.tlg001.perseus-grc2.xml  Apollonius Rhodius   \n",
       "1  tlg0003.tlg001.perseus-grc2.xml          Thucydides   \n",
       "2  tlg0004.tlg001.perseus-grc1.xml   Diogenes Laertius   \n",
       "3  tlg0005.tlg001.perseus-grc1.xml          Theocritus   \n",
       "4  tlg0005.tlg002.perseus-grc1.xml          Theocritus   \n",
       "\n",
       "                           title  wordcount author_id          doc_id  \\\n",
       "0                    Argonautica      38822   tlg0001  tlg0001.tlg001   \n",
       "1          The Peloponnesian War     150118   tlg0003  tlg0003.tlg001   \n",
       "2  Lives of Eminent Philosophers     110763   tlg0004  tlg0004.tlg001   \n",
       "3                        Idylls       19200   tlg0005  tlg0005.tlg001   \n",
       "4                      Epigrams        1734   tlg0005  tlg0005.tlg002   \n",
       "\n",
       "   raw_date  date_avr                  date_probs  date_manual provenience  \\\n",
       "0    3 B.C.      -2.5                 {'-2.5': 1}         -2.5       pagan   \n",
       "1    5 B.C.      -4.5                 {'-4.5': 1}         -4.5       pagan   \n",
       "2    A.D. 3       2.5                  {'2.5': 1}          NaN               \n",
       "3  4-3 B.C.      -3.0  {'-3.5': 0.5, '-2.5': 0.5}          NaN               \n",
       "4  4-3 B.C.      -3.0  {'-3.5': 0.5, '-2.5': 0.5}          NaN               \n",
       "\n",
       "     tlg_epithet                                       clean_string  \\\n",
       "0      Epici/-ae  ἀρχόμενος σέο, Φοῖβε, παλαιγενέων κλέα φωτῶν μ...   \n",
       "1  Historici/-ae   Θουκυδίδης Ἀθηναῖος ξυνέγραψε τὸν πόλεμον τῶν...   \n",
       "2      Biographi  Τὸ τῆς φιλοσοφίας ἔργον ἔνιοί φασιν ἀπὸ βαρβάρ...   \n",
       "3       Bucolici   ̔Αδύ τι τὸ ψιθύρισμα καὶ ἁ πίτυς αἰπόλε τήνα,...   \n",
       "4       Bucolici  τὰ ῥόδα τὰ δροσόεντα καὶ ἁ κατάπυκνος ἐκείνα ἕ...   \n",
       "\n",
       "   n_sentences                               lemmatized_sentences  \n",
       "0         3252  [[ἄρχω, Φοῖβος, παλαιγενής, κλέος, φώς, μιμνήσ...  \n",
       "1         6068  [[θουκυδίδης, Ἀθηναῖος, συγγράφω, πόλεμος, Πελ...  \n",
       "2        10245  [[φιλοσοφία, ἔργον, ἔνιοι, φημί, βάρβαρος, ἄρχ...  \n",
       "3         1982  [[αδύ, ψιθύρισμα, πίτυς, αἰπόλος, τῆνος, πηγή,...  \n",
       "4          152  [[ῥόδον, δροσόεντα, κατάπυκνος, ἐκεῖνος, ἕρπυλ...  "
      ]
     },
     "execution_count": 6,
     "metadata": {},
     "output_type": "execute_result"
    }
   ],
   "source": [
    "AGT = sddk.read_file(\"SDAM_data/AGT/AGT_lemmatized_20201211.json\", \"df\", conf)\n",
    "AGT.head(5)"
   ]
  },
  {
   "cell_type": "code",
   "execution_count": 15,
   "metadata": {},
   "outputs": [
    {
     "data": {
      "text/plain": [
       "14383627"
      ]
     },
     "execution_count": 15,
     "metadata": {},
     "output_type": "execute_result"
    }
   ],
   "source": [
    "def flat_lemmata(sentences):\n",
    "    lemmata = [word for sent in sentences for word in sent]\n",
    "    return lemmata\n",
    "AGT[\"lemmata\"] = AGT[\"lemmatized_sentences\"].apply(flat_lemmata)\n",
    "\n",
    "AGT[\"lemmata_wordcount\"] = AGT.apply(lambda row: len(row[\"lemmata\"]), axis=1)\n",
    "AGT[\"lemmata_wordcount\"].sum() # previously we had 13925726, then 13713183, finally 14756899"
   ]
  },
  {
   "cell_type": "code",
   "execution_count": 42,
   "metadata": {
    "id": "JbM6CmYLJQlv"
   },
   "outputs": [
    {
     "data": {
      "text/html": [
       "<div>\n",
       "<style scoped>\n",
       "    .dataframe tbody tr th:only-of-type {\n",
       "        vertical-align: middle;\n",
       "    }\n",
       "\n",
       "    .dataframe tbody tr th {\n",
       "        vertical-align: top;\n",
       "    }\n",
       "\n",
       "    .dataframe thead th {\n",
       "        text-align: right;\n",
       "    }\n",
       "</style>\n",
       "<table border=\"1\" class=\"dataframe\">\n",
       "  <thead>\n",
       "    <tr style=\"text-align: right;\">\n",
       "      <th></th>\n",
       "      <th>label</th>\n",
       "      <th>wordcount</th>\n",
       "      <th>n_sentences</th>\n",
       "      <th>doccount</th>\n",
       "      <th>sentences</th>\n",
       "      <th>lemmata</th>\n",
       "    </tr>\n",
       "  </thead>\n",
       "  <tbody>\n",
       "    <tr>\n",
       "      <th>0</th>\n",
       "      <td>Classical (5th - 4th c. BCE)</td>\n",
       "      <td>3668653</td>\n",
       "      <td>280475</td>\n",
       "      <td>395</td>\n",
       "      <td>[[θουκυδίδης, Ἀθηναῖος, συγγράφω, πόλεμος, Πελ...</td>\n",
       "      <td>[[θουκυδίδης, Ἀθηναῖος, συγγράφω, πόλεμος, Πελ...</td>\n",
       "    </tr>\n",
       "    <tr>\n",
       "      <th>1</th>\n",
       "      <td>Roman (1st - 4th c. CE)</td>\n",
       "      <td>8692448</td>\n",
       "      <td>723956</td>\n",
       "      <td>411</td>\n",
       "      <td>[[γεωγραφία, σόσσιε, σενεκίων, ἱστορικός, διαφ...</td>\n",
       "      <td>[[γεωγραφία, σόσσιε, σενεκίων, ἱστορικός, διαφ...</td>\n",
       "    </tr>\n",
       "    <tr>\n",
       "      <th>2</th>\n",
       "      <td>Christian (1st - 4th c. CE)</td>\n",
       "      <td>2975644</td>\n",
       "      <td>291084</td>\n",
       "      <td>131</td>\n",
       "      <td>[[βίβλος, γένεσις, Ἰησοῦς, Χριστός, υἱός, Δαυί...</td>\n",
       "      <td>[[βίβλος, γένεσις, Ἰησοῦς, Χριστός, υἱός, Δαυί...</td>\n",
       "    </tr>\n",
       "    <tr>\n",
       "      <th>3</th>\n",
       "      <td>Jewish</td>\n",
       "      <td>1911674</td>\n",
       "      <td>160529</td>\n",
       "      <td>90</td>\n",
       "      <td>[[ἄλλος, νομοθέτης, ἀκαλλώπιστος, γυμνός, νομι...</td>\n",
       "      <td>[[ἄλλος, νομοθέτης, ἀκαλλώπιστος, γυμνός, νομι...</td>\n",
       "    </tr>\n",
       "    <tr>\n",
       "      <th>4</th>\n",
       "      <td>New Testament</td>\n",
       "      <td>137787</td>\n",
       "      <td>8698</td>\n",
       "      <td>27</td>\n",
       "      <td>[[βίβλος, γένεσις, Ἰησοῦς, Χριστός, υἱός, Δαυί...</td>\n",
       "      <td>[[βίβλος, γένεσις, Ἰησοῦς, Χριστός, υἱός, Δαυί...</td>\n",
       "    </tr>\n",
       "    <tr>\n",
       "      <th>5</th>\n",
       "      <td>Paul of Tarsus</td>\n",
       "      <td>24066</td>\n",
       "      <td>1632</td>\n",
       "      <td>7</td>\n",
       "      <td>[[Παῦλος, δοῦλος, Ἰησοῦς, Χριστός, κλητός, ἀπό...</td>\n",
       "      <td>[[Παῦλος, δοῦλος, Ἰησοῦς, Χριστός, κλητός, ἀπό...</td>\n",
       "    </tr>\n",
       "    <tr>\n",
       "      <th>6</th>\n",
       "      <td>Septuagint</td>\n",
       "      <td>799083</td>\n",
       "      <td>57856</td>\n",
       "      <td>55</td>\n",
       "      <td>[[εἰμί, ποιέω, θεός, οὐρανός, γῆ], [γῆ, εἰμί, ...</td>\n",
       "      <td>[[εἰμί, ποιέω, θεός, οὐρανός, γῆ, γῆ, εἰμί, ἀό...</td>\n",
       "    </tr>\n",
       "    <tr>\n",
       "      <th>7</th>\n",
       "      <td>Philo of Alexandria</td>\n",
       "      <td>643011</td>\n",
       "      <td>82966</td>\n",
       "      <td>31</td>\n",
       "      <td>[[ἄλλος, νομοθέτης, ἀκαλλώπιστος, γυμνός, νομι...</td>\n",
       "      <td>[[ἄλλος, νομοθέτης, ἀκαλλώπιστος, γυμνός, νομι...</td>\n",
       "    </tr>\n",
       "    <tr>\n",
       "      <th>8</th>\n",
       "      <td>Titus Flavius Josephus</td>\n",
       "      <td>469580</td>\n",
       "      <td>19707</td>\n",
       "      <td>4</td>\n",
       "      <td>[[ἱστορία, συγγράφω, βούλομαι, αὐτός, ὁράω, σπ...</td>\n",
       "      <td>[[ἱστορία, συγγράφω, βούλομαι, αὐτός, ὁράω, σπ...</td>\n",
       "    </tr>\n",
       "  </tbody>\n",
       "</table>\n",
       "</div>"
      ],
      "text/plain": [
       "                          label  wordcount  n_sentences  doccount  \\\n",
       "0  Classical (5th - 4th c. BCE)    3668653       280475       395   \n",
       "1       Roman (1st - 4th c. CE)    8692448       723956       411   \n",
       "2   Christian (1st - 4th c. CE)    2975644       291084       131   \n",
       "3                        Jewish    1911674       160529        90   \n",
       "4                 New Testament     137787         8698        27   \n",
       "5                Paul of Tarsus      24066         1632         7   \n",
       "6                    Septuagint     799083        57856        55   \n",
       "7           Philo of Alexandria     643011        82966        31   \n",
       "8        Titus Flavius Josephus     469580        19707         4   \n",
       "\n",
       "                                           sentences  \\\n",
       "0  [[θουκυδίδης, Ἀθηναῖος, συγγράφω, πόλεμος, Πελ...   \n",
       "1  [[γεωγραφία, σόσσιε, σενεκίων, ἱστορικός, διαφ...   \n",
       "2  [[βίβλος, γένεσις, Ἰησοῦς, Χριστός, υἱός, Δαυί...   \n",
       "3  [[ἄλλος, νομοθέτης, ἀκαλλώπιστος, γυμνός, νομι...   \n",
       "4  [[βίβλος, γένεσις, Ἰησοῦς, Χριστός, υἱός, Δαυί...   \n",
       "5  [[Παῦλος, δοῦλος, Ἰησοῦς, Χριστός, κλητός, ἀπό...   \n",
       "6  [[εἰμί, ποιέω, θεός, οὐρανός, γῆ], [γῆ, εἰμί, ...   \n",
       "7  [[ἄλλος, νομοθέτης, ἀκαλλώπιστος, γυμνός, νομι...   \n",
       "8  [[ἱστορία, συγγράφω, βούλομαι, αὐτός, ὁράω, σπ...   \n",
       "\n",
       "                                             lemmata  \n",
       "0  [[θουκυδίδης, Ἀθηναῖος, συγγράφω, πόλεμος, Πελ...  \n",
       "1  [[γεωγραφία, σόσσιε, σενεκίων, ἱστορικός, διαφ...  \n",
       "2  [[βίβλος, γένεσις, Ἰησοῦς, Χριστός, υἱός, Δαυί...  \n",
       "3  [[ἄλλος, νομοθέτης, ἀκαλλώπιστος, γυμνός, νομι...  \n",
       "4  [[βίβλος, γένεσις, Ἰησοῦς, Χριστός, υἱός, Δαυί...  \n",
       "5  [[Παῦλος, δοῦλος, Ἰησοῦς, Χριστός, κλητός, ἀπό...  \n",
       "6  [[εἰμί, ποιέω, θεός, οὐρανός, γῆ, γῆ, εἰμί, ἀό...  \n",
       "7  [[ἄλλος, νομοθέτης, ἀκαλλώπιστος, γυμνός, νομι...  \n",
       "8  [[ἱστορία, συγγράφω, βούλομαι, αὐτός, ὁράω, σπ...  "
      ]
     },
     "execution_count": 42,
     "metadata": {},
     "output_type": "execute_result"
    }
   ],
   "source": [
    "def get_flat_sentences(series):\n",
    "    sentences_list = [sent for doc in series.tolist() for sent in doc]\n",
    "    return sentences_list\n",
    "\n",
    "subcorpora_dict = {\n",
    "    \"Classical (5th - 4th c. BCE)\" : AGT[(AGT[\"date_avr\"].between(-5, -3))],\n",
    "    \"Roman (1st - 4th c. CE)\" : AGT[(AGT[\"date_avr\"].between(0, 4)) & (AGT[\"provenience\"]==\"pagan\")],\n",
    "    \"Christian (1st - 4th c. CE)\" : AGT[(AGT[\"date_avr\"] < 4) & (AGT[\"provenience\"]==\"christian\")],\n",
    "    \"Jewish\" : AGT[AGT[\"author_id\"].isin([\"tlg0527\", \"tlg0018\", \"tlg0526\"])],\n",
    "                   \n",
    "    \"New Testament\" : AGT[AGT[\"author_id\"].str.startswith(\"tlg0031\")],\n",
    "    \"Paul of Tarsus\" : AGT[AGT[\"author_id\"]==\"tlg0031paul\"],               \n",
    "    \"Septuagint\" : AGT[AGT[\"author_id\"]==\"tlg0527\"],\n",
    "    \"Philo of Alexandria\" : AGT[AGT[\"author_id\"]==\"tlg0018\"],\n",
    "    \"Titus Flavius Josephus\" : AGT[AGT[\"author_id\"]==\"tlg0526\"]}\n",
    "\n",
    "subselections = []\n",
    "for key in subcorpora_dict.keys():\n",
    "    subselection = subcorpora_dict[key]\n",
    "    subselection_dict = {}\n",
    "    wordcount = subselection[\"wordcount\"].sum()\n",
    "    doccount = len(subselection)\n",
    "    lemmata = subselection[\"lemmata\"].tolist()\n",
    "    sents = get_flat_sentences(subselection[\"lemmatized_sentences\"])\n",
    "    sents_len = len(sents)\n",
    "    subselection_dict.update({\"label\" : key, \"wordcount\" : wordcount, \"n_sentences\": sents_len, \"doccount\" : doccount, \"sentences\" : sents, \"lemmata\" : lemmata})\n",
    "    subselections.append(subselection_dict)\n",
    "subselections_df = pd.DataFrame(subselections)\n",
    "subselections_df"
   ]
  },
  {
   "cell_type": "markdown",
   "metadata": {
    "id": "jRnjxd5aJQlw"
   },
   "source": [
    "# term2term & term2doc matraces with sklearn - Paul as example"
   ]
  },
  {
   "cell_type": "code",
   "execution_count": 43,
   "metadata": {
    "id": "Lp-gMWPJJQlx"
   },
   "outputs": [],
   "source": [
    "# let's explore Pa\n",
    "docs = subselections_df.at[5, \"sentences\"]"
   ]
  },
  {
   "cell_type": "code",
   "execution_count": 48,
   "metadata": {
    "colab": {
     "base_uri": "https://localhost:8080/"
    },
    "id": "7jJLTsQxJQly",
    "outputId": "48f1edf5-8b84-472b-ce6c-437818528a8c"
   },
   "outputs": [
    {
     "data": {
      "text/plain": [
       "1632"
      ]
     },
     "execution_count": 48,
     "metadata": {},
     "output_type": "execute_result"
    }
   ],
   "source": [
    "len(docs)"
   ]
  },
  {
   "cell_type": "code",
   "execution_count": 47,
   "metadata": {},
   "outputs": [],
   "source": [
    "lemmata_lists = subselections_df.at[5, \"lemmata\"]"
   ]
  },
  {
   "cell_type": "code",
   "execution_count": 49,
   "metadata": {},
   "outputs": [
    {
     "data": {
      "text/plain": [
       "7"
      ]
     },
     "execution_count": 49,
     "metadata": {},
     "output_type": "execute_result"
    }
   ],
   "source": [
    "len(lemmata_lists) # 7 authentic letters by Paul"
   ]
  },
  {
   "cell_type": "code",
   "execution_count": 45,
   "metadata": {},
   "outputs": [
    {
     "name": "stdout",
     "output_type": "stream",
     "text": [
      "[['Παῦλος', 'δοῦλος', 'Ἰησοῦς', 'Χριστός', 'κλητός', 'ἀπόστολος', 'ἀφωρισμένος', 'εὐαγγέλιον', 'θεός', 'προεπαγγέλλομαι', 'προφήτης', 'γραφή', 'ἅγιος', 'υἱός', 'γίγνομαι', 'σπέρμα', 'Δαυίδ', 'σάρξ', 'ὁρισθέντος', 'υἱός', 'θεός', 'δύναμις', 'πνεῦμα', 'ἁγιωσύνη', 'ἀνάστασις', 'νεκρός', 'Ἰησοῦς', 'Χριστός', 'κύριος', 'λαμβάνω', 'χάρις', 'ἀποστολή', 'ὑπακοή', 'πίστις', 'ἔθνος', 'ὄνομα', 'κλητός', 'Ἰησοῦς', 'Χριστός', 'πᾶς', 'ὄντα', 'Ῥώμη', 'ἀγαπητός', 'θεός', 'κλητός', 'ἅγιος'], ['χάρις', 'εἰρήνη', 'θεός', 'πατήρ', 'κύριος', 'Ἰησοῦς', 'Χριστός'], ['πρῶτος', 'εὐχαριστέω', 'θεός', 'Ἰησοῦς', 'Χριστός', 'πᾶς', 'πίστις', 'καταγγέλλω', 'ὅλος', 'κόσμος']]\n"
     ]
    }
   ],
   "source": [
    "print(docs[:3])"
   ]
  },
  {
   "cell_type": "markdown",
   "metadata": {},
   "source": [
    "comparison with the previous version of the dataset\n",
    "```\n",
    "[['Παῦλος', 'δοῦλος', 'Ἰησοῦς', 'Χριστός', 'κλητός', 'ἀπόστολος', 'ἀφωρισμένος', 'εὐαγγέλιον', 'θεός', 'προεπαγγέλλομαι', 'προφήτης', 'γραφή', 'ἅγιος', 'υἱός', 'γίγνομαι', 'σπέρμα', 'Δαυίδ', 'σάρξ', 'ὁρισθέντος', 'υἱός', 'θεός', 'δύναμις', 'πνεῦμα', 'ἁγιωσύνη', 'ἀνάστασις', 'νεκρός', 'Ἰησοῦς', 'Χριστός', 'κύριος', 'λαμβάνω', 'χάρις', 'ἀποστολή', 'ὑπακοή', 'πίστις', 'ἔθνος', 'ὄνομα', 'κλητός', 'Ἰησοῦς', 'Χριστός', 'πᾶς', 'ὄντα', 'Ῥώμη', 'ἀγαπητός', 'θεός', 'κλητός', 'ἅγιος'], ['χάρις', 'εἰρήνη', 'θεός', 'πατήρ', 'κύριος', 'Ἰησοῦς'], ['πρότερος', 'εὐχαριστέω', 'θεός', 'Ἰησοῦς', 'Χριστός', 'πᾶς', 'πίστις', 'καταγγέλλω', 'ὅλοξ', 'κόσμῳ.']]\n",
    "```"
   ]
  },
  {
   "cell_type": "code",
   "execution_count": 46,
   "metadata": {
    "id": "xDgnTA9fLF8p"
   },
   "outputs": [],
   "source": [
    "vocabulary =  list(set([word for sent in docs for word in sent]))\n",
    "bow = CountVectorizer(vocabulary=vocabulary)\n",
    "bow_term2doc = bow.fit_transform([\" \".join(doc) for doc in docs]) ### run the model\n",
    "term2term_bow = (bow_term2doc.T * bow_term2doc)"
   ]
  },
  {
   "cell_type": "code",
   "execution_count": 22,
   "metadata": {
    "colab": {
     "base_uri": "https://localhost:8080/"
    },
    "id": "Y5KfMtyFLEm-",
    "outputId": "c9166e1c-f3b8-4787-eacd-0183b818b2ff"
   },
   "outputs": [
    {
     "data": {
      "text/plain": [
       "<1952x1952 sparse matrix of type '<class 'numpy.int64'>'\n",
       "\twith 59873 stored elements in Compressed Sparse Column format>"
      ]
     },
     "execution_count": 22,
     "metadata": {},
     "output_type": "execute_result"
    }
   ],
   "source": [
    "term2term_bow"
   ]
  },
  {
   "cell_type": "code",
   "execution_count": 23,
   "metadata": {},
   "outputs": [
    {
     "data": {
      "text/html": [
       "<div>\n",
       "<style scoped>\n",
       "    .dataframe tbody tr th:only-of-type {\n",
       "        vertical-align: middle;\n",
       "    }\n",
       "\n",
       "    .dataframe tbody tr th {\n",
       "        vertical-align: top;\n",
       "    }\n",
       "\n",
       "    .dataframe thead th {\n",
       "        text-align: right;\n",
       "    }\n",
       "</style>\n",
       "<table border=\"1\" class=\"dataframe\">\n",
       "  <thead>\n",
       "    <tr style=\"text-align: right;\">\n",
       "      <th></th>\n",
       "      <th>ἁρπαγμός</th>\n",
       "      <th>ἀποκαλύπτω</th>\n",
       "      <th>κτίσις</th>\n",
       "      <th>βασκαίνω</th>\n",
       "      <th>αἰώνιος</th>\n",
       "      <th>πολύς</th>\n",
       "      <th>κυριακός</th>\n",
       "      <th>ἐκκλάω</th>\n",
       "      <th>οἴομαι</th>\n",
       "      <th>πίστις</th>\n",
       "      <th>...</th>\n",
       "      <th>διδακτός</th>\n",
       "      <th>ἐπισκηνόω</th>\n",
       "      <th>ἐντολή</th>\n",
       "      <th>ἀντιστρατεύομαι</th>\n",
       "      <th>αὐγάζω</th>\n",
       "      <th>ἄπειμι</th>\n",
       "      <th>κομάω</th>\n",
       "      <th>λῃστής</th>\n",
       "      <th>συναποθνῄσκω</th>\n",
       "      <th>κρείσσων</th>\n",
       "    </tr>\n",
       "  </thead>\n",
       "  <tbody>\n",
       "    <tr>\n",
       "      <th>ἁρπαγμός</th>\n",
       "      <td>1</td>\n",
       "      <td>0</td>\n",
       "      <td>0</td>\n",
       "      <td>0</td>\n",
       "      <td>0</td>\n",
       "      <td>0</td>\n",
       "      <td>0</td>\n",
       "      <td>0</td>\n",
       "      <td>0</td>\n",
       "      <td>0</td>\n",
       "      <td>...</td>\n",
       "      <td>0</td>\n",
       "      <td>0</td>\n",
       "      <td>0</td>\n",
       "      <td>0</td>\n",
       "      <td>0</td>\n",
       "      <td>0</td>\n",
       "      <td>0</td>\n",
       "      <td>0</td>\n",
       "      <td>0</td>\n",
       "      <td>0</td>\n",
       "    </tr>\n",
       "    <tr>\n",
       "      <th>ἀποκαλύπτω</th>\n",
       "      <td>0</td>\n",
       "      <td>9</td>\n",
       "      <td>0</td>\n",
       "      <td>0</td>\n",
       "      <td>0</td>\n",
       "      <td>0</td>\n",
       "      <td>0</td>\n",
       "      <td>0</td>\n",
       "      <td>0</td>\n",
       "      <td>5</td>\n",
       "      <td>...</td>\n",
       "      <td>0</td>\n",
       "      <td>0</td>\n",
       "      <td>0</td>\n",
       "      <td>0</td>\n",
       "      <td>0</td>\n",
       "      <td>0</td>\n",
       "      <td>0</td>\n",
       "      <td>0</td>\n",
       "      <td>0</td>\n",
       "      <td>0</td>\n",
       "    </tr>\n",
       "    <tr>\n",
       "      <th>κτίσις</th>\n",
       "      <td>0</td>\n",
       "      <td>0</td>\n",
       "      <td>11</td>\n",
       "      <td>0</td>\n",
       "      <td>0</td>\n",
       "      <td>0</td>\n",
       "      <td>0</td>\n",
       "      <td>0</td>\n",
       "      <td>0</td>\n",
       "      <td>0</td>\n",
       "      <td>...</td>\n",
       "      <td>0</td>\n",
       "      <td>0</td>\n",
       "      <td>0</td>\n",
       "      <td>0</td>\n",
       "      <td>0</td>\n",
       "      <td>0</td>\n",
       "      <td>0</td>\n",
       "      <td>0</td>\n",
       "      <td>0</td>\n",
       "      <td>0</td>\n",
       "    </tr>\n",
       "    <tr>\n",
       "      <th>βασκαίνω</th>\n",
       "      <td>0</td>\n",
       "      <td>0</td>\n",
       "      <td>0</td>\n",
       "      <td>1</td>\n",
       "      <td>0</td>\n",
       "      <td>0</td>\n",
       "      <td>0</td>\n",
       "      <td>0</td>\n",
       "      <td>0</td>\n",
       "      <td>0</td>\n",
       "      <td>...</td>\n",
       "      <td>0</td>\n",
       "      <td>0</td>\n",
       "      <td>0</td>\n",
       "      <td>0</td>\n",
       "      <td>0</td>\n",
       "      <td>0</td>\n",
       "      <td>0</td>\n",
       "      <td>0</td>\n",
       "      <td>0</td>\n",
       "      <td>0</td>\n",
       "    </tr>\n",
       "    <tr>\n",
       "      <th>αἰώνιος</th>\n",
       "      <td>0</td>\n",
       "      <td>0</td>\n",
       "      <td>0</td>\n",
       "      <td>0</td>\n",
       "      <td>15</td>\n",
       "      <td>0</td>\n",
       "      <td>0</td>\n",
       "      <td>0</td>\n",
       "      <td>0</td>\n",
       "      <td>2</td>\n",
       "      <td>...</td>\n",
       "      <td>0</td>\n",
       "      <td>0</td>\n",
       "      <td>0</td>\n",
       "      <td>0</td>\n",
       "      <td>0</td>\n",
       "      <td>0</td>\n",
       "      <td>0</td>\n",
       "      <td>0</td>\n",
       "      <td>0</td>\n",
       "      <td>0</td>\n",
       "    </tr>\n",
       "    <tr>\n",
       "      <th>...</th>\n",
       "      <td>...</td>\n",
       "      <td>...</td>\n",
       "      <td>...</td>\n",
       "      <td>...</td>\n",
       "      <td>...</td>\n",
       "      <td>...</td>\n",
       "      <td>...</td>\n",
       "      <td>...</td>\n",
       "      <td>...</td>\n",
       "      <td>...</td>\n",
       "      <td>...</td>\n",
       "      <td>...</td>\n",
       "      <td>...</td>\n",
       "      <td>...</td>\n",
       "      <td>...</td>\n",
       "      <td>...</td>\n",
       "      <td>...</td>\n",
       "      <td>...</td>\n",
       "      <td>...</td>\n",
       "      <td>...</td>\n",
       "      <td>...</td>\n",
       "    </tr>\n",
       "    <tr>\n",
       "      <th>ἄπειμι</th>\n",
       "      <td>0</td>\n",
       "      <td>0</td>\n",
       "      <td>0</td>\n",
       "      <td>0</td>\n",
       "      <td>0</td>\n",
       "      <td>0</td>\n",
       "      <td>0</td>\n",
       "      <td>0</td>\n",
       "      <td>0</td>\n",
       "      <td>1</td>\n",
       "      <td>...</td>\n",
       "      <td>0</td>\n",
       "      <td>0</td>\n",
       "      <td>0</td>\n",
       "      <td>0</td>\n",
       "      <td>0</td>\n",
       "      <td>6</td>\n",
       "      <td>0</td>\n",
       "      <td>0</td>\n",
       "      <td>0</td>\n",
       "      <td>0</td>\n",
       "    </tr>\n",
       "    <tr>\n",
       "      <th>κομάω</th>\n",
       "      <td>0</td>\n",
       "      <td>0</td>\n",
       "      <td>0</td>\n",
       "      <td>0</td>\n",
       "      <td>0</td>\n",
       "      <td>0</td>\n",
       "      <td>0</td>\n",
       "      <td>0</td>\n",
       "      <td>0</td>\n",
       "      <td>0</td>\n",
       "      <td>...</td>\n",
       "      <td>0</td>\n",
       "      <td>0</td>\n",
       "      <td>0</td>\n",
       "      <td>0</td>\n",
       "      <td>0</td>\n",
       "      <td>0</td>\n",
       "      <td>4</td>\n",
       "      <td>0</td>\n",
       "      <td>0</td>\n",
       "      <td>0</td>\n",
       "    </tr>\n",
       "    <tr>\n",
       "      <th>λῃστής</th>\n",
       "      <td>0</td>\n",
       "      <td>0</td>\n",
       "      <td>0</td>\n",
       "      <td>0</td>\n",
       "      <td>0</td>\n",
       "      <td>0</td>\n",
       "      <td>0</td>\n",
       "      <td>0</td>\n",
       "      <td>0</td>\n",
       "      <td>0</td>\n",
       "      <td>...</td>\n",
       "      <td>0</td>\n",
       "      <td>0</td>\n",
       "      <td>0</td>\n",
       "      <td>0</td>\n",
       "      <td>0</td>\n",
       "      <td>0</td>\n",
       "      <td>0</td>\n",
       "      <td>1</td>\n",
       "      <td>0</td>\n",
       "      <td>0</td>\n",
       "    </tr>\n",
       "    <tr>\n",
       "      <th>συναποθνῄσκω</th>\n",
       "      <td>0</td>\n",
       "      <td>0</td>\n",
       "      <td>0</td>\n",
       "      <td>0</td>\n",
       "      <td>0</td>\n",
       "      <td>0</td>\n",
       "      <td>0</td>\n",
       "      <td>0</td>\n",
       "      <td>0</td>\n",
       "      <td>0</td>\n",
       "      <td>...</td>\n",
       "      <td>0</td>\n",
       "      <td>0</td>\n",
       "      <td>0</td>\n",
       "      <td>0</td>\n",
       "      <td>0</td>\n",
       "      <td>0</td>\n",
       "      <td>0</td>\n",
       "      <td>0</td>\n",
       "      <td>1</td>\n",
       "      <td>0</td>\n",
       "    </tr>\n",
       "    <tr>\n",
       "      <th>κρείσσων</th>\n",
       "      <td>0</td>\n",
       "      <td>0</td>\n",
       "      <td>0</td>\n",
       "      <td>0</td>\n",
       "      <td>0</td>\n",
       "      <td>1</td>\n",
       "      <td>0</td>\n",
       "      <td>0</td>\n",
       "      <td>0</td>\n",
       "      <td>0</td>\n",
       "      <td>...</td>\n",
       "      <td>0</td>\n",
       "      <td>0</td>\n",
       "      <td>0</td>\n",
       "      <td>0</td>\n",
       "      <td>0</td>\n",
       "      <td>0</td>\n",
       "      <td>0</td>\n",
       "      <td>0</td>\n",
       "      <td>0</td>\n",
       "      <td>4</td>\n",
       "    </tr>\n",
       "  </tbody>\n",
       "</table>\n",
       "<p>1952 rows × 1952 columns</p>\n",
       "</div>"
      ],
      "text/plain": [
       "              ἁρπαγμός  ἀποκαλύπτω  κτίσις  βασκαίνω  αἰώνιος  πολύς  \\\n",
       "ἁρπαγμός             1           0       0         0        0      0   \n",
       "ἀποκαλύπτω           0           9       0         0        0      0   \n",
       "κτίσις               0           0      11         0        0      0   \n",
       "βασκαίνω             0           0       0         1        0      0   \n",
       "αἰώνιος              0           0       0         0       15      0   \n",
       "...                ...         ...     ...       ...      ...    ...   \n",
       "ἄπειμι               0           0       0         0        0      0   \n",
       "κομάω                0           0       0         0        0      0   \n",
       "λῃστής               0           0       0         0        0      0   \n",
       "συναποθνῄσκω         0           0       0         0        0      0   \n",
       "κρείσσων             0           0       0         0        0      1   \n",
       "\n",
       "              κυριακός  ἐκκλάω  οἴομαι  πίστις  ...  διδακτός  ἐπισκηνόω  \\\n",
       "ἁρπαγμός             0       0       0       0  ...         0          0   \n",
       "ἀποκαλύπτω           0       0       0       5  ...         0          0   \n",
       "κτίσις               0       0       0       0  ...         0          0   \n",
       "βασκαίνω             0       0       0       0  ...         0          0   \n",
       "αἰώνιος              0       0       0       2  ...         0          0   \n",
       "...                ...     ...     ...     ...  ...       ...        ...   \n",
       "ἄπειμι               0       0       0       1  ...         0          0   \n",
       "κομάω                0       0       0       0  ...         0          0   \n",
       "λῃστής               0       0       0       0  ...         0          0   \n",
       "συναποθνῄσκω         0       0       0       0  ...         0          0   \n",
       "κρείσσων             0       0       0       0  ...         0          0   \n",
       "\n",
       "              ἐντολή  ἀντιστρατεύομαι  αὐγάζω  ἄπειμι  κομάω  λῃστής  \\\n",
       "ἁρπαγμός           0                0       0       0      0       0   \n",
       "ἀποκαλύπτω         0                0       0       0      0       0   \n",
       "κτίσις             0                0       0       0      0       0   \n",
       "βασκαίνω           0                0       0       0      0       0   \n",
       "αἰώνιος            0                0       0       0      0       0   \n",
       "...              ...              ...     ...     ...    ...     ...   \n",
       "ἄπειμι             0                0       0       6      0       0   \n",
       "κομάω              0                0       0       0      4       0   \n",
       "λῃστής             0                0       0       0      0       1   \n",
       "συναποθνῄσκω       0                0       0       0      0       0   \n",
       "κρείσσων           0                0       0       0      0       0   \n",
       "\n",
       "              συναποθνῄσκω  κρείσσων  \n",
       "ἁρπαγμός                 0         0  \n",
       "ἀποκαλύπτω               0         0  \n",
       "κτίσις                   0         0  \n",
       "βασκαίνω                 0         0  \n",
       "αἰώνιος                  0         0  \n",
       "...                    ...       ...  \n",
       "ἄπειμι                   0         0  \n",
       "κομάω                    0         0  \n",
       "λῃστής                   0         0  \n",
       "συναποθνῄσκω             1         0  \n",
       "κρείσσων                 0         4  \n",
       "\n",
       "[1952 rows x 1952 columns]"
      ]
     },
     "execution_count": 23,
     "metadata": {},
     "output_type": "execute_result"
    }
   ],
   "source": [
    "pd.DataFrame(term2term_bow.todense(), columns=vocabulary, index=vocabulary)"
   ]
  },
  {
   "cell_type": "code",
   "execution_count": 24,
   "metadata": {
    "id": "oP8Si2nwLmDb"
   },
   "outputs": [
    {
     "name": "stdout",
     "output_type": "stream",
     "text": [
      "1952 30856\n"
     ]
    }
   ],
   "source": [
    "G = nx.from_numpy_matrix(term2term_bow.todense()) # from_pandas_adjacency()\n",
    "vocab_dict = dict(zip(range(len(vocabulary)), vocabulary))\n",
    "G = nx.relabel_nodes(G, vocab_dict)\n",
    "print(G.number_of_nodes(), G.number_of_edges())"
   ]
  },
  {
   "cell_type": "code",
   "execution_count": 28,
   "metadata": {},
   "outputs": [],
   "source": [
    "def network_from_sentences(sentences, weight_threshold=0.1):\n",
    "    vocabulary =  list(set([word for sent in sentences for word in sent]))\n",
    "    bow = CountVectorizer(vocabulary=vocabulary)\n",
    "    bow_term2doc = bow.fit_transform([\" \".join(doc) for doc in docs]) ### run the model\n",
    "    term2term_bow = (bow_term2doc.T * bow_term2doc)\n",
    "    G = nx.from_numpy_matrix(term2term_bow.todense()) # from_pandas_adjacency()\n",
    "    vocab_dict = dict(zip(range(len(vocabulary)), vocabulary))\n",
    "    G = nx.relabel_nodes(G, vocab_dict)\n",
    "    edges_to_remove = []\n",
    "    for edge in G.edges:\n",
    "        if edge[0] == edge[1]:\n",
    "            edges_to_remove.append(edge)\n",
    "    for element in edges_to_remove:\n",
    "        G.remove_edge(element[0], element[1])\n",
    "    total_weight = sum([int(n) for n in nx.get_edge_attributes(G, \"weight\").values()])\n",
    "    #weights = sorted([int(n) for n in nx.get_edge_attributes(G, \"weight\").values()], reverse=True)\n",
    "    #index_position = int(len(weights) * weight_threshold)\n",
    "    #minimal_weight_value = weights[index_position]\n",
    "    minimal_weight_value = 2\n",
    "    edges_to_remove = []\n",
    "    for edge in G.edges:\n",
    "        if G[edge[0]][edge[1]][\"weight\"] < minimal_weight_value:\n",
    "            edges_to_remove.append(edge)\n",
    "    for element in edges_to_remove:\n",
    "        G.remove_edge(element[0], element[1])\n",
    "    edges_to_remove = []\n",
    "    for edge in G.edges:\n",
    "        if edge[0] == edge[1]:\n",
    "            edges_to_remove.append(edge)\n",
    "    for element in edges_to_remove:\n",
    "        G.remove_edge(element[0], element[1])\n",
    "    for (u, v) in G.edges:\n",
    "        G[u][v][\"norm_weight\"] = round((G[u][v][\"weight\"] / total_weight), 5)\n",
    "        G[u][v][\"distance\"] = round(1 / (G[u][v][\"weight\"]), 5)\n",
    "        G[u][v][\"norm_distance\"] = round(1 / (G[u][v][\"norm_weight\"] ), 5)\n",
    "    return G"
   ]
  },
  {
   "cell_type": "code",
   "execution_count": 29,
   "metadata": {},
   "outputs": [],
   "source": [
    "# remove \n",
    "edges_to_remove = []\n",
    "for edge in G.edges:\n",
    "    if edge[0] == edge[1]:\n",
    "        edges_to_remove.append(edge)\n",
    "for element in edges_to_remove:\n",
    "    G.remove_edge(element[0], element[1])"
   ]
  },
  {
   "cell_type": "code",
   "execution_count": 30,
   "metadata": {},
   "outputs": [
    {
     "data": {
      "text/plain": [
       "48496"
      ]
     },
     "execution_count": 30,
     "metadata": {},
     "output_type": "execute_result"
    }
   ],
   "source": [
    "total_weight = sum([int(n) for n in nx.get_edge_attributes(G, \"weight\").values()])\n",
    "total_weight"
   ]
  },
  {
   "cell_type": "code",
   "execution_count": 31,
   "metadata": {},
   "outputs": [],
   "source": [
    "weights = sorted([int(n) for n in nx.get_edge_attributes(G, \"weight\").values()], reverse=True)"
   ]
  },
  {
   "cell_type": "code",
   "execution_count": 32,
   "metadata": {},
   "outputs": [
    {
     "data": {
      "text/plain": [
       "[148, 93, 90, 71, 66, 60, 55, 50, 49, 48]"
      ]
     },
     "execution_count": 32,
     "metadata": {},
     "output_type": "execute_result"
    }
   ],
   "source": [
    "weights[:10]"
   ]
  },
  {
   "cell_type": "code",
   "execution_count": 33,
   "metadata": {},
   "outputs": [],
   "source": [
    "weight_threshold = 0.1\n",
    "index_position = int(len(weights) * weight_threshold)\n",
    "minimal_weight_value = weights[index_position]"
   ]
  },
  {
   "cell_type": "code",
   "execution_count": 34,
   "metadata": {},
   "outputs": [],
   "source": [
    "edges_to_remove = []\n",
    "for edge in G.edges:\n",
    "    if G[edge[0]][edge[1]][\"weight\"] < minimal_weight_value:\n",
    "        edges_to_remove.append(edge)\n",
    "for element in edges_to_remove:\n",
    "    G.remove_edge(element[0], element[1])"
   ]
  },
  {
   "cell_type": "code",
   "execution_count": 35,
   "metadata": {},
   "outputs": [
    {
     "data": {
      "text/plain": [
       "1952"
      ]
     },
     "execution_count": 35,
     "metadata": {},
     "output_type": "execute_result"
    }
   ],
   "source": [
    "len(G.nodes)"
   ]
  },
  {
   "cell_type": "code",
   "execution_count": 36,
   "metadata": {},
   "outputs": [
    {
     "data": {
      "text/plain": [
       "3278"
      ]
     },
     "execution_count": 36,
     "metadata": {},
     "output_type": "execute_result"
    }
   ],
   "source": [
    "len(G.edges)"
   ]
  },
  {
   "cell_type": "code",
   "execution_count": 37,
   "metadata": {},
   "outputs": [
    {
     "data": {
      "text/plain": [
       "[('ἀποκαλύπτω', 'πίστις', {'weight': 5}),\n",
       " ('ἀποκαλύπτω', 'θεός', {'weight': 7}),\n",
       " ('κτίσις', 'θεός', {'weight': 6}),\n",
       " ('κτίσις', 'εἰμί', {'weight': 3}),\n",
       " ('κτίσις', 'ὑποτάσσω', {'weight': 4}),\n",
       " ('αἰώνιος', 'θεός', {'weight': 7}),\n",
       " ('αἰώνιος', 'ἁμαρτία', {'weight': 4}),\n",
       " ('αἰώνιος', 'σάρξ', {'weight': 3}),\n",
       " ('αἰώνιος', 'χριστός', {'weight': 6}),\n",
       " ('αἰώνιος', 'ὑπερβολή', {'weight': 4}),\n",
       " ('αἰώνιος', 'βλέπω', {'weight': 8}),\n",
       " ('αἰώνιος', 'ζωή', {'weight': 5}),\n",
       " ('αἰώνιος', 'δόξα', {'weight': 5}),\n",
       " ('πολύς', 'σπουδαῖος', {'weight': 6}),\n",
       " ('πολύς', 'παρακαλέω', {'weight': 5}),\n",
       " ('πολύς', 'γνωρίζω', {'weight': 3}),\n",
       " ('πολύς', 'πρόσωπον', {'weight': 5}),\n",
       " ('πολύς', 'εὐαγγέλιον', {'weight': 5}),\n",
       " ('πολύς', 'κλῆσις', {'weight': 3}),\n",
       " ('πολύς', 'ἁπλότης', {'weight': 3})]"
      ]
     },
     "execution_count": 37,
     "metadata": {},
     "output_type": "execute_result"
    }
   ],
   "source": [
    "list(G.edges.data())[:20]"
   ]
  },
  {
   "cell_type": "code",
   "execution_count": 38,
   "metadata": {},
   "outputs": [],
   "source": [
    "edges_to_remove = []\n",
    "for edge in G.edges:\n",
    "    if edge[0] == edge[1]:\n",
    "        edges_to_remove.append(edge)\n",
    "for element in edges_to_remove:\n",
    "    G.remove_edge(element[0], element[1])"
   ]
  },
  {
   "cell_type": "code",
   "execution_count": 39,
   "metadata": {},
   "outputs": [],
   "source": [
    "for (u, v) in G.edges:\n",
    "    G[u][v][\"norm_weight\"] = round((G[u][v][\"weight\"] / total_weight), 5)\n",
    "    G[u][v][\"distance\"] = round(1 / (G[u][v][\"weight\"]), 5)\n",
    "    G[u][v][\"norm_distance\"] = round(1 / (G[u][v][\"norm_weight\"] ), 5)"
   ]
  },
  {
   "cell_type": "code",
   "execution_count": 40,
   "metadata": {},
   "outputs": [
    {
     "data": {
      "text/plain": [
       "[('ἀποκαλύπτω',\n",
       "  'πίστις',\n",
       "  {'weight': 5,\n",
       "   'norm_weight': 0.0001,\n",
       "   'distance': 0.2,\n",
       "   'norm_distance': 10000.0}),\n",
       " ('ἀποκαλύπτω',\n",
       "  'θεός',\n",
       "  {'weight': 7,\n",
       "   'norm_weight': 0.00014,\n",
       "   'distance': 0.14286,\n",
       "   'norm_distance': 7142.85714}),\n",
       " ('κτίσις',\n",
       "  'θεός',\n",
       "  {'weight': 6,\n",
       "   'norm_weight': 0.00012,\n",
       "   'distance': 0.16667,\n",
       "   'norm_distance': 8333.33333}),\n",
       " ('κτίσις',\n",
       "  'εἰμί',\n",
       "  {'weight': 3,\n",
       "   'norm_weight': 6e-05,\n",
       "   'distance': 0.33333,\n",
       "   'norm_distance': 16666.66667}),\n",
       " ('κτίσις',\n",
       "  'ὑποτάσσω',\n",
       "  {'weight': 4,\n",
       "   'norm_weight': 8e-05,\n",
       "   'distance': 0.25,\n",
       "   'norm_distance': 12500.0})]"
      ]
     },
     "execution_count": 40,
     "metadata": {},
     "output_type": "execute_result"
    }
   ],
   "source": [
    "list(G.edges.data())[:5]"
   ]
  },
  {
   "cell_type": "code",
   "execution_count": 121,
   "metadata": {},
   "outputs": [],
   "source": [
    "network = G.copy(as_view=False)"
   ]
  },
  {
   "cell_type": "code",
   "execution_count": 50,
   "metadata": {},
   "outputs": [],
   "source": [
    "def network_from_lemmata(lemmata_list, weight_threshold=0.1):\n",
    "    '''From a list of words'''\n",
    "    bigrams_list = []\n",
    "    for bigram in nltk.bigrams(lemmata_list):\n",
    "        if bigram[0] != bigram[1]:\n",
    "            bigrams_list.append(tuple(sorted(bigram)))\n",
    "    G = network_object_from_bigrams(bigrams_list, weight_threshold)\n",
    "    return G\n",
    "\n",
    "def network_from_lemmata_lists(list_of_lists, weight_threshold=0.1):\n",
    "    bigrams_list = []\n",
    "    for lemmata_list in list_of_lists:\n",
    "        for bigram in nltk.bigrams(lemmata_list):\n",
    "            if bigram[0] != bigram[1]:\n",
    "                bigrams_list.append(tuple(sorted(bigram)))\n",
    "    G = network_object_from_bigrams(bigrams_list, weight_threshold)\n",
    "    return G\n",
    "\n",
    "def network_object_from_bigrams(bigrams_list, weight_threshold):\n",
    "    bigrams_counts = list((collections.Counter(bigrams_list)).items())\n",
    "    bigrams_counts = sorted(bigrams_counts, key=lambda x: x[1], reverse=True)\n",
    "    G = nx.Graph()\n",
    "    G.clear()\n",
    "    G.add_weighted_edges_from(np.array([(bigram_count[0][0], bigram_count[0][1],  int(bigram_count[1])) for bigram_count in bigrams_counts]))\n",
    "        ### add edges attributes \n",
    "    for (u, v, wt) in G.edges.data('weight'):\n",
    "        G[u][v][\"weight\"] = int(wt)\n",
    "    total_weight = sum([int(n) for n in nx.get_edge_attributes(G, \"weight\").values()])\n",
    "    #weights = sorted([int(n) for n in nx.get_edge_attributes(G, \"weight\").values()], reverse=True)\n",
    "    #index_position = int(len(weights) * weight_threshold)\n",
    "    # minimal_weight_value = weights[index_position]\n",
    "    minimal_weight_value = 2\n",
    "    edges_to_remove = []\n",
    "    for edge in G.edges:\n",
    "        if G[edge[0]][edge[1]][\"weight\"] < minimal_weight_value:\n",
    "            edges_to_remove.append(edge)\n",
    "    for element in edges_to_remove:\n",
    "        G.remove_edge(element[0], element[1])\n",
    "    for (u, v) in G.edges:\n",
    "        G[u][v][\"norm_weight\"] = round((G[u][v][\"weight\"] / total_weight), 5)\n",
    "        G[u][v][\"distance\"] = round(1 / (G[u][v][\"weight\"]), 5)\n",
    "        G[u][v][\"norm_distance\"] = round(1 / (G[u][v][\"norm_weight\"] ), 5)\n",
    "    return G"
   ]
  },
  {
   "cell_type": "code",
   "execution_count": 51,
   "metadata": {},
   "outputs": [
    {
     "name": "stdout",
     "output_type": "stream",
     "text": [
      "1952 1271\n"
     ]
    }
   ],
   "source": [
    "network_bigrams = textnet.network_from_lemmata_lists(lemmata_lists)\n",
    "print(len(network_bigrams.nodes()), len(network_bigrams.edges()))"
   ]
  },
  {
   "cell_type": "code",
   "execution_count": 79,
   "metadata": {},
   "outputs": [
    {
     "name": "stdout",
     "output_type": "stream",
     "text": [
      "1952 7665\n"
     ]
    }
   ],
   "source": [
    "network_sentences = textnet.network_from_sentences(docs)\n",
    "print(len(network_sentences.nodes()), len(network_sentences.edges()))"
   ]
  },
  {
   "cell_type": "code",
   "execution_count": 91,
   "metadata": {},
   "outputs": [],
   "source": [
    "def get_nn(source_network, source_node, per_level=5):\n",
    "    return [(source_node, n[0]) for n in sorted(source_network[source_node].items(), key=lambda edge: edge[1]['weight'], reverse=True)][:per_level]\n",
    "\n",
    "assoc_edges = [] \n",
    "assoc_edges.extend(get_nn(network_sentences, \"δικαιοσύνη\"))\n",
    "neighbors = [e[1] for e in assoc_edges]\n",
    "for nn in neighbors:\n",
    "    assoc_edges.extend(get_nn(network_sentences, nn))"
   ]
  },
  {
   "cell_type": "code",
   "execution_count": 92,
   "metadata": {},
   "outputs": [
    {
     "data": {
      "text/plain": [
       "[('δικαιοσύνη', 'πίστις'),\n",
       " ('δικαιοσύνη', 'θεός'),\n",
       " ('δικαιοσύνη', 'χριστός'),\n",
       " ('δικαιοσύνη', 'νόμος'),\n",
       " ('δικαιοσύνη', 'ἁμαρτία'),\n",
       " ('πίστις', 'θεός'),\n",
       " ('πίστις', 'χριστός'),\n",
       " ('πίστις', 'νόμος'),\n",
       " ('πίστις', 'δικαιοσύνη'),\n",
       " ('πίστις', 'πᾶς'),\n",
       " ('θεός', 'χριστός'),\n",
       " ('θεός', 'εἰμί'),\n",
       " ('θεός', 'πᾶς'),\n",
       " ('θεός', 'κύριος'),\n",
       " ('θεός', 'πνεῦμα'),\n",
       " ('χριστός', 'θεός'),\n",
       " ('χριστός', 'πᾶς'),\n",
       " ('χριστός', 'κύριος'),\n",
       " ('χριστός', 'εἰμί'),\n",
       " ('χριστός', 'πίστις'),\n",
       " ('νόμος', 'εἰμί'),\n",
       " ('νόμος', 'θεός'),\n",
       " ('νόμος', 'ἁμαρτία'),\n",
       " ('νόμος', 'πίστις'),\n",
       " ('νόμος', 'χριστός'),\n",
       " ('ἁμαρτία', 'νόμος'),\n",
       " ('ἁμαρτία', 'θεός'),\n",
       " ('ἁμαρτία', 'θάνατος'),\n",
       " ('ἁμαρτία', 'εἰμί'),\n",
       " ('ἁμαρτία', 'σάρξ')]"
      ]
     },
     "execution_count": 92,
     "metadata": {},
     "output_type": "execute_result"
    }
   ],
   "source": [
    "assoc_edges"
   ]
  },
  {
   "cell_type": "code",
   "execution_count": 94,
   "metadata": {},
   "outputs": [],
   "source": [
    "assoc_network = network_sentences.copy(as_view=False)\n",
    "for edge in assoc_network.edges():\n",
    "    if edge not in assoc_edges:\n",
    "        if (edge[1],edge[0]) not in assoc_edges:\n",
    "            edges_to_remove.append(edge)\n",
    "assoc_network.remove_edges_from(edges_to_remove)"
   ]
  },
  {
   "cell_type": "code",
   "execution_count": 88,
   "metadata": {},
   "outputs": [],
   "source": [
    "isolates = nx.isolates(ego_network)\n",
    "ego_network.remove_nodes_from([n for n in isolates])"
   ]
  },
  {
   "cell_type": "code",
   "execution_count": 95,
   "metadata": {},
   "outputs": [
    {
     "data": {
      "application/vnd.plotly.v1+json": {
       "config": {
        "plotlyServerURL": "https://plot.ly"
       },
       "data": [
        {
         "line": {
          "color": "#000000",
          "width": 1
         },
         "mode": "lines",
         "type": "scatter",
         "x": [
          0.028493434889815115,
          -0.22377339365854484,
          null,
          0.028493434889815115,
          -0.46056727777742384,
          null
         ],
         "y": [
          -0.21517467534291143,
          0.39596497894682947,
          null,
          -0.21517467534291143,
          -0.14548732062994968,
          null
         ]
        },
        {
         "line": {
          "color": "#404040",
          "width": 0.7
         },
         "mode": "lines",
         "type": "scatter",
         "x": [
          0.028493434889815115,
          -0.6580799993637841,
          null,
          0.028493434889815115,
          -0.08012163328681866,
          null,
          -0.46056727777742384,
          -0.6580799993637841,
          null,
          -0.46056727777742384,
          -0.08012163328681866,
          null
         ],
         "y": [
          -0.21517467534291143,
          -0.5058247365449161,
          null,
          -0.21517467534291143,
          -0.7499509612284208,
          null,
          -0.14548732062994968,
          -0.5058247365449161,
          null,
          -0.14548732062994968,
          -0.7499509612284208,
          null
         ]
        },
        {
         "line": {
          "color": "#C0C0C0",
          "width": 0.5
         },
         "mode": "lines",
         "type": "scatter",
         "x": [
          -0.2781267953211239,
          0.028493434889815115,
          null,
          -0.2781267953211239,
          -0.2840819738651484,
          null,
          -0.2781267953211239,
          -0.46056727777742384,
          null,
          -0.2781267953211239,
          -0.6580799993637841,
          null,
          -0.2781267953211239,
          0.08032913086175261,
          null,
          0.028493434889815115,
          0.26381325627106306,
          null,
          0.028493434889815115,
          -0.2840819738651484,
          null,
          0.028493434889815115,
          0.08032913086175261,
          null,
          0.028493434889815115,
          0.5522698585372463,
          null,
          0.26381325627106306,
          -0.2840819738651484,
          null,
          0.26381325627106306,
          0.2299432671977019,
          null,
          0.26381325627106306,
          -0.22377339365854484,
          null,
          0.26381325627106306,
          0.08032913086175261,
          null,
          0.26381325627106306,
          0.8299021255152649,
          null,
          -0.2840819738651484,
          -0.46056727777742384,
          null,
          -0.2840819738651484,
          0.08032913086175261,
          null,
          -0.22377339365854484,
          -0.46056727777742384,
          null,
          -0.22377339365854484,
          0.08032913086175261,
          null,
          -0.46056727777742384,
          0.08032913086175261,
          null
         ],
         "y": [
          -0.41851596849446454,
          -0.21517467534291143,
          null,
          -0.41851596849446454,
          0.17992144260293952,
          null,
          -0.41851596849446454,
          -0.14548732062994968,
          null,
          -0.41851596849446454,
          -0.5058247365449161,
          null,
          -0.41851596849446454,
          0.0682898308111484,
          null,
          -0.21517467534291143,
          0.4065672962240803,
          null,
          -0.21517467534291143,
          0.17992144260293952,
          null,
          -0.21517467534291143,
          0.0682898308111484,
          null,
          -0.21517467534291143,
          -0.532126211942774,
          null,
          0.4065672962240803,
          0.17992144260293952,
          null,
          0.4065672962240803,
          1,
          null,
          0.4065672962240803,
          0.39596497894682947,
          null,
          0.4065672962240803,
          0.0682898308111484,
          null,
          0.4065672962240803,
          0.5163363255984388,
          null,
          0.17992144260293952,
          -0.14548732062994968,
          null,
          0.17992144260293952,
          0.0682898308111484,
          null,
          0.39596497894682947,
          -0.14548732062994968,
          null,
          0.39596497894682947,
          0.0682898308111484,
          null,
          -0.14548732062994968,
          0.0682898308111484,
          null
         ]
        },
        {
         "hoverinfo": "text",
         "hovertext": [
          "5",
          "9",
          "6",
          "5",
          "1",
          "4",
          "7",
          "3",
          "2",
          "6",
          "1",
          "1"
         ],
         "marker": {
          "color": [
           40,
           60,
           42,
           24,
           4,
           18,
           24,
           3,
           6,
           5,
           7,
           6
          ],
          "colorbar": {
           "thickness": 15,
           "title": {
            "side": "right",
            "text": "degree"
           },
           "xanchor": "left"
          },
          "colorscale": [
           [
            0,
            "rgb(255,255,255)"
           ],
           [
            0.125,
            "rgb(240,240,240)"
           ],
           [
            0.25,
            "rgb(217,217,217)"
           ],
           [
            0.375,
            "rgb(189,189,189)"
           ],
           [
            0.5,
            "rgb(150,150,150)"
           ],
           [
            0.625,
            "rgb(115,115,115)"
           ],
           [
            0.75,
            "rgb(82,82,82)"
           ],
           [
            0.875,
            "rgb(37,37,37)"
           ],
           [
            1,
            "rgb(0,0,0)"
           ]
          ],
          "line": {
           "width": 1
          },
          "showscale": false,
          "size": 7
         },
         "mode": "markers+text",
         "text": [
          "πίστις",
          "θεός",
          "ἁμαρτία",
          "δικαιοσύνη",
          "σάρξ",
          "εἰμί",
          "χριστός",
          "πᾶς",
          "κύριος",
          "νόμος",
          "θάνατος",
          "πνεῦμα"
         ],
         "textposition": "bottom center",
         "type": "scatter",
         "x": [
          -0.2781267953211239,
          0.028493434889815115,
          0.26381325627106306,
          -0.2840819738651484,
          0.2299432671977019,
          -0.22377339365854484,
          -0.46056727777742384,
          -0.6580799993637841,
          -0.08012163328681866,
          0.08032913086175261,
          0.8299021255152649,
          0.5522698585372463
         ],
         "y": [
          -0.41851596849446454,
          -0.21517467534291143,
          0.4065672962240803,
          0.17992144260293952,
          1,
          0.39596497894682947,
          -0.14548732062994968,
          -0.5058247365449161,
          -0.7499509612284208,
          0.0682898308111484,
          0.5163363255984388,
          -0.532126211942774
         ]
        },
        {
         "hoverinfo": "text",
         "marker": {
          "opacity": 0
         },
         "mode": "markers",
         "opacity": 0,
         "text": [
          "47",
          "26",
          "38",
          "23",
          "27",
          "23",
          "26",
          "93",
          "148",
          "90",
          "71",
          "34",
          "50",
          "13",
          "15",
          "16",
          "29",
          "17",
          "16",
          "16",
          "55",
          "36",
          "66",
          "60",
          "25"
         ],
         "type": "scatter",
         "x": [
          -0.12481668021565438,
          -0.28110438459313614,
          -0.36934703654927387,
          -0.468103397342454,
          -0.09889883222968564,
          0.14615334558043908,
          -0.12779426948766665,
          -0.09763997938436486,
          -0.21603692144380438,
          -0.3147932822369845,
          -0.025814099198501774,
          0.05441128287578387,
          0.29038164671353073,
          -0.010134358797042664,
          0.2468782617343825,
          0.020019931306259106,
          0.17207119356640782,
          0.5468576908931639,
          -0.3723246258212861,
          -0.10187642150169789,
          -0.34217033571798433,
          -0.07172213139839612,
          -0.559323638570604,
          -0.2703444555321213,
          -0.19011907345783563
         ],
         "y": [
          -0.31684532191868797,
          -0.11929726294576251,
          -0.2820016445622071,
          -0.4621703525196903,
          -0.17511306884165806,
          0.09569631044058442,
          -0.017626616369985956,
          0.09039515180195902,
          -0.18033099798643054,
          -0.3604997059439138,
          -0.4825628182856661,
          -0.07344242226588152,
          -0.3736504436428427,
          0.2932443694135099,
          0.7032836481120401,
          0.4012661375854549,
          0.23742856351761432,
          0.46145181091125953,
          0.01721706098649492,
          0.12410563670704396,
          0.1252388291584399,
          0.23212740487898892,
          -0.3256560285874329,
          -0.4477191409291852,
          -0.03859874490940064
         ]
        }
       ],
       "layout": {
        "autosize": false,
        "height": 500,
        "hovermode": "closest",
        "margin": {
         "b": 10,
         "l": 10,
         "r": 10,
         "t": 10
        },
        "plot_bgcolor": "rgba(0,0,0,0)",
        "showlegend": false,
        "template": {
         "data": {
          "bar": [
           {
            "error_x": {
             "color": "#2a3f5f"
            },
            "error_y": {
             "color": "#2a3f5f"
            },
            "marker": {
             "line": {
              "color": "#E5ECF6",
              "width": 0.5
             }
            },
            "type": "bar"
           }
          ],
          "barpolar": [
           {
            "marker": {
             "line": {
              "color": "#E5ECF6",
              "width": 0.5
             }
            },
            "type": "barpolar"
           }
          ],
          "carpet": [
           {
            "aaxis": {
             "endlinecolor": "#2a3f5f",
             "gridcolor": "white",
             "linecolor": "white",
             "minorgridcolor": "white",
             "startlinecolor": "#2a3f5f"
            },
            "baxis": {
             "endlinecolor": "#2a3f5f",
             "gridcolor": "white",
             "linecolor": "white",
             "minorgridcolor": "white",
             "startlinecolor": "#2a3f5f"
            },
            "type": "carpet"
           }
          ],
          "choropleth": [
           {
            "colorbar": {
             "outlinewidth": 0,
             "ticks": ""
            },
            "type": "choropleth"
           }
          ],
          "contour": [
           {
            "colorbar": {
             "outlinewidth": 0,
             "ticks": ""
            },
            "colorscale": [
             [
              0,
              "#0d0887"
             ],
             [
              0.1111111111111111,
              "#46039f"
             ],
             [
              0.2222222222222222,
              "#7201a8"
             ],
             [
              0.3333333333333333,
              "#9c179e"
             ],
             [
              0.4444444444444444,
              "#bd3786"
             ],
             [
              0.5555555555555556,
              "#d8576b"
             ],
             [
              0.6666666666666666,
              "#ed7953"
             ],
             [
              0.7777777777777778,
              "#fb9f3a"
             ],
             [
              0.8888888888888888,
              "#fdca26"
             ],
             [
              1,
              "#f0f921"
             ]
            ],
            "type": "contour"
           }
          ],
          "contourcarpet": [
           {
            "colorbar": {
             "outlinewidth": 0,
             "ticks": ""
            },
            "type": "contourcarpet"
           }
          ],
          "heatmap": [
           {
            "colorbar": {
             "outlinewidth": 0,
             "ticks": ""
            },
            "colorscale": [
             [
              0,
              "#0d0887"
             ],
             [
              0.1111111111111111,
              "#46039f"
             ],
             [
              0.2222222222222222,
              "#7201a8"
             ],
             [
              0.3333333333333333,
              "#9c179e"
             ],
             [
              0.4444444444444444,
              "#bd3786"
             ],
             [
              0.5555555555555556,
              "#d8576b"
             ],
             [
              0.6666666666666666,
              "#ed7953"
             ],
             [
              0.7777777777777778,
              "#fb9f3a"
             ],
             [
              0.8888888888888888,
              "#fdca26"
             ],
             [
              1,
              "#f0f921"
             ]
            ],
            "type": "heatmap"
           }
          ],
          "heatmapgl": [
           {
            "colorbar": {
             "outlinewidth": 0,
             "ticks": ""
            },
            "colorscale": [
             [
              0,
              "#0d0887"
             ],
             [
              0.1111111111111111,
              "#46039f"
             ],
             [
              0.2222222222222222,
              "#7201a8"
             ],
             [
              0.3333333333333333,
              "#9c179e"
             ],
             [
              0.4444444444444444,
              "#bd3786"
             ],
             [
              0.5555555555555556,
              "#d8576b"
             ],
             [
              0.6666666666666666,
              "#ed7953"
             ],
             [
              0.7777777777777778,
              "#fb9f3a"
             ],
             [
              0.8888888888888888,
              "#fdca26"
             ],
             [
              1,
              "#f0f921"
             ]
            ],
            "type": "heatmapgl"
           }
          ],
          "histogram": [
           {
            "marker": {
             "colorbar": {
              "outlinewidth": 0,
              "ticks": ""
             }
            },
            "type": "histogram"
           }
          ],
          "histogram2d": [
           {
            "colorbar": {
             "outlinewidth": 0,
             "ticks": ""
            },
            "colorscale": [
             [
              0,
              "#0d0887"
             ],
             [
              0.1111111111111111,
              "#46039f"
             ],
             [
              0.2222222222222222,
              "#7201a8"
             ],
             [
              0.3333333333333333,
              "#9c179e"
             ],
             [
              0.4444444444444444,
              "#bd3786"
             ],
             [
              0.5555555555555556,
              "#d8576b"
             ],
             [
              0.6666666666666666,
              "#ed7953"
             ],
             [
              0.7777777777777778,
              "#fb9f3a"
             ],
             [
              0.8888888888888888,
              "#fdca26"
             ],
             [
              1,
              "#f0f921"
             ]
            ],
            "type": "histogram2d"
           }
          ],
          "histogram2dcontour": [
           {
            "colorbar": {
             "outlinewidth": 0,
             "ticks": ""
            },
            "colorscale": [
             [
              0,
              "#0d0887"
             ],
             [
              0.1111111111111111,
              "#46039f"
             ],
             [
              0.2222222222222222,
              "#7201a8"
             ],
             [
              0.3333333333333333,
              "#9c179e"
             ],
             [
              0.4444444444444444,
              "#bd3786"
             ],
             [
              0.5555555555555556,
              "#d8576b"
             ],
             [
              0.6666666666666666,
              "#ed7953"
             ],
             [
              0.7777777777777778,
              "#fb9f3a"
             ],
             [
              0.8888888888888888,
              "#fdca26"
             ],
             [
              1,
              "#f0f921"
             ]
            ],
            "type": "histogram2dcontour"
           }
          ],
          "mesh3d": [
           {
            "colorbar": {
             "outlinewidth": 0,
             "ticks": ""
            },
            "type": "mesh3d"
           }
          ],
          "parcoords": [
           {
            "line": {
             "colorbar": {
              "outlinewidth": 0,
              "ticks": ""
             }
            },
            "type": "parcoords"
           }
          ],
          "pie": [
           {
            "automargin": true,
            "type": "pie"
           }
          ],
          "scatter": [
           {
            "marker": {
             "colorbar": {
              "outlinewidth": 0,
              "ticks": ""
             }
            },
            "type": "scatter"
           }
          ],
          "scatter3d": [
           {
            "line": {
             "colorbar": {
              "outlinewidth": 0,
              "ticks": ""
             }
            },
            "marker": {
             "colorbar": {
              "outlinewidth": 0,
              "ticks": ""
             }
            },
            "type": "scatter3d"
           }
          ],
          "scattercarpet": [
           {
            "marker": {
             "colorbar": {
              "outlinewidth": 0,
              "ticks": ""
             }
            },
            "type": "scattercarpet"
           }
          ],
          "scattergeo": [
           {
            "marker": {
             "colorbar": {
              "outlinewidth": 0,
              "ticks": ""
             }
            },
            "type": "scattergeo"
           }
          ],
          "scattergl": [
           {
            "marker": {
             "colorbar": {
              "outlinewidth": 0,
              "ticks": ""
             }
            },
            "type": "scattergl"
           }
          ],
          "scattermapbox": [
           {
            "marker": {
             "colorbar": {
              "outlinewidth": 0,
              "ticks": ""
             }
            },
            "type": "scattermapbox"
           }
          ],
          "scatterpolar": [
           {
            "marker": {
             "colorbar": {
              "outlinewidth": 0,
              "ticks": ""
             }
            },
            "type": "scatterpolar"
           }
          ],
          "scatterpolargl": [
           {
            "marker": {
             "colorbar": {
              "outlinewidth": 0,
              "ticks": ""
             }
            },
            "type": "scatterpolargl"
           }
          ],
          "scatterternary": [
           {
            "marker": {
             "colorbar": {
              "outlinewidth": 0,
              "ticks": ""
             }
            },
            "type": "scatterternary"
           }
          ],
          "surface": [
           {
            "colorbar": {
             "outlinewidth": 0,
             "ticks": ""
            },
            "colorscale": [
             [
              0,
              "#0d0887"
             ],
             [
              0.1111111111111111,
              "#46039f"
             ],
             [
              0.2222222222222222,
              "#7201a8"
             ],
             [
              0.3333333333333333,
              "#9c179e"
             ],
             [
              0.4444444444444444,
              "#bd3786"
             ],
             [
              0.5555555555555556,
              "#d8576b"
             ],
             [
              0.6666666666666666,
              "#ed7953"
             ],
             [
              0.7777777777777778,
              "#fb9f3a"
             ],
             [
              0.8888888888888888,
              "#fdca26"
             ],
             [
              1,
              "#f0f921"
             ]
            ],
            "type": "surface"
           }
          ],
          "table": [
           {
            "cells": {
             "fill": {
              "color": "#EBF0F8"
             },
             "line": {
              "color": "white"
             }
            },
            "header": {
             "fill": {
              "color": "#C8D4E3"
             },
             "line": {
              "color": "white"
             }
            },
            "type": "table"
           }
          ]
         },
         "layout": {
          "annotationdefaults": {
           "arrowcolor": "#2a3f5f",
           "arrowhead": 0,
           "arrowwidth": 1
          },
          "autotypenumbers": "strict",
          "coloraxis": {
           "colorbar": {
            "outlinewidth": 0,
            "ticks": ""
           }
          },
          "colorscale": {
           "diverging": [
            [
             0,
             "#8e0152"
            ],
            [
             0.1,
             "#c51b7d"
            ],
            [
             0.2,
             "#de77ae"
            ],
            [
             0.3,
             "#f1b6da"
            ],
            [
             0.4,
             "#fde0ef"
            ],
            [
             0.5,
             "#f7f7f7"
            ],
            [
             0.6,
             "#e6f5d0"
            ],
            [
             0.7,
             "#b8e186"
            ],
            [
             0.8,
             "#7fbc41"
            ],
            [
             0.9,
             "#4d9221"
            ],
            [
             1,
             "#276419"
            ]
           ],
           "sequential": [
            [
             0,
             "#0d0887"
            ],
            [
             0.1111111111111111,
             "#46039f"
            ],
            [
             0.2222222222222222,
             "#7201a8"
            ],
            [
             0.3333333333333333,
             "#9c179e"
            ],
            [
             0.4444444444444444,
             "#bd3786"
            ],
            [
             0.5555555555555556,
             "#d8576b"
            ],
            [
             0.6666666666666666,
             "#ed7953"
            ],
            [
             0.7777777777777778,
             "#fb9f3a"
            ],
            [
             0.8888888888888888,
             "#fdca26"
            ],
            [
             1,
             "#f0f921"
            ]
           ],
           "sequentialminus": [
            [
             0,
             "#0d0887"
            ],
            [
             0.1111111111111111,
             "#46039f"
            ],
            [
             0.2222222222222222,
             "#7201a8"
            ],
            [
             0.3333333333333333,
             "#9c179e"
            ],
            [
             0.4444444444444444,
             "#bd3786"
            ],
            [
             0.5555555555555556,
             "#d8576b"
            ],
            [
             0.6666666666666666,
             "#ed7953"
            ],
            [
             0.7777777777777778,
             "#fb9f3a"
            ],
            [
             0.8888888888888888,
             "#fdca26"
            ],
            [
             1,
             "#f0f921"
            ]
           ]
          },
          "colorway": [
           "#636efa",
           "#EF553B",
           "#00cc96",
           "#ab63fa",
           "#FFA15A",
           "#19d3f3",
           "#FF6692",
           "#B6E880",
           "#FF97FF",
           "#FECB52"
          ],
          "font": {
           "color": "#2a3f5f"
          },
          "geo": {
           "bgcolor": "white",
           "lakecolor": "white",
           "landcolor": "#E5ECF6",
           "showlakes": true,
           "showland": true,
           "subunitcolor": "white"
          },
          "hoverlabel": {
           "align": "left"
          },
          "hovermode": "closest",
          "mapbox": {
           "style": "light"
          },
          "paper_bgcolor": "white",
          "plot_bgcolor": "#E5ECF6",
          "polar": {
           "angularaxis": {
            "gridcolor": "white",
            "linecolor": "white",
            "ticks": ""
           },
           "bgcolor": "#E5ECF6",
           "radialaxis": {
            "gridcolor": "white",
            "linecolor": "white",
            "ticks": ""
           }
          },
          "scene": {
           "xaxis": {
            "backgroundcolor": "#E5ECF6",
            "gridcolor": "white",
            "gridwidth": 2,
            "linecolor": "white",
            "showbackground": true,
            "ticks": "",
            "zerolinecolor": "white"
           },
           "yaxis": {
            "backgroundcolor": "#E5ECF6",
            "gridcolor": "white",
            "gridwidth": 2,
            "linecolor": "white",
            "showbackground": true,
            "ticks": "",
            "zerolinecolor": "white"
           },
           "zaxis": {
            "backgroundcolor": "#E5ECF6",
            "gridcolor": "white",
            "gridwidth": 2,
            "linecolor": "white",
            "showbackground": true,
            "ticks": "",
            "zerolinecolor": "white"
           }
          },
          "shapedefaults": {
           "line": {
            "color": "#2a3f5f"
           }
          },
          "ternary": {
           "aaxis": {
            "gridcolor": "white",
            "linecolor": "white",
            "ticks": ""
           },
           "baxis": {
            "gridcolor": "white",
            "linecolor": "white",
            "ticks": ""
           },
           "bgcolor": "#E5ECF6",
           "caxis": {
            "gridcolor": "white",
            "linecolor": "white",
            "ticks": ""
           }
          },
          "title": {
           "x": 0.05
          },
          "xaxis": {
           "automargin": true,
           "gridcolor": "white",
           "linecolor": "white",
           "ticks": "",
           "title": {
            "standoff": 15
           },
           "zerolinecolor": "white",
           "zerolinewidth": 2
          },
          "yaxis": {
           "automargin": true,
           "gridcolor": "white",
           "linecolor": "white",
           "ticks": "",
           "title": {
            "standoff": 15
           },
           "zerolinecolor": "white",
           "zerolinewidth": 2
          }
         }
        },
        "title": {
         "font": {
          "size": 16
         }
        },
        "width": 500,
        "xaxis": {
         "range": [
          -1.1,
          1.15
         ],
         "showgrid": false,
         "showticklabels": false,
         "zeroline": false
        },
        "yaxis": {
         "range": [
          -1.1,
          1.05
         ],
         "showgrid": false,
         "showticklabels": false,
         "zeroline": false
        }
       }
      },
      "text/html": [
       "<div>                            <div id=\"6981e64d-c01f-4b9b-b8b6-87e75bfdc99a\" class=\"plotly-graph-div\" style=\"height:500px; width:500px;\"></div>            <script type=\"text/javascript\">                require([\"plotly\"], function(Plotly) {                    window.PLOTLYENV=window.PLOTLYENV || {};                                    if (document.getElementById(\"6981e64d-c01f-4b9b-b8b6-87e75bfdc99a\")) {                    Plotly.newPlot(                        \"6981e64d-c01f-4b9b-b8b6-87e75bfdc99a\",                        [{\"line\": {\"color\": \"#000000\", \"width\": 1}, \"mode\": \"lines\", \"type\": \"scatter\", \"x\": [0.028493434889815115, -0.22377339365854484, null, 0.028493434889815115, -0.46056727777742384, null], \"y\": [-0.21517467534291143, 0.39596497894682947, null, -0.21517467534291143, -0.14548732062994968, null]}, {\"line\": {\"color\": \"#404040\", \"width\": 0.7}, \"mode\": \"lines\", \"type\": \"scatter\", \"x\": [0.028493434889815115, -0.6580799993637841, null, 0.028493434889815115, -0.08012163328681866, null, -0.46056727777742384, -0.6580799993637841, null, -0.46056727777742384, -0.08012163328681866, null], \"y\": [-0.21517467534291143, -0.5058247365449161, null, -0.21517467534291143, -0.7499509612284208, null, -0.14548732062994968, -0.5058247365449161, null, -0.14548732062994968, -0.7499509612284208, null]}, {\"line\": {\"color\": \"#C0C0C0\", \"width\": 0.5}, \"mode\": \"lines\", \"type\": \"scatter\", \"x\": [-0.2781267953211239, 0.028493434889815115, null, -0.2781267953211239, -0.2840819738651484, null, -0.2781267953211239, -0.46056727777742384, null, -0.2781267953211239, -0.6580799993637841, null, -0.2781267953211239, 0.08032913086175261, null, 0.028493434889815115, 0.26381325627106306, null, 0.028493434889815115, -0.2840819738651484, null, 0.028493434889815115, 0.08032913086175261, null, 0.028493434889815115, 0.5522698585372463, null, 0.26381325627106306, -0.2840819738651484, null, 0.26381325627106306, 0.2299432671977019, null, 0.26381325627106306, -0.22377339365854484, null, 0.26381325627106306, 0.08032913086175261, null, 0.26381325627106306, 0.8299021255152649, null, -0.2840819738651484, -0.46056727777742384, null, -0.2840819738651484, 0.08032913086175261, null, -0.22377339365854484, -0.46056727777742384, null, -0.22377339365854484, 0.08032913086175261, null, -0.46056727777742384, 0.08032913086175261, null], \"y\": [-0.41851596849446454, -0.21517467534291143, null, -0.41851596849446454, 0.17992144260293952, null, -0.41851596849446454, -0.14548732062994968, null, -0.41851596849446454, -0.5058247365449161, null, -0.41851596849446454, 0.0682898308111484, null, -0.21517467534291143, 0.4065672962240803, null, -0.21517467534291143, 0.17992144260293952, null, -0.21517467534291143, 0.0682898308111484, null, -0.21517467534291143, -0.532126211942774, null, 0.4065672962240803, 0.17992144260293952, null, 0.4065672962240803, 1.0, null, 0.4065672962240803, 0.39596497894682947, null, 0.4065672962240803, 0.0682898308111484, null, 0.4065672962240803, 0.5163363255984388, null, 0.17992144260293952, -0.14548732062994968, null, 0.17992144260293952, 0.0682898308111484, null, 0.39596497894682947, -0.14548732062994968, null, 0.39596497894682947, 0.0682898308111484, null, -0.14548732062994968, 0.0682898308111484, null]}, {\"hoverinfo\": \"text\", \"hovertext\": [\"5\", \"9\", \"6\", \"5\", \"1\", \"4\", \"7\", \"3\", \"2\", \"6\", \"1\", \"1\"], \"marker\": {\"color\": [40, 60, 42, 24, 4, 18, 24, 3, 6, 5, 7, 6], \"colorbar\": {\"thickness\": 15, \"title\": {\"side\": \"right\", \"text\": \"degree\"}, \"xanchor\": \"left\"}, \"colorscale\": [[0.0, \"rgb(255,255,255)\"], [0.125, \"rgb(240,240,240)\"], [0.25, \"rgb(217,217,217)\"], [0.375, \"rgb(189,189,189)\"], [0.5, \"rgb(150,150,150)\"], [0.625, \"rgb(115,115,115)\"], [0.75, \"rgb(82,82,82)\"], [0.875, \"rgb(37,37,37)\"], [1.0, \"rgb(0,0,0)\"]], \"line\": {\"width\": 1}, \"showscale\": false, \"size\": 7}, \"mode\": \"markers+text\", \"text\": [\"\\u03c0\\u03af\\u03c3\\u03c4\\u03b9\\u03c2\", \"\\u03b8\\u03b5\\u03cc\\u03c2\", \"\\u1f01\\u03bc\\u03b1\\u03c1\\u03c4\\u03af\\u03b1\", \"\\u03b4\\u03b9\\u03ba\\u03b1\\u03b9\\u03bf\\u03c3\\u03cd\\u03bd\\u03b7\", \"\\u03c3\\u03ac\\u03c1\\u03be\", \"\\u03b5\\u1f30\\u03bc\\u03af\", \"\\u03c7\\u03c1\\u03b9\\u03c3\\u03c4\\u03cc\\u03c2\", \"\\u03c0\\u1fb6\\u03c2\", \"\\u03ba\\u03cd\\u03c1\\u03b9\\u03bf\\u03c2\", \"\\u03bd\\u03cc\\u03bc\\u03bf\\u03c2\", \"\\u03b8\\u03ac\\u03bd\\u03b1\\u03c4\\u03bf\\u03c2\", \"\\u03c0\\u03bd\\u03b5\\u1fe6\\u03bc\\u03b1\"], \"textposition\": \"bottom center\", \"type\": \"scatter\", \"x\": [-0.2781267953211239, 0.028493434889815115, 0.26381325627106306, -0.2840819738651484, 0.2299432671977019, -0.22377339365854484, -0.46056727777742384, -0.6580799993637841, -0.08012163328681866, 0.08032913086175261, 0.8299021255152649, 0.5522698585372463], \"y\": [-0.41851596849446454, -0.21517467534291143, 0.4065672962240803, 0.17992144260293952, 1.0, 0.39596497894682947, -0.14548732062994968, -0.5058247365449161, -0.7499509612284208, 0.0682898308111484, 0.5163363255984388, -0.532126211942774]}, {\"hoverinfo\": \"text\", \"marker\": {\"opacity\": 0}, \"mode\": \"markers\", \"opacity\": 0, \"text\": [\"47\", \"26\", \"38\", \"23\", \"27\", \"23\", \"26\", \"93\", \"148\", \"90\", \"71\", \"34\", \"50\", \"13\", \"15\", \"16\", \"29\", \"17\", \"16\", \"16\", \"55\", \"36\", \"66\", \"60\", \"25\"], \"type\": \"scatter\", \"x\": [-0.12481668021565438, -0.28110438459313614, -0.36934703654927387, -0.468103397342454, -0.09889883222968564, 0.14615334558043908, -0.12779426948766665, -0.09763997938436486, -0.21603692144380438, -0.3147932822369845, -0.025814099198501774, 0.05441128287578387, 0.29038164671353073, -0.010134358797042664, 0.2468782617343825, 0.020019931306259106, 0.17207119356640782, 0.5468576908931639, -0.3723246258212861, -0.10187642150169789, -0.34217033571798433, -0.07172213139839612, -0.559323638570604, -0.2703444555321213, -0.19011907345783563], \"y\": [-0.31684532191868797, -0.11929726294576251, -0.2820016445622071, -0.4621703525196903, -0.17511306884165806, 0.09569631044058442, -0.017626616369985956, 0.09039515180195902, -0.18033099798643054, -0.3604997059439138, -0.4825628182856661, -0.07344242226588152, -0.3736504436428427, 0.2932443694135099, 0.7032836481120401, 0.4012661375854549, 0.23742856351761432, 0.46145181091125953, 0.01721706098649492, 0.12410563670704396, 0.1252388291584399, 0.23212740487898892, -0.3256560285874329, -0.4477191409291852, -0.03859874490940064]}],                        {\"autosize\": false, \"height\": 500, \"hovermode\": \"closest\", \"margin\": {\"b\": 10, \"l\": 10, \"r\": 10, \"t\": 10}, \"plot_bgcolor\": \"rgba(0,0,0,0)\", \"showlegend\": false, \"template\": {\"data\": {\"bar\": [{\"error_x\": {\"color\": \"#2a3f5f\"}, \"error_y\": {\"color\": \"#2a3f5f\"}, \"marker\": {\"line\": {\"color\": \"#E5ECF6\", \"width\": 0.5}}, \"type\": \"bar\"}], \"barpolar\": [{\"marker\": {\"line\": {\"color\": \"#E5ECF6\", \"width\": 0.5}}, \"type\": \"barpolar\"}], \"carpet\": [{\"aaxis\": {\"endlinecolor\": \"#2a3f5f\", \"gridcolor\": \"white\", \"linecolor\": \"white\", \"minorgridcolor\": \"white\", \"startlinecolor\": \"#2a3f5f\"}, \"baxis\": {\"endlinecolor\": \"#2a3f5f\", \"gridcolor\": \"white\", \"linecolor\": \"white\", \"minorgridcolor\": \"white\", \"startlinecolor\": \"#2a3f5f\"}, \"type\": \"carpet\"}], \"choropleth\": [{\"colorbar\": {\"outlinewidth\": 0, \"ticks\": \"\"}, \"type\": \"choropleth\"}], \"contour\": [{\"colorbar\": {\"outlinewidth\": 0, \"ticks\": \"\"}, \"colorscale\": [[0.0, \"#0d0887\"], [0.1111111111111111, \"#46039f\"], [0.2222222222222222, \"#7201a8\"], [0.3333333333333333, \"#9c179e\"], [0.4444444444444444, \"#bd3786\"], [0.5555555555555556, \"#d8576b\"], [0.6666666666666666, \"#ed7953\"], [0.7777777777777778, \"#fb9f3a\"], [0.8888888888888888, \"#fdca26\"], [1.0, \"#f0f921\"]], \"type\": \"contour\"}], \"contourcarpet\": [{\"colorbar\": {\"outlinewidth\": 0, \"ticks\": \"\"}, \"type\": \"contourcarpet\"}], \"heatmap\": [{\"colorbar\": {\"outlinewidth\": 0, \"ticks\": \"\"}, \"colorscale\": [[0.0, \"#0d0887\"], [0.1111111111111111, \"#46039f\"], [0.2222222222222222, \"#7201a8\"], [0.3333333333333333, \"#9c179e\"], [0.4444444444444444, \"#bd3786\"], [0.5555555555555556, \"#d8576b\"], [0.6666666666666666, \"#ed7953\"], [0.7777777777777778, \"#fb9f3a\"], [0.8888888888888888, \"#fdca26\"], [1.0, \"#f0f921\"]], \"type\": \"heatmap\"}], \"heatmapgl\": [{\"colorbar\": {\"outlinewidth\": 0, \"ticks\": \"\"}, \"colorscale\": [[0.0, \"#0d0887\"], [0.1111111111111111, \"#46039f\"], [0.2222222222222222, \"#7201a8\"], [0.3333333333333333, \"#9c179e\"], [0.4444444444444444, \"#bd3786\"], [0.5555555555555556, \"#d8576b\"], [0.6666666666666666, \"#ed7953\"], [0.7777777777777778, \"#fb9f3a\"], [0.8888888888888888, \"#fdca26\"], [1.0, \"#f0f921\"]], \"type\": \"heatmapgl\"}], \"histogram\": [{\"marker\": {\"colorbar\": {\"outlinewidth\": 0, \"ticks\": \"\"}}, \"type\": \"histogram\"}], \"histogram2d\": [{\"colorbar\": {\"outlinewidth\": 0, \"ticks\": \"\"}, \"colorscale\": [[0.0, \"#0d0887\"], [0.1111111111111111, \"#46039f\"], [0.2222222222222222, \"#7201a8\"], [0.3333333333333333, \"#9c179e\"], [0.4444444444444444, \"#bd3786\"], [0.5555555555555556, \"#d8576b\"], [0.6666666666666666, \"#ed7953\"], [0.7777777777777778, \"#fb9f3a\"], [0.8888888888888888, \"#fdca26\"], [1.0, \"#f0f921\"]], \"type\": \"histogram2d\"}], \"histogram2dcontour\": [{\"colorbar\": {\"outlinewidth\": 0, \"ticks\": \"\"}, \"colorscale\": [[0.0, \"#0d0887\"], [0.1111111111111111, \"#46039f\"], [0.2222222222222222, \"#7201a8\"], [0.3333333333333333, \"#9c179e\"], [0.4444444444444444, \"#bd3786\"], [0.5555555555555556, \"#d8576b\"], [0.6666666666666666, \"#ed7953\"], [0.7777777777777778, \"#fb9f3a\"], [0.8888888888888888, \"#fdca26\"], [1.0, \"#f0f921\"]], \"type\": \"histogram2dcontour\"}], \"mesh3d\": [{\"colorbar\": {\"outlinewidth\": 0, \"ticks\": \"\"}, \"type\": \"mesh3d\"}], \"parcoords\": [{\"line\": {\"colorbar\": {\"outlinewidth\": 0, \"ticks\": \"\"}}, \"type\": \"parcoords\"}], \"pie\": [{\"automargin\": true, \"type\": \"pie\"}], \"scatter\": [{\"marker\": {\"colorbar\": {\"outlinewidth\": 0, \"ticks\": \"\"}}, \"type\": \"scatter\"}], \"scatter3d\": [{\"line\": {\"colorbar\": {\"outlinewidth\": 0, \"ticks\": \"\"}}, \"marker\": {\"colorbar\": {\"outlinewidth\": 0, \"ticks\": \"\"}}, \"type\": \"scatter3d\"}], \"scattercarpet\": [{\"marker\": {\"colorbar\": {\"outlinewidth\": 0, \"ticks\": \"\"}}, \"type\": \"scattercarpet\"}], \"scattergeo\": [{\"marker\": {\"colorbar\": {\"outlinewidth\": 0, \"ticks\": \"\"}}, \"type\": \"scattergeo\"}], \"scattergl\": [{\"marker\": {\"colorbar\": {\"outlinewidth\": 0, \"ticks\": \"\"}}, \"type\": \"scattergl\"}], \"scattermapbox\": [{\"marker\": {\"colorbar\": {\"outlinewidth\": 0, \"ticks\": \"\"}}, \"type\": \"scattermapbox\"}], \"scatterpolar\": [{\"marker\": {\"colorbar\": {\"outlinewidth\": 0, \"ticks\": \"\"}}, \"type\": \"scatterpolar\"}], \"scatterpolargl\": [{\"marker\": {\"colorbar\": {\"outlinewidth\": 0, \"ticks\": \"\"}}, \"type\": \"scatterpolargl\"}], \"scatterternary\": [{\"marker\": {\"colorbar\": {\"outlinewidth\": 0, \"ticks\": \"\"}}, \"type\": \"scatterternary\"}], \"surface\": [{\"colorbar\": {\"outlinewidth\": 0, \"ticks\": \"\"}, \"colorscale\": [[0.0, \"#0d0887\"], [0.1111111111111111, \"#46039f\"], [0.2222222222222222, \"#7201a8\"], [0.3333333333333333, \"#9c179e\"], [0.4444444444444444, \"#bd3786\"], [0.5555555555555556, \"#d8576b\"], [0.6666666666666666, \"#ed7953\"], [0.7777777777777778, \"#fb9f3a\"], [0.8888888888888888, \"#fdca26\"], [1.0, \"#f0f921\"]], \"type\": \"surface\"}], \"table\": [{\"cells\": {\"fill\": {\"color\": \"#EBF0F8\"}, \"line\": {\"color\": \"white\"}}, \"header\": {\"fill\": {\"color\": \"#C8D4E3\"}, \"line\": {\"color\": \"white\"}}, \"type\": \"table\"}]}, \"layout\": {\"annotationdefaults\": {\"arrowcolor\": \"#2a3f5f\", \"arrowhead\": 0, \"arrowwidth\": 1}, \"autotypenumbers\": \"strict\", \"coloraxis\": {\"colorbar\": {\"outlinewidth\": 0, \"ticks\": \"\"}}, \"colorscale\": {\"diverging\": [[0, \"#8e0152\"], [0.1, \"#c51b7d\"], [0.2, \"#de77ae\"], [0.3, \"#f1b6da\"], [0.4, \"#fde0ef\"], [0.5, \"#f7f7f7\"], [0.6, \"#e6f5d0\"], [0.7, \"#b8e186\"], [0.8, \"#7fbc41\"], [0.9, \"#4d9221\"], [1, \"#276419\"]], \"sequential\": [[0.0, \"#0d0887\"], [0.1111111111111111, \"#46039f\"], [0.2222222222222222, \"#7201a8\"], [0.3333333333333333, \"#9c179e\"], [0.4444444444444444, \"#bd3786\"], [0.5555555555555556, \"#d8576b\"], [0.6666666666666666, \"#ed7953\"], [0.7777777777777778, \"#fb9f3a\"], [0.8888888888888888, \"#fdca26\"], [1.0, \"#f0f921\"]], \"sequentialminus\": [[0.0, \"#0d0887\"], [0.1111111111111111, \"#46039f\"], [0.2222222222222222, \"#7201a8\"], [0.3333333333333333, \"#9c179e\"], [0.4444444444444444, \"#bd3786\"], [0.5555555555555556, \"#d8576b\"], [0.6666666666666666, \"#ed7953\"], [0.7777777777777778, \"#fb9f3a\"], [0.8888888888888888, \"#fdca26\"], [1.0, \"#f0f921\"]]}, \"colorway\": [\"#636efa\", \"#EF553B\", \"#00cc96\", \"#ab63fa\", \"#FFA15A\", \"#19d3f3\", \"#FF6692\", \"#B6E880\", \"#FF97FF\", \"#FECB52\"], \"font\": {\"color\": \"#2a3f5f\"}, \"geo\": {\"bgcolor\": \"white\", \"lakecolor\": \"white\", \"landcolor\": \"#E5ECF6\", \"showlakes\": true, \"showland\": true, \"subunitcolor\": \"white\"}, \"hoverlabel\": {\"align\": \"left\"}, \"hovermode\": \"closest\", \"mapbox\": {\"style\": \"light\"}, \"paper_bgcolor\": \"white\", \"plot_bgcolor\": \"#E5ECF6\", \"polar\": {\"angularaxis\": {\"gridcolor\": \"white\", \"linecolor\": \"white\", \"ticks\": \"\"}, \"bgcolor\": \"#E5ECF6\", \"radialaxis\": {\"gridcolor\": \"white\", \"linecolor\": \"white\", \"ticks\": \"\"}}, \"scene\": {\"xaxis\": {\"backgroundcolor\": \"#E5ECF6\", \"gridcolor\": \"white\", \"gridwidth\": 2, \"linecolor\": \"white\", \"showbackground\": true, \"ticks\": \"\", \"zerolinecolor\": \"white\"}, \"yaxis\": {\"backgroundcolor\": \"#E5ECF6\", \"gridcolor\": \"white\", \"gridwidth\": 2, \"linecolor\": \"white\", \"showbackground\": true, \"ticks\": \"\", \"zerolinecolor\": \"white\"}, \"zaxis\": {\"backgroundcolor\": \"#E5ECF6\", \"gridcolor\": \"white\", \"gridwidth\": 2, \"linecolor\": \"white\", \"showbackground\": true, \"ticks\": \"\", \"zerolinecolor\": \"white\"}}, \"shapedefaults\": {\"line\": {\"color\": \"#2a3f5f\"}}, \"ternary\": {\"aaxis\": {\"gridcolor\": \"white\", \"linecolor\": \"white\", \"ticks\": \"\"}, \"baxis\": {\"gridcolor\": \"white\", \"linecolor\": \"white\", \"ticks\": \"\"}, \"bgcolor\": \"#E5ECF6\", \"caxis\": {\"gridcolor\": \"white\", \"linecolor\": \"white\", \"ticks\": \"\"}}, \"title\": {\"x\": 0.05}, \"xaxis\": {\"automargin\": true, \"gridcolor\": \"white\", \"linecolor\": \"white\", \"ticks\": \"\", \"title\": {\"standoff\": 15}, \"zerolinecolor\": \"white\", \"zerolinewidth\": 2}, \"yaxis\": {\"automargin\": true, \"gridcolor\": \"white\", \"linecolor\": \"white\", \"ticks\": \"\", \"title\": {\"standoff\": 15}, \"zerolinecolor\": \"white\", \"zerolinewidth\": 2}}}, \"title\": {\"font\": {\"size\": 16}}, \"width\": 500, \"xaxis\": {\"range\": [-1.1, 1.15], \"showgrid\": false, \"showticklabels\": false, \"zeroline\": false}, \"yaxis\": {\"range\": [-1.1, 1.05], \"showgrid\": false, \"showticklabels\": false, \"zeroline\": false}},                        {\"responsive\": true}                    ).then(function(){\n",
       "                            \n",
       "var gd = document.getElementById('6981e64d-c01f-4b9b-b8b6-87e75bfdc99a');\n",
       "var x = new MutationObserver(function (mutations, observer) {{\n",
       "        var display = window.getComputedStyle(gd).display;\n",
       "        if (!display || display === 'none') {{\n",
       "            console.log([gd, 'removed!']);\n",
       "            Plotly.purge(gd);\n",
       "            observer.disconnect();\n",
       "        }}\n",
       "}});\n",
       "\n",
       "// Listen for the removal of the full notebook cells\n",
       "var notebookContainer = gd.closest('#notebook-container');\n",
       "if (notebookContainer) {{\n",
       "    x.observe(notebookContainer, {childList: true});\n",
       "}}\n",
       "\n",
       "// Listen for the clearing of the current output cell\n",
       "var outputEl = gd.closest('.output');\n",
       "if (outputEl) {{\n",
       "    x.observe(outputEl, {childList: true});\n",
       "}}\n",
       "\n",
       "                        })                };                });            </script>        </div>"
      ]
     },
     "metadata": {},
     "output_type": "display_data"
    }
   ],
   "source": [
    "textnet.draw_2d_network(ego_network)"
   ]
  },
  {
   "cell_type": "code",
   "execution_count": 97,
   "metadata": {},
   "outputs": [],
   "source": [
    "def get_nn(source_network, source_node, per_level=5):\n",
    "    return [(source_node, n[0]) for n in sorted(source_network[source_node].items(), key=lambda edge: edge[1]['weight'], reverse=True)][:per_level]\n",
    "\n",
    "\n",
    "def construct_association_network(source_network, source_term, per_level=5):\n",
    "    assoc_edges = [] \n",
    "    assoc_edges.extend(get_nn(source_network, source_term, per_level))\n",
    "    neighbors = [e[1] for e in assoc_edges]\n",
    "    for nn in neighbors:\n",
    "        assoc_edges.extend(get_nn(network_sentences, nn))\n",
    "\n",
    "    assoc_network = source_network.copy(as_view=False)\n",
    "    for edge in assoc_network.edges():\n",
    "        if edge not in assoc_edges:\n",
    "            if (edge[1],edge[0]) not in assoc_edges:\n",
    "                edges_to_remove.append(edge)\n",
    "    assoc_network.remove_edges_from(edges_to_remove)\n",
    "    isolates = nx.isolates(assoc_network)\n",
    "    assoc_network.remove_nodes_from([n for n in isolates])\n",
    "    return assoc_network"
   ]
  },
  {
   "cell_type": "code",
   "execution_count": 100,
   "metadata": {},
   "outputs": [],
   "source": [
    "assoc_network = construct_association_network(network_sentences, \"δικαιοσύνη\")"
   ]
  },
  {
   "cell_type": "code",
   "execution_count": 102,
   "metadata": {},
   "outputs": [
    {
     "data": {
      "application/vnd.plotly.v1+json": {
       "config": {
        "plotlyServerURL": "https://plot.ly"
       },
       "data": [
        {
         "line": {
          "color": "#000000",
          "width": 1
         },
         "mode": "lines",
         "type": "scatter",
         "x": [
          0.028493434889815115,
          -0.22377339365854484,
          null,
          0.028493434889815115,
          -0.46056727777742384,
          null
         ],
         "y": [
          -0.21517467534291143,
          0.39596497894682947,
          null,
          -0.21517467534291143,
          -0.14548732062994968,
          null
         ]
        },
        {
         "line": {
          "color": "#404040",
          "width": 0.7
         },
         "mode": "lines",
         "type": "scatter",
         "x": [
          0.028493434889815115,
          -0.6580799993637841,
          null,
          0.028493434889815115,
          -0.08012163328681866,
          null,
          -0.46056727777742384,
          -0.6580799993637841,
          null,
          -0.46056727777742384,
          -0.08012163328681866,
          null
         ],
         "y": [
          -0.21517467534291143,
          -0.5058247365449161,
          null,
          -0.21517467534291143,
          -0.7499509612284208,
          null,
          -0.14548732062994968,
          -0.5058247365449161,
          null,
          -0.14548732062994968,
          -0.7499509612284208,
          null
         ]
        },
        {
         "line": {
          "color": "#C0C0C0",
          "width": 0.5
         },
         "mode": "lines",
         "type": "scatter",
         "x": [
          -0.2781267953211239,
          0.028493434889815115,
          null,
          -0.2781267953211239,
          -0.2840819738651484,
          null,
          -0.2781267953211239,
          -0.46056727777742384,
          null,
          -0.2781267953211239,
          -0.6580799993637841,
          null,
          -0.2781267953211239,
          0.08032913086175261,
          null,
          0.028493434889815115,
          0.26381325627106306,
          null,
          0.028493434889815115,
          -0.2840819738651484,
          null,
          0.028493434889815115,
          0.08032913086175261,
          null,
          0.028493434889815115,
          0.5522698585372463,
          null,
          0.26381325627106306,
          -0.2840819738651484,
          null,
          0.26381325627106306,
          0.2299432671977019,
          null,
          0.26381325627106306,
          -0.22377339365854484,
          null,
          0.26381325627106306,
          0.08032913086175261,
          null,
          0.26381325627106306,
          0.8299021255152649,
          null,
          -0.2840819738651484,
          -0.46056727777742384,
          null,
          -0.2840819738651484,
          0.08032913086175261,
          null,
          -0.22377339365854484,
          -0.46056727777742384,
          null,
          -0.22377339365854484,
          0.08032913086175261,
          null,
          -0.46056727777742384,
          0.08032913086175261,
          null
         ],
         "y": [
          -0.41851596849446454,
          -0.21517467534291143,
          null,
          -0.41851596849446454,
          0.17992144260293952,
          null,
          -0.41851596849446454,
          -0.14548732062994968,
          null,
          -0.41851596849446454,
          -0.5058247365449161,
          null,
          -0.41851596849446454,
          0.0682898308111484,
          null,
          -0.21517467534291143,
          0.4065672962240803,
          null,
          -0.21517467534291143,
          0.17992144260293952,
          null,
          -0.21517467534291143,
          0.0682898308111484,
          null,
          -0.21517467534291143,
          -0.532126211942774,
          null,
          0.4065672962240803,
          0.17992144260293952,
          null,
          0.4065672962240803,
          1,
          null,
          0.4065672962240803,
          0.39596497894682947,
          null,
          0.4065672962240803,
          0.0682898308111484,
          null,
          0.4065672962240803,
          0.5163363255984388,
          null,
          0.17992144260293952,
          -0.14548732062994968,
          null,
          0.17992144260293952,
          0.0682898308111484,
          null,
          0.39596497894682947,
          -0.14548732062994968,
          null,
          0.39596497894682947,
          0.0682898308111484,
          null,
          -0.14548732062994968,
          0.0682898308111484,
          null
         ]
        },
        {
         "hoverinfo": "text",
         "hovertext": [
          "5",
          "9",
          "6",
          "5",
          "1",
          "4",
          "7",
          "3",
          "2",
          "6",
          "1",
          "1"
         ],
         "marker": {
          "color": [
           40,
           60,
           42,
           24,
           4,
           18,
           24,
           3,
           6,
           5,
           7,
           6
          ],
          "colorbar": {
           "thickness": 15,
           "title": {
            "side": "right",
            "text": "degree"
           },
           "xanchor": "left"
          },
          "colorscale": [
           [
            0,
            "rgb(255,255,255)"
           ],
           [
            0.125,
            "rgb(240,240,240)"
           ],
           [
            0.25,
            "rgb(217,217,217)"
           ],
           [
            0.375,
            "rgb(189,189,189)"
           ],
           [
            0.5,
            "rgb(150,150,150)"
           ],
           [
            0.625,
            "rgb(115,115,115)"
           ],
           [
            0.75,
            "rgb(82,82,82)"
           ],
           [
            0.875,
            "rgb(37,37,37)"
           ],
           [
            1,
            "rgb(0,0,0)"
           ]
          ],
          "line": {
           "width": 1
          },
          "showscale": false,
          "size": 7
         },
         "mode": "markers+text",
         "text": [
          "πίστις",
          "θεός",
          "ἁμαρτία",
          "δικαιοσύνη",
          "σάρξ",
          "εἰμί",
          "χριστός",
          "πᾶς",
          "κύριος",
          "νόμος",
          "θάνατος",
          "πνεῦμα"
         ],
         "textposition": "bottom center",
         "type": "scatter",
         "x": [
          -0.2781267953211239,
          0.028493434889815115,
          0.26381325627106306,
          -0.2840819738651484,
          0.2299432671977019,
          -0.22377339365854484,
          -0.46056727777742384,
          -0.6580799993637841,
          -0.08012163328681866,
          0.08032913086175261,
          0.8299021255152649,
          0.5522698585372463
         ],
         "y": [
          -0.41851596849446454,
          -0.21517467534291143,
          0.4065672962240803,
          0.17992144260293952,
          1,
          0.39596497894682947,
          -0.14548732062994968,
          -0.5058247365449161,
          -0.7499509612284208,
          0.0682898308111484,
          0.5163363255984388,
          -0.532126211942774
         ]
        },
        {
         "hoverinfo": "text",
         "marker": {
          "opacity": 0
         },
         "mode": "markers",
         "opacity": 0,
         "text": [
          "47",
          "26",
          "38",
          "23",
          "27",
          "23",
          "26",
          "93",
          "148",
          "90",
          "71",
          "34",
          "50",
          "13",
          "15",
          "16",
          "29",
          "17",
          "16",
          "16",
          "55",
          "36",
          "66",
          "60",
          "25"
         ],
         "type": "scatter",
         "x": [
          -0.12481668021565438,
          -0.28110438459313614,
          -0.36934703654927387,
          -0.468103397342454,
          -0.09889883222968564,
          0.14615334558043908,
          -0.12779426948766665,
          -0.09763997938436486,
          -0.21603692144380438,
          -0.3147932822369845,
          -0.025814099198501774,
          0.05441128287578387,
          0.29038164671353073,
          -0.010134358797042664,
          0.2468782617343825,
          0.020019931306259106,
          0.17207119356640782,
          0.5468576908931639,
          -0.3723246258212861,
          -0.10187642150169789,
          -0.34217033571798433,
          -0.07172213139839612,
          -0.559323638570604,
          -0.2703444555321213,
          -0.19011907345783563
         ],
         "y": [
          -0.31684532191868797,
          -0.11929726294576251,
          -0.2820016445622071,
          -0.4621703525196903,
          -0.17511306884165806,
          0.09569631044058442,
          -0.017626616369985956,
          0.09039515180195902,
          -0.18033099798643054,
          -0.3604997059439138,
          -0.4825628182856661,
          -0.07344242226588152,
          -0.3736504436428427,
          0.2932443694135099,
          0.7032836481120401,
          0.4012661375854549,
          0.23742856351761432,
          0.46145181091125953,
          0.01721706098649492,
          0.12410563670704396,
          0.1252388291584399,
          0.23212740487898892,
          -0.3256560285874329,
          -0.4477191409291852,
          -0.03859874490940064
         ]
        }
       ],
       "layout": {
        "autosize": false,
        "height": 500,
        "hovermode": "closest",
        "margin": {
         "b": 10,
         "l": 10,
         "r": 10,
         "t": 10
        },
        "plot_bgcolor": "rgba(0,0,0,0)",
        "showlegend": false,
        "template": {
         "data": {
          "bar": [
           {
            "error_x": {
             "color": "#2a3f5f"
            },
            "error_y": {
             "color": "#2a3f5f"
            },
            "marker": {
             "line": {
              "color": "#E5ECF6",
              "width": 0.5
             }
            },
            "type": "bar"
           }
          ],
          "barpolar": [
           {
            "marker": {
             "line": {
              "color": "#E5ECF6",
              "width": 0.5
             }
            },
            "type": "barpolar"
           }
          ],
          "carpet": [
           {
            "aaxis": {
             "endlinecolor": "#2a3f5f",
             "gridcolor": "white",
             "linecolor": "white",
             "minorgridcolor": "white",
             "startlinecolor": "#2a3f5f"
            },
            "baxis": {
             "endlinecolor": "#2a3f5f",
             "gridcolor": "white",
             "linecolor": "white",
             "minorgridcolor": "white",
             "startlinecolor": "#2a3f5f"
            },
            "type": "carpet"
           }
          ],
          "choropleth": [
           {
            "colorbar": {
             "outlinewidth": 0,
             "ticks": ""
            },
            "type": "choropleth"
           }
          ],
          "contour": [
           {
            "colorbar": {
             "outlinewidth": 0,
             "ticks": ""
            },
            "colorscale": [
             [
              0,
              "#0d0887"
             ],
             [
              0.1111111111111111,
              "#46039f"
             ],
             [
              0.2222222222222222,
              "#7201a8"
             ],
             [
              0.3333333333333333,
              "#9c179e"
             ],
             [
              0.4444444444444444,
              "#bd3786"
             ],
             [
              0.5555555555555556,
              "#d8576b"
             ],
             [
              0.6666666666666666,
              "#ed7953"
             ],
             [
              0.7777777777777778,
              "#fb9f3a"
             ],
             [
              0.8888888888888888,
              "#fdca26"
             ],
             [
              1,
              "#f0f921"
             ]
            ],
            "type": "contour"
           }
          ],
          "contourcarpet": [
           {
            "colorbar": {
             "outlinewidth": 0,
             "ticks": ""
            },
            "type": "contourcarpet"
           }
          ],
          "heatmap": [
           {
            "colorbar": {
             "outlinewidth": 0,
             "ticks": ""
            },
            "colorscale": [
             [
              0,
              "#0d0887"
             ],
             [
              0.1111111111111111,
              "#46039f"
             ],
             [
              0.2222222222222222,
              "#7201a8"
             ],
             [
              0.3333333333333333,
              "#9c179e"
             ],
             [
              0.4444444444444444,
              "#bd3786"
             ],
             [
              0.5555555555555556,
              "#d8576b"
             ],
             [
              0.6666666666666666,
              "#ed7953"
             ],
             [
              0.7777777777777778,
              "#fb9f3a"
             ],
             [
              0.8888888888888888,
              "#fdca26"
             ],
             [
              1,
              "#f0f921"
             ]
            ],
            "type": "heatmap"
           }
          ],
          "heatmapgl": [
           {
            "colorbar": {
             "outlinewidth": 0,
             "ticks": ""
            },
            "colorscale": [
             [
              0,
              "#0d0887"
             ],
             [
              0.1111111111111111,
              "#46039f"
             ],
             [
              0.2222222222222222,
              "#7201a8"
             ],
             [
              0.3333333333333333,
              "#9c179e"
             ],
             [
              0.4444444444444444,
              "#bd3786"
             ],
             [
              0.5555555555555556,
              "#d8576b"
             ],
             [
              0.6666666666666666,
              "#ed7953"
             ],
             [
              0.7777777777777778,
              "#fb9f3a"
             ],
             [
              0.8888888888888888,
              "#fdca26"
             ],
             [
              1,
              "#f0f921"
             ]
            ],
            "type": "heatmapgl"
           }
          ],
          "histogram": [
           {
            "marker": {
             "colorbar": {
              "outlinewidth": 0,
              "ticks": ""
             }
            },
            "type": "histogram"
           }
          ],
          "histogram2d": [
           {
            "colorbar": {
             "outlinewidth": 0,
             "ticks": ""
            },
            "colorscale": [
             [
              0,
              "#0d0887"
             ],
             [
              0.1111111111111111,
              "#46039f"
             ],
             [
              0.2222222222222222,
              "#7201a8"
             ],
             [
              0.3333333333333333,
              "#9c179e"
             ],
             [
              0.4444444444444444,
              "#bd3786"
             ],
             [
              0.5555555555555556,
              "#d8576b"
             ],
             [
              0.6666666666666666,
              "#ed7953"
             ],
             [
              0.7777777777777778,
              "#fb9f3a"
             ],
             [
              0.8888888888888888,
              "#fdca26"
             ],
             [
              1,
              "#f0f921"
             ]
            ],
            "type": "histogram2d"
           }
          ],
          "histogram2dcontour": [
           {
            "colorbar": {
             "outlinewidth": 0,
             "ticks": ""
            },
            "colorscale": [
             [
              0,
              "#0d0887"
             ],
             [
              0.1111111111111111,
              "#46039f"
             ],
             [
              0.2222222222222222,
              "#7201a8"
             ],
             [
              0.3333333333333333,
              "#9c179e"
             ],
             [
              0.4444444444444444,
              "#bd3786"
             ],
             [
              0.5555555555555556,
              "#d8576b"
             ],
             [
              0.6666666666666666,
              "#ed7953"
             ],
             [
              0.7777777777777778,
              "#fb9f3a"
             ],
             [
              0.8888888888888888,
              "#fdca26"
             ],
             [
              1,
              "#f0f921"
             ]
            ],
            "type": "histogram2dcontour"
           }
          ],
          "mesh3d": [
           {
            "colorbar": {
             "outlinewidth": 0,
             "ticks": ""
            },
            "type": "mesh3d"
           }
          ],
          "parcoords": [
           {
            "line": {
             "colorbar": {
              "outlinewidth": 0,
              "ticks": ""
             }
            },
            "type": "parcoords"
           }
          ],
          "pie": [
           {
            "automargin": true,
            "type": "pie"
           }
          ],
          "scatter": [
           {
            "marker": {
             "colorbar": {
              "outlinewidth": 0,
              "ticks": ""
             }
            },
            "type": "scatter"
           }
          ],
          "scatter3d": [
           {
            "line": {
             "colorbar": {
              "outlinewidth": 0,
              "ticks": ""
             }
            },
            "marker": {
             "colorbar": {
              "outlinewidth": 0,
              "ticks": ""
             }
            },
            "type": "scatter3d"
           }
          ],
          "scattercarpet": [
           {
            "marker": {
             "colorbar": {
              "outlinewidth": 0,
              "ticks": ""
             }
            },
            "type": "scattercarpet"
           }
          ],
          "scattergeo": [
           {
            "marker": {
             "colorbar": {
              "outlinewidth": 0,
              "ticks": ""
             }
            },
            "type": "scattergeo"
           }
          ],
          "scattergl": [
           {
            "marker": {
             "colorbar": {
              "outlinewidth": 0,
              "ticks": ""
             }
            },
            "type": "scattergl"
           }
          ],
          "scattermapbox": [
           {
            "marker": {
             "colorbar": {
              "outlinewidth": 0,
              "ticks": ""
             }
            },
            "type": "scattermapbox"
           }
          ],
          "scatterpolar": [
           {
            "marker": {
             "colorbar": {
              "outlinewidth": 0,
              "ticks": ""
             }
            },
            "type": "scatterpolar"
           }
          ],
          "scatterpolargl": [
           {
            "marker": {
             "colorbar": {
              "outlinewidth": 0,
              "ticks": ""
             }
            },
            "type": "scatterpolargl"
           }
          ],
          "scatterternary": [
           {
            "marker": {
             "colorbar": {
              "outlinewidth": 0,
              "ticks": ""
             }
            },
            "type": "scatterternary"
           }
          ],
          "surface": [
           {
            "colorbar": {
             "outlinewidth": 0,
             "ticks": ""
            },
            "colorscale": [
             [
              0,
              "#0d0887"
             ],
             [
              0.1111111111111111,
              "#46039f"
             ],
             [
              0.2222222222222222,
              "#7201a8"
             ],
             [
              0.3333333333333333,
              "#9c179e"
             ],
             [
              0.4444444444444444,
              "#bd3786"
             ],
             [
              0.5555555555555556,
              "#d8576b"
             ],
             [
              0.6666666666666666,
              "#ed7953"
             ],
             [
              0.7777777777777778,
              "#fb9f3a"
             ],
             [
              0.8888888888888888,
              "#fdca26"
             ],
             [
              1,
              "#f0f921"
             ]
            ],
            "type": "surface"
           }
          ],
          "table": [
           {
            "cells": {
             "fill": {
              "color": "#EBF0F8"
             },
             "line": {
              "color": "white"
             }
            },
            "header": {
             "fill": {
              "color": "#C8D4E3"
             },
             "line": {
              "color": "white"
             }
            },
            "type": "table"
           }
          ]
         },
         "layout": {
          "annotationdefaults": {
           "arrowcolor": "#2a3f5f",
           "arrowhead": 0,
           "arrowwidth": 1
          },
          "autotypenumbers": "strict",
          "coloraxis": {
           "colorbar": {
            "outlinewidth": 0,
            "ticks": ""
           }
          },
          "colorscale": {
           "diverging": [
            [
             0,
             "#8e0152"
            ],
            [
             0.1,
             "#c51b7d"
            ],
            [
             0.2,
             "#de77ae"
            ],
            [
             0.3,
             "#f1b6da"
            ],
            [
             0.4,
             "#fde0ef"
            ],
            [
             0.5,
             "#f7f7f7"
            ],
            [
             0.6,
             "#e6f5d0"
            ],
            [
             0.7,
             "#b8e186"
            ],
            [
             0.8,
             "#7fbc41"
            ],
            [
             0.9,
             "#4d9221"
            ],
            [
             1,
             "#276419"
            ]
           ],
           "sequential": [
            [
             0,
             "#0d0887"
            ],
            [
             0.1111111111111111,
             "#46039f"
            ],
            [
             0.2222222222222222,
             "#7201a8"
            ],
            [
             0.3333333333333333,
             "#9c179e"
            ],
            [
             0.4444444444444444,
             "#bd3786"
            ],
            [
             0.5555555555555556,
             "#d8576b"
            ],
            [
             0.6666666666666666,
             "#ed7953"
            ],
            [
             0.7777777777777778,
             "#fb9f3a"
            ],
            [
             0.8888888888888888,
             "#fdca26"
            ],
            [
             1,
             "#f0f921"
            ]
           ],
           "sequentialminus": [
            [
             0,
             "#0d0887"
            ],
            [
             0.1111111111111111,
             "#46039f"
            ],
            [
             0.2222222222222222,
             "#7201a8"
            ],
            [
             0.3333333333333333,
             "#9c179e"
            ],
            [
             0.4444444444444444,
             "#bd3786"
            ],
            [
             0.5555555555555556,
             "#d8576b"
            ],
            [
             0.6666666666666666,
             "#ed7953"
            ],
            [
             0.7777777777777778,
             "#fb9f3a"
            ],
            [
             0.8888888888888888,
             "#fdca26"
            ],
            [
             1,
             "#f0f921"
            ]
           ]
          },
          "colorway": [
           "#636efa",
           "#EF553B",
           "#00cc96",
           "#ab63fa",
           "#FFA15A",
           "#19d3f3",
           "#FF6692",
           "#B6E880",
           "#FF97FF",
           "#FECB52"
          ],
          "font": {
           "color": "#2a3f5f"
          },
          "geo": {
           "bgcolor": "white",
           "lakecolor": "white",
           "landcolor": "#E5ECF6",
           "showlakes": true,
           "showland": true,
           "subunitcolor": "white"
          },
          "hoverlabel": {
           "align": "left"
          },
          "hovermode": "closest",
          "mapbox": {
           "style": "light"
          },
          "paper_bgcolor": "white",
          "plot_bgcolor": "#E5ECF6",
          "polar": {
           "angularaxis": {
            "gridcolor": "white",
            "linecolor": "white",
            "ticks": ""
           },
           "bgcolor": "#E5ECF6",
           "radialaxis": {
            "gridcolor": "white",
            "linecolor": "white",
            "ticks": ""
           }
          },
          "scene": {
           "xaxis": {
            "backgroundcolor": "#E5ECF6",
            "gridcolor": "white",
            "gridwidth": 2,
            "linecolor": "white",
            "showbackground": true,
            "ticks": "",
            "zerolinecolor": "white"
           },
           "yaxis": {
            "backgroundcolor": "#E5ECF6",
            "gridcolor": "white",
            "gridwidth": 2,
            "linecolor": "white",
            "showbackground": true,
            "ticks": "",
            "zerolinecolor": "white"
           },
           "zaxis": {
            "backgroundcolor": "#E5ECF6",
            "gridcolor": "white",
            "gridwidth": 2,
            "linecolor": "white",
            "showbackground": true,
            "ticks": "",
            "zerolinecolor": "white"
           }
          },
          "shapedefaults": {
           "line": {
            "color": "#2a3f5f"
           }
          },
          "ternary": {
           "aaxis": {
            "gridcolor": "white",
            "linecolor": "white",
            "ticks": ""
           },
           "baxis": {
            "gridcolor": "white",
            "linecolor": "white",
            "ticks": ""
           },
           "bgcolor": "#E5ECF6",
           "caxis": {
            "gridcolor": "white",
            "linecolor": "white",
            "ticks": ""
           }
          },
          "title": {
           "x": 0.05
          },
          "xaxis": {
           "automargin": true,
           "gridcolor": "white",
           "linecolor": "white",
           "ticks": "",
           "title": {
            "standoff": 15
           },
           "zerolinecolor": "white",
           "zerolinewidth": 2
          },
          "yaxis": {
           "automargin": true,
           "gridcolor": "white",
           "linecolor": "white",
           "ticks": "",
           "title": {
            "standoff": 15
           },
           "zerolinecolor": "white",
           "zerolinewidth": 2
          }
         }
        },
        "title": {
         "font": {
          "size": 16
         }
        },
        "width": 500,
        "xaxis": {
         "range": [
          -1.1,
          1.15
         ],
         "showgrid": false,
         "showticklabels": false,
         "zeroline": false
        },
        "yaxis": {
         "range": [
          -1.1,
          1.05
         ],
         "showgrid": false,
         "showticklabels": false,
         "zeroline": false
        }
       }
      },
      "text/html": [
       "<div>                            <div id=\"2faf247a-3c5a-419b-9c43-9bb368192ea3\" class=\"plotly-graph-div\" style=\"height:500px; width:500px;\"></div>            <script type=\"text/javascript\">                require([\"plotly\"], function(Plotly) {                    window.PLOTLYENV=window.PLOTLYENV || {};                                    if (document.getElementById(\"2faf247a-3c5a-419b-9c43-9bb368192ea3\")) {                    Plotly.newPlot(                        \"2faf247a-3c5a-419b-9c43-9bb368192ea3\",                        [{\"line\": {\"color\": \"#000000\", \"width\": 1}, \"mode\": \"lines\", \"type\": \"scatter\", \"x\": [0.028493434889815115, -0.22377339365854484, null, 0.028493434889815115, -0.46056727777742384, null], \"y\": [-0.21517467534291143, 0.39596497894682947, null, -0.21517467534291143, -0.14548732062994968, null]}, {\"line\": {\"color\": \"#404040\", \"width\": 0.7}, \"mode\": \"lines\", \"type\": \"scatter\", \"x\": [0.028493434889815115, -0.6580799993637841, null, 0.028493434889815115, -0.08012163328681866, null, -0.46056727777742384, -0.6580799993637841, null, -0.46056727777742384, -0.08012163328681866, null], \"y\": [-0.21517467534291143, -0.5058247365449161, null, -0.21517467534291143, -0.7499509612284208, null, -0.14548732062994968, -0.5058247365449161, null, -0.14548732062994968, -0.7499509612284208, null]}, {\"line\": {\"color\": \"#C0C0C0\", \"width\": 0.5}, \"mode\": \"lines\", \"type\": \"scatter\", \"x\": [-0.2781267953211239, 0.028493434889815115, null, -0.2781267953211239, -0.2840819738651484, null, -0.2781267953211239, -0.46056727777742384, null, -0.2781267953211239, -0.6580799993637841, null, -0.2781267953211239, 0.08032913086175261, null, 0.028493434889815115, 0.26381325627106306, null, 0.028493434889815115, -0.2840819738651484, null, 0.028493434889815115, 0.08032913086175261, null, 0.028493434889815115, 0.5522698585372463, null, 0.26381325627106306, -0.2840819738651484, null, 0.26381325627106306, 0.2299432671977019, null, 0.26381325627106306, -0.22377339365854484, null, 0.26381325627106306, 0.08032913086175261, null, 0.26381325627106306, 0.8299021255152649, null, -0.2840819738651484, -0.46056727777742384, null, -0.2840819738651484, 0.08032913086175261, null, -0.22377339365854484, -0.46056727777742384, null, -0.22377339365854484, 0.08032913086175261, null, -0.46056727777742384, 0.08032913086175261, null], \"y\": [-0.41851596849446454, -0.21517467534291143, null, -0.41851596849446454, 0.17992144260293952, null, -0.41851596849446454, -0.14548732062994968, null, -0.41851596849446454, -0.5058247365449161, null, -0.41851596849446454, 0.0682898308111484, null, -0.21517467534291143, 0.4065672962240803, null, -0.21517467534291143, 0.17992144260293952, null, -0.21517467534291143, 0.0682898308111484, null, -0.21517467534291143, -0.532126211942774, null, 0.4065672962240803, 0.17992144260293952, null, 0.4065672962240803, 1.0, null, 0.4065672962240803, 0.39596497894682947, null, 0.4065672962240803, 0.0682898308111484, null, 0.4065672962240803, 0.5163363255984388, null, 0.17992144260293952, -0.14548732062994968, null, 0.17992144260293952, 0.0682898308111484, null, 0.39596497894682947, -0.14548732062994968, null, 0.39596497894682947, 0.0682898308111484, null, -0.14548732062994968, 0.0682898308111484, null]}, {\"hoverinfo\": \"text\", \"hovertext\": [\"5\", \"9\", \"6\", \"5\", \"1\", \"4\", \"7\", \"3\", \"2\", \"6\", \"1\", \"1\"], \"marker\": {\"color\": [40, 60, 42, 24, 4, 18, 24, 3, 6, 5, 7, 6], \"colorbar\": {\"thickness\": 15, \"title\": {\"side\": \"right\", \"text\": \"degree\"}, \"xanchor\": \"left\"}, \"colorscale\": [[0.0, \"rgb(255,255,255)\"], [0.125, \"rgb(240,240,240)\"], [0.25, \"rgb(217,217,217)\"], [0.375, \"rgb(189,189,189)\"], [0.5, \"rgb(150,150,150)\"], [0.625, \"rgb(115,115,115)\"], [0.75, \"rgb(82,82,82)\"], [0.875, \"rgb(37,37,37)\"], [1.0, \"rgb(0,0,0)\"]], \"line\": {\"width\": 1}, \"showscale\": false, \"size\": 7}, \"mode\": \"markers+text\", \"text\": [\"\\u03c0\\u03af\\u03c3\\u03c4\\u03b9\\u03c2\", \"\\u03b8\\u03b5\\u03cc\\u03c2\", \"\\u1f01\\u03bc\\u03b1\\u03c1\\u03c4\\u03af\\u03b1\", \"\\u03b4\\u03b9\\u03ba\\u03b1\\u03b9\\u03bf\\u03c3\\u03cd\\u03bd\\u03b7\", \"\\u03c3\\u03ac\\u03c1\\u03be\", \"\\u03b5\\u1f30\\u03bc\\u03af\", \"\\u03c7\\u03c1\\u03b9\\u03c3\\u03c4\\u03cc\\u03c2\", \"\\u03c0\\u1fb6\\u03c2\", \"\\u03ba\\u03cd\\u03c1\\u03b9\\u03bf\\u03c2\", \"\\u03bd\\u03cc\\u03bc\\u03bf\\u03c2\", \"\\u03b8\\u03ac\\u03bd\\u03b1\\u03c4\\u03bf\\u03c2\", \"\\u03c0\\u03bd\\u03b5\\u1fe6\\u03bc\\u03b1\"], \"textposition\": \"bottom center\", \"type\": \"scatter\", \"x\": [-0.2781267953211239, 0.028493434889815115, 0.26381325627106306, -0.2840819738651484, 0.2299432671977019, -0.22377339365854484, -0.46056727777742384, -0.6580799993637841, -0.08012163328681866, 0.08032913086175261, 0.8299021255152649, 0.5522698585372463], \"y\": [-0.41851596849446454, -0.21517467534291143, 0.4065672962240803, 0.17992144260293952, 1.0, 0.39596497894682947, -0.14548732062994968, -0.5058247365449161, -0.7499509612284208, 0.0682898308111484, 0.5163363255984388, -0.532126211942774]}, {\"hoverinfo\": \"text\", \"marker\": {\"opacity\": 0}, \"mode\": \"markers\", \"opacity\": 0, \"text\": [\"47\", \"26\", \"38\", \"23\", \"27\", \"23\", \"26\", \"93\", \"148\", \"90\", \"71\", \"34\", \"50\", \"13\", \"15\", \"16\", \"29\", \"17\", \"16\", \"16\", \"55\", \"36\", \"66\", \"60\", \"25\"], \"type\": \"scatter\", \"x\": [-0.12481668021565438, -0.28110438459313614, -0.36934703654927387, -0.468103397342454, -0.09889883222968564, 0.14615334558043908, -0.12779426948766665, -0.09763997938436486, -0.21603692144380438, -0.3147932822369845, -0.025814099198501774, 0.05441128287578387, 0.29038164671353073, -0.010134358797042664, 0.2468782617343825, 0.020019931306259106, 0.17207119356640782, 0.5468576908931639, -0.3723246258212861, -0.10187642150169789, -0.34217033571798433, -0.07172213139839612, -0.559323638570604, -0.2703444555321213, -0.19011907345783563], \"y\": [-0.31684532191868797, -0.11929726294576251, -0.2820016445622071, -0.4621703525196903, -0.17511306884165806, 0.09569631044058442, -0.017626616369985956, 0.09039515180195902, -0.18033099798643054, -0.3604997059439138, -0.4825628182856661, -0.07344242226588152, -0.3736504436428427, 0.2932443694135099, 0.7032836481120401, 0.4012661375854549, 0.23742856351761432, 0.46145181091125953, 0.01721706098649492, 0.12410563670704396, 0.1252388291584399, 0.23212740487898892, -0.3256560285874329, -0.4477191409291852, -0.03859874490940064]}],                        {\"autosize\": false, \"height\": 500, \"hovermode\": \"closest\", \"margin\": {\"b\": 10, \"l\": 10, \"r\": 10, \"t\": 10}, \"plot_bgcolor\": \"rgba(0,0,0,0)\", \"showlegend\": false, \"template\": {\"data\": {\"bar\": [{\"error_x\": {\"color\": \"#2a3f5f\"}, \"error_y\": {\"color\": \"#2a3f5f\"}, \"marker\": {\"line\": {\"color\": \"#E5ECF6\", \"width\": 0.5}}, \"type\": \"bar\"}], \"barpolar\": [{\"marker\": {\"line\": {\"color\": \"#E5ECF6\", \"width\": 0.5}}, \"type\": \"barpolar\"}], \"carpet\": [{\"aaxis\": {\"endlinecolor\": \"#2a3f5f\", \"gridcolor\": \"white\", \"linecolor\": \"white\", \"minorgridcolor\": \"white\", \"startlinecolor\": \"#2a3f5f\"}, \"baxis\": {\"endlinecolor\": \"#2a3f5f\", \"gridcolor\": \"white\", \"linecolor\": \"white\", \"minorgridcolor\": \"white\", \"startlinecolor\": \"#2a3f5f\"}, \"type\": \"carpet\"}], \"choropleth\": [{\"colorbar\": {\"outlinewidth\": 0, \"ticks\": \"\"}, \"type\": \"choropleth\"}], \"contour\": [{\"colorbar\": {\"outlinewidth\": 0, \"ticks\": \"\"}, \"colorscale\": [[0.0, \"#0d0887\"], [0.1111111111111111, \"#46039f\"], [0.2222222222222222, \"#7201a8\"], [0.3333333333333333, \"#9c179e\"], [0.4444444444444444, \"#bd3786\"], [0.5555555555555556, \"#d8576b\"], [0.6666666666666666, \"#ed7953\"], [0.7777777777777778, \"#fb9f3a\"], [0.8888888888888888, \"#fdca26\"], [1.0, \"#f0f921\"]], \"type\": \"contour\"}], \"contourcarpet\": [{\"colorbar\": {\"outlinewidth\": 0, \"ticks\": \"\"}, \"type\": \"contourcarpet\"}], \"heatmap\": [{\"colorbar\": {\"outlinewidth\": 0, \"ticks\": \"\"}, \"colorscale\": [[0.0, \"#0d0887\"], [0.1111111111111111, \"#46039f\"], [0.2222222222222222, \"#7201a8\"], [0.3333333333333333, \"#9c179e\"], [0.4444444444444444, \"#bd3786\"], [0.5555555555555556, \"#d8576b\"], [0.6666666666666666, \"#ed7953\"], [0.7777777777777778, \"#fb9f3a\"], [0.8888888888888888, \"#fdca26\"], [1.0, \"#f0f921\"]], \"type\": \"heatmap\"}], \"heatmapgl\": [{\"colorbar\": {\"outlinewidth\": 0, \"ticks\": \"\"}, \"colorscale\": [[0.0, \"#0d0887\"], [0.1111111111111111, \"#46039f\"], [0.2222222222222222, \"#7201a8\"], [0.3333333333333333, \"#9c179e\"], [0.4444444444444444, \"#bd3786\"], [0.5555555555555556, \"#d8576b\"], [0.6666666666666666, \"#ed7953\"], [0.7777777777777778, \"#fb9f3a\"], [0.8888888888888888, \"#fdca26\"], [1.0, \"#f0f921\"]], \"type\": \"heatmapgl\"}], \"histogram\": [{\"marker\": {\"colorbar\": {\"outlinewidth\": 0, \"ticks\": \"\"}}, \"type\": \"histogram\"}], \"histogram2d\": [{\"colorbar\": {\"outlinewidth\": 0, \"ticks\": \"\"}, \"colorscale\": [[0.0, \"#0d0887\"], [0.1111111111111111, \"#46039f\"], [0.2222222222222222, \"#7201a8\"], [0.3333333333333333, \"#9c179e\"], [0.4444444444444444, \"#bd3786\"], [0.5555555555555556, \"#d8576b\"], [0.6666666666666666, \"#ed7953\"], [0.7777777777777778, \"#fb9f3a\"], [0.8888888888888888, \"#fdca26\"], [1.0, \"#f0f921\"]], \"type\": \"histogram2d\"}], \"histogram2dcontour\": [{\"colorbar\": {\"outlinewidth\": 0, \"ticks\": \"\"}, \"colorscale\": [[0.0, \"#0d0887\"], [0.1111111111111111, \"#46039f\"], [0.2222222222222222, \"#7201a8\"], [0.3333333333333333, \"#9c179e\"], [0.4444444444444444, \"#bd3786\"], [0.5555555555555556, \"#d8576b\"], [0.6666666666666666, \"#ed7953\"], [0.7777777777777778, \"#fb9f3a\"], [0.8888888888888888, \"#fdca26\"], [1.0, \"#f0f921\"]], \"type\": \"histogram2dcontour\"}], \"mesh3d\": [{\"colorbar\": {\"outlinewidth\": 0, \"ticks\": \"\"}, \"type\": \"mesh3d\"}], \"parcoords\": [{\"line\": {\"colorbar\": {\"outlinewidth\": 0, \"ticks\": \"\"}}, \"type\": \"parcoords\"}], \"pie\": [{\"automargin\": true, \"type\": \"pie\"}], \"scatter\": [{\"marker\": {\"colorbar\": {\"outlinewidth\": 0, \"ticks\": \"\"}}, \"type\": \"scatter\"}], \"scatter3d\": [{\"line\": {\"colorbar\": {\"outlinewidth\": 0, \"ticks\": \"\"}}, \"marker\": {\"colorbar\": {\"outlinewidth\": 0, \"ticks\": \"\"}}, \"type\": \"scatter3d\"}], \"scattercarpet\": [{\"marker\": {\"colorbar\": {\"outlinewidth\": 0, \"ticks\": \"\"}}, \"type\": \"scattercarpet\"}], \"scattergeo\": [{\"marker\": {\"colorbar\": {\"outlinewidth\": 0, \"ticks\": \"\"}}, \"type\": \"scattergeo\"}], \"scattergl\": [{\"marker\": {\"colorbar\": {\"outlinewidth\": 0, \"ticks\": \"\"}}, \"type\": \"scattergl\"}], \"scattermapbox\": [{\"marker\": {\"colorbar\": {\"outlinewidth\": 0, \"ticks\": \"\"}}, \"type\": \"scattermapbox\"}], \"scatterpolar\": [{\"marker\": {\"colorbar\": {\"outlinewidth\": 0, \"ticks\": \"\"}}, \"type\": \"scatterpolar\"}], \"scatterpolargl\": [{\"marker\": {\"colorbar\": {\"outlinewidth\": 0, \"ticks\": \"\"}}, \"type\": \"scatterpolargl\"}], \"scatterternary\": [{\"marker\": {\"colorbar\": {\"outlinewidth\": 0, \"ticks\": \"\"}}, \"type\": \"scatterternary\"}], \"surface\": [{\"colorbar\": {\"outlinewidth\": 0, \"ticks\": \"\"}, \"colorscale\": [[0.0, \"#0d0887\"], [0.1111111111111111, \"#46039f\"], [0.2222222222222222, \"#7201a8\"], [0.3333333333333333, \"#9c179e\"], [0.4444444444444444, \"#bd3786\"], [0.5555555555555556, \"#d8576b\"], [0.6666666666666666, \"#ed7953\"], [0.7777777777777778, \"#fb9f3a\"], [0.8888888888888888, \"#fdca26\"], [1.0, \"#f0f921\"]], \"type\": \"surface\"}], \"table\": [{\"cells\": {\"fill\": {\"color\": \"#EBF0F8\"}, \"line\": {\"color\": \"white\"}}, \"header\": {\"fill\": {\"color\": \"#C8D4E3\"}, \"line\": {\"color\": \"white\"}}, \"type\": \"table\"}]}, \"layout\": {\"annotationdefaults\": {\"arrowcolor\": \"#2a3f5f\", \"arrowhead\": 0, \"arrowwidth\": 1}, \"autotypenumbers\": \"strict\", \"coloraxis\": {\"colorbar\": {\"outlinewidth\": 0, \"ticks\": \"\"}}, \"colorscale\": {\"diverging\": [[0, \"#8e0152\"], [0.1, \"#c51b7d\"], [0.2, \"#de77ae\"], [0.3, \"#f1b6da\"], [0.4, \"#fde0ef\"], [0.5, \"#f7f7f7\"], [0.6, \"#e6f5d0\"], [0.7, \"#b8e186\"], [0.8, \"#7fbc41\"], [0.9, \"#4d9221\"], [1, \"#276419\"]], \"sequential\": [[0.0, \"#0d0887\"], [0.1111111111111111, \"#46039f\"], [0.2222222222222222, \"#7201a8\"], [0.3333333333333333, \"#9c179e\"], [0.4444444444444444, \"#bd3786\"], [0.5555555555555556, \"#d8576b\"], [0.6666666666666666, \"#ed7953\"], [0.7777777777777778, \"#fb9f3a\"], [0.8888888888888888, \"#fdca26\"], [1.0, \"#f0f921\"]], \"sequentialminus\": [[0.0, \"#0d0887\"], [0.1111111111111111, \"#46039f\"], [0.2222222222222222, \"#7201a8\"], [0.3333333333333333, \"#9c179e\"], [0.4444444444444444, \"#bd3786\"], [0.5555555555555556, \"#d8576b\"], [0.6666666666666666, \"#ed7953\"], [0.7777777777777778, \"#fb9f3a\"], [0.8888888888888888, \"#fdca26\"], [1.0, \"#f0f921\"]]}, \"colorway\": [\"#636efa\", \"#EF553B\", \"#00cc96\", \"#ab63fa\", \"#FFA15A\", \"#19d3f3\", \"#FF6692\", \"#B6E880\", \"#FF97FF\", \"#FECB52\"], \"font\": {\"color\": \"#2a3f5f\"}, \"geo\": {\"bgcolor\": \"white\", \"lakecolor\": \"white\", \"landcolor\": \"#E5ECF6\", \"showlakes\": true, \"showland\": true, \"subunitcolor\": \"white\"}, \"hoverlabel\": {\"align\": \"left\"}, \"hovermode\": \"closest\", \"mapbox\": {\"style\": \"light\"}, \"paper_bgcolor\": \"white\", \"plot_bgcolor\": \"#E5ECF6\", \"polar\": {\"angularaxis\": {\"gridcolor\": \"white\", \"linecolor\": \"white\", \"ticks\": \"\"}, \"bgcolor\": \"#E5ECF6\", \"radialaxis\": {\"gridcolor\": \"white\", \"linecolor\": \"white\", \"ticks\": \"\"}}, \"scene\": {\"xaxis\": {\"backgroundcolor\": \"#E5ECF6\", \"gridcolor\": \"white\", \"gridwidth\": 2, \"linecolor\": \"white\", \"showbackground\": true, \"ticks\": \"\", \"zerolinecolor\": \"white\"}, \"yaxis\": {\"backgroundcolor\": \"#E5ECF6\", \"gridcolor\": \"white\", \"gridwidth\": 2, \"linecolor\": \"white\", \"showbackground\": true, \"ticks\": \"\", \"zerolinecolor\": \"white\"}, \"zaxis\": {\"backgroundcolor\": \"#E5ECF6\", \"gridcolor\": \"white\", \"gridwidth\": 2, \"linecolor\": \"white\", \"showbackground\": true, \"ticks\": \"\", \"zerolinecolor\": \"white\"}}, \"shapedefaults\": {\"line\": {\"color\": \"#2a3f5f\"}}, \"ternary\": {\"aaxis\": {\"gridcolor\": \"white\", \"linecolor\": \"white\", \"ticks\": \"\"}, \"baxis\": {\"gridcolor\": \"white\", \"linecolor\": \"white\", \"ticks\": \"\"}, \"bgcolor\": \"#E5ECF6\", \"caxis\": {\"gridcolor\": \"white\", \"linecolor\": \"white\", \"ticks\": \"\"}}, \"title\": {\"x\": 0.05}, \"xaxis\": {\"automargin\": true, \"gridcolor\": \"white\", \"linecolor\": \"white\", \"ticks\": \"\", \"title\": {\"standoff\": 15}, \"zerolinecolor\": \"white\", \"zerolinewidth\": 2}, \"yaxis\": {\"automargin\": true, \"gridcolor\": \"white\", \"linecolor\": \"white\", \"ticks\": \"\", \"title\": {\"standoff\": 15}, \"zerolinecolor\": \"white\", \"zerolinewidth\": 2}}}, \"title\": {\"font\": {\"size\": 16}}, \"width\": 500, \"xaxis\": {\"range\": [-1.1, 1.15], \"showgrid\": false, \"showticklabels\": false, \"zeroline\": false}, \"yaxis\": {\"range\": [-1.1, 1.05], \"showgrid\": false, \"showticklabels\": false, \"zeroline\": false}},                        {\"responsive\": true}                    ).then(function(){\n",
       "                            \n",
       "var gd = document.getElementById('2faf247a-3c5a-419b-9c43-9bb368192ea3');\n",
       "var x = new MutationObserver(function (mutations, observer) {{\n",
       "        var display = window.getComputedStyle(gd).display;\n",
       "        if (!display || display === 'none') {{\n",
       "            console.log([gd, 'removed!']);\n",
       "            Plotly.purge(gd);\n",
       "            observer.disconnect();\n",
       "        }}\n",
       "}});\n",
       "\n",
       "// Listen for the removal of the full notebook cells\n",
       "var notebookContainer = gd.closest('#notebook-container');\n",
       "if (notebookContainer) {{\n",
       "    x.observe(notebookContainer, {childList: true});\n",
       "}}\n",
       "\n",
       "// Listen for the clearing of the current output cell\n",
       "var outputEl = gd.closest('.output');\n",
       "if (outputEl) {{\n",
       "    x.observe(outputEl, {childList: true});\n",
       "}}\n",
       "\n",
       "                        })                };                });            </script>        </div>"
      ]
     },
     "metadata": {},
     "output_type": "display_data"
    }
   ],
   "source": [
    "textnet.draw_2d_network(assoc_network)"
   ]
  },
  {
   "cell_type": "code",
   "execution_count": 125,
   "metadata": {},
   "outputs": [],
   "source": [
    "def construct_ego_network(source_network, term, num_of_neighbours, reduced=True):\n",
    "    length, path = nx.single_source_dijkstra(source_network, term, target=None, weight=\"distance\")\n",
    "    shortest_nodes = list(length.keys())[0:num_of_neighbours+1]\n",
    "    path_values_sorted = [dict_pair[1] for dict_pair in sorted(path.items(), key=lambda pair: list(length.keys()).index(pair[0]))]\n",
    "    path_edges = []\n",
    "    for path_to_term in path_values_sorted[1:num_of_neighbours+1]:\n",
    "        path_edges.extend([tuple(sorted(bigram)) for bigram in nltk.bigrams(path_to_term)])\n",
    "    shortest_edges = list(set(path_edges))\n",
    "    ego_network = source_network.copy(as_view=False)\n",
    "    nodes_to_remove = []\n",
    "    for node in ego_network.nodes:\n",
    "        if node not in shortest_nodes:\n",
    "            nodes_to_remove.append(node)\n",
    "    for element in nodes_to_remove:\n",
    "        ego_network.remove_node(element)    \n",
    "    edges_to_remove = []\n",
    "    if reduced==True:\n",
    "        for edge in ego_network.edges:\n",
    "            if edge not in shortest_edges:\n",
    "                if (edge[1],edge[0]) not in shortest_edges:\n",
    "                    edges_to_remove.append(edge)\n",
    "        for element in edges_to_remove:\n",
    "            ego_network.remove_edge(element[0], element[1])\n",
    "    return ego_network\n",
    "\n",
    "def extract_ego_network_data(ego_network, term):\n",
    "    ego_network_data_prec = sorted(list(ego_network.edges.data(\"weight\")), key=lambda tup: int(tup[2]), reverse=True)\n",
    "    ego_network_data_complete = []\n",
    "    for tup in ego_network_data_prec:\n",
    "      if tup[1] == term:\n",
    "        ego_network_data_complete.append([tup[1], tup[0], int(tup[2]), round(1 / int(tup[2]), 5)])\n",
    "      else:\n",
    "        ego_network_data_complete.append([tup[0], tup[1], int(tup[2]), round(1 / int(tup[2]), 5)])\n",
    "    return ego_network_data_complete"
   ]
  },
  {
   "cell_type": "code",
   "execution_count": 126,
   "metadata": {},
   "outputs": [
    {
     "data": {
      "text/plain": [
       "EdgeDataView([('Χριστός', 'Ἰησοῦς', {'weight': 83, 'norm_weight': 0.007599340780076909, 'distance': 0.01205, 'norm_distance': 131.59036}), ('Χριστός', 'ἰησοῦ.', {'weight': 14, 'norm_weight': 0.0012818165171214063, 'distance': 0.07143, 'norm_distance': 780.14286}), ('Χριστός', 'θεός', {'weight': 11, 'norm_weight': 0.0010071415491668192, 'distance': 0.09091, 'norm_distance': 992.90909}), ('Χριστός', 'εἰμί', {'weight': 10, 'norm_weight': 0.0009155832265152902, 'distance': 0.1, 'norm_distance': 1092.2}), ('Χριστός', 'κύριος', {'weight': 5, 'norm_weight': 0.0004577916132576451, 'distance': 0.2, 'norm_distance': 2184.4}), ('Χριστός', 'πᾶς', {'weight': 5, 'norm_weight': 0.0004577916132576451, 'distance': 0.2, 'norm_distance': 2184.4}), ('Χριστός', 'δίδωμι', {'weight': 5, 'norm_weight': 0.0004577916132576451, 'distance': 0.2, 'norm_distance': 2184.4}), ('Χριστός', 'πνεῦμα', {'weight': 5, 'norm_weight': 0.0004577916132576451, 'distance': 0.2, 'norm_distance': 2184.4}), ('Χριστός', 'ἔχω', {'weight': 5, 'norm_weight': 0.0004577916132576451, 'distance': 0.2, 'norm_distance': 2184.4}), ('Χριστός', 'σῶμα', {'weight': 3, 'norm_weight': 0.00027467496795458707, 'distance': 0.33333, 'norm_distance': 3640.66667}), ('Χριστός', 'οὗτος', {'weight': 3, 'norm_weight': 0.00027467496795458707, 'distance': 0.33333, 'norm_distance': 3640.66667}), ('Χριστός', 'νομός', {'weight': 2, 'norm_weight': 0.00018311664530305805, 'distance': 0.5, 'norm_distance': 5461.0}), ('Χριστός', 'δικαιοσύνη', {'weight': 2, 'norm_weight': 0.00018311664530305805, 'distance': 0.5, 'norm_distance': 5461.0}), ('Χριστός', 'σάρξ', {'weight': 2, 'norm_weight': 0.00018311664530305805, 'distance': 0.5, 'norm_distance': 5461.0}), ('Χριστός', 'πατήρ', {'weight': 2, 'norm_weight': 0.00018311664530305805, 'distance': 0.5, 'norm_distance': 5461.0}), ('Χριστός', 'γιγνώσκω', {'weight': 2, 'norm_weight': 0.00018311664530305805, 'distance': 0.5, 'norm_distance': 5461.0}), ('Χριστός', 'χάρις', {'weight': 2, 'norm_weight': 0.00018311664530305805, 'distance': 0.5, 'norm_distance': 5461.0}), ('Ἰησοῦς', 'κύριος', {'weight': 55, 'norm_weight': 0.005035707745834096, 'distance': 0.01818, 'norm_distance': 198.58182}), ('Ἰησοῦς', 'θεός', {'weight': 5, 'norm_weight': 0.0004577916132576451, 'distance': 0.2, 'norm_distance': 2184.4}), ('Ἰησοῦς', 'εὐχαριστέω', {'weight': 3, 'norm_weight': 0.00027467496795458707, 'distance': 0.33333, 'norm_distance': 3640.66667}), ('Ἰησοῦς', 'πᾶς', {'weight': 3, 'norm_weight': 0.00027467496795458707, 'distance': 0.33333, 'norm_distance': 3640.66667}), ('Ἰησοῦς', 'πνεῦμα', {'weight': 3, 'norm_weight': 0.00027467496795458707, 'distance': 0.33333, 'norm_distance': 3640.66667}), ('Ἰησοῦς', 'σῶμα', {'weight': 3, 'norm_weight': 0.00027467496795458707, 'distance': 0.33333, 'norm_distance': 3640.66667}), ('Ἰησοῦς', 'χριστός', {'weight': 3, 'norm_weight': 0.00027467496795458707, 'distance': 0.33333, 'norm_distance': 3640.66667}), ('Ἰησοῦς', 'ἄνθρωπος', {'weight': 2, 'norm_weight': 0.00018311664530305805, 'distance': 0.5, 'norm_distance': 5461.0}), ('Ἰησοῦς', 'οἶδα', {'weight': 2, 'norm_weight': 0.00018311664530305805, 'distance': 0.5, 'norm_distance': 5461.0}), ('Ἰησοῦς', 'σάρξ', {'weight': 2, 'norm_weight': 0.00018311664530305805, 'distance': 0.5, 'norm_distance': 5461.0}), ('κύριος', 'πατήρ', {'weight': 11, 'norm_weight': 0.0010071415491668192, 'distance': 0.09091, 'norm_distance': 992.90909}), ('κύριος', 'εἰμί', {'weight': 8, 'norm_weight': 0.0007324665812122322, 'distance': 0.125, 'norm_distance': 1365.25}), ('κύριος', 'χάρις', {'weight': 8, 'norm_weight': 0.0007324665812122322, 'distance': 0.125, 'norm_distance': 1365.25}), ('κύριος', 'πᾶς', {'weight': 6, 'norm_weight': 0.0005493499359091741, 'distance': 0.16667, 'norm_distance': 1820.33333}), ('κύριος', 'αὐτός', {'weight': 4, 'norm_weight': 0.0003662332906061161, 'distance': 0.25, 'norm_distance': 2730.5}), ('κύριος', 'δίδωμι', {'weight': 4, 'norm_weight': 0.0003662332906061161, 'distance': 0.25, 'norm_distance': 2730.5}), ('κύριος', 'ἄνθρωπος', {'weight': 4, 'norm_weight': 0.0003662332906061161, 'distance': 0.25, 'norm_distance': 2730.5}), ('κύριος', 'θεός', {'weight': 3, 'norm_weight': 0.00027467496795458707, 'distance': 0.33333, 'norm_distance': 3640.66667}), ('κύριος', 'ἔχω', {'weight': 3, 'norm_weight': 0.00027467496795458707, 'distance': 0.33333, 'norm_distance': 3640.66667}), ('κύριος', 'ἔργον', {'weight': 3, 'norm_weight': 0.00027467496795458707, 'distance': 0.33333, 'norm_distance': 3640.66667}), ('κύριος', 'πνεῦμα', {'weight': 3, 'norm_weight': 0.00027467496795458707, 'distance': 0.33333, 'norm_distance': 3640.66667}), ('κύριος', 'γιγνώσκω', {'weight': 2, 'norm_weight': 0.00018311664530305805, 'distance': 0.5, 'norm_distance': 5461.0}), ('κύριος', 'οἶδα', {'weight': 2, 'norm_weight': 0.00018311664530305805, 'distance': 0.5, 'norm_distance': 5461.0}), ('εἰμί', 'θεός', {'weight': 20, 'norm_weight': 0.0018311664530305805, 'distance': 0.05, 'norm_distance': 546.1}), ('εἰμί', 'νομός', {'weight': 15, 'norm_weight': 0.0013733748397729353, 'distance': 0.06667, 'norm_distance': 728.13333}), ('εἰμί', 'αὐτός', {'weight': 11, 'norm_weight': 0.0010071415491668192, 'distance': 0.09091, 'norm_distance': 992.90909}), ('εἰμί', 'οὗτος', {'weight': 11, 'norm_weight': 0.0010071415491668192, 'distance': 0.09091, 'norm_distance': 992.90909}), ('εἰμί', 'πᾶς', {'weight': 10, 'norm_weight': 0.0009155832265152902, 'distance': 0.1, 'norm_distance': 1092.2}), ('εἰμί', 'σῶμα', {'weight': 9, 'norm_weight': 0.0008240249038637612, 'distance': 0.11111, 'norm_distance': 1213.55556}), ('εἰμί', 'πνεῦμα', {'weight': 8, 'norm_weight': 0.0007324665812122322, 'distance': 0.125, 'norm_distance': 1365.25}), ('εἰμί', 'ἄνθρωπος', {'weight': 7, 'norm_weight': 0.0006409082585607032, 'distance': 0.14286, 'norm_distance': 1560.28571}), ('εἰμί', 'εἷς', {'weight': 7, 'norm_weight': 0.0006409082585607032, 'distance': 0.14286, 'norm_distance': 1560.28571}), ('εἰμί', 'ἐλεύθερος', {'weight': 7, 'norm_weight': 0.0006409082585607032, 'distance': 0.14286, 'norm_distance': 1560.28571}), ('εἰμί', 'σάρξ', {'weight': 6, 'norm_weight': 0.0005493499359091741, 'distance': 0.16667, 'norm_distance': 1820.33333}), ('εἰμί', 'πατήρ', {'weight': 5, 'norm_weight': 0.0004577916132576451, 'distance': 0.2, 'norm_distance': 2184.4}), ('εἰμί', 'υἱός', {'weight': 5, 'norm_weight': 0.0004577916132576451, 'distance': 0.2, 'norm_distance': 2184.4}), ('εἰμί', 'ἔχω', {'weight': 4, 'norm_weight': 0.0003662332906061161, 'distance': 0.25, 'norm_distance': 2730.5}), ('εἰμί', 'χριστός', {'weight': 4, 'norm_weight': 0.0003662332906061161, 'distance': 0.25, 'norm_distance': 2730.5}), ('εἰμί', 'χάρις', {'weight': 3, 'norm_weight': 0.00027467496795458707, 'distance': 0.33333, 'norm_distance': 3640.66667}), ('εἰμί', 'οἶδα', {'weight': 2, 'norm_weight': 0.00018311664530305805, 'distance': 0.5, 'norm_distance': 5461.0}), ('εἰμί', 'εἰρήνη', {'weight': 2, 'norm_weight': 0.00018311664530305805, 'distance': 0.5, 'norm_distance': 5461.0}), ('θεός', 'χάρις', {'weight': 20, 'norm_weight': 0.0018311664530305805, 'distance': 0.05, 'norm_distance': 546.1}), ('θεός', 'πατήρ', {'weight': 18, 'norm_weight': 0.0016480498077275224, 'distance': 0.05556, 'norm_distance': 606.77778}), ('θεός', 'πνεῦμα', {'weight': 15, 'norm_weight': 0.0013733748397729353, 'distance': 0.06667, 'norm_distance': 728.13333}), ('θεός', 'εἰρήνη', {'weight': 13, 'norm_weight': 0.0011902581944698773, 'distance': 0.07692, 'norm_distance': 840.15385}), ('θεός', 'δικαιοσύνη', {'weight': 10, 'norm_weight': 0.0009155832265152902, 'distance': 0.1, 'norm_distance': 1092.2}), ('θεός', 'πᾶς', {'weight': 10, 'norm_weight': 0.0009155832265152902, 'distance': 0.1, 'norm_distance': 1092.2}), ('θεός', 'οἶδα', {'weight': 10, 'norm_weight': 0.0009155832265152902, 'distance': 0.1, 'norm_distance': 1092.2}), ('θεός', 'υἱός', {'weight': 9, 'norm_weight': 0.0008240249038637612, 'distance': 0.11111, 'norm_distance': 1213.55556}), ('θεός', 'δύναμις', {'weight': 9, 'norm_weight': 0.0008240249038637612, 'distance': 0.11111, 'norm_distance': 1213.55556}), ('θεός', 'θέλημα', {'weight': 9, 'norm_weight': 0.0008240249038637612, 'distance': 0.11111, 'norm_distance': 1213.55556}), ('θεός', 'ἔχω', {'weight': 9, 'norm_weight': 0.0008240249038637612, 'distance': 0.11111, 'norm_distance': 1213.55556}), ('θεός', 'δίδωμι', {'weight': 9, 'norm_weight': 0.0008240249038637612, 'distance': 0.11111, 'norm_distance': 1213.55556}), ('θεός', 'εὐχαριστέω', {'weight': 8, 'norm_weight': 0.0007324665812122322, 'distance': 0.125, 'norm_distance': 1365.25}), ('θεός', 'γιγνώσκω', {'weight': 8, 'norm_weight': 0.0007324665812122322, 'distance': 0.125, 'norm_distance': 1365.25}), ('θεός', 'νομός', {'weight': 8, 'norm_weight': 0.0007324665812122322, 'distance': 0.125, 'norm_distance': 1365.25}), ('θεός', 'εὐαγγέλιον', {'weight': 6, 'norm_weight': 0.0005493499359091741, 'distance': 0.16667, 'norm_distance': 1820.33333}), ('θεός', 'εἷς', {'weight': 4, 'norm_weight': 0.0003662332906061161, 'distance': 0.25, 'norm_distance': 2730.5}), ('θεός', 'ἄνθρωπος', {'weight': 4, 'norm_weight': 0.0003662332906061161, 'distance': 0.25, 'norm_distance': 2730.5}), ('θεός', 'αὐτός', {'weight': 4, 'norm_weight': 0.0003662332906061161, 'distance': 0.25, 'norm_distance': 2730.5}), ('θεός', 'σάρξ', {'weight': 3, 'norm_weight': 0.00027467496795458707, 'distance': 0.33333, 'norm_distance': 3640.66667}), ('θεός', 'οὗτος', {'weight': 2, 'norm_weight': 0.00018311664530305805, 'distance': 0.5, 'norm_distance': 5461.0}), ('θεός', 'σῶμα', {'weight': 2, 'norm_weight': 0.00018311664530305805, 'distance': 0.5, 'norm_distance': 5461.0}), ('θεός', 'χριστός', {'weight': 2, 'norm_weight': 0.00018311664530305805, 'distance': 0.5, 'norm_distance': 5461.0}), ('χάρις', 'εἰρήνη', {'weight': 7, 'norm_weight': 0.0006409082585607032, 'distance': 0.14286, 'norm_distance': 1560.28571}), ('χάρις', 'δίδωμι', {'weight': 5, 'norm_weight': 0.0004577916132576451, 'distance': 0.2, 'norm_distance': 2184.4}), ('χάρις', 'πᾶς', {'weight': 3, 'norm_weight': 0.00027467496795458707, 'distance': 0.33333, 'norm_distance': 3640.66667}), ('χάρις', 'νομός', {'weight': 2, 'norm_weight': 0.00018311664530305805, 'distance': 0.5, 'norm_distance': 5461.0}), ('χάρις', 'οὗτος', {'weight': 2, 'norm_weight': 0.00018311664530305805, 'distance': 0.5, 'norm_distance': 5461.0}), ('χάρις', 'ἔργον', {'weight': 2, 'norm_weight': 0.00018311664530305805, 'distance': 0.5, 'norm_distance': 5461.0}), ('χάρις', 'γιγνώσκω', {'weight': 2, 'norm_weight': 0.00018311664530305805, 'distance': 0.5, 'norm_distance': 5461.0}), ('πατήρ', 'πᾶς', {'weight': 2, 'norm_weight': 0.00018311664530305805, 'distance': 0.5, 'norm_distance': 5461.0}), ('νομός', 'ἔργον', {'weight': 12, 'norm_weight': 0.0010986998718183483, 'distance': 0.08333, 'norm_distance': 910.16667}), ('νομός', 'δικαιοσύνη', {'weight': 7, 'norm_weight': 0.0006409082585607032, 'distance': 0.14286, 'norm_distance': 1560.28571}), ('νομός', 'οἶδα', {'weight': 3, 'norm_weight': 0.00027467496795458707, 'distance': 0.33333, 'norm_distance': 3640.66667}), ('νομός', 'ἔχω', {'weight': 2, 'norm_weight': 0.00018311664530305805, 'distance': 0.5, 'norm_distance': 5461.0}), ('νομός', 'σάρξ', {'weight': 2, 'norm_weight': 0.00018311664530305805, 'distance': 0.5, 'norm_distance': 5461.0}), ('νομός', 'γιγνώσκω', {'weight': 2, 'norm_weight': 0.00018311664530305805, 'distance': 0.5, 'norm_distance': 5461.0}), ('νομός', 'πνεῦμα', {'weight': 2, 'norm_weight': 0.00018311664530305805, 'distance': 0.5, 'norm_distance': 5461.0}), ('νομός', 'αὐτός', {'weight': 2, 'norm_weight': 0.00018311664530305805, 'distance': 0.5, 'norm_distance': 5461.0}), ('πνεῦμα', 'δύναμις', {'weight': 6, 'norm_weight': 0.0005493499359091741, 'distance': 0.16667, 'norm_distance': 1820.33333}), ('πνεῦμα', 'σάρξ', {'weight': 6, 'norm_weight': 0.0005493499359091741, 'distance': 0.16667, 'norm_distance': 1820.33333}), ('πνεῦμα', 'αὐτός', {'weight': 6, 'norm_weight': 0.0005493499359091741, 'distance': 0.16667, 'norm_distance': 1820.33333}), ('πνεῦμα', 'εἷς', {'weight': 6, 'norm_weight': 0.0005493499359091741, 'distance': 0.16667, 'norm_distance': 1820.33333}), ('πνεῦμα', 'ἔχω', {'weight': 3, 'norm_weight': 0.00027467496795458707, 'distance': 0.33333, 'norm_distance': 3640.66667}), ('πνεῦμα', 'πᾶς', {'weight': 3, 'norm_weight': 0.00027467496795458707, 'distance': 0.33333, 'norm_distance': 3640.66667}), ('πνεῦμα', 'ἄνθρωπος', {'weight': 2, 'norm_weight': 0.00018311664530305805, 'distance': 0.5, 'norm_distance': 5461.0}), ('πνεῦμα', 'δίδωμι', {'weight': 2, 'norm_weight': 0.00018311664530305805, 'distance': 0.5, 'norm_distance': 5461.0}), ('ἰησοῦ.', 'οὗτος', {'weight': 2, 'norm_weight': 0.00018311664530305805, 'distance': 0.5, 'norm_distance': 5461.0}), ('ἔργον', 'ἄνθρωπος', {'weight': 2, 'norm_weight': 0.00018311664530305805, 'distance': 0.5, 'norm_distance': 5461.0}), ('ἔργον', 'δύναμις', {'weight': 2, 'norm_weight': 0.00018311664530305805, 'distance': 0.5, 'norm_distance': 5461.0}), ('αὐτός', 'οὗτος', {'weight': 5, 'norm_weight': 0.0004577916132576451, 'distance': 0.2, 'norm_distance': 2184.4}), ('αὐτός', 'πᾶς', {'weight': 4, 'norm_weight': 0.0003662332906061161, 'distance': 0.25, 'norm_distance': 2730.5}), ('αὐτός', 'οἶδα', {'weight': 3, 'norm_weight': 0.00027467496795458707, 'distance': 0.33333, 'norm_distance': 3640.66667}), ('αὐτός', 'υἱός', {'weight': 2, 'norm_weight': 0.00018311664530305805, 'distance': 0.5, 'norm_distance': 5461.0}), ('αὐτός', 'σάρξ', {'weight': 2, 'norm_weight': 0.00018311664530305805, 'distance': 0.5, 'norm_distance': 5461.0}), ('οὗτος', 'σῶμα', {'weight': 8, 'norm_weight': 0.0007324665812122322, 'distance': 0.125, 'norm_distance': 1365.25}), ('οὗτος', 'σάρξ', {'weight': 3, 'norm_weight': 0.00027467496795458707, 'distance': 0.33333, 'norm_distance': 3640.66667}), ('οὗτος', 'ἄνθρωπος', {'weight': 2, 'norm_weight': 0.00018311664530305805, 'distance': 0.5, 'norm_distance': 5461.0}), ('οὗτος', 'ἔχω', {'weight': 2, 'norm_weight': 0.00018311664530305805, 'distance': 0.5, 'norm_distance': 5461.0}), ('οὗτος', 'πᾶς', {'weight': 2, 'norm_weight': 0.00018311664530305805, 'distance': 0.5, 'norm_distance': 5461.0}), ('οὗτος', 'δίδωμι', {'weight': 2, 'norm_weight': 0.00018311664530305805, 'distance': 0.5, 'norm_distance': 5461.0}), ('οὗτος', 'οἶδα', {'weight': 2, 'norm_weight': 0.00018311664530305805, 'distance': 0.5, 'norm_distance': 5461.0}), ('οὗτος', 'εὐχαριστέω', {'weight': 2, 'norm_weight': 0.00018311664530305805, 'distance': 0.5, 'norm_distance': 5461.0}), ('οὗτος', 'θέλημα', {'weight': 2, 'norm_weight': 0.00018311664530305805, 'distance': 0.5, 'norm_distance': 5461.0}), ('δικαιοσύνη', 'πᾶς', {'weight': 2, 'norm_weight': 0.00018311664530305805, 'distance': 0.5, 'norm_distance': 5461.0}), ('πᾶς', 'ἄνθρωπος', {'weight': 9, 'norm_weight': 0.0008240249038637612, 'distance': 0.11111, 'norm_distance': 1213.55556}), ('πᾶς', 'ἔχω', {'weight': 5, 'norm_weight': 0.0004577916132576451, 'distance': 0.2, 'norm_distance': 2184.4}), ('πᾶς', 'εἷς', {'weight': 4, 'norm_weight': 0.0003662332906061161, 'distance': 0.25, 'norm_distance': 2730.5}), ('πᾶς', 'ἐλεύθερος', {'weight': 2, 'norm_weight': 0.00018311664530305805, 'distance': 0.5, 'norm_distance': 5461.0}), ('πᾶς', 'δύναμις', {'weight': 2, 'norm_weight': 0.00018311664530305805, 'distance': 0.5, 'norm_distance': 5461.0}), ('πᾶς', 'σάρξ', {'weight': 2, 'norm_weight': 0.00018311664530305805, 'distance': 0.5, 'norm_distance': 5461.0}), ('οἶδα', 'σῶμα', {'weight': 6, 'norm_weight': 0.0005493499359091741, 'distance': 0.16667, 'norm_distance': 1820.33333}), ('οἶδα', 'ἄνθρωπος', {'weight': 2, 'norm_weight': 0.00018311664530305805, 'distance': 0.5, 'norm_distance': 5461.0}), ('ἄνθρωπος', 'σῶμα', {'weight': 2, 'norm_weight': 0.00018311664530305805, 'distance': 0.5, 'norm_distance': 5461.0}), ('δίδωμι', 'γιγνώσκω', {'weight': 2, 'norm_weight': 0.00018311664530305805, 'distance': 0.5, 'norm_distance': 5461.0}), ('σῶμα', 'εἷς', {'weight': 4, 'norm_weight': 0.0003662332906061161, 'distance': 0.25, 'norm_distance': 2730.5}), ('σῶμα', 'χριστός', {'weight': 3, 'norm_weight': 0.00027467496795458707, 'distance': 0.33333, 'norm_distance': 3640.66667}), ('γιγνώσκω', 'σάρξ', {'weight': 2, 'norm_weight': 0.00018311664530305805, 'distance': 0.5, 'norm_distance': 5461.0}), ('εὐαγγέλιον', 'χριστός', {'weight': 6, 'norm_weight': 0.0005493499359091741, 'distance': 0.16667, 'norm_distance': 1820.33333})])"
      ]
     },
     "execution_count": 126,
     "metadata": {},
     "output_type": "execute_result"
    }
   ],
   "source": [
    "ego_network_bigrams = construct_ego_network(network_bigrams, \"χριστός\", 30, reduced=False)\n",
    "ego_network_bigrams.edges.data()"
   ]
  },
  {
   "cell_type": "code",
   "execution_count": 127,
   "metadata": {},
   "outputs": [
    {
     "data": {
      "text/plain": [
       "EdgeDataView([('δόξα', 'ἀδελφός', {'weight': 3, 'norm_weight': 6e-05, 'distance': 0.33333, 'norm_distance': 16666.66667}), ('δόξα', 'πνεῦμα', {'weight': 6, 'norm_weight': 0.00012, 'distance': 0.16667, 'norm_distance': 8333.33333}), ('δόξα', 'υἱός', {'weight': 3, 'norm_weight': 6e-05, 'distance': 0.33333, 'norm_distance': 16666.66667}), ('δόξα', 'πίστις', {'weight': 5, 'norm_weight': 0.0001, 'distance': 0.2, 'norm_distance': 10000.0}), ('δόξα', 'ἐγείρω', {'weight': 2, 'norm_weight': 4e-05, 'distance': 0.5, 'norm_distance': 25000.0}), ('δόξα', 'πολύς', {'weight': 6, 'norm_weight': 0.00012, 'distance': 0.16667, 'norm_distance': 8333.33333}), ('δόξα', 'πατήρ', {'weight': 7, 'norm_weight': 0.00014, 'distance': 0.14286, 'norm_distance': 7142.85714}), ('δόξα', 'πᾶς', {'weight': 11, 'norm_weight': 0.00023, 'distance': 0.09091, 'norm_distance': 4347.82609}), ('δόξα', 'δικαιοσύνη', {'weight': 3, 'norm_weight': 6e-05, 'distance': 0.33333, 'norm_distance': 16666.66667}), ('δόξα', 'εἰμί', {'weight': 13, 'norm_weight': 0.00027, 'distance': 0.07692, 'norm_distance': 3703.7037}), ('δόξα', 'ἔχω', {'weight': 2, 'norm_weight': 4e-05, 'distance': 0.5, 'norm_distance': 25000.0}), ('δόξα', 'χάρις', {'weight': 5, 'norm_weight': 0.0001, 'distance': 0.2, 'norm_distance': 10000.0}), ('δόξα', 'χριστός', {'weight': 19, 'norm_weight': 0.00039, 'distance': 0.05263, 'norm_distance': 2564.10256}), ('δόξα', 'εὐαγγέλιον', {'weight': 4, 'norm_weight': 8e-05, 'distance': 0.25, 'norm_distance': 12500.0}), ('δόξα', 'κύριος', {'weight': 13, 'norm_weight': 0.00027, 'distance': 0.07692, 'norm_distance': 3703.7037}), ('δόξα', 'σάρξ', {'weight': 2, 'norm_weight': 4e-05, 'distance': 0.5, 'norm_distance': 25000.0}), ('δόξα', 'δίδωμι', {'weight': 2, 'norm_weight': 4e-05, 'distance': 0.5, 'norm_distance': 25000.0}), ('δόξα', 'ἔθνος', {'weight': 3, 'norm_weight': 6e-05, 'distance': 0.33333, 'norm_distance': 16666.66667}), ('δόξα', 'οἶδα', {'weight': 2, 'norm_weight': 4e-05, 'distance': 0.5, 'norm_distance': 25000.0}), ('δόξα', 'γίγνομαι', {'weight': 5, 'norm_weight': 0.0001, 'distance': 0.2, 'norm_distance': 10000.0}), ('δόξα', 'θεός', {'weight': 30, 'norm_weight': 0.00062, 'distance': 0.03333, 'norm_distance': 1612.90323}), ('δόξα', 'ἄνθρωπος', {'weight': 3, 'norm_weight': 6e-05, 'distance': 0.33333, 'norm_distance': 16666.66667}), ('δόξα', 'σῶμα', {'weight': 3, 'norm_weight': 6e-05, 'distance': 0.33333, 'norm_distance': 16666.66667}), ('ἀδελφός', 'πνεῦμα', {'weight': 6, 'norm_weight': 0.00012, 'distance': 0.16667, 'norm_distance': 8333.33333}), ('ἀδελφός', 'πίστις', {'weight': 4, 'norm_weight': 8e-05, 'distance': 0.25, 'norm_distance': 12500.0}), ('ἀδελφός', 'ἐγείρω', {'weight': 2, 'norm_weight': 4e-05, 'distance': 0.5, 'norm_distance': 25000.0}), ('ἀδελφός', 'πολύς', {'weight': 17, 'norm_weight': 0.00035, 'distance': 0.05882, 'norm_distance': 2857.14286}), ('ἀδελφός', 'πατήρ', {'weight': 4, 'norm_weight': 8e-05, 'distance': 0.25, 'norm_distance': 12500.0}), ('ἀδελφός', 'δύναμις', {'weight': 2, 'norm_weight': 4e-05, 'distance': 0.5, 'norm_distance': 25000.0}), ('ἀδελφός', 'πᾶς', {'weight': 19, 'norm_weight': 0.00039, 'distance': 0.05263, 'norm_distance': 2564.10256}), ('ἀδελφός', 'νεκρός', {'weight': 2, 'norm_weight': 4e-05, 'distance': 0.5, 'norm_distance': 25000.0}), ('ἀδελφός', 'εἰμί', {'weight': 21, 'norm_weight': 0.00043, 'distance': 0.04762, 'norm_distance': 2325.5814}), ('ἀδελφός', 'ἔχω', {'weight': 11, 'norm_weight': 0.00023, 'distance': 0.09091, 'norm_distance': 4347.82609}), ('ἀδελφός', 'οὗτος', {'weight': 10, 'norm_weight': 0.00021, 'distance': 0.1, 'norm_distance': 4761.90476}), ('ἀδελφός', 'χάρις', {'weight': 3, 'norm_weight': 6e-05, 'distance': 0.33333, 'norm_distance': 16666.66667}), ('ἀδελφός', 'χριστός', {'weight': 25, 'norm_weight': 0.00052, 'distance': 0.04, 'norm_distance': 1923.07692}), ('ἀδελφός', 'εὐαγγέλιον', {'weight': 9, 'norm_weight': 0.00019, 'distance': 0.11111, 'norm_distance': 5263.15789}), ('ἀδελφός', 'κύριος', {'weight': 22, 'norm_weight': 0.00045, 'distance': 0.04545, 'norm_distance': 2222.22222}), ('ἀδελφός', 'σάρξ', {'weight': 8, 'norm_weight': 0.00017, 'distance': 0.125, 'norm_distance': 5882.35294}), ('ἀδελφός', 'νόμος', {'weight': 3, 'norm_weight': 6e-05, 'distance': 0.33333, 'norm_distance': 16666.66667}), ('ἀδελφός', 'λόγος', {'weight': 5, 'norm_weight': 0.0001, 'distance': 0.2, 'norm_distance': 10000.0}), ('ἀδελφός', 'ἔθνος', {'weight': 4, 'norm_weight': 8e-05, 'distance': 0.25, 'norm_distance': 12500.0}), ('ἀδελφός', 'ἅγιος', {'weight': 7, 'norm_weight': 0.00014, 'distance': 0.14286, 'norm_distance': 7142.85714}), ('ἀδελφός', 'οἶδα', {'weight': 10, 'norm_weight': 0.00021, 'distance': 0.1, 'norm_distance': 4761.90476}), ('ἀδελφός', 'γίγνομαι', {'weight': 15, 'norm_weight': 0.00031, 'distance': 0.06667, 'norm_distance': 3225.80645}), ('ἀδελφός', 'θεός', {'weight': 32, 'norm_weight': 0.00066, 'distance': 0.03125, 'norm_distance': 1515.15152}), ('ἀδελφός', 'ἄνθρωπος', {'weight': 8, 'norm_weight': 0.00017, 'distance': 0.125, 'norm_distance': 5882.35294}), ('ἀδελφός', 'σῶμα', {'weight': 3, 'norm_weight': 6e-05, 'distance': 0.33333, 'norm_distance': 16666.66667}), ('πνεῦμα', 'υἱός', {'weight': 8, 'norm_weight': 0.00017, 'distance': 0.125, 'norm_distance': 5882.35294}), ('πνεῦμα', 'πίστις', {'weight': 15, 'norm_weight': 0.00031, 'distance': 0.06667, 'norm_distance': 3225.80645}), ('πνεῦμα', 'ἐγείρω', {'weight': 6, 'norm_weight': 0.00012, 'distance': 0.16667, 'norm_distance': 8333.33333}), ('πνεῦμα', 'πολύς', {'weight': 4, 'norm_weight': 8e-05, 'distance': 0.25, 'norm_distance': 12500.0}), ('πνεῦμα', 'πατήρ', {'weight': 4, 'norm_weight': 8e-05, 'distance': 0.25, 'norm_distance': 12500.0}), ('πνεῦμα', 'δύναμις', {'weight': 17, 'norm_weight': 0.00035, 'distance': 0.05882, 'norm_distance': 2857.14286}), ('πνεῦμα', 'πᾶς', {'weight': 9, 'norm_weight': 0.00019, 'distance': 0.11111, 'norm_distance': 5263.15789}), ('πνεῦμα', 'νεκρός', {'weight': 6, 'norm_weight': 0.00012, 'distance': 0.16667, 'norm_distance': 8333.33333}), ('πνεῦμα', 'δικαιοσύνη', {'weight': 3, 'norm_weight': 6e-05, 'distance': 0.33333, 'norm_distance': 16666.66667}), ('πνεῦμα', 'εἰμί', {'weight': 19, 'norm_weight': 0.00039, 'distance': 0.05263, 'norm_distance': 2564.10256}), ('πνεῦμα', 'ἔχω', {'weight': 9, 'norm_weight': 0.00019, 'distance': 0.11111, 'norm_distance': 5263.15789}), ('πνεῦμα', 'οὗτος', {'weight': 10, 'norm_weight': 0.00021, 'distance': 0.1, 'norm_distance': 4761.90476}), ('πνεῦμα', 'χάρις', {'weight': 6, 'norm_weight': 0.00012, 'distance': 0.16667, 'norm_distance': 8333.33333}), ('πνεῦμα', 'χριστός', {'weight': 29, 'norm_weight': 0.0006, 'distance': 0.03448, 'norm_distance': 1666.66667}), ('πνεῦμα', 'εὐαγγέλιον', {'weight': 8, 'norm_weight': 0.00017, 'distance': 0.125, 'norm_distance': 5882.35294}), ('πνεῦμα', 'κύριος', {'weight': 30, 'norm_weight': 0.00062, 'distance': 0.03333, 'norm_distance': 1612.90323}), ('πνεῦμα', 'σάρξ', {'weight': 31, 'norm_weight': 0.00064, 'distance': 0.03226, 'norm_distance': 1562.5}), ('πνεῦμα', 'νόμος', {'weight': 9, 'norm_weight': 0.00019, 'distance': 0.11111, 'norm_distance': 5263.15789}), ('πνεῦμα', 'κόσμος', {'weight': 2, 'norm_weight': 4e-05, 'distance': 0.5, 'norm_distance': 25000.0}), ('πνεῦμα', 'δίδωμι', {'weight': 12, 'norm_weight': 0.00025, 'distance': 0.08333, 'norm_distance': 4000.0}), ('πνεῦμα', 'λόγος', {'weight': 17, 'norm_weight': 0.00035, 'distance': 0.05882, 'norm_distance': 2857.14286}), ('πνεῦμα', 'ἔθνος', {'weight': 5, 'norm_weight': 0.0001, 'distance': 0.2, 'norm_distance': 10000.0}), ('πνεῦμα', 'ἅγιος', {'weight': 21, 'norm_weight': 0.00043, 'distance': 0.04762, 'norm_distance': 2325.5814}), ('πνεῦμα', 'οἶδα', {'weight': 13, 'norm_weight': 0.00027, 'distance': 0.07692, 'norm_distance': 3703.7037}), ('πνεῦμα', 'γίγνομαι', {'weight': 11, 'norm_weight': 0.00023, 'distance': 0.09091, 'norm_distance': 4347.82609}), ('πνεῦμα', 'θεός', {'weight': 50, 'norm_weight': 0.00103, 'distance': 0.02, 'norm_distance': 970.87379}), ('πνεῦμα', 'ἄνθρωπος', {'weight': 9, 'norm_weight': 0.00019, 'distance': 0.11111, 'norm_distance': 5263.15789}), ('πνεῦμα', 'σῶμα', {'weight': 14, 'norm_weight': 0.00029, 'distance': 0.07143, 'norm_distance': 3448.27586}), ('υἱός', 'πίστις', {'weight': 5, 'norm_weight': 0.0001, 'distance': 0.2, 'norm_distance': 10000.0}), ('υἱός', 'πολύς', {'weight': 3, 'norm_weight': 6e-05, 'distance': 0.33333, 'norm_distance': 16666.66667}), ('υἱός', 'πατήρ', {'weight': 3, 'norm_weight': 6e-05, 'distance': 0.33333, 'norm_distance': 16666.66667}), ('υἱός', 'δύναμις', {'weight': 2, 'norm_weight': 4e-05, 'distance': 0.5, 'norm_distance': 25000.0}), ('υἱός', 'πᾶς', {'weight': 10, 'norm_weight': 0.00021, 'distance': 0.1, 'norm_distance': 4761.90476}), ('υἱός', 'νεκρός', {'weight': 3, 'norm_weight': 6e-05, 'distance': 0.33333, 'norm_distance': 16666.66667}), ('υἱός', 'εἰμί', {'weight': 11, 'norm_weight': 0.00023, 'distance': 0.09091, 'norm_distance': 4347.82609}), ('υἱός', 'ἔχω', {'weight': 3, 'norm_weight': 6e-05, 'distance': 0.33333, 'norm_distance': 16666.66667}), ('υἱός', 'χάρις', {'weight': 3, 'norm_weight': 6e-05, 'distance': 0.33333, 'norm_distance': 16666.66667}), ('υἱός', 'χριστός', {'weight': 9, 'norm_weight': 0.00019, 'distance': 0.11111, 'norm_distance': 5263.15789}), ('υἱός', 'εὐαγγέλιον', {'weight': 3, 'norm_weight': 6e-05, 'distance': 0.33333, 'norm_distance': 16666.66667}), ('υἱός', 'κύριος', {'weight': 4, 'norm_weight': 8e-05, 'distance': 0.25, 'norm_distance': 12500.0}), ('υἱός', 'σάρξ', {'weight': 8, 'norm_weight': 0.00017, 'distance': 0.125, 'norm_distance': 5882.35294}), ('υἱός', 'νόμος', {'weight': 4, 'norm_weight': 8e-05, 'distance': 0.25, 'norm_distance': 12500.0}), ('υἱός', 'ἔθνος', {'weight': 3, 'norm_weight': 6e-05, 'distance': 0.33333, 'norm_distance': 16666.66667}), ('υἱός', 'ἅγιος', {'weight': 4, 'norm_weight': 8e-05, 'distance': 0.25, 'norm_distance': 12500.0}), ('υἱός', 'γίγνομαι', {'weight': 7, 'norm_weight': 0.00014, 'distance': 0.14286, 'norm_distance': 7142.85714}), ('υἱός', 'θεός', {'weight': 25, 'norm_weight': 0.00052, 'distance': 0.04, 'norm_distance': 1923.07692}), ('πίστις', 'ἐγείρω', {'weight': 7, 'norm_weight': 0.00014, 'distance': 0.14286, 'norm_distance': 7142.85714}), ('πίστις', 'πολύς', {'weight': 2, 'norm_weight': 4e-05, 'distance': 0.5, 'norm_distance': 25000.0}), ('πίστις', 'πατήρ', {'weight': 7, 'norm_weight': 0.00014, 'distance': 0.14286, 'norm_distance': 7142.85714}), ('πίστις', 'δύναμις', {'weight': 8, 'norm_weight': 0.00017, 'distance': 0.125, 'norm_distance': 5882.35294}), ('πίστις', 'πᾶς', {'weight': 19, 'norm_weight': 0.00039, 'distance': 0.05263, 'norm_distance': 2564.10256}), ('πίστις', 'νεκρός', {'weight': 4, 'norm_weight': 8e-05, 'distance': 0.25, 'norm_distance': 12500.0}), ('πίστις', 'δικαιοσύνη', {'weight': 26, 'norm_weight': 0.00054, 'distance': 0.03846, 'norm_distance': 1851.85185}), ('πίστις', 'εἰμί', {'weight': 22, 'norm_weight': 0.00045, 'distance': 0.04545, 'norm_distance': 2222.22222}), ('πίστις', 'ἔχω', {'weight': 20, 'norm_weight': 0.00041, 'distance': 0.05, 'norm_distance': 2439.02439}), ('πίστις', 'οὗτος', {'weight': 7, 'norm_weight': 0.00014, 'distance': 0.14286, 'norm_distance': 7142.85714}), ('πίστις', 'χάρις', {'weight': 8, 'norm_weight': 0.00017, 'distance': 0.125, 'norm_distance': 5882.35294}), ('πίστις', 'χριστός', {'weight': 38, 'norm_weight': 0.00078, 'distance': 0.02632, 'norm_distance': 1282.05128}), ('πίστις', 'εὐαγγέλιον', {'weight': 6, 'norm_weight': 0.00012, 'distance': 0.16667, 'norm_distance': 8333.33333}), ('πίστις', 'κύριος', {'weight': 13, 'norm_weight': 0.00027, 'distance': 0.07692, 'norm_distance': 3703.7037}), ('πίστις', 'σάρξ', {'weight': 4, 'norm_weight': 8e-05, 'distance': 0.25, 'norm_distance': 12500.0}), ('πίστις', 'νόμος', {'weight': 27, 'norm_weight': 0.00056, 'distance': 0.03704, 'norm_distance': 1785.71429}), ('πίστις', 'κόσμος', {'weight': 2, 'norm_weight': 4e-05, 'distance': 0.5, 'norm_distance': 25000.0}), ('πίστις', 'δίδωμι', {'weight': 6, 'norm_weight': 0.00012, 'distance': 0.16667, 'norm_distance': 8333.33333}), ('πίστις', 'λόγος', {'weight': 7, 'norm_weight': 0.00014, 'distance': 0.14286, 'norm_distance': 7142.85714}), ('πίστις', 'ἔθνος', {'weight': 10, 'norm_weight': 0.00021, 'distance': 0.1, 'norm_distance': 4761.90476}), ('πίστις', 'ἅγιος', {'weight': 5, 'norm_weight': 0.0001, 'distance': 0.2, 'norm_distance': 10000.0}), ('πίστις', 'οἶδα', {'weight': 8, 'norm_weight': 0.00017, 'distance': 0.125, 'norm_distance': 5882.35294}), ('πίστις', 'γίγνομαι', {'weight': 10, 'norm_weight': 0.00021, 'distance': 0.1, 'norm_distance': 4761.90476}), ('πίστις', 'θεός', {'weight': 48, 'norm_weight': 0.00099, 'distance': 0.02083, 'norm_distance': 1010.10101}), ('πίστις', 'ἄνθρωπος', {'weight': 5, 'norm_weight': 0.0001, 'distance': 0.2, 'norm_distance': 10000.0}), ('πίστις', 'σῶμα', {'weight': 4, 'norm_weight': 8e-05, 'distance': 0.25, 'norm_distance': 12500.0}), ('ἐγείρω', 'πατήρ', {'weight': 2, 'norm_weight': 4e-05, 'distance': 0.5, 'norm_distance': 25000.0}), ('ἐγείρω', 'δύναμις', {'weight': 2, 'norm_weight': 4e-05, 'distance': 0.5, 'norm_distance': 25000.0}), ('ἐγείρω', 'πᾶς', {'weight': 2, 'norm_weight': 4e-05, 'distance': 0.5, 'norm_distance': 25000.0}), ('ἐγείρω', 'νεκρός', {'weight': 28, 'norm_weight': 0.00058, 'distance': 0.03571, 'norm_distance': 1724.13793}), ('ἐγείρω', 'εἰμί', {'weight': 5, 'norm_weight': 0.0001, 'distance': 0.2, 'norm_distance': 10000.0}), ('ἐγείρω', 'ἔχω', {'weight': 4, 'norm_weight': 8e-05, 'distance': 0.25, 'norm_distance': 12500.0}), ('ἐγείρω', 'χριστός', {'weight': 23, 'norm_weight': 0.00048, 'distance': 0.04348, 'norm_distance': 2083.33333}), ('ἐγείρω', 'κύριος', {'weight': 6, 'norm_weight': 0.00012, 'distance': 0.16667, 'norm_distance': 8333.33333}), ('ἐγείρω', 'οἶδα', {'weight': 5, 'norm_weight': 0.0001, 'distance': 0.2, 'norm_distance': 10000.0}), ('ἐγείρω', 'θεός', {'weight': 15, 'norm_weight': 0.00031, 'distance': 0.06667, 'norm_distance': 3225.80645}), ('ἐγείρω', 'ἄνθρωπος', {'weight': 2, 'norm_weight': 4e-05, 'distance': 0.5, 'norm_distance': 25000.0}), ('ἐγείρω', 'σῶμα', {'weight': 6, 'norm_weight': 0.00012, 'distance': 0.16667, 'norm_distance': 8333.33333}), ('πολύς', 'πατήρ', {'weight': 7, 'norm_weight': 0.00014, 'distance': 0.14286, 'norm_distance': 7142.85714}), ('πολύς', 'δύναμις', {'weight': 6, 'norm_weight': 0.00012, 'distance': 0.16667, 'norm_distance': 8333.33333}), ('πολύς', 'πᾶς', {'weight': 21, 'norm_weight': 0.00043, 'distance': 0.04762, 'norm_distance': 2325.5814}), ('πολύς', 'δικαιοσύνη', {'weight': 2, 'norm_weight': 4e-05, 'distance': 0.5, 'norm_distance': 25000.0}), ('πολύς', 'εἰμί', {'weight': 21, 'norm_weight': 0.00043, 'distance': 0.04762, 'norm_distance': 2325.5814}), ('πολύς', 'ἔχω', {'weight': 17, 'norm_weight': 0.00035, 'distance': 0.05882, 'norm_distance': 2857.14286}), ('πολύς', 'οὗτος', {'weight': 4, 'norm_weight': 8e-05, 'distance': 0.25, 'norm_distance': 12500.0}), ('πολύς', 'χάρις', {'weight': 12, 'norm_weight': 0.00025, 'distance': 0.08333, 'norm_distance': 4000.0}), ('πολύς', 'χριστός', {'weight': 21, 'norm_weight': 0.00043, 'distance': 0.04762, 'norm_distance': 2325.5814}), ('πολύς', 'εὐαγγέλιον', {'weight': 5, 'norm_weight': 0.0001, 'distance': 0.2, 'norm_distance': 10000.0}), ('πολύς', 'κύριος', {'weight': 10, 'norm_weight': 0.00021, 'distance': 0.1, 'norm_distance': 4761.90476}), ('πολύς', 'σάρξ', {'weight': 5, 'norm_weight': 0.0001, 'distance': 0.2, 'norm_distance': 10000.0}), ('πολύς', 'δίδωμι', {'weight': 2, 'norm_weight': 4e-05, 'distance': 0.5, 'norm_distance': 25000.0}), ('πολύς', 'λόγος', {'weight': 7, 'norm_weight': 0.00014, 'distance': 0.14286, 'norm_distance': 7142.85714}), ('πολύς', 'ἔθνος', {'weight': 3, 'norm_weight': 6e-05, 'distance': 0.33333, 'norm_distance': 16666.66667}), ('πολύς', 'ἅγιος', {'weight': 8, 'norm_weight': 0.00017, 'distance': 0.125, 'norm_distance': 5882.35294}), ('πολύς', 'οἶδα', {'weight': 5, 'norm_weight': 0.0001, 'distance': 0.2, 'norm_distance': 10000.0}), ('πολύς', 'γίγνομαι', {'weight': 10, 'norm_weight': 0.00021, 'distance': 0.1, 'norm_distance': 4761.90476}), ('πολύς', 'θεός', {'weight': 33, 'norm_weight': 0.00068, 'distance': 0.0303, 'norm_distance': 1470.58824}), ('πολύς', 'ἄνθρωπος', {'weight': 6, 'norm_weight': 0.00012, 'distance': 0.16667, 'norm_distance': 8333.33333}), ('πολύς', 'σῶμα', {'weight': 15, 'norm_weight': 0.00031, 'distance': 0.06667, 'norm_distance': 3225.80645}), ('πατήρ', 'δύναμις', {'weight': 2, 'norm_weight': 4e-05, 'distance': 0.5, 'norm_distance': 25000.0}), ('πατήρ', 'πᾶς', {'weight': 16, 'norm_weight': 0.00033, 'distance': 0.0625, 'norm_distance': 3030.30303}), ('πατήρ', 'νεκρός', {'weight': 2, 'norm_weight': 4e-05, 'distance': 0.5, 'norm_distance': 25000.0}), ('πατήρ', 'δικαιοσύνη', {'weight': 6, 'norm_weight': 0.00012, 'distance': 0.16667, 'norm_distance': 8333.33333}), ('πατήρ', 'εἰμί', {'weight': 14, 'norm_weight': 0.00029, 'distance': 0.07143, 'norm_distance': 3448.27586}), ('πατήρ', 'ἔχω', {'weight': 3, 'norm_weight': 6e-05, 'distance': 0.33333, 'norm_distance': 16666.66667}), ('πατήρ', 'χάρις', {'weight': 7, 'norm_weight': 0.00014, 'distance': 0.14286, 'norm_distance': 7142.85714}), ('πατήρ', 'χριστός', {'weight': 23, 'norm_weight': 0.00048, 'distance': 0.04348, 'norm_distance': 2083.33333}), ('πατήρ', 'εὐαγγέλιον', {'weight': 4, 'norm_weight': 8e-05, 'distance': 0.25, 'norm_distance': 12500.0}), ('πατήρ', 'κύριος', {'weight': 21, 'norm_weight': 0.00043, 'distance': 0.04762, 'norm_distance': 2325.5814}), ('πατήρ', 'σάρξ', {'weight': 3, 'norm_weight': 6e-05, 'distance': 0.33333, 'norm_distance': 16666.66667}), ('πατήρ', 'δίδωμι', {'weight': 3, 'norm_weight': 6e-05, 'distance': 0.33333, 'norm_distance': 16666.66667}), ('πατήρ', 'ἔθνος', {'weight': 5, 'norm_weight': 0.0001, 'distance': 0.2, 'norm_distance': 10000.0}), ('πατήρ', 'ἅγιος', {'weight': 2, 'norm_weight': 4e-05, 'distance': 0.5, 'norm_distance': 25000.0}), ('πατήρ', 'οἶδα', {'weight': 4, 'norm_weight': 8e-05, 'distance': 0.25, 'norm_distance': 12500.0}), ('πατήρ', 'γίγνομαι', {'weight': 5, 'norm_weight': 0.0001, 'distance': 0.2, 'norm_distance': 10000.0}), ('πατήρ', 'θεός', {'weight': 36, 'norm_weight': 0.00074, 'distance': 0.02778, 'norm_distance': 1351.35135}), ('πατήρ', 'ἄνθρωπος', {'weight': 2, 'norm_weight': 4e-05, 'distance': 0.5, 'norm_distance': 25000.0}), ('δύναμις', 'πᾶς', {'weight': 4, 'norm_weight': 8e-05, 'distance': 0.25, 'norm_distance': 12500.0}), ('δύναμις', 'νεκρός', {'weight': 2, 'norm_weight': 4e-05, 'distance': 0.5, 'norm_distance': 25000.0}), ('δύναμις', 'δικαιοσύνη', {'weight': 2, 'norm_weight': 4e-05, 'distance': 0.5, 'norm_distance': 25000.0}), ('δύναμις', 'εἰμί', {'weight': 4, 'norm_weight': 8e-05, 'distance': 0.25, 'norm_distance': 12500.0}), ('δύναμις', 'ἔχω', {'weight': 2, 'norm_weight': 4e-05, 'distance': 0.5, 'norm_distance': 25000.0}), ('δύναμις', 'οὗτος', {'weight': 4, 'norm_weight': 8e-05, 'distance': 0.25, 'norm_distance': 12500.0}), ('δύναμις', 'χάρις', {'weight': 5, 'norm_weight': 0.0001, 'distance': 0.2, 'norm_distance': 10000.0}), ('δύναμις', 'χριστός', {'weight': 13, 'norm_weight': 0.00027, 'distance': 0.07692, 'norm_distance': 3703.7037}), ('δύναμις', 'εὐαγγέλιον', {'weight': 3, 'norm_weight': 6e-05, 'distance': 0.33333, 'norm_distance': 16666.66667}), ('δύναμις', 'κύριος', {'weight': 12, 'norm_weight': 0.00025, 'distance': 0.08333, 'norm_distance': 4000.0}), ('δύναμις', 'σάρξ', {'weight': 2, 'norm_weight': 4e-05, 'distance': 0.5, 'norm_distance': 25000.0}), ('δύναμις', 'νόμος', {'weight': 3, 'norm_weight': 6e-05, 'distance': 0.33333, 'norm_distance': 16666.66667}), ('δύναμις', 'δίδωμι', {'weight': 3, 'norm_weight': 6e-05, 'distance': 0.33333, 'norm_distance': 16666.66667}), ('δύναμις', 'λόγος', {'weight': 15, 'norm_weight': 0.00031, 'distance': 0.06667, 'norm_distance': 3225.80645}), ('δύναμις', 'ἔθνος', {'weight': 4, 'norm_weight': 8e-05, 'distance': 0.25, 'norm_distance': 12500.0}), ('δύναμις', 'ἅγιος', {'weight': 9, 'norm_weight': 0.00019, 'distance': 0.11111, 'norm_distance': 5263.15789}), ('δύναμις', 'οἶδα', {'weight': 3, 'norm_weight': 6e-05, 'distance': 0.33333, 'norm_distance': 16666.66667}), ('δύναμις', 'γίγνομαι', {'weight': 6, 'norm_weight': 0.00012, 'distance': 0.16667, 'norm_distance': 8333.33333}), ('δύναμις', 'θεός', {'weight': 25, 'norm_weight': 0.00052, 'distance': 0.04, 'norm_distance': 1923.07692}), ('δύναμις', 'ἄνθρωπος', {'weight': 2, 'norm_weight': 4e-05, 'distance': 0.5, 'norm_distance': 25000.0}), ('πᾶς', 'νεκρός', {'weight': 4, 'norm_weight': 8e-05, 'distance': 0.25, 'norm_distance': 12500.0}), ('πᾶς', 'δικαιοσύνη', {'weight': 5, 'norm_weight': 0.0001, 'distance': 0.2, 'norm_distance': 10000.0}), ('πᾶς', 'εἰμί', {'weight': 50, 'norm_weight': 0.00103, 'distance': 0.02, 'norm_distance': 970.87379}), ('πᾶς', 'ἔχω', {'weight': 25, 'norm_weight': 0.00052, 'distance': 0.04, 'norm_distance': 1923.07692}), ('πᾶς', 'οὗτος', {'weight': 10, 'norm_weight': 0.00021, 'distance': 0.1, 'norm_distance': 4761.90476}), ('πᾶς', 'χάρις', {'weight': 19, 'norm_weight': 0.00039, 'distance': 0.05263, 'norm_distance': 2564.10256}), ('πᾶς', 'χριστός', {'weight': 62, 'norm_weight': 0.00128, 'distance': 0.01613, 'norm_distance': 781.25}), ('πᾶς', 'εὐαγγέλιον', {'weight': 14, 'norm_weight': 0.00029, 'distance': 0.07143, 'norm_distance': 3448.27586}), ('πᾶς', 'κύριος', {'weight': 38, 'norm_weight': 0.00078, 'distance': 0.02632, 'norm_distance': 1282.05128}), ('πᾶς', 'σάρξ', {'weight': 7, 'norm_weight': 0.00014, 'distance': 0.14286, 'norm_distance': 7142.85714}), ('πᾶς', 'νόμος', {'weight': 9, 'norm_weight': 0.00019, 'distance': 0.11111, 'norm_distance': 5263.15789}), ('πᾶς', 'κόσμος', {'weight': 6, 'norm_weight': 0.00012, 'distance': 0.16667, 'norm_distance': 8333.33333}), ('πᾶς', 'δίδωμι', {'weight': 5, 'norm_weight': 0.0001, 'distance': 0.2, 'norm_distance': 10000.0}), ('πᾶς', 'λόγος', {'weight': 8, 'norm_weight': 0.00017, 'distance': 0.125, 'norm_distance': 5882.35294}), ('πᾶς', 'ἔθνος', {'weight': 11, 'norm_weight': 0.00023, 'distance': 0.09091, 'norm_distance': 4347.82609}), ('πᾶς', 'ἅγιος', {'weight': 15, 'norm_weight': 0.00031, 'distance': 0.06667, 'norm_distance': 3225.80645}), ('πᾶς', 'οἶδα', {'weight': 7, 'norm_weight': 0.00014, 'distance': 0.14286, 'norm_distance': 7142.85714}), ('πᾶς', 'γίγνομαι', {'weight': 21, 'norm_weight': 0.00043, 'distance': 0.04762, 'norm_distance': 2325.5814}), ('πᾶς', 'θεός', {'weight': 88, 'norm_weight': 0.00182, 'distance': 0.01136, 'norm_distance': 549.45055}), ('πᾶς', 'ἄνθρωπος', {'weight': 15, 'norm_weight': 0.00031, 'distance': 0.06667, 'norm_distance': 3225.80645}), ('πᾶς', 'σῶμα', {'weight': 11, 'norm_weight': 0.00023, 'distance': 0.09091, 'norm_distance': 4347.82609}), ('νεκρός', 'δικαιοσύνη', {'weight': 4, 'norm_weight': 8e-05, 'distance': 0.25, 'norm_distance': 12500.0}), ('νεκρός', 'εἰμί', {'weight': 6, 'norm_weight': 0.00012, 'distance': 0.16667, 'norm_distance': 8333.33333}), ('νεκρός', 'ἔχω', {'weight': 3, 'norm_weight': 6e-05, 'distance': 0.33333, 'norm_distance': 16666.66667}), ('νεκρός', 'οὗτος', {'weight': 2, 'norm_weight': 4e-05, 'distance': 0.5, 'norm_distance': 25000.0}), ('νεκρός', 'χριστός', {'weight': 25, 'norm_weight': 0.00052, 'distance': 0.04, 'norm_distance': 1923.07692}), ('νεκρός', 'κύριος', {'weight': 6, 'norm_weight': 0.00012, 'distance': 0.16667, 'norm_distance': 8333.33333}), ('νεκρός', 'νόμος', {'weight': 3, 'norm_weight': 6e-05, 'distance': 0.33333, 'norm_distance': 16666.66667}), ('νεκρός', 'ἅγιος', {'weight': 2, 'norm_weight': 4e-05, 'distance': 0.5, 'norm_distance': 25000.0}), ('νεκρός', 'γίγνομαι', {'weight': 2, 'norm_weight': 4e-05, 'distance': 0.5, 'norm_distance': 25000.0}), ('νεκρός', 'θεός', {'weight': 17, 'norm_weight': 0.00035, 'distance': 0.05882, 'norm_distance': 2857.14286}), ('νεκρός', 'ἄνθρωπος', {'weight': 4, 'norm_weight': 8e-05, 'distance': 0.25, 'norm_distance': 12500.0}), ('νεκρός', 'σῶμα', {'weight': 6, 'norm_weight': 0.00012, 'distance': 0.16667, 'norm_distance': 8333.33333}), ('δικαιοσύνη', 'εἰμί', {'weight': 12, 'norm_weight': 0.00025, 'distance': 0.08333, 'norm_distance': 4000.0}), ('δικαιοσύνη', 'ἔχω', {'weight': 2, 'norm_weight': 4e-05, 'distance': 0.5, 'norm_distance': 25000.0}), ('δικαιοσύνη', 'χάρις', {'weight': 4, 'norm_weight': 8e-05, 'distance': 0.25, 'norm_distance': 12500.0}), ('δικαιοσύνη', 'χριστός', {'weight': 16, 'norm_weight': 0.00033, 'distance': 0.0625, 'norm_distance': 3030.30303}), ('δικαιοσύνη', 'κύριος', {'weight': 6, 'norm_weight': 0.00012, 'distance': 0.16667, 'norm_distance': 8333.33333}), ('δικαιοσύνη', 'νόμος', {'weight': 16, 'norm_weight': 0.00033, 'distance': 0.0625, 'norm_distance': 3030.30303}), ('δικαιοσύνη', 'δίδωμι', {'weight': 2, 'norm_weight': 4e-05, 'distance': 0.5, 'norm_distance': 25000.0}), ('δικαιοσύνη', 'ἔθνος', {'weight': 3, 'norm_weight': 6e-05, 'distance': 0.33333, 'norm_distance': 16666.66667}), ('δικαιοσύνη', 'γίγνομαι', {'weight': 3, 'norm_weight': 6e-05, 'distance': 0.33333, 'norm_distance': 16666.66667}), ('δικαιοσύνη', 'θεός', {'weight': 26, 'norm_weight': 0.00054, 'distance': 0.03846, 'norm_distance': 1851.85185}), ('δικαιοσύνη', 'ἄνθρωπος', {'weight': 3, 'norm_weight': 6e-05, 'distance': 0.33333, 'norm_distance': 16666.66667}), ('δικαιοσύνη', 'σῶμα', {'weight': 2, 'norm_weight': 4e-05, 'distance': 0.5, 'norm_distance': 25000.0}), ('εἰμί', 'ἔχω', {'weight': 26, 'norm_weight': 0.00054, 'distance': 0.03846, 'norm_distance': 1851.85185}), ('εἰμί', 'οὗτος', {'weight': 35, 'norm_weight': 0.00072, 'distance': 0.02857, 'norm_distance': 1388.88889}), ('εἰμί', 'χάρις', {'weight': 13, 'norm_weight': 0.00027, 'distance': 0.07692, 'norm_distance': 3703.7037}), ('εἰμί', 'χριστός', {'weight': 56, 'norm_weight': 0.00116, 'distance': 0.01786, 'norm_distance': 862.06897}), ('εἰμί', 'εὐαγγέλιον', {'weight': 10, 'norm_weight': 0.00021, 'distance': 0.1, 'norm_distance': 4761.90476}), ('εἰμί', 'κύριος', {'weight': 32, 'norm_weight': 0.00066, 'distance': 0.03125, 'norm_distance': 1515.15152}), ('εἰμί', 'σάρξ', {'weight': 18, 'norm_weight': 0.00037, 'distance': 0.05556, 'norm_distance': 2702.7027}), ('εἰμί', 'νόμος', {'weight': 41, 'norm_weight': 0.00085, 'distance': 0.02439, 'norm_distance': 1176.47059}), ('εἰμί', 'κόσμος', {'weight': 18, 'norm_weight': 0.00037, 'distance': 0.05556, 'norm_distance': 2702.7027}), ('εἰμί', 'δίδωμι', {'weight': 6, 'norm_weight': 0.00012, 'distance': 0.16667, 'norm_distance': 8333.33333}), ('εἰμί', 'λόγος', {'weight': 7, 'norm_weight': 0.00014, 'distance': 0.14286, 'norm_distance': 7142.85714}), ('εἰμί', 'ἔθνος', {'weight': 5, 'norm_weight': 0.0001, 'distance': 0.2, 'norm_distance': 10000.0}), ('εἰμί', 'ἅγιος', {'weight': 8, 'norm_weight': 0.00017, 'distance': 0.125, 'norm_distance': 5882.35294}), ('εἰμί', 'οἶδα', {'weight': 15, 'norm_weight': 0.00031, 'distance': 0.06667, 'norm_distance': 3225.80645}), ('εἰμί', 'γίγνομαι', {'weight': 18, 'norm_weight': 0.00037, 'distance': 0.05556, 'norm_distance': 2702.7027}), ('εἰμί', 'θεός', {'weight': 96, 'norm_weight': 0.00198, 'distance': 0.01042, 'norm_distance': 505.05051}), ('εἰμί', 'ἄνθρωπος', {'weight': 18, 'norm_weight': 0.00037, 'distance': 0.05556, 'norm_distance': 2702.7027}), ('εἰμί', 'σῶμα', {'weight': 36, 'norm_weight': 0.00074, 'distance': 0.02778, 'norm_distance': 1351.35135}), ('ἔχω', 'οὗτος', {'weight': 10, 'norm_weight': 0.00021, 'distance': 0.1, 'norm_distance': 4761.90476}), ('ἔχω', 'χάρις', {'weight': 5, 'norm_weight': 0.0001, 'distance': 0.2, 'norm_distance': 10000.0}), ('ἔχω', 'χριστός', {'weight': 26, 'norm_weight': 0.00054, 'distance': 0.03846, 'norm_distance': 1851.85185}), ('ἔχω', 'εὐαγγέλιον', {'weight': 4, 'norm_weight': 8e-05, 'distance': 0.25, 'norm_distance': 12500.0}), ('ἔχω', 'κύριος', {'weight': 14, 'norm_weight': 0.00029, 'distance': 0.07143, 'norm_distance': 3448.27586}), ('ἔχω', 'σάρξ', {'weight': 7, 'norm_weight': 0.00014, 'distance': 0.14286, 'norm_distance': 7142.85714}), ('ἔχω', 'νόμος', {'weight': 12, 'norm_weight': 0.00025, 'distance': 0.08333, 'norm_distance': 4000.0}), ('ἔχω', 'κόσμος', {'weight': 2, 'norm_weight': 4e-05, 'distance': 0.5, 'norm_distance': 25000.0}), ('ἔχω', 'δίδωμι', {'weight': 3, 'norm_weight': 6e-05, 'distance': 0.33333, 'norm_distance': 16666.66667}), ('ἔχω', 'λόγος', {'weight': 2, 'norm_weight': 4e-05, 'distance': 0.5, 'norm_distance': 25000.0}), ('ἔχω', 'ἔθνος', {'weight': 4, 'norm_weight': 8e-05, 'distance': 0.25, 'norm_distance': 12500.0}), ('ἔχω', 'ἅγιος', {'weight': 6, 'norm_weight': 0.00012, 'distance': 0.16667, 'norm_distance': 8333.33333}), ('ἔχω', 'οἶδα', {'weight': 8, 'norm_weight': 0.00017, 'distance': 0.125, 'norm_distance': 5882.35294}), ('ἔχω', 'γίγνομαι', {'weight': 3, 'norm_weight': 6e-05, 'distance': 0.33333, 'norm_distance': 16666.66667}), ('ἔχω', 'θεός', {'weight': 31, 'norm_weight': 0.00064, 'distance': 0.03226, 'norm_distance': 1562.5}), ('ἔχω', 'ἄνθρωπος', {'weight': 2, 'norm_weight': 4e-05, 'distance': 0.5, 'norm_distance': 25000.0}), ('ἔχω', 'σῶμα', {'weight': 14, 'norm_weight': 0.00029, 'distance': 0.07143, 'norm_distance': 3448.27586}), ('οὗτος', 'χάρις', {'weight': 4, 'norm_weight': 8e-05, 'distance': 0.25, 'norm_distance': 12500.0}), ('οὗτος', 'χριστός', {'weight': 18, 'norm_weight': 0.00037, 'distance': 0.05556, 'norm_distance': 2702.7027}), ('οὗτος', 'εὐαγγέλιον', {'weight': 3, 'norm_weight': 6e-05, 'distance': 0.33333, 'norm_distance': 16666.66667}), ('οὗτος', 'κύριος', {'weight': 14, 'norm_weight': 0.00029, 'distance': 0.07143, 'norm_distance': 3448.27586}), ('οὗτος', 'σάρξ', {'weight': 11, 'norm_weight': 0.00023, 'distance': 0.09091, 'norm_distance': 4347.82609}), ('οὗτος', 'νόμος', {'weight': 5, 'norm_weight': 0.0001, 'distance': 0.2, 'norm_distance': 10000.0}), ('οὗτος', 'κόσμος', {'weight': 3, 'norm_weight': 6e-05, 'distance': 0.33333, 'norm_distance': 16666.66667}), ('οὗτος', 'δίδωμι', {'weight': 3, 'norm_weight': 6e-05, 'distance': 0.33333, 'norm_distance': 16666.66667}), ('οὗτος', 'λόγος', {'weight': 9, 'norm_weight': 0.00019, 'distance': 0.11111, 'norm_distance': 5263.15789}), ('οὗτος', 'ἔθνος', {'weight': 3, 'norm_weight': 6e-05, 'distance': 0.33333, 'norm_distance': 16666.66667}), ('οὗτος', 'οἶδα', {'weight': 5, 'norm_weight': 0.0001, 'distance': 0.2, 'norm_distance': 10000.0}), ('οὗτος', 'γίγνομαι', {'weight': 8, 'norm_weight': 0.00017, 'distance': 0.125, 'norm_distance': 5882.35294}), ('οὗτος', 'θεός', {'weight': 24, 'norm_weight': 0.0005, 'distance': 0.04167, 'norm_distance': 2000.0}), ('οὗτος', 'ἄνθρωπος', {'weight': 10, 'norm_weight': 0.00021, 'distance': 0.1, 'norm_distance': 4761.90476}), ('οὗτος', 'σῶμα', {'weight': 11, 'norm_weight': 0.00023, 'distance': 0.09091, 'norm_distance': 4347.82609}), ('χάρις', 'χριστός', {'weight': 32, 'norm_weight': 0.00066, 'distance': 0.03125, 'norm_distance': 1515.15152}), ('χάρις', 'εὐαγγέλιον', {'weight': 7, 'norm_weight': 0.00014, 'distance': 0.14286, 'norm_distance': 7142.85714}), ('χάρις', 'κύριος', {'weight': 25, 'norm_weight': 0.00052, 'distance': 0.04, 'norm_distance': 1923.07692}), ('χάρις', 'σάρξ', {'weight': 2, 'norm_weight': 4e-05, 'distance': 0.5, 'norm_distance': 25000.0}), ('χάρις', 'νόμος', {'weight': 4, 'norm_weight': 8e-05, 'distance': 0.25, 'norm_distance': 12500.0}), ('χάρις', 'δίδωμι', {'weight': 13, 'norm_weight': 0.00027, 'distance': 0.07692, 'norm_distance': 3703.7037}), ('χάρις', 'λόγος', {'weight': 2, 'norm_weight': 4e-05, 'distance': 0.5, 'norm_distance': 25000.0}), ('χάρις', 'ἔθνος', {'weight': 6, 'norm_weight': 0.00012, 'distance': 0.16667, 'norm_distance': 8333.33333}), ('χάρις', 'ἅγιος', {'weight': 7, 'norm_weight': 0.00014, 'distance': 0.14286, 'norm_distance': 7142.85714}), ('χάρις', 'γίγνομαι', {'weight': 9, 'norm_weight': 0.00019, 'distance': 0.11111, 'norm_distance': 5263.15789}), ('χάρις', 'θεός', {'weight': 48, 'norm_weight': 0.00099, 'distance': 0.02083, 'norm_distance': 1010.10101}), ('χάρις', 'ἄνθρωπος', {'weight': 4, 'norm_weight': 8e-05, 'distance': 0.25, 'norm_distance': 12500.0}), ('χριστός', 'εὐαγγέλιον', {'weight': 27, 'norm_weight': 0.00056, 'distance': 0.03704, 'norm_distance': 1785.71429}), ('χριστός', 'κύριος', {'weight': 60, 'norm_weight': 0.00124, 'distance': 0.01667, 'norm_distance': 806.45161}), ('χριστός', 'σάρξ', {'weight': 21, 'norm_weight': 0.00043, 'distance': 0.04762, 'norm_distance': 2325.5814}), ('χριστός', 'νόμος', {'weight': 25, 'norm_weight': 0.00052, 'distance': 0.04, 'norm_distance': 1923.07692}), ('χριστός', 'κόσμος', {'weight': 8, 'norm_weight': 0.00017, 'distance': 0.125, 'norm_distance': 5882.35294}), ('χριστός', 'δίδωμι', {'weight': 13, 'norm_weight': 0.00027, 'distance': 0.07692, 'norm_distance': 3703.7037}), ('χριστός', 'λόγος', {'weight': 14, 'norm_weight': 0.00029, 'distance': 0.07143, 'norm_distance': 3448.27586}), ('χριστός', 'ἔθνος', {'weight': 18, 'norm_weight': 0.00037, 'distance': 0.05556, 'norm_distance': 2702.7027}), ('χριστός', 'ἅγιος', {'weight': 21, 'norm_weight': 0.00043, 'distance': 0.04762, 'norm_distance': 2325.5814}), ('χριστός', 'οἶδα', {'weight': 21, 'norm_weight': 0.00043, 'distance': 0.04762, 'norm_distance': 2325.5814}), ('χριστός', 'γίγνομαι', {'weight': 26, 'norm_weight': 0.00054, 'distance': 0.03846, 'norm_distance': 1851.85185}), ('χριστός', 'θεός', {'weight': 149, 'norm_weight': 0.00308, 'distance': 0.00671, 'norm_distance': 324.67532}), ('χριστός', 'ἄνθρωπος', {'weight': 16, 'norm_weight': 0.00033, 'distance': 0.0625, 'norm_distance': 3030.30303}), ('χριστός', 'σῶμα', {'weight': 19, 'norm_weight': 0.00039, 'distance': 0.05263, 'norm_distance': 2564.10256}), ('εὐαγγέλιον', 'κύριος', {'weight': 8, 'norm_weight': 0.00017, 'distance': 0.125, 'norm_distance': 5882.35294}), ('εὐαγγέλιον', 'δίδωμι', {'weight': 4, 'norm_weight': 8e-05, 'distance': 0.25, 'norm_distance': 12500.0}), ('εὐαγγέλιον', 'λόγος', {'weight': 4, 'norm_weight': 8e-05, 'distance': 0.25, 'norm_distance': 12500.0}), ('εὐαγγέλιον', 'ἔθνος', {'weight': 8, 'norm_weight': 0.00017, 'distance': 0.125, 'norm_distance': 5882.35294}), ('εὐαγγέλιον', 'ἅγιος', {'weight': 5, 'norm_weight': 0.0001, 'distance': 0.2, 'norm_distance': 10000.0}), ('εὐαγγέλιον', 'οἶδα', {'weight': 6, 'norm_weight': 0.00012, 'distance': 0.16667, 'norm_distance': 8333.33333}), ('εὐαγγέλιον', 'γίγνομαι', {'weight': 8, 'norm_weight': 0.00017, 'distance': 0.125, 'norm_distance': 5882.35294}), ('εὐαγγέλιον', 'θεός', {'weight': 31, 'norm_weight': 0.00064, 'distance': 0.03226, 'norm_distance': 1562.5}), ('εὐαγγέλιον', 'ἄνθρωπος', {'weight': 5, 'norm_weight': 0.0001, 'distance': 0.2, 'norm_distance': 10000.0}), ('κύριος', 'σάρξ', {'weight': 5, 'norm_weight': 0.0001, 'distance': 0.2, 'norm_distance': 10000.0}), ('κύριος', 'νόμος', {'weight': 2, 'norm_weight': 4e-05, 'distance': 0.5, 'norm_distance': 25000.0}), ('κύριος', 'κόσμος', {'weight': 3, 'norm_weight': 6e-05, 'distance': 0.33333, 'norm_distance': 16666.66667}), ('κύριος', 'δίδωμι', {'weight': 12, 'norm_weight': 0.00025, 'distance': 0.08333, 'norm_distance': 4000.0}), ('κύριος', 'λόγος', {'weight': 10, 'norm_weight': 0.00021, 'distance': 0.1, 'norm_distance': 4761.90476}), ('κύριος', 'ἔθνος', {'weight': 4, 'norm_weight': 8e-05, 'distance': 0.25, 'norm_distance': 12500.0}), ('κύριος', 'ἅγιος', {'weight': 15, 'norm_weight': 0.00031, 'distance': 0.06667, 'norm_distance': 3225.80645}), ('κύριος', 'οἶδα', {'weight': 14, 'norm_weight': 0.00029, 'distance': 0.07143, 'norm_distance': 3448.27586}), ('κύριος', 'γίγνομαι', {'weight': 16, 'norm_weight': 0.00033, 'distance': 0.0625, 'norm_distance': 3030.30303}), ('κύριος', 'θεός', {'weight': 71, 'norm_weight': 0.00147, 'distance': 0.01408, 'norm_distance': 680.27211}), ('κύριος', 'ἄνθρωπος', {'weight': 5, 'norm_weight': 0.0001, 'distance': 0.2, 'norm_distance': 10000.0}), ('κύριος', 'σῶμα', {'weight': 19, 'norm_weight': 0.00039, 'distance': 0.05263, 'norm_distance': 2564.10256}), ('σάρξ', 'νόμος', {'weight': 18, 'norm_weight': 0.00037, 'distance': 0.05556, 'norm_distance': 2702.7027}), ('σάρξ', 'κόσμος', {'weight': 3, 'norm_weight': 6e-05, 'distance': 0.33333, 'norm_distance': 16666.66667}), ('σάρξ', 'ἔθνος', {'weight': 4, 'norm_weight': 8e-05, 'distance': 0.25, 'norm_distance': 12500.0}), ('σάρξ', 'ἅγιος', {'weight': 2, 'norm_weight': 4e-05, 'distance': 0.5, 'norm_distance': 25000.0}), ('σάρξ', 'οἶδα', {'weight': 5, 'norm_weight': 0.0001, 'distance': 0.2, 'norm_distance': 10000.0}), ('σάρξ', 'θεός', {'weight': 30, 'norm_weight': 0.00062, 'distance': 0.03333, 'norm_distance': 1612.90323}), ('σάρξ', 'ἄνθρωπος', {'weight': 5, 'norm_weight': 0.0001, 'distance': 0.2, 'norm_distance': 10000.0}), ('σάρξ', 'σῶμα', {'weight': 4, 'norm_weight': 8e-05, 'distance': 0.25, 'norm_distance': 12500.0}), ('νόμος', 'κόσμος', {'weight': 5, 'norm_weight': 0.0001, 'distance': 0.2, 'norm_distance': 10000.0}), ('νόμος', 'δίδωμι', {'weight': 2, 'norm_weight': 4e-05, 'distance': 0.5, 'norm_distance': 25000.0}), ('νόμος', 'ἔθνος', {'weight': 8, 'norm_weight': 0.00017, 'distance': 0.125, 'norm_distance': 5882.35294}), ('νόμος', 'ἅγιος', {'weight': 2, 'norm_weight': 4e-05, 'distance': 0.5, 'norm_distance': 25000.0}), ('νόμος', 'οἶδα', {'weight': 8, 'norm_weight': 0.00017, 'distance': 0.125, 'norm_distance': 5882.35294}), ('νόμος', 'γίγνομαι', {'weight': 16, 'norm_weight': 0.00033, 'distance': 0.0625, 'norm_distance': 3030.30303}), ('νόμος', 'θεός', {'weight': 34, 'norm_weight': 0.0007, 'distance': 0.02941, 'norm_distance': 1428.57143}), ('νόμος', 'ἄνθρωπος', {'weight': 14, 'norm_weight': 0.00029, 'distance': 0.07143, 'norm_distance': 3448.27586}), ('κόσμος', 'λόγος', {'weight': 2, 'norm_weight': 4e-05, 'distance': 0.5, 'norm_distance': 25000.0}), ('κόσμος', 'οἶδα', {'weight': 4, 'norm_weight': 8e-05, 'distance': 0.25, 'norm_distance': 12500.0}), ('κόσμος', 'γίγνομαι', {'weight': 8, 'norm_weight': 0.00017, 'distance': 0.125, 'norm_distance': 5882.35294}), ('κόσμος', 'θεός', {'weight': 28, 'norm_weight': 0.00058, 'distance': 0.03571, 'norm_distance': 1724.13793}), ('κόσμος', 'ἄνθρωπος', {'weight': 3, 'norm_weight': 6e-05, 'distance': 0.33333, 'norm_distance': 16666.66667}), ('δίδωμι', 'λόγος', {'weight': 6, 'norm_weight': 0.00012, 'distance': 0.16667, 'norm_distance': 8333.33333}), ('δίδωμι', 'ἔθνος', {'weight': 6, 'norm_weight': 0.00012, 'distance': 0.16667, 'norm_distance': 8333.33333}), ('δίδωμι', 'ἅγιος', {'weight': 4, 'norm_weight': 8e-05, 'distance': 0.25, 'norm_distance': 12500.0}), ('δίδωμι', 'θεός', {'weight': 29, 'norm_weight': 0.0006, 'distance': 0.03448, 'norm_distance': 1666.66667}), ('δίδωμι', 'ἄνθρωπος', {'weight': 3, 'norm_weight': 6e-05, 'distance': 0.33333, 'norm_distance': 16666.66667}), ('δίδωμι', 'σῶμα', {'weight': 5, 'norm_weight': 0.0001, 'distance': 0.2, 'norm_distance': 10000.0}), ('λόγος', 'ἅγιος', {'weight': 4, 'norm_weight': 8e-05, 'distance': 0.25, 'norm_distance': 12500.0}), ('λόγος', 'οἶδα', {'weight': 5, 'norm_weight': 0.0001, 'distance': 0.2, 'norm_distance': 10000.0}), ('λόγος', 'γίγνομαι', {'weight': 11, 'norm_weight': 0.00023, 'distance': 0.09091, 'norm_distance': 4347.82609}), ('λόγος', 'θεός', {'weight': 33, 'norm_weight': 0.00068, 'distance': 0.0303, 'norm_distance': 1470.58824}), ('λόγος', 'ἄνθρωπος', {'weight': 8, 'norm_weight': 0.00017, 'distance': 0.125, 'norm_distance': 5882.35294}), ('ἔθνος', 'ἅγιος', {'weight': 5, 'norm_weight': 0.0001, 'distance': 0.2, 'norm_distance': 10000.0}), ('ἔθνος', 'οἶδα', {'weight': 4, 'norm_weight': 8e-05, 'distance': 0.25, 'norm_distance': 12500.0}), ('ἔθνος', 'γίγνομαι', {'weight': 10, 'norm_weight': 0.00021, 'distance': 0.1, 'norm_distance': 4761.90476}), ('ἔθνος', 'θεός', {'weight': 26, 'norm_weight': 0.00054, 'distance': 0.03846, 'norm_distance': 1851.85185}), ('ἔθνος', 'ἄνθρωπος', {'weight': 4, 'norm_weight': 8e-05, 'distance': 0.25, 'norm_distance': 12500.0}), ('ἅγιος', 'οἶδα', {'weight': 8, 'norm_weight': 0.00017, 'distance': 0.125, 'norm_distance': 5882.35294}), ('ἅγιος', 'γίγνομαι', {'weight': 10, 'norm_weight': 0.00021, 'distance': 0.1, 'norm_distance': 4761.90476}), ('ἅγιος', 'θεός', {'weight': 36, 'norm_weight': 0.00074, 'distance': 0.02778, 'norm_distance': 1351.35135}), ('ἅγιος', 'σῶμα', {'weight': 3, 'norm_weight': 6e-05, 'distance': 0.33333, 'norm_distance': 16666.66667}), ('οἶδα', 'γίγνομαι', {'weight': 11, 'norm_weight': 0.00023, 'distance': 0.09091, 'norm_distance': 4347.82609}), ('οἶδα', 'θεός', {'weight': 47, 'norm_weight': 0.00097, 'distance': 0.02128, 'norm_distance': 1030.92784}), ('οἶδα', 'ἄνθρωπος', {'weight': 16, 'norm_weight': 0.00033, 'distance': 0.0625, 'norm_distance': 3030.30303}), ('οἶδα', 'σῶμα', {'weight': 20, 'norm_weight': 0.00041, 'distance': 0.05, 'norm_distance': 2439.02439}), ('γίγνομαι', 'θεός', {'weight': 47, 'norm_weight': 0.00097, 'distance': 0.02128, 'norm_distance': 1030.92784}), ('γίγνομαι', 'ἄνθρωπος', {'weight': 10, 'norm_weight': 0.00021, 'distance': 0.1, 'norm_distance': 4761.90476}), ('γίγνομαι', 'σῶμα', {'weight': 3, 'norm_weight': 6e-05, 'distance': 0.33333, 'norm_distance': 16666.66667}), ('θεός', 'ἄνθρωπος', {'weight': 40, 'norm_weight': 0.00083, 'distance': 0.025, 'norm_distance': 1204.81928}), ('θεός', 'σῶμα', {'weight': 21, 'norm_weight': 0.00043, 'distance': 0.04762, 'norm_distance': 2325.5814}), ('ἄνθρωπος', 'σῶμα', {'weight': 9, 'norm_weight': 0.00019, 'distance': 0.11111, 'norm_distance': 5263.15789})])"
      ]
     },
     "execution_count": 127,
     "metadata": {},
     "output_type": "execute_result"
    }
   ],
   "source": [
    "ego_network_sentences = construct_ego_network(network_sentences, \"χριστός\", 30, reduced=False)\n",
    "ego_network_sentences.edges.data()"
   ]
  },
  {
   "cell_type": "code",
   "execution_count": 128,
   "metadata": {},
   "outputs": [
    {
     "name": "stdout",
     "output_type": "stream",
     "text": [
      "['Χριστός', 'Ἰησοῦς', 'κύριος', 'εἰμί', 'θεός', 'χάρις', 'πατήρ', 'νομός', 'πνεῦμα', 'ἰησοῦ.', 'εἰρήνη', 'ἔργον', 'αὐτός', 'οὗτος', 'δικαιοσύνη', 'πᾶς', 'οἶδα', 'υἱός', 'δύναμις', 'θέλημα', 'ἔχω', 'ἄνθρωπος', 'δίδωμι', 'σῶμα', 'εὐχαριστέω', 'γιγνώσκω', 'εἷς', 'ἐλεύθερος', 'εὐαγγέλιον', 'σάρξ', 'χριστός']\n",
      "['δόξα', 'ἀδελφός', 'πνεῦμα', 'υἱός', 'πίστις', 'ἐγείρω', 'πολύς', 'πατήρ', 'δύναμις', 'πᾶς', 'νεκρός', 'δικαιοσύνη', 'εἰμί', 'ἔχω', 'οὗτος', 'χάρις', 'χριστός', 'εὐαγγέλιον', 'κύριος', 'σάρξ', 'νόμος', 'κόσμος', 'δίδωμι', 'λόγος', 'ἔθνος', 'ἅγιος', 'οἶδα', 'γίγνομαι', 'θεός', 'ἄνθρωπος', 'σῶμα']\n"
     ]
    }
   ],
   "source": [
    "print(list(ego_network_bigrams.nodes())) \n",
    "print(list(ego_network_sentences.nodes()))"
   ]
  },
  {
   "cell_type": "code",
   "execution_count": 129,
   "metadata": {},
   "outputs": [
    {
     "data": {
      "text/plain": [
       "{'δίδωμι',\n",
       " 'δικαιοσύνη',\n",
       " 'δύναμις',\n",
       " 'εἰμί',\n",
       " 'εὐαγγέλιον',\n",
       " 'θεός',\n",
       " 'κύριος',\n",
       " 'οἶδα',\n",
       " 'οὗτος',\n",
       " 'πατήρ',\n",
       " 'πνεῦμα',\n",
       " 'πᾶς',\n",
       " 'σάρξ',\n",
       " 'σῶμα',\n",
       " 'υἱός',\n",
       " 'χάρις',\n",
       " 'χριστός',\n",
       " 'ἄνθρωπος',\n",
       " 'ἔχω'}"
      ]
     },
     "execution_count": 129,
     "metadata": {},
     "output_type": "execute_result"
    }
   ],
   "source": [
    "# overlap between the two networks\n",
    "set(ego_network_bigrams.nodes()) &  set(ego_network_sentences.nodes())"
   ]
  },
  {
   "cell_type": "code",
   "execution_count": 130,
   "metadata": {},
   "outputs": [
    {
     "data": {
      "text/plain": [
       "[['Χριστός', 'Ἰησοῦς', 83, 0.01205],\n",
       " ['Ἰησοῦς', 'κύριος', 55, 0.01818],\n",
       " ['εἰμί', 'θεός', 20, 0.05],\n",
       " ['θεός', 'χάρις', 20, 0.05],\n",
       " ['θεός', 'πατήρ', 18, 0.05556],\n",
       " ['εἰμί', 'νομός', 15, 0.06667],\n",
       " ['θεός', 'πνεῦμα', 15, 0.06667],\n",
       " ['Χριστός', 'ἰησοῦ.', 14, 0.07143],\n",
       " ['θεός', 'εἰρήνη', 13, 0.07692],\n",
       " ['νομός', 'ἔργον', 12, 0.08333],\n",
       " ['Χριστός', 'θεός', 11, 0.09091],\n",
       " ['κύριος', 'πατήρ', 11, 0.09091],\n",
       " ['εἰμί', 'αὐτός', 11, 0.09091],\n",
       " ['εἰμί', 'οὗτος', 11, 0.09091],\n",
       " ['Χριστός', 'εἰμί', 10, 0.1],\n",
       " ['εἰμί', 'πᾶς', 10, 0.1],\n",
       " ['θεός', 'δικαιοσύνη', 10, 0.1],\n",
       " ['θεός', 'πᾶς', 10, 0.1],\n",
       " ['θεός', 'οἶδα', 10, 0.1],\n",
       " ['εἰμί', 'σῶμα', 9, 0.11111],\n",
       " ['θεός', 'υἱός', 9, 0.11111],\n",
       " ['θεός', 'δύναμις', 9, 0.11111],\n",
       " ['θεός', 'θέλημα', 9, 0.11111],\n",
       " ['θεός', 'ἔχω', 9, 0.11111],\n",
       " ['θεός', 'δίδωμι', 9, 0.11111],\n",
       " ['πᾶς', 'ἄνθρωπος', 9, 0.11111],\n",
       " ['κύριος', 'εἰμί', 8, 0.125],\n",
       " ['κύριος', 'χάρις', 8, 0.125],\n",
       " ['εἰμί', 'πνεῦμα', 8, 0.125],\n",
       " ['θεός', 'εὐχαριστέω', 8, 0.125],\n",
       " ['θεός', 'γιγνώσκω', 8, 0.125],\n",
       " ['θεός', 'νομός', 8, 0.125],\n",
       " ['οὗτος', 'σῶμα', 8, 0.125],\n",
       " ['εἰμί', 'ἄνθρωπος', 7, 0.14286],\n",
       " ['εἰμί', 'εἷς', 7, 0.14286],\n",
       " ['εἰμί', 'ἐλεύθερος', 7, 0.14286],\n",
       " ['χάρις', 'εἰρήνη', 7, 0.14286],\n",
       " ['νομός', 'δικαιοσύνη', 7, 0.14286],\n",
       " ['κύριος', 'πᾶς', 6, 0.16667],\n",
       " ['εἰμί', 'σάρξ', 6, 0.16667],\n",
       " ['θεός', 'εὐαγγέλιον', 6, 0.16667],\n",
       " ['πνεῦμα', 'δύναμις', 6, 0.16667],\n",
       " ['πνεῦμα', 'σάρξ', 6, 0.16667],\n",
       " ['πνεῦμα', 'αὐτός', 6, 0.16667],\n",
       " ['πνεῦμα', 'εἷς', 6, 0.16667],\n",
       " ['οἶδα', 'σῶμα', 6, 0.16667],\n",
       " ['χριστός', 'εὐαγγέλιον', 6, 0.16667],\n",
       " ['Χριστός', 'κύριος', 5, 0.2],\n",
       " ['Χριστός', 'πᾶς', 5, 0.2],\n",
       " ['Χριστός', 'δίδωμι', 5, 0.2],\n",
       " ['Χριστός', 'πνεῦμα', 5, 0.2],\n",
       " ['Χριστός', 'ἔχω', 5, 0.2],\n",
       " ['Ἰησοῦς', 'θεός', 5, 0.2],\n",
       " ['εἰμί', 'πατήρ', 5, 0.2],\n",
       " ['εἰμί', 'υἱός', 5, 0.2],\n",
       " ['χάρις', 'δίδωμι', 5, 0.2],\n",
       " ['αὐτός', 'οὗτος', 5, 0.2],\n",
       " ['πᾶς', 'ἔχω', 5, 0.2],\n",
       " ['κύριος', 'αὐτός', 4, 0.25],\n",
       " ['κύριος', 'δίδωμι', 4, 0.25],\n",
       " ['κύριος', 'ἄνθρωπος', 4, 0.25],\n",
       " ['εἰμί', 'ἔχω', 4, 0.25],\n",
       " ['χριστός', 'εἰμί', 4, 0.25],\n",
       " ['θεός', 'εἷς', 4, 0.25],\n",
       " ['θεός', 'ἄνθρωπος', 4, 0.25],\n",
       " ['θεός', 'αὐτός', 4, 0.25],\n",
       " ['αὐτός', 'πᾶς', 4, 0.25],\n",
       " ['πᾶς', 'εἷς', 4, 0.25],\n",
       " ['σῶμα', 'εἷς', 4, 0.25],\n",
       " ['Χριστός', 'σῶμα', 3, 0.33333],\n",
       " ['Χριστός', 'οὗτος', 3, 0.33333],\n",
       " ['Ἰησοῦς', 'εὐχαριστέω', 3, 0.33333],\n",
       " ['Ἰησοῦς', 'πᾶς', 3, 0.33333],\n",
       " ['Ἰησοῦς', 'πνεῦμα', 3, 0.33333],\n",
       " ['Ἰησοῦς', 'σῶμα', 3, 0.33333],\n",
       " ['χριστός', 'Ἰησοῦς', 3, 0.33333],\n",
       " ['κύριος', 'θεός', 3, 0.33333],\n",
       " ['κύριος', 'ἔχω', 3, 0.33333],\n",
       " ['κύριος', 'ἔργον', 3, 0.33333],\n",
       " ['κύριος', 'πνεῦμα', 3, 0.33333],\n",
       " ['εἰμί', 'χάρις', 3, 0.33333],\n",
       " ['θεός', 'σάρξ', 3, 0.33333],\n",
       " ['χάρις', 'πᾶς', 3, 0.33333],\n",
       " ['νομός', 'οἶδα', 3, 0.33333],\n",
       " ['πνεῦμα', 'ἔχω', 3, 0.33333],\n",
       " ['πνεῦμα', 'πᾶς', 3, 0.33333],\n",
       " ['αὐτός', 'οἶδα', 3, 0.33333],\n",
       " ['οὗτος', 'σάρξ', 3, 0.33333],\n",
       " ['χριστός', 'σῶμα', 3, 0.33333],\n",
       " ['Χριστός', 'νομός', 2, 0.5],\n",
       " ['Χριστός', 'δικαιοσύνη', 2, 0.5],\n",
       " ['Χριστός', 'σάρξ', 2, 0.5],\n",
       " ['Χριστός', 'πατήρ', 2, 0.5],\n",
       " ['Χριστός', 'γιγνώσκω', 2, 0.5],\n",
       " ['Χριστός', 'χάρις', 2, 0.5],\n",
       " ['Ἰησοῦς', 'ἄνθρωπος', 2, 0.5],\n",
       " ['Ἰησοῦς', 'οἶδα', 2, 0.5],\n",
       " ['Ἰησοῦς', 'σάρξ', 2, 0.5],\n",
       " ['κύριος', 'γιγνώσκω', 2, 0.5],\n",
       " ['κύριος', 'οἶδα', 2, 0.5],\n",
       " ['εἰμί', 'οἶδα', 2, 0.5],\n",
       " ['εἰμί', 'εἰρήνη', 2, 0.5],\n",
       " ['θεός', 'οὗτος', 2, 0.5],\n",
       " ['θεός', 'σῶμα', 2, 0.5],\n",
       " ['χριστός', 'θεός', 2, 0.5],\n",
       " ['χάρις', 'νομός', 2, 0.5],\n",
       " ['χάρις', 'οὗτος', 2, 0.5],\n",
       " ['χάρις', 'ἔργον', 2, 0.5],\n",
       " ['χάρις', 'γιγνώσκω', 2, 0.5],\n",
       " ['πατήρ', 'πᾶς', 2, 0.5],\n",
       " ['νομός', 'ἔχω', 2, 0.5],\n",
       " ['νομός', 'σάρξ', 2, 0.5],\n",
       " ['νομός', 'γιγνώσκω', 2, 0.5],\n",
       " ['νομός', 'πνεῦμα', 2, 0.5],\n",
       " ['νομός', 'αὐτός', 2, 0.5],\n",
       " ['πνεῦμα', 'ἄνθρωπος', 2, 0.5],\n",
       " ['πνεῦμα', 'δίδωμι', 2, 0.5],\n",
       " ['ἰησοῦ.', 'οὗτος', 2, 0.5],\n",
       " ['ἔργον', 'ἄνθρωπος', 2, 0.5],\n",
       " ['ἔργον', 'δύναμις', 2, 0.5],\n",
       " ['αὐτός', 'υἱός', 2, 0.5],\n",
       " ['αὐτός', 'σάρξ', 2, 0.5],\n",
       " ['οὗτος', 'ἄνθρωπος', 2, 0.5],\n",
       " ['οὗτος', 'ἔχω', 2, 0.5],\n",
       " ['οὗτος', 'πᾶς', 2, 0.5],\n",
       " ['οὗτος', 'δίδωμι', 2, 0.5],\n",
       " ['οὗτος', 'οἶδα', 2, 0.5],\n",
       " ['οὗτος', 'εὐχαριστέω', 2, 0.5],\n",
       " ['οὗτος', 'θέλημα', 2, 0.5],\n",
       " ['δικαιοσύνη', 'πᾶς', 2, 0.5],\n",
       " ['πᾶς', 'ἐλεύθερος', 2, 0.5],\n",
       " ['πᾶς', 'δύναμις', 2, 0.5],\n",
       " ['πᾶς', 'σάρξ', 2, 0.5],\n",
       " ['οἶδα', 'ἄνθρωπος', 2, 0.5],\n",
       " ['ἄνθρωπος', 'σῶμα', 2, 0.5],\n",
       " ['δίδωμι', 'γιγνώσκω', 2, 0.5],\n",
       " ['γιγνώσκω', 'σάρξ', 2, 0.5]]"
      ]
     },
     "execution_count": 130,
     "metadata": {},
     "output_type": "execute_result"
    }
   ],
   "source": [
    "extract_ego_network_data(ego_network_bigrams, \"χριστός\")"
   ]
  },
  {
   "cell_type": "code",
   "execution_count": 131,
   "metadata": {},
   "outputs": [],
   "source": [
    "def draw_2d_network(networkx_object):\n",
    "    '''take networkX object and draw it'''\n",
    "    pos_2d=nx.kamada_kawai_layout(networkx_object, weight=\"weight_norm\")\n",
    "    nx.set_node_attributes(networkx_object, pos_2d, \"pos_2d\")\n",
    "    dmin=1\n",
    "    ncenter=0\n",
    "    Edges = list(networkx_object.edges)\n",
    "    L=len(Edges)\n",
    "    labels= list(networkx_object.nodes)\n",
    "    N = len(labels)\n",
    "    distance_list = [float(distance[2]) for distance in list(networkx_object.edges.data(\"distance\"))]\n",
    "    weight_list = [int(float(weight[2])) for weight in list(networkx_object.edges.data(\"weight\"))]\n",
    "    for n in pos_2d:\n",
    "        x,y=pos_2d[n]\n",
    "        d=(x-0.5)**2+(y-0.5)**2\n",
    "        if d<dmin:\n",
    "            ncenter=n\n",
    "            dmin=d\n",
    "    p =nx.single_source_shortest_path_length(networkx_object, ncenter)\n",
    "    adjc= [len(one_adjc) for one_adjc in list((nx.generate_adjlist(networkx_object)))]\n",
    "    middle_node_trace = go.Scatter(\n",
    "        x=[],\n",
    "        y=[],\n",
    "        opacity=0,\n",
    "        text=weight_list,\n",
    "        mode='markers',\n",
    "        hoverinfo='text',\n",
    "        marker=dict(\n",
    "            opacity=0\n",
    "            )\n",
    "        )\n",
    "    for Edge in Edges:\n",
    "        x0,y0 = networkx_object.nodes[Edge[0]][\"pos_2d\"]\n",
    "        x1,y1 = networkx_object.nodes[Edge[1]][\"pos_2d\"]\n",
    "        middle_node_trace['x'] += tuple([(x0+x1)/2])\n",
    "        middle_node_trace['y'] += tuple([(y0+y1)/2])\n",
    "    edge_trace1 = go.Scatter(\n",
    "        x=[], y=[],\n",
    "        #hoverinfo='none',\n",
    "        mode='lines',\n",
    "        line=dict(width=1,color=\"#000000\"),\n",
    "        )\n",
    "    edge_trace2 = go.Scatter(\n",
    "        x=[],y=[],\n",
    "        #hoverinfo='none',\n",
    "        mode='lines',\n",
    "        line=dict(width=0.7,color=\"#404040\"),\n",
    "        )\n",
    "    edge_trace3 = go.Scatter(\n",
    "        x=[], y=[],\n",
    "        #hoverinfo='none',\n",
    "        mode='lines',\n",
    "        line=dict(width=0.5,color=\"#C0C0C0\"),\n",
    "        )\n",
    "    best_5percent_norm_weight = sorted(list(networkx_object.edges.data(\"norm_weight\")), key=lambda x: x[2], reverse=True)[int((len(networkx_object.edges.data(\"norm_weight\")) / 100) * 5)][2]\n",
    "    best_20percent_norm_weight = sorted(list(networkx_object.edges.data(\"norm_weight\")), key=lambda x: x[2], reverse=True)[int((len(networkx_object.edges.data(\"norm_weight\")) / 100) * 20)][2]\n",
    "    for edge in networkx_object.edges.data():\n",
    "        if edge[2][\"norm_weight\"] >= best_5percent_norm_weight:\n",
    "            x0, y0 = networkx_object.nodes[edge[0]]['pos_2d']\n",
    "            x1, y1 = networkx_object.nodes[edge[1]]['pos_2d']\n",
    "            edge_trace1['x'] += tuple([x0, x1, None])\n",
    "            edge_trace1['y'] += tuple([y0, y1, None])\n",
    "        else:\n",
    "            if edge[2][\"norm_weight\"] >= best_20percent_norm_weight:\n",
    "                x0, y0 = networkx_object.nodes[edge[0]]['pos_2d']\n",
    "                x1, y1 = networkx_object.nodes[edge[1]]['pos_2d']\n",
    "                edge_trace2['x'] += tuple([x0, x1, None])\n",
    "                edge_trace2['y'] += tuple([y0, y1, None])\n",
    "            else:\n",
    "                x0, y0 = networkx_object.nodes[edge[0]]['pos_2d']\n",
    "                x1, y1 = networkx_object.nodes[edge[1]]['pos_2d']\n",
    "                edge_trace3['x'] += tuple([x0, x1, None])\n",
    "                edge_trace3['y'] += tuple([y0, y1, None])\n",
    "\n",
    "    node_trace = go.Scatter(\n",
    "        x=[],\n",
    "        y=[],\n",
    "        #name=[],\n",
    "        text=[],\n",
    "        textposition='bottom center',\n",
    "        mode='markers+text',\n",
    "        hovertext=adjc,\n",
    "        hoverinfo='text',\n",
    "        marker=dict(\n",
    "            ###showscale=True,\n",
    "            showscale=False, ### change to see scale\n",
    "            colorscale='Greys',\n",
    "            reversescale=True,\n",
    "            color=[],\n",
    "            size=7,\n",
    "            colorbar=dict(\n",
    "                thickness=15,\n",
    "                title='degree',\n",
    "                xanchor='left',\n",
    "                titleside='right'\n",
    "                ),\n",
    "            line=dict(width=1)\n",
    "            )\n",
    "        )\n",
    "\n",
    "    for node in networkx_object.nodes():\n",
    "        x, y = networkx_object.nodes[node]['pos_2d']\n",
    "        node_trace['x'] += tuple([x])\n",
    "        node_trace['y'] += tuple([y])\n",
    "        node_trace[\"text\"] += tuple([node])\n",
    "        ### original version: node_trace[\"text\"] += tuple([node])\n",
    "\n",
    "    ### Color Node Points\n",
    "    for node, adjacencies in enumerate(nx.generate_adjlist(networkx_object)):\n",
    "        node_trace['marker']['color'] += tuple([len(adjacencies)])\n",
    "        ###node_info = ' of connections: '+str(len(adjacencies))\n",
    "        ###node_trace['something'].append(node_info)\n",
    "\n",
    "    fig = go.Figure(data=[edge_trace1, edge_trace2, edge_trace3, node_trace, middle_node_trace],\n",
    "        layout=go.Layout(\n",
    "            plot_bgcolor='rgba(0,0,0,0)',\n",
    "            autosize=False,\n",
    "            width=500,\n",
    "            height=500,\n",
    "            #title=file_name,\n",
    "            titlefont=dict(size=16),\n",
    "            showlegend=False,\n",
    "            hovermode='closest',\n",
    "            margin=dict(b=10,l=10,r=10, t=10),\n",
    "            xaxis=dict(showgrid=False, zeroline=False, showticklabels=False),\n",
    "            yaxis=dict(showgrid=False, zeroline=False, showticklabels=False)\n",
    "            ))\n",
    "    return fig\n",
    "\n",
    "def draw_3d_network(networkx_object):\n",
    "    '''take networkX object and draw it in 3D'''\n",
    "    Edges = list(networkx_object.edges)\n",
    "    L=len(Edges)\n",
    "    distance_list = [distance[2] for distance in list(networkx_object.edges.data(\"distance\"))]\n",
    "    weight_list = [int(float(weight[2])) for weight in list(networkx_object.edges.data(\"weight\"))]\n",
    "    labels= list(networkx_object.nodes)\n",
    "    N = len(labels)\n",
    "    adjc= [len(one_adjc) for one_adjc in list((nx.generate_adjlist(networkx_object)))] ### instead of \"group\"\n",
    "    pos_3d=nx.spring_layout(networkx_object, weight=\"weight\", dim=3)\n",
    "    nx.set_node_attributes(networkx_object, pos_3d, \"pos_3d\")\n",
    "    layt = [list(array) for array in pos_3d.values()]\n",
    "    N= len(networkx_object.nodes)\n",
    "    Xn=[layt[k][0] for k in range(N)]# x-coordinates of nodes\n",
    "    Yn=[layt[k][1] for k in range(N)]# y-coordinates\n",
    "    Zn=[layt[k][2] for k in range(N)]# z-coordinates\n",
    "    Xe=[]\n",
    "    Ye=[]\n",
    "    Ze=[]\n",
    "    for Edge in Edges:\n",
    "        Xe+=[networkx_object.nodes[Edge[0]][\"pos_3d\"][0],networkx_object.nodes[Edge[1]][\"pos_3d\"][0], None]# x-coordinates of edge ends\n",
    "        Ye+=[networkx_object.nodes[Edge[0]][\"pos_3d\"][1],networkx_object.nodes[Edge[1]][\"pos_3d\"][1], None]\n",
    "        Ze+=[networkx_object.nodes[Edge[0]][\"pos_3d\"][2],networkx_object.nodes[Edge[1]][\"pos_3d\"][2], None]\n",
    "\n",
    "        ### to get the hover into the middle of the line\n",
    "        ### we have to produce a node in the middle of the line\n",
    "        ### based on https://stackoverflow.com/questions/46037897/line-hover-text-in-plotly\n",
    "\n",
    "    middle_node_trace = go.Scatter3d(\n",
    "            x=[],\n",
    "            y=[],\n",
    "            z=[],\n",
    "            opacity=0,\n",
    "            text=weight_list,\n",
    "            mode='markers',\n",
    "            hoverinfo='text',\n",
    "            marker=dict(\n",
    "                opacity=0\n",
    "            )\n",
    "        )\n",
    "\n",
    "    for Edge in Edges:\n",
    "        x0,y0,z0 = networkx_object.nodes[Edge[0]][\"pos_3d\"]\n",
    "        x1,y1,z1 = networkx_object.nodes[Edge[1]][\"pos_3d\"]\n",
    "        ###trace3['x'] += [x0, x1, None]\n",
    "        ###trace3['y'] += [y0, y1, None]\n",
    "        ###trace3['z'] += [z0, z1, None]\n",
    "        ###trace3_list.append(trace3)\n",
    "        middle_node_trace['x'] += tuple([(x0+x1)/2])\n",
    "        middle_node_trace['y'] += tuple([(y0+y1)/2])#.append((y0+y1)/2)\n",
    "        middle_node_trace['z'] += tuple([(z0+z1)/2])#.append((z0+z1)/2)\n",
    "        \n",
    "    ### edge trace\n",
    "    trace1=go.Scatter3d(x=Xe,\n",
    "                       y=Ye,\n",
    "                       z=Ze,\n",
    "                       mode='lines',\n",
    "                       line=dict(color='rgb(125,125,125)', width=1),\n",
    "                       text=distance_list,\n",
    "                       hoverinfo='text',\n",
    "                       textposition=\"top right\"\n",
    "                       )\n",
    "    ### node trace\n",
    "    trace2=go.Scatter3d(x=Xn,\n",
    "                       y=Yn,\n",
    "                       z=Zn,\n",
    "                       mode='markers+text',\n",
    "                       ###name=labels,\n",
    "                       marker=dict(symbol='circle',\n",
    "                                     size=6,\n",
    "                                     color=adjc,\n",
    "                                     colorscale='Earth',\n",
    "                                     reversescale=True,\n",
    "                                     line=dict(color='rgb(50,50,50)', width=0.5)\n",
    "                                     ),\n",
    "                       text=[],\n",
    "                       #textposition='bottom center',\n",
    "                       #hovertext=adjc,\n",
    "                       #hoverinfo='text'\n",
    "                       )\n",
    "    for node in networkx_object.nodes():\n",
    "        trace2[\"text\"] += tuple([node])\n",
    "    \n",
    "    axis=dict(showbackground=False,\n",
    "                  showline=False,\n",
    "                  zeroline=False,\n",
    "                  showgrid=False,\n",
    "                  showticklabels=False,\n",
    "                  title=''\n",
    "                  )\n",
    "    layout = go.Layout(\n",
    "                plot_bgcolor='rgba(0,0,0,0)',\n",
    "                 title=\"\",\n",
    "                 width=900,\n",
    "                 height=700,\n",
    "                 showlegend=False,\n",
    "                 scene=dict(\n",
    "                     xaxis=dict(axis),\n",
    "                     yaxis=dict(axis),\n",
    "                     zaxis=dict(axis),\n",
    "                ),\n",
    "             margin=dict(\n",
    "                t=100\n",
    "            ),\n",
    "            hovermode='closest',\n",
    "            annotations=[\n",
    "                   dict(\n",
    "                   showarrow=False,\n",
    "                    text=\"\",\n",
    "                    xref='paper',\n",
    "                    yref='paper',\n",
    "                    x=0,\n",
    "                    y=0.1,\n",
    "                    xanchor='left',\n",
    "                    yanchor='bottom',\n",
    "                    font=dict(\n",
    "                    size=14\n",
    "                    )\n",
    "                    )\n",
    "                ],    )\n",
    "    data=[trace1, trace2, middle_node_trace]\n",
    "    fig=go.Figure(data=data, layout=layout)\n",
    "    return fig"
   ]
  },
  {
   "cell_type": "code",
   "execution_count": 132,
   "metadata": {},
   "outputs": [],
   "source": [
    "def configure_plotly_browser_state():\n",
    "  import IPython\n",
    "  display(IPython.core.display.HTML('''\n",
    "        <script src=\"/static/components/requirejs/require.js\"></script>\n",
    "        <script>\n",
    "          requirejs.config({\n",
    "            paths: {\n",
    "              base: '/static/base',\n",
    "              plotly: 'https://cdn.plot.ly/plotly-latest.min.js?noext',\n",
    "            },\n",
    "          });\n",
    "        </script>\n",
    "        '''))"
   ]
  },
  {
   "cell_type": "code",
   "execution_count": 133,
   "metadata": {},
   "outputs": [
    {
     "data": {
      "text/plain": [
       "EdgeDataView([('Χριστός', 'Ἰησοῦς', {'weight': 83, 'norm_weight': 0.007599340780076909, 'distance': 0.01205, 'norm_distance': 131.59036}), ('Χριστός', 'θεός', {'weight': 11, 'norm_weight': 0.0010071415491668192, 'distance': 0.09091, 'norm_distance': 992.90909}), ('Χριστός', 'εἰμί', {'weight': 10, 'norm_weight': 0.0009155832265152902, 'distance': 0.1, 'norm_distance': 1092.2}), ('Χριστός', 'κύριος', {'weight': 5, 'norm_weight': 0.0004577916132576451, 'distance': 0.2, 'norm_distance': 2184.4}), ('Χριστός', 'πᾶς', {'weight': 5, 'norm_weight': 0.0004577916132576451, 'distance': 0.2, 'norm_distance': 2184.4}), ('Χριστός', 'δίδωμι', {'weight': 5, 'norm_weight': 0.0004577916132576451, 'distance': 0.2, 'norm_distance': 2184.4}), ('Χριστός', 'πνεῦμα', {'weight': 5, 'norm_weight': 0.0004577916132576451, 'distance': 0.2, 'norm_distance': 2184.4}), ('Χριστός', 'ἔχω', {'weight': 5, 'norm_weight': 0.0004577916132576451, 'distance': 0.2, 'norm_distance': 2184.4}), ('Χριστός', 'πίστις', {'weight': 5, 'norm_weight': 0.0004577916132576451, 'distance': 0.2, 'norm_distance': 2184.4}), ('Χριστός', 'οὗτος', {'weight': 3, 'norm_weight': 0.00027467496795458707, 'distance': 0.33333, 'norm_distance': 3640.66667}), ('Χριστός', 'δόξα', {'weight': 3, 'norm_weight': 0.00027467496795458707, 'distance': 0.33333, 'norm_distance': 3640.66667}), ('Χριστός', 'νομός', {'weight': 2, 'norm_weight': 0.00018311664530305805, 'distance': 0.5, 'norm_distance': 5461.0}), ('Χριστός', 'δικαιοσύνη', {'weight': 2, 'norm_weight': 0.00018311664530305805, 'distance': 0.5, 'norm_distance': 5461.0}), ('Χριστός', 'πατήρ', {'weight': 2, 'norm_weight': 0.00018311664530305805, 'distance': 0.5, 'norm_distance': 5461.0}), ('Χριστός', 'γιγνώσκω', {'weight': 2, 'norm_weight': 0.00018311664530305805, 'distance': 0.5, 'norm_distance': 5461.0}), ('Χριστός', 'χάρις', {'weight': 2, 'norm_weight': 0.00018311664530305805, 'distance': 0.5, 'norm_distance': 5461.0}), ('Χριστός', 'ἅγιος', {'weight': 2, 'norm_weight': 0.00018311664530305805, 'distance': 0.5, 'norm_distance': 5461.0}), ('Ἰησοῦς', 'κύριος', {'weight': 55, 'norm_weight': 0.005035707745834096, 'distance': 0.01818, 'norm_distance': 198.58182}), ('Ἰησοῦς', 'θεός', {'weight': 5, 'norm_weight': 0.0004577916132576451, 'distance': 0.2, 'norm_distance': 2184.4}), ('Ἰησοῦς', 'εὐχαριστέω', {'weight': 3, 'norm_weight': 0.00027467496795458707, 'distance': 0.33333, 'norm_distance': 3640.66667}), ('Ἰησοῦς', 'πᾶς', {'weight': 3, 'norm_weight': 0.00027467496795458707, 'distance': 0.33333, 'norm_distance': 3640.66667}), ('Ἰησοῦς', 'πνεῦμα', {'weight': 3, 'norm_weight': 0.00027467496795458707, 'distance': 0.33333, 'norm_distance': 3640.66667}), ('Ἰησοῦς', 'πίστις', {'weight': 2, 'norm_weight': 0.00018311664530305805, 'distance': 0.5, 'norm_distance': 5461.0}), ('Ἰησοῦς', 'οἶδα', {'weight': 2, 'norm_weight': 0.00018311664530305805, 'distance': 0.5, 'norm_distance': 5461.0}), ('κύριος', 'πατήρ', {'weight': 11, 'norm_weight': 0.0010071415491668192, 'distance': 0.09091, 'norm_distance': 992.90909}), ('κύριος', 'εἰμί', {'weight': 8, 'norm_weight': 0.0007324665812122322, 'distance': 0.125, 'norm_distance': 1365.25}), ('κύριος', 'χάρις', {'weight': 8, 'norm_weight': 0.0007324665812122322, 'distance': 0.125, 'norm_distance': 1365.25}), ('κύριος', 'πᾶς', {'weight': 6, 'norm_weight': 0.0005493499359091741, 'distance': 0.16667, 'norm_distance': 1820.33333}), ('κύριος', 'αὐτός', {'weight': 4, 'norm_weight': 0.0003662332906061161, 'distance': 0.25, 'norm_distance': 2730.5}), ('κύριος', 'δόξα', {'weight': 4, 'norm_weight': 0.0003662332906061161, 'distance': 0.25, 'norm_distance': 2730.5}), ('κύριος', 'δίδωμι', {'weight': 4, 'norm_weight': 0.0003662332906061161, 'distance': 0.25, 'norm_distance': 2730.5}), ('κύριος', 'θεός', {'weight': 3, 'norm_weight': 0.00027467496795458707, 'distance': 0.33333, 'norm_distance': 3640.66667}), ('κύριος', 'ἔχω', {'weight': 3, 'norm_weight': 0.00027467496795458707, 'distance': 0.33333, 'norm_distance': 3640.66667}), ('κύριος', 'ἔργον', {'weight': 3, 'norm_weight': 0.00027467496795458707, 'distance': 0.33333, 'norm_distance': 3640.66667}), ('κύριος', 'πνεῦμα', {'weight': 3, 'norm_weight': 0.00027467496795458707, 'distance': 0.33333, 'norm_distance': 3640.66667}), ('κύριος', 'γιγνώσκω', {'weight': 2, 'norm_weight': 0.00018311664530305805, 'distance': 0.5, 'norm_distance': 5461.0}), ('κύριος', 'οἶδα', {'weight': 2, 'norm_weight': 0.00018311664530305805, 'distance': 0.5, 'norm_distance': 5461.0}), ('εἰμί', 'θεός', {'weight': 20, 'norm_weight': 0.0018311664530305805, 'distance': 0.05, 'norm_distance': 546.1}), ('εἰμί', 'νομός', {'weight': 15, 'norm_weight': 0.0013733748397729353, 'distance': 0.06667, 'norm_distance': 728.13333}), ('εἰμί', 'αὐτός', {'weight': 11, 'norm_weight': 0.0010071415491668192, 'distance': 0.09091, 'norm_distance': 992.90909}), ('εἰμί', 'οὗτος', {'weight': 11, 'norm_weight': 0.0010071415491668192, 'distance': 0.09091, 'norm_distance': 992.90909}), ('εἰμί', 'πᾶς', {'weight': 10, 'norm_weight': 0.0009155832265152902, 'distance': 0.1, 'norm_distance': 1092.2}), ('εἰμί', 'πνεῦμα', {'weight': 8, 'norm_weight': 0.0007324665812122322, 'distance': 0.125, 'norm_distance': 1365.25}), ('εἰμί', 'ἁμαρτία', {'weight': 5, 'norm_weight': 0.0004577916132576451, 'distance': 0.2, 'norm_distance': 2184.4}), ('εἰμί', 'πατήρ', {'weight': 5, 'norm_weight': 0.0004577916132576451, 'distance': 0.2, 'norm_distance': 2184.4}), ('εἰμί', 'υἱός', {'weight': 5, 'norm_weight': 0.0004577916132576451, 'distance': 0.2, 'norm_distance': 2184.4}), ('εἰμί', 'ἔχω', {'weight': 4, 'norm_weight': 0.0003662332906061161, 'distance': 0.25, 'norm_distance': 2730.5}), ('εἰμί', 'ἅγιος', {'weight': 4, 'norm_weight': 0.0003662332906061161, 'distance': 0.25, 'norm_distance': 2730.5}), ('εἰμί', 'χάρις', {'weight': 3, 'norm_weight': 0.00027467496795458707, 'distance': 0.33333, 'norm_distance': 3640.66667}), ('εἰμί', 'πίστις', {'weight': 2, 'norm_weight': 0.00018311664530305805, 'distance': 0.5, 'norm_distance': 5461.0}), ('εἰμί', 'οἶδα', {'weight': 2, 'norm_weight': 0.00018311664530305805, 'distance': 0.5, 'norm_distance': 5461.0}), ('εἰμί', 'εἰρήνη', {'weight': 2, 'norm_weight': 0.00018311664530305805, 'distance': 0.5, 'norm_distance': 5461.0}), ('θεός', 'χάρις', {'weight': 20, 'norm_weight': 0.0018311664530305805, 'distance': 0.05, 'norm_distance': 546.1}), ('θεός', 'πατήρ', {'weight': 18, 'norm_weight': 0.0016480498077275224, 'distance': 0.05556, 'norm_distance': 606.77778}), ('θεός', 'πνεῦμα', {'weight': 15, 'norm_weight': 0.0013733748397729353, 'distance': 0.06667, 'norm_distance': 728.13333}), ('θεός', 'εἰρήνη', {'weight': 13, 'norm_weight': 0.0011902581944698773, 'distance': 0.07692, 'norm_distance': 840.15385}), ('θεός', 'δικαιοσύνη', {'weight': 10, 'norm_weight': 0.0009155832265152902, 'distance': 0.1, 'norm_distance': 1092.2}), ('θεός', 'πᾶς', {'weight': 10, 'norm_weight': 0.0009155832265152902, 'distance': 0.1, 'norm_distance': 1092.2}), ('θεός', 'οἶδα', {'weight': 10, 'norm_weight': 0.0009155832265152902, 'distance': 0.1, 'norm_distance': 1092.2}), ('θεός', 'υἱός', {'weight': 9, 'norm_weight': 0.0008240249038637612, 'distance': 0.11111, 'norm_distance': 1213.55556}), ('θεός', 'δύναμις', {'weight': 9, 'norm_weight': 0.0008240249038637612, 'distance': 0.11111, 'norm_distance': 1213.55556}), ('θεός', 'θέλημα', {'weight': 9, 'norm_weight': 0.0008240249038637612, 'distance': 0.11111, 'norm_distance': 1213.55556}), ('θεός', 'ἔχω', {'weight': 9, 'norm_weight': 0.0008240249038637612, 'distance': 0.11111, 'norm_distance': 1213.55556}), ('θεός', 'δίδωμι', {'weight': 9, 'norm_weight': 0.0008240249038637612, 'distance': 0.11111, 'norm_distance': 1213.55556}), ('θεός', 'εὐχαριστέω', {'weight': 8, 'norm_weight': 0.0007324665812122322, 'distance': 0.125, 'norm_distance': 1365.25}), ('θεός', 'γιγνώσκω', {'weight': 8, 'norm_weight': 0.0007324665812122322, 'distance': 0.125, 'norm_distance': 1365.25}), ('θεός', 'νομός', {'weight': 8, 'norm_weight': 0.0007324665812122322, 'distance': 0.125, 'norm_distance': 1365.25}), ('θεός', 'δόξα', {'weight': 8, 'norm_weight': 0.0007324665812122322, 'distance': 0.125, 'norm_distance': 1365.25}), ('θεός', 'ἐκκλησία', {'weight': 8, 'norm_weight': 0.0007324665812122322, 'distance': 0.125, 'norm_distance': 1365.25}), ('θεός', 'ἀγαπάω', {'weight': 7, 'norm_weight': 0.0006409082585607032, 'distance': 0.14286, 'norm_distance': 1560.28571}), ('θεός', 'σοφία', {'weight': 7, 'norm_weight': 0.0006409082585607032, 'distance': 0.14286, 'norm_distance': 1560.28571}), ('θεός', 'πίστις', {'weight': 5, 'norm_weight': 0.0004577916132576451, 'distance': 0.2, 'norm_distance': 2184.4}), ('θεός', 'αὐτός', {'weight': 4, 'norm_weight': 0.0003662332906061161, 'distance': 0.25, 'norm_distance': 2730.5}), ('θεός', 'λογίζομαι', {'weight': 3, 'norm_weight': 0.00027467496795458707, 'distance': 0.33333, 'norm_distance': 3640.66667}), ('θεός', 'ἅγιος', {'weight': 2, 'norm_weight': 0.00018311664530305805, 'distance': 0.5, 'norm_distance': 5461.0}), ('θεός', 'οὗτος', {'weight': 2, 'norm_weight': 0.00018311664530305805, 'distance': 0.5, 'norm_distance': 5461.0}), ('χάρις', 'εἰρήνη', {'weight': 7, 'norm_weight': 0.0006409082585607032, 'distance': 0.14286, 'norm_distance': 1560.28571}), ('χάρις', 'δίδωμι', {'weight': 5, 'norm_weight': 0.0004577916132576451, 'distance': 0.2, 'norm_distance': 2184.4}), ('χάρις', 'πᾶς', {'weight': 3, 'norm_weight': 0.00027467496795458707, 'distance': 0.33333, 'norm_distance': 3640.66667}), ('χάρις', 'πίστις', {'weight': 2, 'norm_weight': 0.00018311664530305805, 'distance': 0.5, 'norm_distance': 5461.0}), ('χάρις', 'νομός', {'weight': 2, 'norm_weight': 0.00018311664530305805, 'distance': 0.5, 'norm_distance': 5461.0}), ('χάρις', 'οὗτος', {'weight': 2, 'norm_weight': 0.00018311664530305805, 'distance': 0.5, 'norm_distance': 5461.0}), ('χάρις', 'ἔργον', {'weight': 2, 'norm_weight': 0.00018311664530305805, 'distance': 0.5, 'norm_distance': 5461.0}), ('χάρις', 'γιγνώσκω', {'weight': 2, 'norm_weight': 0.00018311664530305805, 'distance': 0.5, 'norm_distance': 5461.0}), ('πατήρ', 'δόξα', {'weight': 3, 'norm_weight': 0.00027467496795458707, 'distance': 0.33333, 'norm_distance': 3640.66667}), ('πατήρ', 'πᾶς', {'weight': 2, 'norm_weight': 0.00018311664530305805, 'distance': 0.5, 'norm_distance': 5461.0}), ('νομός', 'ἔργον', {'weight': 12, 'norm_weight': 0.0010986998718183483, 'distance': 0.08333, 'norm_distance': 910.16667}), ('νομός', 'ἁμαρτία', {'weight': 9, 'norm_weight': 0.0008240249038637612, 'distance': 0.11111, 'norm_distance': 1213.55556}), ('νομός', 'δικαιοσύνη', {'weight': 7, 'norm_weight': 0.0006409082585607032, 'distance': 0.14286, 'norm_distance': 1560.28571}), ('νομός', 'πίστις', {'weight': 6, 'norm_weight': 0.0005493499359091741, 'distance': 0.16667, 'norm_distance': 1820.33333}), ('νομός', 'οἶδα', {'weight': 3, 'norm_weight': 0.00027467496795458707, 'distance': 0.33333, 'norm_distance': 3640.66667}), ('νομός', 'ἔχω', {'weight': 2, 'norm_weight': 0.00018311664530305805, 'distance': 0.5, 'norm_distance': 5461.0}), ('νομός', 'γιγνώσκω', {'weight': 2, 'norm_weight': 0.00018311664530305805, 'distance': 0.5, 'norm_distance': 5461.0}), ('νομός', 'πνεῦμα', {'weight': 2, 'norm_weight': 0.00018311664530305805, 'distance': 0.5, 'norm_distance': 5461.0}), ('νομός', 'αὐτός', {'weight': 2, 'norm_weight': 0.00018311664530305805, 'distance': 0.5, 'norm_distance': 5461.0}), ('πνεῦμα', 'ἅγιος', {'weight': 11, 'norm_weight': 0.0010071415491668192, 'distance': 0.09091, 'norm_distance': 992.90909}), ('πνεῦμα', 'δύναμις', {'weight': 6, 'norm_weight': 0.0005493499359091741, 'distance': 0.16667, 'norm_distance': 1820.33333}), ('πνεῦμα', 'αὐτός', {'weight': 6, 'norm_weight': 0.0005493499359091741, 'distance': 0.16667, 'norm_distance': 1820.33333}), ('πνεῦμα', 'ἔχω', {'weight': 3, 'norm_weight': 0.00027467496795458707, 'distance': 0.33333, 'norm_distance': 3640.66667}), ('πνεῦμα', 'πᾶς', {'weight': 3, 'norm_weight': 0.00027467496795458707, 'distance': 0.33333, 'norm_distance': 3640.66667}), ('πνεῦμα', 'δίδωμι', {'weight': 2, 'norm_weight': 0.00018311664530305805, 'distance': 0.5, 'norm_distance': 5461.0}), ('πνεῦμα', 'πίστις', {'weight': 2, 'norm_weight': 0.00018311664530305805, 'distance': 0.5, 'norm_distance': 5461.0}), ('ἔργον', 'πίστις', {'weight': 2, 'norm_weight': 0.00018311664530305805, 'distance': 0.5, 'norm_distance': 5461.0}), ('ἔργον', 'δύναμις', {'weight': 2, 'norm_weight': 0.00018311664530305805, 'distance': 0.5, 'norm_distance': 5461.0}), ('αὐτός', 'οὗτος', {'weight': 5, 'norm_weight': 0.0004577916132576451, 'distance': 0.2, 'norm_distance': 2184.4}), ('αὐτός', 'πᾶς', {'weight': 4, 'norm_weight': 0.0003662332906061161, 'distance': 0.25, 'norm_distance': 2730.5}), ('αὐτός', 'οἶδα', {'weight': 3, 'norm_weight': 0.00027467496795458707, 'distance': 0.33333, 'norm_distance': 3640.66667}), ('αὐτός', 'υἱός', {'weight': 2, 'norm_weight': 0.00018311664530305805, 'distance': 0.5, 'norm_distance': 5461.0}), ('ἅγιος', 'πᾶς', {'weight': 7, 'norm_weight': 0.0006409082585607032, 'distance': 0.14286, 'norm_distance': 1560.28571}), ('ἅγιος', 'οἶδα', {'weight': 3, 'norm_weight': 0.00027467496795458707, 'distance': 0.33333, 'norm_distance': 3640.66667}), ('οὗτος', 'ἔχω', {'weight': 2, 'norm_weight': 0.00018311664530305805, 'distance': 0.5, 'norm_distance': 5461.0}), ('οὗτος', 'πᾶς', {'weight': 2, 'norm_weight': 0.00018311664530305805, 'distance': 0.5, 'norm_distance': 5461.0}), ('οὗτος', 'δίδωμι', {'weight': 2, 'norm_weight': 0.00018311664530305805, 'distance': 0.5, 'norm_distance': 5461.0}), ('οὗτος', 'λογίζομαι', {'weight': 2, 'norm_weight': 0.00018311664530305805, 'distance': 0.5, 'norm_distance': 5461.0}), ('οὗτος', 'οἶδα', {'weight': 2, 'norm_weight': 0.00018311664530305805, 'distance': 0.5, 'norm_distance': 5461.0}), ('οὗτος', 'εὐχαριστέω', {'weight': 2, 'norm_weight': 0.00018311664530305805, 'distance': 0.5, 'norm_distance': 5461.0}), ('οὗτος', 'θέλημα', {'weight': 2, 'norm_weight': 0.00018311664530305805, 'distance': 0.5, 'norm_distance': 5461.0}), ('δικαιοσύνη', 'πίστις', {'weight': 7, 'norm_weight': 0.0006409082585607032, 'distance': 0.14286, 'norm_distance': 1560.28571}), ('δικαιοσύνη', 'λογίζομαι', {'weight': 6, 'norm_weight': 0.0005493499359091741, 'distance': 0.16667, 'norm_distance': 1820.33333}), ('δικαιοσύνη', 'πᾶς', {'weight': 2, 'norm_weight': 0.00018311664530305805, 'distance': 0.5, 'norm_distance': 5461.0}), ('πᾶς', 'ἔχω', {'weight': 5, 'norm_weight': 0.0004577916132576451, 'distance': 0.2, 'norm_distance': 2184.4}), ('πᾶς', 'πίστις', {'weight': 4, 'norm_weight': 0.0003662332906061161, 'distance': 0.25, 'norm_distance': 2730.5}), ('πᾶς', 'ἐκκλησία', {'weight': 4, 'norm_weight': 0.0003662332906061161, 'distance': 0.25, 'norm_distance': 2730.5}), ('πᾶς', 'ἁμαρτία', {'weight': 3, 'norm_weight': 0.00027467496795458707, 'distance': 0.33333, 'norm_distance': 3640.66667}), ('πᾶς', 'δόξα', {'weight': 2, 'norm_weight': 0.00018311664530305805, 'distance': 0.5, 'norm_distance': 5461.0}), ('πᾶς', 'δύναμις', {'weight': 2, 'norm_weight': 0.00018311664530305805, 'distance': 0.5, 'norm_distance': 5461.0}), ('δύναμις', 'ἁμαρτία', {'weight': 2, 'norm_weight': 0.00018311664530305805, 'distance': 0.5, 'norm_distance': 5461.0}), ('ἔχω', 'πίστις', {'weight': 3, 'norm_weight': 0.00027467496795458707, 'distance': 0.33333, 'norm_distance': 3640.66667}), ('ἁμαρτία', 'γιγνώσκω', {'weight': 2, 'norm_weight': 0.00018311664530305805, 'distance': 0.5, 'norm_distance': 5461.0}), ('δίδωμι', 'γιγνώσκω', {'weight': 2, 'norm_weight': 0.00018311664530305805, 'distance': 0.5, 'norm_distance': 5461.0}), ('γιγνώσκω', 'πίστις', {'weight': 3, 'norm_weight': 0.00027467496795458707, 'distance': 0.33333, 'norm_distance': 3640.66667}), ('πίστις', 'λογίζομαι', {'weight': 2, 'norm_weight': 0.00018311664530305805, 'distance': 0.5, 'norm_distance': 5461.0})])"
      ]
     },
     "execution_count": 133,
     "metadata": {},
     "output_type": "execute_result"
    }
   ],
   "source": [
    "ego_network = construct_ego_network(network_bigrams, \"δικαιοσύνη\", 30, reduced=False)\n",
    "ego_network.edges.data()"
   ]
  },
  {
   "cell_type": "code",
   "execution_count": 134,
   "metadata": {},
   "outputs": [
    {
     "data": {
      "text/html": [
       "\n",
       "        <script src=\"/static/components/requirejs/require.js\"></script>\n",
       "        <script>\n",
       "          requirejs.config({\n",
       "            paths: {\n",
       "              base: '/static/base',\n",
       "              plotly: 'https://cdn.plot.ly/plotly-latest.min.js?noext',\n",
       "            },\n",
       "          });\n",
       "        </script>\n",
       "        "
      ],
      "text/plain": [
       "<IPython.core.display.HTML object>"
      ]
     },
     "metadata": {},
     "output_type": "display_data"
    },
    {
     "data": {
      "application/vnd.plotly.v1+json": {
       "config": {
        "plotlyServerURL": "https://plot.ly"
       },
       "data": [
        {
         "line": {
          "color": "#000000",
          "width": 1
         },
         "mode": "lines",
         "type": "scatter",
         "x": [
          0.5298853974140539,
          0.012930230362673769,
          null,
          -0.36156315408907985,
          0.012930230362673769,
          null
         ],
         "y": [
          0.21046701104429055,
          -0.07166593739119444,
          null,
          0.08379384879338467,
          -0.07166593739119444,
          null
         ]
        },
        {
         "line": {
          "color": "#404040",
          "width": 0.7
         },
         "mode": "lines",
         "type": "scatter",
         "x": [
          0.46151946716785164,
          0.012930230362673769,
          null,
          -0.20035715080327512,
          0.012930230362673769,
          null,
          -0.28714403253693793,
          0.012930230362673769,
          null,
          -0.48383702550057617,
          0.012930230362673769,
          null,
          0.3484682099868328,
          0.012930230362673769,
          null,
          0.4577618060087456,
          0.012930230362673769,
          null
         ],
         "y": [
          -0.005749501279647054,
          -0.07166593739119444,
          null,
          0.19233346723125827,
          -0.07166593739119444,
          null,
          -0.16165574978107067,
          -0.07166593739119444,
          null,
          -0.23281843667254976,
          -0.07166593739119444,
          null,
          -0.4693819633359954,
          -0.07166593739119444,
          null,
          -0.34580146552653557,
          -0.07166593739119444,
          null
         ]
        },
        {
         "line": {
          "color": "#C0C0C0",
          "width": 0.5
         },
         "mode": "lines",
         "type": "scatter",
         "x": [
          0.303647439492849,
          0.012930230362673769,
          null,
          0.2949212703344103,
          0.012930230362673769,
          null,
          0.3058365211114192,
          0.012930230362673769,
          null,
          -0.47225818553404497,
          -0.4472571527774467,
          null,
          0.17538312303515063,
          0.012930230362673769,
          null,
          -0.7857353982602853,
          -0.4472571527774467,
          null,
          -0.0006929775053410084,
          0.012930230362673769,
          null,
          -0.1617680667253866,
          0.012930230362673769,
          null,
          -0.4472571527774467,
          -0.9421806952725723,
          null,
          -0.4472571527774467,
          0.012930230362673769,
          null,
          0.5298853974140539,
          0.7641639068029394,
          null,
          0.5298853974140539,
          1,
          null,
          0.06185978841701128,
          0.012930230362673769,
          null,
          -0.4793695048305371,
          0.012930230362673769,
          null,
          -0.1361840583366411,
          0.012930230362673769,
          null,
          0.12408050228706223,
          0.012930230362673769,
          null,
          -0.40635791942319677,
          0.012930230362673769,
          null,
          -0.29625959386952366,
          0.012930230362673769,
          null,
          -0.13368942785679508,
          0.012930230362673769,
          null,
          0.03284719554202575,
          0.012930230362673769,
          null,
          0.2069435945580703,
          0.012930230362673769,
          null,
          0.012930230362673769,
          0.5144058908005434,
          null
         ],
         "y": [
          -0.19460369662371044,
          -0.07166593739119444,
          null,
          0.11136108654788407,
          -0.07166593739119444,
          null,
          0.3116030644131195,
          -0.07166593739119444,
          null,
          0.8115817544776617,
          0.31016985613362263,
          null,
          0.4261942116260466,
          -0.07166593739119444,
          null,
          0.5818831205893545,
          0.31016985613362263,
          null,
          0.4470020742454164,
          -0.07166593739119444,
          null,
          0.3737622315521914,
          -0.07166593739119444,
          null,
          0.31016985613362263,
          0.21953437182605778,
          null,
          0.31016985613362263,
          -0.07166593739119444,
          null,
          0.21046701104429055,
          0.6210745141866756,
          null,
          0.21046701104429055,
          0.15479705572953792,
          null,
          0.2423799552227577,
          -0.07166593739119444,
          null,
          -0.04984440707181153,
          -0.07166593739119444,
          null,
          -0.37131041220409333,
          -0.07166593739119444,
          null,
          -0.38436445220253435,
          -0.07166593739119444,
          null,
          -0.3824377155330986,
          -0.07166593739119444,
          null,
          -0.5063785933731815,
          -0.07166593739119444,
          null,
          -0.5826613003565587,
          -0.07166593739119444,
          null,
          -0.5960663849062264,
          -0.07166593739119444,
          null,
          -0.5689445376212957,
          -0.07166593739119444,
          null,
          -0.07166593739119444,
          -0.17425306973975577,
          null
         ]
        },
        {
         "hoverinfo": "text",
         "hovertext": [
          "1",
          "1",
          "1",
          "1",
          "1",
          "1",
          "1",
          "1",
          "1",
          "1",
          "4",
          "3",
          "1",
          "1",
          "1",
          "1",
          "1",
          "1",
          "1",
          "1",
          "1",
          "1",
          "1",
          "1",
          "1",
          "1",
          "1",
          "1",
          "25",
          "1",
          "1"
         ],
         "marker": {
          "color": [
           9,
           12,
           11,
           9,
           17,
           10,
           18,
           10,
           12,
           8,
           21,
           20,
           8,
           5,
           10,
           12,
           15,
           11,
           9,
           9,
           5,
           11,
           11,
           10,
           10,
           10,
           9,
           13,
           13,
           8,
           4
          ],
          "colorbar": {
           "thickness": 15,
           "title": {
            "side": "right",
            "text": "degree"
           },
           "xanchor": "left"
          },
          "colorscale": [
           [
            0,
            "rgb(255,255,255)"
           ],
           [
            0.125,
            "rgb(240,240,240)"
           ],
           [
            0.25,
            "rgb(217,217,217)"
           ],
           [
            0.375,
            "rgb(189,189,189)"
           ],
           [
            0.5,
            "rgb(150,150,150)"
           ],
           [
            0.625,
            "rgb(115,115,115)"
           ],
           [
            0.75,
            "rgb(82,82,82)"
           ],
           [
            0.875,
            "rgb(37,37,37)"
           ],
           [
            1,
            "rgb(0,0,0)"
           ]
          ],
          "line": {
           "width": 1
          },
          "showscale": false,
          "size": 7
         },
         "mode": "markers+text",
         "text": [
          "δόξα",
          "ἀδελφός",
          "πνεῦμα",
          "υἱός",
          "πίστις",
          "πολύς",
          "ἁμαρτία",
          "πατήρ",
          "δύναμις",
          "πᾶς",
          "δικαιοσύνη",
          "εἰμί",
          "ἔχω",
          "οὗτος",
          "χάρις",
          "χριστός",
          "εὐαγγέλιον",
          "κύριος",
          "λέγω",
          "σάρξ",
          "νόμος",
          "κόσμος",
          "δίδωμι",
          "λόγος",
          "ἔθνος",
          "ἅγιος",
          "οἶδα",
          "γίγνομαι",
          "θεός",
          "ἄνθρωπος",
          "σῶμα"
         ],
         "textposition": "bottom center",
         "type": "scatter",
         "x": [
          0.303647439492849,
          0.2949212703344103,
          0.46151946716785164,
          0.3058365211114192,
          -0.47225818553404497,
          0.17538312303515063,
          -0.7857353982602853,
          -0.0006929775053410084,
          -0.1617680667253866,
          -0.20035715080327512,
          -0.4472571527774467,
          0.5298853974140539,
          0.06185978841701128,
          0.7641639068029394,
          -0.28714403253693793,
          -0.36156315408907985,
          -0.4793695048305371,
          -0.48383702550057617,
          -0.1361840583366411,
          0.12408050228706223,
          -0.9421806952725723,
          -0.40635791942319677,
          -0.29625959386952366,
          -0.13368942785679508,
          0.03284719554202575,
          0.2069435945580703,
          0.3484682099868328,
          0.4577618060087456,
          0.012930230362673769,
          0.5144058908005434,
          1
         ],
         "y": [
          -0.19460369662371044,
          0.11136108654788407,
          -0.005749501279647054,
          0.3116030644131195,
          0.8115817544776617,
          0.4261942116260466,
          0.5818831205893545,
          0.4470020742454164,
          0.3737622315521914,
          0.19233346723125827,
          0.31016985613362263,
          0.21046701104429055,
          0.2423799552227577,
          0.6210745141866756,
          -0.16165574978107067,
          0.08379384879338467,
          -0.04984440707181153,
          -0.23281843667254976,
          -0.37131041220409333,
          -0.38436445220253435,
          0.21953437182605778,
          -0.3824377155330986,
          -0.5063785933731815,
          -0.5826613003565587,
          -0.5960663849062264,
          -0.5689445376212957,
          -0.4693819633359954,
          -0.34580146552653557,
          -0.07166593739119444,
          -0.17425306973975577,
          0.15479705572953792
         ]
        },
        {
         "hoverinfo": "text",
         "marker": {
          "opacity": 0
         },
         "mode": "markers",
         "opacity": 0,
         "text": [
          "30",
          "32",
          "50",
          "25",
          "26",
          "33",
          "13",
          "36",
          "25",
          "88",
          "16",
          "26",
          "35",
          "96",
          "36",
          "31",
          "48",
          "149",
          "31",
          "71",
          "25",
          "30",
          "28",
          "29",
          "33",
          "26",
          "36",
          "47",
          "47",
          "40"
         ],
         "type": "scatter",
         "x": [
          0.15828883492776138,
          0.15392575034854203,
          0.2372248487652627,
          0.15938337573704647,
          -0.45975766915574584,
          0.0941566766989122,
          -0.616496275518866,
          0.0061186264286663804,
          -0.07441891818135642,
          -0.09371346022030068,
          -0.6947189240250096,
          -0.21716346120738647,
          0.6470246521084967,
          0.2714078138883639,
          0.7649426987070269,
          0.037395009389842526,
          -0.13710690108713208,
          -0.17431646186320304,
          -0.23321963723393166,
          -0.2354533975689512,
          -0.06162691398698367,
          0.068505366324868,
          -0.1967138445302615,
          -0.14166468175342495,
          -0.060379598747060656,
          0.02288871295234976,
          0.10993691246037203,
          0.1806992201747533,
          0.2353460181857097,
          0.26366806058160863
         ],
         "y": [
          -0.13313481700745244,
          0.019847574578344816,
          -0.03870771933542075,
          0.11996856351096255,
          0.5608758053056422,
          0.17726413711742608,
          0.4460264883614886,
          0.18766806842711098,
          0.1510481470804985,
          0.06033376492003192,
          0.2648521139798402,
          0.1192519593712141,
          0.41577076261548307,
          0.06940053682654806,
          0.18263203338691425,
          0.08535700891578163,
          -0.11666084358613255,
          0.006063955701095115,
          -0.06075517223150298,
          -0.1522421870318721,
          -0.22148817479764388,
          -0.22801519479686438,
          -0.2270518264621465,
          -0.28902226538218795,
          -0.32716361887387657,
          -0.3338661611487104,
          -0.32030523750624507,
          -0.27052395036359494,
          -0.208733701458865,
          -0.12295950356547511
         ]
        }
       ],
       "layout": {
        "autosize": false,
        "height": 500,
        "hovermode": "closest",
        "margin": {
         "b": 10,
         "l": 10,
         "r": 10,
         "t": 10
        },
        "plot_bgcolor": "rgba(0,0,0,0)",
        "showlegend": false,
        "template": {
         "data": {
          "bar": [
           {
            "error_x": {
             "color": "#2a3f5f"
            },
            "error_y": {
             "color": "#2a3f5f"
            },
            "marker": {
             "line": {
              "color": "#E5ECF6",
              "width": 0.5
             }
            },
            "type": "bar"
           }
          ],
          "barpolar": [
           {
            "marker": {
             "line": {
              "color": "#E5ECF6",
              "width": 0.5
             }
            },
            "type": "barpolar"
           }
          ],
          "carpet": [
           {
            "aaxis": {
             "endlinecolor": "#2a3f5f",
             "gridcolor": "white",
             "linecolor": "white",
             "minorgridcolor": "white",
             "startlinecolor": "#2a3f5f"
            },
            "baxis": {
             "endlinecolor": "#2a3f5f",
             "gridcolor": "white",
             "linecolor": "white",
             "minorgridcolor": "white",
             "startlinecolor": "#2a3f5f"
            },
            "type": "carpet"
           }
          ],
          "choropleth": [
           {
            "colorbar": {
             "outlinewidth": 0,
             "ticks": ""
            },
            "type": "choropleth"
           }
          ],
          "contour": [
           {
            "colorbar": {
             "outlinewidth": 0,
             "ticks": ""
            },
            "colorscale": [
             [
              0,
              "#0d0887"
             ],
             [
              0.1111111111111111,
              "#46039f"
             ],
             [
              0.2222222222222222,
              "#7201a8"
             ],
             [
              0.3333333333333333,
              "#9c179e"
             ],
             [
              0.4444444444444444,
              "#bd3786"
             ],
             [
              0.5555555555555556,
              "#d8576b"
             ],
             [
              0.6666666666666666,
              "#ed7953"
             ],
             [
              0.7777777777777778,
              "#fb9f3a"
             ],
             [
              0.8888888888888888,
              "#fdca26"
             ],
             [
              1,
              "#f0f921"
             ]
            ],
            "type": "contour"
           }
          ],
          "contourcarpet": [
           {
            "colorbar": {
             "outlinewidth": 0,
             "ticks": ""
            },
            "type": "contourcarpet"
           }
          ],
          "heatmap": [
           {
            "colorbar": {
             "outlinewidth": 0,
             "ticks": ""
            },
            "colorscale": [
             [
              0,
              "#0d0887"
             ],
             [
              0.1111111111111111,
              "#46039f"
             ],
             [
              0.2222222222222222,
              "#7201a8"
             ],
             [
              0.3333333333333333,
              "#9c179e"
             ],
             [
              0.4444444444444444,
              "#bd3786"
             ],
             [
              0.5555555555555556,
              "#d8576b"
             ],
             [
              0.6666666666666666,
              "#ed7953"
             ],
             [
              0.7777777777777778,
              "#fb9f3a"
             ],
             [
              0.8888888888888888,
              "#fdca26"
             ],
             [
              1,
              "#f0f921"
             ]
            ],
            "type": "heatmap"
           }
          ],
          "heatmapgl": [
           {
            "colorbar": {
             "outlinewidth": 0,
             "ticks": ""
            },
            "colorscale": [
             [
              0,
              "#0d0887"
             ],
             [
              0.1111111111111111,
              "#46039f"
             ],
             [
              0.2222222222222222,
              "#7201a8"
             ],
             [
              0.3333333333333333,
              "#9c179e"
             ],
             [
              0.4444444444444444,
              "#bd3786"
             ],
             [
              0.5555555555555556,
              "#d8576b"
             ],
             [
              0.6666666666666666,
              "#ed7953"
             ],
             [
              0.7777777777777778,
              "#fb9f3a"
             ],
             [
              0.8888888888888888,
              "#fdca26"
             ],
             [
              1,
              "#f0f921"
             ]
            ],
            "type": "heatmapgl"
           }
          ],
          "histogram": [
           {
            "marker": {
             "colorbar": {
              "outlinewidth": 0,
              "ticks": ""
             }
            },
            "type": "histogram"
           }
          ],
          "histogram2d": [
           {
            "colorbar": {
             "outlinewidth": 0,
             "ticks": ""
            },
            "colorscale": [
             [
              0,
              "#0d0887"
             ],
             [
              0.1111111111111111,
              "#46039f"
             ],
             [
              0.2222222222222222,
              "#7201a8"
             ],
             [
              0.3333333333333333,
              "#9c179e"
             ],
             [
              0.4444444444444444,
              "#bd3786"
             ],
             [
              0.5555555555555556,
              "#d8576b"
             ],
             [
              0.6666666666666666,
              "#ed7953"
             ],
             [
              0.7777777777777778,
              "#fb9f3a"
             ],
             [
              0.8888888888888888,
              "#fdca26"
             ],
             [
              1,
              "#f0f921"
             ]
            ],
            "type": "histogram2d"
           }
          ],
          "histogram2dcontour": [
           {
            "colorbar": {
             "outlinewidth": 0,
             "ticks": ""
            },
            "colorscale": [
             [
              0,
              "#0d0887"
             ],
             [
              0.1111111111111111,
              "#46039f"
             ],
             [
              0.2222222222222222,
              "#7201a8"
             ],
             [
              0.3333333333333333,
              "#9c179e"
             ],
             [
              0.4444444444444444,
              "#bd3786"
             ],
             [
              0.5555555555555556,
              "#d8576b"
             ],
             [
              0.6666666666666666,
              "#ed7953"
             ],
             [
              0.7777777777777778,
              "#fb9f3a"
             ],
             [
              0.8888888888888888,
              "#fdca26"
             ],
             [
              1,
              "#f0f921"
             ]
            ],
            "type": "histogram2dcontour"
           }
          ],
          "mesh3d": [
           {
            "colorbar": {
             "outlinewidth": 0,
             "ticks": ""
            },
            "type": "mesh3d"
           }
          ],
          "parcoords": [
           {
            "line": {
             "colorbar": {
              "outlinewidth": 0,
              "ticks": ""
             }
            },
            "type": "parcoords"
           }
          ],
          "pie": [
           {
            "automargin": true,
            "type": "pie"
           }
          ],
          "scatter": [
           {
            "marker": {
             "colorbar": {
              "outlinewidth": 0,
              "ticks": ""
             }
            },
            "type": "scatter"
           }
          ],
          "scatter3d": [
           {
            "line": {
             "colorbar": {
              "outlinewidth": 0,
              "ticks": ""
             }
            },
            "marker": {
             "colorbar": {
              "outlinewidth": 0,
              "ticks": ""
             }
            },
            "type": "scatter3d"
           }
          ],
          "scattercarpet": [
           {
            "marker": {
             "colorbar": {
              "outlinewidth": 0,
              "ticks": ""
             }
            },
            "type": "scattercarpet"
           }
          ],
          "scattergeo": [
           {
            "marker": {
             "colorbar": {
              "outlinewidth": 0,
              "ticks": ""
             }
            },
            "type": "scattergeo"
           }
          ],
          "scattergl": [
           {
            "marker": {
             "colorbar": {
              "outlinewidth": 0,
              "ticks": ""
             }
            },
            "type": "scattergl"
           }
          ],
          "scattermapbox": [
           {
            "marker": {
             "colorbar": {
              "outlinewidth": 0,
              "ticks": ""
             }
            },
            "type": "scattermapbox"
           }
          ],
          "scatterpolar": [
           {
            "marker": {
             "colorbar": {
              "outlinewidth": 0,
              "ticks": ""
             }
            },
            "type": "scatterpolar"
           }
          ],
          "scatterpolargl": [
           {
            "marker": {
             "colorbar": {
              "outlinewidth": 0,
              "ticks": ""
             }
            },
            "type": "scatterpolargl"
           }
          ],
          "scatterternary": [
           {
            "marker": {
             "colorbar": {
              "outlinewidth": 0,
              "ticks": ""
             }
            },
            "type": "scatterternary"
           }
          ],
          "surface": [
           {
            "colorbar": {
             "outlinewidth": 0,
             "ticks": ""
            },
            "colorscale": [
             [
              0,
              "#0d0887"
             ],
             [
              0.1111111111111111,
              "#46039f"
             ],
             [
              0.2222222222222222,
              "#7201a8"
             ],
             [
              0.3333333333333333,
              "#9c179e"
             ],
             [
              0.4444444444444444,
              "#bd3786"
             ],
             [
              0.5555555555555556,
              "#d8576b"
             ],
             [
              0.6666666666666666,
              "#ed7953"
             ],
             [
              0.7777777777777778,
              "#fb9f3a"
             ],
             [
              0.8888888888888888,
              "#fdca26"
             ],
             [
              1,
              "#f0f921"
             ]
            ],
            "type": "surface"
           }
          ],
          "table": [
           {
            "cells": {
             "fill": {
              "color": "#EBF0F8"
             },
             "line": {
              "color": "white"
             }
            },
            "header": {
             "fill": {
              "color": "#C8D4E3"
             },
             "line": {
              "color": "white"
             }
            },
            "type": "table"
           }
          ]
         },
         "layout": {
          "annotationdefaults": {
           "arrowcolor": "#2a3f5f",
           "arrowhead": 0,
           "arrowwidth": 1
          },
          "coloraxis": {
           "colorbar": {
            "outlinewidth": 0,
            "ticks": ""
           }
          },
          "colorscale": {
           "diverging": [
            [
             0,
             "#8e0152"
            ],
            [
             0.1,
             "#c51b7d"
            ],
            [
             0.2,
             "#de77ae"
            ],
            [
             0.3,
             "#f1b6da"
            ],
            [
             0.4,
             "#fde0ef"
            ],
            [
             0.5,
             "#f7f7f7"
            ],
            [
             0.6,
             "#e6f5d0"
            ],
            [
             0.7,
             "#b8e186"
            ],
            [
             0.8,
             "#7fbc41"
            ],
            [
             0.9,
             "#4d9221"
            ],
            [
             1,
             "#276419"
            ]
           ],
           "sequential": [
            [
             0,
             "#0d0887"
            ],
            [
             0.1111111111111111,
             "#46039f"
            ],
            [
             0.2222222222222222,
             "#7201a8"
            ],
            [
             0.3333333333333333,
             "#9c179e"
            ],
            [
             0.4444444444444444,
             "#bd3786"
            ],
            [
             0.5555555555555556,
             "#d8576b"
            ],
            [
             0.6666666666666666,
             "#ed7953"
            ],
            [
             0.7777777777777778,
             "#fb9f3a"
            ],
            [
             0.8888888888888888,
             "#fdca26"
            ],
            [
             1,
             "#f0f921"
            ]
           ],
           "sequentialminus": [
            [
             0,
             "#0d0887"
            ],
            [
             0.1111111111111111,
             "#46039f"
            ],
            [
             0.2222222222222222,
             "#7201a8"
            ],
            [
             0.3333333333333333,
             "#9c179e"
            ],
            [
             0.4444444444444444,
             "#bd3786"
            ],
            [
             0.5555555555555556,
             "#d8576b"
            ],
            [
             0.6666666666666666,
             "#ed7953"
            ],
            [
             0.7777777777777778,
             "#fb9f3a"
            ],
            [
             0.8888888888888888,
             "#fdca26"
            ],
            [
             1,
             "#f0f921"
            ]
           ]
          },
          "colorway": [
           "#636efa",
           "#EF553B",
           "#00cc96",
           "#ab63fa",
           "#FFA15A",
           "#19d3f3",
           "#FF6692",
           "#B6E880",
           "#FF97FF",
           "#FECB52"
          ],
          "font": {
           "color": "#2a3f5f"
          },
          "geo": {
           "bgcolor": "white",
           "lakecolor": "white",
           "landcolor": "#E5ECF6",
           "showlakes": true,
           "showland": true,
           "subunitcolor": "white"
          },
          "hoverlabel": {
           "align": "left"
          },
          "hovermode": "closest",
          "mapbox": {
           "style": "light"
          },
          "paper_bgcolor": "white",
          "plot_bgcolor": "#E5ECF6",
          "polar": {
           "angularaxis": {
            "gridcolor": "white",
            "linecolor": "white",
            "ticks": ""
           },
           "bgcolor": "#E5ECF6",
           "radialaxis": {
            "gridcolor": "white",
            "linecolor": "white",
            "ticks": ""
           }
          },
          "scene": {
           "xaxis": {
            "backgroundcolor": "#E5ECF6",
            "gridcolor": "white",
            "gridwidth": 2,
            "linecolor": "white",
            "showbackground": true,
            "ticks": "",
            "zerolinecolor": "white"
           },
           "yaxis": {
            "backgroundcolor": "#E5ECF6",
            "gridcolor": "white",
            "gridwidth": 2,
            "linecolor": "white",
            "showbackground": true,
            "ticks": "",
            "zerolinecolor": "white"
           },
           "zaxis": {
            "backgroundcolor": "#E5ECF6",
            "gridcolor": "white",
            "gridwidth": 2,
            "linecolor": "white",
            "showbackground": true,
            "ticks": "",
            "zerolinecolor": "white"
           }
          },
          "shapedefaults": {
           "line": {
            "color": "#2a3f5f"
           }
          },
          "ternary": {
           "aaxis": {
            "gridcolor": "white",
            "linecolor": "white",
            "ticks": ""
           },
           "baxis": {
            "gridcolor": "white",
            "linecolor": "white",
            "ticks": ""
           },
           "bgcolor": "#E5ECF6",
           "caxis": {
            "gridcolor": "white",
            "linecolor": "white",
            "ticks": ""
           }
          },
          "title": {
           "x": 0.05
          },
          "xaxis": {
           "automargin": true,
           "gridcolor": "white",
           "linecolor": "white",
           "ticks": "",
           "title": {
            "standoff": 15
           },
           "zerolinecolor": "white",
           "zerolinewidth": 2
          },
          "yaxis": {
           "automargin": true,
           "gridcolor": "white",
           "linecolor": "white",
           "ticks": "",
           "title": {
            "standoff": 15
           },
           "zerolinecolor": "white",
           "zerolinewidth": 2
          }
         }
        },
        "title": {
         "font": {
          "size": 16
         }
        },
        "width": 500,
        "xaxis": {
         "showgrid": false,
         "showticklabels": false,
         "zeroline": false
        },
        "yaxis": {
         "showgrid": false,
         "showticklabels": false,
         "zeroline": false
        }
       }
      },
      "text/html": [
       "<div>                            <div id=\"c0e2592f-b208-4154-8d63-9adde6577bb6\" class=\"plotly-graph-div\" style=\"height:500px; width:500px;\"></div>            <script type=\"text/javascript\">                require([\"plotly\"], function(Plotly) {                    window.PLOTLYENV=window.PLOTLYENV || {};                                    if (document.getElementById(\"c0e2592f-b208-4154-8d63-9adde6577bb6\")) {                    Plotly.newPlot(                        \"c0e2592f-b208-4154-8d63-9adde6577bb6\",                        [{\"line\": {\"color\": \"#000000\", \"width\": 1}, \"mode\": \"lines\", \"type\": \"scatter\", \"x\": [0.5298853974140539, 0.012930230362673769, null, -0.36156315408907985, 0.012930230362673769, null], \"y\": [0.21046701104429055, -0.07166593739119444, null, 0.08379384879338467, -0.07166593739119444, null]}, {\"line\": {\"color\": \"#404040\", \"width\": 0.7}, \"mode\": \"lines\", \"type\": \"scatter\", \"x\": [0.46151946716785164, 0.012930230362673769, null, -0.20035715080327512, 0.012930230362673769, null, -0.28714403253693793, 0.012930230362673769, null, -0.48383702550057617, 0.012930230362673769, null, 0.3484682099868328, 0.012930230362673769, null, 0.4577618060087456, 0.012930230362673769, null], \"y\": [-0.005749501279647054, -0.07166593739119444, null, 0.19233346723125827, -0.07166593739119444, null, -0.16165574978107067, -0.07166593739119444, null, -0.23281843667254976, -0.07166593739119444, null, -0.4693819633359954, -0.07166593739119444, null, -0.34580146552653557, -0.07166593739119444, null]}, {\"line\": {\"color\": \"#C0C0C0\", \"width\": 0.5}, \"mode\": \"lines\", \"type\": \"scatter\", \"x\": [0.303647439492849, 0.012930230362673769, null, 0.2949212703344103, 0.012930230362673769, null, 0.3058365211114192, 0.012930230362673769, null, -0.47225818553404497, -0.4472571527774467, null, 0.17538312303515063, 0.012930230362673769, null, -0.7857353982602853, -0.4472571527774467, null, -0.0006929775053410084, 0.012930230362673769, null, -0.1617680667253866, 0.012930230362673769, null, -0.4472571527774467, -0.9421806952725723, null, -0.4472571527774467, 0.012930230362673769, null, 0.5298853974140539, 0.7641639068029394, null, 0.5298853974140539, 1.0, null, 0.06185978841701128, 0.012930230362673769, null, -0.4793695048305371, 0.012930230362673769, null, -0.1361840583366411, 0.012930230362673769, null, 0.12408050228706223, 0.012930230362673769, null, -0.40635791942319677, 0.012930230362673769, null, -0.29625959386952366, 0.012930230362673769, null, -0.13368942785679508, 0.012930230362673769, null, 0.03284719554202575, 0.012930230362673769, null, 0.2069435945580703, 0.012930230362673769, null, 0.012930230362673769, 0.5144058908005434, null], \"y\": [-0.19460369662371044, -0.07166593739119444, null, 0.11136108654788407, -0.07166593739119444, null, 0.3116030644131195, -0.07166593739119444, null, 0.8115817544776617, 0.31016985613362263, null, 0.4261942116260466, -0.07166593739119444, null, 0.5818831205893545, 0.31016985613362263, null, 0.4470020742454164, -0.07166593739119444, null, 0.3737622315521914, -0.07166593739119444, null, 0.31016985613362263, 0.21953437182605778, null, 0.31016985613362263, -0.07166593739119444, null, 0.21046701104429055, 0.6210745141866756, null, 0.21046701104429055, 0.15479705572953792, null, 0.2423799552227577, -0.07166593739119444, null, -0.04984440707181153, -0.07166593739119444, null, -0.37131041220409333, -0.07166593739119444, null, -0.38436445220253435, -0.07166593739119444, null, -0.3824377155330986, -0.07166593739119444, null, -0.5063785933731815, -0.07166593739119444, null, -0.5826613003565587, -0.07166593739119444, null, -0.5960663849062264, -0.07166593739119444, null, -0.5689445376212957, -0.07166593739119444, null, -0.07166593739119444, -0.17425306973975577, null]}, {\"hoverinfo\": \"text\", \"hovertext\": [\"1\", \"1\", \"1\", \"1\", \"1\", \"1\", \"1\", \"1\", \"1\", \"1\", \"4\", \"3\", \"1\", \"1\", \"1\", \"1\", \"1\", \"1\", \"1\", \"1\", \"1\", \"1\", \"1\", \"1\", \"1\", \"1\", \"1\", \"1\", \"25\", \"1\", \"1\"], \"marker\": {\"color\": [9, 12, 11, 9, 17, 10, 18, 10, 12, 8, 21, 20, 8, 5, 10, 12, 15, 11, 9, 9, 5, 11, 11, 10, 10, 10, 9, 13, 13, 8, 4], \"colorbar\": {\"thickness\": 15, \"title\": {\"side\": \"right\", \"text\": \"degree\"}, \"xanchor\": \"left\"}, \"colorscale\": [[0.0, \"rgb(255,255,255)\"], [0.125, \"rgb(240,240,240)\"], [0.25, \"rgb(217,217,217)\"], [0.375, \"rgb(189,189,189)\"], [0.5, \"rgb(150,150,150)\"], [0.625, \"rgb(115,115,115)\"], [0.75, \"rgb(82,82,82)\"], [0.875, \"rgb(37,37,37)\"], [1.0, \"rgb(0,0,0)\"]], \"line\": {\"width\": 1}, \"showscale\": false, \"size\": 7}, \"mode\": \"markers+text\", \"text\": [\"\\u03b4\\u03cc\\u03be\\u03b1\", \"\\u1f00\\u03b4\\u03b5\\u03bb\\u03c6\\u03cc\\u03c2\", \"\\u03c0\\u03bd\\u03b5\\u1fe6\\u03bc\\u03b1\", \"\\u03c5\\u1f31\\u03cc\\u03c2\", \"\\u03c0\\u03af\\u03c3\\u03c4\\u03b9\\u03c2\", \"\\u03c0\\u03bf\\u03bb\\u03cd\\u03c2\", \"\\u1f01\\u03bc\\u03b1\\u03c1\\u03c4\\u03af\\u03b1\", \"\\u03c0\\u03b1\\u03c4\\u03ae\\u03c1\", \"\\u03b4\\u03cd\\u03bd\\u03b1\\u03bc\\u03b9\\u03c2\", \"\\u03c0\\u1fb6\\u03c2\", \"\\u03b4\\u03b9\\u03ba\\u03b1\\u03b9\\u03bf\\u03c3\\u03cd\\u03bd\\u03b7\", \"\\u03b5\\u1f30\\u03bc\\u03af\", \"\\u1f14\\u03c7\\u03c9\", \"\\u03bf\\u1f57\\u03c4\\u03bf\\u03c2\", \"\\u03c7\\u03ac\\u03c1\\u03b9\\u03c2\", \"\\u03c7\\u03c1\\u03b9\\u03c3\\u03c4\\u03cc\\u03c2\", \"\\u03b5\\u1f50\\u03b1\\u03b3\\u03b3\\u03ad\\u03bb\\u03b9\\u03bf\\u03bd\", \"\\u03ba\\u03cd\\u03c1\\u03b9\\u03bf\\u03c2\", \"\\u03bb\\u03ad\\u03b3\\u03c9\", \"\\u03c3\\u03ac\\u03c1\\u03be\", \"\\u03bd\\u03cc\\u03bc\\u03bf\\u03c2\", \"\\u03ba\\u03cc\\u03c3\\u03bc\\u03bf\\u03c2\", \"\\u03b4\\u03af\\u03b4\\u03c9\\u03bc\\u03b9\", \"\\u03bb\\u03cc\\u03b3\\u03bf\\u03c2\", \"\\u1f14\\u03b8\\u03bd\\u03bf\\u03c2\", \"\\u1f05\\u03b3\\u03b9\\u03bf\\u03c2\", \"\\u03bf\\u1f36\\u03b4\\u03b1\", \"\\u03b3\\u03af\\u03b3\\u03bd\\u03bf\\u03bc\\u03b1\\u03b9\", \"\\u03b8\\u03b5\\u03cc\\u03c2\", \"\\u1f04\\u03bd\\u03b8\\u03c1\\u03c9\\u03c0\\u03bf\\u03c2\", \"\\u03c3\\u1ff6\\u03bc\\u03b1\"], \"textposition\": \"bottom center\", \"type\": \"scatter\", \"x\": [0.303647439492849, 0.2949212703344103, 0.46151946716785164, 0.3058365211114192, -0.47225818553404497, 0.17538312303515063, -0.7857353982602853, -0.0006929775053410084, -0.1617680667253866, -0.20035715080327512, -0.4472571527774467, 0.5298853974140539, 0.06185978841701128, 0.7641639068029394, -0.28714403253693793, -0.36156315408907985, -0.4793695048305371, -0.48383702550057617, -0.1361840583366411, 0.12408050228706223, -0.9421806952725723, -0.40635791942319677, -0.29625959386952366, -0.13368942785679508, 0.03284719554202575, 0.2069435945580703, 0.3484682099868328, 0.4577618060087456, 0.012930230362673769, 0.5144058908005434, 1.0], \"y\": [-0.19460369662371044, 0.11136108654788407, -0.005749501279647054, 0.3116030644131195, 0.8115817544776617, 0.4261942116260466, 0.5818831205893545, 0.4470020742454164, 0.3737622315521914, 0.19233346723125827, 0.31016985613362263, 0.21046701104429055, 0.2423799552227577, 0.6210745141866756, -0.16165574978107067, 0.08379384879338467, -0.04984440707181153, -0.23281843667254976, -0.37131041220409333, -0.38436445220253435, 0.21953437182605778, -0.3824377155330986, -0.5063785933731815, -0.5826613003565587, -0.5960663849062264, -0.5689445376212957, -0.4693819633359954, -0.34580146552653557, -0.07166593739119444, -0.17425306973975577, 0.15479705572953792]}, {\"hoverinfo\": \"text\", \"marker\": {\"opacity\": 0}, \"mode\": \"markers\", \"opacity\": 0, \"text\": [\"30\", \"32\", \"50\", \"25\", \"26\", \"33\", \"13\", \"36\", \"25\", \"88\", \"16\", \"26\", \"35\", \"96\", \"36\", \"31\", \"48\", \"149\", \"31\", \"71\", \"25\", \"30\", \"28\", \"29\", \"33\", \"26\", \"36\", \"47\", \"47\", \"40\"], \"type\": \"scatter\", \"x\": [0.15828883492776138, 0.15392575034854203, 0.2372248487652627, 0.15938337573704647, -0.45975766915574584, 0.0941566766989122, -0.616496275518866, 0.0061186264286663804, -0.07441891818135642, -0.09371346022030068, -0.6947189240250096, -0.21716346120738647, 0.6470246521084967, 0.2714078138883639, 0.7649426987070269, 0.037395009389842526, -0.13710690108713208, -0.17431646186320304, -0.23321963723393166, -0.2354533975689512, -0.06162691398698367, 0.068505366324868, -0.1967138445302615, -0.14166468175342495, -0.060379598747060656, 0.02288871295234976, 0.10993691246037203, 0.1806992201747533, 0.2353460181857097, 0.26366806058160863], \"y\": [-0.13313481700745244, 0.019847574578344816, -0.03870771933542075, 0.11996856351096255, 0.5608758053056422, 0.17726413711742608, 0.4460264883614886, 0.18766806842711098, 0.1510481470804985, 0.06033376492003192, 0.2648521139798402, 0.1192519593712141, 0.41577076261548307, 0.06940053682654806, 0.18263203338691425, 0.08535700891578163, -0.11666084358613255, 0.006063955701095115, -0.06075517223150298, -0.1522421870318721, -0.22148817479764388, -0.22801519479686438, -0.2270518264621465, -0.28902226538218795, -0.32716361887387657, -0.3338661611487104, -0.32030523750624507, -0.27052395036359494, -0.208733701458865, -0.12295950356547511]}],                        {\"autosize\": false, \"height\": 500, \"hovermode\": \"closest\", \"margin\": {\"b\": 10, \"l\": 10, \"r\": 10, \"t\": 10}, \"plot_bgcolor\": \"rgba(0,0,0,0)\", \"showlegend\": false, \"template\": {\"data\": {\"bar\": [{\"error_x\": {\"color\": \"#2a3f5f\"}, \"error_y\": {\"color\": \"#2a3f5f\"}, \"marker\": {\"line\": {\"color\": \"#E5ECF6\", \"width\": 0.5}}, \"type\": \"bar\"}], \"barpolar\": [{\"marker\": {\"line\": {\"color\": \"#E5ECF6\", \"width\": 0.5}}, \"type\": \"barpolar\"}], \"carpet\": [{\"aaxis\": {\"endlinecolor\": \"#2a3f5f\", \"gridcolor\": \"white\", \"linecolor\": \"white\", \"minorgridcolor\": \"white\", \"startlinecolor\": \"#2a3f5f\"}, \"baxis\": {\"endlinecolor\": \"#2a3f5f\", \"gridcolor\": \"white\", \"linecolor\": \"white\", \"minorgridcolor\": \"white\", \"startlinecolor\": \"#2a3f5f\"}, \"type\": \"carpet\"}], \"choropleth\": [{\"colorbar\": {\"outlinewidth\": 0, \"ticks\": \"\"}, \"type\": \"choropleth\"}], \"contour\": [{\"colorbar\": {\"outlinewidth\": 0, \"ticks\": \"\"}, \"colorscale\": [[0.0, \"#0d0887\"], [0.1111111111111111, \"#46039f\"], [0.2222222222222222, \"#7201a8\"], [0.3333333333333333, \"#9c179e\"], [0.4444444444444444, \"#bd3786\"], [0.5555555555555556, \"#d8576b\"], [0.6666666666666666, \"#ed7953\"], [0.7777777777777778, \"#fb9f3a\"], [0.8888888888888888, \"#fdca26\"], [1.0, \"#f0f921\"]], \"type\": \"contour\"}], \"contourcarpet\": [{\"colorbar\": {\"outlinewidth\": 0, \"ticks\": \"\"}, \"type\": \"contourcarpet\"}], \"heatmap\": [{\"colorbar\": {\"outlinewidth\": 0, \"ticks\": \"\"}, \"colorscale\": [[0.0, \"#0d0887\"], [0.1111111111111111, \"#46039f\"], [0.2222222222222222, \"#7201a8\"], [0.3333333333333333, \"#9c179e\"], [0.4444444444444444, \"#bd3786\"], [0.5555555555555556, \"#d8576b\"], [0.6666666666666666, \"#ed7953\"], [0.7777777777777778, \"#fb9f3a\"], [0.8888888888888888, \"#fdca26\"], [1.0, \"#f0f921\"]], \"type\": \"heatmap\"}], \"heatmapgl\": [{\"colorbar\": {\"outlinewidth\": 0, \"ticks\": \"\"}, \"colorscale\": [[0.0, \"#0d0887\"], [0.1111111111111111, \"#46039f\"], [0.2222222222222222, \"#7201a8\"], [0.3333333333333333, \"#9c179e\"], [0.4444444444444444, \"#bd3786\"], [0.5555555555555556, \"#d8576b\"], [0.6666666666666666, \"#ed7953\"], [0.7777777777777778, \"#fb9f3a\"], [0.8888888888888888, \"#fdca26\"], [1.0, \"#f0f921\"]], \"type\": \"heatmapgl\"}], \"histogram\": [{\"marker\": {\"colorbar\": {\"outlinewidth\": 0, \"ticks\": \"\"}}, \"type\": \"histogram\"}], \"histogram2d\": [{\"colorbar\": {\"outlinewidth\": 0, \"ticks\": \"\"}, \"colorscale\": [[0.0, \"#0d0887\"], [0.1111111111111111, \"#46039f\"], [0.2222222222222222, \"#7201a8\"], [0.3333333333333333, \"#9c179e\"], [0.4444444444444444, \"#bd3786\"], [0.5555555555555556, \"#d8576b\"], [0.6666666666666666, \"#ed7953\"], [0.7777777777777778, \"#fb9f3a\"], [0.8888888888888888, \"#fdca26\"], [1.0, \"#f0f921\"]], \"type\": \"histogram2d\"}], \"histogram2dcontour\": [{\"colorbar\": {\"outlinewidth\": 0, \"ticks\": \"\"}, \"colorscale\": [[0.0, \"#0d0887\"], [0.1111111111111111, \"#46039f\"], [0.2222222222222222, \"#7201a8\"], [0.3333333333333333, \"#9c179e\"], [0.4444444444444444, \"#bd3786\"], [0.5555555555555556, \"#d8576b\"], [0.6666666666666666, \"#ed7953\"], [0.7777777777777778, \"#fb9f3a\"], [0.8888888888888888, \"#fdca26\"], [1.0, \"#f0f921\"]], \"type\": \"histogram2dcontour\"}], \"mesh3d\": [{\"colorbar\": {\"outlinewidth\": 0, \"ticks\": \"\"}, \"type\": \"mesh3d\"}], \"parcoords\": [{\"line\": {\"colorbar\": {\"outlinewidth\": 0, \"ticks\": \"\"}}, \"type\": \"parcoords\"}], \"pie\": [{\"automargin\": true, \"type\": \"pie\"}], \"scatter\": [{\"marker\": {\"colorbar\": {\"outlinewidth\": 0, \"ticks\": \"\"}}, \"type\": \"scatter\"}], \"scatter3d\": [{\"line\": {\"colorbar\": {\"outlinewidth\": 0, \"ticks\": \"\"}}, \"marker\": {\"colorbar\": {\"outlinewidth\": 0, \"ticks\": \"\"}}, \"type\": \"scatter3d\"}], \"scattercarpet\": [{\"marker\": {\"colorbar\": {\"outlinewidth\": 0, \"ticks\": \"\"}}, \"type\": \"scattercarpet\"}], \"scattergeo\": [{\"marker\": {\"colorbar\": {\"outlinewidth\": 0, \"ticks\": \"\"}}, \"type\": \"scattergeo\"}], \"scattergl\": [{\"marker\": {\"colorbar\": {\"outlinewidth\": 0, \"ticks\": \"\"}}, \"type\": \"scattergl\"}], \"scattermapbox\": [{\"marker\": {\"colorbar\": {\"outlinewidth\": 0, \"ticks\": \"\"}}, \"type\": \"scattermapbox\"}], \"scatterpolar\": [{\"marker\": {\"colorbar\": {\"outlinewidth\": 0, \"ticks\": \"\"}}, \"type\": \"scatterpolar\"}], \"scatterpolargl\": [{\"marker\": {\"colorbar\": {\"outlinewidth\": 0, \"ticks\": \"\"}}, \"type\": \"scatterpolargl\"}], \"scatterternary\": [{\"marker\": {\"colorbar\": {\"outlinewidth\": 0, \"ticks\": \"\"}}, \"type\": \"scatterternary\"}], \"surface\": [{\"colorbar\": {\"outlinewidth\": 0, \"ticks\": \"\"}, \"colorscale\": [[0.0, \"#0d0887\"], [0.1111111111111111, \"#46039f\"], [0.2222222222222222, \"#7201a8\"], [0.3333333333333333, \"#9c179e\"], [0.4444444444444444, \"#bd3786\"], [0.5555555555555556, \"#d8576b\"], [0.6666666666666666, \"#ed7953\"], [0.7777777777777778, \"#fb9f3a\"], [0.8888888888888888, \"#fdca26\"], [1.0, \"#f0f921\"]], \"type\": \"surface\"}], \"table\": [{\"cells\": {\"fill\": {\"color\": \"#EBF0F8\"}, \"line\": {\"color\": \"white\"}}, \"header\": {\"fill\": {\"color\": \"#C8D4E3\"}, \"line\": {\"color\": \"white\"}}, \"type\": \"table\"}]}, \"layout\": {\"annotationdefaults\": {\"arrowcolor\": \"#2a3f5f\", \"arrowhead\": 0, \"arrowwidth\": 1}, \"coloraxis\": {\"colorbar\": {\"outlinewidth\": 0, \"ticks\": \"\"}}, \"colorscale\": {\"diverging\": [[0, \"#8e0152\"], [0.1, \"#c51b7d\"], [0.2, \"#de77ae\"], [0.3, \"#f1b6da\"], [0.4, \"#fde0ef\"], [0.5, \"#f7f7f7\"], [0.6, \"#e6f5d0\"], [0.7, \"#b8e186\"], [0.8, \"#7fbc41\"], [0.9, \"#4d9221\"], [1, \"#276419\"]], \"sequential\": [[0.0, \"#0d0887\"], [0.1111111111111111, \"#46039f\"], [0.2222222222222222, \"#7201a8\"], [0.3333333333333333, \"#9c179e\"], [0.4444444444444444, \"#bd3786\"], [0.5555555555555556, \"#d8576b\"], [0.6666666666666666, \"#ed7953\"], [0.7777777777777778, \"#fb9f3a\"], [0.8888888888888888, \"#fdca26\"], [1.0, \"#f0f921\"]], \"sequentialminus\": [[0.0, \"#0d0887\"], [0.1111111111111111, \"#46039f\"], [0.2222222222222222, \"#7201a8\"], [0.3333333333333333, \"#9c179e\"], [0.4444444444444444, \"#bd3786\"], [0.5555555555555556, \"#d8576b\"], [0.6666666666666666, \"#ed7953\"], [0.7777777777777778, \"#fb9f3a\"], [0.8888888888888888, \"#fdca26\"], [1.0, \"#f0f921\"]]}, \"colorway\": [\"#636efa\", \"#EF553B\", \"#00cc96\", \"#ab63fa\", \"#FFA15A\", \"#19d3f3\", \"#FF6692\", \"#B6E880\", \"#FF97FF\", \"#FECB52\"], \"font\": {\"color\": \"#2a3f5f\"}, \"geo\": {\"bgcolor\": \"white\", \"lakecolor\": \"white\", \"landcolor\": \"#E5ECF6\", \"showlakes\": true, \"showland\": true, \"subunitcolor\": \"white\"}, \"hoverlabel\": {\"align\": \"left\"}, \"hovermode\": \"closest\", \"mapbox\": {\"style\": \"light\"}, \"paper_bgcolor\": \"white\", \"plot_bgcolor\": \"#E5ECF6\", \"polar\": {\"angularaxis\": {\"gridcolor\": \"white\", \"linecolor\": \"white\", \"ticks\": \"\"}, \"bgcolor\": \"#E5ECF6\", \"radialaxis\": {\"gridcolor\": \"white\", \"linecolor\": \"white\", \"ticks\": \"\"}}, \"scene\": {\"xaxis\": {\"backgroundcolor\": \"#E5ECF6\", \"gridcolor\": \"white\", \"gridwidth\": 2, \"linecolor\": \"white\", \"showbackground\": true, \"ticks\": \"\", \"zerolinecolor\": \"white\"}, \"yaxis\": {\"backgroundcolor\": \"#E5ECF6\", \"gridcolor\": \"white\", \"gridwidth\": 2, \"linecolor\": \"white\", \"showbackground\": true, \"ticks\": \"\", \"zerolinecolor\": \"white\"}, \"zaxis\": {\"backgroundcolor\": \"#E5ECF6\", \"gridcolor\": \"white\", \"gridwidth\": 2, \"linecolor\": \"white\", \"showbackground\": true, \"ticks\": \"\", \"zerolinecolor\": \"white\"}}, \"shapedefaults\": {\"line\": {\"color\": \"#2a3f5f\"}}, \"ternary\": {\"aaxis\": {\"gridcolor\": \"white\", \"linecolor\": \"white\", \"ticks\": \"\"}, \"baxis\": {\"gridcolor\": \"white\", \"linecolor\": \"white\", \"ticks\": \"\"}, \"bgcolor\": \"#E5ECF6\", \"caxis\": {\"gridcolor\": \"white\", \"linecolor\": \"white\", \"ticks\": \"\"}}, \"title\": {\"x\": 0.05}, \"xaxis\": {\"automargin\": true, \"gridcolor\": \"white\", \"linecolor\": \"white\", \"ticks\": \"\", \"title\": {\"standoff\": 15}, \"zerolinecolor\": \"white\", \"zerolinewidth\": 2}, \"yaxis\": {\"automargin\": true, \"gridcolor\": \"white\", \"linecolor\": \"white\", \"ticks\": \"\", \"title\": {\"standoff\": 15}, \"zerolinecolor\": \"white\", \"zerolinewidth\": 2}}}, \"title\": {\"font\": {\"size\": 16}}, \"width\": 500, \"xaxis\": {\"showgrid\": false, \"showticklabels\": false, \"zeroline\": false}, \"yaxis\": {\"showgrid\": false, \"showticklabels\": false, \"zeroline\": false}},                        {\"responsive\": true}                    ).then(function(){\n",
       "                            \n",
       "var gd = document.getElementById('c0e2592f-b208-4154-8d63-9adde6577bb6');\n",
       "var x = new MutationObserver(function (mutations, observer) {{\n",
       "        var display = window.getComputedStyle(gd).display;\n",
       "        if (!display || display === 'none') {{\n",
       "            console.log([gd, 'removed!']);\n",
       "            Plotly.purge(gd);\n",
       "            observer.disconnect();\n",
       "        }}\n",
       "}});\n",
       "\n",
       "// Listen for the removal of the full notebook cells\n",
       "var notebookContainer = gd.closest('#notebook-container');\n",
       "if (notebookContainer) {{\n",
       "    x.observe(notebookContainer, {childList: true});\n",
       "}}\n",
       "\n",
       "// Listen for the clearing of the current output cell\n",
       "var outputEl = gd.closest('.output');\n",
       "if (outputEl) {{\n",
       "    x.observe(outputEl, {childList: true});\n",
       "}}\n",
       "\n",
       "                        })                };                });            </script>        </div>"
      ]
     },
     "metadata": {},
     "output_type": "display_data"
    }
   ],
   "source": [
    "configure_plotly_browser_state()\n",
    "ego_network = construct_ego_network(network_sentences, \"δικαιοσύνη\", 30, reduced=True)\n",
    "ego_network.edges.data()\n",
    "fig = textnet.draw_2d_network(ego_network)\n",
    "fig.show()"
   ]
  },
  {
   "cell_type": "code",
   "execution_count": 140,
   "metadata": {},
   "outputs": [],
   "source": [
    "fig.write_image(\"../figures/dik_egonet_sentences_30.png\")"
   ]
  },
  {
   "cell_type": "code",
   "execution_count": 142,
   "metadata": {},
   "outputs": [
    {
     "data": {
      "text/html": [
       "\n",
       "        <script src=\"/static/components/requirejs/require.js\"></script>\n",
       "        <script>\n",
       "          requirejs.config({\n",
       "            paths: {\n",
       "              base: '/static/base',\n",
       "              plotly: 'https://cdn.plot.ly/plotly-latest.min.js?noext',\n",
       "            },\n",
       "          });\n",
       "        </script>\n",
       "        "
      ],
      "text/plain": [
       "<IPython.core.display.HTML object>"
      ]
     },
     "metadata": {},
     "output_type": "display_data"
    },
    {
     "data": {
      "application/vnd.plotly.v1+json": {
       "config": {
        "plotlyServerURL": "https://plot.ly"
       },
       "data": [
        {
         "line": {
          "color": "#000000",
          "width": 1
         },
         "mode": "lines",
         "type": "scatter",
         "x": [
          0.30426604126463475,
          0.5489047793231175,
          null,
          0.5489047793231175,
          0.7705308562073265,
          null
         ],
         "y": [
          -0.34121345672298764,
          -0.5667938107782865,
          null,
          -0.5667938107782865,
          -0.7732528039774026,
          null
         ]
        },
        {
         "line": {
          "color": "#404040",
          "width": 0.7
         },
         "mode": "lines",
         "type": "scatter",
         "x": [
          -0.4111813422312003,
          -0.008053180897537888,
          null,
          -0.008053180897537888,
          -0.015005450109886792,
          null,
          -0.008053180897537888,
          -0.1590449122499425,
          null,
          -0.008053180897537888,
          -0.3022806801333975,
          null,
          -0.008053180897537888,
          0.14361937769648198,
          null
         ],
         "y": [
          -0.15979018006588055,
          -0.05598078717167062,
          null,
          -0.05598078717167062,
          0.22241008664047188,
          null,
          -0.05598078717167062,
          0.2712288844389385,
          null,
          -0.05598078717167062,
          -0.2958338416873828,
          null,
          -0.05598078717167062,
          0.15652919789880956,
          null
         ]
        },
        {
         "line": {
          "color": "#C0C0C0",
          "width": 0.5
         },
         "mode": "lines",
         "type": "scatter",
         "x": [
          0.30426604126463475,
          -0.008053180897537888,
          null,
          -0.4111813422312003,
          -0.7509193617978881,
          null,
          -0.4111813422312003,
          -0.5668244489380143,
          null,
          -0.008053180897537888,
          0.14072023832243782,
          null,
          -0.008053180897537888,
          -0.3029646276609175,
          null,
          -0.008053180897537888,
          -0.18139555220472084,
          null,
          -0.008053180897537888,
          -0.3505536011301537,
          null,
          -0.008053180897537888,
          -0.2515429904422895,
          null,
          -0.008053180897537888,
          -0.12754743999205975,
          null,
          -0.008053180897537888,
          -0.11517538225000326,
          null,
          -0.008053180897537888,
          0.0010422200334541422,
          null,
          -0.008053180897537888,
          0.11785001288908052,
          null,
          -0.008053180897537888,
          0.15698373472846494,
          null,
          -0.008053180897537888,
          0.2304040536254776,
          null,
          -0.008053180897537888,
          0.29362971760031276,
          null,
          -0.008053180897537888,
          0.33523206451817095,
          null,
          -0.008053180897537888,
          0.3764263966531842,
          null,
          -0.005430823526077504,
          0.14680536315118173,
          null,
          -0.005430823526077504,
          -0.23673918495312865,
          null,
          -0.005430823526077504,
          0.14072023832243782,
          null,
          -0.3022806801333975,
          -0.6460746836508837,
          null,
          0.14072023832243782,
          0.516980469411877,
          null,
          0.14072023832243782,
          0.34733833674289866,
          null
         ],
         "y": [
          -0.34121345672298764,
          -0.05598078717167062,
          null,
          -0.15979018006588055,
          -0.04008995515281865,
          null,
          -0.15979018006588055,
          -0.5149389822346543,
          null,
          -0.05598078717167062,
          0.3607297515822707,
          null,
          -0.05598078717167062,
          0.19750708789188232,
          null,
          -0.05598078717167062,
          0.114534888148451,
          null,
          -0.05598078717167062,
          0.05692258552232816,
          null,
          -0.05598078717167062,
          -0.0819633426250603,
          null,
          -0.05598078717167062,
          -0.4009316209851352,
          null,
          -0.05598078717167062,
          -0.26099292465534063,
          null,
          -0.05598078717167062,
          -0.42668316378000265,
          null,
          -0.05598078717167062,
          -0.38526839445976696,
          null,
          -0.05598078717167062,
          -0.24193412110314685,
          null,
          -0.05598078717167062,
          -0.04035720624118609,
          null,
          -0.05598078717167062,
          0.11788789849125297,
          null,
          -0.05598078717167062,
          -0.16367324476526499,
          null,
          -0.05598078717167062,
          -0.015329564645556239,
          null,
          0.7037840220938151,
          1,
          null,
          0.7037840220938151,
          0.9493995206082478,
          null,
          0.7037840220938151,
          0.3607297515822707,
          null,
          -0.2958338416873828,
          -0.42023484609090894,
          null,
          0.3607297515822707,
          0.43884471535425407,
          null,
          0.3607297515822707,
          0.5954836084717305,
          null
         ]
        },
        {
         "hoverinfo": "text",
         "hovertext": [
          "2",
          "2",
          "1",
          "3",
          "20",
          "1",
          "1",
          "3",
          "2",
          "1",
          "1",
          "1",
          "1",
          "1",
          "4",
          "1",
          "1",
          "1",
          "1",
          "1",
          "1",
          "1",
          "1",
          "1",
          "1",
          "1",
          "1",
          "1",
          "1",
          "1",
          "1"
         ],
         "marker": {
          "color": [
           19,
           13,
           6,
           21,
           128,
           5,
           5,
           30,
           12,
           6,
           5,
           5,
           5,
           5,
           27,
           3,
           4,
           4,
           7,
           6,
           3,
           7,
           6,
           10,
           8,
           4,
           8,
           6,
           6,
           5,
           9
          ],
          "colorbar": {
           "thickness": 15,
           "title": {
            "side": "right",
            "text": "degree"
           },
           "xanchor": "left"
          },
          "colorscale": [
           [
            0,
            "rgb(255,255,255)"
           ],
           [
            0.125,
            "rgb(240,240,240)"
           ],
           [
            0.25,
            "rgb(217,217,217)"
           ],
           [
            0.375,
            "rgb(189,189,189)"
           ],
           [
            0.5,
            "rgb(150,150,150)"
           ],
           [
            0.625,
            "rgb(115,115,115)"
           ],
           [
            0.75,
            "rgb(82,82,82)"
           ],
           [
            0.875,
            "rgb(37,37,37)"
           ],
           [
            1,
            "rgb(0,0,0)"
           ]
          ],
          "line": {
           "width": 1
          },
          "showscale": false,
          "size": 7
         },
         "mode": "markers+text",
         "text": [
          "Χριστός",
          "Ἰησοῦς",
          "κύριος",
          "εἰμί",
          "θεός",
          "χάρις",
          "πατήρ",
          "νομός",
          "πνεῦμα",
          "εἰρήνη",
          "ἔργον",
          "αὐτός",
          "ἅγιος",
          "οὗτος",
          "δικαιοσύνη",
          "πᾶς",
          "οἶδα",
          "υἱός",
          "δύναμις",
          "θέλημα",
          "ἔχω",
          "ἁμαρτία",
          "δίδωμι",
          "εὐχαριστέω",
          "γιγνώσκω",
          "δόξα",
          "ἐκκλησία",
          "πίστις",
          "ἀγαπάω",
          "σοφία",
          "λογίζομαι"
         ],
         "textposition": "bottom center",
         "type": "scatter",
         "x": [
          0.30426604126463475,
          0.5489047793231175,
          0.7705308562073265,
          -0.4111813422312003,
          -0.008053180897537888,
          -0.015005450109886792,
          -0.1590449122499425,
          -0.005430823526077504,
          -0.3022806801333975,
          0.14361937769648198,
          0.14680536315118173,
          -0.7509193617978881,
          -0.6460746836508837,
          -0.5668244489380143,
          0.14072023832243782,
          -0.3029646276609175,
          -0.18139555220472084,
          -0.3505536011301537,
          -0.2515429904422895,
          -0.12754743999205975,
          -0.11517538225000326,
          -0.23673918495312865,
          0.0010422200334541422,
          0.11785001288908052,
          0.15698373472846494,
          0.2304040536254776,
          0.29362971760031276,
          0.516980469411877,
          0.33523206451817095,
          0.3764263966531842,
          0.34733833674289866
         ],
         "y": [
          -0.34121345672298764,
          -0.5667938107782865,
          -0.7732528039774026,
          -0.15979018006588055,
          -0.05598078717167062,
          0.22241008664047188,
          0.2712288844389385,
          0.7037840220938151,
          -0.2958338416873828,
          0.15652919789880956,
          1,
          -0.04008995515281865,
          -0.42023484609090894,
          -0.5149389822346543,
          0.3607297515822707,
          0.19750708789188232,
          0.114534888148451,
          0.05692258552232816,
          -0.0819633426250603,
          -0.4009316209851352,
          -0.26099292465534063,
          0.9493995206082478,
          -0.42668316378000265,
          -0.38526839445976696,
          -0.24193412110314685,
          -0.04035720624118609,
          0.11788789849125297,
          0.43884471535425407,
          -0.16367324476526499,
          -0.015329564645556239,
          0.5954836084717305
         ]
        },
        {
         "hoverinfo": "text",
         "marker": {
          "opacity": 0
         },
         "mode": "markers",
         "opacity": 0,
         "text": [
          "83",
          "11",
          "55",
          "20",
          "11",
          "11",
          "20",
          "18",
          "15",
          "13",
          "10",
          "10",
          "10",
          "9",
          "9",
          "9",
          "9",
          "9",
          "8",
          "8",
          "8",
          "8",
          "7",
          "7",
          "12",
          "9",
          "7",
          "11",
          "7",
          "6"
         ],
         "type": "scatter",
         "x": [
          0.42658541029387614,
          0.14810643018354844,
          0.6597178177652221,
          -0.20961726156436908,
          -0.5810503520145442,
          -0.4890028955846073,
          -0.011529315503712341,
          -0.0835490465737402,
          -0.15516693051546768,
          0.06778309839947204,
          0.06633352871244996,
          -0.15550890427922767,
          -0.09472436655112937,
          -0.1793033910138458,
          -0.1297980856699137,
          -0.06780031044479883,
          -0.06161428157377057,
          -0.003505480432041873,
          0.05489841599577132,
          0.07446527691546352,
          0.11117543636396986,
          0.14278826835138744,
          0.16358944181031654,
          0.18418660787782318,
          0.0706872698125521,
          -0.12108500423960308,
          0.06764470739818015,
          -0.4741776818921406,
          0.32885035386715744,
          0.24402928753266823
         ],
         "y": [
          -0.45400363375063707,
          -0.19859712194732912,
          -0.6700233073778445,
          -0.10788548361877559,
          -0.0999400676093496,
          -0.3373645811502674,
          0.08321464973440063,
          0.10762404863363394,
          -0.1759073144295267,
          0.05027420536356947,
          0.15237448220530006,
          0.07076315036010584,
          0.029277050488390192,
          0.0004708991753287692,
          -0.06897206489836546,
          -0.2284562040784029,
          -0.15848685591350561,
          -0.24133197547583662,
          -0.22062459081571878,
          -0.14895745413740874,
          -0.04816899670642835,
          0.030953555659791177,
          -0.1098270159684678,
          -0.03565517590861343,
          0.8518920110469075,
          0.8265917713510315,
          0.5322568868380428,
          -0.3580343438891459,
          0.3997872334682624,
          0.47810668002700063
         ]
        }
       ],
       "layout": {
        "autosize": false,
        "height": 500,
        "hovermode": "closest",
        "margin": {
         "b": 10,
         "l": 10,
         "r": 10,
         "t": 10
        },
        "plot_bgcolor": "rgba(0,0,0,0)",
        "showlegend": false,
        "template": {
         "data": {
          "bar": [
           {
            "error_x": {
             "color": "#2a3f5f"
            },
            "error_y": {
             "color": "#2a3f5f"
            },
            "marker": {
             "line": {
              "color": "#E5ECF6",
              "width": 0.5
             }
            },
            "type": "bar"
           }
          ],
          "barpolar": [
           {
            "marker": {
             "line": {
              "color": "#E5ECF6",
              "width": 0.5
             }
            },
            "type": "barpolar"
           }
          ],
          "carpet": [
           {
            "aaxis": {
             "endlinecolor": "#2a3f5f",
             "gridcolor": "white",
             "linecolor": "white",
             "minorgridcolor": "white",
             "startlinecolor": "#2a3f5f"
            },
            "baxis": {
             "endlinecolor": "#2a3f5f",
             "gridcolor": "white",
             "linecolor": "white",
             "minorgridcolor": "white",
             "startlinecolor": "#2a3f5f"
            },
            "type": "carpet"
           }
          ],
          "choropleth": [
           {
            "colorbar": {
             "outlinewidth": 0,
             "ticks": ""
            },
            "type": "choropleth"
           }
          ],
          "contour": [
           {
            "colorbar": {
             "outlinewidth": 0,
             "ticks": ""
            },
            "colorscale": [
             [
              0,
              "#0d0887"
             ],
             [
              0.1111111111111111,
              "#46039f"
             ],
             [
              0.2222222222222222,
              "#7201a8"
             ],
             [
              0.3333333333333333,
              "#9c179e"
             ],
             [
              0.4444444444444444,
              "#bd3786"
             ],
             [
              0.5555555555555556,
              "#d8576b"
             ],
             [
              0.6666666666666666,
              "#ed7953"
             ],
             [
              0.7777777777777778,
              "#fb9f3a"
             ],
             [
              0.8888888888888888,
              "#fdca26"
             ],
             [
              1,
              "#f0f921"
             ]
            ],
            "type": "contour"
           }
          ],
          "contourcarpet": [
           {
            "colorbar": {
             "outlinewidth": 0,
             "ticks": ""
            },
            "type": "contourcarpet"
           }
          ],
          "heatmap": [
           {
            "colorbar": {
             "outlinewidth": 0,
             "ticks": ""
            },
            "colorscale": [
             [
              0,
              "#0d0887"
             ],
             [
              0.1111111111111111,
              "#46039f"
             ],
             [
              0.2222222222222222,
              "#7201a8"
             ],
             [
              0.3333333333333333,
              "#9c179e"
             ],
             [
              0.4444444444444444,
              "#bd3786"
             ],
             [
              0.5555555555555556,
              "#d8576b"
             ],
             [
              0.6666666666666666,
              "#ed7953"
             ],
             [
              0.7777777777777778,
              "#fb9f3a"
             ],
             [
              0.8888888888888888,
              "#fdca26"
             ],
             [
              1,
              "#f0f921"
             ]
            ],
            "type": "heatmap"
           }
          ],
          "heatmapgl": [
           {
            "colorbar": {
             "outlinewidth": 0,
             "ticks": ""
            },
            "colorscale": [
             [
              0,
              "#0d0887"
             ],
             [
              0.1111111111111111,
              "#46039f"
             ],
             [
              0.2222222222222222,
              "#7201a8"
             ],
             [
              0.3333333333333333,
              "#9c179e"
             ],
             [
              0.4444444444444444,
              "#bd3786"
             ],
             [
              0.5555555555555556,
              "#d8576b"
             ],
             [
              0.6666666666666666,
              "#ed7953"
             ],
             [
              0.7777777777777778,
              "#fb9f3a"
             ],
             [
              0.8888888888888888,
              "#fdca26"
             ],
             [
              1,
              "#f0f921"
             ]
            ],
            "type": "heatmapgl"
           }
          ],
          "histogram": [
           {
            "marker": {
             "colorbar": {
              "outlinewidth": 0,
              "ticks": ""
             }
            },
            "type": "histogram"
           }
          ],
          "histogram2d": [
           {
            "colorbar": {
             "outlinewidth": 0,
             "ticks": ""
            },
            "colorscale": [
             [
              0,
              "#0d0887"
             ],
             [
              0.1111111111111111,
              "#46039f"
             ],
             [
              0.2222222222222222,
              "#7201a8"
             ],
             [
              0.3333333333333333,
              "#9c179e"
             ],
             [
              0.4444444444444444,
              "#bd3786"
             ],
             [
              0.5555555555555556,
              "#d8576b"
             ],
             [
              0.6666666666666666,
              "#ed7953"
             ],
             [
              0.7777777777777778,
              "#fb9f3a"
             ],
             [
              0.8888888888888888,
              "#fdca26"
             ],
             [
              1,
              "#f0f921"
             ]
            ],
            "type": "histogram2d"
           }
          ],
          "histogram2dcontour": [
           {
            "colorbar": {
             "outlinewidth": 0,
             "ticks": ""
            },
            "colorscale": [
             [
              0,
              "#0d0887"
             ],
             [
              0.1111111111111111,
              "#46039f"
             ],
             [
              0.2222222222222222,
              "#7201a8"
             ],
             [
              0.3333333333333333,
              "#9c179e"
             ],
             [
              0.4444444444444444,
              "#bd3786"
             ],
             [
              0.5555555555555556,
              "#d8576b"
             ],
             [
              0.6666666666666666,
              "#ed7953"
             ],
             [
              0.7777777777777778,
              "#fb9f3a"
             ],
             [
              0.8888888888888888,
              "#fdca26"
             ],
             [
              1,
              "#f0f921"
             ]
            ],
            "type": "histogram2dcontour"
           }
          ],
          "mesh3d": [
           {
            "colorbar": {
             "outlinewidth": 0,
             "ticks": ""
            },
            "type": "mesh3d"
           }
          ],
          "parcoords": [
           {
            "line": {
             "colorbar": {
              "outlinewidth": 0,
              "ticks": ""
             }
            },
            "type": "parcoords"
           }
          ],
          "pie": [
           {
            "automargin": true,
            "type": "pie"
           }
          ],
          "scatter": [
           {
            "marker": {
             "colorbar": {
              "outlinewidth": 0,
              "ticks": ""
             }
            },
            "type": "scatter"
           }
          ],
          "scatter3d": [
           {
            "line": {
             "colorbar": {
              "outlinewidth": 0,
              "ticks": ""
             }
            },
            "marker": {
             "colorbar": {
              "outlinewidth": 0,
              "ticks": ""
             }
            },
            "type": "scatter3d"
           }
          ],
          "scattercarpet": [
           {
            "marker": {
             "colorbar": {
              "outlinewidth": 0,
              "ticks": ""
             }
            },
            "type": "scattercarpet"
           }
          ],
          "scattergeo": [
           {
            "marker": {
             "colorbar": {
              "outlinewidth": 0,
              "ticks": ""
             }
            },
            "type": "scattergeo"
           }
          ],
          "scattergl": [
           {
            "marker": {
             "colorbar": {
              "outlinewidth": 0,
              "ticks": ""
             }
            },
            "type": "scattergl"
           }
          ],
          "scattermapbox": [
           {
            "marker": {
             "colorbar": {
              "outlinewidth": 0,
              "ticks": ""
             }
            },
            "type": "scattermapbox"
           }
          ],
          "scatterpolar": [
           {
            "marker": {
             "colorbar": {
              "outlinewidth": 0,
              "ticks": ""
             }
            },
            "type": "scatterpolar"
           }
          ],
          "scatterpolargl": [
           {
            "marker": {
             "colorbar": {
              "outlinewidth": 0,
              "ticks": ""
             }
            },
            "type": "scatterpolargl"
           }
          ],
          "scatterternary": [
           {
            "marker": {
             "colorbar": {
              "outlinewidth": 0,
              "ticks": ""
             }
            },
            "type": "scatterternary"
           }
          ],
          "surface": [
           {
            "colorbar": {
             "outlinewidth": 0,
             "ticks": ""
            },
            "colorscale": [
             [
              0,
              "#0d0887"
             ],
             [
              0.1111111111111111,
              "#46039f"
             ],
             [
              0.2222222222222222,
              "#7201a8"
             ],
             [
              0.3333333333333333,
              "#9c179e"
             ],
             [
              0.4444444444444444,
              "#bd3786"
             ],
             [
              0.5555555555555556,
              "#d8576b"
             ],
             [
              0.6666666666666666,
              "#ed7953"
             ],
             [
              0.7777777777777778,
              "#fb9f3a"
             ],
             [
              0.8888888888888888,
              "#fdca26"
             ],
             [
              1,
              "#f0f921"
             ]
            ],
            "type": "surface"
           }
          ],
          "table": [
           {
            "cells": {
             "fill": {
              "color": "#EBF0F8"
             },
             "line": {
              "color": "white"
             }
            },
            "header": {
             "fill": {
              "color": "#C8D4E3"
             },
             "line": {
              "color": "white"
             }
            },
            "type": "table"
           }
          ]
         },
         "layout": {
          "annotationdefaults": {
           "arrowcolor": "#2a3f5f",
           "arrowhead": 0,
           "arrowwidth": 1
          },
          "coloraxis": {
           "colorbar": {
            "outlinewidth": 0,
            "ticks": ""
           }
          },
          "colorscale": {
           "diverging": [
            [
             0,
             "#8e0152"
            ],
            [
             0.1,
             "#c51b7d"
            ],
            [
             0.2,
             "#de77ae"
            ],
            [
             0.3,
             "#f1b6da"
            ],
            [
             0.4,
             "#fde0ef"
            ],
            [
             0.5,
             "#f7f7f7"
            ],
            [
             0.6,
             "#e6f5d0"
            ],
            [
             0.7,
             "#b8e186"
            ],
            [
             0.8,
             "#7fbc41"
            ],
            [
             0.9,
             "#4d9221"
            ],
            [
             1,
             "#276419"
            ]
           ],
           "sequential": [
            [
             0,
             "#0d0887"
            ],
            [
             0.1111111111111111,
             "#46039f"
            ],
            [
             0.2222222222222222,
             "#7201a8"
            ],
            [
             0.3333333333333333,
             "#9c179e"
            ],
            [
             0.4444444444444444,
             "#bd3786"
            ],
            [
             0.5555555555555556,
             "#d8576b"
            ],
            [
             0.6666666666666666,
             "#ed7953"
            ],
            [
             0.7777777777777778,
             "#fb9f3a"
            ],
            [
             0.8888888888888888,
             "#fdca26"
            ],
            [
             1,
             "#f0f921"
            ]
           ],
           "sequentialminus": [
            [
             0,
             "#0d0887"
            ],
            [
             0.1111111111111111,
             "#46039f"
            ],
            [
             0.2222222222222222,
             "#7201a8"
            ],
            [
             0.3333333333333333,
             "#9c179e"
            ],
            [
             0.4444444444444444,
             "#bd3786"
            ],
            [
             0.5555555555555556,
             "#d8576b"
            ],
            [
             0.6666666666666666,
             "#ed7953"
            ],
            [
             0.7777777777777778,
             "#fb9f3a"
            ],
            [
             0.8888888888888888,
             "#fdca26"
            ],
            [
             1,
             "#f0f921"
            ]
           ]
          },
          "colorway": [
           "#636efa",
           "#EF553B",
           "#00cc96",
           "#ab63fa",
           "#FFA15A",
           "#19d3f3",
           "#FF6692",
           "#B6E880",
           "#FF97FF",
           "#FECB52"
          ],
          "font": {
           "color": "#2a3f5f"
          },
          "geo": {
           "bgcolor": "white",
           "lakecolor": "white",
           "landcolor": "#E5ECF6",
           "showlakes": true,
           "showland": true,
           "subunitcolor": "white"
          },
          "hoverlabel": {
           "align": "left"
          },
          "hovermode": "closest",
          "mapbox": {
           "style": "light"
          },
          "paper_bgcolor": "white",
          "plot_bgcolor": "#E5ECF6",
          "polar": {
           "angularaxis": {
            "gridcolor": "white",
            "linecolor": "white",
            "ticks": ""
           },
           "bgcolor": "#E5ECF6",
           "radialaxis": {
            "gridcolor": "white",
            "linecolor": "white",
            "ticks": ""
           }
          },
          "scene": {
           "xaxis": {
            "backgroundcolor": "#E5ECF6",
            "gridcolor": "white",
            "gridwidth": 2,
            "linecolor": "white",
            "showbackground": true,
            "ticks": "",
            "zerolinecolor": "white"
           },
           "yaxis": {
            "backgroundcolor": "#E5ECF6",
            "gridcolor": "white",
            "gridwidth": 2,
            "linecolor": "white",
            "showbackground": true,
            "ticks": "",
            "zerolinecolor": "white"
           },
           "zaxis": {
            "backgroundcolor": "#E5ECF6",
            "gridcolor": "white",
            "gridwidth": 2,
            "linecolor": "white",
            "showbackground": true,
            "ticks": "",
            "zerolinecolor": "white"
           }
          },
          "shapedefaults": {
           "line": {
            "color": "#2a3f5f"
           }
          },
          "ternary": {
           "aaxis": {
            "gridcolor": "white",
            "linecolor": "white",
            "ticks": ""
           },
           "baxis": {
            "gridcolor": "white",
            "linecolor": "white",
            "ticks": ""
           },
           "bgcolor": "#E5ECF6",
           "caxis": {
            "gridcolor": "white",
            "linecolor": "white",
            "ticks": ""
           }
          },
          "title": {
           "x": 0.05
          },
          "xaxis": {
           "automargin": true,
           "gridcolor": "white",
           "linecolor": "white",
           "ticks": "",
           "title": {
            "standoff": 15
           },
           "zerolinecolor": "white",
           "zerolinewidth": 2
          },
          "yaxis": {
           "automargin": true,
           "gridcolor": "white",
           "linecolor": "white",
           "ticks": "",
           "title": {
            "standoff": 15
           },
           "zerolinecolor": "white",
           "zerolinewidth": 2
          }
         }
        },
        "title": {
         "font": {
          "size": 16
         }
        },
        "width": 500,
        "xaxis": {
         "showgrid": false,
         "showticklabels": false,
         "zeroline": false
        },
        "yaxis": {
         "showgrid": false,
         "showticklabels": false,
         "zeroline": false
        }
       }
      },
      "text/html": [
       "<div>                            <div id=\"75be7ec3-2245-4afd-90fb-54bb5eb25d20\" class=\"plotly-graph-div\" style=\"height:500px; width:500px;\"></div>            <script type=\"text/javascript\">                require([\"plotly\"], function(Plotly) {                    window.PLOTLYENV=window.PLOTLYENV || {};                                    if (document.getElementById(\"75be7ec3-2245-4afd-90fb-54bb5eb25d20\")) {                    Plotly.newPlot(                        \"75be7ec3-2245-4afd-90fb-54bb5eb25d20\",                        [{\"line\": {\"color\": \"#000000\", \"width\": 1}, \"mode\": \"lines\", \"type\": \"scatter\", \"x\": [0.30426604126463475, 0.5489047793231175, null, 0.5489047793231175, 0.7705308562073265, null], \"y\": [-0.34121345672298764, -0.5667938107782865, null, -0.5667938107782865, -0.7732528039774026, null]}, {\"line\": {\"color\": \"#404040\", \"width\": 0.7}, \"mode\": \"lines\", \"type\": \"scatter\", \"x\": [-0.4111813422312003, -0.008053180897537888, null, -0.008053180897537888, -0.015005450109886792, null, -0.008053180897537888, -0.1590449122499425, null, -0.008053180897537888, -0.3022806801333975, null, -0.008053180897537888, 0.14361937769648198, null], \"y\": [-0.15979018006588055, -0.05598078717167062, null, -0.05598078717167062, 0.22241008664047188, null, -0.05598078717167062, 0.2712288844389385, null, -0.05598078717167062, -0.2958338416873828, null, -0.05598078717167062, 0.15652919789880956, null]}, {\"line\": {\"color\": \"#C0C0C0\", \"width\": 0.5}, \"mode\": \"lines\", \"type\": \"scatter\", \"x\": [0.30426604126463475, -0.008053180897537888, null, -0.4111813422312003, -0.7509193617978881, null, -0.4111813422312003, -0.5668244489380143, null, -0.008053180897537888, 0.14072023832243782, null, -0.008053180897537888, -0.3029646276609175, null, -0.008053180897537888, -0.18139555220472084, null, -0.008053180897537888, -0.3505536011301537, null, -0.008053180897537888, -0.2515429904422895, null, -0.008053180897537888, -0.12754743999205975, null, -0.008053180897537888, -0.11517538225000326, null, -0.008053180897537888, 0.0010422200334541422, null, -0.008053180897537888, 0.11785001288908052, null, -0.008053180897537888, 0.15698373472846494, null, -0.008053180897537888, 0.2304040536254776, null, -0.008053180897537888, 0.29362971760031276, null, -0.008053180897537888, 0.33523206451817095, null, -0.008053180897537888, 0.3764263966531842, null, -0.005430823526077504, 0.14680536315118173, null, -0.005430823526077504, -0.23673918495312865, null, -0.005430823526077504, 0.14072023832243782, null, -0.3022806801333975, -0.6460746836508837, null, 0.14072023832243782, 0.516980469411877, null, 0.14072023832243782, 0.34733833674289866, null], \"y\": [-0.34121345672298764, -0.05598078717167062, null, -0.15979018006588055, -0.04008995515281865, null, -0.15979018006588055, -0.5149389822346543, null, -0.05598078717167062, 0.3607297515822707, null, -0.05598078717167062, 0.19750708789188232, null, -0.05598078717167062, 0.114534888148451, null, -0.05598078717167062, 0.05692258552232816, null, -0.05598078717167062, -0.0819633426250603, null, -0.05598078717167062, -0.4009316209851352, null, -0.05598078717167062, -0.26099292465534063, null, -0.05598078717167062, -0.42668316378000265, null, -0.05598078717167062, -0.38526839445976696, null, -0.05598078717167062, -0.24193412110314685, null, -0.05598078717167062, -0.04035720624118609, null, -0.05598078717167062, 0.11788789849125297, null, -0.05598078717167062, -0.16367324476526499, null, -0.05598078717167062, -0.015329564645556239, null, 0.7037840220938151, 1.0, null, 0.7037840220938151, 0.9493995206082478, null, 0.7037840220938151, 0.3607297515822707, null, -0.2958338416873828, -0.42023484609090894, null, 0.3607297515822707, 0.43884471535425407, null, 0.3607297515822707, 0.5954836084717305, null]}, {\"hoverinfo\": \"text\", \"hovertext\": [\"2\", \"2\", \"1\", \"3\", \"20\", \"1\", \"1\", \"3\", \"2\", \"1\", \"1\", \"1\", \"1\", \"1\", \"4\", \"1\", \"1\", \"1\", \"1\", \"1\", \"1\", \"1\", \"1\", \"1\", \"1\", \"1\", \"1\", \"1\", \"1\", \"1\", \"1\"], \"marker\": {\"color\": [19, 13, 6, 21, 128, 5, 5, 30, 12, 6, 5, 5, 5, 5, 27, 3, 4, 4, 7, 6, 3, 7, 6, 10, 8, 4, 8, 6, 6, 5, 9], \"colorbar\": {\"thickness\": 15, \"title\": {\"side\": \"right\", \"text\": \"degree\"}, \"xanchor\": \"left\"}, \"colorscale\": [[0.0, \"rgb(255,255,255)\"], [0.125, \"rgb(240,240,240)\"], [0.25, \"rgb(217,217,217)\"], [0.375, \"rgb(189,189,189)\"], [0.5, \"rgb(150,150,150)\"], [0.625, \"rgb(115,115,115)\"], [0.75, \"rgb(82,82,82)\"], [0.875, \"rgb(37,37,37)\"], [1.0, \"rgb(0,0,0)\"]], \"line\": {\"width\": 1}, \"showscale\": false, \"size\": 7}, \"mode\": \"markers+text\", \"text\": [\"\\u03a7\\u03c1\\u03b9\\u03c3\\u03c4\\u03cc\\u03c2\", \"\\u1f38\\u03b7\\u03c3\\u03bf\\u1fe6\\u03c2\", \"\\u03ba\\u03cd\\u03c1\\u03b9\\u03bf\\u03c2\", \"\\u03b5\\u1f30\\u03bc\\u03af\", \"\\u03b8\\u03b5\\u03cc\\u03c2\", \"\\u03c7\\u03ac\\u03c1\\u03b9\\u03c2\", \"\\u03c0\\u03b1\\u03c4\\u03ae\\u03c1\", \"\\u03bd\\u03bf\\u03bc\\u03cc\\u03c2\", \"\\u03c0\\u03bd\\u03b5\\u1fe6\\u03bc\\u03b1\", \"\\u03b5\\u1f30\\u03c1\\u03ae\\u03bd\\u03b7\", \"\\u1f14\\u03c1\\u03b3\\u03bf\\u03bd\", \"\\u03b1\\u1f50\\u03c4\\u03cc\\u03c2\", \"\\u1f05\\u03b3\\u03b9\\u03bf\\u03c2\", \"\\u03bf\\u1f57\\u03c4\\u03bf\\u03c2\", \"\\u03b4\\u03b9\\u03ba\\u03b1\\u03b9\\u03bf\\u03c3\\u03cd\\u03bd\\u03b7\", \"\\u03c0\\u1fb6\\u03c2\", \"\\u03bf\\u1f36\\u03b4\\u03b1\", \"\\u03c5\\u1f31\\u03cc\\u03c2\", \"\\u03b4\\u03cd\\u03bd\\u03b1\\u03bc\\u03b9\\u03c2\", \"\\u03b8\\u03ad\\u03bb\\u03b7\\u03bc\\u03b1\", \"\\u1f14\\u03c7\\u03c9\", \"\\u1f01\\u03bc\\u03b1\\u03c1\\u03c4\\u03af\\u03b1\", \"\\u03b4\\u03af\\u03b4\\u03c9\\u03bc\\u03b9\", \"\\u03b5\\u1f50\\u03c7\\u03b1\\u03c1\\u03b9\\u03c3\\u03c4\\u03ad\\u03c9\", \"\\u03b3\\u03b9\\u03b3\\u03bd\\u03ce\\u03c3\\u03ba\\u03c9\", \"\\u03b4\\u03cc\\u03be\\u03b1\", \"\\u1f10\\u03ba\\u03ba\\u03bb\\u03b7\\u03c3\\u03af\\u03b1\", \"\\u03c0\\u03af\\u03c3\\u03c4\\u03b9\\u03c2\", \"\\u1f00\\u03b3\\u03b1\\u03c0\\u03ac\\u03c9\", \"\\u03c3\\u03bf\\u03c6\\u03af\\u03b1\", \"\\u03bb\\u03bf\\u03b3\\u03af\\u03b6\\u03bf\\u03bc\\u03b1\\u03b9\"], \"textposition\": \"bottom center\", \"type\": \"scatter\", \"x\": [0.30426604126463475, 0.5489047793231175, 0.7705308562073265, -0.4111813422312003, -0.008053180897537888, -0.015005450109886792, -0.1590449122499425, -0.005430823526077504, -0.3022806801333975, 0.14361937769648198, 0.14680536315118173, -0.7509193617978881, -0.6460746836508837, -0.5668244489380143, 0.14072023832243782, -0.3029646276609175, -0.18139555220472084, -0.3505536011301537, -0.2515429904422895, -0.12754743999205975, -0.11517538225000326, -0.23673918495312865, 0.0010422200334541422, 0.11785001288908052, 0.15698373472846494, 0.2304040536254776, 0.29362971760031276, 0.516980469411877, 0.33523206451817095, 0.3764263966531842, 0.34733833674289866], \"y\": [-0.34121345672298764, -0.5667938107782865, -0.7732528039774026, -0.15979018006588055, -0.05598078717167062, 0.22241008664047188, 0.2712288844389385, 0.7037840220938151, -0.2958338416873828, 0.15652919789880956, 1.0, -0.04008995515281865, -0.42023484609090894, -0.5149389822346543, 0.3607297515822707, 0.19750708789188232, 0.114534888148451, 0.05692258552232816, -0.0819633426250603, -0.4009316209851352, -0.26099292465534063, 0.9493995206082478, -0.42668316378000265, -0.38526839445976696, -0.24193412110314685, -0.04035720624118609, 0.11788789849125297, 0.43884471535425407, -0.16367324476526499, -0.015329564645556239, 0.5954836084717305]}, {\"hoverinfo\": \"text\", \"marker\": {\"opacity\": 0}, \"mode\": \"markers\", \"opacity\": 0, \"text\": [\"83\", \"11\", \"55\", \"20\", \"11\", \"11\", \"20\", \"18\", \"15\", \"13\", \"10\", \"10\", \"10\", \"9\", \"9\", \"9\", \"9\", \"9\", \"8\", \"8\", \"8\", \"8\", \"7\", \"7\", \"12\", \"9\", \"7\", \"11\", \"7\", \"6\"], \"type\": \"scatter\", \"x\": [0.42658541029387614, 0.14810643018354844, 0.6597178177652221, -0.20961726156436908, -0.5810503520145442, -0.4890028955846073, -0.011529315503712341, -0.0835490465737402, -0.15516693051546768, 0.06778309839947204, 0.06633352871244996, -0.15550890427922767, -0.09472436655112937, -0.1793033910138458, -0.1297980856699137, -0.06780031044479883, -0.06161428157377057, -0.003505480432041873, 0.05489841599577132, 0.07446527691546352, 0.11117543636396986, 0.14278826835138744, 0.16358944181031654, 0.18418660787782318, 0.0706872698125521, -0.12108500423960308, 0.06764470739818015, -0.4741776818921406, 0.32885035386715744, 0.24402928753266823], \"y\": [-0.45400363375063707, -0.19859712194732912, -0.6700233073778445, -0.10788548361877559, -0.0999400676093496, -0.3373645811502674, 0.08321464973440063, 0.10762404863363394, -0.1759073144295267, 0.05027420536356947, 0.15237448220530006, 0.07076315036010584, 0.029277050488390192, 0.0004708991753287692, -0.06897206489836546, -0.2284562040784029, -0.15848685591350561, -0.24133197547583662, -0.22062459081571878, -0.14895745413740874, -0.04816899670642835, 0.030953555659791177, -0.1098270159684678, -0.03565517590861343, 0.8518920110469075, 0.8265917713510315, 0.5322568868380428, -0.3580343438891459, 0.3997872334682624, 0.47810668002700063]}],                        {\"autosize\": false, \"height\": 500, \"hovermode\": \"closest\", \"margin\": {\"b\": 10, \"l\": 10, \"r\": 10, \"t\": 10}, \"plot_bgcolor\": \"rgba(0,0,0,0)\", \"showlegend\": false, \"template\": {\"data\": {\"bar\": [{\"error_x\": {\"color\": \"#2a3f5f\"}, \"error_y\": {\"color\": \"#2a3f5f\"}, \"marker\": {\"line\": {\"color\": \"#E5ECF6\", \"width\": 0.5}}, \"type\": \"bar\"}], \"barpolar\": [{\"marker\": {\"line\": {\"color\": \"#E5ECF6\", \"width\": 0.5}}, \"type\": \"barpolar\"}], \"carpet\": [{\"aaxis\": {\"endlinecolor\": \"#2a3f5f\", \"gridcolor\": \"white\", \"linecolor\": \"white\", \"minorgridcolor\": \"white\", \"startlinecolor\": \"#2a3f5f\"}, \"baxis\": {\"endlinecolor\": \"#2a3f5f\", \"gridcolor\": \"white\", \"linecolor\": \"white\", \"minorgridcolor\": \"white\", \"startlinecolor\": \"#2a3f5f\"}, \"type\": \"carpet\"}], \"choropleth\": [{\"colorbar\": {\"outlinewidth\": 0, \"ticks\": \"\"}, \"type\": \"choropleth\"}], \"contour\": [{\"colorbar\": {\"outlinewidth\": 0, \"ticks\": \"\"}, \"colorscale\": [[0.0, \"#0d0887\"], [0.1111111111111111, \"#46039f\"], [0.2222222222222222, \"#7201a8\"], [0.3333333333333333, \"#9c179e\"], [0.4444444444444444, \"#bd3786\"], [0.5555555555555556, \"#d8576b\"], [0.6666666666666666, \"#ed7953\"], [0.7777777777777778, \"#fb9f3a\"], [0.8888888888888888, \"#fdca26\"], [1.0, \"#f0f921\"]], \"type\": \"contour\"}], \"contourcarpet\": [{\"colorbar\": {\"outlinewidth\": 0, \"ticks\": \"\"}, \"type\": \"contourcarpet\"}], \"heatmap\": [{\"colorbar\": {\"outlinewidth\": 0, \"ticks\": \"\"}, \"colorscale\": [[0.0, \"#0d0887\"], [0.1111111111111111, \"#46039f\"], [0.2222222222222222, \"#7201a8\"], [0.3333333333333333, \"#9c179e\"], [0.4444444444444444, \"#bd3786\"], [0.5555555555555556, \"#d8576b\"], [0.6666666666666666, \"#ed7953\"], [0.7777777777777778, \"#fb9f3a\"], [0.8888888888888888, \"#fdca26\"], [1.0, \"#f0f921\"]], \"type\": \"heatmap\"}], \"heatmapgl\": [{\"colorbar\": {\"outlinewidth\": 0, \"ticks\": \"\"}, \"colorscale\": [[0.0, \"#0d0887\"], [0.1111111111111111, \"#46039f\"], [0.2222222222222222, \"#7201a8\"], [0.3333333333333333, \"#9c179e\"], [0.4444444444444444, \"#bd3786\"], [0.5555555555555556, \"#d8576b\"], [0.6666666666666666, \"#ed7953\"], [0.7777777777777778, \"#fb9f3a\"], [0.8888888888888888, \"#fdca26\"], [1.0, \"#f0f921\"]], \"type\": \"heatmapgl\"}], \"histogram\": [{\"marker\": {\"colorbar\": {\"outlinewidth\": 0, \"ticks\": \"\"}}, \"type\": \"histogram\"}], \"histogram2d\": [{\"colorbar\": {\"outlinewidth\": 0, \"ticks\": \"\"}, \"colorscale\": [[0.0, \"#0d0887\"], [0.1111111111111111, \"#46039f\"], [0.2222222222222222, \"#7201a8\"], [0.3333333333333333, \"#9c179e\"], [0.4444444444444444, \"#bd3786\"], [0.5555555555555556, \"#d8576b\"], [0.6666666666666666, \"#ed7953\"], [0.7777777777777778, \"#fb9f3a\"], [0.8888888888888888, \"#fdca26\"], [1.0, \"#f0f921\"]], \"type\": \"histogram2d\"}], \"histogram2dcontour\": [{\"colorbar\": {\"outlinewidth\": 0, \"ticks\": \"\"}, \"colorscale\": [[0.0, \"#0d0887\"], [0.1111111111111111, \"#46039f\"], [0.2222222222222222, \"#7201a8\"], [0.3333333333333333, \"#9c179e\"], [0.4444444444444444, \"#bd3786\"], [0.5555555555555556, \"#d8576b\"], [0.6666666666666666, \"#ed7953\"], [0.7777777777777778, \"#fb9f3a\"], [0.8888888888888888, \"#fdca26\"], [1.0, \"#f0f921\"]], \"type\": \"histogram2dcontour\"}], \"mesh3d\": [{\"colorbar\": {\"outlinewidth\": 0, \"ticks\": \"\"}, \"type\": \"mesh3d\"}], \"parcoords\": [{\"line\": {\"colorbar\": {\"outlinewidth\": 0, \"ticks\": \"\"}}, \"type\": \"parcoords\"}], \"pie\": [{\"automargin\": true, \"type\": \"pie\"}], \"scatter\": [{\"marker\": {\"colorbar\": {\"outlinewidth\": 0, \"ticks\": \"\"}}, \"type\": \"scatter\"}], \"scatter3d\": [{\"line\": {\"colorbar\": {\"outlinewidth\": 0, \"ticks\": \"\"}}, \"marker\": {\"colorbar\": {\"outlinewidth\": 0, \"ticks\": \"\"}}, \"type\": \"scatter3d\"}], \"scattercarpet\": [{\"marker\": {\"colorbar\": {\"outlinewidth\": 0, \"ticks\": \"\"}}, \"type\": \"scattercarpet\"}], \"scattergeo\": [{\"marker\": {\"colorbar\": {\"outlinewidth\": 0, \"ticks\": \"\"}}, \"type\": \"scattergeo\"}], \"scattergl\": [{\"marker\": {\"colorbar\": {\"outlinewidth\": 0, \"ticks\": \"\"}}, \"type\": \"scattergl\"}], \"scattermapbox\": [{\"marker\": {\"colorbar\": {\"outlinewidth\": 0, \"ticks\": \"\"}}, \"type\": \"scattermapbox\"}], \"scatterpolar\": [{\"marker\": {\"colorbar\": {\"outlinewidth\": 0, \"ticks\": \"\"}}, \"type\": \"scatterpolar\"}], \"scatterpolargl\": [{\"marker\": {\"colorbar\": {\"outlinewidth\": 0, \"ticks\": \"\"}}, \"type\": \"scatterpolargl\"}], \"scatterternary\": [{\"marker\": {\"colorbar\": {\"outlinewidth\": 0, \"ticks\": \"\"}}, \"type\": \"scatterternary\"}], \"surface\": [{\"colorbar\": {\"outlinewidth\": 0, \"ticks\": \"\"}, \"colorscale\": [[0.0, \"#0d0887\"], [0.1111111111111111, \"#46039f\"], [0.2222222222222222, \"#7201a8\"], [0.3333333333333333, \"#9c179e\"], [0.4444444444444444, \"#bd3786\"], [0.5555555555555556, \"#d8576b\"], [0.6666666666666666, \"#ed7953\"], [0.7777777777777778, \"#fb9f3a\"], [0.8888888888888888, \"#fdca26\"], [1.0, \"#f0f921\"]], \"type\": \"surface\"}], \"table\": [{\"cells\": {\"fill\": {\"color\": \"#EBF0F8\"}, \"line\": {\"color\": \"white\"}}, \"header\": {\"fill\": {\"color\": \"#C8D4E3\"}, \"line\": {\"color\": \"white\"}}, \"type\": \"table\"}]}, \"layout\": {\"annotationdefaults\": {\"arrowcolor\": \"#2a3f5f\", \"arrowhead\": 0, \"arrowwidth\": 1}, \"coloraxis\": {\"colorbar\": {\"outlinewidth\": 0, \"ticks\": \"\"}}, \"colorscale\": {\"diverging\": [[0, \"#8e0152\"], [0.1, \"#c51b7d\"], [0.2, \"#de77ae\"], [0.3, \"#f1b6da\"], [0.4, \"#fde0ef\"], [0.5, \"#f7f7f7\"], [0.6, \"#e6f5d0\"], [0.7, \"#b8e186\"], [0.8, \"#7fbc41\"], [0.9, \"#4d9221\"], [1, \"#276419\"]], \"sequential\": [[0.0, \"#0d0887\"], [0.1111111111111111, \"#46039f\"], [0.2222222222222222, \"#7201a8\"], [0.3333333333333333, \"#9c179e\"], [0.4444444444444444, \"#bd3786\"], [0.5555555555555556, \"#d8576b\"], [0.6666666666666666, \"#ed7953\"], [0.7777777777777778, \"#fb9f3a\"], [0.8888888888888888, \"#fdca26\"], [1.0, \"#f0f921\"]], \"sequentialminus\": [[0.0, \"#0d0887\"], [0.1111111111111111, \"#46039f\"], [0.2222222222222222, \"#7201a8\"], [0.3333333333333333, \"#9c179e\"], [0.4444444444444444, \"#bd3786\"], [0.5555555555555556, \"#d8576b\"], [0.6666666666666666, \"#ed7953\"], [0.7777777777777778, \"#fb9f3a\"], [0.8888888888888888, \"#fdca26\"], [1.0, \"#f0f921\"]]}, \"colorway\": [\"#636efa\", \"#EF553B\", \"#00cc96\", \"#ab63fa\", \"#FFA15A\", \"#19d3f3\", \"#FF6692\", \"#B6E880\", \"#FF97FF\", \"#FECB52\"], \"font\": {\"color\": \"#2a3f5f\"}, \"geo\": {\"bgcolor\": \"white\", \"lakecolor\": \"white\", \"landcolor\": \"#E5ECF6\", \"showlakes\": true, \"showland\": true, \"subunitcolor\": \"white\"}, \"hoverlabel\": {\"align\": \"left\"}, \"hovermode\": \"closest\", \"mapbox\": {\"style\": \"light\"}, \"paper_bgcolor\": \"white\", \"plot_bgcolor\": \"#E5ECF6\", \"polar\": {\"angularaxis\": {\"gridcolor\": \"white\", \"linecolor\": \"white\", \"ticks\": \"\"}, \"bgcolor\": \"#E5ECF6\", \"radialaxis\": {\"gridcolor\": \"white\", \"linecolor\": \"white\", \"ticks\": \"\"}}, \"scene\": {\"xaxis\": {\"backgroundcolor\": \"#E5ECF6\", \"gridcolor\": \"white\", \"gridwidth\": 2, \"linecolor\": \"white\", \"showbackground\": true, \"ticks\": \"\", \"zerolinecolor\": \"white\"}, \"yaxis\": {\"backgroundcolor\": \"#E5ECF6\", \"gridcolor\": \"white\", \"gridwidth\": 2, \"linecolor\": \"white\", \"showbackground\": true, \"ticks\": \"\", \"zerolinecolor\": \"white\"}, \"zaxis\": {\"backgroundcolor\": \"#E5ECF6\", \"gridcolor\": \"white\", \"gridwidth\": 2, \"linecolor\": \"white\", \"showbackground\": true, \"ticks\": \"\", \"zerolinecolor\": \"white\"}}, \"shapedefaults\": {\"line\": {\"color\": \"#2a3f5f\"}}, \"ternary\": {\"aaxis\": {\"gridcolor\": \"white\", \"linecolor\": \"white\", \"ticks\": \"\"}, \"baxis\": {\"gridcolor\": \"white\", \"linecolor\": \"white\", \"ticks\": \"\"}, \"bgcolor\": \"#E5ECF6\", \"caxis\": {\"gridcolor\": \"white\", \"linecolor\": \"white\", \"ticks\": \"\"}}, \"title\": {\"x\": 0.05}, \"xaxis\": {\"automargin\": true, \"gridcolor\": \"white\", \"linecolor\": \"white\", \"ticks\": \"\", \"title\": {\"standoff\": 15}, \"zerolinecolor\": \"white\", \"zerolinewidth\": 2}, \"yaxis\": {\"automargin\": true, \"gridcolor\": \"white\", \"linecolor\": \"white\", \"ticks\": \"\", \"title\": {\"standoff\": 15}, \"zerolinecolor\": \"white\", \"zerolinewidth\": 2}}}, \"title\": {\"font\": {\"size\": 16}}, \"width\": 500, \"xaxis\": {\"showgrid\": false, \"showticklabels\": false, \"zeroline\": false}, \"yaxis\": {\"showgrid\": false, \"showticklabels\": false, \"zeroline\": false}},                        {\"responsive\": true}                    ).then(function(){\n",
       "                            \n",
       "var gd = document.getElementById('75be7ec3-2245-4afd-90fb-54bb5eb25d20');\n",
       "var x = new MutationObserver(function (mutations, observer) {{\n",
       "        var display = window.getComputedStyle(gd).display;\n",
       "        if (!display || display === 'none') {{\n",
       "            console.log([gd, 'removed!']);\n",
       "            Plotly.purge(gd);\n",
       "            observer.disconnect();\n",
       "        }}\n",
       "}});\n",
       "\n",
       "// Listen for the removal of the full notebook cells\n",
       "var notebookContainer = gd.closest('#notebook-container');\n",
       "if (notebookContainer) {{\n",
       "    x.observe(notebookContainer, {childList: true});\n",
       "}}\n",
       "\n",
       "// Listen for the clearing of the current output cell\n",
       "var outputEl = gd.closest('.output');\n",
       "if (outputEl) {{\n",
       "    x.observe(outputEl, {childList: true});\n",
       "}}\n",
       "\n",
       "                        })                };                });            </script>        </div>"
      ]
     },
     "metadata": {},
     "output_type": "display_data"
    }
   ],
   "source": [
    "configure_plotly_browser_state()\n",
    "ego_network = construct_ego_network(network_bigrams, \"δικαιοσύνη\", 30, reduced=True)\n",
    "ego_network.edges.data()\n",
    "fig = textnet.draw_2d_network(ego_network)\n",
    "fig.show()"
   ]
  },
  {
   "cell_type": "code",
   "execution_count": 143,
   "metadata": {},
   "outputs": [],
   "source": [
    "fig.write_image(\"../figures/dik_egonet_bigrams_30.png\")"
   ]
  },
  {
   "cell_type": "code",
   "execution_count": 144,
   "metadata": {},
   "outputs": [
    {
     "data": {
      "application/vnd.plotly.v1+json": {
       "config": {
        "plotlyServerURL": "https://plot.ly"
       },
       "data": [
        {
         "hoverinfo": "text",
         "line": {
          "color": "rgb(125,125,125)",
          "width": 1
         },
         "mode": "lines",
         "text": [
          "0.01205",
          "0.09091",
          "0.01818",
          "0.05",
          "0.09091",
          "0.09091",
          "0.05",
          "0.05556",
          "0.06667",
          "0.07692",
          "0.1",
          "0.1",
          "0.1",
          "0.11111",
          "0.11111",
          "0.11111",
          "0.11111",
          "0.11111",
          "0.125",
          "0.125",
          "0.125",
          "0.125",
          "0.14286",
          "0.14286",
          "0.08333",
          "0.11111",
          "0.14286",
          "0.09091",
          "0.14286",
          "0.16667"
         ],
         "textposition": "top right",
         "type": "scatter3d",
         "x": [
          -0.083942104307283,
          -0.09529390751670444,
          null,
          -0.083942104307283,
          -0.05403426787402937,
          null,
          -0.09529390751670444,
          -0.10741171339398944,
          null,
          0.1255275638747297,
          -0.05403426787402937,
          null,
          0.1255275638747297,
          0.26064195735209994,
          null,
          0.1255275638747297,
          0.25789174337190873,
          null,
          -0.05403426787402937,
          -0.20580270525735245,
          null,
          -0.05403426787402937,
          -0.05174004868938078,
          null,
          -0.05403426787402937,
          -0.3271106350120198,
          null,
          -0.05403426787402937,
          0.12288422042252381,
          null,
          -0.05403426787402937,
          0.1369855432979998,
          null,
          -0.05403426787402937,
          -0.02688472357291226,
          null,
          -0.05403426787402937,
          -0.06460466782281431,
          null,
          -0.05403426787402937,
          -0.24011012583176655,
          null,
          -0.05403426787402937,
          0.03970401695990999,
          null,
          -0.05403426787402937,
          0.2173482825195232,
          null,
          -0.05403426787402937,
          -0.10191319858142062,
          null,
          -0.05403426787402937,
          0.1993840129754846,
          null,
          -0.05403426787402937,
          0.1654517889974061,
          null,
          -0.05403426787402937,
          -0.1390465974985865,
          null,
          -0.05403426787402937,
          -0.14684402879797104,
          null,
          -0.05403426787402937,
          -0.2611120722041502,
          null,
          -0.05403426787402937,
          -0.3809681586413747,
          null,
          -0.05403426787402937,
          -0.28873277474257264,
          null,
          0.3538528216378319,
          0.511902916073344,
          null,
          0.3538528216378319,
          0.40222013398299594,
          null,
          0.3538528216378319,
          0.1369855432979998,
          null,
          -0.3271106350120198,
          -0.5543333731497955,
          null,
          0.1369855432979998,
          0.08255005184061694,
          null,
          0.1369855432979998,
          0.2535400495877472,
          null
         ],
         "y": [
          -0.11341208983934124,
          -0.11113414868040475,
          null,
          -0.11341208983934124,
          -0.1285675713711418,
          null,
          -0.11113414868040475,
          -0.11553114487984753,
          null,
          -0.15814548188081748,
          -0.1285675713711418,
          null,
          -0.15814548188081748,
          -0.27160661177082174,
          null,
          -0.15814548188081748,
          -0.11118329479441864,
          null,
          -0.1285675713711418,
          -0.13996416297050293,
          null,
          -0.1285675713711418,
          -0.009159353548926235,
          null,
          -0.1285675713711418,
          -0.13214779987404868,
          null,
          -0.1285675713711418,
          -0.011650072188657812,
          null,
          -0.1285675713711418,
          0.3680723693669994,
          null,
          -0.1285675713711418,
          -0.311907462540292,
          null,
          -0.1285675713711418,
          -0.4197961404925808,
          null,
          -0.1285675713711418,
          -0.31469007068975535,
          null,
          -0.1285675713711418,
          -0.3979328868503012,
          null,
          -0.1285675713711418,
          -0.08721651321727697,
          null,
          -0.1285675713711418,
          -0.06967100136975908,
          null,
          -0.1285675713711418,
          -0.3003055848657561,
          null,
          -0.1285675713711418,
          -0.2876864994352657,
          null,
          -0.1285675713711418,
          -0.3328686967189827,
          null,
          -0.1285675713711418,
          0.11175230416725011,
          null,
          -0.1285675713711418,
          0.09888623424703916,
          null,
          -0.1285675713711418,
          -0.10962116450222818,
          null,
          -0.1285675713711418,
          -0.40011365437135804,
          null,
          0.7514479194362419,
          0.875193957561526,
          null,
          0.7514479194362419,
          1,
          null,
          0.7514479194362419,
          0.3680723693669994,
          null,
          -0.13214779987404868,
          -0.1369888365605701,
          null,
          0.3680723693669994,
          0.6441979273607443,
          null,
          0.3680723693669994,
          0.621749531273253,
          null
         ],
         "z": [
          -0.4103652054152832,
          -0.5516506985038248,
          null,
          -0.4103652054152832,
          0.02422223958432296,
          null,
          -0.5516506985038248,
          -0.6709122436080754,
          null,
          0.304314830733668,
          0.02422223958432296,
          null,
          0.304314830733668,
          0.5071330351810375,
          null,
          0.304314830733668,
          0.5304610692446968,
          null,
          0.02422223958432296,
          0.02043405851992828,
          null,
          0.02422223958432296,
          -0.11252298505889617,
          null,
          0.02422223958432296,
          0.20819344318903507,
          null,
          0.02422223958432296,
          0.09528983234128581,
          null,
          0.02422223958432296,
          -0.03750938121321122,
          null,
          0.02422223958432296,
          -0.17939620952465093,
          null,
          0.02422223958432296,
          -0.013788102760266683,
          null,
          0.02422223958432296,
          -0.1278408166988399,
          null,
          0.02422223958432296,
          0.14867560173954034,
          null,
          0.02422223958432296,
          -0.0861367662450468,
          null,
          0.02422223958432296,
          0.3071050361372463,
          null,
          0.02422223958432296,
          0.05690944354332252,
          null,
          0.02422223958432296,
          -0.15860566789619046,
          null,
          0.02422223958432296,
          0.27193933575565,
          null,
          0.02422223958432296,
          0.19023857390298976,
          null,
          0.02422223958432296,
          -0.023820401054132346,
          null,
          0.02422223958432296,
          -0.10403411430276732,
          null,
          0.02422223958432296,
          0.08961889386523707,
          null,
          -0.17138408855671375,
          -0.24092959930758204,
          null,
          -0.17138408855671375,
          -0.22987925360447467,
          null,
          -0.17138408855671375,
          -0.03750938121321122,
          null,
          0.20819344318903507,
          0.3520348444692157,
          null,
          -0.03750938121321122,
          -0.0840600932067383,
          null,
          -0.03750938121321122,
          0.09626538874951508,
          null
         ]
        },
        {
         "marker": {
          "color": [
           2,
           2,
           1,
           3,
           20,
           1,
           1,
           3,
           2,
           1,
           1,
           1,
           1,
           1,
           4,
           1,
           1,
           1,
           1,
           1,
           1,
           1,
           1,
           1,
           1,
           1,
           1,
           1,
           1,
           1,
           1
          ],
          "colorscale": [
           [
            0,
            "rgb(161, 105, 40)"
           ],
           [
            0.16666666666666666,
            "rgb(189, 146, 90)"
           ],
           [
            0.3333333333333333,
            "rgb(214, 189, 141)"
           ],
           [
            0.5,
            "rgb(237, 234, 194)"
           ],
           [
            0.6666666666666666,
            "rgb(181, 200, 184)"
           ],
           [
            0.8333333333333334,
            "rgb(121, 167, 172)"
           ],
           [
            1,
            "rgb(40, 135, 161)"
           ]
          ],
          "line": {
           "color": "rgb(50,50,50)",
           "width": 0.5
          },
          "reversescale": true,
          "size": 6,
          "symbol": "circle"
         },
         "mode": "markers+text",
         "text": [
          "Χριστός",
          "Ἰησοῦς",
          "κύριος",
          "εἰμί",
          "θεός",
          "χάρις",
          "πατήρ",
          "νομός",
          "πνεῦμα",
          "εἰρήνη",
          "ἔργον",
          "αὐτός",
          "ἅγιος",
          "οὗτος",
          "δικαιοσύνη",
          "πᾶς",
          "οἶδα",
          "υἱός",
          "δύναμις",
          "θέλημα",
          "ἔχω",
          "ἁμαρτία",
          "δίδωμι",
          "εὐχαριστέω",
          "γιγνώσκω",
          "δόξα",
          "ἐκκλησία",
          "πίστις",
          "ἀγαπάω",
          "σοφία",
          "λογίζομαι"
         ],
         "type": "scatter3d",
         "x": [
          -0.083942104307283,
          -0.09529390751670444,
          -0.10741171339398944,
          0.1255275638747297,
          -0.05403426787402937,
          -0.20580270525735245,
          -0.05174004868938078,
          0.3538528216378319,
          -0.3271106350120198,
          0.12288422042252381,
          0.511902916073344,
          0.26064195735209994,
          -0.5543333731497955,
          0.25789174337190873,
          0.1369855432979998,
          -0.02688472357291226,
          -0.06460466782281431,
          -0.24011012583176655,
          0.03970401695990999,
          0.2173482825195232,
          -0.10191319858142062,
          0.40222013398299594,
          0.1993840129754846,
          0.1654517889974061,
          -0.1390465974985865,
          -0.14684402879797104,
          -0.2611120722041502,
          0.08255005184061694,
          -0.3809681586413747,
          -0.28873277474257264,
          0.2535400495877472
         ],
         "y": [
          -0.11341208983934124,
          -0.11113414868040475,
          -0.11553114487984753,
          -0.15814548188081748,
          -0.1285675713711418,
          -0.13996416297050293,
          -0.009159353548926235,
          0.7514479194362419,
          -0.13214779987404868,
          -0.011650072188657812,
          0.875193957561526,
          -0.27160661177082174,
          -0.1369888365605701,
          -0.11118329479441864,
          0.3680723693669994,
          -0.311907462540292,
          -0.4197961404925808,
          -0.31469007068975535,
          -0.3979328868503012,
          -0.08721651321727697,
          -0.06967100136975908,
          1,
          -0.3003055848657561,
          -0.2876864994352657,
          -0.3328686967189827,
          0.11175230416725011,
          0.09888623424703916,
          0.6441979273607443,
          -0.10962116450222818,
          -0.40011365437135804,
          0.621749531273253
         ],
         "z": [
          -0.4103652054152832,
          -0.5516506985038248,
          -0.6709122436080754,
          0.304314830733668,
          0.02422223958432296,
          0.02043405851992828,
          -0.11252298505889617,
          -0.17138408855671375,
          0.20819344318903507,
          0.09528983234128581,
          -0.24092959930758204,
          0.5071330351810375,
          0.3520348444692157,
          0.5304610692446968,
          -0.03750938121321122,
          -0.17939620952465093,
          -0.013788102760266683,
          -0.1278408166988399,
          0.14867560173954034,
          -0.0861367662450468,
          0.3071050361372463,
          -0.22987925360447467,
          0.05690944354332252,
          -0.15860566789619046,
          0.27193933575565,
          0.19023857390298976,
          -0.023820401054132346,
          -0.0840600932067383,
          -0.10403411430276732,
          0.08961889386523707,
          0.09626538874951508
         ]
        },
        {
         "hoverinfo": "text",
         "marker": {
          "opacity": 0
         },
         "mode": "markers",
         "opacity": 0,
         "text": [
          "83",
          "11",
          "55",
          "20",
          "11",
          "11",
          "20",
          "18",
          "15",
          "13",
          "10",
          "10",
          "10",
          "9",
          "9",
          "9",
          "9",
          "9",
          "8",
          "8",
          "8",
          "8",
          "7",
          "7",
          "12",
          "9",
          "7",
          "11",
          "7",
          "6"
         ],
         "type": "scatter3d",
         "x": [
          -0.08961800591199372,
          -0.06898818609065618,
          -0.10135281045534694,
          0.035746648000350156,
          0.1930847606134148,
          0.1917096536233192,
          -0.1299184865656909,
          -0.05288715828170507,
          -0.1905724514430246,
          0.03442497627424722,
          0.04147563771198522,
          -0.04045949572347081,
          -0.059319467848421834,
          -0.14707219685289796,
          -0.007165125457059687,
          0.08165700732274692,
          -0.077973733227725,
          0.07267487255072762,
          0.05570876056168836,
          -0.09654043268630794,
          -0.1004391483360002,
          -0.1575731700390898,
          -0.21750121325770203,
          -0.171383521308301,
          0.432877868855588,
          0.37803647781041394,
          0.24541918246791583,
          -0.44072200408090767,
          0.10976779756930838,
          0.19526279644287348
         ],
         "y": [
          -0.11227311925987299,
          -0.12098983060524152,
          -0.11333264678012614,
          -0.14335652662597964,
          -0.21487604682581962,
          -0.13466438833761807,
          -0.13426586717082237,
          -0.06886346246003403,
          -0.13035768562259525,
          -0.07010882177989981,
          0.11975239899792879,
          -0.22023751695571692,
          -0.2741818559318613,
          -0.22162882103044856,
          -0.2632502291107215,
          -0.10789204229420939,
          -0.09911928637045045,
          -0.21443657811844896,
          -0.20812703540320376,
          -0.23071813404506225,
          -0.008407633601945845,
          -0.014840668562051323,
          -0.11909436793668499,
          -0.26434061287124994,
          0.813320938498884,
          0.875723959718121,
          0.5597601444016207,
          -0.13456831821730939,
          0.5061351483638719,
          0.4949109503201262
         ],
         "z": [
          -0.481007951959554,
          -0.19307148291548012,
          -0.6112814710559501,
          0.16426853515899548,
          0.40572393295735276,
          0.4173879499891824,
          0.022328149052125622,
          -0.04415037273728661,
          0.11620784138667901,
          0.059756035962804384,
          -0.00664357081444413,
          -0.07758698497016399,
          0.005217068412028139,
          -0.05180928855725847,
          0.08644892066193165,
          -0.030957263330361924,
          0.16566363786078464,
          0.040565841563822744,
          -0.06719171415593375,
          0.14808078766998647,
          0.10723040674365636,
          0.0002009192650953076,
          -0.03990593735922218,
          0.05692056672478001,
          -0.2061568439321479,
          -0.2006316710805942,
          -0.10444673488496248,
          0.28011414382912536,
          -0.06078473720997476,
          0.02937800376815193
         ]
        }
       ],
       "layout": {
        "annotations": [
         {
          "font": {
           "size": 14
          },
          "showarrow": false,
          "text": "",
          "x": 0,
          "xanchor": "left",
          "xref": "paper",
          "y": 0.1,
          "yanchor": "bottom",
          "yref": "paper"
         }
        ],
        "height": 700,
        "hovermode": "closest",
        "margin": {
         "t": 100
        },
        "plot_bgcolor": "rgba(0,0,0,0)",
        "scene": {
         "xaxis": {
          "showbackground": false,
          "showgrid": false,
          "showline": false,
          "showticklabels": false,
          "title": {
           "text": ""
          },
          "zeroline": false
         },
         "yaxis": {
          "showbackground": false,
          "showgrid": false,
          "showline": false,
          "showticklabels": false,
          "title": {
           "text": ""
          },
          "zeroline": false
         },
         "zaxis": {
          "showbackground": false,
          "showgrid": false,
          "showline": false,
          "showticklabels": false,
          "title": {
           "text": ""
          },
          "zeroline": false
         }
        },
        "showlegend": false,
        "template": {
         "data": {
          "bar": [
           {
            "error_x": {
             "color": "#2a3f5f"
            },
            "error_y": {
             "color": "#2a3f5f"
            },
            "marker": {
             "line": {
              "color": "#E5ECF6",
              "width": 0.5
             }
            },
            "type": "bar"
           }
          ],
          "barpolar": [
           {
            "marker": {
             "line": {
              "color": "#E5ECF6",
              "width": 0.5
             }
            },
            "type": "barpolar"
           }
          ],
          "carpet": [
           {
            "aaxis": {
             "endlinecolor": "#2a3f5f",
             "gridcolor": "white",
             "linecolor": "white",
             "minorgridcolor": "white",
             "startlinecolor": "#2a3f5f"
            },
            "baxis": {
             "endlinecolor": "#2a3f5f",
             "gridcolor": "white",
             "linecolor": "white",
             "minorgridcolor": "white",
             "startlinecolor": "#2a3f5f"
            },
            "type": "carpet"
           }
          ],
          "choropleth": [
           {
            "colorbar": {
             "outlinewidth": 0,
             "ticks": ""
            },
            "type": "choropleth"
           }
          ],
          "contour": [
           {
            "colorbar": {
             "outlinewidth": 0,
             "ticks": ""
            },
            "colorscale": [
             [
              0,
              "#0d0887"
             ],
             [
              0.1111111111111111,
              "#46039f"
             ],
             [
              0.2222222222222222,
              "#7201a8"
             ],
             [
              0.3333333333333333,
              "#9c179e"
             ],
             [
              0.4444444444444444,
              "#bd3786"
             ],
             [
              0.5555555555555556,
              "#d8576b"
             ],
             [
              0.6666666666666666,
              "#ed7953"
             ],
             [
              0.7777777777777778,
              "#fb9f3a"
             ],
             [
              0.8888888888888888,
              "#fdca26"
             ],
             [
              1,
              "#f0f921"
             ]
            ],
            "type": "contour"
           }
          ],
          "contourcarpet": [
           {
            "colorbar": {
             "outlinewidth": 0,
             "ticks": ""
            },
            "type": "contourcarpet"
           }
          ],
          "heatmap": [
           {
            "colorbar": {
             "outlinewidth": 0,
             "ticks": ""
            },
            "colorscale": [
             [
              0,
              "#0d0887"
             ],
             [
              0.1111111111111111,
              "#46039f"
             ],
             [
              0.2222222222222222,
              "#7201a8"
             ],
             [
              0.3333333333333333,
              "#9c179e"
             ],
             [
              0.4444444444444444,
              "#bd3786"
             ],
             [
              0.5555555555555556,
              "#d8576b"
             ],
             [
              0.6666666666666666,
              "#ed7953"
             ],
             [
              0.7777777777777778,
              "#fb9f3a"
             ],
             [
              0.8888888888888888,
              "#fdca26"
             ],
             [
              1,
              "#f0f921"
             ]
            ],
            "type": "heatmap"
           }
          ],
          "heatmapgl": [
           {
            "colorbar": {
             "outlinewidth": 0,
             "ticks": ""
            },
            "colorscale": [
             [
              0,
              "#0d0887"
             ],
             [
              0.1111111111111111,
              "#46039f"
             ],
             [
              0.2222222222222222,
              "#7201a8"
             ],
             [
              0.3333333333333333,
              "#9c179e"
             ],
             [
              0.4444444444444444,
              "#bd3786"
             ],
             [
              0.5555555555555556,
              "#d8576b"
             ],
             [
              0.6666666666666666,
              "#ed7953"
             ],
             [
              0.7777777777777778,
              "#fb9f3a"
             ],
             [
              0.8888888888888888,
              "#fdca26"
             ],
             [
              1,
              "#f0f921"
             ]
            ],
            "type": "heatmapgl"
           }
          ],
          "histogram": [
           {
            "marker": {
             "colorbar": {
              "outlinewidth": 0,
              "ticks": ""
             }
            },
            "type": "histogram"
           }
          ],
          "histogram2d": [
           {
            "colorbar": {
             "outlinewidth": 0,
             "ticks": ""
            },
            "colorscale": [
             [
              0,
              "#0d0887"
             ],
             [
              0.1111111111111111,
              "#46039f"
             ],
             [
              0.2222222222222222,
              "#7201a8"
             ],
             [
              0.3333333333333333,
              "#9c179e"
             ],
             [
              0.4444444444444444,
              "#bd3786"
             ],
             [
              0.5555555555555556,
              "#d8576b"
             ],
             [
              0.6666666666666666,
              "#ed7953"
             ],
             [
              0.7777777777777778,
              "#fb9f3a"
             ],
             [
              0.8888888888888888,
              "#fdca26"
             ],
             [
              1,
              "#f0f921"
             ]
            ],
            "type": "histogram2d"
           }
          ],
          "histogram2dcontour": [
           {
            "colorbar": {
             "outlinewidth": 0,
             "ticks": ""
            },
            "colorscale": [
             [
              0,
              "#0d0887"
             ],
             [
              0.1111111111111111,
              "#46039f"
             ],
             [
              0.2222222222222222,
              "#7201a8"
             ],
             [
              0.3333333333333333,
              "#9c179e"
             ],
             [
              0.4444444444444444,
              "#bd3786"
             ],
             [
              0.5555555555555556,
              "#d8576b"
             ],
             [
              0.6666666666666666,
              "#ed7953"
             ],
             [
              0.7777777777777778,
              "#fb9f3a"
             ],
             [
              0.8888888888888888,
              "#fdca26"
             ],
             [
              1,
              "#f0f921"
             ]
            ],
            "type": "histogram2dcontour"
           }
          ],
          "mesh3d": [
           {
            "colorbar": {
             "outlinewidth": 0,
             "ticks": ""
            },
            "type": "mesh3d"
           }
          ],
          "parcoords": [
           {
            "line": {
             "colorbar": {
              "outlinewidth": 0,
              "ticks": ""
             }
            },
            "type": "parcoords"
           }
          ],
          "pie": [
           {
            "automargin": true,
            "type": "pie"
           }
          ],
          "scatter": [
           {
            "marker": {
             "colorbar": {
              "outlinewidth": 0,
              "ticks": ""
             }
            },
            "type": "scatter"
           }
          ],
          "scatter3d": [
           {
            "line": {
             "colorbar": {
              "outlinewidth": 0,
              "ticks": ""
             }
            },
            "marker": {
             "colorbar": {
              "outlinewidth": 0,
              "ticks": ""
             }
            },
            "type": "scatter3d"
           }
          ],
          "scattercarpet": [
           {
            "marker": {
             "colorbar": {
              "outlinewidth": 0,
              "ticks": ""
             }
            },
            "type": "scattercarpet"
           }
          ],
          "scattergeo": [
           {
            "marker": {
             "colorbar": {
              "outlinewidth": 0,
              "ticks": ""
             }
            },
            "type": "scattergeo"
           }
          ],
          "scattergl": [
           {
            "marker": {
             "colorbar": {
              "outlinewidth": 0,
              "ticks": ""
             }
            },
            "type": "scattergl"
           }
          ],
          "scattermapbox": [
           {
            "marker": {
             "colorbar": {
              "outlinewidth": 0,
              "ticks": ""
             }
            },
            "type": "scattermapbox"
           }
          ],
          "scatterpolar": [
           {
            "marker": {
             "colorbar": {
              "outlinewidth": 0,
              "ticks": ""
             }
            },
            "type": "scatterpolar"
           }
          ],
          "scatterpolargl": [
           {
            "marker": {
             "colorbar": {
              "outlinewidth": 0,
              "ticks": ""
             }
            },
            "type": "scatterpolargl"
           }
          ],
          "scatterternary": [
           {
            "marker": {
             "colorbar": {
              "outlinewidth": 0,
              "ticks": ""
             }
            },
            "type": "scatterternary"
           }
          ],
          "surface": [
           {
            "colorbar": {
             "outlinewidth": 0,
             "ticks": ""
            },
            "colorscale": [
             [
              0,
              "#0d0887"
             ],
             [
              0.1111111111111111,
              "#46039f"
             ],
             [
              0.2222222222222222,
              "#7201a8"
             ],
             [
              0.3333333333333333,
              "#9c179e"
             ],
             [
              0.4444444444444444,
              "#bd3786"
             ],
             [
              0.5555555555555556,
              "#d8576b"
             ],
             [
              0.6666666666666666,
              "#ed7953"
             ],
             [
              0.7777777777777778,
              "#fb9f3a"
             ],
             [
              0.8888888888888888,
              "#fdca26"
             ],
             [
              1,
              "#f0f921"
             ]
            ],
            "type": "surface"
           }
          ],
          "table": [
           {
            "cells": {
             "fill": {
              "color": "#EBF0F8"
             },
             "line": {
              "color": "white"
             }
            },
            "header": {
             "fill": {
              "color": "#C8D4E3"
             },
             "line": {
              "color": "white"
             }
            },
            "type": "table"
           }
          ]
         },
         "layout": {
          "annotationdefaults": {
           "arrowcolor": "#2a3f5f",
           "arrowhead": 0,
           "arrowwidth": 1
          },
          "coloraxis": {
           "colorbar": {
            "outlinewidth": 0,
            "ticks": ""
           }
          },
          "colorscale": {
           "diverging": [
            [
             0,
             "#8e0152"
            ],
            [
             0.1,
             "#c51b7d"
            ],
            [
             0.2,
             "#de77ae"
            ],
            [
             0.3,
             "#f1b6da"
            ],
            [
             0.4,
             "#fde0ef"
            ],
            [
             0.5,
             "#f7f7f7"
            ],
            [
             0.6,
             "#e6f5d0"
            ],
            [
             0.7,
             "#b8e186"
            ],
            [
             0.8,
             "#7fbc41"
            ],
            [
             0.9,
             "#4d9221"
            ],
            [
             1,
             "#276419"
            ]
           ],
           "sequential": [
            [
             0,
             "#0d0887"
            ],
            [
             0.1111111111111111,
             "#46039f"
            ],
            [
             0.2222222222222222,
             "#7201a8"
            ],
            [
             0.3333333333333333,
             "#9c179e"
            ],
            [
             0.4444444444444444,
             "#bd3786"
            ],
            [
             0.5555555555555556,
             "#d8576b"
            ],
            [
             0.6666666666666666,
             "#ed7953"
            ],
            [
             0.7777777777777778,
             "#fb9f3a"
            ],
            [
             0.8888888888888888,
             "#fdca26"
            ],
            [
             1,
             "#f0f921"
            ]
           ],
           "sequentialminus": [
            [
             0,
             "#0d0887"
            ],
            [
             0.1111111111111111,
             "#46039f"
            ],
            [
             0.2222222222222222,
             "#7201a8"
            ],
            [
             0.3333333333333333,
             "#9c179e"
            ],
            [
             0.4444444444444444,
             "#bd3786"
            ],
            [
             0.5555555555555556,
             "#d8576b"
            ],
            [
             0.6666666666666666,
             "#ed7953"
            ],
            [
             0.7777777777777778,
             "#fb9f3a"
            ],
            [
             0.8888888888888888,
             "#fdca26"
            ],
            [
             1,
             "#f0f921"
            ]
           ]
          },
          "colorway": [
           "#636efa",
           "#EF553B",
           "#00cc96",
           "#ab63fa",
           "#FFA15A",
           "#19d3f3",
           "#FF6692",
           "#B6E880",
           "#FF97FF",
           "#FECB52"
          ],
          "font": {
           "color": "#2a3f5f"
          },
          "geo": {
           "bgcolor": "white",
           "lakecolor": "white",
           "landcolor": "#E5ECF6",
           "showlakes": true,
           "showland": true,
           "subunitcolor": "white"
          },
          "hoverlabel": {
           "align": "left"
          },
          "hovermode": "closest",
          "mapbox": {
           "style": "light"
          },
          "paper_bgcolor": "white",
          "plot_bgcolor": "#E5ECF6",
          "polar": {
           "angularaxis": {
            "gridcolor": "white",
            "linecolor": "white",
            "ticks": ""
           },
           "bgcolor": "#E5ECF6",
           "radialaxis": {
            "gridcolor": "white",
            "linecolor": "white",
            "ticks": ""
           }
          },
          "scene": {
           "xaxis": {
            "backgroundcolor": "#E5ECF6",
            "gridcolor": "white",
            "gridwidth": 2,
            "linecolor": "white",
            "showbackground": true,
            "ticks": "",
            "zerolinecolor": "white"
           },
           "yaxis": {
            "backgroundcolor": "#E5ECF6",
            "gridcolor": "white",
            "gridwidth": 2,
            "linecolor": "white",
            "showbackground": true,
            "ticks": "",
            "zerolinecolor": "white"
           },
           "zaxis": {
            "backgroundcolor": "#E5ECF6",
            "gridcolor": "white",
            "gridwidth": 2,
            "linecolor": "white",
            "showbackground": true,
            "ticks": "",
            "zerolinecolor": "white"
           }
          },
          "shapedefaults": {
           "line": {
            "color": "#2a3f5f"
           }
          },
          "ternary": {
           "aaxis": {
            "gridcolor": "white",
            "linecolor": "white",
            "ticks": ""
           },
           "baxis": {
            "gridcolor": "white",
            "linecolor": "white",
            "ticks": ""
           },
           "bgcolor": "#E5ECF6",
           "caxis": {
            "gridcolor": "white",
            "linecolor": "white",
            "ticks": ""
           }
          },
          "title": {
           "x": 0.05
          },
          "xaxis": {
           "automargin": true,
           "gridcolor": "white",
           "linecolor": "white",
           "ticks": "",
           "title": {
            "standoff": 15
           },
           "zerolinecolor": "white",
           "zerolinewidth": 2
          },
          "yaxis": {
           "automargin": true,
           "gridcolor": "white",
           "linecolor": "white",
           "ticks": "",
           "title": {
            "standoff": 15
           },
           "zerolinecolor": "white",
           "zerolinewidth": 2
          }
         }
        },
        "title": {
         "text": ""
        },
        "width": 900
       }
      },
      "text/html": [
       "<div>                            <div id=\"56c1d2fc-1c4a-4434-a2a7-d7b15b9fd026\" class=\"plotly-graph-div\" style=\"height:700px; width:900px;\"></div>            <script type=\"text/javascript\">                require([\"plotly\"], function(Plotly) {                    window.PLOTLYENV=window.PLOTLYENV || {};                                    if (document.getElementById(\"56c1d2fc-1c4a-4434-a2a7-d7b15b9fd026\")) {                    Plotly.newPlot(                        \"56c1d2fc-1c4a-4434-a2a7-d7b15b9fd026\",                        [{\"hoverinfo\": \"text\", \"line\": {\"color\": \"rgb(125,125,125)\", \"width\": 1}, \"mode\": \"lines\", \"text\": [\"0.01205\", \"0.09091\", \"0.01818\", \"0.05\", \"0.09091\", \"0.09091\", \"0.05\", \"0.05556\", \"0.06667\", \"0.07692\", \"0.1\", \"0.1\", \"0.1\", \"0.11111\", \"0.11111\", \"0.11111\", \"0.11111\", \"0.11111\", \"0.125\", \"0.125\", \"0.125\", \"0.125\", \"0.14286\", \"0.14286\", \"0.08333\", \"0.11111\", \"0.14286\", \"0.09091\", \"0.14286\", \"0.16667\"], \"textposition\": \"top right\", \"type\": \"scatter3d\", \"x\": [-0.083942104307283, -0.09529390751670444, null, -0.083942104307283, -0.05403426787402937, null, -0.09529390751670444, -0.10741171339398944, null, 0.1255275638747297, -0.05403426787402937, null, 0.1255275638747297, 0.26064195735209994, null, 0.1255275638747297, 0.25789174337190873, null, -0.05403426787402937, -0.20580270525735245, null, -0.05403426787402937, -0.05174004868938078, null, -0.05403426787402937, -0.3271106350120198, null, -0.05403426787402937, 0.12288422042252381, null, -0.05403426787402937, 0.1369855432979998, null, -0.05403426787402937, -0.02688472357291226, null, -0.05403426787402937, -0.06460466782281431, null, -0.05403426787402937, -0.24011012583176655, null, -0.05403426787402937, 0.03970401695990999, null, -0.05403426787402937, 0.2173482825195232, null, -0.05403426787402937, -0.10191319858142062, null, -0.05403426787402937, 0.1993840129754846, null, -0.05403426787402937, 0.1654517889974061, null, -0.05403426787402937, -0.1390465974985865, null, -0.05403426787402937, -0.14684402879797104, null, -0.05403426787402937, -0.2611120722041502, null, -0.05403426787402937, -0.3809681586413747, null, -0.05403426787402937, -0.28873277474257264, null, 0.3538528216378319, 0.511902916073344, null, 0.3538528216378319, 0.40222013398299594, null, 0.3538528216378319, 0.1369855432979998, null, -0.3271106350120198, -0.5543333731497955, null, 0.1369855432979998, 0.08255005184061694, null, 0.1369855432979998, 0.2535400495877472, null], \"y\": [-0.11341208983934124, -0.11113414868040475, null, -0.11341208983934124, -0.1285675713711418, null, -0.11113414868040475, -0.11553114487984753, null, -0.15814548188081748, -0.1285675713711418, null, -0.15814548188081748, -0.27160661177082174, null, -0.15814548188081748, -0.11118329479441864, null, -0.1285675713711418, -0.13996416297050293, null, -0.1285675713711418, -0.009159353548926235, null, -0.1285675713711418, -0.13214779987404868, null, -0.1285675713711418, -0.011650072188657812, null, -0.1285675713711418, 0.3680723693669994, null, -0.1285675713711418, -0.311907462540292, null, -0.1285675713711418, -0.4197961404925808, null, -0.1285675713711418, -0.31469007068975535, null, -0.1285675713711418, -0.3979328868503012, null, -0.1285675713711418, -0.08721651321727697, null, -0.1285675713711418, -0.06967100136975908, null, -0.1285675713711418, -0.3003055848657561, null, -0.1285675713711418, -0.2876864994352657, null, -0.1285675713711418, -0.3328686967189827, null, -0.1285675713711418, 0.11175230416725011, null, -0.1285675713711418, 0.09888623424703916, null, -0.1285675713711418, -0.10962116450222818, null, -0.1285675713711418, -0.40011365437135804, null, 0.7514479194362419, 0.875193957561526, null, 0.7514479194362419, 1.0, null, 0.7514479194362419, 0.3680723693669994, null, -0.13214779987404868, -0.1369888365605701, null, 0.3680723693669994, 0.6441979273607443, null, 0.3680723693669994, 0.621749531273253, null], \"z\": [-0.4103652054152832, -0.5516506985038248, null, -0.4103652054152832, 0.02422223958432296, null, -0.5516506985038248, -0.6709122436080754, null, 0.304314830733668, 0.02422223958432296, null, 0.304314830733668, 0.5071330351810375, null, 0.304314830733668, 0.5304610692446968, null, 0.02422223958432296, 0.02043405851992828, null, 0.02422223958432296, -0.11252298505889617, null, 0.02422223958432296, 0.20819344318903507, null, 0.02422223958432296, 0.09528983234128581, null, 0.02422223958432296, -0.03750938121321122, null, 0.02422223958432296, -0.17939620952465093, null, 0.02422223958432296, -0.013788102760266683, null, 0.02422223958432296, -0.1278408166988399, null, 0.02422223958432296, 0.14867560173954034, null, 0.02422223958432296, -0.0861367662450468, null, 0.02422223958432296, 0.3071050361372463, null, 0.02422223958432296, 0.05690944354332252, null, 0.02422223958432296, -0.15860566789619046, null, 0.02422223958432296, 0.27193933575565, null, 0.02422223958432296, 0.19023857390298976, null, 0.02422223958432296, -0.023820401054132346, null, 0.02422223958432296, -0.10403411430276732, null, 0.02422223958432296, 0.08961889386523707, null, -0.17138408855671375, -0.24092959930758204, null, -0.17138408855671375, -0.22987925360447467, null, -0.17138408855671375, -0.03750938121321122, null, 0.20819344318903507, 0.3520348444692157, null, -0.03750938121321122, -0.0840600932067383, null, -0.03750938121321122, 0.09626538874951508, null]}, {\"marker\": {\"color\": [2, 2, 1, 3, 20, 1, 1, 3, 2, 1, 1, 1, 1, 1, 4, 1, 1, 1, 1, 1, 1, 1, 1, 1, 1, 1, 1, 1, 1, 1, 1], \"colorscale\": [[0.0, \"rgb(161, 105, 40)\"], [0.16666666666666666, \"rgb(189, 146, 90)\"], [0.3333333333333333, \"rgb(214, 189, 141)\"], [0.5, \"rgb(237, 234, 194)\"], [0.6666666666666666, \"rgb(181, 200, 184)\"], [0.8333333333333334, \"rgb(121, 167, 172)\"], [1.0, \"rgb(40, 135, 161)\"]], \"line\": {\"color\": \"rgb(50,50,50)\", \"width\": 0.5}, \"reversescale\": true, \"size\": 6, \"symbol\": \"circle\"}, \"mode\": \"markers+text\", \"text\": [\"\\u03a7\\u03c1\\u03b9\\u03c3\\u03c4\\u03cc\\u03c2\", \"\\u1f38\\u03b7\\u03c3\\u03bf\\u1fe6\\u03c2\", \"\\u03ba\\u03cd\\u03c1\\u03b9\\u03bf\\u03c2\", \"\\u03b5\\u1f30\\u03bc\\u03af\", \"\\u03b8\\u03b5\\u03cc\\u03c2\", \"\\u03c7\\u03ac\\u03c1\\u03b9\\u03c2\", \"\\u03c0\\u03b1\\u03c4\\u03ae\\u03c1\", \"\\u03bd\\u03bf\\u03bc\\u03cc\\u03c2\", \"\\u03c0\\u03bd\\u03b5\\u1fe6\\u03bc\\u03b1\", \"\\u03b5\\u1f30\\u03c1\\u03ae\\u03bd\\u03b7\", \"\\u1f14\\u03c1\\u03b3\\u03bf\\u03bd\", \"\\u03b1\\u1f50\\u03c4\\u03cc\\u03c2\", \"\\u1f05\\u03b3\\u03b9\\u03bf\\u03c2\", \"\\u03bf\\u1f57\\u03c4\\u03bf\\u03c2\", \"\\u03b4\\u03b9\\u03ba\\u03b1\\u03b9\\u03bf\\u03c3\\u03cd\\u03bd\\u03b7\", \"\\u03c0\\u1fb6\\u03c2\", \"\\u03bf\\u1f36\\u03b4\\u03b1\", \"\\u03c5\\u1f31\\u03cc\\u03c2\", \"\\u03b4\\u03cd\\u03bd\\u03b1\\u03bc\\u03b9\\u03c2\", \"\\u03b8\\u03ad\\u03bb\\u03b7\\u03bc\\u03b1\", \"\\u1f14\\u03c7\\u03c9\", \"\\u1f01\\u03bc\\u03b1\\u03c1\\u03c4\\u03af\\u03b1\", \"\\u03b4\\u03af\\u03b4\\u03c9\\u03bc\\u03b9\", \"\\u03b5\\u1f50\\u03c7\\u03b1\\u03c1\\u03b9\\u03c3\\u03c4\\u03ad\\u03c9\", \"\\u03b3\\u03b9\\u03b3\\u03bd\\u03ce\\u03c3\\u03ba\\u03c9\", \"\\u03b4\\u03cc\\u03be\\u03b1\", \"\\u1f10\\u03ba\\u03ba\\u03bb\\u03b7\\u03c3\\u03af\\u03b1\", \"\\u03c0\\u03af\\u03c3\\u03c4\\u03b9\\u03c2\", \"\\u1f00\\u03b3\\u03b1\\u03c0\\u03ac\\u03c9\", \"\\u03c3\\u03bf\\u03c6\\u03af\\u03b1\", \"\\u03bb\\u03bf\\u03b3\\u03af\\u03b6\\u03bf\\u03bc\\u03b1\\u03b9\"], \"type\": \"scatter3d\", \"x\": [-0.083942104307283, -0.09529390751670444, -0.10741171339398944, 0.1255275638747297, -0.05403426787402937, -0.20580270525735245, -0.05174004868938078, 0.3538528216378319, -0.3271106350120198, 0.12288422042252381, 0.511902916073344, 0.26064195735209994, -0.5543333731497955, 0.25789174337190873, 0.1369855432979998, -0.02688472357291226, -0.06460466782281431, -0.24011012583176655, 0.03970401695990999, 0.2173482825195232, -0.10191319858142062, 0.40222013398299594, 0.1993840129754846, 0.1654517889974061, -0.1390465974985865, -0.14684402879797104, -0.2611120722041502, 0.08255005184061694, -0.3809681586413747, -0.28873277474257264, 0.2535400495877472], \"y\": [-0.11341208983934124, -0.11113414868040475, -0.11553114487984753, -0.15814548188081748, -0.1285675713711418, -0.13996416297050293, -0.009159353548926235, 0.7514479194362419, -0.13214779987404868, -0.011650072188657812, 0.875193957561526, -0.27160661177082174, -0.1369888365605701, -0.11118329479441864, 0.3680723693669994, -0.311907462540292, -0.4197961404925808, -0.31469007068975535, -0.3979328868503012, -0.08721651321727697, -0.06967100136975908, 1.0, -0.3003055848657561, -0.2876864994352657, -0.3328686967189827, 0.11175230416725011, 0.09888623424703916, 0.6441979273607443, -0.10962116450222818, -0.40011365437135804, 0.621749531273253], \"z\": [-0.4103652054152832, -0.5516506985038248, -0.6709122436080754, 0.304314830733668, 0.02422223958432296, 0.02043405851992828, -0.11252298505889617, -0.17138408855671375, 0.20819344318903507, 0.09528983234128581, -0.24092959930758204, 0.5071330351810375, 0.3520348444692157, 0.5304610692446968, -0.03750938121321122, -0.17939620952465093, -0.013788102760266683, -0.1278408166988399, 0.14867560173954034, -0.0861367662450468, 0.3071050361372463, -0.22987925360447467, 0.05690944354332252, -0.15860566789619046, 0.27193933575565, 0.19023857390298976, -0.023820401054132346, -0.0840600932067383, -0.10403411430276732, 0.08961889386523707, 0.09626538874951508]}, {\"hoverinfo\": \"text\", \"marker\": {\"opacity\": 0}, \"mode\": \"markers\", \"opacity\": 0, \"text\": [\"83\", \"11\", \"55\", \"20\", \"11\", \"11\", \"20\", \"18\", \"15\", \"13\", \"10\", \"10\", \"10\", \"9\", \"9\", \"9\", \"9\", \"9\", \"8\", \"8\", \"8\", \"8\", \"7\", \"7\", \"12\", \"9\", \"7\", \"11\", \"7\", \"6\"], \"type\": \"scatter3d\", \"x\": [-0.08961800591199372, -0.06898818609065618, -0.10135281045534694, 0.035746648000350156, 0.1930847606134148, 0.1917096536233192, -0.1299184865656909, -0.05288715828170507, -0.1905724514430246, 0.03442497627424722, 0.04147563771198522, -0.04045949572347081, -0.059319467848421834, -0.14707219685289796, -0.007165125457059687, 0.08165700732274692, -0.077973733227725, 0.07267487255072762, 0.05570876056168836, -0.09654043268630794, -0.1004391483360002, -0.1575731700390898, -0.21750121325770203, -0.171383521308301, 0.432877868855588, 0.37803647781041394, 0.24541918246791583, -0.44072200408090767, 0.10976779756930838, 0.19526279644287348], \"y\": [-0.11227311925987299, -0.12098983060524152, -0.11333264678012614, -0.14335652662597964, -0.21487604682581962, -0.13466438833761807, -0.13426586717082237, -0.06886346246003403, -0.13035768562259525, -0.07010882177989981, 0.11975239899792879, -0.22023751695571692, -0.2741818559318613, -0.22162882103044856, -0.2632502291107215, -0.10789204229420939, -0.09911928637045045, -0.21443657811844896, -0.20812703540320376, -0.23071813404506225, -0.008407633601945845, -0.014840668562051323, -0.11909436793668499, -0.26434061287124994, 0.813320938498884, 0.875723959718121, 0.5597601444016207, -0.13456831821730939, 0.5061351483638719, 0.4949109503201262], \"z\": [-0.481007951959554, -0.19307148291548012, -0.6112814710559501, 0.16426853515899548, 0.40572393295735276, 0.4173879499891824, 0.022328149052125622, -0.04415037273728661, 0.11620784138667901, 0.059756035962804384, -0.00664357081444413, -0.07758698497016399, 0.005217068412028139, -0.05180928855725847, 0.08644892066193165, -0.030957263330361924, 0.16566363786078464, 0.040565841563822744, -0.06719171415593375, 0.14808078766998647, 0.10723040674365636, 0.0002009192650953076, -0.03990593735922218, 0.05692056672478001, -0.2061568439321479, -0.2006316710805942, -0.10444673488496248, 0.28011414382912536, -0.06078473720997476, 0.02937800376815193]}],                        {\"annotations\": [{\"font\": {\"size\": 14}, \"showarrow\": false, \"text\": \"\", \"x\": 0, \"xanchor\": \"left\", \"xref\": \"paper\", \"y\": 0.1, \"yanchor\": \"bottom\", \"yref\": \"paper\"}], \"height\": 700, \"hovermode\": \"closest\", \"margin\": {\"t\": 100}, \"plot_bgcolor\": \"rgba(0,0,0,0)\", \"scene\": {\"xaxis\": {\"showbackground\": false, \"showgrid\": false, \"showline\": false, \"showticklabels\": false, \"title\": {\"text\": \"\"}, \"zeroline\": false}, \"yaxis\": {\"showbackground\": false, \"showgrid\": false, \"showline\": false, \"showticklabels\": false, \"title\": {\"text\": \"\"}, \"zeroline\": false}, \"zaxis\": {\"showbackground\": false, \"showgrid\": false, \"showline\": false, \"showticklabels\": false, \"title\": {\"text\": \"\"}, \"zeroline\": false}}, \"showlegend\": false, \"template\": {\"data\": {\"bar\": [{\"error_x\": {\"color\": \"#2a3f5f\"}, \"error_y\": {\"color\": \"#2a3f5f\"}, \"marker\": {\"line\": {\"color\": \"#E5ECF6\", \"width\": 0.5}}, \"type\": \"bar\"}], \"barpolar\": [{\"marker\": {\"line\": {\"color\": \"#E5ECF6\", \"width\": 0.5}}, \"type\": \"barpolar\"}], \"carpet\": [{\"aaxis\": {\"endlinecolor\": \"#2a3f5f\", \"gridcolor\": \"white\", \"linecolor\": \"white\", \"minorgridcolor\": \"white\", \"startlinecolor\": \"#2a3f5f\"}, \"baxis\": {\"endlinecolor\": \"#2a3f5f\", \"gridcolor\": \"white\", \"linecolor\": \"white\", \"minorgridcolor\": \"white\", \"startlinecolor\": \"#2a3f5f\"}, \"type\": \"carpet\"}], \"choropleth\": [{\"colorbar\": {\"outlinewidth\": 0, \"ticks\": \"\"}, \"type\": \"choropleth\"}], \"contour\": [{\"colorbar\": {\"outlinewidth\": 0, \"ticks\": \"\"}, \"colorscale\": [[0.0, \"#0d0887\"], [0.1111111111111111, \"#46039f\"], [0.2222222222222222, \"#7201a8\"], [0.3333333333333333, \"#9c179e\"], [0.4444444444444444, \"#bd3786\"], [0.5555555555555556, \"#d8576b\"], [0.6666666666666666, \"#ed7953\"], [0.7777777777777778, \"#fb9f3a\"], [0.8888888888888888, \"#fdca26\"], [1.0, \"#f0f921\"]], \"type\": \"contour\"}], \"contourcarpet\": [{\"colorbar\": {\"outlinewidth\": 0, \"ticks\": \"\"}, \"type\": \"contourcarpet\"}], \"heatmap\": [{\"colorbar\": {\"outlinewidth\": 0, \"ticks\": \"\"}, \"colorscale\": [[0.0, \"#0d0887\"], [0.1111111111111111, \"#46039f\"], [0.2222222222222222, \"#7201a8\"], [0.3333333333333333, \"#9c179e\"], [0.4444444444444444, \"#bd3786\"], [0.5555555555555556, \"#d8576b\"], [0.6666666666666666, \"#ed7953\"], [0.7777777777777778, \"#fb9f3a\"], [0.8888888888888888, \"#fdca26\"], [1.0, \"#f0f921\"]], \"type\": \"heatmap\"}], \"heatmapgl\": [{\"colorbar\": {\"outlinewidth\": 0, \"ticks\": \"\"}, \"colorscale\": [[0.0, \"#0d0887\"], [0.1111111111111111, \"#46039f\"], [0.2222222222222222, \"#7201a8\"], [0.3333333333333333, \"#9c179e\"], [0.4444444444444444, \"#bd3786\"], [0.5555555555555556, \"#d8576b\"], [0.6666666666666666, \"#ed7953\"], [0.7777777777777778, \"#fb9f3a\"], [0.8888888888888888, \"#fdca26\"], [1.0, \"#f0f921\"]], \"type\": \"heatmapgl\"}], \"histogram\": [{\"marker\": {\"colorbar\": {\"outlinewidth\": 0, \"ticks\": \"\"}}, \"type\": \"histogram\"}], \"histogram2d\": [{\"colorbar\": {\"outlinewidth\": 0, \"ticks\": \"\"}, \"colorscale\": [[0.0, \"#0d0887\"], [0.1111111111111111, \"#46039f\"], [0.2222222222222222, \"#7201a8\"], [0.3333333333333333, \"#9c179e\"], [0.4444444444444444, \"#bd3786\"], [0.5555555555555556, \"#d8576b\"], [0.6666666666666666, \"#ed7953\"], [0.7777777777777778, \"#fb9f3a\"], [0.8888888888888888, \"#fdca26\"], [1.0, \"#f0f921\"]], \"type\": \"histogram2d\"}], \"histogram2dcontour\": [{\"colorbar\": {\"outlinewidth\": 0, \"ticks\": \"\"}, \"colorscale\": [[0.0, \"#0d0887\"], [0.1111111111111111, \"#46039f\"], [0.2222222222222222, \"#7201a8\"], [0.3333333333333333, \"#9c179e\"], [0.4444444444444444, \"#bd3786\"], [0.5555555555555556, \"#d8576b\"], [0.6666666666666666, \"#ed7953\"], [0.7777777777777778, \"#fb9f3a\"], [0.8888888888888888, \"#fdca26\"], [1.0, \"#f0f921\"]], \"type\": \"histogram2dcontour\"}], \"mesh3d\": [{\"colorbar\": {\"outlinewidth\": 0, \"ticks\": \"\"}, \"type\": \"mesh3d\"}], \"parcoords\": [{\"line\": {\"colorbar\": {\"outlinewidth\": 0, \"ticks\": \"\"}}, \"type\": \"parcoords\"}], \"pie\": [{\"automargin\": true, \"type\": \"pie\"}], \"scatter\": [{\"marker\": {\"colorbar\": {\"outlinewidth\": 0, \"ticks\": \"\"}}, \"type\": \"scatter\"}], \"scatter3d\": [{\"line\": {\"colorbar\": {\"outlinewidth\": 0, \"ticks\": \"\"}}, \"marker\": {\"colorbar\": {\"outlinewidth\": 0, \"ticks\": \"\"}}, \"type\": \"scatter3d\"}], \"scattercarpet\": [{\"marker\": {\"colorbar\": {\"outlinewidth\": 0, \"ticks\": \"\"}}, \"type\": \"scattercarpet\"}], \"scattergeo\": [{\"marker\": {\"colorbar\": {\"outlinewidth\": 0, \"ticks\": \"\"}}, \"type\": \"scattergeo\"}], \"scattergl\": [{\"marker\": {\"colorbar\": {\"outlinewidth\": 0, \"ticks\": \"\"}}, \"type\": \"scattergl\"}], \"scattermapbox\": [{\"marker\": {\"colorbar\": {\"outlinewidth\": 0, \"ticks\": \"\"}}, \"type\": \"scattermapbox\"}], \"scatterpolar\": [{\"marker\": {\"colorbar\": {\"outlinewidth\": 0, \"ticks\": \"\"}}, \"type\": \"scatterpolar\"}], \"scatterpolargl\": [{\"marker\": {\"colorbar\": {\"outlinewidth\": 0, \"ticks\": \"\"}}, \"type\": \"scatterpolargl\"}], \"scatterternary\": [{\"marker\": {\"colorbar\": {\"outlinewidth\": 0, \"ticks\": \"\"}}, \"type\": \"scatterternary\"}], \"surface\": [{\"colorbar\": {\"outlinewidth\": 0, \"ticks\": \"\"}, \"colorscale\": [[0.0, \"#0d0887\"], [0.1111111111111111, \"#46039f\"], [0.2222222222222222, \"#7201a8\"], [0.3333333333333333, \"#9c179e\"], [0.4444444444444444, \"#bd3786\"], [0.5555555555555556, \"#d8576b\"], [0.6666666666666666, \"#ed7953\"], [0.7777777777777778, \"#fb9f3a\"], [0.8888888888888888, \"#fdca26\"], [1.0, \"#f0f921\"]], \"type\": \"surface\"}], \"table\": [{\"cells\": {\"fill\": {\"color\": \"#EBF0F8\"}, \"line\": {\"color\": \"white\"}}, \"header\": {\"fill\": {\"color\": \"#C8D4E3\"}, \"line\": {\"color\": \"white\"}}, \"type\": \"table\"}]}, \"layout\": {\"annotationdefaults\": {\"arrowcolor\": \"#2a3f5f\", \"arrowhead\": 0, \"arrowwidth\": 1}, \"coloraxis\": {\"colorbar\": {\"outlinewidth\": 0, \"ticks\": \"\"}}, \"colorscale\": {\"diverging\": [[0, \"#8e0152\"], [0.1, \"#c51b7d\"], [0.2, \"#de77ae\"], [0.3, \"#f1b6da\"], [0.4, \"#fde0ef\"], [0.5, \"#f7f7f7\"], [0.6, \"#e6f5d0\"], [0.7, \"#b8e186\"], [0.8, \"#7fbc41\"], [0.9, \"#4d9221\"], [1, \"#276419\"]], \"sequential\": [[0.0, \"#0d0887\"], [0.1111111111111111, \"#46039f\"], [0.2222222222222222, \"#7201a8\"], [0.3333333333333333, \"#9c179e\"], [0.4444444444444444, \"#bd3786\"], [0.5555555555555556, \"#d8576b\"], [0.6666666666666666, \"#ed7953\"], [0.7777777777777778, \"#fb9f3a\"], [0.8888888888888888, \"#fdca26\"], [1.0, \"#f0f921\"]], \"sequentialminus\": [[0.0, \"#0d0887\"], [0.1111111111111111, \"#46039f\"], [0.2222222222222222, \"#7201a8\"], [0.3333333333333333, \"#9c179e\"], [0.4444444444444444, \"#bd3786\"], [0.5555555555555556, \"#d8576b\"], [0.6666666666666666, \"#ed7953\"], [0.7777777777777778, \"#fb9f3a\"], [0.8888888888888888, \"#fdca26\"], [1.0, \"#f0f921\"]]}, \"colorway\": [\"#636efa\", \"#EF553B\", \"#00cc96\", \"#ab63fa\", \"#FFA15A\", \"#19d3f3\", \"#FF6692\", \"#B6E880\", \"#FF97FF\", \"#FECB52\"], \"font\": {\"color\": \"#2a3f5f\"}, \"geo\": {\"bgcolor\": \"white\", \"lakecolor\": \"white\", \"landcolor\": \"#E5ECF6\", \"showlakes\": true, \"showland\": true, \"subunitcolor\": \"white\"}, \"hoverlabel\": {\"align\": \"left\"}, \"hovermode\": \"closest\", \"mapbox\": {\"style\": \"light\"}, \"paper_bgcolor\": \"white\", \"plot_bgcolor\": \"#E5ECF6\", \"polar\": {\"angularaxis\": {\"gridcolor\": \"white\", \"linecolor\": \"white\", \"ticks\": \"\"}, \"bgcolor\": \"#E5ECF6\", \"radialaxis\": {\"gridcolor\": \"white\", \"linecolor\": \"white\", \"ticks\": \"\"}}, \"scene\": {\"xaxis\": {\"backgroundcolor\": \"#E5ECF6\", \"gridcolor\": \"white\", \"gridwidth\": 2, \"linecolor\": \"white\", \"showbackground\": true, \"ticks\": \"\", \"zerolinecolor\": \"white\"}, \"yaxis\": {\"backgroundcolor\": \"#E5ECF6\", \"gridcolor\": \"white\", \"gridwidth\": 2, \"linecolor\": \"white\", \"showbackground\": true, \"ticks\": \"\", \"zerolinecolor\": \"white\"}, \"zaxis\": {\"backgroundcolor\": \"#E5ECF6\", \"gridcolor\": \"white\", \"gridwidth\": 2, \"linecolor\": \"white\", \"showbackground\": true, \"ticks\": \"\", \"zerolinecolor\": \"white\"}}, \"shapedefaults\": {\"line\": {\"color\": \"#2a3f5f\"}}, \"ternary\": {\"aaxis\": {\"gridcolor\": \"white\", \"linecolor\": \"white\", \"ticks\": \"\"}, \"baxis\": {\"gridcolor\": \"white\", \"linecolor\": \"white\", \"ticks\": \"\"}, \"bgcolor\": \"#E5ECF6\", \"caxis\": {\"gridcolor\": \"white\", \"linecolor\": \"white\", \"ticks\": \"\"}}, \"title\": {\"x\": 0.05}, \"xaxis\": {\"automargin\": true, \"gridcolor\": \"white\", \"linecolor\": \"white\", \"ticks\": \"\", \"title\": {\"standoff\": 15}, \"zerolinecolor\": \"white\", \"zerolinewidth\": 2}, \"yaxis\": {\"automargin\": true, \"gridcolor\": \"white\", \"linecolor\": \"white\", \"ticks\": \"\", \"title\": {\"standoff\": 15}, \"zerolinecolor\": \"white\", \"zerolinewidth\": 2}}}, \"title\": {\"text\": \"\"}, \"width\": 900},                        {\"responsive\": true}                    ).then(function(){\n",
       "                            \n",
       "var gd = document.getElementById('56c1d2fc-1c4a-4434-a2a7-d7b15b9fd026');\n",
       "var x = new MutationObserver(function (mutations, observer) {{\n",
       "        var display = window.getComputedStyle(gd).display;\n",
       "        if (!display || display === 'none') {{\n",
       "            console.log([gd, 'removed!']);\n",
       "            Plotly.purge(gd);\n",
       "            observer.disconnect();\n",
       "        }}\n",
       "}});\n",
       "\n",
       "// Listen for the removal of the full notebook cells\n",
       "var notebookContainer = gd.closest('#notebook-container');\n",
       "if (notebookContainer) {{\n",
       "    x.observe(notebookContainer, {childList: true});\n",
       "}}\n",
       "\n",
       "// Listen for the clearing of the current output cell\n",
       "var outputEl = gd.closest('.output');\n",
       "if (outputEl) {{\n",
       "    x.observe(outputEl, {childList: true});\n",
       "}}\n",
       "\n",
       "                        })                };                });            </script>        </div>"
      ]
     },
     "metadata": {},
     "output_type": "display_data"
    }
   ],
   "source": [
    "### 3d network\n",
    "fig = textnet.draw_3d_network(ego_network)\n",
    "fig.show()"
   ]
  },
  {
   "cell_type": "code",
   "execution_count": null,
   "metadata": {},
   "outputs": [],
   "source": []
  },
  {
   "cell_type": "code",
   "execution_count": null,
   "metadata": {},
   "outputs": [],
   "source": []
  },
  {
   "cell_type": "code",
   "execution_count": null,
   "metadata": {},
   "outputs": [],
   "source": []
  },
  {
   "cell_type": "code",
   "execution_count": null,
   "metadata": {},
   "outputs": [],
   "source": []
  },
  {
   "cell_type": "code",
   "execution_count": null,
   "metadata": {
    "id": "VZHTvXquJQl0"
   },
   "outputs": [],
   "source": [
    "bow = CountVectorizer(vocabulary=vocabulary)\n",
    "bow_term2doc = bow.fit_transform([\" \".join(doc) for doc in docs]) ### run the model\n",
    "\n",
    "term2term_bow = (bow_term2doc.T * bow_term2doc)\n",
    "\n",
    "\n",
    "tfidf =  TfidfVectorizer(vocabulary=vocabulary)\n",
    "tfidf_term2doc = tfidf.fit_transform([\" \".join(doc) for doc in docs]) ### run the model\n",
    "\n",
    "svd = TruncatedSVD(n_components=150, n_iter=5, random_state=42)\n",
    "svd_bow = svd.fit(bow_term2doc)\n",
    "\n",
    "svd = TruncatedSVD(n_components=150, n_iter=5, random_state=42)\n",
    "svd_tfidf = svd.fit(tfidf_term2doc)\n",
    "    #term2doc = pd.DataFrame(Xc.toarray(), columns=vec.get_feature_names(), index=vec.get_feature_names())\n",
    "lsa_bow = pd.DataFrame(svd_bow.components_, columns=vocabulary)\n",
    "lsa_tfidf = pd.DataFrame(svd_tfidf.components_, columns=vocabulary)"
   ]
  },
  {
   "cell_type": "code",
   "execution_count": null,
   "metadata": {},
   "outputs": [],
   "source": []
  },
  {
   "cell_type": "code",
   "execution_count": null,
   "metadata": {
    "id": "i_EjOdpBJQl0"
   },
   "outputs": [],
   "source": [
    "words = [\"δίκαιος\", \"δίκη\", \"δικαιοσύνη\"]"
   ]
  },
  {
   "cell_type": "code",
   "execution_count": null,
   "metadata": {
    "id": "M413lxCVJQl0",
    "outputId": "425b8dab-90d2-46fa-ae0e-347e39c276e9"
   },
   "outputs": [
    {
     "data": {
      "text/html": [
       "<div>\n",
       "<style scoped>\n",
       "    .dataframe tbody tr th:only-of-type {\n",
       "        vertical-align: middle;\n",
       "    }\n",
       "\n",
       "    .dataframe tbody tr th {\n",
       "        vertical-align: top;\n",
       "    }\n",
       "\n",
       "    .dataframe thead th {\n",
       "        text-align: right;\n",
       "    }\n",
       "</style>\n",
       "<table border=\"1\" class=\"dataframe\">\n",
       "  <thead>\n",
       "    <tr style=\"text-align: right;\">\n",
       "      <th></th>\n",
       "      <th>πρᾶγμα</th>\n",
       "      <th>ἡσσάομαι</th>\n",
       "      <th>θλίβω</th>\n",
       "      <th>θλίψιν</th>\n",
       "      <th>διδαχῆς</th>\n",
       "      <th>ψάλλω</th>\n",
       "      <th>ἐλάχιστόν</th>\n",
       "      <th>διατάσσω</th>\n",
       "      <th>ποῦ</th>\n",
       "      <th>θερίζω</th>\n",
       "      <th>...</th>\n",
       "      <th>εἴδωλόν</th>\n",
       "      <th>φοβέω</th>\n",
       "      <th>θαυμάζω</th>\n",
       "      <th>ὀδυρμός</th>\n",
       "      <th>εὐαγγέλιον</th>\n",
       "      <th>ὑπακοην</th>\n",
       "      <th>ἀντικειμένωνἥτις</th>\n",
       "      <th>ἔνδειξις</th>\n",
       "      <th>ὑποτάσσω</th>\n",
       "      <th>συγχαίρω</th>\n",
       "    </tr>\n",
       "  </thead>\n",
       "  <tbody>\n",
       "    <tr>\n",
       "      <th>πρᾶγμα</th>\n",
       "      <td>4</td>\n",
       "      <td>0</td>\n",
       "      <td>0</td>\n",
       "      <td>0</td>\n",
       "      <td>0</td>\n",
       "      <td>0</td>\n",
       "      <td>0</td>\n",
       "      <td>0</td>\n",
       "      <td>0</td>\n",
       "      <td>0</td>\n",
       "      <td>...</td>\n",
       "      <td>0</td>\n",
       "      <td>0</td>\n",
       "      <td>0</td>\n",
       "      <td>0</td>\n",
       "      <td>0</td>\n",
       "      <td>0</td>\n",
       "      <td>0</td>\n",
       "      <td>0</td>\n",
       "      <td>0</td>\n",
       "      <td>0</td>\n",
       "    </tr>\n",
       "    <tr>\n",
       "      <th>ἡσσάομαι</th>\n",
       "      <td>0</td>\n",
       "      <td>1</td>\n",
       "      <td>0</td>\n",
       "      <td>0</td>\n",
       "      <td>0</td>\n",
       "      <td>0</td>\n",
       "      <td>0</td>\n",
       "      <td>0</td>\n",
       "      <td>0</td>\n",
       "      <td>0</td>\n",
       "      <td>...</td>\n",
       "      <td>0</td>\n",
       "      <td>0</td>\n",
       "      <td>0</td>\n",
       "      <td>0</td>\n",
       "      <td>0</td>\n",
       "      <td>0</td>\n",
       "      <td>0</td>\n",
       "      <td>0</td>\n",
       "      <td>0</td>\n",
       "      <td>0</td>\n",
       "    </tr>\n",
       "    <tr>\n",
       "      <th>θλίβω</th>\n",
       "      <td>0</td>\n",
       "      <td>0</td>\n",
       "      <td>11</td>\n",
       "      <td>0</td>\n",
       "      <td>0</td>\n",
       "      <td>0</td>\n",
       "      <td>0</td>\n",
       "      <td>0</td>\n",
       "      <td>0</td>\n",
       "      <td>0</td>\n",
       "      <td>...</td>\n",
       "      <td>0</td>\n",
       "      <td>0</td>\n",
       "      <td>0</td>\n",
       "      <td>0</td>\n",
       "      <td>0</td>\n",
       "      <td>0</td>\n",
       "      <td>0</td>\n",
       "      <td>0</td>\n",
       "      <td>0</td>\n",
       "      <td>0</td>\n",
       "    </tr>\n",
       "    <tr>\n",
       "      <th>θλίψιν</th>\n",
       "      <td>0</td>\n",
       "      <td>0</td>\n",
       "      <td>0</td>\n",
       "      <td>2</td>\n",
       "      <td>0</td>\n",
       "      <td>0</td>\n",
       "      <td>0</td>\n",
       "      <td>0</td>\n",
       "      <td>0</td>\n",
       "      <td>0</td>\n",
       "      <td>...</td>\n",
       "      <td>0</td>\n",
       "      <td>0</td>\n",
       "      <td>0</td>\n",
       "      <td>0</td>\n",
       "      <td>1</td>\n",
       "      <td>0</td>\n",
       "      <td>0</td>\n",
       "      <td>0</td>\n",
       "      <td>0</td>\n",
       "      <td>0</td>\n",
       "    </tr>\n",
       "    <tr>\n",
       "      <th>διδαχῆς</th>\n",
       "      <td>0</td>\n",
       "      <td>0</td>\n",
       "      <td>0</td>\n",
       "      <td>0</td>\n",
       "      <td>1</td>\n",
       "      <td>0</td>\n",
       "      <td>0</td>\n",
       "      <td>0</td>\n",
       "      <td>0</td>\n",
       "      <td>0</td>\n",
       "      <td>...</td>\n",
       "      <td>0</td>\n",
       "      <td>0</td>\n",
       "      <td>0</td>\n",
       "      <td>0</td>\n",
       "      <td>0</td>\n",
       "      <td>0</td>\n",
       "      <td>0</td>\n",
       "      <td>0</td>\n",
       "      <td>0</td>\n",
       "      <td>0</td>\n",
       "    </tr>\n",
       "    <tr>\n",
       "      <th>...</th>\n",
       "      <td>...</td>\n",
       "      <td>...</td>\n",
       "      <td>...</td>\n",
       "      <td>...</td>\n",
       "      <td>...</td>\n",
       "      <td>...</td>\n",
       "      <td>...</td>\n",
       "      <td>...</td>\n",
       "      <td>...</td>\n",
       "      <td>...</td>\n",
       "      <td>...</td>\n",
       "      <td>...</td>\n",
       "      <td>...</td>\n",
       "      <td>...</td>\n",
       "      <td>...</td>\n",
       "      <td>...</td>\n",
       "      <td>...</td>\n",
       "      <td>...</td>\n",
       "      <td>...</td>\n",
       "      <td>...</td>\n",
       "      <td>...</td>\n",
       "    </tr>\n",
       "    <tr>\n",
       "      <th>ὑπακοην</th>\n",
       "      <td>0</td>\n",
       "      <td>0</td>\n",
       "      <td>0</td>\n",
       "      <td>0</td>\n",
       "      <td>0</td>\n",
       "      <td>0</td>\n",
       "      <td>0</td>\n",
       "      <td>0</td>\n",
       "      <td>0</td>\n",
       "      <td>0</td>\n",
       "      <td>...</td>\n",
       "      <td>0</td>\n",
       "      <td>0</td>\n",
       "      <td>0</td>\n",
       "      <td>0</td>\n",
       "      <td>1</td>\n",
       "      <td>4</td>\n",
       "      <td>0</td>\n",
       "      <td>0</td>\n",
       "      <td>0</td>\n",
       "      <td>0</td>\n",
       "    </tr>\n",
       "    <tr>\n",
       "      <th>ἀντικειμένωνἥτις</th>\n",
       "      <td>0</td>\n",
       "      <td>0</td>\n",
       "      <td>0</td>\n",
       "      <td>0</td>\n",
       "      <td>0</td>\n",
       "      <td>0</td>\n",
       "      <td>0</td>\n",
       "      <td>0</td>\n",
       "      <td>0</td>\n",
       "      <td>0</td>\n",
       "      <td>...</td>\n",
       "      <td>0</td>\n",
       "      <td>0</td>\n",
       "      <td>0</td>\n",
       "      <td>0</td>\n",
       "      <td>2</td>\n",
       "      <td>0</td>\n",
       "      <td>1</td>\n",
       "      <td>1</td>\n",
       "      <td>0</td>\n",
       "      <td>0</td>\n",
       "    </tr>\n",
       "    <tr>\n",
       "      <th>ἔνδειξις</th>\n",
       "      <td>0</td>\n",
       "      <td>0</td>\n",
       "      <td>0</td>\n",
       "      <td>0</td>\n",
       "      <td>0</td>\n",
       "      <td>0</td>\n",
       "      <td>0</td>\n",
       "      <td>0</td>\n",
       "      <td>0</td>\n",
       "      <td>0</td>\n",
       "      <td>...</td>\n",
       "      <td>0</td>\n",
       "      <td>0</td>\n",
       "      <td>0</td>\n",
       "      <td>0</td>\n",
       "      <td>2</td>\n",
       "      <td>0</td>\n",
       "      <td>1</td>\n",
       "      <td>6</td>\n",
       "      <td>0</td>\n",
       "      <td>0</td>\n",
       "    </tr>\n",
       "    <tr>\n",
       "      <th>ὑποτάσσω</th>\n",
       "      <td>0</td>\n",
       "      <td>0</td>\n",
       "      <td>0</td>\n",
       "      <td>0</td>\n",
       "      <td>0</td>\n",
       "      <td>0</td>\n",
       "      <td>0</td>\n",
       "      <td>0</td>\n",
       "      <td>0</td>\n",
       "      <td>0</td>\n",
       "      <td>...</td>\n",
       "      <td>0</td>\n",
       "      <td>0</td>\n",
       "      <td>0</td>\n",
       "      <td>0</td>\n",
       "      <td>0</td>\n",
       "      <td>0</td>\n",
       "      <td>0</td>\n",
       "      <td>0</td>\n",
       "      <td>12</td>\n",
       "      <td>0</td>\n",
       "    </tr>\n",
       "    <tr>\n",
       "      <th>συγχαίρω</th>\n",
       "      <td>0</td>\n",
       "      <td>0</td>\n",
       "      <td>0</td>\n",
       "      <td>0</td>\n",
       "      <td>0</td>\n",
       "      <td>0</td>\n",
       "      <td>0</td>\n",
       "      <td>0</td>\n",
       "      <td>0</td>\n",
       "      <td>0</td>\n",
       "      <td>...</td>\n",
       "      <td>0</td>\n",
       "      <td>0</td>\n",
       "      <td>0</td>\n",
       "      <td>0</td>\n",
       "      <td>0</td>\n",
       "      <td>0</td>\n",
       "      <td>0</td>\n",
       "      <td>0</td>\n",
       "      <td>0</td>\n",
       "      <td>3</td>\n",
       "    </tr>\n",
       "  </tbody>\n",
       "</table>\n",
       "<p>2352 rows × 2352 columns</p>\n",
       "</div>"
      ],
      "text/plain": [
       "                  πρᾶγμα  ἡσσάομαι  θλίβω  θλίψιν  διδαχῆς  ψάλλω  ἐλάχιστόν  \\\n",
       "πρᾶγμα                 4         0      0       0        0      0          0   \n",
       "ἡσσάομαι               0         1      0       0        0      0          0   \n",
       "θλίβω                  0         0     11       0        0      0          0   \n",
       "θλίψιν                 0         0      0       2        0      0          0   \n",
       "διδαχῆς                0         0      0       0        1      0          0   \n",
       "...                  ...       ...    ...     ...      ...    ...        ...   \n",
       "ὑπακοην                0         0      0       0        0      0          0   \n",
       "ἀντικειμένωνἥτις       0         0      0       0        0      0          0   \n",
       "ἔνδειξις               0         0      0       0        0      0          0   \n",
       "ὑποτάσσω               0         0      0       0        0      0          0   \n",
       "συγχαίρω               0         0      0       0        0      0          0   \n",
       "\n",
       "                  διατάσσω  ποῦ  θερίζω  ...  εἴδωλόν  φοβέω  θαυμάζω  \\\n",
       "πρᾶγμα                   0    0       0  ...        0      0        0   \n",
       "ἡσσάομαι                 0    0       0  ...        0      0        0   \n",
       "θλίβω                    0    0       0  ...        0      0        0   \n",
       "θλίψιν                   0    0       0  ...        0      0        0   \n",
       "διδαχῆς                  0    0       0  ...        0      0        0   \n",
       "...                    ...  ...     ...  ...      ...    ...      ...   \n",
       "ὑπακοην                  0    0       0  ...        0      0        0   \n",
       "ἀντικειμένωνἥτις         0    0       0  ...        0      0        0   \n",
       "ἔνδειξις                 0    0       0  ...        0      0        0   \n",
       "ὑποτάσσω                 0    0       0  ...        0      0        0   \n",
       "συγχαίρω                 0    0       0  ...        0      0        0   \n",
       "\n",
       "                  ὀδυρμός  εὐαγγέλιον  ὑπακοην  ἀντικειμένωνἥτις  ἔνδειξις  \\\n",
       "πρᾶγμα                  0           0        0                 0         0   \n",
       "ἡσσάομαι                0           0        0                 0         0   \n",
       "θλίβω                   0           0        0                 0         0   \n",
       "θλίψιν                  0           1        0                 0         0   \n",
       "διδαχῆς                 0           0        0                 0         0   \n",
       "...                   ...         ...      ...               ...       ...   \n",
       "ὑπακοην                 0           1        4                 0         0   \n",
       "ἀντικειμένωνἥτις        0           2        0                 1         1   \n",
       "ἔνδειξις                0           2        0                 1         6   \n",
       "ὑποτάσσω                0           0        0                 0         0   \n",
       "συγχαίρω                0           0        0                 0         0   \n",
       "\n",
       "                  ὑποτάσσω  συγχαίρω  \n",
       "πρᾶγμα                   0         0  \n",
       "ἡσσάομαι                 0         0  \n",
       "θλίβω                    0         0  \n",
       "θλίψιν                   0         0  \n",
       "διδαχῆς                  0         0  \n",
       "...                    ...       ...  \n",
       "ὑπακοην                  0         0  \n",
       "ἀντικειμένωνἥτις         0         0  \n",
       "ἔνδειξις                 0         0  \n",
       "ὑποτάσσω                12         0  \n",
       "συγχαίρω                 0         3  \n",
       "\n",
       "[2352 rows x 2352 columns]"
      ]
     },
     "execution_count": 66,
     "metadata": {
      "tags": []
     },
     "output_type": "execute_result"
    }
   ],
   "source": [
    "term2term_bow_df = pd.DataFrame(term2term_bow.todense(), columns=vocabulary, index=vocabulary)\n",
    "term2term_bow_df"
   ]
  },
  {
   "cell_type": "code",
   "execution_count": null,
   "metadata": {
    "id": "5_2m3288JQl0",
    "outputId": "a237fe9e-5d8a-40ec-b040-458feed42a8a"
   },
   "outputs": [
    {
     "name": "stdout",
     "output_type": "stream",
     "text": [
      "            δικαιοσύνη\n",
      "δικαιοσύνη          62\n",
      "πίστις              25\n",
      "θεάομαι             18\n",
      "νόμος               16\n",
      "λογίζομαι           11\n",
      "χριστοῦ             10\n",
      "ἁμαρτία             10\n",
      "ἰησοῦ               10\n",
      "θεός                 9\n",
      "πᾶς                  9\n",
      "πιστεύω              7\n",
      "περιτομή             7\n",
      "ἀκροβυστία           6\n",
      "πατήρ                6\n",
      "ἀβραάμ               6\n",
      "ἀνομία               5\n",
      "βασιλεύω             5\n",
      "δοῦλος               5\n",
      "κύριος               5\n",
      "ἁμάρτημα             5\n"
     ]
    }
   ],
   "source": [
    "sorted_df = term2term_bow_df.sort_values(\"δικαιοσύνη\", ascending=False)[[\"δικαιοσύνη\"]]\n",
    "print(sorted_df.head(20))"
   ]
  },
  {
   "cell_type": "code",
   "execution_count": null,
   "metadata": {
    "id": "xWMaNQehJQl1",
    "outputId": "2a7150ab-f766-4d68-cc19-6752cab2240f"
   },
   "outputs": [
    {
     "name": "stdout",
     "output_type": "stream",
     "text": [
      "            δίκαιος\n",
      "δίκαιος          14\n",
      "πίστις            8\n",
      "ὅσος              6\n",
      "θεός              6\n",
      "νόμος             5\n",
      "πᾶς               4\n",
      "θεάομαι           4\n",
      "ἕνος              3\n",
      "δικαιοσύνη        3\n",
      "ἁμός              3\n",
      "ζάω               3\n",
      "δικαιόω           2\n",
      "ἀλλ               2\n",
      "ποιέω             2\n",
      "πολύς             2\n",
      "ἅγιος             2\n",
      "καθίστημι         2\n",
      "ἔχω               2\n",
      "γράφω             2\n",
      "εἶμι              2\n"
     ]
    }
   ],
   "source": [
    "sorted_df = term2term_bow_df.sort_values(\"δίκαιος\", ascending=False)[[\"δίκαιος\"]]\n",
    "print(sorted_df.head(20))"
   ]
  },
  {
   "cell_type": "code",
   "execution_count": null,
   "metadata": {
    "id": "246hKpH0JQl1",
    "outputId": "4d6a95b0-465f-4c23-ba57-814622a2e1ad"
   },
   "outputs": [
    {
     "data": {
      "text/html": [
       "<div>\n",
       "<style scoped>\n",
       "    .dataframe tbody tr th:only-of-type {\n",
       "        vertical-align: middle;\n",
       "    }\n",
       "\n",
       "    .dataframe tbody tr th {\n",
       "        vertical-align: top;\n",
       "    }\n",
       "\n",
       "    .dataframe thead th {\n",
       "        text-align: right;\n",
       "    }\n",
       "</style>\n",
       "<table border=\"1\" class=\"dataframe\">\n",
       "  <thead>\n",
       "    <tr style=\"text-align: right;\">\n",
       "      <th></th>\n",
       "      <th>πρᾶγμα</th>\n",
       "      <th>ἡσσάομαι</th>\n",
       "      <th>θλίβω</th>\n",
       "      <th>θλίψιν</th>\n",
       "      <th>διδαχῆς</th>\n",
       "      <th>ψάλλω</th>\n",
       "      <th>ἐλάχιστόν</th>\n",
       "      <th>διατάσσω</th>\n",
       "      <th>ποῦ</th>\n",
       "      <th>θερίζω</th>\n",
       "      <th>...</th>\n",
       "      <th>εἴδωλόν</th>\n",
       "      <th>φοβέω</th>\n",
       "      <th>θαυμάζω</th>\n",
       "      <th>ὀδυρμός</th>\n",
       "      <th>εὐαγγέλιον</th>\n",
       "      <th>ὑπακοην</th>\n",
       "      <th>ἀντικειμένωνἥτις</th>\n",
       "      <th>ἔνδειξις</th>\n",
       "      <th>ὑποτάσσω</th>\n",
       "      <th>συγχαίρω</th>\n",
       "    </tr>\n",
       "  </thead>\n",
       "  <tbody>\n",
       "    <tr>\n",
       "      <th>0</th>\n",
       "      <td>0.003708</td>\n",
       "      <td>0.000052</td>\n",
       "      <td>0.018253</td>\n",
       "      <td>0.000661</td>\n",
       "      <td>0.000759</td>\n",
       "      <td>0.000499</td>\n",
       "      <td>0.000129</td>\n",
       "      <td>0.001352</td>\n",
       "      <td>0.000011</td>\n",
       "      <td>0.001212</td>\n",
       "      <td>...</td>\n",
       "      <td>-6.639306e-16</td>\n",
       "      <td>0.006197</td>\n",
       "      <td>0.000482</td>\n",
       "      <td>0.000551</td>\n",
       "      <td>0.067805</td>\n",
       "      <td>0.012405</td>\n",
       "      <td>0.001671</td>\n",
       "      <td>0.005543</td>\n",
       "      <td>0.014762</td>\n",
       "      <td>0.001498</td>\n",
       "    </tr>\n",
       "    <tr>\n",
       "      <th>1</th>\n",
       "      <td>-0.001711</td>\n",
       "      <td>-0.000088</td>\n",
       "      <td>0.019553</td>\n",
       "      <td>-0.001290</td>\n",
       "      <td>-0.000133</td>\n",
       "      <td>-0.000006</td>\n",
       "      <td>-0.000068</td>\n",
       "      <td>-0.001622</td>\n",
       "      <td>0.000023</td>\n",
       "      <td>0.000156</td>\n",
       "      <td>...</td>\n",
       "      <td>-8.387424e-15</td>\n",
       "      <td>-0.003687</td>\n",
       "      <td>0.000134</td>\n",
       "      <td>-0.000948</td>\n",
       "      <td>-0.018718</td>\n",
       "      <td>-0.002153</td>\n",
       "      <td>0.000014</td>\n",
       "      <td>0.001900</td>\n",
       "      <td>-0.017855</td>\n",
       "      <td>-0.003475</td>\n",
       "    </tr>\n",
       "    <tr>\n",
       "      <th>2</th>\n",
       "      <td>-0.001938</td>\n",
       "      <td>0.000137</td>\n",
       "      <td>-0.002422</td>\n",
       "      <td>0.002927</td>\n",
       "      <td>0.000159</td>\n",
       "      <td>0.000678</td>\n",
       "      <td>0.000282</td>\n",
       "      <td>-0.000731</td>\n",
       "      <td>0.000011</td>\n",
       "      <td>0.001485</td>\n",
       "      <td>...</td>\n",
       "      <td>2.157429e-14</td>\n",
       "      <td>0.002290</td>\n",
       "      <td>0.000561</td>\n",
       "      <td>0.002798</td>\n",
       "      <td>0.067655</td>\n",
       "      <td>0.000908</td>\n",
       "      <td>0.002165</td>\n",
       "      <td>0.003588</td>\n",
       "      <td>-0.019197</td>\n",
       "      <td>-0.003370</td>\n",
       "    </tr>\n",
       "    <tr>\n",
       "      <th>3</th>\n",
       "      <td>-0.000222</td>\n",
       "      <td>-0.000004</td>\n",
       "      <td>-0.019747</td>\n",
       "      <td>-0.001763</td>\n",
       "      <td>0.000364</td>\n",
       "      <td>0.001681</td>\n",
       "      <td>-0.000111</td>\n",
       "      <td>0.000080</td>\n",
       "      <td>-0.000030</td>\n",
       "      <td>0.004362</td>\n",
       "      <td>...</td>\n",
       "      <td>-1.263571e-13</td>\n",
       "      <td>-0.012455</td>\n",
       "      <td>0.000969</td>\n",
       "      <td>-0.001761</td>\n",
       "      <td>-0.010202</td>\n",
       "      <td>0.017871</td>\n",
       "      <td>0.004209</td>\n",
       "      <td>0.011782</td>\n",
       "      <td>0.010564</td>\n",
       "      <td>-0.000816</td>\n",
       "    </tr>\n",
       "    <tr>\n",
       "      <th>4</th>\n",
       "      <td>-0.000502</td>\n",
       "      <td>-0.000153</td>\n",
       "      <td>0.002632</td>\n",
       "      <td>-0.000557</td>\n",
       "      <td>0.003583</td>\n",
       "      <td>0.000096</td>\n",
       "      <td>-0.000091</td>\n",
       "      <td>-0.001782</td>\n",
       "      <td>-0.000024</td>\n",
       "      <td>0.000647</td>\n",
       "      <td>...</td>\n",
       "      <td>3.878321e-13</td>\n",
       "      <td>0.000985</td>\n",
       "      <td>-0.000747</td>\n",
       "      <td>-0.000634</td>\n",
       "      <td>-0.038459</td>\n",
       "      <td>-0.009959</td>\n",
       "      <td>-0.001097</td>\n",
       "      <td>0.004457</td>\n",
       "      <td>-0.003471</td>\n",
       "      <td>-0.000706</td>\n",
       "    </tr>\n",
       "    <tr>\n",
       "      <th>...</th>\n",
       "      <td>...</td>\n",
       "      <td>...</td>\n",
       "      <td>...</td>\n",
       "      <td>...</td>\n",
       "      <td>...</td>\n",
       "      <td>...</td>\n",
       "      <td>...</td>\n",
       "      <td>...</td>\n",
       "      <td>...</td>\n",
       "      <td>...</td>\n",
       "      <td>...</td>\n",
       "      <td>...</td>\n",
       "      <td>...</td>\n",
       "      <td>...</td>\n",
       "      <td>...</td>\n",
       "      <td>...</td>\n",
       "      <td>...</td>\n",
       "      <td>...</td>\n",
       "      <td>...</td>\n",
       "      <td>...</td>\n",
       "      <td>...</td>\n",
       "    </tr>\n",
       "    <tr>\n",
       "      <th>145</th>\n",
       "      <td>-0.010291</td>\n",
       "      <td>0.003474</td>\n",
       "      <td>-0.049004</td>\n",
       "      <td>-0.001600</td>\n",
       "      <td>-0.011729</td>\n",
       "      <td>0.012179</td>\n",
       "      <td>-0.004205</td>\n",
       "      <td>-0.002103</td>\n",
       "      <td>0.003453</td>\n",
       "      <td>-0.016910</td>\n",
       "      <td>...</td>\n",
       "      <td>-8.785520e-07</td>\n",
       "      <td>0.014278</td>\n",
       "      <td>-0.002597</td>\n",
       "      <td>-0.005485</td>\n",
       "      <td>-0.006336</td>\n",
       "      <td>0.026199</td>\n",
       "      <td>-0.013394</td>\n",
       "      <td>-0.005216</td>\n",
       "      <td>0.001714</td>\n",
       "      <td>-0.009270</td>\n",
       "    </tr>\n",
       "    <tr>\n",
       "      <th>146</th>\n",
       "      <td>-0.028570</td>\n",
       "      <td>0.007097</td>\n",
       "      <td>0.005474</td>\n",
       "      <td>-0.006091</td>\n",
       "      <td>0.003053</td>\n",
       "      <td>0.004164</td>\n",
       "      <td>0.001158</td>\n",
       "      <td>0.001073</td>\n",
       "      <td>-0.001872</td>\n",
       "      <td>-0.020473</td>\n",
       "      <td>...</td>\n",
       "      <td>-7.591400e-08</td>\n",
       "      <td>-0.000330</td>\n",
       "      <td>0.004361</td>\n",
       "      <td>0.010873</td>\n",
       "      <td>-0.017895</td>\n",
       "      <td>0.000099</td>\n",
       "      <td>-0.006938</td>\n",
       "      <td>-0.027157</td>\n",
       "      <td>0.002984</td>\n",
       "      <td>-0.024311</td>\n",
       "    </tr>\n",
       "    <tr>\n",
       "      <th>147</th>\n",
       "      <td>-0.005424</td>\n",
       "      <td>-0.004964</td>\n",
       "      <td>0.012694</td>\n",
       "      <td>-0.006861</td>\n",
       "      <td>-0.005116</td>\n",
       "      <td>0.001409</td>\n",
       "      <td>0.001862</td>\n",
       "      <td>0.009463</td>\n",
       "      <td>0.000358</td>\n",
       "      <td>0.006379</td>\n",
       "      <td>...</td>\n",
       "      <td>-5.241422e-07</td>\n",
       "      <td>0.028197</td>\n",
       "      <td>0.001656</td>\n",
       "      <td>-0.004227</td>\n",
       "      <td>-0.005124</td>\n",
       "      <td>-0.052964</td>\n",
       "      <td>0.022026</td>\n",
       "      <td>0.048630</td>\n",
       "      <td>0.046711</td>\n",
       "      <td>0.013198</td>\n",
       "    </tr>\n",
       "    <tr>\n",
       "      <th>148</th>\n",
       "      <td>0.021749</td>\n",
       "      <td>-0.000103</td>\n",
       "      <td>0.003712</td>\n",
       "      <td>-0.005903</td>\n",
       "      <td>-0.006872</td>\n",
       "      <td>-0.016247</td>\n",
       "      <td>0.007232</td>\n",
       "      <td>0.009815</td>\n",
       "      <td>-0.003137</td>\n",
       "      <td>-0.054888</td>\n",
       "      <td>...</td>\n",
       "      <td>-5.550533e-07</td>\n",
       "      <td>0.046293</td>\n",
       "      <td>0.007101</td>\n",
       "      <td>0.002207</td>\n",
       "      <td>-0.021809</td>\n",
       "      <td>-0.019193</td>\n",
       "      <td>-0.008599</td>\n",
       "      <td>0.001844</td>\n",
       "      <td>-0.025452</td>\n",
       "      <td>-0.006316</td>\n",
       "    </tr>\n",
       "    <tr>\n",
       "      <th>149</th>\n",
       "      <td>-0.027197</td>\n",
       "      <td>0.006671</td>\n",
       "      <td>0.081570</td>\n",
       "      <td>0.005786</td>\n",
       "      <td>0.001441</td>\n",
       "      <td>-0.004829</td>\n",
       "      <td>-0.006967</td>\n",
       "      <td>0.011033</td>\n",
       "      <td>0.000643</td>\n",
       "      <td>0.004888</td>\n",
       "      <td>...</td>\n",
       "      <td>1.044442e-06</td>\n",
       "      <td>-0.075610</td>\n",
       "      <td>0.005381</td>\n",
       "      <td>-0.018584</td>\n",
       "      <td>-0.017883</td>\n",
       "      <td>0.014740</td>\n",
       "      <td>-0.005240</td>\n",
       "      <td>-0.006850</td>\n",
       "      <td>-0.059799</td>\n",
       "      <td>0.002114</td>\n",
       "    </tr>\n",
       "  </tbody>\n",
       "</table>\n",
       "<p>150 rows × 2352 columns</p>\n",
       "</div>"
      ],
      "text/plain": [
       "       πρᾶγμα  ἡσσάομαι     θλίβω    θλίψιν   διδαχῆς     ψάλλω  ἐλάχιστόν  \\\n",
       "0    0.003708  0.000052  0.018253  0.000661  0.000759  0.000499   0.000129   \n",
       "1   -0.001711 -0.000088  0.019553 -0.001290 -0.000133 -0.000006  -0.000068   \n",
       "2   -0.001938  0.000137 -0.002422  0.002927  0.000159  0.000678   0.000282   \n",
       "3   -0.000222 -0.000004 -0.019747 -0.001763  0.000364  0.001681  -0.000111   \n",
       "4   -0.000502 -0.000153  0.002632 -0.000557  0.003583  0.000096  -0.000091   \n",
       "..        ...       ...       ...       ...       ...       ...        ...   \n",
       "145 -0.010291  0.003474 -0.049004 -0.001600 -0.011729  0.012179  -0.004205   \n",
       "146 -0.028570  0.007097  0.005474 -0.006091  0.003053  0.004164   0.001158   \n",
       "147 -0.005424 -0.004964  0.012694 -0.006861 -0.005116  0.001409   0.001862   \n",
       "148  0.021749 -0.000103  0.003712 -0.005903 -0.006872 -0.016247   0.007232   \n",
       "149 -0.027197  0.006671  0.081570  0.005786  0.001441 -0.004829  -0.006967   \n",
       "\n",
       "     διατάσσω       ποῦ    θερίζω  ...       εἴδωλόν     φοβέω   θαυμάζω  \\\n",
       "0    0.001352  0.000011  0.001212  ... -6.639306e-16  0.006197  0.000482   \n",
       "1   -0.001622  0.000023  0.000156  ... -8.387424e-15 -0.003687  0.000134   \n",
       "2   -0.000731  0.000011  0.001485  ...  2.157429e-14  0.002290  0.000561   \n",
       "3    0.000080 -0.000030  0.004362  ... -1.263571e-13 -0.012455  0.000969   \n",
       "4   -0.001782 -0.000024  0.000647  ...  3.878321e-13  0.000985 -0.000747   \n",
       "..        ...       ...       ...  ...           ...       ...       ...   \n",
       "145 -0.002103  0.003453 -0.016910  ... -8.785520e-07  0.014278 -0.002597   \n",
       "146  0.001073 -0.001872 -0.020473  ... -7.591400e-08 -0.000330  0.004361   \n",
       "147  0.009463  0.000358  0.006379  ... -5.241422e-07  0.028197  0.001656   \n",
       "148  0.009815 -0.003137 -0.054888  ... -5.550533e-07  0.046293  0.007101   \n",
       "149  0.011033  0.000643  0.004888  ...  1.044442e-06 -0.075610  0.005381   \n",
       "\n",
       "      ὀδυρμός  εὐαγγέλιον   ὑπακοην  ἀντικειμένωνἥτις  ἔνδειξις  ὑποτάσσω  \\\n",
       "0    0.000551    0.067805  0.012405          0.001671  0.005543  0.014762   \n",
       "1   -0.000948   -0.018718 -0.002153          0.000014  0.001900 -0.017855   \n",
       "2    0.002798    0.067655  0.000908          0.002165  0.003588 -0.019197   \n",
       "3   -0.001761   -0.010202  0.017871          0.004209  0.011782  0.010564   \n",
       "4   -0.000634   -0.038459 -0.009959         -0.001097  0.004457 -0.003471   \n",
       "..        ...         ...       ...               ...       ...       ...   \n",
       "145 -0.005485   -0.006336  0.026199         -0.013394 -0.005216  0.001714   \n",
       "146  0.010873   -0.017895  0.000099         -0.006938 -0.027157  0.002984   \n",
       "147 -0.004227   -0.005124 -0.052964          0.022026  0.048630  0.046711   \n",
       "148  0.002207   -0.021809 -0.019193         -0.008599  0.001844 -0.025452   \n",
       "149 -0.018584   -0.017883  0.014740         -0.005240 -0.006850 -0.059799   \n",
       "\n",
       "     συγχαίρω  \n",
       "0    0.001498  \n",
       "1   -0.003475  \n",
       "2   -0.003370  \n",
       "3   -0.000816  \n",
       "4   -0.000706  \n",
       "..        ...  \n",
       "145 -0.009270  \n",
       "146 -0.024311  \n",
       "147  0.013198  \n",
       "148 -0.006316  \n",
       "149  0.002114  \n",
       "\n",
       "[150 rows x 2352 columns]"
      ]
     },
     "execution_count": 60,
     "metadata": {
      "tags": []
     },
     "output_type": "execute_result"
    }
   ],
   "source": [
    "lsa_model_data"
   ]
  },
  {
   "cell_type": "code",
   "execution_count": null,
   "metadata": {
    "id": "Bzir6KHAJQl1",
    "outputId": "1b91834a-419d-47c6-f099-7a5a459e0249"
   },
   "outputs": [
    {
     "data": {
      "text/html": [
       "<div>\n",
       "<style scoped>\n",
       "    .dataframe tbody tr th:only-of-type {\n",
       "        vertical-align: middle;\n",
       "    }\n",
       "\n",
       "    .dataframe tbody tr th {\n",
       "        vertical-align: top;\n",
       "    }\n",
       "\n",
       "    .dataframe thead th {\n",
       "        text-align: right;\n",
       "    }\n",
       "</style>\n",
       "<table border=\"1\" class=\"dataframe\">\n",
       "  <thead>\n",
       "    <tr style=\"text-align: right;\">\n",
       "      <th></th>\n",
       "      <th>πρᾶγμα</th>\n",
       "      <th>ἡσσάομαι</th>\n",
       "      <th>θλίβω</th>\n",
       "      <th>θλίψιν</th>\n",
       "      <th>διδαχῆς</th>\n",
       "      <th>ψάλλω</th>\n",
       "      <th>ἐλάχιστόν</th>\n",
       "      <th>διατάσσω</th>\n",
       "      <th>ποῦ</th>\n",
       "      <th>θερίζω</th>\n",
       "      <th>...</th>\n",
       "      <th>εἴδωλόν</th>\n",
       "      <th>φοβέω</th>\n",
       "      <th>θαυμάζω</th>\n",
       "      <th>ὀδυρμός</th>\n",
       "      <th>εὐαγγέλιον</th>\n",
       "      <th>ὑπακοην</th>\n",
       "      <th>ἀντικειμένωνἥτις</th>\n",
       "      <th>ἔνδειξις</th>\n",
       "      <th>ὑποτάσσω</th>\n",
       "      <th>συγχαίρω</th>\n",
       "    </tr>\n",
       "  </thead>\n",
       "  <tbody>\n",
       "    <tr>\n",
       "      <th>0</th>\n",
       "      <td>0</td>\n",
       "      <td>0</td>\n",
       "      <td>0</td>\n",
       "      <td>0</td>\n",
       "      <td>0</td>\n",
       "      <td>0</td>\n",
       "      <td>0</td>\n",
       "      <td>0</td>\n",
       "      <td>0</td>\n",
       "      <td>0</td>\n",
       "      <td>...</td>\n",
       "      <td>0</td>\n",
       "      <td>0</td>\n",
       "      <td>0</td>\n",
       "      <td>0</td>\n",
       "      <td>1</td>\n",
       "      <td>1</td>\n",
       "      <td>0</td>\n",
       "      <td>0</td>\n",
       "      <td>0</td>\n",
       "      <td>0</td>\n",
       "    </tr>\n",
       "    <tr>\n",
       "      <th>1</th>\n",
       "      <td>0</td>\n",
       "      <td>0</td>\n",
       "      <td>0</td>\n",
       "      <td>0</td>\n",
       "      <td>0</td>\n",
       "      <td>0</td>\n",
       "      <td>0</td>\n",
       "      <td>0</td>\n",
       "      <td>0</td>\n",
       "      <td>0</td>\n",
       "      <td>...</td>\n",
       "      <td>0</td>\n",
       "      <td>0</td>\n",
       "      <td>0</td>\n",
       "      <td>0</td>\n",
       "      <td>0</td>\n",
       "      <td>0</td>\n",
       "      <td>0</td>\n",
       "      <td>0</td>\n",
       "      <td>0</td>\n",
       "      <td>0</td>\n",
       "    </tr>\n",
       "    <tr>\n",
       "      <th>2</th>\n",
       "      <td>0</td>\n",
       "      <td>0</td>\n",
       "      <td>0</td>\n",
       "      <td>0</td>\n",
       "      <td>0</td>\n",
       "      <td>0</td>\n",
       "      <td>0</td>\n",
       "      <td>0</td>\n",
       "      <td>0</td>\n",
       "      <td>0</td>\n",
       "      <td>...</td>\n",
       "      <td>0</td>\n",
       "      <td>0</td>\n",
       "      <td>0</td>\n",
       "      <td>0</td>\n",
       "      <td>0</td>\n",
       "      <td>0</td>\n",
       "      <td>0</td>\n",
       "      <td>0</td>\n",
       "      <td>0</td>\n",
       "      <td>0</td>\n",
       "    </tr>\n",
       "    <tr>\n",
       "      <th>3</th>\n",
       "      <td>0</td>\n",
       "      <td>0</td>\n",
       "      <td>0</td>\n",
       "      <td>0</td>\n",
       "      <td>0</td>\n",
       "      <td>0</td>\n",
       "      <td>0</td>\n",
       "      <td>0</td>\n",
       "      <td>0</td>\n",
       "      <td>0</td>\n",
       "      <td>...</td>\n",
       "      <td>0</td>\n",
       "      <td>0</td>\n",
       "      <td>0</td>\n",
       "      <td>0</td>\n",
       "      <td>1</td>\n",
       "      <td>0</td>\n",
       "      <td>0</td>\n",
       "      <td>0</td>\n",
       "      <td>0</td>\n",
       "      <td>0</td>\n",
       "    </tr>\n",
       "    <tr>\n",
       "      <th>4</th>\n",
       "      <td>0</td>\n",
       "      <td>0</td>\n",
       "      <td>0</td>\n",
       "      <td>0</td>\n",
       "      <td>0</td>\n",
       "      <td>0</td>\n",
       "      <td>0</td>\n",
       "      <td>0</td>\n",
       "      <td>0</td>\n",
       "      <td>0</td>\n",
       "      <td>...</td>\n",
       "      <td>0</td>\n",
       "      <td>0</td>\n",
       "      <td>0</td>\n",
       "      <td>0</td>\n",
       "      <td>0</td>\n",
       "      <td>0</td>\n",
       "      <td>0</td>\n",
       "      <td>0</td>\n",
       "      <td>0</td>\n",
       "      <td>0</td>\n",
       "    </tr>\n",
       "  </tbody>\n",
       "</table>\n",
       "<p>5 rows × 2352 columns</p>\n",
       "</div>"
      ],
      "text/plain": [
       "   πρᾶγμα  ἡσσάομαι  θλίβω  θλίψιν  διδαχῆς  ψάλλω  ἐλάχιστόν  διατάσσω  ποῦ  \\\n",
       "0       0         0      0       0        0      0          0         0    0   \n",
       "1       0         0      0       0        0      0          0         0    0   \n",
       "2       0         0      0       0        0      0          0         0    0   \n",
       "3       0         0      0       0        0      0          0         0    0   \n",
       "4       0         0      0       0        0      0          0         0    0   \n",
       "\n",
       "   θερίζω  ...  εἴδωλόν  φοβέω  θαυμάζω  ὀδυρμός  εὐαγγέλιον  ὑπακοην  \\\n",
       "0       0  ...        0      0        0        0           1        1   \n",
       "1       0  ...        0      0        0        0           0        0   \n",
       "2       0  ...        0      0        0        0           0        0   \n",
       "3       0  ...        0      0        0        0           1        0   \n",
       "4       0  ...        0      0        0        0           0        0   \n",
       "\n",
       "   ἀντικειμένωνἥτις  ἔνδειξις  ὑποτάσσω  συγχαίρω  \n",
       "0                 0         0         0         0  \n",
       "1                 0         0         0         0  \n",
       "2                 0         0         0         0  \n",
       "3                 0         0         0         0  \n",
       "4                 0         0         0         0  \n",
       "\n",
       "[5 rows x 2352 columns]"
      ]
     },
     "execution_count": 49,
     "metadata": {
      "tags": []
     },
     "output_type": "execute_result"
    }
   ],
   "source": [
    "doc2term_df = pd.DataFrame(bow_doc2term.toarray(), columns=vocabulary)\n",
    "doc2term_df.head()"
   ]
  },
  {
   "cell_type": "code",
   "execution_count": null,
   "metadata": {
    "id": "fRsrUHsNJQl1"
   },
   "outputs": [],
   "source": [
    "def lsa_model(docs):\n",
    "    vocabulary =  list(set([word for doc in docs for word in doc]))\n",
    "    tfidf =  TfidfVectorizer(vocabulary=vocabulary) ### initiaze the model\n",
    "    X = tfidf.fit_transform([\" \".join(doc) for doc in docs]) ### run the model\n",
    "    Xc = (X.T * X)\n",
    "    svd = TruncatedSVD(n_components=50, n_iter=5, random_state=42)\n",
    "    svd.fit(Xc)\n",
    "    #term2doc = pd.DataFrame(Xc.toarray(), columns=vec.get_feature_names(), index=vec.get_feature_names())\n",
    "    lsa_model_data = pd.DataFrame(svd.components_, columns=vec.get_feature_names())\n",
    "    return lsa_model_data, Xc#term2doc"
   ]
  },
  {
   "cell_type": "code",
   "execution_count": null,
   "metadata": {
    "id": "Tarr--k1JQl1"
   },
   "outputs": [],
   "source": [
    "model, term2doc = lsa_model(christian_docs)"
   ]
  },
  {
   "cell_type": "code",
   "execution_count": null,
   "metadata": {
    "id": "JTUzIy8hJQl1",
    "outputId": "7dc8123b-b890-455b-d62f-51fafa9a9172"
   },
   "outputs": [
    {
     "data": {
      "text/plain": [
       "117515"
      ]
     },
     "execution_count": 108,
     "metadata": {
      "tags": []
     },
     "output_type": "execute_result"
    }
   ],
   "source": [
    "len(model.columns)"
   ]
  },
  {
   "cell_type": "code",
   "execution_count": null,
   "metadata": {
    "id": "WO8ljN_gJQl1"
   },
   "outputs": [],
   "source": [
    "def get_most_similar(model_df, target_term, number):\n",
    "  all_similar = []\n",
    "  for term in model_df.columns:\n",
    "    similarity = (term, cosine_similarity([model_df[target_term],  model_df[term]])[0][1])\n",
    "    all_similar.append(similarity)\n",
    "  return sorted(all_similar, key=lambda number: number[1], reverse=True)[1:number]"
   ]
  },
  {
   "cell_type": "code",
   "execution_count": null,
   "metadata": {
    "id": "WIhFzMqsJQl1"
   },
   "outputs": [],
   "source": [
    "words = [\"δίκαιος\", \"δίκη\", \"δικαιοσύνη\"]"
   ]
  },
  {
   "cell_type": "code",
   "execution_count": null,
   "metadata": {
    "id": "wl4yZvI_JQl1"
   },
   "outputs": [],
   "source": [
    "neighbours = {}  \n",
    "for word in words:\n",
    "    neighbours[word] = get_most_similar(model, word, 10)"
   ]
  },
  {
   "cell_type": "code",
   "execution_count": null,
   "metadata": {
    "id": "rWGmcHClJQl1",
    "outputId": "0d8471d4-c2a4-4e15-e6b7-d5ee60fcfc53"
   },
   "outputs": [
    {
     "data": {
      "text/html": [
       "<div>\n",
       "<style scoped>\n",
       "    .dataframe tbody tr th:only-of-type {\n",
       "        vertical-align: middle;\n",
       "    }\n",
       "\n",
       "    .dataframe tbody tr th {\n",
       "        vertical-align: top;\n",
       "    }\n",
       "\n",
       "    .dataframe thead th {\n",
       "        text-align: right;\n",
       "    }\n",
       "</style>\n",
       "<table border=\"1\" class=\"dataframe\">\n",
       "  <thead>\n",
       "    <tr style=\"text-align: right;\">\n",
       "      <th></th>\n",
       "      <th>δίκαιος</th>\n",
       "      <th>δίκη</th>\n",
       "      <th>δικαιοσύνη</th>\n",
       "    </tr>\n",
       "  </thead>\n",
       "  <tbody>\n",
       "    <tr>\n",
       "      <th>0</th>\n",
       "      <td>(ιειμένην, 0.9834371832818561)</td>\n",
       "      <td>(μετελεύσονται, 0.9384522490347709)</td>\n",
       "      <td>(καθυπηρετεῖ, 0.9710013738851778)</td>\n",
       "    </tr>\n",
       "    <tr>\n",
       "      <th>1</th>\n",
       "      <td>(εὐστοχίου, 0.9830720889621722)</td>\n",
       "      <td>(ἐπικουροί, 0.9384522490347709)</td>\n",
       "      <td>(ἐνδύσονται, 0.9706819000158255)</td>\n",
       "    </tr>\n",
       "    <tr>\n",
       "      <th>2</th>\n",
       "      <td>(λογιωτάτου, 0.9830720889621722)</td>\n",
       "      <td>(ἐριννύες, 0.9384522490347709)</td>\n",
       "      <td>(σιοί, 0.9706819000158255)</td>\n",
       "    </tr>\n",
       "    <tr>\n",
       "      <th>3</th>\n",
       "      <td>(λελύπηται, 0.9830720889621722)</td>\n",
       "      <td>(καταπεπηγμένων, 0.9344969432505092)</td>\n",
       "      <td>(περικτᾶται, 0.9699396541878471)</td>\n",
       "    </tr>\n",
       "    <tr>\n",
       "      <th>4</th>\n",
       "      <td>(τηρούσης, 0.9827599613491105)</td>\n",
       "      <td>(ἐξέτισας, 0.9182233983592916)</td>\n",
       "      <td>(ἡδυπαθείᾳ, 0.9699396541878471)</td>\n",
       "    </tr>\n",
       "    <tr>\n",
       "      <th>5</th>\n",
       "      <td>(μιμείσθω, 0.9826270670854331)</td>\n",
       "      <td>(γλωσσαργία, 0.8999555833389017)</td>\n",
       "      <td>(ἅνευ, 0.9695269024725653)</td>\n",
       "    </tr>\n",
       "    <tr>\n",
       "      <th>6</th>\n",
       "      <td>(ἰὼδ, 0.9822301096106603)</td>\n",
       "      <td>(κρυσταλλοειδεῖ, 0.8997426356399815)</td>\n",
       "      <td>(χρωννύντες, 0.9695269024725653)</td>\n",
       "    </tr>\n",
       "    <tr>\n",
       "      <th>7</th>\n",
       "      <td>(ἐπαράντων, 0.9820947343036778)</td>\n",
       "      <td>(διώκτας, 0.8970726088109655)</td>\n",
       "      <td>(πρυπορεύσεται, 0.9662484878532644)</td>\n",
       "    </tr>\n",
       "    <tr>\n",
       "      <th>8</th>\n",
       "      <td>(πειλθαρχεῖν, 0.9820947343036778)</td>\n",
       "      <td>(προςώποις, 0.8861867911971005)</td>\n",
       "      <td>(ἐπιφαινέσθω, 0.9660042345965665)</td>\n",
       "    </tr>\n",
       "  </tbody>\n",
       "</table>\n",
       "</div>"
      ],
      "text/plain": [
       "                             δίκαιος                                  δίκη  \\\n",
       "0     (ιειμένην, 0.9834371832818561)   (μετελεύσονται, 0.9384522490347709)   \n",
       "1    (εὐστοχίου, 0.9830720889621722)       (ἐπικουροί, 0.9384522490347709)   \n",
       "2   (λογιωτάτου, 0.9830720889621722)        (ἐριννύες, 0.9384522490347709)   \n",
       "3    (λελύπηται, 0.9830720889621722)  (καταπεπηγμένων, 0.9344969432505092)   \n",
       "4     (τηρούσης, 0.9827599613491105)        (ἐξέτισας, 0.9182233983592916)   \n",
       "5     (μιμείσθω, 0.9826270670854331)      (γλωσσαργία, 0.8999555833389017)   \n",
       "6          (ἰὼδ, 0.9822301096106603)  (κρυσταλλοειδεῖ, 0.8997426356399815)   \n",
       "7    (ἐπαράντων, 0.9820947343036778)         (διώκτας, 0.8970726088109655)   \n",
       "8  (πειλθαρχεῖν, 0.9820947343036778)       (προςώποις, 0.8861867911971005)   \n",
       "\n",
       "                            δικαιοσύνη  \n",
       "0    (καθυπηρετεῖ, 0.9710013738851778)  \n",
       "1     (ἐνδύσονται, 0.9706819000158255)  \n",
       "2           (σιοί, 0.9706819000158255)  \n",
       "3     (περικτᾶται, 0.9699396541878471)  \n",
       "4      (ἡδυπαθείᾳ, 0.9699396541878471)  \n",
       "5           (ἅνευ, 0.9695269024725653)  \n",
       "6     (χρωννύντες, 0.9695269024725653)  \n",
       "7  (πρυπορεύσεται, 0.9662484878532644)  \n",
       "8    (ἐπιφαινέσθω, 0.9660042345965665)  "
      ]
     },
     "execution_count": 110,
     "metadata": {
      "tags": []
     },
     "output_type": "execute_result"
    }
   ],
   "source": [
    "pd.DataFrame(neighbours)"
   ]
  },
  {
   "cell_type": "code",
   "execution_count": null,
   "metadata": {
    "id": "lrC6CyzKJQl2"
   },
   "outputs": [],
   "source": []
  }
 ],
 "metadata": {
  "colab": {
   "name": "OVERVIEW.ipynb",
   "provenance": []
  },
  "kernelspec": {
   "display_name": "Python 3",
   "language": "python",
   "name": "python3"
  },
  "language_info": {
   "codemirror_mode": {
    "name": "ipython",
    "version": 3
   },
   "file_extension": ".py",
   "mimetype": "text/x-python",
   "name": "python",
   "nbconvert_exporter": "python",
   "pygments_lexer": "ipython3",
   "version": "3.6.9"
  }
 },
 "nbformat": 4,
 "nbformat_minor": 4
}
