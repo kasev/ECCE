{
 "cells": [
  {
   "cell_type": "code",
   "execution_count": 1,
   "metadata": {
    "colab": {
     "base_uri": "https://localhost:8080/"
    },
    "id": "YLcAu3mXJOpL",
    "outputId": "f6031a77-240e-4c72-fb76-e6e20186523b"
   },
   "outputs": [],
   "source": [
    "### PREREQUISTIES\n",
    "### (many used only in one notebook...)\n",
    "\n",
    "import os\n",
    "from importlib import reload\n",
    "import pandas as pd\n",
    "import numpy as np\n",
    "import pickle\n",
    "import collections\n",
    "import math\n",
    "import random\n",
    "import sys\n",
    "import csv\n",
    "import unicodedata\n",
    "import requests\n",
    "import re\n",
    "import networkx as nx\n",
    "from scipy import stats\n",
    "import plotly\n",
    "import kaleido\n",
    "\n",
    "import nltk\n",
    "\n",
    "import matplotlib.pyplot as plt\n",
    "import seaborn as sns\n",
    "\n",
    "# gensim parts\n",
    "from gensim import corpora\n",
    "from gensim import models\n",
    "\n",
    "### scikit-learn\n",
    "from sklearn.feature_extraction.text import CountVectorizer\n",
    "from sklearn.feature_extraction.text import TfidfVectorizer\n",
    "\n",
    "from sklearn.decomposition import TruncatedSVD \n",
    "from sklearn.metrics.pairwise import cosine_similarity\n",
    "from sklearn.metrics.pairwise import euclidean_distances\n",
    "\n",
    "import plotly.graph_objects as go\n",
    "\n",
    "import sddk"
   ]
  },
  {
   "cell_type": "code",
   "execution_count": 2,
   "metadata": {},
   "outputs": [
    {
     "data": {
      "text/html": [
       "        <script type=\"text/javascript\">\n",
       "        window.PlotlyConfig = {MathJaxConfig: 'local'};\n",
       "        if (window.MathJax) {MathJax.Hub.Config({SVG: {font: \"STIX-Web\"}});}\n",
       "        if (typeof require !== 'undefined') {\n",
       "        require.undef(\"plotly\");\n",
       "        requirejs.config({\n",
       "            paths: {\n",
       "                'plotly': ['https://cdn.plot.ly/plotly-latest.min']\n",
       "            }\n",
       "        });\n",
       "        require(['plotly'], function(Plotly) {\n",
       "            window._Plotly = Plotly;\n",
       "        });\n",
       "        }\n",
       "        </script>\n",
       "        "
      ]
     },
     "metadata": {},
     "output_type": "display_data"
    }
   ],
   "source": [
    "import textnet"
   ]
  },
  {
   "cell_type": "code",
   "execution_count": 3,
   "metadata": {},
   "outputs": [
    {
     "data": {
      "text/html": [
       "        <script type=\"text/javascript\">\n",
       "        window.PlotlyConfig = {MathJaxConfig: 'local'};\n",
       "        if (window.MathJax) {MathJax.Hub.Config({SVG: {font: \"STIX-Web\"}});}\n",
       "        if (typeof require !== 'undefined') {\n",
       "        require.undef(\"plotly\");\n",
       "        requirejs.config({\n",
       "            paths: {\n",
       "                'plotly': ['https://cdn.plot.ly/plotly-latest.min']\n",
       "            }\n",
       "        });\n",
       "        require(['plotly'], function(Plotly) {\n",
       "            window._Plotly = Plotly;\n",
       "        });\n",
       "        }\n",
       "        </script>\n",
       "        "
      ]
     },
     "metadata": {},
     "output_type": "display_data"
    },
    {
     "data": {
      "text/plain": [
       "<module 'textnet' from '/home/kasev/ECCE_AGT/scripts/textnet.py'>"
      ]
     },
     "execution_count": 3,
     "metadata": {},
     "output_type": "execute_result"
    }
   ],
   "source": [
    "reload(textnet)"
   ]
  },
  {
   "cell_type": "code",
   "execution_count": 4,
   "metadata": {
    "colab": {
     "base_uri": "https://localhost:8080/"
    },
    "id": "Vk65k519TvBW",
    "outputId": "92254476-4708-4e31-a8a4-7ceedba66d8b"
   },
   "outputs": [
    {
     "name": "stdout",
     "output_type": "stream",
     "text": [
      "sciencedata.dk username (format '123456@au.dk'): 648597@au.dk\n",
      "sciencedata.dk password: ········\n",
      "connection with shared folder established with you as its owner\n",
      "endpoint variable has been configured to: https://sciencedata.dk/files/SDAM_root/\n"
     ]
    }
   ],
   "source": [
    "### not neccessary for reading the data, just for exporting them to sciencedata.dk\n",
    "conf = sddk.configure(\"SDAM_root\", \"648597@au.dk\")"
   ]
  },
  {
   "cell_type": "code",
   "execution_count": 5,
   "metadata": {
    "colab": {
     "base_uri": "https://localhost:8080/",
     "height": 394
    },
    "id": "uZILdTQmJQlv",
    "outputId": "507cee95-3b09-4f0d-cce8-72b93780d888"
   },
   "outputs": [
    {
     "data": {
      "text/html": [
       "<div>\n",
       "<style scoped>\n",
       "    .dataframe tbody tr th:only-of-type {\n",
       "        vertical-align: middle;\n",
       "    }\n",
       "\n",
       "    .dataframe tbody tr th {\n",
       "        vertical-align: top;\n",
       "    }\n",
       "\n",
       "    .dataframe thead th {\n",
       "        text-align: right;\n",
       "    }\n",
       "</style>\n",
       "<table border=\"1\" class=\"dataframe\">\n",
       "  <thead>\n",
       "    <tr style=\"text-align: right;\">\n",
       "      <th></th>\n",
       "      <th>filename</th>\n",
       "      <th>author</th>\n",
       "      <th>title</th>\n",
       "      <th>wordcount</th>\n",
       "      <th>author_id</th>\n",
       "      <th>doc_id</th>\n",
       "      <th>raw_date</th>\n",
       "      <th>date_avr</th>\n",
       "      <th>date_probs</th>\n",
       "      <th>date_manual</th>\n",
       "      <th>provenience</th>\n",
       "      <th>tlg_epithet</th>\n",
       "      <th>clean_string</th>\n",
       "      <th>sentences</th>\n",
       "      <th>n_sentences</th>\n",
       "      <th>lemmatized_sentences</th>\n",
       "    </tr>\n",
       "  </thead>\n",
       "  <tbody>\n",
       "    <tr>\n",
       "      <th>0</th>\n",
       "      <td>tlg0001.tlg001.perseus-grc2.xml</td>\n",
       "      <td>Apollonius Rhodius</td>\n",
       "      <td>Argonautica</td>\n",
       "      <td>38822</td>\n",
       "      <td>tlg0001</td>\n",
       "      <td>tlg0001.tlg001</td>\n",
       "      <td>3 B.C.</td>\n",
       "      <td>-2.5</td>\n",
       "      <td>{'-2.5': 1}</td>\n",
       "      <td>-2.5</td>\n",
       "      <td>pagan</td>\n",
       "      <td>Epici/-ae</td>\n",
       "      <td>ἀρχόμενος σέο, Φοῖβε, παλαιγενέων κλέα φωτῶν μ...</td>\n",
       "      <td>[ἀρχόμενος σέο, Φοῖβε, παλαιγενέων κλέα φωτῶν ...</td>\n",
       "      <td>3252</td>\n",
       "      <td>[[ἄρχω, Φοῖβος, παλαιγενής, κλέος, φώς, μιμνήσ...</td>\n",
       "    </tr>\n",
       "    <tr>\n",
       "      <th>1</th>\n",
       "      <td>tlg0003.tlg001.perseus-grc2.xml</td>\n",
       "      <td>Thucydides</td>\n",
       "      <td>The Peloponnesian War</td>\n",
       "      <td>150118</td>\n",
       "      <td>tlg0003</td>\n",
       "      <td>tlg0003.tlg001</td>\n",
       "      <td>5 B.C.</td>\n",
       "      <td>-4.5</td>\n",
       "      <td>{'-4.5': 1}</td>\n",
       "      <td>-4.5</td>\n",
       "      <td>pagan</td>\n",
       "      <td>Historici/-ae</td>\n",
       "      <td>Θουκυδίδης Ἀθηναῖος ξυνέγραψε τὸν πόλεμον τῶν...</td>\n",
       "      <td>[Θουκυδίδης Ἀθηναῖος ξυνέγραψε τὸν πόλεμον τῶν...</td>\n",
       "      <td>6068</td>\n",
       "      <td>[[θουκυδίδης, Ἀθηναῖος, συγγράφω, πόλεμος, Πελ...</td>\n",
       "    </tr>\n",
       "    <tr>\n",
       "      <th>2</th>\n",
       "      <td>tlg0004.tlg001.perseus-grc1.xml</td>\n",
       "      <td>Diogenes Laertius</td>\n",
       "      <td>Lives of Eminent Philosophers</td>\n",
       "      <td>110763</td>\n",
       "      <td>tlg0004</td>\n",
       "      <td>tlg0004.tlg001</td>\n",
       "      <td>A.D. 3</td>\n",
       "      <td>2.5</td>\n",
       "      <td>{'2.5': 1}</td>\n",
       "      <td>NaN</td>\n",
       "      <td></td>\n",
       "      <td>Biographi</td>\n",
       "      <td>Τὸ τῆς φιλοσοφίας ἔργον ἔνιοί φασιν ἀπὸ βαρβάρ...</td>\n",
       "      <td>[Τὸ τῆς φιλοσοφίας ἔργον ἔνιοί φασιν ἀπὸ βαρβά...</td>\n",
       "      <td>10245</td>\n",
       "      <td>[[φιλοσοφία, ἔργον, ἔνιοι, φημί, βάρβαρος, ἄρχ...</td>\n",
       "    </tr>\n",
       "    <tr>\n",
       "      <th>3</th>\n",
       "      <td>tlg0005.tlg001.perseus-grc1.xml</td>\n",
       "      <td>Theocritus</td>\n",
       "      <td>Idylls</td>\n",
       "      <td>19200</td>\n",
       "      <td>tlg0005</td>\n",
       "      <td>tlg0005.tlg001</td>\n",
       "      <td>4-3 B.C.</td>\n",
       "      <td>-3.0</td>\n",
       "      <td>{'-3.5': 0.5, '-2.5': 0.5}</td>\n",
       "      <td>NaN</td>\n",
       "      <td></td>\n",
       "      <td>Bucolici</td>\n",
       "      <td>̔Αδύ τι τὸ ψιθύρισμα καὶ ἁ πίτυς αἰπόλε τήνα,...</td>\n",
       "      <td>[Αδύ τι τὸ ψιθύρισμα καὶ ἁ πίτυς αἰπόλε τήνα, ...</td>\n",
       "      <td>1982</td>\n",
       "      <td>[[ψιθύρισμα, πίτυς, αἰπόλος, τῆνος, πηγή, μελί...</td>\n",
       "    </tr>\n",
       "    <tr>\n",
       "      <th>4</th>\n",
       "      <td>tlg0005.tlg002.perseus-grc1.xml</td>\n",
       "      <td>Theocritus</td>\n",
       "      <td>Epigrams</td>\n",
       "      <td>1734</td>\n",
       "      <td>tlg0005</td>\n",
       "      <td>tlg0005.tlg002</td>\n",
       "      <td>4-3 B.C.</td>\n",
       "      <td>-3.0</td>\n",
       "      <td>{'-3.5': 0.5, '-2.5': 0.5}</td>\n",
       "      <td>NaN</td>\n",
       "      <td></td>\n",
       "      <td>Bucolici</td>\n",
       "      <td>τὰ ῥόδα τὰ δροσόεντα καὶ ἁ κατάπυκνος ἐκείνα ἕ...</td>\n",
       "      <td>[τὰ ῥόδα τὰ δροσόεντα καὶ ἁ κατάπυκνος ἐκείνα ...</td>\n",
       "      <td>152</td>\n",
       "      <td>[[ῥόδον, δροσόεντα, κατάπυκνος, ἐκεῖνος, ἕρπυλ...</td>\n",
       "    </tr>\n",
       "  </tbody>\n",
       "</table>\n",
       "</div>"
      ],
      "text/plain": [
       "                          filename              author  \\\n",
       "0  tlg0001.tlg001.perseus-grc2.xml  Apollonius Rhodius   \n",
       "1  tlg0003.tlg001.perseus-grc2.xml          Thucydides   \n",
       "2  tlg0004.tlg001.perseus-grc1.xml   Diogenes Laertius   \n",
       "3  tlg0005.tlg001.perseus-grc1.xml          Theocritus   \n",
       "4  tlg0005.tlg002.perseus-grc1.xml          Theocritus   \n",
       "\n",
       "                           title  wordcount author_id          doc_id  \\\n",
       "0                    Argonautica      38822   tlg0001  tlg0001.tlg001   \n",
       "1          The Peloponnesian War     150118   tlg0003  tlg0003.tlg001   \n",
       "2  Lives of Eminent Philosophers     110763   tlg0004  tlg0004.tlg001   \n",
       "3                        Idylls       19200   tlg0005  tlg0005.tlg001   \n",
       "4                      Epigrams        1734   tlg0005  tlg0005.tlg002   \n",
       "\n",
       "   raw_date  date_avr                  date_probs  date_manual provenience  \\\n",
       "0    3 B.C.      -2.5                 {'-2.5': 1}         -2.5       pagan   \n",
       "1    5 B.C.      -4.5                 {'-4.5': 1}         -4.5       pagan   \n",
       "2    A.D. 3       2.5                  {'2.5': 1}          NaN               \n",
       "3  4-3 B.C.      -3.0  {'-3.5': 0.5, '-2.5': 0.5}          NaN               \n",
       "4  4-3 B.C.      -3.0  {'-3.5': 0.5, '-2.5': 0.5}          NaN               \n",
       "\n",
       "     tlg_epithet                                       clean_string  \\\n",
       "0      Epici/-ae  ἀρχόμενος σέο, Φοῖβε, παλαιγενέων κλέα φωτῶν μ...   \n",
       "1  Historici/-ae   Θουκυδίδης Ἀθηναῖος ξυνέγραψε τὸν πόλεμον τῶν...   \n",
       "2      Biographi  Τὸ τῆς φιλοσοφίας ἔργον ἔνιοί φασιν ἀπὸ βαρβάρ...   \n",
       "3       Bucolici   ̔Αδύ τι τὸ ψιθύρισμα καὶ ἁ πίτυς αἰπόλε τήνα,...   \n",
       "4       Bucolici  τὰ ῥόδα τὰ δροσόεντα καὶ ἁ κατάπυκνος ἐκείνα ἕ...   \n",
       "\n",
       "                                           sentences  n_sentences  \\\n",
       "0  [ἀρχόμενος σέο, Φοῖβε, παλαιγενέων κλέα φωτῶν ...         3252   \n",
       "1  [Θουκυδίδης Ἀθηναῖος ξυνέγραψε τὸν πόλεμον τῶν...         6068   \n",
       "2  [Τὸ τῆς φιλοσοφίας ἔργον ἔνιοί φασιν ἀπὸ βαρβά...        10245   \n",
       "3  [Αδύ τι τὸ ψιθύρισμα καὶ ἁ πίτυς αἰπόλε τήνα, ...         1982   \n",
       "4  [τὰ ῥόδα τὰ δροσόεντα καὶ ἁ κατάπυκνος ἐκείνα ...          152   \n",
       "\n",
       "                                lemmatized_sentences  \n",
       "0  [[ἄρχω, Φοῖβος, παλαιγενής, κλέος, φώς, μιμνήσ...  \n",
       "1  [[θουκυδίδης, Ἀθηναῖος, συγγράφω, πόλεμος, Πελ...  \n",
       "2  [[φιλοσοφία, ἔργον, ἔνιοι, φημί, βάρβαρος, ἄρχ...  \n",
       "3  [[ψιθύρισμα, πίτυς, αἰπόλος, τῆνος, πηγή, μελί...  \n",
       "4  [[ῥόδον, δροσόεντα, κατάπυκνος, ἐκεῖνος, ἕρπυλ...  "
      ]
     },
     "execution_count": 5,
     "metadata": {},
     "output_type": "execute_result"
    }
   ],
   "source": [
    "AGT = sddk.read_file(\"SDAM_data/AGT/AGT_lemmatized_20201127.json\", \"df\", conf)\n",
    "AGT.head(5)"
   ]
  },
  {
   "cell_type": "code",
   "execution_count": 7,
   "metadata": {},
   "outputs": [
    {
     "data": {
      "text/plain": [
       "14601227"
      ]
     },
     "execution_count": 7,
     "metadata": {},
     "output_type": "execute_result"
    }
   ],
   "source": [
    "def flat_lemmata(sentences):\n",
    "    lemmata = [word for sent in sentences for word in sent]\n",
    "    return lemmata\n",
    "AGT[\"lemmata\"] = AGT[\"lemmatized_sentences\"].apply(flat_lemmata)\n",
    "\n",
    "AGT[\"lemmata_wordcount\"] = AGT.apply(lambda row: len(row[\"lemmata\"]), axis=1)\n",
    "AGT[\"lemmata_wordcount\"].sum() # previously we had 13925726, then 13713183, finally 14756899"
   ]
  },
  {
   "cell_type": "code",
   "execution_count": 9,
   "metadata": {
    "id": "JbM6CmYLJQlv"
   },
   "outputs": [],
   "source": [
    "def get_flat_sentences(series):\n",
    "    sentences_list = [sent for doc in series.tolist() for sent in doc]\n",
    "    return sentences_list"
   ]
  },
  {
   "cell_type": "code",
   "execution_count": 10,
   "metadata": {
    "id": "Mv002MzcJQlw"
   },
   "outputs": [],
   "source": [
    "subcorpora_dict = {\n",
    "    \"Pagan (8th c. BCE - 4th c. CE)\" : AGT[(AGT[\"provenience\"]==\"pagan\") & (AGT[\"date_avr\"] < 4)],\n",
    "    \"Pagan (1st - 4th c. CE)\" : AGT[(AGT[\"date_avr\"].between(0, 4)) & (AGT[\"provenience\"]==\"pagan\")],\n",
    "    \"Septuagint\" : AGT[AGT[\"author_id\"]==\"tlg0527\"],\n",
    "    \"Philo of Alexandria\" : AGT[AGT[\"author_id\"]==\"tlg0018\"],\n",
    "    \"Titus Flavius Josephus\" : AGT[AGT[\"author_id\"]==\"tlg0526\"],\n",
    "    \"Paul of Tarsus\" : AGT[AGT[\"author_id\"]==\"tlg0031paul\"],\n",
    "    \"New Testament\" : AGT[AGT[\"author_id\"].str.startswith(\"tlg0031\")],\n",
    "    \"Christian (1st - 4th c. CE)\" : AGT[(AGT[\"date_avr\"] < 4) & (AGT[\"provenience\"]==\"christian\")]}"
   ]
  },
  {
   "cell_type": "code",
   "execution_count": 11,
   "metadata": {
    "colab": {
     "base_uri": "https://localhost:8080/",
     "height": 297
    },
    "id": "AKtzFvZnJQlw",
    "outputId": "8e51f6b4-e4f3-4d6c-d6ba-6142441d07dd"
   },
   "outputs": [
    {
     "data": {
      "text/html": [
       "<div>\n",
       "<style scoped>\n",
       "    .dataframe tbody tr th:only-of-type {\n",
       "        vertical-align: middle;\n",
       "    }\n",
       "\n",
       "    .dataframe tbody tr th {\n",
       "        vertical-align: top;\n",
       "    }\n",
       "\n",
       "    .dataframe thead th {\n",
       "        text-align: right;\n",
       "    }\n",
       "</style>\n",
       "<table border=\"1\" class=\"dataframe\">\n",
       "  <thead>\n",
       "    <tr style=\"text-align: right;\">\n",
       "      <th></th>\n",
       "      <th>label</th>\n",
       "      <th>wordcount</th>\n",
       "      <th>doccount</th>\n",
       "      <th>n_sentences</th>\n",
       "      <th>sentences</th>\n",
       "      <th>lemmata</th>\n",
       "    </tr>\n",
       "  </thead>\n",
       "  <tbody>\n",
       "    <tr>\n",
       "      <th>0</th>\n",
       "      <td>Pagan (8th c. BCE - 4th c. CE)</td>\n",
       "      <td>12965219</td>\n",
       "      <td>774</td>\n",
       "      <td>1039409</td>\n",
       "      <td>[[ἄρχω, Φοῖβος, παλαιγενής, κλέος, φώς, μιμνήσ...</td>\n",
       "      <td>[[ἄρχω, Φοῖβος, παλαιγενής, κλέος, φώς, μιμνήσ...</td>\n",
       "    </tr>\n",
       "    <tr>\n",
       "      <th>1</th>\n",
       "      <td>Pagan (1st - 4th c. CE)</td>\n",
       "      <td>8692448</td>\n",
       "      <td>411</td>\n",
       "      <td>723956</td>\n",
       "      <td>[[γεωγραφία, σόσσιε, σενεκίων, ἱστορικός, διαφ...</td>\n",
       "      <td>[[γεωγραφία, σόσσιε, σενεκίων, ἱστορικός, διαφ...</td>\n",
       "    </tr>\n",
       "    <tr>\n",
       "      <th>2</th>\n",
       "      <td>Septuagint</td>\n",
       "      <td>799083</td>\n",
       "      <td>55</td>\n",
       "      <td>57856</td>\n",
       "      <td>[[εἰμί, ποιέω, θεός, οὐρανός, γῆ], [γῆ, εἰμί, ...</td>\n",
       "      <td>[[εἰμί, ποιέω, θεός, οὐρανός, γῆ, γῆ, εἰμί, ἀό...</td>\n",
       "    </tr>\n",
       "    <tr>\n",
       "      <th>3</th>\n",
       "      <td>Philo of Alexandria</td>\n",
       "      <td>643011</td>\n",
       "      <td>31</td>\n",
       "      <td>82966</td>\n",
       "      <td>[[ἄλλος, νομοθέτης, ἀκαλλώπιστος, γυμνός, νομι...</td>\n",
       "      <td>[[ἄλλος, νομοθέτης, ἀκαλλώπιστος, γυμνός, νομι...</td>\n",
       "    </tr>\n",
       "    <tr>\n",
       "      <th>4</th>\n",
       "      <td>Titus Flavius Josephus</td>\n",
       "      <td>469580</td>\n",
       "      <td>4</td>\n",
       "      <td>19707</td>\n",
       "      <td>[[ἱστορία, συγγράφω, βούλομαι, αὐτός, ὁράω, σπ...</td>\n",
       "      <td>[[ἱστορία, συγγράφω, βούλομαι, αὐτός, ὁράω, σπ...</td>\n",
       "    </tr>\n",
       "    <tr>\n",
       "      <th>5</th>\n",
       "      <td>Paul of Tarsus</td>\n",
       "      <td>24066</td>\n",
       "      <td>7</td>\n",
       "      <td>1632</td>\n",
       "      <td>[[Παῦλος, δοῦλος, Ἰησοῦς, Χριστός, κλητός, ἀπό...</td>\n",
       "      <td>[[Παῦλος, δοῦλος, Ἰησοῦς, Χριστός, κλητός, ἀπό...</td>\n",
       "    </tr>\n",
       "    <tr>\n",
       "      <th>6</th>\n",
       "      <td>New Testament</td>\n",
       "      <td>137787</td>\n",
       "      <td>27</td>\n",
       "      <td>8698</td>\n",
       "      <td>[[βίβλος, γένεσις, Ἰησοῦς, Χριστός, υἱός, Δαυί...</td>\n",
       "      <td>[[βίβλος, γένεσις, Ἰησοῦς, Χριστός, υἱός, Δαυί...</td>\n",
       "    </tr>\n",
       "    <tr>\n",
       "      <th>7</th>\n",
       "      <td>Christian (1st - 4th c. CE)</td>\n",
       "      <td>2975644</td>\n",
       "      <td>131</td>\n",
       "      <td>291084</td>\n",
       "      <td>[[βίβλος, γένεσις, Ἰησοῦς, Χριστός, υἱός, Δαυί...</td>\n",
       "      <td>[[βίβλος, γένεσις, Ἰησοῦς, Χριστός, υἱός, Δαυί...</td>\n",
       "    </tr>\n",
       "  </tbody>\n",
       "</table>\n",
       "</div>"
      ],
      "text/plain": [
       "                            label  wordcount  doccount  n_sentences  \\\n",
       "0  Pagan (8th c. BCE - 4th c. CE)   12965219       774      1039409   \n",
       "1         Pagan (1st - 4th c. CE)    8692448       411       723956   \n",
       "2                      Septuagint     799083        55        57856   \n",
       "3             Philo of Alexandria     643011        31        82966   \n",
       "4          Titus Flavius Josephus     469580         4        19707   \n",
       "5                  Paul of Tarsus      24066         7         1632   \n",
       "6                   New Testament     137787        27         8698   \n",
       "7     Christian (1st - 4th c. CE)    2975644       131       291084   \n",
       "\n",
       "                                           sentences  \\\n",
       "0  [[ἄρχω, Φοῖβος, παλαιγενής, κλέος, φώς, μιμνήσ...   \n",
       "1  [[γεωγραφία, σόσσιε, σενεκίων, ἱστορικός, διαφ...   \n",
       "2  [[εἰμί, ποιέω, θεός, οὐρανός, γῆ], [γῆ, εἰμί, ...   \n",
       "3  [[ἄλλος, νομοθέτης, ἀκαλλώπιστος, γυμνός, νομι...   \n",
       "4  [[ἱστορία, συγγράφω, βούλομαι, αὐτός, ὁράω, σπ...   \n",
       "5  [[Παῦλος, δοῦλος, Ἰησοῦς, Χριστός, κλητός, ἀπό...   \n",
       "6  [[βίβλος, γένεσις, Ἰησοῦς, Χριστός, υἱός, Δαυί...   \n",
       "7  [[βίβλος, γένεσις, Ἰησοῦς, Χριστός, υἱός, Δαυί...   \n",
       "\n",
       "                                             lemmata  \n",
       "0  [[ἄρχω, Φοῖβος, παλαιγενής, κλέος, φώς, μιμνήσ...  \n",
       "1  [[γεωγραφία, σόσσιε, σενεκίων, ἱστορικός, διαφ...  \n",
       "2  [[εἰμί, ποιέω, θεός, οὐρανός, γῆ, γῆ, εἰμί, ἀό...  \n",
       "3  [[ἄλλος, νομοθέτης, ἀκαλλώπιστος, γυμνός, νομι...  \n",
       "4  [[ἱστορία, συγγράφω, βούλομαι, αὐτός, ὁράω, σπ...  \n",
       "5  [[Παῦλος, δοῦλος, Ἰησοῦς, Χριστός, κλητός, ἀπό...  \n",
       "6  [[βίβλος, γένεσις, Ἰησοῦς, Χριστός, υἱός, Δαυί...  \n",
       "7  [[βίβλος, γένεσις, Ἰησοῦς, Χριστός, υἱός, Δαυί...  "
      ]
     },
     "execution_count": 11,
     "metadata": {},
     "output_type": "execute_result"
    }
   ],
   "source": [
    "subselections = []\n",
    "for key in subcorpora_dict.keys():\n",
    "    subselection = subcorpora_dict[key]\n",
    "    subselection_dict = {}\n",
    "    wordcount = subselection[\"wordcount\"].sum()\n",
    "    doccount = len(subselection)\n",
    "    lemmata = subselection[\"lemmata\"].tolist()\n",
    "    sents = get_flat_sentences(subselection[\"lemmatized_sentences\"])\n",
    "    sents_len = len(sents)\n",
    "    subselection_dict.update({\"label\" : key, \"wordcount\" : wordcount, \"doccount\" : doccount, \"n_sentences\": sents_len,\"sentences\" : sents, \"lemmata\" : lemmata})\n",
    "    subselections.append(subselection_dict)\n",
    "subselections_df = pd.DataFrame(subselections)\n",
    "subselections_df"
   ]
  },
  {
   "cell_type": "markdown",
   "metadata": {
    "id": "jRnjxd5aJQlw"
   },
   "source": [
    "# term2term & term2doc matraces with sklearn - Paul as example"
   ]
  },
  {
   "cell_type": "code",
   "execution_count": 12,
   "metadata": {
    "id": "Lp-gMWPJJQlx"
   },
   "outputs": [],
   "source": [
    "# let's explore Pa\n",
    "docs = subselections_df.at[5, \"sentences\"]"
   ]
  },
  {
   "cell_type": "code",
   "execution_count": 13,
   "metadata": {
    "colab": {
     "base_uri": "https://localhost:8080/"
    },
    "id": "7jJLTsQxJQly",
    "outputId": "48f1edf5-8b84-472b-ce6c-437818528a8c"
   },
   "outputs": [
    {
     "data": {
      "text/plain": [
       "1632"
      ]
     },
     "execution_count": 13,
     "metadata": {},
     "output_type": "execute_result"
    }
   ],
   "source": [
    "len(docs)"
   ]
  },
  {
   "cell_type": "code",
   "execution_count": 14,
   "metadata": {},
   "outputs": [],
   "source": [
    "lemmata_lists = subselections_df.at[5, \"lemmata\"]"
   ]
  },
  {
   "cell_type": "code",
   "execution_count": 15,
   "metadata": {},
   "outputs": [
    {
     "name": "stdout",
     "output_type": "stream",
     "text": [
      "[['Παῦλος', 'δοῦλος', 'Ἰησοῦς', 'Χριστός', 'κλητός', 'ἀπόστολος', 'ἀφωρισμένος', 'εὐαγγέλιον', 'θεός', 'προεπαγγέλλομαι', 'προφήτης', 'γραφή', 'ἅγιος', 'υἱός', 'γίγνομαι', 'σπέρμα', 'Δαυίδ', 'σάρξ', 'ὁρισθέντος', 'υἱός', 'θεός', 'δύναμις', 'πνεῦμα', 'ἁγιωσύνη', 'ἀνάστασις', 'νεκρός', 'Ἰησοῦς', 'Χριστός', 'κύριος', 'λαμβάνω', 'χάρις', 'ἀποστολή', 'ὑπακοή', 'πίστις', 'ἔθνος', 'ὄνομα', 'κλητός', 'Ἰησοῦς', 'Χριστός', 'πᾶς', 'ὄντα', 'Ῥώμη', 'ἀγαπητός', 'θεός', 'κλητός', 'ἅγιος'], ['χάρις', 'εἰρήνη', 'θεός', 'πατήρ', 'κύριος', 'Ἰησοῦς'], ['πρότερος', 'εὐχαριστέω', 'θεός', 'Ἰησοῦς', 'Χριστός', 'πᾶς', 'πίστις', 'καταγγέλλω', 'ὅλοξ', 'κόσμῳ.']]\n"
     ]
    }
   ],
   "source": [
    "print(docs[:3])"
   ]
  },
  {
   "cell_type": "code",
   "execution_count": 16,
   "metadata": {
    "id": "xDgnTA9fLF8p"
   },
   "outputs": [],
   "source": [
    "vocabulary =  list(set([word for sent in docs for word in sent]))\n",
    "bow = CountVectorizer(vocabulary=vocabulary)\n",
    "bow_term2doc = bow.fit_transform([\" \".join(doc) for doc in docs]) ### run the model\n",
    "term2term_bow = (bow_term2doc.T * bow_term2doc)"
   ]
  },
  {
   "cell_type": "code",
   "execution_count": 17,
   "metadata": {
    "colab": {
     "base_uri": "https://localhost:8080/"
    },
    "id": "Y5KfMtyFLEm-",
    "outputId": "c9166e1c-f3b8-4787-eacd-0183b818b2ff"
   },
   "outputs": [
    {
     "data": {
      "text/plain": [
       "<2066x2066 sparse matrix of type '<class 'numpy.int64'>'\n",
       "\twith 60084 stored elements in Compressed Sparse Column format>"
      ]
     },
     "execution_count": 17,
     "metadata": {},
     "output_type": "execute_result"
    }
   ],
   "source": [
    "term2term_bow"
   ]
  },
  {
   "cell_type": "code",
   "execution_count": 18,
   "metadata": {
    "id": "oP8Si2nwLmDb"
   },
   "outputs": [
    {
     "name": "stdout",
     "output_type": "stream",
     "text": [
      "2066 30987\n"
     ]
    }
   ],
   "source": [
    "G = nx.from_numpy_matrix(term2term_bow.todense()) # from_pandas_adjacency()\n",
    "vocab_dict = dict(zip(range(len(vocabulary)), vocabulary))\n",
    "G = nx.relabel_nodes(G, vocab_dict)\n",
    "print(G.number_of_nodes(), G.number_of_edges())"
   ]
  },
  {
   "cell_type": "code",
   "execution_count": 19,
   "metadata": {},
   "outputs": [],
   "source": [
    "def network_from_sentences(sentences, weight_threshold=0.1):\n",
    "    vocabulary =  list(set([word for sent in sentences for word in sent]))\n",
    "    bow = CountVectorizer(vocabulary=vocabulary)\n",
    "    bow_term2doc = bow.fit_transform([\" \".join(doc) for doc in docs]) ### run the model\n",
    "    term2term_bow = (bow_term2doc.T * bow_term2doc)\n",
    "    G = nx.from_numpy_matrix(term2term_bow.todense()) # from_pandas_adjacency()\n",
    "    vocab_dict = dict(zip(range(len(vocabulary)), vocabulary))\n",
    "    G = nx.relabel_nodes(G, vocab_dict)\n",
    "    edges_to_remove = []\n",
    "    for edge in G.edges:\n",
    "        if edge[0] == edge[1]:\n",
    "            edges_to_remove.append(edge)\n",
    "    for element in edges_to_remove:\n",
    "        G.remove_edge(element[0], element[1])\n",
    "    total_weight = sum([int(n) for n in nx.get_edge_attributes(G, \"weight\").values()])\n",
    "    weights = sorted([int(n) for n in nx.get_edge_attributes(G, \"weight\").values()], reverse=True)\n",
    "    index_position = int(len(weights) * weight_threshold)\n",
    "    minimal_weight_value = weights[index_position]\n",
    "    edges_to_remove = []\n",
    "    for edge in G.edges:\n",
    "        if G[edge[0]][edge[1]][\"weight\"] < minimal_weight_value:\n",
    "            edges_to_remove.append(edge)\n",
    "    for element in edges_to_remove:\n",
    "        G.remove_edge(element[0], element[1])\n",
    "    edges_to_remove = []\n",
    "    for edge in G.edges:\n",
    "        if edge[0] == edge[1]:\n",
    "            edges_to_remove.append(edge)\n",
    "    for element in edges_to_remove:\n",
    "        G.remove_edge(element[0], element[1])\n",
    "    for (u, v) in G.edges:\n",
    "        G[u][v][\"norm_weight\"] = round((G[u][v][\"weight\"] / total_weight), 5)\n",
    "        G[u][v][\"distance\"] = round(1 / (G[u][v][\"weight\"]), 5)\n",
    "        G[u][v][\"norm_distance\"] = round(1 / (G[u][v][\"norm_weight\"] ), 5)\n",
    "    return G"
   ]
  },
  {
   "cell_type": "code",
   "execution_count": 20,
   "metadata": {},
   "outputs": [],
   "source": [
    "# remove \n",
    "edges_to_remove = []\n",
    "for edge in G.edges:\n",
    "    if edge[0] == edge[1]:\n",
    "        edges_to_remove.append(edge)\n",
    "for element in edges_to_remove:\n",
    "    G.remove_edge(element[0], element[1])"
   ]
  },
  {
   "cell_type": "code",
   "execution_count": 21,
   "metadata": {},
   "outputs": [
    {
     "data": {
      "text/plain": [
       "47825"
      ]
     },
     "execution_count": 21,
     "metadata": {},
     "output_type": "execute_result"
    }
   ],
   "source": [
    "total_weight = sum([int(n) for n in nx.get_edge_attributes(G, \"weight\").values()])\n",
    "total_weight"
   ]
  },
  {
   "cell_type": "code",
   "execution_count": 22,
   "metadata": {},
   "outputs": [],
   "source": [
    "weights = sorted([int(n) for n in nx.get_edge_attributes(G, \"weight\").values()], reverse=True)"
   ]
  },
  {
   "cell_type": "code",
   "execution_count": 23,
   "metadata": {},
   "outputs": [
    {
     "data": {
      "text/plain": [
       "[137, 101, 86, 69, 60, 57, 52, 51, 50, 48]"
      ]
     },
     "execution_count": 23,
     "metadata": {},
     "output_type": "execute_result"
    }
   ],
   "source": [
    "weights[:10]"
   ]
  },
  {
   "cell_type": "code",
   "execution_count": 24,
   "metadata": {},
   "outputs": [],
   "source": [
    "weight_threshold = 0.1\n",
    "index_position = int(len(weights) * weight_threshold)\n",
    "minimal_weight_value = weights[index_position]"
   ]
  },
  {
   "cell_type": "code",
   "execution_count": 25,
   "metadata": {},
   "outputs": [],
   "source": [
    "edges_to_remove = []\n",
    "for edge in G.edges:\n",
    "    if G[edge[0]][edge[1]][\"weight\"] < minimal_weight_value:\n",
    "        edges_to_remove.append(edge)\n",
    "for element in edges_to_remove:\n",
    "    G.remove_edge(element[0], element[1])"
   ]
  },
  {
   "cell_type": "code",
   "execution_count": 26,
   "metadata": {},
   "outputs": [
    {
     "data": {
      "text/plain": [
       "2066"
      ]
     },
     "execution_count": 26,
     "metadata": {},
     "output_type": "execute_result"
    }
   ],
   "source": [
    "len(G.nodes)"
   ]
  },
  {
   "cell_type": "code",
   "execution_count": 27,
   "metadata": {},
   "outputs": [
    {
     "data": {
      "text/plain": [
       "3144"
      ]
     },
     "execution_count": 27,
     "metadata": {},
     "output_type": "execute_result"
    }
   ],
   "source": [
    "len(G.edges)"
   ]
  },
  {
   "cell_type": "code",
   "execution_count": 28,
   "metadata": {},
   "outputs": [
    {
     "data": {
      "text/plain": [
       "[('λύπη', 'θεός', {'weight': 4}),\n",
       " ('ὁδηγός', 'νομός', {'weight': 3}),\n",
       " ('σκάνδαλον', 'πρόσκομμα', {'weight': 3}),\n",
       " ('ἀδικία', 'κακός', {'weight': 3}),\n",
       " ('ἀδικία', 'ἀλήθεια', {'weight': 4})]"
      ]
     },
     "execution_count": 28,
     "metadata": {},
     "output_type": "execute_result"
    }
   ],
   "source": [
    "list(G.edges.data())[:5]"
   ]
  },
  {
   "cell_type": "code",
   "execution_count": 29,
   "metadata": {},
   "outputs": [],
   "source": [
    "edges_to_remove = []\n",
    "for edge in G.edges:\n",
    "    if edge[0] == edge[1]:\n",
    "        edges_to_remove.append(edge)\n",
    "for element in edges_to_remove:\n",
    "    G.remove_edge(element[0], element[1])"
   ]
  },
  {
   "cell_type": "code",
   "execution_count": 30,
   "metadata": {},
   "outputs": [],
   "source": [
    "for (u, v) in G.edges:\n",
    "    G[u][v][\"norm_weight\"] = round((G[u][v][\"weight\"] / total_weight), 5)\n",
    "    G[u][v][\"distance\"] = round(1 / (G[u][v][\"weight\"]), 5)\n",
    "    G[u][v][\"norm_distance\"] = round(1 / (G[u][v][\"norm_weight\"] ), 5)"
   ]
  },
  {
   "cell_type": "code",
   "execution_count": 31,
   "metadata": {},
   "outputs": [
    {
     "data": {
      "text/plain": [
       "[('λύπη',\n",
       "  'θεός',\n",
       "  {'weight': 4,\n",
       "   'norm_weight': 8e-05,\n",
       "   'distance': 0.25,\n",
       "   'norm_distance': 12500.0}),\n",
       " ('ὁδηγός',\n",
       "  'νομός',\n",
       "  {'weight': 3,\n",
       "   'norm_weight': 6e-05,\n",
       "   'distance': 0.33333,\n",
       "   'norm_distance': 16666.66667}),\n",
       " ('σκάνδαλον',\n",
       "  'πρόσκομμα',\n",
       "  {'weight': 3,\n",
       "   'norm_weight': 6e-05,\n",
       "   'distance': 0.33333,\n",
       "   'norm_distance': 16666.66667}),\n",
       " ('ἀδικία',\n",
       "  'κακός',\n",
       "  {'weight': 3,\n",
       "   'norm_weight': 6e-05,\n",
       "   'distance': 0.33333,\n",
       "   'norm_distance': 16666.66667}),\n",
       " ('ἀδικία',\n",
       "  'ἀλήθεια',\n",
       "  {'weight': 4,\n",
       "   'norm_weight': 8e-05,\n",
       "   'distance': 0.25,\n",
       "   'norm_distance': 12500.0})]"
      ]
     },
     "execution_count": 31,
     "metadata": {},
     "output_type": "execute_result"
    }
   ],
   "source": [
    "list(G.edges.data())[:5]"
   ]
  },
  {
   "cell_type": "code",
   "execution_count": 32,
   "metadata": {},
   "outputs": [],
   "source": [
    "network = G.copy(as_view=False)"
   ]
  },
  {
   "cell_type": "code",
   "execution_count": 33,
   "metadata": {},
   "outputs": [],
   "source": [
    "def network_from_lemmata(lemmata_list, weight_threshold=0.1):\n",
    "    '''From a list of words'''\n",
    "    #lemmata_list = [lemma for lemma in lemmata_list if lemma != \"εἰμί\"]\n",
    "    bigrams_list = []\n",
    "    for bigram in nltk.bigrams(lemmata_list):\n",
    "        if bigram[0] != bigram[1]:\n",
    "            bigrams_list.append(tuple(sorted(bigram)))\n",
    "    G = network_object_from_bigrams(bigrams_list, weight_threshold)\n",
    "    return G\n",
    "\n",
    "def network_from_lemmata_lists(list_of_lists, weight_threshold=0.1):\n",
    "    bigrams_list = []\n",
    "    for lemmata_list in list_of_lists:\n",
    "        for bigram in nltk.bigrams(lemmata_list):\n",
    "            if bigram[0] != bigram[1]:\n",
    "                bigrams_list.append(tuple(sorted(bigram)))\n",
    "    G = network_object_from_bigrams(bigrams_list, weight_threshold)\n",
    "    return G\n",
    "\n",
    "def network_object_from_bigrams(bigrams_list, weight_threshold):\n",
    "    bigrams_counts = list((collections.Counter(bigrams_list)).items())\n",
    "    bigrams_counts = sorted(bigrams_counts, key=lambda x: x[1], reverse=True)\n",
    "    G = nx.Graph()\n",
    "    G.clear()\n",
    "    G.add_weighted_edges_from(np.array([(bigram_count[0][0], bigram_count[0][1],  int(bigram_count[1])) for bigram_count in bigrams_counts]))\n",
    "        ### add edges attributes \n",
    "    for (u, v, wt) in G.edges.data('weight'):\n",
    "        G[u][v][\"weight\"] = int(wt)\n",
    "    total_weight = sum([int(n) for n in nx.get_edge_attributes(G, \"weight\").values()])\n",
    "    weights = sorted([int(n) for n in nx.get_edge_attributes(G, \"weight\").values()], reverse=True)\n",
    "    index_position = int(len(weights) * weight_threshold)\n",
    "    minimal_weight_value = weights[index_position]\n",
    "    edges_to_remove = []\n",
    "    for edge in G.edges:\n",
    "        if G[edge[0]][edge[1]][\"weight\"] < minimal_weight_value:\n",
    "            edges_to_remove.append(edge)\n",
    "    for element in edges_to_remove:\n",
    "        G.remove_edge(element[0], element[1])\n",
    "    for (u, v) in G.edges:\n",
    "        G[u][v][\"norm_weight\"] = round((G[u][v][\"weight\"] / total_weight), 5)\n",
    "        G[u][v][\"distance\"] = round(1 / (G[u][v][\"weight\"]), 5)\n",
    "        G[u][v][\"norm_distance\"] = round(1 / (G[u][v][\"norm_weight\"] ), 5)\n",
    "    return G"
   ]
  },
  {
   "cell_type": "code",
   "execution_count": 34,
   "metadata": {},
   "outputs": [
    {
     "name": "stdout",
     "output_type": "stream",
     "text": [
      "2066 1252\n"
     ]
    }
   ],
   "source": [
    "network_bigrams = textnet.network_from_lemmata_lists(lemmata_lists)\n",
    "print(len(network_bigrams.nodes()), len(network_bigrams.edges()))"
   ]
  },
  {
   "cell_type": "code",
   "execution_count": 35,
   "metadata": {},
   "outputs": [
    {
     "name": "stdout",
     "output_type": "stream",
     "text": [
      "2066 3144\n"
     ]
    }
   ],
   "source": [
    "network_sentences = textnet.network_from_sentences(docs)\n",
    "print(len(network_sentences.nodes()), len(network_sentences.edges()))"
   ]
  },
  {
   "cell_type": "code",
   "execution_count": 36,
   "metadata": {},
   "outputs": [],
   "source": [
    "def construct_ego_network(source_network, term, num_of_neighbours, reduced=True):\n",
    "    length, path = nx.single_source_dijkstra(source_network, term, target=None, weight=\"distance\")\n",
    "    shortest_nodes = list(length.keys())[0:num_of_neighbours+1]\n",
    "    path_values_sorted = [dict_pair[1] for dict_pair in sorted(path.items(), key=lambda pair: list(length.keys()).index(pair[0]))]\n",
    "    path_edges = []\n",
    "    for path_to_term in path_values_sorted[1:num_of_neighbours+1]:\n",
    "        path_edges.extend([tuple(sorted(bigram)) for bigram in nltk.bigrams(path_to_term)])\n",
    "    shortest_edges = list(set(path_edges))\n",
    "    ego_network = source_network.copy(as_view=False)\n",
    "    nodes_to_remove = []\n",
    "    for node in ego_network.nodes:\n",
    "        if node not in shortest_nodes:\n",
    "            nodes_to_remove.append(node)\n",
    "    for element in nodes_to_remove:\n",
    "        ego_network.remove_node(element)    \n",
    "    edges_to_remove = []\n",
    "    if reduced==True:\n",
    "        for edge in ego_network.edges:\n",
    "            if edge not in shortest_edges:\n",
    "                if (edge[1],edge[0]) not in shortest_edges:\n",
    "                    edges_to_remove.append(edge)\n",
    "        for element in edges_to_remove:\n",
    "            ego_network.remove_edge(element[0], element[1])\n",
    "    return ego_network\n",
    "\n",
    "def extract_ego_network_data(ego_network, term):\n",
    "    ego_network_data_prec = sorted(list(ego_network.edges.data(\"weight\")), key=lambda tup: int(tup[2]), reverse=True)\n",
    "    ego_network_data_complete = []\n",
    "    for tup in ego_network_data_prec:\n",
    "      if tup[1] == term:\n",
    "        ego_network_data_complete.append([tup[1], tup[0], int(tup[2]), round(1 / int(tup[2]), 5)])\n",
    "      else:\n",
    "        ego_network_data_complete.append([tup[0], tup[1], int(tup[2]), round(1 / int(tup[2]), 5)])\n",
    "    return ego_network_data_complete"
   ]
  },
  {
   "cell_type": "code",
   "execution_count": 37,
   "metadata": {},
   "outputs": [
    {
     "data": {
      "text/plain": [
       "EdgeDataView([('Χριστός', 'Ἰησοῦς', {'weight': 83, 'norm_weight': 0.0076, 'distance': 0.01205, 'norm_distance': 131.57895}), ('Χριστός', 'ἰησοῦ.', {'weight': 14, 'norm_weight': 0.00128, 'distance': 0.07143, 'norm_distance': 781.25}), ('Χριστός', 'θεός', {'weight': 11, 'norm_weight': 0.00101, 'distance': 0.09091, 'norm_distance': 990.09901}), ('Χριστός', 'εἰμί', {'weight': 10, 'norm_weight': 0.00092, 'distance': 0.1, 'norm_distance': 1086.95652}), ('Χριστός', 'κύριος', {'weight': 5, 'norm_weight': 0.00046, 'distance': 0.2, 'norm_distance': 2173.91304}), ('Χριστός', 'πᾶς', {'weight': 5, 'norm_weight': 0.00046, 'distance': 0.2, 'norm_distance': 2173.91304}), ('Χριστός', 'δίδωμι', {'weight': 5, 'norm_weight': 0.00046, 'distance': 0.2, 'norm_distance': 2173.91304}), ('Χριστός', 'πνεῦμα', {'weight': 5, 'norm_weight': 0.00046, 'distance': 0.2, 'norm_distance': 2173.91304}), ('Χριστός', 'ἔχω', {'weight': 5, 'norm_weight': 0.00046, 'distance': 0.2, 'norm_distance': 2173.91304}), ('Χριστός', 'σῶμα', {'weight': 3, 'norm_weight': 0.00027, 'distance': 0.33333, 'norm_distance': 3703.7037}), ('Χριστός', 'οὗτος', {'weight': 3, 'norm_weight': 0.00027, 'distance': 0.33333, 'norm_distance': 3703.7037}), ('Χριστός', 'νομός', {'weight': 2, 'norm_weight': 0.00018, 'distance': 0.5, 'norm_distance': 5555.55556}), ('Χριστός', 'δικαιοσύνη', {'weight': 2, 'norm_weight': 0.00018, 'distance': 0.5, 'norm_distance': 5555.55556}), ('Χριστός', 'σάρξ', {'weight': 2, 'norm_weight': 0.00018, 'distance': 0.5, 'norm_distance': 5555.55556}), ('Χριστός', 'πατήρ', {'weight': 2, 'norm_weight': 0.00018, 'distance': 0.5, 'norm_distance': 5555.55556}), ('Χριστός', 'γιγνώσκω', {'weight': 2, 'norm_weight': 0.00018, 'distance': 0.5, 'norm_distance': 5555.55556}), ('Χριστός', 'χάρις', {'weight': 2, 'norm_weight': 0.00018, 'distance': 0.5, 'norm_distance': 5555.55556}), ('Ἰησοῦς', 'κύριος', {'weight': 55, 'norm_weight': 0.00504, 'distance': 0.01818, 'norm_distance': 198.4127}), ('Ἰησοῦς', 'θεός', {'weight': 5, 'norm_weight': 0.00046, 'distance': 0.2, 'norm_distance': 2173.91304}), ('Ἰησοῦς', 'εὐχαριστέω', {'weight': 3, 'norm_weight': 0.00027, 'distance': 0.33333, 'norm_distance': 3703.7037}), ('Ἰησοῦς', 'πᾶς', {'weight': 3, 'norm_weight': 0.00027, 'distance': 0.33333, 'norm_distance': 3703.7037}), ('Ἰησοῦς', 'πνεῦμα', {'weight': 3, 'norm_weight': 0.00027, 'distance': 0.33333, 'norm_distance': 3703.7037}), ('Ἰησοῦς', 'σῶμα', {'weight': 3, 'norm_weight': 0.00027, 'distance': 0.33333, 'norm_distance': 3703.7037}), ('Ἰησοῦς', 'χριστός', {'weight': 3, 'norm_weight': 0.00027, 'distance': 0.33333, 'norm_distance': 3703.7037}), ('Ἰησοῦς', 'ἄνθρωπος', {'weight': 2, 'norm_weight': 0.00018, 'distance': 0.5, 'norm_distance': 5555.55556}), ('Ἰησοῦς', 'οἶδα', {'weight': 2, 'norm_weight': 0.00018, 'distance': 0.5, 'norm_distance': 5555.55556}), ('Ἰησοῦς', 'σάρξ', {'weight': 2, 'norm_weight': 0.00018, 'distance': 0.5, 'norm_distance': 5555.55556}), ('κύριος', 'πατήρ', {'weight': 11, 'norm_weight': 0.00101, 'distance': 0.09091, 'norm_distance': 990.09901}), ('κύριος', 'εἰμί', {'weight': 8, 'norm_weight': 0.00073, 'distance': 0.125, 'norm_distance': 1369.86301}), ('κύριος', 'χάρις', {'weight': 8, 'norm_weight': 0.00073, 'distance': 0.125, 'norm_distance': 1369.86301}), ('κύριος', 'πᾶς', {'weight': 6, 'norm_weight': 0.00055, 'distance': 0.16667, 'norm_distance': 1818.18182}), ('κύριος', 'αὐτός', {'weight': 4, 'norm_weight': 0.00037, 'distance': 0.25, 'norm_distance': 2702.7027}), ('κύριος', 'δίδωμι', {'weight': 4, 'norm_weight': 0.00037, 'distance': 0.25, 'norm_distance': 2702.7027}), ('κύριος', 'ἄνθρωπος', {'weight': 4, 'norm_weight': 0.00037, 'distance': 0.25, 'norm_distance': 2702.7027}), ('κύριος', 'θεός', {'weight': 3, 'norm_weight': 0.00027, 'distance': 0.33333, 'norm_distance': 3703.7037}), ('κύριος', 'ἔχω', {'weight': 3, 'norm_weight': 0.00027, 'distance': 0.33333, 'norm_distance': 3703.7037}), ('κύριος', 'ἔργον', {'weight': 3, 'norm_weight': 0.00027, 'distance': 0.33333, 'norm_distance': 3703.7037}), ('κύριος', 'πνεῦμα', {'weight': 3, 'norm_weight': 0.00027, 'distance': 0.33333, 'norm_distance': 3703.7037}), ('κύριος', 'γιγνώσκω', {'weight': 2, 'norm_weight': 0.00018, 'distance': 0.5, 'norm_distance': 5555.55556}), ('κύριος', 'οἶδα', {'weight': 2, 'norm_weight': 0.00018, 'distance': 0.5, 'norm_distance': 5555.55556}), ('εἰμί', 'θεός', {'weight': 20, 'norm_weight': 0.00183, 'distance': 0.05, 'norm_distance': 546.44809}), ('εἰμί', 'νομός', {'weight': 15, 'norm_weight': 0.00137, 'distance': 0.06667, 'norm_distance': 729.92701}), ('εἰμί', 'αὐτός', {'weight': 11, 'norm_weight': 0.00101, 'distance': 0.09091, 'norm_distance': 990.09901}), ('εἰμί', 'οὗτος', {'weight': 11, 'norm_weight': 0.00101, 'distance': 0.09091, 'norm_distance': 990.09901}), ('εἰμί', 'πᾶς', {'weight': 10, 'norm_weight': 0.00092, 'distance': 0.1, 'norm_distance': 1086.95652}), ('εἰμί', 'σῶμα', {'weight': 9, 'norm_weight': 0.00082, 'distance': 0.11111, 'norm_distance': 1219.5122}), ('εἰμί', 'πνεῦμα', {'weight': 8, 'norm_weight': 0.00073, 'distance': 0.125, 'norm_distance': 1369.86301}), ('εἰμί', 'ἄνθρωπος', {'weight': 7, 'norm_weight': 0.00064, 'distance': 0.14286, 'norm_distance': 1562.5}), ('εἰμί', 'εἷς', {'weight': 7, 'norm_weight': 0.00064, 'distance': 0.14286, 'norm_distance': 1562.5}), ('εἰμί', 'ἐλεύθερος', {'weight': 7, 'norm_weight': 0.00064, 'distance': 0.14286, 'norm_distance': 1562.5}), ('εἰμί', 'σάρξ', {'weight': 6, 'norm_weight': 0.00055, 'distance': 0.16667, 'norm_distance': 1818.18182}), ('εἰμί', 'πατήρ', {'weight': 5, 'norm_weight': 0.00046, 'distance': 0.2, 'norm_distance': 2173.91304}), ('εἰμί', 'υἱός', {'weight': 5, 'norm_weight': 0.00046, 'distance': 0.2, 'norm_distance': 2173.91304}), ('εἰμί', 'ἔχω', {'weight': 4, 'norm_weight': 0.00037, 'distance': 0.25, 'norm_distance': 2702.7027}), ('εἰμί', 'χριστός', {'weight': 4, 'norm_weight': 0.00037, 'distance': 0.25, 'norm_distance': 2702.7027}), ('εἰμί', 'χάρις', {'weight': 3, 'norm_weight': 0.00027, 'distance': 0.33333, 'norm_distance': 3703.7037}), ('εἰμί', 'οἶδα', {'weight': 2, 'norm_weight': 0.00018, 'distance': 0.5, 'norm_distance': 5555.55556}), ('εἰμί', 'εἰρήνη', {'weight': 2, 'norm_weight': 0.00018, 'distance': 0.5, 'norm_distance': 5555.55556}), ('θεός', 'χάρις', {'weight': 20, 'norm_weight': 0.00183, 'distance': 0.05, 'norm_distance': 546.44809}), ('θεός', 'πατήρ', {'weight': 18, 'norm_weight': 0.00165, 'distance': 0.05556, 'norm_distance': 606.06061}), ('θεός', 'πνεῦμα', {'weight': 15, 'norm_weight': 0.00137, 'distance': 0.06667, 'norm_distance': 729.92701}), ('θεός', 'εἰρήνη', {'weight': 13, 'norm_weight': 0.00119, 'distance': 0.07692, 'norm_distance': 840.33613}), ('θεός', 'δικαιοσύνη', {'weight': 10, 'norm_weight': 0.00092, 'distance': 0.1, 'norm_distance': 1086.95652}), ('θεός', 'πᾶς', {'weight': 10, 'norm_weight': 0.00092, 'distance': 0.1, 'norm_distance': 1086.95652}), ('θεός', 'οἶδα', {'weight': 10, 'norm_weight': 0.00092, 'distance': 0.1, 'norm_distance': 1086.95652}), ('θεός', 'υἱός', {'weight': 9, 'norm_weight': 0.00082, 'distance': 0.11111, 'norm_distance': 1219.5122}), ('θεός', 'δύναμις', {'weight': 9, 'norm_weight': 0.00082, 'distance': 0.11111, 'norm_distance': 1219.5122}), ('θεός', 'θέλημα', {'weight': 9, 'norm_weight': 0.00082, 'distance': 0.11111, 'norm_distance': 1219.5122}), ('θεός', 'ἔχω', {'weight': 9, 'norm_weight': 0.00082, 'distance': 0.11111, 'norm_distance': 1219.5122}), ('θεός', 'δίδωμι', {'weight': 9, 'norm_weight': 0.00082, 'distance': 0.11111, 'norm_distance': 1219.5122}), ('θεός', 'εὐχαριστέω', {'weight': 8, 'norm_weight': 0.00073, 'distance': 0.125, 'norm_distance': 1369.86301}), ('θεός', 'γιγνώσκω', {'weight': 8, 'norm_weight': 0.00073, 'distance': 0.125, 'norm_distance': 1369.86301}), ('θεός', 'νομός', {'weight': 8, 'norm_weight': 0.00073, 'distance': 0.125, 'norm_distance': 1369.86301}), ('θεός', 'εὐαγγέλιον', {'weight': 6, 'norm_weight': 0.00055, 'distance': 0.16667, 'norm_distance': 1818.18182}), ('θεός', 'εἷς', {'weight': 4, 'norm_weight': 0.00037, 'distance': 0.25, 'norm_distance': 2702.7027}), ('θεός', 'ἄνθρωπος', {'weight': 4, 'norm_weight': 0.00037, 'distance': 0.25, 'norm_distance': 2702.7027}), ('θεός', 'αὐτός', {'weight': 4, 'norm_weight': 0.00037, 'distance': 0.25, 'norm_distance': 2702.7027}), ('θεός', 'σάρξ', {'weight': 3, 'norm_weight': 0.00027, 'distance': 0.33333, 'norm_distance': 3703.7037}), ('θεός', 'οὗτος', {'weight': 2, 'norm_weight': 0.00018, 'distance': 0.5, 'norm_distance': 5555.55556}), ('θεός', 'σῶμα', {'weight': 2, 'norm_weight': 0.00018, 'distance': 0.5, 'norm_distance': 5555.55556}), ('θεός', 'χριστός', {'weight': 2, 'norm_weight': 0.00018, 'distance': 0.5, 'norm_distance': 5555.55556}), ('χάρις', 'εἰρήνη', {'weight': 7, 'norm_weight': 0.00064, 'distance': 0.14286, 'norm_distance': 1562.5}), ('χάρις', 'δίδωμι', {'weight': 5, 'norm_weight': 0.00046, 'distance': 0.2, 'norm_distance': 2173.91304}), ('χάρις', 'πᾶς', {'weight': 3, 'norm_weight': 0.00027, 'distance': 0.33333, 'norm_distance': 3703.7037}), ('χάρις', 'νομός', {'weight': 2, 'norm_weight': 0.00018, 'distance': 0.5, 'norm_distance': 5555.55556}), ('χάρις', 'οὗτος', {'weight': 2, 'norm_weight': 0.00018, 'distance': 0.5, 'norm_distance': 5555.55556}), ('χάρις', 'ἔργον', {'weight': 2, 'norm_weight': 0.00018, 'distance': 0.5, 'norm_distance': 5555.55556}), ('χάρις', 'γιγνώσκω', {'weight': 2, 'norm_weight': 0.00018, 'distance': 0.5, 'norm_distance': 5555.55556}), ('πατήρ', 'πᾶς', {'weight': 2, 'norm_weight': 0.00018, 'distance': 0.5, 'norm_distance': 5555.55556}), ('νομός', 'ἔργον', {'weight': 12, 'norm_weight': 0.0011, 'distance': 0.08333, 'norm_distance': 909.09091}), ('νομός', 'δικαιοσύνη', {'weight': 7, 'norm_weight': 0.00064, 'distance': 0.14286, 'norm_distance': 1562.5}), ('νομός', 'οἶδα', {'weight': 3, 'norm_weight': 0.00027, 'distance': 0.33333, 'norm_distance': 3703.7037}), ('νομός', 'ἔχω', {'weight': 2, 'norm_weight': 0.00018, 'distance': 0.5, 'norm_distance': 5555.55556}), ('νομός', 'σάρξ', {'weight': 2, 'norm_weight': 0.00018, 'distance': 0.5, 'norm_distance': 5555.55556}), ('νομός', 'γιγνώσκω', {'weight': 2, 'norm_weight': 0.00018, 'distance': 0.5, 'norm_distance': 5555.55556}), ('νομός', 'πνεῦμα', {'weight': 2, 'norm_weight': 0.00018, 'distance': 0.5, 'norm_distance': 5555.55556}), ('νομός', 'αὐτός', {'weight': 2, 'norm_weight': 0.00018, 'distance': 0.5, 'norm_distance': 5555.55556}), ('πνεῦμα', 'δύναμις', {'weight': 6, 'norm_weight': 0.00055, 'distance': 0.16667, 'norm_distance': 1818.18182}), ('πνεῦμα', 'σάρξ', {'weight': 6, 'norm_weight': 0.00055, 'distance': 0.16667, 'norm_distance': 1818.18182}), ('πνεῦμα', 'αὐτός', {'weight': 6, 'norm_weight': 0.00055, 'distance': 0.16667, 'norm_distance': 1818.18182}), ('πνεῦμα', 'εἷς', {'weight': 6, 'norm_weight': 0.00055, 'distance': 0.16667, 'norm_distance': 1818.18182}), ('πνεῦμα', 'ἔχω', {'weight': 3, 'norm_weight': 0.00027, 'distance': 0.33333, 'norm_distance': 3703.7037}), ('πνεῦμα', 'πᾶς', {'weight': 3, 'norm_weight': 0.00027, 'distance': 0.33333, 'norm_distance': 3703.7037}), ('πνεῦμα', 'ἄνθρωπος', {'weight': 2, 'norm_weight': 0.00018, 'distance': 0.5, 'norm_distance': 5555.55556}), ('πνεῦμα', 'δίδωμι', {'weight': 2, 'norm_weight': 0.00018, 'distance': 0.5, 'norm_distance': 5555.55556}), ('ἰησοῦ.', 'οὗτος', {'weight': 2, 'norm_weight': 0.00018, 'distance': 0.5, 'norm_distance': 5555.55556}), ('ἔργον', 'ἄνθρωπος', {'weight': 2, 'norm_weight': 0.00018, 'distance': 0.5, 'norm_distance': 5555.55556}), ('ἔργον', 'δύναμις', {'weight': 2, 'norm_weight': 0.00018, 'distance': 0.5, 'norm_distance': 5555.55556}), ('αὐτός', 'οὗτος', {'weight': 5, 'norm_weight': 0.00046, 'distance': 0.2, 'norm_distance': 2173.91304}), ('αὐτός', 'πᾶς', {'weight': 4, 'norm_weight': 0.00037, 'distance': 0.25, 'norm_distance': 2702.7027}), ('αὐτός', 'οἶδα', {'weight': 3, 'norm_weight': 0.00027, 'distance': 0.33333, 'norm_distance': 3703.7037}), ('αὐτός', 'υἱός', {'weight': 2, 'norm_weight': 0.00018, 'distance': 0.5, 'norm_distance': 5555.55556}), ('αὐτός', 'σάρξ', {'weight': 2, 'norm_weight': 0.00018, 'distance': 0.5, 'norm_distance': 5555.55556}), ('οὗτος', 'σῶμα', {'weight': 8, 'norm_weight': 0.00073, 'distance': 0.125, 'norm_distance': 1369.86301}), ('οὗτος', 'σάρξ', {'weight': 3, 'norm_weight': 0.00027, 'distance': 0.33333, 'norm_distance': 3703.7037}), ('οὗτος', 'ἄνθρωπος', {'weight': 2, 'norm_weight': 0.00018, 'distance': 0.5, 'norm_distance': 5555.55556}), ('οὗτος', 'ἔχω', {'weight': 2, 'norm_weight': 0.00018, 'distance': 0.5, 'norm_distance': 5555.55556}), ('οὗτος', 'πᾶς', {'weight': 2, 'norm_weight': 0.00018, 'distance': 0.5, 'norm_distance': 5555.55556}), ('οὗτος', 'δίδωμι', {'weight': 2, 'norm_weight': 0.00018, 'distance': 0.5, 'norm_distance': 5555.55556}), ('οὗτος', 'οἶδα', {'weight': 2, 'norm_weight': 0.00018, 'distance': 0.5, 'norm_distance': 5555.55556}), ('οὗτος', 'εὐχαριστέω', {'weight': 2, 'norm_weight': 0.00018, 'distance': 0.5, 'norm_distance': 5555.55556}), ('οὗτος', 'θέλημα', {'weight': 2, 'norm_weight': 0.00018, 'distance': 0.5, 'norm_distance': 5555.55556}), ('δικαιοσύνη', 'πᾶς', {'weight': 2, 'norm_weight': 0.00018, 'distance': 0.5, 'norm_distance': 5555.55556}), ('πᾶς', 'ἄνθρωπος', {'weight': 9, 'norm_weight': 0.00082, 'distance': 0.11111, 'norm_distance': 1219.5122}), ('πᾶς', 'ἔχω', {'weight': 5, 'norm_weight': 0.00046, 'distance': 0.2, 'norm_distance': 2173.91304}), ('πᾶς', 'εἷς', {'weight': 4, 'norm_weight': 0.00037, 'distance': 0.25, 'norm_distance': 2702.7027}), ('πᾶς', 'ἐλεύθερος', {'weight': 2, 'norm_weight': 0.00018, 'distance': 0.5, 'norm_distance': 5555.55556}), ('πᾶς', 'δύναμις', {'weight': 2, 'norm_weight': 0.00018, 'distance': 0.5, 'norm_distance': 5555.55556}), ('πᾶς', 'σάρξ', {'weight': 2, 'norm_weight': 0.00018, 'distance': 0.5, 'norm_distance': 5555.55556}), ('οἶδα', 'σῶμα', {'weight': 6, 'norm_weight': 0.00055, 'distance': 0.16667, 'norm_distance': 1818.18182}), ('οἶδα', 'ἄνθρωπος', {'weight': 2, 'norm_weight': 0.00018, 'distance': 0.5, 'norm_distance': 5555.55556}), ('ἄνθρωπος', 'σῶμα', {'weight': 2, 'norm_weight': 0.00018, 'distance': 0.5, 'norm_distance': 5555.55556}), ('δίδωμι', 'γιγνώσκω', {'weight': 2, 'norm_weight': 0.00018, 'distance': 0.5, 'norm_distance': 5555.55556}), ('σῶμα', 'εἷς', {'weight': 4, 'norm_weight': 0.00037, 'distance': 0.25, 'norm_distance': 2702.7027}), ('σῶμα', 'χριστός', {'weight': 3, 'norm_weight': 0.00027, 'distance': 0.33333, 'norm_distance': 3703.7037}), ('γιγνώσκω', 'σάρξ', {'weight': 2, 'norm_weight': 0.00018, 'distance': 0.5, 'norm_distance': 5555.55556}), ('εὐαγγέλιον', 'χριστός', {'weight': 6, 'norm_weight': 0.00055, 'distance': 0.16667, 'norm_distance': 1818.18182})])"
      ]
     },
     "execution_count": 37,
     "metadata": {},
     "output_type": "execute_result"
    }
   ],
   "source": [
    "ego_network_bigrams = construct_ego_network(network_bigrams, \"χριστός\", 30, reduced=False)\n",
    "ego_network_bigrams.edges.data()"
   ]
  },
  {
   "cell_type": "code",
   "execution_count": 38,
   "metadata": {},
   "outputs": [
    {
     "data": {
      "text/plain": [
       "EdgeDataView([('δόξα', 'ἀδελφός', {'weight': 3, 'norm_weight': 6e-05, 'distance': 0.33333, 'norm_distance': 16666.66667}), ('δόξα', 'πνεῦμα', {'weight': 6, 'norm_weight': 0.00013, 'distance': 0.16667, 'norm_distance': 7692.30769}), ('δόξα', 'υἱός', {'weight': 3, 'norm_weight': 6e-05, 'distance': 0.33333, 'norm_distance': 16666.66667}), ('δόξα', 'πίστις', {'weight': 5, 'norm_weight': 0.0001, 'distance': 0.2, 'norm_distance': 10000.0}), ('δόξα', 'πολύς', {'weight': 5, 'norm_weight': 0.0001, 'distance': 0.2, 'norm_distance': 10000.0}), ('δόξα', 'πατήρ', {'weight': 7, 'norm_weight': 0.00015, 'distance': 0.14286, 'norm_distance': 6666.66667}), ('δόξα', 'πᾶς', {'weight': 11, 'norm_weight': 0.00023, 'distance': 0.09091, 'norm_distance': 4347.82609}), ('δόξα', 'δικαιοσύνη', {'weight': 3, 'norm_weight': 6e-05, 'distance': 0.33333, 'norm_distance': 16666.66667}), ('δόξα', 'εἰμί', {'weight': 13, 'norm_weight': 0.00027, 'distance': 0.07692, 'norm_distance': 3703.7037}), ('δόξα', 'χάρις', {'weight': 5, 'norm_weight': 0.0001, 'distance': 0.2, 'norm_distance': 10000.0}), ('δόξα', 'χριστός', {'weight': 17, 'norm_weight': 0.00036, 'distance': 0.05882, 'norm_distance': 2777.77778}), ('δόξα', 'εὐαγγέλιον', {'weight': 4, 'norm_weight': 8e-05, 'distance': 0.25, 'norm_distance': 12500.0}), ('δόξα', 'κύριος', {'weight': 13, 'norm_weight': 0.00027, 'distance': 0.07692, 'norm_distance': 3703.7037}), ('δόξα', 'ἔθνος', {'weight': 3, 'norm_weight': 6e-05, 'distance': 0.33333, 'norm_distance': 16666.66667}), ('δόξα', 'γίγνομαι', {'weight': 5, 'norm_weight': 0.0001, 'distance': 0.2, 'norm_distance': 10000.0}), ('δόξα', 'θεός', {'weight': 30, 'norm_weight': 0.00063, 'distance': 0.03333, 'norm_distance': 1587.30159}), ('δόξα', 'ἄνθρωπος', {'weight': 3, 'norm_weight': 6e-05, 'distance': 0.33333, 'norm_distance': 16666.66667}), ('δόξα', 'σῶμα', {'weight': 3, 'norm_weight': 6e-05, 'distance': 0.33333, 'norm_distance': 16666.66667}), ('ἀδελφός', 'πνεῦμα', {'weight': 6, 'norm_weight': 0.00013, 'distance': 0.16667, 'norm_distance': 7692.30769}), ('ἀδελφός', 'πίστις', {'weight': 4, 'norm_weight': 8e-05, 'distance': 0.25, 'norm_distance': 12500.0}), ('ἀδελφός', 'πολύς', {'weight': 14, 'norm_weight': 0.00029, 'distance': 0.07143, 'norm_distance': 3448.27586}), ('ἀδελφός', 'πατήρ', {'weight': 4, 'norm_weight': 8e-05, 'distance': 0.25, 'norm_distance': 12500.0}), ('ἀδελφός', 'πᾶς', {'weight': 19, 'norm_weight': 0.0004, 'distance': 0.05263, 'norm_distance': 2500.0}), ('ἀδελφός', 'εἰμί', {'weight': 23, 'norm_weight': 0.00048, 'distance': 0.04348, 'norm_distance': 2083.33333}), ('ἀδελφός', 'ἔχω', {'weight': 10, 'norm_weight': 0.00021, 'distance': 0.1, 'norm_distance': 4761.90476}), ('ἀδελφός', 'οὗτος', {'weight': 10, 'norm_weight': 0.00021, 'distance': 0.1, 'norm_distance': 4761.90476}), ('ἀδελφός', 'χάρις', {'weight': 3, 'norm_weight': 6e-05, 'distance': 0.33333, 'norm_distance': 16666.66667}), ('ἀδελφός', 'χριστός', {'weight': 23, 'norm_weight': 0.00048, 'distance': 0.04348, 'norm_distance': 2083.33333}), ('ἀδελφός', 'εὐαγγέλιον', {'weight': 9, 'norm_weight': 0.00019, 'distance': 0.11111, 'norm_distance': 5263.15789}), ('ἀδελφός', 'νομός', {'weight': 3, 'norm_weight': 6e-05, 'distance': 0.33333, 'norm_distance': 16666.66667}), ('ἀδελφός', 'κύριος', {'weight': 22, 'norm_weight': 0.00046, 'distance': 0.04545, 'norm_distance': 2173.91304}), ('ἀδελφός', 'σάρξ', {'weight': 8, 'norm_weight': 0.00017, 'distance': 0.125, 'norm_distance': 5882.35294}), ('ἀδελφός', 'λόγος', {'weight': 5, 'norm_weight': 0.0001, 'distance': 0.2, 'norm_distance': 10000.0}), ('ἀδελφός', 'ἔθνος', {'weight': 4, 'norm_weight': 8e-05, 'distance': 0.25, 'norm_distance': 12500.0}), ('ἀδελφός', 'ἅγιος', {'weight': 6, 'norm_weight': 0.00013, 'distance': 0.16667, 'norm_distance': 7692.30769}), ('ἀδελφός', 'οἶδα', {'weight': 10, 'norm_weight': 0.00021, 'distance': 0.1, 'norm_distance': 4761.90476}), ('ἀδελφός', 'γίγνομαι', {'weight': 15, 'norm_weight': 0.00031, 'distance': 0.06667, 'norm_distance': 3225.80645}), ('ἀδελφός', 'θεός', {'weight': 30, 'norm_weight': 0.00063, 'distance': 0.03333, 'norm_distance': 1587.30159}), ('ἀδελφός', 'ἄνθρωπος', {'weight': 8, 'norm_weight': 0.00017, 'distance': 0.125, 'norm_distance': 5882.35294}), ('ἀδελφός', 'σῶμα', {'weight': 3, 'norm_weight': 6e-05, 'distance': 0.33333, 'norm_distance': 16666.66667}), ('πνεῦμα', 'υἱός', {'weight': 8, 'norm_weight': 0.00017, 'distance': 0.125, 'norm_distance': 5882.35294}), ('πνεῦμα', 'πίστις', {'weight': 15, 'norm_weight': 0.00031, 'distance': 0.06667, 'norm_distance': 3225.80645}), ('πνεῦμα', 'ἐγείρω', {'weight': 6, 'norm_weight': 0.00013, 'distance': 0.16667, 'norm_distance': 7692.30769}), ('πνεῦμα', 'πολύς', {'weight': 4, 'norm_weight': 8e-05, 'distance': 0.25, 'norm_distance': 12500.0}), ('πνεῦμα', 'πατήρ', {'weight': 4, 'norm_weight': 8e-05, 'distance': 0.25, 'norm_distance': 12500.0}), ('πνεῦμα', 'δύναμις', {'weight': 17, 'norm_weight': 0.00036, 'distance': 0.05882, 'norm_distance': 2777.77778}), ('πνεῦμα', 'πᾶς', {'weight': 9, 'norm_weight': 0.00019, 'distance': 0.11111, 'norm_distance': 5263.15789}), ('πνεῦμα', 'δικαιοσύνη', {'weight': 3, 'norm_weight': 6e-05, 'distance': 0.33333, 'norm_distance': 16666.66667}), ('πνεῦμα', 'εἰμί', {'weight': 19, 'norm_weight': 0.0004, 'distance': 0.05263, 'norm_distance': 2500.0}), ('πνεῦμα', 'ἔχω', {'weight': 8, 'norm_weight': 0.00017, 'distance': 0.125, 'norm_distance': 5882.35294}), ('πνεῦμα', 'οὗτος', {'weight': 10, 'norm_weight': 0.00021, 'distance': 0.1, 'norm_distance': 4761.90476}), ('πνεῦμα', 'χάρις', {'weight': 6, 'norm_weight': 0.00013, 'distance': 0.16667, 'norm_distance': 7692.30769}), ('πνεῦμα', 'χριστός', {'weight': 29, 'norm_weight': 0.00061, 'distance': 0.03448, 'norm_distance': 1639.34426}), ('πνεῦμα', 'εὐαγγέλιον', {'weight': 8, 'norm_weight': 0.00017, 'distance': 0.125, 'norm_distance': 5882.35294}), ('πνεῦμα', 'νομός', {'weight': 9, 'norm_weight': 0.00019, 'distance': 0.11111, 'norm_distance': 5263.15789}), ('πνεῦμα', 'κύριος', {'weight': 30, 'norm_weight': 0.00063, 'distance': 0.03333, 'norm_distance': 1587.30159}), ('πνεῦμα', 'σάρξ', {'weight': 31, 'norm_weight': 0.00065, 'distance': 0.03226, 'norm_distance': 1538.46154}), ('πνεῦμα', 'δίδωμι', {'weight': 12, 'norm_weight': 0.00025, 'distance': 0.08333, 'norm_distance': 4000.0}), ('πνεῦμα', 'λόγος', {'weight': 17, 'norm_weight': 0.00036, 'distance': 0.05882, 'norm_distance': 2777.77778}), ('πνεῦμα', 'καρδία', {'weight': 8, 'norm_weight': 0.00017, 'distance': 0.125, 'norm_distance': 5882.35294}), ('πνεῦμα', 'ἔθνος', {'weight': 5, 'norm_weight': 0.0001, 'distance': 0.2, 'norm_distance': 10000.0}), ('πνεῦμα', 'ἅγιος', {'weight': 18, 'norm_weight': 0.00038, 'distance': 0.05556, 'norm_distance': 2631.57895}), ('πνεῦμα', 'οἶδα', {'weight': 13, 'norm_weight': 0.00027, 'distance': 0.07692, 'norm_distance': 3703.7037}), ('πνεῦμα', 'γίγνομαι', {'weight': 11, 'norm_weight': 0.00023, 'distance': 0.09091, 'norm_distance': 4347.82609}), ('πνεῦμα', 'θεός', {'weight': 50, 'norm_weight': 0.00105, 'distance': 0.02, 'norm_distance': 952.38095}), ('πνεῦμα', 'ἄνθρωπος', {'weight': 9, 'norm_weight': 0.00019, 'distance': 0.11111, 'norm_distance': 5263.15789}), ('πνεῦμα', 'σῶμα', {'weight': 14, 'norm_weight': 0.00029, 'distance': 0.07143, 'norm_distance': 3448.27586}), ('υἱός', 'πίστις', {'weight': 5, 'norm_weight': 0.0001, 'distance': 0.2, 'norm_distance': 10000.0}), ('υἱός', 'πολύς', {'weight': 3, 'norm_weight': 6e-05, 'distance': 0.33333, 'norm_distance': 16666.66667}), ('υἱός', 'πατήρ', {'weight': 3, 'norm_weight': 6e-05, 'distance': 0.33333, 'norm_distance': 16666.66667}), ('υἱός', 'πᾶς', {'weight': 10, 'norm_weight': 0.00021, 'distance': 0.1, 'norm_distance': 4761.90476}), ('υἱός', 'εἰμί', {'weight': 12, 'norm_weight': 0.00025, 'distance': 0.08333, 'norm_distance': 4000.0}), ('υἱός', 'ἔχω', {'weight': 3, 'norm_weight': 6e-05, 'distance': 0.33333, 'norm_distance': 16666.66667}), ('υἱός', 'χάρις', {'weight': 3, 'norm_weight': 6e-05, 'distance': 0.33333, 'norm_distance': 16666.66667}), ('υἱός', 'χριστός', {'weight': 9, 'norm_weight': 0.00019, 'distance': 0.11111, 'norm_distance': 5263.15789}), ('υἱός', 'εὐαγγέλιον', {'weight': 3, 'norm_weight': 6e-05, 'distance': 0.33333, 'norm_distance': 16666.66667}), ('υἱός', 'νομός', {'weight': 4, 'norm_weight': 8e-05, 'distance': 0.25, 'norm_distance': 12500.0}), ('υἱός', 'κύριος', {'weight': 4, 'norm_weight': 8e-05, 'distance': 0.25, 'norm_distance': 12500.0}), ('υἱός', 'σάρξ', {'weight': 8, 'norm_weight': 0.00017, 'distance': 0.125, 'norm_distance': 5882.35294}), ('υἱός', 'ἔθνος', {'weight': 3, 'norm_weight': 6e-05, 'distance': 0.33333, 'norm_distance': 16666.66667}), ('υἱός', 'ἅγιος', {'weight': 4, 'norm_weight': 8e-05, 'distance': 0.25, 'norm_distance': 12500.0}), ('υἱός', 'γίγνομαι', {'weight': 7, 'norm_weight': 0.00015, 'distance': 0.14286, 'norm_distance': 6666.66667}), ('υἱός', 'θεός', {'weight': 25, 'norm_weight': 0.00052, 'distance': 0.04, 'norm_distance': 1923.07692}), ('πίστις', 'ἐγείρω', {'weight': 7, 'norm_weight': 0.00015, 'distance': 0.14286, 'norm_distance': 6666.66667}), ('πίστις', 'πατήρ', {'weight': 7, 'norm_weight': 0.00015, 'distance': 0.14286, 'norm_distance': 6666.66667}), ('πίστις', 'δύναμις', {'weight': 8, 'norm_weight': 0.00017, 'distance': 0.125, 'norm_distance': 5882.35294}), ('πίστις', 'πᾶς', {'weight': 19, 'norm_weight': 0.0004, 'distance': 0.05263, 'norm_distance': 2500.0}), ('πίστις', 'δικαιοσύνη', {'weight': 26, 'norm_weight': 0.00054, 'distance': 0.03846, 'norm_distance': 1851.85185}), ('πίστις', 'εἰμί', {'weight': 22, 'norm_weight': 0.00046, 'distance': 0.04545, 'norm_distance': 2173.91304}), ('πίστις', 'ἔχω', {'weight': 18, 'norm_weight': 0.00038, 'distance': 0.05556, 'norm_distance': 2631.57895}), ('πίστις', 'οὗτος', {'weight': 7, 'norm_weight': 0.00015, 'distance': 0.14286, 'norm_distance': 6666.66667}), ('πίστις', 'χάρις', {'weight': 8, 'norm_weight': 0.00017, 'distance': 0.125, 'norm_distance': 5882.35294}), ('πίστις', 'χριστός', {'weight': 37, 'norm_weight': 0.00077, 'distance': 0.02703, 'norm_distance': 1298.7013}), ('πίστις', 'εὐαγγέλιον', {'weight': 6, 'norm_weight': 0.00013, 'distance': 0.16667, 'norm_distance': 7692.30769}), ('πίστις', 'νομός', {'weight': 27, 'norm_weight': 0.00056, 'distance': 0.03704, 'norm_distance': 1785.71429}), ('πίστις', 'κύριος', {'weight': 13, 'norm_weight': 0.00027, 'distance': 0.07692, 'norm_distance': 3703.7037}), ('πίστις', 'σάρξ', {'weight': 4, 'norm_weight': 8e-05, 'distance': 0.25, 'norm_distance': 12500.0}), ('πίστις', 'δίδωμι', {'weight': 6, 'norm_weight': 0.00013, 'distance': 0.16667, 'norm_distance': 7692.30769}), ('πίστις', 'λόγος', {'weight': 7, 'norm_weight': 0.00015, 'distance': 0.14286, 'norm_distance': 6666.66667}), ('πίστις', 'ἔθνος', {'weight': 10, 'norm_weight': 0.00021, 'distance': 0.1, 'norm_distance': 4761.90476}), ('πίστις', 'ἅγιος', {'weight': 5, 'norm_weight': 0.0001, 'distance': 0.2, 'norm_distance': 10000.0}), ('πίστις', 'οἶδα', {'weight': 8, 'norm_weight': 0.00017, 'distance': 0.125, 'norm_distance': 5882.35294}), ('πίστις', 'γίγνομαι', {'weight': 10, 'norm_weight': 0.00021, 'distance': 0.1, 'norm_distance': 4761.90476}), ('πίστις', 'θεός', {'weight': 48, 'norm_weight': 0.001, 'distance': 0.02083, 'norm_distance': 1000.0}), ('πίστις', 'ἄνθρωπος', {'weight': 5, 'norm_weight': 0.0001, 'distance': 0.2, 'norm_distance': 10000.0}), ('πίστις', 'σῶμα', {'weight': 4, 'norm_weight': 8e-05, 'distance': 0.25, 'norm_distance': 12500.0}), ('ἐγείρω', 'εἰμί', {'weight': 5, 'norm_weight': 0.0001, 'distance': 0.2, 'norm_distance': 10000.0}), ('ἐγείρω', 'ἔχω', {'weight': 4, 'norm_weight': 8e-05, 'distance': 0.25, 'norm_distance': 12500.0}), ('ἐγείρω', 'χριστός', {'weight': 23, 'norm_weight': 0.00048, 'distance': 0.04348, 'norm_distance': 2083.33333}), ('ἐγείρω', 'κύριος', {'weight': 6, 'norm_weight': 0.00013, 'distance': 0.16667, 'norm_distance': 7692.30769}), ('ἐγείρω', 'οἶδα', {'weight': 5, 'norm_weight': 0.0001, 'distance': 0.2, 'norm_distance': 10000.0}), ('ἐγείρω', 'θεός', {'weight': 14, 'norm_weight': 0.00029, 'distance': 0.07143, 'norm_distance': 3448.27586}), ('ἐγείρω', 'σῶμα', {'weight': 6, 'norm_weight': 0.00013, 'distance': 0.16667, 'norm_distance': 7692.30769}), ('πολύς', 'πατήρ', {'weight': 7, 'norm_weight': 0.00015, 'distance': 0.14286, 'norm_distance': 6666.66667}), ('πολύς', 'δύναμις', {'weight': 6, 'norm_weight': 0.00013, 'distance': 0.16667, 'norm_distance': 7692.30769}), ('πολύς', 'πᾶς', {'weight': 17, 'norm_weight': 0.00036, 'distance': 0.05882, 'norm_distance': 2777.77778}), ('πολύς', 'εἰμί', {'weight': 21, 'norm_weight': 0.00044, 'distance': 0.04762, 'norm_distance': 2272.72727}), ('πολύς', 'ἔχω', {'weight': 15, 'norm_weight': 0.00031, 'distance': 0.06667, 'norm_distance': 3225.80645}), ('πολύς', 'οὗτος', {'weight': 4, 'norm_weight': 8e-05, 'distance': 0.25, 'norm_distance': 12500.0}), ('πολύς', 'χάρις', {'weight': 11, 'norm_weight': 0.00023, 'distance': 0.09091, 'norm_distance': 4347.82609}), ('πολύς', 'χριστός', {'weight': 19, 'norm_weight': 0.0004, 'distance': 0.05263, 'norm_distance': 2500.0}), ('πολύς', 'εὐαγγέλιον', {'weight': 4, 'norm_weight': 8e-05, 'distance': 0.25, 'norm_distance': 12500.0}), ('πολύς', 'κύριος', {'weight': 9, 'norm_weight': 0.00019, 'distance': 0.11111, 'norm_distance': 5263.15789}), ('πολύς', 'σάρξ', {'weight': 5, 'norm_weight': 0.0001, 'distance': 0.2, 'norm_distance': 10000.0}), ('πολύς', 'λόγος', {'weight': 6, 'norm_weight': 0.00013, 'distance': 0.16667, 'norm_distance': 7692.30769}), ('πολύς', 'καρδία', {'weight': 3, 'norm_weight': 6e-05, 'distance': 0.33333, 'norm_distance': 16666.66667}), ('πολύς', 'ἔθνος', {'weight': 3, 'norm_weight': 6e-05, 'distance': 0.33333, 'norm_distance': 16666.66667}), ('πολύς', 'ἅγιος', {'weight': 7, 'norm_weight': 0.00015, 'distance': 0.14286, 'norm_distance': 6666.66667}), ('πολύς', 'οἶδα', {'weight': 4, 'norm_weight': 8e-05, 'distance': 0.25, 'norm_distance': 12500.0}), ('πολύς', 'γίγνομαι', {'weight': 9, 'norm_weight': 0.00019, 'distance': 0.11111, 'norm_distance': 5263.15789}), ('πολύς', 'θεός', {'weight': 31, 'norm_weight': 0.00065, 'distance': 0.03226, 'norm_distance': 1538.46154}), ('πολύς', 'ἄνθρωπος', {'weight': 6, 'norm_weight': 0.00013, 'distance': 0.16667, 'norm_distance': 7692.30769}), ('πολύς', 'σῶμα', {'weight': 15, 'norm_weight': 0.00031, 'distance': 0.06667, 'norm_distance': 3225.80645}), ('πατήρ', 'πᾶς', {'weight': 16, 'norm_weight': 0.00033, 'distance': 0.0625, 'norm_distance': 3030.30303}), ('πατήρ', 'δικαιοσύνη', {'weight': 6, 'norm_weight': 0.00013, 'distance': 0.16667, 'norm_distance': 7692.30769}), ('πατήρ', 'εἰμί', {'weight': 15, 'norm_weight': 0.00031, 'distance': 0.06667, 'norm_distance': 3225.80645}), ('πατήρ', 'ἔχω', {'weight': 3, 'norm_weight': 6e-05, 'distance': 0.33333, 'norm_distance': 16666.66667}), ('πατήρ', 'χάρις', {'weight': 7, 'norm_weight': 0.00015, 'distance': 0.14286, 'norm_distance': 6666.66667}), ('πατήρ', 'χριστός', {'weight': 17, 'norm_weight': 0.00036, 'distance': 0.05882, 'norm_distance': 2777.77778}), ('πατήρ', 'εὐαγγέλιον', {'weight': 4, 'norm_weight': 8e-05, 'distance': 0.25, 'norm_distance': 12500.0}), ('πατήρ', 'κύριος', {'weight': 21, 'norm_weight': 0.00044, 'distance': 0.04762, 'norm_distance': 2272.72727}), ('πατήρ', 'δίδωμι', {'weight': 3, 'norm_weight': 6e-05, 'distance': 0.33333, 'norm_distance': 16666.66667}), ('πατήρ', 'ἔθνος', {'weight': 5, 'norm_weight': 0.0001, 'distance': 0.2, 'norm_distance': 10000.0}), ('πατήρ', 'οἶδα', {'weight': 4, 'norm_weight': 8e-05, 'distance': 0.25, 'norm_distance': 12500.0}), ('πατήρ', 'γίγνομαι', {'weight': 5, 'norm_weight': 0.0001, 'distance': 0.2, 'norm_distance': 10000.0}), ('πατήρ', 'θεός', {'weight': 35, 'norm_weight': 0.00073, 'distance': 0.02857, 'norm_distance': 1369.86301}), ('δύναμις', 'πᾶς', {'weight': 4, 'norm_weight': 8e-05, 'distance': 0.25, 'norm_distance': 12500.0}), ('δύναμις', 'εἰμί', {'weight': 4, 'norm_weight': 8e-05, 'distance': 0.25, 'norm_distance': 12500.0}), ('δύναμις', 'οὗτος', {'weight': 4, 'norm_weight': 8e-05, 'distance': 0.25, 'norm_distance': 12500.0}), ('δύναμις', 'χάρις', {'weight': 5, 'norm_weight': 0.0001, 'distance': 0.2, 'norm_distance': 10000.0}), ('δύναμις', 'χριστός', {'weight': 12, 'norm_weight': 0.00025, 'distance': 0.08333, 'norm_distance': 4000.0}), ('δύναμις', 'εὐαγγέλιον', {'weight': 3, 'norm_weight': 6e-05, 'distance': 0.33333, 'norm_distance': 16666.66667}), ('δύναμις', 'νομός', {'weight': 3, 'norm_weight': 6e-05, 'distance': 0.33333, 'norm_distance': 16666.66667}), ('δύναμις', 'κύριος', {'weight': 12, 'norm_weight': 0.00025, 'distance': 0.08333, 'norm_distance': 4000.0}), ('δύναμις', 'δίδωμι', {'weight': 3, 'norm_weight': 6e-05, 'distance': 0.33333, 'norm_distance': 16666.66667}), ('δύναμις', 'λόγος', {'weight': 15, 'norm_weight': 0.00031, 'distance': 0.06667, 'norm_distance': 3225.80645}), ('δύναμις', 'ἔθνος', {'weight': 4, 'norm_weight': 8e-05, 'distance': 0.25, 'norm_distance': 12500.0}), ('δύναμις', 'ἅγιος', {'weight': 9, 'norm_weight': 0.00019, 'distance': 0.11111, 'norm_distance': 5263.15789}), ('δύναμις', 'οἶδα', {'weight': 3, 'norm_weight': 6e-05, 'distance': 0.33333, 'norm_distance': 16666.66667}), ('δύναμις', 'γίγνομαι', {'weight': 6, 'norm_weight': 0.00013, 'distance': 0.16667, 'norm_distance': 7692.30769}), ('δύναμις', 'θεός', {'weight': 25, 'norm_weight': 0.00052, 'distance': 0.04, 'norm_distance': 1923.07692}), ('πᾶς', 'δικαιοσύνη', {'weight': 5, 'norm_weight': 0.0001, 'distance': 0.2, 'norm_distance': 10000.0}), ('πᾶς', 'εἰμί', {'weight': 51, 'norm_weight': 0.00107, 'distance': 0.01961, 'norm_distance': 934.57944}), ('πᾶς', 'ἔχω', {'weight': 23, 'norm_weight': 0.00048, 'distance': 0.04348, 'norm_distance': 2083.33333}), ('πᾶς', 'οὗτος', {'weight': 10, 'norm_weight': 0.00021, 'distance': 0.1, 'norm_distance': 4761.90476}), ('πᾶς', 'χάρις', {'weight': 19, 'norm_weight': 0.0004, 'distance': 0.05263, 'norm_distance': 2500.0}), ('πᾶς', 'χριστός', {'weight': 60, 'norm_weight': 0.00125, 'distance': 0.01667, 'norm_distance': 800.0}), ('πᾶς', 'εὐαγγέλιον', {'weight': 14, 'norm_weight': 0.00029, 'distance': 0.07143, 'norm_distance': 3448.27586}), ('πᾶς', 'νομός', {'weight': 9, 'norm_weight': 0.00019, 'distance': 0.11111, 'norm_distance': 5263.15789}), ('πᾶς', 'κύριος', {'weight': 37, 'norm_weight': 0.00077, 'distance': 0.02703, 'norm_distance': 1298.7013}), ('πᾶς', 'σάρξ', {'weight': 7, 'norm_weight': 0.00015, 'distance': 0.14286, 'norm_distance': 6666.66667}), ('πᾶς', 'κόσμος', {'weight': 5, 'norm_weight': 0.0001, 'distance': 0.2, 'norm_distance': 10000.0}), ('πᾶς', 'δίδωμι', {'weight': 5, 'norm_weight': 0.0001, 'distance': 0.2, 'norm_distance': 10000.0}), ('πᾶς', 'λόγος', {'weight': 8, 'norm_weight': 0.00017, 'distance': 0.125, 'norm_distance': 5882.35294}), ('πᾶς', 'καρδία', {'weight': 8, 'norm_weight': 0.00017, 'distance': 0.125, 'norm_distance': 5882.35294}), ('πᾶς', 'ἔθνος', {'weight': 11, 'norm_weight': 0.00023, 'distance': 0.09091, 'norm_distance': 4347.82609}), ('πᾶς', 'ἅγιος', {'weight': 14, 'norm_weight': 0.00029, 'distance': 0.07143, 'norm_distance': 3448.27586}), ('πᾶς', 'οἶδα', {'weight': 7, 'norm_weight': 0.00015, 'distance': 0.14286, 'norm_distance': 6666.66667}), ('πᾶς', 'γίγνομαι', {'weight': 21, 'norm_weight': 0.00044, 'distance': 0.04762, 'norm_distance': 2272.72727}), ('πᾶς', 'θεός', {'weight': 86, 'norm_weight': 0.0018, 'distance': 0.01163, 'norm_distance': 555.55556}), ('πᾶς', 'ἄνθρωπος', {'weight': 15, 'norm_weight': 0.00031, 'distance': 0.06667, 'norm_distance': 3225.80645}), ('πᾶς', 'σῶμα', {'weight': 11, 'norm_weight': 0.00023, 'distance': 0.09091, 'norm_distance': 4347.82609}), ('δικαιοσύνη', 'εἰμί', {'weight': 10, 'norm_weight': 0.00021, 'distance': 0.1, 'norm_distance': 4761.90476}), ('δικαιοσύνη', 'χάρις', {'weight': 4, 'norm_weight': 8e-05, 'distance': 0.25, 'norm_distance': 12500.0}), ('δικαιοσύνη', 'χριστός', {'weight': 15, 'norm_weight': 0.00031, 'distance': 0.06667, 'norm_distance': 3225.80645}), ('δικαιοσύνη', 'νομός', {'weight': 16, 'norm_weight': 0.00033, 'distance': 0.0625, 'norm_distance': 3030.30303}), ('δικαιοσύνη', 'κύριος', {'weight': 6, 'norm_weight': 0.00013, 'distance': 0.16667, 'norm_distance': 7692.30769}), ('δικαιοσύνη', 'καρδία', {'weight': 3, 'norm_weight': 6e-05, 'distance': 0.33333, 'norm_distance': 16666.66667}), ('δικαιοσύνη', 'ἔθνος', {'weight': 3, 'norm_weight': 6e-05, 'distance': 0.33333, 'norm_distance': 16666.66667}), ('δικαιοσύνη', 'γίγνομαι', {'weight': 3, 'norm_weight': 6e-05, 'distance': 0.33333, 'norm_distance': 16666.66667}), ('δικαιοσύνη', 'θεός', {'weight': 26, 'norm_weight': 0.00054, 'distance': 0.03846, 'norm_distance': 1851.85185}), ('δικαιοσύνη', 'ἄνθρωπος', {'weight': 3, 'norm_weight': 6e-05, 'distance': 0.33333, 'norm_distance': 16666.66667}), ('εἰμί', 'ἔχω', {'weight': 21, 'norm_weight': 0.00044, 'distance': 0.04762, 'norm_distance': 2272.72727}), ('εἰμί', 'οὗτος', {'weight': 35, 'norm_weight': 0.00073, 'distance': 0.02857, 'norm_distance': 1369.86301}), ('εἰμί', 'χάρις', {'weight': 13, 'norm_weight': 0.00027, 'distance': 0.07692, 'norm_distance': 3703.7037}), ('εἰμί', 'χριστός', {'weight': 57, 'norm_weight': 0.00119, 'distance': 0.01754, 'norm_distance': 840.33613}), ('εἰμί', 'εὐαγγέλιον', {'weight': 10, 'norm_weight': 0.00021, 'distance': 0.1, 'norm_distance': 4761.90476}), ('εἰμί', 'νομός', {'weight': 41, 'norm_weight': 0.00086, 'distance': 0.02439, 'norm_distance': 1162.7907}), ('εἰμί', 'κύριος', {'weight': 34, 'norm_weight': 0.00071, 'distance': 0.02941, 'norm_distance': 1408.4507}), ('εἰμί', 'σάρξ', {'weight': 19, 'norm_weight': 0.0004, 'distance': 0.05263, 'norm_distance': 2500.0}), ('εἰμί', 'κόσμος', {'weight': 19, 'norm_weight': 0.0004, 'distance': 0.05263, 'norm_distance': 2500.0}), ('εἰμί', 'δίδωμι', {'weight': 6, 'norm_weight': 0.00013, 'distance': 0.16667, 'norm_distance': 7692.30769}), ('εἰμί', 'λόγος', {'weight': 7, 'norm_weight': 0.00015, 'distance': 0.14286, 'norm_distance': 6666.66667}), ('εἰμί', 'καρδία', {'weight': 7, 'norm_weight': 0.00015, 'distance': 0.14286, 'norm_distance': 6666.66667}), ('εἰμί', 'ἔθνος', {'weight': 5, 'norm_weight': 0.0001, 'distance': 0.2, 'norm_distance': 10000.0}), ('εἰμί', 'ἅγιος', {'weight': 10, 'norm_weight': 0.00021, 'distance': 0.1, 'norm_distance': 4761.90476}), ('εἰμί', 'οἶδα', {'weight': 15, 'norm_weight': 0.00031, 'distance': 0.06667, 'norm_distance': 3225.80645}), ('εἰμί', 'γίγνομαι', {'weight': 18, 'norm_weight': 0.00038, 'distance': 0.05556, 'norm_distance': 2631.57895}), ('εἰμί', 'θεός', {'weight': 101, 'norm_weight': 0.00211, 'distance': 0.0099, 'norm_distance': 473.93365}), ('εἰμί', 'ἄνθρωπος', {'weight': 18, 'norm_weight': 0.00038, 'distance': 0.05556, 'norm_distance': 2631.57895}), ('εἰμί', 'σῶμα', {'weight': 36, 'norm_weight': 0.00075, 'distance': 0.02778, 'norm_distance': 1333.33333}), ('ἔχω', 'οὗτος', {'weight': 8, 'norm_weight': 0.00017, 'distance': 0.125, 'norm_distance': 5882.35294}), ('ἔχω', 'χάρις', {'weight': 5, 'norm_weight': 0.0001, 'distance': 0.2, 'norm_distance': 10000.0}), ('ἔχω', 'χριστός', {'weight': 19, 'norm_weight': 0.0004, 'distance': 0.05263, 'norm_distance': 2500.0}), ('ἔχω', 'εὐαγγέλιον', {'weight': 4, 'norm_weight': 8e-05, 'distance': 0.25, 'norm_distance': 12500.0}), ('ἔχω', 'νομός', {'weight': 11, 'norm_weight': 0.00023, 'distance': 0.09091, 'norm_distance': 4347.82609}), ('ἔχω', 'κύριος', {'weight': 13, 'norm_weight': 0.00027, 'distance': 0.07692, 'norm_distance': 3703.7037}), ('ἔχω', 'σάρξ', {'weight': 4, 'norm_weight': 8e-05, 'distance': 0.25, 'norm_distance': 12500.0}), ('ἔχω', 'δίδωμι', {'weight': 3, 'norm_weight': 6e-05, 'distance': 0.33333, 'norm_distance': 16666.66667}), ('ἔχω', 'καρδία', {'weight': 4, 'norm_weight': 8e-05, 'distance': 0.25, 'norm_distance': 12500.0}), ('ἔχω', 'ἔθνος', {'weight': 3, 'norm_weight': 6e-05, 'distance': 0.33333, 'norm_distance': 16666.66667}), ('ἔχω', 'ἅγιος', {'weight': 3, 'norm_weight': 6e-05, 'distance': 0.33333, 'norm_distance': 16666.66667}), ('ἔχω', 'οἶδα', {'weight': 8, 'norm_weight': 0.00017, 'distance': 0.125, 'norm_distance': 5882.35294}), ('ἔχω', 'γίγνομαι', {'weight': 3, 'norm_weight': 6e-05, 'distance': 0.33333, 'norm_distance': 16666.66667}), ('ἔχω', 'θεός', {'weight': 28, 'norm_weight': 0.00059, 'distance': 0.03571, 'norm_distance': 1694.91525}), ('ἔχω', 'σῶμα', {'weight': 14, 'norm_weight': 0.00029, 'distance': 0.07143, 'norm_distance': 3448.27586}), ('οὗτος', 'χάρις', {'weight': 4, 'norm_weight': 8e-05, 'distance': 0.25, 'norm_distance': 12500.0}), ('οὗτος', 'χριστός', {'weight': 17, 'norm_weight': 0.00036, 'distance': 0.05882, 'norm_distance': 2777.77778}), ('οὗτος', 'εὐαγγέλιον', {'weight': 3, 'norm_weight': 6e-05, 'distance': 0.33333, 'norm_distance': 16666.66667}), ('οὗτος', 'νομός', {'weight': 5, 'norm_weight': 0.0001, 'distance': 0.2, 'norm_distance': 10000.0}), ('οὗτος', 'κύριος', {'weight': 14, 'norm_weight': 0.00029, 'distance': 0.07143, 'norm_distance': 3448.27586}), ('οὗτος', 'σάρξ', {'weight': 11, 'norm_weight': 0.00023, 'distance': 0.09091, 'norm_distance': 4347.82609}), ('οὗτος', 'κόσμος', {'weight': 3, 'norm_weight': 6e-05, 'distance': 0.33333, 'norm_distance': 16666.66667}), ('οὗτος', 'δίδωμι', {'weight': 3, 'norm_weight': 6e-05, 'distance': 0.33333, 'norm_distance': 16666.66667}), ('οὗτος', 'λόγος', {'weight': 9, 'norm_weight': 0.00019, 'distance': 0.11111, 'norm_distance': 5263.15789}), ('οὗτος', 'ἔθνος', {'weight': 3, 'norm_weight': 6e-05, 'distance': 0.33333, 'norm_distance': 16666.66667}), ('οὗτος', 'οἶδα', {'weight': 5, 'norm_weight': 0.0001, 'distance': 0.2, 'norm_distance': 10000.0}), ('οὗτος', 'γίγνομαι', {'weight': 8, 'norm_weight': 0.00017, 'distance': 0.125, 'norm_distance': 5882.35294}), ('οὗτος', 'θεός', {'weight': 24, 'norm_weight': 0.0005, 'distance': 0.04167, 'norm_distance': 2000.0}), ('οὗτος', 'ἄνθρωπος', {'weight': 10, 'norm_weight': 0.00021, 'distance': 0.1, 'norm_distance': 4761.90476}), ('οὗτος', 'σῶμα', {'weight': 11, 'norm_weight': 0.00023, 'distance': 0.09091, 'norm_distance': 4347.82609}), ('χάρις', 'χριστός', {'weight': 25, 'norm_weight': 0.00052, 'distance': 0.04, 'norm_distance': 1923.07692}), ('χάρις', 'εὐαγγέλιον', {'weight': 7, 'norm_weight': 0.00015, 'distance': 0.14286, 'norm_distance': 6666.66667}), ('χάρις', 'νομός', {'weight': 4, 'norm_weight': 8e-05, 'distance': 0.25, 'norm_distance': 12500.0}), ('χάρις', 'κύριος', {'weight': 25, 'norm_weight': 0.00052, 'distance': 0.04, 'norm_distance': 1923.07692}), ('χάρις', 'δίδωμι', {'weight': 13, 'norm_weight': 0.00027, 'distance': 0.07692, 'norm_distance': 3703.7037}), ('χάρις', 'καρδία', {'weight': 3, 'norm_weight': 6e-05, 'distance': 0.33333, 'norm_distance': 16666.66667}), ('χάρις', 'ἔθνος', {'weight': 6, 'norm_weight': 0.00013, 'distance': 0.16667, 'norm_distance': 7692.30769}), ('χάρις', 'ἅγιος', {'weight': 6, 'norm_weight': 0.00013, 'distance': 0.16667, 'norm_distance': 7692.30769}), ('χάρις', 'γίγνομαι', {'weight': 9, 'norm_weight': 0.00019, 'distance': 0.11111, 'norm_distance': 5263.15789}), ('χάρις', 'θεός', {'weight': 48, 'norm_weight': 0.001, 'distance': 0.02083, 'norm_distance': 1000.0}), ('χάρις', 'ἄνθρωπος', {'weight': 4, 'norm_weight': 8e-05, 'distance': 0.25, 'norm_distance': 12500.0}), ('χριστός', 'εὐαγγέλιον', {'weight': 25, 'norm_weight': 0.00052, 'distance': 0.04, 'norm_distance': 1923.07692}), ('χριστός', 'νομός', {'weight': 24, 'norm_weight': 0.0005, 'distance': 0.04167, 'norm_distance': 2000.0}), ('χριστός', 'κύριος', {'weight': 52, 'norm_weight': 0.00109, 'distance': 0.01923, 'norm_distance': 917.43119}), ('χριστός', 'σάρξ', {'weight': 21, 'norm_weight': 0.00044, 'distance': 0.04762, 'norm_distance': 2272.72727}), ('χριστός', 'κόσμος', {'weight': 6, 'norm_weight': 0.00013, 'distance': 0.16667, 'norm_distance': 7692.30769}), ('χριστός', 'δίδωμι', {'weight': 10, 'norm_weight': 0.00021, 'distance': 0.1, 'norm_distance': 4761.90476}), ('χριστός', 'λόγος', {'weight': 13, 'norm_weight': 0.00027, 'distance': 0.07692, 'norm_distance': 3703.7037}), ('χριστός', 'καρδία', {'weight': 7, 'norm_weight': 0.00015, 'distance': 0.14286, 'norm_distance': 6666.66667}), ('χριστός', 'ἔθνος', {'weight': 18, 'norm_weight': 0.00038, 'distance': 0.05556, 'norm_distance': 2631.57895}), ('χριστός', 'ἅγιος', {'weight': 20, 'norm_weight': 0.00042, 'distance': 0.05, 'norm_distance': 2380.95238}), ('χριστός', 'οἶδα', {'weight': 21, 'norm_weight': 0.00044, 'distance': 0.04762, 'norm_distance': 2272.72727}), ('χριστός', 'γίγνομαι', {'weight': 24, 'norm_weight': 0.0005, 'distance': 0.04167, 'norm_distance': 2000.0}), ('χριστός', 'θεός', {'weight': 137, 'norm_weight': 0.00286, 'distance': 0.0073, 'norm_distance': 349.65035}), ('χριστός', 'ἄνθρωπος', {'weight': 15, 'norm_weight': 0.00031, 'distance': 0.06667, 'norm_distance': 3225.80645}), ('χριστός', 'σῶμα', {'weight': 19, 'norm_weight': 0.0004, 'distance': 0.05263, 'norm_distance': 2500.0}), ('εὐαγγέλιον', 'κύριος', {'weight': 8, 'norm_weight': 0.00017, 'distance': 0.125, 'norm_distance': 5882.35294}), ('εὐαγγέλιον', 'δίδωμι', {'weight': 4, 'norm_weight': 8e-05, 'distance': 0.25, 'norm_distance': 12500.0}), ('εὐαγγέλιον', 'λόγος', {'weight': 4, 'norm_weight': 8e-05, 'distance': 0.25, 'norm_distance': 12500.0}), ('εὐαγγέλιον', 'καρδία', {'weight': 3, 'norm_weight': 6e-05, 'distance': 0.33333, 'norm_distance': 16666.66667}), ('εὐαγγέλιον', 'ἔθνος', {'weight': 8, 'norm_weight': 0.00017, 'distance': 0.125, 'norm_distance': 5882.35294}), ('εὐαγγέλιον', 'ἅγιος', {'weight': 4, 'norm_weight': 8e-05, 'distance': 0.25, 'norm_distance': 12500.0}), ('εὐαγγέλιον', 'οἶδα', {'weight': 6, 'norm_weight': 0.00013, 'distance': 0.16667, 'norm_distance': 7692.30769}), ('εὐαγγέλιον', 'γίγνομαι', {'weight': 8, 'norm_weight': 0.00017, 'distance': 0.125, 'norm_distance': 5882.35294}), ('εὐαγγέλιον', 'θεός', {'weight': 31, 'norm_weight': 0.00065, 'distance': 0.03226, 'norm_distance': 1538.46154}), ('εὐαγγέλιον', 'ἄνθρωπος', {'weight': 5, 'norm_weight': 0.0001, 'distance': 0.2, 'norm_distance': 10000.0}), ('νομός', 'σάρξ', {'weight': 18, 'norm_weight': 0.00038, 'distance': 0.05556, 'norm_distance': 2631.57895}), ('νομός', 'κόσμος', {'weight': 5, 'norm_weight': 0.0001, 'distance': 0.2, 'norm_distance': 10000.0}), ('νομός', 'ἔθνος', {'weight': 8, 'norm_weight': 0.00017, 'distance': 0.125, 'norm_distance': 5882.35294}), ('νομός', 'οἶδα', {'weight': 8, 'norm_weight': 0.00017, 'distance': 0.125, 'norm_distance': 5882.35294}), ('νομός', 'γίγνομαι', {'weight': 16, 'norm_weight': 0.00033, 'distance': 0.0625, 'norm_distance': 3030.30303}), ('νομός', 'θεός', {'weight': 33, 'norm_weight': 0.00069, 'distance': 0.0303, 'norm_distance': 1449.27536}), ('νομός', 'ἄνθρωπος', {'weight': 14, 'norm_weight': 0.00029, 'distance': 0.07143, 'norm_distance': 3448.27586}), ('κύριος', 'σάρξ', {'weight': 5, 'norm_weight': 0.0001, 'distance': 0.2, 'norm_distance': 10000.0}), ('κύριος', 'δίδωμι', {'weight': 12, 'norm_weight': 0.00025, 'distance': 0.08333, 'norm_distance': 4000.0}), ('κύριος', 'λόγος', {'weight': 10, 'norm_weight': 0.00021, 'distance': 0.1, 'norm_distance': 4761.90476}), ('κύριος', 'καρδία', {'weight': 5, 'norm_weight': 0.0001, 'distance': 0.2, 'norm_distance': 10000.0}), ('κύριος', 'ἔθνος', {'weight': 4, 'norm_weight': 8e-05, 'distance': 0.25, 'norm_distance': 12500.0}), ('κύριος', 'ἅγιος', {'weight': 14, 'norm_weight': 0.00029, 'distance': 0.07143, 'norm_distance': 3448.27586}), ('κύριος', 'οἶδα', {'weight': 14, 'norm_weight': 0.00029, 'distance': 0.07143, 'norm_distance': 3448.27586}), ('κύριος', 'γίγνομαι', {'weight': 16, 'norm_weight': 0.00033, 'distance': 0.0625, 'norm_distance': 3030.30303}), ('κύριος', 'θεός', {'weight': 69, 'norm_weight': 0.00144, 'distance': 0.01449, 'norm_distance': 694.44444}), ('κύριος', 'ἄνθρωπος', {'weight': 5, 'norm_weight': 0.0001, 'distance': 0.2, 'norm_distance': 10000.0}), ('κύριος', 'σῶμα', {'weight': 19, 'norm_weight': 0.0004, 'distance': 0.05263, 'norm_distance': 2500.0}), ('σάρξ', 'κόσμος', {'weight': 3, 'norm_weight': 6e-05, 'distance': 0.33333, 'norm_distance': 16666.66667}), ('σάρξ', 'ἔθνος', {'weight': 4, 'norm_weight': 8e-05, 'distance': 0.25, 'norm_distance': 12500.0}), ('σάρξ', 'οἶδα', {'weight': 5, 'norm_weight': 0.0001, 'distance': 0.2, 'norm_distance': 10000.0}), ('σάρξ', 'θεός', {'weight': 30, 'norm_weight': 0.00063, 'distance': 0.03333, 'norm_distance': 1587.30159}), ('σάρξ', 'ἄνθρωπος', {'weight': 5, 'norm_weight': 0.0001, 'distance': 0.2, 'norm_distance': 10000.0}), ('σάρξ', 'σῶμα', {'weight': 4, 'norm_weight': 8e-05, 'distance': 0.25, 'norm_distance': 12500.0}), ('κόσμος', 'οἶδα', {'weight': 4, 'norm_weight': 8e-05, 'distance': 0.25, 'norm_distance': 12500.0}), ('κόσμος', 'γίγνομαι', {'weight': 7, 'norm_weight': 0.00015, 'distance': 0.14286, 'norm_distance': 6666.66667}), ('κόσμος', 'θεός', {'weight': 27, 'norm_weight': 0.00056, 'distance': 0.03704, 'norm_distance': 1785.71429}), ('κόσμος', 'ἄνθρωπος', {'weight': 3, 'norm_weight': 6e-05, 'distance': 0.33333, 'norm_distance': 16666.66667}), ('δίδωμι', 'λόγος', {'weight': 6, 'norm_weight': 0.00013, 'distance': 0.16667, 'norm_distance': 7692.30769}), ('δίδωμι', 'καρδία', {'weight': 3, 'norm_weight': 6e-05, 'distance': 0.33333, 'norm_distance': 16666.66667}), ('δίδωμι', 'ἔθνος', {'weight': 6, 'norm_weight': 0.00013, 'distance': 0.16667, 'norm_distance': 7692.30769}), ('δίδωμι', 'ἅγιος', {'weight': 3, 'norm_weight': 6e-05, 'distance': 0.33333, 'norm_distance': 16666.66667}), ('δίδωμι', 'θεός', {'weight': 28, 'norm_weight': 0.00059, 'distance': 0.03571, 'norm_distance': 1694.91525}), ('δίδωμι', 'ἄνθρωπος', {'weight': 3, 'norm_weight': 6e-05, 'distance': 0.33333, 'norm_distance': 16666.66667}), ('δίδωμι', 'σῶμα', {'weight': 5, 'norm_weight': 0.0001, 'distance': 0.2, 'norm_distance': 10000.0}), ('λόγος', 'ἅγιος', {'weight': 4, 'norm_weight': 8e-05, 'distance': 0.25, 'norm_distance': 12500.0}), ('λόγος', 'οἶδα', {'weight': 5, 'norm_weight': 0.0001, 'distance': 0.2, 'norm_distance': 10000.0}), ('λόγος', 'γίγνομαι', {'weight': 11, 'norm_weight': 0.00023, 'distance': 0.09091, 'norm_distance': 4347.82609}), ('λόγος', 'θεός', {'weight': 32, 'norm_weight': 0.00067, 'distance': 0.03125, 'norm_distance': 1492.53731}), ('λόγος', 'ἄνθρωπος', {'weight': 8, 'norm_weight': 0.00017, 'distance': 0.125, 'norm_distance': 5882.35294}), ('καρδία', 'ἅγιος', {'weight': 4, 'norm_weight': 8e-05, 'distance': 0.25, 'norm_distance': 12500.0}), ('καρδία', 'θεός', {'weight': 25, 'norm_weight': 0.00052, 'distance': 0.04, 'norm_distance': 1923.07692}), ('καρδία', 'ἄνθρωπος', {'weight': 5, 'norm_weight': 0.0001, 'distance': 0.2, 'norm_distance': 10000.0}), ('ἔθνος', 'ἅγιος', {'weight': 3, 'norm_weight': 6e-05, 'distance': 0.33333, 'norm_distance': 16666.66667}), ('ἔθνος', 'οἶδα', {'weight': 4, 'norm_weight': 8e-05, 'distance': 0.25, 'norm_distance': 12500.0}), ('ἔθνος', 'γίγνομαι', {'weight': 10, 'norm_weight': 0.00021, 'distance': 0.1, 'norm_distance': 4761.90476}), ('ἔθνος', 'θεός', {'weight': 26, 'norm_weight': 0.00054, 'distance': 0.03846, 'norm_distance': 1851.85185}), ('ἔθνος', 'ἄνθρωπος', {'weight': 4, 'norm_weight': 8e-05, 'distance': 0.25, 'norm_distance': 12500.0}), ('ἅγιος', 'οἶδα', {'weight': 8, 'norm_weight': 0.00017, 'distance': 0.125, 'norm_distance': 5882.35294}), ('ἅγιος', 'γίγνομαι', {'weight': 9, 'norm_weight': 0.00019, 'distance': 0.11111, 'norm_distance': 5263.15789}), ('ἅγιος', 'θεός', {'weight': 33, 'norm_weight': 0.00069, 'distance': 0.0303, 'norm_distance': 1449.27536}), ('ἅγιος', 'σῶμα', {'weight': 3, 'norm_weight': 6e-05, 'distance': 0.33333, 'norm_distance': 16666.66667}), ('οἶδα', 'γίγνομαι', {'weight': 11, 'norm_weight': 0.00023, 'distance': 0.09091, 'norm_distance': 4347.82609}), ('οἶδα', 'θεός', {'weight': 47, 'norm_weight': 0.00098, 'distance': 0.02128, 'norm_distance': 1020.40816}), ('οἶδα', 'ἄνθρωπος', {'weight': 16, 'norm_weight': 0.00033, 'distance': 0.0625, 'norm_distance': 3030.30303}), ('οἶδα', 'σῶμα', {'weight': 20, 'norm_weight': 0.00042, 'distance': 0.05, 'norm_distance': 2380.95238}), ('γίγνομαι', 'θεός', {'weight': 46, 'norm_weight': 0.00096, 'distance': 0.02174, 'norm_distance': 1041.66667}), ('γίγνομαι', 'ἄνθρωπος', {'weight': 10, 'norm_weight': 0.00021, 'distance': 0.1, 'norm_distance': 4761.90476}), ('γίγνομαι', 'σῶμα', {'weight': 3, 'norm_weight': 6e-05, 'distance': 0.33333, 'norm_distance': 16666.66667}), ('θεός', 'ἄνθρωπος', {'weight': 40, 'norm_weight': 0.00084, 'distance': 0.025, 'norm_distance': 1190.47619}), ('θεός', 'σῶμα', {'weight': 20, 'norm_weight': 0.00042, 'distance': 0.05, 'norm_distance': 2380.95238}), ('ἄνθρωπος', 'σῶμα', {'weight': 9, 'norm_weight': 0.00019, 'distance': 0.11111, 'norm_distance': 5263.15789})])"
      ]
     },
     "execution_count": 38,
     "metadata": {},
     "output_type": "execute_result"
    }
   ],
   "source": [
    "ego_network_sentences = construct_ego_network(network_sentences, \"χριστός\", 30, reduced=False)\n",
    "ego_network_sentences.edges.data()"
   ]
  },
  {
   "cell_type": "code",
   "execution_count": 39,
   "metadata": {},
   "outputs": [
    {
     "name": "stdout",
     "output_type": "stream",
     "text": [
      "['Χριστός', 'Ἰησοῦς', 'κύριος', 'εἰμί', 'θεός', 'χάρις', 'πατήρ', 'νομός', 'πνεῦμα', 'ἰησοῦ.', 'εἰρήνη', 'ἔργον', 'αὐτός', 'οὗτος', 'δικαιοσύνη', 'πᾶς', 'οἶδα', 'υἱός', 'δύναμις', 'θέλημα', 'ἔχω', 'ἄνθρωπος', 'δίδωμι', 'σῶμα', 'εὐχαριστέω', 'γιγνώσκω', 'εἷς', 'ἐλεύθερος', 'εὐαγγέλιον', 'σάρξ', 'χριστός']\n",
      "['δόξα', 'ἀδελφός', 'πνεῦμα', 'υἱός', 'πίστις', 'ἐγείρω', 'πολύς', 'πατήρ', 'δύναμις', 'πᾶς', 'δικαιοσύνη', 'εἰμί', 'ἔχω', 'οὗτος', 'χάρις', 'χριστός', 'εὐαγγέλιον', 'νομός', 'κύριος', 'σάρξ', 'κόσμος', 'δίδωμι', 'λόγος', 'καρδία', 'ἔθνος', 'ἅγιος', 'οἶδα', 'γίγνομαι', 'θεός', 'ἄνθρωπος', 'σῶμα']\n"
     ]
    }
   ],
   "source": [
    "print(list(ego_network_bigrams.nodes())) \n",
    "print(list(ego_network_sentences.nodes()))"
   ]
  },
  {
   "cell_type": "code",
   "execution_count": 40,
   "metadata": {},
   "outputs": [
    {
     "data": {
      "text/plain": [
       "{'δίδωμι',\n",
       " 'δικαιοσύνη',\n",
       " 'δύναμις',\n",
       " 'εἰμί',\n",
       " 'εὐαγγέλιον',\n",
       " 'θεός',\n",
       " 'κύριος',\n",
       " 'νομός',\n",
       " 'οἶδα',\n",
       " 'οὗτος',\n",
       " 'πατήρ',\n",
       " 'πνεῦμα',\n",
       " 'πᾶς',\n",
       " 'σάρξ',\n",
       " 'σῶμα',\n",
       " 'υἱός',\n",
       " 'χάρις',\n",
       " 'χριστός',\n",
       " 'ἄνθρωπος',\n",
       " 'ἔχω'}"
      ]
     },
     "execution_count": 40,
     "metadata": {},
     "output_type": "execute_result"
    }
   ],
   "source": [
    "# overlap between the two networks\n",
    "set(ego_network_bigrams.nodes()) &  set(ego_network_sentences.nodes())"
   ]
  },
  {
   "cell_type": "code",
   "execution_count": 41,
   "metadata": {},
   "outputs": [
    {
     "data": {
      "text/plain": [
       "[['Χριστός', 'Ἰησοῦς', 83, 0.01205],\n",
       " ['Ἰησοῦς', 'κύριος', 55, 0.01818],\n",
       " ['εἰμί', 'θεός', 20, 0.05],\n",
       " ['θεός', 'χάρις', 20, 0.05],\n",
       " ['θεός', 'πατήρ', 18, 0.05556],\n",
       " ['εἰμί', 'νομός', 15, 0.06667],\n",
       " ['θεός', 'πνεῦμα', 15, 0.06667],\n",
       " ['Χριστός', 'ἰησοῦ.', 14, 0.07143],\n",
       " ['θεός', 'εἰρήνη', 13, 0.07692],\n",
       " ['νομός', 'ἔργον', 12, 0.08333],\n",
       " ['Χριστός', 'θεός', 11, 0.09091],\n",
       " ['κύριος', 'πατήρ', 11, 0.09091],\n",
       " ['εἰμί', 'αὐτός', 11, 0.09091],\n",
       " ['εἰμί', 'οὗτος', 11, 0.09091],\n",
       " ['Χριστός', 'εἰμί', 10, 0.1],\n",
       " ['εἰμί', 'πᾶς', 10, 0.1],\n",
       " ['θεός', 'δικαιοσύνη', 10, 0.1],\n",
       " ['θεός', 'πᾶς', 10, 0.1],\n",
       " ['θεός', 'οἶδα', 10, 0.1],\n",
       " ['εἰμί', 'σῶμα', 9, 0.11111],\n",
       " ['θεός', 'υἱός', 9, 0.11111],\n",
       " ['θεός', 'δύναμις', 9, 0.11111],\n",
       " ['θεός', 'θέλημα', 9, 0.11111],\n",
       " ['θεός', 'ἔχω', 9, 0.11111],\n",
       " ['θεός', 'δίδωμι', 9, 0.11111],\n",
       " ['πᾶς', 'ἄνθρωπος', 9, 0.11111],\n",
       " ['κύριος', 'εἰμί', 8, 0.125],\n",
       " ['κύριος', 'χάρις', 8, 0.125],\n",
       " ['εἰμί', 'πνεῦμα', 8, 0.125],\n",
       " ['θεός', 'εὐχαριστέω', 8, 0.125],\n",
       " ['θεός', 'γιγνώσκω', 8, 0.125],\n",
       " ['θεός', 'νομός', 8, 0.125],\n",
       " ['οὗτος', 'σῶμα', 8, 0.125],\n",
       " ['εἰμί', 'ἄνθρωπος', 7, 0.14286],\n",
       " ['εἰμί', 'εἷς', 7, 0.14286],\n",
       " ['εἰμί', 'ἐλεύθερος', 7, 0.14286],\n",
       " ['χάρις', 'εἰρήνη', 7, 0.14286],\n",
       " ['νομός', 'δικαιοσύνη', 7, 0.14286],\n",
       " ['κύριος', 'πᾶς', 6, 0.16667],\n",
       " ['εἰμί', 'σάρξ', 6, 0.16667],\n",
       " ['θεός', 'εὐαγγέλιον', 6, 0.16667],\n",
       " ['πνεῦμα', 'δύναμις', 6, 0.16667],\n",
       " ['πνεῦμα', 'σάρξ', 6, 0.16667],\n",
       " ['πνεῦμα', 'αὐτός', 6, 0.16667],\n",
       " ['πνεῦμα', 'εἷς', 6, 0.16667],\n",
       " ['οἶδα', 'σῶμα', 6, 0.16667],\n",
       " ['χριστός', 'εὐαγγέλιον', 6, 0.16667],\n",
       " ['Χριστός', 'κύριος', 5, 0.2],\n",
       " ['Χριστός', 'πᾶς', 5, 0.2],\n",
       " ['Χριστός', 'δίδωμι', 5, 0.2],\n",
       " ['Χριστός', 'πνεῦμα', 5, 0.2],\n",
       " ['Χριστός', 'ἔχω', 5, 0.2],\n",
       " ['Ἰησοῦς', 'θεός', 5, 0.2],\n",
       " ['εἰμί', 'πατήρ', 5, 0.2],\n",
       " ['εἰμί', 'υἱός', 5, 0.2],\n",
       " ['χάρις', 'δίδωμι', 5, 0.2],\n",
       " ['αὐτός', 'οὗτος', 5, 0.2],\n",
       " ['πᾶς', 'ἔχω', 5, 0.2],\n",
       " ['κύριος', 'αὐτός', 4, 0.25],\n",
       " ['κύριος', 'δίδωμι', 4, 0.25],\n",
       " ['κύριος', 'ἄνθρωπος', 4, 0.25],\n",
       " ['εἰμί', 'ἔχω', 4, 0.25],\n",
       " ['χριστός', 'εἰμί', 4, 0.25],\n",
       " ['θεός', 'εἷς', 4, 0.25],\n",
       " ['θεός', 'ἄνθρωπος', 4, 0.25],\n",
       " ['θεός', 'αὐτός', 4, 0.25],\n",
       " ['αὐτός', 'πᾶς', 4, 0.25],\n",
       " ['πᾶς', 'εἷς', 4, 0.25],\n",
       " ['σῶμα', 'εἷς', 4, 0.25],\n",
       " ['Χριστός', 'σῶμα', 3, 0.33333],\n",
       " ['Χριστός', 'οὗτος', 3, 0.33333],\n",
       " ['Ἰησοῦς', 'εὐχαριστέω', 3, 0.33333],\n",
       " ['Ἰησοῦς', 'πᾶς', 3, 0.33333],\n",
       " ['Ἰησοῦς', 'πνεῦμα', 3, 0.33333],\n",
       " ['Ἰησοῦς', 'σῶμα', 3, 0.33333],\n",
       " ['χριστός', 'Ἰησοῦς', 3, 0.33333],\n",
       " ['κύριος', 'θεός', 3, 0.33333],\n",
       " ['κύριος', 'ἔχω', 3, 0.33333],\n",
       " ['κύριος', 'ἔργον', 3, 0.33333],\n",
       " ['κύριος', 'πνεῦμα', 3, 0.33333],\n",
       " ['εἰμί', 'χάρις', 3, 0.33333],\n",
       " ['θεός', 'σάρξ', 3, 0.33333],\n",
       " ['χάρις', 'πᾶς', 3, 0.33333],\n",
       " ['νομός', 'οἶδα', 3, 0.33333],\n",
       " ['πνεῦμα', 'ἔχω', 3, 0.33333],\n",
       " ['πνεῦμα', 'πᾶς', 3, 0.33333],\n",
       " ['αὐτός', 'οἶδα', 3, 0.33333],\n",
       " ['οὗτος', 'σάρξ', 3, 0.33333],\n",
       " ['χριστός', 'σῶμα', 3, 0.33333],\n",
       " ['Χριστός', 'νομός', 2, 0.5],\n",
       " ['Χριστός', 'δικαιοσύνη', 2, 0.5],\n",
       " ['Χριστός', 'σάρξ', 2, 0.5],\n",
       " ['Χριστός', 'πατήρ', 2, 0.5],\n",
       " ['Χριστός', 'γιγνώσκω', 2, 0.5],\n",
       " ['Χριστός', 'χάρις', 2, 0.5],\n",
       " ['Ἰησοῦς', 'ἄνθρωπος', 2, 0.5],\n",
       " ['Ἰησοῦς', 'οἶδα', 2, 0.5],\n",
       " ['Ἰησοῦς', 'σάρξ', 2, 0.5],\n",
       " ['κύριος', 'γιγνώσκω', 2, 0.5],\n",
       " ['κύριος', 'οἶδα', 2, 0.5],\n",
       " ['εἰμί', 'οἶδα', 2, 0.5],\n",
       " ['εἰμί', 'εἰρήνη', 2, 0.5],\n",
       " ['θεός', 'οὗτος', 2, 0.5],\n",
       " ['θεός', 'σῶμα', 2, 0.5],\n",
       " ['χριστός', 'θεός', 2, 0.5],\n",
       " ['χάρις', 'νομός', 2, 0.5],\n",
       " ['χάρις', 'οὗτος', 2, 0.5],\n",
       " ['χάρις', 'ἔργον', 2, 0.5],\n",
       " ['χάρις', 'γιγνώσκω', 2, 0.5],\n",
       " ['πατήρ', 'πᾶς', 2, 0.5],\n",
       " ['νομός', 'ἔχω', 2, 0.5],\n",
       " ['νομός', 'σάρξ', 2, 0.5],\n",
       " ['νομός', 'γιγνώσκω', 2, 0.5],\n",
       " ['νομός', 'πνεῦμα', 2, 0.5],\n",
       " ['νομός', 'αὐτός', 2, 0.5],\n",
       " ['πνεῦμα', 'ἄνθρωπος', 2, 0.5],\n",
       " ['πνεῦμα', 'δίδωμι', 2, 0.5],\n",
       " ['ἰησοῦ.', 'οὗτος', 2, 0.5],\n",
       " ['ἔργον', 'ἄνθρωπος', 2, 0.5],\n",
       " ['ἔργον', 'δύναμις', 2, 0.5],\n",
       " ['αὐτός', 'υἱός', 2, 0.5],\n",
       " ['αὐτός', 'σάρξ', 2, 0.5],\n",
       " ['οὗτος', 'ἄνθρωπος', 2, 0.5],\n",
       " ['οὗτος', 'ἔχω', 2, 0.5],\n",
       " ['οὗτος', 'πᾶς', 2, 0.5],\n",
       " ['οὗτος', 'δίδωμι', 2, 0.5],\n",
       " ['οὗτος', 'οἶδα', 2, 0.5],\n",
       " ['οὗτος', 'εὐχαριστέω', 2, 0.5],\n",
       " ['οὗτος', 'θέλημα', 2, 0.5],\n",
       " ['δικαιοσύνη', 'πᾶς', 2, 0.5],\n",
       " ['πᾶς', 'ἐλεύθερος', 2, 0.5],\n",
       " ['πᾶς', 'δύναμις', 2, 0.5],\n",
       " ['πᾶς', 'σάρξ', 2, 0.5],\n",
       " ['οἶδα', 'ἄνθρωπος', 2, 0.5],\n",
       " ['ἄνθρωπος', 'σῶμα', 2, 0.5],\n",
       " ['δίδωμι', 'γιγνώσκω', 2, 0.5],\n",
       " ['γιγνώσκω', 'σάρξ', 2, 0.5]]"
      ]
     },
     "execution_count": 41,
     "metadata": {},
     "output_type": "execute_result"
    }
   ],
   "source": [
    "extract_ego_network_data(ego_network_bigrams, \"χριστός\")"
   ]
  },
  {
   "cell_type": "code",
   "execution_count": 42,
   "metadata": {},
   "outputs": [],
   "source": [
    "def draw_2d_network(networkx_object):\n",
    "    '''take networkX object and draw it'''\n",
    "    pos_2d=nx.kamada_kawai_layout(networkx_object, weight=\"weight_norm\")\n",
    "    nx.set_node_attributes(networkx_object, pos_2d, \"pos_2d\")\n",
    "    dmin=1\n",
    "    ncenter=0\n",
    "    Edges = list(networkx_object.edges)\n",
    "    L=len(Edges)\n",
    "    labels= list(networkx_object.nodes)\n",
    "    N = len(labels)\n",
    "    distance_list = [float(distance[2]) for distance in list(networkx_object.edges.data(\"distance\"))]\n",
    "    weight_list = [int(float(weight[2])) for weight in list(networkx_object.edges.data(\"weight\"))]\n",
    "    for n in pos_2d:\n",
    "        x,y=pos_2d[n]\n",
    "        d=(x-0.5)**2+(y-0.5)**2\n",
    "        if d<dmin:\n",
    "            ncenter=n\n",
    "            dmin=d\n",
    "    p =nx.single_source_shortest_path_length(networkx_object, ncenter)\n",
    "    adjc= [len(one_adjc) for one_adjc in list((nx.generate_adjlist(networkx_object)))]\n",
    "    middle_node_trace = go.Scatter(\n",
    "        x=[],\n",
    "        y=[],\n",
    "        opacity=0,\n",
    "        text=weight_list,\n",
    "        mode='markers',\n",
    "        hoverinfo='text',\n",
    "        marker=dict(\n",
    "            opacity=0\n",
    "            )\n",
    "        )\n",
    "    for Edge in Edges:\n",
    "        x0,y0 = networkx_object.nodes[Edge[0]][\"pos_2d\"]\n",
    "        x1,y1 = networkx_object.nodes[Edge[1]][\"pos_2d\"]\n",
    "        middle_node_trace['x'] += tuple([(x0+x1)/2])\n",
    "        middle_node_trace['y'] += tuple([(y0+y1)/2])\n",
    "    edge_trace1 = go.Scatter(\n",
    "        x=[], y=[],\n",
    "        #hoverinfo='none',\n",
    "        mode='lines',\n",
    "        line=dict(width=1,color=\"#000000\"),\n",
    "        )\n",
    "    edge_trace2 = go.Scatter(\n",
    "        x=[],y=[],\n",
    "        #hoverinfo='none',\n",
    "        mode='lines',\n",
    "        line=dict(width=0.7,color=\"#404040\"),\n",
    "        )\n",
    "    edge_trace3 = go.Scatter(\n",
    "        x=[], y=[],\n",
    "        #hoverinfo='none',\n",
    "        mode='lines',\n",
    "        line=dict(width=0.5,color=\"#C0C0C0\"),\n",
    "        )\n",
    "    best_5percent_norm_weight = sorted(list(networkx_object.edges.data(\"norm_weight\")), key=lambda x: x[2], reverse=True)[int((len(networkx_object.edges.data(\"norm_weight\")) / 100) * 5)][2]\n",
    "    best_20percent_norm_weight = sorted(list(networkx_object.edges.data(\"norm_weight\")), key=lambda x: x[2], reverse=True)[int((len(networkx_object.edges.data(\"norm_weight\")) / 100) * 20)][2]\n",
    "    for edge in networkx_object.edges.data():\n",
    "        if edge[2][\"norm_weight\"] >= best_5percent_norm_weight:\n",
    "            x0, y0 = networkx_object.nodes[edge[0]]['pos_2d']\n",
    "            x1, y1 = networkx_object.nodes[edge[1]]['pos_2d']\n",
    "            edge_trace1['x'] += tuple([x0, x1, None])\n",
    "            edge_trace1['y'] += tuple([y0, y1, None])\n",
    "        else:\n",
    "            if edge[2][\"norm_weight\"] >= best_20percent_norm_weight:\n",
    "                x0, y0 = networkx_object.nodes[edge[0]]['pos_2d']\n",
    "                x1, y1 = networkx_object.nodes[edge[1]]['pos_2d']\n",
    "                edge_trace2['x'] += tuple([x0, x1, None])\n",
    "                edge_trace2['y'] += tuple([y0, y1, None])\n",
    "            else:\n",
    "                x0, y0 = networkx_object.nodes[edge[0]]['pos_2d']\n",
    "                x1, y1 = networkx_object.nodes[edge[1]]['pos_2d']\n",
    "                edge_trace3['x'] += tuple([x0, x1, None])\n",
    "                edge_trace3['y'] += tuple([y0, y1, None])\n",
    "\n",
    "    node_trace = go.Scatter(\n",
    "        x=[],\n",
    "        y=[],\n",
    "        #name=[],\n",
    "        text=[],\n",
    "        textposition='bottom center',\n",
    "        mode='markers+text',\n",
    "        hovertext=adjc,\n",
    "        hoverinfo='text',\n",
    "        marker=dict(\n",
    "            ###showscale=True,\n",
    "            showscale=False, ### change to see scale\n",
    "            colorscale='Greys',\n",
    "            reversescale=True,\n",
    "            color=[],\n",
    "            size=7,\n",
    "            colorbar=dict(\n",
    "                thickness=15,\n",
    "                title='degree',\n",
    "                xanchor='left',\n",
    "                titleside='right'\n",
    "                ),\n",
    "            line=dict(width=1)\n",
    "            )\n",
    "        )\n",
    "\n",
    "    for node in networkx_object.nodes():\n",
    "        x, y = networkx_object.nodes[node]['pos_2d']\n",
    "        node_trace['x'] += tuple([x])\n",
    "        node_trace['y'] += tuple([y])\n",
    "        node_trace[\"text\"] += tuple([node])\n",
    "        ### original version: node_trace[\"text\"] += tuple([node])\n",
    "\n",
    "    ### Color Node Points\n",
    "    for node, adjacencies in enumerate(nx.generate_adjlist(networkx_object)):\n",
    "        node_trace['marker']['color'] += tuple([len(adjacencies)])\n",
    "        ###node_info = ' of connections: '+str(len(adjacencies))\n",
    "        ###node_trace['something'].append(node_info)\n",
    "\n",
    "    fig = go.Figure(data=[edge_trace1, edge_trace2, edge_trace3, node_trace, middle_node_trace],\n",
    "        layout=go.Layout(\n",
    "            plot_bgcolor='rgba(0,0,0,0)',\n",
    "            autosize=False,\n",
    "            width=500,\n",
    "            height=500,\n",
    "            #title=file_name,\n",
    "            titlefont=dict(size=16),\n",
    "            showlegend=False,\n",
    "            hovermode='closest',\n",
    "            margin=dict(b=10,l=10,r=10, t=10),\n",
    "            xaxis=dict(showgrid=False, zeroline=False, showticklabels=False),\n",
    "            yaxis=dict(showgrid=False, zeroline=False, showticklabels=False)\n",
    "            ))\n",
    "    return fig\n",
    "\n",
    "def draw_3d_network(networkx_object):\n",
    "    '''take networkX object and draw it in 3D'''\n",
    "    Edges = list(networkx_object.edges)\n",
    "    L=len(Edges)\n",
    "    distance_list = [distance[2] for distance in list(networkx_object.edges.data(\"distance\"))]\n",
    "    weight_list = [int(float(weight[2])) for weight in list(networkx_object.edges.data(\"weight\"))]\n",
    "    labels= list(networkx_object.nodes)\n",
    "    N = len(labels)\n",
    "    adjc= [len(one_adjc) for one_adjc in list((nx.generate_adjlist(networkx_object)))] ### instead of \"group\"\n",
    "    pos_3d=nx.spring_layout(networkx_object, weight=\"weight\", dim=3)\n",
    "    nx.set_node_attributes(networkx_object, pos_3d, \"pos_3d\")\n",
    "    layt = [list(array) for array in pos_3d.values()]\n",
    "    N= len(networkx_object.nodes)\n",
    "    Xn=[layt[k][0] for k in range(N)]# x-coordinates of nodes\n",
    "    Yn=[layt[k][1] for k in range(N)]# y-coordinates\n",
    "    Zn=[layt[k][2] for k in range(N)]# z-coordinates\n",
    "    Xe=[]\n",
    "    Ye=[]\n",
    "    Ze=[]\n",
    "    for Edge in Edges:\n",
    "        Xe+=[networkx_object.nodes[Edge[0]][\"pos_3d\"][0],networkx_object.nodes[Edge[1]][\"pos_3d\"][0], None]# x-coordinates of edge ends\n",
    "        Ye+=[networkx_object.nodes[Edge[0]][\"pos_3d\"][1],networkx_object.nodes[Edge[1]][\"pos_3d\"][1], None]\n",
    "        Ze+=[networkx_object.nodes[Edge[0]][\"pos_3d\"][2],networkx_object.nodes[Edge[1]][\"pos_3d\"][2], None]\n",
    "\n",
    "        ### to get the hover into the middle of the line\n",
    "        ### we have to produce a node in the middle of the line\n",
    "        ### based on https://stackoverflow.com/questions/46037897/line-hover-text-in-plotly\n",
    "\n",
    "    middle_node_trace = go.Scatter3d(\n",
    "            x=[],\n",
    "            y=[],\n",
    "            z=[],\n",
    "            opacity=0,\n",
    "            text=weight_list,\n",
    "            mode='markers',\n",
    "            hoverinfo='text',\n",
    "            marker=dict(\n",
    "                opacity=0\n",
    "            )\n",
    "        )\n",
    "\n",
    "    for Edge in Edges:\n",
    "        x0,y0,z0 = networkx_object.nodes[Edge[0]][\"pos_3d\"]\n",
    "        x1,y1,z1 = networkx_object.nodes[Edge[1]][\"pos_3d\"]\n",
    "        ###trace3['x'] += [x0, x1, None]\n",
    "        ###trace3['y'] += [y0, y1, None]\n",
    "        ###trace3['z'] += [z0, z1, None]\n",
    "        ###trace3_list.append(trace3)\n",
    "        middle_node_trace['x'] += tuple([(x0+x1)/2])\n",
    "        middle_node_trace['y'] += tuple([(y0+y1)/2])#.append((y0+y1)/2)\n",
    "        middle_node_trace['z'] += tuple([(z0+z1)/2])#.append((z0+z1)/2)\n",
    "        \n",
    "    ### edge trace\n",
    "    trace1=go.Scatter3d(x=Xe,\n",
    "                       y=Ye,\n",
    "                       z=Ze,\n",
    "                       mode='lines',\n",
    "                       line=dict(color='rgb(125,125,125)', width=1),\n",
    "                       text=distance_list,\n",
    "                       hoverinfo='text',\n",
    "                       textposition=\"top right\"\n",
    "                       )\n",
    "    ### node trace\n",
    "    trace2=go.Scatter3d(x=Xn,\n",
    "                       y=Yn,\n",
    "                       z=Zn,\n",
    "                       mode='markers+text',\n",
    "                       ###name=labels,\n",
    "                       marker=dict(symbol='circle',\n",
    "                                     size=6,\n",
    "                                     color=adjc,\n",
    "                                     colorscale='Earth',\n",
    "                                     reversescale=True,\n",
    "                                     line=dict(color='rgb(50,50,50)', width=0.5)\n",
    "                                     ),\n",
    "                       text=[],\n",
    "                       #textposition='bottom center',\n",
    "                       #hovertext=adjc,\n",
    "                       #hoverinfo='text'\n",
    "                       )\n",
    "    for node in networkx_object.nodes():\n",
    "        trace2[\"text\"] += tuple([node])\n",
    "    \n",
    "    axis=dict(showbackground=False,\n",
    "                  showline=False,\n",
    "                  zeroline=False,\n",
    "                  showgrid=False,\n",
    "                  showticklabels=False,\n",
    "                  title=''\n",
    "                  )\n",
    "    layout = go.Layout(\n",
    "                plot_bgcolor='rgba(0,0,0,0)',\n",
    "                 title=\"\",\n",
    "                 width=900,\n",
    "                 height=700,\n",
    "                 showlegend=False,\n",
    "                 scene=dict(\n",
    "                     xaxis=dict(axis),\n",
    "                     yaxis=dict(axis),\n",
    "                     zaxis=dict(axis),\n",
    "                ),\n",
    "             margin=dict(\n",
    "                t=100\n",
    "            ),\n",
    "            hovermode='closest',\n",
    "            annotations=[\n",
    "                   dict(\n",
    "                   showarrow=False,\n",
    "                    text=\"\",\n",
    "                    xref='paper',\n",
    "                    yref='paper',\n",
    "                    x=0,\n",
    "                    y=0.1,\n",
    "                    xanchor='left',\n",
    "                    yanchor='bottom',\n",
    "                    font=dict(\n",
    "                    size=14\n",
    "                    )\n",
    "                    )\n",
    "                ],    )\n",
    "    data=[trace1, trace2, middle_node_trace]\n",
    "    fig=go.Figure(data=data, layout=layout)\n",
    "    return fig"
   ]
  },
  {
   "cell_type": "code",
   "execution_count": 43,
   "metadata": {},
   "outputs": [
    {
     "data": {
      "text/plain": [
       "EdgeDataView([('Χριστός', 'Ἰησοῦς', {'weight': 83, 'norm_weight': 0.0076, 'distance': 0.01205, 'norm_distance': 131.57895}), ('Χριστός', 'θεός', {'weight': 11, 'norm_weight': 0.00101, 'distance': 0.09091, 'norm_distance': 990.09901}), ('Χριστός', 'εἰμί', {'weight': 10, 'norm_weight': 0.00092, 'distance': 0.1, 'norm_distance': 1086.95652}), ('Χριστός', 'κύριος', {'weight': 5, 'norm_weight': 0.00046, 'distance': 0.2, 'norm_distance': 2173.91304}), ('Χριστός', 'πᾶς', {'weight': 5, 'norm_weight': 0.00046, 'distance': 0.2, 'norm_distance': 2173.91304}), ('Χριστός', 'δίδωμι', {'weight': 5, 'norm_weight': 0.00046, 'distance': 0.2, 'norm_distance': 2173.91304}), ('Χριστός', 'πνεῦμα', {'weight': 5, 'norm_weight': 0.00046, 'distance': 0.2, 'norm_distance': 2173.91304}), ('Χριστός', 'ἔχω', {'weight': 5, 'norm_weight': 0.00046, 'distance': 0.2, 'norm_distance': 2173.91304}), ('Χριστός', 'πίστις', {'weight': 5, 'norm_weight': 0.00046, 'distance': 0.2, 'norm_distance': 2173.91304}), ('Χριστός', 'οὗτος', {'weight': 3, 'norm_weight': 0.00027, 'distance': 0.33333, 'norm_distance': 3703.7037}), ('Χριστός', 'δόξα', {'weight': 3, 'norm_weight': 0.00027, 'distance': 0.33333, 'norm_distance': 3703.7037}), ('Χριστός', 'νομός', {'weight': 2, 'norm_weight': 0.00018, 'distance': 0.5, 'norm_distance': 5555.55556}), ('Χριστός', 'δικαιοσύνη', {'weight': 2, 'norm_weight': 0.00018, 'distance': 0.5, 'norm_distance': 5555.55556}), ('Χριστός', 'πατήρ', {'weight': 2, 'norm_weight': 0.00018, 'distance': 0.5, 'norm_distance': 5555.55556}), ('Χριστός', 'γιγνώσκω', {'weight': 2, 'norm_weight': 0.00018, 'distance': 0.5, 'norm_distance': 5555.55556}), ('Χριστός', 'χάρις', {'weight': 2, 'norm_weight': 0.00018, 'distance': 0.5, 'norm_distance': 5555.55556}), ('Χριστός', 'ἅγιος', {'weight': 2, 'norm_weight': 0.00018, 'distance': 0.5, 'norm_distance': 5555.55556}), ('Ἰησοῦς', 'κύριος', {'weight': 55, 'norm_weight': 0.00504, 'distance': 0.01818, 'norm_distance': 198.4127}), ('Ἰησοῦς', 'θεός', {'weight': 5, 'norm_weight': 0.00046, 'distance': 0.2, 'norm_distance': 2173.91304}), ('Ἰησοῦς', 'εὐχαριστέω', {'weight': 3, 'norm_weight': 0.00027, 'distance': 0.33333, 'norm_distance': 3703.7037}), ('Ἰησοῦς', 'πᾶς', {'weight': 3, 'norm_weight': 0.00027, 'distance': 0.33333, 'norm_distance': 3703.7037}), ('Ἰησοῦς', 'πνεῦμα', {'weight': 3, 'norm_weight': 0.00027, 'distance': 0.33333, 'norm_distance': 3703.7037}), ('Ἰησοῦς', 'πίστις', {'weight': 2, 'norm_weight': 0.00018, 'distance': 0.5, 'norm_distance': 5555.55556}), ('Ἰησοῦς', 'οἶδα', {'weight': 2, 'norm_weight': 0.00018, 'distance': 0.5, 'norm_distance': 5555.55556}), ('κύριος', 'πατήρ', {'weight': 11, 'norm_weight': 0.00101, 'distance': 0.09091, 'norm_distance': 990.09901}), ('κύριος', 'εἰμί', {'weight': 8, 'norm_weight': 0.00073, 'distance': 0.125, 'norm_distance': 1369.86301}), ('κύριος', 'χάρις', {'weight': 8, 'norm_weight': 0.00073, 'distance': 0.125, 'norm_distance': 1369.86301}), ('κύριος', 'πᾶς', {'weight': 6, 'norm_weight': 0.00055, 'distance': 0.16667, 'norm_distance': 1818.18182}), ('κύριος', 'αὐτός', {'weight': 4, 'norm_weight': 0.00037, 'distance': 0.25, 'norm_distance': 2702.7027}), ('κύριος', 'δόξα', {'weight': 4, 'norm_weight': 0.00037, 'distance': 0.25, 'norm_distance': 2702.7027}), ('κύριος', 'δίδωμι', {'weight': 4, 'norm_weight': 0.00037, 'distance': 0.25, 'norm_distance': 2702.7027}), ('κύριος', 'θεός', {'weight': 3, 'norm_weight': 0.00027, 'distance': 0.33333, 'norm_distance': 3703.7037}), ('κύριος', 'ἔχω', {'weight': 3, 'norm_weight': 0.00027, 'distance': 0.33333, 'norm_distance': 3703.7037}), ('κύριος', 'ἔργον', {'weight': 3, 'norm_weight': 0.00027, 'distance': 0.33333, 'norm_distance': 3703.7037}), ('κύριος', 'πνεῦμα', {'weight': 3, 'norm_weight': 0.00027, 'distance': 0.33333, 'norm_distance': 3703.7037}), ('κύριος', 'γιγνώσκω', {'weight': 2, 'norm_weight': 0.00018, 'distance': 0.5, 'norm_distance': 5555.55556}), ('κύριος', 'οἶδα', {'weight': 2, 'norm_weight': 0.00018, 'distance': 0.5, 'norm_distance': 5555.55556}), ('εἰμί', 'θεός', {'weight': 20, 'norm_weight': 0.00183, 'distance': 0.05, 'norm_distance': 546.44809}), ('εἰμί', 'νομός', {'weight': 15, 'norm_weight': 0.00137, 'distance': 0.06667, 'norm_distance': 729.92701}), ('εἰμί', 'αὐτός', {'weight': 11, 'norm_weight': 0.00101, 'distance': 0.09091, 'norm_distance': 990.09901}), ('εἰμί', 'οὗτος', {'weight': 11, 'norm_weight': 0.00101, 'distance': 0.09091, 'norm_distance': 990.09901}), ('εἰμί', 'πᾶς', {'weight': 10, 'norm_weight': 0.00092, 'distance': 0.1, 'norm_distance': 1086.95652}), ('εἰμί', 'πνεῦμα', {'weight': 8, 'norm_weight': 0.00073, 'distance': 0.125, 'norm_distance': 1369.86301}), ('εἰμί', 'ἁμαρτία', {'weight': 5, 'norm_weight': 0.00046, 'distance': 0.2, 'norm_distance': 2173.91304}), ('εἰμί', 'πατήρ', {'weight': 5, 'norm_weight': 0.00046, 'distance': 0.2, 'norm_distance': 2173.91304}), ('εἰμί', 'υἱός', {'weight': 5, 'norm_weight': 0.00046, 'distance': 0.2, 'norm_distance': 2173.91304}), ('εἰμί', 'ἔχω', {'weight': 4, 'norm_weight': 0.00037, 'distance': 0.25, 'norm_distance': 2702.7027}), ('εἰμί', 'ἅγιος', {'weight': 4, 'norm_weight': 0.00037, 'distance': 0.25, 'norm_distance': 2702.7027}), ('εἰμί', 'χάρις', {'weight': 3, 'norm_weight': 0.00027, 'distance': 0.33333, 'norm_distance': 3703.7037}), ('εἰμί', 'πίστις', {'weight': 2, 'norm_weight': 0.00018, 'distance': 0.5, 'norm_distance': 5555.55556}), ('εἰμί', 'οἶδα', {'weight': 2, 'norm_weight': 0.00018, 'distance': 0.5, 'norm_distance': 5555.55556}), ('εἰμί', 'εἰρήνη', {'weight': 2, 'norm_weight': 0.00018, 'distance': 0.5, 'norm_distance': 5555.55556}), ('θεός', 'χάρις', {'weight': 20, 'norm_weight': 0.00183, 'distance': 0.05, 'norm_distance': 546.44809}), ('θεός', 'πατήρ', {'weight': 18, 'norm_weight': 0.00165, 'distance': 0.05556, 'norm_distance': 606.06061}), ('θεός', 'πνεῦμα', {'weight': 15, 'norm_weight': 0.00137, 'distance': 0.06667, 'norm_distance': 729.92701}), ('θεός', 'εἰρήνη', {'weight': 13, 'norm_weight': 0.00119, 'distance': 0.07692, 'norm_distance': 840.33613}), ('θεός', 'δικαιοσύνη', {'weight': 10, 'norm_weight': 0.00092, 'distance': 0.1, 'norm_distance': 1086.95652}), ('θεός', 'πᾶς', {'weight': 10, 'norm_weight': 0.00092, 'distance': 0.1, 'norm_distance': 1086.95652}), ('θεός', 'οἶδα', {'weight': 10, 'norm_weight': 0.00092, 'distance': 0.1, 'norm_distance': 1086.95652}), ('θεός', 'υἱός', {'weight': 9, 'norm_weight': 0.00082, 'distance': 0.11111, 'norm_distance': 1219.5122}), ('θεός', 'δύναμις', {'weight': 9, 'norm_weight': 0.00082, 'distance': 0.11111, 'norm_distance': 1219.5122}), ('θεός', 'θέλημα', {'weight': 9, 'norm_weight': 0.00082, 'distance': 0.11111, 'norm_distance': 1219.5122}), ('θεός', 'ἔχω', {'weight': 9, 'norm_weight': 0.00082, 'distance': 0.11111, 'norm_distance': 1219.5122}), ('θεός', 'δίδωμι', {'weight': 9, 'norm_weight': 0.00082, 'distance': 0.11111, 'norm_distance': 1219.5122}), ('θεός', 'εὐχαριστέω', {'weight': 8, 'norm_weight': 0.00073, 'distance': 0.125, 'norm_distance': 1369.86301}), ('θεός', 'γιγνώσκω', {'weight': 8, 'norm_weight': 0.00073, 'distance': 0.125, 'norm_distance': 1369.86301}), ('θεός', 'νομός', {'weight': 8, 'norm_weight': 0.00073, 'distance': 0.125, 'norm_distance': 1369.86301}), ('θεός', 'δόξα', {'weight': 8, 'norm_weight': 0.00073, 'distance': 0.125, 'norm_distance': 1369.86301}), ('θεός', 'ἐκκλησία', {'weight': 8, 'norm_weight': 0.00073, 'distance': 0.125, 'norm_distance': 1369.86301}), ('θεός', 'ἀγαπάω', {'weight': 7, 'norm_weight': 0.00064, 'distance': 0.14286, 'norm_distance': 1562.5}), ('θεός', 'σοφία', {'weight': 7, 'norm_weight': 0.00064, 'distance': 0.14286, 'norm_distance': 1562.5}), ('θεός', 'πίστις', {'weight': 5, 'norm_weight': 0.00046, 'distance': 0.2, 'norm_distance': 2173.91304}), ('θεός', 'αὐτός', {'weight': 4, 'norm_weight': 0.00037, 'distance': 0.25, 'norm_distance': 2702.7027}), ('θεός', 'λογίζομαι', {'weight': 3, 'norm_weight': 0.00027, 'distance': 0.33333, 'norm_distance': 3703.7037}), ('θεός', 'ἅγιος', {'weight': 2, 'norm_weight': 0.00018, 'distance': 0.5, 'norm_distance': 5555.55556}), ('θεός', 'οὗτος', {'weight': 2, 'norm_weight': 0.00018, 'distance': 0.5, 'norm_distance': 5555.55556}), ('χάρις', 'εἰρήνη', {'weight': 7, 'norm_weight': 0.00064, 'distance': 0.14286, 'norm_distance': 1562.5}), ('χάρις', 'δίδωμι', {'weight': 5, 'norm_weight': 0.00046, 'distance': 0.2, 'norm_distance': 2173.91304}), ('χάρις', 'πᾶς', {'weight': 3, 'norm_weight': 0.00027, 'distance': 0.33333, 'norm_distance': 3703.7037}), ('χάρις', 'πίστις', {'weight': 2, 'norm_weight': 0.00018, 'distance': 0.5, 'norm_distance': 5555.55556}), ('χάρις', 'νομός', {'weight': 2, 'norm_weight': 0.00018, 'distance': 0.5, 'norm_distance': 5555.55556}), ('χάρις', 'οὗτος', {'weight': 2, 'norm_weight': 0.00018, 'distance': 0.5, 'norm_distance': 5555.55556}), ('χάρις', 'ἔργον', {'weight': 2, 'norm_weight': 0.00018, 'distance': 0.5, 'norm_distance': 5555.55556}), ('χάρις', 'γιγνώσκω', {'weight': 2, 'norm_weight': 0.00018, 'distance': 0.5, 'norm_distance': 5555.55556}), ('πατήρ', 'δόξα', {'weight': 3, 'norm_weight': 0.00027, 'distance': 0.33333, 'norm_distance': 3703.7037}), ('πατήρ', 'πᾶς', {'weight': 2, 'norm_weight': 0.00018, 'distance': 0.5, 'norm_distance': 5555.55556}), ('νομός', 'ἔργον', {'weight': 12, 'norm_weight': 0.0011, 'distance': 0.08333, 'norm_distance': 909.09091}), ('νομός', 'ἁμαρτία', {'weight': 9, 'norm_weight': 0.00082, 'distance': 0.11111, 'norm_distance': 1219.5122}), ('νομός', 'δικαιοσύνη', {'weight': 7, 'norm_weight': 0.00064, 'distance': 0.14286, 'norm_distance': 1562.5}), ('νομός', 'πίστις', {'weight': 6, 'norm_weight': 0.00055, 'distance': 0.16667, 'norm_distance': 1818.18182}), ('νομός', 'οἶδα', {'weight': 3, 'norm_weight': 0.00027, 'distance': 0.33333, 'norm_distance': 3703.7037}), ('νομός', 'ἔχω', {'weight': 2, 'norm_weight': 0.00018, 'distance': 0.5, 'norm_distance': 5555.55556}), ('νομός', 'γιγνώσκω', {'weight': 2, 'norm_weight': 0.00018, 'distance': 0.5, 'norm_distance': 5555.55556}), ('νομός', 'πνεῦμα', {'weight': 2, 'norm_weight': 0.00018, 'distance': 0.5, 'norm_distance': 5555.55556}), ('νομός', 'αὐτός', {'weight': 2, 'norm_weight': 0.00018, 'distance': 0.5, 'norm_distance': 5555.55556}), ('πνεῦμα', 'ἅγιος', {'weight': 11, 'norm_weight': 0.00101, 'distance': 0.09091, 'norm_distance': 990.09901}), ('πνεῦμα', 'δύναμις', {'weight': 6, 'norm_weight': 0.00055, 'distance': 0.16667, 'norm_distance': 1818.18182}), ('πνεῦμα', 'αὐτός', {'weight': 6, 'norm_weight': 0.00055, 'distance': 0.16667, 'norm_distance': 1818.18182}), ('πνεῦμα', 'ἔχω', {'weight': 3, 'norm_weight': 0.00027, 'distance': 0.33333, 'norm_distance': 3703.7037}), ('πνεῦμα', 'πᾶς', {'weight': 3, 'norm_weight': 0.00027, 'distance': 0.33333, 'norm_distance': 3703.7037}), ('πνεῦμα', 'δίδωμι', {'weight': 2, 'norm_weight': 0.00018, 'distance': 0.5, 'norm_distance': 5555.55556}), ('πνεῦμα', 'πίστις', {'weight': 2, 'norm_weight': 0.00018, 'distance': 0.5, 'norm_distance': 5555.55556}), ('ἔργον', 'πίστις', {'weight': 2, 'norm_weight': 0.00018, 'distance': 0.5, 'norm_distance': 5555.55556}), ('ἔργον', 'δύναμις', {'weight': 2, 'norm_weight': 0.00018, 'distance': 0.5, 'norm_distance': 5555.55556}), ('αὐτός', 'οὗτος', {'weight': 5, 'norm_weight': 0.00046, 'distance': 0.2, 'norm_distance': 2173.91304}), ('αὐτός', 'πᾶς', {'weight': 4, 'norm_weight': 0.00037, 'distance': 0.25, 'norm_distance': 2702.7027}), ('αὐτός', 'οἶδα', {'weight': 3, 'norm_weight': 0.00027, 'distance': 0.33333, 'norm_distance': 3703.7037}), ('αὐτός', 'υἱός', {'weight': 2, 'norm_weight': 0.00018, 'distance': 0.5, 'norm_distance': 5555.55556}), ('ἅγιος', 'πᾶς', {'weight': 7, 'norm_weight': 0.00064, 'distance': 0.14286, 'norm_distance': 1562.5}), ('ἅγιος', 'οἶδα', {'weight': 3, 'norm_weight': 0.00027, 'distance': 0.33333, 'norm_distance': 3703.7037}), ('οὗτος', 'ἔχω', {'weight': 2, 'norm_weight': 0.00018, 'distance': 0.5, 'norm_distance': 5555.55556}), ('οὗτος', 'πᾶς', {'weight': 2, 'norm_weight': 0.00018, 'distance': 0.5, 'norm_distance': 5555.55556}), ('οὗτος', 'δίδωμι', {'weight': 2, 'norm_weight': 0.00018, 'distance': 0.5, 'norm_distance': 5555.55556}), ('οὗτος', 'λογίζομαι', {'weight': 2, 'norm_weight': 0.00018, 'distance': 0.5, 'norm_distance': 5555.55556}), ('οὗτος', 'οἶδα', {'weight': 2, 'norm_weight': 0.00018, 'distance': 0.5, 'norm_distance': 5555.55556}), ('οὗτος', 'εὐχαριστέω', {'weight': 2, 'norm_weight': 0.00018, 'distance': 0.5, 'norm_distance': 5555.55556}), ('οὗτος', 'θέλημα', {'weight': 2, 'norm_weight': 0.00018, 'distance': 0.5, 'norm_distance': 5555.55556}), ('δικαιοσύνη', 'πίστις', {'weight': 7, 'norm_weight': 0.00064, 'distance': 0.14286, 'norm_distance': 1562.5}), ('δικαιοσύνη', 'λογίζομαι', {'weight': 6, 'norm_weight': 0.00055, 'distance': 0.16667, 'norm_distance': 1818.18182}), ('δικαιοσύνη', 'πᾶς', {'weight': 2, 'norm_weight': 0.00018, 'distance': 0.5, 'norm_distance': 5555.55556}), ('πᾶς', 'ἔχω', {'weight': 5, 'norm_weight': 0.00046, 'distance': 0.2, 'norm_distance': 2173.91304}), ('πᾶς', 'πίστις', {'weight': 4, 'norm_weight': 0.00037, 'distance': 0.25, 'norm_distance': 2702.7027}), ('πᾶς', 'ἐκκλησία', {'weight': 4, 'norm_weight': 0.00037, 'distance': 0.25, 'norm_distance': 2702.7027}), ('πᾶς', 'ἁμαρτία', {'weight': 3, 'norm_weight': 0.00027, 'distance': 0.33333, 'norm_distance': 3703.7037}), ('πᾶς', 'δόξα', {'weight': 2, 'norm_weight': 0.00018, 'distance': 0.5, 'norm_distance': 5555.55556}), ('πᾶς', 'δύναμις', {'weight': 2, 'norm_weight': 0.00018, 'distance': 0.5, 'norm_distance': 5555.55556}), ('δύναμις', 'ἁμαρτία', {'weight': 2, 'norm_weight': 0.00018, 'distance': 0.5, 'norm_distance': 5555.55556}), ('ἔχω', 'πίστις', {'weight': 3, 'norm_weight': 0.00027, 'distance': 0.33333, 'norm_distance': 3703.7037}), ('ἁμαρτία', 'γιγνώσκω', {'weight': 2, 'norm_weight': 0.00018, 'distance': 0.5, 'norm_distance': 5555.55556}), ('δίδωμι', 'γιγνώσκω', {'weight': 2, 'norm_weight': 0.00018, 'distance': 0.5, 'norm_distance': 5555.55556}), ('γιγνώσκω', 'πίστις', {'weight': 3, 'norm_weight': 0.00027, 'distance': 0.33333, 'norm_distance': 3703.7037}), ('πίστις', 'λογίζομαι', {'weight': 2, 'norm_weight': 0.00018, 'distance': 0.5, 'norm_distance': 5555.55556})])"
      ]
     },
     "execution_count": 43,
     "metadata": {},
     "output_type": "execute_result"
    }
   ],
   "source": [
    "ego_network = construct_ego_network(network_bigrams, \"δικαιοσύνη\", 30, reduced=False)\n",
    "ego_network.edges.data()"
   ]
  },
  {
   "cell_type": "code",
   "execution_count": 44,
   "metadata": {},
   "outputs": [
    {
     "data": {
      "application/vnd.plotly.v1+json": {
       "config": {
        "plotlyServerURL": "https://plot.ly"
       },
       "data": [
        {
         "line": {
          "color": "#000000",
          "width": 1
         },
         "mode": "lines",
         "type": "scatter",
         "x": [
          0.23190838440648565,
          -0.06663249132033099,
          null,
          -0.06663249132033099,
          0.011970425986579146,
          null,
          -0.3791400695806018,
          0.047048690123964315,
          null,
          -0.3791400695806018,
          -0.18259455706997874,
          null,
          0.047048690123964315,
          0.08047480298801482,
          null,
          0.047048690123964315,
          0.487932352045928,
          null,
          0.047048690123964315,
          -0.3355830895232957,
          null
         ],
         "y": [
          0.007494545707481491,
          -0.4934796667080713,
          null,
          -0.4934796667080713,
          0.28403652474769664,
          null,
          0.2142286172168879,
          -0.13817059355477831,
          null,
          0.2142286172168879,
          0.43465698173715733,
          null,
          -0.13817059355477831,
          0.5668617380132226,
          null,
          -0.13817059355477831,
          0.47259950510216225,
          null,
          -0.13817059355477831,
          -0.012689972844505307,
          null
         ]
        },
        {
         "line": {
          "color": "#404040",
          "width": 0.7
         },
         "mode": "lines",
         "type": "scatter",
         "x": [
          0.23190838440648565,
          0.047048690123964315,
          null,
          0.23190838440648565,
          -0.3791400695806018,
          null,
          0.011970425986579146,
          0.487932352045928,
          null,
          0.011970425986579146,
          -0.3791400695806018,
          null,
          0.011970425986579146,
          0.08047480298801482,
          null,
          -0.3791400695806018,
          -0.6667752075685253,
          null,
          -0.3791400695806018,
          0.09074210177977564,
          null,
          -0.3791400695806018,
          -0.05477947096003114,
          null,
          -0.3791400695806018,
          -0.3355830895232957,
          null,
          0.047048690123964315,
          -0.561809197475665,
          null,
          0.047048690123964315,
          0.6801970214171701,
          null,
          0.047048690123964315,
          -0.05477947096003114,
          null,
          0.047048690123964315,
          -0.4899856897563967,
          null,
          0.047048690123964315,
          -0.7570061605125785,
          null,
          0.047048690123964315,
          -0.6235291724157351,
          null,
          0.047048690123964315,
          -0.30100492573037363,
          null,
          0.047048690123964315,
          -0.2902174373188059,
          null,
          0.047048690123964315,
          0.53497601555834,
          null,
          0.047048690123964315,
          0.017572583713303783,
          null,
          0.047048690123964315,
          0.34487275834905445,
          null,
          0.047048690123964315,
          -0.18259455706997874,
          null,
          0.047048690123964315,
          0.7343340442596912,
          null,
          0.047048690123964315,
          0.27887075958405505,
          null,
          -0.18259455706997874,
          -0.02326634666237779,
          null,
          -0.18259455706997874,
          -0.3708547868897281,
          null,
          -0.3355830895232957,
          -0.726376565950857,
          null
         ],
         "y": [
          0.007494545707481491,
          -0.13817059355477831,
          null,
          0.007494545707481491,
          0.2142286172168879,
          null,
          0.28403652474769664,
          0.47259950510216225,
          null,
          0.28403652474769664,
          0.2142286172168879,
          null,
          0.28403652474769664,
          0.5668617380132226,
          null,
          0.2142286172168879,
          0.02289697203226425,
          null,
          0.2142286172168879,
          -0.3863565664749771,
          null,
          0.2142286172168879,
          0.08596050893130018,
          null,
          0.2142286172168879,
          -0.012689972844505307,
          null,
          -0.13817059355477831,
          0.6121045444857716,
          null,
          -0.13817059355477831,
          0.2997246615993193,
          null,
          -0.13817059355477831,
          0.08596050893130018,
          null,
          -0.13817059355477831,
          -0.35243346094984634,
          null,
          -0.13817059355477831,
          -0.46893183264908,
          null,
          -0.13817059355477831,
          0.44921480086116683,
          null,
          -0.13817059355477831,
          -0.8771461045347024,
          null,
          -0.13817059355477831,
          -0.2784549787103296,
          null,
          -0.13817059355477831,
          0.12429978656724905,
          null,
          -0.13817059355477831,
          -0.9324214398842147,
          null,
          -0.13817059355477831,
          0.6840109714877658,
          null,
          -0.13817059355477831,
          0.43465698173715733,
          null,
          -0.13817059355477831,
          0.03930886246100886,
          null,
          -0.13817059355477831,
          -0.7205428170079232,
          null,
          0.43465698173715733,
          1,
          null,
          0.43465698173715733,
          0.8859408127719092,
          null,
          -0.012689972844505307,
          -0.16567531641250685,
          null
         ]
        },
        {
         "line": {
          "color": "#C0C0C0",
          "width": 0.5
         },
         "mode": "lines",
         "type": "scatter",
         "x": [
          0.23190838440648565,
          0.011970425986579146,
          null,
          0.23190838440648565,
          -0.05477947096003114,
          null,
          0.23190838440648565,
          0.53497601555834,
          null,
          0.23190838440648565,
          -0.3355830895232957,
          null,
          0.23190838440648565,
          -0.2902174373188059,
          null,
          0.23190838440648565,
          0.2599631823983415,
          null,
          0.23190838440648565,
          0.09074210177977564,
          null,
          0.23190838440648565,
          0.7343340442596912,
          null,
          0.23190838440648565,
          -0.18259455706997874,
          null,
          0.23190838440648565,
          0.6801970214171701,
          null,
          0.23190838440648565,
          0.487932352045928,
          null,
          0.23190838440648565,
          0.34487275834905445,
          null,
          0.23190838440648565,
          0.08047480298801482,
          null,
          0.23190838440648565,
          -0.726376565950857,
          null,
          -0.06663249132033099,
          0.047048690123964315,
          null,
          -0.06663249132033099,
          0.017572583713303783,
          null,
          -0.06663249132033099,
          -0.05477947096003114,
          null,
          -0.06663249132033099,
          -0.3355830895232957,
          null,
          -0.06663249132033099,
          0.2599631823983415,
          null,
          -0.06663249132033099,
          -0.4899856897563967,
          null,
          0.011970425986579146,
          -0.05477947096003114,
          null,
          0.011970425986579146,
          -0.6667752075685253,
          null,
          0.011970425986579146,
          0.7343340442596912,
          null,
          0.011970425986579146,
          0.53497601555834,
          null,
          0.011970425986579146,
          0.047048690123964315,
          null,
          0.011970425986579146,
          -0.2902174373188059,
          null,
          0.011970425986579146,
          -0.02326634666237779,
          null,
          0.011970425986579146,
          -0.3355830895232957,
          null,
          0.011970425986579146,
          0.34487275834905445,
          null,
          0.011970425986579146,
          -0.4899856897563967,
          null,
          -0.3791400695806018,
          -0.3708547868897281,
          null,
          -0.3791400695806018,
          0.487932352045928,
          null,
          -0.3791400695806018,
          -0.7570061605125785,
          null,
          -0.3791400695806018,
          -0.2902174373188059,
          null,
          -0.3791400695806018,
          -0.726376565950857,
          null,
          -0.3791400695806018,
          0.08047480298801482,
          null,
          -0.3791400695806018,
          0.2599631823983415,
          null,
          -0.3791400695806018,
          -0.4899856897563967,
          null,
          -0.3791400695806018,
          -0.561809197475665,
          null,
          0.047048690123964315,
          0.5212131795541979,
          null,
          0.047048690123964315,
          0.7541162952853083,
          null,
          0.047048690123964315,
          0.2599631823983415,
          null,
          0.047048690123964315,
          -0.6667752075685253,
          null,
          0.047048690123964315,
          0.7533625712850716,
          null,
          0.047048690123964315,
          -0.726376565950857,
          null,
          0.047048690123964315,
          0.09074210177977564,
          null,
          0.08047480298801482,
          -0.561809197475665,
          null,
          0.08047480298801482,
          0.53497601555834,
          null,
          0.08047480298801482,
          -0.05477947096003114,
          null,
          0.08047480298801482,
          0.2599631823983415,
          null,
          0.08047480298801482,
          -0.18259455706997874,
          null,
          0.08047480298801482,
          0.09074210177977564,
          null,
          0.08047480298801482,
          -0.02326634666237779,
          null,
          0.08047480298801482,
          0.34487275834905445,
          null,
          0.487932352045928,
          0.7343340442596912,
          null,
          0.487932352045928,
          -0.05477947096003114,
          null,
          -0.18259455706997874,
          0.6801970214171701,
          null,
          -0.18259455706997874,
          0.2599631823983415,
          null,
          -0.18259455706997874,
          -0.4899856897563967,
          null,
          -0.18259455706997874,
          -0.2902174373188059,
          null,
          -0.18259455706997874,
          0.34487275834905445,
          null,
          -0.18259455706997874,
          -0.3355830895232957,
          null,
          -0.18259455706997874,
          -0.6667752075685253,
          null,
          -0.3355830895232957,
          -0.6235291724157351,
          null,
          -0.3355830895232957,
          -0.6667752075685253,
          null,
          -0.3355830895232957,
          -0.2902174373188059,
          null,
          -0.3355830895232957,
          -0.05477947096003114,
          null,
          -0.3355830895232957,
          0.53497601555834,
          null,
          -0.3355830895232957,
          0.2599631823983415,
          null,
          -0.02326634666237779,
          0.2599631823983415,
          null,
          -0.02326634666237779,
          -0.6235291724157351,
          null,
          -0.6667752075685253,
          0.09074210177977564,
          null,
          -0.6667752075685253,
          -0.05477947096003114,
          null,
          -0.6667752075685253,
          -0.4899856897563967,
          null,
          -0.6667752075685253,
          -0.7570061605125785,
          null,
          -0.726376565950857,
          -0.05477947096003114,
          null,
          -0.726376565950857,
          -0.4899856897563967,
          null,
          0.09074210177977564,
          -0.2902174373188059,
          null,
          0.09074210177977564,
          -0.05477947096003114,
          null,
          0.09074210177977564,
          0.53497601555834,
          null,
          0.09074210177977564,
          0.7533625712850716,
          null,
          0.09074210177977564,
          -0.4899856897563967,
          null,
          0.09074210177977564,
          0.017572583713303783,
          null,
          0.09074210177977564,
          -0.30100492573037363,
          null,
          0.6801970214171701,
          0.2599631823983415,
          null,
          0.6801970214171701,
          0.7533625712850716,
          null,
          0.6801970214171701,
          -0.05477947096003114,
          null,
          -0.05477947096003114,
          -0.2902174373188059,
          null,
          -0.05477947096003114,
          0.2599631823983415,
          null,
          -0.05477947096003114,
          0.27887075958405505,
          null,
          -0.05477947096003114,
          -0.3708547868897281,
          null,
          -0.05477947096003114,
          0.7343340442596912,
          null,
          -0.05477947096003114,
          -0.6235291724157351,
          null,
          -0.6235291724157351,
          -0.3708547868897281,
          null,
          -0.2902174373188059,
          0.2599631823983415,
          null,
          -0.3708547868897281,
          0.34487275834905445,
          null,
          0.53497601555834,
          0.34487275834905445,
          null,
          0.34487275834905445,
          0.2599631823983415,
          null,
          0.2599631823983415,
          0.7533625712850716,
          null
         ],
         "y": [
          0.007494545707481491,
          0.28403652474769664,
          null,
          0.007494545707481491,
          0.08596050893130018,
          null,
          0.007494545707481491,
          0.12429978656724905,
          null,
          0.007494545707481491,
          -0.012689972844505307,
          null,
          0.007494545707481491,
          -0.2784549787103296,
          null,
          0.007494545707481491,
          0.26805422609730234,
          null,
          0.007494545707481491,
          -0.3863565664749771,
          null,
          0.007494545707481491,
          0.03930886246100886,
          null,
          0.007494545707481491,
          0.43465698173715733,
          null,
          0.007494545707481491,
          0.2997246615993193,
          null,
          0.007494545707481491,
          0.47259950510216225,
          null,
          0.007494545707481491,
          0.6840109714877658,
          null,
          0.007494545707481491,
          0.5668617380132226,
          null,
          0.007494545707481491,
          -0.16567531641250685,
          null,
          -0.4934796667080713,
          -0.13817059355477831,
          null,
          -0.4934796667080713,
          -0.9324214398842147,
          null,
          -0.4934796667080713,
          0.08596050893130018,
          null,
          -0.4934796667080713,
          -0.012689972844505307,
          null,
          -0.4934796667080713,
          0.26805422609730234,
          null,
          -0.4934796667080713,
          -0.35243346094984634,
          null,
          0.28403652474769664,
          0.08596050893130018,
          null,
          0.28403652474769664,
          0.02289697203226425,
          null,
          0.28403652474769664,
          0.03930886246100886,
          null,
          0.28403652474769664,
          0.12429978656724905,
          null,
          0.28403652474769664,
          -0.13817059355477831,
          null,
          0.28403652474769664,
          -0.2784549787103296,
          null,
          0.28403652474769664,
          1,
          null,
          0.28403652474769664,
          -0.012689972844505307,
          null,
          0.28403652474769664,
          0.6840109714877658,
          null,
          0.28403652474769664,
          -0.35243346094984634,
          null,
          0.2142286172168879,
          0.8859408127719092,
          null,
          0.2142286172168879,
          0.47259950510216225,
          null,
          0.2142286172168879,
          -0.46893183264908,
          null,
          0.2142286172168879,
          -0.2784549787103296,
          null,
          0.2142286172168879,
          -0.16567531641250685,
          null,
          0.2142286172168879,
          0.5668617380132226,
          null,
          0.2142286172168879,
          0.26805422609730234,
          null,
          0.2142286172168879,
          -0.35243346094984634,
          null,
          0.2142286172168879,
          0.6121045444857716,
          null,
          -0.13817059355477831,
          -0.8090721225581502,
          null,
          -0.13817059355477831,
          -0.5705781976288062,
          null,
          -0.13817059355477831,
          0.26805422609730234,
          null,
          -0.13817059355477831,
          0.02289697203226425,
          null,
          -0.13817059355477831,
          -0.2454409899017747,
          null,
          -0.13817059355477831,
          -0.16567531641250685,
          null,
          -0.13817059355477831,
          -0.3863565664749771,
          null,
          0.5668617380132226,
          0.6121045444857716,
          null,
          0.5668617380132226,
          0.12429978656724905,
          null,
          0.5668617380132226,
          0.08596050893130018,
          null,
          0.5668617380132226,
          0.26805422609730234,
          null,
          0.5668617380132226,
          0.43465698173715733,
          null,
          0.5668617380132226,
          -0.3863565664749771,
          null,
          0.5668617380132226,
          1,
          null,
          0.5668617380132226,
          0.6840109714877658,
          null,
          0.47259950510216225,
          0.03930886246100886,
          null,
          0.47259950510216225,
          0.08596050893130018,
          null,
          0.43465698173715733,
          0.2997246615993193,
          null,
          0.43465698173715733,
          0.26805422609730234,
          null,
          0.43465698173715733,
          -0.35243346094984634,
          null,
          0.43465698173715733,
          -0.2784549787103296,
          null,
          0.43465698173715733,
          0.6840109714877658,
          null,
          0.43465698173715733,
          -0.012689972844505307,
          null,
          0.43465698173715733,
          0.02289697203226425,
          null,
          -0.012689972844505307,
          0.44921480086116683,
          null,
          -0.012689972844505307,
          0.02289697203226425,
          null,
          -0.012689972844505307,
          -0.2784549787103296,
          null,
          -0.012689972844505307,
          0.08596050893130018,
          null,
          -0.012689972844505307,
          0.12429978656724905,
          null,
          -0.012689972844505307,
          0.26805422609730234,
          null,
          1,
          0.26805422609730234,
          null,
          1,
          0.44921480086116683,
          null,
          0.02289697203226425,
          -0.3863565664749771,
          null,
          0.02289697203226425,
          0.08596050893130018,
          null,
          0.02289697203226425,
          -0.35243346094984634,
          null,
          0.02289697203226425,
          -0.46893183264908,
          null,
          -0.16567531641250685,
          0.08596050893130018,
          null,
          -0.16567531641250685,
          -0.35243346094984634,
          null,
          -0.3863565664749771,
          -0.2784549787103296,
          null,
          -0.3863565664749771,
          0.08596050893130018,
          null,
          -0.3863565664749771,
          0.12429978656724905,
          null,
          -0.3863565664749771,
          -0.2454409899017747,
          null,
          -0.3863565664749771,
          -0.35243346094984634,
          null,
          -0.3863565664749771,
          -0.9324214398842147,
          null,
          -0.3863565664749771,
          -0.8771461045347024,
          null,
          0.2997246615993193,
          0.26805422609730234,
          null,
          0.2997246615993193,
          -0.2454409899017747,
          null,
          0.2997246615993193,
          0.08596050893130018,
          null,
          0.08596050893130018,
          -0.2784549787103296,
          null,
          0.08596050893130018,
          0.26805422609730234,
          null,
          0.08596050893130018,
          -0.7205428170079232,
          null,
          0.08596050893130018,
          0.8859408127719092,
          null,
          0.08596050893130018,
          0.03930886246100886,
          null,
          0.08596050893130018,
          0.44921480086116683,
          null,
          0.44921480086116683,
          0.8859408127719092,
          null,
          -0.2784549787103296,
          0.26805422609730234,
          null,
          0.8859408127719092,
          0.6840109714877658,
          null,
          0.12429978656724905,
          0.6840109714877658,
          null,
          0.6840109714877658,
          0.26805422609730234,
          null,
          0.26805422609730234,
          -0.2454409899017747,
          null
         ]
        },
        {
         "hoverinfo": "text",
         "hovertext": [
          "115",
          "52",
          "81",
          "92",
          "169",
          "57",
          "14",
          "68",
          "48",
          "6",
          "20",
          "25",
          "14",
          "53",
          "31",
          "44",
          "4",
          "4",
          "15",
          "6",
          "10",
          "16",
          "15",
          "10",
          "15",
          "4",
          "8",
          "16",
          "6",
          "5",
          "9"
         ],
         "marker": {
          "color": [
           115,
           52,
           81,
           92,
           169,
           57,
           14,
           68,
           48,
           6,
           20,
           25,
           14,
           53,
           31,
           44,
           4,
           4,
           15,
           6,
           10,
           16,
           15,
           10,
           15,
           4,
           8,
           16,
           6,
           5,
           9
          ],
          "colorbar": {
           "thickness": 15,
           "title": {
            "side": "right",
            "text": "degree"
           },
           "xanchor": "left"
          },
          "colorscale": [
           [
            0,
            "rgb(255,255,255)"
           ],
           [
            0.125,
            "rgb(240,240,240)"
           ],
           [
            0.25,
            "rgb(217,217,217)"
           ],
           [
            0.375,
            "rgb(189,189,189)"
           ],
           [
            0.5,
            "rgb(150,150,150)"
           ],
           [
            0.625,
            "rgb(115,115,115)"
           ],
           [
            0.75,
            "rgb(82,82,82)"
           ],
           [
            0.875,
            "rgb(37,37,37)"
           ],
           [
            1,
            "rgb(0,0,0)"
           ]
          ],
          "line": {
           "width": 1
          },
          "reversescale": true,
          "showscale": false,
          "size": 7
         },
         "mode": "markers+text",
         "text": [
          "Χριστός",
          "Ἰησοῦς",
          "κύριος",
          "εἰμί",
          "θεός",
          "χάρις",
          "πατήρ",
          "νομός",
          "πνεῦμα",
          "εἰρήνη",
          "ἔργον",
          "αὐτός",
          "ἅγιος",
          "οὗτος",
          "δικαιοσύνη",
          "πᾶς",
          "οἶδα",
          "υἱός",
          "δύναμις",
          "θέλημα",
          "ἔχω",
          "ἁμαρτία",
          "δίδωμι",
          "εὐχαριστέω",
          "γιγνώσκω",
          "δόξα",
          "ἐκκλησία",
          "πίστις",
          "ἀγαπάω",
          "σοφία",
          "λογίζομαι"
         ],
         "textposition": "bottom center",
         "type": "scatter",
         "x": [
          0.23190838440648565,
          -0.06663249132033099,
          0.011970425986579146,
          -0.3791400695806018,
          0.047048690123964315,
          0.08047480298801482,
          0.487932352045928,
          -0.18259455706997874,
          -0.3355830895232957,
          -0.561809197475665,
          -0.02326634666237779,
          -0.6667752075685253,
          -0.726376565950857,
          0.09074210177977564,
          0.6801970214171701,
          -0.05477947096003114,
          -0.4899856897563967,
          -0.7570061605125785,
          -0.6235291724157351,
          -0.30100492573037363,
          -0.2902174373188059,
          -0.3708547868897281,
          0.53497601555834,
          0.017572583713303783,
          0.34487275834905445,
          0.7343340442596912,
          0.27887075958405505,
          0.2599631823983415,
          0.5212131795541979,
          0.7541162952853083,
          0.7533625712850716
         ],
         "y": [
          0.007494545707481491,
          -0.4934796667080713,
          0.28403652474769664,
          0.2142286172168879,
          -0.13817059355477831,
          0.5668617380132226,
          0.47259950510216225,
          0.43465698173715733,
          -0.012689972844505307,
          0.6121045444857716,
          1,
          0.02289697203226425,
          -0.16567531641250685,
          -0.3863565664749771,
          0.2997246615993193,
          0.08596050893130018,
          -0.35243346094984634,
          -0.46893183264908,
          0.44921480086116683,
          -0.8771461045347024,
          -0.2784549787103296,
          0.8859408127719092,
          0.12429978656724905,
          -0.9324214398842147,
          0.6840109714877658,
          0.03930886246100886,
          -0.7205428170079232,
          0.26805422609730234,
          -0.8090721225581502,
          -0.5705781976288062,
          -0.2454409899017747
         ]
        },
        {
         "hoverinfo": "text",
         "marker": {
          "opacity": 0
         },
         "mode": "markers",
         "opacity": 0,
         "text": [
          "83",
          "11",
          "10",
          "5",
          "5",
          "5",
          "5",
          "5",
          "5",
          "3",
          "3",
          "2",
          "2",
          "2",
          "2",
          "2",
          "2",
          "55",
          "5",
          "3",
          "3",
          "3",
          "2",
          "2",
          "11",
          "8",
          "8",
          "6",
          "4",
          "4",
          "4",
          "3",
          "3",
          "3",
          "3",
          "2",
          "2",
          "20",
          "15",
          "11",
          "11",
          "10",
          "8",
          "5",
          "5",
          "5",
          "4",
          "4",
          "3",
          "2",
          "2",
          "2",
          "20",
          "18",
          "15",
          "13",
          "10",
          "10",
          "10",
          "9",
          "9",
          "9",
          "9",
          "9",
          "8",
          "8",
          "8",
          "8",
          "8",
          "7",
          "7",
          "5",
          "4",
          "3",
          "2",
          "2",
          "7",
          "5",
          "3",
          "2",
          "2",
          "2",
          "2",
          "2",
          "3",
          "2",
          "12",
          "9",
          "7",
          "6",
          "3",
          "2",
          "2",
          "2",
          "2",
          "11",
          "6",
          "6",
          "3",
          "3",
          "2",
          "2",
          "2",
          "2",
          "5",
          "4",
          "3",
          "2",
          "7",
          "3",
          "2",
          "2",
          "2",
          "2",
          "2",
          "2",
          "2",
          "7",
          "6",
          "2",
          "5",
          "4",
          "4",
          "3",
          "2",
          "2",
          "2",
          "3",
          "2",
          "2",
          "3",
          "2"
         ],
         "type": "scatter",
         "x": [
          0.08263794654307732,
          0.13947853726522497,
          -0.07361584258705808,
          0.1219394051965324,
          0.08856445672322726,
          0.3834421999824128,
          -0.05183735255840502,
          -0.029154526456160124,
          0.24593578340241357,
          0.16132524309313065,
          0.4831212143330884,
          0.024656913668253455,
          0.45605270291182787,
          0.3599203682262068,
          0.28839057137777,
          0.15619159369725022,
          -0.24723409077218567,
          -0.02733103266687592,
          -0.009791900598183335,
          -0.024529953803513603,
          -0.06070598114018107,
          -0.20110779042181334,
          0.09666534553900524,
          -0.27830909053836383,
          0.24995138901625358,
          -0.18358482179701133,
          0.04622261448729698,
          -0.021404522486726,
          -0.32740239079097305,
          0.37315223512313517,
          0.27347322077245956,
          0.02950955805527173,
          -0.13912350566611337,
          -0.005647960337899321,
          -0.16180633176835826,
          0.1784215921678168,
          -0.23900763188490878,
          -0.16604568972831873,
          -0.28086731332529025,
          -0.5229576385745636,
          -0.14419898390041308,
          -0.2169597702703165,
          -0.35736157955194875,
          -0.37499742823516496,
          0.05439614123266309,
          -0.5680731150465902,
          -0.3346787534497039,
          -0.5527583177657294,
          -0.14933263329629348,
          -0.059588443591130164,
          -0.43456287966849927,
          -0.47047463352813346,
          0.06376174655598957,
          0.26749052108494614,
          -0.14426719969966567,
          -0.2573802536758504,
          0.3636228557705672,
          -0.0038653904180334132,
          -0.2214684998162162,
          -0.3549787351943071,
          -0.2882402411458854,
          -0.12697811780320467,
          -0.12158437359742079,
          0.2910123528411521,
          0.03231063691863405,
          0.1959607242365094,
          -0.06777293347300721,
          0.39069136719182773,
          0.16295972485400967,
          0.2841309348390811,
          0.4005824927046363,
          0.1535059362611529,
          -0.3098632587222805,
          0.4002056307045179,
          -0.33966393791344635,
          0.06889539595186997,
          -0.24066719724382513,
          0.3077254092731774,
          0.01284766601399184,
          0.17021899269317814,
          -0.05105987704098196,
          0.08560845238389522,
          0.028604228162818518,
          0.21267378066853465,
          0.6111331981528096,
          0.21657644054294842,
          -0.10293045186617826,
          -0.2767246719798534,
          0.24880123217359568,
          0.038684312664181375,
          -0.33629012341318776,
          -0.23640599719439231,
          0.08113910063953786,
          -0.2590888232966372,
          -0.424684882319252,
          -0.5309798277370763,
          -0.47955613096951544,
          -0.5011791485459105,
          -0.3129002634210508,
          -0.19518128024166342,
          0.09969646301752214,
          -0.0378099535624771,
          0.11834841786798185,
          -0.3233977595390565,
          -0.28801655289437483,
          -0.3607773392642782,
          -0.578380448662461,
          -0.7118906840405519,
          -0.39057801845544404,
          -0.6081811278536269,
          -0.09973766776951512,
          0.01798131540987225,
          0.3128590586690578,
          0.4220523365324236,
          -0.19962179398831054,
          0.05415734274653971,
          -0.10513141197529899,
          0.4700801019077558,
          0.7167797963511209,
          0.3127087752285695,
          -0.17249845413941853,
          0.10259185571915518,
          0.11204564431201196,
          -0.21281712892487964,
          0.33977728664983003,
          -0.3391543216878831,
          -0.49719197965273165,
          -0.015127127460232204,
          -0.012991014270336831,
          0.4399243869536972,
          0.302417970373698,
          0.5066628768417065
         ],
         "y": [
          -0.2429925605002949,
          -0.06533802392364842,
          0.1108615814621847,
          0.14576553522758906,
          0.04672752731939084,
          0.06589716613736527,
          -0.002597713568511908,
          -0.13548021650142406,
          0.1377743859023919,
          -0.18943101038374782,
          0.023401704084245176,
          0.2210757637223194,
          0.1536096036534004,
          0.24004702540482187,
          0.34575275859762367,
          0.28717814186035207,
          -0.07909038535251268,
          -0.10472157098018733,
          -0.3158251301314248,
          -0.712950553296143,
          -0.20375957888838556,
          -0.25308481977628833,
          -0.11271272030538448,
          -0.42295656382895885,
          0.37831801492492945,
          0.24913257098229227,
          0.4254491313804596,
          0.18499851683949842,
          0.15346674838998045,
          0.16167269360435274,
          0.20416815565747284,
          0.07293296559645916,
          0.0027907730186835233,
          0.6420182623738483,
          0.13567327595159567,
          0.4840237481177312,
          -0.03419846810107485,
          0.038029011831054796,
          0.3244427994770226,
          0.11856279462457608,
          -0.08606397462904461,
          0.15009456307409405,
          0.1007693221861913,
          0.5500847149943986,
          0.3434140611595251,
          -0.12735160771609605,
          -0.03211318074672084,
          0.024276650402190528,
          0.39054517761505525,
          0.24114142165709512,
          -0.06910242186647922,
          0.41316658085132973,
          0.21434557222922213,
          0.16721445577369198,
          -0.07543028319964182,
          0.2369669754654966,
          0.0807770340222705,
          -0.026105042311739067,
          -0.24530202725231232,
          -0.3035512131019292,
          0.15552210365319424,
          -0.5076583490447404,
          -0.20831278613255394,
          -0.006935403493764633,
          -0.5352960167194964,
          0.2729201889664937,
          0.14824319409118952,
          -0.04943086554688472,
          -0.4293567052813508,
          -0.47362135805646427,
          -0.3543743955917923,
          0.06494181627126201,
          -0.05763681076125703,
          -0.1918057917282765,
          -0.15192295498364258,
          -0.2622635800148777,
          0.5894831412494971,
          0.3455807622902358,
          0.32641112347226137,
          0.41745798205526247,
          0.5007593598751899,
          0.09025258576912273,
          0.7834308690066113,
          0.6254363547504942,
          0.2559541837815856,
          0.2792800070167312,
          0.7173284908685786,
          0.6602988972545333,
          0.36719082166823835,
          0.35135560391722986,
          0.041111760393655494,
          0.07810100151341387,
          0.5593339766124615,
          0.21098350444632602,
          0.2287769768847108,
          -0.08918264462850609,
          0.21826241400833077,
          0.005103499593879471,
          -0.14557247577741744,
          0.03663526804339744,
          0.05580490686137187,
          0.12768212662639852,
          0.6340271130486512,
          0.7246074004305834,
          -0.18172979722135643,
          0.054428740481782215,
          -0.16476824445879104,
          -0.22301743030840787,
          -0.039857403740603335,
          -0.2590543886811766,
          -0.33240577259265336,
          -0.15019802877183847,
          -0.13102838995386404,
          -0.3158987781883759,
          -0.36939501371241173,
          -0.6593890031795959,
          -0.6317513355048398,
          0.28388944384831083,
          0.027141835848772305,
          0.19284258526530976,
          -0.0962472348895147,
          0.17700736751430127,
          -0.31729115403831154,
          0.48595066085160465,
          0.06263468569615452,
          0.2675876548962335,
          0.667577806816538,
          -0.005200376306513627,
          0.7849758921298375,
          0.4041553790275074,
          0.47603259879253407,
          0.011306618097763815
         ]
        }
       ],
       "layout": {
        "autosize": false,
        "height": 500,
        "hovermode": "closest",
        "margin": {
         "b": 10,
         "l": 10,
         "r": 10,
         "t": 10
        },
        "plot_bgcolor": "rgba(0,0,0,0)",
        "showlegend": false,
        "template": {
         "data": {
          "bar": [
           {
            "error_x": {
             "color": "#2a3f5f"
            },
            "error_y": {
             "color": "#2a3f5f"
            },
            "marker": {
             "line": {
              "color": "#E5ECF6",
              "width": 0.5
             }
            },
            "type": "bar"
           }
          ],
          "barpolar": [
           {
            "marker": {
             "line": {
              "color": "#E5ECF6",
              "width": 0.5
             }
            },
            "type": "barpolar"
           }
          ],
          "carpet": [
           {
            "aaxis": {
             "endlinecolor": "#2a3f5f",
             "gridcolor": "white",
             "linecolor": "white",
             "minorgridcolor": "white",
             "startlinecolor": "#2a3f5f"
            },
            "baxis": {
             "endlinecolor": "#2a3f5f",
             "gridcolor": "white",
             "linecolor": "white",
             "minorgridcolor": "white",
             "startlinecolor": "#2a3f5f"
            },
            "type": "carpet"
           }
          ],
          "choropleth": [
           {
            "colorbar": {
             "outlinewidth": 0,
             "ticks": ""
            },
            "type": "choropleth"
           }
          ],
          "contour": [
           {
            "colorbar": {
             "outlinewidth": 0,
             "ticks": ""
            },
            "colorscale": [
             [
              0,
              "#0d0887"
             ],
             [
              0.1111111111111111,
              "#46039f"
             ],
             [
              0.2222222222222222,
              "#7201a8"
             ],
             [
              0.3333333333333333,
              "#9c179e"
             ],
             [
              0.4444444444444444,
              "#bd3786"
             ],
             [
              0.5555555555555556,
              "#d8576b"
             ],
             [
              0.6666666666666666,
              "#ed7953"
             ],
             [
              0.7777777777777778,
              "#fb9f3a"
             ],
             [
              0.8888888888888888,
              "#fdca26"
             ],
             [
              1,
              "#f0f921"
             ]
            ],
            "type": "contour"
           }
          ],
          "contourcarpet": [
           {
            "colorbar": {
             "outlinewidth": 0,
             "ticks": ""
            },
            "type": "contourcarpet"
           }
          ],
          "heatmap": [
           {
            "colorbar": {
             "outlinewidth": 0,
             "ticks": ""
            },
            "colorscale": [
             [
              0,
              "#0d0887"
             ],
             [
              0.1111111111111111,
              "#46039f"
             ],
             [
              0.2222222222222222,
              "#7201a8"
             ],
             [
              0.3333333333333333,
              "#9c179e"
             ],
             [
              0.4444444444444444,
              "#bd3786"
             ],
             [
              0.5555555555555556,
              "#d8576b"
             ],
             [
              0.6666666666666666,
              "#ed7953"
             ],
             [
              0.7777777777777778,
              "#fb9f3a"
             ],
             [
              0.8888888888888888,
              "#fdca26"
             ],
             [
              1,
              "#f0f921"
             ]
            ],
            "type": "heatmap"
           }
          ],
          "heatmapgl": [
           {
            "colorbar": {
             "outlinewidth": 0,
             "ticks": ""
            },
            "colorscale": [
             [
              0,
              "#0d0887"
             ],
             [
              0.1111111111111111,
              "#46039f"
             ],
             [
              0.2222222222222222,
              "#7201a8"
             ],
             [
              0.3333333333333333,
              "#9c179e"
             ],
             [
              0.4444444444444444,
              "#bd3786"
             ],
             [
              0.5555555555555556,
              "#d8576b"
             ],
             [
              0.6666666666666666,
              "#ed7953"
             ],
             [
              0.7777777777777778,
              "#fb9f3a"
             ],
             [
              0.8888888888888888,
              "#fdca26"
             ],
             [
              1,
              "#f0f921"
             ]
            ],
            "type": "heatmapgl"
           }
          ],
          "histogram": [
           {
            "marker": {
             "colorbar": {
              "outlinewidth": 0,
              "ticks": ""
             }
            },
            "type": "histogram"
           }
          ],
          "histogram2d": [
           {
            "colorbar": {
             "outlinewidth": 0,
             "ticks": ""
            },
            "colorscale": [
             [
              0,
              "#0d0887"
             ],
             [
              0.1111111111111111,
              "#46039f"
             ],
             [
              0.2222222222222222,
              "#7201a8"
             ],
             [
              0.3333333333333333,
              "#9c179e"
             ],
             [
              0.4444444444444444,
              "#bd3786"
             ],
             [
              0.5555555555555556,
              "#d8576b"
             ],
             [
              0.6666666666666666,
              "#ed7953"
             ],
             [
              0.7777777777777778,
              "#fb9f3a"
             ],
             [
              0.8888888888888888,
              "#fdca26"
             ],
             [
              1,
              "#f0f921"
             ]
            ],
            "type": "histogram2d"
           }
          ],
          "histogram2dcontour": [
           {
            "colorbar": {
             "outlinewidth": 0,
             "ticks": ""
            },
            "colorscale": [
             [
              0,
              "#0d0887"
             ],
             [
              0.1111111111111111,
              "#46039f"
             ],
             [
              0.2222222222222222,
              "#7201a8"
             ],
             [
              0.3333333333333333,
              "#9c179e"
             ],
             [
              0.4444444444444444,
              "#bd3786"
             ],
             [
              0.5555555555555556,
              "#d8576b"
             ],
             [
              0.6666666666666666,
              "#ed7953"
             ],
             [
              0.7777777777777778,
              "#fb9f3a"
             ],
             [
              0.8888888888888888,
              "#fdca26"
             ],
             [
              1,
              "#f0f921"
             ]
            ],
            "type": "histogram2dcontour"
           }
          ],
          "mesh3d": [
           {
            "colorbar": {
             "outlinewidth": 0,
             "ticks": ""
            },
            "type": "mesh3d"
           }
          ],
          "parcoords": [
           {
            "line": {
             "colorbar": {
              "outlinewidth": 0,
              "ticks": ""
             }
            },
            "type": "parcoords"
           }
          ],
          "pie": [
           {
            "automargin": true,
            "type": "pie"
           }
          ],
          "scatter": [
           {
            "marker": {
             "colorbar": {
              "outlinewidth": 0,
              "ticks": ""
             }
            },
            "type": "scatter"
           }
          ],
          "scatter3d": [
           {
            "line": {
             "colorbar": {
              "outlinewidth": 0,
              "ticks": ""
             }
            },
            "marker": {
             "colorbar": {
              "outlinewidth": 0,
              "ticks": ""
             }
            },
            "type": "scatter3d"
           }
          ],
          "scattercarpet": [
           {
            "marker": {
             "colorbar": {
              "outlinewidth": 0,
              "ticks": ""
             }
            },
            "type": "scattercarpet"
           }
          ],
          "scattergeo": [
           {
            "marker": {
             "colorbar": {
              "outlinewidth": 0,
              "ticks": ""
             }
            },
            "type": "scattergeo"
           }
          ],
          "scattergl": [
           {
            "marker": {
             "colorbar": {
              "outlinewidth": 0,
              "ticks": ""
             }
            },
            "type": "scattergl"
           }
          ],
          "scattermapbox": [
           {
            "marker": {
             "colorbar": {
              "outlinewidth": 0,
              "ticks": ""
             }
            },
            "type": "scattermapbox"
           }
          ],
          "scatterpolar": [
           {
            "marker": {
             "colorbar": {
              "outlinewidth": 0,
              "ticks": ""
             }
            },
            "type": "scatterpolar"
           }
          ],
          "scatterpolargl": [
           {
            "marker": {
             "colorbar": {
              "outlinewidth": 0,
              "ticks": ""
             }
            },
            "type": "scatterpolargl"
           }
          ],
          "scatterternary": [
           {
            "marker": {
             "colorbar": {
              "outlinewidth": 0,
              "ticks": ""
             }
            },
            "type": "scatterternary"
           }
          ],
          "surface": [
           {
            "colorbar": {
             "outlinewidth": 0,
             "ticks": ""
            },
            "colorscale": [
             [
              0,
              "#0d0887"
             ],
             [
              0.1111111111111111,
              "#46039f"
             ],
             [
              0.2222222222222222,
              "#7201a8"
             ],
             [
              0.3333333333333333,
              "#9c179e"
             ],
             [
              0.4444444444444444,
              "#bd3786"
             ],
             [
              0.5555555555555556,
              "#d8576b"
             ],
             [
              0.6666666666666666,
              "#ed7953"
             ],
             [
              0.7777777777777778,
              "#fb9f3a"
             ],
             [
              0.8888888888888888,
              "#fdca26"
             ],
             [
              1,
              "#f0f921"
             ]
            ],
            "type": "surface"
           }
          ],
          "table": [
           {
            "cells": {
             "fill": {
              "color": "#EBF0F8"
             },
             "line": {
              "color": "white"
             }
            },
            "header": {
             "fill": {
              "color": "#C8D4E3"
             },
             "line": {
              "color": "white"
             }
            },
            "type": "table"
           }
          ]
         },
         "layout": {
          "annotationdefaults": {
           "arrowcolor": "#2a3f5f",
           "arrowhead": 0,
           "arrowwidth": 1
          },
          "coloraxis": {
           "colorbar": {
            "outlinewidth": 0,
            "ticks": ""
           }
          },
          "colorscale": {
           "diverging": [
            [
             0,
             "#8e0152"
            ],
            [
             0.1,
             "#c51b7d"
            ],
            [
             0.2,
             "#de77ae"
            ],
            [
             0.3,
             "#f1b6da"
            ],
            [
             0.4,
             "#fde0ef"
            ],
            [
             0.5,
             "#f7f7f7"
            ],
            [
             0.6,
             "#e6f5d0"
            ],
            [
             0.7,
             "#b8e186"
            ],
            [
             0.8,
             "#7fbc41"
            ],
            [
             0.9,
             "#4d9221"
            ],
            [
             1,
             "#276419"
            ]
           ],
           "sequential": [
            [
             0,
             "#0d0887"
            ],
            [
             0.1111111111111111,
             "#46039f"
            ],
            [
             0.2222222222222222,
             "#7201a8"
            ],
            [
             0.3333333333333333,
             "#9c179e"
            ],
            [
             0.4444444444444444,
             "#bd3786"
            ],
            [
             0.5555555555555556,
             "#d8576b"
            ],
            [
             0.6666666666666666,
             "#ed7953"
            ],
            [
             0.7777777777777778,
             "#fb9f3a"
            ],
            [
             0.8888888888888888,
             "#fdca26"
            ],
            [
             1,
             "#f0f921"
            ]
           ],
           "sequentialminus": [
            [
             0,
             "#0d0887"
            ],
            [
             0.1111111111111111,
             "#46039f"
            ],
            [
             0.2222222222222222,
             "#7201a8"
            ],
            [
             0.3333333333333333,
             "#9c179e"
            ],
            [
             0.4444444444444444,
             "#bd3786"
            ],
            [
             0.5555555555555556,
             "#d8576b"
            ],
            [
             0.6666666666666666,
             "#ed7953"
            ],
            [
             0.7777777777777778,
             "#fb9f3a"
            ],
            [
             0.8888888888888888,
             "#fdca26"
            ],
            [
             1,
             "#f0f921"
            ]
           ]
          },
          "colorway": [
           "#636efa",
           "#EF553B",
           "#00cc96",
           "#ab63fa",
           "#FFA15A",
           "#19d3f3",
           "#FF6692",
           "#B6E880",
           "#FF97FF",
           "#FECB52"
          ],
          "font": {
           "color": "#2a3f5f"
          },
          "geo": {
           "bgcolor": "white",
           "lakecolor": "white",
           "landcolor": "#E5ECF6",
           "showlakes": true,
           "showland": true,
           "subunitcolor": "white"
          },
          "hoverlabel": {
           "align": "left"
          },
          "hovermode": "closest",
          "mapbox": {
           "style": "light"
          },
          "paper_bgcolor": "white",
          "plot_bgcolor": "#E5ECF6",
          "polar": {
           "angularaxis": {
            "gridcolor": "white",
            "linecolor": "white",
            "ticks": ""
           },
           "bgcolor": "#E5ECF6",
           "radialaxis": {
            "gridcolor": "white",
            "linecolor": "white",
            "ticks": ""
           }
          },
          "scene": {
           "xaxis": {
            "backgroundcolor": "#E5ECF6",
            "gridcolor": "white",
            "gridwidth": 2,
            "linecolor": "white",
            "showbackground": true,
            "ticks": "",
            "zerolinecolor": "white"
           },
           "yaxis": {
            "backgroundcolor": "#E5ECF6",
            "gridcolor": "white",
            "gridwidth": 2,
            "linecolor": "white",
            "showbackground": true,
            "ticks": "",
            "zerolinecolor": "white"
           },
           "zaxis": {
            "backgroundcolor": "#E5ECF6",
            "gridcolor": "white",
            "gridwidth": 2,
            "linecolor": "white",
            "showbackground": true,
            "ticks": "",
            "zerolinecolor": "white"
           }
          },
          "shapedefaults": {
           "line": {
            "color": "#2a3f5f"
           }
          },
          "ternary": {
           "aaxis": {
            "gridcolor": "white",
            "linecolor": "white",
            "ticks": ""
           },
           "baxis": {
            "gridcolor": "white",
            "linecolor": "white",
            "ticks": ""
           },
           "bgcolor": "#E5ECF6",
           "caxis": {
            "gridcolor": "white",
            "linecolor": "white",
            "ticks": ""
           }
          },
          "title": {
           "x": 0.05
          },
          "xaxis": {
           "automargin": true,
           "gridcolor": "white",
           "linecolor": "white",
           "ticks": "",
           "title": {
            "standoff": 15
           },
           "zerolinecolor": "white",
           "zerolinewidth": 2
          },
          "yaxis": {
           "automargin": true,
           "gridcolor": "white",
           "linecolor": "white",
           "ticks": "",
           "title": {
            "standoff": 15
           },
           "zerolinecolor": "white",
           "zerolinewidth": 2
          }
         }
        },
        "title": {
         "font": {
          "size": 16
         }
        },
        "width": 500,
        "xaxis": {
         "showgrid": false,
         "showticklabels": false,
         "zeroline": false
        },
        "yaxis": {
         "showgrid": false,
         "showticklabels": false,
         "zeroline": false
        }
       }
      },
      "text/html": [
       "<div>                            <div id=\"5433c04b-af27-4b2c-87a8-c11e2b2a6433\" class=\"plotly-graph-div\" style=\"height:500px; width:500px;\"></div>            <script type=\"text/javascript\">                require([\"plotly\"], function(Plotly) {                    window.PLOTLYENV=window.PLOTLYENV || {};                                    if (document.getElementById(\"5433c04b-af27-4b2c-87a8-c11e2b2a6433\")) {                    Plotly.newPlot(                        \"5433c04b-af27-4b2c-87a8-c11e2b2a6433\",                        [{\"line\": {\"color\": \"#000000\", \"width\": 1}, \"mode\": \"lines\", \"type\": \"scatter\", \"x\": [0.23190838440648565, -0.06663249132033099, null, -0.06663249132033099, 0.011970425986579146, null, -0.3791400695806018, 0.047048690123964315, null, -0.3791400695806018, -0.18259455706997874, null, 0.047048690123964315, 0.08047480298801482, null, 0.047048690123964315, 0.487932352045928, null, 0.047048690123964315, -0.3355830895232957, null], \"y\": [0.007494545707481491, -0.4934796667080713, null, -0.4934796667080713, 0.28403652474769664, null, 0.2142286172168879, -0.13817059355477831, null, 0.2142286172168879, 0.43465698173715733, null, -0.13817059355477831, 0.5668617380132226, null, -0.13817059355477831, 0.47259950510216225, null, -0.13817059355477831, -0.012689972844505307, null]}, {\"line\": {\"color\": \"#404040\", \"width\": 0.7}, \"mode\": \"lines\", \"type\": \"scatter\", \"x\": [0.23190838440648565, 0.047048690123964315, null, 0.23190838440648565, -0.3791400695806018, null, 0.011970425986579146, 0.487932352045928, null, 0.011970425986579146, -0.3791400695806018, null, 0.011970425986579146, 0.08047480298801482, null, -0.3791400695806018, -0.6667752075685253, null, -0.3791400695806018, 0.09074210177977564, null, -0.3791400695806018, -0.05477947096003114, null, -0.3791400695806018, -0.3355830895232957, null, 0.047048690123964315, -0.561809197475665, null, 0.047048690123964315, 0.6801970214171701, null, 0.047048690123964315, -0.05477947096003114, null, 0.047048690123964315, -0.4899856897563967, null, 0.047048690123964315, -0.7570061605125785, null, 0.047048690123964315, -0.6235291724157351, null, 0.047048690123964315, -0.30100492573037363, null, 0.047048690123964315, -0.2902174373188059, null, 0.047048690123964315, 0.53497601555834, null, 0.047048690123964315, 0.017572583713303783, null, 0.047048690123964315, 0.34487275834905445, null, 0.047048690123964315, -0.18259455706997874, null, 0.047048690123964315, 0.7343340442596912, null, 0.047048690123964315, 0.27887075958405505, null, -0.18259455706997874, -0.02326634666237779, null, -0.18259455706997874, -0.3708547868897281, null, -0.3355830895232957, -0.726376565950857, null], \"y\": [0.007494545707481491, -0.13817059355477831, null, 0.007494545707481491, 0.2142286172168879, null, 0.28403652474769664, 0.47259950510216225, null, 0.28403652474769664, 0.2142286172168879, null, 0.28403652474769664, 0.5668617380132226, null, 0.2142286172168879, 0.02289697203226425, null, 0.2142286172168879, -0.3863565664749771, null, 0.2142286172168879, 0.08596050893130018, null, 0.2142286172168879, -0.012689972844505307, null, -0.13817059355477831, 0.6121045444857716, null, -0.13817059355477831, 0.2997246615993193, null, -0.13817059355477831, 0.08596050893130018, null, -0.13817059355477831, -0.35243346094984634, null, -0.13817059355477831, -0.46893183264908, null, -0.13817059355477831, 0.44921480086116683, null, -0.13817059355477831, -0.8771461045347024, null, -0.13817059355477831, -0.2784549787103296, null, -0.13817059355477831, 0.12429978656724905, null, -0.13817059355477831, -0.9324214398842147, null, -0.13817059355477831, 0.6840109714877658, null, -0.13817059355477831, 0.43465698173715733, null, -0.13817059355477831, 0.03930886246100886, null, -0.13817059355477831, -0.7205428170079232, null, 0.43465698173715733, 1.0, null, 0.43465698173715733, 0.8859408127719092, null, -0.012689972844505307, -0.16567531641250685, null]}, {\"line\": {\"color\": \"#C0C0C0\", \"width\": 0.5}, \"mode\": \"lines\", \"type\": \"scatter\", \"x\": [0.23190838440648565, 0.011970425986579146, null, 0.23190838440648565, -0.05477947096003114, null, 0.23190838440648565, 0.53497601555834, null, 0.23190838440648565, -0.3355830895232957, null, 0.23190838440648565, -0.2902174373188059, null, 0.23190838440648565, 0.2599631823983415, null, 0.23190838440648565, 0.09074210177977564, null, 0.23190838440648565, 0.7343340442596912, null, 0.23190838440648565, -0.18259455706997874, null, 0.23190838440648565, 0.6801970214171701, null, 0.23190838440648565, 0.487932352045928, null, 0.23190838440648565, 0.34487275834905445, null, 0.23190838440648565, 0.08047480298801482, null, 0.23190838440648565, -0.726376565950857, null, -0.06663249132033099, 0.047048690123964315, null, -0.06663249132033099, 0.017572583713303783, null, -0.06663249132033099, -0.05477947096003114, null, -0.06663249132033099, -0.3355830895232957, null, -0.06663249132033099, 0.2599631823983415, null, -0.06663249132033099, -0.4899856897563967, null, 0.011970425986579146, -0.05477947096003114, null, 0.011970425986579146, -0.6667752075685253, null, 0.011970425986579146, 0.7343340442596912, null, 0.011970425986579146, 0.53497601555834, null, 0.011970425986579146, 0.047048690123964315, null, 0.011970425986579146, -0.2902174373188059, null, 0.011970425986579146, -0.02326634666237779, null, 0.011970425986579146, -0.3355830895232957, null, 0.011970425986579146, 0.34487275834905445, null, 0.011970425986579146, -0.4899856897563967, null, -0.3791400695806018, -0.3708547868897281, null, -0.3791400695806018, 0.487932352045928, null, -0.3791400695806018, -0.7570061605125785, null, -0.3791400695806018, -0.2902174373188059, null, -0.3791400695806018, -0.726376565950857, null, -0.3791400695806018, 0.08047480298801482, null, -0.3791400695806018, 0.2599631823983415, null, -0.3791400695806018, -0.4899856897563967, null, -0.3791400695806018, -0.561809197475665, null, 0.047048690123964315, 0.5212131795541979, null, 0.047048690123964315, 0.7541162952853083, null, 0.047048690123964315, 0.2599631823983415, null, 0.047048690123964315, -0.6667752075685253, null, 0.047048690123964315, 0.7533625712850716, null, 0.047048690123964315, -0.726376565950857, null, 0.047048690123964315, 0.09074210177977564, null, 0.08047480298801482, -0.561809197475665, null, 0.08047480298801482, 0.53497601555834, null, 0.08047480298801482, -0.05477947096003114, null, 0.08047480298801482, 0.2599631823983415, null, 0.08047480298801482, -0.18259455706997874, null, 0.08047480298801482, 0.09074210177977564, null, 0.08047480298801482, -0.02326634666237779, null, 0.08047480298801482, 0.34487275834905445, null, 0.487932352045928, 0.7343340442596912, null, 0.487932352045928, -0.05477947096003114, null, -0.18259455706997874, 0.6801970214171701, null, -0.18259455706997874, 0.2599631823983415, null, -0.18259455706997874, -0.4899856897563967, null, -0.18259455706997874, -0.2902174373188059, null, -0.18259455706997874, 0.34487275834905445, null, -0.18259455706997874, -0.3355830895232957, null, -0.18259455706997874, -0.6667752075685253, null, -0.3355830895232957, -0.6235291724157351, null, -0.3355830895232957, -0.6667752075685253, null, -0.3355830895232957, -0.2902174373188059, null, -0.3355830895232957, -0.05477947096003114, null, -0.3355830895232957, 0.53497601555834, null, -0.3355830895232957, 0.2599631823983415, null, -0.02326634666237779, 0.2599631823983415, null, -0.02326634666237779, -0.6235291724157351, null, -0.6667752075685253, 0.09074210177977564, null, -0.6667752075685253, -0.05477947096003114, null, -0.6667752075685253, -0.4899856897563967, null, -0.6667752075685253, -0.7570061605125785, null, -0.726376565950857, -0.05477947096003114, null, -0.726376565950857, -0.4899856897563967, null, 0.09074210177977564, -0.2902174373188059, null, 0.09074210177977564, -0.05477947096003114, null, 0.09074210177977564, 0.53497601555834, null, 0.09074210177977564, 0.7533625712850716, null, 0.09074210177977564, -0.4899856897563967, null, 0.09074210177977564, 0.017572583713303783, null, 0.09074210177977564, -0.30100492573037363, null, 0.6801970214171701, 0.2599631823983415, null, 0.6801970214171701, 0.7533625712850716, null, 0.6801970214171701, -0.05477947096003114, null, -0.05477947096003114, -0.2902174373188059, null, -0.05477947096003114, 0.2599631823983415, null, -0.05477947096003114, 0.27887075958405505, null, -0.05477947096003114, -0.3708547868897281, null, -0.05477947096003114, 0.7343340442596912, null, -0.05477947096003114, -0.6235291724157351, null, -0.6235291724157351, -0.3708547868897281, null, -0.2902174373188059, 0.2599631823983415, null, -0.3708547868897281, 0.34487275834905445, null, 0.53497601555834, 0.34487275834905445, null, 0.34487275834905445, 0.2599631823983415, null, 0.2599631823983415, 0.7533625712850716, null], \"y\": [0.007494545707481491, 0.28403652474769664, null, 0.007494545707481491, 0.08596050893130018, null, 0.007494545707481491, 0.12429978656724905, null, 0.007494545707481491, -0.012689972844505307, null, 0.007494545707481491, -0.2784549787103296, null, 0.007494545707481491, 0.26805422609730234, null, 0.007494545707481491, -0.3863565664749771, null, 0.007494545707481491, 0.03930886246100886, null, 0.007494545707481491, 0.43465698173715733, null, 0.007494545707481491, 0.2997246615993193, null, 0.007494545707481491, 0.47259950510216225, null, 0.007494545707481491, 0.6840109714877658, null, 0.007494545707481491, 0.5668617380132226, null, 0.007494545707481491, -0.16567531641250685, null, -0.4934796667080713, -0.13817059355477831, null, -0.4934796667080713, -0.9324214398842147, null, -0.4934796667080713, 0.08596050893130018, null, -0.4934796667080713, -0.012689972844505307, null, -0.4934796667080713, 0.26805422609730234, null, -0.4934796667080713, -0.35243346094984634, null, 0.28403652474769664, 0.08596050893130018, null, 0.28403652474769664, 0.02289697203226425, null, 0.28403652474769664, 0.03930886246100886, null, 0.28403652474769664, 0.12429978656724905, null, 0.28403652474769664, -0.13817059355477831, null, 0.28403652474769664, -0.2784549787103296, null, 0.28403652474769664, 1.0, null, 0.28403652474769664, -0.012689972844505307, null, 0.28403652474769664, 0.6840109714877658, null, 0.28403652474769664, -0.35243346094984634, null, 0.2142286172168879, 0.8859408127719092, null, 0.2142286172168879, 0.47259950510216225, null, 0.2142286172168879, -0.46893183264908, null, 0.2142286172168879, -0.2784549787103296, null, 0.2142286172168879, -0.16567531641250685, null, 0.2142286172168879, 0.5668617380132226, null, 0.2142286172168879, 0.26805422609730234, null, 0.2142286172168879, -0.35243346094984634, null, 0.2142286172168879, 0.6121045444857716, null, -0.13817059355477831, -0.8090721225581502, null, -0.13817059355477831, -0.5705781976288062, null, -0.13817059355477831, 0.26805422609730234, null, -0.13817059355477831, 0.02289697203226425, null, -0.13817059355477831, -0.2454409899017747, null, -0.13817059355477831, -0.16567531641250685, null, -0.13817059355477831, -0.3863565664749771, null, 0.5668617380132226, 0.6121045444857716, null, 0.5668617380132226, 0.12429978656724905, null, 0.5668617380132226, 0.08596050893130018, null, 0.5668617380132226, 0.26805422609730234, null, 0.5668617380132226, 0.43465698173715733, null, 0.5668617380132226, -0.3863565664749771, null, 0.5668617380132226, 1.0, null, 0.5668617380132226, 0.6840109714877658, null, 0.47259950510216225, 0.03930886246100886, null, 0.47259950510216225, 0.08596050893130018, null, 0.43465698173715733, 0.2997246615993193, null, 0.43465698173715733, 0.26805422609730234, null, 0.43465698173715733, -0.35243346094984634, null, 0.43465698173715733, -0.2784549787103296, null, 0.43465698173715733, 0.6840109714877658, null, 0.43465698173715733, -0.012689972844505307, null, 0.43465698173715733, 0.02289697203226425, null, -0.012689972844505307, 0.44921480086116683, null, -0.012689972844505307, 0.02289697203226425, null, -0.012689972844505307, -0.2784549787103296, null, -0.012689972844505307, 0.08596050893130018, null, -0.012689972844505307, 0.12429978656724905, null, -0.012689972844505307, 0.26805422609730234, null, 1.0, 0.26805422609730234, null, 1.0, 0.44921480086116683, null, 0.02289697203226425, -0.3863565664749771, null, 0.02289697203226425, 0.08596050893130018, null, 0.02289697203226425, -0.35243346094984634, null, 0.02289697203226425, -0.46893183264908, null, -0.16567531641250685, 0.08596050893130018, null, -0.16567531641250685, -0.35243346094984634, null, -0.3863565664749771, -0.2784549787103296, null, -0.3863565664749771, 0.08596050893130018, null, -0.3863565664749771, 0.12429978656724905, null, -0.3863565664749771, -0.2454409899017747, null, -0.3863565664749771, -0.35243346094984634, null, -0.3863565664749771, -0.9324214398842147, null, -0.3863565664749771, -0.8771461045347024, null, 0.2997246615993193, 0.26805422609730234, null, 0.2997246615993193, -0.2454409899017747, null, 0.2997246615993193, 0.08596050893130018, null, 0.08596050893130018, -0.2784549787103296, null, 0.08596050893130018, 0.26805422609730234, null, 0.08596050893130018, -0.7205428170079232, null, 0.08596050893130018, 0.8859408127719092, null, 0.08596050893130018, 0.03930886246100886, null, 0.08596050893130018, 0.44921480086116683, null, 0.44921480086116683, 0.8859408127719092, null, -0.2784549787103296, 0.26805422609730234, null, 0.8859408127719092, 0.6840109714877658, null, 0.12429978656724905, 0.6840109714877658, null, 0.6840109714877658, 0.26805422609730234, null, 0.26805422609730234, -0.2454409899017747, null]}, {\"hoverinfo\": \"text\", \"hovertext\": [\"115\", \"52\", \"81\", \"92\", \"169\", \"57\", \"14\", \"68\", \"48\", \"6\", \"20\", \"25\", \"14\", \"53\", \"31\", \"44\", \"4\", \"4\", \"15\", \"6\", \"10\", \"16\", \"15\", \"10\", \"15\", \"4\", \"8\", \"16\", \"6\", \"5\", \"9\"], \"marker\": {\"color\": [115, 52, 81, 92, 169, 57, 14, 68, 48, 6, 20, 25, 14, 53, 31, 44, 4, 4, 15, 6, 10, 16, 15, 10, 15, 4, 8, 16, 6, 5, 9], \"colorbar\": {\"thickness\": 15, \"title\": {\"side\": \"right\", \"text\": \"degree\"}, \"xanchor\": \"left\"}, \"colorscale\": [[0.0, \"rgb(255,255,255)\"], [0.125, \"rgb(240,240,240)\"], [0.25, \"rgb(217,217,217)\"], [0.375, \"rgb(189,189,189)\"], [0.5, \"rgb(150,150,150)\"], [0.625, \"rgb(115,115,115)\"], [0.75, \"rgb(82,82,82)\"], [0.875, \"rgb(37,37,37)\"], [1.0, \"rgb(0,0,0)\"]], \"line\": {\"width\": 1}, \"reversescale\": true, \"showscale\": false, \"size\": 7}, \"mode\": \"markers+text\", \"text\": [\"\\u03a7\\u03c1\\u03b9\\u03c3\\u03c4\\u03cc\\u03c2\", \"\\u1f38\\u03b7\\u03c3\\u03bf\\u1fe6\\u03c2\", \"\\u03ba\\u03cd\\u03c1\\u03b9\\u03bf\\u03c2\", \"\\u03b5\\u1f30\\u03bc\\u03af\", \"\\u03b8\\u03b5\\u03cc\\u03c2\", \"\\u03c7\\u03ac\\u03c1\\u03b9\\u03c2\", \"\\u03c0\\u03b1\\u03c4\\u03ae\\u03c1\", \"\\u03bd\\u03bf\\u03bc\\u03cc\\u03c2\", \"\\u03c0\\u03bd\\u03b5\\u1fe6\\u03bc\\u03b1\", \"\\u03b5\\u1f30\\u03c1\\u03ae\\u03bd\\u03b7\", \"\\u1f14\\u03c1\\u03b3\\u03bf\\u03bd\", \"\\u03b1\\u1f50\\u03c4\\u03cc\\u03c2\", \"\\u1f05\\u03b3\\u03b9\\u03bf\\u03c2\", \"\\u03bf\\u1f57\\u03c4\\u03bf\\u03c2\", \"\\u03b4\\u03b9\\u03ba\\u03b1\\u03b9\\u03bf\\u03c3\\u03cd\\u03bd\\u03b7\", \"\\u03c0\\u1fb6\\u03c2\", \"\\u03bf\\u1f36\\u03b4\\u03b1\", \"\\u03c5\\u1f31\\u03cc\\u03c2\", \"\\u03b4\\u03cd\\u03bd\\u03b1\\u03bc\\u03b9\\u03c2\", \"\\u03b8\\u03ad\\u03bb\\u03b7\\u03bc\\u03b1\", \"\\u1f14\\u03c7\\u03c9\", \"\\u1f01\\u03bc\\u03b1\\u03c1\\u03c4\\u03af\\u03b1\", \"\\u03b4\\u03af\\u03b4\\u03c9\\u03bc\\u03b9\", \"\\u03b5\\u1f50\\u03c7\\u03b1\\u03c1\\u03b9\\u03c3\\u03c4\\u03ad\\u03c9\", \"\\u03b3\\u03b9\\u03b3\\u03bd\\u03ce\\u03c3\\u03ba\\u03c9\", \"\\u03b4\\u03cc\\u03be\\u03b1\", \"\\u1f10\\u03ba\\u03ba\\u03bb\\u03b7\\u03c3\\u03af\\u03b1\", \"\\u03c0\\u03af\\u03c3\\u03c4\\u03b9\\u03c2\", \"\\u1f00\\u03b3\\u03b1\\u03c0\\u03ac\\u03c9\", \"\\u03c3\\u03bf\\u03c6\\u03af\\u03b1\", \"\\u03bb\\u03bf\\u03b3\\u03af\\u03b6\\u03bf\\u03bc\\u03b1\\u03b9\"], \"textposition\": \"bottom center\", \"type\": \"scatter\", \"x\": [0.23190838440648565, -0.06663249132033099, 0.011970425986579146, -0.3791400695806018, 0.047048690123964315, 0.08047480298801482, 0.487932352045928, -0.18259455706997874, -0.3355830895232957, -0.561809197475665, -0.02326634666237779, -0.6667752075685253, -0.726376565950857, 0.09074210177977564, 0.6801970214171701, -0.05477947096003114, -0.4899856897563967, -0.7570061605125785, -0.6235291724157351, -0.30100492573037363, -0.2902174373188059, -0.3708547868897281, 0.53497601555834, 0.017572583713303783, 0.34487275834905445, 0.7343340442596912, 0.27887075958405505, 0.2599631823983415, 0.5212131795541979, 0.7541162952853083, 0.7533625712850716], \"y\": [0.007494545707481491, -0.4934796667080713, 0.28403652474769664, 0.2142286172168879, -0.13817059355477831, 0.5668617380132226, 0.47259950510216225, 0.43465698173715733, -0.012689972844505307, 0.6121045444857716, 1.0, 0.02289697203226425, -0.16567531641250685, -0.3863565664749771, 0.2997246615993193, 0.08596050893130018, -0.35243346094984634, -0.46893183264908, 0.44921480086116683, -0.8771461045347024, -0.2784549787103296, 0.8859408127719092, 0.12429978656724905, -0.9324214398842147, 0.6840109714877658, 0.03930886246100886, -0.7205428170079232, 0.26805422609730234, -0.8090721225581502, -0.5705781976288062, -0.2454409899017747]}, {\"hoverinfo\": \"text\", \"marker\": {\"opacity\": 0}, \"mode\": \"markers\", \"opacity\": 0, \"text\": [\"83\", \"11\", \"10\", \"5\", \"5\", \"5\", \"5\", \"5\", \"5\", \"3\", \"3\", \"2\", \"2\", \"2\", \"2\", \"2\", \"2\", \"55\", \"5\", \"3\", \"3\", \"3\", \"2\", \"2\", \"11\", \"8\", \"8\", \"6\", \"4\", \"4\", \"4\", \"3\", \"3\", \"3\", \"3\", \"2\", \"2\", \"20\", \"15\", \"11\", \"11\", \"10\", \"8\", \"5\", \"5\", \"5\", \"4\", \"4\", \"3\", \"2\", \"2\", \"2\", \"20\", \"18\", \"15\", \"13\", \"10\", \"10\", \"10\", \"9\", \"9\", \"9\", \"9\", \"9\", \"8\", \"8\", \"8\", \"8\", \"8\", \"7\", \"7\", \"5\", \"4\", \"3\", \"2\", \"2\", \"7\", \"5\", \"3\", \"2\", \"2\", \"2\", \"2\", \"2\", \"3\", \"2\", \"12\", \"9\", \"7\", \"6\", \"3\", \"2\", \"2\", \"2\", \"2\", \"11\", \"6\", \"6\", \"3\", \"3\", \"2\", \"2\", \"2\", \"2\", \"5\", \"4\", \"3\", \"2\", \"7\", \"3\", \"2\", \"2\", \"2\", \"2\", \"2\", \"2\", \"2\", \"7\", \"6\", \"2\", \"5\", \"4\", \"4\", \"3\", \"2\", \"2\", \"2\", \"3\", \"2\", \"2\", \"3\", \"2\"], \"type\": \"scatter\", \"x\": [0.08263794654307732, 0.13947853726522497, -0.07361584258705808, 0.1219394051965324, 0.08856445672322726, 0.3834421999824128, -0.05183735255840502, -0.029154526456160124, 0.24593578340241357, 0.16132524309313065, 0.4831212143330884, 0.024656913668253455, 0.45605270291182787, 0.3599203682262068, 0.28839057137777, 0.15619159369725022, -0.24723409077218567, -0.02733103266687592, -0.009791900598183335, -0.024529953803513603, -0.06070598114018107, -0.20110779042181334, 0.09666534553900524, -0.27830909053836383, 0.24995138901625358, -0.18358482179701133, 0.04622261448729698, -0.021404522486726, -0.32740239079097305, 0.37315223512313517, 0.27347322077245956, 0.02950955805527173, -0.13912350566611337, -0.005647960337899321, -0.16180633176835826, 0.1784215921678168, -0.23900763188490878, -0.16604568972831873, -0.28086731332529025, -0.5229576385745636, -0.14419898390041308, -0.2169597702703165, -0.35736157955194875, -0.37499742823516496, 0.05439614123266309, -0.5680731150465902, -0.3346787534497039, -0.5527583177657294, -0.14933263329629348, -0.059588443591130164, -0.43456287966849927, -0.47047463352813346, 0.06376174655598957, 0.26749052108494614, -0.14426719969966567, -0.2573802536758504, 0.3636228557705672, -0.0038653904180334132, -0.2214684998162162, -0.3549787351943071, -0.2882402411458854, -0.12697811780320467, -0.12158437359742079, 0.2910123528411521, 0.03231063691863405, 0.1959607242365094, -0.06777293347300721, 0.39069136719182773, 0.16295972485400967, 0.2841309348390811, 0.4005824927046363, 0.1535059362611529, -0.3098632587222805, 0.4002056307045179, -0.33966393791344635, 0.06889539595186997, -0.24066719724382513, 0.3077254092731774, 0.01284766601399184, 0.17021899269317814, -0.05105987704098196, 0.08560845238389522, 0.028604228162818518, 0.21267378066853465, 0.6111331981528096, 0.21657644054294842, -0.10293045186617826, -0.2767246719798534, 0.24880123217359568, 0.038684312664181375, -0.33629012341318776, -0.23640599719439231, 0.08113910063953786, -0.2590888232966372, -0.424684882319252, -0.5309798277370763, -0.47955613096951544, -0.5011791485459105, -0.3129002634210508, -0.19518128024166342, 0.09969646301752214, -0.0378099535624771, 0.11834841786798185, -0.3233977595390565, -0.28801655289437483, -0.3607773392642782, -0.578380448662461, -0.7118906840405519, -0.39057801845544404, -0.6081811278536269, -0.09973766776951512, 0.01798131540987225, 0.3128590586690578, 0.4220523365324236, -0.19962179398831054, 0.05415734274653971, -0.10513141197529899, 0.4700801019077558, 0.7167797963511209, 0.3127087752285695, -0.17249845413941853, 0.10259185571915518, 0.11204564431201196, -0.21281712892487964, 0.33977728664983003, -0.3391543216878831, -0.49719197965273165, -0.015127127460232204, -0.012991014270336831, 0.4399243869536972, 0.302417970373698, 0.5066628768417065], \"y\": [-0.2429925605002949, -0.06533802392364842, 0.1108615814621847, 0.14576553522758906, 0.04672752731939084, 0.06589716613736527, -0.002597713568511908, -0.13548021650142406, 0.1377743859023919, -0.18943101038374782, 0.023401704084245176, 0.2210757637223194, 0.1536096036534004, 0.24004702540482187, 0.34575275859762367, 0.28717814186035207, -0.07909038535251268, -0.10472157098018733, -0.3158251301314248, -0.712950553296143, -0.20375957888838556, -0.25308481977628833, -0.11271272030538448, -0.42295656382895885, 0.37831801492492945, 0.24913257098229227, 0.4254491313804596, 0.18499851683949842, 0.15346674838998045, 0.16167269360435274, 0.20416815565747284, 0.07293296559645916, 0.0027907730186835233, 0.6420182623738483, 0.13567327595159567, 0.4840237481177312, -0.03419846810107485, 0.038029011831054796, 0.3244427994770226, 0.11856279462457608, -0.08606397462904461, 0.15009456307409405, 0.1007693221861913, 0.5500847149943986, 0.3434140611595251, -0.12735160771609605, -0.03211318074672084, 0.024276650402190528, 0.39054517761505525, 0.24114142165709512, -0.06910242186647922, 0.41316658085132973, 0.21434557222922213, 0.16721445577369198, -0.07543028319964182, 0.2369669754654966, 0.0807770340222705, -0.026105042311739067, -0.24530202725231232, -0.3035512131019292, 0.15552210365319424, -0.5076583490447404, -0.20831278613255394, -0.006935403493764633, -0.5352960167194964, 0.2729201889664937, 0.14824319409118952, -0.04943086554688472, -0.4293567052813508, -0.47362135805646427, -0.3543743955917923, 0.06494181627126201, -0.05763681076125703, -0.1918057917282765, -0.15192295498364258, -0.2622635800148777, 0.5894831412494971, 0.3455807622902358, 0.32641112347226137, 0.41745798205526247, 0.5007593598751899, 0.09025258576912273, 0.7834308690066113, 0.6254363547504942, 0.2559541837815856, 0.2792800070167312, 0.7173284908685786, 0.6602988972545333, 0.36719082166823835, 0.35135560391722986, 0.041111760393655494, 0.07810100151341387, 0.5593339766124615, 0.21098350444632602, 0.2287769768847108, -0.08918264462850609, 0.21826241400833077, 0.005103499593879471, -0.14557247577741744, 0.03663526804339744, 0.05580490686137187, 0.12768212662639852, 0.6340271130486512, 0.7246074004305834, -0.18172979722135643, 0.054428740481782215, -0.16476824445879104, -0.22301743030840787, -0.039857403740603335, -0.2590543886811766, -0.33240577259265336, -0.15019802877183847, -0.13102838995386404, -0.3158987781883759, -0.36939501371241173, -0.6593890031795959, -0.6317513355048398, 0.28388944384831083, 0.027141835848772305, 0.19284258526530976, -0.0962472348895147, 0.17700736751430127, -0.31729115403831154, 0.48595066085160465, 0.06263468569615452, 0.2675876548962335, 0.667577806816538, -0.005200376306513627, 0.7849758921298375, 0.4041553790275074, 0.47603259879253407, 0.011306618097763815]}],                        {\"autosize\": false, \"height\": 500, \"hovermode\": \"closest\", \"margin\": {\"b\": 10, \"l\": 10, \"r\": 10, \"t\": 10}, \"plot_bgcolor\": \"rgba(0,0,0,0)\", \"showlegend\": false, \"template\": {\"data\": {\"bar\": [{\"error_x\": {\"color\": \"#2a3f5f\"}, \"error_y\": {\"color\": \"#2a3f5f\"}, \"marker\": {\"line\": {\"color\": \"#E5ECF6\", \"width\": 0.5}}, \"type\": \"bar\"}], \"barpolar\": [{\"marker\": {\"line\": {\"color\": \"#E5ECF6\", \"width\": 0.5}}, \"type\": \"barpolar\"}], \"carpet\": [{\"aaxis\": {\"endlinecolor\": \"#2a3f5f\", \"gridcolor\": \"white\", \"linecolor\": \"white\", \"minorgridcolor\": \"white\", \"startlinecolor\": \"#2a3f5f\"}, \"baxis\": {\"endlinecolor\": \"#2a3f5f\", \"gridcolor\": \"white\", \"linecolor\": \"white\", \"minorgridcolor\": \"white\", \"startlinecolor\": \"#2a3f5f\"}, \"type\": \"carpet\"}], \"choropleth\": [{\"colorbar\": {\"outlinewidth\": 0, \"ticks\": \"\"}, \"type\": \"choropleth\"}], \"contour\": [{\"colorbar\": {\"outlinewidth\": 0, \"ticks\": \"\"}, \"colorscale\": [[0.0, \"#0d0887\"], [0.1111111111111111, \"#46039f\"], [0.2222222222222222, \"#7201a8\"], [0.3333333333333333, \"#9c179e\"], [0.4444444444444444, \"#bd3786\"], [0.5555555555555556, \"#d8576b\"], [0.6666666666666666, \"#ed7953\"], [0.7777777777777778, \"#fb9f3a\"], [0.8888888888888888, \"#fdca26\"], [1.0, \"#f0f921\"]], \"type\": \"contour\"}], \"contourcarpet\": [{\"colorbar\": {\"outlinewidth\": 0, \"ticks\": \"\"}, \"type\": \"contourcarpet\"}], \"heatmap\": [{\"colorbar\": {\"outlinewidth\": 0, \"ticks\": \"\"}, \"colorscale\": [[0.0, \"#0d0887\"], [0.1111111111111111, \"#46039f\"], [0.2222222222222222, \"#7201a8\"], [0.3333333333333333, \"#9c179e\"], [0.4444444444444444, \"#bd3786\"], [0.5555555555555556, \"#d8576b\"], [0.6666666666666666, \"#ed7953\"], [0.7777777777777778, \"#fb9f3a\"], [0.8888888888888888, \"#fdca26\"], [1.0, \"#f0f921\"]], \"type\": \"heatmap\"}], \"heatmapgl\": [{\"colorbar\": {\"outlinewidth\": 0, \"ticks\": \"\"}, \"colorscale\": [[0.0, \"#0d0887\"], [0.1111111111111111, \"#46039f\"], [0.2222222222222222, \"#7201a8\"], [0.3333333333333333, \"#9c179e\"], [0.4444444444444444, \"#bd3786\"], [0.5555555555555556, \"#d8576b\"], [0.6666666666666666, \"#ed7953\"], [0.7777777777777778, \"#fb9f3a\"], [0.8888888888888888, \"#fdca26\"], [1.0, \"#f0f921\"]], \"type\": \"heatmapgl\"}], \"histogram\": [{\"marker\": {\"colorbar\": {\"outlinewidth\": 0, \"ticks\": \"\"}}, \"type\": \"histogram\"}], \"histogram2d\": [{\"colorbar\": {\"outlinewidth\": 0, \"ticks\": \"\"}, \"colorscale\": [[0.0, \"#0d0887\"], [0.1111111111111111, \"#46039f\"], [0.2222222222222222, \"#7201a8\"], [0.3333333333333333, \"#9c179e\"], [0.4444444444444444, \"#bd3786\"], [0.5555555555555556, \"#d8576b\"], [0.6666666666666666, \"#ed7953\"], [0.7777777777777778, \"#fb9f3a\"], [0.8888888888888888, \"#fdca26\"], [1.0, \"#f0f921\"]], \"type\": \"histogram2d\"}], \"histogram2dcontour\": [{\"colorbar\": {\"outlinewidth\": 0, \"ticks\": \"\"}, \"colorscale\": [[0.0, \"#0d0887\"], [0.1111111111111111, \"#46039f\"], [0.2222222222222222, \"#7201a8\"], [0.3333333333333333, \"#9c179e\"], [0.4444444444444444, \"#bd3786\"], [0.5555555555555556, \"#d8576b\"], [0.6666666666666666, \"#ed7953\"], [0.7777777777777778, \"#fb9f3a\"], [0.8888888888888888, \"#fdca26\"], [1.0, \"#f0f921\"]], \"type\": \"histogram2dcontour\"}], \"mesh3d\": [{\"colorbar\": {\"outlinewidth\": 0, \"ticks\": \"\"}, \"type\": \"mesh3d\"}], \"parcoords\": [{\"line\": {\"colorbar\": {\"outlinewidth\": 0, \"ticks\": \"\"}}, \"type\": \"parcoords\"}], \"pie\": [{\"automargin\": true, \"type\": \"pie\"}], \"scatter\": [{\"marker\": {\"colorbar\": {\"outlinewidth\": 0, \"ticks\": \"\"}}, \"type\": \"scatter\"}], \"scatter3d\": [{\"line\": {\"colorbar\": {\"outlinewidth\": 0, \"ticks\": \"\"}}, \"marker\": {\"colorbar\": {\"outlinewidth\": 0, \"ticks\": \"\"}}, \"type\": \"scatter3d\"}], \"scattercarpet\": [{\"marker\": {\"colorbar\": {\"outlinewidth\": 0, \"ticks\": \"\"}}, \"type\": \"scattercarpet\"}], \"scattergeo\": [{\"marker\": {\"colorbar\": {\"outlinewidth\": 0, \"ticks\": \"\"}}, \"type\": \"scattergeo\"}], \"scattergl\": [{\"marker\": {\"colorbar\": {\"outlinewidth\": 0, \"ticks\": \"\"}}, \"type\": \"scattergl\"}], \"scattermapbox\": [{\"marker\": {\"colorbar\": {\"outlinewidth\": 0, \"ticks\": \"\"}}, \"type\": \"scattermapbox\"}], \"scatterpolar\": [{\"marker\": {\"colorbar\": {\"outlinewidth\": 0, \"ticks\": \"\"}}, \"type\": \"scatterpolar\"}], \"scatterpolargl\": [{\"marker\": {\"colorbar\": {\"outlinewidth\": 0, \"ticks\": \"\"}}, \"type\": \"scatterpolargl\"}], \"scatterternary\": [{\"marker\": {\"colorbar\": {\"outlinewidth\": 0, \"ticks\": \"\"}}, \"type\": \"scatterternary\"}], \"surface\": [{\"colorbar\": {\"outlinewidth\": 0, \"ticks\": \"\"}, \"colorscale\": [[0.0, \"#0d0887\"], [0.1111111111111111, \"#46039f\"], [0.2222222222222222, \"#7201a8\"], [0.3333333333333333, \"#9c179e\"], [0.4444444444444444, \"#bd3786\"], [0.5555555555555556, \"#d8576b\"], [0.6666666666666666, \"#ed7953\"], [0.7777777777777778, \"#fb9f3a\"], [0.8888888888888888, \"#fdca26\"], [1.0, \"#f0f921\"]], \"type\": \"surface\"}], \"table\": [{\"cells\": {\"fill\": {\"color\": \"#EBF0F8\"}, \"line\": {\"color\": \"white\"}}, \"header\": {\"fill\": {\"color\": \"#C8D4E3\"}, \"line\": {\"color\": \"white\"}}, \"type\": \"table\"}]}, \"layout\": {\"annotationdefaults\": {\"arrowcolor\": \"#2a3f5f\", \"arrowhead\": 0, \"arrowwidth\": 1}, \"coloraxis\": {\"colorbar\": {\"outlinewidth\": 0, \"ticks\": \"\"}}, \"colorscale\": {\"diverging\": [[0, \"#8e0152\"], [0.1, \"#c51b7d\"], [0.2, \"#de77ae\"], [0.3, \"#f1b6da\"], [0.4, \"#fde0ef\"], [0.5, \"#f7f7f7\"], [0.6, \"#e6f5d0\"], [0.7, \"#b8e186\"], [0.8, \"#7fbc41\"], [0.9, \"#4d9221\"], [1, \"#276419\"]], \"sequential\": [[0.0, \"#0d0887\"], [0.1111111111111111, \"#46039f\"], [0.2222222222222222, \"#7201a8\"], [0.3333333333333333, \"#9c179e\"], [0.4444444444444444, \"#bd3786\"], [0.5555555555555556, \"#d8576b\"], [0.6666666666666666, \"#ed7953\"], [0.7777777777777778, \"#fb9f3a\"], [0.8888888888888888, \"#fdca26\"], [1.0, \"#f0f921\"]], \"sequentialminus\": [[0.0, \"#0d0887\"], [0.1111111111111111, \"#46039f\"], [0.2222222222222222, \"#7201a8\"], [0.3333333333333333, \"#9c179e\"], [0.4444444444444444, \"#bd3786\"], [0.5555555555555556, \"#d8576b\"], [0.6666666666666666, \"#ed7953\"], [0.7777777777777778, \"#fb9f3a\"], [0.8888888888888888, \"#fdca26\"], [1.0, \"#f0f921\"]]}, \"colorway\": [\"#636efa\", \"#EF553B\", \"#00cc96\", \"#ab63fa\", \"#FFA15A\", \"#19d3f3\", \"#FF6692\", \"#B6E880\", \"#FF97FF\", \"#FECB52\"], \"font\": {\"color\": \"#2a3f5f\"}, \"geo\": {\"bgcolor\": \"white\", \"lakecolor\": \"white\", \"landcolor\": \"#E5ECF6\", \"showlakes\": true, \"showland\": true, \"subunitcolor\": \"white\"}, \"hoverlabel\": {\"align\": \"left\"}, \"hovermode\": \"closest\", \"mapbox\": {\"style\": \"light\"}, \"paper_bgcolor\": \"white\", \"plot_bgcolor\": \"#E5ECF6\", \"polar\": {\"angularaxis\": {\"gridcolor\": \"white\", \"linecolor\": \"white\", \"ticks\": \"\"}, \"bgcolor\": \"#E5ECF6\", \"radialaxis\": {\"gridcolor\": \"white\", \"linecolor\": \"white\", \"ticks\": \"\"}}, \"scene\": {\"xaxis\": {\"backgroundcolor\": \"#E5ECF6\", \"gridcolor\": \"white\", \"gridwidth\": 2, \"linecolor\": \"white\", \"showbackground\": true, \"ticks\": \"\", \"zerolinecolor\": \"white\"}, \"yaxis\": {\"backgroundcolor\": \"#E5ECF6\", \"gridcolor\": \"white\", \"gridwidth\": 2, \"linecolor\": \"white\", \"showbackground\": true, \"ticks\": \"\", \"zerolinecolor\": \"white\"}, \"zaxis\": {\"backgroundcolor\": \"#E5ECF6\", \"gridcolor\": \"white\", \"gridwidth\": 2, \"linecolor\": \"white\", \"showbackground\": true, \"ticks\": \"\", \"zerolinecolor\": \"white\"}}, \"shapedefaults\": {\"line\": {\"color\": \"#2a3f5f\"}}, \"ternary\": {\"aaxis\": {\"gridcolor\": \"white\", \"linecolor\": \"white\", \"ticks\": \"\"}, \"baxis\": {\"gridcolor\": \"white\", \"linecolor\": \"white\", \"ticks\": \"\"}, \"bgcolor\": \"#E5ECF6\", \"caxis\": {\"gridcolor\": \"white\", \"linecolor\": \"white\", \"ticks\": \"\"}}, \"title\": {\"x\": 0.05}, \"xaxis\": {\"automargin\": true, \"gridcolor\": \"white\", \"linecolor\": \"white\", \"ticks\": \"\", \"title\": {\"standoff\": 15}, \"zerolinecolor\": \"white\", \"zerolinewidth\": 2}, \"yaxis\": {\"automargin\": true, \"gridcolor\": \"white\", \"linecolor\": \"white\", \"ticks\": \"\", \"title\": {\"standoff\": 15}, \"zerolinecolor\": \"white\", \"zerolinewidth\": 2}}}, \"title\": {\"font\": {\"size\": 16}}, \"width\": 500, \"xaxis\": {\"showgrid\": false, \"showticklabels\": false, \"zeroline\": false}, \"yaxis\": {\"showgrid\": false, \"showticklabels\": false, \"zeroline\": false}},                        {\"responsive\": true}                    ).then(function(){\n",
       "                            \n",
       "var gd = document.getElementById('5433c04b-af27-4b2c-87a8-c11e2b2a6433');\n",
       "var x = new MutationObserver(function (mutations, observer) {{\n",
       "        var display = window.getComputedStyle(gd).display;\n",
       "        if (!display || display === 'none') {{\n",
       "            console.log([gd, 'removed!']);\n",
       "            Plotly.purge(gd);\n",
       "            observer.disconnect();\n",
       "        }}\n",
       "}});\n",
       "\n",
       "// Listen for the removal of the full notebook cells\n",
       "var notebookContainer = gd.closest('#notebook-container');\n",
       "if (notebookContainer) {{\n",
       "    x.observe(notebookContainer, {childList: true});\n",
       "}}\n",
       "\n",
       "// Listen for the clearing of the current output cell\n",
       "var outputEl = gd.closest('.output');\n",
       "if (outputEl) {{\n",
       "    x.observe(outputEl, {childList: true});\n",
       "}}\n",
       "\n",
       "                        })                };                });            </script>        </div>"
      ]
     },
     "metadata": {},
     "output_type": "display_data"
    }
   ],
   "source": [
    "fig = textnet.draw_2d_network(ego_network)\n",
    "fig.show()"
   ]
  },
  {
   "cell_type": "code",
   "execution_count": 45,
   "metadata": {},
   "outputs": [
    {
     "data": {
      "application/vnd.plotly.v1+json": {
       "config": {
        "plotlyServerURL": "https://plot.ly"
       },
       "data": [
        {
         "hoverinfo": "text",
         "line": {
          "color": "rgb(125,125,125)",
          "width": 1
         },
         "mode": "lines",
         "text": [
          "0.01205",
          "0.09091",
          "0.1",
          "0.2",
          "0.2",
          "0.2",
          "0.2",
          "0.2",
          "0.2",
          "0.33333",
          "0.33333",
          "0.5",
          "0.5",
          "0.5",
          "0.5",
          "0.5",
          "0.5",
          "0.01818",
          "0.2",
          "0.33333",
          "0.33333",
          "0.33333",
          "0.5",
          "0.5",
          "0.09091",
          "0.125",
          "0.125",
          "0.16667",
          "0.25",
          "0.25",
          "0.25",
          "0.33333",
          "0.33333",
          "0.33333",
          "0.33333",
          "0.5",
          "0.5",
          "0.05",
          "0.06667",
          "0.09091",
          "0.09091",
          "0.1",
          "0.125",
          "0.2",
          "0.2",
          "0.2",
          "0.25",
          "0.25",
          "0.33333",
          "0.5",
          "0.5",
          "0.5",
          "0.05",
          "0.05556",
          "0.06667",
          "0.07692",
          "0.1",
          "0.1",
          "0.1",
          "0.11111",
          "0.11111",
          "0.11111",
          "0.11111",
          "0.11111",
          "0.125",
          "0.125",
          "0.125",
          "0.125",
          "0.125",
          "0.14286",
          "0.14286",
          "0.2",
          "0.25",
          "0.33333",
          "0.5",
          "0.5",
          "0.14286",
          "0.2",
          "0.33333",
          "0.5",
          "0.5",
          "0.5",
          "0.5",
          "0.5",
          "0.33333",
          "0.5",
          "0.08333",
          "0.11111",
          "0.14286",
          "0.16667",
          "0.33333",
          "0.5",
          "0.5",
          "0.5",
          "0.5",
          "0.09091",
          "0.16667",
          "0.16667",
          "0.33333",
          "0.33333",
          "0.5",
          "0.5",
          "0.5",
          "0.5",
          "0.2",
          "0.25",
          "0.33333",
          "0.5",
          "0.14286",
          "0.33333",
          "0.5",
          "0.5",
          "0.5",
          "0.5",
          "0.5",
          "0.5",
          "0.5",
          "0.14286",
          "0.16667",
          "0.5",
          "0.2",
          "0.25",
          "0.25",
          "0.33333",
          "0.5",
          "0.5",
          "0.5",
          "0.33333",
          "0.5",
          "0.5",
          "0.33333",
          "0.5"
         ],
         "textposition": "top right",
         "type": "scatter3d",
         "x": [
          0.1949891477207461,
          0.27727568588061974,
          null,
          0.1949891477207461,
          -0.04254103980408853,
          null,
          0.1949891477207461,
          -0.10994613605640445,
          null,
          0.1949891477207461,
          0.05754829046171992,
          null,
          0.1949891477207461,
          0.11670345779508864,
          null,
          0.1949891477207461,
          -0.1650433002757094,
          null,
          0.1949891477207461,
          -0.15337519321687446,
          null,
          0.1949891477207461,
          0.3882117965376087,
          null,
          0.1949891477207461,
          0.24481731265299347,
          null,
          0.1949891477207461,
          0.24867071645935734,
          null,
          0.1949891477207461,
          0.5191385075433048,
          null,
          0.1949891477207461,
          -0.06839678758377497,
          null,
          0.1949891477207461,
          0.5397415412228437,
          null,
          0.1949891477207461,
          0.08915863685610256,
          null,
          0.1949891477207461,
          -0.26715162529255837,
          null,
          0.1949891477207461,
          -0.29566260420066415,
          null,
          0.1949891477207461,
          -0.015569873261109384,
          null,
          0.27727568588061974,
          0.05754829046171992,
          null,
          0.27727568588061974,
          -0.04254103980408853,
          null,
          0.27727568588061974,
          0.2603888426963564,
          null,
          0.27727568588061974,
          0.11670345779508864,
          null,
          0.27727568588061974,
          -0.15337519321687446,
          null,
          0.27727568588061974,
          0.24481731265299347,
          null,
          0.27727568588061974,
          0.2419042154394079,
          null,
          0.05754829046171992,
          0.08915863685610256,
          null,
          0.05754829046171992,
          -0.10994613605640445,
          null,
          0.05754829046171992,
          -0.29566260420066415,
          null,
          0.05754829046171992,
          0.11670345779508864,
          null,
          0.05754829046171992,
          -0.13677413875034233,
          null,
          0.05754829046171992,
          0.5191385075433048,
          null,
          0.05754829046171992,
          -0.1650433002757094,
          null,
          0.05754829046171992,
          -0.04254103980408853,
          null,
          0.05754829046171992,
          0.3882117965376087,
          null,
          0.05754829046171992,
          -0.287422110136106,
          null,
          0.05754829046171992,
          -0.15337519321687446,
          null,
          0.05754829046171992,
          -0.26715162529255837,
          null,
          0.05754829046171992,
          0.2419042154394079,
          null,
          -0.10994613605640445,
          -0.04254103980408853,
          null,
          -0.10994613605640445,
          -0.06839678758377497,
          null,
          -0.10994613605640445,
          -0.13677413875034233,
          null,
          -0.10994613605640445,
          0.24867071645935734,
          null,
          -0.10994613605640445,
          0.11670345779508864,
          null,
          -0.10994613605640445,
          -0.15337519321687446,
          null,
          -0.10994613605640445,
          -0.4004866070940676,
          null,
          -0.10994613605640445,
          0.08915863685610256,
          null,
          -0.10994613605640445,
          -0.5006921448716435,
          null,
          -0.10994613605640445,
          0.3882117965376087,
          null,
          -0.10994613605640445,
          -0.015569873261109384,
          null,
          -0.10994613605640445,
          -0.29566260420066415,
          null,
          -0.10994613605640445,
          0.24481731265299347,
          null,
          -0.10994613605640445,
          0.2419042154394079,
          null,
          -0.10994613605640445,
          -0.6203539938758197,
          null,
          -0.04254103980408853,
          -0.29566260420066415,
          null,
          -0.04254103980408853,
          0.08915863685610256,
          null,
          -0.04254103980408853,
          -0.15337519321687446,
          null,
          -0.04254103980408853,
          -0.6203539938758197,
          null,
          -0.04254103980408853,
          0.5397415412228437,
          null,
          -0.04254103980408853,
          0.11670345779508864,
          null,
          -0.04254103980408853,
          0.2419042154394079,
          null,
          -0.04254103980408853,
          -0.5006921448716435,
          null,
          -0.04254103980408853,
          -0.6275530978868696,
          null,
          -0.04254103980408853,
          -0.1200517803635727,
          null,
          -0.04254103980408853,
          0.3882117965376087,
          null,
          -0.04254103980408853,
          -0.1650433002757094,
          null,
          -0.04254103980408853,
          0.2603888426963564,
          null,
          -0.04254103980408853,
          -0.26715162529255837,
          null,
          -0.04254103980408853,
          -0.06839678758377497,
          null,
          -0.04254103980408853,
          0.5191385075433048,
          null,
          -0.04254103980408853,
          0.3353468405659036,
          null,
          -0.04254103980408853,
          0.011970611003830975,
          null,
          -0.04254103980408853,
          -0.7148451701662938,
          null,
          -0.04254103980408853,
          0.24481731265299347,
          null,
          -0.04254103980408853,
          -0.13677413875034233,
          null,
          -0.04254103980408853,
          1,
          null,
          -0.04254103980408853,
          -0.015569873261109384,
          null,
          -0.04254103980408853,
          0.24867071645935734,
          null,
          -0.29566260420066415,
          -0.6203539938758197,
          null,
          -0.29566260420066415,
          -0.1650433002757094,
          null,
          -0.29566260420066415,
          0.11670345779508864,
          null,
          -0.29566260420066415,
          0.24481731265299347,
          null,
          -0.29566260420066415,
          -0.06839678758377497,
          null,
          -0.29566260420066415,
          0.24867071645935734,
          null,
          -0.29566260420066415,
          -0.287422110136106,
          null,
          -0.29566260420066415,
          -0.26715162529255837,
          null,
          0.08915863685610256,
          0.5191385075433048,
          null,
          0.08915863685610256,
          0.11670345779508864,
          null,
          -0.06839678758377497,
          -0.287422110136106,
          null,
          -0.06839678758377497,
          -0.4004866070940676,
          null,
          -0.06839678758377497,
          0.5397415412228437,
          null,
          -0.06839678758377497,
          0.24481731265299347,
          null,
          -0.06839678758377497,
          0.2419042154394079,
          null,
          -0.06839678758377497,
          0.3882117965376087,
          null,
          -0.06839678758377497,
          -0.26715162529255837,
          null,
          -0.06839678758377497,
          -0.15337519321687446,
          null,
          -0.06839678758377497,
          -0.13677413875034233,
          null,
          -0.15337519321687446,
          -0.015569873261109384,
          null,
          -0.15337519321687446,
          -0.6275530978868696,
          null,
          -0.15337519321687446,
          -0.13677413875034233,
          null,
          -0.15337519321687446,
          0.3882117965376087,
          null,
          -0.15337519321687446,
          0.11670345779508864,
          null,
          -0.15337519321687446,
          -0.1650433002757094,
          null,
          -0.15337519321687446,
          0.24481731265299347,
          null,
          -0.287422110136106,
          0.24481731265299347,
          null,
          -0.287422110136106,
          -0.6275530978868696,
          null,
          -0.13677413875034233,
          0.24867071645935734,
          null,
          -0.13677413875034233,
          0.11670345779508864,
          null,
          -0.13677413875034233,
          0.2419042154394079,
          null,
          -0.13677413875034233,
          -0.5006921448716435,
          null,
          -0.015569873261109384,
          0.11670345779508864,
          null,
          -0.015569873261109384,
          0.2419042154394079,
          null,
          0.24867071645935734,
          0.3882117965376087,
          null,
          0.24867071645935734,
          0.11670345779508864,
          null,
          0.24867071645935734,
          -0.1650433002757094,
          null,
          0.24867071645935734,
          1,
          null,
          0.24867071645935734,
          0.2419042154394079,
          null,
          0.24867071645935734,
          0.2603888426963564,
          null,
          0.24867071645935734,
          -0.1200517803635727,
          null,
          0.5397415412228437,
          0.24481731265299347,
          null,
          0.5397415412228437,
          1,
          null,
          0.5397415412228437,
          0.11670345779508864,
          null,
          0.11670345779508864,
          0.3882117965376087,
          null,
          0.11670345779508864,
          0.24481731265299347,
          null,
          0.11670345779508864,
          0.3353468405659036,
          null,
          0.11670345779508864,
          -0.4004866070940676,
          null,
          0.11670345779508864,
          0.5191385075433048,
          null,
          0.11670345779508864,
          -0.6275530978868696,
          null,
          -0.6275530978868696,
          -0.4004866070940676,
          null,
          0.3882117965376087,
          0.24481731265299347,
          null,
          -0.4004866070940676,
          -0.26715162529255837,
          null,
          -0.1650433002757094,
          -0.26715162529255837,
          null,
          -0.26715162529255837,
          0.24481731265299347,
          null,
          0.24481731265299347,
          1,
          null
         ],
         "y": [
          -0.2172488245573865,
          -0.27667739834602123,
          null,
          -0.2172488245573865,
          0.07827646842184385,
          null,
          -0.2172488245573865,
          0.05142325842774752,
          null,
          -0.2172488245573865,
          -0.2261899015581058,
          null,
          -0.2172488245573865,
          0.06648228877004977,
          null,
          -0.2172488245573865,
          -0.4135643375947849,
          null,
          -0.2172488245573865,
          0.0006980404131330112,
          null,
          -0.2172488245573865,
          -0.004125515155703976,
          null,
          -0.2172488245573865,
          -0.4930823782504998,
          null,
          -0.2172488245573865,
          0.2730425612956671,
          null,
          -0.2172488245573865,
          -0.1169181028284988,
          null,
          -0.2172488245573865,
          -0.3235829596667296,
          null,
          -0.2172488245573865,
          -0.3369474324877185,
          null,
          -0.2172488245573865,
          -0.010196301910023572,
          null,
          -0.2172488245573865,
          -0.6742526230837415,
          null,
          -0.2172488245573865,
          -0.2394242938253198,
          null,
          -0.2172488245573865,
          0.22684515318103088,
          null,
          -0.27667739834602123,
          -0.2261899015581058,
          null,
          -0.27667739834602123,
          0.07827646842184385,
          null,
          -0.27667739834602123,
          -0.03165122485085188,
          null,
          -0.27667739834602123,
          0.06648228877004977,
          null,
          -0.27667739834602123,
          0.0006980404131330112,
          null,
          -0.27667739834602123,
          -0.4930823782504998,
          null,
          -0.27667739834602123,
          0.3906003363617237,
          null,
          -0.2261899015581058,
          -0.010196301910023572,
          null,
          -0.2261899015581058,
          0.05142325842774752,
          null,
          -0.2261899015581058,
          -0.2394242938253198,
          null,
          -0.2261899015581058,
          0.06648228877004977,
          null,
          -0.2261899015581058,
          0.41219965230673944,
          null,
          -0.2261899015581058,
          -0.1169181028284988,
          null,
          -0.2261899015581058,
          -0.4135643375947849,
          null,
          -0.2261899015581058,
          0.07827646842184385,
          null,
          -0.2261899015581058,
          -0.004125515155703976,
          null,
          -0.2261899015581058,
          -0.779974134917463,
          null,
          -0.2261899015581058,
          0.0006980404131330112,
          null,
          -0.2261899015581058,
          -0.6742526230837415,
          null,
          -0.2261899015581058,
          0.3906003363617237,
          null,
          0.05142325842774752,
          0.07827646842184385,
          null,
          0.05142325842774752,
          -0.3235829596667296,
          null,
          0.05142325842774752,
          0.41219965230673944,
          null,
          0.05142325842774752,
          0.2730425612956671,
          null,
          0.05142325842774752,
          0.06648228877004977,
          null,
          0.05142325842774752,
          0.0006980404131330112,
          null,
          0.05142325842774752,
          -0.36467129911213425,
          null,
          0.05142325842774752,
          -0.010196301910023572,
          null,
          0.05142325842774752,
          0.6158405492894655,
          null,
          0.05142325842774752,
          -0.004125515155703976,
          null,
          0.05142325842774752,
          0.22684515318103088,
          null,
          0.05142325842774752,
          -0.2394242938253198,
          null,
          0.05142325842774752,
          -0.4930823782504998,
          null,
          0.05142325842774752,
          0.3906003363617237,
          null,
          0.05142325842774752,
          -0.006617689605894837,
          null,
          0.07827646842184385,
          -0.2394242938253198,
          null,
          0.07827646842184385,
          -0.010196301910023572,
          null,
          0.07827646842184385,
          0.0006980404131330112,
          null,
          0.07827646842184385,
          -0.006617689605894837,
          null,
          0.07827646842184385,
          -0.3369474324877185,
          null,
          0.07827646842184385,
          0.06648228877004977,
          null,
          0.07827646842184385,
          0.3906003363617237,
          null,
          0.07827646842184385,
          0.6158405492894655,
          null,
          0.07827646842184385,
          -0.09472798021034978,
          null,
          0.07827646842184385,
          0.44427282348680924,
          null,
          0.07827646842184385,
          -0.004125515155703976,
          null,
          0.07827646842184385,
          -0.4135643375947849,
          null,
          0.07827646842184385,
          -0.03165122485085188,
          null,
          0.07827646842184385,
          -0.6742526230837415,
          null,
          0.07827646842184385,
          -0.3235829596667296,
          null,
          0.07827646842184385,
          -0.1169181028284988,
          null,
          0.07827646842184385,
          0.7952345924010316,
          null,
          0.07827646842184385,
          0.8947129396072155,
          null,
          0.07827646842184385,
          0.599013773050172,
          null,
          0.07827646842184385,
          -0.4930823782504998,
          null,
          0.07827646842184385,
          0.41219965230673944,
          null,
          0.07827646842184385,
          -0.23879003905139876,
          null,
          0.07827646842184385,
          0.22684515318103088,
          null,
          0.07827646842184385,
          0.2730425612956671,
          null,
          -0.2394242938253198,
          -0.006617689605894837,
          null,
          -0.2394242938253198,
          -0.4135643375947849,
          null,
          -0.2394242938253198,
          0.06648228877004977,
          null,
          -0.2394242938253198,
          -0.4930823782504998,
          null,
          -0.2394242938253198,
          -0.3235829596667296,
          null,
          -0.2394242938253198,
          0.2730425612956671,
          null,
          -0.2394242938253198,
          -0.779974134917463,
          null,
          -0.2394242938253198,
          -0.6742526230837415,
          null,
          -0.010196301910023572,
          -0.1169181028284988,
          null,
          -0.010196301910023572,
          0.06648228877004977,
          null,
          -0.3235829596667296,
          -0.779974134917463,
          null,
          -0.3235829596667296,
          -0.36467129911213425,
          null,
          -0.3235829596667296,
          -0.3369474324877185,
          null,
          -0.3235829596667296,
          -0.4930823782504998,
          null,
          -0.3235829596667296,
          0.3906003363617237,
          null,
          -0.3235829596667296,
          -0.004125515155703976,
          null,
          -0.3235829596667296,
          -0.6742526230837415,
          null,
          -0.3235829596667296,
          0.0006980404131330112,
          null,
          -0.3235829596667296,
          0.41219965230673944,
          null,
          0.0006980404131330112,
          0.22684515318103088,
          null,
          0.0006980404131330112,
          -0.09472798021034978,
          null,
          0.0006980404131330112,
          0.41219965230673944,
          null,
          0.0006980404131330112,
          -0.004125515155703976,
          null,
          0.0006980404131330112,
          0.06648228877004977,
          null,
          0.0006980404131330112,
          -0.4135643375947849,
          null,
          0.0006980404131330112,
          -0.4930823782504998,
          null,
          -0.779974134917463,
          -0.4930823782504998,
          null,
          -0.779974134917463,
          -0.09472798021034978,
          null,
          0.41219965230673944,
          0.2730425612956671,
          null,
          0.41219965230673944,
          0.06648228877004977,
          null,
          0.41219965230673944,
          0.3906003363617237,
          null,
          0.41219965230673944,
          0.6158405492894655,
          null,
          0.22684515318103088,
          0.06648228877004977,
          null,
          0.22684515318103088,
          0.3906003363617237,
          null,
          0.2730425612956671,
          -0.004125515155703976,
          null,
          0.2730425612956671,
          0.06648228877004977,
          null,
          0.2730425612956671,
          -0.4135643375947849,
          null,
          0.2730425612956671,
          -0.23879003905139876,
          null,
          0.2730425612956671,
          0.3906003363617237,
          null,
          0.2730425612956671,
          -0.03165122485085188,
          null,
          0.2730425612956671,
          0.44427282348680924,
          null,
          -0.3369474324877185,
          -0.4930823782504998,
          null,
          -0.3369474324877185,
          -0.23879003905139876,
          null,
          -0.3369474324877185,
          0.06648228877004977,
          null,
          0.06648228877004977,
          -0.004125515155703976,
          null,
          0.06648228877004977,
          -0.4930823782504998,
          null,
          0.06648228877004977,
          0.7952345924010316,
          null,
          0.06648228877004977,
          -0.36467129911213425,
          null,
          0.06648228877004977,
          -0.1169181028284988,
          null,
          0.06648228877004977,
          -0.09472798021034978,
          null,
          -0.09472798021034978,
          -0.36467129911213425,
          null,
          -0.004125515155703976,
          -0.4930823782504998,
          null,
          -0.36467129911213425,
          -0.6742526230837415,
          null,
          -0.4135643375947849,
          -0.6742526230837415,
          null,
          -0.6742526230837415,
          -0.4930823782504998,
          null,
          -0.4930823782504998,
          -0.23879003905139876,
          null
         ],
         "z": [
          -0.01944253888543303,
          0.13304806403918196,
          null,
          -0.01944253888543303,
          0.120044995441153,
          null,
          -0.01944253888543303,
          -0.16273951336134956,
          null,
          -0.01944253888543303,
          0.08087337938673064,
          null,
          -0.01944253888543303,
          -0.2548586467404423,
          null,
          -0.01944253888543303,
          0.39831052094405867,
          null,
          -0.01944253888543303,
          -0.35853754696298706,
          null,
          -0.01944253888543303,
          -0.34287689769373114,
          null,
          -0.01944253888543303,
          -0.3031872419979739,
          null,
          -0.01944253888543303,
          0.18289531588607463,
          null,
          -0.01944253888543303,
          0.480178853863655,
          null,
          -0.01944253888543303,
          -0.43147925720190367,
          null,
          -0.01944253888543303,
          -0.24453127667011318,
          null,
          -0.01944253888543303,
          0.4279352521925499,
          null,
          -0.01944253888543303,
          -0.028902025599225677,
          null,
          -0.01944253888543303,
          0.10873691275813743,
          null,
          -0.01944253888543303,
          -0.7282148183390613,
          null,
          0.13304806403918196,
          0.08087337938673064,
          null,
          0.13304806403918196,
          0.120044995441153,
          null,
          0.13304806403918196,
          0.8616902116366264,
          null,
          0.13304806403918196,
          -0.2548586467404423,
          null,
          0.13304806403918196,
          -0.35853754696298706,
          null,
          0.13304806403918196,
          -0.3031872419979739,
          null,
          0.13304806403918196,
          -0.3493458811736481,
          null,
          0.08087337938673064,
          0.4279352521925499,
          null,
          0.08087337938673064,
          -0.16273951336134956,
          null,
          0.08087337938673064,
          0.10873691275813743,
          null,
          0.08087337938673064,
          -0.2548586467404423,
          null,
          0.08087337938673064,
          -0.25389312050166624,
          null,
          0.08087337938673064,
          0.480178853863655,
          null,
          0.08087337938673064,
          0.39831052094405867,
          null,
          0.08087337938673064,
          0.120044995441153,
          null,
          0.08087337938673064,
          -0.34287689769373114,
          null,
          0.08087337938673064,
          -0.5362324842107593,
          null,
          0.08087337938673064,
          -0.35853754696298706,
          null,
          0.08087337938673064,
          -0.028902025599225677,
          null,
          0.08087337938673064,
          -0.3493458811736481,
          null,
          -0.16273951336134956,
          0.120044995441153,
          null,
          -0.16273951336134956,
          -0.43147925720190367,
          null,
          -0.16273951336134956,
          -0.25389312050166624,
          null,
          -0.16273951336134956,
          0.18289531588607463,
          null,
          -0.16273951336134956,
          -0.2548586467404423,
          null,
          -0.16273951336134956,
          -0.35853754696298706,
          null,
          -0.16273951336134956,
          -0.7494267473885634,
          null,
          -0.16273951336134956,
          0.4279352521925499,
          null,
          -0.16273951336134956,
          -0.05047978424187975,
          null,
          -0.16273951336134956,
          -0.34287689769373114,
          null,
          -0.16273951336134956,
          -0.7282148183390613,
          null,
          -0.16273951336134956,
          0.10873691275813743,
          null,
          -0.16273951336134956,
          -0.3031872419979739,
          null,
          -0.16273951336134956,
          -0.3493458811736481,
          null,
          -0.16273951336134956,
          0.37898042278561506,
          null,
          0.120044995441153,
          0.10873691275813743,
          null,
          0.120044995441153,
          0.4279352521925499,
          null,
          0.120044995441153,
          -0.35853754696298706,
          null,
          0.120044995441153,
          0.37898042278561506,
          null,
          0.120044995441153,
          -0.24453127667011318,
          null,
          0.120044995441153,
          -0.2548586467404423,
          null,
          0.120044995441153,
          -0.3493458811736481,
          null,
          0.120044995441153,
          -0.05047978424187975,
          null,
          0.120044995441153,
          -0.3758253025109929,
          null,
          0.120044995441153,
          0.8257954801742535,
          null,
          0.120044995441153,
          -0.34287689769373114,
          null,
          0.120044995441153,
          0.39831052094405867,
          null,
          0.120044995441153,
          0.8616902116366264,
          null,
          0.120044995441153,
          -0.028902025599225677,
          null,
          0.120044995441153,
          -0.43147925720190367,
          null,
          0.120044995441153,
          0.480178853863655,
          null,
          0.120044995441153,
          -0.01045690445629616,
          null,
          0.120044995441153,
          0.679826496959129,
          null,
          0.120044995441153,
          0.6008043170809071,
          null,
          0.120044995441153,
          -0.3031872419979739,
          null,
          0.120044995441153,
          -0.25389312050166624,
          null,
          0.120044995441153,
          -0.07869023521204872,
          null,
          0.120044995441153,
          -0.7282148183390613,
          null,
          0.120044995441153,
          0.18289531588607463,
          null,
          0.10873691275813743,
          0.37898042278561506,
          null,
          0.10873691275813743,
          0.39831052094405867,
          null,
          0.10873691275813743,
          -0.2548586467404423,
          null,
          0.10873691275813743,
          -0.3031872419979739,
          null,
          0.10873691275813743,
          -0.43147925720190367,
          null,
          0.10873691275813743,
          0.18289531588607463,
          null,
          0.10873691275813743,
          -0.5362324842107593,
          null,
          0.10873691275813743,
          -0.028902025599225677,
          null,
          0.4279352521925499,
          0.480178853863655,
          null,
          0.4279352521925499,
          -0.2548586467404423,
          null,
          -0.43147925720190367,
          -0.5362324842107593,
          null,
          -0.43147925720190367,
          -0.7494267473885634,
          null,
          -0.43147925720190367,
          -0.24453127667011318,
          null,
          -0.43147925720190367,
          -0.3031872419979739,
          null,
          -0.43147925720190367,
          -0.3493458811736481,
          null,
          -0.43147925720190367,
          -0.34287689769373114,
          null,
          -0.43147925720190367,
          -0.028902025599225677,
          null,
          -0.43147925720190367,
          -0.35853754696298706,
          null,
          -0.43147925720190367,
          -0.25389312050166624,
          null,
          -0.35853754696298706,
          -0.7282148183390613,
          null,
          -0.35853754696298706,
          -0.3758253025109929,
          null,
          -0.35853754696298706,
          -0.25389312050166624,
          null,
          -0.35853754696298706,
          -0.34287689769373114,
          null,
          -0.35853754696298706,
          -0.2548586467404423,
          null,
          -0.35853754696298706,
          0.39831052094405867,
          null,
          -0.35853754696298706,
          -0.3031872419979739,
          null,
          -0.5362324842107593,
          -0.3031872419979739,
          null,
          -0.5362324842107593,
          -0.3758253025109929,
          null,
          -0.25389312050166624,
          0.18289531588607463,
          null,
          -0.25389312050166624,
          -0.2548586467404423,
          null,
          -0.25389312050166624,
          -0.3493458811736481,
          null,
          -0.25389312050166624,
          -0.05047978424187975,
          null,
          -0.7282148183390613,
          -0.2548586467404423,
          null,
          -0.7282148183390613,
          -0.3493458811736481,
          null,
          0.18289531588607463,
          -0.34287689769373114,
          null,
          0.18289531588607463,
          -0.2548586467404423,
          null,
          0.18289531588607463,
          0.39831052094405867,
          null,
          0.18289531588607463,
          -0.07869023521204872,
          null,
          0.18289531588607463,
          -0.3493458811736481,
          null,
          0.18289531588607463,
          0.8616902116366264,
          null,
          0.18289531588607463,
          0.8257954801742535,
          null,
          -0.24453127667011318,
          -0.3031872419979739,
          null,
          -0.24453127667011318,
          -0.07869023521204872,
          null,
          -0.24453127667011318,
          -0.2548586467404423,
          null,
          -0.2548586467404423,
          -0.34287689769373114,
          null,
          -0.2548586467404423,
          -0.3031872419979739,
          null,
          -0.2548586467404423,
          -0.01045690445629616,
          null,
          -0.2548586467404423,
          -0.7494267473885634,
          null,
          -0.2548586467404423,
          0.480178853863655,
          null,
          -0.2548586467404423,
          -0.3758253025109929,
          null,
          -0.3758253025109929,
          -0.7494267473885634,
          null,
          -0.34287689769373114,
          -0.3031872419979739,
          null,
          -0.7494267473885634,
          -0.028902025599225677,
          null,
          0.39831052094405867,
          -0.028902025599225677,
          null,
          -0.028902025599225677,
          -0.3031872419979739,
          null,
          -0.3031872419979739,
          -0.07869023521204872,
          null
         ]
        },
        {
         "marker": {
          "color": [
           115,
           52,
           81,
           92,
           169,
           57,
           14,
           68,
           48,
           6,
           20,
           25,
           14,
           53,
           31,
           44,
           4,
           4,
           15,
           6,
           10,
           16,
           15,
           10,
           15,
           4,
           8,
           16,
           6,
           5,
           9
          ],
          "colorscale": [
           [
            0,
            "rgb(161, 105, 40)"
           ],
           [
            0.16666666666666666,
            "rgb(189, 146, 90)"
           ],
           [
            0.3333333333333333,
            "rgb(214, 189, 141)"
           ],
           [
            0.5,
            "rgb(237, 234, 194)"
           ],
           [
            0.6666666666666666,
            "rgb(181, 200, 184)"
           ],
           [
            0.8333333333333334,
            "rgb(121, 167, 172)"
           ],
           [
            1,
            "rgb(40, 135, 161)"
           ]
          ],
          "line": {
           "color": "rgb(50,50,50)",
           "width": 0.5
          },
          "reversescale": true,
          "size": 6,
          "symbol": "circle"
         },
         "mode": "markers+text",
         "text": [
          "Χριστός",
          "Ἰησοῦς",
          "κύριος",
          "εἰμί",
          "θεός",
          "χάρις",
          "πατήρ",
          "νομός",
          "πνεῦμα",
          "εἰρήνη",
          "ἔργον",
          "αὐτός",
          "ἅγιος",
          "οὗτος",
          "δικαιοσύνη",
          "πᾶς",
          "οἶδα",
          "υἱός",
          "δύναμις",
          "θέλημα",
          "ἔχω",
          "ἁμαρτία",
          "δίδωμι",
          "εὐχαριστέω",
          "γιγνώσκω",
          "δόξα",
          "ἐκκλησία",
          "πίστις",
          "ἀγαπάω",
          "σοφία",
          "λογίζομαι"
         ],
         "type": "scatter3d",
         "x": [
          0.1949891477207461,
          0.27727568588061974,
          0.05754829046171992,
          -0.10994613605640445,
          -0.04254103980408853,
          -0.29566260420066415,
          0.08915863685610256,
          -0.06839678758377497,
          -0.15337519321687446,
          -0.6203539938758197,
          -0.287422110136106,
          -0.13677413875034233,
          -0.015569873261109384,
          0.24867071645935734,
          0.5397415412228437,
          0.11670345779508864,
          0.2419042154394079,
          -0.5006921448716435,
          -0.6275530978868696,
          -0.1200517803635727,
          0.3882117965376087,
          -0.4004866070940676,
          -0.1650433002757094,
          0.2603888426963564,
          -0.26715162529255837,
          0.5191385075433048,
          0.3353468405659036,
          0.24481731265299347,
          0.011970611003830975,
          -0.7148451701662938,
          1
         ],
         "y": [
          -0.2172488245573865,
          -0.27667739834602123,
          -0.2261899015581058,
          0.05142325842774752,
          0.07827646842184385,
          -0.2394242938253198,
          -0.010196301910023572,
          -0.3235829596667296,
          0.0006980404131330112,
          -0.006617689605894837,
          -0.779974134917463,
          0.41219965230673944,
          0.22684515318103088,
          0.2730425612956671,
          -0.3369474324877185,
          0.06648228877004977,
          0.3906003363617237,
          0.6158405492894655,
          -0.09472798021034978,
          0.44427282348680924,
          -0.004125515155703976,
          -0.36467129911213425,
          -0.4135643375947849,
          -0.03165122485085188,
          -0.6742526230837415,
          -0.1169181028284988,
          0.7952345924010316,
          -0.4930823782504998,
          0.8947129396072155,
          0.599013773050172,
          -0.23879003905139876
         ],
         "z": [
          -0.01944253888543303,
          0.13304806403918196,
          0.08087337938673064,
          -0.16273951336134956,
          0.120044995441153,
          0.10873691275813743,
          0.4279352521925499,
          -0.43147925720190367,
          -0.35853754696298706,
          0.37898042278561506,
          -0.5362324842107593,
          -0.25389312050166624,
          -0.7282148183390613,
          0.18289531588607463,
          -0.24453127667011318,
          -0.2548586467404423,
          -0.3493458811736481,
          -0.05047978424187975,
          -0.3758253025109929,
          0.8257954801742535,
          -0.34287689769373114,
          -0.7494267473885634,
          0.39831052094405867,
          0.8616902116366264,
          -0.028902025599225677,
          0.480178853863655,
          -0.01045690445629616,
          -0.3031872419979739,
          0.679826496959129,
          0.6008043170809071,
          -0.07869023521204872
         ]
        },
        {
         "hoverinfo": "text",
         "marker": {
          "opacity": 0
         },
         "mode": "markers",
         "opacity": 0,
         "text": [
          "83",
          "11",
          "10",
          "5",
          "5",
          "5",
          "5",
          "5",
          "5",
          "3",
          "3",
          "2",
          "2",
          "2",
          "2",
          "2",
          "2",
          "55",
          "5",
          "3",
          "3",
          "3",
          "2",
          "2",
          "11",
          "8",
          "8",
          "6",
          "4",
          "4",
          "4",
          "3",
          "3",
          "3",
          "3",
          "2",
          "2",
          "20",
          "15",
          "11",
          "11",
          "10",
          "8",
          "5",
          "5",
          "5",
          "4",
          "4",
          "3",
          "2",
          "2",
          "2",
          "20",
          "18",
          "15",
          "13",
          "10",
          "10",
          "10",
          "9",
          "9",
          "9",
          "9",
          "9",
          "8",
          "8",
          "8",
          "8",
          "8",
          "7",
          "7",
          "5",
          "4",
          "3",
          "2",
          "2",
          "7",
          "5",
          "3",
          "2",
          "2",
          "2",
          "2",
          "2",
          "3",
          "2",
          "12",
          "9",
          "7",
          "6",
          "3",
          "2",
          "2",
          "2",
          "2",
          "11",
          "6",
          "6",
          "3",
          "3",
          "2",
          "2",
          "2",
          "2",
          "5",
          "4",
          "3",
          "2",
          "7",
          "3",
          "2",
          "2",
          "2",
          "2",
          "2",
          "2",
          "2",
          "7",
          "6",
          "2",
          "5",
          "4",
          "4",
          "3",
          "2",
          "2",
          "2",
          "3",
          "2",
          "2",
          "3",
          "2"
         ],
         "type": "scatter3d",
         "x": [
          0.23613241680068292,
          0.07622405395832879,
          0.042521505832170826,
          0.12626871909123302,
          0.1558463027579174,
          0.01497292372251835,
          0.020806977251935824,
          0.2916004721291774,
          0.2199032301868698,
          0.22182993209005172,
          0.3570638276320255,
          0.06329618006848556,
          0.3673653444717949,
          0.14207389228842432,
          -0.03608123878590613,
          -0.05033672823995902,
          0.08970963722981835,
          0.16741198817116984,
          0.11736732303826561,
          0.26883226428848805,
          0.1969895718378542,
          0.06195024633187264,
          0.2610464992668066,
          0.25958995066001384,
          0.07335346365891124,
          -0.026198922797342265,
          -0.11905715686947212,
          0.08712587412840428,
          -0.03961292414431121,
          0.2883433990025124,
          -0.053747504906994745,
          0.007503625328815697,
          0.2228800434996643,
          -0.11493690983719305,
          -0.04791345137757727,
          -0.10480166741541923,
          0.1497262529505639,
          -0.07624358793024649,
          -0.08917146182008971,
          -0.1233601374033734,
          0.06936229020147644,
          0.003378660869342097,
          -0.13166066463663945,
          -0.255216371575236,
          -0.010393749600150944,
          -0.305319140464024,
          0.1391328302406021,
          -0.06275800465875692,
          -0.2028043701285343,
          0.06743558829829452,
          0.06597903969150173,
          -0.3651500649661121,
          -0.16910182200237633,
          0.023308798526007018,
          -0.09795811651048149,
          -0.3314475168399541,
          0.24860025070937758,
          0.03708120899550006,
          0.09968158781765969,
          -0.271616592337866,
          -0.3350470688454791,
          -0.08129641008383061,
          0.17283537836676008,
          -0.10379217003989896,
          0.10892390144613395,
          -0.15484633254832345,
          -0.055468913693931754,
          0.23829873386960815,
          0.14640290038090753,
          -0.015285214400128776,
          -0.37869310498519115,
          0.10113813642445248,
          -0.08965758927721543,
          0.47872948009795574,
          -0.029055456532598955,
          0.10306483832763441,
          -0.4580082990382419,
          -0.23035295223818678,
          -0.08947957320278775,
          -0.025422645773835337,
          -0.18202969589221957,
          -0.023495943870653402,
          -0.29154235716838506,
          -0.2814071147466113,
          0.3041485721997037,
          0.1029310473255956,
          -0.1779094488599405,
          -0.23444169733892128,
          0.23567237681953435,
          0.08821026253460926,
          0.08675371392781647,
          0.15990750447691685,
          -0.16777420643816668,
          -0.11088599040032471,
          -0.10258546316705866,
          -0.08447253323899193,
          -0.39046414555187203,
          -0.1450746659836084,
          0.11741830166036711,
          -0.018335867710892906,
          -0.15920924674629194,
          0.04572105971805951,
          -0.021302398741556275,
          -0.4574876040114878,
          0.055948288854507505,
          -0.010035340477626845,
          0.052565038344532786,
          -0.3187331418109929,
          0.05056679226698963,
          0.11316717108914925,
          0.318441256498483,
          0.18268708712722298,
          0.04181370809182397,
          0.6243353582296787,
          0.2452874659493826,
          0.2545297795778569,
          0.06430946804789232,
          0.39227942693791856,
          0.7698707706114218,
          0.32822249950896615,
          0.2524576271663487,
          0.18076038522404106,
          0.2260251491804961,
          -0.14189157464948948,
          0.3179209826691967,
          -0.2554248200458905,
          -0.5140198524904687,
          0.3165145545953011,
          -0.33381911619331295,
          -0.2160974627841339,
          -0.011167156319782448,
          0.6224086563264968
         ],
         "y": [
          -0.24696311145170385,
          -0.06948617806777133,
          -0.0829127830648195,
          -0.22171936305774614,
          -0.07538326789366837,
          -0.3154065810760857,
          -0.10827539207212675,
          -0.11068716985654524,
          -0.35516560140394315,
          0.027896868369140307,
          -0.16708346369294264,
          -0.2704158921120581,
          -0.2770981285225525,
          -0.11372256323370504,
          -0.44575072382056397,
          -0.22833655919135315,
          0.004798164311822187,
          -0.2514336499520635,
          -0.09920046496208869,
          -0.15416431159843655,
          -0.10509755478798573,
          -0.1379896789664441,
          -0.3848798882982605,
          0.056961469007851234,
          -0.11819310173406469,
          -0.08738332156517914,
          -0.23280709769171282,
          -0.07985380639402802,
          0.09300487537431681,
          -0.1715540021933023,
          -0.3198771195764454,
          -0.07395671656813098,
          -0.11515770835690489,
          -0.5030820182377844,
          -0.1127459305724864,
          -0.45022126232092363,
          0.08220521740180894,
          0.06484986342479568,
          -0.13607985061949104,
          0.23181145536724349,
          0.16223290986170733,
          0.058952773598898646,
          0.026060649420440264,
          -0.15662402034219336,
          0.02061347825886197,
          0.3336319038586065,
          0.023648871636021772,
          0.1391342058043892,
          -0.09400051769878615,
          -0.22082955991137612,
          0.22101179739473562,
          0.02240278441092634,
          -0.08057391270173797,
          0.03404008325591014,
          0.03948725441748843,
          0.035829389407974505,
          -0.12933548203293732,
          0.07237937859594681,
          0.23443840239178376,
          0.3470585088556547,
          -0.008225755894252965,
          0.26127464595432653,
          0.03707547663306994,
          -0.16764393458647053,
          0.023312621785495986,
          -0.2979880773309488,
          -0.12265324562244288,
          -0.01932081720332747,
          0.4367555304114377,
          0.4864947040145297,
          0.33864512073600794,
          -0.20740295491432797,
          0.24523806036429163,
          -0.08025678531477745,
          0.15256081080143735,
          0.17565951485875547,
          -0.12302099171560732,
          -0.32649431571005233,
          -0.08647100252763501,
          -0.36625333603790977,
          -0.2815036267460247,
          0.016809133735173662,
          -0.5096992143713914,
          -0.45683845845453064,
          -0.06355720236926118,
          0.0281429934300131,
          -0.5517785472920963,
          -0.3441271293894319,
          -0.33026519607722404,
          -0.4083326689586147,
          0.03350868834749704,
          -0.1638542374112168,
          -0.4989177913752355,
          -0.1614424596267983,
          0.04430834632000491,
          0.11377159679708194,
          -0.047014969898608386,
          0.20644884635993624,
          -0.0017137373712854825,
          0.03359016459159139,
          -0.20643314859082593,
          -0.24619216891868337,
          -0.6365282565839814,
          -0.4373510575639064,
          0.3426211068012033,
          0.2393409705383946,
          0.40139999433423157,
          0.5140201007981025,
          0.1466637209755403,
          0.3087227447713773,
          0.13445852306998157,
          0.16976242503285843,
          -0.07026088814955889,
          0.01712626112213418,
          0.3318214488286954,
          0.12069566822240763,
          0.3586576923912382,
          -0.4150149053691091,
          -0.2878687357695586,
          -0.13523257185883436,
          0.0311783868071729,
          -0.21330004474022501,
          0.4308584405855407,
          -0.14909450517104222,
          -0.02521790702922451,
          -0.014122845720150004,
          -0.22969963966124202,
          -0.24860394670310187,
          -0.5194619610979379,
          -0.5439084803392632,
          -0.5836675006671206,
          -0.3659362086509493
         ],
         "z": [
          0.056802762576874465,
          0.05030122827785999,
          -0.0910910261233913,
          0.030715420250648807,
          -0.13715059281293765,
          0.18943399102931283,
          -0.18899004292421004,
          -0.18115971828958208,
          -0.16131489044170347,
          0.0817263885003208,
          0.230368157489111,
          -0.22546089804366834,
          -0.1319869077777731,
          0.20424635665355845,
          -0.024172282242329354,
          0.0446471869363522,
          -0.37382867861224717,
          0.1069607217129563,
          0.12654652974016747,
          0.49736913783790415,
          -0.060905291350630164,
          -0.11274474146190255,
          -0.08506958897939598,
          -0.10814890856723308,
          0.2544043157896403,
          -0.04093306698730946,
          0.09480514607243404,
          -0.08699263367685582,
          -0.0865098705574678,
          0.28052611662519283,
          0.23959195016539464,
          0.10045918741394183,
          -0.13100175915350026,
          -0.22767955241201432,
          -0.13883208378812822,
          0.02598567689375248,
          -0.13423625089345875,
          -0.02134725896009828,
          -0.2971093852816266,
          -0.2083163169315079,
          0.010077901262362535,
          -0.20879908005089592,
          -0.2606385301621683,
          -0.4560831303749565,
          0.13259786941560017,
          -0.10660964880161466,
          -0.25280820552754035,
          -0.44547716585020547,
          -0.027001300301606065,
          -0.23296337767966174,
          -0.25604269726749884,
          0.10812045471213275,
          0.11439095409964523,
          0.27399012381685145,
          -0.11924627576091704,
          0.24951270911338402,
          -0.06224314061448009,
          -0.06740682564964465,
          -0.11465044286624756,
          0.034782605599636626,
          -0.12789015353491995,
          0.47292023780770326,
          -0.11141595112628908,
          0.25917775819260586,
          0.4908676035388897,
          0.04557148492096366,
          -0.15571713088037534,
          0.300111924652404,
          0.054794045492428424,
          0.399935746200141,
          0.36042465626103004,
          -0.09157112327841047,
          -0.06692406253025662,
          0.02067738011455214,
          -0.30408491144895416,
          0.15147015566361383,
          0.24385866777187626,
          0.25352371685109804,
          -0.07306086699115243,
          -0.09722516461991824,
          -0.16137117222188313,
          0.14581611432210603,
          -0.21374778572631092,
          0.039917443579455876,
          0.45405705302810245,
          0.08653830272605381,
          -0.4838558707063315,
          -0.5904530022952336,
          -0.3380052669360084,
          -0.3673332495999388,
          -0.3904125691877759,
          -0.3871780774478174,
          -0.23019064140056467,
          -0.39500840208244536,
          -0.3426861888517849,
          -0.5433761826510242,
          -0.36718142473699,
          -0.3062153337323267,
          -0.3507072223283591,
          -0.3066980968517147,
          0.0198864869905358,
          -0.3308623944804805,
          -0.41970986310436664,
          -0.4560288933608761,
          -0.0354989023077958,
          -0.25437588362105423,
          -0.3016195008376572,
          -0.152186452371773,
          -0.49153673253975183,
          -0.5387803497563547,
          -0.07999079090382825,
          -0.035981665427183826,
          0.29060291841506664,
          0.052102540337012955,
          -0.08322528264378674,
          0.5222927637613505,
          0.5043453980301641,
          -0.27385925933404354,
          -0.16161075594108096,
          -0.24969496170527772,
          -0.2988677722170867,
          -0.2790229443692081,
          -0.13265777559836922,
          -0.5021426970645029,
          0.11266010356160636,
          -0.31534197462571756,
          -0.5626260249497781,
          -0.32303206984585253,
          -0.38916438649389457,
          0.1847042476724165,
          -0.1660446337985998,
          -0.19093873860501132
         ]
        }
       ],
       "layout": {
        "annotations": [
         {
          "font": {
           "size": 14
          },
          "showarrow": false,
          "text": "",
          "x": 0,
          "xanchor": "left",
          "xref": "paper",
          "y": 0.1,
          "yanchor": "bottom",
          "yref": "paper"
         }
        ],
        "height": 700,
        "hovermode": "closest",
        "margin": {
         "t": 100
        },
        "plot_bgcolor": "rgba(0,0,0,0)",
        "scene": {
         "xaxis": {
          "showbackground": false,
          "showgrid": false,
          "showline": false,
          "showticklabels": false,
          "title": {
           "text": ""
          },
          "zeroline": false
         },
         "yaxis": {
          "showbackground": false,
          "showgrid": false,
          "showline": false,
          "showticklabels": false,
          "title": {
           "text": ""
          },
          "zeroline": false
         },
         "zaxis": {
          "showbackground": false,
          "showgrid": false,
          "showline": false,
          "showticklabels": false,
          "title": {
           "text": ""
          },
          "zeroline": false
         }
        },
        "showlegend": false,
        "template": {
         "data": {
          "bar": [
           {
            "error_x": {
             "color": "#2a3f5f"
            },
            "error_y": {
             "color": "#2a3f5f"
            },
            "marker": {
             "line": {
              "color": "#E5ECF6",
              "width": 0.5
             }
            },
            "type": "bar"
           }
          ],
          "barpolar": [
           {
            "marker": {
             "line": {
              "color": "#E5ECF6",
              "width": 0.5
             }
            },
            "type": "barpolar"
           }
          ],
          "carpet": [
           {
            "aaxis": {
             "endlinecolor": "#2a3f5f",
             "gridcolor": "white",
             "linecolor": "white",
             "minorgridcolor": "white",
             "startlinecolor": "#2a3f5f"
            },
            "baxis": {
             "endlinecolor": "#2a3f5f",
             "gridcolor": "white",
             "linecolor": "white",
             "minorgridcolor": "white",
             "startlinecolor": "#2a3f5f"
            },
            "type": "carpet"
           }
          ],
          "choropleth": [
           {
            "colorbar": {
             "outlinewidth": 0,
             "ticks": ""
            },
            "type": "choropleth"
           }
          ],
          "contour": [
           {
            "colorbar": {
             "outlinewidth": 0,
             "ticks": ""
            },
            "colorscale": [
             [
              0,
              "#0d0887"
             ],
             [
              0.1111111111111111,
              "#46039f"
             ],
             [
              0.2222222222222222,
              "#7201a8"
             ],
             [
              0.3333333333333333,
              "#9c179e"
             ],
             [
              0.4444444444444444,
              "#bd3786"
             ],
             [
              0.5555555555555556,
              "#d8576b"
             ],
             [
              0.6666666666666666,
              "#ed7953"
             ],
             [
              0.7777777777777778,
              "#fb9f3a"
             ],
             [
              0.8888888888888888,
              "#fdca26"
             ],
             [
              1,
              "#f0f921"
             ]
            ],
            "type": "contour"
           }
          ],
          "contourcarpet": [
           {
            "colorbar": {
             "outlinewidth": 0,
             "ticks": ""
            },
            "type": "contourcarpet"
           }
          ],
          "heatmap": [
           {
            "colorbar": {
             "outlinewidth": 0,
             "ticks": ""
            },
            "colorscale": [
             [
              0,
              "#0d0887"
             ],
             [
              0.1111111111111111,
              "#46039f"
             ],
             [
              0.2222222222222222,
              "#7201a8"
             ],
             [
              0.3333333333333333,
              "#9c179e"
             ],
             [
              0.4444444444444444,
              "#bd3786"
             ],
             [
              0.5555555555555556,
              "#d8576b"
             ],
             [
              0.6666666666666666,
              "#ed7953"
             ],
             [
              0.7777777777777778,
              "#fb9f3a"
             ],
             [
              0.8888888888888888,
              "#fdca26"
             ],
             [
              1,
              "#f0f921"
             ]
            ],
            "type": "heatmap"
           }
          ],
          "heatmapgl": [
           {
            "colorbar": {
             "outlinewidth": 0,
             "ticks": ""
            },
            "colorscale": [
             [
              0,
              "#0d0887"
             ],
             [
              0.1111111111111111,
              "#46039f"
             ],
             [
              0.2222222222222222,
              "#7201a8"
             ],
             [
              0.3333333333333333,
              "#9c179e"
             ],
             [
              0.4444444444444444,
              "#bd3786"
             ],
             [
              0.5555555555555556,
              "#d8576b"
             ],
             [
              0.6666666666666666,
              "#ed7953"
             ],
             [
              0.7777777777777778,
              "#fb9f3a"
             ],
             [
              0.8888888888888888,
              "#fdca26"
             ],
             [
              1,
              "#f0f921"
             ]
            ],
            "type": "heatmapgl"
           }
          ],
          "histogram": [
           {
            "marker": {
             "colorbar": {
              "outlinewidth": 0,
              "ticks": ""
             }
            },
            "type": "histogram"
           }
          ],
          "histogram2d": [
           {
            "colorbar": {
             "outlinewidth": 0,
             "ticks": ""
            },
            "colorscale": [
             [
              0,
              "#0d0887"
             ],
             [
              0.1111111111111111,
              "#46039f"
             ],
             [
              0.2222222222222222,
              "#7201a8"
             ],
             [
              0.3333333333333333,
              "#9c179e"
             ],
             [
              0.4444444444444444,
              "#bd3786"
             ],
             [
              0.5555555555555556,
              "#d8576b"
             ],
             [
              0.6666666666666666,
              "#ed7953"
             ],
             [
              0.7777777777777778,
              "#fb9f3a"
             ],
             [
              0.8888888888888888,
              "#fdca26"
             ],
             [
              1,
              "#f0f921"
             ]
            ],
            "type": "histogram2d"
           }
          ],
          "histogram2dcontour": [
           {
            "colorbar": {
             "outlinewidth": 0,
             "ticks": ""
            },
            "colorscale": [
             [
              0,
              "#0d0887"
             ],
             [
              0.1111111111111111,
              "#46039f"
             ],
             [
              0.2222222222222222,
              "#7201a8"
             ],
             [
              0.3333333333333333,
              "#9c179e"
             ],
             [
              0.4444444444444444,
              "#bd3786"
             ],
             [
              0.5555555555555556,
              "#d8576b"
             ],
             [
              0.6666666666666666,
              "#ed7953"
             ],
             [
              0.7777777777777778,
              "#fb9f3a"
             ],
             [
              0.8888888888888888,
              "#fdca26"
             ],
             [
              1,
              "#f0f921"
             ]
            ],
            "type": "histogram2dcontour"
           }
          ],
          "mesh3d": [
           {
            "colorbar": {
             "outlinewidth": 0,
             "ticks": ""
            },
            "type": "mesh3d"
           }
          ],
          "parcoords": [
           {
            "line": {
             "colorbar": {
              "outlinewidth": 0,
              "ticks": ""
             }
            },
            "type": "parcoords"
           }
          ],
          "pie": [
           {
            "automargin": true,
            "type": "pie"
           }
          ],
          "scatter": [
           {
            "marker": {
             "colorbar": {
              "outlinewidth": 0,
              "ticks": ""
             }
            },
            "type": "scatter"
           }
          ],
          "scatter3d": [
           {
            "line": {
             "colorbar": {
              "outlinewidth": 0,
              "ticks": ""
             }
            },
            "marker": {
             "colorbar": {
              "outlinewidth": 0,
              "ticks": ""
             }
            },
            "type": "scatter3d"
           }
          ],
          "scattercarpet": [
           {
            "marker": {
             "colorbar": {
              "outlinewidth": 0,
              "ticks": ""
             }
            },
            "type": "scattercarpet"
           }
          ],
          "scattergeo": [
           {
            "marker": {
             "colorbar": {
              "outlinewidth": 0,
              "ticks": ""
             }
            },
            "type": "scattergeo"
           }
          ],
          "scattergl": [
           {
            "marker": {
             "colorbar": {
              "outlinewidth": 0,
              "ticks": ""
             }
            },
            "type": "scattergl"
           }
          ],
          "scattermapbox": [
           {
            "marker": {
             "colorbar": {
              "outlinewidth": 0,
              "ticks": ""
             }
            },
            "type": "scattermapbox"
           }
          ],
          "scatterpolar": [
           {
            "marker": {
             "colorbar": {
              "outlinewidth": 0,
              "ticks": ""
             }
            },
            "type": "scatterpolar"
           }
          ],
          "scatterpolargl": [
           {
            "marker": {
             "colorbar": {
              "outlinewidth": 0,
              "ticks": ""
             }
            },
            "type": "scatterpolargl"
           }
          ],
          "scatterternary": [
           {
            "marker": {
             "colorbar": {
              "outlinewidth": 0,
              "ticks": ""
             }
            },
            "type": "scatterternary"
           }
          ],
          "surface": [
           {
            "colorbar": {
             "outlinewidth": 0,
             "ticks": ""
            },
            "colorscale": [
             [
              0,
              "#0d0887"
             ],
             [
              0.1111111111111111,
              "#46039f"
             ],
             [
              0.2222222222222222,
              "#7201a8"
             ],
             [
              0.3333333333333333,
              "#9c179e"
             ],
             [
              0.4444444444444444,
              "#bd3786"
             ],
             [
              0.5555555555555556,
              "#d8576b"
             ],
             [
              0.6666666666666666,
              "#ed7953"
             ],
             [
              0.7777777777777778,
              "#fb9f3a"
             ],
             [
              0.8888888888888888,
              "#fdca26"
             ],
             [
              1,
              "#f0f921"
             ]
            ],
            "type": "surface"
           }
          ],
          "table": [
           {
            "cells": {
             "fill": {
              "color": "#EBF0F8"
             },
             "line": {
              "color": "white"
             }
            },
            "header": {
             "fill": {
              "color": "#C8D4E3"
             },
             "line": {
              "color": "white"
             }
            },
            "type": "table"
           }
          ]
         },
         "layout": {
          "annotationdefaults": {
           "arrowcolor": "#2a3f5f",
           "arrowhead": 0,
           "arrowwidth": 1
          },
          "coloraxis": {
           "colorbar": {
            "outlinewidth": 0,
            "ticks": ""
           }
          },
          "colorscale": {
           "diverging": [
            [
             0,
             "#8e0152"
            ],
            [
             0.1,
             "#c51b7d"
            ],
            [
             0.2,
             "#de77ae"
            ],
            [
             0.3,
             "#f1b6da"
            ],
            [
             0.4,
             "#fde0ef"
            ],
            [
             0.5,
             "#f7f7f7"
            ],
            [
             0.6,
             "#e6f5d0"
            ],
            [
             0.7,
             "#b8e186"
            ],
            [
             0.8,
             "#7fbc41"
            ],
            [
             0.9,
             "#4d9221"
            ],
            [
             1,
             "#276419"
            ]
           ],
           "sequential": [
            [
             0,
             "#0d0887"
            ],
            [
             0.1111111111111111,
             "#46039f"
            ],
            [
             0.2222222222222222,
             "#7201a8"
            ],
            [
             0.3333333333333333,
             "#9c179e"
            ],
            [
             0.4444444444444444,
             "#bd3786"
            ],
            [
             0.5555555555555556,
             "#d8576b"
            ],
            [
             0.6666666666666666,
             "#ed7953"
            ],
            [
             0.7777777777777778,
             "#fb9f3a"
            ],
            [
             0.8888888888888888,
             "#fdca26"
            ],
            [
             1,
             "#f0f921"
            ]
           ],
           "sequentialminus": [
            [
             0,
             "#0d0887"
            ],
            [
             0.1111111111111111,
             "#46039f"
            ],
            [
             0.2222222222222222,
             "#7201a8"
            ],
            [
             0.3333333333333333,
             "#9c179e"
            ],
            [
             0.4444444444444444,
             "#bd3786"
            ],
            [
             0.5555555555555556,
             "#d8576b"
            ],
            [
             0.6666666666666666,
             "#ed7953"
            ],
            [
             0.7777777777777778,
             "#fb9f3a"
            ],
            [
             0.8888888888888888,
             "#fdca26"
            ],
            [
             1,
             "#f0f921"
            ]
           ]
          },
          "colorway": [
           "#636efa",
           "#EF553B",
           "#00cc96",
           "#ab63fa",
           "#FFA15A",
           "#19d3f3",
           "#FF6692",
           "#B6E880",
           "#FF97FF",
           "#FECB52"
          ],
          "font": {
           "color": "#2a3f5f"
          },
          "geo": {
           "bgcolor": "white",
           "lakecolor": "white",
           "landcolor": "#E5ECF6",
           "showlakes": true,
           "showland": true,
           "subunitcolor": "white"
          },
          "hoverlabel": {
           "align": "left"
          },
          "hovermode": "closest",
          "mapbox": {
           "style": "light"
          },
          "paper_bgcolor": "white",
          "plot_bgcolor": "#E5ECF6",
          "polar": {
           "angularaxis": {
            "gridcolor": "white",
            "linecolor": "white",
            "ticks": ""
           },
           "bgcolor": "#E5ECF6",
           "radialaxis": {
            "gridcolor": "white",
            "linecolor": "white",
            "ticks": ""
           }
          },
          "scene": {
           "xaxis": {
            "backgroundcolor": "#E5ECF6",
            "gridcolor": "white",
            "gridwidth": 2,
            "linecolor": "white",
            "showbackground": true,
            "ticks": "",
            "zerolinecolor": "white"
           },
           "yaxis": {
            "backgroundcolor": "#E5ECF6",
            "gridcolor": "white",
            "gridwidth": 2,
            "linecolor": "white",
            "showbackground": true,
            "ticks": "",
            "zerolinecolor": "white"
           },
           "zaxis": {
            "backgroundcolor": "#E5ECF6",
            "gridcolor": "white",
            "gridwidth": 2,
            "linecolor": "white",
            "showbackground": true,
            "ticks": "",
            "zerolinecolor": "white"
           }
          },
          "shapedefaults": {
           "line": {
            "color": "#2a3f5f"
           }
          },
          "ternary": {
           "aaxis": {
            "gridcolor": "white",
            "linecolor": "white",
            "ticks": ""
           },
           "baxis": {
            "gridcolor": "white",
            "linecolor": "white",
            "ticks": ""
           },
           "bgcolor": "#E5ECF6",
           "caxis": {
            "gridcolor": "white",
            "linecolor": "white",
            "ticks": ""
           }
          },
          "title": {
           "x": 0.05
          },
          "xaxis": {
           "automargin": true,
           "gridcolor": "white",
           "linecolor": "white",
           "ticks": "",
           "title": {
            "standoff": 15
           },
           "zerolinecolor": "white",
           "zerolinewidth": 2
          },
          "yaxis": {
           "automargin": true,
           "gridcolor": "white",
           "linecolor": "white",
           "ticks": "",
           "title": {
            "standoff": 15
           },
           "zerolinecolor": "white",
           "zerolinewidth": 2
          }
         }
        },
        "title": {
         "text": ""
        },
        "width": 900
       }
      },
      "text/html": [
       "<div>                            <div id=\"f164aea0-a312-420f-96dd-b3c9ccdda5fc\" class=\"plotly-graph-div\" style=\"height:700px; width:900px;\"></div>            <script type=\"text/javascript\">                require([\"plotly\"], function(Plotly) {                    window.PLOTLYENV=window.PLOTLYENV || {};                                    if (document.getElementById(\"f164aea0-a312-420f-96dd-b3c9ccdda5fc\")) {                    Plotly.newPlot(                        \"f164aea0-a312-420f-96dd-b3c9ccdda5fc\",                        [{\"hoverinfo\": \"text\", \"line\": {\"color\": \"rgb(125,125,125)\", \"width\": 1}, \"mode\": \"lines\", \"text\": [\"0.01205\", \"0.09091\", \"0.1\", \"0.2\", \"0.2\", \"0.2\", \"0.2\", \"0.2\", \"0.2\", \"0.33333\", \"0.33333\", \"0.5\", \"0.5\", \"0.5\", \"0.5\", \"0.5\", \"0.5\", \"0.01818\", \"0.2\", \"0.33333\", \"0.33333\", \"0.33333\", \"0.5\", \"0.5\", \"0.09091\", \"0.125\", \"0.125\", \"0.16667\", \"0.25\", \"0.25\", \"0.25\", \"0.33333\", \"0.33333\", \"0.33333\", \"0.33333\", \"0.5\", \"0.5\", \"0.05\", \"0.06667\", \"0.09091\", \"0.09091\", \"0.1\", \"0.125\", \"0.2\", \"0.2\", \"0.2\", \"0.25\", \"0.25\", \"0.33333\", \"0.5\", \"0.5\", \"0.5\", \"0.05\", \"0.05556\", \"0.06667\", \"0.07692\", \"0.1\", \"0.1\", \"0.1\", \"0.11111\", \"0.11111\", \"0.11111\", \"0.11111\", \"0.11111\", \"0.125\", \"0.125\", \"0.125\", \"0.125\", \"0.125\", \"0.14286\", \"0.14286\", \"0.2\", \"0.25\", \"0.33333\", \"0.5\", \"0.5\", \"0.14286\", \"0.2\", \"0.33333\", \"0.5\", \"0.5\", \"0.5\", \"0.5\", \"0.5\", \"0.33333\", \"0.5\", \"0.08333\", \"0.11111\", \"0.14286\", \"0.16667\", \"0.33333\", \"0.5\", \"0.5\", \"0.5\", \"0.5\", \"0.09091\", \"0.16667\", \"0.16667\", \"0.33333\", \"0.33333\", \"0.5\", \"0.5\", \"0.5\", \"0.5\", \"0.2\", \"0.25\", \"0.33333\", \"0.5\", \"0.14286\", \"0.33333\", \"0.5\", \"0.5\", \"0.5\", \"0.5\", \"0.5\", \"0.5\", \"0.5\", \"0.14286\", \"0.16667\", \"0.5\", \"0.2\", \"0.25\", \"0.25\", \"0.33333\", \"0.5\", \"0.5\", \"0.5\", \"0.33333\", \"0.5\", \"0.5\", \"0.33333\", \"0.5\"], \"textposition\": \"top right\", \"type\": \"scatter3d\", \"x\": [0.1949891477207461, 0.27727568588061974, null, 0.1949891477207461, -0.04254103980408853, null, 0.1949891477207461, -0.10994613605640445, null, 0.1949891477207461, 0.05754829046171992, null, 0.1949891477207461, 0.11670345779508864, null, 0.1949891477207461, -0.1650433002757094, null, 0.1949891477207461, -0.15337519321687446, null, 0.1949891477207461, 0.3882117965376087, null, 0.1949891477207461, 0.24481731265299347, null, 0.1949891477207461, 0.24867071645935734, null, 0.1949891477207461, 0.5191385075433048, null, 0.1949891477207461, -0.06839678758377497, null, 0.1949891477207461, 0.5397415412228437, null, 0.1949891477207461, 0.08915863685610256, null, 0.1949891477207461, -0.26715162529255837, null, 0.1949891477207461, -0.29566260420066415, null, 0.1949891477207461, -0.015569873261109384, null, 0.27727568588061974, 0.05754829046171992, null, 0.27727568588061974, -0.04254103980408853, null, 0.27727568588061974, 0.2603888426963564, null, 0.27727568588061974, 0.11670345779508864, null, 0.27727568588061974, -0.15337519321687446, null, 0.27727568588061974, 0.24481731265299347, null, 0.27727568588061974, 0.2419042154394079, null, 0.05754829046171992, 0.08915863685610256, null, 0.05754829046171992, -0.10994613605640445, null, 0.05754829046171992, -0.29566260420066415, null, 0.05754829046171992, 0.11670345779508864, null, 0.05754829046171992, -0.13677413875034233, null, 0.05754829046171992, 0.5191385075433048, null, 0.05754829046171992, -0.1650433002757094, null, 0.05754829046171992, -0.04254103980408853, null, 0.05754829046171992, 0.3882117965376087, null, 0.05754829046171992, -0.287422110136106, null, 0.05754829046171992, -0.15337519321687446, null, 0.05754829046171992, -0.26715162529255837, null, 0.05754829046171992, 0.2419042154394079, null, -0.10994613605640445, -0.04254103980408853, null, -0.10994613605640445, -0.06839678758377497, null, -0.10994613605640445, -0.13677413875034233, null, -0.10994613605640445, 0.24867071645935734, null, -0.10994613605640445, 0.11670345779508864, null, -0.10994613605640445, -0.15337519321687446, null, -0.10994613605640445, -0.4004866070940676, null, -0.10994613605640445, 0.08915863685610256, null, -0.10994613605640445, -0.5006921448716435, null, -0.10994613605640445, 0.3882117965376087, null, -0.10994613605640445, -0.015569873261109384, null, -0.10994613605640445, -0.29566260420066415, null, -0.10994613605640445, 0.24481731265299347, null, -0.10994613605640445, 0.2419042154394079, null, -0.10994613605640445, -0.6203539938758197, null, -0.04254103980408853, -0.29566260420066415, null, -0.04254103980408853, 0.08915863685610256, null, -0.04254103980408853, -0.15337519321687446, null, -0.04254103980408853, -0.6203539938758197, null, -0.04254103980408853, 0.5397415412228437, null, -0.04254103980408853, 0.11670345779508864, null, -0.04254103980408853, 0.2419042154394079, null, -0.04254103980408853, -0.5006921448716435, null, -0.04254103980408853, -0.6275530978868696, null, -0.04254103980408853, -0.1200517803635727, null, -0.04254103980408853, 0.3882117965376087, null, -0.04254103980408853, -0.1650433002757094, null, -0.04254103980408853, 0.2603888426963564, null, -0.04254103980408853, -0.26715162529255837, null, -0.04254103980408853, -0.06839678758377497, null, -0.04254103980408853, 0.5191385075433048, null, -0.04254103980408853, 0.3353468405659036, null, -0.04254103980408853, 0.011970611003830975, null, -0.04254103980408853, -0.7148451701662938, null, -0.04254103980408853, 0.24481731265299347, null, -0.04254103980408853, -0.13677413875034233, null, -0.04254103980408853, 1.0, null, -0.04254103980408853, -0.015569873261109384, null, -0.04254103980408853, 0.24867071645935734, null, -0.29566260420066415, -0.6203539938758197, null, -0.29566260420066415, -0.1650433002757094, null, -0.29566260420066415, 0.11670345779508864, null, -0.29566260420066415, 0.24481731265299347, null, -0.29566260420066415, -0.06839678758377497, null, -0.29566260420066415, 0.24867071645935734, null, -0.29566260420066415, -0.287422110136106, null, -0.29566260420066415, -0.26715162529255837, null, 0.08915863685610256, 0.5191385075433048, null, 0.08915863685610256, 0.11670345779508864, null, -0.06839678758377497, -0.287422110136106, null, -0.06839678758377497, -0.4004866070940676, null, -0.06839678758377497, 0.5397415412228437, null, -0.06839678758377497, 0.24481731265299347, null, -0.06839678758377497, 0.2419042154394079, null, -0.06839678758377497, 0.3882117965376087, null, -0.06839678758377497, -0.26715162529255837, null, -0.06839678758377497, -0.15337519321687446, null, -0.06839678758377497, -0.13677413875034233, null, -0.15337519321687446, -0.015569873261109384, null, -0.15337519321687446, -0.6275530978868696, null, -0.15337519321687446, -0.13677413875034233, null, -0.15337519321687446, 0.3882117965376087, null, -0.15337519321687446, 0.11670345779508864, null, -0.15337519321687446, -0.1650433002757094, null, -0.15337519321687446, 0.24481731265299347, null, -0.287422110136106, 0.24481731265299347, null, -0.287422110136106, -0.6275530978868696, null, -0.13677413875034233, 0.24867071645935734, null, -0.13677413875034233, 0.11670345779508864, null, -0.13677413875034233, 0.2419042154394079, null, -0.13677413875034233, -0.5006921448716435, null, -0.015569873261109384, 0.11670345779508864, null, -0.015569873261109384, 0.2419042154394079, null, 0.24867071645935734, 0.3882117965376087, null, 0.24867071645935734, 0.11670345779508864, null, 0.24867071645935734, -0.1650433002757094, null, 0.24867071645935734, 1.0, null, 0.24867071645935734, 0.2419042154394079, null, 0.24867071645935734, 0.2603888426963564, null, 0.24867071645935734, -0.1200517803635727, null, 0.5397415412228437, 0.24481731265299347, null, 0.5397415412228437, 1.0, null, 0.5397415412228437, 0.11670345779508864, null, 0.11670345779508864, 0.3882117965376087, null, 0.11670345779508864, 0.24481731265299347, null, 0.11670345779508864, 0.3353468405659036, null, 0.11670345779508864, -0.4004866070940676, null, 0.11670345779508864, 0.5191385075433048, null, 0.11670345779508864, -0.6275530978868696, null, -0.6275530978868696, -0.4004866070940676, null, 0.3882117965376087, 0.24481731265299347, null, -0.4004866070940676, -0.26715162529255837, null, -0.1650433002757094, -0.26715162529255837, null, -0.26715162529255837, 0.24481731265299347, null, 0.24481731265299347, 1.0, null], \"y\": [-0.2172488245573865, -0.27667739834602123, null, -0.2172488245573865, 0.07827646842184385, null, -0.2172488245573865, 0.05142325842774752, null, -0.2172488245573865, -0.2261899015581058, null, -0.2172488245573865, 0.06648228877004977, null, -0.2172488245573865, -0.4135643375947849, null, -0.2172488245573865, 0.0006980404131330112, null, -0.2172488245573865, -0.004125515155703976, null, -0.2172488245573865, -0.4930823782504998, null, -0.2172488245573865, 0.2730425612956671, null, -0.2172488245573865, -0.1169181028284988, null, -0.2172488245573865, -0.3235829596667296, null, -0.2172488245573865, -0.3369474324877185, null, -0.2172488245573865, -0.010196301910023572, null, -0.2172488245573865, -0.6742526230837415, null, -0.2172488245573865, -0.2394242938253198, null, -0.2172488245573865, 0.22684515318103088, null, -0.27667739834602123, -0.2261899015581058, null, -0.27667739834602123, 0.07827646842184385, null, -0.27667739834602123, -0.03165122485085188, null, -0.27667739834602123, 0.06648228877004977, null, -0.27667739834602123, 0.0006980404131330112, null, -0.27667739834602123, -0.4930823782504998, null, -0.27667739834602123, 0.3906003363617237, null, -0.2261899015581058, -0.010196301910023572, null, -0.2261899015581058, 0.05142325842774752, null, -0.2261899015581058, -0.2394242938253198, null, -0.2261899015581058, 0.06648228877004977, null, -0.2261899015581058, 0.41219965230673944, null, -0.2261899015581058, -0.1169181028284988, null, -0.2261899015581058, -0.4135643375947849, null, -0.2261899015581058, 0.07827646842184385, null, -0.2261899015581058, -0.004125515155703976, null, -0.2261899015581058, -0.779974134917463, null, -0.2261899015581058, 0.0006980404131330112, null, -0.2261899015581058, -0.6742526230837415, null, -0.2261899015581058, 0.3906003363617237, null, 0.05142325842774752, 0.07827646842184385, null, 0.05142325842774752, -0.3235829596667296, null, 0.05142325842774752, 0.41219965230673944, null, 0.05142325842774752, 0.2730425612956671, null, 0.05142325842774752, 0.06648228877004977, null, 0.05142325842774752, 0.0006980404131330112, null, 0.05142325842774752, -0.36467129911213425, null, 0.05142325842774752, -0.010196301910023572, null, 0.05142325842774752, 0.6158405492894655, null, 0.05142325842774752, -0.004125515155703976, null, 0.05142325842774752, 0.22684515318103088, null, 0.05142325842774752, -0.2394242938253198, null, 0.05142325842774752, -0.4930823782504998, null, 0.05142325842774752, 0.3906003363617237, null, 0.05142325842774752, -0.006617689605894837, null, 0.07827646842184385, -0.2394242938253198, null, 0.07827646842184385, -0.010196301910023572, null, 0.07827646842184385, 0.0006980404131330112, null, 0.07827646842184385, -0.006617689605894837, null, 0.07827646842184385, -0.3369474324877185, null, 0.07827646842184385, 0.06648228877004977, null, 0.07827646842184385, 0.3906003363617237, null, 0.07827646842184385, 0.6158405492894655, null, 0.07827646842184385, -0.09472798021034978, null, 0.07827646842184385, 0.44427282348680924, null, 0.07827646842184385, -0.004125515155703976, null, 0.07827646842184385, -0.4135643375947849, null, 0.07827646842184385, -0.03165122485085188, null, 0.07827646842184385, -0.6742526230837415, null, 0.07827646842184385, -0.3235829596667296, null, 0.07827646842184385, -0.1169181028284988, null, 0.07827646842184385, 0.7952345924010316, null, 0.07827646842184385, 0.8947129396072155, null, 0.07827646842184385, 0.599013773050172, null, 0.07827646842184385, -0.4930823782504998, null, 0.07827646842184385, 0.41219965230673944, null, 0.07827646842184385, -0.23879003905139876, null, 0.07827646842184385, 0.22684515318103088, null, 0.07827646842184385, 0.2730425612956671, null, -0.2394242938253198, -0.006617689605894837, null, -0.2394242938253198, -0.4135643375947849, null, -0.2394242938253198, 0.06648228877004977, null, -0.2394242938253198, -0.4930823782504998, null, -0.2394242938253198, -0.3235829596667296, null, -0.2394242938253198, 0.2730425612956671, null, -0.2394242938253198, -0.779974134917463, null, -0.2394242938253198, -0.6742526230837415, null, -0.010196301910023572, -0.1169181028284988, null, -0.010196301910023572, 0.06648228877004977, null, -0.3235829596667296, -0.779974134917463, null, -0.3235829596667296, -0.36467129911213425, null, -0.3235829596667296, -0.3369474324877185, null, -0.3235829596667296, -0.4930823782504998, null, -0.3235829596667296, 0.3906003363617237, null, -0.3235829596667296, -0.004125515155703976, null, -0.3235829596667296, -0.6742526230837415, null, -0.3235829596667296, 0.0006980404131330112, null, -0.3235829596667296, 0.41219965230673944, null, 0.0006980404131330112, 0.22684515318103088, null, 0.0006980404131330112, -0.09472798021034978, null, 0.0006980404131330112, 0.41219965230673944, null, 0.0006980404131330112, -0.004125515155703976, null, 0.0006980404131330112, 0.06648228877004977, null, 0.0006980404131330112, -0.4135643375947849, null, 0.0006980404131330112, -0.4930823782504998, null, -0.779974134917463, -0.4930823782504998, null, -0.779974134917463, -0.09472798021034978, null, 0.41219965230673944, 0.2730425612956671, null, 0.41219965230673944, 0.06648228877004977, null, 0.41219965230673944, 0.3906003363617237, null, 0.41219965230673944, 0.6158405492894655, null, 0.22684515318103088, 0.06648228877004977, null, 0.22684515318103088, 0.3906003363617237, null, 0.2730425612956671, -0.004125515155703976, null, 0.2730425612956671, 0.06648228877004977, null, 0.2730425612956671, -0.4135643375947849, null, 0.2730425612956671, -0.23879003905139876, null, 0.2730425612956671, 0.3906003363617237, null, 0.2730425612956671, -0.03165122485085188, null, 0.2730425612956671, 0.44427282348680924, null, -0.3369474324877185, -0.4930823782504998, null, -0.3369474324877185, -0.23879003905139876, null, -0.3369474324877185, 0.06648228877004977, null, 0.06648228877004977, -0.004125515155703976, null, 0.06648228877004977, -0.4930823782504998, null, 0.06648228877004977, 0.7952345924010316, null, 0.06648228877004977, -0.36467129911213425, null, 0.06648228877004977, -0.1169181028284988, null, 0.06648228877004977, -0.09472798021034978, null, -0.09472798021034978, -0.36467129911213425, null, -0.004125515155703976, -0.4930823782504998, null, -0.36467129911213425, -0.6742526230837415, null, -0.4135643375947849, -0.6742526230837415, null, -0.6742526230837415, -0.4930823782504998, null, -0.4930823782504998, -0.23879003905139876, null], \"z\": [-0.01944253888543303, 0.13304806403918196, null, -0.01944253888543303, 0.120044995441153, null, -0.01944253888543303, -0.16273951336134956, null, -0.01944253888543303, 0.08087337938673064, null, -0.01944253888543303, -0.2548586467404423, null, -0.01944253888543303, 0.39831052094405867, null, -0.01944253888543303, -0.35853754696298706, null, -0.01944253888543303, -0.34287689769373114, null, -0.01944253888543303, -0.3031872419979739, null, -0.01944253888543303, 0.18289531588607463, null, -0.01944253888543303, 0.480178853863655, null, -0.01944253888543303, -0.43147925720190367, null, -0.01944253888543303, -0.24453127667011318, null, -0.01944253888543303, 0.4279352521925499, null, -0.01944253888543303, -0.028902025599225677, null, -0.01944253888543303, 0.10873691275813743, null, -0.01944253888543303, -0.7282148183390613, null, 0.13304806403918196, 0.08087337938673064, null, 0.13304806403918196, 0.120044995441153, null, 0.13304806403918196, 0.8616902116366264, null, 0.13304806403918196, -0.2548586467404423, null, 0.13304806403918196, -0.35853754696298706, null, 0.13304806403918196, -0.3031872419979739, null, 0.13304806403918196, -0.3493458811736481, null, 0.08087337938673064, 0.4279352521925499, null, 0.08087337938673064, -0.16273951336134956, null, 0.08087337938673064, 0.10873691275813743, null, 0.08087337938673064, -0.2548586467404423, null, 0.08087337938673064, -0.25389312050166624, null, 0.08087337938673064, 0.480178853863655, null, 0.08087337938673064, 0.39831052094405867, null, 0.08087337938673064, 0.120044995441153, null, 0.08087337938673064, -0.34287689769373114, null, 0.08087337938673064, -0.5362324842107593, null, 0.08087337938673064, -0.35853754696298706, null, 0.08087337938673064, -0.028902025599225677, null, 0.08087337938673064, -0.3493458811736481, null, -0.16273951336134956, 0.120044995441153, null, -0.16273951336134956, -0.43147925720190367, null, -0.16273951336134956, -0.25389312050166624, null, -0.16273951336134956, 0.18289531588607463, null, -0.16273951336134956, -0.2548586467404423, null, -0.16273951336134956, -0.35853754696298706, null, -0.16273951336134956, -0.7494267473885634, null, -0.16273951336134956, 0.4279352521925499, null, -0.16273951336134956, -0.05047978424187975, null, -0.16273951336134956, -0.34287689769373114, null, -0.16273951336134956, -0.7282148183390613, null, -0.16273951336134956, 0.10873691275813743, null, -0.16273951336134956, -0.3031872419979739, null, -0.16273951336134956, -0.3493458811736481, null, -0.16273951336134956, 0.37898042278561506, null, 0.120044995441153, 0.10873691275813743, null, 0.120044995441153, 0.4279352521925499, null, 0.120044995441153, -0.35853754696298706, null, 0.120044995441153, 0.37898042278561506, null, 0.120044995441153, -0.24453127667011318, null, 0.120044995441153, -0.2548586467404423, null, 0.120044995441153, -0.3493458811736481, null, 0.120044995441153, -0.05047978424187975, null, 0.120044995441153, -0.3758253025109929, null, 0.120044995441153, 0.8257954801742535, null, 0.120044995441153, -0.34287689769373114, null, 0.120044995441153, 0.39831052094405867, null, 0.120044995441153, 0.8616902116366264, null, 0.120044995441153, -0.028902025599225677, null, 0.120044995441153, -0.43147925720190367, null, 0.120044995441153, 0.480178853863655, null, 0.120044995441153, -0.01045690445629616, null, 0.120044995441153, 0.679826496959129, null, 0.120044995441153, 0.6008043170809071, null, 0.120044995441153, -0.3031872419979739, null, 0.120044995441153, -0.25389312050166624, null, 0.120044995441153, -0.07869023521204872, null, 0.120044995441153, -0.7282148183390613, null, 0.120044995441153, 0.18289531588607463, null, 0.10873691275813743, 0.37898042278561506, null, 0.10873691275813743, 0.39831052094405867, null, 0.10873691275813743, -0.2548586467404423, null, 0.10873691275813743, -0.3031872419979739, null, 0.10873691275813743, -0.43147925720190367, null, 0.10873691275813743, 0.18289531588607463, null, 0.10873691275813743, -0.5362324842107593, null, 0.10873691275813743, -0.028902025599225677, null, 0.4279352521925499, 0.480178853863655, null, 0.4279352521925499, -0.2548586467404423, null, -0.43147925720190367, -0.5362324842107593, null, -0.43147925720190367, -0.7494267473885634, null, -0.43147925720190367, -0.24453127667011318, null, -0.43147925720190367, -0.3031872419979739, null, -0.43147925720190367, -0.3493458811736481, null, -0.43147925720190367, -0.34287689769373114, null, -0.43147925720190367, -0.028902025599225677, null, -0.43147925720190367, -0.35853754696298706, null, -0.43147925720190367, -0.25389312050166624, null, -0.35853754696298706, -0.7282148183390613, null, -0.35853754696298706, -0.3758253025109929, null, -0.35853754696298706, -0.25389312050166624, null, -0.35853754696298706, -0.34287689769373114, null, -0.35853754696298706, -0.2548586467404423, null, -0.35853754696298706, 0.39831052094405867, null, -0.35853754696298706, -0.3031872419979739, null, -0.5362324842107593, -0.3031872419979739, null, -0.5362324842107593, -0.3758253025109929, null, -0.25389312050166624, 0.18289531588607463, null, -0.25389312050166624, -0.2548586467404423, null, -0.25389312050166624, -0.3493458811736481, null, -0.25389312050166624, -0.05047978424187975, null, -0.7282148183390613, -0.2548586467404423, null, -0.7282148183390613, -0.3493458811736481, null, 0.18289531588607463, -0.34287689769373114, null, 0.18289531588607463, -0.2548586467404423, null, 0.18289531588607463, 0.39831052094405867, null, 0.18289531588607463, -0.07869023521204872, null, 0.18289531588607463, -0.3493458811736481, null, 0.18289531588607463, 0.8616902116366264, null, 0.18289531588607463, 0.8257954801742535, null, -0.24453127667011318, -0.3031872419979739, null, -0.24453127667011318, -0.07869023521204872, null, -0.24453127667011318, -0.2548586467404423, null, -0.2548586467404423, -0.34287689769373114, null, -0.2548586467404423, -0.3031872419979739, null, -0.2548586467404423, -0.01045690445629616, null, -0.2548586467404423, -0.7494267473885634, null, -0.2548586467404423, 0.480178853863655, null, -0.2548586467404423, -0.3758253025109929, null, -0.3758253025109929, -0.7494267473885634, null, -0.34287689769373114, -0.3031872419979739, null, -0.7494267473885634, -0.028902025599225677, null, 0.39831052094405867, -0.028902025599225677, null, -0.028902025599225677, -0.3031872419979739, null, -0.3031872419979739, -0.07869023521204872, null]}, {\"marker\": {\"color\": [115, 52, 81, 92, 169, 57, 14, 68, 48, 6, 20, 25, 14, 53, 31, 44, 4, 4, 15, 6, 10, 16, 15, 10, 15, 4, 8, 16, 6, 5, 9], \"colorscale\": [[0.0, \"rgb(161, 105, 40)\"], [0.16666666666666666, \"rgb(189, 146, 90)\"], [0.3333333333333333, \"rgb(214, 189, 141)\"], [0.5, \"rgb(237, 234, 194)\"], [0.6666666666666666, \"rgb(181, 200, 184)\"], [0.8333333333333334, \"rgb(121, 167, 172)\"], [1.0, \"rgb(40, 135, 161)\"]], \"line\": {\"color\": \"rgb(50,50,50)\", \"width\": 0.5}, \"reversescale\": true, \"size\": 6, \"symbol\": \"circle\"}, \"mode\": \"markers+text\", \"text\": [\"\\u03a7\\u03c1\\u03b9\\u03c3\\u03c4\\u03cc\\u03c2\", \"\\u1f38\\u03b7\\u03c3\\u03bf\\u1fe6\\u03c2\", \"\\u03ba\\u03cd\\u03c1\\u03b9\\u03bf\\u03c2\", \"\\u03b5\\u1f30\\u03bc\\u03af\", \"\\u03b8\\u03b5\\u03cc\\u03c2\", \"\\u03c7\\u03ac\\u03c1\\u03b9\\u03c2\", \"\\u03c0\\u03b1\\u03c4\\u03ae\\u03c1\", \"\\u03bd\\u03bf\\u03bc\\u03cc\\u03c2\", \"\\u03c0\\u03bd\\u03b5\\u1fe6\\u03bc\\u03b1\", \"\\u03b5\\u1f30\\u03c1\\u03ae\\u03bd\\u03b7\", \"\\u1f14\\u03c1\\u03b3\\u03bf\\u03bd\", \"\\u03b1\\u1f50\\u03c4\\u03cc\\u03c2\", \"\\u1f05\\u03b3\\u03b9\\u03bf\\u03c2\", \"\\u03bf\\u1f57\\u03c4\\u03bf\\u03c2\", \"\\u03b4\\u03b9\\u03ba\\u03b1\\u03b9\\u03bf\\u03c3\\u03cd\\u03bd\\u03b7\", \"\\u03c0\\u1fb6\\u03c2\", \"\\u03bf\\u1f36\\u03b4\\u03b1\", \"\\u03c5\\u1f31\\u03cc\\u03c2\", \"\\u03b4\\u03cd\\u03bd\\u03b1\\u03bc\\u03b9\\u03c2\", \"\\u03b8\\u03ad\\u03bb\\u03b7\\u03bc\\u03b1\", \"\\u1f14\\u03c7\\u03c9\", \"\\u1f01\\u03bc\\u03b1\\u03c1\\u03c4\\u03af\\u03b1\", \"\\u03b4\\u03af\\u03b4\\u03c9\\u03bc\\u03b9\", \"\\u03b5\\u1f50\\u03c7\\u03b1\\u03c1\\u03b9\\u03c3\\u03c4\\u03ad\\u03c9\", \"\\u03b3\\u03b9\\u03b3\\u03bd\\u03ce\\u03c3\\u03ba\\u03c9\", \"\\u03b4\\u03cc\\u03be\\u03b1\", \"\\u1f10\\u03ba\\u03ba\\u03bb\\u03b7\\u03c3\\u03af\\u03b1\", \"\\u03c0\\u03af\\u03c3\\u03c4\\u03b9\\u03c2\", \"\\u1f00\\u03b3\\u03b1\\u03c0\\u03ac\\u03c9\", \"\\u03c3\\u03bf\\u03c6\\u03af\\u03b1\", \"\\u03bb\\u03bf\\u03b3\\u03af\\u03b6\\u03bf\\u03bc\\u03b1\\u03b9\"], \"type\": \"scatter3d\", \"x\": [0.1949891477207461, 0.27727568588061974, 0.05754829046171992, -0.10994613605640445, -0.04254103980408853, -0.29566260420066415, 0.08915863685610256, -0.06839678758377497, -0.15337519321687446, -0.6203539938758197, -0.287422110136106, -0.13677413875034233, -0.015569873261109384, 0.24867071645935734, 0.5397415412228437, 0.11670345779508864, 0.2419042154394079, -0.5006921448716435, -0.6275530978868696, -0.1200517803635727, 0.3882117965376087, -0.4004866070940676, -0.1650433002757094, 0.2603888426963564, -0.26715162529255837, 0.5191385075433048, 0.3353468405659036, 0.24481731265299347, 0.011970611003830975, -0.7148451701662938, 1.0], \"y\": [-0.2172488245573865, -0.27667739834602123, -0.2261899015581058, 0.05142325842774752, 0.07827646842184385, -0.2394242938253198, -0.010196301910023572, -0.3235829596667296, 0.0006980404131330112, -0.006617689605894837, -0.779974134917463, 0.41219965230673944, 0.22684515318103088, 0.2730425612956671, -0.3369474324877185, 0.06648228877004977, 0.3906003363617237, 0.6158405492894655, -0.09472798021034978, 0.44427282348680924, -0.004125515155703976, -0.36467129911213425, -0.4135643375947849, -0.03165122485085188, -0.6742526230837415, -0.1169181028284988, 0.7952345924010316, -0.4930823782504998, 0.8947129396072155, 0.599013773050172, -0.23879003905139876], \"z\": [-0.01944253888543303, 0.13304806403918196, 0.08087337938673064, -0.16273951336134956, 0.120044995441153, 0.10873691275813743, 0.4279352521925499, -0.43147925720190367, -0.35853754696298706, 0.37898042278561506, -0.5362324842107593, -0.25389312050166624, -0.7282148183390613, 0.18289531588607463, -0.24453127667011318, -0.2548586467404423, -0.3493458811736481, -0.05047978424187975, -0.3758253025109929, 0.8257954801742535, -0.34287689769373114, -0.7494267473885634, 0.39831052094405867, 0.8616902116366264, -0.028902025599225677, 0.480178853863655, -0.01045690445629616, -0.3031872419979739, 0.679826496959129, 0.6008043170809071, -0.07869023521204872]}, {\"hoverinfo\": \"text\", \"marker\": {\"opacity\": 0}, \"mode\": \"markers\", \"opacity\": 0, \"text\": [\"83\", \"11\", \"10\", \"5\", \"5\", \"5\", \"5\", \"5\", \"5\", \"3\", \"3\", \"2\", \"2\", \"2\", \"2\", \"2\", \"2\", \"55\", \"5\", \"3\", \"3\", \"3\", \"2\", \"2\", \"11\", \"8\", \"8\", \"6\", \"4\", \"4\", \"4\", \"3\", \"3\", \"3\", \"3\", \"2\", \"2\", \"20\", \"15\", \"11\", \"11\", \"10\", \"8\", \"5\", \"5\", \"5\", \"4\", \"4\", \"3\", \"2\", \"2\", \"2\", \"20\", \"18\", \"15\", \"13\", \"10\", \"10\", \"10\", \"9\", \"9\", \"9\", \"9\", \"9\", \"8\", \"8\", \"8\", \"8\", \"8\", \"7\", \"7\", \"5\", \"4\", \"3\", \"2\", \"2\", \"7\", \"5\", \"3\", \"2\", \"2\", \"2\", \"2\", \"2\", \"3\", \"2\", \"12\", \"9\", \"7\", \"6\", \"3\", \"2\", \"2\", \"2\", \"2\", \"11\", \"6\", \"6\", \"3\", \"3\", \"2\", \"2\", \"2\", \"2\", \"5\", \"4\", \"3\", \"2\", \"7\", \"3\", \"2\", \"2\", \"2\", \"2\", \"2\", \"2\", \"2\", \"7\", \"6\", \"2\", \"5\", \"4\", \"4\", \"3\", \"2\", \"2\", \"2\", \"3\", \"2\", \"2\", \"3\", \"2\"], \"type\": \"scatter3d\", \"x\": [0.23613241680068292, 0.07622405395832879, 0.042521505832170826, 0.12626871909123302, 0.1558463027579174, 0.01497292372251835, 0.020806977251935824, 0.2916004721291774, 0.2199032301868698, 0.22182993209005172, 0.3570638276320255, 0.06329618006848556, 0.3673653444717949, 0.14207389228842432, -0.03608123878590613, -0.05033672823995902, 0.08970963722981835, 0.16741198817116984, 0.11736732303826561, 0.26883226428848805, 0.1969895718378542, 0.06195024633187264, 0.2610464992668066, 0.25958995066001384, 0.07335346365891124, -0.026198922797342265, -0.11905715686947212, 0.08712587412840428, -0.03961292414431121, 0.2883433990025124, -0.053747504906994745, 0.007503625328815697, 0.2228800434996643, -0.11493690983719305, -0.04791345137757727, -0.10480166741541923, 0.1497262529505639, -0.07624358793024649, -0.08917146182008971, -0.1233601374033734, 0.06936229020147644, 0.003378660869342097, -0.13166066463663945, -0.255216371575236, -0.010393749600150944, -0.305319140464024, 0.1391328302406021, -0.06275800465875692, -0.2028043701285343, 0.06743558829829452, 0.06597903969150173, -0.3651500649661121, -0.16910182200237633, 0.023308798526007018, -0.09795811651048149, -0.3314475168399541, 0.24860025070937758, 0.03708120899550006, 0.09968158781765969, -0.271616592337866, -0.3350470688454791, -0.08129641008383061, 0.17283537836676008, -0.10379217003989896, 0.10892390144613395, -0.15484633254832345, -0.055468913693931754, 0.23829873386960815, 0.14640290038090753, -0.015285214400128776, -0.37869310498519115, 0.10113813642445248, -0.08965758927721543, 0.47872948009795574, -0.029055456532598955, 0.10306483832763441, -0.4580082990382419, -0.23035295223818678, -0.08947957320278775, -0.025422645773835337, -0.18202969589221957, -0.023495943870653402, -0.29154235716838506, -0.2814071147466113, 0.3041485721997037, 0.1029310473255956, -0.1779094488599405, -0.23444169733892128, 0.23567237681953435, 0.08821026253460926, 0.08675371392781647, 0.15990750447691685, -0.16777420643816668, -0.11088599040032471, -0.10258546316705866, -0.08447253323899193, -0.39046414555187203, -0.1450746659836084, 0.11741830166036711, -0.018335867710892906, -0.15920924674629194, 0.04572105971805951, -0.021302398741556275, -0.4574876040114878, 0.055948288854507505, -0.010035340477626845, 0.052565038344532786, -0.3187331418109929, 0.05056679226698963, 0.11316717108914925, 0.318441256498483, 0.18268708712722298, 0.04181370809182397, 0.6243353582296787, 0.2452874659493826, 0.2545297795778569, 0.06430946804789232, 0.39227942693791856, 0.7698707706114218, 0.32822249950896615, 0.2524576271663487, 0.18076038522404106, 0.2260251491804961, -0.14189157464948948, 0.3179209826691967, -0.2554248200458905, -0.5140198524904687, 0.3165145545953011, -0.33381911619331295, -0.2160974627841339, -0.011167156319782448, 0.6224086563264968], \"y\": [-0.24696311145170385, -0.06948617806777133, -0.0829127830648195, -0.22171936305774614, -0.07538326789366837, -0.3154065810760857, -0.10827539207212675, -0.11068716985654524, -0.35516560140394315, 0.027896868369140307, -0.16708346369294264, -0.2704158921120581, -0.2770981285225525, -0.11372256323370504, -0.44575072382056397, -0.22833655919135315, 0.004798164311822187, -0.2514336499520635, -0.09920046496208869, -0.15416431159843655, -0.10509755478798573, -0.1379896789664441, -0.3848798882982605, 0.056961469007851234, -0.11819310173406469, -0.08738332156517914, -0.23280709769171282, -0.07985380639402802, 0.09300487537431681, -0.1715540021933023, -0.3198771195764454, -0.07395671656813098, -0.11515770835690489, -0.5030820182377844, -0.1127459305724864, -0.45022126232092363, 0.08220521740180894, 0.06484986342479568, -0.13607985061949104, 0.23181145536724349, 0.16223290986170733, 0.058952773598898646, 0.026060649420440264, -0.15662402034219336, 0.02061347825886197, 0.3336319038586065, 0.023648871636021772, 0.1391342058043892, -0.09400051769878615, -0.22082955991137612, 0.22101179739473562, 0.02240278441092634, -0.08057391270173797, 0.03404008325591014, 0.03948725441748843, 0.035829389407974505, -0.12933548203293732, 0.07237937859594681, 0.23443840239178376, 0.3470585088556547, -0.008225755894252965, 0.26127464595432653, 0.03707547663306994, -0.16764393458647053, 0.023312621785495986, -0.2979880773309488, -0.12265324562244288, -0.01932081720332747, 0.4367555304114377, 0.4864947040145297, 0.33864512073600794, -0.20740295491432797, 0.24523806036429163, -0.08025678531477745, 0.15256081080143735, 0.17565951485875547, -0.12302099171560732, -0.32649431571005233, -0.08647100252763501, -0.36625333603790977, -0.2815036267460247, 0.016809133735173662, -0.5096992143713914, -0.45683845845453064, -0.06355720236926118, 0.0281429934300131, -0.5517785472920963, -0.3441271293894319, -0.33026519607722404, -0.4083326689586147, 0.03350868834749704, -0.1638542374112168, -0.4989177913752355, -0.1614424596267983, 0.04430834632000491, 0.11377159679708194, -0.047014969898608386, 0.20644884635993624, -0.0017137373712854825, 0.03359016459159139, -0.20643314859082593, -0.24619216891868337, -0.6365282565839814, -0.4373510575639064, 0.3426211068012033, 0.2393409705383946, 0.40139999433423157, 0.5140201007981025, 0.1466637209755403, 0.3087227447713773, 0.13445852306998157, 0.16976242503285843, -0.07026088814955889, 0.01712626112213418, 0.3318214488286954, 0.12069566822240763, 0.3586576923912382, -0.4150149053691091, -0.2878687357695586, -0.13523257185883436, 0.0311783868071729, -0.21330004474022501, 0.4308584405855407, -0.14909450517104222, -0.02521790702922451, -0.014122845720150004, -0.22969963966124202, -0.24860394670310187, -0.5194619610979379, -0.5439084803392632, -0.5836675006671206, -0.3659362086509493], \"z\": [0.056802762576874465, 0.05030122827785999, -0.0910910261233913, 0.030715420250648807, -0.13715059281293765, 0.18943399102931283, -0.18899004292421004, -0.18115971828958208, -0.16131489044170347, 0.0817263885003208, 0.230368157489111, -0.22546089804366834, -0.1319869077777731, 0.20424635665355845, -0.024172282242329354, 0.0446471869363522, -0.37382867861224717, 0.1069607217129563, 0.12654652974016747, 0.49736913783790415, -0.060905291350630164, -0.11274474146190255, -0.08506958897939598, -0.10814890856723308, 0.2544043157896403, -0.04093306698730946, 0.09480514607243404, -0.08699263367685582, -0.0865098705574678, 0.28052611662519283, 0.23959195016539464, 0.10045918741394183, -0.13100175915350026, -0.22767955241201432, -0.13883208378812822, 0.02598567689375248, -0.13423625089345875, -0.02134725896009828, -0.2971093852816266, -0.2083163169315079, 0.010077901262362535, -0.20879908005089592, -0.2606385301621683, -0.4560831303749565, 0.13259786941560017, -0.10660964880161466, -0.25280820552754035, -0.44547716585020547, -0.027001300301606065, -0.23296337767966174, -0.25604269726749884, 0.10812045471213275, 0.11439095409964523, 0.27399012381685145, -0.11924627576091704, 0.24951270911338402, -0.06224314061448009, -0.06740682564964465, -0.11465044286624756, 0.034782605599636626, -0.12789015353491995, 0.47292023780770326, -0.11141595112628908, 0.25917775819260586, 0.4908676035388897, 0.04557148492096366, -0.15571713088037534, 0.300111924652404, 0.054794045492428424, 0.399935746200141, 0.36042465626103004, -0.09157112327841047, -0.06692406253025662, 0.02067738011455214, -0.30408491144895416, 0.15147015566361383, 0.24385866777187626, 0.25352371685109804, -0.07306086699115243, -0.09722516461991824, -0.16137117222188313, 0.14581611432210603, -0.21374778572631092, 0.039917443579455876, 0.45405705302810245, 0.08653830272605381, -0.4838558707063315, -0.5904530022952336, -0.3380052669360084, -0.3673332495999388, -0.3904125691877759, -0.3871780774478174, -0.23019064140056467, -0.39500840208244536, -0.3426861888517849, -0.5433761826510242, -0.36718142473699, -0.3062153337323267, -0.3507072223283591, -0.3066980968517147, 0.0198864869905358, -0.3308623944804805, -0.41970986310436664, -0.4560288933608761, -0.0354989023077958, -0.25437588362105423, -0.3016195008376572, -0.152186452371773, -0.49153673253975183, -0.5387803497563547, -0.07999079090382825, -0.035981665427183826, 0.29060291841506664, 0.052102540337012955, -0.08322528264378674, 0.5222927637613505, 0.5043453980301641, -0.27385925933404354, -0.16161075594108096, -0.24969496170527772, -0.2988677722170867, -0.2790229443692081, -0.13265777559836922, -0.5021426970645029, 0.11266010356160636, -0.31534197462571756, -0.5626260249497781, -0.32303206984585253, -0.38916438649389457, 0.1847042476724165, -0.1660446337985998, -0.19093873860501132]}],                        {\"annotations\": [{\"font\": {\"size\": 14}, \"showarrow\": false, \"text\": \"\", \"x\": 0, \"xanchor\": \"left\", \"xref\": \"paper\", \"y\": 0.1, \"yanchor\": \"bottom\", \"yref\": \"paper\"}], \"height\": 700, \"hovermode\": \"closest\", \"margin\": {\"t\": 100}, \"plot_bgcolor\": \"rgba(0,0,0,0)\", \"scene\": {\"xaxis\": {\"showbackground\": false, \"showgrid\": false, \"showline\": false, \"showticklabels\": false, \"title\": {\"text\": \"\"}, \"zeroline\": false}, \"yaxis\": {\"showbackground\": false, \"showgrid\": false, \"showline\": false, \"showticklabels\": false, \"title\": {\"text\": \"\"}, \"zeroline\": false}, \"zaxis\": {\"showbackground\": false, \"showgrid\": false, \"showline\": false, \"showticklabels\": false, \"title\": {\"text\": \"\"}, \"zeroline\": false}}, \"showlegend\": false, \"template\": {\"data\": {\"bar\": [{\"error_x\": {\"color\": \"#2a3f5f\"}, \"error_y\": {\"color\": \"#2a3f5f\"}, \"marker\": {\"line\": {\"color\": \"#E5ECF6\", \"width\": 0.5}}, \"type\": \"bar\"}], \"barpolar\": [{\"marker\": {\"line\": {\"color\": \"#E5ECF6\", \"width\": 0.5}}, \"type\": \"barpolar\"}], \"carpet\": [{\"aaxis\": {\"endlinecolor\": \"#2a3f5f\", \"gridcolor\": \"white\", \"linecolor\": \"white\", \"minorgridcolor\": \"white\", \"startlinecolor\": \"#2a3f5f\"}, \"baxis\": {\"endlinecolor\": \"#2a3f5f\", \"gridcolor\": \"white\", \"linecolor\": \"white\", \"minorgridcolor\": \"white\", \"startlinecolor\": \"#2a3f5f\"}, \"type\": \"carpet\"}], \"choropleth\": [{\"colorbar\": {\"outlinewidth\": 0, \"ticks\": \"\"}, \"type\": \"choropleth\"}], \"contour\": [{\"colorbar\": {\"outlinewidth\": 0, \"ticks\": \"\"}, \"colorscale\": [[0.0, \"#0d0887\"], [0.1111111111111111, \"#46039f\"], [0.2222222222222222, \"#7201a8\"], [0.3333333333333333, \"#9c179e\"], [0.4444444444444444, \"#bd3786\"], [0.5555555555555556, \"#d8576b\"], [0.6666666666666666, \"#ed7953\"], [0.7777777777777778, \"#fb9f3a\"], [0.8888888888888888, \"#fdca26\"], [1.0, \"#f0f921\"]], \"type\": \"contour\"}], \"contourcarpet\": [{\"colorbar\": {\"outlinewidth\": 0, \"ticks\": \"\"}, \"type\": \"contourcarpet\"}], \"heatmap\": [{\"colorbar\": {\"outlinewidth\": 0, \"ticks\": \"\"}, \"colorscale\": [[0.0, \"#0d0887\"], [0.1111111111111111, \"#46039f\"], [0.2222222222222222, \"#7201a8\"], [0.3333333333333333, \"#9c179e\"], [0.4444444444444444, \"#bd3786\"], [0.5555555555555556, \"#d8576b\"], [0.6666666666666666, \"#ed7953\"], [0.7777777777777778, \"#fb9f3a\"], [0.8888888888888888, \"#fdca26\"], [1.0, \"#f0f921\"]], \"type\": \"heatmap\"}], \"heatmapgl\": [{\"colorbar\": {\"outlinewidth\": 0, \"ticks\": \"\"}, \"colorscale\": [[0.0, \"#0d0887\"], [0.1111111111111111, \"#46039f\"], [0.2222222222222222, \"#7201a8\"], [0.3333333333333333, \"#9c179e\"], [0.4444444444444444, \"#bd3786\"], [0.5555555555555556, \"#d8576b\"], [0.6666666666666666, \"#ed7953\"], [0.7777777777777778, \"#fb9f3a\"], [0.8888888888888888, \"#fdca26\"], [1.0, \"#f0f921\"]], \"type\": \"heatmapgl\"}], \"histogram\": [{\"marker\": {\"colorbar\": {\"outlinewidth\": 0, \"ticks\": \"\"}}, \"type\": \"histogram\"}], \"histogram2d\": [{\"colorbar\": {\"outlinewidth\": 0, \"ticks\": \"\"}, \"colorscale\": [[0.0, \"#0d0887\"], [0.1111111111111111, \"#46039f\"], [0.2222222222222222, \"#7201a8\"], [0.3333333333333333, \"#9c179e\"], [0.4444444444444444, \"#bd3786\"], [0.5555555555555556, \"#d8576b\"], [0.6666666666666666, \"#ed7953\"], [0.7777777777777778, \"#fb9f3a\"], [0.8888888888888888, \"#fdca26\"], [1.0, \"#f0f921\"]], \"type\": \"histogram2d\"}], \"histogram2dcontour\": [{\"colorbar\": {\"outlinewidth\": 0, \"ticks\": \"\"}, \"colorscale\": [[0.0, \"#0d0887\"], [0.1111111111111111, \"#46039f\"], [0.2222222222222222, \"#7201a8\"], [0.3333333333333333, \"#9c179e\"], [0.4444444444444444, \"#bd3786\"], [0.5555555555555556, \"#d8576b\"], [0.6666666666666666, \"#ed7953\"], [0.7777777777777778, \"#fb9f3a\"], [0.8888888888888888, \"#fdca26\"], [1.0, \"#f0f921\"]], \"type\": \"histogram2dcontour\"}], \"mesh3d\": [{\"colorbar\": {\"outlinewidth\": 0, \"ticks\": \"\"}, \"type\": \"mesh3d\"}], \"parcoords\": [{\"line\": {\"colorbar\": {\"outlinewidth\": 0, \"ticks\": \"\"}}, \"type\": \"parcoords\"}], \"pie\": [{\"automargin\": true, \"type\": \"pie\"}], \"scatter\": [{\"marker\": {\"colorbar\": {\"outlinewidth\": 0, \"ticks\": \"\"}}, \"type\": \"scatter\"}], \"scatter3d\": [{\"line\": {\"colorbar\": {\"outlinewidth\": 0, \"ticks\": \"\"}}, \"marker\": {\"colorbar\": {\"outlinewidth\": 0, \"ticks\": \"\"}}, \"type\": \"scatter3d\"}], \"scattercarpet\": [{\"marker\": {\"colorbar\": {\"outlinewidth\": 0, \"ticks\": \"\"}}, \"type\": \"scattercarpet\"}], \"scattergeo\": [{\"marker\": {\"colorbar\": {\"outlinewidth\": 0, \"ticks\": \"\"}}, \"type\": \"scattergeo\"}], \"scattergl\": [{\"marker\": {\"colorbar\": {\"outlinewidth\": 0, \"ticks\": \"\"}}, \"type\": \"scattergl\"}], \"scattermapbox\": [{\"marker\": {\"colorbar\": {\"outlinewidth\": 0, \"ticks\": \"\"}}, \"type\": \"scattermapbox\"}], \"scatterpolar\": [{\"marker\": {\"colorbar\": {\"outlinewidth\": 0, \"ticks\": \"\"}}, \"type\": \"scatterpolar\"}], \"scatterpolargl\": [{\"marker\": {\"colorbar\": {\"outlinewidth\": 0, \"ticks\": \"\"}}, \"type\": \"scatterpolargl\"}], \"scatterternary\": [{\"marker\": {\"colorbar\": {\"outlinewidth\": 0, \"ticks\": \"\"}}, \"type\": \"scatterternary\"}], \"surface\": [{\"colorbar\": {\"outlinewidth\": 0, \"ticks\": \"\"}, \"colorscale\": [[0.0, \"#0d0887\"], [0.1111111111111111, \"#46039f\"], [0.2222222222222222, \"#7201a8\"], [0.3333333333333333, \"#9c179e\"], [0.4444444444444444, \"#bd3786\"], [0.5555555555555556, \"#d8576b\"], [0.6666666666666666, \"#ed7953\"], [0.7777777777777778, \"#fb9f3a\"], [0.8888888888888888, \"#fdca26\"], [1.0, \"#f0f921\"]], \"type\": \"surface\"}], \"table\": [{\"cells\": {\"fill\": {\"color\": \"#EBF0F8\"}, \"line\": {\"color\": \"white\"}}, \"header\": {\"fill\": {\"color\": \"#C8D4E3\"}, \"line\": {\"color\": \"white\"}}, \"type\": \"table\"}]}, \"layout\": {\"annotationdefaults\": {\"arrowcolor\": \"#2a3f5f\", \"arrowhead\": 0, \"arrowwidth\": 1}, \"coloraxis\": {\"colorbar\": {\"outlinewidth\": 0, \"ticks\": \"\"}}, \"colorscale\": {\"diverging\": [[0, \"#8e0152\"], [0.1, \"#c51b7d\"], [0.2, \"#de77ae\"], [0.3, \"#f1b6da\"], [0.4, \"#fde0ef\"], [0.5, \"#f7f7f7\"], [0.6, \"#e6f5d0\"], [0.7, \"#b8e186\"], [0.8, \"#7fbc41\"], [0.9, \"#4d9221\"], [1, \"#276419\"]], \"sequential\": [[0.0, \"#0d0887\"], [0.1111111111111111, \"#46039f\"], [0.2222222222222222, \"#7201a8\"], [0.3333333333333333, \"#9c179e\"], [0.4444444444444444, \"#bd3786\"], [0.5555555555555556, \"#d8576b\"], [0.6666666666666666, \"#ed7953\"], [0.7777777777777778, \"#fb9f3a\"], [0.8888888888888888, \"#fdca26\"], [1.0, \"#f0f921\"]], \"sequentialminus\": [[0.0, \"#0d0887\"], [0.1111111111111111, \"#46039f\"], [0.2222222222222222, \"#7201a8\"], [0.3333333333333333, \"#9c179e\"], [0.4444444444444444, \"#bd3786\"], [0.5555555555555556, \"#d8576b\"], [0.6666666666666666, \"#ed7953\"], [0.7777777777777778, \"#fb9f3a\"], [0.8888888888888888, \"#fdca26\"], [1.0, \"#f0f921\"]]}, \"colorway\": [\"#636efa\", \"#EF553B\", \"#00cc96\", \"#ab63fa\", \"#FFA15A\", \"#19d3f3\", \"#FF6692\", \"#B6E880\", \"#FF97FF\", \"#FECB52\"], \"font\": {\"color\": \"#2a3f5f\"}, \"geo\": {\"bgcolor\": \"white\", \"lakecolor\": \"white\", \"landcolor\": \"#E5ECF6\", \"showlakes\": true, \"showland\": true, \"subunitcolor\": \"white\"}, \"hoverlabel\": {\"align\": \"left\"}, \"hovermode\": \"closest\", \"mapbox\": {\"style\": \"light\"}, \"paper_bgcolor\": \"white\", \"plot_bgcolor\": \"#E5ECF6\", \"polar\": {\"angularaxis\": {\"gridcolor\": \"white\", \"linecolor\": \"white\", \"ticks\": \"\"}, \"bgcolor\": \"#E5ECF6\", \"radialaxis\": {\"gridcolor\": \"white\", \"linecolor\": \"white\", \"ticks\": \"\"}}, \"scene\": {\"xaxis\": {\"backgroundcolor\": \"#E5ECF6\", \"gridcolor\": \"white\", \"gridwidth\": 2, \"linecolor\": \"white\", \"showbackground\": true, \"ticks\": \"\", \"zerolinecolor\": \"white\"}, \"yaxis\": {\"backgroundcolor\": \"#E5ECF6\", \"gridcolor\": \"white\", \"gridwidth\": 2, \"linecolor\": \"white\", \"showbackground\": true, \"ticks\": \"\", \"zerolinecolor\": \"white\"}, \"zaxis\": {\"backgroundcolor\": \"#E5ECF6\", \"gridcolor\": \"white\", \"gridwidth\": 2, \"linecolor\": \"white\", \"showbackground\": true, \"ticks\": \"\", \"zerolinecolor\": \"white\"}}, \"shapedefaults\": {\"line\": {\"color\": \"#2a3f5f\"}}, \"ternary\": {\"aaxis\": {\"gridcolor\": \"white\", \"linecolor\": \"white\", \"ticks\": \"\"}, \"baxis\": {\"gridcolor\": \"white\", \"linecolor\": \"white\", \"ticks\": \"\"}, \"bgcolor\": \"#E5ECF6\", \"caxis\": {\"gridcolor\": \"white\", \"linecolor\": \"white\", \"ticks\": \"\"}}, \"title\": {\"x\": 0.05}, \"xaxis\": {\"automargin\": true, \"gridcolor\": \"white\", \"linecolor\": \"white\", \"ticks\": \"\", \"title\": {\"standoff\": 15}, \"zerolinecolor\": \"white\", \"zerolinewidth\": 2}, \"yaxis\": {\"automargin\": true, \"gridcolor\": \"white\", \"linecolor\": \"white\", \"ticks\": \"\", \"title\": {\"standoff\": 15}, \"zerolinecolor\": \"white\", \"zerolinewidth\": 2}}}, \"title\": {\"text\": \"\"}, \"width\": 900},                        {\"responsive\": true}                    ).then(function(){\n",
       "                            \n",
       "var gd = document.getElementById('f164aea0-a312-420f-96dd-b3c9ccdda5fc');\n",
       "var x = new MutationObserver(function (mutations, observer) {{\n",
       "        var display = window.getComputedStyle(gd).display;\n",
       "        if (!display || display === 'none') {{\n",
       "            console.log([gd, 'removed!']);\n",
       "            Plotly.purge(gd);\n",
       "            observer.disconnect();\n",
       "        }}\n",
       "}});\n",
       "\n",
       "// Listen for the removal of the full notebook cells\n",
       "var notebookContainer = gd.closest('#notebook-container');\n",
       "if (notebookContainer) {{\n",
       "    x.observe(notebookContainer, {childList: true});\n",
       "}}\n",
       "\n",
       "// Listen for the clearing of the current output cell\n",
       "var outputEl = gd.closest('.output');\n",
       "if (outputEl) {{\n",
       "    x.observe(outputEl, {childList: true});\n",
       "}}\n",
       "\n",
       "                        })                };                });            </script>        </div>"
      ]
     },
     "metadata": {},
     "output_type": "display_data"
    }
   ],
   "source": [
    "fig = textnet.draw_3d_network(ego_network)\n",
    "fig.show()"
   ]
  },
  {
   "cell_type": "code",
   "execution_count": 43,
   "metadata": {},
   "outputs": [],
   "source": [
    "fig.write_image(\"fig_test.png\")"
   ]
  },
  {
   "cell_type": "code",
   "execution_count": null,
   "metadata": {},
   "outputs": [],
   "source": []
  },
  {
   "cell_type": "code",
   "execution_count": null,
   "metadata": {},
   "outputs": [],
   "source": []
  },
  {
   "cell_type": "code",
   "execution_count": null,
   "metadata": {},
   "outputs": [],
   "source": []
  },
  {
   "cell_type": "code",
   "execution_count": null,
   "metadata": {},
   "outputs": [],
   "source": []
  },
  {
   "cell_type": "code",
   "execution_count": null,
   "metadata": {
    "id": "VZHTvXquJQl0"
   },
   "outputs": [],
   "source": [
    "bow = CountVectorizer(vocabulary=vocabulary)\n",
    "bow_term2doc = bow.fit_transform([\" \".join(doc) for doc in docs]) ### run the model\n",
    "\n",
    "term2term_bow = (bow_term2doc.T * bow_term2doc)\n",
    "\n",
    "\n",
    "tfidf =  TfidfVectorizer(vocabulary=vocabulary)\n",
    "tfidf_term2doc = tfidf.fit_transform([\" \".join(doc) for doc in docs]) ### run the model\n",
    "\n",
    "svd = TruncatedSVD(n_components=150, n_iter=5, random_state=42)\n",
    "svd_bow = svd.fit(bow_term2doc)\n",
    "\n",
    "svd = TruncatedSVD(n_components=150, n_iter=5, random_state=42)\n",
    "svd_tfidf = svd.fit(tfidf_term2doc)\n",
    "    #term2doc = pd.DataFrame(Xc.toarray(), columns=vec.get_feature_names(), index=vec.get_feature_names())\n",
    "lsa_bow = pd.DataFrame(svd_bow.components_, columns=vocabulary)\n",
    "lsa_tfidf = pd.DataFrame(svd_tfidf.components_, columns=vocabulary)"
   ]
  },
  {
   "cell_type": "code",
   "execution_count": null,
   "metadata": {},
   "outputs": [],
   "source": []
  },
  {
   "cell_type": "code",
   "execution_count": null,
   "metadata": {
    "id": "i_EjOdpBJQl0"
   },
   "outputs": [],
   "source": [
    "words = [\"δίκαιος\", \"δίκη\", \"δικαιοσύνη\"]"
   ]
  },
  {
   "cell_type": "code",
   "execution_count": null,
   "metadata": {
    "id": "M413lxCVJQl0",
    "outputId": "425b8dab-90d2-46fa-ae0e-347e39c276e9"
   },
   "outputs": [
    {
     "data": {
      "text/html": [
       "<div>\n",
       "<style scoped>\n",
       "    .dataframe tbody tr th:only-of-type {\n",
       "        vertical-align: middle;\n",
       "    }\n",
       "\n",
       "    .dataframe tbody tr th {\n",
       "        vertical-align: top;\n",
       "    }\n",
       "\n",
       "    .dataframe thead th {\n",
       "        text-align: right;\n",
       "    }\n",
       "</style>\n",
       "<table border=\"1\" class=\"dataframe\">\n",
       "  <thead>\n",
       "    <tr style=\"text-align: right;\">\n",
       "      <th></th>\n",
       "      <th>πρᾶγμα</th>\n",
       "      <th>ἡσσάομαι</th>\n",
       "      <th>θλίβω</th>\n",
       "      <th>θλίψιν</th>\n",
       "      <th>διδαχῆς</th>\n",
       "      <th>ψάλλω</th>\n",
       "      <th>ἐλάχιστόν</th>\n",
       "      <th>διατάσσω</th>\n",
       "      <th>ποῦ</th>\n",
       "      <th>θερίζω</th>\n",
       "      <th>...</th>\n",
       "      <th>εἴδωλόν</th>\n",
       "      <th>φοβέω</th>\n",
       "      <th>θαυμάζω</th>\n",
       "      <th>ὀδυρμός</th>\n",
       "      <th>εὐαγγέλιον</th>\n",
       "      <th>ὑπακοην</th>\n",
       "      <th>ἀντικειμένωνἥτις</th>\n",
       "      <th>ἔνδειξις</th>\n",
       "      <th>ὑποτάσσω</th>\n",
       "      <th>συγχαίρω</th>\n",
       "    </tr>\n",
       "  </thead>\n",
       "  <tbody>\n",
       "    <tr>\n",
       "      <th>πρᾶγμα</th>\n",
       "      <td>4</td>\n",
       "      <td>0</td>\n",
       "      <td>0</td>\n",
       "      <td>0</td>\n",
       "      <td>0</td>\n",
       "      <td>0</td>\n",
       "      <td>0</td>\n",
       "      <td>0</td>\n",
       "      <td>0</td>\n",
       "      <td>0</td>\n",
       "      <td>...</td>\n",
       "      <td>0</td>\n",
       "      <td>0</td>\n",
       "      <td>0</td>\n",
       "      <td>0</td>\n",
       "      <td>0</td>\n",
       "      <td>0</td>\n",
       "      <td>0</td>\n",
       "      <td>0</td>\n",
       "      <td>0</td>\n",
       "      <td>0</td>\n",
       "    </tr>\n",
       "    <tr>\n",
       "      <th>ἡσσάομαι</th>\n",
       "      <td>0</td>\n",
       "      <td>1</td>\n",
       "      <td>0</td>\n",
       "      <td>0</td>\n",
       "      <td>0</td>\n",
       "      <td>0</td>\n",
       "      <td>0</td>\n",
       "      <td>0</td>\n",
       "      <td>0</td>\n",
       "      <td>0</td>\n",
       "      <td>...</td>\n",
       "      <td>0</td>\n",
       "      <td>0</td>\n",
       "      <td>0</td>\n",
       "      <td>0</td>\n",
       "      <td>0</td>\n",
       "      <td>0</td>\n",
       "      <td>0</td>\n",
       "      <td>0</td>\n",
       "      <td>0</td>\n",
       "      <td>0</td>\n",
       "    </tr>\n",
       "    <tr>\n",
       "      <th>θλίβω</th>\n",
       "      <td>0</td>\n",
       "      <td>0</td>\n",
       "      <td>11</td>\n",
       "      <td>0</td>\n",
       "      <td>0</td>\n",
       "      <td>0</td>\n",
       "      <td>0</td>\n",
       "      <td>0</td>\n",
       "      <td>0</td>\n",
       "      <td>0</td>\n",
       "      <td>...</td>\n",
       "      <td>0</td>\n",
       "      <td>0</td>\n",
       "      <td>0</td>\n",
       "      <td>0</td>\n",
       "      <td>0</td>\n",
       "      <td>0</td>\n",
       "      <td>0</td>\n",
       "      <td>0</td>\n",
       "      <td>0</td>\n",
       "      <td>0</td>\n",
       "    </tr>\n",
       "    <tr>\n",
       "      <th>θλίψιν</th>\n",
       "      <td>0</td>\n",
       "      <td>0</td>\n",
       "      <td>0</td>\n",
       "      <td>2</td>\n",
       "      <td>0</td>\n",
       "      <td>0</td>\n",
       "      <td>0</td>\n",
       "      <td>0</td>\n",
       "      <td>0</td>\n",
       "      <td>0</td>\n",
       "      <td>...</td>\n",
       "      <td>0</td>\n",
       "      <td>0</td>\n",
       "      <td>0</td>\n",
       "      <td>0</td>\n",
       "      <td>1</td>\n",
       "      <td>0</td>\n",
       "      <td>0</td>\n",
       "      <td>0</td>\n",
       "      <td>0</td>\n",
       "      <td>0</td>\n",
       "    </tr>\n",
       "    <tr>\n",
       "      <th>διδαχῆς</th>\n",
       "      <td>0</td>\n",
       "      <td>0</td>\n",
       "      <td>0</td>\n",
       "      <td>0</td>\n",
       "      <td>1</td>\n",
       "      <td>0</td>\n",
       "      <td>0</td>\n",
       "      <td>0</td>\n",
       "      <td>0</td>\n",
       "      <td>0</td>\n",
       "      <td>...</td>\n",
       "      <td>0</td>\n",
       "      <td>0</td>\n",
       "      <td>0</td>\n",
       "      <td>0</td>\n",
       "      <td>0</td>\n",
       "      <td>0</td>\n",
       "      <td>0</td>\n",
       "      <td>0</td>\n",
       "      <td>0</td>\n",
       "      <td>0</td>\n",
       "    </tr>\n",
       "    <tr>\n",
       "      <th>...</th>\n",
       "      <td>...</td>\n",
       "      <td>...</td>\n",
       "      <td>...</td>\n",
       "      <td>...</td>\n",
       "      <td>...</td>\n",
       "      <td>...</td>\n",
       "      <td>...</td>\n",
       "      <td>...</td>\n",
       "      <td>...</td>\n",
       "      <td>...</td>\n",
       "      <td>...</td>\n",
       "      <td>...</td>\n",
       "      <td>...</td>\n",
       "      <td>...</td>\n",
       "      <td>...</td>\n",
       "      <td>...</td>\n",
       "      <td>...</td>\n",
       "      <td>...</td>\n",
       "      <td>...</td>\n",
       "      <td>...</td>\n",
       "      <td>...</td>\n",
       "    </tr>\n",
       "    <tr>\n",
       "      <th>ὑπακοην</th>\n",
       "      <td>0</td>\n",
       "      <td>0</td>\n",
       "      <td>0</td>\n",
       "      <td>0</td>\n",
       "      <td>0</td>\n",
       "      <td>0</td>\n",
       "      <td>0</td>\n",
       "      <td>0</td>\n",
       "      <td>0</td>\n",
       "      <td>0</td>\n",
       "      <td>...</td>\n",
       "      <td>0</td>\n",
       "      <td>0</td>\n",
       "      <td>0</td>\n",
       "      <td>0</td>\n",
       "      <td>1</td>\n",
       "      <td>4</td>\n",
       "      <td>0</td>\n",
       "      <td>0</td>\n",
       "      <td>0</td>\n",
       "      <td>0</td>\n",
       "    </tr>\n",
       "    <tr>\n",
       "      <th>ἀντικειμένωνἥτις</th>\n",
       "      <td>0</td>\n",
       "      <td>0</td>\n",
       "      <td>0</td>\n",
       "      <td>0</td>\n",
       "      <td>0</td>\n",
       "      <td>0</td>\n",
       "      <td>0</td>\n",
       "      <td>0</td>\n",
       "      <td>0</td>\n",
       "      <td>0</td>\n",
       "      <td>...</td>\n",
       "      <td>0</td>\n",
       "      <td>0</td>\n",
       "      <td>0</td>\n",
       "      <td>0</td>\n",
       "      <td>2</td>\n",
       "      <td>0</td>\n",
       "      <td>1</td>\n",
       "      <td>1</td>\n",
       "      <td>0</td>\n",
       "      <td>0</td>\n",
       "    </tr>\n",
       "    <tr>\n",
       "      <th>ἔνδειξις</th>\n",
       "      <td>0</td>\n",
       "      <td>0</td>\n",
       "      <td>0</td>\n",
       "      <td>0</td>\n",
       "      <td>0</td>\n",
       "      <td>0</td>\n",
       "      <td>0</td>\n",
       "      <td>0</td>\n",
       "      <td>0</td>\n",
       "      <td>0</td>\n",
       "      <td>...</td>\n",
       "      <td>0</td>\n",
       "      <td>0</td>\n",
       "      <td>0</td>\n",
       "      <td>0</td>\n",
       "      <td>2</td>\n",
       "      <td>0</td>\n",
       "      <td>1</td>\n",
       "      <td>6</td>\n",
       "      <td>0</td>\n",
       "      <td>0</td>\n",
       "    </tr>\n",
       "    <tr>\n",
       "      <th>ὑποτάσσω</th>\n",
       "      <td>0</td>\n",
       "      <td>0</td>\n",
       "      <td>0</td>\n",
       "      <td>0</td>\n",
       "      <td>0</td>\n",
       "      <td>0</td>\n",
       "      <td>0</td>\n",
       "      <td>0</td>\n",
       "      <td>0</td>\n",
       "      <td>0</td>\n",
       "      <td>...</td>\n",
       "      <td>0</td>\n",
       "      <td>0</td>\n",
       "      <td>0</td>\n",
       "      <td>0</td>\n",
       "      <td>0</td>\n",
       "      <td>0</td>\n",
       "      <td>0</td>\n",
       "      <td>0</td>\n",
       "      <td>12</td>\n",
       "      <td>0</td>\n",
       "    </tr>\n",
       "    <tr>\n",
       "      <th>συγχαίρω</th>\n",
       "      <td>0</td>\n",
       "      <td>0</td>\n",
       "      <td>0</td>\n",
       "      <td>0</td>\n",
       "      <td>0</td>\n",
       "      <td>0</td>\n",
       "      <td>0</td>\n",
       "      <td>0</td>\n",
       "      <td>0</td>\n",
       "      <td>0</td>\n",
       "      <td>...</td>\n",
       "      <td>0</td>\n",
       "      <td>0</td>\n",
       "      <td>0</td>\n",
       "      <td>0</td>\n",
       "      <td>0</td>\n",
       "      <td>0</td>\n",
       "      <td>0</td>\n",
       "      <td>0</td>\n",
       "      <td>0</td>\n",
       "      <td>3</td>\n",
       "    </tr>\n",
       "  </tbody>\n",
       "</table>\n",
       "<p>2352 rows × 2352 columns</p>\n",
       "</div>"
      ],
      "text/plain": [
       "                  πρᾶγμα  ἡσσάομαι  θλίβω  θλίψιν  διδαχῆς  ψάλλω  ἐλάχιστόν  \\\n",
       "πρᾶγμα                 4         0      0       0        0      0          0   \n",
       "ἡσσάομαι               0         1      0       0        0      0          0   \n",
       "θλίβω                  0         0     11       0        0      0          0   \n",
       "θλίψιν                 0         0      0       2        0      0          0   \n",
       "διδαχῆς                0         0      0       0        1      0          0   \n",
       "...                  ...       ...    ...     ...      ...    ...        ...   \n",
       "ὑπακοην                0         0      0       0        0      0          0   \n",
       "ἀντικειμένωνἥτις       0         0      0       0        0      0          0   \n",
       "ἔνδειξις               0         0      0       0        0      0          0   \n",
       "ὑποτάσσω               0         0      0       0        0      0          0   \n",
       "συγχαίρω               0         0      0       0        0      0          0   \n",
       "\n",
       "                  διατάσσω  ποῦ  θερίζω  ...  εἴδωλόν  φοβέω  θαυμάζω  \\\n",
       "πρᾶγμα                   0    0       0  ...        0      0        0   \n",
       "ἡσσάομαι                 0    0       0  ...        0      0        0   \n",
       "θλίβω                    0    0       0  ...        0      0        0   \n",
       "θλίψιν                   0    0       0  ...        0      0        0   \n",
       "διδαχῆς                  0    0       0  ...        0      0        0   \n",
       "...                    ...  ...     ...  ...      ...    ...      ...   \n",
       "ὑπακοην                  0    0       0  ...        0      0        0   \n",
       "ἀντικειμένωνἥτις         0    0       0  ...        0      0        0   \n",
       "ἔνδειξις                 0    0       0  ...        0      0        0   \n",
       "ὑποτάσσω                 0    0       0  ...        0      0        0   \n",
       "συγχαίρω                 0    0       0  ...        0      0        0   \n",
       "\n",
       "                  ὀδυρμός  εὐαγγέλιον  ὑπακοην  ἀντικειμένωνἥτις  ἔνδειξις  \\\n",
       "πρᾶγμα                  0           0        0                 0         0   \n",
       "ἡσσάομαι                0           0        0                 0         0   \n",
       "θλίβω                   0           0        0                 0         0   \n",
       "θλίψιν                  0           1        0                 0         0   \n",
       "διδαχῆς                 0           0        0                 0         0   \n",
       "...                   ...         ...      ...               ...       ...   \n",
       "ὑπακοην                 0           1        4                 0         0   \n",
       "ἀντικειμένωνἥτις        0           2        0                 1         1   \n",
       "ἔνδειξις                0           2        0                 1         6   \n",
       "ὑποτάσσω                0           0        0                 0         0   \n",
       "συγχαίρω                0           0        0                 0         0   \n",
       "\n",
       "                  ὑποτάσσω  συγχαίρω  \n",
       "πρᾶγμα                   0         0  \n",
       "ἡσσάομαι                 0         0  \n",
       "θλίβω                    0         0  \n",
       "θλίψιν                   0         0  \n",
       "διδαχῆς                  0         0  \n",
       "...                    ...       ...  \n",
       "ὑπακοην                  0         0  \n",
       "ἀντικειμένωνἥτις         0         0  \n",
       "ἔνδειξις                 0         0  \n",
       "ὑποτάσσω                12         0  \n",
       "συγχαίρω                 0         3  \n",
       "\n",
       "[2352 rows x 2352 columns]"
      ]
     },
     "execution_count": 66,
     "metadata": {
      "tags": []
     },
     "output_type": "execute_result"
    }
   ],
   "source": [
    "term2term_bow_df = pd.DataFrame(term2term_bow.todense(), columns=vocabulary, index=vocabulary)\n",
    "term2term_bow_df"
   ]
  },
  {
   "cell_type": "code",
   "execution_count": null,
   "metadata": {
    "id": "5_2m3288JQl0",
    "outputId": "a237fe9e-5d8a-40ec-b040-458feed42a8a"
   },
   "outputs": [
    {
     "name": "stdout",
     "output_type": "stream",
     "text": [
      "            δικαιοσύνη\n",
      "δικαιοσύνη          62\n",
      "πίστις              25\n",
      "θεάομαι             18\n",
      "νόμος               16\n",
      "λογίζομαι           11\n",
      "χριστοῦ             10\n",
      "ἁμαρτία             10\n",
      "ἰησοῦ               10\n",
      "θεός                 9\n",
      "πᾶς                  9\n",
      "πιστεύω              7\n",
      "περιτομή             7\n",
      "ἀκροβυστία           6\n",
      "πατήρ                6\n",
      "ἀβραάμ               6\n",
      "ἀνομία               5\n",
      "βασιλεύω             5\n",
      "δοῦλος               5\n",
      "κύριος               5\n",
      "ἁμάρτημα             5\n"
     ]
    }
   ],
   "source": [
    "sorted_df = term2term_bow_df.sort_values(\"δικαιοσύνη\", ascending=False)[[\"δικαιοσύνη\"]]\n",
    "print(sorted_df.head(20))"
   ]
  },
  {
   "cell_type": "code",
   "execution_count": null,
   "metadata": {
    "id": "xWMaNQehJQl1",
    "outputId": "2a7150ab-f766-4d68-cc19-6752cab2240f"
   },
   "outputs": [
    {
     "name": "stdout",
     "output_type": "stream",
     "text": [
      "            δίκαιος\n",
      "δίκαιος          14\n",
      "πίστις            8\n",
      "ὅσος              6\n",
      "θεός              6\n",
      "νόμος             5\n",
      "πᾶς               4\n",
      "θεάομαι           4\n",
      "ἕνος              3\n",
      "δικαιοσύνη        3\n",
      "ἁμός              3\n",
      "ζάω               3\n",
      "δικαιόω           2\n",
      "ἀλλ               2\n",
      "ποιέω             2\n",
      "πολύς             2\n",
      "ἅγιος             2\n",
      "καθίστημι         2\n",
      "ἔχω               2\n",
      "γράφω             2\n",
      "εἶμι              2\n"
     ]
    }
   ],
   "source": [
    "sorted_df = term2term_bow_df.sort_values(\"δίκαιος\", ascending=False)[[\"δίκαιος\"]]\n",
    "print(sorted_df.head(20))"
   ]
  },
  {
   "cell_type": "code",
   "execution_count": null,
   "metadata": {
    "id": "246hKpH0JQl1",
    "outputId": "4d6a95b0-465f-4c23-ba57-814622a2e1ad"
   },
   "outputs": [
    {
     "data": {
      "text/html": [
       "<div>\n",
       "<style scoped>\n",
       "    .dataframe tbody tr th:only-of-type {\n",
       "        vertical-align: middle;\n",
       "    }\n",
       "\n",
       "    .dataframe tbody tr th {\n",
       "        vertical-align: top;\n",
       "    }\n",
       "\n",
       "    .dataframe thead th {\n",
       "        text-align: right;\n",
       "    }\n",
       "</style>\n",
       "<table border=\"1\" class=\"dataframe\">\n",
       "  <thead>\n",
       "    <tr style=\"text-align: right;\">\n",
       "      <th></th>\n",
       "      <th>πρᾶγμα</th>\n",
       "      <th>ἡσσάομαι</th>\n",
       "      <th>θλίβω</th>\n",
       "      <th>θλίψιν</th>\n",
       "      <th>διδαχῆς</th>\n",
       "      <th>ψάλλω</th>\n",
       "      <th>ἐλάχιστόν</th>\n",
       "      <th>διατάσσω</th>\n",
       "      <th>ποῦ</th>\n",
       "      <th>θερίζω</th>\n",
       "      <th>...</th>\n",
       "      <th>εἴδωλόν</th>\n",
       "      <th>φοβέω</th>\n",
       "      <th>θαυμάζω</th>\n",
       "      <th>ὀδυρμός</th>\n",
       "      <th>εὐαγγέλιον</th>\n",
       "      <th>ὑπακοην</th>\n",
       "      <th>ἀντικειμένωνἥτις</th>\n",
       "      <th>ἔνδειξις</th>\n",
       "      <th>ὑποτάσσω</th>\n",
       "      <th>συγχαίρω</th>\n",
       "    </tr>\n",
       "  </thead>\n",
       "  <tbody>\n",
       "    <tr>\n",
       "      <th>0</th>\n",
       "      <td>0.003708</td>\n",
       "      <td>0.000052</td>\n",
       "      <td>0.018253</td>\n",
       "      <td>0.000661</td>\n",
       "      <td>0.000759</td>\n",
       "      <td>0.000499</td>\n",
       "      <td>0.000129</td>\n",
       "      <td>0.001352</td>\n",
       "      <td>0.000011</td>\n",
       "      <td>0.001212</td>\n",
       "      <td>...</td>\n",
       "      <td>-6.639306e-16</td>\n",
       "      <td>0.006197</td>\n",
       "      <td>0.000482</td>\n",
       "      <td>0.000551</td>\n",
       "      <td>0.067805</td>\n",
       "      <td>0.012405</td>\n",
       "      <td>0.001671</td>\n",
       "      <td>0.005543</td>\n",
       "      <td>0.014762</td>\n",
       "      <td>0.001498</td>\n",
       "    </tr>\n",
       "    <tr>\n",
       "      <th>1</th>\n",
       "      <td>-0.001711</td>\n",
       "      <td>-0.000088</td>\n",
       "      <td>0.019553</td>\n",
       "      <td>-0.001290</td>\n",
       "      <td>-0.000133</td>\n",
       "      <td>-0.000006</td>\n",
       "      <td>-0.000068</td>\n",
       "      <td>-0.001622</td>\n",
       "      <td>0.000023</td>\n",
       "      <td>0.000156</td>\n",
       "      <td>...</td>\n",
       "      <td>-8.387424e-15</td>\n",
       "      <td>-0.003687</td>\n",
       "      <td>0.000134</td>\n",
       "      <td>-0.000948</td>\n",
       "      <td>-0.018718</td>\n",
       "      <td>-0.002153</td>\n",
       "      <td>0.000014</td>\n",
       "      <td>0.001900</td>\n",
       "      <td>-0.017855</td>\n",
       "      <td>-0.003475</td>\n",
       "    </tr>\n",
       "    <tr>\n",
       "      <th>2</th>\n",
       "      <td>-0.001938</td>\n",
       "      <td>0.000137</td>\n",
       "      <td>-0.002422</td>\n",
       "      <td>0.002927</td>\n",
       "      <td>0.000159</td>\n",
       "      <td>0.000678</td>\n",
       "      <td>0.000282</td>\n",
       "      <td>-0.000731</td>\n",
       "      <td>0.000011</td>\n",
       "      <td>0.001485</td>\n",
       "      <td>...</td>\n",
       "      <td>2.157429e-14</td>\n",
       "      <td>0.002290</td>\n",
       "      <td>0.000561</td>\n",
       "      <td>0.002798</td>\n",
       "      <td>0.067655</td>\n",
       "      <td>0.000908</td>\n",
       "      <td>0.002165</td>\n",
       "      <td>0.003588</td>\n",
       "      <td>-0.019197</td>\n",
       "      <td>-0.003370</td>\n",
       "    </tr>\n",
       "    <tr>\n",
       "      <th>3</th>\n",
       "      <td>-0.000222</td>\n",
       "      <td>-0.000004</td>\n",
       "      <td>-0.019747</td>\n",
       "      <td>-0.001763</td>\n",
       "      <td>0.000364</td>\n",
       "      <td>0.001681</td>\n",
       "      <td>-0.000111</td>\n",
       "      <td>0.000080</td>\n",
       "      <td>-0.000030</td>\n",
       "      <td>0.004362</td>\n",
       "      <td>...</td>\n",
       "      <td>-1.263571e-13</td>\n",
       "      <td>-0.012455</td>\n",
       "      <td>0.000969</td>\n",
       "      <td>-0.001761</td>\n",
       "      <td>-0.010202</td>\n",
       "      <td>0.017871</td>\n",
       "      <td>0.004209</td>\n",
       "      <td>0.011782</td>\n",
       "      <td>0.010564</td>\n",
       "      <td>-0.000816</td>\n",
       "    </tr>\n",
       "    <tr>\n",
       "      <th>4</th>\n",
       "      <td>-0.000502</td>\n",
       "      <td>-0.000153</td>\n",
       "      <td>0.002632</td>\n",
       "      <td>-0.000557</td>\n",
       "      <td>0.003583</td>\n",
       "      <td>0.000096</td>\n",
       "      <td>-0.000091</td>\n",
       "      <td>-0.001782</td>\n",
       "      <td>-0.000024</td>\n",
       "      <td>0.000647</td>\n",
       "      <td>...</td>\n",
       "      <td>3.878321e-13</td>\n",
       "      <td>0.000985</td>\n",
       "      <td>-0.000747</td>\n",
       "      <td>-0.000634</td>\n",
       "      <td>-0.038459</td>\n",
       "      <td>-0.009959</td>\n",
       "      <td>-0.001097</td>\n",
       "      <td>0.004457</td>\n",
       "      <td>-0.003471</td>\n",
       "      <td>-0.000706</td>\n",
       "    </tr>\n",
       "    <tr>\n",
       "      <th>...</th>\n",
       "      <td>...</td>\n",
       "      <td>...</td>\n",
       "      <td>...</td>\n",
       "      <td>...</td>\n",
       "      <td>...</td>\n",
       "      <td>...</td>\n",
       "      <td>...</td>\n",
       "      <td>...</td>\n",
       "      <td>...</td>\n",
       "      <td>...</td>\n",
       "      <td>...</td>\n",
       "      <td>...</td>\n",
       "      <td>...</td>\n",
       "      <td>...</td>\n",
       "      <td>...</td>\n",
       "      <td>...</td>\n",
       "      <td>...</td>\n",
       "      <td>...</td>\n",
       "      <td>...</td>\n",
       "      <td>...</td>\n",
       "      <td>...</td>\n",
       "    </tr>\n",
       "    <tr>\n",
       "      <th>145</th>\n",
       "      <td>-0.010291</td>\n",
       "      <td>0.003474</td>\n",
       "      <td>-0.049004</td>\n",
       "      <td>-0.001600</td>\n",
       "      <td>-0.011729</td>\n",
       "      <td>0.012179</td>\n",
       "      <td>-0.004205</td>\n",
       "      <td>-0.002103</td>\n",
       "      <td>0.003453</td>\n",
       "      <td>-0.016910</td>\n",
       "      <td>...</td>\n",
       "      <td>-8.785520e-07</td>\n",
       "      <td>0.014278</td>\n",
       "      <td>-0.002597</td>\n",
       "      <td>-0.005485</td>\n",
       "      <td>-0.006336</td>\n",
       "      <td>0.026199</td>\n",
       "      <td>-0.013394</td>\n",
       "      <td>-0.005216</td>\n",
       "      <td>0.001714</td>\n",
       "      <td>-0.009270</td>\n",
       "    </tr>\n",
       "    <tr>\n",
       "      <th>146</th>\n",
       "      <td>-0.028570</td>\n",
       "      <td>0.007097</td>\n",
       "      <td>0.005474</td>\n",
       "      <td>-0.006091</td>\n",
       "      <td>0.003053</td>\n",
       "      <td>0.004164</td>\n",
       "      <td>0.001158</td>\n",
       "      <td>0.001073</td>\n",
       "      <td>-0.001872</td>\n",
       "      <td>-0.020473</td>\n",
       "      <td>...</td>\n",
       "      <td>-7.591400e-08</td>\n",
       "      <td>-0.000330</td>\n",
       "      <td>0.004361</td>\n",
       "      <td>0.010873</td>\n",
       "      <td>-0.017895</td>\n",
       "      <td>0.000099</td>\n",
       "      <td>-0.006938</td>\n",
       "      <td>-0.027157</td>\n",
       "      <td>0.002984</td>\n",
       "      <td>-0.024311</td>\n",
       "    </tr>\n",
       "    <tr>\n",
       "      <th>147</th>\n",
       "      <td>-0.005424</td>\n",
       "      <td>-0.004964</td>\n",
       "      <td>0.012694</td>\n",
       "      <td>-0.006861</td>\n",
       "      <td>-0.005116</td>\n",
       "      <td>0.001409</td>\n",
       "      <td>0.001862</td>\n",
       "      <td>0.009463</td>\n",
       "      <td>0.000358</td>\n",
       "      <td>0.006379</td>\n",
       "      <td>...</td>\n",
       "      <td>-5.241422e-07</td>\n",
       "      <td>0.028197</td>\n",
       "      <td>0.001656</td>\n",
       "      <td>-0.004227</td>\n",
       "      <td>-0.005124</td>\n",
       "      <td>-0.052964</td>\n",
       "      <td>0.022026</td>\n",
       "      <td>0.048630</td>\n",
       "      <td>0.046711</td>\n",
       "      <td>0.013198</td>\n",
       "    </tr>\n",
       "    <tr>\n",
       "      <th>148</th>\n",
       "      <td>0.021749</td>\n",
       "      <td>-0.000103</td>\n",
       "      <td>0.003712</td>\n",
       "      <td>-0.005903</td>\n",
       "      <td>-0.006872</td>\n",
       "      <td>-0.016247</td>\n",
       "      <td>0.007232</td>\n",
       "      <td>0.009815</td>\n",
       "      <td>-0.003137</td>\n",
       "      <td>-0.054888</td>\n",
       "      <td>...</td>\n",
       "      <td>-5.550533e-07</td>\n",
       "      <td>0.046293</td>\n",
       "      <td>0.007101</td>\n",
       "      <td>0.002207</td>\n",
       "      <td>-0.021809</td>\n",
       "      <td>-0.019193</td>\n",
       "      <td>-0.008599</td>\n",
       "      <td>0.001844</td>\n",
       "      <td>-0.025452</td>\n",
       "      <td>-0.006316</td>\n",
       "    </tr>\n",
       "    <tr>\n",
       "      <th>149</th>\n",
       "      <td>-0.027197</td>\n",
       "      <td>0.006671</td>\n",
       "      <td>0.081570</td>\n",
       "      <td>0.005786</td>\n",
       "      <td>0.001441</td>\n",
       "      <td>-0.004829</td>\n",
       "      <td>-0.006967</td>\n",
       "      <td>0.011033</td>\n",
       "      <td>0.000643</td>\n",
       "      <td>0.004888</td>\n",
       "      <td>...</td>\n",
       "      <td>1.044442e-06</td>\n",
       "      <td>-0.075610</td>\n",
       "      <td>0.005381</td>\n",
       "      <td>-0.018584</td>\n",
       "      <td>-0.017883</td>\n",
       "      <td>0.014740</td>\n",
       "      <td>-0.005240</td>\n",
       "      <td>-0.006850</td>\n",
       "      <td>-0.059799</td>\n",
       "      <td>0.002114</td>\n",
       "    </tr>\n",
       "  </tbody>\n",
       "</table>\n",
       "<p>150 rows × 2352 columns</p>\n",
       "</div>"
      ],
      "text/plain": [
       "       πρᾶγμα  ἡσσάομαι     θλίβω    θλίψιν   διδαχῆς     ψάλλω  ἐλάχιστόν  \\\n",
       "0    0.003708  0.000052  0.018253  0.000661  0.000759  0.000499   0.000129   \n",
       "1   -0.001711 -0.000088  0.019553 -0.001290 -0.000133 -0.000006  -0.000068   \n",
       "2   -0.001938  0.000137 -0.002422  0.002927  0.000159  0.000678   0.000282   \n",
       "3   -0.000222 -0.000004 -0.019747 -0.001763  0.000364  0.001681  -0.000111   \n",
       "4   -0.000502 -0.000153  0.002632 -0.000557  0.003583  0.000096  -0.000091   \n",
       "..        ...       ...       ...       ...       ...       ...        ...   \n",
       "145 -0.010291  0.003474 -0.049004 -0.001600 -0.011729  0.012179  -0.004205   \n",
       "146 -0.028570  0.007097  0.005474 -0.006091  0.003053  0.004164   0.001158   \n",
       "147 -0.005424 -0.004964  0.012694 -0.006861 -0.005116  0.001409   0.001862   \n",
       "148  0.021749 -0.000103  0.003712 -0.005903 -0.006872 -0.016247   0.007232   \n",
       "149 -0.027197  0.006671  0.081570  0.005786  0.001441 -0.004829  -0.006967   \n",
       "\n",
       "     διατάσσω       ποῦ    θερίζω  ...       εἴδωλόν     φοβέω   θαυμάζω  \\\n",
       "0    0.001352  0.000011  0.001212  ... -6.639306e-16  0.006197  0.000482   \n",
       "1   -0.001622  0.000023  0.000156  ... -8.387424e-15 -0.003687  0.000134   \n",
       "2   -0.000731  0.000011  0.001485  ...  2.157429e-14  0.002290  0.000561   \n",
       "3    0.000080 -0.000030  0.004362  ... -1.263571e-13 -0.012455  0.000969   \n",
       "4   -0.001782 -0.000024  0.000647  ...  3.878321e-13  0.000985 -0.000747   \n",
       "..        ...       ...       ...  ...           ...       ...       ...   \n",
       "145 -0.002103  0.003453 -0.016910  ... -8.785520e-07  0.014278 -0.002597   \n",
       "146  0.001073 -0.001872 -0.020473  ... -7.591400e-08 -0.000330  0.004361   \n",
       "147  0.009463  0.000358  0.006379  ... -5.241422e-07  0.028197  0.001656   \n",
       "148  0.009815 -0.003137 -0.054888  ... -5.550533e-07  0.046293  0.007101   \n",
       "149  0.011033  0.000643  0.004888  ...  1.044442e-06 -0.075610  0.005381   \n",
       "\n",
       "      ὀδυρμός  εὐαγγέλιον   ὑπακοην  ἀντικειμένωνἥτις  ἔνδειξις  ὑποτάσσω  \\\n",
       "0    0.000551    0.067805  0.012405          0.001671  0.005543  0.014762   \n",
       "1   -0.000948   -0.018718 -0.002153          0.000014  0.001900 -0.017855   \n",
       "2    0.002798    0.067655  0.000908          0.002165  0.003588 -0.019197   \n",
       "3   -0.001761   -0.010202  0.017871          0.004209  0.011782  0.010564   \n",
       "4   -0.000634   -0.038459 -0.009959         -0.001097  0.004457 -0.003471   \n",
       "..        ...         ...       ...               ...       ...       ...   \n",
       "145 -0.005485   -0.006336  0.026199         -0.013394 -0.005216  0.001714   \n",
       "146  0.010873   -0.017895  0.000099         -0.006938 -0.027157  0.002984   \n",
       "147 -0.004227   -0.005124 -0.052964          0.022026  0.048630  0.046711   \n",
       "148  0.002207   -0.021809 -0.019193         -0.008599  0.001844 -0.025452   \n",
       "149 -0.018584   -0.017883  0.014740         -0.005240 -0.006850 -0.059799   \n",
       "\n",
       "     συγχαίρω  \n",
       "0    0.001498  \n",
       "1   -0.003475  \n",
       "2   -0.003370  \n",
       "3   -0.000816  \n",
       "4   -0.000706  \n",
       "..        ...  \n",
       "145 -0.009270  \n",
       "146 -0.024311  \n",
       "147  0.013198  \n",
       "148 -0.006316  \n",
       "149  0.002114  \n",
       "\n",
       "[150 rows x 2352 columns]"
      ]
     },
     "execution_count": 60,
     "metadata": {
      "tags": []
     },
     "output_type": "execute_result"
    }
   ],
   "source": [
    "lsa_model_data"
   ]
  },
  {
   "cell_type": "code",
   "execution_count": null,
   "metadata": {
    "id": "Bzir6KHAJQl1",
    "outputId": "1b91834a-419d-47c6-f099-7a5a459e0249"
   },
   "outputs": [
    {
     "data": {
      "text/html": [
       "<div>\n",
       "<style scoped>\n",
       "    .dataframe tbody tr th:only-of-type {\n",
       "        vertical-align: middle;\n",
       "    }\n",
       "\n",
       "    .dataframe tbody tr th {\n",
       "        vertical-align: top;\n",
       "    }\n",
       "\n",
       "    .dataframe thead th {\n",
       "        text-align: right;\n",
       "    }\n",
       "</style>\n",
       "<table border=\"1\" class=\"dataframe\">\n",
       "  <thead>\n",
       "    <tr style=\"text-align: right;\">\n",
       "      <th></th>\n",
       "      <th>πρᾶγμα</th>\n",
       "      <th>ἡσσάομαι</th>\n",
       "      <th>θλίβω</th>\n",
       "      <th>θλίψιν</th>\n",
       "      <th>διδαχῆς</th>\n",
       "      <th>ψάλλω</th>\n",
       "      <th>ἐλάχιστόν</th>\n",
       "      <th>διατάσσω</th>\n",
       "      <th>ποῦ</th>\n",
       "      <th>θερίζω</th>\n",
       "      <th>...</th>\n",
       "      <th>εἴδωλόν</th>\n",
       "      <th>φοβέω</th>\n",
       "      <th>θαυμάζω</th>\n",
       "      <th>ὀδυρμός</th>\n",
       "      <th>εὐαγγέλιον</th>\n",
       "      <th>ὑπακοην</th>\n",
       "      <th>ἀντικειμένωνἥτις</th>\n",
       "      <th>ἔνδειξις</th>\n",
       "      <th>ὑποτάσσω</th>\n",
       "      <th>συγχαίρω</th>\n",
       "    </tr>\n",
       "  </thead>\n",
       "  <tbody>\n",
       "    <tr>\n",
       "      <th>0</th>\n",
       "      <td>0</td>\n",
       "      <td>0</td>\n",
       "      <td>0</td>\n",
       "      <td>0</td>\n",
       "      <td>0</td>\n",
       "      <td>0</td>\n",
       "      <td>0</td>\n",
       "      <td>0</td>\n",
       "      <td>0</td>\n",
       "      <td>0</td>\n",
       "      <td>...</td>\n",
       "      <td>0</td>\n",
       "      <td>0</td>\n",
       "      <td>0</td>\n",
       "      <td>0</td>\n",
       "      <td>1</td>\n",
       "      <td>1</td>\n",
       "      <td>0</td>\n",
       "      <td>0</td>\n",
       "      <td>0</td>\n",
       "      <td>0</td>\n",
       "    </tr>\n",
       "    <tr>\n",
       "      <th>1</th>\n",
       "      <td>0</td>\n",
       "      <td>0</td>\n",
       "      <td>0</td>\n",
       "      <td>0</td>\n",
       "      <td>0</td>\n",
       "      <td>0</td>\n",
       "      <td>0</td>\n",
       "      <td>0</td>\n",
       "      <td>0</td>\n",
       "      <td>0</td>\n",
       "      <td>...</td>\n",
       "      <td>0</td>\n",
       "      <td>0</td>\n",
       "      <td>0</td>\n",
       "      <td>0</td>\n",
       "      <td>0</td>\n",
       "      <td>0</td>\n",
       "      <td>0</td>\n",
       "      <td>0</td>\n",
       "      <td>0</td>\n",
       "      <td>0</td>\n",
       "    </tr>\n",
       "    <tr>\n",
       "      <th>2</th>\n",
       "      <td>0</td>\n",
       "      <td>0</td>\n",
       "      <td>0</td>\n",
       "      <td>0</td>\n",
       "      <td>0</td>\n",
       "      <td>0</td>\n",
       "      <td>0</td>\n",
       "      <td>0</td>\n",
       "      <td>0</td>\n",
       "      <td>0</td>\n",
       "      <td>...</td>\n",
       "      <td>0</td>\n",
       "      <td>0</td>\n",
       "      <td>0</td>\n",
       "      <td>0</td>\n",
       "      <td>0</td>\n",
       "      <td>0</td>\n",
       "      <td>0</td>\n",
       "      <td>0</td>\n",
       "      <td>0</td>\n",
       "      <td>0</td>\n",
       "    </tr>\n",
       "    <tr>\n",
       "      <th>3</th>\n",
       "      <td>0</td>\n",
       "      <td>0</td>\n",
       "      <td>0</td>\n",
       "      <td>0</td>\n",
       "      <td>0</td>\n",
       "      <td>0</td>\n",
       "      <td>0</td>\n",
       "      <td>0</td>\n",
       "      <td>0</td>\n",
       "      <td>0</td>\n",
       "      <td>...</td>\n",
       "      <td>0</td>\n",
       "      <td>0</td>\n",
       "      <td>0</td>\n",
       "      <td>0</td>\n",
       "      <td>1</td>\n",
       "      <td>0</td>\n",
       "      <td>0</td>\n",
       "      <td>0</td>\n",
       "      <td>0</td>\n",
       "      <td>0</td>\n",
       "    </tr>\n",
       "    <tr>\n",
       "      <th>4</th>\n",
       "      <td>0</td>\n",
       "      <td>0</td>\n",
       "      <td>0</td>\n",
       "      <td>0</td>\n",
       "      <td>0</td>\n",
       "      <td>0</td>\n",
       "      <td>0</td>\n",
       "      <td>0</td>\n",
       "      <td>0</td>\n",
       "      <td>0</td>\n",
       "      <td>...</td>\n",
       "      <td>0</td>\n",
       "      <td>0</td>\n",
       "      <td>0</td>\n",
       "      <td>0</td>\n",
       "      <td>0</td>\n",
       "      <td>0</td>\n",
       "      <td>0</td>\n",
       "      <td>0</td>\n",
       "      <td>0</td>\n",
       "      <td>0</td>\n",
       "    </tr>\n",
       "  </tbody>\n",
       "</table>\n",
       "<p>5 rows × 2352 columns</p>\n",
       "</div>"
      ],
      "text/plain": [
       "   πρᾶγμα  ἡσσάομαι  θλίβω  θλίψιν  διδαχῆς  ψάλλω  ἐλάχιστόν  διατάσσω  ποῦ  \\\n",
       "0       0         0      0       0        0      0          0         0    0   \n",
       "1       0         0      0       0        0      0          0         0    0   \n",
       "2       0         0      0       0        0      0          0         0    0   \n",
       "3       0         0      0       0        0      0          0         0    0   \n",
       "4       0         0      0       0        0      0          0         0    0   \n",
       "\n",
       "   θερίζω  ...  εἴδωλόν  φοβέω  θαυμάζω  ὀδυρμός  εὐαγγέλιον  ὑπακοην  \\\n",
       "0       0  ...        0      0        0        0           1        1   \n",
       "1       0  ...        0      0        0        0           0        0   \n",
       "2       0  ...        0      0        0        0           0        0   \n",
       "3       0  ...        0      0        0        0           1        0   \n",
       "4       0  ...        0      0        0        0           0        0   \n",
       "\n",
       "   ἀντικειμένωνἥτις  ἔνδειξις  ὑποτάσσω  συγχαίρω  \n",
       "0                 0         0         0         0  \n",
       "1                 0         0         0         0  \n",
       "2                 0         0         0         0  \n",
       "3                 0         0         0         0  \n",
       "4                 0         0         0         0  \n",
       "\n",
       "[5 rows x 2352 columns]"
      ]
     },
     "execution_count": 49,
     "metadata": {
      "tags": []
     },
     "output_type": "execute_result"
    }
   ],
   "source": [
    "doc2term_df = pd.DataFrame(bow_doc2term.toarray(), columns=vocabulary)\n",
    "doc2term_df.head()"
   ]
  },
  {
   "cell_type": "code",
   "execution_count": null,
   "metadata": {
    "id": "fRsrUHsNJQl1"
   },
   "outputs": [],
   "source": [
    "def lsa_model(docs):\n",
    "    vocabulary =  list(set([word for doc in docs for word in doc]))\n",
    "    tfidf =  TfidfVectorizer(vocabulary=vocabulary) ### initiaze the model\n",
    "    X = tfidf.fit_transform([\" \".join(doc) for doc in docs]) ### run the model\n",
    "    Xc = (X.T * X)\n",
    "    svd = TruncatedSVD(n_components=50, n_iter=5, random_state=42)\n",
    "    svd.fit(Xc)\n",
    "    #term2doc = pd.DataFrame(Xc.toarray(), columns=vec.get_feature_names(), index=vec.get_feature_names())\n",
    "    lsa_model_data = pd.DataFrame(svd.components_, columns=vec.get_feature_names())\n",
    "    return lsa_model_data, Xc#term2doc"
   ]
  },
  {
   "cell_type": "code",
   "execution_count": null,
   "metadata": {
    "id": "Tarr--k1JQl1"
   },
   "outputs": [],
   "source": [
    "model, term2doc = lsa_model(christian_docs)"
   ]
  },
  {
   "cell_type": "code",
   "execution_count": null,
   "metadata": {
    "id": "JTUzIy8hJQl1",
    "outputId": "7dc8123b-b890-455b-d62f-51fafa9a9172"
   },
   "outputs": [
    {
     "data": {
      "text/plain": [
       "117515"
      ]
     },
     "execution_count": 108,
     "metadata": {
      "tags": []
     },
     "output_type": "execute_result"
    }
   ],
   "source": [
    "len(model.columns)"
   ]
  },
  {
   "cell_type": "code",
   "execution_count": null,
   "metadata": {
    "id": "WO8ljN_gJQl1"
   },
   "outputs": [],
   "source": [
    "def get_most_similar(model_df, target_term, number):\n",
    "  all_similar = []\n",
    "  for term in model_df.columns:\n",
    "    similarity = (term, cosine_similarity([model_df[target_term],  model_df[term]])[0][1])\n",
    "    all_similar.append(similarity)\n",
    "  return sorted(all_similar, key=lambda number: number[1], reverse=True)[1:number]"
   ]
  },
  {
   "cell_type": "code",
   "execution_count": null,
   "metadata": {
    "id": "WIhFzMqsJQl1"
   },
   "outputs": [],
   "source": [
    "words = [\"δίκαιος\", \"δίκη\", \"δικαιοσύνη\"]"
   ]
  },
  {
   "cell_type": "code",
   "execution_count": null,
   "metadata": {
    "id": "wl4yZvI_JQl1"
   },
   "outputs": [],
   "source": [
    "neighbours = {}  \n",
    "for word in words:\n",
    "    neighbours[word] = get_most_similar(model, word, 10)"
   ]
  },
  {
   "cell_type": "code",
   "execution_count": null,
   "metadata": {
    "id": "rWGmcHClJQl1",
    "outputId": "0d8471d4-c2a4-4e15-e6b7-d5ee60fcfc53"
   },
   "outputs": [
    {
     "data": {
      "text/html": [
       "<div>\n",
       "<style scoped>\n",
       "    .dataframe tbody tr th:only-of-type {\n",
       "        vertical-align: middle;\n",
       "    }\n",
       "\n",
       "    .dataframe tbody tr th {\n",
       "        vertical-align: top;\n",
       "    }\n",
       "\n",
       "    .dataframe thead th {\n",
       "        text-align: right;\n",
       "    }\n",
       "</style>\n",
       "<table border=\"1\" class=\"dataframe\">\n",
       "  <thead>\n",
       "    <tr style=\"text-align: right;\">\n",
       "      <th></th>\n",
       "      <th>δίκαιος</th>\n",
       "      <th>δίκη</th>\n",
       "      <th>δικαιοσύνη</th>\n",
       "    </tr>\n",
       "  </thead>\n",
       "  <tbody>\n",
       "    <tr>\n",
       "      <th>0</th>\n",
       "      <td>(ιειμένην, 0.9834371832818561)</td>\n",
       "      <td>(μετελεύσονται, 0.9384522490347709)</td>\n",
       "      <td>(καθυπηρετεῖ, 0.9710013738851778)</td>\n",
       "    </tr>\n",
       "    <tr>\n",
       "      <th>1</th>\n",
       "      <td>(εὐστοχίου, 0.9830720889621722)</td>\n",
       "      <td>(ἐπικουροί, 0.9384522490347709)</td>\n",
       "      <td>(ἐνδύσονται, 0.9706819000158255)</td>\n",
       "    </tr>\n",
       "    <tr>\n",
       "      <th>2</th>\n",
       "      <td>(λογιωτάτου, 0.9830720889621722)</td>\n",
       "      <td>(ἐριννύες, 0.9384522490347709)</td>\n",
       "      <td>(σιοί, 0.9706819000158255)</td>\n",
       "    </tr>\n",
       "    <tr>\n",
       "      <th>3</th>\n",
       "      <td>(λελύπηται, 0.9830720889621722)</td>\n",
       "      <td>(καταπεπηγμένων, 0.9344969432505092)</td>\n",
       "      <td>(περικτᾶται, 0.9699396541878471)</td>\n",
       "    </tr>\n",
       "    <tr>\n",
       "      <th>4</th>\n",
       "      <td>(τηρούσης, 0.9827599613491105)</td>\n",
       "      <td>(ἐξέτισας, 0.9182233983592916)</td>\n",
       "      <td>(ἡδυπαθείᾳ, 0.9699396541878471)</td>\n",
       "    </tr>\n",
       "    <tr>\n",
       "      <th>5</th>\n",
       "      <td>(μιμείσθω, 0.9826270670854331)</td>\n",
       "      <td>(γλωσσαργία, 0.8999555833389017)</td>\n",
       "      <td>(ἅνευ, 0.9695269024725653)</td>\n",
       "    </tr>\n",
       "    <tr>\n",
       "      <th>6</th>\n",
       "      <td>(ἰὼδ, 0.9822301096106603)</td>\n",
       "      <td>(κρυσταλλοειδεῖ, 0.8997426356399815)</td>\n",
       "      <td>(χρωννύντες, 0.9695269024725653)</td>\n",
       "    </tr>\n",
       "    <tr>\n",
       "      <th>7</th>\n",
       "      <td>(ἐπαράντων, 0.9820947343036778)</td>\n",
       "      <td>(διώκτας, 0.8970726088109655)</td>\n",
       "      <td>(πρυπορεύσεται, 0.9662484878532644)</td>\n",
       "    </tr>\n",
       "    <tr>\n",
       "      <th>8</th>\n",
       "      <td>(πειλθαρχεῖν, 0.9820947343036778)</td>\n",
       "      <td>(προςώποις, 0.8861867911971005)</td>\n",
       "      <td>(ἐπιφαινέσθω, 0.9660042345965665)</td>\n",
       "    </tr>\n",
       "  </tbody>\n",
       "</table>\n",
       "</div>"
      ],
      "text/plain": [
       "                             δίκαιος                                  δίκη  \\\n",
       "0     (ιειμένην, 0.9834371832818561)   (μετελεύσονται, 0.9384522490347709)   \n",
       "1    (εὐστοχίου, 0.9830720889621722)       (ἐπικουροί, 0.9384522490347709)   \n",
       "2   (λογιωτάτου, 0.9830720889621722)        (ἐριννύες, 0.9384522490347709)   \n",
       "3    (λελύπηται, 0.9830720889621722)  (καταπεπηγμένων, 0.9344969432505092)   \n",
       "4     (τηρούσης, 0.9827599613491105)        (ἐξέτισας, 0.9182233983592916)   \n",
       "5     (μιμείσθω, 0.9826270670854331)      (γλωσσαργία, 0.8999555833389017)   \n",
       "6          (ἰὼδ, 0.9822301096106603)  (κρυσταλλοειδεῖ, 0.8997426356399815)   \n",
       "7    (ἐπαράντων, 0.9820947343036778)         (διώκτας, 0.8970726088109655)   \n",
       "8  (πειλθαρχεῖν, 0.9820947343036778)       (προςώποις, 0.8861867911971005)   \n",
       "\n",
       "                            δικαιοσύνη  \n",
       "0    (καθυπηρετεῖ, 0.9710013738851778)  \n",
       "1     (ἐνδύσονται, 0.9706819000158255)  \n",
       "2           (σιοί, 0.9706819000158255)  \n",
       "3     (περικτᾶται, 0.9699396541878471)  \n",
       "4      (ἡδυπαθείᾳ, 0.9699396541878471)  \n",
       "5           (ἅνευ, 0.9695269024725653)  \n",
       "6     (χρωννύντες, 0.9695269024725653)  \n",
       "7  (πρυπορεύσεται, 0.9662484878532644)  \n",
       "8    (ἐπιφαινέσθω, 0.9660042345965665)  "
      ]
     },
     "execution_count": 110,
     "metadata": {
      "tags": []
     },
     "output_type": "execute_result"
    }
   ],
   "source": [
    "pd.DataFrame(neighbours)"
   ]
  },
  {
   "cell_type": "code",
   "execution_count": null,
   "metadata": {
    "id": "lrC6CyzKJQl2"
   },
   "outputs": [],
   "source": []
  }
 ],
 "metadata": {
  "colab": {
   "name": "OVERVIEW.ipynb",
   "provenance": []
  },
  "kernelspec": {
   "display_name": "Python 3",
   "language": "python",
   "name": "python3"
  },
  "language_info": {
   "codemirror_mode": {
    "name": "ipython",
    "version": 3
   },
   "file_extension": ".py",
   "mimetype": "text/x-python",
   "name": "python",
   "nbconvert_exporter": "python",
   "pygments_lexer": "ipython3",
   "version": "3.6.9"
  }
 },
 "nbformat": 4,
 "nbformat_minor": 4
}
