{
 "cells": [
  {
   "cell_type": "code",
   "execution_count": 1,
   "metadata": {
    "colab": {
     "base_uri": "https://localhost:8080/"
    },
    "id": "YLcAu3mXJOpL",
    "outputId": "f6031a77-240e-4c72-fb76-e6e20186523b"
   },
   "outputs": [],
   "source": [
    "### PREREQUISTIES\n",
    "### (many used only in one notebook...)\n",
    "\n",
    "import os\n",
    "from importlib import reload\n",
    "import pandas as pd\n",
    "import numpy as np\n",
    "import pickle\n",
    "import math\n",
    "import random\n",
    "import sys\n",
    "import csv\n",
    "import unicodedata\n",
    "import requests\n",
    "import re\n",
    "import networkx as nx\n",
    "from scipy import stats\n",
    "import plotly\n",
    "import kaleido\n",
    "\n",
    "import nltk\n",
    "\n",
    "import matplotlib.pyplot as plt\n",
    "import seaborn as sns\n",
    "\n",
    "# gensim parts\n",
    "from gensim import corpora\n",
    "from gensim import models\n",
    "\n",
    "### scikit-learn\n",
    "from sklearn.feature_extraction.text import CountVectorizer\n",
    "from sklearn.feature_extraction.text import TfidfVectorizer\n",
    "\n",
    "from sklearn.decomposition import TruncatedSVD \n",
    "from sklearn.metrics.pairwise import cosine_similarity\n",
    "from sklearn.metrics.pairwise import euclidean_distances\n",
    "\n",
    "import plotly.graph_objects as go\n",
    "\n",
    "import sddk\n",
    "\n",
    "import gspread\n",
    "from gspread_dataframe import get_as_dataframe, set_with_dataframe\n",
    "from google.oauth2 import service_account # based on google-auth library"
   ]
  },
  {
   "cell_type": "code",
   "execution_count": 2,
   "metadata": {},
   "outputs": [
    {
     "data": {
      "text/html": [
       "        <script type=\"text/javascript\">\n",
       "        window.PlotlyConfig = {MathJaxConfig: 'local'};\n",
       "        if (window.MathJax) {MathJax.Hub.Config({SVG: {font: \"STIX-Web\"}});}\n",
       "        if (typeof require !== 'undefined') {\n",
       "        require.undef(\"plotly\");\n",
       "        requirejs.config({\n",
       "            paths: {\n",
       "                'plotly': ['https://cdn.plot.ly/plotly-latest.min']\n",
       "            }\n",
       "        });\n",
       "        require(['plotly'], function(Plotly) {\n",
       "            window._Plotly = Plotly;\n",
       "        });\n",
       "        }\n",
       "        </script>\n",
       "        "
      ]
     },
     "metadata": {},
     "output_type": "display_data"
    }
   ],
   "source": [
    "import textnet"
   ]
  },
  {
   "cell_type": "code",
   "execution_count": 3,
   "metadata": {},
   "outputs": [
    {
     "data": {
      "text/html": [
       "        <script type=\"text/javascript\">\n",
       "        window.PlotlyConfig = {MathJaxConfig: 'local'};\n",
       "        if (window.MathJax) {MathJax.Hub.Config({SVG: {font: \"STIX-Web\"}});}\n",
       "        if (typeof require !== 'undefined') {\n",
       "        require.undef(\"plotly\");\n",
       "        requirejs.config({\n",
       "            paths: {\n",
       "                'plotly': ['https://cdn.plot.ly/plotly-latest.min']\n",
       "            }\n",
       "        });\n",
       "        require(['plotly'], function(Plotly) {\n",
       "            window._Plotly = Plotly;\n",
       "        });\n",
       "        }\n",
       "        </script>\n",
       "        "
      ]
     },
     "metadata": {},
     "output_type": "display_data"
    },
    {
     "data": {
      "text/plain": [
       "<module 'textnet' from '/home/kasev/ECCE_AGT/scripts/textnet.py'>"
      ]
     },
     "execution_count": 3,
     "metadata": {},
     "output_type": "execute_result"
    }
   ],
   "source": [
    "reload(textnet)"
   ]
  },
  {
   "cell_type": "code",
   "execution_count": 4,
   "metadata": {
    "colab": {
     "base_uri": "https://localhost:8080/"
    },
    "id": "Vk65k519TvBW",
    "outputId": "92254476-4708-4e31-a8a4-7ceedba66d8b"
   },
   "outputs": [
    {
     "name": "stdout",
     "output_type": "stream",
     "text": [
      "sciencedata.dk username (format '123456@au.dk'): 648597@au.dk\n",
      "sciencedata.dk password: ········\n",
      "connection with shared folder established with you as its owner\n",
      "endpoint variable has been configured to: https://sciencedata.dk/files/SDAM_root/\n"
     ]
    }
   ],
   "source": [
    "### not neccessary for reading the data, just for exporting them to sciencedata.dk\n",
    "conf = sddk.configure(\"SDAM_root\", \"648597@au.dk\")"
   ]
  },
  {
   "cell_type": "code",
   "execution_count": 5,
   "metadata": {},
   "outputs": [],
   "source": [
    "# to access gsheet, you need Google Service Account key json file\n",
    "# I have mine located in my personal space on sciencedata.dk, so I read it from there:\n",
    "\n",
    "# (1) read the file and parse its content\n",
    "file_data = conf[0].get(\"https://sciencedata.dk/files/ServiceAccountsKey.json\").json()\n",
    "# (2) transform the content into crendentials object\n",
    "credentials = service_account.Credentials.from_service_account_info(file_data)\n",
    "# (3) specify your usage of the credentials\n",
    "scoped_credentials = credentials.with_scopes(['https://spreadsheets.google.com/feeds', 'https://www.googleapis.com/auth/drive'])\n",
    "# (4) use the constrained credentials for authentication of gspread package\n",
    "gc = gspread.Client(auth=scoped_credentials)\n",
    "\n",
    "ECCE_AGT_overview = gc.open_by_url(\"https://docs.google.com/spreadsheets/d/1KPpPaeX215HR_fVrakvJp8aB6oZDhHFTcBw0MKLw6as/edit?usp=sharing\")"
   ]
  },
  {
   "cell_type": "code",
   "execution_count": 7,
   "metadata": {
    "colab": {
     "base_uri": "https://localhost:8080/",
     "height": 394
    },
    "id": "uZILdTQmJQlv",
    "outputId": "507cee95-3b09-4f0d-cce8-72b93780d888"
   },
   "outputs": [
    {
     "data": {
      "text/html": [
       "<div>\n",
       "<style scoped>\n",
       "    .dataframe tbody tr th:only-of-type {\n",
       "        vertical-align: middle;\n",
       "    }\n",
       "\n",
       "    .dataframe tbody tr th {\n",
       "        vertical-align: top;\n",
       "    }\n",
       "\n",
       "    .dataframe thead th {\n",
       "        text-align: right;\n",
       "    }\n",
       "</style>\n",
       "<table border=\"1\" class=\"dataframe\">\n",
       "  <thead>\n",
       "    <tr style=\"text-align: right;\">\n",
       "      <th></th>\n",
       "      <th>filename</th>\n",
       "      <th>author</th>\n",
       "      <th>title</th>\n",
       "      <th>wordcount</th>\n",
       "      <th>author_id</th>\n",
       "      <th>doc_id</th>\n",
       "      <th>raw_date</th>\n",
       "      <th>date_avr</th>\n",
       "      <th>date_probs</th>\n",
       "      <th>date_manual</th>\n",
       "      <th>provenience</th>\n",
       "      <th>tlg_epithet</th>\n",
       "      <th>clean_string</th>\n",
       "      <th>n_sentences</th>\n",
       "      <th>lemmatized_sentences</th>\n",
       "    </tr>\n",
       "  </thead>\n",
       "  <tbody>\n",
       "    <tr>\n",
       "      <th>0</th>\n",
       "      <td>tlg0001.tlg001.perseus-grc2.xml</td>\n",
       "      <td>Apollonius Rhodius</td>\n",
       "      <td>Argonautica</td>\n",
       "      <td>38822</td>\n",
       "      <td>tlg0001</td>\n",
       "      <td>tlg0001.tlg001</td>\n",
       "      <td>3 B.C.</td>\n",
       "      <td>-2.5</td>\n",
       "      <td>{'-2.5': 1}</td>\n",
       "      <td>-2.5</td>\n",
       "      <td>pagan</td>\n",
       "      <td>Epici/-ae</td>\n",
       "      <td>ἀρχόμενος σέο, Φοῖβε, παλαιγενέων κλέα φωτῶν μ...</td>\n",
       "      <td>3252</td>\n",
       "      <td>[[ἄρχω, Φοῖβος, παλαιγενής, κλέος, φώς, μιμνήσ...</td>\n",
       "    </tr>\n",
       "    <tr>\n",
       "      <th>1</th>\n",
       "      <td>tlg0003.tlg001.perseus-grc2.xml</td>\n",
       "      <td>Thucydides</td>\n",
       "      <td>The Peloponnesian War</td>\n",
       "      <td>150118</td>\n",
       "      <td>tlg0003</td>\n",
       "      <td>tlg0003.tlg001</td>\n",
       "      <td>5 B.C.</td>\n",
       "      <td>-4.5</td>\n",
       "      <td>{'-4.5': 1}</td>\n",
       "      <td>-4.5</td>\n",
       "      <td>pagan</td>\n",
       "      <td>Historici/-ae</td>\n",
       "      <td>Θουκυδίδης Ἀθηναῖος ξυνέγραψε τὸν πόλεμον τῶν...</td>\n",
       "      <td>6068</td>\n",
       "      <td>[[θουκυδίδης, Ἀθηναῖος, συγγράφω, πόλεμος, Πελ...</td>\n",
       "    </tr>\n",
       "    <tr>\n",
       "      <th>2</th>\n",
       "      <td>tlg0004.tlg001.perseus-grc1.xml</td>\n",
       "      <td>Diogenes Laertius</td>\n",
       "      <td>Lives of Eminent Philosophers</td>\n",
       "      <td>110763</td>\n",
       "      <td>tlg0004</td>\n",
       "      <td>tlg0004.tlg001</td>\n",
       "      <td>A.D. 3</td>\n",
       "      <td>2.5</td>\n",
       "      <td>{'2.5': 1}</td>\n",
       "      <td>NaN</td>\n",
       "      <td></td>\n",
       "      <td>Biographi</td>\n",
       "      <td>Τὸ τῆς φιλοσοφίας ἔργον ἔνιοί φασιν ἀπὸ βαρβάρ...</td>\n",
       "      <td>10245</td>\n",
       "      <td>[[φιλοσοφία, ἔργον, ἔνιοι, φημί, βάρβαρος, ἄρχ...</td>\n",
       "    </tr>\n",
       "    <tr>\n",
       "      <th>3</th>\n",
       "      <td>tlg0005.tlg001.perseus-grc1.xml</td>\n",
       "      <td>Theocritus</td>\n",
       "      <td>Idylls</td>\n",
       "      <td>19200</td>\n",
       "      <td>tlg0005</td>\n",
       "      <td>tlg0005.tlg001</td>\n",
       "      <td>4-3 B.C.</td>\n",
       "      <td>-3.0</td>\n",
       "      <td>{'-3.5': 0.5, '-2.5': 0.5}</td>\n",
       "      <td>NaN</td>\n",
       "      <td></td>\n",
       "      <td>Bucolici</td>\n",
       "      <td>̔Αδύ τι τὸ ψιθύρισμα καὶ ἁ πίτυς αἰπόλε τήνα,...</td>\n",
       "      <td>1982</td>\n",
       "      <td>[[αδύ, ψιθύρισμα, πίτυς, αἰπόλος, τῆνος, πηγή,...</td>\n",
       "    </tr>\n",
       "    <tr>\n",
       "      <th>4</th>\n",
       "      <td>tlg0005.tlg002.perseus-grc1.xml</td>\n",
       "      <td>Theocritus</td>\n",
       "      <td>Epigrams</td>\n",
       "      <td>1734</td>\n",
       "      <td>tlg0005</td>\n",
       "      <td>tlg0005.tlg002</td>\n",
       "      <td>4-3 B.C.</td>\n",
       "      <td>-3.0</td>\n",
       "      <td>{'-3.5': 0.5, '-2.5': 0.5}</td>\n",
       "      <td>NaN</td>\n",
       "      <td></td>\n",
       "      <td>Bucolici</td>\n",
       "      <td>τὰ ῥόδα τὰ δροσόεντα καὶ ἁ κατάπυκνος ἐκείνα ἕ...</td>\n",
       "      <td>152</td>\n",
       "      <td>[[ῥόδον, δροσόεντα, κατάπυκνος, ἐκεῖνος, ἕρπυλ...</td>\n",
       "    </tr>\n",
       "  </tbody>\n",
       "</table>\n",
       "</div>"
      ],
      "text/plain": [
       "                          filename              author  \\\n",
       "0  tlg0001.tlg001.perseus-grc2.xml  Apollonius Rhodius   \n",
       "1  tlg0003.tlg001.perseus-grc2.xml          Thucydides   \n",
       "2  tlg0004.tlg001.perseus-grc1.xml   Diogenes Laertius   \n",
       "3  tlg0005.tlg001.perseus-grc1.xml          Theocritus   \n",
       "4  tlg0005.tlg002.perseus-grc1.xml          Theocritus   \n",
       "\n",
       "                           title  wordcount author_id          doc_id  \\\n",
       "0                    Argonautica      38822   tlg0001  tlg0001.tlg001   \n",
       "1          The Peloponnesian War     150118   tlg0003  tlg0003.tlg001   \n",
       "2  Lives of Eminent Philosophers     110763   tlg0004  tlg0004.tlg001   \n",
       "3                        Idylls       19200   tlg0005  tlg0005.tlg001   \n",
       "4                      Epigrams        1734   tlg0005  tlg0005.tlg002   \n",
       "\n",
       "   raw_date  date_avr                  date_probs  date_manual provenience  \\\n",
       "0    3 B.C.      -2.5                 {'-2.5': 1}         -2.5       pagan   \n",
       "1    5 B.C.      -4.5                 {'-4.5': 1}         -4.5       pagan   \n",
       "2    A.D. 3       2.5                  {'2.5': 1}          NaN               \n",
       "3  4-3 B.C.      -3.0  {'-3.5': 0.5, '-2.5': 0.5}          NaN               \n",
       "4  4-3 B.C.      -3.0  {'-3.5': 0.5, '-2.5': 0.5}          NaN               \n",
       "\n",
       "     tlg_epithet                                       clean_string  \\\n",
       "0      Epici/-ae  ἀρχόμενος σέο, Φοῖβε, παλαιγενέων κλέα φωτῶν μ...   \n",
       "1  Historici/-ae   Θουκυδίδης Ἀθηναῖος ξυνέγραψε τὸν πόλεμον τῶν...   \n",
       "2      Biographi  Τὸ τῆς φιλοσοφίας ἔργον ἔνιοί φασιν ἀπὸ βαρβάρ...   \n",
       "3       Bucolici   ̔Αδύ τι τὸ ψιθύρισμα καὶ ἁ πίτυς αἰπόλε τήνα,...   \n",
       "4       Bucolici  τὰ ῥόδα τὰ δροσόεντα καὶ ἁ κατάπυκνος ἐκείνα ἕ...   \n",
       "\n",
       "   n_sentences                               lemmatized_sentences  \n",
       "0         3252  [[ἄρχω, Φοῖβος, παλαιγενής, κλέος, φώς, μιμνήσ...  \n",
       "1         6068  [[θουκυδίδης, Ἀθηναῖος, συγγράφω, πόλεμος, Πελ...  \n",
       "2        10245  [[φιλοσοφία, ἔργον, ἔνιοι, φημί, βάρβαρος, ἄρχ...  \n",
       "3         1982  [[αδύ, ψιθύρισμα, πίτυς, αἰπόλος, τῆνος, πηγή,...  \n",
       "4          152  [[ῥόδον, δροσόεντα, κατάπυκνος, ἐκεῖνος, ἕρπυλ...  "
      ]
     },
     "execution_count": 7,
     "metadata": {},
     "output_type": "execute_result"
    }
   ],
   "source": [
    "AGT = sddk.read_file(\"SDAM_data/AGT/AGT_lemmatized_20201211.json\", \"df\", conf)\n",
    "AGT.head(5)"
   ]
  },
  {
   "cell_type": "code",
   "execution_count": 8,
   "metadata": {},
   "outputs": [
    {
     "data": {
      "text/plain": [
       "14383627"
      ]
     },
     "execution_count": 8,
     "metadata": {},
     "output_type": "execute_result"
    }
   ],
   "source": [
    "def flat_lemmata(sentences):\n",
    "    lemmata = [word for sent in sentences for word in sent]\n",
    "    return lemmata\n",
    "AGT[\"lemmata\"] = AGT[\"lemmatized_sentences\"].apply(flat_lemmata)\n",
    "\n",
    "AGT[\"lemmata_wordcount\"] = AGT.apply(lambda row: len(row[\"lemmata\"]), axis=1)\n",
    "AGT[\"lemmata_wordcount\"].sum() # previously we had 13925726, then 13713183, 14373580, 14342245"
   ]
  },
  {
   "cell_type": "code",
   "execution_count": 18,
   "metadata": {},
   "outputs": [
    {
     "data": {
      "text/plain": [
       "388    {'0.5': 1}\n",
       "407    {'0.5': 1}\n",
       "408    {'0.5': 1}\n",
       "409    {'0.5': 1}\n",
       "Name: date_probs, dtype: object"
      ]
     },
     "execution_count": 18,
     "metadata": {},
     "output_type": "execute_result"
    }
   ],
   "source": [
    "sub_df = AGT[AGT[\"author_id\"]==\"tlg0031john\"]\n",
    "sub_df[\"date_probs\"]"
   ]
  },
  {
   "cell_type": "code",
   "execution_count": 13,
   "metadata": {},
   "outputs": [
    {
     "data": {
      "text/plain": [
       "{'0.5': 1}"
      ]
     },
     "execution_count": 13,
     "metadata": {},
     "output_type": "execute_result"
    }
   ],
   "source": [
    "probs_dict = {}\n",
    "for d in sub_df[\"date_probs\"]:\n",
    "    probs_dict.update(d)\n",
    "probs_dict"
   ]
  },
  {
   "cell_type": "markdown",
   "metadata": {},
   "source": [
    "# Comparing All Authors"
   ]
  },
  {
   "cell_type": "code",
   "execution_count": 14,
   "metadata": {},
   "outputs": [],
   "source": [
    "def grouping_gnt(author_id):\n",
    "    if author_id == \"tlg0031a\":\n",
    "        author_id = \"tlg0031matt\"\n",
    "    if author_id == \"tlg0031b\":\n",
    "        author_id = \"tlg0031mark\"\n",
    "    if re.match(\"tlg0031\\w?$\", author_id):\n",
    "        return \"tlg0031rest\"\n",
    "    else:\n",
    "        return author_id\n",
    "new_author_ids = AGT[\"author_id\"].apply(grouping_gnt)\n",
    "\n",
    "AGT[\"author_id\"] = new_author_ids"
   ]
  },
  {
   "cell_type": "code",
   "execution_count": 16,
   "metadata": {},
   "outputs": [],
   "source": [
    "def get_flat_sentences(series_sentences):\n",
    "    try: return [sent for work in series_sentences.tolist() for sent in work]\n",
    "    except: return []"
   ]
  },
  {
   "cell_type": "code",
   "execution_count": 21,
   "metadata": {},
   "outputs": [
    {
     "data": {
      "text/plain": [
       "1339"
      ]
     },
     "execution_count": 21,
     "metadata": {},
     "output_type": "execute_result"
    }
   ],
   "source": [
    "john_sentences = get_flat_sentences(sub_df[\"lemmatized_sentences\"])\n",
    "len(john_sentences)"
   ]
  },
  {
   "cell_type": "code",
   "execution_count": 22,
   "metadata": {},
   "outputs": [
    {
     "data": {
      "text/html": [
       "<div>\n",
       "<style scoped>\n",
       "    .dataframe tbody tr th:only-of-type {\n",
       "        vertical-align: middle;\n",
       "    }\n",
       "\n",
       "    .dataframe tbody tr th {\n",
       "        vertical-align: top;\n",
       "    }\n",
       "\n",
       "    .dataframe thead th {\n",
       "        text-align: right;\n",
       "    }\n",
       "</style>\n",
       "<table border=\"1\" class=\"dataframe\">\n",
       "  <thead>\n",
       "    <tr style=\"text-align: right;\">\n",
       "      <th></th>\n",
       "      <th>author_id</th>\n",
       "      <th>author</th>\n",
       "      <th>n_titles</th>\n",
       "      <th>titles</th>\n",
       "      <th>filenames</th>\n",
       "      <th>wordcount</th>\n",
       "      <th>lemmata_wordcount</th>\n",
       "      <th>n_sentences</th>\n",
       "      <th>date_probs</th>\n",
       "      <th>date_avr</th>\n",
       "      <th>provenience</th>\n",
       "      <th>lemmata_lists</th>\n",
       "      <th>lemmatized_sentences</th>\n",
       "    </tr>\n",
       "  </thead>\n",
       "  <tbody>\n",
       "    <tr>\n",
       "      <th>0</th>\n",
       "      <td>tlg0001</td>\n",
       "      <td>Apollonius Rhodius</td>\n",
       "      <td>1</td>\n",
       "      <td>[Argonautica]</td>\n",
       "      <td>[tlg0001.tlg001.perseus-grc2.xml]</td>\n",
       "      <td>38822</td>\n",
       "      <td>23777</td>\n",
       "      <td>3252</td>\n",
       "      <td>{'-2.5': 1}</td>\n",
       "      <td>-2.5</td>\n",
       "      <td>pagan</td>\n",
       "      <td>[[ἄρχω, Φοῖβος, παλαιγενής, κλέος, φώς, μιμνήσ...</td>\n",
       "      <td>[[ἄρχω, Φοῖβος, παλαιγενής, κλέος, φώς, μιμνήσ...</td>\n",
       "    </tr>\n",
       "    <tr>\n",
       "      <th>1</th>\n",
       "      <td>tlg0003</td>\n",
       "      <td>Thucydides</td>\n",
       "      <td>1</td>\n",
       "      <td>[The Peloponnesian War]</td>\n",
       "      <td>[tlg0003.tlg001.perseus-grc2.xml]</td>\n",
       "      <td>150118</td>\n",
       "      <td>71863</td>\n",
       "      <td>6068</td>\n",
       "      <td>{'-4.5': 1}</td>\n",
       "      <td>-4.5</td>\n",
       "      <td>pagan</td>\n",
       "      <td>[[θουκυδίδης, Ἀθηναῖος, συγγράφω, πόλεμος, Πελ...</td>\n",
       "      <td>[[θουκυδίδης, Ἀθηναῖος, συγγράφω, πόλεμος, Πελ...</td>\n",
       "    </tr>\n",
       "    <tr>\n",
       "      <th>2</th>\n",
       "      <td>tlg0004</td>\n",
       "      <td>Diogenes Laertius</td>\n",
       "      <td>1</td>\n",
       "      <td>[Lives of Eminent Philosophers]</td>\n",
       "      <td>[tlg0004.tlg001.perseus-grc1.xml]</td>\n",
       "      <td>110763</td>\n",
       "      <td>56872</td>\n",
       "      <td>10245</td>\n",
       "      <td>{'2.5': 1}</td>\n",
       "      <td>2.5</td>\n",
       "      <td></td>\n",
       "      <td>[[φιλοσοφία, ἔργον, ἔνιοι, φημί, βάρβαρος, ἄρχ...</td>\n",
       "      <td>[[φιλοσοφία, ἔργον, ἔνιοι, φημί, βάρβαρος, ἄρχ...</td>\n",
       "    </tr>\n",
       "    <tr>\n",
       "      <th>3</th>\n",
       "      <td>tlg0005</td>\n",
       "      <td>Theocritus</td>\n",
       "      <td>3</td>\n",
       "      <td>[Idylls , Epigrams , Syrinx]</td>\n",
       "      <td>[tlg0005.tlg001.perseus-grc1.xml, tlg0005.tlg0...</td>\n",
       "      <td>21011</td>\n",
       "      <td>13016</td>\n",
       "      <td>2137</td>\n",
       "      <td>{'-3.5': 0.5, '-2.5': 0.5}</td>\n",
       "      <td>-3.0</td>\n",
       "      <td></td>\n",
       "      <td>[[αδύ, ψιθύρισμα, πίτυς, αἰπόλος, τῆνος, πηγή,...</td>\n",
       "      <td>[[αδύ, ψιθύρισμα, πίτυς, αἰπόλος, τῆνος, πηγή,...</td>\n",
       "    </tr>\n",
       "    <tr>\n",
       "      <th>4</th>\n",
       "      <td>tlg0006</td>\n",
       "      <td>Euripides</td>\n",
       "      <td>17</td>\n",
       "      <td>[Cyclops, Ἡρακλεῖδαι, Ἱππόλυτος, Ἀνδρομάχη, Ἑκ...</td>\n",
       "      <td>[tlg0006.tlg001.perseus-grc2.xml, tlg0006.tlg0...</td>\n",
       "      <td>134129</td>\n",
       "      <td>81439</td>\n",
       "      <td>14482</td>\n",
       "      <td>{'-4.5': 1}</td>\n",
       "      <td>-4.5</td>\n",
       "      <td>pagan</td>\n",
       "      <td>[[Βρόμιος, ἔχω, πόνος, χὥτʼ, ἥβη, ἐμός, εὐσθεν...</td>\n",
       "      <td>[[Βρόμιος, ἔχω, πόνος, χὥτʼ, ἥβη, ἐμός, εὐσθεν...</td>\n",
       "    </tr>\n",
       "  </tbody>\n",
       "</table>\n",
       "</div>"
      ],
      "text/plain": [
       "  author_id              author  n_titles  \\\n",
       "0   tlg0001  Apollonius Rhodius         1   \n",
       "1   tlg0003          Thucydides         1   \n",
       "2   tlg0004   Diogenes Laertius         1   \n",
       "3   tlg0005          Theocritus         3   \n",
       "4   tlg0006           Euripides        17   \n",
       "\n",
       "                                              titles  \\\n",
       "0                                      [Argonautica]   \n",
       "1                            [The Peloponnesian War]   \n",
       "2                    [Lives of Eminent Philosophers]   \n",
       "3                       [Idylls , Epigrams , Syrinx]   \n",
       "4  [Cyclops, Ἡρακλεῖδαι, Ἱππόλυτος, Ἀνδρομάχη, Ἑκ...   \n",
       "\n",
       "                                           filenames  wordcount  \\\n",
       "0                  [tlg0001.tlg001.perseus-grc2.xml]      38822   \n",
       "1                  [tlg0003.tlg001.perseus-grc2.xml]     150118   \n",
       "2                  [tlg0004.tlg001.perseus-grc1.xml]     110763   \n",
       "3  [tlg0005.tlg001.perseus-grc1.xml, tlg0005.tlg0...      21011   \n",
       "4  [tlg0006.tlg001.perseus-grc2.xml, tlg0006.tlg0...     134129   \n",
       "\n",
       "   lemmata_wordcount  n_sentences                  date_probs  date_avr  \\\n",
       "0              23777         3252                 {'-2.5': 1}      -2.5   \n",
       "1              71863         6068                 {'-4.5': 1}      -4.5   \n",
       "2              56872        10245                  {'2.5': 1}       2.5   \n",
       "3              13016         2137  {'-3.5': 0.5, '-2.5': 0.5}      -3.0   \n",
       "4              81439        14482                 {'-4.5': 1}      -4.5   \n",
       "\n",
       "  provenience                                      lemmata_lists  \\\n",
       "0       pagan  [[ἄρχω, Φοῖβος, παλαιγενής, κλέος, φώς, μιμνήσ...   \n",
       "1       pagan  [[θουκυδίδης, Ἀθηναῖος, συγγράφω, πόλεμος, Πελ...   \n",
       "2              [[φιλοσοφία, ἔργον, ἔνιοι, φημί, βάρβαρος, ἄρχ...   \n",
       "3              [[αδύ, ψιθύρισμα, πίτυς, αἰπόλος, τῆνος, πηγή,...   \n",
       "4       pagan  [[Βρόμιος, ἔχω, πόνος, χὥτʼ, ἥβη, ἐμός, εὐσθεν...   \n",
       "\n",
       "                                lemmatized_sentences  \n",
       "0  [[ἄρχω, Φοῖβος, παλαιγενής, κλέος, φώς, μιμνήσ...  \n",
       "1  [[θουκυδίδης, Ἀθηναῖος, συγγράφω, πόλεμος, Πελ...  \n",
       "2  [[φιλοσοφία, ἔργον, ἔνιοι, φημί, βάρβαρος, ἄρχ...  \n",
       "3  [[αδύ, ψιθύρισμα, πίτυς, αἰπόλος, τῆνος, πηγή,...  \n",
       "4  [[Βρόμιος, ἔχω, πόνος, χὥτʼ, ἥβη, ἐμός, εὐσθεν...  "
      ]
     },
     "execution_count": 22,
     "metadata": {},
     "output_type": "execute_result"
    }
   ],
   "source": [
    "authors_dicts = []\n",
    "for author_id in AGT[\"author_id\"].unique():\n",
    "    sub_df = AGT[AGT[\"author_id\"]==author_id]\n",
    "    authors_dict = {}\n",
    "    authors_dict[\"author_id\"] = author_id\n",
    "    authors_dict[\"author\"] = sub_df[\"author\"][0]\n",
    "    authors_dict[\"n_titles\"] = len(sub_df)\n",
    "    authors_dict[\"titles\"] = sub_df[\"title\"].tolist()\n",
    "    authors_dict[\"filenames\"] = sub_df[\"filename\"].tolist()\n",
    "    authors_dict[\"wordcount\"] = sub_df[\"wordcount\"].sum()\n",
    "    authors_dict[\"lemmata_wordcount\"] = sub_df[\"lemmata_wordcount\"].sum()\n",
    "    authors_dict[\"n_sentences\"] = sub_df[\"n_sentences\"].sum()\n",
    "    probs_dict = {}\n",
    "    for d in sub_df[\"date_probs\"]:\n",
    "        probs_dict.update(d)\n",
    "    authors_dict[\"date_probs\"] = probs_dict\n",
    "    authors_dict[\"date_avr\"] = sub_df[\"date_avr\"].tolist()[0]\n",
    "    authors_dict[\"provenience\"] = sub_df[\"provenience\"].tolist()[0]\n",
    "    authors_dict[\"lemmata_lists\"] = sub_df[\"lemmata\"].tolist()\n",
    "    authors_dict[\"lemmatized_sentences\"] = get_flat_sentences(sub_df[\"lemmatized_sentences\"])\n",
    "    authors_dicts.append(authors_dict)\n",
    "    \n",
    "authors_df = pd.DataFrame(authors_dicts)\n",
    "authors_df.head(5)"
   ]
  },
  {
   "cell_type": "code",
   "execution_count": 65,
   "metadata": {},
   "outputs": [
    {
     "data": {
      "text/html": [
       "<div>\n",
       "<style scoped>\n",
       "    .dataframe tbody tr th:only-of-type {\n",
       "        vertical-align: middle;\n",
       "    }\n",
       "\n",
       "    .dataframe tbody tr th {\n",
       "        vertical-align: top;\n",
       "    }\n",
       "\n",
       "    .dataframe thead th {\n",
       "        text-align: right;\n",
       "    }\n",
       "</style>\n",
       "<table border=\"1\" class=\"dataframe\">\n",
       "  <thead>\n",
       "    <tr style=\"text-align: right;\">\n",
       "      <th></th>\n",
       "      <th>author_id</th>\n",
       "      <th>author</th>\n",
       "      <th>n_titles</th>\n",
       "      <th>titles</th>\n",
       "      <th>filenames</th>\n",
       "      <th>wordcount</th>\n",
       "      <th>lemmata_wordcount</th>\n",
       "      <th>n_sentences</th>\n",
       "      <th>date_probs</th>\n",
       "      <th>date_avr</th>\n",
       "      <th>provenience</th>\n",
       "      <th>lemmata_lists</th>\n",
       "      <th>lemmatized_sentences</th>\n",
       "      <th>dikaiosyne_N</th>\n",
       "      <th>dikaiosyne_TF</th>\n",
       "      <th>dik_sents_flat</th>\n",
       "      <th>dik_sents_TF</th>\n",
       "      <th>dik_sents_TFIDF</th>\n",
       "      <th>dik_sents_TFIDF_10</th>\n",
       "    </tr>\n",
       "  </thead>\n",
       "  <tbody>\n",
       "    <tr>\n",
       "      <th>84</th>\n",
       "      <td>tlg0527</td>\n",
       "      <td>Septuaginta</td>\n",
       "      <td>55</td>\n",
       "      <td>[Genesis, Exodus, Leviticus, Numeri, Deuterono...</td>\n",
       "      <td>[tlg0527.tlg001.opp-grc2.xml, tlg0527.tlg002.o...</td>\n",
       "      <td>799083</td>\n",
       "      <td>375155</td>\n",
       "      <td>57856</td>\n",
       "      <td>{}</td>\n",
       "      <td>NaN</td>\n",
       "      <td>jewish</td>\n",
       "      <td>[[εἰμί, ποιέω, θεός, οὐρανός, γῆ, γῆ, εἰμί, ἀό...</td>\n",
       "      <td>[[εἰμί, ποιέω, θεός, οὐρανός, γῆ], [γῆ, εἰμί, ...</td>\n",
       "      <td>341</td>\n",
       "      <td>0.000427</td>\n",
       "      <td>[πιστεύω, ἀβρὰμ, θεός, λογίζομαι, οἶδα, σύνταξ...</td>\n",
       "      <td>[(κύριος, 0.04013), (ποιέω, 0.02946), (θεός, 0...</td>\n",
       "      <td>[(κρίμα, 0.08576), (ποιέω, 0.08547), (κύριος, ...</td>\n",
       "      <td>κρίμα, ποιέω, κύριος, ἀλήθεια, θεός, ἀδικία, ὁ...</td>\n",
       "    </tr>\n",
       "    <tr>\n",
       "      <th>21</th>\n",
       "      <td>tlg0018</td>\n",
       "      <td>Philo Judaeus</td>\n",
       "      <td>31</td>\n",
       "      <td>[De opificio mundi, Legum allegoriarum libri i...</td>\n",
       "      <td>[tlg0018.tlg001.opp-grc1.xml, tlg0018.tlg002.o...</td>\n",
       "      <td>643011</td>\n",
       "      <td>304615</td>\n",
       "      <td>82966</td>\n",
       "      <td>{'-0.5': 0.5, '0.5': 0.5}</td>\n",
       "      <td>0.0</td>\n",
       "      <td>jewish</td>\n",
       "      <td>[[ἄλλος, νομοθέτης, ἀκαλλώπιστος, γυμνός, νομι...</td>\n",
       "      <td>[[ἄλλος, νομοθέτης, ἀκαλλώπιστος, γυμνός, νομι...</td>\n",
       "      <td>157</td>\n",
       "      <td>0.000244</td>\n",
       "      <td>[ἐκεῖνος, ἀγνοητέον, πρῶτος, ἀριθμός, τέσσαρες...</td>\n",
       "      <td>[(ἀρετή, 0.02197), (φρόνησις, 0.01862), (εἰμί,...</td>\n",
       "      <td>[(φρόνησις, 0.11227), (ἀρετή, 0.09582), (σωφρο...</td>\n",
       "      <td>φρόνησις, ἀρετή, σωφροσύνη, ἀνδρεία, ἰσότης, ἀ...</td>\n",
       "    </tr>\n",
       "    <tr>\n",
       "      <th>83</th>\n",
       "      <td>tlg0526</td>\n",
       "      <td>Flavius Josephus</td>\n",
       "      <td>4</td>\n",
       "      <td>[Antiquitates Judaicae, Josephi vita, Contra A...</td>\n",
       "      <td>[tlg0526.tlg001.perseus-grc1.xml, tlg0526.tlg0...</td>\n",
       "      <td>469580</td>\n",
       "      <td>240661</td>\n",
       "      <td>19707</td>\n",
       "      <td>{'0.5': 1}</td>\n",
       "      <td>0.5</td>\n",
       "      <td>jewish</td>\n",
       "      <td>[[ἱστορία, συγγράφω, βούλομαι, αὐτός, ὁράω, σπ...</td>\n",
       "      <td>[[ἱστορία, συγγράφω, βούλομαι, αὐτός, ὁράω, σπ...</td>\n",
       "      <td>39</td>\n",
       "      <td>0.000083</td>\n",
       "      <td>[ἄβελος, νέος, ἐπιμελέομαι, πράσσω, πάρειμι, θ...</td>\n",
       "      <td>[(εἰμί, 0.02242), (θεός, 0.02093), (εὐσέβεια, ...</td>\n",
       "      <td>[(εὐσέβεια, 0.10229), (θεός, 0.05143), (εἰμί, ...</td>\n",
       "      <td>εὐσέβεια, θεός, εἰμί, ἀρετή, δόξα, πολύς, ἀμάν...</td>\n",
       "    </tr>\n",
       "  </tbody>\n",
       "</table>\n",
       "</div>"
      ],
      "text/plain": [
       "   author_id            author  n_titles  \\\n",
       "84   tlg0527       Septuaginta        55   \n",
       "21   tlg0018     Philo Judaeus        31   \n",
       "83   tlg0526  Flavius Josephus         4   \n",
       "\n",
       "                                               titles  \\\n",
       "84  [Genesis, Exodus, Leviticus, Numeri, Deuterono...   \n",
       "21  [De opificio mundi, Legum allegoriarum libri i...   \n",
       "83  [Antiquitates Judaicae, Josephi vita, Contra A...   \n",
       "\n",
       "                                            filenames  wordcount  \\\n",
       "84  [tlg0527.tlg001.opp-grc2.xml, tlg0527.tlg002.o...     799083   \n",
       "21  [tlg0018.tlg001.opp-grc1.xml, tlg0018.tlg002.o...     643011   \n",
       "83  [tlg0526.tlg001.perseus-grc1.xml, tlg0526.tlg0...     469580   \n",
       "\n",
       "    lemmata_wordcount  n_sentences                 date_probs  date_avr  \\\n",
       "84             375155        57856                         {}       NaN   \n",
       "21             304615        82966  {'-0.5': 0.5, '0.5': 0.5}       0.0   \n",
       "83             240661        19707                 {'0.5': 1}       0.5   \n",
       "\n",
       "   provenience                                      lemmata_lists  \\\n",
       "84      jewish  [[εἰμί, ποιέω, θεός, οὐρανός, γῆ, γῆ, εἰμί, ἀό...   \n",
       "21      jewish  [[ἄλλος, νομοθέτης, ἀκαλλώπιστος, γυμνός, νομι...   \n",
       "83      jewish  [[ἱστορία, συγγράφω, βούλομαι, αὐτός, ὁράω, σπ...   \n",
       "\n",
       "                                 lemmatized_sentences  dikaiosyne_N  \\\n",
       "84  [[εἰμί, ποιέω, θεός, οὐρανός, γῆ], [γῆ, εἰμί, ...           341   \n",
       "21  [[ἄλλος, νομοθέτης, ἀκαλλώπιστος, γυμνός, νομι...           157   \n",
       "83  [[ἱστορία, συγγράφω, βούλομαι, αὐτός, ὁράω, σπ...            39   \n",
       "\n",
       "    dikaiosyne_TF                                     dik_sents_flat  \\\n",
       "84       0.000427  [πιστεύω, ἀβρὰμ, θεός, λογίζομαι, οἶδα, σύνταξ...   \n",
       "21       0.000244  [ἐκεῖνος, ἀγνοητέον, πρῶτος, ἀριθμός, τέσσαρες...   \n",
       "83       0.000083  [ἄβελος, νέος, ἐπιμελέομαι, πράσσω, πάρειμι, θ...   \n",
       "\n",
       "                                         dik_sents_TF  \\\n",
       "84  [(κύριος, 0.04013), (ποιέω, 0.02946), (θεός, 0...   \n",
       "21  [(ἀρετή, 0.02197), (φρόνησις, 0.01862), (εἰμί,...   \n",
       "83  [(εἰμί, 0.02242), (θεός, 0.02093), (εὐσέβεια, ...   \n",
       "\n",
       "                                      dik_sents_TFIDF  \\\n",
       "84  [(κρίμα, 0.08576), (ποιέω, 0.08547), (κύριος, ...   \n",
       "21  [(φρόνησις, 0.11227), (ἀρετή, 0.09582), (σωφρο...   \n",
       "83  [(εὐσέβεια, 0.10229), (θεός, 0.05143), (εἰμί, ...   \n",
       "\n",
       "                                   dik_sents_TFIDF_10  \n",
       "84  κρίμα, ποιέω, κύριος, ἀλήθεια, θεός, ἀδικία, ὁ...  \n",
       "21  φρόνησις, ἀρετή, σωφροσύνη, ἀνδρεία, ἰσότης, ἀ...  \n",
       "83  εὐσέβεια, θεός, εἰμί, ἀρετή, δόξα, πολύς, ἀμάν...  "
      ]
     },
     "execution_count": 65,
     "metadata": {},
     "output_type": "execute_result"
    }
   ],
   "source": [
    "authors_df[authors_df[\"provenience\"]==\"jewish\"]"
   ]
  },
  {
   "cell_type": "code",
   "execution_count": 23,
   "metadata": {},
   "outputs": [],
   "source": [
    "clean_titles = authors_df[\"titles\"].apply(lambda cell: [title.rpartition(\" - \")[2] for title in cell]) \n",
    "authors_df[\"titles\"] = clean_titles"
   ]
  },
  {
   "cell_type": "code",
   "execution_count": 24,
   "metadata": {},
   "outputs": [],
   "source": [
    "def fill_author(author, titles):\n",
    "    if author == None:\n",
    "        return titles[0]\n",
    "    else:\n",
    "        return author.partition(\",\")[0]\n",
    " \n",
    "clean_authors = authors_df.apply(lambda row: fill_author(row[\"author\"], row[\"titles\"]), axis=1)\n",
    "authors_df[\"author\"] = clean_authors"
   ]
  },
  {
   "cell_type": "code",
   "execution_count": 25,
   "metadata": {},
   "outputs": [],
   "source": [
    "authors_df.loc[authors_df[\"author_id\"]==\"tlg0031rest\", \"author\"] = \"GNT rest\" #, [\"author\"]] = \n"
   ]
  },
  {
   "cell_type": "code",
   "execution_count": 26,
   "metadata": {},
   "outputs": [],
   "source": [
    "authors_df.loc[authors_df[\"author_id\"]==\"tlg1484\", \"author\"] = \"Martyrium Polycarpi\"\n",
    "authors_df.loc[authors_df[\"author_id\"]==\"tlg1311\", \"author\"] = \"Didache\" #, [\"author\"]] = #, [\"author\"]] = "
   ]
  },
  {
   "cell_type": "code",
   "execution_count": 27,
   "metadata": {},
   "outputs": [
    {
     "data": {
      "text/html": [
       "<div>\n",
       "<style scoped>\n",
       "    .dataframe tbody tr th:only-of-type {\n",
       "        vertical-align: middle;\n",
       "    }\n",
       "\n",
       "    .dataframe tbody tr th {\n",
       "        vertical-align: top;\n",
       "    }\n",
       "\n",
       "    .dataframe thead th {\n",
       "        text-align: right;\n",
       "    }\n",
       "</style>\n",
       "<table border=\"1\" class=\"dataframe\">\n",
       "  <thead>\n",
       "    <tr style=\"text-align: right;\">\n",
       "      <th></th>\n",
       "      <th>author_id</th>\n",
       "      <th>author</th>\n",
       "      <th>n_titles</th>\n",
       "      <th>titles</th>\n",
       "      <th>filenames</th>\n",
       "      <th>wordcount</th>\n",
       "      <th>lemmata_wordcount</th>\n",
       "      <th>n_sentences</th>\n",
       "      <th>date_probs</th>\n",
       "      <th>date_avr</th>\n",
       "      <th>provenience</th>\n",
       "      <th>lemmata_lists</th>\n",
       "      <th>lemmatized_sentences</th>\n",
       "    </tr>\n",
       "  </thead>\n",
       "  <tbody>\n",
       "    <tr>\n",
       "      <th>0</th>\n",
       "      <td>tlg0001</td>\n",
       "      <td>Apollonius Rhodius</td>\n",
       "      <td>1</td>\n",
       "      <td>[Argonautica]</td>\n",
       "      <td>[tlg0001.tlg001.perseus-grc2.xml]</td>\n",
       "      <td>38822</td>\n",
       "      <td>23777</td>\n",
       "      <td>3252</td>\n",
       "      <td>{'-2.5': 1}</td>\n",
       "      <td>-2.5</td>\n",
       "      <td>pagan</td>\n",
       "      <td>[[ἄρχω, Φοῖβος, παλαιγενής, κλέος, φώς, μιμνήσ...</td>\n",
       "      <td>[[ἄρχω, Φοῖβος, παλαιγενής, κλέος, φώς, μιμνήσ...</td>\n",
       "    </tr>\n",
       "    <tr>\n",
       "      <th>1</th>\n",
       "      <td>tlg0003</td>\n",
       "      <td>Thucydides</td>\n",
       "      <td>1</td>\n",
       "      <td>[The Peloponnesian War]</td>\n",
       "      <td>[tlg0003.tlg001.perseus-grc2.xml]</td>\n",
       "      <td>150118</td>\n",
       "      <td>71863</td>\n",
       "      <td>6068</td>\n",
       "      <td>{'-4.5': 1}</td>\n",
       "      <td>-4.5</td>\n",
       "      <td>pagan</td>\n",
       "      <td>[[θουκυδίδης, Ἀθηναῖος, συγγράφω, πόλεμος, Πελ...</td>\n",
       "      <td>[[θουκυδίδης, Ἀθηναῖος, συγγράφω, πόλεμος, Πελ...</td>\n",
       "    </tr>\n",
       "    <tr>\n",
       "      <th>2</th>\n",
       "      <td>tlg0004</td>\n",
       "      <td>Diogenes Laertius</td>\n",
       "      <td>1</td>\n",
       "      <td>[Lives of Eminent Philosophers]</td>\n",
       "      <td>[tlg0004.tlg001.perseus-grc1.xml]</td>\n",
       "      <td>110763</td>\n",
       "      <td>56872</td>\n",
       "      <td>10245</td>\n",
       "      <td>{'2.5': 1}</td>\n",
       "      <td>2.5</td>\n",
       "      <td></td>\n",
       "      <td>[[φιλοσοφία, ἔργον, ἔνιοι, φημί, βάρβαρος, ἄρχ...</td>\n",
       "      <td>[[φιλοσοφία, ἔργον, ἔνιοι, φημί, βάρβαρος, ἄρχ...</td>\n",
       "    </tr>\n",
       "    <tr>\n",
       "      <th>3</th>\n",
       "      <td>tlg0005</td>\n",
       "      <td>Theocritus</td>\n",
       "      <td>3</td>\n",
       "      <td>[Idylls , Epigrams , Syrinx]</td>\n",
       "      <td>[tlg0005.tlg001.perseus-grc1.xml, tlg0005.tlg0...</td>\n",
       "      <td>21011</td>\n",
       "      <td>13016</td>\n",
       "      <td>2137</td>\n",
       "      <td>{'-3.5': 0.5, '-2.5': 0.5}</td>\n",
       "      <td>-3.0</td>\n",
       "      <td></td>\n",
       "      <td>[[αδύ, ψιθύρισμα, πίτυς, αἰπόλος, τῆνος, πηγή,...</td>\n",
       "      <td>[[αδύ, ψιθύρισμα, πίτυς, αἰπόλος, τῆνος, πηγή,...</td>\n",
       "    </tr>\n",
       "    <tr>\n",
       "      <th>4</th>\n",
       "      <td>tlg0006</td>\n",
       "      <td>Euripides</td>\n",
       "      <td>17</td>\n",
       "      <td>[Cyclops, Ἡρακλεῖδαι, Ἱππόλυτος, Ἀνδρομάχη, Ἑκ...</td>\n",
       "      <td>[tlg0006.tlg001.perseus-grc2.xml, tlg0006.tlg0...</td>\n",
       "      <td>134129</td>\n",
       "      <td>81439</td>\n",
       "      <td>14482</td>\n",
       "      <td>{'-4.5': 1}</td>\n",
       "      <td>-4.5</td>\n",
       "      <td>pagan</td>\n",
       "      <td>[[Βρόμιος, ἔχω, πόνος, χὥτʼ, ἥβη, ἐμός, εὐσθεν...</td>\n",
       "      <td>[[Βρόμιος, ἔχω, πόνος, χὥτʼ, ἥβη, ἐμός, εὐσθεν...</td>\n",
       "    </tr>\n",
       "    <tr>\n",
       "      <th>...</th>\n",
       "      <td>...</td>\n",
       "      <td>...</td>\n",
       "      <td>...</td>\n",
       "      <td>...</td>\n",
       "      <td>...</td>\n",
       "      <td>...</td>\n",
       "      <td>...</td>\n",
       "      <td>...</td>\n",
       "      <td>...</td>\n",
       "      <td>...</td>\n",
       "      <td>...</td>\n",
       "      <td>...</td>\n",
       "      <td>...</td>\n",
       "    </tr>\n",
       "    <tr>\n",
       "      <th>264</th>\n",
       "      <td>tlg7000</td>\n",
       "      <td>Greek Anthology, Volume V</td>\n",
       "      <td>1</td>\n",
       "      <td>[Greek Anthology, Volume V]</td>\n",
       "      <td>[tlg7000.tlg001.perseus-grc5.xml]</td>\n",
       "      <td>20222</td>\n",
       "      <td>13460</td>\n",
       "      <td>1971</td>\n",
       "      <td>{}</td>\n",
       "      <td>NaN</td>\n",
       "      <td></td>\n",
       "      <td>[[ἰίαίρβ, θεά, Πάφος, σός, δύναμις, κάλλος, ἀθ...</td>\n",
       "      <td>[[ἰίαίρβ, θεά, Πάφος], [σός, δύναμις, κάλλος, ...</td>\n",
       "    </tr>\n",
       "    <tr>\n",
       "      <th>265</th>\n",
       "      <td>tlg9004</td>\n",
       "      <td>Anonymi In Aristotelis Librum Alterum Analytic...</td>\n",
       "      <td>1</td>\n",
       "      <td>[Anonymi in analyticorum posteriorum librum al...</td>\n",
       "      <td>[tlg9004.tlg001.opp-grc1.xml]</td>\n",
       "      <td>21649</td>\n",
       "      <td>8495</td>\n",
       "      <td>2414</td>\n",
       "      <td>{}</td>\n",
       "      <td>NaN</td>\n",
       "      <td></td>\n",
       "      <td>[[ζητούμενά, ἴσος, ἀριθμός, ὅσος, ἐπίσταμαι, φ...</td>\n",
       "      <td>[[], [ζητούμενά, ἴσος, ἀριθμός, ὅσος, ἐπίσταμα...</td>\n",
       "    </tr>\n",
       "    <tr>\n",
       "      <th>266</th>\n",
       "      <td>tlg9006</td>\n",
       "      <td>Libanius</td>\n",
       "      <td>1</td>\n",
       "      <td>[Libanius Opera]</td>\n",
       "      <td>[tlg9006.tlg011.opp-grc1.xml]</td>\n",
       "      <td>6745</td>\n",
       "      <td>3175</td>\n",
       "      <td>392</td>\n",
       "      <td>{'12.5': 1}</td>\n",
       "      <td>12.5</td>\n",
       "      <td></td>\n",
       "      <td>[[ἀνήρ, Λακεδαιμόνιος, ἡγέομαι, κοριν, θίους, ...</td>\n",
       "      <td>[[ἀνήρ, Λακεδαιμόνιος, ἡγέομαι, κοριν, θίους, ...</td>\n",
       "    </tr>\n",
       "    <tr>\n",
       "      <th>267</th>\n",
       "      <td>tlg9010</td>\n",
       "      <td>Suda</td>\n",
       "      <td>1</td>\n",
       "      <td>[Suidae lexicon]</td>\n",
       "      <td>[tlg9010.tlg001.1st1K-grc1.xml]</td>\n",
       "      <td>589422</td>\n",
       "      <td>292441</td>\n",
       "      <td>139897</td>\n",
       "      <td>{'9.5': 1}</td>\n",
       "      <td>9.5</td>\n",
       "      <td></td>\n",
       "      <td>[[πάρειμι, βιβλίον, σοῦδα, συνταξάμενοι, ἀνήρ,...</td>\n",
       "      <td>[[πάρειμι, βιβλίον, σοῦδα, συνταξάμενοι, ἀνήρ,...</td>\n",
       "    </tr>\n",
       "    <tr>\n",
       "      <th>268</th>\n",
       "      <td>tlg9019</td>\n",
       "      <td>Stephanus of Alexandria</td>\n",
       "      <td>1</td>\n",
       "      <td>[In Aristotelis librum de interpretatione comm...</td>\n",
       "      <td>[tlg9019.tlg001.opp-grc1.xml]</td>\n",
       "      <td>30469</td>\n",
       "      <td>13566</td>\n",
       "      <td>2701</td>\n",
       "      <td>{'6.5': 1}</td>\n",
       "      <td>6.5</td>\n",
       "      <td></td>\n",
       "      <td>[[ἀρχή, ᾱ, τμῆμα, πρᾶξις, ᾱ, πρῶτος, δεῖ, τίθη...</td>\n",
       "      <td>[[ἀρχή, ᾱ, τμῆμα], [πρᾶξις, ᾱ], [πρῶτος, δεῖ, ...</td>\n",
       "    </tr>\n",
       "  </tbody>\n",
       "</table>\n",
       "<p>269 rows × 13 columns</p>\n",
       "</div>"
      ],
      "text/plain": [
       "    author_id                                             author  n_titles  \\\n",
       "0     tlg0001                                 Apollonius Rhodius         1   \n",
       "1     tlg0003                                         Thucydides         1   \n",
       "2     tlg0004                                  Diogenes Laertius         1   \n",
       "3     tlg0005                                         Theocritus         3   \n",
       "4     tlg0006                                          Euripides        17   \n",
       "..        ...                                                ...       ...   \n",
       "264   tlg7000                          Greek Anthology, Volume V         1   \n",
       "265   tlg9004  Anonymi In Aristotelis Librum Alterum Analytic...         1   \n",
       "266   tlg9006                                           Libanius         1   \n",
       "267   tlg9010                                               Suda         1   \n",
       "268   tlg9019                            Stephanus of Alexandria         1   \n",
       "\n",
       "                                                titles  \\\n",
       "0                                        [Argonautica]   \n",
       "1                              [The Peloponnesian War]   \n",
       "2                      [Lives of Eminent Philosophers]   \n",
       "3                         [Idylls , Epigrams , Syrinx]   \n",
       "4    [Cyclops, Ἡρακλεῖδαι, Ἱππόλυτος, Ἀνδρομάχη, Ἑκ...   \n",
       "..                                                 ...   \n",
       "264                        [Greek Anthology, Volume V]   \n",
       "265  [Anonymi in analyticorum posteriorum librum al...   \n",
       "266                                   [Libanius Opera]   \n",
       "267                                   [Suidae lexicon]   \n",
       "268  [In Aristotelis librum de interpretatione comm...   \n",
       "\n",
       "                                             filenames  wordcount  \\\n",
       "0                    [tlg0001.tlg001.perseus-grc2.xml]      38822   \n",
       "1                    [tlg0003.tlg001.perseus-grc2.xml]     150118   \n",
       "2                    [tlg0004.tlg001.perseus-grc1.xml]     110763   \n",
       "3    [tlg0005.tlg001.perseus-grc1.xml, tlg0005.tlg0...      21011   \n",
       "4    [tlg0006.tlg001.perseus-grc2.xml, tlg0006.tlg0...     134129   \n",
       "..                                                 ...        ...   \n",
       "264                  [tlg7000.tlg001.perseus-grc5.xml]      20222   \n",
       "265                      [tlg9004.tlg001.opp-grc1.xml]      21649   \n",
       "266                      [tlg9006.tlg011.opp-grc1.xml]       6745   \n",
       "267                    [tlg9010.tlg001.1st1K-grc1.xml]     589422   \n",
       "268                      [tlg9019.tlg001.opp-grc1.xml]      30469   \n",
       "\n",
       "     lemmata_wordcount  n_sentences                  date_probs  date_avr  \\\n",
       "0                23777         3252                 {'-2.5': 1}      -2.5   \n",
       "1                71863         6068                 {'-4.5': 1}      -4.5   \n",
       "2                56872        10245                  {'2.5': 1}       2.5   \n",
       "3                13016         2137  {'-3.5': 0.5, '-2.5': 0.5}      -3.0   \n",
       "4                81439        14482                 {'-4.5': 1}      -4.5   \n",
       "..                 ...          ...                         ...       ...   \n",
       "264              13460         1971                          {}       NaN   \n",
       "265               8495         2414                          {}       NaN   \n",
       "266               3175          392                 {'12.5': 1}      12.5   \n",
       "267             292441       139897                  {'9.5': 1}       9.5   \n",
       "268              13566         2701                  {'6.5': 1}       6.5   \n",
       "\n",
       "    provenience                                      lemmata_lists  \\\n",
       "0         pagan  [[ἄρχω, Φοῖβος, παλαιγενής, κλέος, φώς, μιμνήσ...   \n",
       "1         pagan  [[θουκυδίδης, Ἀθηναῖος, συγγράφω, πόλεμος, Πελ...   \n",
       "2                [[φιλοσοφία, ἔργον, ἔνιοι, φημί, βάρβαρος, ἄρχ...   \n",
       "3                [[αδύ, ψιθύρισμα, πίτυς, αἰπόλος, τῆνος, πηγή,...   \n",
       "4         pagan  [[Βρόμιος, ἔχω, πόνος, χὥτʼ, ἥβη, ἐμός, εὐσθεν...   \n",
       "..          ...                                                ...   \n",
       "264              [[ἰίαίρβ, θεά, Πάφος, σός, δύναμις, κάλλος, ἀθ...   \n",
       "265              [[ζητούμενά, ἴσος, ἀριθμός, ὅσος, ἐπίσταμαι, φ...   \n",
       "266              [[ἀνήρ, Λακεδαιμόνιος, ἡγέομαι, κοριν, θίους, ...   \n",
       "267              [[πάρειμι, βιβλίον, σοῦδα, συνταξάμενοι, ἀνήρ,...   \n",
       "268              [[ἀρχή, ᾱ, τμῆμα, πρᾶξις, ᾱ, πρῶτος, δεῖ, τίθη...   \n",
       "\n",
       "                                  lemmatized_sentences  \n",
       "0    [[ἄρχω, Φοῖβος, παλαιγενής, κλέος, φώς, μιμνήσ...  \n",
       "1    [[θουκυδίδης, Ἀθηναῖος, συγγράφω, πόλεμος, Πελ...  \n",
       "2    [[φιλοσοφία, ἔργον, ἔνιοι, φημί, βάρβαρος, ἄρχ...  \n",
       "3    [[αδύ, ψιθύρισμα, πίτυς, αἰπόλος, τῆνος, πηγή,...  \n",
       "4    [[Βρόμιος, ἔχω, πόνος, χὥτʼ, ἥβη, ἐμός, εὐσθεν...  \n",
       "..                                                 ...  \n",
       "264  [[ἰίαίρβ, θεά, Πάφος], [σός, δύναμις, κάλλος, ...  \n",
       "265  [[], [ζητούμενά, ἴσος, ἀριθμός, ὅσος, ἐπίσταμα...  \n",
       "266  [[ἀνήρ, Λακεδαιμόνιος, ἡγέομαι, κοριν, θίους, ...  \n",
       "267  [[πάρειμι, βιβλίον, σοῦδα, συνταξάμενοι, ἀνήρ,...  \n",
       "268  [[ἀρχή, ᾱ, τμῆμα], [πρᾶξις, ᾱ], [πρῶτος, δεῖ, ...  \n",
       "\n",
       "[269 rows x 13 columns]"
      ]
     },
     "execution_count": 27,
     "metadata": {},
     "output_type": "execute_result"
    }
   ],
   "source": [
    "authors_df"
   ]
  },
  {
   "cell_type": "code",
   "execution_count": 28,
   "metadata": {},
   "outputs": [
    {
     "data": {
      "text/plain": [
       "269"
      ]
     },
     "execution_count": 28,
     "metadata": {},
     "output_type": "execute_result"
    }
   ],
   "source": [
    "len(authors_df)"
   ]
  },
  {
   "cell_type": "code",
   "execution_count": 29,
   "metadata": {},
   "outputs": [],
   "source": [
    "# COUNT δικαιοσύνη IN SENTENCES\n",
    "def count_term_in_sents(lemmatized_sentences):\n",
    "    return sum([sent.count(\"δικαιοσύνη\") for sent in lemmatized_sentences])\n",
    "\n",
    "authors_df[\"dikaiosyne_N\"]  = authors_df[\"lemmatized_sentences\"].apply(count_term_in_sents)"
   ]
  },
  {
   "cell_type": "code",
   "execution_count": 30,
   "metadata": {},
   "outputs": [],
   "source": [
    "authors_df[\"dikaiosyne_TF\"]  = authors_df.apply(lambda row: row[\"dikaiosyne_N\"] / row[\"wordcount\"], axis=1)\n",
    "authors_df.sort_values(\"dikaiosyne_TF\", ascending=False, inplace=True)"
   ]
  },
  {
   "cell_type": "code",
   "execution_count": 33,
   "metadata": {
    "scrolled": false
   },
   "outputs": [
    {
     "data": {
      "text/html": [
       "<div>\n",
       "<style scoped>\n",
       "    .dataframe tbody tr th:only-of-type {\n",
       "        vertical-align: middle;\n",
       "    }\n",
       "\n",
       "    .dataframe tbody tr th {\n",
       "        vertical-align: top;\n",
       "    }\n",
       "\n",
       "    .dataframe thead th {\n",
       "        text-align: right;\n",
       "    }\n",
       "</style>\n",
       "<table border=\"1\" class=\"dataframe\">\n",
       "  <thead>\n",
       "    <tr style=\"text-align: right;\">\n",
       "      <th></th>\n",
       "      <th>author_id</th>\n",
       "      <th>author</th>\n",
       "      <th>n_titles</th>\n",
       "      <th>titles</th>\n",
       "      <th>filenames</th>\n",
       "      <th>wordcount</th>\n",
       "      <th>lemmata_wordcount</th>\n",
       "      <th>n_sentences</th>\n",
       "      <th>date_probs</th>\n",
       "      <th>date_avr</th>\n",
       "      <th>provenience</th>\n",
       "      <th>lemmata_lists</th>\n",
       "      <th>lemmatized_sentences</th>\n",
       "      <th>dikaiosyne_N</th>\n",
       "      <th>dikaiosyne_TF</th>\n",
       "    </tr>\n",
       "  </thead>\n",
       "  <tbody>\n",
       "  </tbody>\n",
       "</table>\n",
       "</div>"
      ],
      "text/plain": [
       "Empty DataFrame\n",
       "Columns: [author_id, author, n_titles, titles, filenames, wordcount, lemmata_wordcount, n_sentences, date_probs, date_avr, provenience, lemmata_lists, lemmatized_sentences, dikaiosyne_N, dikaiosyne_TF]\n",
       "Index: []"
      ]
     },
     "execution_count": 33,
     "metadata": {},
     "output_type": "execute_result"
    }
   ],
   "source": [
    "authors_df[authors_df[\"author\"].str.contains(\"Sal\")]"
   ]
  },
  {
   "cell_type": "code",
   "execution_count": 34,
   "metadata": {},
   "outputs": [
    {
     "data": {
      "text/html": [
       "<div>\n",
       "<style scoped>\n",
       "    .dataframe tbody tr th:only-of-type {\n",
       "        vertical-align: middle;\n",
       "    }\n",
       "\n",
       "    .dataframe tbody tr th {\n",
       "        vertical-align: top;\n",
       "    }\n",
       "\n",
       "    .dataframe thead th {\n",
       "        text-align: right;\n",
       "    }\n",
       "</style>\n",
       "<table border=\"1\" class=\"dataframe\">\n",
       "  <thead>\n",
       "    <tr style=\"text-align: right;\">\n",
       "      <th></th>\n",
       "      <th>author_id</th>\n",
       "      <th>author</th>\n",
       "      <th>n_titles</th>\n",
       "      <th>titles</th>\n",
       "      <th>filenames</th>\n",
       "      <th>wordcount</th>\n",
       "      <th>lemmata_wordcount</th>\n",
       "      <th>n_sentences</th>\n",
       "      <th>date_probs</th>\n",
       "      <th>date_avr</th>\n",
       "      <th>provenience</th>\n",
       "      <th>lemmata_lists</th>\n",
       "      <th>lemmatized_sentences</th>\n",
       "      <th>dikaiosyne_N</th>\n",
       "      <th>dikaiosyne_TF</th>\n",
       "    </tr>\n",
       "  </thead>\n",
       "  <tbody>\n",
       "    <tr>\n",
       "      <th>70</th>\n",
       "      <td>tlg0096</td>\n",
       "      <td>Aesop</td>\n",
       "      <td>1</td>\n",
       "      <td>[Fabulae]</td>\n",
       "      <td>[tlg0096.tlg002.First1K-grc1.xml]</td>\n",
       "      <td>39492</td>\n",
       "      <td>21577</td>\n",
       "      <td>3333</td>\n",
       "      <td>{'-5.5': 1}</td>\n",
       "      <td>-5.5</td>\n",
       "      <td>pagan</td>\n",
       "      <td>[[ἀγαθός, πᾶς, κακός, διώκω, ἀσθενής, εἰμί, οὐ...</td>\n",
       "      <td>[[ἀγαθός, πᾶς, κακός, διώκω, ἀσθενής, εἰμί], [...</td>\n",
       "      <td>2</td>\n",
       "      <td>0.000051</td>\n",
       "    </tr>\n",
       "    <tr>\n",
       "      <th>1</th>\n",
       "      <td>tlg0003</td>\n",
       "      <td>Thucydides</td>\n",
       "      <td>1</td>\n",
       "      <td>[The Peloponnesian War]</td>\n",
       "      <td>[tlg0003.tlg001.perseus-grc2.xml]</td>\n",
       "      <td>150118</td>\n",
       "      <td>71863</td>\n",
       "      <td>6068</td>\n",
       "      <td>{'-4.5': 1}</td>\n",
       "      <td>-4.5</td>\n",
       "      <td>pagan</td>\n",
       "      <td>[[θουκυδίδης, Ἀθηναῖος, συγγράφω, πόλεμος, Πελ...</td>\n",
       "      <td>[[θουκυδίδης, Ἀθηναῖος, συγγράφω, πόλεμος, Πελ...</td>\n",
       "      <td>1</td>\n",
       "      <td>0.000007</td>\n",
       "    </tr>\n",
       "    <tr>\n",
       "      <th>19</th>\n",
       "      <td>tlg0016</td>\n",
       "      <td>Herodotus</td>\n",
       "      <td>1</td>\n",
       "      <td>[The Histories]</td>\n",
       "      <td>[tlg0016.tlg001.perseus-grc2.xml]</td>\n",
       "      <td>184947</td>\n",
       "      <td>94799</td>\n",
       "      <td>10149</td>\n",
       "      <td>{'-4.5': 1}</td>\n",
       "      <td>-4.5</td>\n",
       "      <td>pagan</td>\n",
       "      <td>[[Ἡρόδοτος, Ἁλικαρνασσεύς, ἱστορία, ἀπόδειξις,...</td>\n",
       "      <td>[[Ἡρόδοτος, Ἁλικαρνασσεύς, ἱστορία, ἀπόδειξις,...</td>\n",
       "      <td>8</td>\n",
       "      <td>0.000043</td>\n",
       "    </tr>\n",
       "    <tr>\n",
       "      <th>89</th>\n",
       "      <td>tlg0540</td>\n",
       "      <td>Lysias</td>\n",
       "      <td>34</td>\n",
       "      <td>[On the Murder of Eratosthenes, Funeral Oratio...</td>\n",
       "      <td>[tlg0540.tlg001.perseus-grc2.xml, tlg0540.tlg0...</td>\n",
       "      <td>58875</td>\n",
       "      <td>28254</td>\n",
       "      <td>4258</td>\n",
       "      <td>{'-4.5': 0.5, '-3.5': 0.5}</td>\n",
       "      <td>-4.0</td>\n",
       "      <td>pagan</td>\n",
       "      <td>[[πολύς, ποιέω, ἀνήρ, τοιοῦτος, δικαστής, οὗτο...</td>\n",
       "      <td>[[πολύς, ποιέω, ἀνήρ, τοιοῦτος, δικαστής, οὗτο...</td>\n",
       "      <td>2</td>\n",
       "      <td>0.000034</td>\n",
       "    </tr>\n",
       "    <tr>\n",
       "      <th>38</th>\n",
       "      <td>tlg0032</td>\n",
       "      <td>Xenophon</td>\n",
       "      <td>14</td>\n",
       "      <td>[Hellenica, Memorabilia, Economics, Symposium,...</td>\n",
       "      <td>[tlg0032.tlg001.perseus-grc2.xml, tlg0032.tlg0...</td>\n",
       "      <td>312187</td>\n",
       "      <td>150357</td>\n",
       "      <td>18988</td>\n",
       "      <td>{'-4.5': 0.5, '-3.5': 0.5}</td>\n",
       "      <td>-4.0</td>\n",
       "      <td>pagan</td>\n",
       "      <td>[[οὗτος, πολύς, ἡμέρα, ὕστερος, ἔρχομαι, Ἀθῆνα...</td>\n",
       "      <td>[[οὗτος, πολύς, ἡμέρα, ὕστερος, ἔρχομαι, Ἀθῆνα...</td>\n",
       "      <td>35</td>\n",
       "      <td>0.000112</td>\n",
       "    </tr>\n",
       "    <tr>\n",
       "      <th>122</th>\n",
       "      <td>tlg0627</td>\n",
       "      <td>Hippocrates</td>\n",
       "      <td>52</td>\n",
       "      <td>[On Ancient Medicine, De aere aquis et locis ,...</td>\n",
       "      <td>[tlg0627.tlg001.perseus-grc1.xml, tlg0627.tlg0...</td>\n",
       "      <td>333443</td>\n",
       "      <td>171332</td>\n",
       "      <td>24456</td>\n",
       "      <td>{'-4.5': 0.5, '-3.5': 0.5}</td>\n",
       "      <td>-4.0</td>\n",
       "      <td>pagan</td>\n",
       "      <td>[[ὁπόσος, ἐπιχειρέω, ἰητρικῆς, λέγω, γράφω, ὑπ...</td>\n",
       "      <td>[[ὁπόσος, ἐπιχειρέω, ἰητρικῆς, λέγω, γράφω, ὑπ...</td>\n",
       "      <td>2</td>\n",
       "      <td>0.000006</td>\n",
       "    </tr>\n",
       "    <tr>\n",
       "      <th>45</th>\n",
       "      <td>tlg0059</td>\n",
       "      <td>Plato</td>\n",
       "      <td>37</td>\n",
       "      <td>[Euthyphro, Apology, Crito, Phaedo, Cratylus, ...</td>\n",
       "      <td>[tlg0059.tlg001.perseus-grc1.xml, tlg0059.tlg0...</td>\n",
       "      <td>574294</td>\n",
       "      <td>272931</td>\n",
       "      <td>52384</td>\n",
       "      <td>{'-4.5': 0.5, '-3.5': 0.5}</td>\n",
       "      <td>-4.0</td>\n",
       "      <td>pagan</td>\n",
       "      <td>[[ευθ, νέος, Σωκράτης, γίγνομαι, λύκειον, κατα...</td>\n",
       "      <td>[[ευθ], [νέος, Σωκράτης, γίγνομαι, λύκειον, κα...</td>\n",
       "      <td>267</td>\n",
       "      <td>0.000465</td>\n",
       "    </tr>\n",
       "    <tr>\n",
       "      <th>7</th>\n",
       "      <td>tlg0010</td>\n",
       "      <td>Isocrates</td>\n",
       "      <td>30</td>\n",
       "      <td>[Against Euthynus, Against Callimachus, Agains...</td>\n",
       "      <td>[tlg0010.tlg001.perseus-grc2.xml, tlg0010.tlg0...</td>\n",
       "      <td>119155</td>\n",
       "      <td>56497</td>\n",
       "      <td>4681</td>\n",
       "      <td>{'-4.5': 0.5, '-3.5': 0.5}</td>\n",
       "      <td>-4.0</td>\n",
       "      <td>pagan</td>\n",
       "      <td>[[πρόφασις, ἀπορέω, λέγω, νικίου, οὗτος, φίλος...</td>\n",
       "      <td>[[πρόφασις, ἀπορέω, λέγω, νικίου, οὗτος], [φίλ...</td>\n",
       "      <td>43</td>\n",
       "      <td>0.000361</td>\n",
       "    </tr>\n",
       "    <tr>\n",
       "      <th>17</th>\n",
       "      <td>tlg0014</td>\n",
       "      <td>Demosthenes</td>\n",
       "      <td>63</td>\n",
       "      <td>[Ὀλυνθιακὸς α΄, Ὀλυνθιακὸς β΄, Ὀλυνθιακὸς γ΄, ...</td>\n",
       "      <td>[tlg0014.tlg001.perseus-grc2.xml, tlg0014.tlg0...</td>\n",
       "      <td>294362</td>\n",
       "      <td>143390</td>\n",
       "      <td>14564</td>\n",
       "      <td>{'-3.5': 1}</td>\n",
       "      <td>-3.5</td>\n",
       "      <td>pagan</td>\n",
       "      <td>[[πολύς, ἀνήρ, Ἀθηναῖος, χρῆμα, αἱρέω, νομίζω,...</td>\n",
       "      <td>[[πολύς, ἀνήρ, Ἀθηναῖος, χρῆμα, αἱρέω, νομίζω,...</td>\n",
       "      <td>11</td>\n",
       "      <td>0.000037</td>\n",
       "    </tr>\n",
       "    <tr>\n",
       "      <th>63</th>\n",
       "      <td>tlg0086</td>\n",
       "      <td>Aristotle</td>\n",
       "      <td>35</td>\n",
       "      <td>[Aristotelis Analytica Priora et Posteriora, D...</td>\n",
       "      <td>[tlg0086.tlg001.1st1K-grc2.xml, tlg0086.tlg002...</td>\n",
       "      <td>840271</td>\n",
       "      <td>367848</td>\n",
       "      <td>60282</td>\n",
       "      <td>{'-3.5': 1}</td>\n",
       "      <td>-3.5</td>\n",
       "      <td>pagan</td>\n",
       "      <td>[[πρῶτος, λέγω, εἰμί, σκέψις, ἀπόδειξις, ἐπιστ...</td>\n",
       "      <td>[[πρῶτος, λέγω, εἰμί, σκέψις, ἀπόδειξις, ἐπιστ...</td>\n",
       "      <td>162</td>\n",
       "      <td>0.000193</td>\n",
       "    </tr>\n",
       "    <tr>\n",
       "      <th>30</th>\n",
       "      <td>tlg0030</td>\n",
       "      <td>Hyperides</td>\n",
       "      <td>6</td>\n",
       "      <td>[In Defence of Lycophron , Against Philippides...</td>\n",
       "      <td>[tlg0030.tlg001.perseus-grc1.xml, tlg0030.tlg0...</td>\n",
       "      <td>12025</td>\n",
       "      <td>5939</td>\n",
       "      <td>1392</td>\n",
       "      <td>{'-3.5': 1}</td>\n",
       "      <td>-3.5</td>\n",
       "      <td></td>\n",
       "      <td>[[ἴδιος, ἕκαστος, νόμος, ὅρκος, κελεύω, ἀκούω,...</td>\n",
       "      <td>[[], [ἴδιος, ἕκαστος, νόμος, ὅρκος, κελεύω, ἀκ...</td>\n",
       "      <td>1</td>\n",
       "      <td>0.000083</td>\n",
       "    </tr>\n",
       "    <tr>\n",
       "      <th>26</th>\n",
       "      <td>tlg0026</td>\n",
       "      <td>Aeschines</td>\n",
       "      <td>4</td>\n",
       "      <td>[Against Timarchus , The Speech on the Embassy...</td>\n",
       "      <td>[tlg0026.tlg001.perseus-grc1.xml, tlg0026.tlg0...</td>\n",
       "      <td>51409</td>\n",
       "      <td>25086</td>\n",
       "      <td>3469</td>\n",
       "      <td>{'-3.5': 1}</td>\n",
       "      <td>-3.5</td>\n",
       "      <td></td>\n",
       "      <td>[[οὐδείς, πολίτης, ἀνήρ, Ἀθηναῖος, γραφή, γραψ...</td>\n",
       "      <td>[[οὐδείς, πολίτης, ἀνήρ, Ἀθηναῖος, γραφή, γραψ...</td>\n",
       "      <td>4</td>\n",
       "      <td>0.000078</td>\n",
       "    </tr>\n",
       "    <tr>\n",
       "      <th>50</th>\n",
       "      <td>tlg0066</td>\n",
       "      <td>Ps. Dicaearchus</td>\n",
       "      <td>1</td>\n",
       "      <td>[Dicaearchi, ut fertur, potius vero Athenaei D...</td>\n",
       "      <td>[tlg0066.tlg001.1st1K-grc1.xml]</td>\n",
       "      <td>2757</td>\n",
       "      <td>1434</td>\n",
       "      <td>207</td>\n",
       "      <td>{'-3.5': 1}</td>\n",
       "      <td>-3.5</td>\n",
       "      <td></td>\n",
       "      <td>[[Ἀθήναιος, ἔπειμι, ἄστυ, ὁδός, ἡδύς, γεωργουμ...</td>\n",
       "      <td>[[Ἀθήναιος, ἔπειμι, ἄστυ], [ὁδός, ἡδύς, γεωργο...</td>\n",
       "      <td>1</td>\n",
       "      <td>0.000363</td>\n",
       "    </tr>\n",
       "    <tr>\n",
       "      <th>29</th>\n",
       "      <td>tlg0029</td>\n",
       "      <td>Dinarchus</td>\n",
       "      <td>3</td>\n",
       "      <td>[Against Demosthenes , Against Aristogiton , A...</td>\n",
       "      <td>[tlg0029.tlg004.perseus-grc1.xml, tlg0029.tlg0...</td>\n",
       "      <td>12101</td>\n",
       "      <td>5902</td>\n",
       "      <td>1285</td>\n",
       "      <td>{'-3.5': 0.5, '-2.5': 0.5}</td>\n",
       "      <td>-3.0</td>\n",
       "      <td></td>\n",
       "      <td>[[δημαγωγός, Ἀθηναῖος, θάνατος, τετιμημένος, ἐ...</td>\n",
       "      <td>[[δημαγωγός, Ἀθηναῖος, θάνατος, τετιμημένος, ἐ...</td>\n",
       "      <td>3</td>\n",
       "      <td>0.000248</td>\n",
       "    </tr>\n",
       "    <tr>\n",
       "      <th>68</th>\n",
       "      <td>tlg0093</td>\n",
       "      <td>Theophrastus</td>\n",
       "      <td>9</td>\n",
       "      <td>[Concerning Odours, Enquiry into Plants, Enqui...</td>\n",
       "      <td>[tlg0093.ogl001.1st1K-grc1.xml, tlg0093.ogl002...</td>\n",
       "      <td>135499</td>\n",
       "      <td>59617</td>\n",
       "      <td>17454</td>\n",
       "      <td>{'-3.5': 0.5, '-2.5': 0.5}</td>\n",
       "      <td>-3.0</td>\n",
       "      <td>pagan</td>\n",
       "      <td>[[ι, ὀσμή, ὅλος, μίξεώς, χυμός, ἄμικτος, ἅπας,...</td>\n",
       "      <td>[[ι], [ὀσμή, ὅλος, μίξεώς, χυμός], [ἄμικτος, ἅ...</td>\n",
       "      <td>1</td>\n",
       "      <td>0.000007</td>\n",
       "    </tr>\n",
       "    <tr>\n",
       "      <th>155</th>\n",
       "      <td>tlg1264</td>\n",
       "      <td>Chrysippus</td>\n",
       "      <td>1</td>\n",
       "      <td>[Fragmenta Logica et Physica]</td>\n",
       "      <td>[tlg1264.tlg001.1st1K-grc1.xml]</td>\n",
       "      <td>113869</td>\n",
       "      <td>46339</td>\n",
       "      <td>16457</td>\n",
       "      <td>{'-2.5': 1}</td>\n",
       "      <td>-2.5</td>\n",
       "      <td></td>\n",
       "      <td>[[χρύσιππος, Ἀπολλώνιος, σολεὺς, Ταρσεύς, Ἀλέξ...</td>\n",
       "      <td>[[], [], [], [χρύσιππος, Ἀπολλώνιος, σολεὺς, Τ...</td>\n",
       "      <td>13</td>\n",
       "      <td>0.000114</td>\n",
       "    </tr>\n",
       "    <tr>\n",
       "      <th>128</th>\n",
       "      <td>tlg0644</td>\n",
       "      <td>Aristophanes of Byzantium</td>\n",
       "      <td>1</td>\n",
       "      <td>[Historiae Animalium Epitome]</td>\n",
       "      <td>[tlg0644.tlg001.1st1K-grc1.xml]</td>\n",
       "      <td>67782</td>\n",
       "      <td>30376</td>\n",
       "      <td>11886</td>\n",
       "      <td>{'-2.5': 0.5, '-1.5': 0.5}</td>\n",
       "      <td>-2.0</td>\n",
       "      <td></td>\n",
       "      <td>[[συλλογή, ζῷον, ἱστορία, χερσαῖος, πτηνός, θα...</td>\n",
       "      <td>[[συλλογή, ζῷον, ἱστορία, χερσαῖος, πτηνός, θα...</td>\n",
       "      <td>1</td>\n",
       "      <td>0.000015</td>\n",
       "    </tr>\n",
       "    <tr>\n",
       "      <th>92</th>\n",
       "      <td>tlg0543</td>\n",
       "      <td>Polybius</td>\n",
       "      <td>1</td>\n",
       "      <td>[Histories]</td>\n",
       "      <td>[tlg0543.tlg001.perseus-grc2.xml]</td>\n",
       "      <td>312715</td>\n",
       "      <td>149727</td>\n",
       "      <td>12964</td>\n",
       "      <td>{'-2.5': 0.5, '-1.5': 0.5}</td>\n",
       "      <td>-2.0</td>\n",
       "      <td>pagan</td>\n",
       "      <td>[[ἀναγράφω, πρᾶξις, παραλείπω, συμβαίνω, ἱστορ...</td>\n",
       "      <td>[[ἀναγράφω, πρᾶξις, παραλείπω, συμβαίνω, ἱστορ...</td>\n",
       "      <td>1</td>\n",
       "      <td>0.000003</td>\n",
       "    </tr>\n",
       "    <tr>\n",
       "      <th>51</th>\n",
       "      <td>tlg0067</td>\n",
       "      <td>Agatharchides</td>\n",
       "      <td>1</td>\n",
       "      <td>[Ex Agatharchidis De Maris Erythraeo Libri Exc...</td>\n",
       "      <td>[tlg0067.tlg001.1st1K-grc1.xml]</td>\n",
       "      <td>24227</td>\n",
       "      <td>12518</td>\n",
       "      <td>1430</td>\n",
       "      <td>{'-1.5': 1}</td>\n",
       "      <td>-1.5</td>\n",
       "      <td></td>\n",
       "      <td>[[ἐρυθρός, θάλασσα, ἐκλογή, ἀνεγνώσθησαν, ἀγαθ...</td>\n",
       "      <td>[[ἐρυθρός, θάλασσα, ἐκλογή], [ἀνεγνώσθησαν, ἀγ...</td>\n",
       "      <td>1</td>\n",
       "      <td>0.000041</td>\n",
       "    </tr>\n",
       "    <tr>\n",
       "      <th>168</th>\n",
       "      <td>tlg1463</td>\n",
       "      <td>Liber Enoch</td>\n",
       "      <td>1</td>\n",
       "      <td>[Apocalypsis Enochi]</td>\n",
       "      <td>[tlg1463.tlg001.opp-grc1.xml]</td>\n",
       "      <td>10916</td>\n",
       "      <td>3758</td>\n",
       "      <td>1356</td>\n",
       "      <td>{'-1.5': 0.5, '-0.5': 0.5}</td>\n",
       "      <td>-1.0</td>\n",
       "      <td></td>\n",
       "      <td>[[λόγος, εὐλογία, ἐνώχ, εὐλογέω, ἐκλεκτός, δίκ...</td>\n",
       "      <td>[[λόγος, εὐλογία, ἐνώχ, εὐλογέω, ἐκλεκτός, δίκ...</td>\n",
       "      <td>7</td>\n",
       "      <td>0.000641</td>\n",
       "    </tr>\n",
       "    <tr>\n",
       "      <th>172</th>\n",
       "      <td>tlg1551</td>\n",
       "      <td>Oracula Sibyllina</td>\n",
       "      <td>2</td>\n",
       "      <td>[Oracula, Fragmenta]</td>\n",
       "      <td>[tlg1551.tlg001.opp-grc1.xml, tlg1551.tlg002.o...</td>\n",
       "      <td>75378</td>\n",
       "      <td>33406</td>\n",
       "      <td>20577</td>\n",
       "      <td>{'-1.5': 0.1667, '-0.5': 0.1667, '0.5': 0.1667...</td>\n",
       "      <td>-1.0</td>\n",
       "      <td></td>\n",
       "      <td>[[ἀνάγνωσις, Ἑλληνικός, γραφή, ἐκπονέω, πολύς,...</td>\n",
       "      <td>[[ἀνάγνωσις, Ἑλληνικός, γραφή, ἐκπονέω, πολύς,...</td>\n",
       "      <td>2</td>\n",
       "      <td>0.000027</td>\n",
       "    </tr>\n",
       "    <tr>\n",
       "      <th>173</th>\n",
       "      <td>tlg1595</td>\n",
       "      <td>Philodemus</td>\n",
       "      <td>2</td>\n",
       "      <td>[De Musica Librorum Quae Exstant, Volumina Rhe...</td>\n",
       "      <td>[tlg1595.tlg221.1st1K-grc1.xml, tlg1595.tlg370...</td>\n",
       "      <td>27090</td>\n",
       "      <td>10261</td>\n",
       "      <td>6415</td>\n",
       "      <td>{'-0.5': 1}</td>\n",
       "      <td>-0.5</td>\n",
       "      <td></td>\n",
       "      <td>[[εἰμί, σικὴν, εὐλάβεια, δέω, πᾶς, εἰκών, ἁμαρ...</td>\n",
       "      <td>[[], [], [], [], [εἰμί, σικὴν], [εὐλάβεια], []...</td>\n",
       "      <td>1</td>\n",
       "      <td>0.000037</td>\n",
       "    </tr>\n",
       "    <tr>\n",
       "      <th>46</th>\n",
       "      <td>tlg0060</td>\n",
       "      <td>Diodorus Siculus</td>\n",
       "      <td>1</td>\n",
       "      <td>[Library (Greek). Machine readable text]</td>\n",
       "      <td>[tlg0060.tlg001.perseus-grc3.xml]</td>\n",
       "      <td>182969</td>\n",
       "      <td>96152</td>\n",
       "      <td>8491</td>\n",
       "      <td>{'-0.5': 1}</td>\n",
       "      <td>-0.5</td>\n",
       "      <td></td>\n",
       "      <td>[[Ξέρξης, διάβασις, Εὐρώπη, μάχη, Θερμοπύλαι, ...</td>\n",
       "      <td>[[Ξέρξης, διάβασις, Εὐρώπη], [μάχη, Θερμοπύλαι...</td>\n",
       "      <td>6</td>\n",
       "      <td>0.000033</td>\n",
       "    </tr>\n",
       "    <tr>\n",
       "      <th>154</th>\n",
       "      <td>tlg1252</td>\n",
       "      <td>Certamen Homeri et Hesiodi</td>\n",
       "      <td>1</td>\n",
       "      <td>[Certamen Homeri et Hesiodi]</td>\n",
       "      <td>[tlg1252.tlg002.1st1K-grc1.xml]</td>\n",
       "      <td>3159</td>\n",
       "      <td>1641</td>\n",
       "      <td>504</td>\n",
       "      <td>{'-2.5': 0.5, '1.5': 0.5}</td>\n",
       "      <td>-0.5</td>\n",
       "      <td></td>\n",
       "      <td>[[α, ὅμηρος, Ἡσίοδος, θεῖος, ποιητός, ἄνθρωπος...</td>\n",
       "      <td>[[], [], [α], [], [], [], [], [], [], [], [ὅμη...</td>\n",
       "      <td>1</td>\n",
       "      <td>0.000317</td>\n",
       "    </tr>\n",
       "    <tr>\n",
       "      <th>58</th>\n",
       "      <td>tlg0081</td>\n",
       "      <td>Dionysius of Halicarnassus</td>\n",
       "      <td>13</td>\n",
       "      <td>[Antiquitates Romanae, Books I-XX, De antiquis...</td>\n",
       "      <td>[tlg0081.tlg001.perseus-grc1.xml, tlg0081.tlg0...</td>\n",
       "      <td>379979</td>\n",
       "      <td>195769</td>\n",
       "      <td>15448</td>\n",
       "      <td>{'-0.5': 1}</td>\n",
       "      <td>-0.5</td>\n",
       "      <td></td>\n",
       "      <td>[[ἔθω, ἀποδίδωμι, προοίμιον, ἱστορία, λόγος, β...</td>\n",
       "      <td>[[ἔθω, ἀποδίδωμι, προοίμιον, ἱστορία, λόγος, β...</td>\n",
       "      <td>20</td>\n",
       "      <td>0.000053</td>\n",
       "    </tr>\n",
       "    <tr>\n",
       "      <th>118</th>\n",
       "      <td>tlg0613</td>\n",
       "      <td>Demetrius of Phaleron (attributed author)</td>\n",
       "      <td>1</td>\n",
       "      <td>[Libro de Elocutione]</td>\n",
       "      <td>[tlg0613.tlg001.perseus-grc1.xml]</td>\n",
       "      <td>15450</td>\n",
       "      <td>7507</td>\n",
       "      <td>960</td>\n",
       "      <td>{'-0.5': 0.5, '0.5': 0.5}</td>\n",
       "      <td>0.0</td>\n",
       "      <td></td>\n",
       "      <td>[[ποίησις, διαιρέω, μέτρον, οἷος, ἡμιμέτροις, ...</td>\n",
       "      <td>[[ποίησις, διαιρέω, μέτρον, οἷος, ἡμιμέτροις, ...</td>\n",
       "      <td>1</td>\n",
       "      <td>0.000065</td>\n",
       "    </tr>\n",
       "    <tr>\n",
       "      <th>21</th>\n",
       "      <td>tlg0018</td>\n",
       "      <td>Philo Judaeus</td>\n",
       "      <td>31</td>\n",
       "      <td>[De opificio mundi, Legum allegoriarum libri i...</td>\n",
       "      <td>[tlg0018.tlg001.opp-grc1.xml, tlg0018.tlg002.o...</td>\n",
       "      <td>643011</td>\n",
       "      <td>304615</td>\n",
       "      <td>82966</td>\n",
       "      <td>{'-0.5': 0.5, '0.5': 0.5}</td>\n",
       "      <td>0.0</td>\n",
       "      <td>jewish</td>\n",
       "      <td>[[ἄλλος, νομοθέτης, ἀκαλλώπιστος, γυμνός, νομι...</td>\n",
       "      <td>[[ἄλλος, νομοθέτης, ἀκαλλώπιστος, γυμνός, νομι...</td>\n",
       "      <td>157</td>\n",
       "      <td>0.000244</td>\n",
       "    </tr>\n",
       "    <tr>\n",
       "      <th>71</th>\n",
       "      <td>tlg0099</td>\n",
       "      <td>Strabo</td>\n",
       "      <td>1</td>\n",
       "      <td>[Geography]</td>\n",
       "      <td>[tlg0099.tlg001.perseus-grc2.xml]</td>\n",
       "      <td>288401</td>\n",
       "      <td>139516</td>\n",
       "      <td>16245</td>\n",
       "      <td>{'-0.5': 0.5, '0.5': 0.5}</td>\n",
       "      <td>0.0</td>\n",
       "      <td>pagan</td>\n",
       "      <td>[[φιλόσοφος, πραγματεία, εἰμί, νομίζω, ἄλλος, ...</td>\n",
       "      <td>[[φιλόσοφος, πραγματεία, εἰμί, νομίζω, ἄλλος, ...</td>\n",
       "      <td>5</td>\n",
       "      <td>0.000017</td>\n",
       "    </tr>\n",
       "    <tr>\n",
       "      <th>123</th>\n",
       "      <td>tlg0628</td>\n",
       "      <td>Musonius Rufus</td>\n",
       "      <td>2</td>\n",
       "      <td>[Fragmenta minora, Epistulae spuriae]</td>\n",
       "      <td>[tlg0628.tlg002.1st1K-grc1.xml, tlg0628.tlg003...</td>\n",
       "      <td>2518</td>\n",
       "      <td>1153</td>\n",
       "      <td>129</td>\n",
       "      <td>{'0.5': 1}</td>\n",
       "      <td>0.5</td>\n",
       "      <td></td>\n",
       "      <td>[[ἐνεστηκυῖαν, ἡμέρα, βιόω, προθέμενον, ἔσχατο...</td>\n",
       "      <td>[[ἐνεστηκυῖαν, ἡμέρα, βιόω, προθέμενον, ἔσχατο...</td>\n",
       "      <td>1</td>\n",
       "      <td>0.000397</td>\n",
       "    </tr>\n",
       "    <tr>\n",
       "      <th>31</th>\n",
       "      <td>tlg0031matt</td>\n",
       "      <td>Matthew</td>\n",
       "      <td>1</td>\n",
       "      <td>[Matthew]</td>\n",
       "      <td>[tlg0031.tlg001.perseus-grc2.xml]</td>\n",
       "      <td>18288</td>\n",
       "      <td>8526</td>\n",
       "      <td>1276</td>\n",
       "      <td>{'0.5': 1}</td>\n",
       "      <td>0.5</td>\n",
       "      <td>christian</td>\n",
       "      <td>[[βίβλος, γένεσις, Ἰησοῦς, Χριστός, υἱός, Δαυί...</td>\n",
       "      <td>[[βίβλος, γένεσις, Ἰησοῦς, Χριστός, υἱός, Δαυί...</td>\n",
       "      <td>7</td>\n",
       "      <td>0.000383</td>\n",
       "    </tr>\n",
       "  </tbody>\n",
       "</table>\n",
       "</div>"
      ],
      "text/plain": [
       "       author_id                                     author  n_titles  \\\n",
       "70       tlg0096                                      Aesop         1   \n",
       "1        tlg0003                                 Thucydides         1   \n",
       "19       tlg0016                                  Herodotus         1   \n",
       "89       tlg0540                                     Lysias        34   \n",
       "38       tlg0032                                   Xenophon        14   \n",
       "122      tlg0627                                Hippocrates        52   \n",
       "45       tlg0059                                      Plato        37   \n",
       "7        tlg0010                                  Isocrates        30   \n",
       "17       tlg0014                                Demosthenes        63   \n",
       "63       tlg0086                                  Aristotle        35   \n",
       "30       tlg0030                                  Hyperides         6   \n",
       "26       tlg0026                                  Aeschines         4   \n",
       "50       tlg0066                            Ps. Dicaearchus         1   \n",
       "29       tlg0029                                  Dinarchus         3   \n",
       "68       tlg0093                               Theophrastus         9   \n",
       "155      tlg1264                                 Chrysippus         1   \n",
       "128      tlg0644                  Aristophanes of Byzantium         1   \n",
       "92       tlg0543                                   Polybius         1   \n",
       "51       tlg0067                              Agatharchides         1   \n",
       "168      tlg1463                                Liber Enoch         1   \n",
       "172      tlg1551                          Oracula Sibyllina         2   \n",
       "173      tlg1595                                 Philodemus         2   \n",
       "46       tlg0060                           Diodorus Siculus         1   \n",
       "154      tlg1252                 Certamen Homeri et Hesiodi         1   \n",
       "58       tlg0081                 Dionysius of Halicarnassus        13   \n",
       "118      tlg0613  Demetrius of Phaleron (attributed author)         1   \n",
       "21       tlg0018                              Philo Judaeus        31   \n",
       "71       tlg0099                                     Strabo         1   \n",
       "123      tlg0628                             Musonius Rufus         2   \n",
       "31   tlg0031matt                                    Matthew         1   \n",
       "\n",
       "                                                titles  \\\n",
       "70                                           [Fabulae]   \n",
       "1                              [The Peloponnesian War]   \n",
       "19                                     [The Histories]   \n",
       "89   [On the Murder of Eratosthenes, Funeral Oratio...   \n",
       "38   [Hellenica, Memorabilia, Economics, Symposium,...   \n",
       "122  [On Ancient Medicine, De aere aquis et locis ,...   \n",
       "45   [Euthyphro, Apology, Crito, Phaedo, Cratylus, ...   \n",
       "7    [Against Euthynus, Against Callimachus, Agains...   \n",
       "17   [Ὀλυνθιακὸς α΄, Ὀλυνθιακὸς β΄, Ὀλυνθιακὸς γ΄, ...   \n",
       "63   [Aristotelis Analytica Priora et Posteriora, D...   \n",
       "30   [In Defence of Lycophron , Against Philippides...   \n",
       "26   [Against Timarchus , The Speech on the Embassy...   \n",
       "50   [Dicaearchi, ut fertur, potius vero Athenaei D...   \n",
       "29   [Against Demosthenes , Against Aristogiton , A...   \n",
       "68   [Concerning Odours, Enquiry into Plants, Enqui...   \n",
       "155                      [Fragmenta Logica et Physica]   \n",
       "128                      [Historiae Animalium Epitome]   \n",
       "92                                         [Histories]   \n",
       "51   [Ex Agatharchidis De Maris Erythraeo Libri Exc...   \n",
       "168                               [Apocalypsis Enochi]   \n",
       "172                               [Oracula, Fragmenta]   \n",
       "173  [De Musica Librorum Quae Exstant, Volumina Rhe...   \n",
       "46            [Library (Greek). Machine readable text]   \n",
       "154                       [Certamen Homeri et Hesiodi]   \n",
       "58   [Antiquitates Romanae, Books I-XX, De antiquis...   \n",
       "118                              [Libro de Elocutione]   \n",
       "21   [De opificio mundi, Legum allegoriarum libri i...   \n",
       "71                                         [Geography]   \n",
       "123              [Fragmenta minora, Epistulae spuriae]   \n",
       "31                                           [Matthew]   \n",
       "\n",
       "                                             filenames  wordcount  \\\n",
       "70                   [tlg0096.tlg002.First1K-grc1.xml]      39492   \n",
       "1                    [tlg0003.tlg001.perseus-grc2.xml]     150118   \n",
       "19                   [tlg0016.tlg001.perseus-grc2.xml]     184947   \n",
       "89   [tlg0540.tlg001.perseus-grc2.xml, tlg0540.tlg0...      58875   \n",
       "38   [tlg0032.tlg001.perseus-grc2.xml, tlg0032.tlg0...     312187   \n",
       "122  [tlg0627.tlg001.perseus-grc1.xml, tlg0627.tlg0...     333443   \n",
       "45   [tlg0059.tlg001.perseus-grc1.xml, tlg0059.tlg0...     574294   \n",
       "7    [tlg0010.tlg001.perseus-grc2.xml, tlg0010.tlg0...     119155   \n",
       "17   [tlg0014.tlg001.perseus-grc2.xml, tlg0014.tlg0...     294362   \n",
       "63   [tlg0086.tlg001.1st1K-grc2.xml, tlg0086.tlg002...     840271   \n",
       "30   [tlg0030.tlg001.perseus-grc1.xml, tlg0030.tlg0...      12025   \n",
       "26   [tlg0026.tlg001.perseus-grc1.xml, tlg0026.tlg0...      51409   \n",
       "50                     [tlg0066.tlg001.1st1K-grc1.xml]       2757   \n",
       "29   [tlg0029.tlg004.perseus-grc1.xml, tlg0029.tlg0...      12101   \n",
       "68   [tlg0093.ogl001.1st1K-grc1.xml, tlg0093.ogl002...     135499   \n",
       "155                    [tlg1264.tlg001.1st1K-grc1.xml]     113869   \n",
       "128                    [tlg0644.tlg001.1st1K-grc1.xml]      67782   \n",
       "92                   [tlg0543.tlg001.perseus-grc2.xml]     312715   \n",
       "51                     [tlg0067.tlg001.1st1K-grc1.xml]      24227   \n",
       "168                      [tlg1463.tlg001.opp-grc1.xml]      10916   \n",
       "172  [tlg1551.tlg001.opp-grc1.xml, tlg1551.tlg002.o...      75378   \n",
       "173  [tlg1595.tlg221.1st1K-grc1.xml, tlg1595.tlg370...      27090   \n",
       "46                   [tlg0060.tlg001.perseus-grc3.xml]     182969   \n",
       "154                    [tlg1252.tlg002.1st1K-grc1.xml]       3159   \n",
       "58   [tlg0081.tlg001.perseus-grc1.xml, tlg0081.tlg0...     379979   \n",
       "118                  [tlg0613.tlg001.perseus-grc1.xml]      15450   \n",
       "21   [tlg0018.tlg001.opp-grc1.xml, tlg0018.tlg002.o...     643011   \n",
       "71                   [tlg0099.tlg001.perseus-grc2.xml]     288401   \n",
       "123  [tlg0628.tlg002.1st1K-grc1.xml, tlg0628.tlg003...       2518   \n",
       "31                   [tlg0031.tlg001.perseus-grc2.xml]      18288   \n",
       "\n",
       "     lemmata_wordcount  n_sentences  \\\n",
       "70               21577         3333   \n",
       "1                71863         6068   \n",
       "19               94799        10149   \n",
       "89               28254         4258   \n",
       "38              150357        18988   \n",
       "122             171332        24456   \n",
       "45              272931        52384   \n",
       "7                56497         4681   \n",
       "17              143390        14564   \n",
       "63              367848        60282   \n",
       "30                5939         1392   \n",
       "26               25086         3469   \n",
       "50                1434          207   \n",
       "29                5902         1285   \n",
       "68               59617        17454   \n",
       "155              46339        16457   \n",
       "128              30376        11886   \n",
       "92              149727        12964   \n",
       "51               12518         1430   \n",
       "168               3758         1356   \n",
       "172              33406        20577   \n",
       "173              10261         6415   \n",
       "46               96152         8491   \n",
       "154               1641          504   \n",
       "58              195769        15448   \n",
       "118               7507          960   \n",
       "21              304615        82966   \n",
       "71              139516        16245   \n",
       "123               1153          129   \n",
       "31                8526         1276   \n",
       "\n",
       "                                            date_probs  date_avr provenience  \\\n",
       "70                                         {'-5.5': 1}      -5.5       pagan   \n",
       "1                                          {'-4.5': 1}      -4.5       pagan   \n",
       "19                                         {'-4.5': 1}      -4.5       pagan   \n",
       "89                          {'-4.5': 0.5, '-3.5': 0.5}      -4.0       pagan   \n",
       "38                          {'-4.5': 0.5, '-3.5': 0.5}      -4.0       pagan   \n",
       "122                         {'-4.5': 0.5, '-3.5': 0.5}      -4.0       pagan   \n",
       "45                          {'-4.5': 0.5, '-3.5': 0.5}      -4.0       pagan   \n",
       "7                           {'-4.5': 0.5, '-3.5': 0.5}      -4.0       pagan   \n",
       "17                                         {'-3.5': 1}      -3.5       pagan   \n",
       "63                                         {'-3.5': 1}      -3.5       pagan   \n",
       "30                                         {'-3.5': 1}      -3.5               \n",
       "26                                         {'-3.5': 1}      -3.5               \n",
       "50                                         {'-3.5': 1}      -3.5               \n",
       "29                          {'-3.5': 0.5, '-2.5': 0.5}      -3.0               \n",
       "68                          {'-3.5': 0.5, '-2.5': 0.5}      -3.0       pagan   \n",
       "155                                        {'-2.5': 1}      -2.5               \n",
       "128                         {'-2.5': 0.5, '-1.5': 0.5}      -2.0               \n",
       "92                          {'-2.5': 0.5, '-1.5': 0.5}      -2.0       pagan   \n",
       "51                                         {'-1.5': 1}      -1.5               \n",
       "168                         {'-1.5': 0.5, '-0.5': 0.5}      -1.0               \n",
       "172  {'-1.5': 0.1667, '-0.5': 0.1667, '0.5': 0.1667...      -1.0               \n",
       "173                                        {'-0.5': 1}      -0.5               \n",
       "46                                         {'-0.5': 1}      -0.5               \n",
       "154                          {'-2.5': 0.5, '1.5': 0.5}      -0.5               \n",
       "58                                         {'-0.5': 1}      -0.5               \n",
       "118                          {'-0.5': 0.5, '0.5': 0.5}       0.0               \n",
       "21                           {'-0.5': 0.5, '0.5': 0.5}       0.0      jewish   \n",
       "71                           {'-0.5': 0.5, '0.5': 0.5}       0.0       pagan   \n",
       "123                                         {'0.5': 1}       0.5               \n",
       "31                                          {'0.5': 1}       0.5   christian   \n",
       "\n",
       "                                         lemmata_lists  \\\n",
       "70   [[ἀγαθός, πᾶς, κακός, διώκω, ἀσθενής, εἰμί, οὐ...   \n",
       "1    [[θουκυδίδης, Ἀθηναῖος, συγγράφω, πόλεμος, Πελ...   \n",
       "19   [[Ἡρόδοτος, Ἁλικαρνασσεύς, ἱστορία, ἀπόδειξις,...   \n",
       "89   [[πολύς, ποιέω, ἀνήρ, τοιοῦτος, δικαστής, οὗτο...   \n",
       "38   [[οὗτος, πολύς, ἡμέρα, ὕστερος, ἔρχομαι, Ἀθῆνα...   \n",
       "122  [[ὁπόσος, ἐπιχειρέω, ἰητρικῆς, λέγω, γράφω, ὑπ...   \n",
       "45   [[ευθ, νέος, Σωκράτης, γίγνομαι, λύκειον, κατα...   \n",
       "7    [[πρόφασις, ἀπορέω, λέγω, νικίου, οὗτος, φίλος...   \n",
       "17   [[πολύς, ἀνήρ, Ἀθηναῖος, χρῆμα, αἱρέω, νομίζω,...   \n",
       "63   [[πρῶτος, λέγω, εἰμί, σκέψις, ἀπόδειξις, ἐπιστ...   \n",
       "30   [[ἴδιος, ἕκαστος, νόμος, ὅρκος, κελεύω, ἀκούω,...   \n",
       "26   [[οὐδείς, πολίτης, ἀνήρ, Ἀθηναῖος, γραφή, γραψ...   \n",
       "50   [[Ἀθήναιος, ἔπειμι, ἄστυ, ὁδός, ἡδύς, γεωργουμ...   \n",
       "29   [[δημαγωγός, Ἀθηναῖος, θάνατος, τετιμημένος, ἐ...   \n",
       "68   [[ι, ὀσμή, ὅλος, μίξεώς, χυμός, ἄμικτος, ἅπας,...   \n",
       "155  [[χρύσιππος, Ἀπολλώνιος, σολεὺς, Ταρσεύς, Ἀλέξ...   \n",
       "128  [[συλλογή, ζῷον, ἱστορία, χερσαῖος, πτηνός, θα...   \n",
       "92   [[ἀναγράφω, πρᾶξις, παραλείπω, συμβαίνω, ἱστορ...   \n",
       "51   [[ἐρυθρός, θάλασσα, ἐκλογή, ἀνεγνώσθησαν, ἀγαθ...   \n",
       "168  [[λόγος, εὐλογία, ἐνώχ, εὐλογέω, ἐκλεκτός, δίκ...   \n",
       "172  [[ἀνάγνωσις, Ἑλληνικός, γραφή, ἐκπονέω, πολύς,...   \n",
       "173  [[εἰμί, σικὴν, εὐλάβεια, δέω, πᾶς, εἰκών, ἁμαρ...   \n",
       "46   [[Ξέρξης, διάβασις, Εὐρώπη, μάχη, Θερμοπύλαι, ...   \n",
       "154  [[α, ὅμηρος, Ἡσίοδος, θεῖος, ποιητός, ἄνθρωπος...   \n",
       "58   [[ἔθω, ἀποδίδωμι, προοίμιον, ἱστορία, λόγος, β...   \n",
       "118  [[ποίησις, διαιρέω, μέτρον, οἷος, ἡμιμέτροις, ...   \n",
       "21   [[ἄλλος, νομοθέτης, ἀκαλλώπιστος, γυμνός, νομι...   \n",
       "71   [[φιλόσοφος, πραγματεία, εἰμί, νομίζω, ἄλλος, ...   \n",
       "123  [[ἐνεστηκυῖαν, ἡμέρα, βιόω, προθέμενον, ἔσχατο...   \n",
       "31   [[βίβλος, γένεσις, Ἰησοῦς, Χριστός, υἱός, Δαυί...   \n",
       "\n",
       "                                  lemmatized_sentences  dikaiosyne_N  \\\n",
       "70   [[ἀγαθός, πᾶς, κακός, διώκω, ἀσθενής, εἰμί], [...             2   \n",
       "1    [[θουκυδίδης, Ἀθηναῖος, συγγράφω, πόλεμος, Πελ...             1   \n",
       "19   [[Ἡρόδοτος, Ἁλικαρνασσεύς, ἱστορία, ἀπόδειξις,...             8   \n",
       "89   [[πολύς, ποιέω, ἀνήρ, τοιοῦτος, δικαστής, οὗτο...             2   \n",
       "38   [[οὗτος, πολύς, ἡμέρα, ὕστερος, ἔρχομαι, Ἀθῆνα...            35   \n",
       "122  [[ὁπόσος, ἐπιχειρέω, ἰητρικῆς, λέγω, γράφω, ὑπ...             2   \n",
       "45   [[ευθ], [νέος, Σωκράτης, γίγνομαι, λύκειον, κα...           267   \n",
       "7    [[πρόφασις, ἀπορέω, λέγω, νικίου, οὗτος], [φίλ...            43   \n",
       "17   [[πολύς, ἀνήρ, Ἀθηναῖος, χρῆμα, αἱρέω, νομίζω,...            11   \n",
       "63   [[πρῶτος, λέγω, εἰμί, σκέψις, ἀπόδειξις, ἐπιστ...           162   \n",
       "30   [[], [ἴδιος, ἕκαστος, νόμος, ὅρκος, κελεύω, ἀκ...             1   \n",
       "26   [[οὐδείς, πολίτης, ἀνήρ, Ἀθηναῖος, γραφή, γραψ...             4   \n",
       "50   [[Ἀθήναιος, ἔπειμι, ἄστυ], [ὁδός, ἡδύς, γεωργο...             1   \n",
       "29   [[δημαγωγός, Ἀθηναῖος, θάνατος, τετιμημένος, ἐ...             3   \n",
       "68   [[ι], [ὀσμή, ὅλος, μίξεώς, χυμός], [ἄμικτος, ἅ...             1   \n",
       "155  [[], [], [], [χρύσιππος, Ἀπολλώνιος, σολεὺς, Τ...            13   \n",
       "128  [[συλλογή, ζῷον, ἱστορία, χερσαῖος, πτηνός, θα...             1   \n",
       "92   [[ἀναγράφω, πρᾶξις, παραλείπω, συμβαίνω, ἱστορ...             1   \n",
       "51   [[ἐρυθρός, θάλασσα, ἐκλογή], [ἀνεγνώσθησαν, ἀγ...             1   \n",
       "168  [[λόγος, εὐλογία, ἐνώχ, εὐλογέω, ἐκλεκτός, δίκ...             7   \n",
       "172  [[ἀνάγνωσις, Ἑλληνικός, γραφή, ἐκπονέω, πολύς,...             2   \n",
       "173  [[], [], [], [], [εἰμί, σικὴν], [εὐλάβεια], []...             1   \n",
       "46   [[Ξέρξης, διάβασις, Εὐρώπη], [μάχη, Θερμοπύλαι...             6   \n",
       "154  [[], [], [α], [], [], [], [], [], [], [], [ὅμη...             1   \n",
       "58   [[ἔθω, ἀποδίδωμι, προοίμιον, ἱστορία, λόγος, β...            20   \n",
       "118  [[ποίησις, διαιρέω, μέτρον, οἷος, ἡμιμέτροις, ...             1   \n",
       "21   [[ἄλλος, νομοθέτης, ἀκαλλώπιστος, γυμνός, νομι...           157   \n",
       "71   [[φιλόσοφος, πραγματεία, εἰμί, νομίζω, ἄλλος, ...             5   \n",
       "123  [[ἐνεστηκυῖαν, ἡμέρα, βιόω, προθέμενον, ἔσχατο...             1   \n",
       "31   [[βίβλος, γένεσις, Ἰησοῦς, Χριστός, υἱός, Δαυί...             7   \n",
       "\n",
       "     dikaiosyne_TF  \n",
       "70        0.000051  \n",
       "1         0.000007  \n",
       "19        0.000043  \n",
       "89        0.000034  \n",
       "38        0.000112  \n",
       "122       0.000006  \n",
       "45        0.000465  \n",
       "7         0.000361  \n",
       "17        0.000037  \n",
       "63        0.000193  \n",
       "30        0.000083  \n",
       "26        0.000078  \n",
       "50        0.000363  \n",
       "29        0.000248  \n",
       "68        0.000007  \n",
       "155       0.000114  \n",
       "128       0.000015  \n",
       "92        0.000003  \n",
       "51        0.000041  \n",
       "168       0.000641  \n",
       "172       0.000027  \n",
       "173       0.000037  \n",
       "46        0.000033  \n",
       "154       0.000317  \n",
       "58        0.000053  \n",
       "118       0.000065  \n",
       "21        0.000244  \n",
       "71        0.000017  \n",
       "123       0.000397  \n",
       "31        0.000383  "
      ]
     },
     "execution_count": 34,
     "metadata": {},
     "output_type": "execute_result"
    }
   ],
   "source": [
    "authors_df[authors_df[\"dikaiosyne_N\"]>0].sort_values(\"date_avr\").head(30)"
   ]
  },
  {
   "cell_type": "markdown",
   "metadata": {},
   "source": [
    "# Networks for authors"
   ]
  },
  {
   "cell_type": "code",
   "execution_count": 251,
   "metadata": {},
   "outputs": [
    {
     "data": {
      "text/html": [
       "        <script type=\"text/javascript\">\n",
       "        window.PlotlyConfig = {MathJaxConfig: 'local'};\n",
       "        if (window.MathJax) {MathJax.Hub.Config({SVG: {font: \"STIX-Web\"}});}\n",
       "        if (typeof require !== 'undefined') {\n",
       "        require.undef(\"plotly\");\n",
       "        requirejs.config({\n",
       "            paths: {\n",
       "                'plotly': ['https://cdn.plot.ly/plotly-latest.min']\n",
       "            }\n",
       "        });\n",
       "        require(['plotly'], function(Plotly) {\n",
       "            window._Plotly = Plotly;\n",
       "        });\n",
       "        }\n",
       "        </script>\n",
       "        "
      ]
     },
     "metadata": {},
     "output_type": "display_data"
    },
    {
     "data": {
      "text/plain": [
       "<module 'textnet' from '/home/kasev/ECCE_AGT/scripts/textnet.py'>"
      ]
     },
     "execution_count": 251,
     "metadata": {},
     "output_type": "execute_result"
    }
   ],
   "source": [
    "reload(textnet)"
   ]
  },
  {
   "cell_type": "code",
   "execution_count": 199,
   "metadata": {},
   "outputs": [
    {
     "name": "stdout",
     "output_type": "stream",
     "text": [
      "CPU times: user 23min 19s, sys: 1min 3s, total: 24min 22s\n",
      "Wall time: 24min 23s\n"
     ]
    }
   ],
   "source": [
    "%%time\n",
    "nx_from_sentences = authors_df[\"lemmatized_sentences\"].apply(textnet.network_from_sentences)\n",
    "nx_from_lemmata = authors_df[\"lemmata_lists\"].apply(textnet.network_from_lemmata_lists)"
   ]
  },
  {
   "cell_type": "code",
   "execution_count": 200,
   "metadata": {},
   "outputs": [],
   "source": [
    "authors_df[\"G_sents\"] = nx_from_sentences\n",
    "authors_df[\"G_lems\"] = nx_from_lemmata"
   ]
  },
  {
   "cell_type": "code",
   "execution_count": 238,
   "metadata": {},
   "outputs": [],
   "source": [
    "def get_nn(source_network, source_node, per_level=5):\n",
    "    return [(source_node, n[0]) for n in sorted(source_network[source_node].items(), key=lambda edge: edge[1]['weight'], reverse=True)][:per_level]\n",
    "\n",
    "def construct_association_network(source_network, source_term, per_level=5):\n",
    "    assoc_edges = [] \n",
    "    assoc_edges.extend(get_nn(source_network, source_term, per_level))\n",
    "    neighbors = [e[1] for e in assoc_edges]\n",
    "    for nn in neighbors:\n",
    "        assoc_edges.extend(get_nn(source_network, nn))\n",
    "\n",
    "    assoc_network = source_network.copy(as_view=False)\n",
    "    edges_to_remove = []\n",
    "    for edge in assoc_network.edges():\n",
    "        if edge not in assoc_edges:\n",
    "            if (edge[1],edge[0]) not in assoc_edges:\n",
    "                edges_to_remove.append(edge)\n",
    "    assoc_network.remove_edges_from(edges_to_remove)\n",
    "    isolates = nx.isolates(assoc_network)\n",
    "    assoc_network.remove_nodes_from([n for n in isolates])\n",
    "    return assoc_network"
   ]
  },
  {
   "cell_type": "code",
   "execution_count": 240,
   "metadata": {},
   "outputs": [
    {
     "data": {
      "text/plain": [
       "NodeView(('φιλαργυρία', 'κύριος', 'πᾶς', 'οἶδα', 'εἰμί', 'ετ', 'οὗτος', 'ἀγαπάω', 'ἐγείρω', 'δικαιοσύνη', 'ἁγνεία', 'ἐντολή', 'θεός', 'πίστις', 'κρίσις'))"
      ]
     },
     "execution_count": 240,
     "metadata": {},
     "output_type": "execute_result"
    }
   ],
   "source": [
    "construct_association_network(authors_df.iloc[0][\"G_sents\"], \"δικαιοσύνη\").nodes()"
   ]
  },
  {
   "cell_type": "code",
   "execution_count": 252,
   "metadata": {},
   "outputs": [],
   "source": [
    "def assoc_network(G):\n",
    "    try:\n",
    "        G_assoc = textnet.construct_association_network(G, \"δικαιοσύνη\")\n",
    "    except:\n",
    "        G_assoc = nx.Graph()\n",
    "        G_assoc.clear()\n",
    "    return G_assoc"
   ]
  },
  {
   "cell_type": "code",
   "execution_count": 253,
   "metadata": {},
   "outputs": [],
   "source": [
    "authors_df[\"dikaiosyne_G_sents\"] = authors_df[\"G_sents\"].apply(assoc_network)\n",
    "authors_df[\"dikaiosyne_G_lems\"] = authors_df[\"G_lems\"].apply(assoc_network)"
   ]
  },
  {
   "cell_type": "code",
   "execution_count": 260,
   "metadata": {},
   "outputs": [
    {
     "data": {
      "text/plain": [
       "['θεός',\n",
       " 'λέγω',\n",
       " 'οὗτος',\n",
       " 'γίγνομαι',\n",
       " 'ὄνομα',\n",
       " 'πατήρ',\n",
       " 'ποιέω',\n",
       " 'Ἰακώβ',\n",
       " 'καλέω',\n",
       " 'λαός',\n",
       " 'χείρ',\n",
       " 'κρίσις',\n",
       " 'ἡμέρα',\n",
       " 'οἶκος',\n",
       " 'ἀπειθέω',\n",
       " 'δικαιοσύνη',\n",
       " 'εὐσέβεια',\n",
       " 'φιλοσοφία',\n",
       " 'κρατέω',\n",
       " 'δικαιοπραξίας']"
      ]
     },
     "execution_count": 260,
     "metadata": {},
     "output_type": "execute_result"
    }
   ],
   "source": [
    "list(authors_df.iloc[15][\"dikaiosyne_G_lems\"].nodes())"
   ]
  },
  {
   "cell_type": "markdown",
   "metadata": {},
   "source": [
    "# Terms within sentences"
   ]
  },
  {
   "cell_type": "code",
   "execution_count": 35,
   "metadata": {},
   "outputs": [],
   "source": [
    "def sentences_with_term(sentences, term, flatlist=False):\n",
    "    sentences_with_term = [sen for sen in sentences if term in sen]\n",
    "    if flatlist == True:\n",
    "        flatlist = [word for sen in sentences_with_term for word in sen]\n",
    "        flatlist = [word for word in flatlist if word != \"δικαιοσύνη\"]\n",
    "        return flatlist\n",
    "    else: \n",
    "        return sentences_with_term\n",
    "authors_df[\"dik_sents_flat\"] = authors_df[\"lemmatized_sentences\"].apply(lambda cell: sentences_with_term(cell, \"δικαιοσύνη\", flatlist=True))"
   ]
  },
  {
   "cell_type": "code",
   "execution_count": 36,
   "metadata": {},
   "outputs": [],
   "source": [
    "def get_tf(lemmata):\n",
    "    fd_list = list(nltk.FreqDist(lemmata).most_common())\n",
    "    tf_list = [(tup[0], np.round(tup[1] / len(lemmata), 5)) for tup in fd_list]\n",
    "    return tf_list\n",
    "\n",
    "authors_df[\"dik_sents_TF\"] = authors_df[\"dik_sents_flat\"].apply(get_tf)"
   ]
  },
  {
   "cell_type": "code",
   "execution_count": 37,
   "metadata": {},
   "outputs": [],
   "source": [
    "def term_idf(term, all_sentences):\n",
    "    idf_raw =  len(all_sentences) / len([sent for sent in all_sentences if term in sent])\n",
    "    idf_log = math.log(idf_raw)\n",
    "    return idf_log\n",
    "\n",
    "def get_tfidf(key_term_lemmata, all_sentences):\n",
    "    fd_list = list(nltk.FreqDist(key_term_lemmata).most_common())\n",
    "    tfidf_list = [(tup[0], np.round((tup[1] / len(key_term_lemmata) * term_idf(tup[0], all_sentences)), 5)) for tup in fd_list]\n",
    "    tfidf_list = sorted(tfidf_list, key=lambda tup: tup[1], reverse=True)\n",
    "    return tfidf_list\n",
    "\n",
    "authors_df[\"dik_sents_TFIDF\"] = authors_df.apply(lambda x: get_tfidf(x[\"dik_sents_flat\"], x[\"lemmatized_sentences\"]), axis=1)"
   ]
  },
  {
   "cell_type": "code",
   "execution_count": 38,
   "metadata": {},
   "outputs": [],
   "source": [
    "authors_df[\"dik_sents_TFIDF_10\"] = authors_df[\"dik_sents_TFIDF\"].apply(lambda cell: \", \".join([tup[0] for tup in cell[:10]]))"
   ]
  },
  {
   "cell_type": "code",
   "execution_count": 39,
   "metadata": {},
   "outputs": [
    {
     "data": {
      "text/html": [
       "<div>\n",
       "<style scoped>\n",
       "    .dataframe tbody tr th:only-of-type {\n",
       "        vertical-align: middle;\n",
       "    }\n",
       "\n",
       "    .dataframe tbody tr th {\n",
       "        vertical-align: top;\n",
       "    }\n",
       "\n",
       "    .dataframe thead th {\n",
       "        text-align: right;\n",
       "    }\n",
       "</style>\n",
       "<table border=\"1\" class=\"dataframe\">\n",
       "  <thead>\n",
       "    <tr style=\"text-align: right;\">\n",
       "      <th></th>\n",
       "      <th>author_id</th>\n",
       "      <th>author</th>\n",
       "      <th>n_titles</th>\n",
       "      <th>titles</th>\n",
       "      <th>filenames</th>\n",
       "      <th>wordcount</th>\n",
       "      <th>lemmata_wordcount</th>\n",
       "      <th>n_sentences</th>\n",
       "      <th>date_probs</th>\n",
       "      <th>date_avr</th>\n",
       "      <th>provenience</th>\n",
       "      <th>lemmata_lists</th>\n",
       "      <th>lemmatized_sentences</th>\n",
       "      <th>dikaiosyne_N</th>\n",
       "      <th>dikaiosyne_TF</th>\n",
       "      <th>dik_sents_flat</th>\n",
       "      <th>dik_sents_TF</th>\n",
       "      <th>dik_sents_TFIDF</th>\n",
       "      <th>dik_sents_TFIDF_10</th>\n",
       "    </tr>\n",
       "  </thead>\n",
       "  <tbody>\n",
       "    <tr>\n",
       "      <th>175</th>\n",
       "      <td>tlg1622</td>\n",
       "      <td>Polycarp</td>\n",
       "      <td>1</td>\n",
       "      <td>[Epistula ad Philippenses]</td>\n",
       "      <td>[tlg1622.tlg001.1st1K-grc1.xml]</td>\n",
       "      <td>1804</td>\n",
       "      <td>951</td>\n",
       "      <td>212</td>\n",
       "      <td>{'0.5': 0.5, '1.5': 0.5}</td>\n",
       "      <td>1.0</td>\n",
       "      <td>christian</td>\n",
       "      <td>[[πολύκαρπος, πρέσβυς, ἐκκλησία, θεός, παροικο...</td>\n",
       "      <td>[[πολύκαρπος, πρέσβυς, ἐκκλησία, θεός, παροικο...</td>\n",
       "      <td>8</td>\n",
       "      <td>0.004435</td>\n",
       "      <td>[μακάριος, πτωχός, διώκω, εἰμί, βασιλεία, θεάο...</td>\n",
       "      <td>[(εἰμί, 0.04651), (οὗτος, 0.04651), (ἐντολή, 0...</td>\n",
       "      <td>[(οὗτος, 0.19805), (ἐντολή, 0.18466), (πτωχός,...</td>\n",
       "      <td>οὗτος, ἐντολή, πτωχός, διώκω, θεάομαι, ἀδελφός...</td>\n",
       "    </tr>\n",
       "    <tr>\n",
       "      <th>35</th>\n",
       "      <td>tlg0031paul</td>\n",
       "      <td>Paul of Tarsus</td>\n",
       "      <td>7</td>\n",
       "      <td>[Romans, 1 Corinthians, 2 Corinthians, Galatia...</td>\n",
       "      <td>[tlg0031.tlg006.perseus-grc2.xml, tlg0031.tlg0...</td>\n",
       "      <td>24066</td>\n",
       "      <td>11089</td>\n",
       "      <td>1632</td>\n",
       "      <td>{'0.5': 1}</td>\n",
       "      <td>0.5</td>\n",
       "      <td>christian</td>\n",
       "      <td>[[Παῦλος, δοῦλος, Ἰησοῦς, Χριστός, κλητός, ἀπό...</td>\n",
       "      <td>[[Παῦλος, δοῦλος, Ἰησοῦς, Χριστός, κλητός, ἀπό...</td>\n",
       "      <td>49</td>\n",
       "      <td>0.002036</td>\n",
       "      <td>[θεός, ἀποκαλύπτω, πίστις, πίστις, γράφω, δίκα...</td>\n",
       "      <td>[(θεός, 0.04675), (πίστις, 0.04156), (νόμος, 0...</td>\n",
       "      <td>[(πίστις, 0.12745), (ἁμαρτία, 0.11192), (νόμος...</td>\n",
       "      <td>πίστις, ἁμαρτία, νόμος, λογίζομαι, θεός, βασιλ...</td>\n",
       "    </tr>\n",
       "    <tr>\n",
       "      <th>156</th>\n",
       "      <td>tlg1271</td>\n",
       "      <td>Clemens Romanus</td>\n",
       "      <td>2</td>\n",
       "      <td>[Epistula I ad Corinthios, Epistula II ad Cori...</td>\n",
       "      <td>[tlg1271.tlg001.1st1K-grc1.xml, tlg1271.tlg002...</td>\n",
       "      <td>13936</td>\n",
       "      <td>6290</td>\n",
       "      <td>1410</td>\n",
       "      <td>{'0.5': 1}</td>\n",
       "      <td>0.5</td>\n",
       "      <td>christian</td>\n",
       "      <td>[[ἐκκλησία, θεός, παροικοῦσα, Ῥώμη, ἐκκλησία, ...</td>\n",
       "      <td>[[ἐκκλησία, θεός, παροικοῦσα, Ῥώμη, ἐκκλησία, ...</td>\n",
       "      <td>21</td>\n",
       "      <td>0.001507</td>\n",
       "      <td>[οὗτος, ἄπειμι, εἰρήνη, ἀπολιμπάνω, ἕκαστος, φ...</td>\n",
       "      <td>[(θεός, 0.02871), (πίστις, 0.02392), (γίγνομαι...</td>\n",
       "      <td>[(καυχάομαι, 0.10409), (πίστις, 0.10181), (πύλ...</td>\n",
       "      <td>καυχάομαι, πίστις, πύλη, θεός, δύσις, ἀγάπη, π...</td>\n",
       "    </tr>\n",
       "    <tr>\n",
       "      <th>130</th>\n",
       "      <td>tlg0646</td>\n",
       "      <td>Pseudo-Justinus Martyr</td>\n",
       "      <td>1</td>\n",
       "      <td>[Epistula ad Diognetum]</td>\n",
       "      <td>[tlg0646.tlg004.1st1K-grc1.xml]</td>\n",
       "      <td>2725</td>\n",
       "      <td>1364</td>\n",
       "      <td>240</td>\n",
       "      <td>{'2.5': 0.5, '4.5': 0.5}</td>\n",
       "      <td>3.5</td>\n",
       "      <td>christian</td>\n",
       "      <td>[[ὁράω, κράτιστος, διόγνητε, ὑπερεσπουδακότα, ...</td>\n",
       "      <td>[[ὁράω, κράτιστος, διόγνητε, ὑπερεσπουδακότα, ...</td>\n",
       "      <td>4</td>\n",
       "      <td>0.001468</td>\n",
       "      <td>[ἐφηδόμενος, ἁμάρτημα, ἀνεχόμενος, ἀδικία, και...</td>\n",
       "      <td>[(ἐκεῖνος, 0.05556), (πολύς, 0.05556), (πῦρ, 0...</td>\n",
       "      <td>[(ἐκεῖνος, 0.24345), (πῦρ, 0.21507), (πολύς, 0...</td>\n",
       "      <td>ἐκεῖνος, πῦρ, πολύς, ἐφηδόμενος, ἁμάρτημα, ἀνε...</td>\n",
       "    </tr>\n",
       "    <tr>\n",
       "      <th>152</th>\n",
       "      <td>tlg1216</td>\n",
       "      <td>Barnabas</td>\n",
       "      <td>1</td>\n",
       "      <td>[The Epistle of Barnabas]</td>\n",
       "      <td>[tlg1216.tlg001.perseus-grc2.xml]</td>\n",
       "      <td>7440</td>\n",
       "      <td>3450</td>\n",
       "      <td>875</td>\n",
       "      <td>{'0.5': 0.5, '1.5': 0.5}</td>\n",
       "      <td>1.0</td>\n",
       "      <td>christian</td>\n",
       "      <td>[[χαίρω, υἱός, θυγάτηρ, ὄνομα, κύριος, ἀγαπάω,...</td>\n",
       "      <td>[[χαίρω, υἱός, θυγάτηρ, ὄνομα, κύριος, ἀγαπάω,...</td>\n",
       "      <td>9</td>\n",
       "      <td>0.001210</td>\n",
       "      <td>[πείθω, οὗτος, σύνοιδα, λαλέω, πολύς, ἐπίσταμα...</td>\n",
       "      <td>[(ὁδός, 0.0411), (κύριος, 0.0274), (θεός, 0.02...</td>\n",
       "      <td>[(ὁδός, 0.17298), (σκότος, 0.13651), (ἀγαθός, ...</td>\n",
       "      <td>ὁδός, σκότος, ἀγαθός, σύνοιδα, ἐπίσταμαι, συνώ...</td>\n",
       "    </tr>\n",
       "  </tbody>\n",
       "</table>\n",
       "</div>"
      ],
      "text/plain": [
       "       author_id                  author  n_titles  \\\n",
       "175      tlg1622                Polycarp         1   \n",
       "35   tlg0031paul          Paul of Tarsus         7   \n",
       "156      tlg1271         Clemens Romanus         2   \n",
       "130      tlg0646  Pseudo-Justinus Martyr         1   \n",
       "152      tlg1216                Barnabas         1   \n",
       "\n",
       "                                                titles  \\\n",
       "175                         [Epistula ad Philippenses]   \n",
       "35   [Romans, 1 Corinthians, 2 Corinthians, Galatia...   \n",
       "156  [Epistula I ad Corinthios, Epistula II ad Cori...   \n",
       "130                            [Epistula ad Diognetum]   \n",
       "152                          [The Epistle of Barnabas]   \n",
       "\n",
       "                                             filenames  wordcount  \\\n",
       "175                    [tlg1622.tlg001.1st1K-grc1.xml]       1804   \n",
       "35   [tlg0031.tlg006.perseus-grc2.xml, tlg0031.tlg0...      24066   \n",
       "156  [tlg1271.tlg001.1st1K-grc1.xml, tlg1271.tlg002...      13936   \n",
       "130                    [tlg0646.tlg004.1st1K-grc1.xml]       2725   \n",
       "152                  [tlg1216.tlg001.perseus-grc2.xml]       7440   \n",
       "\n",
       "     lemmata_wordcount  n_sentences                date_probs  date_avr  \\\n",
       "175                951          212  {'0.5': 0.5, '1.5': 0.5}       1.0   \n",
       "35               11089         1632                {'0.5': 1}       0.5   \n",
       "156               6290         1410                {'0.5': 1}       0.5   \n",
       "130               1364          240  {'2.5': 0.5, '4.5': 0.5}       3.5   \n",
       "152               3450          875  {'0.5': 0.5, '1.5': 0.5}       1.0   \n",
       "\n",
       "    provenience                                      lemmata_lists  \\\n",
       "175   christian  [[πολύκαρπος, πρέσβυς, ἐκκλησία, θεός, παροικο...   \n",
       "35    christian  [[Παῦλος, δοῦλος, Ἰησοῦς, Χριστός, κλητός, ἀπό...   \n",
       "156   christian  [[ἐκκλησία, θεός, παροικοῦσα, Ῥώμη, ἐκκλησία, ...   \n",
       "130   christian  [[ὁράω, κράτιστος, διόγνητε, ὑπερεσπουδακότα, ...   \n",
       "152   christian  [[χαίρω, υἱός, θυγάτηρ, ὄνομα, κύριος, ἀγαπάω,...   \n",
       "\n",
       "                                  lemmatized_sentences  dikaiosyne_N  \\\n",
       "175  [[πολύκαρπος, πρέσβυς, ἐκκλησία, θεός, παροικο...             8   \n",
       "35   [[Παῦλος, δοῦλος, Ἰησοῦς, Χριστός, κλητός, ἀπό...            49   \n",
       "156  [[ἐκκλησία, θεός, παροικοῦσα, Ῥώμη, ἐκκλησία, ...            21   \n",
       "130  [[ὁράω, κράτιστος, διόγνητε, ὑπερεσπουδακότα, ...             4   \n",
       "152  [[χαίρω, υἱός, θυγάτηρ, ὄνομα, κύριος, ἀγαπάω,...             9   \n",
       "\n",
       "     dikaiosyne_TF                                     dik_sents_flat  \\\n",
       "175       0.004435  [μακάριος, πτωχός, διώκω, εἰμί, βασιλεία, θεάο...   \n",
       "35        0.002036  [θεός, ἀποκαλύπτω, πίστις, πίστις, γράφω, δίκα...   \n",
       "156       0.001507  [οὗτος, ἄπειμι, εἰρήνη, ἀπολιμπάνω, ἕκαστος, φ...   \n",
       "130       0.001468  [ἐφηδόμενος, ἁμάρτημα, ἀνεχόμενος, ἀδικία, και...   \n",
       "152       0.001210  [πείθω, οὗτος, σύνοιδα, λαλέω, πολύς, ἐπίσταμα...   \n",
       "\n",
       "                                          dik_sents_TF  \\\n",
       "175  [(εἰμί, 0.04651), (οὗτος, 0.04651), (ἐντολή, 0...   \n",
       "35   [(θεός, 0.04675), (πίστις, 0.04156), (νόμος, 0...   \n",
       "156  [(θεός, 0.02871), (πίστις, 0.02392), (γίγνομαι...   \n",
       "130  [(ἐκεῖνος, 0.05556), (πολύς, 0.05556), (πῦρ, 0...   \n",
       "152  [(ὁδός, 0.0411), (κύριος, 0.0274), (θεός, 0.02...   \n",
       "\n",
       "                                       dik_sents_TFIDF  \\\n",
       "175  [(οὗτος, 0.19805), (ἐντολή, 0.18466), (πτωχός,...   \n",
       "35   [(πίστις, 0.12745), (ἁμαρτία, 0.11192), (νόμος...   \n",
       "156  [(καυχάομαι, 0.10409), (πίστις, 0.10181), (πύλ...   \n",
       "130  [(ἐκεῖνος, 0.24345), (πῦρ, 0.21507), (πολύς, 0...   \n",
       "152  [(ὁδός, 0.17298), (σκότος, 0.13651), (ἀγαθός, ...   \n",
       "\n",
       "                                    dik_sents_TFIDF_10  \n",
       "175  οὗτος, ἐντολή, πτωχός, διώκω, θεάομαι, ἀδελφός...  \n",
       "35   πίστις, ἁμαρτία, νόμος, λογίζομαι, θεός, βασιλ...  \n",
       "156  καυχάομαι, πίστις, πύλη, θεός, δύσις, ἀγάπη, π...  \n",
       "130  ἐκεῖνος, πῦρ, πολύς, ἐφηδόμενος, ἁμάρτημα, ἀνε...  \n",
       "152  ὁδός, σκότος, ἀγαθός, σύνοιδα, ἐπίσταμαι, συνώ...  "
      ]
     },
     "execution_count": 39,
     "metadata": {},
     "output_type": "execute_result"
    }
   ],
   "source": [
    "authors_df.head(5)"
   ]
  },
  {
   "cell_type": "code",
   "execution_count": 40,
   "metadata": {},
   "outputs": [],
   "source": [
    "tfidf_words = list(set([word for wordlist in authors_df[\"dik_sents_TFIDF_10\"].tolist() for word in wordlist]))\n",
    "tfidf_words = [word for word in tfidf_words if not re.search(\"\\W\", word)]"
   ]
  },
  {
   "cell_type": "code",
   "execution_count": 139,
   "metadata": {},
   "outputs": [],
   "source": [
    "#set_with_dataframe(ECCE_AGT_overview.add_worksheet(\"tfidf_words_20201205\", 1, 1), pd.DataFrame(tfidf_words))"
   ]
  },
  {
   "cell_type": "code",
   "execution_count": 166,
   "metadata": {},
   "outputs": [],
   "source": [
    "columns_to_omit = [\"lemmatized_sentences\", \"lemmata_lists\", \"G_sents\", \"G_lems\", \"dikaiosyne_G_sents\" , \"dikaiosyne_G_lems\"]\n",
    "set_with_dataframe(ECCE_AGT_overview.add_worksheet(\"authors_df_minimal_20201211\", 1,1), authors_df.drop(columns_to_omit, axis=1))"
   ]
  },
  {
   "cell_type": "markdown",
   "metadata": {},
   "source": [
    "# Individual authors"
   ]
  },
  {
   "cell_type": "code",
   "execution_count": 41,
   "metadata": {},
   "outputs": [
    {
     "data": {
      "text/plain": [
       "'σωφροσύνη, ἀρετή, εὐσέβεια, εἰμί, ἀδικία, σοφία, πολύς, ἔχω, μέγας, οὗτος'"
      ]
     },
     "execution_count": 41,
     "metadata": {},
     "output_type": "execute_result"
    }
   ],
   "source": [
    "authors_df[authors_df[\"author\"].str.contains(\"Isocrates\")][\"dik_sents_TFIDF_10\"].tolist()[0]"
   ]
  },
  {
   "cell_type": "code",
   "execution_count": 42,
   "metadata": {},
   "outputs": [
    {
     "data": {
      "text/plain": [
       "'δίκαιος, ἀρετή, ἀδικία, ἀνδρεία, σωφροσύνη, ἀγαθός, εἰμί, οἷος, ἄλλος, ἕτερος'"
      ]
     },
     "execution_count": 42,
     "metadata": {},
     "output_type": "execute_result"
    }
   ],
   "source": [
    "authors_df[authors_df[\"author\"].str.contains(\"Aristotle\")][\"dik_sents_TFIDF_10\"].tolist()[0]"
   ]
  },
  {
   "cell_type": "code",
   "execution_count": 43,
   "metadata": {},
   "outputs": [
    {
     "data": {
      "text/html": [
       "        <script type=\"text/javascript\">\n",
       "        window.PlotlyConfig = {MathJaxConfig: 'local'};\n",
       "        if (window.MathJax) {MathJax.Hub.Config({SVG: {font: \"STIX-Web\"}});}\n",
       "        if (typeof require !== 'undefined') {\n",
       "        require.undef(\"plotly\");\n",
       "        requirejs.config({\n",
       "            paths: {\n",
       "                'plotly': ['https://cdn.plot.ly/plotly-latest.min']\n",
       "            }\n",
       "        });\n",
       "        require(['plotly'], function(Plotly) {\n",
       "            window._Plotly = Plotly;\n",
       "        });\n",
       "        }\n",
       "        </script>\n",
       "        "
      ]
     },
     "metadata": {},
     "output_type": "display_data"
    },
    {
     "data": {
      "text/plain": [
       "<module 'textnet' from '/home/kasev/ECCE_AGT/scripts/textnet.py'>"
      ]
     },
     "execution_count": 43,
     "metadata": {},
     "output_type": "execute_result"
    }
   ],
   "source": [
    "reload(textnet)"
   ]
  },
  {
   "cell_type": "code",
   "execution_count": 372,
   "metadata": {},
   "outputs": [
    {
     "data": {
      "application/vnd.plotly.v1+json": {
       "config": {
        "plotlyServerURL": "https://plot.ly"
       },
       "data": [
        {
         "line": {
          "color": "#000000",
          "width": 1
         },
         "mode": "lines",
         "type": "scatter",
         "x": [
          0.10106220259339255,
          -0.275905410105256,
          null,
          0.10106220259339255,
          0.4021579572459857,
          null
         ],
         "y": [
          0.2074158631854433,
          0.12281412491024882,
          null,
          0.2074158631854433,
          0.15023355604591063,
          null
         ]
        },
        {
         "line": {
          "color": "#404040",
          "width": 0.7
         },
         "mode": "lines",
         "type": "scatter",
         "x": [
          0.40587846297875046,
          0.10106220259339255,
          null,
          0.40587846297875046,
          0.4021579572459857,
          null,
          0.10106220259339255,
          0.8031928307275069,
          null,
          0.8031928307275069,
          0.4021579572459857,
          null
         ],
         "y": [
          0.70081126485735,
          0.2074158631854433,
          null,
          0.70081126485735,
          0.15023355604591063,
          null,
          0.2074158631854433,
          0.1920291838730255,
          null,
          0.1920291838730255,
          0.15023355604591063,
          null
         ]
        },
        {
         "line": {
          "color": "#C0C0C0",
          "width": 0.5
         },
         "mode": "lines",
         "type": "scatter",
         "x": [
          0.5881983869880145,
          0.06509621092361331,
          null,
          0.5881983869880145,
          0.10106220259339255,
          null,
          0.5881983869880145,
          0.8031928307275069,
          null,
          0.5881983869880145,
          0.1129780558545904,
          null,
          0.5881983869880145,
          0.4021579572459857,
          null,
          0.06509621092361331,
          0.10106220259339255,
          null,
          0.06509621092361331,
          -0.40883513265819615,
          null,
          0.06509621092361331,
          0.1129780558545904,
          null,
          0.06509621092361331,
          0.4021579572459857,
          null,
          0.10106220259339255,
          -0.20188929746965883,
          null,
          0.10106220259339255,
          -0.40883513265819615,
          null,
          0.10106220259339255,
          0.1129780558545904,
          null,
          -0.275905410105256,
          -0.40883513265819615,
          null,
          -0.275905410105256,
          0.1129780558545904,
          null,
          -0.275905410105256,
          0.4021579572459857,
          null,
          -0.9999999999999999,
          -0.40883513265819615,
          null,
          -0.40883513265819615,
          0.1129780558545904,
          null,
          -0.40883513265819615,
          -0.5919342670787429,
          null,
          0.1129780558545904,
          0.4021579572459857,
          null
         ],
         "y": [
          -0.24654578576678096,
          -0.18928011364634512,
          null,
          -0.24654578576678096,
          0.2074158631854433,
          null,
          -0.24654578576678096,
          0.1920291838730255,
          null,
          -0.24654578576678096,
          -0.4002701246636513,
          null,
          -0.24654578576678096,
          0.15023355604591063,
          null,
          -0.18928011364634512,
          0.2074158631854433,
          null,
          -0.18928011364634512,
          -0.2796008145946918,
          null,
          -0.18928011364634512,
          -0.4002701246636513,
          null,
          -0.18928011364634512,
          0.15023355604591063,
          null,
          0.2074158631854433,
          0.7701812977296271,
          null,
          0.2074158631854433,
          -0.2796008145946918,
          null,
          0.2074158631854433,
          -0.4002701246636513,
          null,
          0.12281412491024882,
          -0.2796008145946918,
          null,
          0.12281412491024882,
          -0.4002701246636513,
          null,
          0.12281412491024882,
          0.15023355604591063,
          null,
          -0.17619774149591813,
          -0.2796008145946918,
          null,
          -0.2796008145946918,
          -0.4002701246636513,
          null,
          -0.2796008145946918,
          -0.8515907104342182,
          null,
          -0.4002701246636513,
          0.15023355604591063,
          null
         ]
        },
        {
         "hoverinfo": "text",
         "hovertext": [
          "2",
          "5",
          "5",
          "9",
          "4",
          "1",
          "1",
          "3",
          "6",
          "6",
          "1",
          "7"
         ],
         "marker": {
          "color": [
           19,
           40,
           37,
           42,
           26,
           6,
           15,
           11,
           18,
           13,
           4,
           7
          ],
          "colorbar": {
           "thickness": 15,
           "title": {
            "side": "right",
            "text": "degree"
           },
           "xanchor": "left"
          },
          "colorscale": [
           [
            0,
            "rgb(255,255,255)"
           ],
           [
            0.125,
            "rgb(240,240,240)"
           ],
           [
            0.25,
            "rgb(217,217,217)"
           ],
           [
            0.375,
            "rgb(189,189,189)"
           ],
           [
            0.5,
            "rgb(150,150,150)"
           ],
           [
            0.625,
            "rgb(115,115,115)"
           ],
           [
            0.75,
            "rgb(82,82,82)"
           ],
           [
            0.875,
            "rgb(37,37,37)"
           ],
           [
            1,
            "rgb(0,0,0)"
           ]
          ],
          "line": {
           "width": 1
          },
          "showscale": false,
          "size": 7
         },
         "mode": "markers+text",
         "text": [
          "κύριος",
          "πίστις",
          "δικαιοσύνη",
          "θεός",
          "εἰμί",
          "πνεῦμα",
          "θάνατος",
          "πᾶς",
          "ἁμαρτία",
          "νόμος",
          "σάρξ",
          "χριστός"
         ],
         "textposition": "bottom center",
         "type": "scatter",
         "x": [
          0.40587846297875046,
          0.5881983869880145,
          0.06509621092361331,
          0.10106220259339255,
          -0.275905410105256,
          -0.20188929746965883,
          -0.9999999999999999,
          0.8031928307275069,
          -0.40883513265819615,
          0.1129780558545904,
          -0.5919342670787429,
          0.4021579572459857
         ],
         "y": [
          0.70081126485735,
          -0.24654578576678096,
          -0.18928011364634512,
          0.2074158631854433,
          0.12281412491024882,
          0.7701812977296271,
          -0.17619774149591813,
          0.1920291838730255,
          -0.2796008145946918,
          -0.4002701246636513,
          -0.8515907104342182,
          0.15023355604591063
         ]
        },
        {
         "hoverinfo": "text",
         "marker": {
          "opacity": 0
         },
         "mode": "markers",
         "opacity": 0,
         "text": [
          "71",
          "60",
          "26",
          "47",
          "23",
          "27",
          "38",
          "26",
          "13",
          "16",
          "16",
          "93",
          "50",
          "90",
          "23",
          "34",
          "148",
          "16",
          "36",
          "55",
          "17",
          "66",
          "29",
          "15",
          "25"
         ],
         "type": "scatter",
         "x": [
          0.2534703327860715,
          0.40401821011236805,
          0.3266472989558139,
          0.3446302947907035,
          0.6956956088577607,
          0.35058822142130247,
          0.4951781721170001,
          0.08307920675850293,
          -0.17186946086729143,
          0.08903713338910185,
          0.23362708408479949,
          -0.08742160375593172,
          -0.050413547438133144,
          0.4521275166604497,
          -0.1538864650324018,
          0.10702012922399148,
          0.2516100799196891,
          -0.34237027138172604,
          -0.08146367712533278,
          0.06312627357036485,
          -0.704417566329098,
          0.6026753939867463,
          -0.14792853840180287,
          -0.5003846998684696,
          0.25756800655028805
         ],
         "y": [
          0.4541135640213967,
          0.4255224104516303,
          -0.21791294970656305,
          -0.019564961290668828,
          -0.027258300946877728,
          -0.32340795521521615,
          -0.04815611486043517,
          0.009067874769549095,
          -0.23444046412051847,
          -0.2947751191549982,
          -0.019523278800217245,
          0.16511499404784608,
          0.4887985804575352,
          0.19972252352923442,
          -0.03609247570462426,
          -0.096427130739104,
          0.17882470961567698,
          -0.0783933448422215,
          -0.13872799987670126,
          0.13652384047807972,
          -0.22789927804530496,
          0.17113136995946807,
          -0.33993546962917154,
          -0.565595762514455,
          -0.12501828430887035
         ]
        }
       ],
       "layout": {
        "autosize": false,
        "height": 500,
        "hovermode": "closest",
        "margin": {
         "b": 10,
         "l": 10,
         "r": 10,
         "t": 10
        },
        "plot_bgcolor": "rgba(0,0,0,0)",
        "showlegend": false,
        "template": {
         "data": {
          "bar": [
           {
            "error_x": {
             "color": "#2a3f5f"
            },
            "error_y": {
             "color": "#2a3f5f"
            },
            "marker": {
             "line": {
              "color": "#E5ECF6",
              "width": 0.5
             }
            },
            "type": "bar"
           }
          ],
          "barpolar": [
           {
            "marker": {
             "line": {
              "color": "#E5ECF6",
              "width": 0.5
             }
            },
            "type": "barpolar"
           }
          ],
          "carpet": [
           {
            "aaxis": {
             "endlinecolor": "#2a3f5f",
             "gridcolor": "white",
             "linecolor": "white",
             "minorgridcolor": "white",
             "startlinecolor": "#2a3f5f"
            },
            "baxis": {
             "endlinecolor": "#2a3f5f",
             "gridcolor": "white",
             "linecolor": "white",
             "minorgridcolor": "white",
             "startlinecolor": "#2a3f5f"
            },
            "type": "carpet"
           }
          ],
          "choropleth": [
           {
            "colorbar": {
             "outlinewidth": 0,
             "ticks": ""
            },
            "type": "choropleth"
           }
          ],
          "contour": [
           {
            "colorbar": {
             "outlinewidth": 0,
             "ticks": ""
            },
            "colorscale": [
             [
              0,
              "#0d0887"
             ],
             [
              0.1111111111111111,
              "#46039f"
             ],
             [
              0.2222222222222222,
              "#7201a8"
             ],
             [
              0.3333333333333333,
              "#9c179e"
             ],
             [
              0.4444444444444444,
              "#bd3786"
             ],
             [
              0.5555555555555556,
              "#d8576b"
             ],
             [
              0.6666666666666666,
              "#ed7953"
             ],
             [
              0.7777777777777778,
              "#fb9f3a"
             ],
             [
              0.8888888888888888,
              "#fdca26"
             ],
             [
              1,
              "#f0f921"
             ]
            ],
            "type": "contour"
           }
          ],
          "contourcarpet": [
           {
            "colorbar": {
             "outlinewidth": 0,
             "ticks": ""
            },
            "type": "contourcarpet"
           }
          ],
          "heatmap": [
           {
            "colorbar": {
             "outlinewidth": 0,
             "ticks": ""
            },
            "colorscale": [
             [
              0,
              "#0d0887"
             ],
             [
              0.1111111111111111,
              "#46039f"
             ],
             [
              0.2222222222222222,
              "#7201a8"
             ],
             [
              0.3333333333333333,
              "#9c179e"
             ],
             [
              0.4444444444444444,
              "#bd3786"
             ],
             [
              0.5555555555555556,
              "#d8576b"
             ],
             [
              0.6666666666666666,
              "#ed7953"
             ],
             [
              0.7777777777777778,
              "#fb9f3a"
             ],
             [
              0.8888888888888888,
              "#fdca26"
             ],
             [
              1,
              "#f0f921"
             ]
            ],
            "type": "heatmap"
           }
          ],
          "heatmapgl": [
           {
            "colorbar": {
             "outlinewidth": 0,
             "ticks": ""
            },
            "colorscale": [
             [
              0,
              "#0d0887"
             ],
             [
              0.1111111111111111,
              "#46039f"
             ],
             [
              0.2222222222222222,
              "#7201a8"
             ],
             [
              0.3333333333333333,
              "#9c179e"
             ],
             [
              0.4444444444444444,
              "#bd3786"
             ],
             [
              0.5555555555555556,
              "#d8576b"
             ],
             [
              0.6666666666666666,
              "#ed7953"
             ],
             [
              0.7777777777777778,
              "#fb9f3a"
             ],
             [
              0.8888888888888888,
              "#fdca26"
             ],
             [
              1,
              "#f0f921"
             ]
            ],
            "type": "heatmapgl"
           }
          ],
          "histogram": [
           {
            "marker": {
             "colorbar": {
              "outlinewidth": 0,
              "ticks": ""
             }
            },
            "type": "histogram"
           }
          ],
          "histogram2d": [
           {
            "colorbar": {
             "outlinewidth": 0,
             "ticks": ""
            },
            "colorscale": [
             [
              0,
              "#0d0887"
             ],
             [
              0.1111111111111111,
              "#46039f"
             ],
             [
              0.2222222222222222,
              "#7201a8"
             ],
             [
              0.3333333333333333,
              "#9c179e"
             ],
             [
              0.4444444444444444,
              "#bd3786"
             ],
             [
              0.5555555555555556,
              "#d8576b"
             ],
             [
              0.6666666666666666,
              "#ed7953"
             ],
             [
              0.7777777777777778,
              "#fb9f3a"
             ],
             [
              0.8888888888888888,
              "#fdca26"
             ],
             [
              1,
              "#f0f921"
             ]
            ],
            "type": "histogram2d"
           }
          ],
          "histogram2dcontour": [
           {
            "colorbar": {
             "outlinewidth": 0,
             "ticks": ""
            },
            "colorscale": [
             [
              0,
              "#0d0887"
             ],
             [
              0.1111111111111111,
              "#46039f"
             ],
             [
              0.2222222222222222,
              "#7201a8"
             ],
             [
              0.3333333333333333,
              "#9c179e"
             ],
             [
              0.4444444444444444,
              "#bd3786"
             ],
             [
              0.5555555555555556,
              "#d8576b"
             ],
             [
              0.6666666666666666,
              "#ed7953"
             ],
             [
              0.7777777777777778,
              "#fb9f3a"
             ],
             [
              0.8888888888888888,
              "#fdca26"
             ],
             [
              1,
              "#f0f921"
             ]
            ],
            "type": "histogram2dcontour"
           }
          ],
          "mesh3d": [
           {
            "colorbar": {
             "outlinewidth": 0,
             "ticks": ""
            },
            "type": "mesh3d"
           }
          ],
          "parcoords": [
           {
            "line": {
             "colorbar": {
              "outlinewidth": 0,
              "ticks": ""
             }
            },
            "type": "parcoords"
           }
          ],
          "pie": [
           {
            "automargin": true,
            "type": "pie"
           }
          ],
          "scatter": [
           {
            "marker": {
             "colorbar": {
              "outlinewidth": 0,
              "ticks": ""
             }
            },
            "type": "scatter"
           }
          ],
          "scatter3d": [
           {
            "line": {
             "colorbar": {
              "outlinewidth": 0,
              "ticks": ""
             }
            },
            "marker": {
             "colorbar": {
              "outlinewidth": 0,
              "ticks": ""
             }
            },
            "type": "scatter3d"
           }
          ],
          "scattercarpet": [
           {
            "marker": {
             "colorbar": {
              "outlinewidth": 0,
              "ticks": ""
             }
            },
            "type": "scattercarpet"
           }
          ],
          "scattergeo": [
           {
            "marker": {
             "colorbar": {
              "outlinewidth": 0,
              "ticks": ""
             }
            },
            "type": "scattergeo"
           }
          ],
          "scattergl": [
           {
            "marker": {
             "colorbar": {
              "outlinewidth": 0,
              "ticks": ""
             }
            },
            "type": "scattergl"
           }
          ],
          "scattermapbox": [
           {
            "marker": {
             "colorbar": {
              "outlinewidth": 0,
              "ticks": ""
             }
            },
            "type": "scattermapbox"
           }
          ],
          "scatterpolar": [
           {
            "marker": {
             "colorbar": {
              "outlinewidth": 0,
              "ticks": ""
             }
            },
            "type": "scatterpolar"
           }
          ],
          "scatterpolargl": [
           {
            "marker": {
             "colorbar": {
              "outlinewidth": 0,
              "ticks": ""
             }
            },
            "type": "scatterpolargl"
           }
          ],
          "scatterternary": [
           {
            "marker": {
             "colorbar": {
              "outlinewidth": 0,
              "ticks": ""
             }
            },
            "type": "scatterternary"
           }
          ],
          "surface": [
           {
            "colorbar": {
             "outlinewidth": 0,
             "ticks": ""
            },
            "colorscale": [
             [
              0,
              "#0d0887"
             ],
             [
              0.1111111111111111,
              "#46039f"
             ],
             [
              0.2222222222222222,
              "#7201a8"
             ],
             [
              0.3333333333333333,
              "#9c179e"
             ],
             [
              0.4444444444444444,
              "#bd3786"
             ],
             [
              0.5555555555555556,
              "#d8576b"
             ],
             [
              0.6666666666666666,
              "#ed7953"
             ],
             [
              0.7777777777777778,
              "#fb9f3a"
             ],
             [
              0.8888888888888888,
              "#fdca26"
             ],
             [
              1,
              "#f0f921"
             ]
            ],
            "type": "surface"
           }
          ],
          "table": [
           {
            "cells": {
             "fill": {
              "color": "#EBF0F8"
             },
             "line": {
              "color": "white"
             }
            },
            "header": {
             "fill": {
              "color": "#C8D4E3"
             },
             "line": {
              "color": "white"
             }
            },
            "type": "table"
           }
          ]
         },
         "layout": {
          "annotationdefaults": {
           "arrowcolor": "#2a3f5f",
           "arrowhead": 0,
           "arrowwidth": 1
          },
          "autotypenumbers": "strict",
          "coloraxis": {
           "colorbar": {
            "outlinewidth": 0,
            "ticks": ""
           }
          },
          "colorscale": {
           "diverging": [
            [
             0,
             "#8e0152"
            ],
            [
             0.1,
             "#c51b7d"
            ],
            [
             0.2,
             "#de77ae"
            ],
            [
             0.3,
             "#f1b6da"
            ],
            [
             0.4,
             "#fde0ef"
            ],
            [
             0.5,
             "#f7f7f7"
            ],
            [
             0.6,
             "#e6f5d0"
            ],
            [
             0.7,
             "#b8e186"
            ],
            [
             0.8,
             "#7fbc41"
            ],
            [
             0.9,
             "#4d9221"
            ],
            [
             1,
             "#276419"
            ]
           ],
           "sequential": [
            [
             0,
             "#0d0887"
            ],
            [
             0.1111111111111111,
             "#46039f"
            ],
            [
             0.2222222222222222,
             "#7201a8"
            ],
            [
             0.3333333333333333,
             "#9c179e"
            ],
            [
             0.4444444444444444,
             "#bd3786"
            ],
            [
             0.5555555555555556,
             "#d8576b"
            ],
            [
             0.6666666666666666,
             "#ed7953"
            ],
            [
             0.7777777777777778,
             "#fb9f3a"
            ],
            [
             0.8888888888888888,
             "#fdca26"
            ],
            [
             1,
             "#f0f921"
            ]
           ],
           "sequentialminus": [
            [
             0,
             "#0d0887"
            ],
            [
             0.1111111111111111,
             "#46039f"
            ],
            [
             0.2222222222222222,
             "#7201a8"
            ],
            [
             0.3333333333333333,
             "#9c179e"
            ],
            [
             0.4444444444444444,
             "#bd3786"
            ],
            [
             0.5555555555555556,
             "#d8576b"
            ],
            [
             0.6666666666666666,
             "#ed7953"
            ],
            [
             0.7777777777777778,
             "#fb9f3a"
            ],
            [
             0.8888888888888888,
             "#fdca26"
            ],
            [
             1,
             "#f0f921"
            ]
           ]
          },
          "colorway": [
           "#636efa",
           "#EF553B",
           "#00cc96",
           "#ab63fa",
           "#FFA15A",
           "#19d3f3",
           "#FF6692",
           "#B6E880",
           "#FF97FF",
           "#FECB52"
          ],
          "font": {
           "color": "#2a3f5f"
          },
          "geo": {
           "bgcolor": "white",
           "lakecolor": "white",
           "landcolor": "#E5ECF6",
           "showlakes": true,
           "showland": true,
           "subunitcolor": "white"
          },
          "hoverlabel": {
           "align": "left"
          },
          "hovermode": "closest",
          "mapbox": {
           "style": "light"
          },
          "paper_bgcolor": "white",
          "plot_bgcolor": "#E5ECF6",
          "polar": {
           "angularaxis": {
            "gridcolor": "white",
            "linecolor": "white",
            "ticks": ""
           },
           "bgcolor": "#E5ECF6",
           "radialaxis": {
            "gridcolor": "white",
            "linecolor": "white",
            "ticks": ""
           }
          },
          "scene": {
           "xaxis": {
            "backgroundcolor": "#E5ECF6",
            "gridcolor": "white",
            "gridwidth": 2,
            "linecolor": "white",
            "showbackground": true,
            "ticks": "",
            "zerolinecolor": "white"
           },
           "yaxis": {
            "backgroundcolor": "#E5ECF6",
            "gridcolor": "white",
            "gridwidth": 2,
            "linecolor": "white",
            "showbackground": true,
            "ticks": "",
            "zerolinecolor": "white"
           },
           "zaxis": {
            "backgroundcolor": "#E5ECF6",
            "gridcolor": "white",
            "gridwidth": 2,
            "linecolor": "white",
            "showbackground": true,
            "ticks": "",
            "zerolinecolor": "white"
           }
          },
          "shapedefaults": {
           "line": {
            "color": "#2a3f5f"
           }
          },
          "ternary": {
           "aaxis": {
            "gridcolor": "white",
            "linecolor": "white",
            "ticks": ""
           },
           "baxis": {
            "gridcolor": "white",
            "linecolor": "white",
            "ticks": ""
           },
           "bgcolor": "#E5ECF6",
           "caxis": {
            "gridcolor": "white",
            "linecolor": "white",
            "ticks": ""
           }
          },
          "title": {
           "x": 0.05
          },
          "xaxis": {
           "automargin": true,
           "gridcolor": "white",
           "linecolor": "white",
           "ticks": "",
           "title": {
            "standoff": 15
           },
           "zerolinecolor": "white",
           "zerolinewidth": 2
          },
          "yaxis": {
           "automargin": true,
           "gridcolor": "white",
           "linecolor": "white",
           "ticks": "",
           "title": {
            "standoff": 15
           },
           "zerolinecolor": "white",
           "zerolinewidth": 2
          }
         }
        },
        "title": {
         "font": {
          "size": 16
         }
        },
        "width": 500,
        "xaxis": {
         "range": [
          -1.15,
          1.05
         ],
         "showgrid": false,
         "showticklabels": false,
         "zeroline": false
        },
        "yaxis": {
         "range": [
          -1.15,
          1.05
         ],
         "showgrid": false,
         "showticklabels": false,
         "zeroline": false
        }
       }
      },
      "text/html": [
       "<div>                            <div id=\"338b8d95-710e-486c-a02d-911b94bd0e8e\" class=\"plotly-graph-div\" style=\"height:500px; width:500px;\"></div>            <script type=\"text/javascript\">                require([\"plotly\"], function(Plotly) {                    window.PLOTLYENV=window.PLOTLYENV || {};                                    if (document.getElementById(\"338b8d95-710e-486c-a02d-911b94bd0e8e\")) {                    Plotly.newPlot(                        \"338b8d95-710e-486c-a02d-911b94bd0e8e\",                        [{\"line\": {\"color\": \"#000000\", \"width\": 1}, \"mode\": \"lines\", \"type\": \"scatter\", \"x\": [0.10106220259339255, -0.275905410105256, null, 0.10106220259339255, 0.4021579572459857, null], \"y\": [0.2074158631854433, 0.12281412491024882, null, 0.2074158631854433, 0.15023355604591063, null]}, {\"line\": {\"color\": \"#404040\", \"width\": 0.7}, \"mode\": \"lines\", \"type\": \"scatter\", \"x\": [0.40587846297875046, 0.10106220259339255, null, 0.40587846297875046, 0.4021579572459857, null, 0.10106220259339255, 0.8031928307275069, null, 0.8031928307275069, 0.4021579572459857, null], \"y\": [0.70081126485735, 0.2074158631854433, null, 0.70081126485735, 0.15023355604591063, null, 0.2074158631854433, 0.1920291838730255, null, 0.1920291838730255, 0.15023355604591063, null]}, {\"line\": {\"color\": \"#C0C0C0\", \"width\": 0.5}, \"mode\": \"lines\", \"type\": \"scatter\", \"x\": [0.5881983869880145, 0.06509621092361331, null, 0.5881983869880145, 0.10106220259339255, null, 0.5881983869880145, 0.8031928307275069, null, 0.5881983869880145, 0.1129780558545904, null, 0.5881983869880145, 0.4021579572459857, null, 0.06509621092361331, 0.10106220259339255, null, 0.06509621092361331, -0.40883513265819615, null, 0.06509621092361331, 0.1129780558545904, null, 0.06509621092361331, 0.4021579572459857, null, 0.10106220259339255, -0.20188929746965883, null, 0.10106220259339255, -0.40883513265819615, null, 0.10106220259339255, 0.1129780558545904, null, -0.275905410105256, -0.40883513265819615, null, -0.275905410105256, 0.1129780558545904, null, -0.275905410105256, 0.4021579572459857, null, -0.9999999999999999, -0.40883513265819615, null, -0.40883513265819615, 0.1129780558545904, null, -0.40883513265819615, -0.5919342670787429, null, 0.1129780558545904, 0.4021579572459857, null], \"y\": [-0.24654578576678096, -0.18928011364634512, null, -0.24654578576678096, 0.2074158631854433, null, -0.24654578576678096, 0.1920291838730255, null, -0.24654578576678096, -0.4002701246636513, null, -0.24654578576678096, 0.15023355604591063, null, -0.18928011364634512, 0.2074158631854433, null, -0.18928011364634512, -0.2796008145946918, null, -0.18928011364634512, -0.4002701246636513, null, -0.18928011364634512, 0.15023355604591063, null, 0.2074158631854433, 0.7701812977296271, null, 0.2074158631854433, -0.2796008145946918, null, 0.2074158631854433, -0.4002701246636513, null, 0.12281412491024882, -0.2796008145946918, null, 0.12281412491024882, -0.4002701246636513, null, 0.12281412491024882, 0.15023355604591063, null, -0.17619774149591813, -0.2796008145946918, null, -0.2796008145946918, -0.4002701246636513, null, -0.2796008145946918, -0.8515907104342182, null, -0.4002701246636513, 0.15023355604591063, null]}, {\"hoverinfo\": \"text\", \"hovertext\": [\"2\", \"5\", \"5\", \"9\", \"4\", \"1\", \"1\", \"3\", \"6\", \"6\", \"1\", \"7\"], \"marker\": {\"color\": [19, 40, 37, 42, 26, 6, 15, 11, 18, 13, 4, 7], \"colorbar\": {\"thickness\": 15, \"title\": {\"side\": \"right\", \"text\": \"degree\"}, \"xanchor\": \"left\"}, \"colorscale\": [[0.0, \"rgb(255,255,255)\"], [0.125, \"rgb(240,240,240)\"], [0.25, \"rgb(217,217,217)\"], [0.375, \"rgb(189,189,189)\"], [0.5, \"rgb(150,150,150)\"], [0.625, \"rgb(115,115,115)\"], [0.75, \"rgb(82,82,82)\"], [0.875, \"rgb(37,37,37)\"], [1.0, \"rgb(0,0,0)\"]], \"line\": {\"width\": 1}, \"showscale\": false, \"size\": 7}, \"mode\": \"markers+text\", \"text\": [\"\\u03ba\\u03cd\\u03c1\\u03b9\\u03bf\\u03c2\", \"\\u03c0\\u03af\\u03c3\\u03c4\\u03b9\\u03c2\", \"\\u03b4\\u03b9\\u03ba\\u03b1\\u03b9\\u03bf\\u03c3\\u03cd\\u03bd\\u03b7\", \"\\u03b8\\u03b5\\u03cc\\u03c2\", \"\\u03b5\\u1f30\\u03bc\\u03af\", \"\\u03c0\\u03bd\\u03b5\\u1fe6\\u03bc\\u03b1\", \"\\u03b8\\u03ac\\u03bd\\u03b1\\u03c4\\u03bf\\u03c2\", \"\\u03c0\\u1fb6\\u03c2\", \"\\u1f01\\u03bc\\u03b1\\u03c1\\u03c4\\u03af\\u03b1\", \"\\u03bd\\u03cc\\u03bc\\u03bf\\u03c2\", \"\\u03c3\\u03ac\\u03c1\\u03be\", \"\\u03c7\\u03c1\\u03b9\\u03c3\\u03c4\\u03cc\\u03c2\"], \"textposition\": \"bottom center\", \"type\": \"scatter\", \"x\": [0.40587846297875046, 0.5881983869880145, 0.06509621092361331, 0.10106220259339255, -0.275905410105256, -0.20188929746965883, -0.9999999999999999, 0.8031928307275069, -0.40883513265819615, 0.1129780558545904, -0.5919342670787429, 0.4021579572459857], \"y\": [0.70081126485735, -0.24654578576678096, -0.18928011364634512, 0.2074158631854433, 0.12281412491024882, 0.7701812977296271, -0.17619774149591813, 0.1920291838730255, -0.2796008145946918, -0.4002701246636513, -0.8515907104342182, 0.15023355604591063]}, {\"hoverinfo\": \"text\", \"marker\": {\"opacity\": 0}, \"mode\": \"markers\", \"opacity\": 0, \"text\": [\"71\", \"60\", \"26\", \"47\", \"23\", \"27\", \"38\", \"26\", \"13\", \"16\", \"16\", \"93\", \"50\", \"90\", \"23\", \"34\", \"148\", \"16\", \"36\", \"55\", \"17\", \"66\", \"29\", \"15\", \"25\"], \"type\": \"scatter\", \"x\": [0.2534703327860715, 0.40401821011236805, 0.3266472989558139, 0.3446302947907035, 0.6956956088577607, 0.35058822142130247, 0.4951781721170001, 0.08307920675850293, -0.17186946086729143, 0.08903713338910185, 0.23362708408479949, -0.08742160375593172, -0.050413547438133144, 0.4521275166604497, -0.1538864650324018, 0.10702012922399148, 0.2516100799196891, -0.34237027138172604, -0.08146367712533278, 0.06312627357036485, -0.704417566329098, 0.6026753939867463, -0.14792853840180287, -0.5003846998684696, 0.25756800655028805], \"y\": [0.4541135640213967, 0.4255224104516303, -0.21791294970656305, -0.019564961290668828, -0.027258300946877728, -0.32340795521521615, -0.04815611486043517, 0.009067874769549095, -0.23444046412051847, -0.2947751191549982, -0.019523278800217245, 0.16511499404784608, 0.4887985804575352, 0.19972252352923442, -0.03609247570462426, -0.096427130739104, 0.17882470961567698, -0.0783933448422215, -0.13872799987670126, 0.13652384047807972, -0.22789927804530496, 0.17113136995946807, -0.33993546962917154, -0.565595762514455, -0.12501828430887035]}],                        {\"autosize\": false, \"height\": 500, \"hovermode\": \"closest\", \"margin\": {\"b\": 10, \"l\": 10, \"r\": 10, \"t\": 10}, \"plot_bgcolor\": \"rgba(0,0,0,0)\", \"showlegend\": false, \"template\": {\"data\": {\"bar\": [{\"error_x\": {\"color\": \"#2a3f5f\"}, \"error_y\": {\"color\": \"#2a3f5f\"}, \"marker\": {\"line\": {\"color\": \"#E5ECF6\", \"width\": 0.5}}, \"type\": \"bar\"}], \"barpolar\": [{\"marker\": {\"line\": {\"color\": \"#E5ECF6\", \"width\": 0.5}}, \"type\": \"barpolar\"}], \"carpet\": [{\"aaxis\": {\"endlinecolor\": \"#2a3f5f\", \"gridcolor\": \"white\", \"linecolor\": \"white\", \"minorgridcolor\": \"white\", \"startlinecolor\": \"#2a3f5f\"}, \"baxis\": {\"endlinecolor\": \"#2a3f5f\", \"gridcolor\": \"white\", \"linecolor\": \"white\", \"minorgridcolor\": \"white\", \"startlinecolor\": \"#2a3f5f\"}, \"type\": \"carpet\"}], \"choropleth\": [{\"colorbar\": {\"outlinewidth\": 0, \"ticks\": \"\"}, \"type\": \"choropleth\"}], \"contour\": [{\"colorbar\": {\"outlinewidth\": 0, \"ticks\": \"\"}, \"colorscale\": [[0.0, \"#0d0887\"], [0.1111111111111111, \"#46039f\"], [0.2222222222222222, \"#7201a8\"], [0.3333333333333333, \"#9c179e\"], [0.4444444444444444, \"#bd3786\"], [0.5555555555555556, \"#d8576b\"], [0.6666666666666666, \"#ed7953\"], [0.7777777777777778, \"#fb9f3a\"], [0.8888888888888888, \"#fdca26\"], [1.0, \"#f0f921\"]], \"type\": \"contour\"}], \"contourcarpet\": [{\"colorbar\": {\"outlinewidth\": 0, \"ticks\": \"\"}, \"type\": \"contourcarpet\"}], \"heatmap\": [{\"colorbar\": {\"outlinewidth\": 0, \"ticks\": \"\"}, \"colorscale\": [[0.0, \"#0d0887\"], [0.1111111111111111, \"#46039f\"], [0.2222222222222222, \"#7201a8\"], [0.3333333333333333, \"#9c179e\"], [0.4444444444444444, \"#bd3786\"], [0.5555555555555556, \"#d8576b\"], [0.6666666666666666, \"#ed7953\"], [0.7777777777777778, \"#fb9f3a\"], [0.8888888888888888, \"#fdca26\"], [1.0, \"#f0f921\"]], \"type\": \"heatmap\"}], \"heatmapgl\": [{\"colorbar\": {\"outlinewidth\": 0, \"ticks\": \"\"}, \"colorscale\": [[0.0, \"#0d0887\"], [0.1111111111111111, \"#46039f\"], [0.2222222222222222, \"#7201a8\"], [0.3333333333333333, \"#9c179e\"], [0.4444444444444444, \"#bd3786\"], [0.5555555555555556, \"#d8576b\"], [0.6666666666666666, \"#ed7953\"], [0.7777777777777778, \"#fb9f3a\"], [0.8888888888888888, \"#fdca26\"], [1.0, \"#f0f921\"]], \"type\": \"heatmapgl\"}], \"histogram\": [{\"marker\": {\"colorbar\": {\"outlinewidth\": 0, \"ticks\": \"\"}}, \"type\": \"histogram\"}], \"histogram2d\": [{\"colorbar\": {\"outlinewidth\": 0, \"ticks\": \"\"}, \"colorscale\": [[0.0, \"#0d0887\"], [0.1111111111111111, \"#46039f\"], [0.2222222222222222, \"#7201a8\"], [0.3333333333333333, \"#9c179e\"], [0.4444444444444444, \"#bd3786\"], [0.5555555555555556, \"#d8576b\"], [0.6666666666666666, \"#ed7953\"], [0.7777777777777778, \"#fb9f3a\"], [0.8888888888888888, \"#fdca26\"], [1.0, \"#f0f921\"]], \"type\": \"histogram2d\"}], \"histogram2dcontour\": [{\"colorbar\": {\"outlinewidth\": 0, \"ticks\": \"\"}, \"colorscale\": [[0.0, \"#0d0887\"], [0.1111111111111111, \"#46039f\"], [0.2222222222222222, \"#7201a8\"], [0.3333333333333333, \"#9c179e\"], [0.4444444444444444, \"#bd3786\"], [0.5555555555555556, \"#d8576b\"], [0.6666666666666666, \"#ed7953\"], [0.7777777777777778, \"#fb9f3a\"], [0.8888888888888888, \"#fdca26\"], [1.0, \"#f0f921\"]], \"type\": \"histogram2dcontour\"}], \"mesh3d\": [{\"colorbar\": {\"outlinewidth\": 0, \"ticks\": \"\"}, \"type\": \"mesh3d\"}], \"parcoords\": [{\"line\": {\"colorbar\": {\"outlinewidth\": 0, \"ticks\": \"\"}}, \"type\": \"parcoords\"}], \"pie\": [{\"automargin\": true, \"type\": \"pie\"}], \"scatter\": [{\"marker\": {\"colorbar\": {\"outlinewidth\": 0, \"ticks\": \"\"}}, \"type\": \"scatter\"}], \"scatter3d\": [{\"line\": {\"colorbar\": {\"outlinewidth\": 0, \"ticks\": \"\"}}, \"marker\": {\"colorbar\": {\"outlinewidth\": 0, \"ticks\": \"\"}}, \"type\": \"scatter3d\"}], \"scattercarpet\": [{\"marker\": {\"colorbar\": {\"outlinewidth\": 0, \"ticks\": \"\"}}, \"type\": \"scattercarpet\"}], \"scattergeo\": [{\"marker\": {\"colorbar\": {\"outlinewidth\": 0, \"ticks\": \"\"}}, \"type\": \"scattergeo\"}], \"scattergl\": [{\"marker\": {\"colorbar\": {\"outlinewidth\": 0, \"ticks\": \"\"}}, \"type\": \"scattergl\"}], \"scattermapbox\": [{\"marker\": {\"colorbar\": {\"outlinewidth\": 0, \"ticks\": \"\"}}, \"type\": \"scattermapbox\"}], \"scatterpolar\": [{\"marker\": {\"colorbar\": {\"outlinewidth\": 0, \"ticks\": \"\"}}, \"type\": \"scatterpolar\"}], \"scatterpolargl\": [{\"marker\": {\"colorbar\": {\"outlinewidth\": 0, \"ticks\": \"\"}}, \"type\": \"scatterpolargl\"}], \"scatterternary\": [{\"marker\": {\"colorbar\": {\"outlinewidth\": 0, \"ticks\": \"\"}}, \"type\": \"scatterternary\"}], \"surface\": [{\"colorbar\": {\"outlinewidth\": 0, \"ticks\": \"\"}, \"colorscale\": [[0.0, \"#0d0887\"], [0.1111111111111111, \"#46039f\"], [0.2222222222222222, \"#7201a8\"], [0.3333333333333333, \"#9c179e\"], [0.4444444444444444, \"#bd3786\"], [0.5555555555555556, \"#d8576b\"], [0.6666666666666666, \"#ed7953\"], [0.7777777777777778, \"#fb9f3a\"], [0.8888888888888888, \"#fdca26\"], [1.0, \"#f0f921\"]], \"type\": \"surface\"}], \"table\": [{\"cells\": {\"fill\": {\"color\": \"#EBF0F8\"}, \"line\": {\"color\": \"white\"}}, \"header\": {\"fill\": {\"color\": \"#C8D4E3\"}, \"line\": {\"color\": \"white\"}}, \"type\": \"table\"}]}, \"layout\": {\"annotationdefaults\": {\"arrowcolor\": \"#2a3f5f\", \"arrowhead\": 0, \"arrowwidth\": 1}, \"autotypenumbers\": \"strict\", \"coloraxis\": {\"colorbar\": {\"outlinewidth\": 0, \"ticks\": \"\"}}, \"colorscale\": {\"diverging\": [[0, \"#8e0152\"], [0.1, \"#c51b7d\"], [0.2, \"#de77ae\"], [0.3, \"#f1b6da\"], [0.4, \"#fde0ef\"], [0.5, \"#f7f7f7\"], [0.6, \"#e6f5d0\"], [0.7, \"#b8e186\"], [0.8, \"#7fbc41\"], [0.9, \"#4d9221\"], [1, \"#276419\"]], \"sequential\": [[0.0, \"#0d0887\"], [0.1111111111111111, \"#46039f\"], [0.2222222222222222, \"#7201a8\"], [0.3333333333333333, \"#9c179e\"], [0.4444444444444444, \"#bd3786\"], [0.5555555555555556, \"#d8576b\"], [0.6666666666666666, \"#ed7953\"], [0.7777777777777778, \"#fb9f3a\"], [0.8888888888888888, \"#fdca26\"], [1.0, \"#f0f921\"]], \"sequentialminus\": [[0.0, \"#0d0887\"], [0.1111111111111111, \"#46039f\"], [0.2222222222222222, \"#7201a8\"], [0.3333333333333333, \"#9c179e\"], [0.4444444444444444, \"#bd3786\"], [0.5555555555555556, \"#d8576b\"], [0.6666666666666666, \"#ed7953\"], [0.7777777777777778, \"#fb9f3a\"], [0.8888888888888888, \"#fdca26\"], [1.0, \"#f0f921\"]]}, \"colorway\": [\"#636efa\", \"#EF553B\", \"#00cc96\", \"#ab63fa\", \"#FFA15A\", \"#19d3f3\", \"#FF6692\", \"#B6E880\", \"#FF97FF\", \"#FECB52\"], \"font\": {\"color\": \"#2a3f5f\"}, \"geo\": {\"bgcolor\": \"white\", \"lakecolor\": \"white\", \"landcolor\": \"#E5ECF6\", \"showlakes\": true, \"showland\": true, \"subunitcolor\": \"white\"}, \"hoverlabel\": {\"align\": \"left\"}, \"hovermode\": \"closest\", \"mapbox\": {\"style\": \"light\"}, \"paper_bgcolor\": \"white\", \"plot_bgcolor\": \"#E5ECF6\", \"polar\": {\"angularaxis\": {\"gridcolor\": \"white\", \"linecolor\": \"white\", \"ticks\": \"\"}, \"bgcolor\": \"#E5ECF6\", \"radialaxis\": {\"gridcolor\": \"white\", \"linecolor\": \"white\", \"ticks\": \"\"}}, \"scene\": {\"xaxis\": {\"backgroundcolor\": \"#E5ECF6\", \"gridcolor\": \"white\", \"gridwidth\": 2, \"linecolor\": \"white\", \"showbackground\": true, \"ticks\": \"\", \"zerolinecolor\": \"white\"}, \"yaxis\": {\"backgroundcolor\": \"#E5ECF6\", \"gridcolor\": \"white\", \"gridwidth\": 2, \"linecolor\": \"white\", \"showbackground\": true, \"ticks\": \"\", \"zerolinecolor\": \"white\"}, \"zaxis\": {\"backgroundcolor\": \"#E5ECF6\", \"gridcolor\": \"white\", \"gridwidth\": 2, \"linecolor\": \"white\", \"showbackground\": true, \"ticks\": \"\", \"zerolinecolor\": \"white\"}}, \"shapedefaults\": {\"line\": {\"color\": \"#2a3f5f\"}}, \"ternary\": {\"aaxis\": {\"gridcolor\": \"white\", \"linecolor\": \"white\", \"ticks\": \"\"}, \"baxis\": {\"gridcolor\": \"white\", \"linecolor\": \"white\", \"ticks\": \"\"}, \"bgcolor\": \"#E5ECF6\", \"caxis\": {\"gridcolor\": \"white\", \"linecolor\": \"white\", \"ticks\": \"\"}}, \"title\": {\"x\": 0.05}, \"xaxis\": {\"automargin\": true, \"gridcolor\": \"white\", \"linecolor\": \"white\", \"ticks\": \"\", \"title\": {\"standoff\": 15}, \"zerolinecolor\": \"white\", \"zerolinewidth\": 2}, \"yaxis\": {\"automargin\": true, \"gridcolor\": \"white\", \"linecolor\": \"white\", \"ticks\": \"\", \"title\": {\"standoff\": 15}, \"zerolinecolor\": \"white\", \"zerolinewidth\": 2}}}, \"title\": {\"font\": {\"size\": 16}}, \"width\": 500, \"xaxis\": {\"range\": [-1.15, 1.05], \"showgrid\": false, \"showticklabels\": false, \"zeroline\": false}, \"yaxis\": {\"range\": [-1.15, 1.05], \"showgrid\": false, \"showticklabels\": false, \"zeroline\": false}},                        {\"responsive\": true}                    ).then(function(){\n",
       "                            \n",
       "var gd = document.getElementById('338b8d95-710e-486c-a02d-911b94bd0e8e');\n",
       "var x = new MutationObserver(function (mutations, observer) {{\n",
       "        var display = window.getComputedStyle(gd).display;\n",
       "        if (!display || display === 'none') {{\n",
       "            console.log([gd, 'removed!']);\n",
       "            Plotly.purge(gd);\n",
       "            observer.disconnect();\n",
       "        }}\n",
       "}});\n",
       "\n",
       "// Listen for the removal of the full notebook cells\n",
       "var notebookContainer = gd.closest('#notebook-container');\n",
       "if (notebookContainer) {{\n",
       "    x.observe(notebookContainer, {childList: true});\n",
       "}}\n",
       "\n",
       "// Listen for the clearing of the current output cell\n",
       "var outputEl = gd.closest('.output');\n",
       "if (outputEl) {{\n",
       "    x.observe(outputEl, {childList: true});\n",
       "}}\n",
       "\n",
       "                        })                };                });            </script>        </div>"
      ]
     },
     "metadata": {},
     "output_type": "display_data"
    }
   ],
   "source": [
    "G = authors_df[authors_df[\"author\"].str.contains(\"Paul of\")][\"dikaiosyne_G_sents\"].tolist()[0]\n",
    "fig = textnet.draw_2d_network(G)\n",
    "fig.show()"
   ]
  },
  {
   "cell_type": "code",
   "execution_count": 364,
   "metadata": {},
   "outputs": [],
   "source": [
    "#sddk.write_file(\"SDAM_data/ECCE_public/G_sents_paul.png\",fig, conf)"
   ]
  },
  {
   "cell_type": "code",
   "execution_count": 373,
   "metadata": {},
   "outputs": [
    {
     "data": {
      "text/html": [
       "        <script type=\"text/javascript\">\n",
       "        window.PlotlyConfig = {MathJaxConfig: 'local'};\n",
       "        if (window.MathJax) {MathJax.Hub.Config({SVG: {font: \"STIX-Web\"}});}\n",
       "        if (typeof require !== 'undefined') {\n",
       "        require.undef(\"plotly\");\n",
       "        requirejs.config({\n",
       "            paths: {\n",
       "                'plotly': ['https://cdn.plot.ly/plotly-latest.min']\n",
       "            }\n",
       "        });\n",
       "        require(['plotly'], function(Plotly) {\n",
       "            window._Plotly = Plotly;\n",
       "        });\n",
       "        }\n",
       "        </script>\n",
       "        "
      ]
     },
     "metadata": {},
     "output_type": "display_data"
    },
    {
     "data": {
      "text/plain": [
       "<module 'textnet' from '/home/kasev/ECCE_AGT/scripts/textnet.py'>"
      ]
     },
     "execution_count": 373,
     "metadata": {},
     "output_type": "execute_result"
    }
   ],
   "source": [
    "reload(textnet)"
   ]
  },
  {
   "cell_type": "code",
   "execution_count": 375,
   "metadata": {},
   "outputs": [
    {
     "data": {
      "application/vnd.plotly.v1+json": {
       "config": {
        "plotlyServerURL": "https://plot.ly"
       },
       "data": [
        {
         "line": {
          "color": "#000000",
          "width": 1
         },
         "mode": "lines",
         "type": "scatter",
         "x": [
          -0.015882641729728045,
          0.2791202266548494,
          null,
          0.2791202266548494,
          0.578474407081812,
          null
         ],
         "y": [
          0.16389456934413532,
          0.12745069382251403,
          null,
          0.12745069382251403,
          -0.22493372399735673,
          null
         ]
        },
        {
         "line": {
          "color": "#404040",
          "width": 0.7
         },
         "mode": "lines",
         "type": "scatter",
         "x": [
          -0.015882641729728045,
          0.578474407081812,
          null,
          0.6109766582939566,
          0.2791202266548494,
          null,
          -0.4769466378775283,
          0.2791202266548494,
          null,
          0.2791202266548494,
          -0.2450834445080677,
          null
         ],
         "y": [
          0.16389456934413532,
          -0.22493372399735673,
          null,
          0.7094823281081118,
          0.12745069382251403,
          null,
          0.44109931179434964,
          0.12745069382251403,
          null,
          0.12745069382251403,
          -0.38704299648283824,
          null
         ]
        },
        {
         "line": {
          "color": "#C0C0C0",
          "width": 0.5
         },
         "mode": "lines",
         "type": "scatter",
         "x": [
          0.13362986934734103,
          -0.015882641729728045,
          null,
          0.13362986934734103,
          0.6109766582939566,
          null,
          0.13362986934734103,
          -0.4769466378775283,
          null,
          0.13362986934734103,
          -0.4630158296693923,
          null,
          0.13362986934734103,
          0.17634006768819754,
          null,
          0.13362986934734103,
          0.2791202266548494,
          null,
          0.13362986934734103,
          0.578474407081812,
          null,
          -0.015882641729728045,
          0.6109766582939566,
          null,
          -0.015882641729728045,
          -0.4769466378775283,
          null,
          -0.015882641729728045,
          -0.4630158296693923,
          null,
          -0.015882641729728045,
          0.17634006768819754,
          null,
          -0.015882641729728045,
          -0.2450834445080677,
          null,
          -0.4769466378775283,
          -0.2450834445080677,
          null,
          -0.4630158296693923,
          0.17634006768819754,
          null,
          -0.4630158296693923,
          0.2791202266548494,
          null,
          -0.4630158296693923,
          -0.2450834445080677,
          null,
          0.17634006768819754,
          0.2791202266548494,
          null,
          0.17634006768819754,
          -0.2450834445080677,
          null,
          0.17634006768819754,
          0.578474407081812,
          null,
          -0.2450834445080677,
          -0.5776126752814404,
          null,
          -0.2450834445080677,
          0.578474407081812,
          null
         ],
         "y": [
          0.5150698270591574,
          0.16389456934413532,
          null,
          0.5150698270591574,
          0.7094823281081118,
          null,
          0.5150698270591574,
          0.44109931179434964,
          null,
          0.5150698270591574,
          0.025430275862994223,
          null,
          0.5150698270591574,
          -0.37045028551106735,
          null,
          0.5150698270591574,
          0.12745069382251403,
          null,
          0.5150698270591574,
          -0.22493372399735673,
          null,
          0.16389456934413532,
          0.7094823281081118,
          null,
          0.16389456934413532,
          0.44109931179434964,
          null,
          0.16389456934413532,
          0.025430275862994223,
          null,
          0.16389456934413532,
          -0.37045028551106735,
          null,
          0.16389456934413532,
          -0.38704299648283824,
          null,
          0.44109931179434964,
          -0.38704299648283824,
          null,
          0.025430275862994223,
          -0.37045028551106735,
          null,
          0.025430275862994223,
          0.12745069382251403,
          null,
          0.025430275862994223,
          -0.38704299648283824,
          null,
          -0.37045028551106735,
          0.12745069382251403,
          null,
          -0.37045028551106735,
          -0.38704299648283824,
          null,
          -0.37045028551106735,
          -0.22493372399735673,
          null,
          -0.38704299648283824,
          -1,
          null,
          -0.38704299648283824,
          -0.22493372399735673,
          null
         ]
        },
        {
         "hoverinfo": "text",
         "hovertext": [
          "7",
          "8",
          "3",
          "4",
          "5",
          "6",
          "8",
          "7",
          "1",
          "5"
         ],
         "marker": {
          "color": [
           56,
           54,
           8,
           16,
           30,
           27,
           19,
           20,
           5,
           7
          ],
          "colorbar": {
           "thickness": 15,
           "title": {
            "side": "right",
            "text": "degree"
           },
           "xanchor": "left"
          },
          "colorscale": [
           [
            0,
            "rgb(255,255,255)"
           ],
           [
            0.125,
            "rgb(240,240,240)"
           ],
           [
            0.25,
            "rgb(217,217,217)"
           ],
           [
            0.375,
            "rgb(189,189,189)"
           ],
           [
            0.5,
            "rgb(150,150,150)"
           ],
           [
            0.625,
            "rgb(115,115,115)"
           ],
           [
            0.75,
            "rgb(82,82,82)"
           ],
           [
            0.875,
            "rgb(37,37,37)"
           ],
           [
            1,
            "rgb(0,0,0)"
           ]
          ],
          "line": {
           "width": 1
          },
          "showscale": false,
          "size": 7
         },
         "mode": "markers+text",
         "text": [
          "ἄνθρωπος",
          "κύριος",
          "πᾶς",
          "εἰμί",
          "δικαιοσύνη",
          "ἀλήθεια",
          "θεός",
          "πίστις",
          "ἀγάπη",
          "χριστός"
         ],
         "textposition": "bottom center",
         "type": "scatter",
         "x": [
          0.13362986934734103,
          -0.015882641729728045,
          0.6109766582939566,
          -0.4769466378775283,
          -0.4630158296693923,
          0.17634006768819754,
          0.2791202266548494,
          -0.2450834445080677,
          -0.5776126752814404,
          0.578474407081812
         ],
         "y": [
          0.5150698270591574,
          0.16389456934413532,
          0.7094823281081118,
          0.44109931179434964,
          0.025430275862994223,
          -0.37045028551106735,
          0.12745069382251403,
          -0.38704299648283824,
          -1,
          -0.22493372399735673
         ]
        },
        {
         "hoverinfo": "text",
         "marker": {
          "opacity": 0
         },
         "mode": "markers",
         "opacity": 0,
         "text": [
          "10",
          "19",
          "13",
          "3",
          "8",
          "22",
          "26",
          "27",
          "25",
          "3",
          "8",
          "59",
          "20",
          "56",
          "42",
          "49",
          "15",
          "4",
          "3",
          "3",
          "19",
          "12",
          "9",
          "40",
          "95",
          "16",
          "29"
         ],
         "type": "scatter",
         "x": [
          0.05887361380880649,
          0.3723032638206488,
          -0.1716583842650936,
          -0.16469298016102563,
          0.15498496851776927,
          0.20637504800109524,
          0.3560521382145765,
          0.2975470082821143,
          -0.24641463980362815,
          -0.23944923569956017,
          0.08022871297923476,
          0.1316187924625607,
          -0.13048304311889788,
          0.28129588267604194,
          0.445048442474403,
          -0.09891320561133943,
          -0.361015041192798,
          -0.14333788099059738,
          -0.09194780150727144,
          -0.35404963708873,
          0.22773014717152348,
          -0.03437168840993508,
          0.37740723738500476,
          0.017018391073390857,
          0.42879731686833067,
          -0.4113480598947541,
          0.16669548128687212
         ],
         "y": [
          0.3394821982016464,
          0.6122760775836347,
          0.4780845694267535,
          0.2702500514610758,
          0.07230977077404502,
          0.3212602604408357,
          0.14506805153090033,
          0.43668844872612356,
          0.3024969405692425,
          0.09466242260356478,
          -0.10327785808346601,
          0.14567263158332466,
          -0.11157421356935146,
          -0.030519577326610703,
          0.41846651096531295,
          0.2842750028084318,
          0.027028157655755697,
          -0.17251000482403656,
          0.07644048484275413,
          -0.180806360309922,
          -0.12149979584427666,
          -0.37874664099695277,
          -0.29769200475421204,
          -0.1297961513301621,
          -0.04874151508742135,
          -0.6935214982414191,
          -0.30598836024009746
         ]
        }
       ],
       "layout": {
        "autosize": false,
        "height": 500,
        "hovermode": "closest",
        "margin": {
         "b": 10,
         "l": 10,
         "r": 10,
         "t": 10
        },
        "plot_bgcolor": "rgba(0,0,0,0)",
        "showlegend": false,
        "template": {
         "data": {
          "bar": [
           {
            "error_x": {
             "color": "#2a3f5f"
            },
            "error_y": {
             "color": "#2a3f5f"
            },
            "marker": {
             "line": {
              "color": "#E5ECF6",
              "width": 0.5
             }
            },
            "type": "bar"
           }
          ],
          "barpolar": [
           {
            "marker": {
             "line": {
              "color": "#E5ECF6",
              "width": 0.5
             }
            },
            "type": "barpolar"
           }
          ],
          "carpet": [
           {
            "aaxis": {
             "endlinecolor": "#2a3f5f",
             "gridcolor": "white",
             "linecolor": "white",
             "minorgridcolor": "white",
             "startlinecolor": "#2a3f5f"
            },
            "baxis": {
             "endlinecolor": "#2a3f5f",
             "gridcolor": "white",
             "linecolor": "white",
             "minorgridcolor": "white",
             "startlinecolor": "#2a3f5f"
            },
            "type": "carpet"
           }
          ],
          "choropleth": [
           {
            "colorbar": {
             "outlinewidth": 0,
             "ticks": ""
            },
            "type": "choropleth"
           }
          ],
          "contour": [
           {
            "colorbar": {
             "outlinewidth": 0,
             "ticks": ""
            },
            "colorscale": [
             [
              0,
              "#0d0887"
             ],
             [
              0.1111111111111111,
              "#46039f"
             ],
             [
              0.2222222222222222,
              "#7201a8"
             ],
             [
              0.3333333333333333,
              "#9c179e"
             ],
             [
              0.4444444444444444,
              "#bd3786"
             ],
             [
              0.5555555555555556,
              "#d8576b"
             ],
             [
              0.6666666666666666,
              "#ed7953"
             ],
             [
              0.7777777777777778,
              "#fb9f3a"
             ],
             [
              0.8888888888888888,
              "#fdca26"
             ],
             [
              1,
              "#f0f921"
             ]
            ],
            "type": "contour"
           }
          ],
          "contourcarpet": [
           {
            "colorbar": {
             "outlinewidth": 0,
             "ticks": ""
            },
            "type": "contourcarpet"
           }
          ],
          "heatmap": [
           {
            "colorbar": {
             "outlinewidth": 0,
             "ticks": ""
            },
            "colorscale": [
             [
              0,
              "#0d0887"
             ],
             [
              0.1111111111111111,
              "#46039f"
             ],
             [
              0.2222222222222222,
              "#7201a8"
             ],
             [
              0.3333333333333333,
              "#9c179e"
             ],
             [
              0.4444444444444444,
              "#bd3786"
             ],
             [
              0.5555555555555556,
              "#d8576b"
             ],
             [
              0.6666666666666666,
              "#ed7953"
             ],
             [
              0.7777777777777778,
              "#fb9f3a"
             ],
             [
              0.8888888888888888,
              "#fdca26"
             ],
             [
              1,
              "#f0f921"
             ]
            ],
            "type": "heatmap"
           }
          ],
          "heatmapgl": [
           {
            "colorbar": {
             "outlinewidth": 0,
             "ticks": ""
            },
            "colorscale": [
             [
              0,
              "#0d0887"
             ],
             [
              0.1111111111111111,
              "#46039f"
             ],
             [
              0.2222222222222222,
              "#7201a8"
             ],
             [
              0.3333333333333333,
              "#9c179e"
             ],
             [
              0.4444444444444444,
              "#bd3786"
             ],
             [
              0.5555555555555556,
              "#d8576b"
             ],
             [
              0.6666666666666666,
              "#ed7953"
             ],
             [
              0.7777777777777778,
              "#fb9f3a"
             ],
             [
              0.8888888888888888,
              "#fdca26"
             ],
             [
              1,
              "#f0f921"
             ]
            ],
            "type": "heatmapgl"
           }
          ],
          "histogram": [
           {
            "marker": {
             "colorbar": {
              "outlinewidth": 0,
              "ticks": ""
             }
            },
            "type": "histogram"
           }
          ],
          "histogram2d": [
           {
            "colorbar": {
             "outlinewidth": 0,
             "ticks": ""
            },
            "colorscale": [
             [
              0,
              "#0d0887"
             ],
             [
              0.1111111111111111,
              "#46039f"
             ],
             [
              0.2222222222222222,
              "#7201a8"
             ],
             [
              0.3333333333333333,
              "#9c179e"
             ],
             [
              0.4444444444444444,
              "#bd3786"
             ],
             [
              0.5555555555555556,
              "#d8576b"
             ],
             [
              0.6666666666666666,
              "#ed7953"
             ],
             [
              0.7777777777777778,
              "#fb9f3a"
             ],
             [
              0.8888888888888888,
              "#fdca26"
             ],
             [
              1,
              "#f0f921"
             ]
            ],
            "type": "histogram2d"
           }
          ],
          "histogram2dcontour": [
           {
            "colorbar": {
             "outlinewidth": 0,
             "ticks": ""
            },
            "colorscale": [
             [
              0,
              "#0d0887"
             ],
             [
              0.1111111111111111,
              "#46039f"
             ],
             [
              0.2222222222222222,
              "#7201a8"
             ],
             [
              0.3333333333333333,
              "#9c179e"
             ],
             [
              0.4444444444444444,
              "#bd3786"
             ],
             [
              0.5555555555555556,
              "#d8576b"
             ],
             [
              0.6666666666666666,
              "#ed7953"
             ],
             [
              0.7777777777777778,
              "#fb9f3a"
             ],
             [
              0.8888888888888888,
              "#fdca26"
             ],
             [
              1,
              "#f0f921"
             ]
            ],
            "type": "histogram2dcontour"
           }
          ],
          "mesh3d": [
           {
            "colorbar": {
             "outlinewidth": 0,
             "ticks": ""
            },
            "type": "mesh3d"
           }
          ],
          "parcoords": [
           {
            "line": {
             "colorbar": {
              "outlinewidth": 0,
              "ticks": ""
             }
            },
            "type": "parcoords"
           }
          ],
          "pie": [
           {
            "automargin": true,
            "type": "pie"
           }
          ],
          "scatter": [
           {
            "marker": {
             "colorbar": {
              "outlinewidth": 0,
              "ticks": ""
             }
            },
            "type": "scatter"
           }
          ],
          "scatter3d": [
           {
            "line": {
             "colorbar": {
              "outlinewidth": 0,
              "ticks": ""
             }
            },
            "marker": {
             "colorbar": {
              "outlinewidth": 0,
              "ticks": ""
             }
            },
            "type": "scatter3d"
           }
          ],
          "scattercarpet": [
           {
            "marker": {
             "colorbar": {
              "outlinewidth": 0,
              "ticks": ""
             }
            },
            "type": "scattercarpet"
           }
          ],
          "scattergeo": [
           {
            "marker": {
             "colorbar": {
              "outlinewidth": 0,
              "ticks": ""
             }
            },
            "type": "scattergeo"
           }
          ],
          "scattergl": [
           {
            "marker": {
             "colorbar": {
              "outlinewidth": 0,
              "ticks": ""
             }
            },
            "type": "scattergl"
           }
          ],
          "scattermapbox": [
           {
            "marker": {
             "colorbar": {
              "outlinewidth": 0,
              "ticks": ""
             }
            },
            "type": "scattermapbox"
           }
          ],
          "scatterpolar": [
           {
            "marker": {
             "colorbar": {
              "outlinewidth": 0,
              "ticks": ""
             }
            },
            "type": "scatterpolar"
           }
          ],
          "scatterpolargl": [
           {
            "marker": {
             "colorbar": {
              "outlinewidth": 0,
              "ticks": ""
             }
            },
            "type": "scatterpolargl"
           }
          ],
          "scatterternary": [
           {
            "marker": {
             "colorbar": {
              "outlinewidth": 0,
              "ticks": ""
             }
            },
            "type": "scatterternary"
           }
          ],
          "surface": [
           {
            "colorbar": {
             "outlinewidth": 0,
             "ticks": ""
            },
            "colorscale": [
             [
              0,
              "#0d0887"
             ],
             [
              0.1111111111111111,
              "#46039f"
             ],
             [
              0.2222222222222222,
              "#7201a8"
             ],
             [
              0.3333333333333333,
              "#9c179e"
             ],
             [
              0.4444444444444444,
              "#bd3786"
             ],
             [
              0.5555555555555556,
              "#d8576b"
             ],
             [
              0.6666666666666666,
              "#ed7953"
             ],
             [
              0.7777777777777778,
              "#fb9f3a"
             ],
             [
              0.8888888888888888,
              "#fdca26"
             ],
             [
              1,
              "#f0f921"
             ]
            ],
            "type": "surface"
           }
          ],
          "table": [
           {
            "cells": {
             "fill": {
              "color": "#EBF0F8"
             },
             "line": {
              "color": "white"
             }
            },
            "header": {
             "fill": {
              "color": "#C8D4E3"
             },
             "line": {
              "color": "white"
             }
            },
            "type": "table"
           }
          ]
         },
         "layout": {
          "annotationdefaults": {
           "arrowcolor": "#2a3f5f",
           "arrowhead": 0,
           "arrowwidth": 1
          },
          "autotypenumbers": "strict",
          "coloraxis": {
           "colorbar": {
            "outlinewidth": 0,
            "ticks": ""
           }
          },
          "colorscale": {
           "diverging": [
            [
             0,
             "#8e0152"
            ],
            [
             0.1,
             "#c51b7d"
            ],
            [
             0.2,
             "#de77ae"
            ],
            [
             0.3,
             "#f1b6da"
            ],
            [
             0.4,
             "#fde0ef"
            ],
            [
             0.5,
             "#f7f7f7"
            ],
            [
             0.6,
             "#e6f5d0"
            ],
            [
             0.7,
             "#b8e186"
            ],
            [
             0.8,
             "#7fbc41"
            ],
            [
             0.9,
             "#4d9221"
            ],
            [
             1,
             "#276419"
            ]
           ],
           "sequential": [
            [
             0,
             "#0d0887"
            ],
            [
             0.1111111111111111,
             "#46039f"
            ],
            [
             0.2222222222222222,
             "#7201a8"
            ],
            [
             0.3333333333333333,
             "#9c179e"
            ],
            [
             0.4444444444444444,
             "#bd3786"
            ],
            [
             0.5555555555555556,
             "#d8576b"
            ],
            [
             0.6666666666666666,
             "#ed7953"
            ],
            [
             0.7777777777777778,
             "#fb9f3a"
            ],
            [
             0.8888888888888888,
             "#fdca26"
            ],
            [
             1,
             "#f0f921"
            ]
           ],
           "sequentialminus": [
            [
             0,
             "#0d0887"
            ],
            [
             0.1111111111111111,
             "#46039f"
            ],
            [
             0.2222222222222222,
             "#7201a8"
            ],
            [
             0.3333333333333333,
             "#9c179e"
            ],
            [
             0.4444444444444444,
             "#bd3786"
            ],
            [
             0.5555555555555556,
             "#d8576b"
            ],
            [
             0.6666666666666666,
             "#ed7953"
            ],
            [
             0.7777777777777778,
             "#fb9f3a"
            ],
            [
             0.8888888888888888,
             "#fdca26"
            ],
            [
             1,
             "#f0f921"
            ]
           ]
          },
          "colorway": [
           "#636efa",
           "#EF553B",
           "#00cc96",
           "#ab63fa",
           "#FFA15A",
           "#19d3f3",
           "#FF6692",
           "#B6E880",
           "#FF97FF",
           "#FECB52"
          ],
          "font": {
           "color": "#2a3f5f"
          },
          "geo": {
           "bgcolor": "white",
           "lakecolor": "white",
           "landcolor": "#E5ECF6",
           "showlakes": true,
           "showland": true,
           "subunitcolor": "white"
          },
          "hoverlabel": {
           "align": "left"
          },
          "hovermode": "closest",
          "mapbox": {
           "style": "light"
          },
          "paper_bgcolor": "white",
          "plot_bgcolor": "#E5ECF6",
          "polar": {
           "angularaxis": {
            "gridcolor": "white",
            "linecolor": "white",
            "ticks": ""
           },
           "bgcolor": "#E5ECF6",
           "radialaxis": {
            "gridcolor": "white",
            "linecolor": "white",
            "ticks": ""
           }
          },
          "scene": {
           "xaxis": {
            "backgroundcolor": "#E5ECF6",
            "gridcolor": "white",
            "gridwidth": 2,
            "linecolor": "white",
            "showbackground": true,
            "ticks": "",
            "zerolinecolor": "white"
           },
           "yaxis": {
            "backgroundcolor": "#E5ECF6",
            "gridcolor": "white",
            "gridwidth": 2,
            "linecolor": "white",
            "showbackground": true,
            "ticks": "",
            "zerolinecolor": "white"
           },
           "zaxis": {
            "backgroundcolor": "#E5ECF6",
            "gridcolor": "white",
            "gridwidth": 2,
            "linecolor": "white",
            "showbackground": true,
            "ticks": "",
            "zerolinecolor": "white"
           }
          },
          "shapedefaults": {
           "line": {
            "color": "#2a3f5f"
           }
          },
          "ternary": {
           "aaxis": {
            "gridcolor": "white",
            "linecolor": "white",
            "ticks": ""
           },
           "baxis": {
            "gridcolor": "white",
            "linecolor": "white",
            "ticks": ""
           },
           "bgcolor": "#E5ECF6",
           "caxis": {
            "gridcolor": "white",
            "linecolor": "white",
            "ticks": ""
           }
          },
          "title": {
           "x": 0.05
          },
          "xaxis": {
           "automargin": true,
           "gridcolor": "white",
           "linecolor": "white",
           "ticks": "",
           "title": {
            "standoff": 15
           },
           "zerolinecolor": "white",
           "zerolinewidth": 2
          },
          "yaxis": {
           "automargin": true,
           "gridcolor": "white",
           "linecolor": "white",
           "ticks": "",
           "title": {
            "standoff": 15
           },
           "zerolinecolor": "white",
           "zerolinewidth": 2
          }
         }
        },
        "title": {
         "font": {
          "size": 16
         }
        },
        "width": 500,
        "xaxis": {
         "range": [
          -1.15,
          1.05
         ],
         "showgrid": false,
         "showticklabels": false,
         "zeroline": false
        },
        "yaxis": {
         "range": [
          -1.15,
          1.05
         ],
         "showgrid": false,
         "showticklabels": false,
         "zeroline": false
        }
       }
      },
      "text/html": [
       "<div>                            <div id=\"ca4c9b8e-d8f4-4774-8c90-dd1ac592c56f\" class=\"plotly-graph-div\" style=\"height:500px; width:500px;\"></div>            <script type=\"text/javascript\">                require([\"plotly\"], function(Plotly) {                    window.PLOTLYENV=window.PLOTLYENV || {};                                    if (document.getElementById(\"ca4c9b8e-d8f4-4774-8c90-dd1ac592c56f\")) {                    Plotly.newPlot(                        \"ca4c9b8e-d8f4-4774-8c90-dd1ac592c56f\",                        [{\"line\": {\"color\": \"#000000\", \"width\": 1}, \"mode\": \"lines\", \"type\": \"scatter\", \"x\": [-0.015882641729728045, 0.2791202266548494, null, 0.2791202266548494, 0.578474407081812, null], \"y\": [0.16389456934413532, 0.12745069382251403, null, 0.12745069382251403, -0.22493372399735673, null]}, {\"line\": {\"color\": \"#404040\", \"width\": 0.7}, \"mode\": \"lines\", \"type\": \"scatter\", \"x\": [-0.015882641729728045, 0.578474407081812, null, 0.6109766582939566, 0.2791202266548494, null, -0.4769466378775283, 0.2791202266548494, null, 0.2791202266548494, -0.2450834445080677, null], \"y\": [0.16389456934413532, -0.22493372399735673, null, 0.7094823281081118, 0.12745069382251403, null, 0.44109931179434964, 0.12745069382251403, null, 0.12745069382251403, -0.38704299648283824, null]}, {\"line\": {\"color\": \"#C0C0C0\", \"width\": 0.5}, \"mode\": \"lines\", \"type\": \"scatter\", \"x\": [0.13362986934734103, -0.015882641729728045, null, 0.13362986934734103, 0.6109766582939566, null, 0.13362986934734103, -0.4769466378775283, null, 0.13362986934734103, -0.4630158296693923, null, 0.13362986934734103, 0.17634006768819754, null, 0.13362986934734103, 0.2791202266548494, null, 0.13362986934734103, 0.578474407081812, null, -0.015882641729728045, 0.6109766582939566, null, -0.015882641729728045, -0.4769466378775283, null, -0.015882641729728045, -0.4630158296693923, null, -0.015882641729728045, 0.17634006768819754, null, -0.015882641729728045, -0.2450834445080677, null, -0.4769466378775283, -0.2450834445080677, null, -0.4630158296693923, 0.17634006768819754, null, -0.4630158296693923, 0.2791202266548494, null, -0.4630158296693923, -0.2450834445080677, null, 0.17634006768819754, 0.2791202266548494, null, 0.17634006768819754, -0.2450834445080677, null, 0.17634006768819754, 0.578474407081812, null, -0.2450834445080677, -0.5776126752814404, null, -0.2450834445080677, 0.578474407081812, null], \"y\": [0.5150698270591574, 0.16389456934413532, null, 0.5150698270591574, 0.7094823281081118, null, 0.5150698270591574, 0.44109931179434964, null, 0.5150698270591574, 0.025430275862994223, null, 0.5150698270591574, -0.37045028551106735, null, 0.5150698270591574, 0.12745069382251403, null, 0.5150698270591574, -0.22493372399735673, null, 0.16389456934413532, 0.7094823281081118, null, 0.16389456934413532, 0.44109931179434964, null, 0.16389456934413532, 0.025430275862994223, null, 0.16389456934413532, -0.37045028551106735, null, 0.16389456934413532, -0.38704299648283824, null, 0.44109931179434964, -0.38704299648283824, null, 0.025430275862994223, -0.37045028551106735, null, 0.025430275862994223, 0.12745069382251403, null, 0.025430275862994223, -0.38704299648283824, null, -0.37045028551106735, 0.12745069382251403, null, -0.37045028551106735, -0.38704299648283824, null, -0.37045028551106735, -0.22493372399735673, null, -0.38704299648283824, -1.0, null, -0.38704299648283824, -0.22493372399735673, null]}, {\"hoverinfo\": \"text\", \"hovertext\": [\"7\", \"8\", \"3\", \"4\", \"5\", \"6\", \"8\", \"7\", \"1\", \"5\"], \"marker\": {\"color\": [56, 54, 8, 16, 30, 27, 19, 20, 5, 7], \"colorbar\": {\"thickness\": 15, \"title\": {\"side\": \"right\", \"text\": \"degree\"}, \"xanchor\": \"left\"}, \"colorscale\": [[0.0, \"rgb(255,255,255)\"], [0.125, \"rgb(240,240,240)\"], [0.25, \"rgb(217,217,217)\"], [0.375, \"rgb(189,189,189)\"], [0.5, \"rgb(150,150,150)\"], [0.625, \"rgb(115,115,115)\"], [0.75, \"rgb(82,82,82)\"], [0.875, \"rgb(37,37,37)\"], [1.0, \"rgb(0,0,0)\"]], \"line\": {\"width\": 1}, \"showscale\": false, \"size\": 7}, \"mode\": \"markers+text\", \"text\": [\"\\u1f04\\u03bd\\u03b8\\u03c1\\u03c9\\u03c0\\u03bf\\u03c2\", \"\\u03ba\\u03cd\\u03c1\\u03b9\\u03bf\\u03c2\", \"\\u03c0\\u1fb6\\u03c2\", \"\\u03b5\\u1f30\\u03bc\\u03af\", \"\\u03b4\\u03b9\\u03ba\\u03b1\\u03b9\\u03bf\\u03c3\\u03cd\\u03bd\\u03b7\", \"\\u1f00\\u03bb\\u03ae\\u03b8\\u03b5\\u03b9\\u03b1\", \"\\u03b8\\u03b5\\u03cc\\u03c2\", \"\\u03c0\\u03af\\u03c3\\u03c4\\u03b9\\u03c2\", \"\\u1f00\\u03b3\\u03ac\\u03c0\\u03b7\", \"\\u03c7\\u03c1\\u03b9\\u03c3\\u03c4\\u03cc\\u03c2\"], \"textposition\": \"bottom center\", \"type\": \"scatter\", \"x\": [0.13362986934734103, -0.015882641729728045, 0.6109766582939566, -0.4769466378775283, -0.4630158296693923, 0.17634006768819754, 0.2791202266548494, -0.2450834445080677, -0.5776126752814404, 0.578474407081812], \"y\": [0.5150698270591574, 0.16389456934413532, 0.7094823281081118, 0.44109931179434964, 0.025430275862994223, -0.37045028551106735, 0.12745069382251403, -0.38704299648283824, -1.0, -0.22493372399735673]}, {\"hoverinfo\": \"text\", \"marker\": {\"opacity\": 0}, \"mode\": \"markers\", \"opacity\": 0, \"text\": [\"10\", \"19\", \"13\", \"3\", \"8\", \"22\", \"26\", \"27\", \"25\", \"3\", \"8\", \"59\", \"20\", \"56\", \"42\", \"49\", \"15\", \"4\", \"3\", \"3\", \"19\", \"12\", \"9\", \"40\", \"95\", \"16\", \"29\"], \"type\": \"scatter\", \"x\": [0.05887361380880649, 0.3723032638206488, -0.1716583842650936, -0.16469298016102563, 0.15498496851776927, 0.20637504800109524, 0.3560521382145765, 0.2975470082821143, -0.24641463980362815, -0.23944923569956017, 0.08022871297923476, 0.1316187924625607, -0.13048304311889788, 0.28129588267604194, 0.445048442474403, -0.09891320561133943, -0.361015041192798, -0.14333788099059738, -0.09194780150727144, -0.35404963708873, 0.22773014717152348, -0.03437168840993508, 0.37740723738500476, 0.017018391073390857, 0.42879731686833067, -0.4113480598947541, 0.16669548128687212], \"y\": [0.3394821982016464, 0.6122760775836347, 0.4780845694267535, 0.2702500514610758, 0.07230977077404502, 0.3212602604408357, 0.14506805153090033, 0.43668844872612356, 0.3024969405692425, 0.09466242260356478, -0.10327785808346601, 0.14567263158332466, -0.11157421356935146, -0.030519577326610703, 0.41846651096531295, 0.2842750028084318, 0.027028157655755697, -0.17251000482403656, 0.07644048484275413, -0.180806360309922, -0.12149979584427666, -0.37874664099695277, -0.29769200475421204, -0.1297961513301621, -0.04874151508742135, -0.6935214982414191, -0.30598836024009746]}],                        {\"autosize\": false, \"height\": 500, \"hovermode\": \"closest\", \"margin\": {\"b\": 10, \"l\": 10, \"r\": 10, \"t\": 10}, \"plot_bgcolor\": \"rgba(0,0,0,0)\", \"showlegend\": false, \"template\": {\"data\": {\"bar\": [{\"error_x\": {\"color\": \"#2a3f5f\"}, \"error_y\": {\"color\": \"#2a3f5f\"}, \"marker\": {\"line\": {\"color\": \"#E5ECF6\", \"width\": 0.5}}, \"type\": \"bar\"}], \"barpolar\": [{\"marker\": {\"line\": {\"color\": \"#E5ECF6\", \"width\": 0.5}}, \"type\": \"barpolar\"}], \"carpet\": [{\"aaxis\": {\"endlinecolor\": \"#2a3f5f\", \"gridcolor\": \"white\", \"linecolor\": \"white\", \"minorgridcolor\": \"white\", \"startlinecolor\": \"#2a3f5f\"}, \"baxis\": {\"endlinecolor\": \"#2a3f5f\", \"gridcolor\": \"white\", \"linecolor\": \"white\", \"minorgridcolor\": \"white\", \"startlinecolor\": \"#2a3f5f\"}, \"type\": \"carpet\"}], \"choropleth\": [{\"colorbar\": {\"outlinewidth\": 0, \"ticks\": \"\"}, \"type\": \"choropleth\"}], \"contour\": [{\"colorbar\": {\"outlinewidth\": 0, \"ticks\": \"\"}, \"colorscale\": [[0.0, \"#0d0887\"], [0.1111111111111111, \"#46039f\"], [0.2222222222222222, \"#7201a8\"], [0.3333333333333333, \"#9c179e\"], [0.4444444444444444, \"#bd3786\"], [0.5555555555555556, \"#d8576b\"], [0.6666666666666666, \"#ed7953\"], [0.7777777777777778, \"#fb9f3a\"], [0.8888888888888888, \"#fdca26\"], [1.0, \"#f0f921\"]], \"type\": \"contour\"}], \"contourcarpet\": [{\"colorbar\": {\"outlinewidth\": 0, \"ticks\": \"\"}, \"type\": \"contourcarpet\"}], \"heatmap\": [{\"colorbar\": {\"outlinewidth\": 0, \"ticks\": \"\"}, \"colorscale\": [[0.0, \"#0d0887\"], [0.1111111111111111, \"#46039f\"], [0.2222222222222222, \"#7201a8\"], [0.3333333333333333, \"#9c179e\"], [0.4444444444444444, \"#bd3786\"], [0.5555555555555556, \"#d8576b\"], [0.6666666666666666, \"#ed7953\"], [0.7777777777777778, \"#fb9f3a\"], [0.8888888888888888, \"#fdca26\"], [1.0, \"#f0f921\"]], \"type\": \"heatmap\"}], \"heatmapgl\": [{\"colorbar\": {\"outlinewidth\": 0, \"ticks\": \"\"}, \"colorscale\": [[0.0, \"#0d0887\"], [0.1111111111111111, \"#46039f\"], [0.2222222222222222, \"#7201a8\"], [0.3333333333333333, \"#9c179e\"], [0.4444444444444444, \"#bd3786\"], [0.5555555555555556, \"#d8576b\"], [0.6666666666666666, \"#ed7953\"], [0.7777777777777778, \"#fb9f3a\"], [0.8888888888888888, \"#fdca26\"], [1.0, \"#f0f921\"]], \"type\": \"heatmapgl\"}], \"histogram\": [{\"marker\": {\"colorbar\": {\"outlinewidth\": 0, \"ticks\": \"\"}}, \"type\": \"histogram\"}], \"histogram2d\": [{\"colorbar\": {\"outlinewidth\": 0, \"ticks\": \"\"}, \"colorscale\": [[0.0, \"#0d0887\"], [0.1111111111111111, \"#46039f\"], [0.2222222222222222, \"#7201a8\"], [0.3333333333333333, \"#9c179e\"], [0.4444444444444444, \"#bd3786\"], [0.5555555555555556, \"#d8576b\"], [0.6666666666666666, \"#ed7953\"], [0.7777777777777778, \"#fb9f3a\"], [0.8888888888888888, \"#fdca26\"], [1.0, \"#f0f921\"]], \"type\": \"histogram2d\"}], \"histogram2dcontour\": [{\"colorbar\": {\"outlinewidth\": 0, \"ticks\": \"\"}, \"colorscale\": [[0.0, \"#0d0887\"], [0.1111111111111111, \"#46039f\"], [0.2222222222222222, \"#7201a8\"], [0.3333333333333333, \"#9c179e\"], [0.4444444444444444, \"#bd3786\"], [0.5555555555555556, \"#d8576b\"], [0.6666666666666666, \"#ed7953\"], [0.7777777777777778, \"#fb9f3a\"], [0.8888888888888888, \"#fdca26\"], [1.0, \"#f0f921\"]], \"type\": \"histogram2dcontour\"}], \"mesh3d\": [{\"colorbar\": {\"outlinewidth\": 0, \"ticks\": \"\"}, \"type\": \"mesh3d\"}], \"parcoords\": [{\"line\": {\"colorbar\": {\"outlinewidth\": 0, \"ticks\": \"\"}}, \"type\": \"parcoords\"}], \"pie\": [{\"automargin\": true, \"type\": \"pie\"}], \"scatter\": [{\"marker\": {\"colorbar\": {\"outlinewidth\": 0, \"ticks\": \"\"}}, \"type\": \"scatter\"}], \"scatter3d\": [{\"line\": {\"colorbar\": {\"outlinewidth\": 0, \"ticks\": \"\"}}, \"marker\": {\"colorbar\": {\"outlinewidth\": 0, \"ticks\": \"\"}}, \"type\": \"scatter3d\"}], \"scattercarpet\": [{\"marker\": {\"colorbar\": {\"outlinewidth\": 0, \"ticks\": \"\"}}, \"type\": \"scattercarpet\"}], \"scattergeo\": [{\"marker\": {\"colorbar\": {\"outlinewidth\": 0, \"ticks\": \"\"}}, \"type\": \"scattergeo\"}], \"scattergl\": [{\"marker\": {\"colorbar\": {\"outlinewidth\": 0, \"ticks\": \"\"}}, \"type\": \"scattergl\"}], \"scattermapbox\": [{\"marker\": {\"colorbar\": {\"outlinewidth\": 0, \"ticks\": \"\"}}, \"type\": \"scattermapbox\"}], \"scatterpolar\": [{\"marker\": {\"colorbar\": {\"outlinewidth\": 0, \"ticks\": \"\"}}, \"type\": \"scatterpolar\"}], \"scatterpolargl\": [{\"marker\": {\"colorbar\": {\"outlinewidth\": 0, \"ticks\": \"\"}}, \"type\": \"scatterpolargl\"}], \"scatterternary\": [{\"marker\": {\"colorbar\": {\"outlinewidth\": 0, \"ticks\": \"\"}}, \"type\": \"scatterternary\"}], \"surface\": [{\"colorbar\": {\"outlinewidth\": 0, \"ticks\": \"\"}, \"colorscale\": [[0.0, \"#0d0887\"], [0.1111111111111111, \"#46039f\"], [0.2222222222222222, \"#7201a8\"], [0.3333333333333333, \"#9c179e\"], [0.4444444444444444, \"#bd3786\"], [0.5555555555555556, \"#d8576b\"], [0.6666666666666666, \"#ed7953\"], [0.7777777777777778, \"#fb9f3a\"], [0.8888888888888888, \"#fdca26\"], [1.0, \"#f0f921\"]], \"type\": \"surface\"}], \"table\": [{\"cells\": {\"fill\": {\"color\": \"#EBF0F8\"}, \"line\": {\"color\": \"white\"}}, \"header\": {\"fill\": {\"color\": \"#C8D4E3\"}, \"line\": {\"color\": \"white\"}}, \"type\": \"table\"}]}, \"layout\": {\"annotationdefaults\": {\"arrowcolor\": \"#2a3f5f\", \"arrowhead\": 0, \"arrowwidth\": 1}, \"autotypenumbers\": \"strict\", \"coloraxis\": {\"colorbar\": {\"outlinewidth\": 0, \"ticks\": \"\"}}, \"colorscale\": {\"diverging\": [[0, \"#8e0152\"], [0.1, \"#c51b7d\"], [0.2, \"#de77ae\"], [0.3, \"#f1b6da\"], [0.4, \"#fde0ef\"], [0.5, \"#f7f7f7\"], [0.6, \"#e6f5d0\"], [0.7, \"#b8e186\"], [0.8, \"#7fbc41\"], [0.9, \"#4d9221\"], [1, \"#276419\"]], \"sequential\": [[0.0, \"#0d0887\"], [0.1111111111111111, \"#46039f\"], [0.2222222222222222, \"#7201a8\"], [0.3333333333333333, \"#9c179e\"], [0.4444444444444444, \"#bd3786\"], [0.5555555555555556, \"#d8576b\"], [0.6666666666666666, \"#ed7953\"], [0.7777777777777778, \"#fb9f3a\"], [0.8888888888888888, \"#fdca26\"], [1.0, \"#f0f921\"]], \"sequentialminus\": [[0.0, \"#0d0887\"], [0.1111111111111111, \"#46039f\"], [0.2222222222222222, \"#7201a8\"], [0.3333333333333333, \"#9c179e\"], [0.4444444444444444, \"#bd3786\"], [0.5555555555555556, \"#d8576b\"], [0.6666666666666666, \"#ed7953\"], [0.7777777777777778, \"#fb9f3a\"], [0.8888888888888888, \"#fdca26\"], [1.0, \"#f0f921\"]]}, \"colorway\": [\"#636efa\", \"#EF553B\", \"#00cc96\", \"#ab63fa\", \"#FFA15A\", \"#19d3f3\", \"#FF6692\", \"#B6E880\", \"#FF97FF\", \"#FECB52\"], \"font\": {\"color\": \"#2a3f5f\"}, \"geo\": {\"bgcolor\": \"white\", \"lakecolor\": \"white\", \"landcolor\": \"#E5ECF6\", \"showlakes\": true, \"showland\": true, \"subunitcolor\": \"white\"}, \"hoverlabel\": {\"align\": \"left\"}, \"hovermode\": \"closest\", \"mapbox\": {\"style\": \"light\"}, \"paper_bgcolor\": \"white\", \"plot_bgcolor\": \"#E5ECF6\", \"polar\": {\"angularaxis\": {\"gridcolor\": \"white\", \"linecolor\": \"white\", \"ticks\": \"\"}, \"bgcolor\": \"#E5ECF6\", \"radialaxis\": {\"gridcolor\": \"white\", \"linecolor\": \"white\", \"ticks\": \"\"}}, \"scene\": {\"xaxis\": {\"backgroundcolor\": \"#E5ECF6\", \"gridcolor\": \"white\", \"gridwidth\": 2, \"linecolor\": \"white\", \"showbackground\": true, \"ticks\": \"\", \"zerolinecolor\": \"white\"}, \"yaxis\": {\"backgroundcolor\": \"#E5ECF6\", \"gridcolor\": \"white\", \"gridwidth\": 2, \"linecolor\": \"white\", \"showbackground\": true, \"ticks\": \"\", \"zerolinecolor\": \"white\"}, \"zaxis\": {\"backgroundcolor\": \"#E5ECF6\", \"gridcolor\": \"white\", \"gridwidth\": 2, \"linecolor\": \"white\", \"showbackground\": true, \"ticks\": \"\", \"zerolinecolor\": \"white\"}}, \"shapedefaults\": {\"line\": {\"color\": \"#2a3f5f\"}}, \"ternary\": {\"aaxis\": {\"gridcolor\": \"white\", \"linecolor\": \"white\", \"ticks\": \"\"}, \"baxis\": {\"gridcolor\": \"white\", \"linecolor\": \"white\", \"ticks\": \"\"}, \"bgcolor\": \"#E5ECF6\", \"caxis\": {\"gridcolor\": \"white\", \"linecolor\": \"white\", \"ticks\": \"\"}}, \"title\": {\"x\": 0.05}, \"xaxis\": {\"automargin\": true, \"gridcolor\": \"white\", \"linecolor\": \"white\", \"ticks\": \"\", \"title\": {\"standoff\": 15}, \"zerolinecolor\": \"white\", \"zerolinewidth\": 2}, \"yaxis\": {\"automargin\": true, \"gridcolor\": \"white\", \"linecolor\": \"white\", \"ticks\": \"\", \"title\": {\"standoff\": 15}, \"zerolinecolor\": \"white\", \"zerolinewidth\": 2}}}, \"title\": {\"font\": {\"size\": 16}}, \"width\": 500, \"xaxis\": {\"range\": [-1.15, 1.05], \"showgrid\": false, \"showticklabels\": false, \"zeroline\": false}, \"yaxis\": {\"range\": [-1.15, 1.05], \"showgrid\": false, \"showticklabels\": false, \"zeroline\": false}},                        {\"responsive\": true}                    ).then(function(){\n",
       "                            \n",
       "var gd = document.getElementById('ca4c9b8e-d8f4-4774-8c90-dd1ac592c56f');\n",
       "var x = new MutationObserver(function (mutations, observer) {{\n",
       "        var display = window.getComputedStyle(gd).display;\n",
       "        if (!display || display === 'none') {{\n",
       "            console.log([gd, 'removed!']);\n",
       "            Plotly.purge(gd);\n",
       "            observer.disconnect();\n",
       "        }}\n",
       "}});\n",
       "\n",
       "// Listen for the removal of the full notebook cells\n",
       "var notebookContainer = gd.closest('#notebook-container');\n",
       "if (notebookContainer) {{\n",
       "    x.observe(notebookContainer, {childList: true});\n",
       "}}\n",
       "\n",
       "// Listen for the clearing of the current output cell\n",
       "var outputEl = gd.closest('.output');\n",
       "if (outputEl) {{\n",
       "    x.observe(outputEl, {childList: true});\n",
       "}}\n",
       "\n",
       "                        })                };                });            </script>        </div>"
      ]
     },
     "metadata": {},
     "output_type": "display_data"
    }
   ],
   "source": [
    "G = authors_df[authors_df[\"author\"].str.contains(\"Pauline \")][\"dikaiosyne_G_sents\"].tolist()[0]\n",
    "fig = textnet.draw_2d_network(G)\n",
    "fig.show()"
   ]
  },
  {
   "cell_type": "code",
   "execution_count": null,
   "metadata": {},
   "outputs": [],
   "source": []
  },
  {
   "cell_type": "code",
   "execution_count": 188,
   "metadata": {},
   "outputs": [
    {
     "name": "stdout",
     "output_type": "stream",
     "text": [
      "Your <class 'plotly.graph_objs._figure.Figure'> object has been succefully written as \"https://sciencedata.dk/files/SDAM_root/SDAM_data/ECCE_public/G_sents_pauline.png\"\n"
     ]
    }
   ],
   "source": [
    "sddk.write_file(\"SDAM_data/ECCE_public/G_sents_pauline.png\",fig, conf)"
   ]
  },
  {
   "cell_type": "markdown",
   "metadata": {},
   "source": [
    "# N of shared terms within dik_sents_TFIDF_10"
   ]
  },
  {
   "cell_type": "code",
   "execution_count": 271,
   "metadata": {},
   "outputs": [
    {
     "data": {
      "text/plain": [
       "['οὗτος, ἐντολή, πτωχός, διώκω, θεάομαι, ἀδελφός, ἐπιτρέπω, προεπεκαλέσασθέ, τὶς, πληρόω',\n",
       " 'πίστις, ἁμαρτία, νόμος, λογίζομαι, θεός, βασιλεύω, δοῦλος, παρίστημι, πιστεύω, Χριστός',\n",
       " 'καυχάομαι, πίστις, πύλη, θεός, δύσις, ἀγάπη, πατήρ, ὑπομονή, ἄνθρωπος, Ἀβραάμ',\n",
       " 'ἐκεῖνος, πῦρ, πολύς, ἐφηδόμενος, ἁμάρτημα, ἀνεχόμενος, συνευδοκέω, ἐλεγχθέντες, ἀνάξιος, καλύπτω',\n",
       " 'ὁδός, σκότος, ἀγαθός, σύνοιδα, ἐπίσταμαι, συνώδευσεν, ἀναγκάζω, ἀνατελεῖ, προπορεύσεται, περιστελεῖ']"
      ]
     },
     "execution_count": 271,
     "metadata": {},
     "output_type": "execute_result"
    }
   ],
   "source": [
    "authors_df[\"dik_sents_TFIDF_10\"].tolist()[:5]"
   ]
  },
  {
   "cell_type": "code",
   "execution_count": 44,
   "metadata": {},
   "outputs": [],
   "source": [
    "philo_josephus = authors_df[authors_df[\"author_id\"].isin([\"tlg0526\", \"tlg0018\"])]"
   ]
  },
  {
   "cell_type": "code",
   "execution_count": 80,
   "metadata": {},
   "outputs": [
    {
     "data": {
      "text/plain": [
       "Index(['author_id', 'author', 'n_titles', 'titles', 'filenames', 'wordcount',\n",
       "       'lemmata_wordcount', 'n_sentences', 'date_probs', 'date_avr',\n",
       "       'provenience', 'lemmata_lists', 'lemmatized_sentences', 'dikaiosyne_N',\n",
       "       'dikaiosyne_TF', 'dik_sents_flat', 'dik_sents_TF', 'dik_sents_TFIDF',\n",
       "       'dik_sents_TFIDF_10'],\n",
       "      dtype='object')"
      ]
     },
     "execution_count": 80,
     "metadata": {},
     "output_type": "execute_result"
    }
   ],
   "source": [
    "authors_df_c.columns"
   ]
  },
  {
   "cell_type": "code",
   "execution_count": 81,
   "metadata": {},
   "outputs": [],
   "source": [
    "authors_df_c = authors_df[(authors_df[\"provenience\"] == \"christian\") & (authors_df[\"date_avr\"] < 4) & (authors_df[\"dikaiosyne_N\"] > 0)]"
   ]
  },
  {
   "cell_type": "code",
   "execution_count": 82,
   "metadata": {},
   "outputs": [],
   "source": [
    "# christian + philo + josephus\n",
    "authors_df_cj = pd.concat([authors_df_c, philo_josephus])"
   ]
  },
  {
   "cell_type": "code",
   "execution_count": 83,
   "metadata": {},
   "outputs": [
    {
     "data": {
      "text/html": [
       "<div>\n",
       "<style scoped>\n",
       "    .dataframe tbody tr th:only-of-type {\n",
       "        vertical-align: middle;\n",
       "    }\n",
       "\n",
       "    .dataframe tbody tr th {\n",
       "        vertical-align: top;\n",
       "    }\n",
       "\n",
       "    .dataframe thead th {\n",
       "        text-align: right;\n",
       "    }\n",
       "</style>\n",
       "<table border=\"1\" class=\"dataframe\">\n",
       "  <thead>\n",
       "    <tr style=\"text-align: right;\">\n",
       "      <th></th>\n",
       "      <th>author_id</th>\n",
       "      <th>author</th>\n",
       "      <th>n_titles</th>\n",
       "      <th>titles</th>\n",
       "      <th>filenames</th>\n",
       "      <th>wordcount</th>\n",
       "      <th>lemmata_wordcount</th>\n",
       "      <th>n_sentences</th>\n",
       "      <th>date_probs</th>\n",
       "      <th>date_avr</th>\n",
       "      <th>provenience</th>\n",
       "      <th>lemmata_lists</th>\n",
       "      <th>lemmatized_sentences</th>\n",
       "      <th>dikaiosyne_N</th>\n",
       "      <th>dikaiosyne_TF</th>\n",
       "      <th>dik_sents_flat</th>\n",
       "      <th>dik_sents_TF</th>\n",
       "      <th>dik_sents_TFIDF</th>\n",
       "      <th>dik_sents_TFIDF_10</th>\n",
       "    </tr>\n",
       "  </thead>\n",
       "  <tbody>\n",
       "    <tr>\n",
       "      <th>175</th>\n",
       "      <td>tlg1622</td>\n",
       "      <td>Polycarp</td>\n",
       "      <td>1</td>\n",
       "      <td>[Epistula ad Philippenses]</td>\n",
       "      <td>[tlg1622.tlg001.1st1K-grc1.xml]</td>\n",
       "      <td>1804</td>\n",
       "      <td>951</td>\n",
       "      <td>212</td>\n",
       "      <td>{'0.5': 0.5, '1.5': 0.5}</td>\n",
       "      <td>1.0</td>\n",
       "      <td>christian</td>\n",
       "      <td>[[πολύκαρπος, πρέσβυς, ἐκκλησία, θεός, παροικο...</td>\n",
       "      <td>[[πολύκαρπος, πρέσβυς, ἐκκλησία, θεός, παροικο...</td>\n",
       "      <td>8</td>\n",
       "      <td>0.004435</td>\n",
       "      <td>[μακάριος, πτωχός, διώκω, εἰμί, βασιλεία, θεάο...</td>\n",
       "      <td>[(εἰμί, 0.04651), (οὗτος, 0.04651), (ἐντολή, 0...</td>\n",
       "      <td>[(οὗτος, 0.19805), (ἐντολή, 0.18466), (πτωχός,...</td>\n",
       "      <td>οὗτος, ἐντολή, πτωχός, διώκω, θεάομαι, ἀδελφός...</td>\n",
       "    </tr>\n",
       "    <tr>\n",
       "      <th>35</th>\n",
       "      <td>tlg0031paul</td>\n",
       "      <td>Paul of Tarsus</td>\n",
       "      <td>7</td>\n",
       "      <td>[Romans, 1 Corinthians, 2 Corinthians, Galatia...</td>\n",
       "      <td>[tlg0031.tlg006.perseus-grc2.xml, tlg0031.tlg0...</td>\n",
       "      <td>24066</td>\n",
       "      <td>11089</td>\n",
       "      <td>1632</td>\n",
       "      <td>{'0.5': 1}</td>\n",
       "      <td>0.5</td>\n",
       "      <td>christian</td>\n",
       "      <td>[[Παῦλος, δοῦλος, Ἰησοῦς, Χριστός, κλητός, ἀπό...</td>\n",
       "      <td>[[Παῦλος, δοῦλος, Ἰησοῦς, Χριστός, κλητός, ἀπό...</td>\n",
       "      <td>49</td>\n",
       "      <td>0.002036</td>\n",
       "      <td>[θεός, ἀποκαλύπτω, πίστις, πίστις, γράφω, δίκα...</td>\n",
       "      <td>[(θεός, 0.04675), (πίστις, 0.04156), (νόμος, 0...</td>\n",
       "      <td>[(πίστις, 0.12745), (ἁμαρτία, 0.11192), (νόμος...</td>\n",
       "      <td>πίστις, ἁμαρτία, νόμος, λογίζομαι, θεός, βασιλ...</td>\n",
       "    </tr>\n",
       "    <tr>\n",
       "      <th>156</th>\n",
       "      <td>tlg1271</td>\n",
       "      <td>Clemens Romanus</td>\n",
       "      <td>2</td>\n",
       "      <td>[Epistula I ad Corinthios, Epistula II ad Cori...</td>\n",
       "      <td>[tlg1271.tlg001.1st1K-grc1.xml, tlg1271.tlg002...</td>\n",
       "      <td>13936</td>\n",
       "      <td>6290</td>\n",
       "      <td>1410</td>\n",
       "      <td>{'0.5': 1}</td>\n",
       "      <td>0.5</td>\n",
       "      <td>christian</td>\n",
       "      <td>[[ἐκκλησία, θεός, παροικοῦσα, Ῥώμη, ἐκκλησία, ...</td>\n",
       "      <td>[[ἐκκλησία, θεός, παροικοῦσα, Ῥώμη, ἐκκλησία, ...</td>\n",
       "      <td>21</td>\n",
       "      <td>0.001507</td>\n",
       "      <td>[οὗτος, ἄπειμι, εἰρήνη, ἀπολιμπάνω, ἕκαστος, φ...</td>\n",
       "      <td>[(θεός, 0.02871), (πίστις, 0.02392), (γίγνομαι...</td>\n",
       "      <td>[(καυχάομαι, 0.10409), (πίστις, 0.10181), (πύλ...</td>\n",
       "      <td>καυχάομαι, πίστις, πύλη, θεός, δύσις, ἀγάπη, π...</td>\n",
       "    </tr>\n",
       "    <tr>\n",
       "      <th>130</th>\n",
       "      <td>tlg0646</td>\n",
       "      <td>Pseudo-Justinus Martyr</td>\n",
       "      <td>1</td>\n",
       "      <td>[Epistula ad Diognetum]</td>\n",
       "      <td>[tlg0646.tlg004.1st1K-grc1.xml]</td>\n",
       "      <td>2725</td>\n",
       "      <td>1364</td>\n",
       "      <td>240</td>\n",
       "      <td>{'2.5': 0.5, '4.5': 0.5}</td>\n",
       "      <td>3.5</td>\n",
       "      <td>christian</td>\n",
       "      <td>[[ὁράω, κράτιστος, διόγνητε, ὑπερεσπουδακότα, ...</td>\n",
       "      <td>[[ὁράω, κράτιστος, διόγνητε, ὑπερεσπουδακότα, ...</td>\n",
       "      <td>4</td>\n",
       "      <td>0.001468</td>\n",
       "      <td>[ἐφηδόμενος, ἁμάρτημα, ἀνεχόμενος, ἀδικία, και...</td>\n",
       "      <td>[(ἐκεῖνος, 0.05556), (πολύς, 0.05556), (πῦρ, 0...</td>\n",
       "      <td>[(ἐκεῖνος, 0.24345), (πῦρ, 0.21507), (πολύς, 0...</td>\n",
       "      <td>ἐκεῖνος, πῦρ, πολύς, ἐφηδόμενος, ἁμάρτημα, ἀνε...</td>\n",
       "    </tr>\n",
       "    <tr>\n",
       "      <th>152</th>\n",
       "      <td>tlg1216</td>\n",
       "      <td>Barnabas</td>\n",
       "      <td>1</td>\n",
       "      <td>[The Epistle of Barnabas]</td>\n",
       "      <td>[tlg1216.tlg001.perseus-grc2.xml]</td>\n",
       "      <td>7440</td>\n",
       "      <td>3450</td>\n",
       "      <td>875</td>\n",
       "      <td>{'0.5': 0.5, '1.5': 0.5}</td>\n",
       "      <td>1.0</td>\n",
       "      <td>christian</td>\n",
       "      <td>[[χαίρω, υἱός, θυγάτηρ, ὄνομα, κύριος, ἀγαπάω,...</td>\n",
       "      <td>[[χαίρω, υἱός, θυγάτηρ, ὄνομα, κύριος, ἀγαπάω,...</td>\n",
       "      <td>9</td>\n",
       "      <td>0.001210</td>\n",
       "      <td>[πείθω, οὗτος, σύνοιδα, λαλέω, πολύς, ἐπίσταμα...</td>\n",
       "      <td>[(ὁδός, 0.0411), (κύριος, 0.0274), (θεός, 0.02...</td>\n",
       "      <td>[(ὁδός, 0.17298), (σκότος, 0.13651), (ἀγαθός, ...</td>\n",
       "      <td>ὁδός, σκότος, ἀγαθός, σύνοιδα, ἐπίσταμαι, συνώ...</td>\n",
       "    </tr>\n",
       "    <tr>\n",
       "      <th>164</th>\n",
       "      <td>tlg1419</td>\n",
       "      <td>Hermas</td>\n",
       "      <td>1</td>\n",
       "      <td>[The Shepherd of Hermas]</td>\n",
       "      <td>[tlg1419.tlg001.1st1K-grc1.xml]</td>\n",
       "      <td>30282</td>\n",
       "      <td>14340</td>\n",
       "      <td>2959</td>\n",
       "      <td>{'1.5': 1}</td>\n",
       "      <td>1.5</td>\n",
       "      <td>christian</td>\n",
       "      <td>[[τρέφω, πέρνημι, ῥόδῃ, τὶς, Ῥώμη, πολύς, ἔτος...</td>\n",
       "      <td>[[τρέφω, πέρνημι, ῥόδῃ, τὶς, Ῥώμη], [πολύς, ἔτ...</td>\n",
       "      <td>33</td>\n",
       "      <td>0.001090</td>\n",
       "      <td>[λέγω, προηγουμένοις, ἐκκλησία, κατορθώσωνται,...</td>\n",
       "      <td>[(ἄγγελος, 0.03333), (ἐργάζομαι, 0.03), (εἰμί,...</td>\n",
       "      <td>[(ἄγγελος, 0.12433), (ἐργάζομαι, 0.12302), (ἀρ...</td>\n",
       "      <td>ἄγγελος, ἐργάζομαι, ἀρετή, ἔργον, ἀλήθεια, πον...</td>\n",
       "    </tr>\n",
       "    <tr>\n",
       "      <th>36</th>\n",
       "      <td>tlg0031pspa</td>\n",
       "      <td>Pauline literature</td>\n",
       "      <td>6</td>\n",
       "      <td>[Ephesians, Colossians, 2 Thessalonians, 1 Tim...</td>\n",
       "      <td>[tlg0031.tlg010.perseus-grc2.xml, tlg0031.tlg0...</td>\n",
       "      <td>8324</td>\n",
       "      <td>4103</td>\n",
       "      <td>390</td>\n",
       "      <td>{'0.5': 1}</td>\n",
       "      <td>0.5</td>\n",
       "      <td>christian</td>\n",
       "      <td>[[Παῦλος, ἀπόστολος, Χριστός, Ἰησοῦς, θέλημα, ...</td>\n",
       "      <td>[[Παῦλος, ἀπόστολος, Χριστός, Ἰησοῦς, θέλημα, ...</td>\n",
       "      <td>8</td>\n",
       "      <td>0.000961</td>\n",
       "      <td>[μανθάνω, χριστός, ἀκούω, διδάσκω, ἀλήθεια, Ἰη...</td>\n",
       "      <td>[(ἀλήθεια, 0.03252), (ἄνθρωπος, 0.02439), (θεό...</td>\n",
       "      <td>[(ἀλήθεια, 0.0935), (διώκω, 0.07915), (ἐνδύω, ...</td>\n",
       "      <td>ἀλήθεια, διώκω, ἐνδύω, φῶς, ἐπιθυμία, ἄνθρωπος...</td>\n",
       "    </tr>\n",
       "    <tr>\n",
       "      <th>37</th>\n",
       "      <td>tlg0031rest</td>\n",
       "      <td>GNT rest</td>\n",
       "      <td>6</td>\n",
       "      <td>[Hebrews, James, 1 Peter, 2 Peter, Jude, Revel...</td>\n",
       "      <td>[tlg0031.tlg019.perseus-grc2.xml, tlg0031.tlg0...</td>\n",
       "      <td>19782</td>\n",
       "      <td>9755</td>\n",
       "      <td>1037</td>\n",
       "      <td>{'0.5': 1}</td>\n",
       "      <td>0.5</td>\n",
       "      <td>christian</td>\n",
       "      <td>[[πολύτροπος, θεός, λαλέω, πατήρ, προφήτης, ἔσ...</td>\n",
       "      <td>[[πολύτροπος, θεός, λαλέω, πατήρ, προφήτης, ἔσ...</td>\n",
       "      <td>17</td>\n",
       "      <td>0.000859</td>\n",
       "      <td>[ἀγαπάω, μισέω, ἀνομία, μετέχω, γάλα, ἄπειρος,...</td>\n",
       "      <td>[(θεός, 0.02703), (πίστις, 0.02317), (βασιλεύς...</td>\n",
       "      <td>[(βασιλεύς, 0.07352), (πίστις, 0.0668), (δίκαι...</td>\n",
       "      <td>βασιλεύς, πίστις, δίκαιος, Σαλήμ, βραδύς, φείδ...</td>\n",
       "    </tr>\n",
       "    <tr>\n",
       "      <th>158</th>\n",
       "      <td>tlg1311</td>\n",
       "      <td>Didache</td>\n",
       "      <td>1</td>\n",
       "      <td>[Didache XII Apostolorum]</td>\n",
       "      <td>[tlg1311.tlg001.1st1K-grc1.xml]</td>\n",
       "      <td>2377</td>\n",
       "      <td>1049</td>\n",
       "      <td>284</td>\n",
       "      <td>{'1.5': 1}</td>\n",
       "      <td>1.5</td>\n",
       "      <td>christian</td>\n",
       "      <td>[[ὁδός, δύο, εἰμί, εἷς, ζωή, εἷς, θάνατος, δια...</td>\n",
       "      <td>[[ὁδός, δύο, εἰμί, εἷς, ζωή, εἷς, θάνατος, δια...</td>\n",
       "      <td>2</td>\n",
       "      <td>0.000841</td>\n",
       "      <td>[διῶκται, ἀγαθός, μισέω, ἀλήθεια, ἀγαπῶντες, ψ...</td>\n",
       "      <td>[(κύριος, 0.14286), (διῶκται, 0.07143), (ἀγαθό...</td>\n",
       "      <td>[(διῶκται, 0.4035), (ψεῦδος, 0.4035), (κύριος,...</td>\n",
       "      <td>διῶκται, ψεῦδος, κύριος, ἀγαπῶντες, μισθός, πρ...</td>\n",
       "    </tr>\n",
       "    <tr>\n",
       "      <th>129</th>\n",
       "      <td>tlg0645</td>\n",
       "      <td>Justinus Martyr</td>\n",
       "      <td>3</td>\n",
       "      <td>[Apologia, Apology II, Dialogus cum Tryphone]</td>\n",
       "      <td>[tlg0645.tlg001.opp-grc1.xml, tlg0645.tlg002.p...</td>\n",
       "      <td>73449</td>\n",
       "      <td>34006</td>\n",
       "      <td>5829</td>\n",
       "      <td>{'1.5': 1}</td>\n",
       "      <td>1.5</td>\n",
       "      <td>christian</td>\n",
       "      <td>[[αὐτοκράτωρ, Τίτος, αἰλίῳ, ἀδριανῷ, ἀντωνίνῳ,...</td>\n",
       "      <td>[[αὐτοκράτωρ, Τίτος, αἰλίῳ, ἀδριανῷ, ἀντωνίνῳ,...</td>\n",
       "      <td>45</td>\n",
       "      <td>0.000613</td>\n",
       "      <td>[λέγω, εὐσεβής, φιλόσοφος, φύλαξ, ἐραστής, παι...</td>\n",
       "      <td>[(θεός, 0.03846), (κρίσις, 0.01795), (λαός, 0....</td>\n",
       "      <td>[(κρίσις, 0.08306), (θεός, 0.08202), (εἰρήνη, ...</td>\n",
       "      <td>κρίσις, θεός, εἰρήνη, δίδωμι, εὐσέβεια, πεπεδη...</td>\n",
       "    </tr>\n",
       "    <tr>\n",
       "      <th>150</th>\n",
       "      <td>tlg1205</td>\n",
       "      <td>Athenagoras</td>\n",
       "      <td>2</td>\n",
       "      <td>[Supplication pro Christianis, De resurrectione]</td>\n",
       "      <td>[tlg1205.tlg001.perseus-grc2.xml, tlg1205.tlg0...</td>\n",
       "      <td>20210</td>\n",
       "      <td>9819</td>\n",
       "      <td>808</td>\n",
       "      <td>{'1.5': 1}</td>\n",
       "      <td>1.5</td>\n",
       "      <td>christian</td>\n",
       "      <td>[[ὑμέτερος, μέγας, βασιλεύς, οἰκουμένη, ἄλλος,...</td>\n",
       "      <td>[[ὑμέτερος, μέγας, βασιλεύς, οἰκουμένη, ἄλλος,...</td>\n",
       "      <td>12</td>\n",
       "      <td>0.000594</td>\n",
       "      <td>[ὑμέτερος, ἄλλος, αἰτία, λαμβάνω, ἀδίκημα, πρό...</td>\n",
       "      <td>[(ἄνθρωπος, 0.02888), (ἔχω, 0.02166), (ψυχή, 0...</td>\n",
       "      <td>[(δίδωμι, 0.07665), (νόμος, 0.06069), (ψυχή, 0...</td>\n",
       "      <td>δίδωμι, νόμος, ψυχή, ἄνθρωπος, ἔχω, ἀποχή, κρί...</td>\n",
       "    </tr>\n",
       "    <tr>\n",
       "      <th>205</th>\n",
       "      <td>tlg2042</td>\n",
       "      <td>Origenes</td>\n",
       "      <td>44</td>\n",
       "      <td>[Contra Celsum, Commentarii in Evangelium Joan...</td>\n",
       "      <td>[tlg2042.tlg001.perseus-grc1.xml, tlg2042.tlg0...</td>\n",
       "      <td>931431</td>\n",
       "      <td>388077</td>\n",
       "      <td>110127</td>\n",
       "      <td>{'1.5': 0.5, '2.5': 0.5}</td>\n",
       "      <td>2.0</td>\n",
       "      <td>christian</td>\n",
       "      <td>[[σωτήρ, κύριος, Ἰησοῦς, Χριστός, ψευδομαρτυρο...</td>\n",
       "      <td>[[σωτήρ, κύριος, Ἰησοῦς, Χριστός, ψευδομαρτυρο...</td>\n",
       "      <td>493</td>\n",
       "      <td>0.000529</td>\n",
       "      <td>[δοκέω, παραπλήσιος, κέλσος, ποιέω, πλατωνικῷ,...</td>\n",
       "      <td>[(θεός, 0.03426), (εἰμί, 0.02608), (σοφία, 0.0...</td>\n",
       "      <td>[(θεός, 0.09367), (σοφία, 0.08321), (εἰμί, 0.0...</td>\n",
       "      <td>θεός, σοφία, εἰμί, δίκαιος, Χριστός, ἀλήθεια, ...</td>\n",
       "    </tr>\n",
       "    <tr>\n",
       "      <th>179</th>\n",
       "      <td>tlg1725</td>\n",
       "      <td>Theophilus Antiochenus</td>\n",
       "      <td>1</td>\n",
       "      <td>[Ad Autolycum]</td>\n",
       "      <td>[tlg1725.tlg001.perseus-grc2.xml]</td>\n",
       "      <td>21548</td>\n",
       "      <td>10945</td>\n",
       "      <td>1300</td>\n",
       "      <td>{'1.5': 1}</td>\n",
       "      <td>1.5</td>\n",
       "      <td>christian</td>\n",
       "      <td>[[στωμύλος, στόμα, φράσις, εὐεπής, τέρψις, παρ...</td>\n",
       "      <td>[[στωμύλος, στόμα, φράσις, εὐεπής, τέρψις, παρ...</td>\n",
       "      <td>9</td>\n",
       "      <td>0.000418</td>\n",
       "      <td>[θάλασσα, ἔχω, ποταμός, πηγή, ἐπίῤῥυσιν, ἐπιχο...</td>\n",
       "      <td>[(θεός, 0.04762), (νόμος, 0.03175), (προφήτης,...</td>\n",
       "      <td>[(νόμος, 0.12808), (βραβεύω, 0.10281), (ἀδικία...</td>\n",
       "      <td>νόμος, βραβεύω, ἀδικία, πράσσω, προφήτης, ἁμαρ...</td>\n",
       "    </tr>\n",
       "    <tr>\n",
       "      <th>31</th>\n",
       "      <td>tlg0031matt</td>\n",
       "      <td>Matthew</td>\n",
       "      <td>1</td>\n",
       "      <td>[Matthew]</td>\n",
       "      <td>[tlg0031.tlg001.perseus-grc2.xml]</td>\n",
       "      <td>18288</td>\n",
       "      <td>8526</td>\n",
       "      <td>1276</td>\n",
       "      <td>{'0.5': 1}</td>\n",
       "      <td>0.5</td>\n",
       "      <td>christian</td>\n",
       "      <td>[[βίβλος, γένεσις, Ἰησοῦς, Χριστός, υἱός, Δαυί...</td>\n",
       "      <td>[[βίβλος, γένεσις, Ἰησοῦς, Χριστός, υἱός, Δαυί...</td>\n",
       "      <td>7</td>\n",
       "      <td>0.000383</td>\n",
       "      <td>[ἀποκρίνω, Ἰησοῦς, λέγω, ἀφίημι, πρέπω, πληρόω...</td>\n",
       "      <td>[(βασιλεία, 0.08333), (λέγω, 0.05556), (μακάρι...</td>\n",
       "      <td>[(βασιλεία, 0.26354), (μακάριος, 0.25925), (πρ...</td>\n",
       "      <td>βασιλεία, μακάριος, πρέπω, πεινῶντες, διψῶντες...</td>\n",
       "    </tr>\n",
       "    <tr>\n",
       "      <th>100</th>\n",
       "      <td>tlg0555</td>\n",
       "      <td>Clement of Alexandria</td>\n",
       "      <td>7</td>\n",
       "      <td>[Protrepticus, Paedagogus, Stromata (Books I-V...</td>\n",
       "      <td>[tlg0555.tlg001.perseus-grc1.xml, tlg0555.tlg0...</td>\n",
       "      <td>235754</td>\n",
       "      <td>53102</td>\n",
       "      <td>14753</td>\n",
       "      <td>{'1.5': 0.5, '2.5': 0.5}</td>\n",
       "      <td>2.0</td>\n",
       "      <td>christian</td>\n",
       "      <td>[[ἀμφίων, Θηβαῖος, Ἄριοι, μηθυμναῖος, ἄμφω, εἰ...</td>\n",
       "      <td>[[ἀμφίων, Θηβαῖος, Ἄριοι, μηθυμναῖος, ἄμφω, εἰ...</td>\n",
       "      <td>69</td>\n",
       "      <td>0.000293</td>\n",
       "      <td>[ἰοβόλους, τὶς, παλίμβολος, ὑποκριτής, ἐφοδεύο...</td>\n",
       "      <td>[(θεός, 0.03221), (ἀγαθός, 0.02241), (εἰμί, 0....</td>\n",
       "      <td>[(θεός, 0.09662), (ἀγαθός, 0.09364), (ἄνθρωπος...</td>\n",
       "      <td>θεός, ἀγαθός, ἄνθρωπος, εἰμί, πᾶς, ἀρετή, ἴσος...</td>\n",
       "    </tr>\n",
       "    <tr>\n",
       "      <th>192</th>\n",
       "      <td>tlg2018</td>\n",
       "      <td>Eusebius</td>\n",
       "      <td>10</td>\n",
       "      <td>[Praeperatio Evangelica, Historia ecclesiastic...</td>\n",
       "      <td>[tlg2018.tlg001.opp-grc1.xml, tlg2018.tlg002.p...</td>\n",
       "      <td>620546</td>\n",
       "      <td>251700</td>\n",
       "      <td>35220</td>\n",
       "      <td>{'3.5': 1}</td>\n",
       "      <td>3.5</td>\n",
       "      <td>christian</td>\n",
       "      <td>[[χριστιανισον, εἰμί, ἠγούμενος, οἶδα, παρίστη...</td>\n",
       "      <td>[[χριστιανισον, εἰμί, ἠγούμενος, οἶδα, παρίστη...</td>\n",
       "      <td>180</td>\n",
       "      <td>0.000290</td>\n",
       "      <td>[πάρειμι, Χριστός, θεός, προφήτης, ἐρῶ, ἀνατελ...</td>\n",
       "      <td>[(θεός, 0.02629), (εἰμί, 0.01444), (πᾶς, 0.013...</td>\n",
       "      <td>[(θεός, 0.05911), (ἀδικία, 0.03861), (εὐσέβεια...</td>\n",
       "      <td>θεός, ἀδικία, εὐσέβεια, πᾶς, ἀρετή, λέγω, κύρι...</td>\n",
       "    </tr>\n",
       "    <tr>\n",
       "      <th>34</th>\n",
       "      <td>tlg0031john</td>\n",
       "      <td>Johnannine literature</td>\n",
       "      <td>4</td>\n",
       "      <td>[John, 1 John, 2 John, 3 John]</td>\n",
       "      <td>[tlg0031.tlg004.perseus-grc2.xml, tlg0031.tlg0...</td>\n",
       "      <td>18189</td>\n",
       "      <td>8142</td>\n",
       "      <td>1339</td>\n",
       "      <td>{'0.5': 1}</td>\n",
       "      <td>0.5</td>\n",
       "      <td>christian</td>\n",
       "      <td>[[εἰμί, ἀρχή, εἰμί, λόγος, λόγος, εἰμί, θεός, ...</td>\n",
       "      <td>[[εἰμί, ἀρχή, εἰμί, λόγος, λόγος, εἰμί, θεός, ...</td>\n",
       "      <td>5</td>\n",
       "      <td>0.000275</td>\n",
       "      <td>[ἔρχομαι, ἐκεῖνος, ἐλέγχω, κόσμος, ἁμαρτία, κρ...</td>\n",
       "      <td>[(δίκαιος, 0.125), (εἰμί, 0.125), (ποιέω, 0.12...</td>\n",
       "      <td>[(δίκαιος, 0.64003), (ποιέω, 0.30904), (ἐλέγχω...</td>\n",
       "      <td>δίκαιος, ποιέω, ἐλέγχω, κρίσις, εἰμί, γεννάω, ...</td>\n",
       "    </tr>\n",
       "    <tr>\n",
       "      <th>193</th>\n",
       "      <td>tlg2021</td>\n",
       "      <td>Epiphanius</td>\n",
       "      <td>3</td>\n",
       "      <td>[Ancoratus, Panarion (Adversus haereses), Anac...</td>\n",
       "      <td>[tlg2021.tlg001.opp-grc1.xml, tlg2021.tlg002.o...</td>\n",
       "      <td>325038</td>\n",
       "      <td>137693</td>\n",
       "      <td>33079</td>\n",
       "      <td>{'3.5': 1}</td>\n",
       "      <td>3.5</td>\n",
       "      <td>christian</td>\n",
       "      <td>[[θεῖος, μέγας, πατήρ, ἐπιφάνιος, ἐλευθεροπόλε...</td>\n",
       "      <td>[[θεῖος, μέγας, πατήρ, ἐπιφάνιος, ἐλευθεροπόλε...</td>\n",
       "      <td>60</td>\n",
       "      <td>0.000185</td>\n",
       "      <td>[περιεκάκησα, περικακῶ, τοσοῦτος, αἵρεσις, ὄνο...</td>\n",
       "      <td>[(νόμος, 0.01896), (λέγω, 0.0154), (ἔρχομαι, 0...</td>\n",
       "      <td>[(νόμος, 0.08375), (ἔρχομαι, 0.06763), (ἀγαθός...</td>\n",
       "      <td>νόμος, ἔρχομαι, ἀγαθός, ἀνίστημι, σάρξ, ἁμαρτί...</td>\n",
       "    </tr>\n",
       "    <tr>\n",
       "      <th>200</th>\n",
       "      <td>tlg2035</td>\n",
       "      <td>Athanasius of Alexandria</td>\n",
       "      <td>5</td>\n",
       "      <td>[De decretis Nicaenae synodi (Chapters 41 and ...</td>\n",
       "      <td>[tlg2035.tlg003.opp-lat1.xml, tlg2035.tlg117.1...</td>\n",
       "      <td>94010</td>\n",
       "      <td>40340</td>\n",
       "      <td>10789</td>\n",
       "      <td>{'3.5': 1}</td>\n",
       "      <td>3.5</td>\n",
       "      <td>christian</td>\n",
       "      <td>[[ἀρτέομαι, δίνη, συναγομένων], [θεός, θεός, ε...</td>\n",
       "      <td>[[], [], [], [], [], [], [], [], [], [], [], [...</td>\n",
       "      <td>17</td>\n",
       "      <td>0.000181</td>\n",
       "      <td>[μανθάνω, Χριστός, αὐτός, ἀκούω, διδάσκω, ἀποτ...</td>\n",
       "      <td>[(εἰμί, 0.07752), (αὐτός, 0.05426), (ἀγαπάω, 0...</td>\n",
       "      <td>[(ἀγαπάω, 0.32506), (μισέω, 0.30596), (ἀδικία,...</td>\n",
       "      <td>ἀγαπάω, μισέω, ἀδικία, αὐτός, ὁσιότης, ἀδικίαν...</td>\n",
       "    </tr>\n",
       "    <tr>\n",
       "      <th>33</th>\n",
       "      <td>tlg0031luke</td>\n",
       "      <td>Luke (the evangelist)</td>\n",
       "      <td>2</td>\n",
       "      <td>[Luke, Acts]</td>\n",
       "      <td>[tlg0031.tlg003.perseus-grc2.xml, tlg0031.tlg0...</td>\n",
       "      <td>37864</td>\n",
       "      <td>18113</td>\n",
       "      <td>2234</td>\n",
       "      <td>{'0.5': 1}</td>\n",
       "      <td>0.5</td>\n",
       "      <td>christian</td>\n",
       "      <td>[[πολύς, ἐπιχειρέω, ἀνατάσσομαι, διήγησις, πλη...</td>\n",
       "      <td>[[πολύς, ἐπιχειρέω, ἀνατάσσομαι, διήγησις, πλη...</td>\n",
       "      <td>5</td>\n",
       "      <td>0.000132</td>\n",
       "      <td>[Ζαχαρίας, πατήρ, πίμπλημι, πνεῦμα, ἅγιος, προ...</td>\n",
       "      <td>[(πᾶς, 0.04386), (ἅγιος, 0.03509), (πατήρ, 0.0...</td>\n",
       "      <td>[(ἐχθρός, 0.14511), (ἅγιος, 0.12101), (πᾶς, 0....</td>\n",
       "      <td>ἐχθρός, ἅγιος, πᾶς, σωτηρία, πατήρ, στόμα, πίμ...</td>\n",
       "    </tr>\n",
       "    <tr>\n",
       "      <th>194</th>\n",
       "      <td>tlg2022</td>\n",
       "      <td>Gregorius Nazianzenus</td>\n",
       "      <td>7</td>\n",
       "      <td>[Christus patiens [Dub.] (fort. auctore Consta...</td>\n",
       "      <td>[tlg2022.tlg003.opp-grc1.xml, tlg2022.tlg007.o...</td>\n",
       "      <td>77297</td>\n",
       "      <td>32255</td>\n",
       "      <td>20005</td>\n",
       "      <td>{'3.5': 1}</td>\n",
       "      <td>3.5</td>\n",
       "      <td>christian</td>\n",
       "      <td>[[στίχος, γρηγορίου, θεολόγου, σωτήριον, πάθος...</td>\n",
       "      <td>[[στίχος, γρηγορίου, θεολόγου, σωτήριον, πάθος...</td>\n",
       "      <td>10</td>\n",
       "      <td>0.000129</td>\n",
       "      <td>[πνεῦμα, πῦρ, φῶς, ἀγάπη, σοφία, νόος, λόγος, ...</td>\n",
       "      <td>[(εἰρήνη, 0.05172), (ἀγάπη, 0.03448), (σῶμα, 0...</td>\n",
       "      <td>[(εἰρήνη, 0.41959), (ἀγάπη, 0.30363), (χείρων,...</td>\n",
       "      <td>εἰρήνη, ἀγάπη, χείρων, βασιλεύς, ἄρχω, σῶμα, ἐ...</td>\n",
       "    </tr>\n",
       "    <tr>\n",
       "      <th>166</th>\n",
       "      <td>tlg1443</td>\n",
       "      <td>Ignatius Antiochenus</td>\n",
       "      <td>7</td>\n",
       "      <td>[Ad Ephesios (epist. 1), Ad Magnesios (epist. ...</td>\n",
       "      <td>[tlg1443.tlg004.1st1K-grc1.xml, tlg1443.tlg005...</td>\n",
       "      <td>8396</td>\n",
       "      <td>3919</td>\n",
       "      <td>790</td>\n",
       "      <td>{'0.5': 0.5, '1.5': 0.5}</td>\n",
       "      <td>1.0</td>\n",
       "      <td>christian</td>\n",
       "      <td>[[ἰγνάτιος, θεόφορος, εὐλογημένῃ, μέγεθος, θεό...</td>\n",
       "      <td>[[ἰγνάτιος, θεόφορος, εὐλογημένῃ, μέγεθος, θεό...</td>\n",
       "      <td>1</td>\n",
       "      <td>0.000119</td>\n",
       "      <td>[Ἰωάν(ν)ης, πληρόω]</td>\n",
       "      <td>[(Ἰωάν(ν)ης, 0.5), (πληρόω, 0.5)]</td>\n",
       "      <td>[(Ἰωάν(ν)ης, 3.33602), (πληρόω, 2.98944)]</td>\n",
       "      <td>Ἰωάν(ν)ης, πληρόω</td>\n",
       "    </tr>\n",
       "    <tr>\n",
       "      <th>203</th>\n",
       "      <td>tlg2040</td>\n",
       "      <td>Basil</td>\n",
       "      <td>2</td>\n",
       "      <td>[To Young Men, On How They Might Dervice Profi...</td>\n",
       "      <td>[tlg2040.tlg002.perseus-grc1.xml, tlg2040.tlg0...</td>\n",
       "      <td>144429</td>\n",
       "      <td>65718</td>\n",
       "      <td>11257</td>\n",
       "      <td>{'3.5': 1}</td>\n",
       "      <td>3.5</td>\n",
       "      <td>christian</td>\n",
       "      <td>[[], [ἀπειρηκότα, λεγομένηςλεγομένης, τύχη, ἐπ...</td>\n",
       "      <td>[[], [], [], [], [], [], [], [], [], [], [], [...</td>\n",
       "      <td>14</td>\n",
       "      <td>0.000097</td>\n",
       "      <td>[φρόνησις, λοιπός, ἀρετή, ὅσος, γενικαῖς, ὑποδ...</td>\n",
       "      <td>[(σοφία, 0.0339), (θεός, 0.0339), (κρίμα, 0.02...</td>\n",
       "      <td>[(σοφία, 0.19382), (κρίμα, 0.16668), (στέφανος...</td>\n",
       "      <td>σοφία, κρίμα, στέφανος, θεός, δίκαιος, γενικαῖ...</td>\n",
       "    </tr>\n",
       "    <tr>\n",
       "      <th>212</th>\n",
       "      <td>tlg2115</td>\n",
       "      <td>Hippolytus</td>\n",
       "      <td>1</td>\n",
       "      <td>[Refutatio Omnium Haeresium]</td>\n",
       "      <td>[tlg2115.tlg060.perseus-grc1.xml]</td>\n",
       "      <td>69987</td>\n",
       "      <td>36776</td>\n",
       "      <td>4394</td>\n",
       "      <td>{'2.5': 1}</td>\n",
       "      <td>2.5</td>\n",
       "      <td>christian</td>\n",
       "      <td>[[ἔνειμι, πρῶτος, πᾶς, αἵρεσις, ἔλεγχος, δοκέω...</td>\n",
       "      <td>[[ἔνειμι, πρῶτος, πᾶς, αἵρεσις, ἔλεγχος], [δοκ...</td>\n",
       "      <td>6</td>\n",
       "      <td>0.000086</td>\n",
       "      <td>[ὑπερβάλλω, ἐνδέω, κακία, τελευτάω, οἷος, τέσσ...</td>\n",
       "      <td>[(ὑπερβολή, 0.05952), (μείωσιν, 0.05952), (σωφ...</td>\n",
       "      <td>[(μείωσιν, 0.45803), (ὑπερβολή, 0.40349), (σωφ...</td>\n",
       "      <td>μείωσιν, ὑπερβολή, σωφροσύνη, ἀνδρεία, φρόνησι...</td>\n",
       "    </tr>\n",
       "    <tr>\n",
       "      <th>107</th>\n",
       "      <td>tlg0563</td>\n",
       "      <td>Maximus of Tyre</td>\n",
       "      <td>1</td>\n",
       "      <td>[Dialexeis]</td>\n",
       "      <td>[tlg0563.tlg001.1st1K-grc1.xml]</td>\n",
       "      <td>118960</td>\n",
       "      <td>50202</td>\n",
       "      <td>22598</td>\n",
       "      <td>{'1.5': 1}</td>\n",
       "      <td>1.5</td>\n",
       "      <td>christian</td>\n",
       "      <td>[[πᾶς, ὑπόθεσις, ἁρμόσεταιμαξίμου, φιλοσοφοὺμε...</td>\n",
       "      <td>[[πᾶς, ὑπόθεσις, ἁρμόσεταιμαξίμου, φιλοσοφοὺμε...</td>\n",
       "      <td>10</td>\n",
       "      <td>0.000084</td>\n",
       "      <td>[ἀδίκημα, θηρίον, καθαρτής, οὗτος, τύραννος, σ...</td>\n",
       "      <td>[(οὗτος, 0.08163), (τύραννος, 0.04082), (ἀδικί...</td>\n",
       "      <td>[(ἀδικία, 0.29357), (οὗτος, 0.28576), (τύραννο...</td>\n",
       "      <td>ἀδικία, οὗτος, τύραννος, ἐλευθερωτής, βεβαιωτή...</td>\n",
       "    </tr>\n",
       "    <tr>\n",
       "      <th>167</th>\n",
       "      <td>tlg1447</td>\n",
       "      <td>Irenaeus</td>\n",
       "      <td>1</td>\n",
       "      <td>[Libros quinque adversus haereses]</td>\n",
       "      <td>[tlg1447.tlg001.1st1K-grc1.xml]</td>\n",
       "      <td>24651</td>\n",
       "      <td>10517</td>\n",
       "      <td>4525</td>\n",
       "      <td>{'1.5': 1}</td>\n",
       "      <td>1.5</td>\n",
       "      <td>christian</td>\n",
       "      <td>[[ἀλήθεια, παραπεμπόμενοί, ἐπεισάγουσι, λόγος,...</td>\n",
       "      <td>[[], [ἀλήθεια, παραπεμπόμενοί], [], [], [ἐπεισ...</td>\n",
       "      <td>1</td>\n",
       "      <td>0.000041</td>\n",
       "      <td>[κᾀκεῖνον, πολύς, μέρος, ὁμολογήσαντα, ποιέω, ...</td>\n",
       "      <td>[(γίγνομαι, 0.125), (κᾀκεῖνον, 0.0625), (πολύς...</td>\n",
       "      <td>[(ὁμολογήσαντα, 0.52609), (θελήσαντα, 0.52609)...</td>\n",
       "      <td>ὁμολογήσαντα, θελήσαντα, ἡττηθέντα, κᾀκεῖνον, ...</td>\n",
       "    </tr>\n",
       "    <tr>\n",
       "      <th>21</th>\n",
       "      <td>tlg0018</td>\n",
       "      <td>Philo Judaeus</td>\n",
       "      <td>31</td>\n",
       "      <td>[De opificio mundi, Legum allegoriarum libri i...</td>\n",
       "      <td>[tlg0018.tlg001.opp-grc1.xml, tlg0018.tlg002.o...</td>\n",
       "      <td>643011</td>\n",
       "      <td>304615</td>\n",
       "      <td>82966</td>\n",
       "      <td>{'-0.5': 0.5, '0.5': 0.5}</td>\n",
       "      <td>0.0</td>\n",
       "      <td>jewish</td>\n",
       "      <td>[[ἄλλος, νομοθέτης, ἀκαλλώπιστος, γυμνός, νομι...</td>\n",
       "      <td>[[ἄλλος, νομοθέτης, ἀκαλλώπιστος, γυμνός, νομι...</td>\n",
       "      <td>157</td>\n",
       "      <td>0.000244</td>\n",
       "      <td>[ἐκεῖνος, ἀγνοητέον, πρῶτος, ἀριθμός, τέσσαρες...</td>\n",
       "      <td>[(ἀρετή, 0.02197), (φρόνησις, 0.01862), (εἰμί,...</td>\n",
       "      <td>[(φρόνησις, 0.11227), (ἀρετή, 0.09582), (σωφρο...</td>\n",
       "      <td>φρόνησις, ἀρετή, σωφροσύνη, ἀνδρεία, ἰσότης, ἀ...</td>\n",
       "    </tr>\n",
       "    <tr>\n",
       "      <th>83</th>\n",
       "      <td>tlg0526</td>\n",
       "      <td>Flavius Josephus</td>\n",
       "      <td>4</td>\n",
       "      <td>[Antiquitates Judaicae, Josephi vita, Contra A...</td>\n",
       "      <td>[tlg0526.tlg001.perseus-grc1.xml, tlg0526.tlg0...</td>\n",
       "      <td>469580</td>\n",
       "      <td>240661</td>\n",
       "      <td>19707</td>\n",
       "      <td>{'0.5': 1}</td>\n",
       "      <td>0.5</td>\n",
       "      <td>jewish</td>\n",
       "      <td>[[ἱστορία, συγγράφω, βούλομαι, αὐτός, ὁράω, σπ...</td>\n",
       "      <td>[[ἱστορία, συγγράφω, βούλομαι, αὐτός, ὁράω, σπ...</td>\n",
       "      <td>39</td>\n",
       "      <td>0.000083</td>\n",
       "      <td>[ἄβελος, νέος, ἐπιμελέομαι, πράσσω, πάρειμι, θ...</td>\n",
       "      <td>[(εἰμί, 0.02242), (θεός, 0.02093), (εὐσέβεια, ...</td>\n",
       "      <td>[(εὐσέβεια, 0.10229), (θεός, 0.05143), (εἰμί, ...</td>\n",
       "      <td>εὐσέβεια, θεός, εἰμί, ἀρετή, δόξα, πολύς, ἀμάν...</td>\n",
       "    </tr>\n",
       "  </tbody>\n",
       "</table>\n",
       "</div>"
      ],
      "text/plain": [
       "       author_id                    author  n_titles  \\\n",
       "175      tlg1622                  Polycarp         1   \n",
       "35   tlg0031paul            Paul of Tarsus         7   \n",
       "156      tlg1271           Clemens Romanus         2   \n",
       "130      tlg0646    Pseudo-Justinus Martyr         1   \n",
       "152      tlg1216                  Barnabas         1   \n",
       "164      tlg1419                    Hermas         1   \n",
       "36   tlg0031pspa        Pauline literature         6   \n",
       "37   tlg0031rest                  GNT rest         6   \n",
       "158      tlg1311                   Didache         1   \n",
       "129      tlg0645           Justinus Martyr         3   \n",
       "150      tlg1205               Athenagoras         2   \n",
       "205      tlg2042                  Origenes        44   \n",
       "179      tlg1725    Theophilus Antiochenus         1   \n",
       "31   tlg0031matt                   Matthew         1   \n",
       "100      tlg0555     Clement of Alexandria         7   \n",
       "192      tlg2018                  Eusebius        10   \n",
       "34   tlg0031john     Johnannine literature         4   \n",
       "193      tlg2021                Epiphanius         3   \n",
       "200      tlg2035  Athanasius of Alexandria         5   \n",
       "33   tlg0031luke     Luke (the evangelist)         2   \n",
       "194      tlg2022     Gregorius Nazianzenus         7   \n",
       "166      tlg1443      Ignatius Antiochenus         7   \n",
       "203      tlg2040                     Basil         2   \n",
       "212      tlg2115                Hippolytus         1   \n",
       "107      tlg0563           Maximus of Tyre         1   \n",
       "167      tlg1447                  Irenaeus         1   \n",
       "21       tlg0018             Philo Judaeus        31   \n",
       "83       tlg0526          Flavius Josephus         4   \n",
       "\n",
       "                                                titles  \\\n",
       "175                         [Epistula ad Philippenses]   \n",
       "35   [Romans, 1 Corinthians, 2 Corinthians, Galatia...   \n",
       "156  [Epistula I ad Corinthios, Epistula II ad Cori...   \n",
       "130                            [Epistula ad Diognetum]   \n",
       "152                          [The Epistle of Barnabas]   \n",
       "164                           [The Shepherd of Hermas]   \n",
       "36   [Ephesians, Colossians, 2 Thessalonians, 1 Tim...   \n",
       "37   [Hebrews, James, 1 Peter, 2 Peter, Jude, Revel...   \n",
       "158                          [Didache XII Apostolorum]   \n",
       "129      [Apologia, Apology II, Dialogus cum Tryphone]   \n",
       "150   [Supplication pro Christianis, De resurrectione]   \n",
       "205  [Contra Celsum, Commentarii in Evangelium Joan...   \n",
       "179                                     [Ad Autolycum]   \n",
       "31                                           [Matthew]   \n",
       "100  [Protrepticus, Paedagogus, Stromata (Books I-V...   \n",
       "192  [Praeperatio Evangelica, Historia ecclesiastic...   \n",
       "34                      [John, 1 John, 2 John, 3 John]   \n",
       "193  [Ancoratus, Panarion (Adversus haereses), Anac...   \n",
       "200  [De decretis Nicaenae synodi (Chapters 41 and ...   \n",
       "33                                        [Luke, Acts]   \n",
       "194  [Christus patiens [Dub.] (fort. auctore Consta...   \n",
       "166  [Ad Ephesios (epist. 1), Ad Magnesios (epist. ...   \n",
       "203  [To Young Men, On How They Might Dervice Profi...   \n",
       "212                       [Refutatio Omnium Haeresium]   \n",
       "107                                        [Dialexeis]   \n",
       "167                 [Libros quinque adversus haereses]   \n",
       "21   [De opificio mundi, Legum allegoriarum libri i...   \n",
       "83   [Antiquitates Judaicae, Josephi vita, Contra A...   \n",
       "\n",
       "                                             filenames  wordcount  \\\n",
       "175                    [tlg1622.tlg001.1st1K-grc1.xml]       1804   \n",
       "35   [tlg0031.tlg006.perseus-grc2.xml, tlg0031.tlg0...      24066   \n",
       "156  [tlg1271.tlg001.1st1K-grc1.xml, tlg1271.tlg002...      13936   \n",
       "130                    [tlg0646.tlg004.1st1K-grc1.xml]       2725   \n",
       "152                  [tlg1216.tlg001.perseus-grc2.xml]       7440   \n",
       "164                    [tlg1419.tlg001.1st1K-grc1.xml]      30282   \n",
       "36   [tlg0031.tlg010.perseus-grc2.xml, tlg0031.tlg0...       8324   \n",
       "37   [tlg0031.tlg019.perseus-grc2.xml, tlg0031.tlg0...      19782   \n",
       "158                    [tlg1311.tlg001.1st1K-grc1.xml]       2377   \n",
       "129  [tlg0645.tlg001.opp-grc1.xml, tlg0645.tlg002.p...      73449   \n",
       "150  [tlg1205.tlg001.perseus-grc2.xml, tlg1205.tlg0...      20210   \n",
       "205  [tlg2042.tlg001.perseus-grc1.xml, tlg2042.tlg0...     931431   \n",
       "179                  [tlg1725.tlg001.perseus-grc2.xml]      21548   \n",
       "31                   [tlg0031.tlg001.perseus-grc2.xml]      18288   \n",
       "100  [tlg0555.tlg001.perseus-grc1.xml, tlg0555.tlg0...     235754   \n",
       "192  [tlg2018.tlg001.opp-grc1.xml, tlg2018.tlg002.p...     620546   \n",
       "34   [tlg0031.tlg004.perseus-grc2.xml, tlg0031.tlg0...      18189   \n",
       "193  [tlg2021.tlg001.opp-grc1.xml, tlg2021.tlg002.o...     325038   \n",
       "200  [tlg2035.tlg003.opp-lat1.xml, tlg2035.tlg117.1...      94010   \n",
       "33   [tlg0031.tlg003.perseus-grc2.xml, tlg0031.tlg0...      37864   \n",
       "194  [tlg2022.tlg003.opp-grc1.xml, tlg2022.tlg007.o...      77297   \n",
       "166  [tlg1443.tlg004.1st1K-grc1.xml, tlg1443.tlg005...       8396   \n",
       "203  [tlg2040.tlg002.perseus-grc1.xml, tlg2040.tlg0...     144429   \n",
       "212                  [tlg2115.tlg060.perseus-grc1.xml]      69987   \n",
       "107                    [tlg0563.tlg001.1st1K-grc1.xml]     118960   \n",
       "167                    [tlg1447.tlg001.1st1K-grc1.xml]      24651   \n",
       "21   [tlg0018.tlg001.opp-grc1.xml, tlg0018.tlg002.o...     643011   \n",
       "83   [tlg0526.tlg001.perseus-grc1.xml, tlg0526.tlg0...     469580   \n",
       "\n",
       "     lemmata_wordcount  n_sentences                 date_probs  date_avr  \\\n",
       "175                951          212   {'0.5': 0.5, '1.5': 0.5}       1.0   \n",
       "35               11089         1632                 {'0.5': 1}       0.5   \n",
       "156               6290         1410                 {'0.5': 1}       0.5   \n",
       "130               1364          240   {'2.5': 0.5, '4.5': 0.5}       3.5   \n",
       "152               3450          875   {'0.5': 0.5, '1.5': 0.5}       1.0   \n",
       "164              14340         2959                 {'1.5': 1}       1.5   \n",
       "36                4103          390                 {'0.5': 1}       0.5   \n",
       "37                9755         1037                 {'0.5': 1}       0.5   \n",
       "158               1049          284                 {'1.5': 1}       1.5   \n",
       "129              34006         5829                 {'1.5': 1}       1.5   \n",
       "150               9819          808                 {'1.5': 1}       1.5   \n",
       "205             388077       110127   {'1.5': 0.5, '2.5': 0.5}       2.0   \n",
       "179              10945         1300                 {'1.5': 1}       1.5   \n",
       "31                8526         1276                 {'0.5': 1}       0.5   \n",
       "100              53102        14753   {'1.5': 0.5, '2.5': 0.5}       2.0   \n",
       "192             251700        35220                 {'3.5': 1}       3.5   \n",
       "34                8142         1339                 {'0.5': 1}       0.5   \n",
       "193             137693        33079                 {'3.5': 1}       3.5   \n",
       "200              40340        10789                 {'3.5': 1}       3.5   \n",
       "33               18113         2234                 {'0.5': 1}       0.5   \n",
       "194              32255        20005                 {'3.5': 1}       3.5   \n",
       "166               3919          790   {'0.5': 0.5, '1.5': 0.5}       1.0   \n",
       "203              65718        11257                 {'3.5': 1}       3.5   \n",
       "212              36776         4394                 {'2.5': 1}       2.5   \n",
       "107              50202        22598                 {'1.5': 1}       1.5   \n",
       "167              10517         4525                 {'1.5': 1}       1.5   \n",
       "21              304615        82966  {'-0.5': 0.5, '0.5': 0.5}       0.0   \n",
       "83              240661        19707                 {'0.5': 1}       0.5   \n",
       "\n",
       "    provenience                                      lemmata_lists  \\\n",
       "175   christian  [[πολύκαρπος, πρέσβυς, ἐκκλησία, θεός, παροικο...   \n",
       "35    christian  [[Παῦλος, δοῦλος, Ἰησοῦς, Χριστός, κλητός, ἀπό...   \n",
       "156   christian  [[ἐκκλησία, θεός, παροικοῦσα, Ῥώμη, ἐκκλησία, ...   \n",
       "130   christian  [[ὁράω, κράτιστος, διόγνητε, ὑπερεσπουδακότα, ...   \n",
       "152   christian  [[χαίρω, υἱός, θυγάτηρ, ὄνομα, κύριος, ἀγαπάω,...   \n",
       "164   christian  [[τρέφω, πέρνημι, ῥόδῃ, τὶς, Ῥώμη, πολύς, ἔτος...   \n",
       "36    christian  [[Παῦλος, ἀπόστολος, Χριστός, Ἰησοῦς, θέλημα, ...   \n",
       "37    christian  [[πολύτροπος, θεός, λαλέω, πατήρ, προφήτης, ἔσ...   \n",
       "158   christian  [[ὁδός, δύο, εἰμί, εἷς, ζωή, εἷς, θάνατος, δια...   \n",
       "129   christian  [[αὐτοκράτωρ, Τίτος, αἰλίῳ, ἀδριανῷ, ἀντωνίνῳ,...   \n",
       "150   christian  [[ὑμέτερος, μέγας, βασιλεύς, οἰκουμένη, ἄλλος,...   \n",
       "205   christian  [[σωτήρ, κύριος, Ἰησοῦς, Χριστός, ψευδομαρτυρο...   \n",
       "179   christian  [[στωμύλος, στόμα, φράσις, εὐεπής, τέρψις, παρ...   \n",
       "31    christian  [[βίβλος, γένεσις, Ἰησοῦς, Χριστός, υἱός, Δαυί...   \n",
       "100   christian  [[ἀμφίων, Θηβαῖος, Ἄριοι, μηθυμναῖος, ἄμφω, εἰ...   \n",
       "192   christian  [[χριστιανισον, εἰμί, ἠγούμενος, οἶδα, παρίστη...   \n",
       "34    christian  [[εἰμί, ἀρχή, εἰμί, λόγος, λόγος, εἰμί, θεός, ...   \n",
       "193   christian  [[θεῖος, μέγας, πατήρ, ἐπιφάνιος, ἐλευθεροπόλε...   \n",
       "200   christian  [[ἀρτέομαι, δίνη, συναγομένων], [θεός, θεός, ε...   \n",
       "33    christian  [[πολύς, ἐπιχειρέω, ἀνατάσσομαι, διήγησις, πλη...   \n",
       "194   christian  [[στίχος, γρηγορίου, θεολόγου, σωτήριον, πάθος...   \n",
       "166   christian  [[ἰγνάτιος, θεόφορος, εὐλογημένῃ, μέγεθος, θεό...   \n",
       "203   christian  [[], [ἀπειρηκότα, λεγομένηςλεγομένης, τύχη, ἐπ...   \n",
       "212   christian  [[ἔνειμι, πρῶτος, πᾶς, αἵρεσις, ἔλεγχος, δοκέω...   \n",
       "107   christian  [[πᾶς, ὑπόθεσις, ἁρμόσεταιμαξίμου, φιλοσοφοὺμε...   \n",
       "167   christian  [[ἀλήθεια, παραπεμπόμενοί, ἐπεισάγουσι, λόγος,...   \n",
       "21       jewish  [[ἄλλος, νομοθέτης, ἀκαλλώπιστος, γυμνός, νομι...   \n",
       "83       jewish  [[ἱστορία, συγγράφω, βούλομαι, αὐτός, ὁράω, σπ...   \n",
       "\n",
       "                                  lemmatized_sentences  dikaiosyne_N  \\\n",
       "175  [[πολύκαρπος, πρέσβυς, ἐκκλησία, θεός, παροικο...             8   \n",
       "35   [[Παῦλος, δοῦλος, Ἰησοῦς, Χριστός, κλητός, ἀπό...            49   \n",
       "156  [[ἐκκλησία, θεός, παροικοῦσα, Ῥώμη, ἐκκλησία, ...            21   \n",
       "130  [[ὁράω, κράτιστος, διόγνητε, ὑπερεσπουδακότα, ...             4   \n",
       "152  [[χαίρω, υἱός, θυγάτηρ, ὄνομα, κύριος, ἀγαπάω,...             9   \n",
       "164  [[τρέφω, πέρνημι, ῥόδῃ, τὶς, Ῥώμη], [πολύς, ἔτ...            33   \n",
       "36   [[Παῦλος, ἀπόστολος, Χριστός, Ἰησοῦς, θέλημα, ...             8   \n",
       "37   [[πολύτροπος, θεός, λαλέω, πατήρ, προφήτης, ἔσ...            17   \n",
       "158  [[ὁδός, δύο, εἰμί, εἷς, ζωή, εἷς, θάνατος, δια...             2   \n",
       "129  [[αὐτοκράτωρ, Τίτος, αἰλίῳ, ἀδριανῷ, ἀντωνίνῳ,...            45   \n",
       "150  [[ὑμέτερος, μέγας, βασιλεύς, οἰκουμένη, ἄλλος,...            12   \n",
       "205  [[σωτήρ, κύριος, Ἰησοῦς, Χριστός, ψευδομαρτυρο...           493   \n",
       "179  [[στωμύλος, στόμα, φράσις, εὐεπής, τέρψις, παρ...             9   \n",
       "31   [[βίβλος, γένεσις, Ἰησοῦς, Χριστός, υἱός, Δαυί...             7   \n",
       "100  [[ἀμφίων, Θηβαῖος, Ἄριοι, μηθυμναῖος, ἄμφω, εἰ...            69   \n",
       "192  [[χριστιανισον, εἰμί, ἠγούμενος, οἶδα, παρίστη...           180   \n",
       "34   [[εἰμί, ἀρχή, εἰμί, λόγος, λόγος, εἰμί, θεός, ...             5   \n",
       "193  [[θεῖος, μέγας, πατήρ, ἐπιφάνιος, ἐλευθεροπόλε...            60   \n",
       "200  [[], [], [], [], [], [], [], [], [], [], [], [...            17   \n",
       "33   [[πολύς, ἐπιχειρέω, ἀνατάσσομαι, διήγησις, πλη...             5   \n",
       "194  [[στίχος, γρηγορίου, θεολόγου, σωτήριον, πάθος...            10   \n",
       "166  [[ἰγνάτιος, θεόφορος, εὐλογημένῃ, μέγεθος, θεό...             1   \n",
       "203  [[], [], [], [], [], [], [], [], [], [], [], [...            14   \n",
       "212  [[ἔνειμι, πρῶτος, πᾶς, αἵρεσις, ἔλεγχος], [δοκ...             6   \n",
       "107  [[πᾶς, ὑπόθεσις, ἁρμόσεταιμαξίμου, φιλοσοφοὺμε...            10   \n",
       "167  [[], [ἀλήθεια, παραπεμπόμενοί], [], [], [ἐπεισ...             1   \n",
       "21   [[ἄλλος, νομοθέτης, ἀκαλλώπιστος, γυμνός, νομι...           157   \n",
       "83   [[ἱστορία, συγγράφω, βούλομαι, αὐτός, ὁράω, σπ...            39   \n",
       "\n",
       "     dikaiosyne_TF                                     dik_sents_flat  \\\n",
       "175       0.004435  [μακάριος, πτωχός, διώκω, εἰμί, βασιλεία, θεάο...   \n",
       "35        0.002036  [θεός, ἀποκαλύπτω, πίστις, πίστις, γράφω, δίκα...   \n",
       "156       0.001507  [οὗτος, ἄπειμι, εἰρήνη, ἀπολιμπάνω, ἕκαστος, φ...   \n",
       "130       0.001468  [ἐφηδόμενος, ἁμάρτημα, ἀνεχόμενος, ἀδικία, και...   \n",
       "152       0.001210  [πείθω, οὗτος, σύνοιδα, λαλέω, πολύς, ἐπίσταμα...   \n",
       "164       0.001090  [λέγω, προηγουμένοις, ἐκκλησία, κατορθώσωνται,...   \n",
       "36        0.000961  [μανθάνω, χριστός, ἀκούω, διδάσκω, ἀλήθεια, Ἰη...   \n",
       "37        0.000859  [ἀγαπάω, μισέω, ἀνομία, μετέχω, γάλα, ἄπειρος,...   \n",
       "158       0.000841  [διῶκται, ἀγαθός, μισέω, ἀλήθεια, ἀγαπῶντες, ψ...   \n",
       "129       0.000613  [λέγω, εὐσεβής, φιλόσοφος, φύλαξ, ἐραστής, παι...   \n",
       "150       0.000594  [ὑμέτερος, ἄλλος, αἰτία, λαμβάνω, ἀδίκημα, πρό...   \n",
       "205       0.000529  [δοκέω, παραπλήσιος, κέλσος, ποιέω, πλατωνικῷ,...   \n",
       "179       0.000418  [θάλασσα, ἔχω, ποταμός, πηγή, ἐπίῤῥυσιν, ἐπιχο...   \n",
       "31        0.000383  [ἀποκρίνω, Ἰησοῦς, λέγω, ἀφίημι, πρέπω, πληρόω...   \n",
       "100       0.000293  [ἰοβόλους, τὶς, παλίμβολος, ὑποκριτής, ἐφοδεύο...   \n",
       "192       0.000290  [πάρειμι, Χριστός, θεός, προφήτης, ἐρῶ, ἀνατελ...   \n",
       "34        0.000275  [ἔρχομαι, ἐκεῖνος, ἐλέγχω, κόσμος, ἁμαρτία, κρ...   \n",
       "193       0.000185  [περιεκάκησα, περικακῶ, τοσοῦτος, αἵρεσις, ὄνο...   \n",
       "200       0.000181  [μανθάνω, Χριστός, αὐτός, ἀκούω, διδάσκω, ἀποτ...   \n",
       "33        0.000132  [Ζαχαρίας, πατήρ, πίμπλημι, πνεῦμα, ἅγιος, προ...   \n",
       "194       0.000129  [πνεῦμα, πῦρ, φῶς, ἀγάπη, σοφία, νόος, λόγος, ...   \n",
       "166       0.000119                                [Ἰωάν(ν)ης, πληρόω]   \n",
       "203       0.000097  [φρόνησις, λοιπός, ἀρετή, ὅσος, γενικαῖς, ὑποδ...   \n",
       "212       0.000086  [ὑπερβάλλω, ἐνδέω, κακία, τελευτάω, οἷος, τέσσ...   \n",
       "107       0.000084  [ἀδίκημα, θηρίον, καθαρτής, οὗτος, τύραννος, σ...   \n",
       "167       0.000041  [κᾀκεῖνον, πολύς, μέρος, ὁμολογήσαντα, ποιέω, ...   \n",
       "21        0.000244  [ἐκεῖνος, ἀγνοητέον, πρῶτος, ἀριθμός, τέσσαρες...   \n",
       "83        0.000083  [ἄβελος, νέος, ἐπιμελέομαι, πράσσω, πάρειμι, θ...   \n",
       "\n",
       "                                          dik_sents_TF  \\\n",
       "175  [(εἰμί, 0.04651), (οὗτος, 0.04651), (ἐντολή, 0...   \n",
       "35   [(θεός, 0.04675), (πίστις, 0.04156), (νόμος, 0...   \n",
       "156  [(θεός, 0.02871), (πίστις, 0.02392), (γίγνομαι...   \n",
       "130  [(ἐκεῖνος, 0.05556), (πολύς, 0.05556), (πῦρ, 0...   \n",
       "152  [(ὁδός, 0.0411), (κύριος, 0.0274), (θεός, 0.02...   \n",
       "164  [(ἄγγελος, 0.03333), (ἐργάζομαι, 0.03), (εἰμί,...   \n",
       "36   [(ἀλήθεια, 0.03252), (ἄνθρωπος, 0.02439), (θεό...   \n",
       "37   [(θεός, 0.02703), (πίστις, 0.02317), (βασιλεύς...   \n",
       "158  [(κύριος, 0.14286), (διῶκται, 0.07143), (ἀγαθό...   \n",
       "129  [(θεός, 0.03846), (κρίσις, 0.01795), (λαός, 0....   \n",
       "150  [(ἄνθρωπος, 0.02888), (ἔχω, 0.02166), (ψυχή, 0...   \n",
       "205  [(θεός, 0.03426), (εἰμί, 0.02608), (σοφία, 0.0...   \n",
       "179  [(θεός, 0.04762), (νόμος, 0.03175), (προφήτης,...   \n",
       "31   [(βασιλεία, 0.08333), (λέγω, 0.05556), (μακάρι...   \n",
       "100  [(θεός, 0.03221), (ἀγαθός, 0.02241), (εἰμί, 0....   \n",
       "192  [(θεός, 0.02629), (εἰμί, 0.01444), (πᾶς, 0.013...   \n",
       "34   [(δίκαιος, 0.125), (εἰμί, 0.125), (ποιέω, 0.12...   \n",
       "193  [(νόμος, 0.01896), (λέγω, 0.0154), (ἔρχομαι, 0...   \n",
       "200  [(εἰμί, 0.07752), (αὐτός, 0.05426), (ἀγαπάω, 0...   \n",
       "33   [(πᾶς, 0.04386), (ἅγιος, 0.03509), (πατήρ, 0.0...   \n",
       "194  [(εἰρήνη, 0.05172), (ἀγάπη, 0.03448), (σῶμα, 0...   \n",
       "166                  [(Ἰωάν(ν)ης, 0.5), (πληρόω, 0.5)]   \n",
       "203  [(σοφία, 0.0339), (θεός, 0.0339), (κρίμα, 0.02...   \n",
       "212  [(ὑπερβολή, 0.05952), (μείωσιν, 0.05952), (σωφ...   \n",
       "107  [(οὗτος, 0.08163), (τύραννος, 0.04082), (ἀδικί...   \n",
       "167  [(γίγνομαι, 0.125), (κᾀκεῖνον, 0.0625), (πολύς...   \n",
       "21   [(ἀρετή, 0.02197), (φρόνησις, 0.01862), (εἰμί,...   \n",
       "83   [(εἰμί, 0.02242), (θεός, 0.02093), (εὐσέβεια, ...   \n",
       "\n",
       "                                       dik_sents_TFIDF  \\\n",
       "175  [(οὗτος, 0.19805), (ἐντολή, 0.18466), (πτωχός,...   \n",
       "35   [(πίστις, 0.12745), (ἁμαρτία, 0.11192), (νόμος...   \n",
       "156  [(καυχάομαι, 0.10409), (πίστις, 0.10181), (πύλ...   \n",
       "130  [(ἐκεῖνος, 0.24345), (πῦρ, 0.21507), (πολύς, 0...   \n",
       "152  [(ὁδός, 0.17298), (σκότος, 0.13651), (ἀγαθός, ...   \n",
       "164  [(ἄγγελος, 0.12433), (ἐργάζομαι, 0.12302), (ἀρ...   \n",
       "36   [(ἀλήθεια, 0.0935), (διώκω, 0.07915), (ἐνδύω, ...   \n",
       "37   [(βασιλεύς, 0.07352), (πίστις, 0.0668), (δίκαι...   \n",
       "158  [(διῶκται, 0.4035), (ψεῦδος, 0.4035), (κύριος,...   \n",
       "129  [(κρίσις, 0.08306), (θεός, 0.08202), (εἰρήνη, ...   \n",
       "150  [(δίδωμι, 0.07665), (νόμος, 0.06069), (ψυχή, 0...   \n",
       "205  [(θεός, 0.09367), (σοφία, 0.08321), (εἰμί, 0.0...   \n",
       "179  [(νόμος, 0.12808), (βραβεύω, 0.10281), (ἀδικία...   \n",
       "31   [(βασιλεία, 0.26354), (μακάριος, 0.25925), (πρ...   \n",
       "100  [(θεός, 0.09662), (ἀγαθός, 0.09364), (ἄνθρωπος...   \n",
       "192  [(θεός, 0.05911), (ἀδικία, 0.03861), (εὐσέβεια...   \n",
       "34   [(δίκαιος, 0.64003), (ποιέω, 0.30904), (ἐλέγχω...   \n",
       "193  [(νόμος, 0.08375), (ἔρχομαι, 0.06763), (ἀγαθός...   \n",
       "200  [(ἀγαπάω, 0.32506), (μισέω, 0.30596), (ἀδικία,...   \n",
       "33   [(ἐχθρός, 0.14511), (ἅγιος, 0.12101), (πᾶς, 0....   \n",
       "194  [(εἰρήνη, 0.41959), (ἀγάπη, 0.30363), (χείρων,...   \n",
       "166          [(Ἰωάν(ν)ης, 3.33602), (πληρόω, 2.98944)]   \n",
       "203  [(σοφία, 0.19382), (κρίμα, 0.16668), (στέφανος...   \n",
       "212  [(μείωσιν, 0.45803), (ὑπερβολή, 0.40349), (σωφ...   \n",
       "107  [(ἀδικία, 0.29357), (οὗτος, 0.28576), (τύραννο...   \n",
       "167  [(ὁμολογήσαντα, 0.52609), (θελήσαντα, 0.52609)...   \n",
       "21   [(φρόνησις, 0.11227), (ἀρετή, 0.09582), (σωφρο...   \n",
       "83   [(εὐσέβεια, 0.10229), (θεός, 0.05143), (εἰμί, ...   \n",
       "\n",
       "                                    dik_sents_TFIDF_10  \n",
       "175  οὗτος, ἐντολή, πτωχός, διώκω, θεάομαι, ἀδελφός...  \n",
       "35   πίστις, ἁμαρτία, νόμος, λογίζομαι, θεός, βασιλ...  \n",
       "156  καυχάομαι, πίστις, πύλη, θεός, δύσις, ἀγάπη, π...  \n",
       "130  ἐκεῖνος, πῦρ, πολύς, ἐφηδόμενος, ἁμάρτημα, ἀνε...  \n",
       "152  ὁδός, σκότος, ἀγαθός, σύνοιδα, ἐπίσταμαι, συνώ...  \n",
       "164  ἄγγελος, ἐργάζομαι, ἀρετή, ἔργον, ἀλήθεια, πον...  \n",
       "36   ἀλήθεια, διώκω, ἐνδύω, φῶς, ἐπιθυμία, ἄνθρωπος...  \n",
       "37   βασιλεύς, πίστις, δίκαιος, Σαλήμ, βραδύς, φείδ...  \n",
       "158  διῶκται, ψεῦδος, κύριος, ἀγαπῶντες, μισθός, πρ...  \n",
       "129  κρίσις, θεός, εἰρήνη, δίδωμι, εὐσέβεια, πεπεδη...  \n",
       "150  δίδωμι, νόμος, ψυχή, ἄνθρωπος, ἔχω, ἀποχή, κρί...  \n",
       "205  θεός, σοφία, εἰμί, δίκαιος, Χριστός, ἀλήθεια, ...  \n",
       "179  νόμος, βραβεύω, ἀδικία, πράσσω, προφήτης, ἁμαρ...  \n",
       "31   βασιλεία, μακάριος, πρέπω, πεινῶντες, διψῶντες...  \n",
       "100  θεός, ἀγαθός, ἄνθρωπος, εἰμί, πᾶς, ἀρετή, ἴσος...  \n",
       "192  θεός, ἀδικία, εὐσέβεια, πᾶς, ἀρετή, λέγω, κύρι...  \n",
       "34   δίκαιος, ποιέω, ἐλέγχω, κρίσις, εἰμί, γεννάω, ...  \n",
       "193  νόμος, ἔρχομαι, ἀγαθός, ἀνίστημι, σάρξ, ἁμαρτί...  \n",
       "200  ἀγαπάω, μισέω, ἀδικία, αὐτός, ὁσιότης, ἀδικίαν...  \n",
       "33   ἐχθρός, ἅγιος, πᾶς, σωτηρία, πατήρ, στόμα, πίμ...  \n",
       "194  εἰρήνη, ἀγάπη, χείρων, βασιλεύς, ἄρχω, σῶμα, ἐ...  \n",
       "166                                  Ἰωάν(ν)ης, πληρόω  \n",
       "203  σοφία, κρίμα, στέφανος, θεός, δίκαιος, γενικαῖ...  \n",
       "212  μείωσιν, ὑπερβολή, σωφροσύνη, ἀνδρεία, φρόνησι...  \n",
       "107  ἀδικία, οὗτος, τύραννος, ἐλευθερωτής, βεβαιωτή...  \n",
       "167  ὁμολογήσαντα, θελήσαντα, ἡττηθέντα, κᾀκεῖνον, ...  \n",
       "21   φρόνησις, ἀρετή, σωφροσύνη, ἀνδρεία, ἰσότης, ἀ...  \n",
       "83   εὐσέβεια, θεός, εἰμί, ἀρετή, δόξα, πολύς, ἀμάν...  "
      ]
     },
     "execution_count": 83,
     "metadata": {},
     "output_type": "execute_result"
    }
   ],
   "source": [
    "authors_df_cj"
   ]
  },
  {
   "cell_type": "code",
   "execution_count": 84,
   "metadata": {},
   "outputs": [
    {
     "data": {
      "text/plain": [
       "28"
      ]
     },
     "execution_count": 84,
     "metadata": {},
     "output_type": "execute_result"
    }
   ],
   "source": [
    "len(authors_df_cj)"
   ]
  },
  {
   "cell_type": "code",
   "execution_count": 51,
   "metadata": {},
   "outputs": [
    {
     "data": {
      "text/plain": [
       "Index(['author_id', 'author', 'n_titles', 'titles', 'filenames', 'wordcount',\n",
       "       'lemmata_wordcount', 'n_sentences', 'date_probs', 'date_avr',\n",
       "       'provenience', 'lemmata_lists', 'lemmatized_sentences', 'dikaiosyne_N',\n",
       "       'dikaiosyne_TF', 'dik_sents_flat', 'dik_sents_TF', 'dik_sents_TFIDF',\n",
       "       'dik_sents_TFIDF_10'],\n",
       "      dtype='object')"
      ]
     },
     "execution_count": 51,
     "metadata": {},
     "output_type": "execute_result"
    }
   ],
   "source": [
    "authors_df_cj.columns"
   ]
  },
  {
   "cell_type": "code",
   "execution_count": 307,
   "metadata": {},
   "outputs": [],
   "source": [
    "set_with_dataframe(ECCE_AGT_overview.add_worksheet(\"authors_df_cj_TFIDF10\", 1,1), authors_df_cj[[\"author\", \"dik_sents_TFIDF_10\"]])"
   ]
  },
  {
   "cell_type": "code",
   "execution_count": 52,
   "metadata": {},
   "outputs": [],
   "source": [
    "edges_tuples = []\n",
    "for author1 in authors_df_cj[\"author\"].tolist():\n",
    "    author1_words = authors_df_cj.loc[authors_df_cj[\"author\"]==author1, \"dik_sents_TFIDF_10\"].values[0].split()\n",
    "    for author2 in authors_df_cj[\"author\"].tolist():\n",
    "        if author2 != author1:\n",
    "            author2_words = authors_df_cj.loc[authors_df_cj[\"author\"]==author2, \"dik_sents_TFIDF_10\"].values[0].split()\n",
    "            shared = len(set(author1_words) & set(author2_words))\n",
    "            if shared > 0:\n",
    "                edges_tuples.append((author1, author2, shared))"
   ]
  },
  {
   "cell_type": "code",
   "execution_count": 53,
   "metadata": {},
   "outputs": [],
   "source": [
    "G = nx.Graph()\n",
    "G.clear()\n",
    "G.add_weighted_edges_from(edges_tuples)\n",
    "for (u, v, wt) in G.edges.data('weight'):\n",
    "    G[u][v][\"weight\"] = int(wt)\n",
    "total_weight = sum([int(n) for n in nx.get_edge_attributes(G, \"weight\").values()])\n",
    "for (u, v) in G.edges:\n",
    "    G[u][v][\"norm_weight\"] = round((G[u][v][\"weight\"] / total_weight), 5)\n",
    "    G[u][v][\"distance\"] = round(1 / (G[u][v][\"weight\"]), 5)\n",
    "    G[u][v][\"norm_distance\"] = round(1 / (G[u][v][\"norm_weight\"] ), 5)\n",
    "G.remove_edges_from(nx.selfloop_edges(G))"
   ]
  },
  {
   "cell_type": "code",
   "execution_count": 54,
   "metadata": {},
   "outputs": [
    {
     "data": {
      "text/html": [
       "<div>\n",
       "<style scoped>\n",
       "    .dataframe tbody tr th:only-of-type {\n",
       "        vertical-align: middle;\n",
       "    }\n",
       "\n",
       "    .dataframe tbody tr th {\n",
       "        vertical-align: top;\n",
       "    }\n",
       "\n",
       "    .dataframe thead th {\n",
       "        text-align: right;\n",
       "    }\n",
       "</style>\n",
       "<table border=\"1\" class=\"dataframe\">\n",
       "  <thead>\n",
       "    <tr style=\"text-align: right;\">\n",
       "      <th></th>\n",
       "      <th>Polycarp</th>\n",
       "      <th>Pauline literature</th>\n",
       "      <th>Clement of Alexandria</th>\n",
       "      <th>Ignatius Antiochenus</th>\n",
       "      <th>Maximus of Tyre</th>\n",
       "      <th>Flavius Josephus</th>\n",
       "      <th>Paul of Tarsus</th>\n",
       "      <th>Clemens Romanus</th>\n",
       "      <th>Hermas</th>\n",
       "      <th>GNT rest</th>\n",
       "      <th>...</th>\n",
       "      <th>Basil</th>\n",
       "      <th>Luke (the evangelist)</th>\n",
       "      <th>Gregorius Nazianzenus</th>\n",
       "      <th>Pseudo-Justinus Martyr</th>\n",
       "      <th>Barnabas</th>\n",
       "      <th>Didache</th>\n",
       "      <th>Athanasius of Alexandria</th>\n",
       "      <th>Hippolytus</th>\n",
       "      <th>Philo Judaeus</th>\n",
       "      <th>Matthew</th>\n",
       "    </tr>\n",
       "  </thead>\n",
       "  <tbody>\n",
       "    <tr>\n",
       "      <th>Polycarp</th>\n",
       "      <td>0.0</td>\n",
       "      <td>1.0</td>\n",
       "      <td>1.0</td>\n",
       "      <td>1.0</td>\n",
       "      <td>1.0</td>\n",
       "      <td>1.0</td>\n",
       "      <td>0.0</td>\n",
       "      <td>0.0</td>\n",
       "      <td>0.0</td>\n",
       "      <td>0.0</td>\n",
       "      <td>...</td>\n",
       "      <td>0.0</td>\n",
       "      <td>0.0</td>\n",
       "      <td>0.0</td>\n",
       "      <td>0.0</td>\n",
       "      <td>0.0</td>\n",
       "      <td>0.0</td>\n",
       "      <td>0.0</td>\n",
       "      <td>0.0</td>\n",
       "      <td>0.0</td>\n",
       "      <td>0.0</td>\n",
       "    </tr>\n",
       "    <tr>\n",
       "      <th>Pauline literature</th>\n",
       "      <td>1.0</td>\n",
       "      <td>0.0</td>\n",
       "      <td>1.0</td>\n",
       "      <td>0.0</td>\n",
       "      <td>0.0</td>\n",
       "      <td>0.0</td>\n",
       "      <td>1.0</td>\n",
       "      <td>2.0</td>\n",
       "      <td>2.0</td>\n",
       "      <td>2.0</td>\n",
       "      <td>...</td>\n",
       "      <td>0.0</td>\n",
       "      <td>0.0</td>\n",
       "      <td>1.0</td>\n",
       "      <td>0.0</td>\n",
       "      <td>0.0</td>\n",
       "      <td>1.0</td>\n",
       "      <td>0.0</td>\n",
       "      <td>0.0</td>\n",
       "      <td>0.0</td>\n",
       "      <td>0.0</td>\n",
       "    </tr>\n",
       "    <tr>\n",
       "      <th>Clement of Alexandria</th>\n",
       "      <td>1.0</td>\n",
       "      <td>1.0</td>\n",
       "      <td>0.0</td>\n",
       "      <td>0.0</td>\n",
       "      <td>1.0</td>\n",
       "      <td>4.0</td>\n",
       "      <td>1.0</td>\n",
       "      <td>2.0</td>\n",
       "      <td>2.0</td>\n",
       "      <td>0.0</td>\n",
       "      <td>...</td>\n",
       "      <td>1.0</td>\n",
       "      <td>1.0</td>\n",
       "      <td>0.0</td>\n",
       "      <td>0.0</td>\n",
       "      <td>1.0</td>\n",
       "      <td>0.0</td>\n",
       "      <td>1.0</td>\n",
       "      <td>1.0</td>\n",
       "      <td>2.0</td>\n",
       "      <td>0.0</td>\n",
       "    </tr>\n",
       "    <tr>\n",
       "      <th>Ignatius Antiochenus</th>\n",
       "      <td>1.0</td>\n",
       "      <td>0.0</td>\n",
       "      <td>0.0</td>\n",
       "      <td>0.0</td>\n",
       "      <td>0.0</td>\n",
       "      <td>0.0</td>\n",
       "      <td>0.0</td>\n",
       "      <td>0.0</td>\n",
       "      <td>0.0</td>\n",
       "      <td>0.0</td>\n",
       "      <td>...</td>\n",
       "      <td>0.0</td>\n",
       "      <td>0.0</td>\n",
       "      <td>0.0</td>\n",
       "      <td>0.0</td>\n",
       "      <td>0.0</td>\n",
       "      <td>0.0</td>\n",
       "      <td>0.0</td>\n",
       "      <td>0.0</td>\n",
       "      <td>0.0</td>\n",
       "      <td>0.0</td>\n",
       "    </tr>\n",
       "    <tr>\n",
       "      <th>Maximus of Tyre</th>\n",
       "      <td>1.0</td>\n",
       "      <td>0.0</td>\n",
       "      <td>1.0</td>\n",
       "      <td>0.0</td>\n",
       "      <td>0.0</td>\n",
       "      <td>1.0</td>\n",
       "      <td>0.0</td>\n",
       "      <td>0.0</td>\n",
       "      <td>0.0</td>\n",
       "      <td>0.0</td>\n",
       "      <td>...</td>\n",
       "      <td>0.0</td>\n",
       "      <td>0.0</td>\n",
       "      <td>1.0</td>\n",
       "      <td>0.0</td>\n",
       "      <td>0.0</td>\n",
       "      <td>0.0</td>\n",
       "      <td>1.0</td>\n",
       "      <td>0.0</td>\n",
       "      <td>1.0</td>\n",
       "      <td>0.0</td>\n",
       "    </tr>\n",
       "    <tr>\n",
       "      <th>Flavius Josephus</th>\n",
       "      <td>1.0</td>\n",
       "      <td>0.0</td>\n",
       "      <td>4.0</td>\n",
       "      <td>0.0</td>\n",
       "      <td>1.0</td>\n",
       "      <td>0.0</td>\n",
       "      <td>1.0</td>\n",
       "      <td>1.0</td>\n",
       "      <td>2.0</td>\n",
       "      <td>0.0</td>\n",
       "      <td>...</td>\n",
       "      <td>1.0</td>\n",
       "      <td>0.0</td>\n",
       "      <td>0.0</td>\n",
       "      <td>1.0</td>\n",
       "      <td>0.0</td>\n",
       "      <td>0.0</td>\n",
       "      <td>1.0</td>\n",
       "      <td>1.0</td>\n",
       "      <td>3.0</td>\n",
       "      <td>0.0</td>\n",
       "    </tr>\n",
       "    <tr>\n",
       "      <th>Paul of Tarsus</th>\n",
       "      <td>0.0</td>\n",
       "      <td>1.0</td>\n",
       "      <td>1.0</td>\n",
       "      <td>0.0</td>\n",
       "      <td>0.0</td>\n",
       "      <td>1.0</td>\n",
       "      <td>0.0</td>\n",
       "      <td>2.0</td>\n",
       "      <td>1.0</td>\n",
       "      <td>1.0</td>\n",
       "      <td>...</td>\n",
       "      <td>1.0</td>\n",
       "      <td>0.0</td>\n",
       "      <td>0.0</td>\n",
       "      <td>0.0</td>\n",
       "      <td>0.0</td>\n",
       "      <td>0.0</td>\n",
       "      <td>0.0</td>\n",
       "      <td>0.0</td>\n",
       "      <td>0.0</td>\n",
       "      <td>0.0</td>\n",
       "    </tr>\n",
       "    <tr>\n",
       "      <th>Clemens Romanus</th>\n",
       "      <td>0.0</td>\n",
       "      <td>2.0</td>\n",
       "      <td>2.0</td>\n",
       "      <td>0.0</td>\n",
       "      <td>0.0</td>\n",
       "      <td>1.0</td>\n",
       "      <td>2.0</td>\n",
       "      <td>0.0</td>\n",
       "      <td>1.0</td>\n",
       "      <td>1.0</td>\n",
       "      <td>...</td>\n",
       "      <td>1.0</td>\n",
       "      <td>1.0</td>\n",
       "      <td>1.0</td>\n",
       "      <td>0.0</td>\n",
       "      <td>0.0</td>\n",
       "      <td>0.0</td>\n",
       "      <td>0.0</td>\n",
       "      <td>0.0</td>\n",
       "      <td>0.0</td>\n",
       "      <td>0.0</td>\n",
       "    </tr>\n",
       "    <tr>\n",
       "      <th>Hermas</th>\n",
       "      <td>0.0</td>\n",
       "      <td>2.0</td>\n",
       "      <td>2.0</td>\n",
       "      <td>0.0</td>\n",
       "      <td>0.0</td>\n",
       "      <td>2.0</td>\n",
       "      <td>1.0</td>\n",
       "      <td>1.0</td>\n",
       "      <td>0.0</td>\n",
       "      <td>1.0</td>\n",
       "      <td>...</td>\n",
       "      <td>0.0</td>\n",
       "      <td>0.0</td>\n",
       "      <td>0.0</td>\n",
       "      <td>0.0</td>\n",
       "      <td>0.0</td>\n",
       "      <td>1.0</td>\n",
       "      <td>1.0</td>\n",
       "      <td>1.0</td>\n",
       "      <td>2.0</td>\n",
       "      <td>0.0</td>\n",
       "    </tr>\n",
       "    <tr>\n",
       "      <th>GNT rest</th>\n",
       "      <td>0.0</td>\n",
       "      <td>2.0</td>\n",
       "      <td>0.0</td>\n",
       "      <td>0.0</td>\n",
       "      <td>0.0</td>\n",
       "      <td>0.0</td>\n",
       "      <td>1.0</td>\n",
       "      <td>1.0</td>\n",
       "      <td>1.0</td>\n",
       "      <td>0.0</td>\n",
       "      <td>...</td>\n",
       "      <td>1.0</td>\n",
       "      <td>0.0</td>\n",
       "      <td>2.0</td>\n",
       "      <td>0.0</td>\n",
       "      <td>0.0</td>\n",
       "      <td>0.0</td>\n",
       "      <td>0.0</td>\n",
       "      <td>0.0</td>\n",
       "      <td>0.0</td>\n",
       "      <td>0.0</td>\n",
       "    </tr>\n",
       "    <tr>\n",
       "      <th>Justinus Martyr</th>\n",
       "      <td>0.0</td>\n",
       "      <td>2.0</td>\n",
       "      <td>1.0</td>\n",
       "      <td>0.0</td>\n",
       "      <td>0.0</td>\n",
       "      <td>2.0</td>\n",
       "      <td>1.0</td>\n",
       "      <td>1.0</td>\n",
       "      <td>0.0</td>\n",
       "      <td>1.0</td>\n",
       "      <td>...</td>\n",
       "      <td>1.0</td>\n",
       "      <td>0.0</td>\n",
       "      <td>1.0</td>\n",
       "      <td>0.0</td>\n",
       "      <td>0.0</td>\n",
       "      <td>0.0</td>\n",
       "      <td>0.0</td>\n",
       "      <td>0.0</td>\n",
       "      <td>0.0</td>\n",
       "      <td>0.0</td>\n",
       "    </tr>\n",
       "    <tr>\n",
       "      <th>Athenagoras</th>\n",
       "      <td>0.0</td>\n",
       "      <td>1.0</td>\n",
       "      <td>3.0</td>\n",
       "      <td>0.0</td>\n",
       "      <td>0.0</td>\n",
       "      <td>1.0</td>\n",
       "      <td>1.0</td>\n",
       "      <td>1.0</td>\n",
       "      <td>1.0</td>\n",
       "      <td>0.0</td>\n",
       "      <td>...</td>\n",
       "      <td>0.0</td>\n",
       "      <td>0.0</td>\n",
       "      <td>0.0</td>\n",
       "      <td>0.0</td>\n",
       "      <td>1.0</td>\n",
       "      <td>0.0</td>\n",
       "      <td>0.0</td>\n",
       "      <td>1.0</td>\n",
       "      <td>1.0</td>\n",
       "      <td>0.0</td>\n",
       "    </tr>\n",
       "    <tr>\n",
       "      <th>Origenes</th>\n",
       "      <td>0.0</td>\n",
       "      <td>1.0</td>\n",
       "      <td>3.0</td>\n",
       "      <td>0.0</td>\n",
       "      <td>0.0</td>\n",
       "      <td>2.0</td>\n",
       "      <td>1.0</td>\n",
       "      <td>1.0</td>\n",
       "      <td>2.0</td>\n",
       "      <td>1.0</td>\n",
       "      <td>...</td>\n",
       "      <td>3.0</td>\n",
       "      <td>0.0</td>\n",
       "      <td>0.0</td>\n",
       "      <td>0.0</td>\n",
       "      <td>0.0</td>\n",
       "      <td>1.0</td>\n",
       "      <td>1.0</td>\n",
       "      <td>1.0</td>\n",
       "      <td>2.0</td>\n",
       "      <td>0.0</td>\n",
       "    </tr>\n",
       "    <tr>\n",
       "      <th>Theophilus Antiochenus</th>\n",
       "      <td>0.0</td>\n",
       "      <td>0.0</td>\n",
       "      <td>1.0</td>\n",
       "      <td>0.0</td>\n",
       "      <td>1.0</td>\n",
       "      <td>1.0</td>\n",
       "      <td>3.0</td>\n",
       "      <td>1.0</td>\n",
       "      <td>0.0</td>\n",
       "      <td>0.0</td>\n",
       "      <td>...</td>\n",
       "      <td>1.0</td>\n",
       "      <td>1.0</td>\n",
       "      <td>1.0</td>\n",
       "      <td>0.0</td>\n",
       "      <td>0.0</td>\n",
       "      <td>0.0</td>\n",
       "      <td>1.0</td>\n",
       "      <td>0.0</td>\n",
       "      <td>1.0</td>\n",
       "      <td>0.0</td>\n",
       "    </tr>\n",
       "    <tr>\n",
       "      <th>Eusebius</th>\n",
       "      <td>0.0</td>\n",
       "      <td>0.0</td>\n",
       "      <td>3.0</td>\n",
       "      <td>0.0</td>\n",
       "      <td>1.0</td>\n",
       "      <td>3.0</td>\n",
       "      <td>2.0</td>\n",
       "      <td>1.0</td>\n",
       "      <td>1.0</td>\n",
       "      <td>1.0</td>\n",
       "      <td>...</td>\n",
       "      <td>1.0</td>\n",
       "      <td>1.0</td>\n",
       "      <td>2.0</td>\n",
       "      <td>0.0</td>\n",
       "      <td>0.0</td>\n",
       "      <td>1.0</td>\n",
       "      <td>1.0</td>\n",
       "      <td>1.0</td>\n",
       "      <td>2.0</td>\n",
       "      <td>0.0</td>\n",
       "    </tr>\n",
       "    <tr>\n",
       "      <th>Johnannine literature</th>\n",
       "      <td>0.0</td>\n",
       "      <td>0.0</td>\n",
       "      <td>2.0</td>\n",
       "      <td>0.0</td>\n",
       "      <td>0.0</td>\n",
       "      <td>1.0</td>\n",
       "      <td>1.0</td>\n",
       "      <td>0.0</td>\n",
       "      <td>1.0</td>\n",
       "      <td>1.0</td>\n",
       "      <td>...</td>\n",
       "      <td>1.0</td>\n",
       "      <td>0.0</td>\n",
       "      <td>0.0</td>\n",
       "      <td>0.0</td>\n",
       "      <td>0.0</td>\n",
       "      <td>0.0</td>\n",
       "      <td>1.0</td>\n",
       "      <td>0.0</td>\n",
       "      <td>1.0</td>\n",
       "      <td>0.0</td>\n",
       "    </tr>\n",
       "    <tr>\n",
       "      <th>Epiphanius</th>\n",
       "      <td>0.0</td>\n",
       "      <td>1.0</td>\n",
       "      <td>2.0</td>\n",
       "      <td>0.0</td>\n",
       "      <td>0.0</td>\n",
       "      <td>1.0</td>\n",
       "      <td>4.0</td>\n",
       "      <td>2.0</td>\n",
       "      <td>1.0</td>\n",
       "      <td>1.0</td>\n",
       "      <td>...</td>\n",
       "      <td>1.0</td>\n",
       "      <td>0.0</td>\n",
       "      <td>0.0</td>\n",
       "      <td>0.0</td>\n",
       "      <td>1.0</td>\n",
       "      <td>0.0</td>\n",
       "      <td>0.0</td>\n",
       "      <td>0.0</td>\n",
       "      <td>0.0</td>\n",
       "      <td>0.0</td>\n",
       "    </tr>\n",
       "    <tr>\n",
       "      <th>Basil</th>\n",
       "      <td>0.0</td>\n",
       "      <td>0.0</td>\n",
       "      <td>1.0</td>\n",
       "      <td>0.0</td>\n",
       "      <td>0.0</td>\n",
       "      <td>1.0</td>\n",
       "      <td>1.0</td>\n",
       "      <td>1.0</td>\n",
       "      <td>0.0</td>\n",
       "      <td>1.0</td>\n",
       "      <td>...</td>\n",
       "      <td>0.0</td>\n",
       "      <td>0.0</td>\n",
       "      <td>0.0</td>\n",
       "      <td>0.0</td>\n",
       "      <td>0.0</td>\n",
       "      <td>0.0</td>\n",
       "      <td>0.0</td>\n",
       "      <td>0.0</td>\n",
       "      <td>0.0</td>\n",
       "      <td>0.0</td>\n",
       "    </tr>\n",
       "    <tr>\n",
       "      <th>Luke (the evangelist)</th>\n",
       "      <td>0.0</td>\n",
       "      <td>0.0</td>\n",
       "      <td>1.0</td>\n",
       "      <td>0.0</td>\n",
       "      <td>0.0</td>\n",
       "      <td>0.0</td>\n",
       "      <td>0.0</td>\n",
       "      <td>1.0</td>\n",
       "      <td>0.0</td>\n",
       "      <td>0.0</td>\n",
       "      <td>...</td>\n",
       "      <td>0.0</td>\n",
       "      <td>0.0</td>\n",
       "      <td>0.0</td>\n",
       "      <td>0.0</td>\n",
       "      <td>0.0</td>\n",
       "      <td>0.0</td>\n",
       "      <td>0.0</td>\n",
       "      <td>0.0</td>\n",
       "      <td>0.0</td>\n",
       "      <td>0.0</td>\n",
       "    </tr>\n",
       "    <tr>\n",
       "      <th>Gregorius Nazianzenus</th>\n",
       "      <td>0.0</td>\n",
       "      <td>1.0</td>\n",
       "      <td>0.0</td>\n",
       "      <td>0.0</td>\n",
       "      <td>1.0</td>\n",
       "      <td>0.0</td>\n",
       "      <td>0.0</td>\n",
       "      <td>1.0</td>\n",
       "      <td>0.0</td>\n",
       "      <td>2.0</td>\n",
       "      <td>...</td>\n",
       "      <td>0.0</td>\n",
       "      <td>0.0</td>\n",
       "      <td>0.0</td>\n",
       "      <td>0.0</td>\n",
       "      <td>0.0</td>\n",
       "      <td>0.0</td>\n",
       "      <td>1.0</td>\n",
       "      <td>0.0</td>\n",
       "      <td>1.0</td>\n",
       "      <td>0.0</td>\n",
       "    </tr>\n",
       "    <tr>\n",
       "      <th>Pseudo-Justinus Martyr</th>\n",
       "      <td>0.0</td>\n",
       "      <td>0.0</td>\n",
       "      <td>0.0</td>\n",
       "      <td>0.0</td>\n",
       "      <td>0.0</td>\n",
       "      <td>1.0</td>\n",
       "      <td>0.0</td>\n",
       "      <td>0.0</td>\n",
       "      <td>0.0</td>\n",
       "      <td>0.0</td>\n",
       "      <td>...</td>\n",
       "      <td>0.0</td>\n",
       "      <td>0.0</td>\n",
       "      <td>0.0</td>\n",
       "      <td>0.0</td>\n",
       "      <td>0.0</td>\n",
       "      <td>0.0</td>\n",
       "      <td>0.0</td>\n",
       "      <td>0.0</td>\n",
       "      <td>0.0</td>\n",
       "      <td>0.0</td>\n",
       "    </tr>\n",
       "    <tr>\n",
       "      <th>Barnabas</th>\n",
       "      <td>0.0</td>\n",
       "      <td>0.0</td>\n",
       "      <td>1.0</td>\n",
       "      <td>0.0</td>\n",
       "      <td>0.0</td>\n",
       "      <td>0.0</td>\n",
       "      <td>0.0</td>\n",
       "      <td>0.0</td>\n",
       "      <td>0.0</td>\n",
       "      <td>0.0</td>\n",
       "      <td>...</td>\n",
       "      <td>0.0</td>\n",
       "      <td>0.0</td>\n",
       "      <td>0.0</td>\n",
       "      <td>0.0</td>\n",
       "      <td>0.0</td>\n",
       "      <td>0.0</td>\n",
       "      <td>0.0</td>\n",
       "      <td>0.0</td>\n",
       "      <td>0.0</td>\n",
       "      <td>0.0</td>\n",
       "    </tr>\n",
       "    <tr>\n",
       "      <th>Didache</th>\n",
       "      <td>0.0</td>\n",
       "      <td>1.0</td>\n",
       "      <td>0.0</td>\n",
       "      <td>0.0</td>\n",
       "      <td>0.0</td>\n",
       "      <td>0.0</td>\n",
       "      <td>0.0</td>\n",
       "      <td>0.0</td>\n",
       "      <td>1.0</td>\n",
       "      <td>0.0</td>\n",
       "      <td>...</td>\n",
       "      <td>0.0</td>\n",
       "      <td>0.0</td>\n",
       "      <td>0.0</td>\n",
       "      <td>0.0</td>\n",
       "      <td>0.0</td>\n",
       "      <td>0.0</td>\n",
       "      <td>0.0</td>\n",
       "      <td>0.0</td>\n",
       "      <td>1.0</td>\n",
       "      <td>1.0</td>\n",
       "    </tr>\n",
       "    <tr>\n",
       "      <th>Athanasius of Alexandria</th>\n",
       "      <td>0.0</td>\n",
       "      <td>0.0</td>\n",
       "      <td>1.0</td>\n",
       "      <td>0.0</td>\n",
       "      <td>1.0</td>\n",
       "      <td>1.0</td>\n",
       "      <td>0.0</td>\n",
       "      <td>0.0</td>\n",
       "      <td>1.0</td>\n",
       "      <td>0.0</td>\n",
       "      <td>...</td>\n",
       "      <td>0.0</td>\n",
       "      <td>0.0</td>\n",
       "      <td>1.0</td>\n",
       "      <td>0.0</td>\n",
       "      <td>0.0</td>\n",
       "      <td>0.0</td>\n",
       "      <td>0.0</td>\n",
       "      <td>0.0</td>\n",
       "      <td>3.0</td>\n",
       "      <td>0.0</td>\n",
       "    </tr>\n",
       "    <tr>\n",
       "      <th>Hippolytus</th>\n",
       "      <td>0.0</td>\n",
       "      <td>0.0</td>\n",
       "      <td>1.0</td>\n",
       "      <td>0.0</td>\n",
       "      <td>0.0</td>\n",
       "      <td>1.0</td>\n",
       "      <td>0.0</td>\n",
       "      <td>0.0</td>\n",
       "      <td>1.0</td>\n",
       "      <td>0.0</td>\n",
       "      <td>...</td>\n",
       "      <td>0.0</td>\n",
       "      <td>0.0</td>\n",
       "      <td>0.0</td>\n",
       "      <td>0.0</td>\n",
       "      <td>0.0</td>\n",
       "      <td>0.0</td>\n",
       "      <td>0.0</td>\n",
       "      <td>0.0</td>\n",
       "      <td>4.0</td>\n",
       "      <td>0.0</td>\n",
       "    </tr>\n",
       "    <tr>\n",
       "      <th>Philo Judaeus</th>\n",
       "      <td>0.0</td>\n",
       "      <td>0.0</td>\n",
       "      <td>2.0</td>\n",
       "      <td>0.0</td>\n",
       "      <td>1.0</td>\n",
       "      <td>3.0</td>\n",
       "      <td>0.0</td>\n",
       "      <td>0.0</td>\n",
       "      <td>2.0</td>\n",
       "      <td>0.0</td>\n",
       "      <td>...</td>\n",
       "      <td>0.0</td>\n",
       "      <td>0.0</td>\n",
       "      <td>1.0</td>\n",
       "      <td>0.0</td>\n",
       "      <td>0.0</td>\n",
       "      <td>1.0</td>\n",
       "      <td>3.0</td>\n",
       "      <td>4.0</td>\n",
       "      <td>0.0</td>\n",
       "      <td>0.0</td>\n",
       "    </tr>\n",
       "    <tr>\n",
       "      <th>Matthew</th>\n",
       "      <td>0.0</td>\n",
       "      <td>0.0</td>\n",
       "      <td>0.0</td>\n",
       "      <td>0.0</td>\n",
       "      <td>0.0</td>\n",
       "      <td>0.0</td>\n",
       "      <td>0.0</td>\n",
       "      <td>0.0</td>\n",
       "      <td>0.0</td>\n",
       "      <td>0.0</td>\n",
       "      <td>...</td>\n",
       "      <td>0.0</td>\n",
       "      <td>0.0</td>\n",
       "      <td>0.0</td>\n",
       "      <td>0.0</td>\n",
       "      <td>0.0</td>\n",
       "      <td>1.0</td>\n",
       "      <td>0.0</td>\n",
       "      <td>0.0</td>\n",
       "      <td>0.0</td>\n",
       "      <td>0.0</td>\n",
       "    </tr>\n",
       "  </tbody>\n",
       "</table>\n",
       "<p>27 rows × 27 columns</p>\n",
       "</div>"
      ],
      "text/plain": [
       "                          Polycarp  Pauline literature  Clement of Alexandria  \\\n",
       "Polycarp                       0.0                 1.0                    1.0   \n",
       "Pauline literature             1.0                 0.0                    1.0   \n",
       "Clement of Alexandria          1.0                 1.0                    0.0   \n",
       "Ignatius Antiochenus           1.0                 0.0                    0.0   \n",
       "Maximus of Tyre                1.0                 0.0                    1.0   \n",
       "Flavius Josephus               1.0                 0.0                    4.0   \n",
       "Paul of Tarsus                 0.0                 1.0                    1.0   \n",
       "Clemens Romanus                0.0                 2.0                    2.0   \n",
       "Hermas                         0.0                 2.0                    2.0   \n",
       "GNT rest                       0.0                 2.0                    0.0   \n",
       "Justinus Martyr                0.0                 2.0                    1.0   \n",
       "Athenagoras                    0.0                 1.0                    3.0   \n",
       "Origenes                       0.0                 1.0                    3.0   \n",
       "Theophilus Antiochenus         0.0                 0.0                    1.0   \n",
       "Eusebius                       0.0                 0.0                    3.0   \n",
       "Johnannine literature          0.0                 0.0                    2.0   \n",
       "Epiphanius                     0.0                 1.0                    2.0   \n",
       "Basil                          0.0                 0.0                    1.0   \n",
       "Luke (the evangelist)          0.0                 0.0                    1.0   \n",
       "Gregorius Nazianzenus          0.0                 1.0                    0.0   \n",
       "Pseudo-Justinus Martyr         0.0                 0.0                    0.0   \n",
       "Barnabas                       0.0                 0.0                    1.0   \n",
       "Didache                        0.0                 1.0                    0.0   \n",
       "Athanasius of Alexandria       0.0                 0.0                    1.0   \n",
       "Hippolytus                     0.0                 0.0                    1.0   \n",
       "Philo Judaeus                  0.0                 0.0                    2.0   \n",
       "Matthew                        0.0                 0.0                    0.0   \n",
       "\n",
       "                          Ignatius Antiochenus  Maximus of Tyre  \\\n",
       "Polycarp                                   1.0              1.0   \n",
       "Pauline literature                         0.0              0.0   \n",
       "Clement of Alexandria                      0.0              1.0   \n",
       "Ignatius Antiochenus                       0.0              0.0   \n",
       "Maximus of Tyre                            0.0              0.0   \n",
       "Flavius Josephus                           0.0              1.0   \n",
       "Paul of Tarsus                             0.0              0.0   \n",
       "Clemens Romanus                            0.0              0.0   \n",
       "Hermas                                     0.0              0.0   \n",
       "GNT rest                                   0.0              0.0   \n",
       "Justinus Martyr                            0.0              0.0   \n",
       "Athenagoras                                0.0              0.0   \n",
       "Origenes                                   0.0              0.0   \n",
       "Theophilus Antiochenus                     0.0              1.0   \n",
       "Eusebius                                   0.0              1.0   \n",
       "Johnannine literature                      0.0              0.0   \n",
       "Epiphanius                                 0.0              0.0   \n",
       "Basil                                      0.0              0.0   \n",
       "Luke (the evangelist)                      0.0              0.0   \n",
       "Gregorius Nazianzenus                      0.0              1.0   \n",
       "Pseudo-Justinus Martyr                     0.0              0.0   \n",
       "Barnabas                                   0.0              0.0   \n",
       "Didache                                    0.0              0.0   \n",
       "Athanasius of Alexandria                   0.0              1.0   \n",
       "Hippolytus                                 0.0              0.0   \n",
       "Philo Judaeus                              0.0              1.0   \n",
       "Matthew                                    0.0              0.0   \n",
       "\n",
       "                          Flavius Josephus  Paul of Tarsus  Clemens Romanus  \\\n",
       "Polycarp                               1.0             0.0              0.0   \n",
       "Pauline literature                     0.0             1.0              2.0   \n",
       "Clement of Alexandria                  4.0             1.0              2.0   \n",
       "Ignatius Antiochenus                   0.0             0.0              0.0   \n",
       "Maximus of Tyre                        1.0             0.0              0.0   \n",
       "Flavius Josephus                       0.0             1.0              1.0   \n",
       "Paul of Tarsus                         1.0             0.0              2.0   \n",
       "Clemens Romanus                        1.0             2.0              0.0   \n",
       "Hermas                                 2.0             1.0              1.0   \n",
       "GNT rest                               0.0             1.0              1.0   \n",
       "Justinus Martyr                        2.0             1.0              1.0   \n",
       "Athenagoras                            1.0             1.0              1.0   \n",
       "Origenes                               2.0             1.0              1.0   \n",
       "Theophilus Antiochenus                 1.0             3.0              1.0   \n",
       "Eusebius                               3.0             2.0              1.0   \n",
       "Johnannine literature                  1.0             1.0              0.0   \n",
       "Epiphanius                             1.0             4.0              2.0   \n",
       "Basil                                  1.0             1.0              1.0   \n",
       "Luke (the evangelist)                  0.0             0.0              1.0   \n",
       "Gregorius Nazianzenus                  0.0             0.0              1.0   \n",
       "Pseudo-Justinus Martyr                 1.0             0.0              0.0   \n",
       "Barnabas                               0.0             0.0              0.0   \n",
       "Didache                                0.0             0.0              0.0   \n",
       "Athanasius of Alexandria               1.0             0.0              0.0   \n",
       "Hippolytus                             1.0             0.0              0.0   \n",
       "Philo Judaeus                          3.0             0.0              0.0   \n",
       "Matthew                                0.0             0.0              0.0   \n",
       "\n",
       "                          Hermas  GNT rest  ...  Basil  Luke (the evangelist)  \\\n",
       "Polycarp                     0.0       0.0  ...    0.0                    0.0   \n",
       "Pauline literature           2.0       2.0  ...    0.0                    0.0   \n",
       "Clement of Alexandria        2.0       0.0  ...    1.0                    1.0   \n",
       "Ignatius Antiochenus         0.0       0.0  ...    0.0                    0.0   \n",
       "Maximus of Tyre              0.0       0.0  ...    0.0                    0.0   \n",
       "Flavius Josephus             2.0       0.0  ...    1.0                    0.0   \n",
       "Paul of Tarsus               1.0       1.0  ...    1.0                    0.0   \n",
       "Clemens Romanus              1.0       1.0  ...    1.0                    1.0   \n",
       "Hermas                       0.0       1.0  ...    0.0                    0.0   \n",
       "GNT rest                     1.0       0.0  ...    1.0                    0.0   \n",
       "Justinus Martyr              0.0       1.0  ...    1.0                    0.0   \n",
       "Athenagoras                  1.0       0.0  ...    0.0                    0.0   \n",
       "Origenes                     2.0       1.0  ...    3.0                    0.0   \n",
       "Theophilus Antiochenus       0.0       0.0  ...    1.0                    1.0   \n",
       "Eusebius                     1.0       1.0  ...    1.0                    1.0   \n",
       "Johnannine literature        1.0       1.0  ...    1.0                    0.0   \n",
       "Epiphanius                   1.0       1.0  ...    1.0                    0.0   \n",
       "Basil                        0.0       1.0  ...    0.0                    0.0   \n",
       "Luke (the evangelist)        0.0       0.0  ...    0.0                    0.0   \n",
       "Gregorius Nazianzenus        0.0       2.0  ...    0.0                    0.0   \n",
       "Pseudo-Justinus Martyr       0.0       0.0  ...    0.0                    0.0   \n",
       "Barnabas                     0.0       0.0  ...    0.0                    0.0   \n",
       "Didache                      1.0       0.0  ...    0.0                    0.0   \n",
       "Athanasius of Alexandria     1.0       0.0  ...    0.0                    0.0   \n",
       "Hippolytus                   1.0       0.0  ...    0.0                    0.0   \n",
       "Philo Judaeus                2.0       0.0  ...    0.0                    0.0   \n",
       "Matthew                      0.0       0.0  ...    0.0                    0.0   \n",
       "\n",
       "                          Gregorius Nazianzenus  Pseudo-Justinus Martyr  \\\n",
       "Polycarp                                    0.0                     0.0   \n",
       "Pauline literature                          1.0                     0.0   \n",
       "Clement of Alexandria                       0.0                     0.0   \n",
       "Ignatius Antiochenus                        0.0                     0.0   \n",
       "Maximus of Tyre                             1.0                     0.0   \n",
       "Flavius Josephus                            0.0                     1.0   \n",
       "Paul of Tarsus                              0.0                     0.0   \n",
       "Clemens Romanus                             1.0                     0.0   \n",
       "Hermas                                      0.0                     0.0   \n",
       "GNT rest                                    2.0                     0.0   \n",
       "Justinus Martyr                             1.0                     0.0   \n",
       "Athenagoras                                 0.0                     0.0   \n",
       "Origenes                                    0.0                     0.0   \n",
       "Theophilus Antiochenus                      1.0                     0.0   \n",
       "Eusebius                                    2.0                     0.0   \n",
       "Johnannine literature                       0.0                     0.0   \n",
       "Epiphanius                                  0.0                     0.0   \n",
       "Basil                                       0.0                     0.0   \n",
       "Luke (the evangelist)                       0.0                     0.0   \n",
       "Gregorius Nazianzenus                       0.0                     0.0   \n",
       "Pseudo-Justinus Martyr                      0.0                     0.0   \n",
       "Barnabas                                    0.0                     0.0   \n",
       "Didache                                     0.0                     0.0   \n",
       "Athanasius of Alexandria                    1.0                     0.0   \n",
       "Hippolytus                                  0.0                     0.0   \n",
       "Philo Judaeus                               1.0                     0.0   \n",
       "Matthew                                     0.0                     0.0   \n",
       "\n",
       "                          Barnabas  Didache  Athanasius of Alexandria  \\\n",
       "Polycarp                       0.0      0.0                       0.0   \n",
       "Pauline literature             0.0      1.0                       0.0   \n",
       "Clement of Alexandria          1.0      0.0                       1.0   \n",
       "Ignatius Antiochenus           0.0      0.0                       0.0   \n",
       "Maximus of Tyre                0.0      0.0                       1.0   \n",
       "Flavius Josephus               0.0      0.0                       1.0   \n",
       "Paul of Tarsus                 0.0      0.0                       0.0   \n",
       "Clemens Romanus                0.0      0.0                       0.0   \n",
       "Hermas                         0.0      1.0                       1.0   \n",
       "GNT rest                       0.0      0.0                       0.0   \n",
       "Justinus Martyr                0.0      0.0                       0.0   \n",
       "Athenagoras                    1.0      0.0                       0.0   \n",
       "Origenes                       0.0      1.0                       1.0   \n",
       "Theophilus Antiochenus         0.0      0.0                       1.0   \n",
       "Eusebius                       0.0      1.0                       1.0   \n",
       "Johnannine literature          0.0      0.0                       1.0   \n",
       "Epiphanius                     1.0      0.0                       0.0   \n",
       "Basil                          0.0      0.0                       0.0   \n",
       "Luke (the evangelist)          0.0      0.0                       0.0   \n",
       "Gregorius Nazianzenus          0.0      0.0                       1.0   \n",
       "Pseudo-Justinus Martyr         0.0      0.0                       0.0   \n",
       "Barnabas                       0.0      0.0                       0.0   \n",
       "Didache                        0.0      0.0                       0.0   \n",
       "Athanasius of Alexandria       0.0      0.0                       0.0   \n",
       "Hippolytus                     0.0      0.0                       0.0   \n",
       "Philo Judaeus                  0.0      1.0                       3.0   \n",
       "Matthew                        0.0      1.0                       0.0   \n",
       "\n",
       "                          Hippolytus  Philo Judaeus  Matthew  \n",
       "Polycarp                         0.0            0.0      0.0  \n",
       "Pauline literature               0.0            0.0      0.0  \n",
       "Clement of Alexandria            1.0            2.0      0.0  \n",
       "Ignatius Antiochenus             0.0            0.0      0.0  \n",
       "Maximus of Tyre                  0.0            1.0      0.0  \n",
       "Flavius Josephus                 1.0            3.0      0.0  \n",
       "Paul of Tarsus                   0.0            0.0      0.0  \n",
       "Clemens Romanus                  0.0            0.0      0.0  \n",
       "Hermas                           1.0            2.0      0.0  \n",
       "GNT rest                         0.0            0.0      0.0  \n",
       "Justinus Martyr                  0.0            0.0      0.0  \n",
       "Athenagoras                      1.0            1.0      0.0  \n",
       "Origenes                         1.0            2.0      0.0  \n",
       "Theophilus Antiochenus           0.0            1.0      0.0  \n",
       "Eusebius                         1.0            2.0      0.0  \n",
       "Johnannine literature            0.0            1.0      0.0  \n",
       "Epiphanius                       0.0            0.0      0.0  \n",
       "Basil                            0.0            0.0      0.0  \n",
       "Luke (the evangelist)            0.0            0.0      0.0  \n",
       "Gregorius Nazianzenus            0.0            1.0      0.0  \n",
       "Pseudo-Justinus Martyr           0.0            0.0      0.0  \n",
       "Barnabas                         0.0            0.0      0.0  \n",
       "Didache                          0.0            1.0      1.0  \n",
       "Athanasius of Alexandria         0.0            3.0      0.0  \n",
       "Hippolytus                       0.0            4.0      0.0  \n",
       "Philo Judaeus                    4.0            0.0      0.0  \n",
       "Matthew                          0.0            0.0      0.0  \n",
       "\n",
       "[27 rows x 27 columns]"
      ]
     },
     "execution_count": 54,
     "metadata": {},
     "output_type": "execute_result"
    }
   ],
   "source": [
    "nx.convert_matrix.to_pandas_adjacency(G)"
   ]
  },
  {
   "cell_type": "code",
   "execution_count": 55,
   "metadata": {},
   "outputs": [
    {
     "data": {
      "text/html": [
       "        <script type=\"text/javascript\">\n",
       "        window.PlotlyConfig = {MathJaxConfig: 'local'};\n",
       "        if (window.MathJax) {MathJax.Hub.Config({SVG: {font: \"STIX-Web\"}});}\n",
       "        if (typeof require !== 'undefined') {\n",
       "        require.undef(\"plotly\");\n",
       "        requirejs.config({\n",
       "            paths: {\n",
       "                'plotly': ['https://cdn.plot.ly/plotly-latest.min']\n",
       "            }\n",
       "        });\n",
       "        require(['plotly'], function(Plotly) {\n",
       "            window._Plotly = Plotly;\n",
       "        });\n",
       "        }\n",
       "        </script>\n",
       "        "
      ]
     },
     "metadata": {},
     "output_type": "display_data"
    }
   ],
   "source": [
    "reload(textnet)\n",
    "fig = textnet.draw_2d_network(G)"
   ]
  },
  {
   "cell_type": "code",
   "execution_count": 296,
   "metadata": {},
   "outputs": [],
   "source": [
    "#sddk.write_file(\"SDAM_data/ECCE_public/authors_network_10tfidf.png\", fig, conf)"
   ]
  },
  {
   "cell_type": "code",
   "execution_count": 117,
   "metadata": {},
   "outputs": [],
   "source": [
    "G_paul = textnet.construct_ego_network(G, \"Paul of Tarsus\", 10, reduced=True)"
   ]
  },
  {
   "cell_type": "code",
   "execution_count": 119,
   "metadata": {},
   "outputs": [
    {
     "data": {
      "text/html": [
       "        <script type=\"text/javascript\">\n",
       "        window.PlotlyConfig = {MathJaxConfig: 'local'};\n",
       "        if (window.MathJax) {MathJax.Hub.Config({SVG: {font: \"STIX-Web\"}});}\n",
       "        if (typeof require !== 'undefined') {\n",
       "        require.undef(\"plotly\");\n",
       "        requirejs.config({\n",
       "            paths: {\n",
       "                'plotly': ['https://cdn.plot.ly/plotly-latest.min']\n",
       "            }\n",
       "        });\n",
       "        require(['plotly'], function(Plotly) {\n",
       "            window._Plotly = Plotly;\n",
       "        });\n",
       "        }\n",
       "        </script>\n",
       "        "
      ]
     },
     "metadata": {},
     "output_type": "display_data"
    },
    {
     "data": {
      "text/plain": [
       "<module 'textnet' from '/home/kasev/ECCE_AGT/scripts/textnet.py'>"
      ]
     },
     "execution_count": 119,
     "metadata": {},
     "output_type": "execute_result"
    }
   ],
   "source": [
    "reload(textnet)"
   ]
  },
  {
   "cell_type": "code",
   "execution_count": 308,
   "metadata": {},
   "outputs": [
    {
     "data": {
      "application/vnd.plotly.v1+json": {
       "config": {
        "plotlyServerURL": "https://plot.ly"
       },
       "data": [
        {
         "line": {
          "color": "#000000",
          "width": 1
         },
         "mode": "lines",
         "type": "scatter",
         "x": [
          0.05934444244890454,
          -0.39279762848110267,
          null
         ],
         "y": [
          0.06743736024698652,
          -0.12900396135433984,
          null
         ]
        },
        {
         "line": {
          "color": "#404040",
          "width": 0.7
         },
         "mode": "lines",
         "type": "scatter",
         "x": [
          0.05934444244890454,
          0.4056967422591428,
          null,
          0.45287832372142794,
          0.5853871595575912,
          null
         ],
         "y": [
          0.06743736024698652,
          0.33641769307757186,
          null,
          -0.23860426145465954,
          -0.6750357328455223,
          null
         ]
        },
        {
         "line": {
          "color": "#C0C0C0",
          "width": 0.5
         },
         "mode": "lines",
         "type": "scatter",
         "x": [
          0.05934444244890454,
          -0.014423731833324842,
          null,
          0.05934444244890454,
          0.45287832372142794,
          null,
          -0.014423731833324842,
          0.005692625047254552,
          null,
          0.45287832372142794,
          0.9171925715209727,
          null,
          -0.39279762848110267,
          -0.4440052887405013,
          null,
          -0.39279762848110267,
          -0.815421709076464,
          null,
          -0.39279762848110267,
          -0.7595435064239011,
          null
         ],
         "y": [
          0.06743736024698652,
          0.5528151857954651,
          null,
          0.06743736024698652,
          -0.23860426145465954,
          null,
          0.5528151857954651,
          1,
          null,
          -0.23860426145465954,
          -0.18267140913216168,
          null,
          -0.12900396135433984,
          -0.5959593213715016,
          null,
          -0.12900396135433984,
          -0.3038456900482903,
          null,
          -0.12900396135433984,
          0.16845013708645196,
          null
         ]
        },
        {
         "hoverinfo": "text",
         "hovertext": [
          "4",
          "2",
          "1",
          "3",
          "4",
          "1",
          "1",
          "1",
          "1",
          "1",
          "1"
         ],
         "marker": {
          "color": [
           73,
           34,
           22,
           41,
           53,
           18,
           21,
           8,
           16,
           15,
           11
          ],
          "colorbar": {
           "thickness": 15,
           "title": {
            "side": "right",
            "text": "degree"
           },
           "xanchor": "left"
          },
          "colorscale": [
           [
            0,
            "rgb(255,255,255)"
           ],
           [
            0.125,
            "rgb(240,240,240)"
           ],
           [
            0.25,
            "rgb(217,217,217)"
           ],
           [
            0.375,
            "rgb(189,189,189)"
           ],
           [
            0.5,
            "rgb(150,150,150)"
           ],
           [
            0.625,
            "rgb(115,115,115)"
           ],
           [
            0.75,
            "rgb(82,82,82)"
           ],
           [
            0.875,
            "rgb(37,37,37)"
           ],
           [
            1,
            "rgb(0,0,0)"
           ]
          ],
          "line": {
           "width": 1
          },
          "showscale": false,
          "size": 7
         },
         "mode": "markers+text",
         "text": [
          "Paul of Tarsus",
          "Clemens Romanus",
          "Theophilus Antiochenus",
          "Eusebius",
          "Epiphanius",
          "Pauline literature",
          "Clement of Alexandria",
          "Origenes",
          "Flavius Josephus",
          "Justinus Martyr",
          "Athenagoras"
         ],
         "textposition": "bottom center",
         "type": "scatter",
         "x": [
          0.05934444244890454,
          -0.014423731833324842,
          0.4056967422591428,
          0.45287832372142794,
          -0.39279762848110267,
          0.005692625047254552,
          -0.7595435064239011,
          -0.815421709076464,
          0.5853871595575912,
          0.9171925715209727,
          -0.4440052887405013
         ],
         "y": [
          0.06743736024698652,
          0.5528151857954651,
          0.33641769307757186,
          -0.23860426145465954,
          -0.12900396135433984,
          1,
          0.16845013708645196,
          -0.3038456900482903,
          -0.6750357328455223,
          -0.18267140913216168,
          -0.5959593213715016
         ]
        },
        {
         "hoverinfo": "text",
         "marker": {
          "opacity": 0
         },
         "mode": "markers",
         "opacity": 0,
         "text": [
          "2",
          "3",
          "2",
          "4",
          "2",
          "2",
          "3",
          "2",
          "2",
          "2"
         ],
         "type": "scatter",
         "x": [
          0.02246035530778985,
          0.23252059235402367,
          0.25611138308516623,
          -0.16672659301609907,
          -0.0043655533930351455,
          0.6850354476212003,
          0.5191327416395096,
          -0.418401458610802,
          -0.6041096687787834,
          -0.576170567452502
         ],
         "y": [
          0.3101262730212258,
          0.2019275266622792,
          -0.08558345060383651,
          -0.03078330055367666,
          0.7764075928977325,
          -0.21063783529341062,
          -0.4568199971500909,
          -0.3624816413629207,
          -0.21642482570131508,
          0.01972308786605606
         ]
        }
       ],
       "layout": {
        "autosize": false,
        "height": 500,
        "hovermode": "closest",
        "margin": {
         "b": 10,
         "l": 10,
         "r": 10,
         "t": 10
        },
        "plot_bgcolor": "rgba(0,0,0,0)",
        "showlegend": false,
        "template": {
         "data": {
          "bar": [
           {
            "error_x": {
             "color": "#2a3f5f"
            },
            "error_y": {
             "color": "#2a3f5f"
            },
            "marker": {
             "line": {
              "color": "#E5ECF6",
              "width": 0.5
             }
            },
            "type": "bar"
           }
          ],
          "barpolar": [
           {
            "marker": {
             "line": {
              "color": "#E5ECF6",
              "width": 0.5
             }
            },
            "type": "barpolar"
           }
          ],
          "carpet": [
           {
            "aaxis": {
             "endlinecolor": "#2a3f5f",
             "gridcolor": "white",
             "linecolor": "white",
             "minorgridcolor": "white",
             "startlinecolor": "#2a3f5f"
            },
            "baxis": {
             "endlinecolor": "#2a3f5f",
             "gridcolor": "white",
             "linecolor": "white",
             "minorgridcolor": "white",
             "startlinecolor": "#2a3f5f"
            },
            "type": "carpet"
           }
          ],
          "choropleth": [
           {
            "colorbar": {
             "outlinewidth": 0,
             "ticks": ""
            },
            "type": "choropleth"
           }
          ],
          "contour": [
           {
            "colorbar": {
             "outlinewidth": 0,
             "ticks": ""
            },
            "colorscale": [
             [
              0,
              "#0d0887"
             ],
             [
              0.1111111111111111,
              "#46039f"
             ],
             [
              0.2222222222222222,
              "#7201a8"
             ],
             [
              0.3333333333333333,
              "#9c179e"
             ],
             [
              0.4444444444444444,
              "#bd3786"
             ],
             [
              0.5555555555555556,
              "#d8576b"
             ],
             [
              0.6666666666666666,
              "#ed7953"
             ],
             [
              0.7777777777777778,
              "#fb9f3a"
             ],
             [
              0.8888888888888888,
              "#fdca26"
             ],
             [
              1,
              "#f0f921"
             ]
            ],
            "type": "contour"
           }
          ],
          "contourcarpet": [
           {
            "colorbar": {
             "outlinewidth": 0,
             "ticks": ""
            },
            "type": "contourcarpet"
           }
          ],
          "heatmap": [
           {
            "colorbar": {
             "outlinewidth": 0,
             "ticks": ""
            },
            "colorscale": [
             [
              0,
              "#0d0887"
             ],
             [
              0.1111111111111111,
              "#46039f"
             ],
             [
              0.2222222222222222,
              "#7201a8"
             ],
             [
              0.3333333333333333,
              "#9c179e"
             ],
             [
              0.4444444444444444,
              "#bd3786"
             ],
             [
              0.5555555555555556,
              "#d8576b"
             ],
             [
              0.6666666666666666,
              "#ed7953"
             ],
             [
              0.7777777777777778,
              "#fb9f3a"
             ],
             [
              0.8888888888888888,
              "#fdca26"
             ],
             [
              1,
              "#f0f921"
             ]
            ],
            "type": "heatmap"
           }
          ],
          "heatmapgl": [
           {
            "colorbar": {
             "outlinewidth": 0,
             "ticks": ""
            },
            "colorscale": [
             [
              0,
              "#0d0887"
             ],
             [
              0.1111111111111111,
              "#46039f"
             ],
             [
              0.2222222222222222,
              "#7201a8"
             ],
             [
              0.3333333333333333,
              "#9c179e"
             ],
             [
              0.4444444444444444,
              "#bd3786"
             ],
             [
              0.5555555555555556,
              "#d8576b"
             ],
             [
              0.6666666666666666,
              "#ed7953"
             ],
             [
              0.7777777777777778,
              "#fb9f3a"
             ],
             [
              0.8888888888888888,
              "#fdca26"
             ],
             [
              1,
              "#f0f921"
             ]
            ],
            "type": "heatmapgl"
           }
          ],
          "histogram": [
           {
            "marker": {
             "colorbar": {
              "outlinewidth": 0,
              "ticks": ""
             }
            },
            "type": "histogram"
           }
          ],
          "histogram2d": [
           {
            "colorbar": {
             "outlinewidth": 0,
             "ticks": ""
            },
            "colorscale": [
             [
              0,
              "#0d0887"
             ],
             [
              0.1111111111111111,
              "#46039f"
             ],
             [
              0.2222222222222222,
              "#7201a8"
             ],
             [
              0.3333333333333333,
              "#9c179e"
             ],
             [
              0.4444444444444444,
              "#bd3786"
             ],
             [
              0.5555555555555556,
              "#d8576b"
             ],
             [
              0.6666666666666666,
              "#ed7953"
             ],
             [
              0.7777777777777778,
              "#fb9f3a"
             ],
             [
              0.8888888888888888,
              "#fdca26"
             ],
             [
              1,
              "#f0f921"
             ]
            ],
            "type": "histogram2d"
           }
          ],
          "histogram2dcontour": [
           {
            "colorbar": {
             "outlinewidth": 0,
             "ticks": ""
            },
            "colorscale": [
             [
              0,
              "#0d0887"
             ],
             [
              0.1111111111111111,
              "#46039f"
             ],
             [
              0.2222222222222222,
              "#7201a8"
             ],
             [
              0.3333333333333333,
              "#9c179e"
             ],
             [
              0.4444444444444444,
              "#bd3786"
             ],
             [
              0.5555555555555556,
              "#d8576b"
             ],
             [
              0.6666666666666666,
              "#ed7953"
             ],
             [
              0.7777777777777778,
              "#fb9f3a"
             ],
             [
              0.8888888888888888,
              "#fdca26"
             ],
             [
              1,
              "#f0f921"
             ]
            ],
            "type": "histogram2dcontour"
           }
          ],
          "mesh3d": [
           {
            "colorbar": {
             "outlinewidth": 0,
             "ticks": ""
            },
            "type": "mesh3d"
           }
          ],
          "parcoords": [
           {
            "line": {
             "colorbar": {
              "outlinewidth": 0,
              "ticks": ""
             }
            },
            "type": "parcoords"
           }
          ],
          "pie": [
           {
            "automargin": true,
            "type": "pie"
           }
          ],
          "scatter": [
           {
            "marker": {
             "colorbar": {
              "outlinewidth": 0,
              "ticks": ""
             }
            },
            "type": "scatter"
           }
          ],
          "scatter3d": [
           {
            "line": {
             "colorbar": {
              "outlinewidth": 0,
              "ticks": ""
             }
            },
            "marker": {
             "colorbar": {
              "outlinewidth": 0,
              "ticks": ""
             }
            },
            "type": "scatter3d"
           }
          ],
          "scattercarpet": [
           {
            "marker": {
             "colorbar": {
              "outlinewidth": 0,
              "ticks": ""
             }
            },
            "type": "scattercarpet"
           }
          ],
          "scattergeo": [
           {
            "marker": {
             "colorbar": {
              "outlinewidth": 0,
              "ticks": ""
             }
            },
            "type": "scattergeo"
           }
          ],
          "scattergl": [
           {
            "marker": {
             "colorbar": {
              "outlinewidth": 0,
              "ticks": ""
             }
            },
            "type": "scattergl"
           }
          ],
          "scattermapbox": [
           {
            "marker": {
             "colorbar": {
              "outlinewidth": 0,
              "ticks": ""
             }
            },
            "type": "scattermapbox"
           }
          ],
          "scatterpolar": [
           {
            "marker": {
             "colorbar": {
              "outlinewidth": 0,
              "ticks": ""
             }
            },
            "type": "scatterpolar"
           }
          ],
          "scatterpolargl": [
           {
            "marker": {
             "colorbar": {
              "outlinewidth": 0,
              "ticks": ""
             }
            },
            "type": "scatterpolargl"
           }
          ],
          "scatterternary": [
           {
            "marker": {
             "colorbar": {
              "outlinewidth": 0,
              "ticks": ""
             }
            },
            "type": "scatterternary"
           }
          ],
          "surface": [
           {
            "colorbar": {
             "outlinewidth": 0,
             "ticks": ""
            },
            "colorscale": [
             [
              0,
              "#0d0887"
             ],
             [
              0.1111111111111111,
              "#46039f"
             ],
             [
              0.2222222222222222,
              "#7201a8"
             ],
             [
              0.3333333333333333,
              "#9c179e"
             ],
             [
              0.4444444444444444,
              "#bd3786"
             ],
             [
              0.5555555555555556,
              "#d8576b"
             ],
             [
              0.6666666666666666,
              "#ed7953"
             ],
             [
              0.7777777777777778,
              "#fb9f3a"
             ],
             [
              0.8888888888888888,
              "#fdca26"
             ],
             [
              1,
              "#f0f921"
             ]
            ],
            "type": "surface"
           }
          ],
          "table": [
           {
            "cells": {
             "fill": {
              "color": "#EBF0F8"
             },
             "line": {
              "color": "white"
             }
            },
            "header": {
             "fill": {
              "color": "#C8D4E3"
             },
             "line": {
              "color": "white"
             }
            },
            "type": "table"
           }
          ]
         },
         "layout": {
          "annotationdefaults": {
           "arrowcolor": "#2a3f5f",
           "arrowhead": 0,
           "arrowwidth": 1
          },
          "autotypenumbers": "strict",
          "coloraxis": {
           "colorbar": {
            "outlinewidth": 0,
            "ticks": ""
           }
          },
          "colorscale": {
           "diverging": [
            [
             0,
             "#8e0152"
            ],
            [
             0.1,
             "#c51b7d"
            ],
            [
             0.2,
             "#de77ae"
            ],
            [
             0.3,
             "#f1b6da"
            ],
            [
             0.4,
             "#fde0ef"
            ],
            [
             0.5,
             "#f7f7f7"
            ],
            [
             0.6,
             "#e6f5d0"
            ],
            [
             0.7,
             "#b8e186"
            ],
            [
             0.8,
             "#7fbc41"
            ],
            [
             0.9,
             "#4d9221"
            ],
            [
             1,
             "#276419"
            ]
           ],
           "sequential": [
            [
             0,
             "#0d0887"
            ],
            [
             0.1111111111111111,
             "#46039f"
            ],
            [
             0.2222222222222222,
             "#7201a8"
            ],
            [
             0.3333333333333333,
             "#9c179e"
            ],
            [
             0.4444444444444444,
             "#bd3786"
            ],
            [
             0.5555555555555556,
             "#d8576b"
            ],
            [
             0.6666666666666666,
             "#ed7953"
            ],
            [
             0.7777777777777778,
             "#fb9f3a"
            ],
            [
             0.8888888888888888,
             "#fdca26"
            ],
            [
             1,
             "#f0f921"
            ]
           ],
           "sequentialminus": [
            [
             0,
             "#0d0887"
            ],
            [
             0.1111111111111111,
             "#46039f"
            ],
            [
             0.2222222222222222,
             "#7201a8"
            ],
            [
             0.3333333333333333,
             "#9c179e"
            ],
            [
             0.4444444444444444,
             "#bd3786"
            ],
            [
             0.5555555555555556,
             "#d8576b"
            ],
            [
             0.6666666666666666,
             "#ed7953"
            ],
            [
             0.7777777777777778,
             "#fb9f3a"
            ],
            [
             0.8888888888888888,
             "#fdca26"
            ],
            [
             1,
             "#f0f921"
            ]
           ]
          },
          "colorway": [
           "#636efa",
           "#EF553B",
           "#00cc96",
           "#ab63fa",
           "#FFA15A",
           "#19d3f3",
           "#FF6692",
           "#B6E880",
           "#FF97FF",
           "#FECB52"
          ],
          "font": {
           "color": "#2a3f5f"
          },
          "geo": {
           "bgcolor": "white",
           "lakecolor": "white",
           "landcolor": "#E5ECF6",
           "showlakes": true,
           "showland": true,
           "subunitcolor": "white"
          },
          "hoverlabel": {
           "align": "left"
          },
          "hovermode": "closest",
          "mapbox": {
           "style": "light"
          },
          "paper_bgcolor": "white",
          "plot_bgcolor": "#E5ECF6",
          "polar": {
           "angularaxis": {
            "gridcolor": "white",
            "linecolor": "white",
            "ticks": ""
           },
           "bgcolor": "#E5ECF6",
           "radialaxis": {
            "gridcolor": "white",
            "linecolor": "white",
            "ticks": ""
           }
          },
          "scene": {
           "xaxis": {
            "backgroundcolor": "#E5ECF6",
            "gridcolor": "white",
            "gridwidth": 2,
            "linecolor": "white",
            "showbackground": true,
            "ticks": "",
            "zerolinecolor": "white"
           },
           "yaxis": {
            "backgroundcolor": "#E5ECF6",
            "gridcolor": "white",
            "gridwidth": 2,
            "linecolor": "white",
            "showbackground": true,
            "ticks": "",
            "zerolinecolor": "white"
           },
           "zaxis": {
            "backgroundcolor": "#E5ECF6",
            "gridcolor": "white",
            "gridwidth": 2,
            "linecolor": "white",
            "showbackground": true,
            "ticks": "",
            "zerolinecolor": "white"
           }
          },
          "shapedefaults": {
           "line": {
            "color": "#2a3f5f"
           }
          },
          "ternary": {
           "aaxis": {
            "gridcolor": "white",
            "linecolor": "white",
            "ticks": ""
           },
           "baxis": {
            "gridcolor": "white",
            "linecolor": "white",
            "ticks": ""
           },
           "bgcolor": "#E5ECF6",
           "caxis": {
            "gridcolor": "white",
            "linecolor": "white",
            "ticks": ""
           }
          },
          "title": {
           "x": 0.05
          },
          "xaxis": {
           "automargin": true,
           "gridcolor": "white",
           "linecolor": "white",
           "ticks": "",
           "title": {
            "standoff": 15
           },
           "zerolinecolor": "white",
           "zerolinewidth": 2
          },
          "yaxis": {
           "automargin": true,
           "gridcolor": "white",
           "linecolor": "white",
           "ticks": "",
           "title": {
            "standoff": 15
           },
           "zerolinecolor": "white",
           "zerolinewidth": 2
          }
         }
        },
        "title": {
         "font": {
          "size": 16
         }
        },
        "width": 500,
        "xaxis": {
         "range": [
          -1.15,
          1.15
         ],
         "showgrid": false,
         "showticklabels": false,
         "zeroline": false
        },
        "yaxis": {
         "range": [
          -1.1,
          1.05
         ],
         "showgrid": false,
         "showticklabels": false,
         "zeroline": false
        }
       }
      },
      "text/html": [
       "<div>                            <div id=\"0cd3450f-490c-43dc-9411-b3222183461b\" class=\"plotly-graph-div\" style=\"height:500px; width:500px;\"></div>            <script type=\"text/javascript\">                require([\"plotly\"], function(Plotly) {                    window.PLOTLYENV=window.PLOTLYENV || {};                                    if (document.getElementById(\"0cd3450f-490c-43dc-9411-b3222183461b\")) {                    Plotly.newPlot(                        \"0cd3450f-490c-43dc-9411-b3222183461b\",                        [{\"line\": {\"color\": \"#000000\", \"width\": 1}, \"mode\": \"lines\", \"type\": \"scatter\", \"x\": [0.05934444244890454, -0.39279762848110267, null], \"y\": [0.06743736024698652, -0.12900396135433984, null]}, {\"line\": {\"color\": \"#404040\", \"width\": 0.7}, \"mode\": \"lines\", \"type\": \"scatter\", \"x\": [0.05934444244890454, 0.4056967422591428, null, 0.45287832372142794, 0.5853871595575912, null], \"y\": [0.06743736024698652, 0.33641769307757186, null, -0.23860426145465954, -0.6750357328455223, null]}, {\"line\": {\"color\": \"#C0C0C0\", \"width\": 0.5}, \"mode\": \"lines\", \"type\": \"scatter\", \"x\": [0.05934444244890454, -0.014423731833324842, null, 0.05934444244890454, 0.45287832372142794, null, -0.014423731833324842, 0.005692625047254552, null, 0.45287832372142794, 0.9171925715209727, null, -0.39279762848110267, -0.4440052887405013, null, -0.39279762848110267, -0.815421709076464, null, -0.39279762848110267, -0.7595435064239011, null], \"y\": [0.06743736024698652, 0.5528151857954651, null, 0.06743736024698652, -0.23860426145465954, null, 0.5528151857954651, 1.0, null, -0.23860426145465954, -0.18267140913216168, null, -0.12900396135433984, -0.5959593213715016, null, -0.12900396135433984, -0.3038456900482903, null, -0.12900396135433984, 0.16845013708645196, null]}, {\"hoverinfo\": \"text\", \"hovertext\": [\"4\", \"2\", \"1\", \"3\", \"4\", \"1\", \"1\", \"1\", \"1\", \"1\", \"1\"], \"marker\": {\"color\": [73, 34, 22, 41, 53, 18, 21, 8, 16, 15, 11], \"colorbar\": {\"thickness\": 15, \"title\": {\"side\": \"right\", \"text\": \"degree\"}, \"xanchor\": \"left\"}, \"colorscale\": [[0.0, \"rgb(255,255,255)\"], [0.125, \"rgb(240,240,240)\"], [0.25, \"rgb(217,217,217)\"], [0.375, \"rgb(189,189,189)\"], [0.5, \"rgb(150,150,150)\"], [0.625, \"rgb(115,115,115)\"], [0.75, \"rgb(82,82,82)\"], [0.875, \"rgb(37,37,37)\"], [1.0, \"rgb(0,0,0)\"]], \"line\": {\"width\": 1}, \"showscale\": false, \"size\": 7}, \"mode\": \"markers+text\", \"text\": [\"Paul of Tarsus\", \"Clemens Romanus\", \"Theophilus Antiochenus\", \"Eusebius\", \"Epiphanius\", \"Pauline literature\", \"Clement of Alexandria\", \"Origenes\", \"Flavius Josephus\", \"Justinus Martyr\", \"Athenagoras\"], \"textposition\": \"bottom center\", \"type\": \"scatter\", \"x\": [0.05934444244890454, -0.014423731833324842, 0.4056967422591428, 0.45287832372142794, -0.39279762848110267, 0.005692625047254552, -0.7595435064239011, -0.815421709076464, 0.5853871595575912, 0.9171925715209727, -0.4440052887405013], \"y\": [0.06743736024698652, 0.5528151857954651, 0.33641769307757186, -0.23860426145465954, -0.12900396135433984, 1.0, 0.16845013708645196, -0.3038456900482903, -0.6750357328455223, -0.18267140913216168, -0.5959593213715016]}, {\"hoverinfo\": \"text\", \"marker\": {\"opacity\": 0}, \"mode\": \"markers\", \"opacity\": 0, \"text\": [\"2\", \"3\", \"2\", \"4\", \"2\", \"2\", \"3\", \"2\", \"2\", \"2\"], \"type\": \"scatter\", \"x\": [0.02246035530778985, 0.23252059235402367, 0.25611138308516623, -0.16672659301609907, -0.0043655533930351455, 0.6850354476212003, 0.5191327416395096, -0.418401458610802, -0.6041096687787834, -0.576170567452502], \"y\": [0.3101262730212258, 0.2019275266622792, -0.08558345060383651, -0.03078330055367666, 0.7764075928977325, -0.21063783529341062, -0.4568199971500909, -0.3624816413629207, -0.21642482570131508, 0.01972308786605606]}],                        {\"autosize\": false, \"height\": 500, \"hovermode\": \"closest\", \"margin\": {\"b\": 10, \"l\": 10, \"r\": 10, \"t\": 10}, \"plot_bgcolor\": \"rgba(0,0,0,0)\", \"showlegend\": false, \"template\": {\"data\": {\"bar\": [{\"error_x\": {\"color\": \"#2a3f5f\"}, \"error_y\": {\"color\": \"#2a3f5f\"}, \"marker\": {\"line\": {\"color\": \"#E5ECF6\", \"width\": 0.5}}, \"type\": \"bar\"}], \"barpolar\": [{\"marker\": {\"line\": {\"color\": \"#E5ECF6\", \"width\": 0.5}}, \"type\": \"barpolar\"}], \"carpet\": [{\"aaxis\": {\"endlinecolor\": \"#2a3f5f\", \"gridcolor\": \"white\", \"linecolor\": \"white\", \"minorgridcolor\": \"white\", \"startlinecolor\": \"#2a3f5f\"}, \"baxis\": {\"endlinecolor\": \"#2a3f5f\", \"gridcolor\": \"white\", \"linecolor\": \"white\", \"minorgridcolor\": \"white\", \"startlinecolor\": \"#2a3f5f\"}, \"type\": \"carpet\"}], \"choropleth\": [{\"colorbar\": {\"outlinewidth\": 0, \"ticks\": \"\"}, \"type\": \"choropleth\"}], \"contour\": [{\"colorbar\": {\"outlinewidth\": 0, \"ticks\": \"\"}, \"colorscale\": [[0.0, \"#0d0887\"], [0.1111111111111111, \"#46039f\"], [0.2222222222222222, \"#7201a8\"], [0.3333333333333333, \"#9c179e\"], [0.4444444444444444, \"#bd3786\"], [0.5555555555555556, \"#d8576b\"], [0.6666666666666666, \"#ed7953\"], [0.7777777777777778, \"#fb9f3a\"], [0.8888888888888888, \"#fdca26\"], [1.0, \"#f0f921\"]], \"type\": \"contour\"}], \"contourcarpet\": [{\"colorbar\": {\"outlinewidth\": 0, \"ticks\": \"\"}, \"type\": \"contourcarpet\"}], \"heatmap\": [{\"colorbar\": {\"outlinewidth\": 0, \"ticks\": \"\"}, \"colorscale\": [[0.0, \"#0d0887\"], [0.1111111111111111, \"#46039f\"], [0.2222222222222222, \"#7201a8\"], [0.3333333333333333, \"#9c179e\"], [0.4444444444444444, \"#bd3786\"], [0.5555555555555556, \"#d8576b\"], [0.6666666666666666, \"#ed7953\"], [0.7777777777777778, \"#fb9f3a\"], [0.8888888888888888, \"#fdca26\"], [1.0, \"#f0f921\"]], \"type\": \"heatmap\"}], \"heatmapgl\": [{\"colorbar\": {\"outlinewidth\": 0, \"ticks\": \"\"}, \"colorscale\": [[0.0, \"#0d0887\"], [0.1111111111111111, \"#46039f\"], [0.2222222222222222, \"#7201a8\"], [0.3333333333333333, \"#9c179e\"], [0.4444444444444444, \"#bd3786\"], [0.5555555555555556, \"#d8576b\"], [0.6666666666666666, \"#ed7953\"], [0.7777777777777778, \"#fb9f3a\"], [0.8888888888888888, \"#fdca26\"], [1.0, \"#f0f921\"]], \"type\": \"heatmapgl\"}], \"histogram\": [{\"marker\": {\"colorbar\": {\"outlinewidth\": 0, \"ticks\": \"\"}}, \"type\": \"histogram\"}], \"histogram2d\": [{\"colorbar\": {\"outlinewidth\": 0, \"ticks\": \"\"}, \"colorscale\": [[0.0, \"#0d0887\"], [0.1111111111111111, \"#46039f\"], [0.2222222222222222, \"#7201a8\"], [0.3333333333333333, \"#9c179e\"], [0.4444444444444444, \"#bd3786\"], [0.5555555555555556, \"#d8576b\"], [0.6666666666666666, \"#ed7953\"], [0.7777777777777778, \"#fb9f3a\"], [0.8888888888888888, \"#fdca26\"], [1.0, \"#f0f921\"]], \"type\": \"histogram2d\"}], \"histogram2dcontour\": [{\"colorbar\": {\"outlinewidth\": 0, \"ticks\": \"\"}, \"colorscale\": [[0.0, \"#0d0887\"], [0.1111111111111111, \"#46039f\"], [0.2222222222222222, \"#7201a8\"], [0.3333333333333333, \"#9c179e\"], [0.4444444444444444, \"#bd3786\"], [0.5555555555555556, \"#d8576b\"], [0.6666666666666666, \"#ed7953\"], [0.7777777777777778, \"#fb9f3a\"], [0.8888888888888888, \"#fdca26\"], [1.0, \"#f0f921\"]], \"type\": \"histogram2dcontour\"}], \"mesh3d\": [{\"colorbar\": {\"outlinewidth\": 0, \"ticks\": \"\"}, \"type\": \"mesh3d\"}], \"parcoords\": [{\"line\": {\"colorbar\": {\"outlinewidth\": 0, \"ticks\": \"\"}}, \"type\": \"parcoords\"}], \"pie\": [{\"automargin\": true, \"type\": \"pie\"}], \"scatter\": [{\"marker\": {\"colorbar\": {\"outlinewidth\": 0, \"ticks\": \"\"}}, \"type\": \"scatter\"}], \"scatter3d\": [{\"line\": {\"colorbar\": {\"outlinewidth\": 0, \"ticks\": \"\"}}, \"marker\": {\"colorbar\": {\"outlinewidth\": 0, \"ticks\": \"\"}}, \"type\": \"scatter3d\"}], \"scattercarpet\": [{\"marker\": {\"colorbar\": {\"outlinewidth\": 0, \"ticks\": \"\"}}, \"type\": \"scattercarpet\"}], \"scattergeo\": [{\"marker\": {\"colorbar\": {\"outlinewidth\": 0, \"ticks\": \"\"}}, \"type\": \"scattergeo\"}], \"scattergl\": [{\"marker\": {\"colorbar\": {\"outlinewidth\": 0, \"ticks\": \"\"}}, \"type\": \"scattergl\"}], \"scattermapbox\": [{\"marker\": {\"colorbar\": {\"outlinewidth\": 0, \"ticks\": \"\"}}, \"type\": \"scattermapbox\"}], \"scatterpolar\": [{\"marker\": {\"colorbar\": {\"outlinewidth\": 0, \"ticks\": \"\"}}, \"type\": \"scatterpolar\"}], \"scatterpolargl\": [{\"marker\": {\"colorbar\": {\"outlinewidth\": 0, \"ticks\": \"\"}}, \"type\": \"scatterpolargl\"}], \"scatterternary\": [{\"marker\": {\"colorbar\": {\"outlinewidth\": 0, \"ticks\": \"\"}}, \"type\": \"scatterternary\"}], \"surface\": [{\"colorbar\": {\"outlinewidth\": 0, \"ticks\": \"\"}, \"colorscale\": [[0.0, \"#0d0887\"], [0.1111111111111111, \"#46039f\"], [0.2222222222222222, \"#7201a8\"], [0.3333333333333333, \"#9c179e\"], [0.4444444444444444, \"#bd3786\"], [0.5555555555555556, \"#d8576b\"], [0.6666666666666666, \"#ed7953\"], [0.7777777777777778, \"#fb9f3a\"], [0.8888888888888888, \"#fdca26\"], [1.0, \"#f0f921\"]], \"type\": \"surface\"}], \"table\": [{\"cells\": {\"fill\": {\"color\": \"#EBF0F8\"}, \"line\": {\"color\": \"white\"}}, \"header\": {\"fill\": {\"color\": \"#C8D4E3\"}, \"line\": {\"color\": \"white\"}}, \"type\": \"table\"}]}, \"layout\": {\"annotationdefaults\": {\"arrowcolor\": \"#2a3f5f\", \"arrowhead\": 0, \"arrowwidth\": 1}, \"autotypenumbers\": \"strict\", \"coloraxis\": {\"colorbar\": {\"outlinewidth\": 0, \"ticks\": \"\"}}, \"colorscale\": {\"diverging\": [[0, \"#8e0152\"], [0.1, \"#c51b7d\"], [0.2, \"#de77ae\"], [0.3, \"#f1b6da\"], [0.4, \"#fde0ef\"], [0.5, \"#f7f7f7\"], [0.6, \"#e6f5d0\"], [0.7, \"#b8e186\"], [0.8, \"#7fbc41\"], [0.9, \"#4d9221\"], [1, \"#276419\"]], \"sequential\": [[0.0, \"#0d0887\"], [0.1111111111111111, \"#46039f\"], [0.2222222222222222, \"#7201a8\"], [0.3333333333333333, \"#9c179e\"], [0.4444444444444444, \"#bd3786\"], [0.5555555555555556, \"#d8576b\"], [0.6666666666666666, \"#ed7953\"], [0.7777777777777778, \"#fb9f3a\"], [0.8888888888888888, \"#fdca26\"], [1.0, \"#f0f921\"]], \"sequentialminus\": [[0.0, \"#0d0887\"], [0.1111111111111111, \"#46039f\"], [0.2222222222222222, \"#7201a8\"], [0.3333333333333333, \"#9c179e\"], [0.4444444444444444, \"#bd3786\"], [0.5555555555555556, \"#d8576b\"], [0.6666666666666666, \"#ed7953\"], [0.7777777777777778, \"#fb9f3a\"], [0.8888888888888888, \"#fdca26\"], [1.0, \"#f0f921\"]]}, \"colorway\": [\"#636efa\", \"#EF553B\", \"#00cc96\", \"#ab63fa\", \"#FFA15A\", \"#19d3f3\", \"#FF6692\", \"#B6E880\", \"#FF97FF\", \"#FECB52\"], \"font\": {\"color\": \"#2a3f5f\"}, \"geo\": {\"bgcolor\": \"white\", \"lakecolor\": \"white\", \"landcolor\": \"#E5ECF6\", \"showlakes\": true, \"showland\": true, \"subunitcolor\": \"white\"}, \"hoverlabel\": {\"align\": \"left\"}, \"hovermode\": \"closest\", \"mapbox\": {\"style\": \"light\"}, \"paper_bgcolor\": \"white\", \"plot_bgcolor\": \"#E5ECF6\", \"polar\": {\"angularaxis\": {\"gridcolor\": \"white\", \"linecolor\": \"white\", \"ticks\": \"\"}, \"bgcolor\": \"#E5ECF6\", \"radialaxis\": {\"gridcolor\": \"white\", \"linecolor\": \"white\", \"ticks\": \"\"}}, \"scene\": {\"xaxis\": {\"backgroundcolor\": \"#E5ECF6\", \"gridcolor\": \"white\", \"gridwidth\": 2, \"linecolor\": \"white\", \"showbackground\": true, \"ticks\": \"\", \"zerolinecolor\": \"white\"}, \"yaxis\": {\"backgroundcolor\": \"#E5ECF6\", \"gridcolor\": \"white\", \"gridwidth\": 2, \"linecolor\": \"white\", \"showbackground\": true, \"ticks\": \"\", \"zerolinecolor\": \"white\"}, \"zaxis\": {\"backgroundcolor\": \"#E5ECF6\", \"gridcolor\": \"white\", \"gridwidth\": 2, \"linecolor\": \"white\", \"showbackground\": true, \"ticks\": \"\", \"zerolinecolor\": \"white\"}}, \"shapedefaults\": {\"line\": {\"color\": \"#2a3f5f\"}}, \"ternary\": {\"aaxis\": {\"gridcolor\": \"white\", \"linecolor\": \"white\", \"ticks\": \"\"}, \"baxis\": {\"gridcolor\": \"white\", \"linecolor\": \"white\", \"ticks\": \"\"}, \"bgcolor\": \"#E5ECF6\", \"caxis\": {\"gridcolor\": \"white\", \"linecolor\": \"white\", \"ticks\": \"\"}}, \"title\": {\"x\": 0.05}, \"xaxis\": {\"automargin\": true, \"gridcolor\": \"white\", \"linecolor\": \"white\", \"ticks\": \"\", \"title\": {\"standoff\": 15}, \"zerolinecolor\": \"white\", \"zerolinewidth\": 2}, \"yaxis\": {\"automargin\": true, \"gridcolor\": \"white\", \"linecolor\": \"white\", \"ticks\": \"\", \"title\": {\"standoff\": 15}, \"zerolinecolor\": \"white\", \"zerolinewidth\": 2}}}, \"title\": {\"font\": {\"size\": 16}}, \"width\": 500, \"xaxis\": {\"range\": [-1.15, 1.15], \"showgrid\": false, \"showticklabels\": false, \"zeroline\": false}, \"yaxis\": {\"range\": [-1.1, 1.05], \"showgrid\": false, \"showticklabels\": false, \"zeroline\": false}},                        {\"responsive\": true}                    ).then(function(){\n",
       "                            \n",
       "var gd = document.getElementById('0cd3450f-490c-43dc-9411-b3222183461b');\n",
       "var x = new MutationObserver(function (mutations, observer) {{\n",
       "        var display = window.getComputedStyle(gd).display;\n",
       "        if (!display || display === 'none') {{\n",
       "            console.log([gd, 'removed!']);\n",
       "            Plotly.purge(gd);\n",
       "            observer.disconnect();\n",
       "        }}\n",
       "}});\n",
       "\n",
       "// Listen for the removal of the full notebook cells\n",
       "var notebookContainer = gd.closest('#notebook-container');\n",
       "if (notebookContainer) {{\n",
       "    x.observe(notebookContainer, {childList: true});\n",
       "}}\n",
       "\n",
       "// Listen for the clearing of the current output cell\n",
       "var outputEl = gd.closest('.output');\n",
       "if (outputEl) {{\n",
       "    x.observe(outputEl, {childList: true});\n",
       "}}\n",
       "\n",
       "                        })                };                });            </script>        </div>"
      ]
     },
     "metadata": {},
     "output_type": "display_data"
    }
   ],
   "source": [
    "fig = textnet.draw_2d_network(G_paul)\n",
    "fig.show()"
   ]
  },
  {
   "cell_type": "code",
   "execution_count": 756,
   "metadata": {},
   "outputs": [],
   "source": [
    "fig.write_image(\"../figures/paul_egonet_10tfidf.png\")"
   ]
  },
  {
   "cell_type": "markdown",
   "metadata": {},
   "source": [
    "#  vectorization based on tfidf values"
   ]
  },
  {
   "cell_type": "code",
   "execution_count": 57,
   "metadata": {},
   "outputs": [
    {
     "data": {
      "text/html": [
       "<div>\n",
       "<style scoped>\n",
       "    .dataframe tbody tr th:only-of-type {\n",
       "        vertical-align: middle;\n",
       "    }\n",
       "\n",
       "    .dataframe tbody tr th {\n",
       "        vertical-align: top;\n",
       "    }\n",
       "\n",
       "    .dataframe thead th {\n",
       "        text-align: right;\n",
       "    }\n",
       "</style>\n",
       "<table border=\"1\" class=\"dataframe\">\n",
       "  <thead>\n",
       "    <tr style=\"text-align: right;\">\n",
       "      <th></th>\n",
       "      <th>οὗτος</th>\n",
       "      <th>ἐντολή</th>\n",
       "      <th>πτωχός</th>\n",
       "      <th>διώκω</th>\n",
       "      <th>θεάομαι</th>\n",
       "      <th>ἀδελφός</th>\n",
       "      <th>ἐπιτρέπω</th>\n",
       "      <th>προεπεκαλέσασθέ</th>\n",
       "      <th>τὶς</th>\n",
       "      <th>πληρόω</th>\n",
       "      <th>...</th>\n",
       "      <th>ἀντιδίδωμι</th>\n",
       "      <th>ἐπικουρέειν</th>\n",
       "      <th>περιπέμπω</th>\n",
       "      <th>ἔκβασις</th>\n",
       "      <th>ʽτὸν</th>\n",
       "      <th>πάκορον</th>\n",
       "      <th>Σύριος</th>\n",
       "      <th>οὐεντίδιος</th>\n",
       "      <th>γιγνόμενα</th>\n",
       "      <th>τασϲόμενον</th>\n",
       "    </tr>\n",
       "  </thead>\n",
       "  <tbody>\n",
       "    <tr>\n",
       "      <th>0</th>\n",
       "      <td>0.19805</td>\n",
       "      <td>0.18466</td>\n",
       "      <td>0.12457</td>\n",
       "      <td>0.12457</td>\n",
       "      <td>0.12457</td>\n",
       "      <td>0.12457</td>\n",
       "      <td>0.12457</td>\n",
       "      <td>0.12457</td>\n",
       "      <td>0.12457</td>\n",
       "      <td>0.12457</td>\n",
       "      <td>...</td>\n",
       "      <td>NaN</td>\n",
       "      <td>NaN</td>\n",
       "      <td>NaN</td>\n",
       "      <td>NaN</td>\n",
       "      <td>NaN</td>\n",
       "      <td>NaN</td>\n",
       "      <td>NaN</td>\n",
       "      <td>NaN</td>\n",
       "      <td>NaN</td>\n",
       "      <td>NaN</td>\n",
       "    </tr>\n",
       "    <tr>\n",
       "      <th>1</th>\n",
       "      <td>0.00701</td>\n",
       "      <td>NaN</td>\n",
       "      <td>NaN</td>\n",
       "      <td>0.03512</td>\n",
       "      <td>0.01021</td>\n",
       "      <td>NaN</td>\n",
       "      <td>NaN</td>\n",
       "      <td>NaN</td>\n",
       "      <td>NaN</td>\n",
       "      <td>0.01276</td>\n",
       "      <td>...</td>\n",
       "      <td>NaN</td>\n",
       "      <td>NaN</td>\n",
       "      <td>NaN</td>\n",
       "      <td>NaN</td>\n",
       "      <td>NaN</td>\n",
       "      <td>NaN</td>\n",
       "      <td>NaN</td>\n",
       "      <td>NaN</td>\n",
       "      <td>NaN</td>\n",
       "      <td>NaN</td>\n",
       "    </tr>\n",
       "    <tr>\n",
       "      <th>2</th>\n",
       "      <td>0.03087</td>\n",
       "      <td>NaN</td>\n",
       "      <td>NaN</td>\n",
       "      <td>0.02612</td>\n",
       "      <td>0.02143</td>\n",
       "      <td>NaN</td>\n",
       "      <td>NaN</td>\n",
       "      <td>NaN</td>\n",
       "      <td>NaN</td>\n",
       "      <td>NaN</td>\n",
       "      <td>...</td>\n",
       "      <td>NaN</td>\n",
       "      <td>NaN</td>\n",
       "      <td>NaN</td>\n",
       "      <td>NaN</td>\n",
       "      <td>NaN</td>\n",
       "      <td>NaN</td>\n",
       "      <td>NaN</td>\n",
       "      <td>NaN</td>\n",
       "      <td>NaN</td>\n",
       "      <td>NaN</td>\n",
       "    </tr>\n",
       "    <tr>\n",
       "      <th>3</th>\n",
       "      <td>NaN</td>\n",
       "      <td>NaN</td>\n",
       "      <td>NaN</td>\n",
       "      <td>NaN</td>\n",
       "      <td>NaN</td>\n",
       "      <td>NaN</td>\n",
       "      <td>NaN</td>\n",
       "      <td>NaN</td>\n",
       "      <td>NaN</td>\n",
       "      <td>NaN</td>\n",
       "      <td>...</td>\n",
       "      <td>NaN</td>\n",
       "      <td>NaN</td>\n",
       "      <td>NaN</td>\n",
       "      <td>NaN</td>\n",
       "      <td>NaN</td>\n",
       "      <td>NaN</td>\n",
       "      <td>NaN</td>\n",
       "      <td>NaN</td>\n",
       "      <td>NaN</td>\n",
       "      <td>NaN</td>\n",
       "    </tr>\n",
       "    <tr>\n",
       "      <th>4</th>\n",
       "      <td>0.04667</td>\n",
       "      <td>NaN</td>\n",
       "      <td>NaN</td>\n",
       "      <td>NaN</td>\n",
       "      <td>NaN</td>\n",
       "      <td>NaN</td>\n",
       "      <td>NaN</td>\n",
       "      <td>NaN</td>\n",
       "      <td>NaN</td>\n",
       "      <td>NaN</td>\n",
       "      <td>...</td>\n",
       "      <td>NaN</td>\n",
       "      <td>NaN</td>\n",
       "      <td>NaN</td>\n",
       "      <td>NaN</td>\n",
       "      <td>NaN</td>\n",
       "      <td>NaN</td>\n",
       "      <td>NaN</td>\n",
       "      <td>NaN</td>\n",
       "      <td>NaN</td>\n",
       "      <td>NaN</td>\n",
       "    </tr>\n",
       "    <tr>\n",
       "      <th>...</th>\n",
       "      <td>...</td>\n",
       "      <td>...</td>\n",
       "      <td>...</td>\n",
       "      <td>...</td>\n",
       "      <td>...</td>\n",
       "      <td>...</td>\n",
       "      <td>...</td>\n",
       "      <td>...</td>\n",
       "      <td>...</td>\n",
       "      <td>...</td>\n",
       "      <td>...</td>\n",
       "      <td>...</td>\n",
       "      <td>...</td>\n",
       "      <td>...</td>\n",
       "      <td>...</td>\n",
       "      <td>...</td>\n",
       "      <td>...</td>\n",
       "      <td>...</td>\n",
       "      <td>...</td>\n",
       "      <td>...</td>\n",
       "      <td>...</td>\n",
       "    </tr>\n",
       "    <tr>\n",
       "      <th>264</th>\n",
       "      <td>NaN</td>\n",
       "      <td>NaN</td>\n",
       "      <td>NaN</td>\n",
       "      <td>NaN</td>\n",
       "      <td>NaN</td>\n",
       "      <td>NaN</td>\n",
       "      <td>NaN</td>\n",
       "      <td>NaN</td>\n",
       "      <td>NaN</td>\n",
       "      <td>NaN</td>\n",
       "      <td>...</td>\n",
       "      <td>NaN</td>\n",
       "      <td>NaN</td>\n",
       "      <td>NaN</td>\n",
       "      <td>NaN</td>\n",
       "      <td>NaN</td>\n",
       "      <td>NaN</td>\n",
       "      <td>NaN</td>\n",
       "      <td>NaN</td>\n",
       "      <td>NaN</td>\n",
       "      <td>NaN</td>\n",
       "    </tr>\n",
       "    <tr>\n",
       "      <th>265</th>\n",
       "      <td>NaN</td>\n",
       "      <td>NaN</td>\n",
       "      <td>NaN</td>\n",
       "      <td>NaN</td>\n",
       "      <td>NaN</td>\n",
       "      <td>NaN</td>\n",
       "      <td>NaN</td>\n",
       "      <td>NaN</td>\n",
       "      <td>NaN</td>\n",
       "      <td>NaN</td>\n",
       "      <td>...</td>\n",
       "      <td>NaN</td>\n",
       "      <td>NaN</td>\n",
       "      <td>NaN</td>\n",
       "      <td>NaN</td>\n",
       "      <td>NaN</td>\n",
       "      <td>NaN</td>\n",
       "      <td>NaN</td>\n",
       "      <td>NaN</td>\n",
       "      <td>NaN</td>\n",
       "      <td>NaN</td>\n",
       "    </tr>\n",
       "    <tr>\n",
       "      <th>266</th>\n",
       "      <td>NaN</td>\n",
       "      <td>NaN</td>\n",
       "      <td>NaN</td>\n",
       "      <td>NaN</td>\n",
       "      <td>NaN</td>\n",
       "      <td>NaN</td>\n",
       "      <td>NaN</td>\n",
       "      <td>NaN</td>\n",
       "      <td>NaN</td>\n",
       "      <td>NaN</td>\n",
       "      <td>...</td>\n",
       "      <td>NaN</td>\n",
       "      <td>NaN</td>\n",
       "      <td>NaN</td>\n",
       "      <td>NaN</td>\n",
       "      <td>NaN</td>\n",
       "      <td>NaN</td>\n",
       "      <td>NaN</td>\n",
       "      <td>NaN</td>\n",
       "      <td>NaN</td>\n",
       "      <td>NaN</td>\n",
       "    </tr>\n",
       "    <tr>\n",
       "      <th>267</th>\n",
       "      <td>NaN</td>\n",
       "      <td>NaN</td>\n",
       "      <td>NaN</td>\n",
       "      <td>NaN</td>\n",
       "      <td>NaN</td>\n",
       "      <td>NaN</td>\n",
       "      <td>NaN</td>\n",
       "      <td>NaN</td>\n",
       "      <td>NaN</td>\n",
       "      <td>NaN</td>\n",
       "      <td>...</td>\n",
       "      <td>NaN</td>\n",
       "      <td>NaN</td>\n",
       "      <td>NaN</td>\n",
       "      <td>NaN</td>\n",
       "      <td>NaN</td>\n",
       "      <td>NaN</td>\n",
       "      <td>NaN</td>\n",
       "      <td>NaN</td>\n",
       "      <td>NaN</td>\n",
       "      <td>NaN</td>\n",
       "    </tr>\n",
       "    <tr>\n",
       "      <th>268</th>\n",
       "      <td>NaN</td>\n",
       "      <td>NaN</td>\n",
       "      <td>NaN</td>\n",
       "      <td>NaN</td>\n",
       "      <td>NaN</td>\n",
       "      <td>NaN</td>\n",
       "      <td>NaN</td>\n",
       "      <td>NaN</td>\n",
       "      <td>NaN</td>\n",
       "      <td>NaN</td>\n",
       "      <td>...</td>\n",
       "      <td>NaN</td>\n",
       "      <td>NaN</td>\n",
       "      <td>NaN</td>\n",
       "      <td>NaN</td>\n",
       "      <td>NaN</td>\n",
       "      <td>NaN</td>\n",
       "      <td>NaN</td>\n",
       "      <td>NaN</td>\n",
       "      <td>NaN</td>\n",
       "      <td>NaN</td>\n",
       "    </tr>\n",
       "  </tbody>\n",
       "</table>\n",
       "<p>269 rows × 8624 columns</p>\n",
       "</div>"
      ],
      "text/plain": [
       "       οὗτος   ἐντολή   πτωχός    διώκω  θεάομαι  ἀδελφός  ἐπιτρέπω  \\\n",
       "0    0.19805  0.18466  0.12457  0.12457  0.12457  0.12457   0.12457   \n",
       "1    0.00701      NaN      NaN  0.03512  0.01021      NaN       NaN   \n",
       "2    0.03087      NaN      NaN  0.02612  0.02143      NaN       NaN   \n",
       "3        NaN      NaN      NaN      NaN      NaN      NaN       NaN   \n",
       "4    0.04667      NaN      NaN      NaN      NaN      NaN       NaN   \n",
       "..       ...      ...      ...      ...      ...      ...       ...   \n",
       "264      NaN      NaN      NaN      NaN      NaN      NaN       NaN   \n",
       "265      NaN      NaN      NaN      NaN      NaN      NaN       NaN   \n",
       "266      NaN      NaN      NaN      NaN      NaN      NaN       NaN   \n",
       "267      NaN      NaN      NaN      NaN      NaN      NaN       NaN   \n",
       "268      NaN      NaN      NaN      NaN      NaN      NaN       NaN   \n",
       "\n",
       "     προεπεκαλέσασθέ      τὶς   πληρόω  ...  ἀντιδίδωμι  ἐπικουρέειν  \\\n",
       "0            0.12457  0.12457  0.12457  ...         NaN          NaN   \n",
       "1                NaN      NaN  0.01276  ...         NaN          NaN   \n",
       "2                NaN      NaN      NaN  ...         NaN          NaN   \n",
       "3                NaN      NaN      NaN  ...         NaN          NaN   \n",
       "4                NaN      NaN      NaN  ...         NaN          NaN   \n",
       "..               ...      ...      ...  ...         ...          ...   \n",
       "264              NaN      NaN      NaN  ...         NaN          NaN   \n",
       "265              NaN      NaN      NaN  ...         NaN          NaN   \n",
       "266              NaN      NaN      NaN  ...         NaN          NaN   \n",
       "267              NaN      NaN      NaN  ...         NaN          NaN   \n",
       "268              NaN      NaN      NaN  ...         NaN          NaN   \n",
       "\n",
       "     περιπέμπω  ἔκβασις  ʽτὸν  πάκορον  Σύριος  οὐεντίδιος  γιγνόμενα  \\\n",
       "0          NaN      NaN   NaN      NaN     NaN         NaN        NaN   \n",
       "1          NaN      NaN   NaN      NaN     NaN         NaN        NaN   \n",
       "2          NaN      NaN   NaN      NaN     NaN         NaN        NaN   \n",
       "3          NaN      NaN   NaN      NaN     NaN         NaN        NaN   \n",
       "4          NaN      NaN   NaN      NaN     NaN         NaN        NaN   \n",
       "..         ...      ...   ...      ...     ...         ...        ...   \n",
       "264        NaN      NaN   NaN      NaN     NaN         NaN        NaN   \n",
       "265        NaN      NaN   NaN      NaN     NaN         NaN        NaN   \n",
       "266        NaN      NaN   NaN      NaN     NaN         NaN        NaN   \n",
       "267        NaN      NaN   NaN      NaN     NaN         NaN        NaN   \n",
       "268        NaN      NaN   NaN      NaN     NaN         NaN        NaN   \n",
       "\n",
       "     τασϲόμενον  \n",
       "0           NaN  \n",
       "1           NaN  \n",
       "2           NaN  \n",
       "3           NaN  \n",
       "4           NaN  \n",
       "..          ...  \n",
       "264         NaN  \n",
       "265         NaN  \n",
       "266         NaN  \n",
       "267         NaN  \n",
       "268         NaN  \n",
       "\n",
       "[269 rows x 8624 columns]"
      ]
     },
     "execution_count": 57,
     "metadata": {},
     "output_type": "execute_result"
    }
   ],
   "source": [
    "#tup_to_dict \n",
    "tfidfs_df_raw = pd.DataFrame([dict(tfidfs) for tfidfs in authors_df[\"dik_sents_TFIDF\"].tolist()])\n",
    "tfidfs_df_raw"
   ]
  },
  {
   "cell_type": "code",
   "execution_count": 58,
   "metadata": {},
   "outputs": [
    {
     "data": {
      "text/plain": [
       "2765"
      ]
     },
     "execution_count": 58,
     "metadata": {},
     "output_type": "execute_result"
    }
   ],
   "source": [
    "selected_columns = []\n",
    "for column in tfidfs_df_raw.columns:\n",
    "    if len(tfidfs_df_raw[tfidfs_df_raw[column].notnull()]) > 1:\n",
    "        selected_columns.append(column)\n",
    "len(selected_columns)"
   ]
  },
  {
   "cell_type": "code",
   "execution_count": 59,
   "metadata": {},
   "outputs": [],
   "source": [
    "tfidfs_df_filtered = tfidfs_df_raw[selected_columns]\n",
    "tfidfs_df_filtered.fillna(0, inplace=True)"
   ]
  },
  {
   "cell_type": "code",
   "execution_count": 60,
   "metadata": {},
   "outputs": [
    {
     "data": {
      "text/html": [
       "<div>\n",
       "<style scoped>\n",
       "    .dataframe tbody tr th:only-of-type {\n",
       "        vertical-align: middle;\n",
       "    }\n",
       "\n",
       "    .dataframe tbody tr th {\n",
       "        vertical-align: top;\n",
       "    }\n",
       "\n",
       "    .dataframe thead th {\n",
       "        text-align: right;\n",
       "    }\n",
       "</style>\n",
       "<table border=\"1\" class=\"dataframe\">\n",
       "  <thead>\n",
       "    <tr style=\"text-align: right;\">\n",
       "      <th></th>\n",
       "      <th>οὗτος</th>\n",
       "      <th>ἐντολή</th>\n",
       "      <th>πτωχός</th>\n",
       "      <th>διώκω</th>\n",
       "      <th>θεάομαι</th>\n",
       "      <th>ἀδελφός</th>\n",
       "      <th>ἐπιτρέπω</th>\n",
       "      <th>τὶς</th>\n",
       "      <th>πληρόω</th>\n",
       "      <th>ἐκφέρω</th>\n",
       "      <th>...</th>\n",
       "      <th>μεταφέρω</th>\n",
       "      <th>σταθμός</th>\n",
       "      <th>ἐξευρίσκω</th>\n",
       "      <th>ὁπόσος</th>\n",
       "      <th>Μιλήσιος</th>\n",
       "      <th>δικαιόσυνος</th>\n",
       "      <th>σφοδρός</th>\n",
       "      <th>ἔχθρα</th>\n",
       "      <th>ἐπίτροπος</th>\n",
       "      <th>ἥμισυς</th>\n",
       "    </tr>\n",
       "  </thead>\n",
       "  <tbody>\n",
       "    <tr>\n",
       "      <th>0</th>\n",
       "      <td>0.19805</td>\n",
       "      <td>0.18466</td>\n",
       "      <td>0.12457</td>\n",
       "      <td>0.12457</td>\n",
       "      <td>0.12457</td>\n",
       "      <td>0.12457</td>\n",
       "      <td>0.12457</td>\n",
       "      <td>0.12457</td>\n",
       "      <td>0.12457</td>\n",
       "      <td>0.12457</td>\n",
       "      <td>...</td>\n",
       "      <td>0.0</td>\n",
       "      <td>0.0</td>\n",
       "      <td>0.0</td>\n",
       "      <td>0.0</td>\n",
       "      <td>0.0</td>\n",
       "      <td>0.0</td>\n",
       "      <td>0.0</td>\n",
       "      <td>0.0</td>\n",
       "      <td>0.0</td>\n",
       "      <td>0.0</td>\n",
       "    </tr>\n",
       "    <tr>\n",
       "      <th>1</th>\n",
       "      <td>0.00701</td>\n",
       "      <td>0.00000</td>\n",
       "      <td>0.00000</td>\n",
       "      <td>0.03512</td>\n",
       "      <td>0.01021</td>\n",
       "      <td>0.00000</td>\n",
       "      <td>0.00000</td>\n",
       "      <td>0.00000</td>\n",
       "      <td>0.01276</td>\n",
       "      <td>0.00000</td>\n",
       "      <td>...</td>\n",
       "      <td>0.0</td>\n",
       "      <td>0.0</td>\n",
       "      <td>0.0</td>\n",
       "      <td>0.0</td>\n",
       "      <td>0.0</td>\n",
       "      <td>0.0</td>\n",
       "      <td>0.0</td>\n",
       "      <td>0.0</td>\n",
       "      <td>0.0</td>\n",
       "      <td>0.0</td>\n",
       "    </tr>\n",
       "    <tr>\n",
       "      <th>2</th>\n",
       "      <td>0.03087</td>\n",
       "      <td>0.00000</td>\n",
       "      <td>0.00000</td>\n",
       "      <td>0.02612</td>\n",
       "      <td>0.02143</td>\n",
       "      <td>0.00000</td>\n",
       "      <td>0.00000</td>\n",
       "      <td>0.00000</td>\n",
       "      <td>0.00000</td>\n",
       "      <td>0.00000</td>\n",
       "      <td>...</td>\n",
       "      <td>0.0</td>\n",
       "      <td>0.0</td>\n",
       "      <td>0.0</td>\n",
       "      <td>0.0</td>\n",
       "      <td>0.0</td>\n",
       "      <td>0.0</td>\n",
       "      <td>0.0</td>\n",
       "      <td>0.0</td>\n",
       "      <td>0.0</td>\n",
       "      <td>0.0</td>\n",
       "    </tr>\n",
       "    <tr>\n",
       "      <th>3</th>\n",
       "      <td>0.00000</td>\n",
       "      <td>0.00000</td>\n",
       "      <td>0.00000</td>\n",
       "      <td>0.00000</td>\n",
       "      <td>0.00000</td>\n",
       "      <td>0.00000</td>\n",
       "      <td>0.00000</td>\n",
       "      <td>0.00000</td>\n",
       "      <td>0.00000</td>\n",
       "      <td>0.00000</td>\n",
       "      <td>...</td>\n",
       "      <td>0.0</td>\n",
       "      <td>0.0</td>\n",
       "      <td>0.0</td>\n",
       "      <td>0.0</td>\n",
       "      <td>0.0</td>\n",
       "      <td>0.0</td>\n",
       "      <td>0.0</td>\n",
       "      <td>0.0</td>\n",
       "      <td>0.0</td>\n",
       "      <td>0.0</td>\n",
       "    </tr>\n",
       "    <tr>\n",
       "      <th>4</th>\n",
       "      <td>0.04667</td>\n",
       "      <td>0.00000</td>\n",
       "      <td>0.00000</td>\n",
       "      <td>0.00000</td>\n",
       "      <td>0.00000</td>\n",
       "      <td>0.00000</td>\n",
       "      <td>0.00000</td>\n",
       "      <td>0.00000</td>\n",
       "      <td>0.00000</td>\n",
       "      <td>0.00000</td>\n",
       "      <td>...</td>\n",
       "      <td>0.0</td>\n",
       "      <td>0.0</td>\n",
       "      <td>0.0</td>\n",
       "      <td>0.0</td>\n",
       "      <td>0.0</td>\n",
       "      <td>0.0</td>\n",
       "      <td>0.0</td>\n",
       "      <td>0.0</td>\n",
       "      <td>0.0</td>\n",
       "      <td>0.0</td>\n",
       "    </tr>\n",
       "    <tr>\n",
       "      <th>...</th>\n",
       "      <td>...</td>\n",
       "      <td>...</td>\n",
       "      <td>...</td>\n",
       "      <td>...</td>\n",
       "      <td>...</td>\n",
       "      <td>...</td>\n",
       "      <td>...</td>\n",
       "      <td>...</td>\n",
       "      <td>...</td>\n",
       "      <td>...</td>\n",
       "      <td>...</td>\n",
       "      <td>...</td>\n",
       "      <td>...</td>\n",
       "      <td>...</td>\n",
       "      <td>...</td>\n",
       "      <td>...</td>\n",
       "      <td>...</td>\n",
       "      <td>...</td>\n",
       "      <td>...</td>\n",
       "      <td>...</td>\n",
       "      <td>...</td>\n",
       "    </tr>\n",
       "    <tr>\n",
       "      <th>264</th>\n",
       "      <td>0.00000</td>\n",
       "      <td>0.00000</td>\n",
       "      <td>0.00000</td>\n",
       "      <td>0.00000</td>\n",
       "      <td>0.00000</td>\n",
       "      <td>0.00000</td>\n",
       "      <td>0.00000</td>\n",
       "      <td>0.00000</td>\n",
       "      <td>0.00000</td>\n",
       "      <td>0.00000</td>\n",
       "      <td>...</td>\n",
       "      <td>0.0</td>\n",
       "      <td>0.0</td>\n",
       "      <td>0.0</td>\n",
       "      <td>0.0</td>\n",
       "      <td>0.0</td>\n",
       "      <td>0.0</td>\n",
       "      <td>0.0</td>\n",
       "      <td>0.0</td>\n",
       "      <td>0.0</td>\n",
       "      <td>0.0</td>\n",
       "    </tr>\n",
       "    <tr>\n",
       "      <th>265</th>\n",
       "      <td>0.00000</td>\n",
       "      <td>0.00000</td>\n",
       "      <td>0.00000</td>\n",
       "      <td>0.00000</td>\n",
       "      <td>0.00000</td>\n",
       "      <td>0.00000</td>\n",
       "      <td>0.00000</td>\n",
       "      <td>0.00000</td>\n",
       "      <td>0.00000</td>\n",
       "      <td>0.00000</td>\n",
       "      <td>...</td>\n",
       "      <td>0.0</td>\n",
       "      <td>0.0</td>\n",
       "      <td>0.0</td>\n",
       "      <td>0.0</td>\n",
       "      <td>0.0</td>\n",
       "      <td>0.0</td>\n",
       "      <td>0.0</td>\n",
       "      <td>0.0</td>\n",
       "      <td>0.0</td>\n",
       "      <td>0.0</td>\n",
       "    </tr>\n",
       "    <tr>\n",
       "      <th>266</th>\n",
       "      <td>0.00000</td>\n",
       "      <td>0.00000</td>\n",
       "      <td>0.00000</td>\n",
       "      <td>0.00000</td>\n",
       "      <td>0.00000</td>\n",
       "      <td>0.00000</td>\n",
       "      <td>0.00000</td>\n",
       "      <td>0.00000</td>\n",
       "      <td>0.00000</td>\n",
       "      <td>0.00000</td>\n",
       "      <td>...</td>\n",
       "      <td>0.0</td>\n",
       "      <td>0.0</td>\n",
       "      <td>0.0</td>\n",
       "      <td>0.0</td>\n",
       "      <td>0.0</td>\n",
       "      <td>0.0</td>\n",
       "      <td>0.0</td>\n",
       "      <td>0.0</td>\n",
       "      <td>0.0</td>\n",
       "      <td>0.0</td>\n",
       "    </tr>\n",
       "    <tr>\n",
       "      <th>267</th>\n",
       "      <td>0.00000</td>\n",
       "      <td>0.00000</td>\n",
       "      <td>0.00000</td>\n",
       "      <td>0.00000</td>\n",
       "      <td>0.00000</td>\n",
       "      <td>0.00000</td>\n",
       "      <td>0.00000</td>\n",
       "      <td>0.00000</td>\n",
       "      <td>0.00000</td>\n",
       "      <td>0.00000</td>\n",
       "      <td>...</td>\n",
       "      <td>0.0</td>\n",
       "      <td>0.0</td>\n",
       "      <td>0.0</td>\n",
       "      <td>0.0</td>\n",
       "      <td>0.0</td>\n",
       "      <td>0.0</td>\n",
       "      <td>0.0</td>\n",
       "      <td>0.0</td>\n",
       "      <td>0.0</td>\n",
       "      <td>0.0</td>\n",
       "    </tr>\n",
       "    <tr>\n",
       "      <th>268</th>\n",
       "      <td>0.00000</td>\n",
       "      <td>0.00000</td>\n",
       "      <td>0.00000</td>\n",
       "      <td>0.00000</td>\n",
       "      <td>0.00000</td>\n",
       "      <td>0.00000</td>\n",
       "      <td>0.00000</td>\n",
       "      <td>0.00000</td>\n",
       "      <td>0.00000</td>\n",
       "      <td>0.00000</td>\n",
       "      <td>...</td>\n",
       "      <td>0.0</td>\n",
       "      <td>0.0</td>\n",
       "      <td>0.0</td>\n",
       "      <td>0.0</td>\n",
       "      <td>0.0</td>\n",
       "      <td>0.0</td>\n",
       "      <td>0.0</td>\n",
       "      <td>0.0</td>\n",
       "      <td>0.0</td>\n",
       "      <td>0.0</td>\n",
       "    </tr>\n",
       "  </tbody>\n",
       "</table>\n",
       "<p>269 rows × 2765 columns</p>\n",
       "</div>"
      ],
      "text/plain": [
       "       οὗτος   ἐντολή   πτωχός    διώκω  θεάομαι  ἀδελφός  ἐπιτρέπω      τὶς  \\\n",
       "0    0.19805  0.18466  0.12457  0.12457  0.12457  0.12457   0.12457  0.12457   \n",
       "1    0.00701  0.00000  0.00000  0.03512  0.01021  0.00000   0.00000  0.00000   \n",
       "2    0.03087  0.00000  0.00000  0.02612  0.02143  0.00000   0.00000  0.00000   \n",
       "3    0.00000  0.00000  0.00000  0.00000  0.00000  0.00000   0.00000  0.00000   \n",
       "4    0.04667  0.00000  0.00000  0.00000  0.00000  0.00000   0.00000  0.00000   \n",
       "..       ...      ...      ...      ...      ...      ...       ...      ...   \n",
       "264  0.00000  0.00000  0.00000  0.00000  0.00000  0.00000   0.00000  0.00000   \n",
       "265  0.00000  0.00000  0.00000  0.00000  0.00000  0.00000   0.00000  0.00000   \n",
       "266  0.00000  0.00000  0.00000  0.00000  0.00000  0.00000   0.00000  0.00000   \n",
       "267  0.00000  0.00000  0.00000  0.00000  0.00000  0.00000   0.00000  0.00000   \n",
       "268  0.00000  0.00000  0.00000  0.00000  0.00000  0.00000   0.00000  0.00000   \n",
       "\n",
       "      πληρόω   ἐκφέρω  ...  μεταφέρω  σταθμός  ἐξευρίσκω  ὁπόσος  Μιλήσιος  \\\n",
       "0    0.12457  0.12457  ...       0.0      0.0        0.0     0.0       0.0   \n",
       "1    0.01276  0.00000  ...       0.0      0.0        0.0     0.0       0.0   \n",
       "2    0.00000  0.00000  ...       0.0      0.0        0.0     0.0       0.0   \n",
       "3    0.00000  0.00000  ...       0.0      0.0        0.0     0.0       0.0   \n",
       "4    0.00000  0.00000  ...       0.0      0.0        0.0     0.0       0.0   \n",
       "..       ...      ...  ...       ...      ...        ...     ...       ...   \n",
       "264  0.00000  0.00000  ...       0.0      0.0        0.0     0.0       0.0   \n",
       "265  0.00000  0.00000  ...       0.0      0.0        0.0     0.0       0.0   \n",
       "266  0.00000  0.00000  ...       0.0      0.0        0.0     0.0       0.0   \n",
       "267  0.00000  0.00000  ...       0.0      0.0        0.0     0.0       0.0   \n",
       "268  0.00000  0.00000  ...       0.0      0.0        0.0     0.0       0.0   \n",
       "\n",
       "     δικαιόσυνος  σφοδρός  ἔχθρα  ἐπίτροπος  ἥμισυς  \n",
       "0            0.0      0.0    0.0        0.0     0.0  \n",
       "1            0.0      0.0    0.0        0.0     0.0  \n",
       "2            0.0      0.0    0.0        0.0     0.0  \n",
       "3            0.0      0.0    0.0        0.0     0.0  \n",
       "4            0.0      0.0    0.0        0.0     0.0  \n",
       "..           ...      ...    ...        ...     ...  \n",
       "264          0.0      0.0    0.0        0.0     0.0  \n",
       "265          0.0      0.0    0.0        0.0     0.0  \n",
       "266          0.0      0.0    0.0        0.0     0.0  \n",
       "267          0.0      0.0    0.0        0.0     0.0  \n",
       "268          0.0      0.0    0.0        0.0     0.0  \n",
       "\n",
       "[269 rows x 2765 columns]"
      ]
     },
     "execution_count": 60,
     "metadata": {},
     "output_type": "execute_result"
    }
   ],
   "source": [
    "tfidfs_df_filtered"
   ]
  },
  {
   "cell_type": "markdown",
   "metadata": {},
   "source": [
    "# Tfidfs with cosine similarity"
   ]
  },
  {
   "cell_type": "code",
   "execution_count": 61,
   "metadata": {},
   "outputs": [],
   "source": [
    "from sklearn.feature_extraction.text import CountVectorizer\n",
    "from sklearn.decomposition import TruncatedSVD \n",
    "from sklearn.metrics.pairwise import cosine_similarity"
   ]
  },
  {
   "cell_type": "code",
   "execution_count": 62,
   "metadata": {},
   "outputs": [],
   "source": [
    "tfidfs_sim_mat = cosine_similarity(tfidfs_df_filtered.to_numpy()).round(5)\n",
    "tfidfs_dist_mat = 1 - cosine_similarity(tfidfs_df_filtered.to_numpy())\n",
    "tfidfs_dist_mat = tfidfs_dist_mat.round(5)"
   ]
  },
  {
   "cell_type": "code",
   "execution_count": 63,
   "metadata": {},
   "outputs": [],
   "source": [
    "authors = authors_df[\"author\"].tolist()"
   ]
  },
  {
   "cell_type": "code",
   "execution_count": 64,
   "metadata": {},
   "outputs": [
    {
     "data": {
      "text/html": [
       "<div>\n",
       "<style scoped>\n",
       "    .dataframe tbody tr th:only-of-type {\n",
       "        vertical-align: middle;\n",
       "    }\n",
       "\n",
       "    .dataframe tbody tr th {\n",
       "        vertical-align: top;\n",
       "    }\n",
       "\n",
       "    .dataframe thead th {\n",
       "        text-align: right;\n",
       "    }\n",
       "</style>\n",
       "<table border=\"1\" class=\"dataframe\">\n",
       "  <thead>\n",
       "    <tr style=\"text-align: right;\">\n",
       "      <th></th>\n",
       "      <th>Polycarp</th>\n",
       "      <th>Paul of Tarsus</th>\n",
       "      <th>Clemens Romanus</th>\n",
       "      <th>Pseudo-Justinus Martyr</th>\n",
       "      <th>Barnabas</th>\n",
       "      <th>Hermas</th>\n",
       "      <th>Testamentum Abrahamae</th>\n",
       "      <th>Pauline literature</th>\n",
       "      <th>Menander</th>\n",
       "      <th>GNT rest</th>\n",
       "      <th>...</th>\n",
       "      <th>Antisthenes</th>\n",
       "      <th>Gorgias of Leontini</th>\n",
       "      <th>Rufus Soph.</th>\n",
       "      <th>Tryphon I Grammaticus</th>\n",
       "      <th>Alcidamas</th>\n",
       "      <th>Babrius</th>\n",
       "      <th>Alciphron</th>\n",
       "      <th>Xenophon of Ephesus</th>\n",
       "      <th>Hermannus Diels</th>\n",
       "      <th>Philostratus Minor</th>\n",
       "    </tr>\n",
       "  </thead>\n",
       "  <tbody>\n",
       "    <tr>\n",
       "      <th>Polycarp</th>\n",
       "      <td>1.00000</td>\n",
       "      <td>0.20562</td>\n",
       "      <td>0.21473</td>\n",
       "      <td>0.00675</td>\n",
       "      <td>0.07494</td>\n",
       "      <td>0.21202</td>\n",
       "      <td>0.08439</td>\n",
       "      <td>0.10462</td>\n",
       "      <td>0.05604</td>\n",
       "      <td>0.15242</td>\n",
       "      <td>...</td>\n",
       "      <td>0.0</td>\n",
       "      <td>0.0</td>\n",
       "      <td>0.0</td>\n",
       "      <td>0.0</td>\n",
       "      <td>0.0</td>\n",
       "      <td>0.0</td>\n",
       "      <td>0.0</td>\n",
       "      <td>0.0</td>\n",
       "      <td>0.0</td>\n",
       "      <td>0.0</td>\n",
       "    </tr>\n",
       "    <tr>\n",
       "      <th>Paul of Tarsus</th>\n",
       "      <td>0.20562</td>\n",
       "      <td>1.00000</td>\n",
       "      <td>0.33376</td>\n",
       "      <td>0.19126</td>\n",
       "      <td>0.17925</td>\n",
       "      <td>0.24179</td>\n",
       "      <td>0.25314</td>\n",
       "      <td>0.19243</td>\n",
       "      <td>0.06339</td>\n",
       "      <td>0.31477</td>\n",
       "      <td>...</td>\n",
       "      <td>0.0</td>\n",
       "      <td>0.0</td>\n",
       "      <td>0.0</td>\n",
       "      <td>0.0</td>\n",
       "      <td>0.0</td>\n",
       "      <td>0.0</td>\n",
       "      <td>0.0</td>\n",
       "      <td>0.0</td>\n",
       "      <td>0.0</td>\n",
       "      <td>0.0</td>\n",
       "    </tr>\n",
       "    <tr>\n",
       "      <th>Clemens Romanus</th>\n",
       "      <td>0.21473</td>\n",
       "      <td>0.33376</td>\n",
       "      <td>1.00000</td>\n",
       "      <td>0.07890</td>\n",
       "      <td>0.19072</td>\n",
       "      <td>0.28123</td>\n",
       "      <td>0.13309</td>\n",
       "      <td>0.26221</td>\n",
       "      <td>0.09193</td>\n",
       "      <td>0.25111</td>\n",
       "      <td>...</td>\n",
       "      <td>0.0</td>\n",
       "      <td>0.0</td>\n",
       "      <td>0.0</td>\n",
       "      <td>0.0</td>\n",
       "      <td>0.0</td>\n",
       "      <td>0.0</td>\n",
       "      <td>0.0</td>\n",
       "      <td>0.0</td>\n",
       "      <td>0.0</td>\n",
       "      <td>0.0</td>\n",
       "    </tr>\n",
       "    <tr>\n",
       "      <th>Pseudo-Justinus Martyr</th>\n",
       "      <td>0.00675</td>\n",
       "      <td>0.19126</td>\n",
       "      <td>0.07890</td>\n",
       "      <td>1.00000</td>\n",
       "      <td>0.05795</td>\n",
       "      <td>0.12931</td>\n",
       "      <td>0.17878</td>\n",
       "      <td>0.10772</td>\n",
       "      <td>0.04258</td>\n",
       "      <td>0.15290</td>\n",
       "      <td>...</td>\n",
       "      <td>0.0</td>\n",
       "      <td>0.0</td>\n",
       "      <td>0.0</td>\n",
       "      <td>0.0</td>\n",
       "      <td>0.0</td>\n",
       "      <td>0.0</td>\n",
       "      <td>0.0</td>\n",
       "      <td>0.0</td>\n",
       "      <td>0.0</td>\n",
       "      <td>0.0</td>\n",
       "    </tr>\n",
       "    <tr>\n",
       "      <th>Barnabas</th>\n",
       "      <td>0.07494</td>\n",
       "      <td>0.17925</td>\n",
       "      <td>0.19072</td>\n",
       "      <td>0.05795</td>\n",
       "      <td>1.00000</td>\n",
       "      <td>0.19311</td>\n",
       "      <td>0.08546</td>\n",
       "      <td>0.14578</td>\n",
       "      <td>0.07030</td>\n",
       "      <td>0.16445</td>\n",
       "      <td>...</td>\n",
       "      <td>0.0</td>\n",
       "      <td>0.0</td>\n",
       "      <td>0.0</td>\n",
       "      <td>0.0</td>\n",
       "      <td>0.0</td>\n",
       "      <td>0.0</td>\n",
       "      <td>0.0</td>\n",
       "      <td>0.0</td>\n",
       "      <td>0.0</td>\n",
       "      <td>0.0</td>\n",
       "    </tr>\n",
       "    <tr>\n",
       "      <th>...</th>\n",
       "      <td>...</td>\n",
       "      <td>...</td>\n",
       "      <td>...</td>\n",
       "      <td>...</td>\n",
       "      <td>...</td>\n",
       "      <td>...</td>\n",
       "      <td>...</td>\n",
       "      <td>...</td>\n",
       "      <td>...</td>\n",
       "      <td>...</td>\n",
       "      <td>...</td>\n",
       "      <td>...</td>\n",
       "      <td>...</td>\n",
       "      <td>...</td>\n",
       "      <td>...</td>\n",
       "      <td>...</td>\n",
       "      <td>...</td>\n",
       "      <td>...</td>\n",
       "      <td>...</td>\n",
       "      <td>...</td>\n",
       "      <td>...</td>\n",
       "    </tr>\n",
       "    <tr>\n",
       "      <th>Babrius</th>\n",
       "      <td>0.00000</td>\n",
       "      <td>0.00000</td>\n",
       "      <td>0.00000</td>\n",
       "      <td>0.00000</td>\n",
       "      <td>0.00000</td>\n",
       "      <td>0.00000</td>\n",
       "      <td>0.00000</td>\n",
       "      <td>0.00000</td>\n",
       "      <td>0.00000</td>\n",
       "      <td>0.00000</td>\n",
       "      <td>...</td>\n",
       "      <td>0.0</td>\n",
       "      <td>0.0</td>\n",
       "      <td>0.0</td>\n",
       "      <td>0.0</td>\n",
       "      <td>0.0</td>\n",
       "      <td>0.0</td>\n",
       "      <td>0.0</td>\n",
       "      <td>0.0</td>\n",
       "      <td>0.0</td>\n",
       "      <td>0.0</td>\n",
       "    </tr>\n",
       "    <tr>\n",
       "      <th>Alciphron</th>\n",
       "      <td>0.00000</td>\n",
       "      <td>0.00000</td>\n",
       "      <td>0.00000</td>\n",
       "      <td>0.00000</td>\n",
       "      <td>0.00000</td>\n",
       "      <td>0.00000</td>\n",
       "      <td>0.00000</td>\n",
       "      <td>0.00000</td>\n",
       "      <td>0.00000</td>\n",
       "      <td>0.00000</td>\n",
       "      <td>...</td>\n",
       "      <td>0.0</td>\n",
       "      <td>0.0</td>\n",
       "      <td>0.0</td>\n",
       "      <td>0.0</td>\n",
       "      <td>0.0</td>\n",
       "      <td>0.0</td>\n",
       "      <td>0.0</td>\n",
       "      <td>0.0</td>\n",
       "      <td>0.0</td>\n",
       "      <td>0.0</td>\n",
       "    </tr>\n",
       "    <tr>\n",
       "      <th>Xenophon of Ephesus</th>\n",
       "      <td>0.00000</td>\n",
       "      <td>0.00000</td>\n",
       "      <td>0.00000</td>\n",
       "      <td>0.00000</td>\n",
       "      <td>0.00000</td>\n",
       "      <td>0.00000</td>\n",
       "      <td>0.00000</td>\n",
       "      <td>0.00000</td>\n",
       "      <td>0.00000</td>\n",
       "      <td>0.00000</td>\n",
       "      <td>...</td>\n",
       "      <td>0.0</td>\n",
       "      <td>0.0</td>\n",
       "      <td>0.0</td>\n",
       "      <td>0.0</td>\n",
       "      <td>0.0</td>\n",
       "      <td>0.0</td>\n",
       "      <td>0.0</td>\n",
       "      <td>0.0</td>\n",
       "      <td>0.0</td>\n",
       "      <td>0.0</td>\n",
       "    </tr>\n",
       "    <tr>\n",
       "      <th>Hermannus Diels</th>\n",
       "      <td>0.00000</td>\n",
       "      <td>0.00000</td>\n",
       "      <td>0.00000</td>\n",
       "      <td>0.00000</td>\n",
       "      <td>0.00000</td>\n",
       "      <td>0.00000</td>\n",
       "      <td>0.00000</td>\n",
       "      <td>0.00000</td>\n",
       "      <td>0.00000</td>\n",
       "      <td>0.00000</td>\n",
       "      <td>...</td>\n",
       "      <td>0.0</td>\n",
       "      <td>0.0</td>\n",
       "      <td>0.0</td>\n",
       "      <td>0.0</td>\n",
       "      <td>0.0</td>\n",
       "      <td>0.0</td>\n",
       "      <td>0.0</td>\n",
       "      <td>0.0</td>\n",
       "      <td>0.0</td>\n",
       "      <td>0.0</td>\n",
       "    </tr>\n",
       "    <tr>\n",
       "      <th>Philostratus Minor</th>\n",
       "      <td>0.00000</td>\n",
       "      <td>0.00000</td>\n",
       "      <td>0.00000</td>\n",
       "      <td>0.00000</td>\n",
       "      <td>0.00000</td>\n",
       "      <td>0.00000</td>\n",
       "      <td>0.00000</td>\n",
       "      <td>0.00000</td>\n",
       "      <td>0.00000</td>\n",
       "      <td>0.00000</td>\n",
       "      <td>...</td>\n",
       "      <td>0.0</td>\n",
       "      <td>0.0</td>\n",
       "      <td>0.0</td>\n",
       "      <td>0.0</td>\n",
       "      <td>0.0</td>\n",
       "      <td>0.0</td>\n",
       "      <td>0.0</td>\n",
       "      <td>0.0</td>\n",
       "      <td>0.0</td>\n",
       "      <td>0.0</td>\n",
       "    </tr>\n",
       "  </tbody>\n",
       "</table>\n",
       "<p>269 rows × 269 columns</p>\n",
       "</div>"
      ],
      "text/plain": [
       "                        Polycarp  Paul of Tarsus  Clemens Romanus  \\\n",
       "Polycarp                 1.00000         0.20562          0.21473   \n",
       "Paul of Tarsus           0.20562         1.00000          0.33376   \n",
       "Clemens Romanus          0.21473         0.33376          1.00000   \n",
       "Pseudo-Justinus Martyr   0.00675         0.19126          0.07890   \n",
       "Barnabas                 0.07494         0.17925          0.19072   \n",
       "...                          ...             ...              ...   \n",
       "Babrius                  0.00000         0.00000          0.00000   \n",
       "Alciphron                0.00000         0.00000          0.00000   \n",
       "Xenophon of Ephesus      0.00000         0.00000          0.00000   \n",
       "Hermannus Diels          0.00000         0.00000          0.00000   \n",
       "Philostratus Minor       0.00000         0.00000          0.00000   \n",
       "\n",
       "                        Pseudo-Justinus Martyr  Barnabas   Hermas  \\\n",
       "Polycarp                               0.00675   0.07494  0.21202   \n",
       "Paul of Tarsus                         0.19126   0.17925  0.24179   \n",
       "Clemens Romanus                        0.07890   0.19072  0.28123   \n",
       "Pseudo-Justinus Martyr                 1.00000   0.05795  0.12931   \n",
       "Barnabas                               0.05795   1.00000  0.19311   \n",
       "...                                        ...       ...      ...   \n",
       "Babrius                                0.00000   0.00000  0.00000   \n",
       "Alciphron                              0.00000   0.00000  0.00000   \n",
       "Xenophon of Ephesus                    0.00000   0.00000  0.00000   \n",
       "Hermannus Diels                        0.00000   0.00000  0.00000   \n",
       "Philostratus Minor                     0.00000   0.00000  0.00000   \n",
       "\n",
       "                        Testamentum Abrahamae  Pauline literature  Menander  \\\n",
       "Polycarp                              0.08439             0.10462   0.05604   \n",
       "Paul of Tarsus                        0.25314             0.19243   0.06339   \n",
       "Clemens Romanus                       0.13309             0.26221   0.09193   \n",
       "Pseudo-Justinus Martyr                0.17878             0.10772   0.04258   \n",
       "Barnabas                              0.08546             0.14578   0.07030   \n",
       "...                                       ...                 ...       ...   \n",
       "Babrius                               0.00000             0.00000   0.00000   \n",
       "Alciphron                             0.00000             0.00000   0.00000   \n",
       "Xenophon of Ephesus                   0.00000             0.00000   0.00000   \n",
       "Hermannus Diels                       0.00000             0.00000   0.00000   \n",
       "Philostratus Minor                    0.00000             0.00000   0.00000   \n",
       "\n",
       "                        GNT rest  ...  Antisthenes  Gorgias of Leontini  \\\n",
       "Polycarp                 0.15242  ...          0.0                  0.0   \n",
       "Paul of Tarsus           0.31477  ...          0.0                  0.0   \n",
       "Clemens Romanus          0.25111  ...          0.0                  0.0   \n",
       "Pseudo-Justinus Martyr   0.15290  ...          0.0                  0.0   \n",
       "Barnabas                 0.16445  ...          0.0                  0.0   \n",
       "...                          ...  ...          ...                  ...   \n",
       "Babrius                  0.00000  ...          0.0                  0.0   \n",
       "Alciphron                0.00000  ...          0.0                  0.0   \n",
       "Xenophon of Ephesus      0.00000  ...          0.0                  0.0   \n",
       "Hermannus Diels          0.00000  ...          0.0                  0.0   \n",
       "Philostratus Minor       0.00000  ...          0.0                  0.0   \n",
       "\n",
       "                        Rufus Soph.  Tryphon I Grammaticus  Alcidamas  \\\n",
       "Polycarp                        0.0                    0.0        0.0   \n",
       "Paul of Tarsus                  0.0                    0.0        0.0   \n",
       "Clemens Romanus                 0.0                    0.0        0.0   \n",
       "Pseudo-Justinus Martyr          0.0                    0.0        0.0   \n",
       "Barnabas                        0.0                    0.0        0.0   \n",
       "...                             ...                    ...        ...   \n",
       "Babrius                         0.0                    0.0        0.0   \n",
       "Alciphron                       0.0                    0.0        0.0   \n",
       "Xenophon of Ephesus             0.0                    0.0        0.0   \n",
       "Hermannus Diels                 0.0                    0.0        0.0   \n",
       "Philostratus Minor              0.0                    0.0        0.0   \n",
       "\n",
       "                        Babrius  Alciphron  Xenophon of Ephesus  \\\n",
       "Polycarp                    0.0        0.0                  0.0   \n",
       "Paul of Tarsus              0.0        0.0                  0.0   \n",
       "Clemens Romanus             0.0        0.0                  0.0   \n",
       "Pseudo-Justinus Martyr      0.0        0.0                  0.0   \n",
       "Barnabas                    0.0        0.0                  0.0   \n",
       "...                         ...        ...                  ...   \n",
       "Babrius                     0.0        0.0                  0.0   \n",
       "Alciphron                   0.0        0.0                  0.0   \n",
       "Xenophon of Ephesus         0.0        0.0                  0.0   \n",
       "Hermannus Diels             0.0        0.0                  0.0   \n",
       "Philostratus Minor          0.0        0.0                  0.0   \n",
       "\n",
       "                        Hermannus Diels  Philostratus Minor  \n",
       "Polycarp                            0.0                 0.0  \n",
       "Paul of Tarsus                      0.0                 0.0  \n",
       "Clemens Romanus                     0.0                 0.0  \n",
       "Pseudo-Justinus Martyr              0.0                 0.0  \n",
       "Barnabas                            0.0                 0.0  \n",
       "...                                 ...                 ...  \n",
       "Babrius                             0.0                 0.0  \n",
       "Alciphron                           0.0                 0.0  \n",
       "Xenophon of Ephesus                 0.0                 0.0  \n",
       "Hermannus Diels                     0.0                 0.0  \n",
       "Philostratus Minor                  0.0                 0.0  \n",
       "\n",
       "[269 rows x 269 columns]"
      ]
     },
     "execution_count": 64,
     "metadata": {},
     "output_type": "execute_result"
    }
   ],
   "source": [
    "tfidfs_sim_mat_df = pd.DataFrame(tfidfs_sim_mat, columns=authors, index=authors)\n",
    "tfidfs_sim_mat_df"
   ]
  },
  {
   "cell_type": "code",
   "execution_count": 71,
   "metadata": {},
   "outputs": [
    {
     "data": {
      "text/html": [
       "<div>\n",
       "<style scoped>\n",
       "    .dataframe tbody tr th:only-of-type {\n",
       "        vertical-align: middle;\n",
       "    }\n",
       "\n",
       "    .dataframe tbody tr th {\n",
       "        vertical-align: top;\n",
       "    }\n",
       "\n",
       "    .dataframe thead th {\n",
       "        text-align: right;\n",
       "    }\n",
       "</style>\n",
       "<table border=\"1\" class=\"dataframe\">\n",
       "  <thead>\n",
       "    <tr style=\"text-align: right;\">\n",
       "      <th></th>\n",
       "      <th>Isocrates</th>\n",
       "      <th>Aristotle</th>\n",
       "      <th>Septuaginta</th>\n",
       "      <th>Flavius Josephus</th>\n",
       "      <th>Philo Judaeus</th>\n",
       "      <th>Paul of Tarsus</th>\n",
       "    </tr>\n",
       "  </thead>\n",
       "  <tbody>\n",
       "    <tr>\n",
       "      <th>Isocrates</th>\n",
       "      <td>1.00000</td>\n",
       "      <td>0.50845</td>\n",
       "      <td>0.25758</td>\n",
       "      <td>0.49441</td>\n",
       "      <td>0.57362</td>\n",
       "      <td>0.15754</td>\n",
       "    </tr>\n",
       "    <tr>\n",
       "      <th>Aristotle</th>\n",
       "      <td>0.50845</td>\n",
       "      <td>1.00000</td>\n",
       "      <td>0.26054</td>\n",
       "      <td>0.36762</td>\n",
       "      <td>0.63929</td>\n",
       "      <td>0.15322</td>\n",
       "    </tr>\n",
       "    <tr>\n",
       "      <th>Septuaginta</th>\n",
       "      <td>0.25758</td>\n",
       "      <td>0.26054</td>\n",
       "      <td>1.00000</td>\n",
       "      <td>0.32254</td>\n",
       "      <td>0.30049</td>\n",
       "      <td>0.32178</td>\n",
       "    </tr>\n",
       "    <tr>\n",
       "      <th>Flavius Josephus</th>\n",
       "      <td>0.49441</td>\n",
       "      <td>0.36762</td>\n",
       "      <td>0.32254</td>\n",
       "      <td>1.00000</td>\n",
       "      <td>0.43474</td>\n",
       "      <td>0.23478</td>\n",
       "    </tr>\n",
       "    <tr>\n",
       "      <th>Philo Judaeus</th>\n",
       "      <td>0.57362</td>\n",
       "      <td>0.63929</td>\n",
       "      <td>0.30049</td>\n",
       "      <td>0.43474</td>\n",
       "      <td>1.00000</td>\n",
       "      <td>0.17135</td>\n",
       "    </tr>\n",
       "    <tr>\n",
       "      <th>Paul of Tarsus</th>\n",
       "      <td>0.15754</td>\n",
       "      <td>0.15322</td>\n",
       "      <td>0.32178</td>\n",
       "      <td>0.23478</td>\n",
       "      <td>0.17135</td>\n",
       "      <td>1.00000</td>\n",
       "    </tr>\n",
       "  </tbody>\n",
       "</table>\n",
       "</div>"
      ],
      "text/plain": [
       "                  Isocrates  Aristotle  Septuaginta  Flavius Josephus  \\\n",
       "Isocrates           1.00000    0.50845      0.25758           0.49441   \n",
       "Aristotle           0.50845    1.00000      0.26054           0.36762   \n",
       "Septuaginta         0.25758    0.26054      1.00000           0.32254   \n",
       "Flavius Josephus    0.49441    0.36762      0.32254           1.00000   \n",
       "Philo Judaeus       0.57362    0.63929      0.30049           0.43474   \n",
       "Paul of Tarsus      0.15754    0.15322      0.32178           0.23478   \n",
       "\n",
       "                  Philo Judaeus  Paul of Tarsus  \n",
       "Isocrates               0.57362         0.15754  \n",
       "Aristotle               0.63929         0.15322  \n",
       "Septuaginta             0.30049         0.32178  \n",
       "Flavius Josephus        0.43474         0.23478  \n",
       "Philo Judaeus           1.00000         0.17135  \n",
       "Paul of Tarsus          0.17135         1.00000  "
      ]
     },
     "execution_count": 71,
     "metadata": {},
     "output_type": "execute_result"
    }
   ],
   "source": [
    "prechristian = [\"Isocrates\", \"Aristotle\", \"Septuaginta\", \"Flavius Josephus\", \"Philo Judaeus\", \"Paul of Tarsus\"]\n",
    "tfidfs_prechristian = tfidfs_sim_mat_df[prechristian].loc[prechristian]\n",
    "tfidfs_prechristian"
   ]
  },
  {
   "cell_type": "code",
   "execution_count": 72,
   "metadata": {},
   "outputs": [],
   "source": [
    "set_with_dataframe(ECCE_AGT_overview.add_worksheet(\"tfidfs_sim_prechristian\", 1, 1), tfidfs_prechristian, include_index=True)"
   ]
  },
  {
   "cell_type": "code",
   "execution_count": 76,
   "metadata": {},
   "outputs": [
    {
     "data": {
      "text/html": [
       "<div>\n",
       "<style scoped>\n",
       "    .dataframe tbody tr th:only-of-type {\n",
       "        vertical-align: middle;\n",
       "    }\n",
       "\n",
       "    .dataframe tbody tr th {\n",
       "        vertical-align: top;\n",
       "    }\n",
       "\n",
       "    .dataframe thead th {\n",
       "        text-align: right;\n",
       "    }\n",
       "</style>\n",
       "<table border=\"1\" class=\"dataframe\">\n",
       "  <thead>\n",
       "    <tr style=\"text-align: right;\">\n",
       "      <th></th>\n",
       "      <th>Isocrates</th>\n",
       "      <th>Aristotle</th>\n",
       "      <th>Septuaginta</th>\n",
       "      <th>Flavius Josephus</th>\n",
       "      <th>Philo Judaeus</th>\n",
       "      <th>Paul of Tarsus</th>\n",
       "    </tr>\n",
       "  </thead>\n",
       "  <tbody>\n",
       "    <tr>\n",
       "      <th>Paul of Tarsus</th>\n",
       "      <td>0.15754</td>\n",
       "      <td>0.15322</td>\n",
       "      <td>0.32178</td>\n",
       "      <td>0.23478</td>\n",
       "      <td>0.17135</td>\n",
       "      <td>1.00000</td>\n",
       "    </tr>\n",
       "    <tr>\n",
       "      <th>Catenae (Novum Testamentum)</th>\n",
       "      <td>0.36156</td>\n",
       "      <td>0.35676</td>\n",
       "      <td>0.54121</td>\n",
       "      <td>0.43365</td>\n",
       "      <td>0.38973</td>\n",
       "      <td>0.57725</td>\n",
       "    </tr>\n",
       "    <tr>\n",
       "      <th>Epiphanius</th>\n",
       "      <td>0.30683</td>\n",
       "      <td>0.32864</td>\n",
       "      <td>0.34203</td>\n",
       "      <td>0.32726</td>\n",
       "      <td>0.33874</td>\n",
       "      <td>0.48311</td>\n",
       "    </tr>\n",
       "    <tr>\n",
       "      <th>Origenes</th>\n",
       "      <td>0.45813</td>\n",
       "      <td>0.46541</td>\n",
       "      <td>0.64137</td>\n",
       "      <td>0.43765</td>\n",
       "      <td>0.49226</td>\n",
       "      <td>0.44051</td>\n",
       "    </tr>\n",
       "    <tr>\n",
       "      <th>Eusebius</th>\n",
       "      <td>0.46744</td>\n",
       "      <td>0.42852</td>\n",
       "      <td>0.63168</td>\n",
       "      <td>0.52857</td>\n",
       "      <td>0.51721</td>\n",
       "      <td>0.36996</td>\n",
       "    </tr>\n",
       "    <tr>\n",
       "      <th>Chronicon Paschale</th>\n",
       "      <td>0.19643</td>\n",
       "      <td>0.15354</td>\n",
       "      <td>0.36495</td>\n",
       "      <td>0.24479</td>\n",
       "      <td>0.18640</td>\n",
       "      <td>0.36756</td>\n",
       "    </tr>\n",
       "    <tr>\n",
       "      <th>Clement of Alexandria</th>\n",
       "      <td>0.38516</td>\n",
       "      <td>0.43333</td>\n",
       "      <td>0.50025</td>\n",
       "      <td>0.39746</td>\n",
       "      <td>0.46209</td>\n",
       "      <td>0.33977</td>\n",
       "    </tr>\n",
       "    <tr>\n",
       "      <th>Clemens Romanus</th>\n",
       "      <td>0.19808</td>\n",
       "      <td>0.12724</td>\n",
       "      <td>0.35355</td>\n",
       "      <td>0.18709</td>\n",
       "      <td>0.22253</td>\n",
       "      <td>0.33376</td>\n",
       "    </tr>\n",
       "    <tr>\n",
       "      <th>Septuaginta</th>\n",
       "      <td>0.25758</td>\n",
       "      <td>0.26054</td>\n",
       "      <td>1.00000</td>\n",
       "      <td>0.32254</td>\n",
       "      <td>0.30049</td>\n",
       "      <td>0.32178</td>\n",
       "    </tr>\n",
       "    <tr>\n",
       "      <th>GNT rest</th>\n",
       "      <td>0.12176</td>\n",
       "      <td>0.14479</td>\n",
       "      <td>0.32968</td>\n",
       "      <td>0.17334</td>\n",
       "      <td>0.15549</td>\n",
       "      <td>0.31477</td>\n",
       "    </tr>\n",
       "    <tr>\n",
       "      <th>Theophilus Antiochenus</th>\n",
       "      <td>0.22476</td>\n",
       "      <td>0.19861</td>\n",
       "      <td>0.32059</td>\n",
       "      <td>0.23779</td>\n",
       "      <td>0.20485</td>\n",
       "      <td>0.30162</td>\n",
       "    </tr>\n",
       "    <tr>\n",
       "      <th>Testamentum Abrahamae</th>\n",
       "      <td>0.12792</td>\n",
       "      <td>0.13900</td>\n",
       "      <td>0.19872</td>\n",
       "      <td>0.13295</td>\n",
       "      <td>0.11795</td>\n",
       "      <td>0.25314</td>\n",
       "    </tr>\n",
       "    <tr>\n",
       "      <th>Justinus Martyr</th>\n",
       "      <td>0.25421</td>\n",
       "      <td>0.23466</td>\n",
       "      <td>0.53805</td>\n",
       "      <td>0.34537</td>\n",
       "      <td>0.30141</td>\n",
       "      <td>0.25246</td>\n",
       "    </tr>\n",
       "    <tr>\n",
       "      <th>John</th>\n",
       "      <td>0.28278</td>\n",
       "      <td>0.30197</td>\n",
       "      <td>0.41738</td>\n",
       "      <td>0.25296</td>\n",
       "      <td>0.42875</td>\n",
       "      <td>0.25163</td>\n",
       "    </tr>\n",
       "    <tr>\n",
       "      <th>Joannes Zonaras</th>\n",
       "      <td>0.25408</td>\n",
       "      <td>0.20759</td>\n",
       "      <td>0.31274</td>\n",
       "      <td>0.39870</td>\n",
       "      <td>0.23154</td>\n",
       "      <td>0.24652</td>\n",
       "    </tr>\n",
       "    <tr>\n",
       "      <th>Hermas</th>\n",
       "      <td>0.29193</td>\n",
       "      <td>0.27296</td>\n",
       "      <td>0.34190</td>\n",
       "      <td>0.27689</td>\n",
       "      <td>0.29074</td>\n",
       "      <td>0.24179</td>\n",
       "    </tr>\n",
       "    <tr>\n",
       "      <th>Suda</th>\n",
       "      <td>0.41992</td>\n",
       "      <td>0.55186</td>\n",
       "      <td>0.28757</td>\n",
       "      <td>0.32683</td>\n",
       "      <td>0.55741</td>\n",
       "      <td>0.23584</td>\n",
       "    </tr>\n",
       "    <tr>\n",
       "      <th>Flavius Josephus</th>\n",
       "      <td>0.49441</td>\n",
       "      <td>0.36762</td>\n",
       "      <td>0.32254</td>\n",
       "      <td>1.00000</td>\n",
       "      <td>0.43474</td>\n",
       "      <td>0.23478</td>\n",
       "    </tr>\n",
       "    <tr>\n",
       "      <th>Plutarch</th>\n",
       "      <td>0.58892</td>\n",
       "      <td>0.62808</td>\n",
       "      <td>0.29879</td>\n",
       "      <td>0.45495</td>\n",
       "      <td>0.70783</td>\n",
       "      <td>0.21212</td>\n",
       "    </tr>\n",
       "    <tr>\n",
       "      <th>Polycarp</th>\n",
       "      <td>0.16649</td>\n",
       "      <td>0.12593</td>\n",
       "      <td>0.16227</td>\n",
       "      <td>0.18786</td>\n",
       "      <td>0.14817</td>\n",
       "      <td>0.20562</td>\n",
       "    </tr>\n",
       "  </tbody>\n",
       "</table>\n",
       "</div>"
      ],
      "text/plain": [
       "                             Isocrates  Aristotle  Septuaginta  \\\n",
       "Paul of Tarsus                 0.15754    0.15322      0.32178   \n",
       "Catenae (Novum Testamentum)    0.36156    0.35676      0.54121   \n",
       "Epiphanius                     0.30683    0.32864      0.34203   \n",
       "Origenes                       0.45813    0.46541      0.64137   \n",
       "Eusebius                       0.46744    0.42852      0.63168   \n",
       "Chronicon Paschale             0.19643    0.15354      0.36495   \n",
       "Clement of Alexandria          0.38516    0.43333      0.50025   \n",
       "Clemens Romanus                0.19808    0.12724      0.35355   \n",
       "Septuaginta                    0.25758    0.26054      1.00000   \n",
       "GNT rest                       0.12176    0.14479      0.32968   \n",
       "Theophilus Antiochenus         0.22476    0.19861      0.32059   \n",
       "Testamentum Abrahamae          0.12792    0.13900      0.19872   \n",
       "Justinus Martyr                0.25421    0.23466      0.53805   \n",
       "John                           0.28278    0.30197      0.41738   \n",
       "Joannes Zonaras                0.25408    0.20759      0.31274   \n",
       "Hermas                         0.29193    0.27296      0.34190   \n",
       "Suda                           0.41992    0.55186      0.28757   \n",
       "Flavius Josephus               0.49441    0.36762      0.32254   \n",
       "Plutarch                       0.58892    0.62808      0.29879   \n",
       "Polycarp                       0.16649    0.12593      0.16227   \n",
       "\n",
       "                             Flavius Josephus  Philo Judaeus  Paul of Tarsus  \n",
       "Paul of Tarsus                        0.23478        0.17135         1.00000  \n",
       "Catenae (Novum Testamentum)           0.43365        0.38973         0.57725  \n",
       "Epiphanius                            0.32726        0.33874         0.48311  \n",
       "Origenes                              0.43765        0.49226         0.44051  \n",
       "Eusebius                              0.52857        0.51721         0.36996  \n",
       "Chronicon Paschale                    0.24479        0.18640         0.36756  \n",
       "Clement of Alexandria                 0.39746        0.46209         0.33977  \n",
       "Clemens Romanus                       0.18709        0.22253         0.33376  \n",
       "Septuaginta                           0.32254        0.30049         0.32178  \n",
       "GNT rest                              0.17334        0.15549         0.31477  \n",
       "Theophilus Antiochenus                0.23779        0.20485         0.30162  \n",
       "Testamentum Abrahamae                 0.13295        0.11795         0.25314  \n",
       "Justinus Martyr                       0.34537        0.30141         0.25246  \n",
       "John                                  0.25296        0.42875         0.25163  \n",
       "Joannes Zonaras                       0.39870        0.23154         0.24652  \n",
       "Hermas                                0.27689        0.29074         0.24179  \n",
       "Suda                                  0.32683        0.55741         0.23584  \n",
       "Flavius Josephus                      1.00000        0.43474         0.23478  \n",
       "Plutarch                              0.45495        0.70783         0.21212  \n",
       "Polycarp                              0.18786        0.14817         0.20562  "
      ]
     },
     "execution_count": 76,
     "metadata": {},
     "output_type": "execute_result"
    }
   ],
   "source": [
    "tfidfs_sim_mat_df[prechristian].sort_values(\"Paul of Tarsus\", ascending=False).head(20)"
   ]
  },
  {
   "cell_type": "code",
   "execution_count": null,
   "metadata": {},
   "outputs": [],
   "source": [
    "'Polycarp', 'Paul of Tarsus', 'Clemens Romanus', 'Barnabas', 'Hermas', 'Pauline literature',\n",
    "       'GNT rest', 'Didache', 'Justinus Martyr', 'Athenagoras', 'Origenes',\n",
    "       'Theophilus Antiochenus', 'Matthew', 'Clement of Alexandria',\n",
    "       'Eusebius', 'Johnannine literature', 'Epiphanius',\n",
    "       'Athanasius of Alexandria', 'Luke (the evangelist)',\n",
    "       'Gregorius Nazianzenus', 'Ignatius Antiochenus', 'Basil', 'Hippolytus',\n",
    "       'Maximus of Tyre', 'Irenaeus', 'Philo Judaeus', 'Flavius Josephus']"
   ]
  },
  {
   "cell_type": "code",
   "execution_count": 94,
   "metadata": {},
   "outputs": [],
   "source": [
    "authors_df_c = authors_df[(authors_df[\"provenience\"] == \"christian\") & (authors_df[\"date_avr\"] < 4) & (authors_df[\"dikaiosyne_N\"] > 0)]"
   ]
  },
  {
   "cell_type": "code",
   "execution_count": 99,
   "metadata": {},
   "outputs": [
    {
     "data": {
      "text/html": [
       "<div>\n",
       "<style scoped>\n",
       "    .dataframe tbody tr th:only-of-type {\n",
       "        vertical-align: middle;\n",
       "    }\n",
       "\n",
       "    .dataframe tbody tr th {\n",
       "        vertical-align: top;\n",
       "    }\n",
       "\n",
       "    .dataframe thead th {\n",
       "        text-align: right;\n",
       "    }\n",
       "</style>\n",
       "<table border=\"1\" class=\"dataframe\">\n",
       "  <thead>\n",
       "    <tr style=\"text-align: right;\">\n",
       "      <th></th>\n",
       "      <th>author_id</th>\n",
       "      <th>author</th>\n",
       "      <th>n_titles</th>\n",
       "      <th>titles</th>\n",
       "      <th>filenames</th>\n",
       "      <th>wordcount</th>\n",
       "      <th>lemmata_wordcount</th>\n",
       "      <th>n_sentences</th>\n",
       "      <th>date_probs</th>\n",
       "      <th>date_avr</th>\n",
       "      <th>provenience</th>\n",
       "      <th>lemmata_lists</th>\n",
       "      <th>lemmatized_sentences</th>\n",
       "      <th>dikaiosyne_N</th>\n",
       "      <th>dikaiosyne_TF</th>\n",
       "      <th>dik_sents_flat</th>\n",
       "      <th>dik_sents_TF</th>\n",
       "      <th>dik_sents_TFIDF</th>\n",
       "      <th>dik_sents_TFIDF_10</th>\n",
       "    </tr>\n",
       "  </thead>\n",
       "  <tbody>\n",
       "    <tr>\n",
       "      <th>175</th>\n",
       "      <td>tlg1622</td>\n",
       "      <td>Polycarp</td>\n",
       "      <td>1</td>\n",
       "      <td>[Epistula ad Philippenses]</td>\n",
       "      <td>[tlg1622.tlg001.1st1K-grc1.xml]</td>\n",
       "      <td>1804</td>\n",
       "      <td>951</td>\n",
       "      <td>212</td>\n",
       "      <td>{'0.5': 0.5, '1.5': 0.5}</td>\n",
       "      <td>1.0</td>\n",
       "      <td>christian</td>\n",
       "      <td>[[πολύκαρπος, πρέσβυς, ἐκκλησία, θεός, παροικο...</td>\n",
       "      <td>[[πολύκαρπος, πρέσβυς, ἐκκλησία, θεός, παροικο...</td>\n",
       "      <td>8</td>\n",
       "      <td>0.004435</td>\n",
       "      <td>[μακάριος, πτωχός, διώκω, εἰμί, βασιλεία, θεάο...</td>\n",
       "      <td>[(εἰμί, 0.04651), (οὗτος, 0.04651), (ἐντολή, 0...</td>\n",
       "      <td>[(οὗτος, 0.19805), (ἐντολή, 0.18466), (πτωχός,...</td>\n",
       "      <td>οὗτος, ἐντολή, πτωχός, διώκω, θεάομαι, ἀδελφός...</td>\n",
       "    </tr>\n",
       "    <tr>\n",
       "      <th>35</th>\n",
       "      <td>tlg0031paul</td>\n",
       "      <td>Paul of Tarsus</td>\n",
       "      <td>7</td>\n",
       "      <td>[Romans, 1 Corinthians, 2 Corinthians, Galatia...</td>\n",
       "      <td>[tlg0031.tlg006.perseus-grc2.xml, tlg0031.tlg0...</td>\n",
       "      <td>24066</td>\n",
       "      <td>11089</td>\n",
       "      <td>1632</td>\n",
       "      <td>{'0.5': 1}</td>\n",
       "      <td>0.5</td>\n",
       "      <td>christian</td>\n",
       "      <td>[[Παῦλος, δοῦλος, Ἰησοῦς, Χριστός, κλητός, ἀπό...</td>\n",
       "      <td>[[Παῦλος, δοῦλος, Ἰησοῦς, Χριστός, κλητός, ἀπό...</td>\n",
       "      <td>49</td>\n",
       "      <td>0.002036</td>\n",
       "      <td>[θεός, ἀποκαλύπτω, πίστις, πίστις, γράφω, δίκα...</td>\n",
       "      <td>[(θεός, 0.04675), (πίστις, 0.04156), (νόμος, 0...</td>\n",
       "      <td>[(πίστις, 0.12745), (ἁμαρτία, 0.11192), (νόμος...</td>\n",
       "      <td>πίστις, ἁμαρτία, νόμος, λογίζομαι, θεός, βασιλ...</td>\n",
       "    </tr>\n",
       "    <tr>\n",
       "      <th>156</th>\n",
       "      <td>tlg1271</td>\n",
       "      <td>Clemens Romanus</td>\n",
       "      <td>2</td>\n",
       "      <td>[Epistula I ad Corinthios, Epistula II ad Cori...</td>\n",
       "      <td>[tlg1271.tlg001.1st1K-grc1.xml, tlg1271.tlg002...</td>\n",
       "      <td>13936</td>\n",
       "      <td>6290</td>\n",
       "      <td>1410</td>\n",
       "      <td>{'0.5': 1}</td>\n",
       "      <td>0.5</td>\n",
       "      <td>christian</td>\n",
       "      <td>[[ἐκκλησία, θεός, παροικοῦσα, Ῥώμη, ἐκκλησία, ...</td>\n",
       "      <td>[[ἐκκλησία, θεός, παροικοῦσα, Ῥώμη, ἐκκλησία, ...</td>\n",
       "      <td>21</td>\n",
       "      <td>0.001507</td>\n",
       "      <td>[οὗτος, ἄπειμι, εἰρήνη, ἀπολιμπάνω, ἕκαστος, φ...</td>\n",
       "      <td>[(θεός, 0.02871), (πίστις, 0.02392), (γίγνομαι...</td>\n",
       "      <td>[(καυχάομαι, 0.10409), (πίστις, 0.10181), (πύλ...</td>\n",
       "      <td>καυχάομαι, πίστις, πύλη, θεός, δύσις, ἀγάπη, π...</td>\n",
       "    </tr>\n",
       "    <tr>\n",
       "      <th>152</th>\n",
       "      <td>tlg1216</td>\n",
       "      <td>Barnabas</td>\n",
       "      <td>1</td>\n",
       "      <td>[The Epistle of Barnabas]</td>\n",
       "      <td>[tlg1216.tlg001.perseus-grc2.xml]</td>\n",
       "      <td>7440</td>\n",
       "      <td>3450</td>\n",
       "      <td>875</td>\n",
       "      <td>{'0.5': 0.5, '1.5': 0.5}</td>\n",
       "      <td>1.0</td>\n",
       "      <td>christian</td>\n",
       "      <td>[[χαίρω, υἱός, θυγάτηρ, ὄνομα, κύριος, ἀγαπάω,...</td>\n",
       "      <td>[[χαίρω, υἱός, θυγάτηρ, ὄνομα, κύριος, ἀγαπάω,...</td>\n",
       "      <td>9</td>\n",
       "      <td>0.001210</td>\n",
       "      <td>[πείθω, οὗτος, σύνοιδα, λαλέω, πολύς, ἐπίσταμα...</td>\n",
       "      <td>[(ὁδός, 0.0411), (κύριος, 0.0274), (θεός, 0.02...</td>\n",
       "      <td>[(ὁδός, 0.17298), (σκότος, 0.13651), (ἀγαθός, ...</td>\n",
       "      <td>ὁδός, σκότος, ἀγαθός, σύνοιδα, ἐπίσταμαι, συνώ...</td>\n",
       "    </tr>\n",
       "    <tr>\n",
       "      <th>164</th>\n",
       "      <td>tlg1419</td>\n",
       "      <td>Hermas</td>\n",
       "      <td>1</td>\n",
       "      <td>[The Shepherd of Hermas]</td>\n",
       "      <td>[tlg1419.tlg001.1st1K-grc1.xml]</td>\n",
       "      <td>30282</td>\n",
       "      <td>14340</td>\n",
       "      <td>2959</td>\n",
       "      <td>{'1.5': 1}</td>\n",
       "      <td>1.5</td>\n",
       "      <td>christian</td>\n",
       "      <td>[[τρέφω, πέρνημι, ῥόδῃ, τὶς, Ῥώμη, πολύς, ἔτος...</td>\n",
       "      <td>[[τρέφω, πέρνημι, ῥόδῃ, τὶς, Ῥώμη], [πολύς, ἔτ...</td>\n",
       "      <td>33</td>\n",
       "      <td>0.001090</td>\n",
       "      <td>[λέγω, προηγουμένοις, ἐκκλησία, κατορθώσωνται,...</td>\n",
       "      <td>[(ἄγγελος, 0.03333), (ἐργάζομαι, 0.03), (εἰμί,...</td>\n",
       "      <td>[(ἄγγελος, 0.12433), (ἐργάζομαι, 0.12302), (ἀρ...</td>\n",
       "      <td>ἄγγελος, ἐργάζομαι, ἀρετή, ἔργον, ἀλήθεια, πον...</td>\n",
       "    </tr>\n",
       "    <tr>\n",
       "      <th>36</th>\n",
       "      <td>tlg0031pspa</td>\n",
       "      <td>Pauline literature</td>\n",
       "      <td>6</td>\n",
       "      <td>[Ephesians, Colossians, 2 Thessalonians, 1 Tim...</td>\n",
       "      <td>[tlg0031.tlg010.perseus-grc2.xml, tlg0031.tlg0...</td>\n",
       "      <td>8324</td>\n",
       "      <td>4103</td>\n",
       "      <td>390</td>\n",
       "      <td>{'0.5': 1}</td>\n",
       "      <td>0.5</td>\n",
       "      <td>christian</td>\n",
       "      <td>[[Παῦλος, ἀπόστολος, Χριστός, Ἰησοῦς, θέλημα, ...</td>\n",
       "      <td>[[Παῦλος, ἀπόστολος, Χριστός, Ἰησοῦς, θέλημα, ...</td>\n",
       "      <td>8</td>\n",
       "      <td>0.000961</td>\n",
       "      <td>[μανθάνω, χριστός, ἀκούω, διδάσκω, ἀλήθεια, Ἰη...</td>\n",
       "      <td>[(ἀλήθεια, 0.03252), (ἄνθρωπος, 0.02439), (θεό...</td>\n",
       "      <td>[(ἀλήθεια, 0.0935), (διώκω, 0.07915), (ἐνδύω, ...</td>\n",
       "      <td>ἀλήθεια, διώκω, ἐνδύω, φῶς, ἐπιθυμία, ἄνθρωπος...</td>\n",
       "    </tr>\n",
       "    <tr>\n",
       "      <th>37</th>\n",
       "      <td>tlg0031rest</td>\n",
       "      <td>GNT rest</td>\n",
       "      <td>6</td>\n",
       "      <td>[Hebrews, James, 1 Peter, 2 Peter, Jude, Revel...</td>\n",
       "      <td>[tlg0031.tlg019.perseus-grc2.xml, tlg0031.tlg0...</td>\n",
       "      <td>19782</td>\n",
       "      <td>9755</td>\n",
       "      <td>1037</td>\n",
       "      <td>{'0.5': 1}</td>\n",
       "      <td>0.5</td>\n",
       "      <td>christian</td>\n",
       "      <td>[[πολύτροπος, θεός, λαλέω, πατήρ, προφήτης, ἔσ...</td>\n",
       "      <td>[[πολύτροπος, θεός, λαλέω, πατήρ, προφήτης, ἔσ...</td>\n",
       "      <td>17</td>\n",
       "      <td>0.000859</td>\n",
       "      <td>[ἀγαπάω, μισέω, ἀνομία, μετέχω, γάλα, ἄπειρος,...</td>\n",
       "      <td>[(θεός, 0.02703), (πίστις, 0.02317), (βασιλεύς...</td>\n",
       "      <td>[(βασιλεύς, 0.07352), (πίστις, 0.0668), (δίκαι...</td>\n",
       "      <td>βασιλεύς, πίστις, δίκαιος, Σαλήμ, βραδύς, φείδ...</td>\n",
       "    </tr>\n",
       "    <tr>\n",
       "      <th>158</th>\n",
       "      <td>tlg1311</td>\n",
       "      <td>Didache</td>\n",
       "      <td>1</td>\n",
       "      <td>[Didache XII Apostolorum]</td>\n",
       "      <td>[tlg1311.tlg001.1st1K-grc1.xml]</td>\n",
       "      <td>2377</td>\n",
       "      <td>1049</td>\n",
       "      <td>284</td>\n",
       "      <td>{'1.5': 1}</td>\n",
       "      <td>1.5</td>\n",
       "      <td>christian</td>\n",
       "      <td>[[ὁδός, δύο, εἰμί, εἷς, ζωή, εἷς, θάνατος, δια...</td>\n",
       "      <td>[[ὁδός, δύο, εἰμί, εἷς, ζωή, εἷς, θάνατος, δια...</td>\n",
       "      <td>2</td>\n",
       "      <td>0.000841</td>\n",
       "      <td>[διῶκται, ἀγαθός, μισέω, ἀλήθεια, ἀγαπῶντες, ψ...</td>\n",
       "      <td>[(κύριος, 0.14286), (διῶκται, 0.07143), (ἀγαθό...</td>\n",
       "      <td>[(διῶκται, 0.4035), (ψεῦδος, 0.4035), (κύριος,...</td>\n",
       "      <td>διῶκται, ψεῦδος, κύριος, ἀγαπῶντες, μισθός, πρ...</td>\n",
       "    </tr>\n",
       "    <tr>\n",
       "      <th>129</th>\n",
       "      <td>tlg0645</td>\n",
       "      <td>Justinus Martyr</td>\n",
       "      <td>3</td>\n",
       "      <td>[Apologia, Apology II, Dialogus cum Tryphone]</td>\n",
       "      <td>[tlg0645.tlg001.opp-grc1.xml, tlg0645.tlg002.p...</td>\n",
       "      <td>73449</td>\n",
       "      <td>34006</td>\n",
       "      <td>5829</td>\n",
       "      <td>{'1.5': 1}</td>\n",
       "      <td>1.5</td>\n",
       "      <td>christian</td>\n",
       "      <td>[[αὐτοκράτωρ, Τίτος, αἰλίῳ, ἀδριανῷ, ἀντωνίνῳ,...</td>\n",
       "      <td>[[αὐτοκράτωρ, Τίτος, αἰλίῳ, ἀδριανῷ, ἀντωνίνῳ,...</td>\n",
       "      <td>45</td>\n",
       "      <td>0.000613</td>\n",
       "      <td>[λέγω, εὐσεβής, φιλόσοφος, φύλαξ, ἐραστής, παι...</td>\n",
       "      <td>[(θεός, 0.03846), (κρίσις, 0.01795), (λαός, 0....</td>\n",
       "      <td>[(κρίσις, 0.08306), (θεός, 0.08202), (εἰρήνη, ...</td>\n",
       "      <td>κρίσις, θεός, εἰρήνη, δίδωμι, εὐσέβεια, πεπεδη...</td>\n",
       "    </tr>\n",
       "    <tr>\n",
       "      <th>150</th>\n",
       "      <td>tlg1205</td>\n",
       "      <td>Athenagoras</td>\n",
       "      <td>2</td>\n",
       "      <td>[Supplication pro Christianis, De resurrectione]</td>\n",
       "      <td>[tlg1205.tlg001.perseus-grc2.xml, tlg1205.tlg0...</td>\n",
       "      <td>20210</td>\n",
       "      <td>9819</td>\n",
       "      <td>808</td>\n",
       "      <td>{'1.5': 1}</td>\n",
       "      <td>1.5</td>\n",
       "      <td>christian</td>\n",
       "      <td>[[ὑμέτερος, μέγας, βασιλεύς, οἰκουμένη, ἄλλος,...</td>\n",
       "      <td>[[ὑμέτερος, μέγας, βασιλεύς, οἰκουμένη, ἄλλος,...</td>\n",
       "      <td>12</td>\n",
       "      <td>0.000594</td>\n",
       "      <td>[ὑμέτερος, ἄλλος, αἰτία, λαμβάνω, ἀδίκημα, πρό...</td>\n",
       "      <td>[(ἄνθρωπος, 0.02888), (ἔχω, 0.02166), (ψυχή, 0...</td>\n",
       "      <td>[(δίδωμι, 0.07665), (νόμος, 0.06069), (ψυχή, 0...</td>\n",
       "      <td>δίδωμι, νόμος, ψυχή, ἄνθρωπος, ἔχω, ἀποχή, κρί...</td>\n",
       "    </tr>\n",
       "    <tr>\n",
       "      <th>179</th>\n",
       "      <td>tlg1725</td>\n",
       "      <td>Theophilus Antiochenus</td>\n",
       "      <td>1</td>\n",
       "      <td>[Ad Autolycum]</td>\n",
       "      <td>[tlg1725.tlg001.perseus-grc2.xml]</td>\n",
       "      <td>21548</td>\n",
       "      <td>10945</td>\n",
       "      <td>1300</td>\n",
       "      <td>{'1.5': 1}</td>\n",
       "      <td>1.5</td>\n",
       "      <td>christian</td>\n",
       "      <td>[[στωμύλος, στόμα, φράσις, εὐεπής, τέρψις, παρ...</td>\n",
       "      <td>[[στωμύλος, στόμα, φράσις, εὐεπής, τέρψις, παρ...</td>\n",
       "      <td>9</td>\n",
       "      <td>0.000418</td>\n",
       "      <td>[θάλασσα, ἔχω, ποταμός, πηγή, ἐπίῤῥυσιν, ἐπιχο...</td>\n",
       "      <td>[(θεός, 0.04762), (νόμος, 0.03175), (προφήτης,...</td>\n",
       "      <td>[(νόμος, 0.12808), (βραβεύω, 0.10281), (ἀδικία...</td>\n",
       "      <td>νόμος, βραβεύω, ἀδικία, πράσσω, προφήτης, ἁμαρ...</td>\n",
       "    </tr>\n",
       "    <tr>\n",
       "      <th>31</th>\n",
       "      <td>tlg0031matt</td>\n",
       "      <td>Matthew</td>\n",
       "      <td>1</td>\n",
       "      <td>[Matthew]</td>\n",
       "      <td>[tlg0031.tlg001.perseus-grc2.xml]</td>\n",
       "      <td>18288</td>\n",
       "      <td>8526</td>\n",
       "      <td>1276</td>\n",
       "      <td>{'0.5': 1}</td>\n",
       "      <td>0.5</td>\n",
       "      <td>christian</td>\n",
       "      <td>[[βίβλος, γένεσις, Ἰησοῦς, Χριστός, υἱός, Δαυί...</td>\n",
       "      <td>[[βίβλος, γένεσις, Ἰησοῦς, Χριστός, υἱός, Δαυί...</td>\n",
       "      <td>7</td>\n",
       "      <td>0.000383</td>\n",
       "      <td>[ἀποκρίνω, Ἰησοῦς, λέγω, ἀφίημι, πρέπω, πληρόω...</td>\n",
       "      <td>[(βασιλεία, 0.08333), (λέγω, 0.05556), (μακάρι...</td>\n",
       "      <td>[(βασιλεία, 0.26354), (μακάριος, 0.25925), (πρ...</td>\n",
       "      <td>βασιλεία, μακάριος, πρέπω, πεινῶντες, διψῶντες...</td>\n",
       "    </tr>\n",
       "    <tr>\n",
       "      <th>34</th>\n",
       "      <td>tlg0031john</td>\n",
       "      <td>Johnannine literature</td>\n",
       "      <td>4</td>\n",
       "      <td>[John, 1 John, 2 John, 3 John]</td>\n",
       "      <td>[tlg0031.tlg004.perseus-grc2.xml, tlg0031.tlg0...</td>\n",
       "      <td>18189</td>\n",
       "      <td>8142</td>\n",
       "      <td>1339</td>\n",
       "      <td>{'0.5': 1}</td>\n",
       "      <td>0.5</td>\n",
       "      <td>christian</td>\n",
       "      <td>[[εἰμί, ἀρχή, εἰμί, λόγος, λόγος, εἰμί, θεός, ...</td>\n",
       "      <td>[[εἰμί, ἀρχή, εἰμί, λόγος, λόγος, εἰμί, θεός, ...</td>\n",
       "      <td>5</td>\n",
       "      <td>0.000275</td>\n",
       "      <td>[ἔρχομαι, ἐκεῖνος, ἐλέγχω, κόσμος, ἁμαρτία, κρ...</td>\n",
       "      <td>[(δίκαιος, 0.125), (εἰμί, 0.125), (ποιέω, 0.12...</td>\n",
       "      <td>[(δίκαιος, 0.64003), (ποιέω, 0.30904), (ἐλέγχω...</td>\n",
       "      <td>δίκαιος, ποιέω, ἐλέγχω, κρίσις, εἰμί, γεννάω, ...</td>\n",
       "    </tr>\n",
       "    <tr>\n",
       "      <th>33</th>\n",
       "      <td>tlg0031luke</td>\n",
       "      <td>Luke (the evangelist)</td>\n",
       "      <td>2</td>\n",
       "      <td>[Luke, Acts]</td>\n",
       "      <td>[tlg0031.tlg003.perseus-grc2.xml, tlg0031.tlg0...</td>\n",
       "      <td>37864</td>\n",
       "      <td>18113</td>\n",
       "      <td>2234</td>\n",
       "      <td>{'0.5': 1}</td>\n",
       "      <td>0.5</td>\n",
       "      <td>christian</td>\n",
       "      <td>[[πολύς, ἐπιχειρέω, ἀνατάσσομαι, διήγησις, πλη...</td>\n",
       "      <td>[[πολύς, ἐπιχειρέω, ἀνατάσσομαι, διήγησις, πλη...</td>\n",
       "      <td>5</td>\n",
       "      <td>0.000132</td>\n",
       "      <td>[Ζαχαρίας, πατήρ, πίμπλημι, πνεῦμα, ἅγιος, προ...</td>\n",
       "      <td>[(πᾶς, 0.04386), (ἅγιος, 0.03509), (πατήρ, 0.0...</td>\n",
       "      <td>[(ἐχθρός, 0.14511), (ἅγιος, 0.12101), (πᾶς, 0....</td>\n",
       "      <td>ἐχθρός, ἅγιος, πᾶς, σωτηρία, πατήρ, στόμα, πίμ...</td>\n",
       "    </tr>\n",
       "    <tr>\n",
       "      <th>166</th>\n",
       "      <td>tlg1443</td>\n",
       "      <td>Ignatius Antiochenus</td>\n",
       "      <td>7</td>\n",
       "      <td>[Ad Ephesios (epist. 1), Ad Magnesios (epist. ...</td>\n",
       "      <td>[tlg1443.tlg004.1st1K-grc1.xml, tlg1443.tlg005...</td>\n",
       "      <td>8396</td>\n",
       "      <td>3919</td>\n",
       "      <td>790</td>\n",
       "      <td>{'0.5': 0.5, '1.5': 0.5}</td>\n",
       "      <td>1.0</td>\n",
       "      <td>christian</td>\n",
       "      <td>[[ἰγνάτιος, θεόφορος, εὐλογημένῃ, μέγεθος, θεό...</td>\n",
       "      <td>[[ἰγνάτιος, θεόφορος, εὐλογημένῃ, μέγεθος, θεό...</td>\n",
       "      <td>1</td>\n",
       "      <td>0.000119</td>\n",
       "      <td>[Ἰωάν(ν)ης, πληρόω]</td>\n",
       "      <td>[(Ἰωάν(ν)ης, 0.5), (πληρόω, 0.5)]</td>\n",
       "      <td>[(Ἰωάν(ν)ης, 3.33602), (πληρόω, 2.98944)]</td>\n",
       "      <td>Ἰωάν(ν)ης, πληρόω</td>\n",
       "    </tr>\n",
       "    <tr>\n",
       "      <th>107</th>\n",
       "      <td>tlg0563</td>\n",
       "      <td>Maximus of Tyre</td>\n",
       "      <td>1</td>\n",
       "      <td>[Dialexeis]</td>\n",
       "      <td>[tlg0563.tlg001.1st1K-grc1.xml]</td>\n",
       "      <td>118960</td>\n",
       "      <td>50202</td>\n",
       "      <td>22598</td>\n",
       "      <td>{'1.5': 1}</td>\n",
       "      <td>1.5</td>\n",
       "      <td>christian</td>\n",
       "      <td>[[πᾶς, ὑπόθεσις, ἁρμόσεταιμαξίμου, φιλοσοφοὺμε...</td>\n",
       "      <td>[[πᾶς, ὑπόθεσις, ἁρμόσεταιμαξίμου, φιλοσοφοὺμε...</td>\n",
       "      <td>10</td>\n",
       "      <td>0.000084</td>\n",
       "      <td>[ἀδίκημα, θηρίον, καθαρτής, οὗτος, τύραννος, σ...</td>\n",
       "      <td>[(οὗτος, 0.08163), (τύραννος, 0.04082), (ἀδικί...</td>\n",
       "      <td>[(ἀδικία, 0.29357), (οὗτος, 0.28576), (τύραννο...</td>\n",
       "      <td>ἀδικία, οὗτος, τύραννος, ἐλευθερωτής, βεβαιωτή...</td>\n",
       "    </tr>\n",
       "    <tr>\n",
       "      <th>167</th>\n",
       "      <td>tlg1447</td>\n",
       "      <td>Irenaeus</td>\n",
       "      <td>1</td>\n",
       "      <td>[Libros quinque adversus haereses]</td>\n",
       "      <td>[tlg1447.tlg001.1st1K-grc1.xml]</td>\n",
       "      <td>24651</td>\n",
       "      <td>10517</td>\n",
       "      <td>4525</td>\n",
       "      <td>{'1.5': 1}</td>\n",
       "      <td>1.5</td>\n",
       "      <td>christian</td>\n",
       "      <td>[[ἀλήθεια, παραπεμπόμενοί, ἐπεισάγουσι, λόγος,...</td>\n",
       "      <td>[[], [ἀλήθεια, παραπεμπόμενοί], [], [], [ἐπεισ...</td>\n",
       "      <td>1</td>\n",
       "      <td>0.000041</td>\n",
       "      <td>[κᾀκεῖνον, πολύς, μέρος, ὁμολογήσαντα, ποιέω, ...</td>\n",
       "      <td>[(γίγνομαι, 0.125), (κᾀκεῖνον, 0.0625), (πολύς...</td>\n",
       "      <td>[(ὁμολογήσαντα, 0.52609), (θελήσαντα, 0.52609)...</td>\n",
       "      <td>ὁμολογήσαντα, θελήσαντα, ἡττηθέντα, κᾀκεῖνον, ...</td>\n",
       "    </tr>\n",
       "  </tbody>\n",
       "</table>\n",
       "</div>"
      ],
      "text/plain": [
       "       author_id                  author  n_titles  \\\n",
       "175      tlg1622                Polycarp         1   \n",
       "35   tlg0031paul          Paul of Tarsus         7   \n",
       "156      tlg1271         Clemens Romanus         2   \n",
       "152      tlg1216                Barnabas         1   \n",
       "164      tlg1419                  Hermas         1   \n",
       "36   tlg0031pspa      Pauline literature         6   \n",
       "37   tlg0031rest                GNT rest         6   \n",
       "158      tlg1311                 Didache         1   \n",
       "129      tlg0645         Justinus Martyr         3   \n",
       "150      tlg1205             Athenagoras         2   \n",
       "179      tlg1725  Theophilus Antiochenus         1   \n",
       "31   tlg0031matt                 Matthew         1   \n",
       "34   tlg0031john   Johnannine literature         4   \n",
       "33   tlg0031luke   Luke (the evangelist)         2   \n",
       "166      tlg1443    Ignatius Antiochenus         7   \n",
       "107      tlg0563         Maximus of Tyre         1   \n",
       "167      tlg1447                Irenaeus         1   \n",
       "\n",
       "                                                titles  \\\n",
       "175                         [Epistula ad Philippenses]   \n",
       "35   [Romans, 1 Corinthians, 2 Corinthians, Galatia...   \n",
       "156  [Epistula I ad Corinthios, Epistula II ad Cori...   \n",
       "152                          [The Epistle of Barnabas]   \n",
       "164                           [The Shepherd of Hermas]   \n",
       "36   [Ephesians, Colossians, 2 Thessalonians, 1 Tim...   \n",
       "37   [Hebrews, James, 1 Peter, 2 Peter, Jude, Revel...   \n",
       "158                          [Didache XII Apostolorum]   \n",
       "129      [Apologia, Apology II, Dialogus cum Tryphone]   \n",
       "150   [Supplication pro Christianis, De resurrectione]   \n",
       "179                                     [Ad Autolycum]   \n",
       "31                                           [Matthew]   \n",
       "34                      [John, 1 John, 2 John, 3 John]   \n",
       "33                                        [Luke, Acts]   \n",
       "166  [Ad Ephesios (epist. 1), Ad Magnesios (epist. ...   \n",
       "107                                        [Dialexeis]   \n",
       "167                 [Libros quinque adversus haereses]   \n",
       "\n",
       "                                             filenames  wordcount  \\\n",
       "175                    [tlg1622.tlg001.1st1K-grc1.xml]       1804   \n",
       "35   [tlg0031.tlg006.perseus-grc2.xml, tlg0031.tlg0...      24066   \n",
       "156  [tlg1271.tlg001.1st1K-grc1.xml, tlg1271.tlg002...      13936   \n",
       "152                  [tlg1216.tlg001.perseus-grc2.xml]       7440   \n",
       "164                    [tlg1419.tlg001.1st1K-grc1.xml]      30282   \n",
       "36   [tlg0031.tlg010.perseus-grc2.xml, tlg0031.tlg0...       8324   \n",
       "37   [tlg0031.tlg019.perseus-grc2.xml, tlg0031.tlg0...      19782   \n",
       "158                    [tlg1311.tlg001.1st1K-grc1.xml]       2377   \n",
       "129  [tlg0645.tlg001.opp-grc1.xml, tlg0645.tlg002.p...      73449   \n",
       "150  [tlg1205.tlg001.perseus-grc2.xml, tlg1205.tlg0...      20210   \n",
       "179                  [tlg1725.tlg001.perseus-grc2.xml]      21548   \n",
       "31                   [tlg0031.tlg001.perseus-grc2.xml]      18288   \n",
       "34   [tlg0031.tlg004.perseus-grc2.xml, tlg0031.tlg0...      18189   \n",
       "33   [tlg0031.tlg003.perseus-grc2.xml, tlg0031.tlg0...      37864   \n",
       "166  [tlg1443.tlg004.1st1K-grc1.xml, tlg1443.tlg005...       8396   \n",
       "107                    [tlg0563.tlg001.1st1K-grc1.xml]     118960   \n",
       "167                    [tlg1447.tlg001.1st1K-grc1.xml]      24651   \n",
       "\n",
       "     lemmata_wordcount  n_sentences                date_probs  date_avr  \\\n",
       "175                951          212  {'0.5': 0.5, '1.5': 0.5}       1.0   \n",
       "35               11089         1632                {'0.5': 1}       0.5   \n",
       "156               6290         1410                {'0.5': 1}       0.5   \n",
       "152               3450          875  {'0.5': 0.5, '1.5': 0.5}       1.0   \n",
       "164              14340         2959                {'1.5': 1}       1.5   \n",
       "36                4103          390                {'0.5': 1}       0.5   \n",
       "37                9755         1037                {'0.5': 1}       0.5   \n",
       "158               1049          284                {'1.5': 1}       1.5   \n",
       "129              34006         5829                {'1.5': 1}       1.5   \n",
       "150               9819          808                {'1.5': 1}       1.5   \n",
       "179              10945         1300                {'1.5': 1}       1.5   \n",
       "31                8526         1276                {'0.5': 1}       0.5   \n",
       "34                8142         1339                {'0.5': 1}       0.5   \n",
       "33               18113         2234                {'0.5': 1}       0.5   \n",
       "166               3919          790  {'0.5': 0.5, '1.5': 0.5}       1.0   \n",
       "107              50202        22598                {'1.5': 1}       1.5   \n",
       "167              10517         4525                {'1.5': 1}       1.5   \n",
       "\n",
       "    provenience                                      lemmata_lists  \\\n",
       "175   christian  [[πολύκαρπος, πρέσβυς, ἐκκλησία, θεός, παροικο...   \n",
       "35    christian  [[Παῦλος, δοῦλος, Ἰησοῦς, Χριστός, κλητός, ἀπό...   \n",
       "156   christian  [[ἐκκλησία, θεός, παροικοῦσα, Ῥώμη, ἐκκλησία, ...   \n",
       "152   christian  [[χαίρω, υἱός, θυγάτηρ, ὄνομα, κύριος, ἀγαπάω,...   \n",
       "164   christian  [[τρέφω, πέρνημι, ῥόδῃ, τὶς, Ῥώμη, πολύς, ἔτος...   \n",
       "36    christian  [[Παῦλος, ἀπόστολος, Χριστός, Ἰησοῦς, θέλημα, ...   \n",
       "37    christian  [[πολύτροπος, θεός, λαλέω, πατήρ, προφήτης, ἔσ...   \n",
       "158   christian  [[ὁδός, δύο, εἰμί, εἷς, ζωή, εἷς, θάνατος, δια...   \n",
       "129   christian  [[αὐτοκράτωρ, Τίτος, αἰλίῳ, ἀδριανῷ, ἀντωνίνῳ,...   \n",
       "150   christian  [[ὑμέτερος, μέγας, βασιλεύς, οἰκουμένη, ἄλλος,...   \n",
       "179   christian  [[στωμύλος, στόμα, φράσις, εὐεπής, τέρψις, παρ...   \n",
       "31    christian  [[βίβλος, γένεσις, Ἰησοῦς, Χριστός, υἱός, Δαυί...   \n",
       "34    christian  [[εἰμί, ἀρχή, εἰμί, λόγος, λόγος, εἰμί, θεός, ...   \n",
       "33    christian  [[πολύς, ἐπιχειρέω, ἀνατάσσομαι, διήγησις, πλη...   \n",
       "166   christian  [[ἰγνάτιος, θεόφορος, εὐλογημένῃ, μέγεθος, θεό...   \n",
       "107   christian  [[πᾶς, ὑπόθεσις, ἁρμόσεταιμαξίμου, φιλοσοφοὺμε...   \n",
       "167   christian  [[ἀλήθεια, παραπεμπόμενοί, ἐπεισάγουσι, λόγος,...   \n",
       "\n",
       "                                  lemmatized_sentences  dikaiosyne_N  \\\n",
       "175  [[πολύκαρπος, πρέσβυς, ἐκκλησία, θεός, παροικο...             8   \n",
       "35   [[Παῦλος, δοῦλος, Ἰησοῦς, Χριστός, κλητός, ἀπό...            49   \n",
       "156  [[ἐκκλησία, θεός, παροικοῦσα, Ῥώμη, ἐκκλησία, ...            21   \n",
       "152  [[χαίρω, υἱός, θυγάτηρ, ὄνομα, κύριος, ἀγαπάω,...             9   \n",
       "164  [[τρέφω, πέρνημι, ῥόδῃ, τὶς, Ῥώμη], [πολύς, ἔτ...            33   \n",
       "36   [[Παῦλος, ἀπόστολος, Χριστός, Ἰησοῦς, θέλημα, ...             8   \n",
       "37   [[πολύτροπος, θεός, λαλέω, πατήρ, προφήτης, ἔσ...            17   \n",
       "158  [[ὁδός, δύο, εἰμί, εἷς, ζωή, εἷς, θάνατος, δια...             2   \n",
       "129  [[αὐτοκράτωρ, Τίτος, αἰλίῳ, ἀδριανῷ, ἀντωνίνῳ,...            45   \n",
       "150  [[ὑμέτερος, μέγας, βασιλεύς, οἰκουμένη, ἄλλος,...            12   \n",
       "179  [[στωμύλος, στόμα, φράσις, εὐεπής, τέρψις, παρ...             9   \n",
       "31   [[βίβλος, γένεσις, Ἰησοῦς, Χριστός, υἱός, Δαυί...             7   \n",
       "34   [[εἰμί, ἀρχή, εἰμί, λόγος, λόγος, εἰμί, θεός, ...             5   \n",
       "33   [[πολύς, ἐπιχειρέω, ἀνατάσσομαι, διήγησις, πλη...             5   \n",
       "166  [[ἰγνάτιος, θεόφορος, εὐλογημένῃ, μέγεθος, θεό...             1   \n",
       "107  [[πᾶς, ὑπόθεσις, ἁρμόσεταιμαξίμου, φιλοσοφοὺμε...            10   \n",
       "167  [[], [ἀλήθεια, παραπεμπόμενοί], [], [], [ἐπεισ...             1   \n",
       "\n",
       "     dikaiosyne_TF                                     dik_sents_flat  \\\n",
       "175       0.004435  [μακάριος, πτωχός, διώκω, εἰμί, βασιλεία, θεάο...   \n",
       "35        0.002036  [θεός, ἀποκαλύπτω, πίστις, πίστις, γράφω, δίκα...   \n",
       "156       0.001507  [οὗτος, ἄπειμι, εἰρήνη, ἀπολιμπάνω, ἕκαστος, φ...   \n",
       "152       0.001210  [πείθω, οὗτος, σύνοιδα, λαλέω, πολύς, ἐπίσταμα...   \n",
       "164       0.001090  [λέγω, προηγουμένοις, ἐκκλησία, κατορθώσωνται,...   \n",
       "36        0.000961  [μανθάνω, χριστός, ἀκούω, διδάσκω, ἀλήθεια, Ἰη...   \n",
       "37        0.000859  [ἀγαπάω, μισέω, ἀνομία, μετέχω, γάλα, ἄπειρος,...   \n",
       "158       0.000841  [διῶκται, ἀγαθός, μισέω, ἀλήθεια, ἀγαπῶντες, ψ...   \n",
       "129       0.000613  [λέγω, εὐσεβής, φιλόσοφος, φύλαξ, ἐραστής, παι...   \n",
       "150       0.000594  [ὑμέτερος, ἄλλος, αἰτία, λαμβάνω, ἀδίκημα, πρό...   \n",
       "179       0.000418  [θάλασσα, ἔχω, ποταμός, πηγή, ἐπίῤῥυσιν, ἐπιχο...   \n",
       "31        0.000383  [ἀποκρίνω, Ἰησοῦς, λέγω, ἀφίημι, πρέπω, πληρόω...   \n",
       "34        0.000275  [ἔρχομαι, ἐκεῖνος, ἐλέγχω, κόσμος, ἁμαρτία, κρ...   \n",
       "33        0.000132  [Ζαχαρίας, πατήρ, πίμπλημι, πνεῦμα, ἅγιος, προ...   \n",
       "166       0.000119                                [Ἰωάν(ν)ης, πληρόω]   \n",
       "107       0.000084  [ἀδίκημα, θηρίον, καθαρτής, οὗτος, τύραννος, σ...   \n",
       "167       0.000041  [κᾀκεῖνον, πολύς, μέρος, ὁμολογήσαντα, ποιέω, ...   \n",
       "\n",
       "                                          dik_sents_TF  \\\n",
       "175  [(εἰμί, 0.04651), (οὗτος, 0.04651), (ἐντολή, 0...   \n",
       "35   [(θεός, 0.04675), (πίστις, 0.04156), (νόμος, 0...   \n",
       "156  [(θεός, 0.02871), (πίστις, 0.02392), (γίγνομαι...   \n",
       "152  [(ὁδός, 0.0411), (κύριος, 0.0274), (θεός, 0.02...   \n",
       "164  [(ἄγγελος, 0.03333), (ἐργάζομαι, 0.03), (εἰμί,...   \n",
       "36   [(ἀλήθεια, 0.03252), (ἄνθρωπος, 0.02439), (θεό...   \n",
       "37   [(θεός, 0.02703), (πίστις, 0.02317), (βασιλεύς...   \n",
       "158  [(κύριος, 0.14286), (διῶκται, 0.07143), (ἀγαθό...   \n",
       "129  [(θεός, 0.03846), (κρίσις, 0.01795), (λαός, 0....   \n",
       "150  [(ἄνθρωπος, 0.02888), (ἔχω, 0.02166), (ψυχή, 0...   \n",
       "179  [(θεός, 0.04762), (νόμος, 0.03175), (προφήτης,...   \n",
       "31   [(βασιλεία, 0.08333), (λέγω, 0.05556), (μακάρι...   \n",
       "34   [(δίκαιος, 0.125), (εἰμί, 0.125), (ποιέω, 0.12...   \n",
       "33   [(πᾶς, 0.04386), (ἅγιος, 0.03509), (πατήρ, 0.0...   \n",
       "166                  [(Ἰωάν(ν)ης, 0.5), (πληρόω, 0.5)]   \n",
       "107  [(οὗτος, 0.08163), (τύραννος, 0.04082), (ἀδικί...   \n",
       "167  [(γίγνομαι, 0.125), (κᾀκεῖνον, 0.0625), (πολύς...   \n",
       "\n",
       "                                       dik_sents_TFIDF  \\\n",
       "175  [(οὗτος, 0.19805), (ἐντολή, 0.18466), (πτωχός,...   \n",
       "35   [(πίστις, 0.12745), (ἁμαρτία, 0.11192), (νόμος...   \n",
       "156  [(καυχάομαι, 0.10409), (πίστις, 0.10181), (πύλ...   \n",
       "152  [(ὁδός, 0.17298), (σκότος, 0.13651), (ἀγαθός, ...   \n",
       "164  [(ἄγγελος, 0.12433), (ἐργάζομαι, 0.12302), (ἀρ...   \n",
       "36   [(ἀλήθεια, 0.0935), (διώκω, 0.07915), (ἐνδύω, ...   \n",
       "37   [(βασιλεύς, 0.07352), (πίστις, 0.0668), (δίκαι...   \n",
       "158  [(διῶκται, 0.4035), (ψεῦδος, 0.4035), (κύριος,...   \n",
       "129  [(κρίσις, 0.08306), (θεός, 0.08202), (εἰρήνη, ...   \n",
       "150  [(δίδωμι, 0.07665), (νόμος, 0.06069), (ψυχή, 0...   \n",
       "179  [(νόμος, 0.12808), (βραβεύω, 0.10281), (ἀδικία...   \n",
       "31   [(βασιλεία, 0.26354), (μακάριος, 0.25925), (πρ...   \n",
       "34   [(δίκαιος, 0.64003), (ποιέω, 0.30904), (ἐλέγχω...   \n",
       "33   [(ἐχθρός, 0.14511), (ἅγιος, 0.12101), (πᾶς, 0....   \n",
       "166          [(Ἰωάν(ν)ης, 3.33602), (πληρόω, 2.98944)]   \n",
       "107  [(ἀδικία, 0.29357), (οὗτος, 0.28576), (τύραννο...   \n",
       "167  [(ὁμολογήσαντα, 0.52609), (θελήσαντα, 0.52609)...   \n",
       "\n",
       "                                    dik_sents_TFIDF_10  \n",
       "175  οὗτος, ἐντολή, πτωχός, διώκω, θεάομαι, ἀδελφός...  \n",
       "35   πίστις, ἁμαρτία, νόμος, λογίζομαι, θεός, βασιλ...  \n",
       "156  καυχάομαι, πίστις, πύλη, θεός, δύσις, ἀγάπη, π...  \n",
       "152  ὁδός, σκότος, ἀγαθός, σύνοιδα, ἐπίσταμαι, συνώ...  \n",
       "164  ἄγγελος, ἐργάζομαι, ἀρετή, ἔργον, ἀλήθεια, πον...  \n",
       "36   ἀλήθεια, διώκω, ἐνδύω, φῶς, ἐπιθυμία, ἄνθρωπος...  \n",
       "37   βασιλεύς, πίστις, δίκαιος, Σαλήμ, βραδύς, φείδ...  \n",
       "158  διῶκται, ψεῦδος, κύριος, ἀγαπῶντες, μισθός, πρ...  \n",
       "129  κρίσις, θεός, εἰρήνη, δίδωμι, εὐσέβεια, πεπεδη...  \n",
       "150  δίδωμι, νόμος, ψυχή, ἄνθρωπος, ἔχω, ἀποχή, κρί...  \n",
       "179  νόμος, βραβεύω, ἀδικία, πράσσω, προφήτης, ἁμαρ...  \n",
       "31   βασιλεία, μακάριος, πρέπω, πεινῶντες, διψῶντες...  \n",
       "34   δίκαιος, ποιέω, ἐλέγχω, κρίσις, εἰμί, γεννάω, ...  \n",
       "33   ἐχθρός, ἅγιος, πᾶς, σωτηρία, πατήρ, στόμα, πίμ...  \n",
       "166                                  Ἰωάν(ν)ης, πληρόω  \n",
       "107  ἀδικία, οὗτος, τύραννος, ἐλευθερωτής, βεβαιωτή...  \n",
       "167  ὁμολογήσαντα, θελήσαντα, ἡττηθέντα, κᾀκεῖνον, ...  "
      ]
     },
     "execution_count": 99,
     "metadata": {},
     "output_type": "execute_result"
    }
   ],
   "source": [
    "authors_df_c_a = authors_df_c[authors_df_c[\"date_avr\"] < 2]\n",
    "authors_df_c_a"
   ]
  },
  {
   "cell_type": "code",
   "execution_count": 98,
   "metadata": {},
   "outputs": [
    {
     "data": {
      "text/plain": [
       "9"
      ]
     },
     "execution_count": 98,
     "metadata": {},
     "output_type": "execute_result"
    }
   ],
   "source": [
    "len(authors_df_c[authors_df_c[\"date_avr\"] >= 2])"
   ]
  },
  {
   "cell_type": "code",
   "execution_count": 90,
   "metadata": {},
   "outputs": [
    {
     "data": {
      "text/plain": [
       "Index(['Polycarp', 'Paul of Tarsus', 'Clemens Romanus',\n",
       "       'Pseudo-Justinus Martyr', 'Barnabas', 'Hermas', 'Pauline literature',\n",
       "       'GNT rest', 'Didache', 'Justinus Martyr', 'Athenagoras', 'Origenes',\n",
       "       'Theophilus Antiochenus', 'Matthew', 'Clement of Alexandria',\n",
       "       'Eusebius', 'Johnannine literature', 'Epiphanius',\n",
       "       'Athanasius of Alexandria', 'Luke (the evangelist)',\n",
       "       'Gregorius Nazianzenus', 'Ignatius Antiochenus', 'Basil', 'Hippolytus',\n",
       "       'Maximus of Tyre', 'Irenaeus', 'Philo Judaeus', 'Flavius Josephus'],\n",
       "      dtype='object')"
      ]
     },
     "execution_count": 90,
     "metadata": {},
     "output_type": "execute_result"
    }
   ],
   "source": [
    "tfidfs_christian.columns"
   ]
  },
  {
   "cell_type": "code",
   "execution_count": 88,
   "metadata": {},
   "outputs": [
    {
     "data": {
      "text/html": [
       "<div>\n",
       "<style scoped>\n",
       "    .dataframe tbody tr th:only-of-type {\n",
       "        vertical-align: middle;\n",
       "    }\n",
       "\n",
       "    .dataframe tbody tr th {\n",
       "        vertical-align: top;\n",
       "    }\n",
       "\n",
       "    .dataframe thead th {\n",
       "        text-align: right;\n",
       "    }\n",
       "</style>\n",
       "<table border=\"1\" class=\"dataframe\">\n",
       "  <thead>\n",
       "    <tr style=\"text-align: right;\">\n",
       "      <th></th>\n",
       "      <th>Polycarp</th>\n",
       "      <th>Paul of Tarsus</th>\n",
       "      <th>Clemens Romanus</th>\n",
       "      <th>Pseudo-Justinus Martyr</th>\n",
       "      <th>Barnabas</th>\n",
       "      <th>Hermas</th>\n",
       "      <th>Pauline literature</th>\n",
       "      <th>GNT rest</th>\n",
       "      <th>Didache</th>\n",
       "      <th>Justinus Martyr</th>\n",
       "      <th>...</th>\n",
       "      <th>Athanasius of Alexandria</th>\n",
       "      <th>Luke (the evangelist)</th>\n",
       "      <th>Gregorius Nazianzenus</th>\n",
       "      <th>Ignatius Antiochenus</th>\n",
       "      <th>Basil</th>\n",
       "      <th>Hippolytus</th>\n",
       "      <th>Maximus of Tyre</th>\n",
       "      <th>Irenaeus</th>\n",
       "      <th>Philo Judaeus</th>\n",
       "      <th>Flavius Josephus</th>\n",
       "    </tr>\n",
       "  </thead>\n",
       "  <tbody>\n",
       "    <tr>\n",
       "      <th>Polycarp</th>\n",
       "      <td>1.00</td>\n",
       "      <td>0.21</td>\n",
       "      <td>0.21</td>\n",
       "      <td>0.01</td>\n",
       "      <td>0.07</td>\n",
       "      <td>0.21</td>\n",
       "      <td>0.10</td>\n",
       "      <td>0.15</td>\n",
       "      <td>0.03</td>\n",
       "      <td>0.12</td>\n",
       "      <td>...</td>\n",
       "      <td>0.11</td>\n",
       "      <td>0.09</td>\n",
       "      <td>0.04</td>\n",
       "      <td>0.12</td>\n",
       "      <td>0.04</td>\n",
       "      <td>0.02</td>\n",
       "      <td>0.10</td>\n",
       "      <td>0.04</td>\n",
       "      <td>0.15</td>\n",
       "      <td>0.19</td>\n",
       "    </tr>\n",
       "    <tr>\n",
       "      <th>Paul of Tarsus</th>\n",
       "      <td>0.21</td>\n",
       "      <td>1.00</td>\n",
       "      <td>0.33</td>\n",
       "      <td>0.19</td>\n",
       "      <td>0.18</td>\n",
       "      <td>0.24</td>\n",
       "      <td>0.19</td>\n",
       "      <td>0.31</td>\n",
       "      <td>0.04</td>\n",
       "      <td>0.25</td>\n",
       "      <td>...</td>\n",
       "      <td>0.11</td>\n",
       "      <td>0.17</td>\n",
       "      <td>0.13</td>\n",
       "      <td>0.02</td>\n",
       "      <td>0.19</td>\n",
       "      <td>0.08</td>\n",
       "      <td>0.07</td>\n",
       "      <td>0.05</td>\n",
       "      <td>0.17</td>\n",
       "      <td>0.23</td>\n",
       "    </tr>\n",
       "    <tr>\n",
       "      <th>Clemens Romanus</th>\n",
       "      <td>0.21</td>\n",
       "      <td>0.33</td>\n",
       "      <td>1.00</td>\n",
       "      <td>0.08</td>\n",
       "      <td>0.19</td>\n",
       "      <td>0.28</td>\n",
       "      <td>0.26</td>\n",
       "      <td>0.25</td>\n",
       "      <td>0.06</td>\n",
       "      <td>0.28</td>\n",
       "      <td>...</td>\n",
       "      <td>0.14</td>\n",
       "      <td>0.22</td>\n",
       "      <td>0.18</td>\n",
       "      <td>0.00</td>\n",
       "      <td>0.17</td>\n",
       "      <td>0.07</td>\n",
       "      <td>0.06</td>\n",
       "      <td>0.10</td>\n",
       "      <td>0.22</td>\n",
       "      <td>0.19</td>\n",
       "    </tr>\n",
       "    <tr>\n",
       "      <th>Pseudo-Justinus Martyr</th>\n",
       "      <td>0.01</td>\n",
       "      <td>0.19</td>\n",
       "      <td>0.08</td>\n",
       "      <td>1.00</td>\n",
       "      <td>0.06</td>\n",
       "      <td>0.13</td>\n",
       "      <td>0.11</td>\n",
       "      <td>0.15</td>\n",
       "      <td>0.00</td>\n",
       "      <td>0.13</td>\n",
       "      <td>...</td>\n",
       "      <td>0.09</td>\n",
       "      <td>0.04</td>\n",
       "      <td>0.07</td>\n",
       "      <td>0.00</td>\n",
       "      <td>0.12</td>\n",
       "      <td>0.04</td>\n",
       "      <td>0.08</td>\n",
       "      <td>0.05</td>\n",
       "      <td>0.15</td>\n",
       "      <td>0.15</td>\n",
       "    </tr>\n",
       "    <tr>\n",
       "      <th>Barnabas</th>\n",
       "      <td>0.07</td>\n",
       "      <td>0.18</td>\n",
       "      <td>0.19</td>\n",
       "      <td>0.06</td>\n",
       "      <td>1.00</td>\n",
       "      <td>0.19</td>\n",
       "      <td>0.15</td>\n",
       "      <td>0.16</td>\n",
       "      <td>0.36</td>\n",
       "      <td>0.49</td>\n",
       "      <td>...</td>\n",
       "      <td>0.17</td>\n",
       "      <td>0.16</td>\n",
       "      <td>0.08</td>\n",
       "      <td>0.00</td>\n",
       "      <td>0.08</td>\n",
       "      <td>0.02</td>\n",
       "      <td>0.06</td>\n",
       "      <td>0.07</td>\n",
       "      <td>0.16</td>\n",
       "      <td>0.19</td>\n",
       "    </tr>\n",
       "    <tr>\n",
       "      <th>Hermas</th>\n",
       "      <td>0.21</td>\n",
       "      <td>0.24</td>\n",
       "      <td>0.28</td>\n",
       "      <td>0.13</td>\n",
       "      <td>0.19</td>\n",
       "      <td>1.00</td>\n",
       "      <td>0.24</td>\n",
       "      <td>0.25</td>\n",
       "      <td>0.14</td>\n",
       "      <td>0.23</td>\n",
       "      <td>...</td>\n",
       "      <td>0.18</td>\n",
       "      <td>0.20</td>\n",
       "      <td>0.07</td>\n",
       "      <td>0.00</td>\n",
       "      <td>0.19</td>\n",
       "      <td>0.09</td>\n",
       "      <td>0.09</td>\n",
       "      <td>0.13</td>\n",
       "      <td>0.29</td>\n",
       "      <td>0.28</td>\n",
       "    </tr>\n",
       "    <tr>\n",
       "      <th>Pauline literature</th>\n",
       "      <td>0.10</td>\n",
       "      <td>0.19</td>\n",
       "      <td>0.26</td>\n",
       "      <td>0.11</td>\n",
       "      <td>0.15</td>\n",
       "      <td>0.24</td>\n",
       "      <td>1.00</td>\n",
       "      <td>0.21</td>\n",
       "      <td>0.11</td>\n",
       "      <td>0.22</td>\n",
       "      <td>...</td>\n",
       "      <td>0.22</td>\n",
       "      <td>0.14</td>\n",
       "      <td>0.14</td>\n",
       "      <td>0.00</td>\n",
       "      <td>0.16</td>\n",
       "      <td>0.04</td>\n",
       "      <td>0.02</td>\n",
       "      <td>0.03</td>\n",
       "      <td>0.16</td>\n",
       "      <td>0.15</td>\n",
       "    </tr>\n",
       "    <tr>\n",
       "      <th>GNT rest</th>\n",
       "      <td>0.15</td>\n",
       "      <td>0.31</td>\n",
       "      <td>0.25</td>\n",
       "      <td>0.15</td>\n",
       "      <td>0.16</td>\n",
       "      <td>0.25</td>\n",
       "      <td>0.21</td>\n",
       "      <td>1.00</td>\n",
       "      <td>0.02</td>\n",
       "      <td>0.28</td>\n",
       "      <td>...</td>\n",
       "      <td>0.13</td>\n",
       "      <td>0.19</td>\n",
       "      <td>0.21</td>\n",
       "      <td>0.05</td>\n",
       "      <td>0.13</td>\n",
       "      <td>0.04</td>\n",
       "      <td>0.03</td>\n",
       "      <td>0.03</td>\n",
       "      <td>0.16</td>\n",
       "      <td>0.17</td>\n",
       "    </tr>\n",
       "    <tr>\n",
       "      <th>Didache</th>\n",
       "      <td>0.03</td>\n",
       "      <td>0.04</td>\n",
       "      <td>0.06</td>\n",
       "      <td>0.00</td>\n",
       "      <td>0.36</td>\n",
       "      <td>0.14</td>\n",
       "      <td>0.11</td>\n",
       "      <td>0.02</td>\n",
       "      <td>1.00</td>\n",
       "      <td>0.10</td>\n",
       "      <td>...</td>\n",
       "      <td>0.22</td>\n",
       "      <td>0.08</td>\n",
       "      <td>0.00</td>\n",
       "      <td>0.00</td>\n",
       "      <td>0.06</td>\n",
       "      <td>0.00</td>\n",
       "      <td>0.00</td>\n",
       "      <td>0.00</td>\n",
       "      <td>0.07</td>\n",
       "      <td>0.06</td>\n",
       "    </tr>\n",
       "    <tr>\n",
       "      <th>Justinus Martyr</th>\n",
       "      <td>0.12</td>\n",
       "      <td>0.25</td>\n",
       "      <td>0.28</td>\n",
       "      <td>0.13</td>\n",
       "      <td>0.49</td>\n",
       "      <td>0.23</td>\n",
       "      <td>0.22</td>\n",
       "      <td>0.28</td>\n",
       "      <td>0.10</td>\n",
       "      <td>1.00</td>\n",
       "      <td>...</td>\n",
       "      <td>0.24</td>\n",
       "      <td>0.23</td>\n",
       "      <td>0.16</td>\n",
       "      <td>0.03</td>\n",
       "      <td>0.21</td>\n",
       "      <td>0.09</td>\n",
       "      <td>0.08</td>\n",
       "      <td>0.08</td>\n",
       "      <td>0.30</td>\n",
       "      <td>0.35</td>\n",
       "    </tr>\n",
       "    <tr>\n",
       "      <th>Athenagoras</th>\n",
       "      <td>0.12</td>\n",
       "      <td>0.16</td>\n",
       "      <td>0.15</td>\n",
       "      <td>0.06</td>\n",
       "      <td>0.19</td>\n",
       "      <td>0.22</td>\n",
       "      <td>0.09</td>\n",
       "      <td>0.13</td>\n",
       "      <td>0.05</td>\n",
       "      <td>0.25</td>\n",
       "      <td>...</td>\n",
       "      <td>0.11</td>\n",
       "      <td>0.10</td>\n",
       "      <td>0.12</td>\n",
       "      <td>0.00</td>\n",
       "      <td>0.13</td>\n",
       "      <td>0.10</td>\n",
       "      <td>0.11</td>\n",
       "      <td>0.07</td>\n",
       "      <td>0.35</td>\n",
       "      <td>0.32</td>\n",
       "    </tr>\n",
       "    <tr>\n",
       "      <th>Origenes</th>\n",
       "      <td>0.24</td>\n",
       "      <td>0.44</td>\n",
       "      <td>0.41</td>\n",
       "      <td>0.24</td>\n",
       "      <td>0.29</td>\n",
       "      <td>0.44</td>\n",
       "      <td>0.30</td>\n",
       "      <td>0.38</td>\n",
       "      <td>0.20</td>\n",
       "      <td>0.47</td>\n",
       "      <td>...</td>\n",
       "      <td>0.37</td>\n",
       "      <td>0.29</td>\n",
       "      <td>0.23</td>\n",
       "      <td>0.02</td>\n",
       "      <td>0.43</td>\n",
       "      <td>0.22</td>\n",
       "      <td>0.11</td>\n",
       "      <td>0.13</td>\n",
       "      <td>0.49</td>\n",
       "      <td>0.44</td>\n",
       "    </tr>\n",
       "    <tr>\n",
       "      <th>Theophilus Antiochenus</th>\n",
       "      <td>0.12</td>\n",
       "      <td>0.30</td>\n",
       "      <td>0.22</td>\n",
       "      <td>0.11</td>\n",
       "      <td>0.15</td>\n",
       "      <td>0.20</td>\n",
       "      <td>0.13</td>\n",
       "      <td>0.17</td>\n",
       "      <td>0.05</td>\n",
       "      <td>0.22</td>\n",
       "      <td>...</td>\n",
       "      <td>0.13</td>\n",
       "      <td>0.14</td>\n",
       "      <td>0.18</td>\n",
       "      <td>0.00</td>\n",
       "      <td>0.21</td>\n",
       "      <td>0.13</td>\n",
       "      <td>0.11</td>\n",
       "      <td>0.02</td>\n",
       "      <td>0.20</td>\n",
       "      <td>0.24</td>\n",
       "    </tr>\n",
       "    <tr>\n",
       "      <th>Matthew</th>\n",
       "      <td>0.21</td>\n",
       "      <td>0.15</td>\n",
       "      <td>0.13</td>\n",
       "      <td>0.03</td>\n",
       "      <td>0.08</td>\n",
       "      <td>0.12</td>\n",
       "      <td>0.03</td>\n",
       "      <td>0.10</td>\n",
       "      <td>0.09</td>\n",
       "      <td>0.12</td>\n",
       "      <td>...</td>\n",
       "      <td>0.06</td>\n",
       "      <td>0.06</td>\n",
       "      <td>0.02</td>\n",
       "      <td>0.10</td>\n",
       "      <td>0.06</td>\n",
       "      <td>0.02</td>\n",
       "      <td>0.00</td>\n",
       "      <td>0.04</td>\n",
       "      <td>0.06</td>\n",
       "      <td>0.09</td>\n",
       "    </tr>\n",
       "    <tr>\n",
       "      <th>Clement of Alexandria</th>\n",
       "      <td>0.25</td>\n",
       "      <td>0.34</td>\n",
       "      <td>0.32</td>\n",
       "      <td>0.11</td>\n",
       "      <td>0.32</td>\n",
       "      <td>0.36</td>\n",
       "      <td>0.29</td>\n",
       "      <td>0.25</td>\n",
       "      <td>0.17</td>\n",
       "      <td>0.39</td>\n",
       "      <td>...</td>\n",
       "      <td>0.26</td>\n",
       "      <td>0.26</td>\n",
       "      <td>0.15</td>\n",
       "      <td>0.02</td>\n",
       "      <td>0.27</td>\n",
       "      <td>0.20</td>\n",
       "      <td>0.13</td>\n",
       "      <td>0.12</td>\n",
       "      <td>0.46</td>\n",
       "      <td>0.40</td>\n",
       "    </tr>\n",
       "    <tr>\n",
       "      <th>Eusebius</th>\n",
       "      <td>0.20</td>\n",
       "      <td>0.37</td>\n",
       "      <td>0.33</td>\n",
       "      <td>0.18</td>\n",
       "      <td>0.31</td>\n",
       "      <td>0.35</td>\n",
       "      <td>0.26</td>\n",
       "      <td>0.32</td>\n",
       "      <td>0.15</td>\n",
       "      <td>0.51</td>\n",
       "      <td>...</td>\n",
       "      <td>0.37</td>\n",
       "      <td>0.32</td>\n",
       "      <td>0.22</td>\n",
       "      <td>0.00</td>\n",
       "      <td>0.33</td>\n",
       "      <td>0.21</td>\n",
       "      <td>0.15</td>\n",
       "      <td>0.11</td>\n",
       "      <td>0.52</td>\n",
       "      <td>0.53</td>\n",
       "    </tr>\n",
       "    <tr>\n",
       "      <th>Johnannine literature</th>\n",
       "      <td>0.11</td>\n",
       "      <td>0.17</td>\n",
       "      <td>0.11</td>\n",
       "      <td>0.23</td>\n",
       "      <td>0.08</td>\n",
       "      <td>0.13</td>\n",
       "      <td>0.11</td>\n",
       "      <td>0.24</td>\n",
       "      <td>0.03</td>\n",
       "      <td>0.18</td>\n",
       "      <td>...</td>\n",
       "      <td>0.18</td>\n",
       "      <td>0.07</td>\n",
       "      <td>0.04</td>\n",
       "      <td>0.00</td>\n",
       "      <td>0.17</td>\n",
       "      <td>0.06</td>\n",
       "      <td>0.00</td>\n",
       "      <td>0.07</td>\n",
       "      <td>0.14</td>\n",
       "      <td>0.16</td>\n",
       "    </tr>\n",
       "    <tr>\n",
       "      <th>Epiphanius</th>\n",
       "      <td>0.16</td>\n",
       "      <td>0.48</td>\n",
       "      <td>0.28</td>\n",
       "      <td>0.16</td>\n",
       "      <td>0.22</td>\n",
       "      <td>0.32</td>\n",
       "      <td>0.24</td>\n",
       "      <td>0.24</td>\n",
       "      <td>0.09</td>\n",
       "      <td>0.25</td>\n",
       "      <td>...</td>\n",
       "      <td>0.19</td>\n",
       "      <td>0.19</td>\n",
       "      <td>0.14</td>\n",
       "      <td>0.06</td>\n",
       "      <td>0.20</td>\n",
       "      <td>0.12</td>\n",
       "      <td>0.15</td>\n",
       "      <td>0.17</td>\n",
       "      <td>0.34</td>\n",
       "      <td>0.33</td>\n",
       "    </tr>\n",
       "    <tr>\n",
       "      <th>Athanasius of Alexandria</th>\n",
       "      <td>0.11</td>\n",
       "      <td>0.11</td>\n",
       "      <td>0.14</td>\n",
       "      <td>0.09</td>\n",
       "      <td>0.17</td>\n",
       "      <td>0.18</td>\n",
       "      <td>0.22</td>\n",
       "      <td>0.13</td>\n",
       "      <td>0.22</td>\n",
       "      <td>0.24</td>\n",
       "      <td>...</td>\n",
       "      <td>1.00</td>\n",
       "      <td>0.14</td>\n",
       "      <td>0.08</td>\n",
       "      <td>0.00</td>\n",
       "      <td>0.11</td>\n",
       "      <td>0.06</td>\n",
       "      <td>0.12</td>\n",
       "      <td>0.02</td>\n",
       "      <td>0.25</td>\n",
       "      <td>0.23</td>\n",
       "    </tr>\n",
       "    <tr>\n",
       "      <th>Luke (the evangelist)</th>\n",
       "      <td>0.09</td>\n",
       "      <td>0.17</td>\n",
       "      <td>0.22</td>\n",
       "      <td>0.04</td>\n",
       "      <td>0.16</td>\n",
       "      <td>0.20</td>\n",
       "      <td>0.14</td>\n",
       "      <td>0.19</td>\n",
       "      <td>0.08</td>\n",
       "      <td>0.23</td>\n",
       "      <td>...</td>\n",
       "      <td>0.14</td>\n",
       "      <td>1.00</td>\n",
       "      <td>0.04</td>\n",
       "      <td>0.00</td>\n",
       "      <td>0.15</td>\n",
       "      <td>0.05</td>\n",
       "      <td>0.00</td>\n",
       "      <td>0.03</td>\n",
       "      <td>0.15</td>\n",
       "      <td>0.15</td>\n",
       "    </tr>\n",
       "    <tr>\n",
       "      <th>Gregorius Nazianzenus</th>\n",
       "      <td>0.04</td>\n",
       "      <td>0.13</td>\n",
       "      <td>0.18</td>\n",
       "      <td>0.07</td>\n",
       "      <td>0.08</td>\n",
       "      <td>0.07</td>\n",
       "      <td>0.14</td>\n",
       "      <td>0.21</td>\n",
       "      <td>0.00</td>\n",
       "      <td>0.16</td>\n",
       "      <td>...</td>\n",
       "      <td>0.08</td>\n",
       "      <td>0.04</td>\n",
       "      <td>1.00</td>\n",
       "      <td>0.00</td>\n",
       "      <td>0.08</td>\n",
       "      <td>0.03</td>\n",
       "      <td>0.07</td>\n",
       "      <td>0.02</td>\n",
       "      <td>0.13</td>\n",
       "      <td>0.15</td>\n",
       "    </tr>\n",
       "    <tr>\n",
       "      <th>Ignatius Antiochenus</th>\n",
       "      <td>0.12</td>\n",
       "      <td>0.02</td>\n",
       "      <td>0.00</td>\n",
       "      <td>0.00</td>\n",
       "      <td>0.00</td>\n",
       "      <td>0.00</td>\n",
       "      <td>0.00</td>\n",
       "      <td>0.05</td>\n",
       "      <td>0.00</td>\n",
       "      <td>0.03</td>\n",
       "      <td>...</td>\n",
       "      <td>0.00</td>\n",
       "      <td>0.00</td>\n",
       "      <td>0.00</td>\n",
       "      <td>1.00</td>\n",
       "      <td>0.00</td>\n",
       "      <td>0.00</td>\n",
       "      <td>0.00</td>\n",
       "      <td>0.00</td>\n",
       "      <td>0.01</td>\n",
       "      <td>0.00</td>\n",
       "    </tr>\n",
       "    <tr>\n",
       "      <th>Basil</th>\n",
       "      <td>0.04</td>\n",
       "      <td>0.19</td>\n",
       "      <td>0.17</td>\n",
       "      <td>0.12</td>\n",
       "      <td>0.08</td>\n",
       "      <td>0.19</td>\n",
       "      <td>0.16</td>\n",
       "      <td>0.13</td>\n",
       "      <td>0.06</td>\n",
       "      <td>0.21</td>\n",
       "      <td>...</td>\n",
       "      <td>0.11</td>\n",
       "      <td>0.15</td>\n",
       "      <td>0.08</td>\n",
       "      <td>0.00</td>\n",
       "      <td>1.00</td>\n",
       "      <td>0.11</td>\n",
       "      <td>0.03</td>\n",
       "      <td>0.04</td>\n",
       "      <td>0.24</td>\n",
       "      <td>0.22</td>\n",
       "    </tr>\n",
       "    <tr>\n",
       "      <th>Hippolytus</th>\n",
       "      <td>0.02</td>\n",
       "      <td>0.08</td>\n",
       "      <td>0.07</td>\n",
       "      <td>0.04</td>\n",
       "      <td>0.02</td>\n",
       "      <td>0.09</td>\n",
       "      <td>0.04</td>\n",
       "      <td>0.04</td>\n",
       "      <td>0.00</td>\n",
       "      <td>0.09</td>\n",
       "      <td>...</td>\n",
       "      <td>0.06</td>\n",
       "      <td>0.05</td>\n",
       "      <td>0.03</td>\n",
       "      <td>0.00</td>\n",
       "      <td>0.11</td>\n",
       "      <td>1.00</td>\n",
       "      <td>0.06</td>\n",
       "      <td>0.03</td>\n",
       "      <td>0.41</td>\n",
       "      <td>0.17</td>\n",
       "    </tr>\n",
       "    <tr>\n",
       "      <th>Maximus of Tyre</th>\n",
       "      <td>0.10</td>\n",
       "      <td>0.07</td>\n",
       "      <td>0.06</td>\n",
       "      <td>0.08</td>\n",
       "      <td>0.06</td>\n",
       "      <td>0.09</td>\n",
       "      <td>0.02</td>\n",
       "      <td>0.03</td>\n",
       "      <td>0.00</td>\n",
       "      <td>0.08</td>\n",
       "      <td>...</td>\n",
       "      <td>0.12</td>\n",
       "      <td>0.00</td>\n",
       "      <td>0.07</td>\n",
       "      <td>0.00</td>\n",
       "      <td>0.03</td>\n",
       "      <td>0.06</td>\n",
       "      <td>1.00</td>\n",
       "      <td>0.07</td>\n",
       "      <td>0.15</td>\n",
       "      <td>0.10</td>\n",
       "    </tr>\n",
       "    <tr>\n",
       "      <th>Irenaeus</th>\n",
       "      <td>0.04</td>\n",
       "      <td>0.05</td>\n",
       "      <td>0.10</td>\n",
       "      <td>0.05</td>\n",
       "      <td>0.07</td>\n",
       "      <td>0.13</td>\n",
       "      <td>0.03</td>\n",
       "      <td>0.03</td>\n",
       "      <td>0.00</td>\n",
       "      <td>0.08</td>\n",
       "      <td>...</td>\n",
       "      <td>0.02</td>\n",
       "      <td>0.03</td>\n",
       "      <td>0.02</td>\n",
       "      <td>0.00</td>\n",
       "      <td>0.04</td>\n",
       "      <td>0.03</td>\n",
       "      <td>0.07</td>\n",
       "      <td>1.00</td>\n",
       "      <td>0.10</td>\n",
       "      <td>0.13</td>\n",
       "    </tr>\n",
       "    <tr>\n",
       "      <th>Philo Judaeus</th>\n",
       "      <td>0.15</td>\n",
       "      <td>0.17</td>\n",
       "      <td>0.22</td>\n",
       "      <td>0.15</td>\n",
       "      <td>0.16</td>\n",
       "      <td>0.29</td>\n",
       "      <td>0.16</td>\n",
       "      <td>0.16</td>\n",
       "      <td>0.07</td>\n",
       "      <td>0.30</td>\n",
       "      <td>...</td>\n",
       "      <td>0.25</td>\n",
       "      <td>0.15</td>\n",
       "      <td>0.13</td>\n",
       "      <td>0.01</td>\n",
       "      <td>0.24</td>\n",
       "      <td>0.41</td>\n",
       "      <td>0.15</td>\n",
       "      <td>0.10</td>\n",
       "      <td>1.00</td>\n",
       "      <td>0.43</td>\n",
       "    </tr>\n",
       "    <tr>\n",
       "      <th>Flavius Josephus</th>\n",
       "      <td>0.19</td>\n",
       "      <td>0.23</td>\n",
       "      <td>0.19</td>\n",
       "      <td>0.15</td>\n",
       "      <td>0.19</td>\n",
       "      <td>0.28</td>\n",
       "      <td>0.15</td>\n",
       "      <td>0.17</td>\n",
       "      <td>0.06</td>\n",
       "      <td>0.35</td>\n",
       "      <td>...</td>\n",
       "      <td>0.23</td>\n",
       "      <td>0.15</td>\n",
       "      <td>0.15</td>\n",
       "      <td>0.00</td>\n",
       "      <td>0.22</td>\n",
       "      <td>0.17</td>\n",
       "      <td>0.10</td>\n",
       "      <td>0.13</td>\n",
       "      <td>0.43</td>\n",
       "      <td>1.00</td>\n",
       "    </tr>\n",
       "  </tbody>\n",
       "</table>\n",
       "<p>28 rows × 28 columns</p>\n",
       "</div>"
      ],
      "text/plain": [
       "                          Polycarp  Paul of Tarsus  Clemens Romanus  \\\n",
       "Polycarp                      1.00            0.21             0.21   \n",
       "Paul of Tarsus                0.21            1.00             0.33   \n",
       "Clemens Romanus               0.21            0.33             1.00   \n",
       "Pseudo-Justinus Martyr        0.01            0.19             0.08   \n",
       "Barnabas                      0.07            0.18             0.19   \n",
       "Hermas                        0.21            0.24             0.28   \n",
       "Pauline literature            0.10            0.19             0.26   \n",
       "GNT rest                      0.15            0.31             0.25   \n",
       "Didache                       0.03            0.04             0.06   \n",
       "Justinus Martyr               0.12            0.25             0.28   \n",
       "Athenagoras                   0.12            0.16             0.15   \n",
       "Origenes                      0.24            0.44             0.41   \n",
       "Theophilus Antiochenus        0.12            0.30             0.22   \n",
       "Matthew                       0.21            0.15             0.13   \n",
       "Clement of Alexandria         0.25            0.34             0.32   \n",
       "Eusebius                      0.20            0.37             0.33   \n",
       "Johnannine literature         0.11            0.17             0.11   \n",
       "Epiphanius                    0.16            0.48             0.28   \n",
       "Athanasius of Alexandria      0.11            0.11             0.14   \n",
       "Luke (the evangelist)         0.09            0.17             0.22   \n",
       "Gregorius Nazianzenus         0.04            0.13             0.18   \n",
       "Ignatius Antiochenus          0.12            0.02             0.00   \n",
       "Basil                         0.04            0.19             0.17   \n",
       "Hippolytus                    0.02            0.08             0.07   \n",
       "Maximus of Tyre               0.10            0.07             0.06   \n",
       "Irenaeus                      0.04            0.05             0.10   \n",
       "Philo Judaeus                 0.15            0.17             0.22   \n",
       "Flavius Josephus              0.19            0.23             0.19   \n",
       "\n",
       "                          Pseudo-Justinus Martyr  Barnabas  Hermas  \\\n",
       "Polycarp                                    0.01      0.07    0.21   \n",
       "Paul of Tarsus                              0.19      0.18    0.24   \n",
       "Clemens Romanus                             0.08      0.19    0.28   \n",
       "Pseudo-Justinus Martyr                      1.00      0.06    0.13   \n",
       "Barnabas                                    0.06      1.00    0.19   \n",
       "Hermas                                      0.13      0.19    1.00   \n",
       "Pauline literature                          0.11      0.15    0.24   \n",
       "GNT rest                                    0.15      0.16    0.25   \n",
       "Didache                                     0.00      0.36    0.14   \n",
       "Justinus Martyr                             0.13      0.49    0.23   \n",
       "Athenagoras                                 0.06      0.19    0.22   \n",
       "Origenes                                    0.24      0.29    0.44   \n",
       "Theophilus Antiochenus                      0.11      0.15    0.20   \n",
       "Matthew                                     0.03      0.08    0.12   \n",
       "Clement of Alexandria                       0.11      0.32    0.36   \n",
       "Eusebius                                    0.18      0.31    0.35   \n",
       "Johnannine literature                       0.23      0.08    0.13   \n",
       "Epiphanius                                  0.16      0.22    0.32   \n",
       "Athanasius of Alexandria                    0.09      0.17    0.18   \n",
       "Luke (the evangelist)                       0.04      0.16    0.20   \n",
       "Gregorius Nazianzenus                       0.07      0.08    0.07   \n",
       "Ignatius Antiochenus                        0.00      0.00    0.00   \n",
       "Basil                                       0.12      0.08    0.19   \n",
       "Hippolytus                                  0.04      0.02    0.09   \n",
       "Maximus of Tyre                             0.08      0.06    0.09   \n",
       "Irenaeus                                    0.05      0.07    0.13   \n",
       "Philo Judaeus                               0.15      0.16    0.29   \n",
       "Flavius Josephus                            0.15      0.19    0.28   \n",
       "\n",
       "                          Pauline literature  GNT rest  Didache  \\\n",
       "Polycarp                                0.10      0.15     0.03   \n",
       "Paul of Tarsus                          0.19      0.31     0.04   \n",
       "Clemens Romanus                         0.26      0.25     0.06   \n",
       "Pseudo-Justinus Martyr                  0.11      0.15     0.00   \n",
       "Barnabas                                0.15      0.16     0.36   \n",
       "Hermas                                  0.24      0.25     0.14   \n",
       "Pauline literature                      1.00      0.21     0.11   \n",
       "GNT rest                                0.21      1.00     0.02   \n",
       "Didache                                 0.11      0.02     1.00   \n",
       "Justinus Martyr                         0.22      0.28     0.10   \n",
       "Athenagoras                             0.09      0.13     0.05   \n",
       "Origenes                                0.30      0.38     0.20   \n",
       "Theophilus Antiochenus                  0.13      0.17     0.05   \n",
       "Matthew                                 0.03      0.10     0.09   \n",
       "Clement of Alexandria                   0.29      0.25     0.17   \n",
       "Eusebius                                0.26      0.32     0.15   \n",
       "Johnannine literature                   0.11      0.24     0.03   \n",
       "Epiphanius                              0.24      0.24     0.09   \n",
       "Athanasius of Alexandria                0.22      0.13     0.22   \n",
       "Luke (the evangelist)                   0.14      0.19     0.08   \n",
       "Gregorius Nazianzenus                   0.14      0.21     0.00   \n",
       "Ignatius Antiochenus                    0.00      0.05     0.00   \n",
       "Basil                                   0.16      0.13     0.06   \n",
       "Hippolytus                              0.04      0.04     0.00   \n",
       "Maximus of Tyre                         0.02      0.03     0.00   \n",
       "Irenaeus                                0.03      0.03     0.00   \n",
       "Philo Judaeus                           0.16      0.16     0.07   \n",
       "Flavius Josephus                        0.15      0.17     0.06   \n",
       "\n",
       "                          Justinus Martyr  ...  Athanasius of Alexandria  \\\n",
       "Polycarp                             0.12  ...                      0.11   \n",
       "Paul of Tarsus                       0.25  ...                      0.11   \n",
       "Clemens Romanus                      0.28  ...                      0.14   \n",
       "Pseudo-Justinus Martyr               0.13  ...                      0.09   \n",
       "Barnabas                             0.49  ...                      0.17   \n",
       "Hermas                               0.23  ...                      0.18   \n",
       "Pauline literature                   0.22  ...                      0.22   \n",
       "GNT rest                             0.28  ...                      0.13   \n",
       "Didache                              0.10  ...                      0.22   \n",
       "Justinus Martyr                      1.00  ...                      0.24   \n",
       "Athenagoras                          0.25  ...                      0.11   \n",
       "Origenes                             0.47  ...                      0.37   \n",
       "Theophilus Antiochenus               0.22  ...                      0.13   \n",
       "Matthew                              0.12  ...                      0.06   \n",
       "Clement of Alexandria                0.39  ...                      0.26   \n",
       "Eusebius                             0.51  ...                      0.37   \n",
       "Johnannine literature                0.18  ...                      0.18   \n",
       "Epiphanius                           0.25  ...                      0.19   \n",
       "Athanasius of Alexandria             0.24  ...                      1.00   \n",
       "Luke (the evangelist)                0.23  ...                      0.14   \n",
       "Gregorius Nazianzenus                0.16  ...                      0.08   \n",
       "Ignatius Antiochenus                 0.03  ...                      0.00   \n",
       "Basil                                0.21  ...                      0.11   \n",
       "Hippolytus                           0.09  ...                      0.06   \n",
       "Maximus of Tyre                      0.08  ...                      0.12   \n",
       "Irenaeus                             0.08  ...                      0.02   \n",
       "Philo Judaeus                        0.30  ...                      0.25   \n",
       "Flavius Josephus                     0.35  ...                      0.23   \n",
       "\n",
       "                          Luke (the evangelist)  Gregorius Nazianzenus  \\\n",
       "Polycarp                                   0.09                   0.04   \n",
       "Paul of Tarsus                             0.17                   0.13   \n",
       "Clemens Romanus                            0.22                   0.18   \n",
       "Pseudo-Justinus Martyr                     0.04                   0.07   \n",
       "Barnabas                                   0.16                   0.08   \n",
       "Hermas                                     0.20                   0.07   \n",
       "Pauline literature                         0.14                   0.14   \n",
       "GNT rest                                   0.19                   0.21   \n",
       "Didache                                    0.08                   0.00   \n",
       "Justinus Martyr                            0.23                   0.16   \n",
       "Athenagoras                                0.10                   0.12   \n",
       "Origenes                                   0.29                   0.23   \n",
       "Theophilus Antiochenus                     0.14                   0.18   \n",
       "Matthew                                    0.06                   0.02   \n",
       "Clement of Alexandria                      0.26                   0.15   \n",
       "Eusebius                                   0.32                   0.22   \n",
       "Johnannine literature                      0.07                   0.04   \n",
       "Epiphanius                                 0.19                   0.14   \n",
       "Athanasius of Alexandria                   0.14                   0.08   \n",
       "Luke (the evangelist)                      1.00                   0.04   \n",
       "Gregorius Nazianzenus                      0.04                   1.00   \n",
       "Ignatius Antiochenus                       0.00                   0.00   \n",
       "Basil                                      0.15                   0.08   \n",
       "Hippolytus                                 0.05                   0.03   \n",
       "Maximus of Tyre                            0.00                   0.07   \n",
       "Irenaeus                                   0.03                   0.02   \n",
       "Philo Judaeus                              0.15                   0.13   \n",
       "Flavius Josephus                           0.15                   0.15   \n",
       "\n",
       "                          Ignatius Antiochenus  Basil  Hippolytus  \\\n",
       "Polycarp                                  0.12   0.04        0.02   \n",
       "Paul of Tarsus                            0.02   0.19        0.08   \n",
       "Clemens Romanus                           0.00   0.17        0.07   \n",
       "Pseudo-Justinus Martyr                    0.00   0.12        0.04   \n",
       "Barnabas                                  0.00   0.08        0.02   \n",
       "Hermas                                    0.00   0.19        0.09   \n",
       "Pauline literature                        0.00   0.16        0.04   \n",
       "GNT rest                                  0.05   0.13        0.04   \n",
       "Didache                                   0.00   0.06        0.00   \n",
       "Justinus Martyr                           0.03   0.21        0.09   \n",
       "Athenagoras                               0.00   0.13        0.10   \n",
       "Origenes                                  0.02   0.43        0.22   \n",
       "Theophilus Antiochenus                    0.00   0.21        0.13   \n",
       "Matthew                                   0.10   0.06        0.02   \n",
       "Clement of Alexandria                     0.02   0.27        0.20   \n",
       "Eusebius                                  0.00   0.33        0.21   \n",
       "Johnannine literature                     0.00   0.17        0.06   \n",
       "Epiphanius                                0.06   0.20        0.12   \n",
       "Athanasius of Alexandria                  0.00   0.11        0.06   \n",
       "Luke (the evangelist)                     0.00   0.15        0.05   \n",
       "Gregorius Nazianzenus                     0.00   0.08        0.03   \n",
       "Ignatius Antiochenus                      1.00   0.00        0.00   \n",
       "Basil                                     0.00   1.00        0.11   \n",
       "Hippolytus                                0.00   0.11        1.00   \n",
       "Maximus of Tyre                           0.00   0.03        0.06   \n",
       "Irenaeus                                  0.00   0.04        0.03   \n",
       "Philo Judaeus                             0.01   0.24        0.41   \n",
       "Flavius Josephus                          0.00   0.22        0.17   \n",
       "\n",
       "                          Maximus of Tyre  Irenaeus  Philo Judaeus  \\\n",
       "Polycarp                             0.10      0.04           0.15   \n",
       "Paul of Tarsus                       0.07      0.05           0.17   \n",
       "Clemens Romanus                      0.06      0.10           0.22   \n",
       "Pseudo-Justinus Martyr               0.08      0.05           0.15   \n",
       "Barnabas                             0.06      0.07           0.16   \n",
       "Hermas                               0.09      0.13           0.29   \n",
       "Pauline literature                   0.02      0.03           0.16   \n",
       "GNT rest                             0.03      0.03           0.16   \n",
       "Didache                              0.00      0.00           0.07   \n",
       "Justinus Martyr                      0.08      0.08           0.30   \n",
       "Athenagoras                          0.11      0.07           0.35   \n",
       "Origenes                             0.11      0.13           0.49   \n",
       "Theophilus Antiochenus               0.11      0.02           0.20   \n",
       "Matthew                              0.00      0.04           0.06   \n",
       "Clement of Alexandria                0.13      0.12           0.46   \n",
       "Eusebius                             0.15      0.11           0.52   \n",
       "Johnannine literature                0.00      0.07           0.14   \n",
       "Epiphanius                           0.15      0.17           0.34   \n",
       "Athanasius of Alexandria             0.12      0.02           0.25   \n",
       "Luke (the evangelist)                0.00      0.03           0.15   \n",
       "Gregorius Nazianzenus                0.07      0.02           0.13   \n",
       "Ignatius Antiochenus                 0.00      0.00           0.01   \n",
       "Basil                                0.03      0.04           0.24   \n",
       "Hippolytus                           0.06      0.03           0.41   \n",
       "Maximus of Tyre                      1.00      0.07           0.15   \n",
       "Irenaeus                             0.07      1.00           0.10   \n",
       "Philo Judaeus                        0.15      0.10           1.00   \n",
       "Flavius Josephus                     0.10      0.13           0.43   \n",
       "\n",
       "                          Flavius Josephus  \n",
       "Polycarp                              0.19  \n",
       "Paul of Tarsus                        0.23  \n",
       "Clemens Romanus                       0.19  \n",
       "Pseudo-Justinus Martyr                0.15  \n",
       "Barnabas                              0.19  \n",
       "Hermas                                0.28  \n",
       "Pauline literature                    0.15  \n",
       "GNT rest                              0.17  \n",
       "Didache                               0.06  \n",
       "Justinus Martyr                       0.35  \n",
       "Athenagoras                           0.32  \n",
       "Origenes                              0.44  \n",
       "Theophilus Antiochenus                0.24  \n",
       "Matthew                               0.09  \n",
       "Clement of Alexandria                 0.40  \n",
       "Eusebius                              0.53  \n",
       "Johnannine literature                 0.16  \n",
       "Epiphanius                            0.33  \n",
       "Athanasius of Alexandria              0.23  \n",
       "Luke (the evangelist)                 0.15  \n",
       "Gregorius Nazianzenus                 0.15  \n",
       "Ignatius Antiochenus                  0.00  \n",
       "Basil                                 0.22  \n",
       "Hippolytus                            0.17  \n",
       "Maximus of Tyre                       0.10  \n",
       "Irenaeus                              0.13  \n",
       "Philo Judaeus                         0.43  \n",
       "Flavius Josephus                      1.00  \n",
       "\n",
       "[28 rows x 28 columns]"
      ]
     },
     "execution_count": 88,
     "metadata": {},
     "output_type": "execute_result"
    }
   ],
   "source": [
    "christian = authors_df_cj[\"author\"].tolist()\n",
    "tfidfs_christian = tfidfs_sim_mat_df[christian].loc[christian].round(2)\n",
    "tfidfs_christian"
   ]
  },
  {
   "cell_type": "code",
   "execution_count": 89,
   "metadata": {},
   "outputs": [],
   "source": [
    "set_with_dataframe(ECCE_AGT_overview.add_worksheet(\"tfidfs_sim_christian\", 1, 1), tfidfs_christian, include_index=True)"
   ]
  },
  {
   "cell_type": "code",
   "execution_count": 101,
   "metadata": {},
   "outputs": [],
   "source": [
    "authors = authors_df_cj[\"author\"].tolist()"
   ]
  },
  {
   "cell_type": "code",
   "execution_count": null,
   "metadata": {},
   "outputs": [],
   "source": [
    "tfidfs_christian"
   ]
  },
  {
   "cell_type": "code",
   "execution_count": 109,
   "metadata": {},
   "outputs": [],
   "source": [
    "G = nx.from_numpy_matrix(tfidfs_christian.to_numpy())\n",
    "\n",
    "authors_dict = dict(zip(range(len(authors)), authors))\n",
    "G = nx.relabel_nodes(G, authors_dict)\n",
    "\n",
    "total_weight = sum([int(n) for n in nx.get_edge_attributes(G, \"weight\").values()])\n",
    "for (u, v) in G.edges:\n",
    "    G[u][v][\"norm_weight\"] = round((G[u][v][\"weight\"] / total_weight), 5)\n",
    "    G[u][v][\"distance\"] = round(1 / (G[u][v][\"weight\"]), 5)\n",
    "    G[u][v][\"norm_distance\"] = round(1 / (G[u][v][\"norm_weight\"] ), 5)\n",
    "\n",
    "edges_to_remove = []\n",
    "for edge in G.edges:\n",
    "    if edge[0] == edge[1]:\n",
    "        edges_to_remove.append(edge)\n",
    "G.remove_edges_from(edges_to_remove)\n",
    "\n",
    "sim_threshold = 0.37\n",
    "edges_to_remove = []\n",
    "for edge in G.edges:\n",
    "    if G[edge[0]][edge[1]][\"weight\"] < sim_threshold:\n",
    "        edges_to_remove.append(edge)\n",
    "G.remove_edges_from(edges_to_remove)\n",
    "\n",
    "G.remove_nodes_from(list(nx.isolates(G)))"
   ]
  },
  {
   "cell_type": "code",
   "execution_count": 110,
   "metadata": {},
   "outputs": [
    {
     "data": {
      "text/html": [
       "        <script type=\"text/javascript\">\n",
       "        window.PlotlyConfig = {MathJaxConfig: 'local'};\n",
       "        if (window.MathJax) {MathJax.Hub.Config({SVG: {font: \"STIX-Web\"}});}\n",
       "        if (typeof require !== 'undefined') {\n",
       "        require.undef(\"plotly\");\n",
       "        requirejs.config({\n",
       "            paths: {\n",
       "                'plotly': ['https://cdn.plot.ly/plotly-latest.min']\n",
       "            }\n",
       "        });\n",
       "        require(['plotly'], function(Plotly) {\n",
       "            window._Plotly = Plotly;\n",
       "        });\n",
       "        }\n",
       "        </script>\n",
       "        "
      ]
     },
     "metadata": {},
     "output_type": "display_data"
    },
    {
     "data": {
      "application/vnd.plotly.v1+json": {
       "config": {
        "plotlyServerURL": "https://plot.ly"
       },
       "data": [
        {
         "line": {
          "color": "#000000",
          "width": 1
         },
         "mode": "lines",
         "type": "scatter",
         "x": [
          0.00396277800901389,
          0.1835896740515913,
          null,
          0.00396277800901389,
          -0.17190634517670034,
          null
         ],
         "y": [
          -0.04956446623784935,
          0.1124914603860698,
          null,
          -0.04956446623784935,
          -0.0009909856134206717,
          null
         ]
        },
        {
         "line": {
          "color": "#404040",
          "width": 0.7
         },
         "mode": "lines",
         "type": "scatter",
         "x": [
          -0.11651842434756006,
          -0.17190634517670034,
          null,
          0.1835896740515913,
          -0.17190634517670034,
          null,
          -0.17190634517670034,
          0.10286989746523967,
          null,
          -0.17190634517670034,
          0.3208887730024192,
          null
         ],
         "y": [
          0.5009587833563643,
          -0.0009909856134206717,
          null,
          0.1124914603860698,
          -0.0009909856134206717,
          null,
          -0.0009909856134206717,
          -0.46342359866472377,
          null,
          -0.0009909856134206717,
          -0.27468510078063135,
          null
         ]
        },
        {
         "line": {
          "color": "#C0C0C0",
          "width": 0.5
         },
         "mode": "lines",
         "type": "scatter",
         "x": [
          0.1203739223172057,
          0.00396277800901389,
          null,
          0.1203739223172057,
          -0.17190634517670034,
          null,
          0.1203739223172057,
          -0.28663708852457803,
          null,
          0.6142936177121636,
          0.00396277800901389,
          null,
          -0.22065136724712991,
          -0.11651842434756006,
          null,
          0.5544360860293484,
          0.00396277800901389,
          null,
          -0.6270619579539833,
          0.00396277800901389,
          null,
          -0.11651842434756006,
          0.00396277800901389,
          null,
          -0.11651842434756006,
          0.1835896740515913,
          null,
          0.00396277800901389,
          -0.28663708852457803,
          null,
          0.00396277800901389,
          -0.5001227238876584,
          null,
          0.00396277800901389,
          -0.2836284186770219,
          null,
          0.00396277800901389,
          0.10286989746523967,
          null,
          0.00396277800901389,
          0.3208887730024192,
          null,
          0.1835896740515913,
          -0.28663708852457803,
          null,
          0.1835896740515913,
          0.10286989746523967,
          null,
          0.1835896740515913,
          0.3208887730024192,
          null,
          -0.17190634517670034,
          -0.28663708852457803,
          null,
          -0.17190634517670034,
          -0.5001227238876584,
          null,
          0.3061115772276505,
          0.10286989746523967,
          null,
          0.10286989746523967,
          0.3208887730024192,
          null
         ],
         "y": [
          0.43211159753888456,
          -0.04956446623784935,
          null,
          0.43211159753888456,
          -0.0009909856134206717,
          null,
          0.43211159753888456,
          0.32207987932375,
          null,
          -0.13840410765387476,
          -0.04956446623784935,
          null,
          1,
          0.5009587833563643,
          null,
          0.27826879947530575,
          -0.04956446623784935,
          null,
          0.049985970354196434,
          -0.04956446623784935,
          null,
          0.5009587833563643,
          -0.04956446623784935,
          null,
          0.5009587833563643,
          0.1124914603860698,
          null,
          -0.04956446623784935,
          0.32207987932375,
          null,
          -0.04956446623784935,
          -0.2722450130667899,
          null,
          -0.04956446623784935,
          -0.5552302071483096,
          null,
          -0.04956446623784935,
          -0.46342359866472377,
          null,
          -0.04956446623784935,
          -0.27468510078063135,
          null,
          0.1124914603860698,
          0.32207987932375,
          null,
          0.1124914603860698,
          -0.46342359866472377,
          null,
          0.1124914603860698,
          -0.27468510078063135,
          null,
          -0.0009909856134206717,
          0.32207987932375,
          null,
          -0.0009909856134206717,
          -0.2722450130667899,
          null,
          -0.9413530112689711,
          -0.46342359866472377,
          null,
          -0.46342359866472377,
          -0.27468510078063135,
          null
         ]
        },
        {
         "hoverinfo": "text",
         "hovertext": [
          "3",
          "1",
          "1",
          "1",
          "1",
          "4",
          "12",
          "6",
          "8",
          "4",
          "2",
          "1",
          "1",
          "5",
          "4"
         ],
         "marker": {
          "color": [
           43,
           24,
           24,
           15,
           17,
           55,
           112,
           72,
           75,
           10,
           24,
           5,
           24,
           30,
           16
          ],
          "colorbar": {
           "thickness": 15,
           "title": {
            "side": "right",
            "text": "degree"
           },
           "xanchor": "left"
          },
          "colorscale": [
           [
            0,
            "rgb(255,255,255)"
           ],
           [
            0.125,
            "rgb(240,240,240)"
           ],
           [
            0.25,
            "rgb(217,217,217)"
           ],
           [
            0.375,
            "rgb(189,189,189)"
           ],
           [
            0.5,
            "rgb(150,150,150)"
           ],
           [
            0.625,
            "rgb(115,115,115)"
           ],
           [
            0.75,
            "rgb(82,82,82)"
           ],
           [
            0.875,
            "rgb(37,37,37)"
           ],
           [
            1,
            "rgb(0,0,0)"
           ]
          ],
          "line": {
           "width": 1
          },
          "showscale": false,
          "size": 7
         },
         "mode": "markers+text",
         "text": [
          "Paul of Tarsus",
          "Clemens Romanus",
          "Barnabas",
          "Hermas",
          "GNT rest",
          "Justinus Martyr",
          "Origenes",
          "Clement of Alexandria",
          "Eusebius",
          "Epiphanius",
          "Athanasius of Alexandria",
          "Basil",
          "Hippolytus",
          "Philo Judaeus",
          "Flavius Josephus"
         ],
         "textposition": "bottom center",
         "type": "scatter",
         "x": [
          0.1203739223172057,
          0.6142936177121636,
          -0.22065136724712991,
          0.5544360860293484,
          -0.6270619579539833,
          -0.11651842434756006,
          0.00396277800901389,
          0.1835896740515913,
          -0.17190634517670034,
          -0.28663708852457803,
          -0.5001227238876584,
          -0.2836284186770219,
          0.3061115772276505,
          0.10286989746523967,
          0.3208887730024192
         ],
         "y": [
          0.43211159753888456,
          -0.13840410765387476,
          1,
          0.27826879947530575,
          0.049985970354196434,
          0.5009587833563643,
          -0.04956446623784935,
          0.1124914603860698,
          -0.0009909856134206717,
          0.32207987932375,
          -0.2722450130667899,
          -0.5552302071483096,
          -0.9413530112689711,
          -0.46342359866472377,
          -0.27468510078063135
         ]
        },
        {
         "hoverinfo": "text",
         "marker": {
          "opacity": 0
         },
         "mode": "markers",
         "opacity": 0,
         "text": [
          "0",
          "0",
          "0",
          "0",
          "0",
          "0",
          "0",
          "0",
          "0",
          "0",
          "0",
          "0",
          "0",
          "0",
          "0",
          "0",
          "0",
          "0",
          "0",
          "0",
          "0",
          "0",
          "0",
          "0",
          "0",
          "0",
          "0"
         ],
         "type": "scatter",
         "x": [
          0.062168350163109794,
          -0.025766211429747318,
          -0.08313158310368617,
          0.30912819786058876,
          -0.16858489579734498,
          0.2791994320191811,
          -0.3115495899724847,
          -0.056277823169273086,
          0.03353562485201562,
          -0.1442123847621302,
          0.0937762260303026,
          -0.08397178358384322,
          -0.14133715525778207,
          -0.24807997293932227,
          -0.139832820334004,
          0.05341633773712678,
          0.16242577550571655,
          0.005841664437445479,
          -0.05152370723649337,
          0.1432297857584155,
          0.25223922352700523,
          -0.22927171685063918,
          -0.3360145345321794,
          -0.034518223855730334,
          0.07449121391285943,
          0.20449073734644507,
          0.21187933523382943
         ],
         "y": [
          0.19127356565051762,
          0.21556030596273196,
          0.3770957384313173,
          -0.09398428694586206,
          0.7504793916781822,
          0.1143521666187282,
          0.00021075205817354045,
          0.22569715855925748,
          0.3067251218712171,
          0.24998389887147185,
          0.031463497074110225,
          -0.025277725925635014,
          0.13625770654295033,
          -0.1609047396523196,
          -0.3023973366930795,
          -0.25649403245128655,
          -0.16212478350924037,
          0.055750237386324564,
          0.21728566985490988,
          -0.175466069139327,
          -0.08109682019728078,
          0.16054444685516467,
          -0.13661799934010527,
          -0.2322072921390722,
          -0.137838043197026,
          -0.7023883049668475,
          -0.3690543497226776
         ]
        }
       ],
       "layout": {
        "autosize": false,
        "height": 500,
        "hovermode": "closest",
        "margin": {
         "b": 10,
         "l": 10,
         "r": 10,
         "t": 10
        },
        "plot_bgcolor": "rgba(0,0,0,0)",
        "showlegend": false,
        "template": {
         "data": {
          "bar": [
           {
            "error_x": {
             "color": "#2a3f5f"
            },
            "error_y": {
             "color": "#2a3f5f"
            },
            "marker": {
             "line": {
              "color": "#E5ECF6",
              "width": 0.5
             }
            },
            "type": "bar"
           }
          ],
          "barpolar": [
           {
            "marker": {
             "line": {
              "color": "#E5ECF6",
              "width": 0.5
             }
            },
            "type": "barpolar"
           }
          ],
          "carpet": [
           {
            "aaxis": {
             "endlinecolor": "#2a3f5f",
             "gridcolor": "white",
             "linecolor": "white",
             "minorgridcolor": "white",
             "startlinecolor": "#2a3f5f"
            },
            "baxis": {
             "endlinecolor": "#2a3f5f",
             "gridcolor": "white",
             "linecolor": "white",
             "minorgridcolor": "white",
             "startlinecolor": "#2a3f5f"
            },
            "type": "carpet"
           }
          ],
          "choropleth": [
           {
            "colorbar": {
             "outlinewidth": 0,
             "ticks": ""
            },
            "type": "choropleth"
           }
          ],
          "contour": [
           {
            "colorbar": {
             "outlinewidth": 0,
             "ticks": ""
            },
            "colorscale": [
             [
              0,
              "#0d0887"
             ],
             [
              0.1111111111111111,
              "#46039f"
             ],
             [
              0.2222222222222222,
              "#7201a8"
             ],
             [
              0.3333333333333333,
              "#9c179e"
             ],
             [
              0.4444444444444444,
              "#bd3786"
             ],
             [
              0.5555555555555556,
              "#d8576b"
             ],
             [
              0.6666666666666666,
              "#ed7953"
             ],
             [
              0.7777777777777778,
              "#fb9f3a"
             ],
             [
              0.8888888888888888,
              "#fdca26"
             ],
             [
              1,
              "#f0f921"
             ]
            ],
            "type": "contour"
           }
          ],
          "contourcarpet": [
           {
            "colorbar": {
             "outlinewidth": 0,
             "ticks": ""
            },
            "type": "contourcarpet"
           }
          ],
          "heatmap": [
           {
            "colorbar": {
             "outlinewidth": 0,
             "ticks": ""
            },
            "colorscale": [
             [
              0,
              "#0d0887"
             ],
             [
              0.1111111111111111,
              "#46039f"
             ],
             [
              0.2222222222222222,
              "#7201a8"
             ],
             [
              0.3333333333333333,
              "#9c179e"
             ],
             [
              0.4444444444444444,
              "#bd3786"
             ],
             [
              0.5555555555555556,
              "#d8576b"
             ],
             [
              0.6666666666666666,
              "#ed7953"
             ],
             [
              0.7777777777777778,
              "#fb9f3a"
             ],
             [
              0.8888888888888888,
              "#fdca26"
             ],
             [
              1,
              "#f0f921"
             ]
            ],
            "type": "heatmap"
           }
          ],
          "heatmapgl": [
           {
            "colorbar": {
             "outlinewidth": 0,
             "ticks": ""
            },
            "colorscale": [
             [
              0,
              "#0d0887"
             ],
             [
              0.1111111111111111,
              "#46039f"
             ],
             [
              0.2222222222222222,
              "#7201a8"
             ],
             [
              0.3333333333333333,
              "#9c179e"
             ],
             [
              0.4444444444444444,
              "#bd3786"
             ],
             [
              0.5555555555555556,
              "#d8576b"
             ],
             [
              0.6666666666666666,
              "#ed7953"
             ],
             [
              0.7777777777777778,
              "#fb9f3a"
             ],
             [
              0.8888888888888888,
              "#fdca26"
             ],
             [
              1,
              "#f0f921"
             ]
            ],
            "type": "heatmapgl"
           }
          ],
          "histogram": [
           {
            "marker": {
             "colorbar": {
              "outlinewidth": 0,
              "ticks": ""
             }
            },
            "type": "histogram"
           }
          ],
          "histogram2d": [
           {
            "colorbar": {
             "outlinewidth": 0,
             "ticks": ""
            },
            "colorscale": [
             [
              0,
              "#0d0887"
             ],
             [
              0.1111111111111111,
              "#46039f"
             ],
             [
              0.2222222222222222,
              "#7201a8"
             ],
             [
              0.3333333333333333,
              "#9c179e"
             ],
             [
              0.4444444444444444,
              "#bd3786"
             ],
             [
              0.5555555555555556,
              "#d8576b"
             ],
             [
              0.6666666666666666,
              "#ed7953"
             ],
             [
              0.7777777777777778,
              "#fb9f3a"
             ],
             [
              0.8888888888888888,
              "#fdca26"
             ],
             [
              1,
              "#f0f921"
             ]
            ],
            "type": "histogram2d"
           }
          ],
          "histogram2dcontour": [
           {
            "colorbar": {
             "outlinewidth": 0,
             "ticks": ""
            },
            "colorscale": [
             [
              0,
              "#0d0887"
             ],
             [
              0.1111111111111111,
              "#46039f"
             ],
             [
              0.2222222222222222,
              "#7201a8"
             ],
             [
              0.3333333333333333,
              "#9c179e"
             ],
             [
              0.4444444444444444,
              "#bd3786"
             ],
             [
              0.5555555555555556,
              "#d8576b"
             ],
             [
              0.6666666666666666,
              "#ed7953"
             ],
             [
              0.7777777777777778,
              "#fb9f3a"
             ],
             [
              0.8888888888888888,
              "#fdca26"
             ],
             [
              1,
              "#f0f921"
             ]
            ],
            "type": "histogram2dcontour"
           }
          ],
          "mesh3d": [
           {
            "colorbar": {
             "outlinewidth": 0,
             "ticks": ""
            },
            "type": "mesh3d"
           }
          ],
          "parcoords": [
           {
            "line": {
             "colorbar": {
              "outlinewidth": 0,
              "ticks": ""
             }
            },
            "type": "parcoords"
           }
          ],
          "pie": [
           {
            "automargin": true,
            "type": "pie"
           }
          ],
          "scatter": [
           {
            "marker": {
             "colorbar": {
              "outlinewidth": 0,
              "ticks": ""
             }
            },
            "type": "scatter"
           }
          ],
          "scatter3d": [
           {
            "line": {
             "colorbar": {
              "outlinewidth": 0,
              "ticks": ""
             }
            },
            "marker": {
             "colorbar": {
              "outlinewidth": 0,
              "ticks": ""
             }
            },
            "type": "scatter3d"
           }
          ],
          "scattercarpet": [
           {
            "marker": {
             "colorbar": {
              "outlinewidth": 0,
              "ticks": ""
             }
            },
            "type": "scattercarpet"
           }
          ],
          "scattergeo": [
           {
            "marker": {
             "colorbar": {
              "outlinewidth": 0,
              "ticks": ""
             }
            },
            "type": "scattergeo"
           }
          ],
          "scattergl": [
           {
            "marker": {
             "colorbar": {
              "outlinewidth": 0,
              "ticks": ""
             }
            },
            "type": "scattergl"
           }
          ],
          "scattermapbox": [
           {
            "marker": {
             "colorbar": {
              "outlinewidth": 0,
              "ticks": ""
             }
            },
            "type": "scattermapbox"
           }
          ],
          "scatterpolar": [
           {
            "marker": {
             "colorbar": {
              "outlinewidth": 0,
              "ticks": ""
             }
            },
            "type": "scatterpolar"
           }
          ],
          "scatterpolargl": [
           {
            "marker": {
             "colorbar": {
              "outlinewidth": 0,
              "ticks": ""
             }
            },
            "type": "scatterpolargl"
           }
          ],
          "scatterternary": [
           {
            "marker": {
             "colorbar": {
              "outlinewidth": 0,
              "ticks": ""
             }
            },
            "type": "scatterternary"
           }
          ],
          "surface": [
           {
            "colorbar": {
             "outlinewidth": 0,
             "ticks": ""
            },
            "colorscale": [
             [
              0,
              "#0d0887"
             ],
             [
              0.1111111111111111,
              "#46039f"
             ],
             [
              0.2222222222222222,
              "#7201a8"
             ],
             [
              0.3333333333333333,
              "#9c179e"
             ],
             [
              0.4444444444444444,
              "#bd3786"
             ],
             [
              0.5555555555555556,
              "#d8576b"
             ],
             [
              0.6666666666666666,
              "#ed7953"
             ],
             [
              0.7777777777777778,
              "#fb9f3a"
             ],
             [
              0.8888888888888888,
              "#fdca26"
             ],
             [
              1,
              "#f0f921"
             ]
            ],
            "type": "surface"
           }
          ],
          "table": [
           {
            "cells": {
             "fill": {
              "color": "#EBF0F8"
             },
             "line": {
              "color": "white"
             }
            },
            "header": {
             "fill": {
              "color": "#C8D4E3"
             },
             "line": {
              "color": "white"
             }
            },
            "type": "table"
           }
          ]
         },
         "layout": {
          "annotationdefaults": {
           "arrowcolor": "#2a3f5f",
           "arrowhead": 0,
           "arrowwidth": 1
          },
          "autotypenumbers": "strict",
          "coloraxis": {
           "colorbar": {
            "outlinewidth": 0,
            "ticks": ""
           }
          },
          "colorscale": {
           "diverging": [
            [
             0,
             "#8e0152"
            ],
            [
             0.1,
             "#c51b7d"
            ],
            [
             0.2,
             "#de77ae"
            ],
            [
             0.3,
             "#f1b6da"
            ],
            [
             0.4,
             "#fde0ef"
            ],
            [
             0.5,
             "#f7f7f7"
            ],
            [
             0.6,
             "#e6f5d0"
            ],
            [
             0.7,
             "#b8e186"
            ],
            [
             0.8,
             "#7fbc41"
            ],
            [
             0.9,
             "#4d9221"
            ],
            [
             1,
             "#276419"
            ]
           ],
           "sequential": [
            [
             0,
             "#0d0887"
            ],
            [
             0.1111111111111111,
             "#46039f"
            ],
            [
             0.2222222222222222,
             "#7201a8"
            ],
            [
             0.3333333333333333,
             "#9c179e"
            ],
            [
             0.4444444444444444,
             "#bd3786"
            ],
            [
             0.5555555555555556,
             "#d8576b"
            ],
            [
             0.6666666666666666,
             "#ed7953"
            ],
            [
             0.7777777777777778,
             "#fb9f3a"
            ],
            [
             0.8888888888888888,
             "#fdca26"
            ],
            [
             1,
             "#f0f921"
            ]
           ],
           "sequentialminus": [
            [
             0,
             "#0d0887"
            ],
            [
             0.1111111111111111,
             "#46039f"
            ],
            [
             0.2222222222222222,
             "#7201a8"
            ],
            [
             0.3333333333333333,
             "#9c179e"
            ],
            [
             0.4444444444444444,
             "#bd3786"
            ],
            [
             0.5555555555555556,
             "#d8576b"
            ],
            [
             0.6666666666666666,
             "#ed7953"
            ],
            [
             0.7777777777777778,
             "#fb9f3a"
            ],
            [
             0.8888888888888888,
             "#fdca26"
            ],
            [
             1,
             "#f0f921"
            ]
           ]
          },
          "colorway": [
           "#636efa",
           "#EF553B",
           "#00cc96",
           "#ab63fa",
           "#FFA15A",
           "#19d3f3",
           "#FF6692",
           "#B6E880",
           "#FF97FF",
           "#FECB52"
          ],
          "font": {
           "color": "#2a3f5f"
          },
          "geo": {
           "bgcolor": "white",
           "lakecolor": "white",
           "landcolor": "#E5ECF6",
           "showlakes": true,
           "showland": true,
           "subunitcolor": "white"
          },
          "hoverlabel": {
           "align": "left"
          },
          "hovermode": "closest",
          "mapbox": {
           "style": "light"
          },
          "paper_bgcolor": "white",
          "plot_bgcolor": "#E5ECF6",
          "polar": {
           "angularaxis": {
            "gridcolor": "white",
            "linecolor": "white",
            "ticks": ""
           },
           "bgcolor": "#E5ECF6",
           "radialaxis": {
            "gridcolor": "white",
            "linecolor": "white",
            "ticks": ""
           }
          },
          "scene": {
           "xaxis": {
            "backgroundcolor": "#E5ECF6",
            "gridcolor": "white",
            "gridwidth": 2,
            "linecolor": "white",
            "showbackground": true,
            "ticks": "",
            "zerolinecolor": "white"
           },
           "yaxis": {
            "backgroundcolor": "#E5ECF6",
            "gridcolor": "white",
            "gridwidth": 2,
            "linecolor": "white",
            "showbackground": true,
            "ticks": "",
            "zerolinecolor": "white"
           },
           "zaxis": {
            "backgroundcolor": "#E5ECF6",
            "gridcolor": "white",
            "gridwidth": 2,
            "linecolor": "white",
            "showbackground": true,
            "ticks": "",
            "zerolinecolor": "white"
           }
          },
          "shapedefaults": {
           "line": {
            "color": "#2a3f5f"
           }
          },
          "ternary": {
           "aaxis": {
            "gridcolor": "white",
            "linecolor": "white",
            "ticks": ""
           },
           "baxis": {
            "gridcolor": "white",
            "linecolor": "white",
            "ticks": ""
           },
           "bgcolor": "#E5ECF6",
           "caxis": {
            "gridcolor": "white",
            "linecolor": "white",
            "ticks": ""
           }
          },
          "title": {
           "x": 0.05
          },
          "xaxis": {
           "automargin": true,
           "gridcolor": "white",
           "linecolor": "white",
           "ticks": "",
           "title": {
            "standoff": 15
           },
           "zerolinecolor": "white",
           "zerolinewidth": 2
          },
          "yaxis": {
           "automargin": true,
           "gridcolor": "white",
           "linecolor": "white",
           "ticks": "",
           "title": {
            "standoff": 15
           },
           "zerolinecolor": "white",
           "zerolinewidth": 2
          }
         }
        },
        "title": {
         "font": {
          "size": 16
         }
        },
        "width": 500,
        "xaxis": {
         "range": [
          -1.15,
          1.05
         ],
         "showgrid": false,
         "showticklabels": false,
         "zeroline": false
        },
        "yaxis": {
         "range": [
          -1.15,
          1.05
         ],
         "showgrid": false,
         "showticklabels": false,
         "zeroline": false
        }
       }
      },
      "text/html": [
       "<div>                            <div id=\"3ea1bdcd-49ae-4679-8206-b8a0c9927ac4\" class=\"plotly-graph-div\" style=\"height:500px; width:500px;\"></div>            <script type=\"text/javascript\">                require([\"plotly\"], function(Plotly) {                    window.PLOTLYENV=window.PLOTLYENV || {};                                    if (document.getElementById(\"3ea1bdcd-49ae-4679-8206-b8a0c9927ac4\")) {                    Plotly.newPlot(                        \"3ea1bdcd-49ae-4679-8206-b8a0c9927ac4\",                        [{\"line\": {\"color\": \"#000000\", \"width\": 1}, \"mode\": \"lines\", \"type\": \"scatter\", \"x\": [0.00396277800901389, 0.1835896740515913, null, 0.00396277800901389, -0.17190634517670034, null], \"y\": [-0.04956446623784935, 0.1124914603860698, null, -0.04956446623784935, -0.0009909856134206717, null]}, {\"line\": {\"color\": \"#404040\", \"width\": 0.7}, \"mode\": \"lines\", \"type\": \"scatter\", \"x\": [-0.11651842434756006, -0.17190634517670034, null, 0.1835896740515913, -0.17190634517670034, null, -0.17190634517670034, 0.10286989746523967, null, -0.17190634517670034, 0.3208887730024192, null], \"y\": [0.5009587833563643, -0.0009909856134206717, null, 0.1124914603860698, -0.0009909856134206717, null, -0.0009909856134206717, -0.46342359866472377, null, -0.0009909856134206717, -0.27468510078063135, null]}, {\"line\": {\"color\": \"#C0C0C0\", \"width\": 0.5}, \"mode\": \"lines\", \"type\": \"scatter\", \"x\": [0.1203739223172057, 0.00396277800901389, null, 0.1203739223172057, -0.17190634517670034, null, 0.1203739223172057, -0.28663708852457803, null, 0.6142936177121636, 0.00396277800901389, null, -0.22065136724712991, -0.11651842434756006, null, 0.5544360860293484, 0.00396277800901389, null, -0.6270619579539833, 0.00396277800901389, null, -0.11651842434756006, 0.00396277800901389, null, -0.11651842434756006, 0.1835896740515913, null, 0.00396277800901389, -0.28663708852457803, null, 0.00396277800901389, -0.5001227238876584, null, 0.00396277800901389, -0.2836284186770219, null, 0.00396277800901389, 0.10286989746523967, null, 0.00396277800901389, 0.3208887730024192, null, 0.1835896740515913, -0.28663708852457803, null, 0.1835896740515913, 0.10286989746523967, null, 0.1835896740515913, 0.3208887730024192, null, -0.17190634517670034, -0.28663708852457803, null, -0.17190634517670034, -0.5001227238876584, null, 0.3061115772276505, 0.10286989746523967, null, 0.10286989746523967, 0.3208887730024192, null], \"y\": [0.43211159753888456, -0.04956446623784935, null, 0.43211159753888456, -0.0009909856134206717, null, 0.43211159753888456, 0.32207987932375, null, -0.13840410765387476, -0.04956446623784935, null, 1.0, 0.5009587833563643, null, 0.27826879947530575, -0.04956446623784935, null, 0.049985970354196434, -0.04956446623784935, null, 0.5009587833563643, -0.04956446623784935, null, 0.5009587833563643, 0.1124914603860698, null, -0.04956446623784935, 0.32207987932375, null, -0.04956446623784935, -0.2722450130667899, null, -0.04956446623784935, -0.5552302071483096, null, -0.04956446623784935, -0.46342359866472377, null, -0.04956446623784935, -0.27468510078063135, null, 0.1124914603860698, 0.32207987932375, null, 0.1124914603860698, -0.46342359866472377, null, 0.1124914603860698, -0.27468510078063135, null, -0.0009909856134206717, 0.32207987932375, null, -0.0009909856134206717, -0.2722450130667899, null, -0.9413530112689711, -0.46342359866472377, null, -0.46342359866472377, -0.27468510078063135, null]}, {\"hoverinfo\": \"text\", \"hovertext\": [\"3\", \"1\", \"1\", \"1\", \"1\", \"4\", \"12\", \"6\", \"8\", \"4\", \"2\", \"1\", \"1\", \"5\", \"4\"], \"marker\": {\"color\": [43, 24, 24, 15, 17, 55, 112, 72, 75, 10, 24, 5, 24, 30, 16], \"colorbar\": {\"thickness\": 15, \"title\": {\"side\": \"right\", \"text\": \"degree\"}, \"xanchor\": \"left\"}, \"colorscale\": [[0.0, \"rgb(255,255,255)\"], [0.125, \"rgb(240,240,240)\"], [0.25, \"rgb(217,217,217)\"], [0.375, \"rgb(189,189,189)\"], [0.5, \"rgb(150,150,150)\"], [0.625, \"rgb(115,115,115)\"], [0.75, \"rgb(82,82,82)\"], [0.875, \"rgb(37,37,37)\"], [1.0, \"rgb(0,0,0)\"]], \"line\": {\"width\": 1}, \"showscale\": false, \"size\": 7}, \"mode\": \"markers+text\", \"text\": [\"Paul of Tarsus\", \"Clemens Romanus\", \"Barnabas\", \"Hermas\", \"GNT rest\", \"Justinus Martyr\", \"Origenes\", \"Clement of Alexandria\", \"Eusebius\", \"Epiphanius\", \"Athanasius of Alexandria\", \"Basil\", \"Hippolytus\", \"Philo Judaeus\", \"Flavius Josephus\"], \"textposition\": \"bottom center\", \"type\": \"scatter\", \"x\": [0.1203739223172057, 0.6142936177121636, -0.22065136724712991, 0.5544360860293484, -0.6270619579539833, -0.11651842434756006, 0.00396277800901389, 0.1835896740515913, -0.17190634517670034, -0.28663708852457803, -0.5001227238876584, -0.2836284186770219, 0.3061115772276505, 0.10286989746523967, 0.3208887730024192], \"y\": [0.43211159753888456, -0.13840410765387476, 1.0, 0.27826879947530575, 0.049985970354196434, 0.5009587833563643, -0.04956446623784935, 0.1124914603860698, -0.0009909856134206717, 0.32207987932375, -0.2722450130667899, -0.5552302071483096, -0.9413530112689711, -0.46342359866472377, -0.27468510078063135]}, {\"hoverinfo\": \"text\", \"marker\": {\"opacity\": 0}, \"mode\": \"markers\", \"opacity\": 0, \"text\": [\"0\", \"0\", \"0\", \"0\", \"0\", \"0\", \"0\", \"0\", \"0\", \"0\", \"0\", \"0\", \"0\", \"0\", \"0\", \"0\", \"0\", \"0\", \"0\", \"0\", \"0\", \"0\", \"0\", \"0\", \"0\", \"0\", \"0\"], \"type\": \"scatter\", \"x\": [0.062168350163109794, -0.025766211429747318, -0.08313158310368617, 0.30912819786058876, -0.16858489579734498, 0.2791994320191811, -0.3115495899724847, -0.056277823169273086, 0.03353562485201562, -0.1442123847621302, 0.0937762260303026, -0.08397178358384322, -0.14133715525778207, -0.24807997293932227, -0.139832820334004, 0.05341633773712678, 0.16242577550571655, 0.005841664437445479, -0.05152370723649337, 0.1432297857584155, 0.25223922352700523, -0.22927171685063918, -0.3360145345321794, -0.034518223855730334, 0.07449121391285943, 0.20449073734644507, 0.21187933523382943], \"y\": [0.19127356565051762, 0.21556030596273196, 0.3770957384313173, -0.09398428694586206, 0.7504793916781822, 0.1143521666187282, 0.00021075205817354045, 0.22569715855925748, 0.3067251218712171, 0.24998389887147185, 0.031463497074110225, -0.025277725925635014, 0.13625770654295033, -0.1609047396523196, -0.3023973366930795, -0.25649403245128655, -0.16212478350924037, 0.055750237386324564, 0.21728566985490988, -0.175466069139327, -0.08109682019728078, 0.16054444685516467, -0.13661799934010527, -0.2322072921390722, -0.137838043197026, -0.7023883049668475, -0.3690543497226776]}],                        {\"autosize\": false, \"height\": 500, \"hovermode\": \"closest\", \"margin\": {\"b\": 10, \"l\": 10, \"r\": 10, \"t\": 10}, \"plot_bgcolor\": \"rgba(0,0,0,0)\", \"showlegend\": false, \"template\": {\"data\": {\"bar\": [{\"error_x\": {\"color\": \"#2a3f5f\"}, \"error_y\": {\"color\": \"#2a3f5f\"}, \"marker\": {\"line\": {\"color\": \"#E5ECF6\", \"width\": 0.5}}, \"type\": \"bar\"}], \"barpolar\": [{\"marker\": {\"line\": {\"color\": \"#E5ECF6\", \"width\": 0.5}}, \"type\": \"barpolar\"}], \"carpet\": [{\"aaxis\": {\"endlinecolor\": \"#2a3f5f\", \"gridcolor\": \"white\", \"linecolor\": \"white\", \"minorgridcolor\": \"white\", \"startlinecolor\": \"#2a3f5f\"}, \"baxis\": {\"endlinecolor\": \"#2a3f5f\", \"gridcolor\": \"white\", \"linecolor\": \"white\", \"minorgridcolor\": \"white\", \"startlinecolor\": \"#2a3f5f\"}, \"type\": \"carpet\"}], \"choropleth\": [{\"colorbar\": {\"outlinewidth\": 0, \"ticks\": \"\"}, \"type\": \"choropleth\"}], \"contour\": [{\"colorbar\": {\"outlinewidth\": 0, \"ticks\": \"\"}, \"colorscale\": [[0.0, \"#0d0887\"], [0.1111111111111111, \"#46039f\"], [0.2222222222222222, \"#7201a8\"], [0.3333333333333333, \"#9c179e\"], [0.4444444444444444, \"#bd3786\"], [0.5555555555555556, \"#d8576b\"], [0.6666666666666666, \"#ed7953\"], [0.7777777777777778, \"#fb9f3a\"], [0.8888888888888888, \"#fdca26\"], [1.0, \"#f0f921\"]], \"type\": \"contour\"}], \"contourcarpet\": [{\"colorbar\": {\"outlinewidth\": 0, \"ticks\": \"\"}, \"type\": \"contourcarpet\"}], \"heatmap\": [{\"colorbar\": {\"outlinewidth\": 0, \"ticks\": \"\"}, \"colorscale\": [[0.0, \"#0d0887\"], [0.1111111111111111, \"#46039f\"], [0.2222222222222222, \"#7201a8\"], [0.3333333333333333, \"#9c179e\"], [0.4444444444444444, \"#bd3786\"], [0.5555555555555556, \"#d8576b\"], [0.6666666666666666, \"#ed7953\"], [0.7777777777777778, \"#fb9f3a\"], [0.8888888888888888, \"#fdca26\"], [1.0, \"#f0f921\"]], \"type\": \"heatmap\"}], \"heatmapgl\": [{\"colorbar\": {\"outlinewidth\": 0, \"ticks\": \"\"}, \"colorscale\": [[0.0, \"#0d0887\"], [0.1111111111111111, \"#46039f\"], [0.2222222222222222, \"#7201a8\"], [0.3333333333333333, \"#9c179e\"], [0.4444444444444444, \"#bd3786\"], [0.5555555555555556, \"#d8576b\"], [0.6666666666666666, \"#ed7953\"], [0.7777777777777778, \"#fb9f3a\"], [0.8888888888888888, \"#fdca26\"], [1.0, \"#f0f921\"]], \"type\": \"heatmapgl\"}], \"histogram\": [{\"marker\": {\"colorbar\": {\"outlinewidth\": 0, \"ticks\": \"\"}}, \"type\": \"histogram\"}], \"histogram2d\": [{\"colorbar\": {\"outlinewidth\": 0, \"ticks\": \"\"}, \"colorscale\": [[0.0, \"#0d0887\"], [0.1111111111111111, \"#46039f\"], [0.2222222222222222, \"#7201a8\"], [0.3333333333333333, \"#9c179e\"], [0.4444444444444444, \"#bd3786\"], [0.5555555555555556, \"#d8576b\"], [0.6666666666666666, \"#ed7953\"], [0.7777777777777778, \"#fb9f3a\"], [0.8888888888888888, \"#fdca26\"], [1.0, \"#f0f921\"]], \"type\": \"histogram2d\"}], \"histogram2dcontour\": [{\"colorbar\": {\"outlinewidth\": 0, \"ticks\": \"\"}, \"colorscale\": [[0.0, \"#0d0887\"], [0.1111111111111111, \"#46039f\"], [0.2222222222222222, \"#7201a8\"], [0.3333333333333333, \"#9c179e\"], [0.4444444444444444, \"#bd3786\"], [0.5555555555555556, \"#d8576b\"], [0.6666666666666666, \"#ed7953\"], [0.7777777777777778, \"#fb9f3a\"], [0.8888888888888888, \"#fdca26\"], [1.0, \"#f0f921\"]], \"type\": \"histogram2dcontour\"}], \"mesh3d\": [{\"colorbar\": {\"outlinewidth\": 0, \"ticks\": \"\"}, \"type\": \"mesh3d\"}], \"parcoords\": [{\"line\": {\"colorbar\": {\"outlinewidth\": 0, \"ticks\": \"\"}}, \"type\": \"parcoords\"}], \"pie\": [{\"automargin\": true, \"type\": \"pie\"}], \"scatter\": [{\"marker\": {\"colorbar\": {\"outlinewidth\": 0, \"ticks\": \"\"}}, \"type\": \"scatter\"}], \"scatter3d\": [{\"line\": {\"colorbar\": {\"outlinewidth\": 0, \"ticks\": \"\"}}, \"marker\": {\"colorbar\": {\"outlinewidth\": 0, \"ticks\": \"\"}}, \"type\": \"scatter3d\"}], \"scattercarpet\": [{\"marker\": {\"colorbar\": {\"outlinewidth\": 0, \"ticks\": \"\"}}, \"type\": \"scattercarpet\"}], \"scattergeo\": [{\"marker\": {\"colorbar\": {\"outlinewidth\": 0, \"ticks\": \"\"}}, \"type\": \"scattergeo\"}], \"scattergl\": [{\"marker\": {\"colorbar\": {\"outlinewidth\": 0, \"ticks\": \"\"}}, \"type\": \"scattergl\"}], \"scattermapbox\": [{\"marker\": {\"colorbar\": {\"outlinewidth\": 0, \"ticks\": \"\"}}, \"type\": \"scattermapbox\"}], \"scatterpolar\": [{\"marker\": {\"colorbar\": {\"outlinewidth\": 0, \"ticks\": \"\"}}, \"type\": \"scatterpolar\"}], \"scatterpolargl\": [{\"marker\": {\"colorbar\": {\"outlinewidth\": 0, \"ticks\": \"\"}}, \"type\": \"scatterpolargl\"}], \"scatterternary\": [{\"marker\": {\"colorbar\": {\"outlinewidth\": 0, \"ticks\": \"\"}}, \"type\": \"scatterternary\"}], \"surface\": [{\"colorbar\": {\"outlinewidth\": 0, \"ticks\": \"\"}, \"colorscale\": [[0.0, \"#0d0887\"], [0.1111111111111111, \"#46039f\"], [0.2222222222222222, \"#7201a8\"], [0.3333333333333333, \"#9c179e\"], [0.4444444444444444, \"#bd3786\"], [0.5555555555555556, \"#d8576b\"], [0.6666666666666666, \"#ed7953\"], [0.7777777777777778, \"#fb9f3a\"], [0.8888888888888888, \"#fdca26\"], [1.0, \"#f0f921\"]], \"type\": \"surface\"}], \"table\": [{\"cells\": {\"fill\": {\"color\": \"#EBF0F8\"}, \"line\": {\"color\": \"white\"}}, \"header\": {\"fill\": {\"color\": \"#C8D4E3\"}, \"line\": {\"color\": \"white\"}}, \"type\": \"table\"}]}, \"layout\": {\"annotationdefaults\": {\"arrowcolor\": \"#2a3f5f\", \"arrowhead\": 0, \"arrowwidth\": 1}, \"autotypenumbers\": \"strict\", \"coloraxis\": {\"colorbar\": {\"outlinewidth\": 0, \"ticks\": \"\"}}, \"colorscale\": {\"diverging\": [[0, \"#8e0152\"], [0.1, \"#c51b7d\"], [0.2, \"#de77ae\"], [0.3, \"#f1b6da\"], [0.4, \"#fde0ef\"], [0.5, \"#f7f7f7\"], [0.6, \"#e6f5d0\"], [0.7, \"#b8e186\"], [0.8, \"#7fbc41\"], [0.9, \"#4d9221\"], [1, \"#276419\"]], \"sequential\": [[0.0, \"#0d0887\"], [0.1111111111111111, \"#46039f\"], [0.2222222222222222, \"#7201a8\"], [0.3333333333333333, \"#9c179e\"], [0.4444444444444444, \"#bd3786\"], [0.5555555555555556, \"#d8576b\"], [0.6666666666666666, \"#ed7953\"], [0.7777777777777778, \"#fb9f3a\"], [0.8888888888888888, \"#fdca26\"], [1.0, \"#f0f921\"]], \"sequentialminus\": [[0.0, \"#0d0887\"], [0.1111111111111111, \"#46039f\"], [0.2222222222222222, \"#7201a8\"], [0.3333333333333333, \"#9c179e\"], [0.4444444444444444, \"#bd3786\"], [0.5555555555555556, \"#d8576b\"], [0.6666666666666666, \"#ed7953\"], [0.7777777777777778, \"#fb9f3a\"], [0.8888888888888888, \"#fdca26\"], [1.0, \"#f0f921\"]]}, \"colorway\": [\"#636efa\", \"#EF553B\", \"#00cc96\", \"#ab63fa\", \"#FFA15A\", \"#19d3f3\", \"#FF6692\", \"#B6E880\", \"#FF97FF\", \"#FECB52\"], \"font\": {\"color\": \"#2a3f5f\"}, \"geo\": {\"bgcolor\": \"white\", \"lakecolor\": \"white\", \"landcolor\": \"#E5ECF6\", \"showlakes\": true, \"showland\": true, \"subunitcolor\": \"white\"}, \"hoverlabel\": {\"align\": \"left\"}, \"hovermode\": \"closest\", \"mapbox\": {\"style\": \"light\"}, \"paper_bgcolor\": \"white\", \"plot_bgcolor\": \"#E5ECF6\", \"polar\": {\"angularaxis\": {\"gridcolor\": \"white\", \"linecolor\": \"white\", \"ticks\": \"\"}, \"bgcolor\": \"#E5ECF6\", \"radialaxis\": {\"gridcolor\": \"white\", \"linecolor\": \"white\", \"ticks\": \"\"}}, \"scene\": {\"xaxis\": {\"backgroundcolor\": \"#E5ECF6\", \"gridcolor\": \"white\", \"gridwidth\": 2, \"linecolor\": \"white\", \"showbackground\": true, \"ticks\": \"\", \"zerolinecolor\": \"white\"}, \"yaxis\": {\"backgroundcolor\": \"#E5ECF6\", \"gridcolor\": \"white\", \"gridwidth\": 2, \"linecolor\": \"white\", \"showbackground\": true, \"ticks\": \"\", \"zerolinecolor\": \"white\"}, \"zaxis\": {\"backgroundcolor\": \"#E5ECF6\", \"gridcolor\": \"white\", \"gridwidth\": 2, \"linecolor\": \"white\", \"showbackground\": true, \"ticks\": \"\", \"zerolinecolor\": \"white\"}}, \"shapedefaults\": {\"line\": {\"color\": \"#2a3f5f\"}}, \"ternary\": {\"aaxis\": {\"gridcolor\": \"white\", \"linecolor\": \"white\", \"ticks\": \"\"}, \"baxis\": {\"gridcolor\": \"white\", \"linecolor\": \"white\", \"ticks\": \"\"}, \"bgcolor\": \"#E5ECF6\", \"caxis\": {\"gridcolor\": \"white\", \"linecolor\": \"white\", \"ticks\": \"\"}}, \"title\": {\"x\": 0.05}, \"xaxis\": {\"automargin\": true, \"gridcolor\": \"white\", \"linecolor\": \"white\", \"ticks\": \"\", \"title\": {\"standoff\": 15}, \"zerolinecolor\": \"white\", \"zerolinewidth\": 2}, \"yaxis\": {\"automargin\": true, \"gridcolor\": \"white\", \"linecolor\": \"white\", \"ticks\": \"\", \"title\": {\"standoff\": 15}, \"zerolinecolor\": \"white\", \"zerolinewidth\": 2}}}, \"title\": {\"font\": {\"size\": 16}}, \"width\": 500, \"xaxis\": {\"range\": [-1.15, 1.05], \"showgrid\": false, \"showticklabels\": false, \"zeroline\": false}, \"yaxis\": {\"range\": [-1.15, 1.05], \"showgrid\": false, \"showticklabels\": false, \"zeroline\": false}},                        {\"responsive\": true}                    ).then(function(){\n",
       "                            \n",
       "var gd = document.getElementById('3ea1bdcd-49ae-4679-8206-b8a0c9927ac4');\n",
       "var x = new MutationObserver(function (mutations, observer) {{\n",
       "        var display = window.getComputedStyle(gd).display;\n",
       "        if (!display || display === 'none') {{\n",
       "            console.log([gd, 'removed!']);\n",
       "            Plotly.purge(gd);\n",
       "            observer.disconnect();\n",
       "        }}\n",
       "}});\n",
       "\n",
       "// Listen for the removal of the full notebook cells\n",
       "var notebookContainer = gd.closest('#notebook-container');\n",
       "if (notebookContainer) {{\n",
       "    x.observe(notebookContainer, {childList: true});\n",
       "}}\n",
       "\n",
       "// Listen for the clearing of the current output cell\n",
       "var outputEl = gd.closest('.output');\n",
       "if (outputEl) {{\n",
       "    x.observe(outputEl, {childList: true});\n",
       "}}\n",
       "\n",
       "                        })                };                });            </script>        </div>"
      ]
     },
     "metadata": {},
     "output_type": "display_data"
    }
   ],
   "source": [
    "reload(textnet)\n",
    "fig = textnet.draw_2d_network(G)\n",
    "fig.show()"
   ]
  },
  {
   "cell_type": "code",
   "execution_count": null,
   "metadata": {},
   "outputs": [],
   "source": []
  },
  {
   "cell_type": "code",
   "execution_count": 111,
   "metadata": {},
   "outputs": [
    {
     "ename": "ValueError",
     "evalue": "Failed to start Kaleido subprocess. Error stream:\n\n[1230/172140.251435:WARNING:resource_bundle.cc(435)] locale_file_path.empty() for locale \n[1230/172140.270396:WARNING:resource_bundle.cc(435)] locale_file_path.empty() for locale \n[1230/172140.271267:WARNING:resource_bundle.cc(435)] locale_file_path.empty() for locale \n[1230/172140.307137:ERROR:platform_shared_memory_region_posix.cc(249)] Creating shared memory in /tmp/.org.chromium.Chromium.X0cJim failed: No such file or directory (2)\n[1230/172140.307244:FATAL:memory.cc(38)] Out of memory. size=131072\n#0 0x5593904b4f89 base::debug::CollectStackTrace()\n#1 0x5593904238e3 base::debug::StackTrace::StackTrace()\n#2 0x559390434005 logging::LogMessage::~LogMessage()\n#3 0x55939044e199 base::internal::OnNoMemoryInternal()\n#4 0x55939043b363 base::FieldTrialList::InstantiateFieldTrialAllocatorIfNeeded()\n#5 0x55939043b4e9 base::FieldTrialList::CopyFieldTrialStateToFlags()\n#6 0x55938f14f43c content::GpuProcessHost::LaunchGpuProcess()\n#7 0x55938f14de7d content::GpuProcessHost::Init()\n#8 0x55938f14dc32 content::GpuProcessHost::Get()\n#9 0x55938f4aae59 base::internal::Invoker<>::RunOnce()\n#10 0x55939046402b base::TaskAnnotator::RunTask()\n#11 0x559390474b3e base::sequence_manager::internal::ThreadControllerWithMessagePumpImpl::DoWorkImpl()\n#12 0x5593904748d0 base::sequence_manager::internal::ThreadControllerWithMessagePumpImpl::DoWork()\n#13 0x5593904cfdc9 base::MessagePumpLibevent::Run()\n#14 0x5593904750c5 base::sequence_manager::internal::ThreadControllerWithMessagePumpImpl::Run()\n#15 0x5593904510ee base::RunLoop::Run()\n#16 0x55938efbd8a4 content::BrowserProcessSubThread::IOThreadRun()\n#17 0x55939048a997 base::Thread::ThreadMain()\n#18 0x5593904c48fe base::(anonymous namespace)::ThreadFunc()\n#19 0x7f24d54366db start_thread\n#20 0x7f24d3fc5a3f clone\nTask trace:\n#0 0x55938f4a9aac content::VizProcessTransportFactory::ConnectHostFrameSinkManager()\n\nReceived signal 6\n#0 0x5593904b4f89 base::debug::CollectStackTrace()\n#1 0x5593904238e3 base::debug::StackTrace::StackTrace()\n#2 0x5593904b4b25 base::debug::(anonymous namespace)::StackDumpSignalHandler()\n#3 0x7f24d54418a0 (/lib/x86_64-linux-gnu/libpthread-2.27.so+0x1289f)\n#4 0x7f24d3ee2f47 gsignal\n#5 0x7f24d3ee48b1 abort\n#6 0x5593904b3a85 base::debug::BreakDebugger()\n#7 0x5593904344a2 logging::LogMessage::~LogMessage()\n#8 0x55939044e199 base::internal::OnNoMemoryInternal()\n#9 0x55939043b363 base::FieldTrialList::InstantiateFieldTrialAllocatorIfNeeded()\n#10 0x55939043b4e9 base::FieldTrialList::CopyFieldTrialStateToFlags()\n#11 0x55938f14f43c content::GpuProcessHost::LaunchGpuProcess()\n#12 0x55938f14de7d content::GpuProcessHost::Init()\n#13 0x55938f14dc32 content::GpuProcessHost::Get()\n#14 0x55938f4aae59 base::internal::Invoker<>::RunOnce()\n#15 0x55939046402b base::TaskAnnotator::RunTask()\n#16 0x559390474b3e base::sequence_manager::internal::ThreadControllerWithMessagePumpImpl::DoWorkImpl()\n#17 0x5593904748d0 base::sequence_manager::internal::ThreadControllerWithMessagePumpImpl::DoWork()\n#18 0x5593904cfdc9 base::MessagePumpLibevent::Run()\n#19 0x5593904750c5 base::sequence_manager::internal::ThreadControllerWithMessagePumpImpl::Run()\n#20 0x5593904510ee base::RunLoop::Run()\n#21 0x55938efbd8a4 content::BrowserProcessSubThread::IOThreadRun()\n#22 0x55939048a997 base::Thread::ThreadMain()\n#23 0x5593904c48fe base::(anonymous namespace)::ThreadFunc()\n#24 0x7f24d54366db start_thread\n#25 0x7f24d3fc5a3f clone\n  r8: 0000000000000000  r9: 00007f24d1fb70d0 r10: 0000000000000008 r11: 0000000000000246\n r12: 00007f24d1fb8398 r13: 00007f24d1fb7370 r14: 00007f24d1fb83a0 r15: aaaaaaaaaaaaaaaa\n  di: 0000000000000002  si: 00007f24d1fb70d0  bp: 00007f24d1fb7320  bx: 00007f24d1fb7394\n  dx: 0000000000000000  ax: 0000000000000000  cx: 00007f24d3ee2f47  sp: 00007f24d1fb70d0\n  ip: 00007f24d3ee2f47 efl: 0000000000000246 cgf: 002b000000000033 erf: 0000000000000000\n trp: 0000000000000000 msk: 0000000000000000 cr2: 0000000000000000\n[end of stack trace]\nCalling _exit(1). Core file will not be generated.\n",
     "output_type": "error",
     "traceback": [
      "\u001b[0;31m---------------------------------------------------------------------------\u001b[0m",
      "\u001b[0;31mValueError\u001b[0m                                Traceback (most recent call last)",
      "\u001b[0;32m<ipython-input-111-6bfd293241f4>\u001b[0m in \u001b[0;36m<module>\u001b[0;34m\u001b[0m\n\u001b[0;32m----> 1\u001b[0;31m \u001b[0mfig\u001b[0m\u001b[0;34m.\u001b[0m\u001b[0mwrite_image\u001b[0m\u001b[0;34m(\u001b[0m\u001b[0;34m\"../figures/authors_network_cos-sim-tfidf.png\"\u001b[0m\u001b[0;34m)\u001b[0m\u001b[0;34m\u001b[0m\u001b[0;34m\u001b[0m\u001b[0m\n\u001b[0m",
      "\u001b[0;32m~/.local/lib/python3.6/site-packages/plotly/basedatatypes.py\u001b[0m in \u001b[0;36mwrite_image\u001b[0;34m(self, *args, **kwargs)\u001b[0m\n\u001b[1;32m   3804\u001b[0m         \u001b[0;32mimport\u001b[0m \u001b[0mplotly\u001b[0m\u001b[0;34m.\u001b[0m\u001b[0mio\u001b[0m \u001b[0;32mas\u001b[0m \u001b[0mpio\u001b[0m\u001b[0;34m\u001b[0m\u001b[0;34m\u001b[0m\u001b[0m\n\u001b[1;32m   3805\u001b[0m \u001b[0;34m\u001b[0m\u001b[0m\n\u001b[0;32m-> 3806\u001b[0;31m         \u001b[0;32mreturn\u001b[0m \u001b[0mpio\u001b[0m\u001b[0;34m.\u001b[0m\u001b[0mwrite_image\u001b[0m\u001b[0;34m(\u001b[0m\u001b[0mself\u001b[0m\u001b[0;34m,\u001b[0m \u001b[0;34m*\u001b[0m\u001b[0margs\u001b[0m\u001b[0;34m,\u001b[0m \u001b[0;34m**\u001b[0m\u001b[0mkwargs\u001b[0m\u001b[0;34m)\u001b[0m\u001b[0;34m\u001b[0m\u001b[0;34m\u001b[0m\u001b[0m\n\u001b[0m\u001b[1;32m   3807\u001b[0m \u001b[0;34m\u001b[0m\u001b[0m\n\u001b[1;32m   3808\u001b[0m     \u001b[0;31m# Static helpers\u001b[0m\u001b[0;34m\u001b[0m\u001b[0;34m\u001b[0m\u001b[0;34m\u001b[0m\u001b[0m\n",
      "\u001b[0;32m~/.local/lib/python3.6/site-packages/plotly/io/_kaleido.py\u001b[0m in \u001b[0;36mwrite_image\u001b[0;34m(fig, file, format, scale, width, height, validate, engine)\u001b[0m\n\u001b[1;32m    250\u001b[0m         \u001b[0mheight\u001b[0m\u001b[0;34m=\u001b[0m\u001b[0mheight\u001b[0m\u001b[0;34m,\u001b[0m\u001b[0;34m\u001b[0m\u001b[0;34m\u001b[0m\u001b[0m\n\u001b[1;32m    251\u001b[0m         \u001b[0mvalidate\u001b[0m\u001b[0;34m=\u001b[0m\u001b[0mvalidate\u001b[0m\u001b[0;34m,\u001b[0m\u001b[0;34m\u001b[0m\u001b[0;34m\u001b[0m\u001b[0m\n\u001b[0;32m--> 252\u001b[0;31m         \u001b[0mengine\u001b[0m\u001b[0;34m=\u001b[0m\u001b[0mengine\u001b[0m\u001b[0;34m,\u001b[0m\u001b[0;34m\u001b[0m\u001b[0;34m\u001b[0m\u001b[0m\n\u001b[0m\u001b[1;32m    253\u001b[0m     )\n\u001b[1;32m    254\u001b[0m \u001b[0;34m\u001b[0m\u001b[0m\n",
      "\u001b[0;32m~/.local/lib/python3.6/site-packages/plotly/io/_kaleido.py\u001b[0m in \u001b[0;36mto_image\u001b[0;34m(fig, format, width, height, scale, validate, engine)\u001b[0m\n\u001b[1;32m    130\u001b[0m     \u001b[0mfig_dict\u001b[0m \u001b[0;34m=\u001b[0m \u001b[0mvalidate_coerce_fig_to_dict\u001b[0m\u001b[0;34m(\u001b[0m\u001b[0mfig\u001b[0m\u001b[0;34m,\u001b[0m \u001b[0mvalidate\u001b[0m\u001b[0;34m)\u001b[0m\u001b[0;34m\u001b[0m\u001b[0;34m\u001b[0m\u001b[0m\n\u001b[1;32m    131\u001b[0m     img_bytes = scope.transform(\n\u001b[0;32m--> 132\u001b[0;31m         \u001b[0mfig_dict\u001b[0m\u001b[0;34m,\u001b[0m \u001b[0mformat\u001b[0m\u001b[0;34m=\u001b[0m\u001b[0mformat\u001b[0m\u001b[0;34m,\u001b[0m \u001b[0mwidth\u001b[0m\u001b[0;34m=\u001b[0m\u001b[0mwidth\u001b[0m\u001b[0;34m,\u001b[0m \u001b[0mheight\u001b[0m\u001b[0;34m=\u001b[0m\u001b[0mheight\u001b[0m\u001b[0;34m,\u001b[0m \u001b[0mscale\u001b[0m\u001b[0;34m=\u001b[0m\u001b[0mscale\u001b[0m\u001b[0;34m\u001b[0m\u001b[0;34m\u001b[0m\u001b[0m\n\u001b[0m\u001b[1;32m    133\u001b[0m     )\n\u001b[1;32m    134\u001b[0m \u001b[0;34m\u001b[0m\u001b[0m\n",
      "\u001b[0;32m~/.local/lib/python3.6/site-packages/kaleido/scopes/plotly.py\u001b[0m in \u001b[0;36mtransform\u001b[0;34m(self, figure, format, width, height, scale)\u001b[0m\n\u001b[1;32m    102\u001b[0m         \u001b[0;31m# response dict, including error codes.\u001b[0m\u001b[0;34m\u001b[0m\u001b[0;34m\u001b[0m\u001b[0;34m\u001b[0m\u001b[0m\n\u001b[1;32m    103\u001b[0m         response = self._perform_transform(\n\u001b[0;32m--> 104\u001b[0;31m             \u001b[0mfigure\u001b[0m\u001b[0;34m,\u001b[0m \u001b[0mformat\u001b[0m\u001b[0;34m=\u001b[0m\u001b[0mformat\u001b[0m\u001b[0;34m,\u001b[0m \u001b[0mwidth\u001b[0m\u001b[0;34m=\u001b[0m\u001b[0mwidth\u001b[0m\u001b[0;34m,\u001b[0m \u001b[0mheight\u001b[0m\u001b[0;34m=\u001b[0m\u001b[0mheight\u001b[0m\u001b[0;34m,\u001b[0m \u001b[0mscale\u001b[0m\u001b[0;34m=\u001b[0m\u001b[0mscale\u001b[0m\u001b[0;34m\u001b[0m\u001b[0;34m\u001b[0m\u001b[0m\n\u001b[0m\u001b[1;32m    105\u001b[0m         )\n\u001b[1;32m    106\u001b[0m \u001b[0;34m\u001b[0m\u001b[0m\n",
      "\u001b[0;32m~/.local/lib/python3.6/site-packages/kaleido/scopes/base.py\u001b[0m in \u001b[0;36m_perform_transform\u001b[0;34m(self, data, **kwargs)\u001b[0m\n\u001b[1;32m    278\u001b[0m         \"\"\"\n\u001b[1;32m    279\u001b[0m         \u001b[0;31m# Ensure that kaleido subprocess is running\u001b[0m\u001b[0;34m\u001b[0m\u001b[0;34m\u001b[0m\u001b[0;34m\u001b[0m\u001b[0m\n\u001b[0;32m--> 280\u001b[0;31m         \u001b[0mself\u001b[0m\u001b[0;34m.\u001b[0m\u001b[0m_ensure_kaleido\u001b[0m\u001b[0;34m(\u001b[0m\u001b[0;34m)\u001b[0m\u001b[0;34m\u001b[0m\u001b[0;34m\u001b[0m\u001b[0m\n\u001b[0m\u001b[1;32m    281\u001b[0m \u001b[0;34m\u001b[0m\u001b[0m\n\u001b[1;32m    282\u001b[0m         \u001b[0;31m# Perform export\u001b[0m\u001b[0;34m\u001b[0m\u001b[0;34m\u001b[0m\u001b[0;34m\u001b[0m\u001b[0m\n",
      "\u001b[0;32m~/.local/lib/python3.6/site-packages/kaleido/scopes/base.py\u001b[0m in \u001b[0;36m_ensure_kaleido\u001b[0;34m(self)\u001b[0m\n\u001b[1;32m    186\u001b[0m                             \u001b[0mself\u001b[0m\u001b[0;34m.\u001b[0m\u001b[0m_get_decoded_std_error\u001b[0m\u001b[0;34m(\u001b[0m\u001b[0;34m)\u001b[0m\u001b[0;34m\u001b[0m\u001b[0;34m\u001b[0m\u001b[0m\n\u001b[1;32m    187\u001b[0m                         )\n\u001b[0;32m--> 188\u001b[0;31m                         \u001b[0;32mraise\u001b[0m \u001b[0mValueError\u001b[0m\u001b[0;34m(\u001b[0m\u001b[0mmessage\u001b[0m\u001b[0;34m)\u001b[0m\u001b[0;34m\u001b[0m\u001b[0;34m\u001b[0m\u001b[0m\n\u001b[0m\u001b[1;32m    189\u001b[0m                     \u001b[0;32melse\u001b[0m\u001b[0;34m:\u001b[0m\u001b[0;34m\u001b[0m\u001b[0;34m\u001b[0m\u001b[0m\n\u001b[1;32m    190\u001b[0m                         \u001b[0mstartup_response\u001b[0m \u001b[0;34m=\u001b[0m \u001b[0mjson\u001b[0m\u001b[0;34m.\u001b[0m\u001b[0mloads\u001b[0m\u001b[0;34m(\u001b[0m\u001b[0mstartup_response_string\u001b[0m\u001b[0;34m)\u001b[0m\u001b[0;34m\u001b[0m\u001b[0;34m\u001b[0m\u001b[0m\n",
      "\u001b[0;31mValueError\u001b[0m: Failed to start Kaleido subprocess. Error stream:\n\n[1230/172140.251435:WARNING:resource_bundle.cc(435)] locale_file_path.empty() for locale \n[1230/172140.270396:WARNING:resource_bundle.cc(435)] locale_file_path.empty() for locale \n[1230/172140.271267:WARNING:resource_bundle.cc(435)] locale_file_path.empty() for locale \n[1230/172140.307137:ERROR:platform_shared_memory_region_posix.cc(249)] Creating shared memory in /tmp/.org.chromium.Chromium.X0cJim failed: No such file or directory (2)\n[1230/172140.307244:FATAL:memory.cc(38)] Out of memory. size=131072\n#0 0x5593904b4f89 base::debug::CollectStackTrace()\n#1 0x5593904238e3 base::debug::StackTrace::StackTrace()\n#2 0x559390434005 logging::LogMessage::~LogMessage()\n#3 0x55939044e199 base::internal::OnNoMemoryInternal()\n#4 0x55939043b363 base::FieldTrialList::InstantiateFieldTrialAllocatorIfNeeded()\n#5 0x55939043b4e9 base::FieldTrialList::CopyFieldTrialStateToFlags()\n#6 0x55938f14f43c content::GpuProcessHost::LaunchGpuProcess()\n#7 0x55938f14de7d content::GpuProcessHost::Init()\n#8 0x55938f14dc32 content::GpuProcessHost::Get()\n#9 0x55938f4aae59 base::internal::Invoker<>::RunOnce()\n#10 0x55939046402b base::TaskAnnotator::RunTask()\n#11 0x559390474b3e base::sequence_manager::internal::ThreadControllerWithMessagePumpImpl::DoWorkImpl()\n#12 0x5593904748d0 base::sequence_manager::internal::ThreadControllerWithMessagePumpImpl::DoWork()\n#13 0x5593904cfdc9 base::MessagePumpLibevent::Run()\n#14 0x5593904750c5 base::sequence_manager::internal::ThreadControllerWithMessagePumpImpl::Run()\n#15 0x5593904510ee base::RunLoop::Run()\n#16 0x55938efbd8a4 content::BrowserProcessSubThread::IOThreadRun()\n#17 0x55939048a997 base::Thread::ThreadMain()\n#18 0x5593904c48fe base::(anonymous namespace)::ThreadFunc()\n#19 0x7f24d54366db start_thread\n#20 0x7f24d3fc5a3f clone\nTask trace:\n#0 0x55938f4a9aac content::VizProcessTransportFactory::ConnectHostFrameSinkManager()\n\nReceived signal 6\n#0 0x5593904b4f89 base::debug::CollectStackTrace()\n#1 0x5593904238e3 base::debug::StackTrace::StackTrace()\n#2 0x5593904b4b25 base::debug::(anonymous namespace)::StackDumpSignalHandler()\n#3 0x7f24d54418a0 (/lib/x86_64-linux-gnu/libpthread-2.27.so+0x1289f)\n#4 0x7f24d3ee2f47 gsignal\n#5 0x7f24d3ee48b1 abort\n#6 0x5593904b3a85 base::debug::BreakDebugger()\n#7 0x5593904344a2 logging::LogMessage::~LogMessage()\n#8 0x55939044e199 base::internal::OnNoMemoryInternal()\n#9 0x55939043b363 base::FieldTrialList::InstantiateFieldTrialAllocatorIfNeeded()\n#10 0x55939043b4e9 base::FieldTrialList::CopyFieldTrialStateToFlags()\n#11 0x55938f14f43c content::GpuProcessHost::LaunchGpuProcess()\n#12 0x55938f14de7d content::GpuProcessHost::Init()\n#13 0x55938f14dc32 content::GpuProcessHost::Get()\n#14 0x55938f4aae59 base::internal::Invoker<>::RunOnce()\n#15 0x55939046402b base::TaskAnnotator::RunTask()\n#16 0x559390474b3e base::sequence_manager::internal::ThreadControllerWithMessagePumpImpl::DoWorkImpl()\n#17 0x5593904748d0 base::sequence_manager::internal::ThreadControllerWithMessagePumpImpl::DoWork()\n#18 0x5593904cfdc9 base::MessagePumpLibevent::Run()\n#19 0x5593904750c5 base::sequence_manager::internal::ThreadControllerWithMessagePumpImpl::Run()\n#20 0x5593904510ee base::RunLoop::Run()\n#21 0x55938efbd8a4 content::BrowserProcessSubThread::IOThreadRun()\n#22 0x55939048a997 base::Thread::ThreadMain()\n#23 0x5593904c48fe base::(anonymous namespace)::ThreadFunc()\n#24 0x7f24d54366db start_thread\n#25 0x7f24d3fc5a3f clone\n  r8: 0000000000000000  r9: 00007f24d1fb70d0 r10: 0000000000000008 r11: 0000000000000246\n r12: 00007f24d1fb8398 r13: 00007f24d1fb7370 r14: 00007f24d1fb83a0 r15: aaaaaaaaaaaaaaaa\n  di: 0000000000000002  si: 00007f24d1fb70d0  bp: 00007f24d1fb7320  bx: 00007f24d1fb7394\n  dx: 0000000000000000  ax: 0000000000000000  cx: 00007f24d3ee2f47  sp: 00007f24d1fb70d0\n  ip: 00007f24d3ee2f47 efl: 0000000000000246 cgf: 002b000000000033 erf: 0000000000000000\n trp: 0000000000000000 msk: 0000000000000000 cr2: 0000000000000000\n[end of stack trace]\nCalling _exit(1). Core file will not be generated.\n"
     ]
    }
   ],
   "source": [
    "fig.write_image(\"../figures/authors_network_cos-sim-tfidf.png\")"
   ]
  },
  {
   "cell_type": "code",
   "execution_count": 747,
   "metadata": {},
   "outputs": [
    {
     "data": {
      "application/vnd.plotly.v1+json": {
       "config": {
        "plotlyServerURL": "https://plot.ly"
       },
       "data": [
        {
         "line": {
          "color": "#000000",
          "width": 1
         },
         "mode": "lines",
         "type": "scatter",
         "x": [
          0.22341908357787363,
          0.6815673247561156,
          null
         ],
         "y": [
          -0.2595917385047878,
          -0.7919212915257976,
          null
         ]
        },
        {
         "line": {
          "color": "#404040",
          "width": 0.7
         },
         "mode": "lines",
         "type": "scatter",
         "x": [
          -0.922965656398919,
          -0.2765623202771541,
          null,
          -0.2765623202771541,
          0.13712464012797018,
          null
         ],
         "y": [
          0.5863567086534901,
          0.3213314690067095,
          null,
          0.3213314690067095,
          0.9166669105459998,
          null
         ]
        },
        {
         "line": {
          "color": "#C0C0C0",
          "width": 0.5
         },
         "mode": "lines",
         "type": "scatter",
         "x": [
          0.22341908357787363,
          0.9414174566849803,
          null,
          0.22341908357787363,
          0.7562431044377836,
          null,
          0.22341908357787363,
          -0.3139042243547144,
          null,
          0.22341908357787363,
          -0.2765623202771541,
          null,
          0.22341908357787363,
          0.14285176200547306,
          null,
          -0.4423294902566046,
          -0.2765623202771541,
          null,
          -0.2765623202771541,
          -0.9268616803028041,
          null
         ],
         "y": [
          -0.2595917385047878,
          -0.28627299765238823,
          null,
          -0.2595917385047878,
          0.2035401976015305,
          null,
          -0.2595917385047878,
          -0.7174985641353907,
          null,
          -0.2595917385047878,
          0.3213314690067095,
          null,
          -0.2595917385047878,
          -0.9735486890689288,
          null,
          1,
          0.3213314690067095,
          null,
          0.3213314690067095,
          0.0009379950795633956,
          null
         ]
        },
        {
         "hoverinfo": "text",
         "hovertext": [
          "6",
          "1",
          "1",
          "1",
          "1",
          "1",
          "5",
          "1",
          "1",
          "1",
          "1"
         ],
         "marker": {
          "color": [
           90,
           15,
           15,
           8,
           24,
           21,
           26,
           11,
           8,
           10,
           5
          ],
          "colorbar": {
           "thickness": 15,
           "title": {
            "side": "right",
            "text": "degree"
           },
           "xanchor": "left"
          },
          "colorscale": [
           [
            0,
            "rgb(255,255,255)"
           ],
           [
            0.125,
            "rgb(240,240,240)"
           ],
           [
            0.25,
            "rgb(217,217,217)"
           ],
           [
            0.375,
            "rgb(189,189,189)"
           ],
           [
            0.5,
            "rgb(150,150,150)"
           ],
           [
            0.625,
            "rgb(115,115,115)"
           ],
           [
            0.75,
            "rgb(82,82,82)"
           ],
           [
            0.875,
            "rgb(37,37,37)"
           ],
           [
            1,
            "rgb(0,0,0)"
           ]
          ],
          "line": {
           "width": 1
          },
          "showscale": false,
          "size": 7
         },
         "mode": "markers+text",
         "text": [
          "Paul of Tarsus",
          "Clemens Romanus",
          "Hermas",
          "GNT rest",
          "Justinus Martyr",
          "Clement of Alexandria",
          "Origenes",
          "Athenagoras",
          "Eusebius",
          "Epiphanius",
          "Basil"
         ],
         "textposition": "bottom center",
         "type": "scatter",
         "x": [
          0.22341908357787363,
          0.9414174566849803,
          -0.4423294902566046,
          0.7562431044377836,
          -0.922965656398919,
          -0.3139042243547144,
          -0.2765623202771541,
          -0.9268616803028041,
          0.14285176200547306,
          0.6815673247561156,
          0.13712464012797018
         ],
         "y": [
          -0.2595917385047878,
          -0.28627299765238823,
          1,
          0.2035401976015305,
          0.5863567086534901,
          -0.7174985641353907,
          0.3213314690067095,
          0.0009379950795633956,
          -0.9735486890689288,
          -0.7919212915257976,
          0.9166669105459998
         ]
        },
        {
         "hoverinfo": "text",
         "marker": {
          "opacity": 0
         },
         "mode": "markers",
         "opacity": 0,
         "text": [
          "0",
          "0",
          "0",
          "0",
          "0",
          "0",
          "0",
          "0",
          "0",
          "0"
         ],
         "type": "scatter",
         "x": [
          0.582418270131427,
          0.48983109400782865,
          -0.045242570388420375,
          -0.02657161834964024,
          0.18313542279167333,
          0.4524932041669946,
          -0.35944590526687936,
          -0.5997639883380366,
          -0.6017120002899792,
          -0.06971884007459196
         ],
         "y": [
          -0.272932368078588,
          -0.028025770451628643,
          -0.48854515132008924,
          0.03086986525096086,
          -0.6165702137868583,
          -0.5257565150152927,
          0.6606657345033548,
          0.4538440888300998,
          0.16113473204313644,
          0.6189991897763547
         ]
        }
       ],
       "layout": {
        "autosize": false,
        "height": 500,
        "hovermode": "closest",
        "margin": {
         "b": 10,
         "l": 10,
         "r": 10,
         "t": 10
        },
        "plot_bgcolor": "rgba(0,0,0,0)",
        "showlegend": false,
        "template": {
         "data": {
          "bar": [
           {
            "error_x": {
             "color": "#2a3f5f"
            },
            "error_y": {
             "color": "#2a3f5f"
            },
            "marker": {
             "line": {
              "color": "#E5ECF6",
              "width": 0.5
             }
            },
            "type": "bar"
           }
          ],
          "barpolar": [
           {
            "marker": {
             "line": {
              "color": "#E5ECF6",
              "width": 0.5
             }
            },
            "type": "barpolar"
           }
          ],
          "carpet": [
           {
            "aaxis": {
             "endlinecolor": "#2a3f5f",
             "gridcolor": "white",
             "linecolor": "white",
             "minorgridcolor": "white",
             "startlinecolor": "#2a3f5f"
            },
            "baxis": {
             "endlinecolor": "#2a3f5f",
             "gridcolor": "white",
             "linecolor": "white",
             "minorgridcolor": "white",
             "startlinecolor": "#2a3f5f"
            },
            "type": "carpet"
           }
          ],
          "choropleth": [
           {
            "colorbar": {
             "outlinewidth": 0,
             "ticks": ""
            },
            "type": "choropleth"
           }
          ],
          "contour": [
           {
            "colorbar": {
             "outlinewidth": 0,
             "ticks": ""
            },
            "colorscale": [
             [
              0,
              "#0d0887"
             ],
             [
              0.1111111111111111,
              "#46039f"
             ],
             [
              0.2222222222222222,
              "#7201a8"
             ],
             [
              0.3333333333333333,
              "#9c179e"
             ],
             [
              0.4444444444444444,
              "#bd3786"
             ],
             [
              0.5555555555555556,
              "#d8576b"
             ],
             [
              0.6666666666666666,
              "#ed7953"
             ],
             [
              0.7777777777777778,
              "#fb9f3a"
             ],
             [
              0.8888888888888888,
              "#fdca26"
             ],
             [
              1,
              "#f0f921"
             ]
            ],
            "type": "contour"
           }
          ],
          "contourcarpet": [
           {
            "colorbar": {
             "outlinewidth": 0,
             "ticks": ""
            },
            "type": "contourcarpet"
           }
          ],
          "heatmap": [
           {
            "colorbar": {
             "outlinewidth": 0,
             "ticks": ""
            },
            "colorscale": [
             [
              0,
              "#0d0887"
             ],
             [
              0.1111111111111111,
              "#46039f"
             ],
             [
              0.2222222222222222,
              "#7201a8"
             ],
             [
              0.3333333333333333,
              "#9c179e"
             ],
             [
              0.4444444444444444,
              "#bd3786"
             ],
             [
              0.5555555555555556,
              "#d8576b"
             ],
             [
              0.6666666666666666,
              "#ed7953"
             ],
             [
              0.7777777777777778,
              "#fb9f3a"
             ],
             [
              0.8888888888888888,
              "#fdca26"
             ],
             [
              1,
              "#f0f921"
             ]
            ],
            "type": "heatmap"
           }
          ],
          "heatmapgl": [
           {
            "colorbar": {
             "outlinewidth": 0,
             "ticks": ""
            },
            "colorscale": [
             [
              0,
              "#0d0887"
             ],
             [
              0.1111111111111111,
              "#46039f"
             ],
             [
              0.2222222222222222,
              "#7201a8"
             ],
             [
              0.3333333333333333,
              "#9c179e"
             ],
             [
              0.4444444444444444,
              "#bd3786"
             ],
             [
              0.5555555555555556,
              "#d8576b"
             ],
             [
              0.6666666666666666,
              "#ed7953"
             ],
             [
              0.7777777777777778,
              "#fb9f3a"
             ],
             [
              0.8888888888888888,
              "#fdca26"
             ],
             [
              1,
              "#f0f921"
             ]
            ],
            "type": "heatmapgl"
           }
          ],
          "histogram": [
           {
            "marker": {
             "colorbar": {
              "outlinewidth": 0,
              "ticks": ""
             }
            },
            "type": "histogram"
           }
          ],
          "histogram2d": [
           {
            "colorbar": {
             "outlinewidth": 0,
             "ticks": ""
            },
            "colorscale": [
             [
              0,
              "#0d0887"
             ],
             [
              0.1111111111111111,
              "#46039f"
             ],
             [
              0.2222222222222222,
              "#7201a8"
             ],
             [
              0.3333333333333333,
              "#9c179e"
             ],
             [
              0.4444444444444444,
              "#bd3786"
             ],
             [
              0.5555555555555556,
              "#d8576b"
             ],
             [
              0.6666666666666666,
              "#ed7953"
             ],
             [
              0.7777777777777778,
              "#fb9f3a"
             ],
             [
              0.8888888888888888,
              "#fdca26"
             ],
             [
              1,
              "#f0f921"
             ]
            ],
            "type": "histogram2d"
           }
          ],
          "histogram2dcontour": [
           {
            "colorbar": {
             "outlinewidth": 0,
             "ticks": ""
            },
            "colorscale": [
             [
              0,
              "#0d0887"
             ],
             [
              0.1111111111111111,
              "#46039f"
             ],
             [
              0.2222222222222222,
              "#7201a8"
             ],
             [
              0.3333333333333333,
              "#9c179e"
             ],
             [
              0.4444444444444444,
              "#bd3786"
             ],
             [
              0.5555555555555556,
              "#d8576b"
             ],
             [
              0.6666666666666666,
              "#ed7953"
             ],
             [
              0.7777777777777778,
              "#fb9f3a"
             ],
             [
              0.8888888888888888,
              "#fdca26"
             ],
             [
              1,
              "#f0f921"
             ]
            ],
            "type": "histogram2dcontour"
           }
          ],
          "mesh3d": [
           {
            "colorbar": {
             "outlinewidth": 0,
             "ticks": ""
            },
            "type": "mesh3d"
           }
          ],
          "parcoords": [
           {
            "line": {
             "colorbar": {
              "outlinewidth": 0,
              "ticks": ""
             }
            },
            "type": "parcoords"
           }
          ],
          "pie": [
           {
            "automargin": true,
            "type": "pie"
           }
          ],
          "scatter": [
           {
            "marker": {
             "colorbar": {
              "outlinewidth": 0,
              "ticks": ""
             }
            },
            "type": "scatter"
           }
          ],
          "scatter3d": [
           {
            "line": {
             "colorbar": {
              "outlinewidth": 0,
              "ticks": ""
             }
            },
            "marker": {
             "colorbar": {
              "outlinewidth": 0,
              "ticks": ""
             }
            },
            "type": "scatter3d"
           }
          ],
          "scattercarpet": [
           {
            "marker": {
             "colorbar": {
              "outlinewidth": 0,
              "ticks": ""
             }
            },
            "type": "scattercarpet"
           }
          ],
          "scattergeo": [
           {
            "marker": {
             "colorbar": {
              "outlinewidth": 0,
              "ticks": ""
             }
            },
            "type": "scattergeo"
           }
          ],
          "scattergl": [
           {
            "marker": {
             "colorbar": {
              "outlinewidth": 0,
              "ticks": ""
             }
            },
            "type": "scattergl"
           }
          ],
          "scattermapbox": [
           {
            "marker": {
             "colorbar": {
              "outlinewidth": 0,
              "ticks": ""
             }
            },
            "type": "scattermapbox"
           }
          ],
          "scatterpolar": [
           {
            "marker": {
             "colorbar": {
              "outlinewidth": 0,
              "ticks": ""
             }
            },
            "type": "scatterpolar"
           }
          ],
          "scatterpolargl": [
           {
            "marker": {
             "colorbar": {
              "outlinewidth": 0,
              "ticks": ""
             }
            },
            "type": "scatterpolargl"
           }
          ],
          "scatterternary": [
           {
            "marker": {
             "colorbar": {
              "outlinewidth": 0,
              "ticks": ""
             }
            },
            "type": "scatterternary"
           }
          ],
          "surface": [
           {
            "colorbar": {
             "outlinewidth": 0,
             "ticks": ""
            },
            "colorscale": [
             [
              0,
              "#0d0887"
             ],
             [
              0.1111111111111111,
              "#46039f"
             ],
             [
              0.2222222222222222,
              "#7201a8"
             ],
             [
              0.3333333333333333,
              "#9c179e"
             ],
             [
              0.4444444444444444,
              "#bd3786"
             ],
             [
              0.5555555555555556,
              "#d8576b"
             ],
             [
              0.6666666666666666,
              "#ed7953"
             ],
             [
              0.7777777777777778,
              "#fb9f3a"
             ],
             [
              0.8888888888888888,
              "#fdca26"
             ],
             [
              1,
              "#f0f921"
             ]
            ],
            "type": "surface"
           }
          ],
          "table": [
           {
            "cells": {
             "fill": {
              "color": "#EBF0F8"
             },
             "line": {
              "color": "white"
             }
            },
            "header": {
             "fill": {
              "color": "#C8D4E3"
             },
             "line": {
              "color": "white"
             }
            },
            "type": "table"
           }
          ]
         },
         "layout": {
          "annotationdefaults": {
           "arrowcolor": "#2a3f5f",
           "arrowhead": 0,
           "arrowwidth": 1
          },
          "coloraxis": {
           "colorbar": {
            "outlinewidth": 0,
            "ticks": ""
           }
          },
          "colorscale": {
           "diverging": [
            [
             0,
             "#8e0152"
            ],
            [
             0.1,
             "#c51b7d"
            ],
            [
             0.2,
             "#de77ae"
            ],
            [
             0.3,
             "#f1b6da"
            ],
            [
             0.4,
             "#fde0ef"
            ],
            [
             0.5,
             "#f7f7f7"
            ],
            [
             0.6,
             "#e6f5d0"
            ],
            [
             0.7,
             "#b8e186"
            ],
            [
             0.8,
             "#7fbc41"
            ],
            [
             0.9,
             "#4d9221"
            ],
            [
             1,
             "#276419"
            ]
           ],
           "sequential": [
            [
             0,
             "#0d0887"
            ],
            [
             0.1111111111111111,
             "#46039f"
            ],
            [
             0.2222222222222222,
             "#7201a8"
            ],
            [
             0.3333333333333333,
             "#9c179e"
            ],
            [
             0.4444444444444444,
             "#bd3786"
            ],
            [
             0.5555555555555556,
             "#d8576b"
            ],
            [
             0.6666666666666666,
             "#ed7953"
            ],
            [
             0.7777777777777778,
             "#fb9f3a"
            ],
            [
             0.8888888888888888,
             "#fdca26"
            ],
            [
             1,
             "#f0f921"
            ]
           ],
           "sequentialminus": [
            [
             0,
             "#0d0887"
            ],
            [
             0.1111111111111111,
             "#46039f"
            ],
            [
             0.2222222222222222,
             "#7201a8"
            ],
            [
             0.3333333333333333,
             "#9c179e"
            ],
            [
             0.4444444444444444,
             "#bd3786"
            ],
            [
             0.5555555555555556,
             "#d8576b"
            ],
            [
             0.6666666666666666,
             "#ed7953"
            ],
            [
             0.7777777777777778,
             "#fb9f3a"
            ],
            [
             0.8888888888888888,
             "#fdca26"
            ],
            [
             1,
             "#f0f921"
            ]
           ]
          },
          "colorway": [
           "#636efa",
           "#EF553B",
           "#00cc96",
           "#ab63fa",
           "#FFA15A",
           "#19d3f3",
           "#FF6692",
           "#B6E880",
           "#FF97FF",
           "#FECB52"
          ],
          "font": {
           "color": "#2a3f5f"
          },
          "geo": {
           "bgcolor": "white",
           "lakecolor": "white",
           "landcolor": "#E5ECF6",
           "showlakes": true,
           "showland": true,
           "subunitcolor": "white"
          },
          "hoverlabel": {
           "align": "left"
          },
          "hovermode": "closest",
          "mapbox": {
           "style": "light"
          },
          "paper_bgcolor": "white",
          "plot_bgcolor": "#E5ECF6",
          "polar": {
           "angularaxis": {
            "gridcolor": "white",
            "linecolor": "white",
            "ticks": ""
           },
           "bgcolor": "#E5ECF6",
           "radialaxis": {
            "gridcolor": "white",
            "linecolor": "white",
            "ticks": ""
           }
          },
          "scene": {
           "xaxis": {
            "backgroundcolor": "#E5ECF6",
            "gridcolor": "white",
            "gridwidth": 2,
            "linecolor": "white",
            "showbackground": true,
            "ticks": "",
            "zerolinecolor": "white"
           },
           "yaxis": {
            "backgroundcolor": "#E5ECF6",
            "gridcolor": "white",
            "gridwidth": 2,
            "linecolor": "white",
            "showbackground": true,
            "ticks": "",
            "zerolinecolor": "white"
           },
           "zaxis": {
            "backgroundcolor": "#E5ECF6",
            "gridcolor": "white",
            "gridwidth": 2,
            "linecolor": "white",
            "showbackground": true,
            "ticks": "",
            "zerolinecolor": "white"
           }
          },
          "shapedefaults": {
           "line": {
            "color": "#2a3f5f"
           }
          },
          "ternary": {
           "aaxis": {
            "gridcolor": "white",
            "linecolor": "white",
            "ticks": ""
           },
           "baxis": {
            "gridcolor": "white",
            "linecolor": "white",
            "ticks": ""
           },
           "bgcolor": "#E5ECF6",
           "caxis": {
            "gridcolor": "white",
            "linecolor": "white",
            "ticks": ""
           }
          },
          "title": {
           "x": 0.05
          },
          "xaxis": {
           "automargin": true,
           "gridcolor": "white",
           "linecolor": "white",
           "ticks": "",
           "title": {
            "standoff": 15
           },
           "zerolinecolor": "white",
           "zerolinewidth": 2
          },
          "yaxis": {
           "automargin": true,
           "gridcolor": "white",
           "linecolor": "white",
           "ticks": "",
           "title": {
            "standoff": 15
           },
           "zerolinecolor": "white",
           "zerolinewidth": 2
          }
         }
        },
        "title": {
         "font": {
          "size": 16
         }
        },
        "width": 500,
        "xaxis": {
         "showgrid": false,
         "showticklabels": false,
         "zeroline": false
        },
        "yaxis": {
         "showgrid": false,
         "showticklabels": false,
         "zeroline": false
        }
       }
      },
      "text/html": [
       "<div>                            <div id=\"65007a52-e974-4518-8e1b-6881d2f55e35\" class=\"plotly-graph-div\" style=\"height:500px; width:500px;\"></div>            <script type=\"text/javascript\">                require([\"plotly\"], function(Plotly) {                    window.PLOTLYENV=window.PLOTLYENV || {};                                    if (document.getElementById(\"65007a52-e974-4518-8e1b-6881d2f55e35\")) {                    Plotly.newPlot(                        \"65007a52-e974-4518-8e1b-6881d2f55e35\",                        [{\"line\": {\"color\": \"#000000\", \"width\": 1}, \"mode\": \"lines\", \"type\": \"scatter\", \"x\": [0.22341908357787363, 0.6815673247561156, null], \"y\": [-0.2595917385047878, -0.7919212915257976, null]}, {\"line\": {\"color\": \"#404040\", \"width\": 0.7}, \"mode\": \"lines\", \"type\": \"scatter\", \"x\": [-0.922965656398919, -0.2765623202771541, null, -0.2765623202771541, 0.13712464012797018, null], \"y\": [0.5863567086534901, 0.3213314690067095, null, 0.3213314690067095, 0.9166669105459998, null]}, {\"line\": {\"color\": \"#C0C0C0\", \"width\": 0.5}, \"mode\": \"lines\", \"type\": \"scatter\", \"x\": [0.22341908357787363, 0.9414174566849803, null, 0.22341908357787363, 0.7562431044377836, null, 0.22341908357787363, -0.3139042243547144, null, 0.22341908357787363, -0.2765623202771541, null, 0.22341908357787363, 0.14285176200547306, null, -0.4423294902566046, -0.2765623202771541, null, -0.2765623202771541, -0.9268616803028041, null], \"y\": [-0.2595917385047878, -0.28627299765238823, null, -0.2595917385047878, 0.2035401976015305, null, -0.2595917385047878, -0.7174985641353907, null, -0.2595917385047878, 0.3213314690067095, null, -0.2595917385047878, -0.9735486890689288, null, 1.0, 0.3213314690067095, null, 0.3213314690067095, 0.0009379950795633956, null]}, {\"hoverinfo\": \"text\", \"hovertext\": [\"6\", \"1\", \"1\", \"1\", \"1\", \"1\", \"5\", \"1\", \"1\", \"1\", \"1\"], \"marker\": {\"color\": [90, 15, 15, 8, 24, 21, 26, 11, 8, 10, 5], \"colorbar\": {\"thickness\": 15, \"title\": {\"side\": \"right\", \"text\": \"degree\"}, \"xanchor\": \"left\"}, \"colorscale\": [[0.0, \"rgb(255,255,255)\"], [0.125, \"rgb(240,240,240)\"], [0.25, \"rgb(217,217,217)\"], [0.375, \"rgb(189,189,189)\"], [0.5, \"rgb(150,150,150)\"], [0.625, \"rgb(115,115,115)\"], [0.75, \"rgb(82,82,82)\"], [0.875, \"rgb(37,37,37)\"], [1.0, \"rgb(0,0,0)\"]], \"line\": {\"width\": 1}, \"showscale\": false, \"size\": 7}, \"mode\": \"markers+text\", \"text\": [\"Paul of Tarsus\", \"Clemens Romanus\", \"Hermas\", \"GNT rest\", \"Justinus Martyr\", \"Clement of Alexandria\", \"Origenes\", \"Athenagoras\", \"Eusebius\", \"Epiphanius\", \"Basil\"], \"textposition\": \"bottom center\", \"type\": \"scatter\", \"x\": [0.22341908357787363, 0.9414174566849803, -0.4423294902566046, 0.7562431044377836, -0.922965656398919, -0.3139042243547144, -0.2765623202771541, -0.9268616803028041, 0.14285176200547306, 0.6815673247561156, 0.13712464012797018], \"y\": [-0.2595917385047878, -0.28627299765238823, 1.0, 0.2035401976015305, 0.5863567086534901, -0.7174985641353907, 0.3213314690067095, 0.0009379950795633956, -0.9735486890689288, -0.7919212915257976, 0.9166669105459998]}, {\"hoverinfo\": \"text\", \"marker\": {\"opacity\": 0}, \"mode\": \"markers\", \"opacity\": 0, \"text\": [\"0\", \"0\", \"0\", \"0\", \"0\", \"0\", \"0\", \"0\", \"0\", \"0\"], \"type\": \"scatter\", \"x\": [0.582418270131427, 0.48983109400782865, -0.045242570388420375, -0.02657161834964024, 0.18313542279167333, 0.4524932041669946, -0.35944590526687936, -0.5997639883380366, -0.6017120002899792, -0.06971884007459196], \"y\": [-0.272932368078588, -0.028025770451628643, -0.48854515132008924, 0.03086986525096086, -0.6165702137868583, -0.5257565150152927, 0.6606657345033548, 0.4538440888300998, 0.16113473204313644, 0.6189991897763547]}],                        {\"autosize\": false, \"height\": 500, \"hovermode\": \"closest\", \"margin\": {\"b\": 10, \"l\": 10, \"r\": 10, \"t\": 10}, \"plot_bgcolor\": \"rgba(0,0,0,0)\", \"showlegend\": false, \"template\": {\"data\": {\"bar\": [{\"error_x\": {\"color\": \"#2a3f5f\"}, \"error_y\": {\"color\": \"#2a3f5f\"}, \"marker\": {\"line\": {\"color\": \"#E5ECF6\", \"width\": 0.5}}, \"type\": \"bar\"}], \"barpolar\": [{\"marker\": {\"line\": {\"color\": \"#E5ECF6\", \"width\": 0.5}}, \"type\": \"barpolar\"}], \"carpet\": [{\"aaxis\": {\"endlinecolor\": \"#2a3f5f\", \"gridcolor\": \"white\", \"linecolor\": \"white\", \"minorgridcolor\": \"white\", \"startlinecolor\": \"#2a3f5f\"}, \"baxis\": {\"endlinecolor\": \"#2a3f5f\", \"gridcolor\": \"white\", \"linecolor\": \"white\", \"minorgridcolor\": \"white\", \"startlinecolor\": \"#2a3f5f\"}, \"type\": \"carpet\"}], \"choropleth\": [{\"colorbar\": {\"outlinewidth\": 0, \"ticks\": \"\"}, \"type\": \"choropleth\"}], \"contour\": [{\"colorbar\": {\"outlinewidth\": 0, \"ticks\": \"\"}, \"colorscale\": [[0.0, \"#0d0887\"], [0.1111111111111111, \"#46039f\"], [0.2222222222222222, \"#7201a8\"], [0.3333333333333333, \"#9c179e\"], [0.4444444444444444, \"#bd3786\"], [0.5555555555555556, \"#d8576b\"], [0.6666666666666666, \"#ed7953\"], [0.7777777777777778, \"#fb9f3a\"], [0.8888888888888888, \"#fdca26\"], [1.0, \"#f0f921\"]], \"type\": \"contour\"}], \"contourcarpet\": [{\"colorbar\": {\"outlinewidth\": 0, \"ticks\": \"\"}, \"type\": \"contourcarpet\"}], \"heatmap\": [{\"colorbar\": {\"outlinewidth\": 0, \"ticks\": \"\"}, \"colorscale\": [[0.0, \"#0d0887\"], [0.1111111111111111, \"#46039f\"], [0.2222222222222222, \"#7201a8\"], [0.3333333333333333, \"#9c179e\"], [0.4444444444444444, \"#bd3786\"], [0.5555555555555556, \"#d8576b\"], [0.6666666666666666, \"#ed7953\"], [0.7777777777777778, \"#fb9f3a\"], [0.8888888888888888, \"#fdca26\"], [1.0, \"#f0f921\"]], \"type\": \"heatmap\"}], \"heatmapgl\": [{\"colorbar\": {\"outlinewidth\": 0, \"ticks\": \"\"}, \"colorscale\": [[0.0, \"#0d0887\"], [0.1111111111111111, \"#46039f\"], [0.2222222222222222, \"#7201a8\"], [0.3333333333333333, \"#9c179e\"], [0.4444444444444444, \"#bd3786\"], [0.5555555555555556, \"#d8576b\"], [0.6666666666666666, \"#ed7953\"], [0.7777777777777778, \"#fb9f3a\"], [0.8888888888888888, \"#fdca26\"], [1.0, \"#f0f921\"]], \"type\": \"heatmapgl\"}], \"histogram\": [{\"marker\": {\"colorbar\": {\"outlinewidth\": 0, \"ticks\": \"\"}}, \"type\": \"histogram\"}], \"histogram2d\": [{\"colorbar\": {\"outlinewidth\": 0, \"ticks\": \"\"}, \"colorscale\": [[0.0, \"#0d0887\"], [0.1111111111111111, \"#46039f\"], [0.2222222222222222, \"#7201a8\"], [0.3333333333333333, \"#9c179e\"], [0.4444444444444444, \"#bd3786\"], [0.5555555555555556, \"#d8576b\"], [0.6666666666666666, \"#ed7953\"], [0.7777777777777778, \"#fb9f3a\"], [0.8888888888888888, \"#fdca26\"], [1.0, \"#f0f921\"]], \"type\": \"histogram2d\"}], \"histogram2dcontour\": [{\"colorbar\": {\"outlinewidth\": 0, \"ticks\": \"\"}, \"colorscale\": [[0.0, \"#0d0887\"], [0.1111111111111111, \"#46039f\"], [0.2222222222222222, \"#7201a8\"], [0.3333333333333333, \"#9c179e\"], [0.4444444444444444, \"#bd3786\"], [0.5555555555555556, \"#d8576b\"], [0.6666666666666666, \"#ed7953\"], [0.7777777777777778, \"#fb9f3a\"], [0.8888888888888888, \"#fdca26\"], [1.0, \"#f0f921\"]], \"type\": \"histogram2dcontour\"}], \"mesh3d\": [{\"colorbar\": {\"outlinewidth\": 0, \"ticks\": \"\"}, \"type\": \"mesh3d\"}], \"parcoords\": [{\"line\": {\"colorbar\": {\"outlinewidth\": 0, \"ticks\": \"\"}}, \"type\": \"parcoords\"}], \"pie\": [{\"automargin\": true, \"type\": \"pie\"}], \"scatter\": [{\"marker\": {\"colorbar\": {\"outlinewidth\": 0, \"ticks\": \"\"}}, \"type\": \"scatter\"}], \"scatter3d\": [{\"line\": {\"colorbar\": {\"outlinewidth\": 0, \"ticks\": \"\"}}, \"marker\": {\"colorbar\": {\"outlinewidth\": 0, \"ticks\": \"\"}}, \"type\": \"scatter3d\"}], \"scattercarpet\": [{\"marker\": {\"colorbar\": {\"outlinewidth\": 0, \"ticks\": \"\"}}, \"type\": \"scattercarpet\"}], \"scattergeo\": [{\"marker\": {\"colorbar\": {\"outlinewidth\": 0, \"ticks\": \"\"}}, \"type\": \"scattergeo\"}], \"scattergl\": [{\"marker\": {\"colorbar\": {\"outlinewidth\": 0, \"ticks\": \"\"}}, \"type\": \"scattergl\"}], \"scattermapbox\": [{\"marker\": {\"colorbar\": {\"outlinewidth\": 0, \"ticks\": \"\"}}, \"type\": \"scattermapbox\"}], \"scatterpolar\": [{\"marker\": {\"colorbar\": {\"outlinewidth\": 0, \"ticks\": \"\"}}, \"type\": \"scatterpolar\"}], \"scatterpolargl\": [{\"marker\": {\"colorbar\": {\"outlinewidth\": 0, \"ticks\": \"\"}}, \"type\": \"scatterpolargl\"}], \"scatterternary\": [{\"marker\": {\"colorbar\": {\"outlinewidth\": 0, \"ticks\": \"\"}}, \"type\": \"scatterternary\"}], \"surface\": [{\"colorbar\": {\"outlinewidth\": 0, \"ticks\": \"\"}, \"colorscale\": [[0.0, \"#0d0887\"], [0.1111111111111111, \"#46039f\"], [0.2222222222222222, \"#7201a8\"], [0.3333333333333333, \"#9c179e\"], [0.4444444444444444, \"#bd3786\"], [0.5555555555555556, \"#d8576b\"], [0.6666666666666666, \"#ed7953\"], [0.7777777777777778, \"#fb9f3a\"], [0.8888888888888888, \"#fdca26\"], [1.0, \"#f0f921\"]], \"type\": \"surface\"}], \"table\": [{\"cells\": {\"fill\": {\"color\": \"#EBF0F8\"}, \"line\": {\"color\": \"white\"}}, \"header\": {\"fill\": {\"color\": \"#C8D4E3\"}, \"line\": {\"color\": \"white\"}}, \"type\": \"table\"}]}, \"layout\": {\"annotationdefaults\": {\"arrowcolor\": \"#2a3f5f\", \"arrowhead\": 0, \"arrowwidth\": 1}, \"coloraxis\": {\"colorbar\": {\"outlinewidth\": 0, \"ticks\": \"\"}}, \"colorscale\": {\"diverging\": [[0, \"#8e0152\"], [0.1, \"#c51b7d\"], [0.2, \"#de77ae\"], [0.3, \"#f1b6da\"], [0.4, \"#fde0ef\"], [0.5, \"#f7f7f7\"], [0.6, \"#e6f5d0\"], [0.7, \"#b8e186\"], [0.8, \"#7fbc41\"], [0.9, \"#4d9221\"], [1, \"#276419\"]], \"sequential\": [[0.0, \"#0d0887\"], [0.1111111111111111, \"#46039f\"], [0.2222222222222222, \"#7201a8\"], [0.3333333333333333, \"#9c179e\"], [0.4444444444444444, \"#bd3786\"], [0.5555555555555556, \"#d8576b\"], [0.6666666666666666, \"#ed7953\"], [0.7777777777777778, \"#fb9f3a\"], [0.8888888888888888, \"#fdca26\"], [1.0, \"#f0f921\"]], \"sequentialminus\": [[0.0, \"#0d0887\"], [0.1111111111111111, \"#46039f\"], [0.2222222222222222, \"#7201a8\"], [0.3333333333333333, \"#9c179e\"], [0.4444444444444444, \"#bd3786\"], [0.5555555555555556, \"#d8576b\"], [0.6666666666666666, \"#ed7953\"], [0.7777777777777778, \"#fb9f3a\"], [0.8888888888888888, \"#fdca26\"], [1.0, \"#f0f921\"]]}, \"colorway\": [\"#636efa\", \"#EF553B\", \"#00cc96\", \"#ab63fa\", \"#FFA15A\", \"#19d3f3\", \"#FF6692\", \"#B6E880\", \"#FF97FF\", \"#FECB52\"], \"font\": {\"color\": \"#2a3f5f\"}, \"geo\": {\"bgcolor\": \"white\", \"lakecolor\": \"white\", \"landcolor\": \"#E5ECF6\", \"showlakes\": true, \"showland\": true, \"subunitcolor\": \"white\"}, \"hoverlabel\": {\"align\": \"left\"}, \"hovermode\": \"closest\", \"mapbox\": {\"style\": \"light\"}, \"paper_bgcolor\": \"white\", \"plot_bgcolor\": \"#E5ECF6\", \"polar\": {\"angularaxis\": {\"gridcolor\": \"white\", \"linecolor\": \"white\", \"ticks\": \"\"}, \"bgcolor\": \"#E5ECF6\", \"radialaxis\": {\"gridcolor\": \"white\", \"linecolor\": \"white\", \"ticks\": \"\"}}, \"scene\": {\"xaxis\": {\"backgroundcolor\": \"#E5ECF6\", \"gridcolor\": \"white\", \"gridwidth\": 2, \"linecolor\": \"white\", \"showbackground\": true, \"ticks\": \"\", \"zerolinecolor\": \"white\"}, \"yaxis\": {\"backgroundcolor\": \"#E5ECF6\", \"gridcolor\": \"white\", \"gridwidth\": 2, \"linecolor\": \"white\", \"showbackground\": true, \"ticks\": \"\", \"zerolinecolor\": \"white\"}, \"zaxis\": {\"backgroundcolor\": \"#E5ECF6\", \"gridcolor\": \"white\", \"gridwidth\": 2, \"linecolor\": \"white\", \"showbackground\": true, \"ticks\": \"\", \"zerolinecolor\": \"white\"}}, \"shapedefaults\": {\"line\": {\"color\": \"#2a3f5f\"}}, \"ternary\": {\"aaxis\": {\"gridcolor\": \"white\", \"linecolor\": \"white\", \"ticks\": \"\"}, \"baxis\": {\"gridcolor\": \"white\", \"linecolor\": \"white\", \"ticks\": \"\"}, \"bgcolor\": \"#E5ECF6\", \"caxis\": {\"gridcolor\": \"white\", \"linecolor\": \"white\", \"ticks\": \"\"}}, \"title\": {\"x\": 0.05}, \"xaxis\": {\"automargin\": true, \"gridcolor\": \"white\", \"linecolor\": \"white\", \"ticks\": \"\", \"title\": {\"standoff\": 15}, \"zerolinecolor\": \"white\", \"zerolinewidth\": 2}, \"yaxis\": {\"automargin\": true, \"gridcolor\": \"white\", \"linecolor\": \"white\", \"ticks\": \"\", \"title\": {\"standoff\": 15}, \"zerolinecolor\": \"white\", \"zerolinewidth\": 2}}}, \"title\": {\"font\": {\"size\": 16}}, \"width\": 500, \"xaxis\": {\"showgrid\": false, \"showticklabels\": false, \"zeroline\": false}, \"yaxis\": {\"showgrid\": false, \"showticklabels\": false, \"zeroline\": false}},                        {\"responsive\": true}                    ).then(function(){\n",
       "                            \n",
       "var gd = document.getElementById('65007a52-e974-4518-8e1b-6881d2f55e35');\n",
       "var x = new MutationObserver(function (mutations, observer) {{\n",
       "        var display = window.getComputedStyle(gd).display;\n",
       "        if (!display || display === 'none') {{\n",
       "            console.log([gd, 'removed!']);\n",
       "            Plotly.purge(gd);\n",
       "            observer.disconnect();\n",
       "        }}\n",
       "}});\n",
       "\n",
       "// Listen for the removal of the full notebook cells\n",
       "var notebookContainer = gd.closest('#notebook-container');\n",
       "if (notebookContainer) {{\n",
       "    x.observe(notebookContainer, {childList: true});\n",
       "}}\n",
       "\n",
       "// Listen for the clearing of the current output cell\n",
       "var outputEl = gd.closest('.output');\n",
       "if (outputEl) {{\n",
       "    x.observe(outputEl, {childList: true});\n",
       "}}\n",
       "\n",
       "                        })                };                });            </script>        </div>"
      ]
     },
     "metadata": {},
     "output_type": "display_data"
    }
   ],
   "source": [
    "G_paul = textnet.construct_ego_network(G, \"Paul of Tarsus\", 10, reduced=True)\n",
    "fig = textnet.draw_2d_network(G_paul)\n",
    "fig.show()"
   ]
  },
  {
   "cell_type": "code",
   "execution_count": 749,
   "metadata": {},
   "outputs": [],
   "source": [
    "fig.write_image(\"../figures/paul_egonet_cos-sim-tfidf.png\")"
   ]
  },
  {
   "cell_type": "code",
   "execution_count": null,
   "metadata": {},
   "outputs": [],
   "source": []
  }
 ],
 "metadata": {
  "colab": {
   "name": "OVERVIEW.ipynb",
   "provenance": []
  },
  "kernelspec": {
   "display_name": "Python 3",
   "language": "python",
   "name": "python3"
  },
  "language_info": {
   "codemirror_mode": {
    "name": "ipython",
    "version": 3
   },
   "file_extension": ".py",
   "mimetype": "text/x-python",
   "name": "python",
   "nbconvert_exporter": "python",
   "pygments_lexer": "ipython3",
   "version": "3.6.9"
  }
 },
 "nbformat": 4,
 "nbformat_minor": 4
}
